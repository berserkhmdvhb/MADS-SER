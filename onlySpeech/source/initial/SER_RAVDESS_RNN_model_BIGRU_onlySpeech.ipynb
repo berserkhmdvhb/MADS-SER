{
  "metadata": {
    "kernelspec": {
      "language": "python",
      "display_name": "Python 3",
      "name": "python3"
    },
    "language_info": {
      "pygments_lexer": "ipython3",
      "nbconvert_exporter": "python",
      "version": "3.6.4",
      "file_extension": ".py",
      "codemirror_mode": {
        "name": "ipython",
        "version": 3
      },
      "name": "python",
      "mimetype": "text/x-python"
    },
    "colab": {
      "name": "SER-RAVDESS-RNN-model-BIGRU-onlySpeech.ipynb",
      "provenance": [],
      "collapsed_sections": [
        "anSyerIFN7qd",
        "nyMzoZKKKiw6"
      ]
    }
  },
  "nbformat_minor": 0,
  "nbformat": 4,
  "cells": [
    {
      "cell_type": "markdown",
      "source": [
        "# Imports"
      ],
      "metadata": {
        "id": "anSyerIFN7qd"
      }
    },
    {
      "cell_type": "code",
      "source": [
        "# Importing Libraries"
      ],
      "metadata": {
        "id": "IMFSwIuvKiw2"
      },
      "execution_count": 40,
      "outputs": []
    },
    {
      "cell_type": "code",
      "source": [
        "!pip install json-tricks"
      ],
      "metadata": {
        "colab": {
          "base_uri": "https://localhost:8080/"
        },
        "id": "bBR8aNsmM2tR",
        "outputId": "fc777429-d87d-4223-e2dc-d1d9ed8ee13b"
      },
      "execution_count": 41,
      "outputs": [
        {
          "output_type": "stream",
          "name": "stdout",
          "text": [
            "Looking in indexes: https://pypi.org/simple, https://us-python.pkg.dev/colab-wheels/public/simple/\n",
            "Requirement already satisfied: json-tricks in /usr/local/lib/python3.7/dist-packages (3.15.5)\n"
          ]
        }
      ]
    },
    {
      "cell_type": "code",
      "source": [
        "import pandas as pd\n",
        "import numpy as np\n",
        "\n",
        "import os\n",
        "import sys\n",
        "\n",
        "import librosa\n",
        "import librosa.display\n",
        "#from pydub import AudioSegment, effects\n",
        "#import noisereduce as nr\n",
        "\n",
        "\n",
        "import seaborn as sns\n",
        "import matplotlib.pyplot as plt\n",
        "from IPython.display import Audio\n",
        "\n",
        "import tensorflow as tf\n",
        "import keras\n",
        "import sklearn\n",
        "\n",
        "\n",
        "from tensorflow.keras.models import Sequential, Model\n",
        "from tensorflow.keras.layers import Dense, LSTM, Flatten, Dropout, BatchNormalization\n",
        "from tensorflow.keras.callbacks import ModelCheckpoint, EarlyStopping, ReduceLROnPlateau\n",
        "from tensorflow.keras.optimizers import Adam, SGD\n",
        "from tensorflow.keras.utils import to_categorical, plot_model\n",
        "\n",
        "\n",
        "from keras.models import Sequential, model_from_json, load_model\n",
        "from keras import layers\n",
        "from keras import optimizers\n",
        "from keras import callbacks\n",
        "\n",
        "from sklearn.preprocessing import StandardScaler, OneHotEncoder, LabelEncoder\n",
        "from sklearn.metrics import confusion_matrix, classification_report, precision_recall_fscore_support, roc_auc_score\n",
        "from sklearn.model_selection import train_test_split, StratifiedShuffleSplit\n",
        "from sklearn.multiclass import OneVsRestClassifier\n",
        "\n",
        "\n",
        "from tqdm import tqdm\n",
        "\n",
        "\n",
        "from json_tricks import dump, load\n",
        "\n",
        "\n",
        "\n",
        "import warnings\n",
        "if not sys.warnoptions:\n",
        "    warnings.simplefilter(\"ignore\")\n",
        "warnings.filterwarnings(\"ignore\", category=DeprecationWarning) \n",
        "\n",
        "import time\n",
        "tic = time.perf_counter()\n",
        "\n"
      ],
      "metadata": {
        "id": "77IS8HxqFFCA"
      },
      "execution_count": 42,
      "outputs": []
    },
    {
      "cell_type": "code",
      "source": [
        ""
      ],
      "metadata": {
        "id": "gGYqBIk0FGm4"
      },
      "execution_count": 42,
      "outputs": []
    },
    {
      "cell_type": "markdown",
      "source": [
        "# Dataset"
      ],
      "metadata": {
        "id": "nyMzoZKKKiw6"
      }
    },
    {
      "cell_type": "code",
      "source": [
        "from google.colab import drive\n",
        "drive.mount('/content/drive')"
      ],
      "metadata": {
        "colab": {
          "base_uri": "https://localhost:8080/"
        },
        "id": "JFPDGXmwCBs_",
        "outputId": "d59840bf-a106-4da2-88de-12165b52680e"
      },
      "execution_count": 43,
      "outputs": [
        {
          "output_type": "stream",
          "name": "stdout",
          "text": [
            "Drive already mounted at /content/drive; to attempt to forcibly remount, call drive.mount(\"/content/drive\", force_remount=True).\n"
          ]
        }
      ]
    },
    {
      "cell_type": "code",
      "source": [
        "#Crema = \"/content/drive/MyDrive/datasets/speech/CREMAD/sample/\"\n",
        "#Crema = \"/content/drive/MyDrive/datasets/speech/CREMAD/AudioWAV/\"\n",
        "Ravdess = \"/content/drive/MyDrive/datasets/speech/RAVDESS/data/Audio_Speech_Actors_01-24\"\n",
        "Ravdess_processed = \"/content/drive/MyDrive/datasets/speech/RAVDESS/processedData/onlySpeech/\"\n",
        "Ravdess_speech_sample = \"/content/drive/MyDrive/datasets/speech/RAVDESS/data/Audio_Speech_Actors_01-24/\"\n",
        "df_path = \"/content/drive/MyDrive/datasets/speech/RAVDESS/ravdess_df_onlySpeech.csv\"\n",
        "model_path = Ravdess + \"/model/\"\n",
        "\n",
        "checkpoint_path = model_path + \"best_weights-os-BIGRU-1.hdf5\"\n",
        "saved_model_path = model_path + 'model8723-os-BIGRU-1.json'\n",
        "\n",
        "saved_weights_path = model_path + 'model8723_weights-os-BIGRU-1.h5'\n",
        "saved_model_path_2 = model_path + 'Speech-Emotion-Recognition-Model-os-BIGRU-1.h5'"
      ],
      "metadata": {
        "execution": {
          "iopub.status.busy": "2021-06-21T09:35:38.093538Z",
          "iopub.execute_input": "2021-06-21T09:35:38.093869Z",
          "iopub.status.idle": "2021-06-21T09:35:38.097467Z",
          "shell.execute_reply.started": "2021-06-21T09:35:38.093838Z",
          "shell.execute_reply": "2021-06-21T09:35:38.096608Z"
        },
        "trusted": true,
        "id": "vR2GjHL4Kiw7"
      },
      "execution_count": 44,
      "outputs": []
    },
    {
      "cell_type": "code",
      "source": [
        ""
      ],
      "metadata": {
        "id": "J2T6JxzIF2Jq"
      },
      "execution_count": 44,
      "outputs": []
    },
    {
      "cell_type": "code",
      "source": [
        "##Hypter Parameters' Range\n",
        "params = {\n",
        "    \"batch_size\": 20,  # 20<16<10, 25 was a bust\n",
        "    \"epochs\": 300,\n",
        "    \"lr\": 0.00010000,\n",
        "    \"time_steps\": 60\n",
        "}\n",
        "#TIME_STEPS = params[\"time_steps\"]\n",
        "#BATCH_SIZE = params[\"batch_size\"]\n",
        "#iter_changes = \"dropout_layers_0.4_0.4\"\n"
      ],
      "metadata": {
        "id": "jnEd5_Vvy4ue"
      },
      "execution_count": 45,
      "outputs": []
    },
    {
      "cell_type": "code",
      "source": [
        ""
      ],
      "metadata": {
        "id": "dKXM0xT-N8uy"
      },
      "execution_count": 45,
      "outputs": []
    },
    {
      "cell_type": "markdown",
      "source": [
        "# Load Processed Files, Construct Train, Validation and Test Sets"
      ],
      "metadata": {
        "id": "fse_mTpaOGdQ"
      }
    },
    {
      "cell_type": "code",
      "source": [
        "\n",
        "processed_path = Ravdess_processed\n",
        "x_path = processed_path + \"X_features.json\" # FILE LOAD PATH\n",
        "y_path =  processed_path + \"Y_labels.json\" # FILE SAVE PATH\n",
        "#x_path = '/content/drive/MyDrive/datasets/speech/RAVDESS/processedData/X_features.json'\n",
        "\n",
        "# Load X,Y json files back into lists, convert to np.arrays\n",
        "\n",
        "X = load(x_path)\n",
        "X = np.asarray(X, dtype = 'float32')\n",
        "\n",
        "Y = load(y_path)\n",
        "Y = np.asarray(Y, dtype = 'int8')"
      ],
      "metadata": {
        "id": "101BpvWgN8xX"
      },
      "execution_count": 46,
      "outputs": []
    },
    {
      "cell_type": "code",
      "source": [
        "# Split to train, validation, and test sets.\n",
        "from sklearn.model_selection import train_test_split\n",
        "# 1st Split: X,Y => (x_train, x_tosplit) (y_train, y_tosplit)\n",
        "x_train, x_tosplit, y_train, y_tosplit = train_test_split(X, Y, test_size = 0.125, random_state = 1)\n",
        "# 2nd Split: x_tosplit,y_tosplit => (x_val, x_test) (y_val, y_test) \n",
        "x_val, x_test, y_val, y_test = train_test_split(x_tosplit, y_tosplit, test_size = 0.304, random_state = 1)\n",
        "#'One-hot' vectors for Y: emotion classification\n",
        "y_train_class = tf.keras.utils.to_categorical(y_train, 7, dtype = 'int8')\n",
        "y_val_class = tf.keras.utils.to_categorical(y_val, 7, dtype = 'int8')"
      ],
      "metadata": {
        "id": "CuF9M1mfOD7X"
      },
      "execution_count": 47,
      "outputs": []
    },
    {
      "cell_type": "code",
      "source": [
        "# x_train, x_val, and x_test shape check.\n",
        "print(np.shape(x_train))\n",
        "print(np.shape(x_val))\n",
        "print(np.shape(x_test))"
      ],
      "metadata": {
        "colab": {
          "base_uri": "https://localhost:8080/"
        },
        "id": "od-D1YgBOGXs",
        "outputId": "82e9a846-620a-4829-8215-cca4a96ef10f"
      },
      "execution_count": 48,
      "outputs": [
        {
          "output_type": "stream",
          "name": "stdout",
          "text": [
            "(1176, 448, 15)\n",
            "(116, 448, 15)\n",
            "(52, 448, 15)\n"
          ]
        }
      ]
    },
    {
      "cell_type": "code",
      "source": [
        "# Save x_test, y_test to JSON.\n",
        "\n",
        "x_test_path = processed_path + 'x_test_data.json'\n",
        "dump(obj = x_test, fp = x_test_path)\n",
        "\n",
        "y_test_path = processed_path + 'y_test_data.json'\n",
        "dump(obj = y_test, fp = y_test_path)"
      ],
      "metadata": {
        "colab": {
          "base_uri": "https://localhost:8080/",
          "height": 70
        },
        "id": "nTExHJVsOHQ5",
        "outputId": "5894cbec-eb18-42c3-8396-83fd0b2f9520"
      },
      "execution_count": 49,
      "outputs": [
        {
          "output_type": "execute_result",
          "data": {
            "text/plain": [
              "'{\"__ndarray__\": [[0], [2], [6], [5], [3], [3], [2], [4], [4], [3], [6], [2], [0], [5], [0], [5], [0], [0], [6], [3], [5], [3], [3], [3], [4], [2], [5], [5], [2], [1], [4], [2], [6], [3], [2], [4], [0], [0], [3], [4], [6], [1], [0], [3], [2], [0], [5], [2], [4], [5], [0], [5]], \"dtype\": \"int8\", \"shape\": [52, 1], \"Corder\": true}'"
            ],
            "application/vnd.google.colaboratory.intrinsic+json": {
              "type": "string"
            }
          },
          "metadata": {},
          "execution_count": 49
        }
      ]
    },
    {
      "cell_type": "code",
      "source": [
        "# Loading x_test, y_test json files, and converting to np.arrays\n",
        "\n",
        "x_test = load(processed_path + 'x_test_data.json')\n",
        "x_test = np.asarray(x_test).astype('float32')\n",
        "\n",
        "y_test = load(processed_path + 'y_test_data.json')\n",
        "y_test = np.asarray(y_test).astype('int8')\n",
        "\n",
        "y_test_class = tf.keras.utils.to_categorical(y_test, 7, dtype = 'int8')"
      ],
      "metadata": {
        "id": "kAFBRsmk5dzm"
      },
      "execution_count": 50,
      "outputs": []
    },
    {
      "cell_type": "code",
      "source": [
        "X.shape"
      ],
      "metadata": {
        "id": "15joCR4gu4r7",
        "colab": {
          "base_uri": "https://localhost:8080/"
        },
        "outputId": "321e23f7-7dad-48c3-a4a5-bdc15a1590bb"
      },
      "execution_count": 51,
      "outputs": [
        {
          "output_type": "execute_result",
          "data": {
            "text/plain": [
              "(1344, 448, 15)"
            ]
          },
          "metadata": {},
          "execution_count": 51
        }
      ]
    },
    {
      "cell_type": "code",
      "source": [
        "X.shape[1:3]"
      ],
      "metadata": {
        "colab": {
          "base_uri": "https://localhost:8080/"
        },
        "id": "8MQhoPKjEzi4",
        "outputId": "0f86098f-e80b-4212-8b56-75ab498e0a59"
      },
      "execution_count": 52,
      "outputs": [
        {
          "output_type": "execute_result",
          "data": {
            "text/plain": [
              "(448, 15)"
            ]
          },
          "metadata": {},
          "execution_count": 52
        }
      ]
    },
    {
      "cell_type": "markdown",
      "source": [
        "# RNN Model"
      ],
      "metadata": {
        "id": "gnWVMbR6KixC"
      }
    },
    {
      "cell_type": "code",
      "source": [
        "tic"
      ],
      "metadata": {
        "colab": {
          "base_uri": "https://localhost:8080/"
        },
        "id": "7CHZWdfcN8oo",
        "outputId": "f21429ef-c831-4bdb-e1d9-4ecc15bf5553"
      },
      "execution_count": 53,
      "outputs": [
        {
          "output_type": "execute_result",
          "data": {
            "text/plain": [
              "5462.744292077"
            ]
          },
          "metadata": {},
          "execution_count": 53
        }
      ]
    },
    {
      "cell_type": "markdown",
      "source": [
        "## Define Model & Training"
      ],
      "metadata": {
        "id": "GJjJYnJQORJ8"
      }
    },
    {
      "cell_type": "code",
      "source": [
        "X.shape"
      ],
      "metadata": {
        "colab": {
          "base_uri": "https://localhost:8080/"
        },
        "id": "Mp44ii28CiPt",
        "outputId": "b40f7e69-d9e2-4716-b113-34945320f38c"
      },
      "execution_count": 54,
      "outputs": [
        {
          "output_type": "execute_result",
          "data": {
            "text/plain": [
              "(1344, 448, 15)"
            ]
          },
          "metadata": {},
          "execution_count": 54
        }
      ]
    },
    {
      "cell_type": "code",
      "source": [
        "max_features = 2452\n",
        "embed_dim = 256"
      ],
      "metadata": {
        "id": "ALafROv3DmHV"
      },
      "execution_count": 55,
      "outputs": []
    },
    {
      "cell_type": "code",
      "source": [
        ""
      ],
      "metadata": {
        "id": "tySHfGDlBFWz"
      },
      "execution_count": 55,
      "outputs": []
    },
    {
      "cell_type": "code",
      "source": [
        "# Initializing the model\n",
        "\n",
        "model = Sequential()\n",
        "model.add(layers.Bidirectional(layers.GRU(128, return_sequences = True), input_shape=(X.shape[1:3])))\n",
        "model.add(layers.Bidirectional(layers.GRU((64))))\n",
        "model.add(layers.Dense(7, activation = 'softmax'))\n",
        "print(model.summary())\n",
        "\n",
        "batch_size = 23\n",
        "\n",
        "# Callbacks functions\n",
        "\n",
        "#-> EearlyStopping\n",
        "es = EarlyStopping(monitor='val_loss', mode='min', verbose=1,\n",
        "                    patience=10, min_delta=0.0001)\n",
        "\n",
        "\n",
        "#-> Save the best weights\n",
        "mcp_save = callbacks.ModelCheckpoint(checkpoint_path, save_best_only=True,\n",
        "                           monitor='val_categorical_accuracy',\n",
        "                           mode='max')\n",
        "#-> Reduce learning rate after 100 epoches without improvement.\n",
        "rlrop = callbacks.ReduceLROnPlateau(monitor='val_categorical_accuracy', \n",
        "                                    factor=0.1, patience=20)\n",
        "                             \n",
        "# Compile & train   \n",
        "model.compile(loss='categorical_crossentropy', \n",
        "                optimizer='RMSProp', \n",
        "                metrics=['categorical_accuracy'])\n",
        "\n",
        "\n"
      ],
      "metadata": {
        "colab": {
          "base_uri": "https://localhost:8080/"
        },
        "id": "aD2adyVGOJs4",
        "outputId": "94fe30d1-3161-405a-88f0-d991090f42b8"
      },
      "execution_count": 56,
      "outputs": [
        {
          "output_type": "stream",
          "name": "stdout",
          "text": [
            "Model: \"sequential_2\"\n",
            "_________________________________________________________________\n",
            " Layer (type)                Output Shape              Param #   \n",
            "=================================================================\n",
            " bidirectional_4 (Bidirectio  (None, 448, 256)         111360    \n",
            " nal)                                                            \n",
            "                                                                 \n",
            " bidirectional_5 (Bidirectio  (None, 128)              123648    \n",
            " nal)                                                            \n",
            "                                                                 \n",
            " dense_2 (Dense)             (None, 7)                 903       \n",
            "                                                                 \n",
            "=================================================================\n",
            "Total params: 235,911\n",
            "Trainable params: 235,911\n",
            "Non-trainable params: 0\n",
            "_________________________________________________________________\n",
            "None\n"
          ]
        }
      ]
    },
    {
      "cell_type": "code",
      "source": [
        ""
      ],
      "metadata": {
        "id": "4DBF6kqx-OHZ"
      },
      "execution_count": 56,
      "outputs": []
    },
    {
      "cell_type": "code",
      "source": [
        "history = model.fit(x_train, y_train_class, \n",
        "                      epochs=340, batch_size = batch_size, \n",
        "                      validation_data = (x_val, y_val_class), \n",
        "                      callbacks = [es, mcp_save, rlrop])\n",
        "toc = time.perf_counter()"
      ],
      "metadata": {
        "colab": {
          "base_uri": "https://localhost:8080/"
        },
        "id": "Da7Gc9x_izth",
        "outputId": "59eff798-2386-4aec-ce6d-ce16e4497bbb"
      },
      "execution_count": 57,
      "outputs": [
        {
          "output_type": "stream",
          "name": "stdout",
          "text": [
            "Epoch 1/340\n",
            "52/52 [==============================] - 75s 1s/step - loss: 2.0577 - categorical_accuracy: 0.1794 - val_loss: 2.2340 - val_categorical_accuracy: 0.2241 - lr: 0.0010\n",
            "Epoch 2/340\n",
            "52/52 [==============================] - 65s 1s/step - loss: 1.8759 - categorical_accuracy: 0.2381 - val_loss: 2.0262 - val_categorical_accuracy: 0.2586 - lr: 0.0010\n",
            "Epoch 3/340\n",
            "52/52 [==============================] - 66s 1s/step - loss: 1.7444 - categorical_accuracy: 0.2942 - val_loss: 2.2835 - val_categorical_accuracy: 0.1293 - lr: 0.0010\n",
            "Epoch 4/340\n",
            "52/52 [==============================] - 66s 1s/step - loss: 1.6268 - categorical_accuracy: 0.3682 - val_loss: 1.9086 - val_categorical_accuracy: 0.1983 - lr: 0.0010\n",
            "Epoch 5/340\n",
            "52/52 [==============================] - 65s 1s/step - loss: 1.5914 - categorical_accuracy: 0.3861 - val_loss: 2.2635 - val_categorical_accuracy: 0.1121 - lr: 0.0010\n",
            "Epoch 6/340\n",
            "52/52 [==============================] - 65s 1s/step - loss: 1.4699 - categorical_accuracy: 0.4558 - val_loss: 1.9392 - val_categorical_accuracy: 0.2672 - lr: 0.0010\n",
            "Epoch 7/340\n",
            "52/52 [==============================] - 65s 1s/step - loss: 1.4405 - categorical_accuracy: 0.4609 - val_loss: 1.6875 - val_categorical_accuracy: 0.3190 - lr: 0.0010\n",
            "Epoch 8/340\n",
            "52/52 [==============================] - 65s 1s/step - loss: 1.3572 - categorical_accuracy: 0.4898 - val_loss: 1.6868 - val_categorical_accuracy: 0.3534 - lr: 0.0010\n",
            "Epoch 9/340\n",
            "52/52 [==============================] - 65s 1s/step - loss: 1.3106 - categorical_accuracy: 0.5026 - val_loss: 2.3449 - val_categorical_accuracy: 0.2155 - lr: 0.0010\n",
            "Epoch 10/340\n",
            "52/52 [==============================] - 65s 1s/step - loss: 1.2542 - categorical_accuracy: 0.5434 - val_loss: 2.2854 - val_categorical_accuracy: 0.2241 - lr: 0.0010\n",
            "Epoch 11/340\n",
            "52/52 [==============================] - 65s 1s/step - loss: 1.2235 - categorical_accuracy: 0.5519 - val_loss: 1.9967 - val_categorical_accuracy: 0.3190 - lr: 0.0010\n",
            "Epoch 12/340\n",
            "52/52 [==============================] - 66s 1s/step - loss: 1.1724 - categorical_accuracy: 0.5731 - val_loss: 2.0359 - val_categorical_accuracy: 0.3534 - lr: 0.0010\n",
            "Epoch 13/340\n",
            "52/52 [==============================] - 69s 1s/step - loss: 1.0951 - categorical_accuracy: 0.5927 - val_loss: 1.8586 - val_categorical_accuracy: 0.4138 - lr: 0.0010\n",
            "Epoch 14/340\n",
            "52/52 [==============================] - 66s 1s/step - loss: 1.0417 - categorical_accuracy: 0.6173 - val_loss: 1.9682 - val_categorical_accuracy: 0.3448 - lr: 0.0010\n",
            "Epoch 15/340\n",
            "52/52 [==============================] - 65s 1s/step - loss: 1.0361 - categorical_accuracy: 0.6250 - val_loss: 1.7556 - val_categorical_accuracy: 0.4052 - lr: 0.0010\n",
            "Epoch 16/340\n",
            "52/52 [==============================] - 65s 1s/step - loss: 0.9826 - categorical_accuracy: 0.6369 - val_loss: 2.4818 - val_categorical_accuracy: 0.1724 - lr: 0.0010\n",
            "Epoch 17/340\n",
            "52/52 [==============================] - 65s 1s/step - loss: 0.9434 - categorical_accuracy: 0.6590 - val_loss: 1.7826 - val_categorical_accuracy: 0.3621 - lr: 0.0010\n",
            "Epoch 18/340\n",
            "52/52 [==============================] - 66s 1s/step - loss: 0.9040 - categorical_accuracy: 0.6684 - val_loss: 1.5132 - val_categorical_accuracy: 0.4397 - lr: 0.0010\n",
            "Epoch 19/340\n",
            "52/52 [==============================] - 66s 1s/step - loss: 0.8694 - categorical_accuracy: 0.6743 - val_loss: 1.7458 - val_categorical_accuracy: 0.4310 - lr: 0.0010\n",
            "Epoch 20/340\n",
            "52/52 [==============================] - 67s 1s/step - loss: 0.8454 - categorical_accuracy: 0.7126 - val_loss: 2.5841 - val_categorical_accuracy: 0.1983 - lr: 0.0010\n",
            "Epoch 21/340\n",
            "52/52 [==============================] - 67s 1s/step - loss: 0.8070 - categorical_accuracy: 0.7041 - val_loss: 1.5632 - val_categorical_accuracy: 0.4397 - lr: 0.0010\n",
            "Epoch 22/340\n",
            "52/52 [==============================] - 67s 1s/step - loss: 0.7610 - categorical_accuracy: 0.7321 - val_loss: 1.6625 - val_categorical_accuracy: 0.4569 - lr: 0.0010\n",
            "Epoch 23/340\n",
            "52/52 [==============================] - 66s 1s/step - loss: 0.7348 - categorical_accuracy: 0.7296 - val_loss: 1.4202 - val_categorical_accuracy: 0.4569 - lr: 0.0010\n",
            "Epoch 24/340\n",
            "52/52 [==============================] - 66s 1s/step - loss: 0.6464 - categorical_accuracy: 0.7679 - val_loss: 1.4032 - val_categorical_accuracy: 0.5000 - lr: 0.0010\n",
            "Epoch 25/340\n",
            "52/52 [==============================] - 69s 1s/step - loss: 0.6477 - categorical_accuracy: 0.7747 - val_loss: 1.7876 - val_categorical_accuracy: 0.3879 - lr: 0.0010\n",
            "Epoch 26/340\n",
            "52/52 [==============================] - 68s 1s/step - loss: 0.6150 - categorical_accuracy: 0.7866 - val_loss: 2.1783 - val_categorical_accuracy: 0.4224 - lr: 0.0010\n",
            "Epoch 27/340\n",
            "52/52 [==============================] - 69s 1s/step - loss: 0.5897 - categorical_accuracy: 0.7976 - val_loss: 1.9812 - val_categorical_accuracy: 0.4138 - lr: 0.0010\n",
            "Epoch 28/340\n",
            "52/52 [==============================] - 67s 1s/step - loss: 0.5463 - categorical_accuracy: 0.8172 - val_loss: 1.7480 - val_categorical_accuracy: 0.5000 - lr: 0.0010\n",
            "Epoch 29/340\n",
            "52/52 [==============================] - 65s 1s/step - loss: 0.5054 - categorical_accuracy: 0.8359 - val_loss: 1.5680 - val_categorical_accuracy: 0.4655 - lr: 0.0010\n",
            "Epoch 30/340\n",
            "52/52 [==============================] - 65s 1s/step - loss: 0.4921 - categorical_accuracy: 0.8333 - val_loss: 2.3992 - val_categorical_accuracy: 0.3103 - lr: 0.0010\n",
            "Epoch 31/340\n",
            "52/52 [==============================] - 65s 1s/step - loss: 0.4471 - categorical_accuracy: 0.8529 - val_loss: 2.2378 - val_categorical_accuracy: 0.3793 - lr: 0.0010\n",
            "Epoch 32/340\n",
            "52/52 [==============================] - 65s 1s/step - loss: 0.4422 - categorical_accuracy: 0.8605 - val_loss: 1.5260 - val_categorical_accuracy: 0.4828 - lr: 0.0010\n",
            "Epoch 33/340\n",
            "52/52 [==============================] - 65s 1s/step - loss: 0.4148 - categorical_accuracy: 0.8554 - val_loss: 1.5595 - val_categorical_accuracy: 0.5000 - lr: 0.0010\n",
            "Epoch 34/340\n",
            "52/52 [==============================] - 65s 1s/step - loss: 0.3798 - categorical_accuracy: 0.8759 - val_loss: 2.3630 - val_categorical_accuracy: 0.3879 - lr: 0.0010\n",
            "Epoch 34: early stopping\n"
          ]
        }
      ]
    },
    {
      "cell_type": "code",
      "source": [
        ""
      ],
      "metadata": {
        "id": "3MekXCZHizyZ"
      },
      "execution_count": 57,
      "outputs": []
    },
    {
      "cell_type": "code",
      "source": [
        "print(f\"Running time: {(toc - tic)/60:0.4f} minutes\")"
      ],
      "metadata": {
        "id": "cHmSBRhVOELJ",
        "colab": {
          "base_uri": "https://localhost:8080/"
        },
        "outputId": "db133f26-e6be-4e09-fc72-eef06b775b95"
      },
      "execution_count": 58,
      "outputs": [
        {
          "output_type": "stream",
          "name": "stdout",
          "text": [
            "Running time: 39.0409 minutes\n"
          ]
        }
      ]
    },
    {
      "cell_type": "markdown",
      "source": [
        "## Loading Model"
      ],
      "metadata": {
        "id": "jCQelzMAKixD"
      }
    },
    {
      "cell_type": "code",
      "source": [
        "# Define the best weights to the model.\\\n",
        "#model.load_weights(checkpoint_path)"
      ],
      "metadata": {
        "id": "gruZAW2wI-tO"
      },
      "execution_count": 59,
      "outputs": []
    },
    {
      "cell_type": "markdown",
      "source": [
        "# Evaluation"
      ],
      "metadata": {
        "id": "kDxTjEK0KixD"
      }
    },
    {
      "cell_type": "markdown",
      "source": [
        "## Save & Load model, weights"
      ],
      "metadata": {
        "id": "1YfguG0tPatV"
      }
    },
    {
      "cell_type": "code",
      "source": [
        "# Saving model & weights\n",
        "model_json = model.to_json()\n",
        "\n",
        "\n",
        "\n",
        "with open(saved_model_path, \"w\") as json_file:\n",
        "    json_file.write(model_json)\n",
        "    \n",
        "model.save_weights(saved_weights_path)\n",
        "print(\"Saved model to disk\")"
      ],
      "metadata": {
        "id": "MsVoNhqmgGsK",
        "colab": {
          "base_uri": "https://localhost:8080/"
        },
        "outputId": "baa7a17f-4084-44b1-923f-f058767c7322"
      },
      "execution_count": 61,
      "outputs": [
        {
          "output_type": "stream",
          "name": "stdout",
          "text": [
            "Saved model to disk\n"
          ]
        }
      ]
    },
    {
      "cell_type": "code",
      "source": [
        "# Reading the model from JSON file\n",
        "#model_path = Ravdess + \"/model/\"\n",
        "#saved_model_path = model_path + 'model8723.json'\n",
        "#saved_weights_path = model_path + 'model8723_weights.h5'\n",
        "\n",
        "\n",
        "with open(saved_model_path , 'r') as json_file:\n",
        "    json_savedModel = json_file.read()\n",
        "    \n",
        "# Loading the model architecture, weights\n",
        "model = tf.keras.models.model_from_json(json_savedModel)\n",
        "model.load_weights(saved_weights_path)\n",
        "\n",
        "# Compiling the model with similar parameters as the original model.\n",
        "model.compile(loss='categorical_crossentropy', \n",
        "                optimizer='RMSProp', \n",
        "                metrics=['categorical_accuracy'])\n",
        "\n",
        "# Model's structure visualization\n",
        "tf.keras.utils.plot_model(model, to_file='model.png', show_shapes=True, show_layer_names=True)"
      ],
      "metadata": {
        "id": "y4OJGhLmgfX6",
        "colab": {
          "base_uri": "https://localhost:8080/",
          "height": 422
        },
        "outputId": "1f8688cf-a0dc-4801-b363-12cc40b3908a"
      },
      "execution_count": 62,
      "outputs": [
        {
          "output_type": "execute_result",
          "data": {
            "text/plain": [
              "<IPython.core.display.Image object>"
            ],
            "image/png": "[encoded data removed]"
          },
          "metadata": {},
          "execution_count": 62
        }
      ]
    },
    {
      "cell_type": "code",
      "source": [
        ""
      ],
      "metadata": {
        "id": "B_SW6eUAgvEj"
      },
      "execution_count": 62,
      "outputs": []
    },
    {
      "cell_type": "code",
      "source": [
        ""
      ],
      "metadata": {
        "id": "cCfkUXTYgzSB"
      },
      "execution_count": 62,
      "outputs": []
    },
    {
      "cell_type": "code",
      "source": [
        "model.save(saved_model_path_2)"
      ],
      "metadata": {
        "trusted": true,
        "id": "Z5Uzb_bGKixE"
      },
      "execution_count": 63,
      "outputs": []
    },
    {
      "cell_type": "markdown",
      "source": [
        "## Train (fit) Visualization"
      ],
      "metadata": {
        "id": "ATvBW0SPO-eq"
      }
    },
    {
      "cell_type": "code",
      "source": [
        "# Loss, Accuracy presentation\n",
        "\n",
        "# Plot history: Loss\n",
        "plt.plot(history.history['loss'], label='Loss (training data)')\n",
        "plt.plot(history.history['val_loss'], label='Loss (validation data)')\n",
        "plt.title('Loss for train and validation')\n",
        "plt.ylabel('Loss value')\n",
        "plt.xlabel('No. epoch')\n",
        "plt.legend(loc=\"upper left\")\n",
        "plt.show()\n",
        "\n",
        "#Plot history: Accuracy\n",
        "plt.plot(history.history['categorical_accuracy'], label='Acc (training data)')\n",
        "plt.plot(history.history['val_categorical_accuracy'], label='Acc (validation data)')\n",
        "plt.title('Model accuracy')\n",
        "plt.ylabel('Acc %')\n",
        "plt.xlabel('No. epoch')\n",
        "plt.legend(loc=\"upper left\")\n",
        "plt.show()"
      ],
      "metadata": {
        "id": "UjhUHhU_f4EY",
        "colab": {
          "base_uri": "https://localhost:8080/",
          "height": 573
        },
        "outputId": "8a113966-7655-4ccd-cfd9-17d11a4a9c9a"
      },
      "execution_count": 64,
      "outputs": [
        {
          "output_type": "display_data",
          "data": {
            "text/plain": [
              "<Figure size 432x288 with 1 Axes>"
            ],
            "image/png": "[encoded data removed]"
          },
          "metadata": {
            "needs_background": "light"
          }
        },
        {
          "output_type": "display_data",
          "data": {
            "text/plain": [
              "<Figure size 432x288 with 1 Axes>"
            ],
            "image/png": "[encoded data removed]"
          },
          "metadata": {
            "needs_background": "light"
          }
        }
      ]
    },
    {
      "cell_type": "markdown",
      "source": [
        "## Validation Set Evaluation"
      ],
      "metadata": {
        "id": "UZ3lFduxPQeB"
      }
    },
    {
      "cell_type": "markdown",
      "source": [
        "### Val Set Score"
      ],
      "metadata": {
        "id": "5YoYCa22PMGz"
      }
    },
    {
      "cell_type": "code",
      "source": [
        ""
      ],
      "metadata": {
        "id": "jQavrzbB_8fy"
      },
      "execution_count": 64,
      "outputs": []
    },
    {
      "cell_type": "code",
      "source": [
        "# Validation score\n",
        "loss,acc = model.evaluate(x_val, y_val_class, verbose=2)\n"
      ],
      "metadata": {
        "id": "X_KdTUyrf7-j",
        "colab": {
          "base_uri": "https://localhost:8080/"
        },
        "outputId": "3eadeceb-a859-4490-c89e-ac18ed3dbb49"
      },
      "execution_count": 65,
      "outputs": [
        {
          "output_type": "stream",
          "name": "stdout",
          "text": [
            "4/4 - 7s - loss: 2.3630 - categorical_accuracy: 0.3879 - 7s/epoch - 2s/step\n"
          ]
        }
      ]
    },
    {
      "cell_type": "code",
      "source": [
        ""
      ],
      "metadata": {
        "id": "09k_I9DM_2Q0"
      },
      "execution_count": 65,
      "outputs": []
    },
    {
      "cell_type": "markdown",
      "source": [
        "### Construct Predicted Labels based on Probability of each class"
      ],
      "metadata": {
        "id": "hz7nc15A_3hb"
      }
    },
    {
      "cell_type": "code",
      "source": [
        "y_val_class"
      ],
      "metadata": {
        "id": "CFM1P2SZ_85N",
        "colab": {
          "base_uri": "https://localhost:8080/"
        },
        "outputId": "ba3a5520-5f0d-4f09-81d0-f479d7ab880e"
      },
      "execution_count": 66,
      "outputs": [
        {
          "output_type": "execute_result",
          "data": {
            "text/plain": [
              "array([[1, 0, 0, 0, 0, 0, 0],\n",
              "       [0, 1, 0, 0, 0, 0, 0],\n",
              "       [0, 0, 0, 0, 0, 0, 1],\n",
              "       [0, 1, 0, 0, 0, 0, 0],\n",
              "       [0, 0, 0, 0, 0, 1, 0],\n",
              "       [0, 1, 0, 0, 0, 0, 0],\n",
              "       [0, 0, 0, 0, 1, 0, 0],\n",
              "       [0, 0, 0, 0, 0, 0, 1],\n",
              "       [0, 0, 0, 0, 0, 0, 1],\n",
              "       [0, 1, 0, 0, 0, 0, 0],\n",
              "       [0, 0, 1, 0, 0, 0, 0],\n",
              "       [0, 0, 0, 0, 1, 0, 0],\n",
              "       [0, 0, 0, 0, 0, 0, 1],\n",
              "       [0, 0, 0, 0, 0, 1, 0],\n",
              "       [0, 0, 0, 0, 0, 0, 1],\n",
              "       [0, 0, 0, 1, 0, 0, 0],\n",
              "       [0, 0, 1, 0, 0, 0, 0],\n",
              "       [0, 0, 1, 0, 0, 0, 0],\n",
              "       [1, 0, 0, 0, 0, 0, 0],\n",
              "       [0, 0, 0, 0, 0, 0, 1],\n",
              "       [0, 1, 0, 0, 0, 0, 0],\n",
              "       [0, 0, 0, 0, 0, 0, 1],\n",
              "       [0, 0, 0, 0, 0, 1, 0],\n",
              "       [1, 0, 0, 0, 0, 0, 0],\n",
              "       [0, 0, 0, 0, 1, 0, 0],\n",
              "       [0, 0, 0, 0, 0, 1, 0],\n",
              "       [1, 0, 0, 0, 0, 0, 0],\n",
              "       [0, 0, 0, 1, 0, 0, 0],\n",
              "       [0, 1, 0, 0, 0, 0, 0],\n",
              "       [0, 0, 0, 1, 0, 0, 0],\n",
              "       [0, 0, 0, 0, 0, 0, 1],\n",
              "       [0, 0, 0, 0, 0, 1, 0],\n",
              "       [1, 0, 0, 0, 0, 0, 0],\n",
              "       [0, 0, 0, 1, 0, 0, 0],\n",
              "       [1, 0, 0, 0, 0, 0, 0],\n",
              "       [0, 0, 0, 0, 0, 1, 0],\n",
              "       [0, 0, 1, 0, 0, 0, 0],\n",
              "       [0, 0, 0, 0, 0, 0, 1],\n",
              "       [0, 0, 1, 0, 0, 0, 0],\n",
              "       [0, 0, 0, 0, 1, 0, 0],\n",
              "       [0, 0, 0, 0, 1, 0, 0],\n",
              "       [0, 0, 0, 1, 0, 0, 0],\n",
              "       [0, 0, 0, 0, 0, 1, 0],\n",
              "       [0, 0, 0, 0, 1, 0, 0],\n",
              "       [0, 0, 1, 0, 0, 0, 0],\n",
              "       [0, 0, 0, 1, 0, 0, 0],\n",
              "       [0, 0, 1, 0, 0, 0, 0],\n",
              "       [0, 0, 0, 0, 1, 0, 0],\n",
              "       [0, 0, 0, 1, 0, 0, 0],\n",
              "       [0, 0, 1, 0, 0, 0, 0],\n",
              "       [0, 0, 0, 0, 0, 0, 1],\n",
              "       [0, 0, 0, 0, 0, 0, 1],\n",
              "       [0, 1, 0, 0, 0, 0, 0],\n",
              "       [0, 0, 0, 0, 0, 1, 0],\n",
              "       [1, 0, 0, 0, 0, 0, 0],\n",
              "       [0, 0, 0, 0, 1, 0, 0],\n",
              "       [0, 0, 1, 0, 0, 0, 0],\n",
              "       [0, 0, 0, 0, 1, 0, 0],\n",
              "       [0, 0, 0, 0, 0, 1, 0],\n",
              "       [0, 0, 0, 0, 0, 1, 0],\n",
              "       [0, 0, 1, 0, 0, 0, 0],\n",
              "       [0, 0, 1, 0, 0, 0, 0],\n",
              "       [0, 0, 0, 0, 0, 0, 1],\n",
              "       [0, 1, 0, 0, 0, 0, 0],\n",
              "       [0, 0, 0, 0, 0, 0, 1],\n",
              "       [0, 0, 0, 0, 1, 0, 0],\n",
              "       [0, 0, 0, 0, 1, 0, 0],\n",
              "       [0, 0, 0, 0, 0, 0, 1],\n",
              "       [0, 0, 1, 0, 0, 0, 0],\n",
              "       [1, 0, 0, 0, 0, 0, 0],\n",
              "       [0, 0, 0, 0, 0, 1, 0],\n",
              "       [1, 0, 0, 0, 0, 0, 0],\n",
              "       [0, 0, 0, 1, 0, 0, 0],\n",
              "       [0, 0, 1, 0, 0, 0, 0],\n",
              "       [0, 0, 0, 0, 0, 0, 1],\n",
              "       [0, 0, 0, 1, 0, 0, 0],\n",
              "       [0, 0, 0, 1, 0, 0, 0],\n",
              "       [0, 0, 0, 0, 0, 0, 1],\n",
              "       [0, 0, 0, 0, 0, 1, 0],\n",
              "       [0, 0, 0, 0, 0, 1, 0],\n",
              "       [0, 1, 0, 0, 0, 0, 0],\n",
              "       [0, 1, 0, 0, 0, 0, 0],\n",
              "       [0, 1, 0, 0, 0, 0, 0],\n",
              "       [0, 0, 0, 0, 0, 1, 0],\n",
              "       [0, 0, 0, 0, 0, 0, 1],\n",
              "       [0, 0, 0, 0, 0, 0, 1],\n",
              "       [0, 1, 0, 0, 0, 0, 0],\n",
              "       [0, 0, 1, 0, 0, 0, 0],\n",
              "       [1, 0, 0, 0, 0, 0, 0],\n",
              "       [0, 0, 0, 0, 0, 0, 1],\n",
              "       [0, 0, 0, 1, 0, 0, 0],\n",
              "       [0, 0, 0, 1, 0, 0, 0],\n",
              "       [0, 0, 0, 0, 0, 0, 1],\n",
              "       [0, 0, 0, 0, 0, 0, 1],\n",
              "       [0, 0, 1, 0, 0, 0, 0],\n",
              "       [0, 0, 0, 1, 0, 0, 0],\n",
              "       [1, 0, 0, 0, 0, 0, 0],\n",
              "       [0, 0, 0, 0, 0, 0, 1],\n",
              "       [0, 0, 0, 1, 0, 0, 0],\n",
              "       [0, 0, 1, 0, 0, 0, 0],\n",
              "       [0, 0, 0, 0, 0, 0, 1],\n",
              "       [1, 0, 0, 0, 0, 0, 0],\n",
              "       [1, 0, 0, 0, 0, 0, 0],\n",
              "       [0, 0, 0, 0, 0, 1, 0],\n",
              "       [0, 0, 0, 1, 0, 0, 0],\n",
              "       [0, 0, 0, 0, 0, 0, 1],\n",
              "       [0, 0, 0, 0, 0, 0, 1],\n",
              "       [0, 0, 0, 0, 1, 0, 0],\n",
              "       [0, 1, 0, 0, 0, 0, 0],\n",
              "       [0, 0, 0, 1, 0, 0, 0],\n",
              "       [0, 0, 0, 0, 0, 1, 0],\n",
              "       [0, 0, 0, 0, 0, 1, 0],\n",
              "       [0, 0, 0, 1, 0, 0, 0],\n",
              "       [0, 0, 0, 0, 1, 0, 0],\n",
              "       [0, 0, 0, 0, 1, 0, 0],\n",
              "       [0, 0, 1, 0, 0, 0, 0]], dtype=int8)"
            ]
          },
          "metadata": {},
          "execution_count": 66
        }
      ]
    },
    {
      "cell_type": "code",
      "source": [
        "np.argmax(y_val_class, axis=1)"
      ],
      "metadata": {
        "id": "C9UHSeXbAASy",
        "colab": {
          "base_uri": "https://localhost:8080/"
        },
        "outputId": "d06c9710-634b-4994-f6f0-51e6f1eaa2df"
      },
      "execution_count": 67,
      "outputs": [
        {
          "output_type": "execute_result",
          "data": {
            "text/plain": [
              "array([0, 1, 6, 1, 5, 1, 4, 6, 6, 1, 2, 4, 6, 5, 6, 3, 2, 2, 0, 6, 1, 6,\n",
              "       5, 0, 4, 5, 0, 3, 1, 3, 6, 5, 0, 3, 0, 5, 2, 6, 2, 4, 4, 3, 5, 4,\n",
              "       2, 3, 2, 4, 3, 2, 6, 6, 1, 5, 0, 4, 2, 4, 5, 5, 2, 2, 6, 1, 6, 4,\n",
              "       4, 6, 2, 0, 5, 0, 3, 2, 6, 3, 3, 6, 5, 5, 1, 1, 1, 5, 6, 6, 1, 2,\n",
              "       0, 6, 3, 3, 6, 6, 2, 3, 0, 6, 3, 2, 6, 0, 0, 5, 3, 6, 6, 4, 1, 3,\n",
              "       5, 5, 3, 4, 4, 2])"
            ]
          },
          "metadata": {},
          "execution_count": 67
        }
      ]
    },
    {
      "cell_type": "code",
      "source": [
        "y_val_class = np.argmax(y_val_class, axis=1)\n",
        "predictions_val = model.predict(x_val)\n",
        "y_proba_val_class = predictions_val\n",
        "y_pred_val_class = np.argmax(predictions_val, axis=1)"
      ],
      "metadata": {
        "id": "urjydD-38JK7"
      },
      "execution_count": 68,
      "outputs": []
    },
    {
      "cell_type": "code",
      "source": [
        "predictions_val\n"
      ],
      "metadata": {
        "id": "Zb7dGRs3AEJn",
        "colab": {
          "base_uri": "https://localhost:8080/"
        },
        "outputId": "230846aa-0b79-40f3-af00-29baec200908"
      },
      "execution_count": 69,
      "outputs": [
        {
          "output_type": "execute_result",
          "data": {
            "text/plain": [
              "array([[1.29033372e-01, 1.90572592e-03, 2.95772284e-01, 4.64504810e-05,\n",
              "        5.34119964e-01, 3.86201292e-02, 5.02034207e-04],\n",
              "       [2.72791949e-04, 5.86396635e-01, 5.02299634e-04, 2.27411091e-03,\n",
              "        2.20185861e-01, 7.81916175e-03, 1.82549104e-01],\n",
              "       [3.40909082e-07, 2.10737064e-03, 1.66058322e-04, 8.85242462e-01,\n",
              "        8.78501683e-02, 4.16727911e-04, 2.42169667e-02],\n",
              "       [1.82903500e-03, 4.42171033e-04, 5.98684885e-03, 2.55386084e-01,\n",
              "        2.07626805e-01, 3.82895499e-01, 1.45833567e-01],\n",
              "       [7.16011573e-06, 7.76151792e-05, 1.35509355e-04, 7.89557278e-01,\n",
              "        1.72313362e-01, 2.64926273e-02, 1.14164697e-02],\n",
              "       [3.23130257e-06, 9.79638938e-03, 6.85636944e-04, 2.48894421e-03,\n",
              "        9.83981669e-01, 1.24338476e-05, 3.03168758e-03],\n",
              "       [1.18323696e-05, 8.58853491e-06, 1.31250912e-04, 2.08011223e-03,\n",
              "        9.80487645e-01, 1.04320957e-03, 1.62374154e-02],\n",
              "       [4.94123669e-05, 7.80710392e-03, 2.03451645e-02, 1.55366007e-02,\n",
              "        5.61627924e-01, 1.64416790e-01, 2.30217084e-01],\n",
              "       [3.18736369e-07, 2.46196229e-04, 1.56633541e-04, 9.37377382e-03,\n",
              "        9.46026266e-01, 2.14525335e-03, 4.20515649e-02],\n",
              "       [6.58684410e-03, 1.81375202e-04, 7.34201912e-03, 9.18413419e-03,\n",
              "        9.57360268e-01, 1.68714952e-02, 2.47375341e-03],\n",
              "       [1.09684803e-01, 2.43302225e-03, 1.44946456e-01, 1.79534417e-03,\n",
              "        2.60628194e-01, 2.45444670e-01, 2.35067472e-01],\n",
              "       [9.29034286e-05, 1.54727194e-02, 1.39033586e-01, 2.21526593e-01,\n",
              "        2.88200498e-01, 1.14542238e-01, 2.21131474e-01],\n",
              "       [8.81473397e-07, 3.47745736e-05, 4.29502048e-04, 9.83746052e-02,\n",
              "        5.30166030e-01, 2.40505219e-01, 1.30488917e-01],\n",
              "       [8.86415876e-03, 1.20037903e-05, 8.62480521e-01, 1.49811467e-05,\n",
              "        7.90440515e-02, 4.92040403e-02, 3.80233687e-04],\n",
              "       [1.11890531e-05, 3.27664539e-02, 4.82106116e-03, 3.37188572e-01,\n",
              "        3.62968504e-01, 1.36503473e-01, 1.25740767e-01],\n",
              "       [1.00428748e-04, 1.73179782e-04, 3.70832905e-02, 8.05994645e-02,\n",
              "        5.80597162e-01, 2.82299489e-01, 1.91469602e-02],\n",
              "       [5.23139970e-05, 3.46283887e-05, 7.91973621e-03, 1.19265600e-03,\n",
              "        9.88196194e-01, 4.28720377e-04, 2.17578956e-03],\n",
              "       [1.92913905e-01, 1.15201306e-02, 3.78033251e-01, 5.01105060e-05,\n",
              "        1.81373313e-01, 8.16311613e-02, 1.54478148e-01],\n",
              "       [9.18825924e-01, 2.02044076e-03, 4.94359620e-02, 4.12987683e-05,\n",
              "        2.09563822e-02, 4.79342369e-03, 3.92639637e-03],\n",
              "       [8.98722210e-05, 1.29056424e-02, 3.42170196e-03, 2.67302878e-02,\n",
              "        5.16735017e-01, 2.11687130e-03, 4.38000619e-01],\n",
              "       [2.48117566e-01, 4.94054466e-01, 1.41979232e-02, 2.76201550e-04,\n",
              "        5.33022024e-02, 1.29193664e-01, 6.08579926e-02],\n",
              "       [9.51217373e-07, 4.34350775e-04, 3.90491477e-04, 3.24018568e-01,\n",
              "        5.31910598e-01, 1.15050189e-03, 1.42094582e-01],\n",
              "       [8.64785306e-06, 9.70743073e-04, 3.43090342e-03, 5.50157547e-01,\n",
              "        2.64719203e-02, 3.92644018e-01, 2.63161119e-02],\n",
              "       [4.60455753e-02, 8.69162474e-03, 2.79102139e-02, 9.55276133e-04,\n",
              "        6.69795156e-01, 4.81186546e-02, 1.98483482e-01],\n",
              "       [6.35379092e-06, 8.99905717e-06, 8.81097803e-04, 1.43341534e-03,\n",
              "        9.94971871e-01, 4.11632238e-04, 2.28668773e-03],\n",
              "       [2.22925173e-05, 1.63587320e-05, 3.14170048e-02, 1.81584468e-03,\n",
              "        2.11892948e-02, 9.43935037e-01, 1.60411780e-03],\n",
              "       [4.44045067e-01, 1.00805052e-02, 3.83538336e-01, 8.36558873e-04,\n",
              "        8.80669504e-02, 5.93271442e-02, 1.41053852e-02],\n",
              "       [2.24622931e-06, 6.16272970e-04, 1.33225846e-03, 1.03447169e-01,\n",
              "        3.93556356e-01, 3.87535580e-02, 4.62292075e-01],\n",
              "       [7.50927687e-01, 1.61533803e-03, 8.31444934e-02, 1.72747441e-05,\n",
              "        1.18163697e-01, 2.69501098e-02, 1.91813707e-02],\n",
              "       [4.09143372e-03, 1.77087379e-04, 3.45458537e-02, 8.91313994e-06,\n",
              "        9.54302251e-01, 2.14384589e-03, 4.73054731e-03],\n",
              "       [8.00221023e-05, 2.61942091e-06, 3.39119084e-04, 4.72703068e-05,\n",
              "        9.95655775e-01, 3.67026922e-04, 3.50817083e-03],\n",
              "       [2.13520281e-04, 1.55919930e-04, 1.97266578e-03, 2.48068839e-01,\n",
              "        4.63400111e-02, 5.52332342e-01, 1.50916651e-01],\n",
              "       [8.87395501e-01, 5.50471363e-04, 2.02278104e-02, 1.27328397e-03,\n",
              "        1.55679788e-02, 6.83463216e-02, 6.63868338e-03],\n",
              "       [7.33168349e-07, 7.61405245e-05, 1.41399568e-02, 1.54314995e-01,\n",
              "        8.14723730e-01, 1.52927404e-02, 1.45166460e-03],\n",
              "       [6.34767290e-04, 7.43303169e-03, 8.14357714e-04, 4.06164795e-01,\n",
              "        5.34969866e-01, 1.54050882e-03, 4.84427251e-02],\n",
              "       [8.69882409e-04, 7.89331086e-03, 3.45414458e-03, 4.46840972e-02,\n",
              "        7.09439695e-01, 1.90131962e-01, 4.35269475e-02],\n",
              "       [3.99393588e-02, 9.47663102e-06, 3.65208954e-01, 1.18385673e-04,\n",
              "        5.35727262e-01, 5.72749339e-02, 1.72161055e-03],\n",
              "       [5.26653894e-04, 3.09869538e-05, 6.86377054e-03, 2.85590591e-04,\n",
              "        8.71419311e-01, 4.16887626e-02, 7.91849941e-02],\n",
              "       [7.14968746e-06, 6.65263447e-04, 4.17442508e-02, 9.08346556e-04,\n",
              "        9.56471801e-01, 7.88018660e-05, 1.24358296e-04],\n",
              "       [1.24763995e-01, 3.38181108e-03, 4.84706283e-01, 2.50664252e-05,\n",
              "        3.85260046e-01, 1.09592883e-03, 7.66877551e-04],\n",
              "       [4.78674738e-05, 1.45817306e-04, 1.36246637e-03, 2.76559102e-03,\n",
              "        9.89868879e-01, 1.29528390e-03, 4.51416522e-03],\n",
              "       [4.55396977e-04, 2.82342080e-02, 2.54858285e-03, 1.05318408e-02,\n",
              "        9.50678468e-01, 6.22276741e-04, 6.92918664e-03],\n",
              "       [3.44076921e-06, 3.96714167e-05, 1.74035300e-02, 4.88863178e-02,\n",
              "        8.38735700e-03, 9.21838522e-01, 3.44117847e-03],\n",
              "       [4.46453108e-04, 7.14856258e-04, 4.17583019e-01, 3.16223758e-03,\n",
              "        2.65478253e-01, 2.90926009e-01, 2.16891300e-02],\n",
              "       [4.42955196e-02, 1.18194008e-02, 4.39258993e-01, 8.82752538e-02,\n",
              "        3.70364547e-01, 6.55264966e-03, 3.94335799e-02],\n",
              "       [3.91821287e-09, 3.21595212e-06, 2.23849365e-05, 9.98023510e-01,\n",
              "        1.34737918e-03, 5.33035258e-04, 7.05392013e-05],\n",
              "       [9.14693065e-03, 1.42216159e-04, 4.00842190e-01, 2.60967558e-04,\n",
              "        3.53671402e-01, 2.29406893e-01, 6.52953982e-03],\n",
              "       [1.94293287e-04, 4.39325013e-05, 9.31626409e-02, 2.03172149e-05,\n",
              "        8.89325798e-01, 1.12995887e-02, 5.95337991e-03],\n",
              "       [1.36181330e-02, 7.61096366e-04, 1.00932755e-01, 1.66856684e-02,\n",
              "        1.81238502e-01, 5.60784578e-01, 1.25979245e-01],\n",
              "       [9.23555752e-04, 5.14047919e-04, 6.08741105e-01, 5.85647300e-03,\n",
              "        3.54414225e-01, 2.71378458e-02, 2.41274899e-03],\n",
              "       [2.49262084e-03, 3.91463109e-05, 4.87852767e-02, 7.73299893e-04,\n",
              "        9.00335610e-01, 5.92848565e-03, 4.16455977e-02],\n",
              "       [9.08729956e-02, 1.41723047e-03, 1.55384660e-01, 2.31252619e-04,\n",
              "        3.78769577e-01, 3.69240254e-01, 4.08409396e-03],\n",
              "       [1.65578518e-02, 1.63669372e-03, 1.73238162e-02, 5.91866183e-06,\n",
              "        9.59621072e-01, 5.26455115e-05, 4.80211293e-03],\n",
              "       [1.82476215e-04, 7.60823877e-06, 8.49750564e-02, 2.22049840e-03,\n",
              "        1.51806816e-01, 7.60290504e-01, 5.17028035e-04],\n",
              "       [6.40978739e-02, 3.39660305e-03, 6.05382085e-01, 7.44436984e-04,\n",
              "        2.10676610e-01, 5.63567430e-02, 5.93456812e-02],\n",
              "       [2.71584336e-02, 3.52373972e-05, 2.56591253e-02, 2.17906972e-06,\n",
              "        9.43419099e-01, 2.43932591e-03, 1.28663564e-03],\n",
              "       [2.94500369e-05, 5.40128785e-05, 2.72877086e-02, 3.01229331e-04,\n",
              "        8.96572173e-01, 7.42449462e-02, 1.51039357e-03],\n",
              "       [9.53224007e-05, 1.40709872e-05, 1.91290432e-03, 3.18629522e-04,\n",
              "        9.96741593e-01, 8.19424313e-05, 8.35541752e-04],\n",
              "       [2.21988559e-02, 4.32355213e-04, 5.72189316e-03, 1.82219781e-02,\n",
              "        3.23731810e-01, 6.16491139e-01, 1.32019380e-02],\n",
              "       [3.93606839e-04, 3.25575442e-04, 9.37031955e-03, 1.04042049e-03,\n",
              "        1.73153151e-02, 9.58494544e-01, 1.30602242e-02],\n",
              "       [5.78587758e-04, 1.78709175e-04, 4.94842589e-01, 8.03094283e-02,\n",
              "        4.15906787e-01, 2.79876054e-03, 5.38522145e-03],\n",
              "       [1.66190485e-03, 5.73669211e-04, 3.47316079e-03, 7.00908931e-05,\n",
              "        9.86415446e-01, 4.06756095e-04, 7.39896903e-03],\n",
              "       [2.39397241e-06, 3.33572291e-02, 1.99857056e-02, 2.05485865e-01,\n",
              "        6.07701898e-01, 6.36134818e-02, 6.98534623e-02],\n",
              "       [8.26467221e-05, 1.39669725e-03, 6.80683255e-02, 1.68070257e-01,\n",
              "        7.49646187e-01, 8.78051948e-03, 3.95538472e-03],\n",
              "       [3.21397329e-06, 2.21557959e-04, 3.67899920e-04, 4.14121780e-04,\n",
              "        9.82474267e-01, 1.41305834e-04, 1.63775701e-02],\n",
              "       [8.23182985e-02, 4.91248327e-04, 9.96375456e-02, 4.03609411e-05,\n",
              "        8.15562308e-01, 6.53832860e-04, 1.29644864e-03],\n",
              "       [9.65333129e-06, 1.25069477e-04, 1.02310057e-03, 4.49369885e-02,\n",
              "        9.47735608e-01, 6.00664236e-04, 5.56884147e-03],\n",
              "       [6.91625930e-04, 1.83566644e-05, 8.60244315e-03, 6.10612216e-04,\n",
              "        4.43120867e-01, 5.39270580e-01, 7.68544385e-03],\n",
              "       [8.75754165e-04, 7.53320492e-05, 1.04670860e-02, 2.02232264e-02,\n",
              "        4.01233919e-02, 8.72356653e-01, 5.58785610e-02],\n",
              "       [6.86999202e-01, 1.51009718e-03, 7.04650283e-02, 1.02587735e-04,\n",
              "        1.31650046e-01, 1.07026808e-01, 2.24608043e-03],\n",
              "       [7.53387649e-05, 1.18404299e-04, 7.50509202e-01, 1.67673768e-03,\n",
              "        1.66534483e-02, 2.22764432e-01, 8.20240099e-03],\n",
              "       [1.18673854e-02, 2.14413201e-04, 7.70067200e-02, 2.61676723e-05,\n",
              "        9.09466803e-01, 1.16400908e-04, 1.30204856e-03],\n",
              "       [7.32415765e-06, 3.91396634e-06, 2.06942510e-04, 9.86711740e-01,\n",
              "        3.43068270e-03, 8.65480490e-03, 9.84507496e-04],\n",
              "       [2.61810306e-03, 2.17300418e-04, 8.16585004e-01, 7.75176240e-03,\n",
              "        1.31928891e-01, 3.81254479e-02, 2.77348841e-03],\n",
              "       [1.16068162e-02, 4.42005577e-04, 1.57024875e-01, 2.47360822e-02,\n",
              "        5.23521841e-01, 1.41981557e-01, 1.40686840e-01],\n",
              "       [4.36114618e-07, 1.95893052e-04, 4.76735225e-03, 5.14972508e-01,\n",
              "        4.50594395e-01, 1.83966495e-02, 1.10727083e-02],\n",
              "       [1.10778390e-04, 1.93084439e-03, 2.33260226e-02, 5.74562788e-01,\n",
              "        8.72722082e-03, 2.68982559e-01, 1.22359864e-01],\n",
              "       [2.40537101e-05, 6.56458410e-03, 1.88295380e-03, 2.19406858e-02,\n",
              "        9.16824222e-01, 4.16247696e-02, 1.11388518e-02],\n",
              "       [2.20505026e-05, 4.24497011e-05, 2.09919031e-04, 3.47056659e-04,\n",
              "        9.98148203e-01, 6.59844140e-04, 5.70590259e-04],\n",
              "       [8.95943202e-04, 1.34498090e-03, 9.77669936e-03, 8.62768888e-02,\n",
              "        2.39226103e-01, 6.57484829e-01, 4.99446597e-03],\n",
              "       [4.64396318e-03, 6.23323619e-02, 5.15338659e-01, 1.03562733e-03,\n",
              "        3.60022783e-01, 5.21700531e-02, 4.45650611e-03],\n",
              "       [5.13918651e-03, 2.49493830e-02, 2.36145929e-01, 1.11661102e-04,\n",
              "        6.75566196e-01, 5.89133939e-03, 5.21963388e-02],\n",
              "       [8.60862259e-04, 1.10675208e-01, 3.88951600e-02, 1.16958506e-02,\n",
              "        5.97302727e-02, 5.13594486e-02, 7.26783216e-01],\n",
              "       [3.79333119e-06, 4.38543757e-05, 5.86001726e-04, 2.10050819e-03,\n",
              "        5.90075672e-01, 2.45265216e-02, 3.82663608e-01],\n",
              "       [2.87767307e-07, 7.01403187e-04, 2.23915486e-04, 8.01491857e-01,\n",
              "        1.24670006e-01, 1.74797222e-03, 7.11644739e-02],\n",
              "       [4.32572502e-04, 1.47118000e-03, 1.61990616e-02, 1.92987081e-02,\n",
              "        6.30161703e-01, 3.24041486e-01, 8.39524716e-03],\n",
              "       [1.38832035e-03, 9.18030813e-02, 6.49509132e-02, 2.98045634e-04,\n",
              "        1.13969408e-02, 1.15124620e-02, 8.18650305e-01],\n",
              "       [1.09176688e-06, 2.47223023e-03, 2.12857849e-04, 2.05248105e-03,\n",
              "        9.90610063e-01, 1.04497285e-05, 4.64076176e-03],\n",
              "       [6.05337955e-02, 1.74405737e-04, 4.87882167e-01, 3.36583616e-05,\n",
              "        1.65410519e-01, 2.83987850e-01, 1.97751471e-03],\n",
              "       [5.97559265e-04, 7.03480055e-06, 5.97850012e-04, 6.81049642e-05,\n",
              "        9.96884406e-01, 9.51224574e-05, 1.75004371e-03],\n",
              "       [9.15163946e-06, 9.59202498e-06, 4.75894421e-01, 4.16188776e-01,\n",
              "        7.04823993e-03, 1.00256883e-01, 5.92908065e-04],\n",
              "       [1.01941885e-06, 3.64199441e-05, 1.69053171e-02, 6.56045020e-01,\n",
              "        3.69561277e-02, 2.89495677e-01, 5.60361834e-04],\n",
              "       [5.68922143e-04, 5.57667117e-05, 1.93272516e-01, 5.05551405e-04,\n",
              "        5.02397299e-01, 1.10187698e-02, 2.92181164e-01],\n",
              "       [7.10060158e-06, 1.14900656e-02, 1.89615833e-03, 9.36095715e-02,\n",
              "        7.92701900e-01, 2.69930554e-03, 9.75959376e-02],\n",
              "       [1.08111824e-03, 2.77319632e-05, 1.34854496e-01, 1.76763861e-04,\n",
              "        1.87441140e-01, 6.75403595e-01, 1.01513974e-03],\n",
              "       [4.76838522e-06, 1.34923335e-04, 4.07760119e-04, 8.86367500e-01,\n",
              "        3.86161804e-02, 1.74454898e-02, 5.70232347e-02],\n",
              "       [5.96777201e-01, 3.98322954e-05, 1.33136570e-01, 4.40220538e-05,\n",
              "        2.19677657e-01, 4.83994298e-02, 1.92526402e-03],\n",
              "       [1.44829799e-04, 3.31278867e-03, 5.97577728e-03, 1.13501381e-02,\n",
              "        6.44466951e-02, 1.04975421e-02, 9.04272258e-01],\n",
              "       [2.07587263e-08, 3.40501356e-06, 9.58043893e-06, 9.99264896e-01,\n",
              "        5.31763595e-04, 1.50780630e-04, 3.94973285e-05],\n",
              "       [1.58979947e-05, 3.59388447e-04, 6.59915864e-01, 9.85294115e-03,\n",
              "        2.54355401e-01, 7.33881369e-02, 2.11241329e-03],\n",
              "       [1.46264036e-03, 2.39759609e-01, 7.71622285e-02, 3.47367465e-03,\n",
              "        9.95187387e-02, 4.94141132e-01, 8.44820365e-02],\n",
              "       [4.74568307e-02, 8.60877931e-02, 8.22353363e-01, 1.37006352e-03,\n",
              "        4.03468907e-02, 1.59252097e-03, 7.92528212e-04],\n",
              "       [2.43833591e-03, 4.96598613e-03, 3.10942382e-02, 6.28734881e-04,\n",
              "        9.45354939e-01, 1.60949901e-04, 1.53568927e-02],\n",
              "       [2.03294417e-06, 7.83373762e-05, 2.10792015e-04, 2.33525082e-01,\n",
              "        7.71590625e-04, 7.64025986e-01, 1.38618366e-03],\n",
              "       [1.48628825e-08, 1.57011709e-05, 4.29057691e-05, 9.97124016e-01,\n",
              "        1.04080210e-03, 1.13290572e-03, 6.43698615e-04],\n",
              "       [1.07070173e-05, 1.82309770e-03, 2.61046342e-03, 1.51858255e-02,\n",
              "        8.30430746e-01, 1.77046051e-03, 1.48168638e-01],\n",
              "       [1.17938580e-04, 1.09716493e-03, 9.37239500e-04, 2.21892670e-02,\n",
              "        9.39899325e-01, 1.24078831e-02, 2.33511943e-02],\n",
              "       [1.70254850e-06, 3.82862170e-03, 2.21663839e-04, 2.03693509e-01,\n",
              "        7.62997746e-01, 6.71773916e-04, 2.85848342e-02],\n",
              "       [1.42874718e-01, 3.02142440e-03, 1.67935770e-02, 2.35157367e-03,\n",
              "        7.74564624e-01, 1.90870336e-03, 5.84853962e-02],\n",
              "       [9.83761538e-07, 1.29897773e-04, 3.16824189e-05, 9.81212199e-01,\n",
              "        2.30434956e-03, 1.24932798e-02, 3.82755627e-03],\n",
              "       [9.68473323e-05, 2.41996099e-06, 3.40962783e-03, 5.12728802e-05,\n",
              "        9.30999696e-01, 6.43291473e-02, 1.11109158e-03],\n",
              "       [1.38987394e-04, 9.37226694e-03, 3.05681629e-03, 5.09400189e-01,\n",
              "        4.82435301e-02, 2.67916173e-01, 1.61871955e-01],\n",
              "       [2.46434467e-07, 2.13921267e-05, 1.15646177e-03, 9.55023766e-01,\n",
              "        3.08524687e-02, 5.81839448e-03, 7.12717045e-03],\n",
              "       [1.15248395e-05, 1.42688805e-05, 1.44429228e-04, 2.34282161e-05,\n",
              "        9.99404192e-01, 3.00715095e-04, 1.01531477e-04],\n",
              "       [3.05667459e-06, 4.22503490e-06, 1.28781730e-02, 1.10882404e-03,\n",
              "        9.74152088e-01, 8.37509334e-03, 3.47849308e-03],\n",
              "       [9.06132243e-07, 2.63613056e-05, 9.62940603e-03, 4.57844289e-04,\n",
              "        9.89730597e-01, 5.88380608e-05, 9.59998943e-05]], dtype=float32)"
            ]
          },
          "metadata": {},
          "execution_count": 69
        }
      ]
    },
    {
      "cell_type": "code",
      "source": [
        "y_pred_val_class "
      ],
      "metadata": {
        "id": "KxHa1Ss1AJo4",
        "colab": {
          "base_uri": "https://localhost:8080/"
        },
        "outputId": "a6165835-449a-4212-d66c-6e537cd4e799"
      },
      "execution_count": 70,
      "outputs": [
        {
          "output_type": "execute_result",
          "data": {
            "text/plain": [
              "array([4, 1, 3, 5, 3, 4, 4, 4, 4, 4, 4, 4, 4, 2, 4, 4, 4, 2, 0, 4, 1, 4,\n",
              "       3, 4, 4, 5, 0, 6, 0, 4, 4, 5, 0, 4, 4, 4, 4, 4, 4, 2, 4, 4, 5, 2,\n",
              "       2, 3, 2, 4, 5, 2, 4, 4, 4, 5, 2, 4, 4, 4, 5, 5, 2, 4, 4, 4, 4, 4,\n",
              "       4, 5, 5, 0, 2, 4, 3, 2, 4, 3, 3, 4, 4, 5, 2, 4, 6, 4, 3, 4, 6, 4,\n",
              "       2, 4, 2, 3, 4, 4, 5, 3, 0, 6, 3, 2, 5, 2, 4, 5, 3, 4, 4, 4, 4, 3,\n",
              "       4, 3, 3, 4, 4, 4])"
            ]
          },
          "metadata": {},
          "execution_count": 70
        }
      ]
    },
    {
      "cell_type": "markdown",
      "source": [
        "### Val Set Confusion Matrix and Heatmap"
      ],
      "metadata": {
        "id": "d2ullxf9PUMd"
      }
    },
    {
      "cell_type": "code",
      "source": [
        "# Validation Confusion matrix\n",
        "cm=confusion_matrix(y_val_class, y_pred_val_class)\n",
        "\n",
        "index = ['calm', 'happy', 'sad', 'angry', 'fearful', 'disgust', 'surprised']  \n",
        "columns = ['calm', 'happy', 'sad', 'angry', 'fearful', 'disgust', 'surprised']  \n",
        " \n",
        "cm_df = pd.DataFrame(cm,index,columns)                      \n",
        "plt.figure(figsize=(12,8))\n",
        "ax = plt.axes()\n",
        "\n",
        "sns.heatmap(cm_df, ax = ax, cmap = 'PuBu', fmt=\"d\", annot=True)\n",
        "ax.set_ylabel('True emotion')\n",
        "ax.set_xlabel('Predicted emotion')"
      ],
      "metadata": {
        "id": "doLcg3CTf9bx",
        "colab": {
          "base_uri": "https://localhost:8080/",
          "height": 518
        },
        "outputId": "4313fe2f-940d-4ed5-e80d-f77aaad36979"
      },
      "execution_count": 71,
      "outputs": [
        {
          "output_type": "execute_result",
          "data": {
            "text/plain": [
              "Text(0.5, 51.0, 'Predicted emotion')"
            ]
          },
          "metadata": {},
          "execution_count": 71
        },
        {
          "output_type": "display_data",
          "data": {
            "text/plain": [
              "<Figure size 864x576 with 2 Axes>"
            ],
            "image/png": "[encoded data removed]"
          },
          "metadata": {
            "needs_background": "light"
          }
        }
      ]
    },
    {
      "cell_type": "code",
      "source": [
        "# Confusion Matrix\n",
        "cm"
      ],
      "metadata": {
        "id": "hIEG9Pia8Nfp",
        "colab": {
          "base_uri": "https://localhost:8080/"
        },
        "outputId": "849161df-6bfb-4065-867c-6e4bccd3cc7e"
      },
      "execution_count": 72,
      "outputs": [
        {
          "output_type": "execute_result",
          "data": {
            "text/plain": [
              "array([[ 5,  0,  3,  0,  5,  0,  0],\n",
              "       [ 1,  2,  1,  0,  6,  1,  2],\n",
              "       [ 0,  0,  7,  0,  8,  2,  0],\n",
              "       [ 0,  0,  1, 10,  4,  1,  1],\n",
              "       [ 0,  0,  2,  0, 12,  0,  0],\n",
              "       [ 0,  0,  2,  3,  4,  8,  0],\n",
              "       [ 0,  0,  0,  2, 20,  2,  1]])"
            ]
          },
          "metadata": {},
          "execution_count": 72
        }
      ]
    },
    {
      "cell_type": "markdown",
      "source": [
        "### Validation Set Predicted emotions accuracy"
      ],
      "metadata": {
        "id": "kWjKgUdRPYH5"
      }
    },
    {
      "cell_type": "code",
      "source": [
        "# Validation set prediction accuracy rates\n",
        "\n",
        "values = cm.diagonal()\n",
        "row_sum = np.sum(cm,axis=1)\n",
        "acc = values / row_sum\n",
        "\n",
        "print('Validation set predicted emotions accuracy:')\n",
        "for e in range(0, len(values)):\n",
        "    print(index[e],':', f\"{(acc[e]):0.4f}\")"
      ],
      "metadata": {
        "id": "MopdywY9f-mS",
        "colab": {
          "base_uri": "https://localhost:8080/"
        },
        "outputId": "2bf19c38-9eef-4d71-b929-bfcb21e3f04f"
      },
      "execution_count": 73,
      "outputs": [
        {
          "output_type": "stream",
          "name": "stdout",
          "text": [
            "Validation set predicted emotions accuracy:\n",
            "calm : 0.3846\n",
            "happy : 0.1538\n",
            "sad : 0.4118\n",
            "angry : 0.5882\n",
            "fearful : 0.8571\n",
            "disgust : 0.4706\n",
            "surprised : 0.0400\n"
          ]
        }
      ]
    },
    {
      "cell_type": "markdown",
      "source": [
        "### Precision, Recal, Fscore"
      ],
      "metadata": {
        "id": "DGSTy2228XRH"
      }
    },
    {
      "cell_type": "code",
      "source": [
        "# Validation set precision, recall, fscore\n",
        "\n",
        "precision_recall_fscore_support(y_val_class, y_pred_val_class, average='macro')\n"
      ],
      "metadata": {
        "id": "rOwUkCG0gGpm",
        "colab": {
          "base_uri": "https://localhost:8080/"
        },
        "outputId": "7aad265c-3904-425c-a0ca-bee92732de92"
      },
      "execution_count": 74,
      "outputs": [
        {
          "output_type": "execute_result",
          "data": {
            "text/plain": [
              "(0.5660454859910066, 0.41517037584264477, 0.3937266504528415, None)"
            ]
          },
          "metadata": {},
          "execution_count": 74
        }
      ]
    },
    {
      "cell_type": "code",
      "source": [
        "precision_recall_fscore_support(y_val_class, y_pred_val_class, average='weighted')"
      ],
      "metadata": {
        "id": "OorFgXxDzy3o",
        "colab": {
          "base_uri": "https://localhost:8080/"
        },
        "outputId": "4939e2d4-fd1f-443d-e753-464a8d86ae0e"
      },
      "execution_count": 75,
      "outputs": [
        {
          "output_type": "execute_result",
          "data": {
            "text/plain": [
              "(0.5294475000695779, 0.3879310344827586, 0.3728186581671961, None)"
            ]
          },
          "metadata": {},
          "execution_count": 75
        }
      ]
    },
    {
      "cell_type": "markdown",
      "source": [
        "## Test Set Evaluation"
      ],
      "metadata": {
        "id": "FiCwOjmPPgCn"
      }
    },
    {
      "cell_type": "markdown",
      "source": [
        "### Test Set Score\n",
        "\n"
      ],
      "metadata": {
        "id": "CWB7U5xDUSmF"
      }
    },
    {
      "cell_type": "code",
      "source": [
        "loss, acc = model.evaluate(x_test, y_test_class, verbose=2)"
      ],
      "metadata": {
        "id": "Y7NEHPM-gzml",
        "colab": {
          "base_uri": "https://localhost:8080/"
        },
        "outputId": "93db0779-3974-49a6-fa31-b9b9191ab9d4"
      },
      "execution_count": 76,
      "outputs": [
        {
          "output_type": "stream",
          "name": "stdout",
          "text": [
            "2/2 - 1s - loss: 2.0622 - categorical_accuracy: 0.4423 - 646ms/epoch - 323ms/step\n"
          ]
        }
      ]
    },
    {
      "cell_type": "markdown",
      "source": [
        "### Construct Predicted Labels based on Probability of each class"
      ],
      "metadata": {
        "id": "gPwcFV9oAhGh"
      }
    },
    {
      "cell_type": "code",
      "source": [
        "y_test_class"
      ],
      "metadata": {
        "id": "tjN7Eit7AiML",
        "colab": {
          "base_uri": "https://localhost:8080/"
        },
        "outputId": "4e109507-6990-4d85-8f8d-5e343754690c"
      },
      "execution_count": 77,
      "outputs": [
        {
          "output_type": "execute_result",
          "data": {
            "text/plain": [
              "array([[1, 0, 0, 0, 0, 0, 0],\n",
              "       [0, 0, 1, 0, 0, 0, 0],\n",
              "       [0, 0, 0, 0, 0, 0, 1],\n",
              "       [0, 0, 0, 0, 0, 1, 0],\n",
              "       [0, 0, 0, 1, 0, 0, 0],\n",
              "       [0, 0, 0, 1, 0, 0, 0],\n",
              "       [0, 0, 1, 0, 0, 0, 0],\n",
              "       [0, 0, 0, 0, 1, 0, 0],\n",
              "       [0, 0, 0, 0, 1, 0, 0],\n",
              "       [0, 0, 0, 1, 0, 0, 0],\n",
              "       [0, 0, 0, 0, 0, 0, 1],\n",
              "       [0, 0, 1, 0, 0, 0, 0],\n",
              "       [1, 0, 0, 0, 0, 0, 0],\n",
              "       [0, 0, 0, 0, 0, 1, 0],\n",
              "       [1, 0, 0, 0, 0, 0, 0],\n",
              "       [0, 0, 0, 0, 0, 1, 0],\n",
              "       [1, 0, 0, 0, 0, 0, 0],\n",
              "       [1, 0, 0, 0, 0, 0, 0],\n",
              "       [0, 0, 0, 0, 0, 0, 1],\n",
              "       [0, 0, 0, 1, 0, 0, 0],\n",
              "       [0, 0, 0, 0, 0, 1, 0],\n",
              "       [0, 0, 0, 1, 0, 0, 0],\n",
              "       [0, 0, 0, 1, 0, 0, 0],\n",
              "       [0, 0, 0, 1, 0, 0, 0],\n",
              "       [0, 0, 0, 0, 1, 0, 0],\n",
              "       [0, 0, 1, 0, 0, 0, 0],\n",
              "       [0, 0, 0, 0, 0, 1, 0],\n",
              "       [0, 0, 0, 0, 0, 1, 0],\n",
              "       [0, 0, 1, 0, 0, 0, 0],\n",
              "       [0, 1, 0, 0, 0, 0, 0],\n",
              "       [0, 0, 0, 0, 1, 0, 0],\n",
              "       [0, 0, 1, 0, 0, 0, 0],\n",
              "       [0, 0, 0, 0, 0, 0, 1],\n",
              "       [0, 0, 0, 1, 0, 0, 0],\n",
              "       [0, 0, 1, 0, 0, 0, 0],\n",
              "       [0, 0, 0, 0, 1, 0, 0],\n",
              "       [1, 0, 0, 0, 0, 0, 0],\n",
              "       [1, 0, 0, 0, 0, 0, 0],\n",
              "       [0, 0, 0, 1, 0, 0, 0],\n",
              "       [0, 0, 0, 0, 1, 0, 0],\n",
              "       [0, 0, 0, 0, 0, 0, 1],\n",
              "       [0, 1, 0, 0, 0, 0, 0],\n",
              "       [1, 0, 0, 0, 0, 0, 0],\n",
              "       [0, 0, 0, 1, 0, 0, 0],\n",
              "       [0, 0, 1, 0, 0, 0, 0],\n",
              "       [1, 0, 0, 0, 0, 0, 0],\n",
              "       [0, 0, 0, 0, 0, 1, 0],\n",
              "       [0, 0, 1, 0, 0, 0, 0],\n",
              "       [0, 0, 0, 0, 1, 0, 0],\n",
              "       [0, 0, 0, 0, 0, 1, 0],\n",
              "       [1, 0, 0, 0, 0, 0, 0],\n",
              "       [0, 0, 0, 0, 0, 1, 0]], dtype=int8)"
            ]
          },
          "metadata": {},
          "execution_count": 77
        }
      ]
    },
    {
      "cell_type": "code",
      "source": [
        " np.argmax(y_test_class, axis=1)"
      ],
      "metadata": {
        "id": "2fcK-_HzAmc5",
        "colab": {
          "base_uri": "https://localhost:8080/"
        },
        "outputId": "ae26c624-49c7-4a73-e225-aefc823fbe8c"
      },
      "execution_count": 78,
      "outputs": [
        {
          "output_type": "execute_result",
          "data": {
            "text/plain": [
              "array([0, 2, 6, 5, 3, 3, 2, 4, 4, 3, 6, 2, 0, 5, 0, 5, 0, 0, 6, 3, 5, 3,\n",
              "       3, 3, 4, 2, 5, 5, 2, 1, 4, 2, 6, 3, 2, 4, 0, 0, 3, 4, 6, 1, 0, 3,\n",
              "       2, 0, 5, 2, 4, 5, 0, 5])"
            ]
          },
          "metadata": {},
          "execution_count": 78
        }
      ]
    },
    {
      "cell_type": "code",
      "source": [
        "y_test_class = np.argmax(y_test_class, axis=1)\n",
        "predictions_test = model.predict(x_test)\n",
        "y_pred_test_class = np.argmax(predictions_test, axis=1)\n",
        "y_proba_test_class = predictions_test\n",
        "\n"
      ],
      "metadata": {
        "id": "uyXvoU2rAckI"
      },
      "execution_count": 79,
      "outputs": []
    },
    {
      "cell_type": "code",
      "source": [
        "predictions_test"
      ],
      "metadata": {
        "id": "3BAOUaPwAtuY",
        "colab": {
          "base_uri": "https://localhost:8080/"
        },
        "outputId": "c7b1f870-cd41-4072-b804-ba524050ced9"
      },
      "execution_count": 80,
      "outputs": [
        {
          "output_type": "execute_result",
          "data": {
            "text/plain": [
              "array([[5.02313733e-01, 8.50677825e-05, 4.76774752e-01, 7.13699865e-06,\n",
              "        2.20554590e-04, 2.04951223e-02, 1.03626509e-04],\n",
              "       [8.24507588e-05, 1.14712026e-02, 4.06554192e-02, 2.28506718e-02,\n",
              "        8.27076614e-01, 6.25452399e-02, 3.53184119e-02],\n",
              "       [1.83256867e-04, 1.67063402e-03, 7.70390674e-04, 2.92736012e-02,\n",
              "        6.75454080e-01, 6.38379762e-03, 2.86264211e-01],\n",
              "       [3.00723547e-03, 1.86872622e-03, 8.34914804e-01, 1.96960595e-04,\n",
              "        3.17138359e-02, 1.20377280e-01, 7.92114437e-03],\n",
              "       [5.17920682e-07, 1.87822894e-04, 6.79077581e-03, 8.78629148e-01,\n",
              "        9.90460142e-02, 1.03008552e-02, 5.04497485e-03],\n",
              "       [6.96242962e-04, 2.07023900e-02, 3.36697325e-03, 3.33861797e-03,\n",
              "        1.63736958e-02, 8.10518265e-01, 1.45003811e-01],\n",
              "       [2.76385304e-02, 1.04474090e-03, 1.00624733e-01, 3.50186107e-04,\n",
              "        8.11486602e-01, 5.87602109e-02, 9.49939713e-05],\n",
              "       [1.62515999e-03, 2.44471035e-03, 1.19405473e-02, 5.33856563e-02,\n",
              "        6.61722541e-01, 2.27034986e-01, 4.18463945e-02],\n",
              "       [4.01801699e-05, 1.77419290e-03, 4.86818049e-03, 2.35753413e-02,\n",
              "        4.21918601e-01, 9.69085023e-02, 4.50915039e-01],\n",
              "       [9.66500142e-04, 8.41317000e-04, 3.03778052e-02, 1.82416648e-01,\n",
              "        6.41794801e-01, 1.39490306e-01, 4.11269953e-03],\n",
              "       [4.32033138e-03, 2.53283186e-04, 5.89782186e-02, 1.10708538e-03,\n",
              "        5.18073082e-01, 1.51360771e-02, 4.02132004e-01],\n",
              "       [1.22811655e-02, 2.05857158e-02, 1.13028087e-01, 4.21271659e-03,\n",
              "        6.23465478e-01, 7.93262571e-03, 2.18494266e-01],\n",
              "       [2.05846608e-01, 1.47683732e-03, 9.46482271e-02, 9.99894382e-07,\n",
              "        8.62673018e-03, 6.88086390e-01, 1.31415355e-03],\n",
              "       [6.00034837e-03, 7.68603245e-03, 1.91833451e-01, 5.15743741e-04,\n",
              "        1.80068299e-01, 8.23180601e-02, 5.31578124e-01],\n",
              "       [1.07418969e-01, 6.78102225e-02, 7.39231944e-01, 4.18497330e-05,\n",
              "        3.30698229e-02, 4.26991880e-02, 9.72798932e-03],\n",
              "       [1.40524271e-03, 1.75620080e-04, 3.66104960e-01, 2.02364922e-02,\n",
              "        8.84139016e-02, 5.03132164e-01, 2.05316283e-02],\n",
              "       [6.58730837e-03, 1.05270243e-04, 7.97941685e-01, 2.75033563e-06,\n",
              "        1.82125285e-01, 1.19824475e-02, 1.25521445e-03],\n",
              "       [9.09482181e-01, 1.31819816e-03, 6.01103492e-02, 9.91475099e-06,\n",
              "        2.17467248e-02, 5.62992506e-03, 1.70267816e-03],\n",
              "       [4.17881068e-07, 1.61618664e-04, 6.82367754e-05, 9.71825242e-01,\n",
              "        2.26990618e-02, 4.83013893e-04, 4.76242742e-03],\n",
              "       [1.57190513e-07, 1.26658233e-05, 2.46298405e-05, 9.97858822e-01,\n",
              "        9.42321421e-05, 1.81139959e-03, 1.98115100e-04],\n",
              "       [1.45326495e-01, 8.88644718e-03, 2.63743810e-02, 3.66144435e-04,\n",
              "        3.15121949e-01, 5.24826311e-02, 4.51441914e-01],\n",
              "       [4.44445439e-04, 1.34439819e-04, 1.60824265e-02, 5.09136021e-02,\n",
              "        7.60263383e-01, 1.29565090e-01, 4.25965860e-02],\n",
              "       [9.27776824e-08, 1.84331093e-05, 1.43827701e-05, 9.95959103e-01,\n",
              "        2.12292303e-03, 9.82559170e-04, 9.02414322e-04],\n",
              "       [4.09219723e-07, 1.40959373e-05, 4.68055066e-03, 8.92202675e-01,\n",
              "        9.60975587e-02, 6.34178706e-03, 6.62884850e-04],\n",
              "       [2.33898227e-05, 7.68312253e-03, 7.39740999e-03, 1.75366029e-01,\n",
              "        5.98322272e-01, 8.30195146e-04, 2.10377574e-01],\n",
              "       [8.39588756e-06, 1.90196646e-04, 1.51458278e-03, 7.92624336e-03,\n",
              "        1.50461674e-01, 3.89621896e-03, 8.36002648e-01],\n",
              "       [5.15011834e-07, 7.55222165e-04, 5.74450678e-05, 9.96362984e-01,\n",
              "        3.39323713e-04, 1.95074023e-03, 5.33776416e-04],\n",
              "       [1.40807359e-04, 3.22659544e-05, 4.10857471e-03, 1.53013408e-01,\n",
              "        3.78250450e-01, 4.35364306e-01, 2.90902462e-02],\n",
              "       [1.59487085e-04, 2.22630697e-04, 2.95278151e-03, 9.42249954e-01,\n",
              "        4.10422171e-03, 4.00402360e-02, 1.02706719e-02],\n",
              "       [2.08520549e-04, 2.26750300e-04, 4.92005274e-02, 2.33026341e-01,\n",
              "        6.50556326e-01, 8.99089221e-03, 5.77905923e-02],\n",
              "       [2.57426919e-03, 1.58780615e-03, 4.92090322e-02, 8.65438953e-02,\n",
              "        5.15774131e-01, 2.66107023e-01, 7.82037824e-02],\n",
              "       [2.20755145e-01, 1.08389395e-04, 3.32711786e-01, 9.11399126e-02,\n",
              "        1.87763125e-02, 3.26408416e-01, 1.01000937e-02],\n",
              "       [9.39707097e-05, 3.62304598e-01, 1.10281128e-02, 5.92347309e-02,\n",
              "        3.26608121e-01, 2.32959557e-02, 2.17434451e-01],\n",
              "       [6.57052533e-06, 1.04912417e-03, 5.35593426e-04, 9.14397687e-02,\n",
              "        8.09688628e-01, 2.67398562e-02, 7.05403760e-02],\n",
              "       [3.88230383e-03, 2.38227402e-03, 3.45001370e-02, 9.85995575e-05,\n",
              "        1.05368011e-01, 8.51778030e-01, 1.99069199e-03],\n",
              "       [1.31397322e-01, 9.15735262e-04, 5.10287918e-02, 2.81072753e-05,\n",
              "        7.51908660e-01, 1.15146013e-02, 5.32067344e-02],\n",
              "       [1.53947875e-01, 1.07039763e-04, 1.33560494e-01, 1.73600347e-05,\n",
              "        6.72381282e-01, 3.24058458e-02, 7.58008612e-03],\n",
              "       [2.49424338e-01, 6.57191151e-04, 1.70324221e-02, 1.02068102e-02,\n",
              "        4.76680160e-01, 3.35172042e-02, 2.12481856e-01],\n",
              "       [4.75057846e-07, 1.51843487e-04, 9.91042354e-04, 9.65666771e-01,\n",
              "        1.88653525e-02, 1.31639950e-02, 1.16053084e-03],\n",
              "       [1.21502603e-06, 7.42655466e-05, 7.43720727e-03, 2.84291077e-02,\n",
              "        9.11353528e-01, 6.29717577e-03, 4.64075170e-02],\n",
              "       [1.47205742e-06, 7.95269269e-04, 6.37294201e-04, 7.59900331e-01,\n",
              "        2.25218028e-01, 1.40042440e-03, 1.20473066e-02],\n",
              "       [1.52842939e-01, 3.38871509e-01, 5.02557270e-02, 8.45268078e-05,\n",
              "        3.15952212e-01, 1.04135789e-01, 3.78574170e-02],\n",
              "       [8.96210670e-01, 2.08676439e-02, 4.38613668e-02, 7.22521823e-03,\n",
              "        2.13267747e-03, 2.80954782e-02, 1.60696649e-03],\n",
              "       [2.05291872e-06, 6.15918834e-04, 7.64369150e-04, 9.91963029e-01,\n",
              "        3.44444718e-03, 2.71718809e-03, 4.93006490e-04],\n",
              "       [2.58628774e-07, 6.54903939e-04, 7.25448539e-04, 3.36392899e-03,\n",
              "        9.78313863e-01, 5.80479209e-05, 1.68835279e-02],\n",
              "       [3.91582638e-01, 6.42740447e-03, 3.57757926e-01, 2.80872732e-02,\n",
              "        2.25099251e-02, 1.53547823e-01, 4.00870927e-02],\n",
              "       [7.37663475e-04, 4.34294780e-04, 7.63470726e-03, 9.87205952e-02,\n",
              "        9.37815057e-04, 8.68775189e-01, 2.27597393e-02],\n",
              "       [5.81810400e-06, 6.53274299e-04, 6.54496849e-02, 2.69821212e-02,\n",
              "        8.45544517e-01, 4.20841984e-02, 1.92805137e-02],\n",
              "       [5.13612526e-04, 9.99091426e-05, 2.51974016e-01, 7.95675733e-05,\n",
              "        7.22381353e-01, 2.34026331e-02, 1.54882332e-03],\n",
              "       [2.88617361e-04, 7.07460975e-04, 1.45828463e-02, 1.68187786e-02,\n",
              "        1.08802523e-02, 7.05218911e-01, 2.51503110e-01],\n",
              "       [1.97083186e-02, 8.48868920e-04, 7.15201907e-03, 2.82605598e-03,\n",
              "        9.52443719e-01, 3.40290577e-03, 1.36181545e-02],\n",
              "       [4.52971726e-04, 1.54766567e-05, 4.02820471e-04, 3.79377254e-03,\n",
              "        7.25084799e-04, 9.93695080e-01, 9.14767967e-04]], dtype=float32)"
            ]
          },
          "metadata": {},
          "execution_count": 80
        }
      ]
    },
    {
      "cell_type": "code",
      "source": [
        "y_pred_test_class "
      ],
      "metadata": {
        "id": "ph-j4nBsAxjT",
        "colab": {
          "base_uri": "https://localhost:8080/"
        },
        "outputId": "080fb679-66cd-4f77-d7ab-65cfffffacb7"
      },
      "execution_count": 81,
      "outputs": [
        {
          "output_type": "execute_result",
          "data": {
            "text/plain": [
              "array([0, 4, 4, 2, 3, 5, 4, 4, 6, 4, 4, 4, 5, 6, 2, 5, 2, 0, 3, 3, 6, 4,\n",
              "       3, 3, 4, 6, 3, 5, 3, 4, 4, 2, 1, 4, 5, 4, 4, 4, 3, 4, 3, 1, 0, 3,\n",
              "       4, 0, 5, 4, 4, 5, 4, 5])"
            ]
          },
          "metadata": {},
          "execution_count": 81
        }
      ]
    },
    {
      "cell_type": "markdown",
      "source": [
        "### Test Set Confusion Matrix and Heatmap"
      ],
      "metadata": {
        "id": "Epp2QpxsUVXH"
      }
    },
    {
      "cell_type": "code",
      "source": [
        "# Test set Confusion matrix\n",
        "\n",
        "cm=confusion_matrix(y_test_class, y_pred_test_class)\n",
        "\n",
        "index = ['calm', 'happy', 'sad', 'angry', 'fearful', 'disgust', 'surprised']  \n",
        "columns = ['calm', 'happy', 'sad', 'angry', 'fearful', 'disgust', 'surprised']  \n",
        " \n",
        "cm_df = pd.DataFrame(cm,index,columns)                      \n",
        "plt.figure(figsize=(12,8))\n",
        "ax = plt.axes()\n",
        "\n",
        "sns.heatmap(cm_df, ax = ax, cmap = 'BuGn', fmt=\"d\", annot=True)\n",
        "ax.set_ylabel('True emotion')\n",
        "ax.set_xlabel('Predicted emotion')"
      ],
      "metadata": {
        "id": "ukGrk_cagzyb",
        "colab": {
          "base_uri": "https://localhost:8080/",
          "height": 518
        },
        "outputId": "a10cae23-e2db-42c2-c5cd-ccbc8fae085a"
      },
      "execution_count": 82,
      "outputs": [
        {
          "output_type": "execute_result",
          "data": {
            "text/plain": [
              "Text(0.5, 51.0, 'Predicted emotion')"
            ]
          },
          "metadata": {},
          "execution_count": 82
        },
        {
          "output_type": "display_data",
          "data": {
            "text/plain": [
              "<Figure size 864x576 with 2 Axes>"
            ],
            "image/png": "[encoded data removed]"
          },
          "metadata": {
            "needs_background": "light"
          }
        }
      ]
    },
    {
      "cell_type": "code",
      "source": [
        "# Confusion Matrix\n",
        "cm"
      ],
      "metadata": {
        "id": "9f51xwUE8haF",
        "colab": {
          "base_uri": "https://localhost:8080/"
        },
        "outputId": "baab8cbb-4988-4722-85a6-1aeefd77baa5"
      },
      "execution_count": 83,
      "outputs": [
        {
          "output_type": "execute_result",
          "data": {
            "text/plain": [
              "array([[4, 0, 2, 0, 3, 1, 0],\n",
              "       [0, 1, 0, 0, 1, 0, 0],\n",
              "       [0, 0, 1, 1, 5, 1, 1],\n",
              "       [0, 0, 0, 6, 3, 1, 0],\n",
              "       [0, 0, 0, 0, 6, 0, 1],\n",
              "       [0, 0, 1, 1, 0, 5, 2],\n",
              "       [0, 1, 0, 2, 2, 0, 0]])"
            ]
          },
          "metadata": {},
          "execution_count": 83
        }
      ]
    },
    {
      "cell_type": "markdown",
      "source": [
        "### Test Set Predicted emotions accuracy"
      ],
      "metadata": {
        "id": "zil3CkweUX0q"
      }
    },
    {
      "cell_type": "code",
      "source": [
        "# Test set prediction accuracy rates\n",
        "\n",
        "values = cm.diagonal()\n",
        "row_sum = np.sum(cm,axis=1)\n",
        "acc = values / row_sum\n",
        "\n",
        "print('Test set predicted emotions accuracy:')\n",
        "for e in range(0, len(values)):\n",
        "    print(index[e],':', f\"{(acc[e]):0.4f}\")"
      ],
      "metadata": {
        "id": "t_ORyGGig090",
        "colab": {
          "base_uri": "https://localhost:8080/"
        },
        "outputId": "5e8f9ab0-375d-4751-8db0-876a72faac5c"
      },
      "execution_count": 84,
      "outputs": [
        {
          "output_type": "stream",
          "name": "stdout",
          "text": [
            "Test set predicted emotions accuracy:\n",
            "calm : 0.4000\n",
            "happy : 0.5000\n",
            "sad : 0.1111\n",
            "angry : 0.6000\n",
            "fearful : 0.8571\n",
            "disgust : 0.5556\n",
            "surprised : 0.0000\n"
          ]
        }
      ]
    },
    {
      "cell_type": "markdown",
      "source": [
        "### Precision, Recal, Fscore"
      ],
      "metadata": {
        "id": "8Hzthv1t8kwd"
      }
    },
    {
      "cell_type": "code",
      "source": [
        "# Validation set precision, recall, fscore\n",
        "\n",
        "precision_recall_fscore_support(y_test_class, y_pred_test_class, average='macro')\n"
      ],
      "metadata": {
        "id": "QnwWoVFnh33F",
        "colab": {
          "base_uri": "https://localhost:8080/"
        },
        "outputId": "492c3253-13a1-4d71-9883-40458b77e633"
      },
      "execution_count": 85,
      "outputs": [
        {
          "output_type": "execute_result",
          "data": {
            "text/plain": [
              "(0.46785714285714286, 0.43197278911564624, 0.40827920911954524, None)"
            ]
          },
          "metadata": {},
          "execution_count": 85
        }
      ]
    },
    {
      "cell_type": "code",
      "source": [
        "precision_recall_fscore_support(y_test_class, y_pred_test_class, average='weighted')"
      ],
      "metadata": {
        "id": "OlDhuPlqzwVB",
        "colab": {
          "base_uri": "https://localhost:8080/"
        },
        "outputId": "7031830d-7d11-4156-8200-ca9caf465511"
      },
      "execution_count": 86,
      "outputs": [
        {
          "output_type": "execute_result",
          "data": {
            "text/plain": [
              "(0.51875, 0.4423076923076923, 0.43277172802059677, None)"
            ]
          },
          "metadata": {},
          "execution_count": 86
        }
      ]
    },
    {
      "cell_type": "markdown",
      "source": [
        "### ROC AUC Score"
      ],
      "metadata": {
        "id": "sEuBd9IyLuiD"
      }
    },
    {
      "cell_type": "code",
      "source": [
        "ravdess_df = pd.read_csv (df_path)"
      ],
      "metadata": {
        "id": "8bb4OSmyTO6v"
      },
      "execution_count": 87,
      "outputs": []
    },
    {
      "cell_type": "code",
      "source": [
        "labels = [\"calm\", \"happy\", \"sad\", \"angry\", \"fear\", \"disgust\", \"suprised\"]"
      ],
      "metadata": {
        "id": "1leZ4JGVTfTp"
      },
      "execution_count": 88,
      "outputs": []
    },
    {
      "cell_type": "code",
      "source": [
        "y_test_adj = y_test.reshape(-1,)"
      ],
      "metadata": {
        "id": "MRm1ZwnxFStc"
      },
      "execution_count": 89,
      "outputs": []
    },
    {
      "cell_type": "code",
      "source": [
        "y_proba_test_class.shape"
      ],
      "metadata": {
        "id": "O-IcYOABFjxB",
        "colab": {
          "base_uri": "https://localhost:8080/"
        },
        "outputId": "1a10021d-0bd9-4fb7-dc8d-9ad7b9e33521"
      },
      "execution_count": 90,
      "outputs": [
        {
          "output_type": "execute_result",
          "data": {
            "text/plain": [
              "(52, 7)"
            ]
          },
          "metadata": {},
          "execution_count": 90
        }
      ]
    },
    {
      "cell_type": "code",
      "source": [
        "y_test.shape"
      ],
      "metadata": {
        "id": "9AaqUY3PIlMQ",
        "colab": {
          "base_uri": "https://localhost:8080/"
        },
        "outputId": "945a0142-1b9c-458e-a877-efb915ab2dcd"
      },
      "execution_count": 91,
      "outputs": [
        {
          "output_type": "execute_result",
          "data": {
            "text/plain": [
              "(52, 1)"
            ]
          },
          "metadata": {},
          "execution_count": 91
        }
      ]
    },
    {
      "cell_type": "code",
      "source": [
        "y_test_adj"
      ],
      "metadata": {
        "id": "7LgDudYTKInS",
        "colab": {
          "base_uri": "https://localhost:8080/"
        },
        "outputId": "994b4897-b96e-4c20-ae73-aebbdeb5550b"
      },
      "execution_count": 92,
      "outputs": [
        {
          "output_type": "execute_result",
          "data": {
            "text/plain": [
              "array([0, 2, 6, 5, 3, 3, 2, 4, 4, 3, 6, 2, 0, 5, 0, 5, 0, 0, 6, 3, 5, 3,\n",
              "       3, 3, 4, 2, 5, 5, 2, 1, 4, 2, 6, 3, 2, 4, 0, 0, 3, 4, 6, 1, 0, 3,\n",
              "       2, 0, 5, 2, 4, 5, 0, 5], dtype=int8)"
            ]
          },
          "metadata": {},
          "execution_count": 92
        }
      ]
    },
    {
      "cell_type": "code",
      "source": [
        "\n",
        "\n",
        "macro_roc_auc_ovo = roc_auc_score(y_test_adj, y_proba_test_class, multi_class=\"ovo\", average=\"macro\")\n",
        "weighted_roc_auc_ovo = roc_auc_score(\n",
        "    y_test_adj, y_proba_test_class, multi_class=\"ovo\", average=\"weighted\"\n",
        ")\n",
        "macro_roc_auc_ovr = roc_auc_score(y_test_adj, y_proba_test_class, multi_class=\"ovr\", average=\"macro\")\n",
        "weighted_roc_auc_ovr = roc_auc_score(\n",
        "    y_test_adj, y_proba_test_class, multi_class=\"ovr\", average=\"weighted\"\n",
        ")\n"
      ],
      "metadata": {
        "id": "oMa4N8EhHlY9"
      },
      "execution_count": 93,
      "outputs": []
    },
    {
      "cell_type": "code",
      "source": [
        "print(\"One-vs-One ROC AUC scores:\\n{:.6f} (macro),\\n{:.6f} \" \"(weighted by prevalence)\\n\".format(macro_roc_auc_ovo, weighted_roc_auc_ovo))\n",
        "print(\"One-vs-Rest ROC AUC scores:\\n{:.6f} (macro),\\n{:.6f} \" \"(weighted by prevalence)\".format(macro_roc_auc_ovr, weighted_roc_auc_ovr))"
      ],
      "metadata": {
        "id": "hhBLwtO_ICqL",
        "colab": {
          "base_uri": "https://localhost:8080/"
        },
        "outputId": "5369c079-447b-42b0-decf-0b9515452ae2"
      },
      "execution_count": 94,
      "outputs": [
        {
          "output_type": "stream",
          "name": "stdout",
          "text": [
            "One-vs-One ROC AUC scores:\n",
            "0.754587 (macro),\n",
            "0.768590 (weighted by prevalence)\n",
            "\n",
            "One-vs-Rest ROC AUC scores:\n",
            "0.763202 (macro),\n",
            "0.784689 (weighted by prevalence)\n"
          ]
        }
      ]
    }
  ]
}