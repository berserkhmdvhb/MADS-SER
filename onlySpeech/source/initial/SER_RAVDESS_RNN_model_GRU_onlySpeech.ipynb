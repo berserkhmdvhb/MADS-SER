{
  "metadata": {
    "kernelspec": {
      "language": "python",
      "display_name": "Python 3",
      "name": "python3"
    },
    "language_info": {
      "pygments_lexer": "ipython3",
      "nbconvert_exporter": "python",
      "version": "3.6.4",
      "file_extension": ".py",
      "codemirror_mode": {
        "name": "ipython",
        "version": 3
      },
      "name": "python",
      "mimetype": "text/x-python"
    },
    "colab": {
      "name": "SER-RAVDESS-RNN-model-GRU-onlySpeech.ipynb",
      "provenance": [],
      "collapsed_sections": [
        "anSyerIFN7qd"
      ]
    }
  },
  "nbformat_minor": 0,
  "nbformat": 4,
  "cells": [
    {
      "cell_type": "markdown",
      "source": [
        "# Imports"
      ],
      "metadata": {
        "id": "anSyerIFN7qd"
      }
    },
    {
      "cell_type": "code",
      "source": [
        "# Importing Libraries"
      ],
      "metadata": {
        "id": "IMFSwIuvKiw2"
      },
      "execution_count": 54,
      "outputs": []
    },
    {
      "cell_type": "code",
      "source": [
        "!pip install json-tricks"
      ],
      "metadata": {
        "colab": {
          "base_uri": "https://localhost:8080/"
        },
        "id": "bBR8aNsmM2tR",
        "outputId": "5f50a490-5adc-42e7-efc6-d0b1503b6a26"
      },
      "execution_count": 55,
      "outputs": [
        {
          "output_type": "stream",
          "name": "stdout",
          "text": [
            "Looking in indexes: https://pypi.org/simple, https://us-python.pkg.dev/colab-wheels/public/simple/\n",
            "Requirement already satisfied: json-tricks in /usr/local/lib/python3.7/dist-packages (3.15.5)\n"
          ]
        }
      ]
    },
    {
      "cell_type": "code",
      "source": [
        "import pandas as pd\n",
        "import numpy as np\n",
        "\n",
        "import os\n",
        "import sys\n",
        "\n",
        "import librosa\n",
        "import librosa.display\n",
        "#from pydub import AudioSegment, effects\n",
        "#import noisereduce as nr\n",
        "\n",
        "\n",
        "import seaborn as sns\n",
        "import matplotlib.pyplot as plt\n",
        "from IPython.display import Audio\n",
        "\n",
        "import tensorflow as tf\n",
        "import keras\n",
        "import sklearn\n",
        "\n",
        "\n",
        "from tensorflow.keras.models import Sequential, Model\n",
        "from tensorflow.keras.layers import Dense, LSTM, Flatten, Dropout, BatchNormalization\n",
        "from tensorflow.keras.callbacks import ModelCheckpoint, EarlyStopping, ReduceLROnPlateau\n",
        "from tensorflow.keras.optimizers import Adam, SGD\n",
        "from tensorflow.keras.utils import to_categorical, plot_model\n",
        "\n",
        "\n",
        "from keras.models import Sequential, model_from_json, load_model\n",
        "from keras import layers\n",
        "from keras import optimizers\n",
        "from keras import callbacks\n",
        "\n",
        "from sklearn.preprocessing import StandardScaler, OneHotEncoder, LabelEncoder\n",
        "from sklearn.metrics import confusion_matrix, classification_report, precision_recall_fscore_support, roc_auc_score\n",
        "from sklearn.model_selection import train_test_split, StratifiedShuffleSplit\n",
        "from sklearn.multiclass import OneVsRestClassifier\n",
        "\n",
        "\n",
        "from tqdm import tqdm\n",
        "\n",
        "\n",
        "from json_tricks import dump, load\n",
        "\n",
        "\n",
        "\n",
        "import warnings\n",
        "if not sys.warnoptions:\n",
        "    warnings.simplefilter(\"ignore\")\n",
        "warnings.filterwarnings(\"ignore\", category=DeprecationWarning) \n",
        "\n",
        "import time\n",
        "tic = time.perf_counter()\n",
        "\n"
      ],
      "metadata": {
        "id": "77IS8HxqFFCA"
      },
      "execution_count": 56,
      "outputs": []
    },
    {
      "cell_type": "code",
      "source": [
        ""
      ],
      "metadata": {
        "id": "gGYqBIk0FGm4"
      },
      "execution_count": 56,
      "outputs": []
    },
    {
      "cell_type": "markdown",
      "source": [
        "# Dataset"
      ],
      "metadata": {
        "id": "nyMzoZKKKiw6"
      }
    },
    {
      "cell_type": "code",
      "source": [
        "from google.colab import drive\n",
        "drive.mount('/content/drive')"
      ],
      "metadata": {
        "colab": {
          "base_uri": "https://localhost:8080/"
        },
        "id": "JFPDGXmwCBs_",
        "outputId": "02ea6974-d67c-4469-bb51-5eddc253cd67"
      },
      "execution_count": 57,
      "outputs": [
        {
          "output_type": "stream",
          "name": "stdout",
          "text": [
            "Drive already mounted at /content/drive; to attempt to forcibly remount, call drive.mount(\"/content/drive\", force_remount=True).\n"
          ]
        }
      ]
    },
    {
      "cell_type": "code",
      "source": [
        "#Crema = \"/content/drive/MyDrive/datasets/speech/CREMAD/sample/\"\n",
        "#Crema = \"/content/drive/MyDrive/datasets/speech/CREMAD/AudioWAV/\"\n",
        "Ravdess = \"/content/drive/MyDrive/datasets/speech/RAVDESS/data/Audio_Speech_Actors_01-24\"\n",
        "Ravdess_processed = \"/content/drive/MyDrive/datasets/speech/RAVDESS/processedData/onlySpeech/\"\n",
        "Ravdess_speech_sample = \"/content/drive/MyDrive/datasets/speech/RAVDESS/data/Audio_Speech_Actors_01-24/\"\n",
        "df_path = \"/content/drive/MyDrive/datasets/speech/RAVDESS/ravdess_df_onlySpeech.csv\"\n",
        "model_path = Ravdess + \"/model/\"\n",
        "\n",
        "checkpoint_path = model_path + \"best_weights-os-GRU-1.hdf5\"\n",
        "saved_model_path = model_path + 'model8723-os-GRU-1.json'\n",
        "\n",
        "saved_weights_path = model_path + 'model8723_weights-os-GRU-1.h5'\n",
        "saved_model_path_2 = model_path + 'Speech-Emotion-Recognition-Model-os-GRU-1.h5'"
      ],
      "metadata": {
        "execution": {
          "iopub.status.busy": "2021-06-21T09:35:38.093538Z",
          "iopub.execute_input": "2021-06-21T09:35:38.093869Z",
          "iopub.status.idle": "2021-06-21T09:35:38.097467Z",
          "shell.execute_reply.started": "2021-06-21T09:35:38.093838Z",
          "shell.execute_reply": "2021-06-21T09:35:38.096608Z"
        },
        "trusted": true,
        "id": "vR2GjHL4Kiw7"
      },
      "execution_count": 58,
      "outputs": []
    },
    {
      "cell_type": "code",
      "source": [
        ""
      ],
      "metadata": {
        "id": "J2T6JxzIF2Jq"
      },
      "execution_count": 58,
      "outputs": []
    },
    {
      "cell_type": "code",
      "source": [
        "##Hypter Parameters' Range\n",
        "params = {\n",
        "    \"batch_size\": 20,  # 20<16<10, 25 was a bust\n",
        "    \"epochs\": 300,\n",
        "    \"lr\": 0.00010000,\n",
        "    \"time_steps\": 60\n",
        "}\n",
        "#TIME_STEPS = params[\"time_steps\"]\n",
        "#BATCH_SIZE = params[\"batch_size\"]\n",
        "#iter_changes = \"dropout_layers_0.4_0.4\"\n"
      ],
      "metadata": {
        "id": "jnEd5_Vvy4ue"
      },
      "execution_count": 59,
      "outputs": []
    },
    {
      "cell_type": "code",
      "source": [
        ""
      ],
      "metadata": {
        "id": "dKXM0xT-N8uy"
      },
      "execution_count": 59,
      "outputs": []
    },
    {
      "cell_type": "markdown",
      "source": [
        "# Load Processed Files, Construct Train, Validation and Test Sets"
      ],
      "metadata": {
        "id": "fse_mTpaOGdQ"
      }
    },
    {
      "cell_type": "code",
      "source": [
        "\n",
        "processed_path = Ravdess_processed\n",
        "x_path = processed_path + \"X_features.json\" # FILE LOAD PATH\n",
        "y_path =  processed_path + \"Y_labels.json\" # FILE SAVE PATH\n",
        "#x_path = '/content/drive/MyDrive/datasets/speech/RAVDESS/processedData/X_features.json'\n",
        "\n",
        "# Load X,Y json files back into lists, convert to np.arrays\n",
        "\n",
        "X = load(x_path)\n",
        "X = np.asarray(X, dtype = 'float32')\n",
        "\n",
        "Y = load(y_path)\n",
        "Y = np.asarray(Y, dtype = 'int8')"
      ],
      "metadata": {
        "id": "101BpvWgN8xX"
      },
      "execution_count": 60,
      "outputs": []
    },
    {
      "cell_type": "code",
      "source": [
        "# Split to train, validation, and test sets.\n",
        "from sklearn.model_selection import train_test_split\n",
        "# 1st Split: X,Y => (x_train, x_tosplit) (y_train, y_tosplit)\n",
        "x_train, x_tosplit, y_train, y_tosplit = train_test_split(X, Y, test_size = 0.125, random_state = 1)\n",
        "# 2nd Split: x_tosplit,y_tosplit => (x_val, x_test) (y_val, y_test) \n",
        "x_val, x_test, y_val, y_test = train_test_split(x_tosplit, y_tosplit, test_size = 0.304, random_state = 1)\n",
        "#'One-hot' vectors for Y: emotion classification\n",
        "y_train_class = tf.keras.utils.to_categorical(y_train, 7, dtype = 'int8')\n",
        "y_val_class = tf.keras.utils.to_categorical(y_val, 7, dtype = 'int8')"
      ],
      "metadata": {
        "id": "CuF9M1mfOD7X"
      },
      "execution_count": 61,
      "outputs": []
    },
    {
      "cell_type": "code",
      "source": [
        "# x_train, x_val, and x_test shape check.\n",
        "print(np.shape(x_train))\n",
        "print(np.shape(x_val))\n",
        "print(np.shape(x_test))"
      ],
      "metadata": {
        "colab": {
          "base_uri": "https://localhost:8080/"
        },
        "id": "od-D1YgBOGXs",
        "outputId": "0a68df50-4118-4789-b18d-5f7bd1718bc2"
      },
      "execution_count": 62,
      "outputs": [
        {
          "output_type": "stream",
          "name": "stdout",
          "text": [
            "(1176, 448, 15)\n",
            "(116, 448, 15)\n",
            "(52, 448, 15)\n"
          ]
        }
      ]
    },
    {
      "cell_type": "code",
      "source": [
        "# Save x_test, y_test to JSON.\n",
        "\n",
        "x_test_path = processed_path + 'x_test_data.json'\n",
        "dump(obj = x_test, fp = x_test_path)\n",
        "\n",
        "y_test_path = processed_path + 'y_test_data.json'\n",
        "dump(obj = y_test, fp = y_test_path)"
      ],
      "metadata": {
        "colab": {
          "base_uri": "https://localhost:8080/",
          "height": 70
        },
        "id": "nTExHJVsOHQ5",
        "outputId": "c632914d-dc47-47e1-e5fe-cdf585d01d3a"
      },
      "execution_count": 63,
      "outputs": [
        {
          "output_type": "execute_result",
          "data": {
            "text/plain": [
              "'{\"__ndarray__\": [[0], [2], [6], [5], [3], [3], [2], [4], [4], [3], [6], [2], [0], [5], [0], [5], [0], [0], [6], [3], [5], [3], [3], [3], [4], [2], [5], [5], [2], [1], [4], [2], [6], [3], [2], [4], [0], [0], [3], [4], [6], [1], [0], [3], [2], [0], [5], [2], [4], [5], [0], [5]], \"dtype\": \"int8\", \"shape\": [52, 1], \"Corder\": true}'"
            ],
            "application/vnd.google.colaboratory.intrinsic+json": {
              "type": "string"
            }
          },
          "metadata": {},
          "execution_count": 63
        }
      ]
    },
    {
      "cell_type": "code",
      "source": [
        "# Loading x_test, y_test json files, and converting to np.arrays\n",
        "\n",
        "x_test = load(processed_path + 'x_test_data.json')\n",
        "x_test = np.asarray(x_test).astype('float32')\n",
        "\n",
        "y_test = load(processed_path + 'y_test_data.json')\n",
        "y_test = np.asarray(y_test).astype('int8')\n",
        "\n",
        "y_test_class = tf.keras.utils.to_categorical(y_test, 7, dtype = 'int8')"
      ],
      "metadata": {
        "id": "kAFBRsmk5dzm"
      },
      "execution_count": 64,
      "outputs": []
    },
    {
      "cell_type": "code",
      "source": [
        "X.shape"
      ],
      "metadata": {
        "id": "15joCR4gu4r7",
        "colab": {
          "base_uri": "https://localhost:8080/"
        },
        "outputId": "73d5a0e7-e8bb-41db-ad12-46d9e8aeed0f"
      },
      "execution_count": 65,
      "outputs": [
        {
          "output_type": "execute_result",
          "data": {
            "text/plain": [
              "(1344, 448, 15)"
            ]
          },
          "metadata": {},
          "execution_count": 65
        }
      ]
    },
    {
      "cell_type": "code",
      "source": [
        "X.shape[1:3]"
      ],
      "metadata": {
        "colab": {
          "base_uri": "https://localhost:8080/"
        },
        "id": "8MQhoPKjEzi4",
        "outputId": "77130752-58d4-4faf-88fa-bccb80f68581"
      },
      "execution_count": 66,
      "outputs": [
        {
          "output_type": "execute_result",
          "data": {
            "text/plain": [
              "(448, 15)"
            ]
          },
          "metadata": {},
          "execution_count": 66
        }
      ]
    },
    {
      "cell_type": "markdown",
      "source": [
        "# RNN Model"
      ],
      "metadata": {
        "id": "gnWVMbR6KixC"
      }
    },
    {
      "cell_type": "code",
      "source": [
        "tic"
      ],
      "metadata": {
        "colab": {
          "base_uri": "https://localhost:8080/"
        },
        "id": "7CHZWdfcN8oo",
        "outputId": "eb3e3006-07d7-44a6-8633-903db6e0d8b5"
      },
      "execution_count": 67,
      "outputs": [
        {
          "output_type": "execute_result",
          "data": {
            "text/plain": [
              "5375.270039637"
            ]
          },
          "metadata": {},
          "execution_count": 67
        }
      ]
    },
    {
      "cell_type": "markdown",
      "source": [
        "## Define Model & Training"
      ],
      "metadata": {
        "id": "GJjJYnJQORJ8"
      }
    },
    {
      "cell_type": "code",
      "source": [
        "# Initializing the model\n",
        "\n",
        "model = Sequential()\n",
        "model.add(layers.GRU(128, return_sequences = True, input_shape=(X.shape[1:3])))\n",
        "model.add(layers.GRU(64))\n",
        "model.add(layers.Dense(7, activation = 'softmax'))\n",
        "print(model.summary())\n",
        "\n",
        "batch_size = 23\n",
        "\n",
        "# Callbacks functions\n",
        "\n",
        "#-> EearlyStopping\n",
        "es = EarlyStopping(monitor='val_loss', mode='min', verbose=1,\n",
        "                    patience=10, min_delta=0.0001)\n",
        "\n",
        "\n",
        "#-> Save the best weights\n",
        "mcp_save = callbacks.ModelCheckpoint(checkpoint_path, save_best_only=True,\n",
        "                           monitor='val_categorical_accuracy',\n",
        "                           mode='max')\n",
        "#-> Reduce learning rate after 100 epoches without improvement.\n",
        "rlrop = callbacks.ReduceLROnPlateau(monitor='val_categorical_accuracy', \n",
        "                                    factor=0.1, patience=20)\n",
        "                             \n",
        "# Compile & train   \n",
        "model.compile(loss='categorical_crossentropy', \n",
        "                optimizer='RMSProp', \n",
        "                metrics=['categorical_accuracy'])\n",
        "\n",
        "\n"
      ],
      "metadata": {
        "colab": {
          "base_uri": "https://localhost:8080/"
        },
        "id": "aD2adyVGOJs4",
        "outputId": "1559de61-52e7-48b7-b4de-9eae593288c6"
      },
      "execution_count": 68,
      "outputs": [
        {
          "output_type": "stream",
          "name": "stdout",
          "text": [
            "Model: \"sequential_1\"\n",
            "_________________________________________________________________\n",
            " Layer (type)                Output Shape              Param #   \n",
            "=================================================================\n",
            " gru_2 (GRU)                 (None, 448, 128)          55680     \n",
            "                                                                 \n",
            " gru_3 (GRU)                 (None, 64)                37248     \n",
            "                                                                 \n",
            " dense_1 (Dense)             (None, 7)                 455       \n",
            "                                                                 \n",
            "=================================================================\n",
            "Total params: 93,383\n",
            "Trainable params: 93,383\n",
            "Non-trainable params: 0\n",
            "_________________________________________________________________\n",
            "None\n"
          ]
        }
      ]
    },
    {
      "cell_type": "code",
      "source": [
        ""
      ],
      "metadata": {
        "id": "4DBF6kqx-OHZ"
      },
      "execution_count": 68,
      "outputs": []
    },
    {
      "cell_type": "code",
      "source": [
        "history = model.fit(x_train, y_train_class, \n",
        "                      epochs=340, batch_size = batch_size, \n",
        "                      validation_data = (x_val, y_val_class), \n",
        "                      callbacks = [es, mcp_save, rlrop])\n",
        "toc = time.perf_counter()"
      ],
      "metadata": {
        "colab": {
          "base_uri": "https://localhost:8080/"
        },
        "id": "Da7Gc9x_izth",
        "outputId": "02c92b30-face-4cbb-fe88-7035c485eb80"
      },
      "execution_count": 69,
      "outputs": [
        {
          "output_type": "stream",
          "name": "stdout",
          "text": [
            "Epoch 1/340\n",
            "52/52 [==============================] - 34s 574ms/step - loss: 1.9554 - categorical_accuracy: 0.1803 - val_loss: 1.9759 - val_categorical_accuracy: 0.2155 - lr: 0.0010\n",
            "Epoch 2/340\n",
            "52/52 [==============================] - 30s 569ms/step - loss: 1.8299 - categorical_accuracy: 0.2466 - val_loss: 1.8361 - val_categorical_accuracy: 0.2586 - lr: 0.0010\n",
            "Epoch 3/340\n",
            "52/52 [==============================] - 30s 583ms/step - loss: 1.7354 - categorical_accuracy: 0.2942 - val_loss: 1.7864 - val_categorical_accuracy: 0.2931 - lr: 0.0010\n",
            "Epoch 4/340\n",
            "52/52 [==============================] - 29s 559ms/step - loss: 1.7081 - categorical_accuracy: 0.3206 - val_loss: 1.9844 - val_categorical_accuracy: 0.1638 - lr: 0.0010\n",
            "Epoch 5/340\n",
            "52/52 [==============================] - 29s 558ms/step - loss: 1.6794 - categorical_accuracy: 0.3384 - val_loss: 1.8799 - val_categorical_accuracy: 0.2586 - lr: 0.0010\n",
            "Epoch 6/340\n",
            "52/52 [==============================] - 29s 558ms/step - loss: 1.6679 - categorical_accuracy: 0.3537 - val_loss: 1.7348 - val_categorical_accuracy: 0.2845 - lr: 0.0010\n",
            "Epoch 7/340\n",
            "52/52 [==============================] - 29s 567ms/step - loss: 1.6498 - categorical_accuracy: 0.3605 - val_loss: 2.1305 - val_categorical_accuracy: 0.2241 - lr: 0.0010\n",
            "Epoch 8/340\n",
            "52/52 [==============================] - 29s 565ms/step - loss: 1.6189 - categorical_accuracy: 0.3648 - val_loss: 1.8466 - val_categorical_accuracy: 0.2414 - lr: 0.0010\n",
            "Epoch 9/340\n",
            "52/52 [==============================] - 30s 572ms/step - loss: 1.5806 - categorical_accuracy: 0.3631 - val_loss: 1.7585 - val_categorical_accuracy: 0.3017 - lr: 0.0010\n",
            "Epoch 10/340\n",
            "52/52 [==============================] - 30s 582ms/step - loss: 1.5116 - categorical_accuracy: 0.4039 - val_loss: 2.0177 - val_categorical_accuracy: 0.3190 - lr: 0.0010\n",
            "Epoch 11/340\n",
            "52/52 [==============================] - 30s 570ms/step - loss: 1.4845 - categorical_accuracy: 0.4073 - val_loss: 1.8032 - val_categorical_accuracy: 0.3879 - lr: 0.0010\n",
            "Epoch 12/340\n",
            "52/52 [==============================] - 29s 555ms/step - loss: 1.4755 - categorical_accuracy: 0.4379 - val_loss: 1.7438 - val_categorical_accuracy: 0.2672 - lr: 0.0010\n",
            "Epoch 13/340\n",
            "52/52 [==============================] - 28s 545ms/step - loss: 1.4314 - categorical_accuracy: 0.4447 - val_loss: 1.6592 - val_categorical_accuracy: 0.3793 - lr: 0.0010\n",
            "Epoch 14/340\n",
            "52/52 [==============================] - 29s 561ms/step - loss: 1.4265 - categorical_accuracy: 0.4498 - val_loss: 1.5623 - val_categorical_accuracy: 0.4138 - lr: 0.0010\n",
            "Epoch 15/340\n",
            "52/52 [==============================] - 28s 546ms/step - loss: 1.3944 - categorical_accuracy: 0.4490 - val_loss: 1.7756 - val_categorical_accuracy: 0.2845 - lr: 0.0010\n",
            "Epoch 16/340\n",
            "52/52 [==============================] - 29s 551ms/step - loss: 1.3700 - categorical_accuracy: 0.4558 - val_loss: 1.5505 - val_categorical_accuracy: 0.4224 - lr: 0.0010\n",
            "Epoch 17/340\n",
            "52/52 [==============================] - 29s 552ms/step - loss: 1.3357 - categorical_accuracy: 0.4821 - val_loss: 1.5554 - val_categorical_accuracy: 0.3793 - lr: 0.0010\n",
            "Epoch 18/340\n",
            "52/52 [==============================] - 29s 549ms/step - loss: 1.3068 - categorical_accuracy: 0.4787 - val_loss: 2.0823 - val_categorical_accuracy: 0.3017 - lr: 0.0010\n",
            "Epoch 19/340\n",
            "52/52 [==============================] - 29s 550ms/step - loss: 1.3126 - categorical_accuracy: 0.5017 - val_loss: 1.5108 - val_categorical_accuracy: 0.4138 - lr: 0.0010\n",
            "Epoch 20/340\n",
            "52/52 [==============================] - 29s 554ms/step - loss: 1.2509 - categorical_accuracy: 0.5187 - val_loss: 1.6085 - val_categorical_accuracy: 0.4052 - lr: 0.0010\n",
            "Epoch 21/340\n",
            "52/52 [==============================] - 29s 563ms/step - loss: 1.2166 - categorical_accuracy: 0.5357 - val_loss: 1.6164 - val_categorical_accuracy: 0.4224 - lr: 0.0010\n",
            "Epoch 22/340\n",
            "52/52 [==============================] - 29s 559ms/step - loss: 1.2104 - categorical_accuracy: 0.5442 - val_loss: 1.3218 - val_categorical_accuracy: 0.5172 - lr: 0.0010\n",
            "Epoch 23/340\n",
            "52/52 [==============================] - 29s 562ms/step - loss: 1.1797 - categorical_accuracy: 0.5544 - val_loss: 1.5164 - val_categorical_accuracy: 0.3879 - lr: 0.0010\n",
            "Epoch 24/340\n",
            "52/52 [==============================] - 30s 570ms/step - loss: 1.1026 - categorical_accuracy: 0.5867 - val_loss: 2.0840 - val_categorical_accuracy: 0.2241 - lr: 0.0010\n",
            "Epoch 25/340\n",
            "52/52 [==============================] - 29s 549ms/step - loss: 1.1080 - categorical_accuracy: 0.5859 - val_loss: 1.6470 - val_categorical_accuracy: 0.3534 - lr: 0.0010\n",
            "Epoch 26/340\n",
            "52/52 [==============================] - 29s 554ms/step - loss: 1.1015 - categorical_accuracy: 0.5825 - val_loss: 1.6452 - val_categorical_accuracy: 0.3966 - lr: 0.0010\n",
            "Epoch 27/340\n",
            "52/52 [==============================] - 29s 555ms/step - loss: 1.0313 - categorical_accuracy: 0.6063 - val_loss: 1.4823 - val_categorical_accuracy: 0.4310 - lr: 0.0010\n",
            "Epoch 28/340\n",
            "52/52 [==============================] - 29s 556ms/step - loss: 1.0135 - categorical_accuracy: 0.6344 - val_loss: 1.5188 - val_categorical_accuracy: 0.5000 - lr: 0.0010\n",
            "Epoch 29/340\n",
            "52/52 [==============================] - 29s 560ms/step - loss: 1.0121 - categorical_accuracy: 0.6207 - val_loss: 1.6937 - val_categorical_accuracy: 0.4655 - lr: 0.0010\n",
            "Epoch 30/340\n",
            "52/52 [==============================] - 29s 552ms/step - loss: 1.0008 - categorical_accuracy: 0.6259 - val_loss: 1.5009 - val_categorical_accuracy: 0.4741 - lr: 0.0010\n",
            "Epoch 31/340\n",
            "52/52 [==============================] - 29s 556ms/step - loss: 0.9844 - categorical_accuracy: 0.6267 - val_loss: 1.8231 - val_categorical_accuracy: 0.4569 - lr: 0.0010\n",
            "Epoch 32/340\n",
            "52/52 [==============================] - 29s 566ms/step - loss: 0.9372 - categorical_accuracy: 0.6522 - val_loss: 1.6634 - val_categorical_accuracy: 0.4569 - lr: 0.0010\n",
            "Epoch 32: early stopping\n"
          ]
        }
      ]
    },
    {
      "cell_type": "code",
      "source": [
        ""
      ],
      "metadata": {
        "id": "3MekXCZHizyZ"
      },
      "execution_count": 69,
      "outputs": []
    },
    {
      "cell_type": "code",
      "source": [
        "print(f\"Running time: {(toc - tic)/60:0.4f} minutes\")"
      ],
      "metadata": {
        "id": "cHmSBRhVOELJ",
        "colab": {
          "base_uri": "https://localhost:8080/"
        },
        "outputId": "49f4302a-3b65-4ae2-e113-4025ceaf7622"
      },
      "execution_count": 70,
      "outputs": [
        {
          "output_type": "stream",
          "name": "stdout",
          "text": [
            "Running time: 16.3870 minutes\n"
          ]
        }
      ]
    },
    {
      "cell_type": "markdown",
      "source": [
        "## Loading Model"
      ],
      "metadata": {
        "id": "jCQelzMAKixD"
      }
    },
    {
      "cell_type": "code",
      "source": [
        "# Define the best weights to the model.\\\n",
        "#model.load_weights(checkpoint_path)"
      ],
      "metadata": {
        "id": "gruZAW2wI-tO"
      },
      "execution_count": 71,
      "outputs": []
    },
    {
      "cell_type": "markdown",
      "source": [
        "# Evaluation"
      ],
      "metadata": {
        "id": "kDxTjEK0KixD"
      }
    },
    {
      "cell_type": "markdown",
      "source": [
        "## Save & Load model, weights"
      ],
      "metadata": {
        "id": "1YfguG0tPatV"
      }
    },
    {
      "cell_type": "code",
      "source": [
        "# Saving model & weights\n",
        "model_json = model.to_json()\n",
        "\n",
        "\n",
        "\n",
        "with open(saved_model_path, \"w\") as json_file:\n",
        "    json_file.write(model_json)\n",
        "    \n",
        "model.save_weights(saved_weights_path)\n",
        "print(\"Saved model to disk\")"
      ],
      "metadata": {
        "colab": {
          "base_uri": "https://localhost:8080/"
        },
        "id": "MsVoNhqmgGsK",
        "outputId": "d3449c79-bba8-49a6-ec80-8f9896ceba74"
      },
      "execution_count": 72,
      "outputs": [
        {
          "output_type": "stream",
          "name": "stdout",
          "text": [
            "Saved model to disk\n"
          ]
        }
      ]
    },
    {
      "cell_type": "code",
      "source": [
        "# Reading the model from JSON file\n",
        "#model_path = Ravdess + \"/model/\"\n",
        "#saved_model_path = model_path + 'model8723.json'\n",
        "#saved_weights_path = model_path + 'model8723_weights.h5'\n",
        "\n",
        "\n",
        "with open(saved_model_path , 'r') as json_file:\n",
        "    json_savedModel = json_file.read()\n",
        "    \n",
        "# Loading the model architecture, weights\n",
        "model = tf.keras.models.model_from_json(json_savedModel)\n",
        "model.load_weights(saved_weights_path)\n",
        "\n",
        "# Compiling the model with similar parameters as the original model.\n",
        "model.compile(loss='categorical_crossentropy', \n",
        "                optimizer='RMSProp', \n",
        "                metrics=['categorical_accuracy'])\n",
        "\n",
        "# Model's structure visualization\n",
        "tf.keras.utils.plot_model(model, to_file='model.png', show_shapes=True, show_layer_names=True)"
      ],
      "metadata": {
        "colab": {
          "base_uri": "https://localhost:8080/",
          "height": 422
        },
        "id": "y4OJGhLmgfX6",
        "outputId": "68ee0e6f-2a31-4bc7-b177-bbb50bc761fa"
      },
      "execution_count": 73,
      "outputs": [
        {
          "output_type": "execute_result",
          "data": {
            "text/plain": [
              "<IPython.core.display.Image object>"
            ],
            "image/png": "[encoded data removed]"
          },
          "metadata": {},
          "execution_count": 73
        }
      ]
    },
    {
      "cell_type": "code",
      "source": [
        ""
      ],
      "metadata": {
        "id": "B_SW6eUAgvEj"
      },
      "execution_count": 73,
      "outputs": []
    },
    {
      "cell_type": "code",
      "source": [
        ""
      ],
      "metadata": {
        "id": "cCfkUXTYgzSB"
      },
      "execution_count": 73,
      "outputs": []
    },
    {
      "cell_type": "code",
      "source": [
        "model.save(saved_model_path_2)"
      ],
      "metadata": {
        "trusted": true,
        "id": "Z5Uzb_bGKixE"
      },
      "execution_count": 74,
      "outputs": []
    },
    {
      "cell_type": "markdown",
      "source": [
        "## Train (fit) Visualization"
      ],
      "metadata": {
        "id": "ATvBW0SPO-eq"
      }
    },
    {
      "cell_type": "code",
      "source": [
        "# Loss, Accuracy presentation\n",
        "\n",
        "# Plot history: Loss\n",
        "plt.plot(history.history['loss'], label='Loss (training data)')\n",
        "plt.plot(history.history['val_loss'], label='Loss (validation data)')\n",
        "plt.title('Loss for train and validation')\n",
        "plt.ylabel('Loss value')\n",
        "plt.xlabel('No. epoch')\n",
        "plt.legend(loc=\"upper left\")\n",
        "plt.show()\n",
        "\n",
        "#Plot history: Accuracy\n",
        "plt.plot(history.history['categorical_accuracy'], label='Acc (training data)')\n",
        "plt.plot(history.history['val_categorical_accuracy'], label='Acc (validation data)')\n",
        "plt.title('Model accuracy')\n",
        "plt.ylabel('Acc %')\n",
        "plt.xlabel('No. epoch')\n",
        "plt.legend(loc=\"upper left\")\n",
        "plt.show()"
      ],
      "metadata": {
        "colab": {
          "base_uri": "https://localhost:8080/",
          "height": 573
        },
        "id": "UjhUHhU_f4EY",
        "outputId": "06d76d45-4fbf-4a54-a03b-58b2b9e9c162"
      },
      "execution_count": 75,
      "outputs": [
        {
          "output_type": "display_data",
          "data": {
            "text/plain": [
              "<Figure size 432x288 with 1 Axes>"
            ],
            "image/png": "[encoded data removed]"
          },
          "metadata": {
            "needs_background": "light"
          }
        },
        {
          "output_type": "display_data",
          "data": {
            "text/plain": [
              "<Figure size 432x288 with 1 Axes>"
            ],
            "image/png": "[encoded data removed]"
          },
          "metadata": {
            "needs_background": "light"
          }
        }
      ]
    },
    {
      "cell_type": "markdown",
      "source": [
        "## Validation Set Evaluation"
      ],
      "metadata": {
        "id": "UZ3lFduxPQeB"
      }
    },
    {
      "cell_type": "markdown",
      "source": [
        "### Val Set Score"
      ],
      "metadata": {
        "id": "5YoYCa22PMGz"
      }
    },
    {
      "cell_type": "code",
      "source": [
        ""
      ],
      "metadata": {
        "id": "jQavrzbB_8fy"
      },
      "execution_count": 75,
      "outputs": []
    },
    {
      "cell_type": "code",
      "source": [
        "# Validation score\n",
        "loss,acc = model.evaluate(x_val, y_val_class, verbose=2)\n"
      ],
      "metadata": {
        "id": "X_KdTUyrf7-j",
        "colab": {
          "base_uri": "https://localhost:8080/"
        },
        "outputId": "a1b9a1da-ede5-4555-e540-e8ea8327485b"
      },
      "execution_count": 76,
      "outputs": [
        {
          "output_type": "stream",
          "name": "stdout",
          "text": [
            "4/4 - 1s - loss: 1.6634 - categorical_accuracy: 0.4569 - 1s/epoch - 351ms/step\n"
          ]
        }
      ]
    },
    {
      "cell_type": "code",
      "source": [
        ""
      ],
      "metadata": {
        "id": "09k_I9DM_2Q0"
      },
      "execution_count": 76,
      "outputs": []
    },
    {
      "cell_type": "markdown",
      "source": [
        "### Construct Predicted Labels based on Probability of each class"
      ],
      "metadata": {
        "id": "hz7nc15A_3hb"
      }
    },
    {
      "cell_type": "code",
      "source": [
        "y_val_class"
      ],
      "metadata": {
        "colab": {
          "base_uri": "https://localhost:8080/"
        },
        "id": "CFM1P2SZ_85N",
        "outputId": "767d19b2-0156-476d-8f40-62828c0dd012"
      },
      "execution_count": 77,
      "outputs": [
        {
          "output_type": "execute_result",
          "data": {
            "text/plain": [
              "array([[1, 0, 0, 0, 0, 0, 0],\n",
              "       [0, 1, 0, 0, 0, 0, 0],\n",
              "       [0, 0, 0, 0, 0, 0, 1],\n",
              "       [0, 1, 0, 0, 0, 0, 0],\n",
              "       [0, 0, 0, 0, 0, 1, 0],\n",
              "       [0, 1, 0, 0, 0, 0, 0],\n",
              "       [0, 0, 0, 0, 1, 0, 0],\n",
              "       [0, 0, 0, 0, 0, 0, 1],\n",
              "       [0, 0, 0, 0, 0, 0, 1],\n",
              "       [0, 1, 0, 0, 0, 0, 0],\n",
              "       [0, 0, 1, 0, 0, 0, 0],\n",
              "       [0, 0, 0, 0, 1, 0, 0],\n",
              "       [0, 0, 0, 0, 0, 0, 1],\n",
              "       [0, 0, 0, 0, 0, 1, 0],\n",
              "       [0, 0, 0, 0, 0, 0, 1],\n",
              "       [0, 0, 0, 1, 0, 0, 0],\n",
              "       [0, 0, 1, 0, 0, 0, 0],\n",
              "       [0, 0, 1, 0, 0, 0, 0],\n",
              "       [1, 0, 0, 0, 0, 0, 0],\n",
              "       [0, 0, 0, 0, 0, 0, 1],\n",
              "       [0, 1, 0, 0, 0, 0, 0],\n",
              "       [0, 0, 0, 0, 0, 0, 1],\n",
              "       [0, 0, 0, 0, 0, 1, 0],\n",
              "       [1, 0, 0, 0, 0, 0, 0],\n",
              "       [0, 0, 0, 0, 1, 0, 0],\n",
              "       [0, 0, 0, 0, 0, 1, 0],\n",
              "       [1, 0, 0, 0, 0, 0, 0],\n",
              "       [0, 0, 0, 1, 0, 0, 0],\n",
              "       [0, 1, 0, 0, 0, 0, 0],\n",
              "       [0, 0, 0, 1, 0, 0, 0],\n",
              "       [0, 0, 0, 0, 0, 0, 1],\n",
              "       [0, 0, 0, 0, 0, 1, 0],\n",
              "       [1, 0, 0, 0, 0, 0, 0],\n",
              "       [0, 0, 0, 1, 0, 0, 0],\n",
              "       [1, 0, 0, 0, 0, 0, 0],\n",
              "       [0, 0, 0, 0, 0, 1, 0],\n",
              "       [0, 0, 1, 0, 0, 0, 0],\n",
              "       [0, 0, 0, 0, 0, 0, 1],\n",
              "       [0, 0, 1, 0, 0, 0, 0],\n",
              "       [0, 0, 0, 0, 1, 0, 0],\n",
              "       [0, 0, 0, 0, 1, 0, 0],\n",
              "       [0, 0, 0, 1, 0, 0, 0],\n",
              "       [0, 0, 0, 0, 0, 1, 0],\n",
              "       [0, 0, 0, 0, 1, 0, 0],\n",
              "       [0, 0, 1, 0, 0, 0, 0],\n",
              "       [0, 0, 0, 1, 0, 0, 0],\n",
              "       [0, 0, 1, 0, 0, 0, 0],\n",
              "       [0, 0, 0, 0, 1, 0, 0],\n",
              "       [0, 0, 0, 1, 0, 0, 0],\n",
              "       [0, 0, 1, 0, 0, 0, 0],\n",
              "       [0, 0, 0, 0, 0, 0, 1],\n",
              "       [0, 0, 0, 0, 0, 0, 1],\n",
              "       [0, 1, 0, 0, 0, 0, 0],\n",
              "       [0, 0, 0, 0, 0, 1, 0],\n",
              "       [1, 0, 0, 0, 0, 0, 0],\n",
              "       [0, 0, 0, 0, 1, 0, 0],\n",
              "       [0, 0, 1, 0, 0, 0, 0],\n",
              "       [0, 0, 0, 0, 1, 0, 0],\n",
              "       [0, 0, 0, 0, 0, 1, 0],\n",
              "       [0, 0, 0, 0, 0, 1, 0],\n",
              "       [0, 0, 1, 0, 0, 0, 0],\n",
              "       [0, 0, 1, 0, 0, 0, 0],\n",
              "       [0, 0, 0, 0, 0, 0, 1],\n",
              "       [0, 1, 0, 0, 0, 0, 0],\n",
              "       [0, 0, 0, 0, 0, 0, 1],\n",
              "       [0, 0, 0, 0, 1, 0, 0],\n",
              "       [0, 0, 0, 0, 1, 0, 0],\n",
              "       [0, 0, 0, 0, 0, 0, 1],\n",
              "       [0, 0, 1, 0, 0, 0, 0],\n",
              "       [1, 0, 0, 0, 0, 0, 0],\n",
              "       [0, 0, 0, 0, 0, 1, 0],\n",
              "       [1, 0, 0, 0, 0, 0, 0],\n",
              "       [0, 0, 0, 1, 0, 0, 0],\n",
              "       [0, 0, 1, 0, 0, 0, 0],\n",
              "       [0, 0, 0, 0, 0, 0, 1],\n",
              "       [0, 0, 0, 1, 0, 0, 0],\n",
              "       [0, 0, 0, 1, 0, 0, 0],\n",
              "       [0, 0, 0, 0, 0, 0, 1],\n",
              "       [0, 0, 0, 0, 0, 1, 0],\n",
              "       [0, 0, 0, 0, 0, 1, 0],\n",
              "       [0, 1, 0, 0, 0, 0, 0],\n",
              "       [0, 1, 0, 0, 0, 0, 0],\n",
              "       [0, 1, 0, 0, 0, 0, 0],\n",
              "       [0, 0, 0, 0, 0, 1, 0],\n",
              "       [0, 0, 0, 0, 0, 0, 1],\n",
              "       [0, 0, 0, 0, 0, 0, 1],\n",
              "       [0, 1, 0, 0, 0, 0, 0],\n",
              "       [0, 0, 1, 0, 0, 0, 0],\n",
              "       [1, 0, 0, 0, 0, 0, 0],\n",
              "       [0, 0, 0, 0, 0, 0, 1],\n",
              "       [0, 0, 0, 1, 0, 0, 0],\n",
              "       [0, 0, 0, 1, 0, 0, 0],\n",
              "       [0, 0, 0, 0, 0, 0, 1],\n",
              "       [0, 0, 0, 0, 0, 0, 1],\n",
              "       [0, 0, 1, 0, 0, 0, 0],\n",
              "       [0, 0, 0, 1, 0, 0, 0],\n",
              "       [1, 0, 0, 0, 0, 0, 0],\n",
              "       [0, 0, 0, 0, 0, 0, 1],\n",
              "       [0, 0, 0, 1, 0, 0, 0],\n",
              "       [0, 0, 1, 0, 0, 0, 0],\n",
              "       [0, 0, 0, 0, 0, 0, 1],\n",
              "       [1, 0, 0, 0, 0, 0, 0],\n",
              "       [1, 0, 0, 0, 0, 0, 0],\n",
              "       [0, 0, 0, 0, 0, 1, 0],\n",
              "       [0, 0, 0, 1, 0, 0, 0],\n",
              "       [0, 0, 0, 0, 0, 0, 1],\n",
              "       [0, 0, 0, 0, 0, 0, 1],\n",
              "       [0, 0, 0, 0, 1, 0, 0],\n",
              "       [0, 1, 0, 0, 0, 0, 0],\n",
              "       [0, 0, 0, 1, 0, 0, 0],\n",
              "       [0, 0, 0, 0, 0, 1, 0],\n",
              "       [0, 0, 0, 0, 0, 1, 0],\n",
              "       [0, 0, 0, 1, 0, 0, 0],\n",
              "       [0, 0, 0, 0, 1, 0, 0],\n",
              "       [0, 0, 0, 0, 1, 0, 0],\n",
              "       [0, 0, 1, 0, 0, 0, 0]], dtype=int8)"
            ]
          },
          "metadata": {},
          "execution_count": 77
        }
      ]
    },
    {
      "cell_type": "code",
      "source": [
        "np.argmax(y_val_class, axis=1)"
      ],
      "metadata": {
        "colab": {
          "base_uri": "https://localhost:8080/"
        },
        "id": "C9UHSeXbAASy",
        "outputId": "8786bea7-7968-4210-bd73-58ed7907edee"
      },
      "execution_count": 78,
      "outputs": [
        {
          "output_type": "execute_result",
          "data": {
            "text/plain": [
              "array([0, 1, 6, 1, 5, 1, 4, 6, 6, 1, 2, 4, 6, 5, 6, 3, 2, 2, 0, 6, 1, 6,\n",
              "       5, 0, 4, 5, 0, 3, 1, 3, 6, 5, 0, 3, 0, 5, 2, 6, 2, 4, 4, 3, 5, 4,\n",
              "       2, 3, 2, 4, 3, 2, 6, 6, 1, 5, 0, 4, 2, 4, 5, 5, 2, 2, 6, 1, 6, 4,\n",
              "       4, 6, 2, 0, 5, 0, 3, 2, 6, 3, 3, 6, 5, 5, 1, 1, 1, 5, 6, 6, 1, 2,\n",
              "       0, 6, 3, 3, 6, 6, 2, 3, 0, 6, 3, 2, 6, 0, 0, 5, 3, 6, 6, 4, 1, 3,\n",
              "       5, 5, 3, 4, 4, 2])"
            ]
          },
          "metadata": {},
          "execution_count": 78
        }
      ]
    },
    {
      "cell_type": "code",
      "source": [
        "y_val_class = np.argmax(y_val_class, axis=1)\n",
        "predictions_val = model.predict(x_val)\n",
        "y_proba_val_class = predictions_val\n",
        "y_pred_val_class = np.argmax(predictions_val, axis=1)"
      ],
      "metadata": {
        "id": "urjydD-38JK7"
      },
      "execution_count": 79,
      "outputs": []
    },
    {
      "cell_type": "code",
      "source": [
        "predictions_val\n"
      ],
      "metadata": {
        "colab": {
          "base_uri": "https://localhost:8080/"
        },
        "id": "Zb7dGRs3AEJn",
        "outputId": "daecf9dc-d687-4834-f70e-edf05a83a58f"
      },
      "execution_count": 80,
      "outputs": [
        {
          "output_type": "execute_result",
          "data": {
            "text/plain": [
              "array([[9.66348469e-01, 1.03631942e-02, 9.62377619e-03, 1.27435414e-04,\n",
              "        1.19155478e-02, 6.87514723e-04, 9.34114796e-04],\n",
              "       [9.23736542e-02, 5.84140062e-01, 1.33647799e-01, 1.04404744e-02,\n",
              "        1.04585225e-02, 4.99665514e-02, 1.18972920e-01],\n",
              "       [3.14289326e-04, 5.81171401e-02, 1.73414908e-02, 7.35206425e-01,\n",
              "        7.70931840e-02, 1.19008012e-02, 1.00026652e-01],\n",
              "       [2.28043627e-02, 2.04506190e-03, 2.33797096e-02, 1.37981147e-01,\n",
              "        1.89209834e-03, 8.07223320e-01, 4.67429636e-03],\n",
              "       [5.54364640e-03, 1.34030660e-03, 1.28196096e-02, 3.61773409e-02,\n",
              "        1.38201797e-03, 9.41572726e-01, 1.16427208e-03],\n",
              "       [9.71199293e-03, 3.91644627e-01, 2.20052898e-01, 5.87748783e-03,\n",
              "        1.08635046e-01, 8.81283358e-03, 2.55265176e-01],\n",
              "       [9.07935761e-03, 2.65121255e-02, 1.96135733e-02, 3.82620841e-03,\n",
              "        2.77593344e-01, 1.95089541e-02, 6.43866479e-01],\n",
              "       [1.64527334e-02, 1.20301262e-01, 3.07705581e-01, 1.47025570e-01,\n",
              "        7.80203044e-02, 1.55448645e-01, 1.75045893e-01],\n",
              "       [1.93888345e-03, 4.19744663e-02, 9.98110231e-03, 5.72220515e-03,\n",
              "        2.45906755e-01, 6.09678216e-03, 6.88379884e-01],\n",
              "       [9.54326808e-01, 4.69067693e-03, 2.57132351e-02, 1.20143814e-04,\n",
              "        8.71777255e-03, 5.32078464e-03, 1.11072802e-03],\n",
              "       [6.80602431e-01, 1.39721483e-02, 2.63909280e-01, 9.76580312e-04,\n",
              "        1.22173233e-02, 2.61964500e-02, 2.12577335e-03],\n",
              "       [2.49936376e-02, 1.34758037e-02, 3.71354908e-01, 6.52304813e-02,\n",
              "        7.74963722e-02, 4.38857377e-01, 8.59138183e-03],\n",
              "       [8.14005733e-04, 5.57511020e-03, 8.60792771e-03, 7.05233991e-01,\n",
              "        1.82483587e-02, 1.90602496e-01, 7.09181502e-02],\n",
              "       [5.81157148e-01, 4.30294871e-03, 1.65617973e-01, 4.24883468e-03,\n",
              "        2.99380370e-03, 2.40936473e-01, 7.42754259e-04],\n",
              "       [2.12213170e-04, 1.28549477e-02, 9.29037947e-03, 7.53890574e-01,\n",
              "        1.99279804e-02, 5.56363463e-02, 1.48187622e-01],\n",
              "       [8.37421510e-03, 1.59861203e-02, 2.46175930e-01, 1.57133996e-01,\n",
              "        8.51980224e-03, 5.58661044e-01, 5.14885783e-03],\n",
              "       [3.82737517e-01, 1.22431843e-02, 5.29127955e-01, 2.12880620e-03,\n",
              "        3.28407921e-02, 3.77482846e-02, 3.17358854e-03],\n",
              "       [8.91788542e-01, 8.80072173e-03, 8.79846215e-02, 1.27725507e-04,\n",
              "        6.46685017e-03, 3.65561596e-03, 1.17595284e-03],\n",
              "       [9.80222762e-01, 5.34627866e-03, 9.86549817e-03, 5.04668511e-04,\n",
              "        1.96562824e-03, 1.05446088e-03, 1.04062236e-03],\n",
              "       [1.93091646e-01, 2.17241943e-01, 2.75516242e-01, 2.74532065e-02,\n",
              "        9.23666358e-02, 2.14264914e-02, 1.72903761e-01],\n",
              "       [1.67567372e-01, 6.73595428e-01, 2.24908255e-02, 3.57202464e-03,\n",
              "        6.39973534e-03, 6.12570858e-03, 1.20248914e-01],\n",
              "       [2.39961967e-02, 3.16890150e-01, 1.57018036e-01, 2.24000558e-01,\n",
              "        3.89336944e-02, 1.09471073e-02, 2.28214219e-01],\n",
              "       [5.61548071e-03, 7.03724392e-04, 9.18651465e-03, 2.65325725e-01,\n",
              "        3.79836140e-03, 7.10155129e-01, 5.21503808e-03],\n",
              "       [8.86265993e-01, 2.40479363e-03, 9.98371542e-02, 2.86944560e-04,\n",
              "        4.43179673e-03, 5.97667834e-03, 7.96572014e-04],\n",
              "       [9.84567963e-03, 4.57304344e-02, 2.47324854e-02, 1.87411357e-03,\n",
              "        9.01312172e-01, 3.74090462e-03, 1.27642779e-02],\n",
              "       [1.54599100e-01, 3.58232558e-02, 5.78695595e-01, 4.90481965e-02,\n",
              "        1.68036465e-02, 1.51715755e-01, 1.33143179e-02],\n",
              "       [9.16678965e-01, 1.04106441e-02, 5.94824813e-02, 8.61901382e-04,\n",
              "        2.23667244e-03, 3.69363301e-03, 6.63576322e-03],\n",
              "       [5.72338002e-04, 5.31692132e-02, 5.46169914e-02, 6.76337004e-01,\n",
              "        5.38262613e-02, 6.52892590e-02, 9.61889029e-02],\n",
              "       [8.50683630e-01, 7.53534911e-03, 1.29042581e-01, 1.26847372e-04,\n",
              "        7.56825088e-03, 4.14194120e-03, 9.01428866e-04],\n",
              "       [5.07635057e-01, 9.55235958e-02, 2.74919778e-01, 5.36328764e-04,\n",
              "        7.61151016e-02, 5.48070949e-03, 3.97894122e-02],\n",
              "       [2.24595919e-01, 3.70303653e-02, 1.01761520e-02, 7.54184555e-03,\n",
              "        4.87937123e-01, 5.40034175e-02, 1.78715229e-01],\n",
              "       [7.19651300e-03, 1.37075677e-03, 7.32917385e-03, 1.15102373e-01,\n",
              "        1.38979196e-03, 8.60031068e-01, 7.58031430e-03],\n",
              "       [9.43568051e-01, 1.28492399e-03, 4.38318141e-02, 6.79471355e-04,\n",
              "        4.29882435e-04, 9.79441404e-03, 4.11405490e-04],\n",
              "       [5.66979731e-03, 2.42144465e-02, 3.88331324e-01, 1.64952680e-01,\n",
              "        1.71394482e-01, 2.19547182e-01, 2.58901529e-02],\n",
              "       [9.27771151e-01, 5.20303892e-03, 5.46730235e-02, 4.11264278e-04,\n",
              "        1.34741981e-03, 1.01438565e-02, 4.50206251e-04],\n",
              "       [3.75960946e-01, 1.21672479e-02, 3.29421610e-01, 3.17847431e-02,\n",
              "        9.61845648e-03, 2.38129005e-01, 2.91808508e-03],\n",
              "       [3.76978457e-01, 2.80250004e-03, 4.67597008e-01, 4.83565172e-03,\n",
              "        5.79753844e-03, 1.41358465e-01, 6.30363764e-04],\n",
              "       [1.37892455e-01, 6.36920407e-02, 4.72109288e-01, 5.70396986e-03,\n",
              "        1.32217884e-01, 1.21881671e-01, 6.65026605e-02],\n",
              "       [4.99479920e-02, 4.40285131e-02, 8.19906116e-01, 6.71256799e-03,\n",
              "        1.91488340e-02, 5.53456917e-02, 4.91027534e-03],\n",
              "       [9.12136853e-01, 3.08186025e-03, 7.35870078e-02, 3.13726050e-04,\n",
              "        5.91394491e-03, 4.27806377e-03, 6.88485743e-04],\n",
              "       [2.70997174e-02, 9.38812718e-02, 3.55512142e-01, 1.12539064e-02,\n",
              "        4.56758350e-01, 7.47652957e-03, 4.80181612e-02],\n",
              "       [9.90312099e-02, 1.52015194e-01, 6.80969000e-01, 1.85271204e-02,\n",
              "        1.24183195e-02, 1.85512714e-02, 1.84878577e-02],\n",
              "       [8.03009490e-04, 6.07027020e-03, 5.04287556e-02, 2.10094169e-01,\n",
              "        5.09340782e-03, 7.22645223e-01, 4.86520445e-03],\n",
              "       [4.69639264e-02, 3.13509963e-02, 8.60835671e-01, 6.74808910e-03,\n",
              "        1.69956535e-02, 3.18212062e-02, 5.28441090e-03],\n",
              "       [9.98753384e-02, 2.08680063e-01, 2.48626977e-01, 4.82812673e-02,\n",
              "        4.09401953e-02, 5.21519259e-02, 3.01444292e-01],\n",
              "       [3.58004821e-04, 4.43122536e-02, 7.22084939e-02, 8.30799699e-01,\n",
              "        6.44233916e-03, 3.99314985e-02, 5.94777754e-03],\n",
              "       [9.17758420e-02, 6.60793390e-03, 8.15382898e-01, 1.47084112e-03,\n",
              "        1.57107748e-02, 6.80616498e-02, 9.90059692e-04],\n",
              "       [2.07596868e-01, 2.14069784e-01, 5.06417334e-01, 2.00053211e-03,\n",
              "        3.34839933e-02, 2.96115186e-02, 6.81999885e-03],\n",
              "       [7.17451990e-01, 5.60132368e-03, 2.46752247e-01, 1.29244418e-03,\n",
              "        1.02323608e-03, 2.73211077e-02, 5.57665830e-04],\n",
              "       [1.61213070e-01, 1.27098039e-02, 6.60639882e-01, 1.74325947e-02,\n",
              "        9.64323431e-02, 4.48866040e-02, 6.68563042e-03],\n",
              "       [2.90739089e-01, 1.60550456e-02, 4.26495731e-01, 3.63459322e-03,\n",
              "        1.49974719e-01, 9.49427038e-02, 1.81580838e-02],\n",
              "       [9.28960502e-01, 8.30521528e-03, 4.49476056e-02, 1.87004509e-04,\n",
              "        1.00716026e-02, 5.61552821e-03, 1.91244227e-03],\n",
              "       [6.69800103e-01, 4.75978740e-02, 2.44951293e-01, 1.13842718e-03,\n",
              "        2.75408830e-02, 2.96915858e-03, 6.00217376e-03],\n",
              "       [2.96865907e-02, 5.92533906e-04, 3.39687467e-02, 1.20551521e-02,\n",
              "        1.26073081e-02, 9.05462265e-01, 5.62738348e-03],\n",
              "       [8.44650865e-01, 1.61965955e-02, 1.25327677e-01, 8.68278614e-04,\n",
              "        4.83094482e-03, 2.99004116e-03, 5.13562793e-03],\n",
              "       [7.35210061e-01, 9.43317823e-03, 1.19643994e-01, 3.05999100e-04,\n",
              "        1.23051994e-01, 7.47381384e-03, 4.88093868e-03],\n",
              "       [9.71597340e-03, 5.28360670e-03, 1.52936161e-01, 3.45703177e-02,\n",
              "        1.42483255e-02, 7.75053561e-01, 8.19209684e-03],\n",
              "       [1.17732063e-01, 1.01046534e-02, 6.01634264e-01, 1.05504133e-03,\n",
              "        2.55121529e-01, 1.11860661e-02, 3.16636637e-03],\n",
              "       [5.56391180e-01, 2.23313607e-02, 3.32380533e-01, 6.37091557e-03,\n",
              "        3.13079869e-03, 7.51473084e-02, 4.24797740e-03],\n",
              "       [6.87563885e-03, 3.73407587e-04, 9.64931957e-03, 2.26347242e-02,\n",
              "        7.85644725e-03, 9.49742556e-01, 2.86788912e-03],\n",
              "       [4.51745242e-02, 6.10715561e-02, 8.22658241e-01, 6.54807827e-03,\n",
              "        2.92709544e-02, 2.76521072e-02, 7.62463687e-03],\n",
              "       [8.43509376e-01, 2.65405420e-02, 1.06167793e-01, 4.12366790e-04,\n",
              "        1.24496268e-02, 3.27824149e-03, 7.64205772e-03],\n",
              "       [4.39424021e-03, 3.85024324e-02, 3.15977708e-02, 1.42089715e-02,\n",
              "        1.25747561e-01, 4.62092534e-02, 7.39339769e-01],\n",
              "       [3.36517692e-02, 1.50185496e-01, 4.81422603e-01, 1.15602590e-01,\n",
              "        2.05521588e-03, 2.08702892e-01, 8.37944821e-03],\n",
              "       [1.55688617e-02, 1.29168466e-01, 7.26981461e-03, 6.78566005e-03,\n",
              "        1.13558508e-01, 5.98949473e-03, 7.21659184e-01],\n",
              "       [9.26652789e-01, 7.42151961e-03, 5.19960523e-02, 2.45107454e-04,\n",
              "        8.12901091e-03, 3.85965244e-03, 1.69579429e-03],\n",
              "       [8.89392756e-03, 4.85515222e-02, 3.88846509e-02, 3.92335325e-01,\n",
              "        3.20137054e-01, 5.36769070e-02, 1.37520641e-01],\n",
              "       [2.12509986e-02, 2.09907647e-02, 2.73334999e-02, 2.22753398e-02,\n",
              "        3.56761843e-01, 2.11962968e-01, 3.39424610e-01],\n",
              "       [6.78818151e-02, 1.80394743e-02, 5.19380331e-01, 4.68826927e-02,\n",
              "        1.82448863e-03, 3.43822092e-01, 2.16910243e-03],\n",
              "       [9.07710850e-01, 6.68415101e-03, 5.19981198e-02, 3.49830906e-03,\n",
              "        1.76757935e-03, 2.60670483e-02, 2.27378844e-03],\n",
              "       [4.28694308e-01, 1.84437204e-02, 3.41678739e-01, 1.66635644e-02,\n",
              "        2.45267083e-03, 1.88339725e-01, 3.72731802e-03],\n",
              "       [3.43444139e-01, 2.46674493e-02, 5.48162043e-01, 4.10508772e-04,\n",
              "        7.20014051e-02, 6.70740707e-03, 4.60707489e-03],\n",
              "       [6.27944013e-04, 1.30794533e-02, 2.68074311e-02, 7.46539474e-01,\n",
              "        1.35988504e-01, 5.05051017e-02, 2.64520869e-02],\n",
              "       [7.47070491e-01, 2.44851094e-02, 2.02116519e-01, 6.58481440e-04,\n",
              "        1.23678939e-02, 8.76421016e-03, 4.53734118e-03],\n",
              "       [1.05688468e-01, 3.45090069e-02, 1.17671765e-01, 9.82141215e-03,\n",
              "        1.54398054e-01, 2.36999437e-01, 3.40911865e-01],\n",
              "       [5.95988589e-04, 1.90378446e-02, 6.16742820e-02, 8.18522573e-01,\n",
              "        7.86085520e-03, 8.49302784e-02, 7.37818098e-03],\n",
              "       [2.07968652e-02, 2.08396949e-02, 1.72914937e-01, 1.57111675e-01,\n",
              "        2.99272290e-03, 6.19979799e-01, 5.36432397e-03],\n",
              "       [3.61824840e-01, 8.31457004e-02, 4.18115973e-01, 9.50965937e-03,\n",
              "        4.66835909e-02, 6.46226704e-02, 1.60974469e-02],\n",
              "       [4.57067490e-01, 1.15698772e-02, 1.43073127e-01, 4.90053231e-03,\n",
              "        9.87419561e-02, 2.59954870e-01, 2.46921312e-02],\n",
              "       [2.31068239e-01, 4.36392101e-03, 3.21612090e-01, 1.53614637e-02,\n",
              "        1.36451889e-02, 4.09379721e-01, 4.56939591e-03],\n",
              "       [8.57821584e-01, 2.92609185e-02, 1.00620657e-01, 7.26087077e-04,\n",
              "        2.57265614e-03, 7.91350566e-03, 1.08457985e-03],\n",
              "       [3.46189439e-01, 2.40721907e-02, 2.83034056e-01, 4.13058186e-03,\n",
              "        2.67593861e-01, 2.18983311e-02, 5.30814752e-02],\n",
              "       [7.98538849e-02, 6.24545813e-01, 1.41174331e-01, 2.00839783e-03,\n",
              "        3.41353603e-02, 2.81988503e-03, 1.15462288e-01],\n",
              "       [9.33039002e-03, 1.99889112e-02, 6.81088343e-02, 7.88346902e-02,\n",
              "        3.34007926e-02, 6.56097531e-01, 1.34238824e-01],\n",
              "       [2.34378691e-04, 4.02909890e-02, 1.36043578e-02, 5.77520311e-01,\n",
              "        2.27462322e-01, 1.32666407e-02, 1.27621040e-01],\n",
              "       [2.51567420e-02, 1.60574138e-01, 3.58064324e-01, 1.14777401e-01,\n",
              "        1.21258743e-01, 1.57597303e-01, 6.25713766e-02],\n",
              "       [1.46180745e-02, 5.12613714e-01, 2.67716218e-02, 4.09583235e-03,\n",
              "        1.95850246e-02, 2.64487648e-03, 4.19670761e-01],\n",
              "       [2.39965809e-03, 6.51327491e-01, 1.67114988e-01, 3.30390856e-02,\n",
              "        4.47543561e-02, 2.21451744e-03, 9.91499200e-02],\n",
              "       [6.86962187e-01, 5.70039498e-03, 2.55169451e-01, 1.16139872e-03,\n",
              "        1.43835088e-02, 3.45708206e-02, 2.05230573e-03],\n",
              "       [4.66490328e-01, 1.49735715e-02, 1.66796386e-01, 9.95966839e-04,\n",
              "        3.16045344e-01, 2.63733976e-02, 8.32518656e-03],\n",
              "       [5.49076649e-04, 3.97866080e-03, 2.32117102e-02, 7.98337102e-01,\n",
              "        2.12706905e-03, 1.64358914e-01, 7.43748108e-03],\n",
              "       [7.24164245e-04, 1.06524015e-02, 8.50834399e-02, 4.30301547e-01,\n",
              "        2.52389628e-03, 4.66679603e-01, 4.03502164e-03],\n",
              "       [7.18309045e-01, 5.15490286e-02, 1.62465170e-01, 4.76408331e-03,\n",
              "        1.28105311e-02, 1.88341904e-02, 3.12679075e-02],\n",
              "       [3.16350795e-02, 2.39228159e-01, 4.11487252e-01, 3.87039520e-02,\n",
              "        7.83088952e-02, 5.15305661e-02, 1.49106160e-01],\n",
              "       [2.76361048e-01, 4.51263180e-03, 5.37345827e-01, 3.04729491e-03,\n",
              "        9.36149061e-03, 1.68789014e-01, 5.82647335e-04],\n",
              "       [1.67694539e-04, 1.37525909e-02, 1.92158595e-02, 9.07325327e-01,\n",
              "        8.10676999e-03, 3.42627577e-02, 1.71689205e-02],\n",
              "       [9.51195896e-01, 7.44723715e-04, 2.80990005e-02, 9.30813694e-05,\n",
              "        3.78089235e-03, 1.57586988e-02, 3.27713293e-04],\n",
              "       [7.24806860e-02, 2.59312630e-01, 2.46390462e-01, 8.97217318e-02,\n",
              "        5.65289743e-02, 1.01791456e-01, 1.73774138e-01],\n",
              "       [2.15640495e-04, 7.90412351e-03, 8.54918733e-03, 8.97591352e-01,\n",
              "        2.09482629e-02, 3.96414883e-02, 2.51498744e-02],\n",
              "       [2.87608802e-02, 5.65029643e-02, 6.28162444e-01, 5.87781519e-03,\n",
              "        2.01572493e-01, 6.88980147e-02, 1.02253295e-02],\n",
              "       [2.31420547e-02, 6.30631745e-02, 7.67324746e-01, 1.09814492e-03,\n",
              "        1.29191279e-01, 4.64189611e-03, 1.15386490e-02],\n",
              "       [7.59533823e-01, 3.77840688e-03, 2.13566482e-01, 4.02763952e-04,\n",
              "        8.26887786e-03, 1.41675025e-02, 2.82180437e-04],\n",
              "       [8.96834314e-01, 2.03033015e-02, 6.17203712e-02, 2.54265557e-04,\n",
              "        9.02000908e-03, 4.87003615e-03, 6.99781021e-03],\n",
              "       [4.05541807e-02, 6.04490750e-04, 1.78786088e-02, 2.85639483e-02,\n",
              "        4.56243940e-03, 9.05538082e-01, 2.29817443e-03],\n",
              "       [2.26111822e-02, 5.60735874e-02, 4.87603515e-01, 3.91869061e-02,\n",
              "        1.31717501e-02, 3.69744360e-01, 1.16086686e-02],\n",
              "       [6.44597458e-04, 3.43984887e-02, 8.36190674e-03, 1.72747672e-02,\n",
              "        1.82168379e-01, 4.57023783e-03, 7.52581656e-01],\n",
              "       [1.41528815e-01, 5.27031906e-02, 2.91076422e-01, 1.60312932e-03,\n",
              "        4.60187107e-01, 2.11373065e-02, 3.17640379e-02],\n",
              "       [4.98837326e-03, 2.32457459e-01, 2.48736814e-01, 5.63806631e-02,\n",
              "        2.33420476e-01, 1.26918942e-01, 9.70973000e-02],\n",
              "       [9.67862248e-01, 3.86890001e-03, 2.06950977e-02, 1.03347033e-04,\n",
              "        4.81191278e-03, 1.10069220e-03, 1.55768346e-03],\n",
              "       [1.77444960e-03, 7.71744223e-03, 1.55263580e-02, 5.01140118e-01,\n",
              "        1.34561397e-03, 4.54422593e-01, 1.80734266e-02],\n",
              "       [4.46477719e-03, 5.94310870e-04, 6.94424706e-03, 4.88459654e-02,\n",
              "        2.08146195e-03, 9.36081052e-01, 9.88209737e-04],\n",
              "       [2.28110906e-02, 8.27176049e-02, 5.08585155e-01, 6.37584552e-02,\n",
              "        6.60623796e-03, 3.00530881e-01, 1.49905188e-02],\n",
              "       [7.41822878e-04, 6.45772787e-03, 5.32466583e-02, 6.78016722e-01,\n",
              "        2.21138168e-03, 2.53694057e-01, 5.63161727e-03],\n",
              "       [4.79499921e-02, 1.56004233e-02, 7.82958329e-01, 1.16042665e-03,\n",
              "        1.14374928e-01, 3.73305939e-02, 6.25292596e-04],\n",
              "       [1.73333958e-02, 3.73153389e-02, 3.16076368e-01, 1.41213052e-02,\n",
              "        5.50371885e-01, 2.61433832e-02, 3.86383012e-02],\n",
              "       [1.56436767e-02, 9.35219228e-02, 1.02208480e-01, 1.99537482e-02,\n",
              "        6.72101974e-01, 7.51882493e-02, 2.13820171e-02]], dtype=float32)"
            ]
          },
          "metadata": {},
          "execution_count": 80
        }
      ]
    },
    {
      "cell_type": "code",
      "source": [
        "y_pred_val_class "
      ],
      "metadata": {
        "colab": {
          "base_uri": "https://localhost:8080/"
        },
        "id": "KxHa1Ss1AJo4",
        "outputId": "5474c020-6be8-453f-ba8a-ec95e27d9478"
      },
      "execution_count": 81,
      "outputs": [
        {
          "output_type": "execute_result",
          "data": {
            "text/plain": [
              "array([0, 1, 3, 5, 5, 1, 6, 2, 6, 0, 0, 5, 3, 0, 3, 5, 2, 0, 0, 2, 1, 1,\n",
              "       5, 0, 4, 2, 0, 3, 0, 0, 4, 5, 0, 2, 0, 0, 2, 2, 2, 0, 4, 2, 5, 2,\n",
              "       6, 3, 2, 2, 0, 2, 2, 0, 0, 5, 0, 0, 5, 2, 0, 5, 2, 0, 6, 2, 6, 0,\n",
              "       3, 4, 2, 0, 0, 2, 3, 0, 6, 3, 5, 2, 0, 5, 0, 0, 1, 5, 3, 2, 1, 1,\n",
              "       0, 0, 3, 5, 0, 2, 2, 3, 0, 1, 3, 2, 2, 0, 0, 5, 2, 6, 4, 2, 0, 3,\n",
              "       5, 2, 3, 2, 4, 4])"
            ]
          },
          "metadata": {},
          "execution_count": 81
        }
      ]
    },
    {
      "cell_type": "markdown",
      "source": [
        "### Val Set Confusion Matrix and Heatmap"
      ],
      "metadata": {
        "id": "d2ullxf9PUMd"
      }
    },
    {
      "cell_type": "code",
      "source": [
        "# Validation Confusion matrix\n",
        "cm=confusion_matrix(y_val_class, y_pred_val_class)\n",
        "\n",
        "index = ['calm', 'happy', 'sad', 'angry', 'fearful', 'disgust', 'surprised']  \n",
        "columns = ['calm', 'happy', 'sad', 'angry', 'fearful', 'disgust', 'surprised']  \n",
        " \n",
        "cm_df = pd.DataFrame(cm,index,columns)                      \n",
        "plt.figure(figsize=(12,8))\n",
        "ax = plt.axes()\n",
        "\n",
        "sns.heatmap(cm_df, ax = ax, cmap = 'PuBu', fmt=\"d\", annot=True)\n",
        "ax.set_ylabel('True emotion')\n",
        "ax.set_xlabel('Predicted emotion')"
      ],
      "metadata": {
        "colab": {
          "base_uri": "https://localhost:8080/",
          "height": 518
        },
        "id": "doLcg3CTf9bx",
        "outputId": "cdc9bfef-ad02-4439-be4e-ddf2d6b682bd"
      },
      "execution_count": 82,
      "outputs": [
        {
          "output_type": "execute_result",
          "data": {
            "text/plain": [
              "Text(0.5, 51.0, 'Predicted emotion')"
            ]
          },
          "metadata": {},
          "execution_count": 82
        },
        {
          "output_type": "display_data",
          "data": {
            "text/plain": [
              "<Figure size 864x576 with 2 Axes>"
            ],
            "image/png": "[encoded data removed]"
          },
          "metadata": {
            "needs_background": "light"
          }
        }
      ]
    },
    {
      "cell_type": "code",
      "source": [
        "# Confusion Matrix\n",
        "cm"
      ],
      "metadata": {
        "colab": {
          "base_uri": "https://localhost:8080/"
        },
        "id": "hIEG9Pia8Nfp",
        "outputId": "2f3cfcf3-cd12-46bb-d97d-6258fb5182f2"
      },
      "execution_count": 83,
      "outputs": [
        {
          "output_type": "execute_result",
          "data": {
            "text/plain": [
              "array([[12,  0,  1,  0,  0,  0,  0],\n",
              "       [ 6,  5,  1,  0,  0,  1,  0],\n",
              "       [ 4,  1,  9,  0,  1,  1,  1],\n",
              "       [ 2,  0,  3,  9,  0,  3,  0],\n",
              "       [ 3,  0,  5,  1,  3,  1,  1],\n",
              "       [ 5,  0,  2,  0,  0, 10,  0],\n",
              "       [ 3,  2,  8,  4,  3,  0,  5]])"
            ]
          },
          "metadata": {},
          "execution_count": 83
        }
      ]
    },
    {
      "cell_type": "markdown",
      "source": [
        "### Validation Set Predicted emotions accuracy"
      ],
      "metadata": {
        "id": "kWjKgUdRPYH5"
      }
    },
    {
      "cell_type": "code",
      "source": [
        "# Validation set prediction accuracy rates\n",
        "\n",
        "values = cm.diagonal()\n",
        "row_sum = np.sum(cm,axis=1)\n",
        "acc = values / row_sum\n",
        "\n",
        "print('Validation set predicted emotions accuracy:')\n",
        "for e in range(0, len(values)):\n",
        "    print(index[e],':', f\"{(acc[e]):0.4f}\")"
      ],
      "metadata": {
        "colab": {
          "base_uri": "https://localhost:8080/"
        },
        "id": "MopdywY9f-mS",
        "outputId": "1907a482-6351-465d-ae17-a5a30130d39e"
      },
      "execution_count": 84,
      "outputs": [
        {
          "output_type": "stream",
          "name": "stdout",
          "text": [
            "Validation set predicted emotions accuracy:\n",
            "calm : 0.9231\n",
            "happy : 0.3846\n",
            "sad : 0.5294\n",
            "angry : 0.5294\n",
            "fearful : 0.2143\n",
            "disgust : 0.5882\n",
            "surprised : 0.2000\n"
          ]
        }
      ]
    },
    {
      "cell_type": "markdown",
      "source": [
        "### Precision, Recal, Fscore"
      ],
      "metadata": {
        "id": "DGSTy2228XRH"
      }
    },
    {
      "cell_type": "code",
      "source": [
        "# Validation set precision, recall, fscore\n",
        "\n",
        "precision_recall_fscore_support(y_val_class, y_pred_val_class, average='macro')\n"
      ],
      "metadata": {
        "colab": {
          "base_uri": "https://localhost:8080/"
        },
        "id": "rOwUkCG0gGpm",
        "outputId": "bd42b378-6091-4213-d822-023fc5268190"
      },
      "execution_count": 85,
      "outputs": [
        {
          "output_type": "execute_result",
          "data": {
            "text/plain": [
              "(0.5269880365939479, 0.48129097792963343, 0.4503449824402539, None)"
            ]
          },
          "metadata": {},
          "execution_count": 85
        }
      ]
    },
    {
      "cell_type": "code",
      "source": [
        "precision_recall_fscore_support(y_val_class, y_pred_val_class, average='weighted')"
      ],
      "metadata": {
        "colab": {
          "base_uri": "https://localhost:8080/"
        },
        "id": "OorFgXxDzy3o",
        "outputId": "ea25ab1b-387b-49e6-bc82-245543230ef2"
      },
      "execution_count": 86,
      "outputs": [
        {
          "output_type": "execute_result",
          "data": {
            "text/plain": [
              "(0.5454199932053677, 0.45689655172413796, 0.4424926564524609, None)"
            ]
          },
          "metadata": {},
          "execution_count": 86
        }
      ]
    },
    {
      "cell_type": "markdown",
      "source": [
        "## Test Set Evaluation"
      ],
      "metadata": {
        "id": "FiCwOjmPPgCn"
      }
    },
    {
      "cell_type": "markdown",
      "source": [
        "### Test Set Score\n",
        "\n"
      ],
      "metadata": {
        "id": "CWB7U5xDUSmF"
      }
    },
    {
      "cell_type": "code",
      "source": [
        "loss, acc = model.evaluate(x_test, y_test_class, verbose=2)"
      ],
      "metadata": {
        "id": "Y7NEHPM-gzml",
        "colab": {
          "base_uri": "https://localhost:8080/"
        },
        "outputId": "50ce27f1-fdde-4185-8ac4-05b759cc0d43"
      },
      "execution_count": 87,
      "outputs": [
        {
          "output_type": "stream",
          "name": "stdout",
          "text": [
            "2/2 - 0s - loss: 1.4617 - categorical_accuracy: 0.4615 - 269ms/epoch - 135ms/step\n"
          ]
        }
      ]
    },
    {
      "cell_type": "markdown",
      "source": [
        "### Construct Predicted Labels based on Probability of each class"
      ],
      "metadata": {
        "id": "gPwcFV9oAhGh"
      }
    },
    {
      "cell_type": "code",
      "source": [
        "y_test_class"
      ],
      "metadata": {
        "colab": {
          "base_uri": "https://localhost:8080/"
        },
        "id": "tjN7Eit7AiML",
        "outputId": "36ba9ac0-fd21-4734-9c66-96414c0a5c96"
      },
      "execution_count": 88,
      "outputs": [
        {
          "output_type": "execute_result",
          "data": {
            "text/plain": [
              "array([[1, 0, 0, 0, 0, 0, 0],\n",
              "       [0, 0, 1, 0, 0, 0, 0],\n",
              "       [0, 0, 0, 0, 0, 0, 1],\n",
              "       [0, 0, 0, 0, 0, 1, 0],\n",
              "       [0, 0, 0, 1, 0, 0, 0],\n",
              "       [0, 0, 0, 1, 0, 0, 0],\n",
              "       [0, 0, 1, 0, 0, 0, 0],\n",
              "       [0, 0, 0, 0, 1, 0, 0],\n",
              "       [0, 0, 0, 0, 1, 0, 0],\n",
              "       [0, 0, 0, 1, 0, 0, 0],\n",
              "       [0, 0, 0, 0, 0, 0, 1],\n",
              "       [0, 0, 1, 0, 0, 0, 0],\n",
              "       [1, 0, 0, 0, 0, 0, 0],\n",
              "       [0, 0, 0, 0, 0, 1, 0],\n",
              "       [1, 0, 0, 0, 0, 0, 0],\n",
              "       [0, 0, 0, 0, 0, 1, 0],\n",
              "       [1, 0, 0, 0, 0, 0, 0],\n",
              "       [1, 0, 0, 0, 0, 0, 0],\n",
              "       [0, 0, 0, 0, 0, 0, 1],\n",
              "       [0, 0, 0, 1, 0, 0, 0],\n",
              "       [0, 0, 0, 0, 0, 1, 0],\n",
              "       [0, 0, 0, 1, 0, 0, 0],\n",
              "       [0, 0, 0, 1, 0, 0, 0],\n",
              "       [0, 0, 0, 1, 0, 0, 0],\n",
              "       [0, 0, 0, 0, 1, 0, 0],\n",
              "       [0, 0, 1, 0, 0, 0, 0],\n",
              "       [0, 0, 0, 0, 0, 1, 0],\n",
              "       [0, 0, 0, 0, 0, 1, 0],\n",
              "       [0, 0, 1, 0, 0, 0, 0],\n",
              "       [0, 1, 0, 0, 0, 0, 0],\n",
              "       [0, 0, 0, 0, 1, 0, 0],\n",
              "       [0, 0, 1, 0, 0, 0, 0],\n",
              "       [0, 0, 0, 0, 0, 0, 1],\n",
              "       [0, 0, 0, 1, 0, 0, 0],\n",
              "       [0, 0, 1, 0, 0, 0, 0],\n",
              "       [0, 0, 0, 0, 1, 0, 0],\n",
              "       [1, 0, 0, 0, 0, 0, 0],\n",
              "       [1, 0, 0, 0, 0, 0, 0],\n",
              "       [0, 0, 0, 1, 0, 0, 0],\n",
              "       [0, 0, 0, 0, 1, 0, 0],\n",
              "       [0, 0, 0, 0, 0, 0, 1],\n",
              "       [0, 1, 0, 0, 0, 0, 0],\n",
              "       [1, 0, 0, 0, 0, 0, 0],\n",
              "       [0, 0, 0, 1, 0, 0, 0],\n",
              "       [0, 0, 1, 0, 0, 0, 0],\n",
              "       [1, 0, 0, 0, 0, 0, 0],\n",
              "       [0, 0, 0, 0, 0, 1, 0],\n",
              "       [0, 0, 1, 0, 0, 0, 0],\n",
              "       [0, 0, 0, 0, 1, 0, 0],\n",
              "       [0, 0, 0, 0, 0, 1, 0],\n",
              "       [1, 0, 0, 0, 0, 0, 0],\n",
              "       [0, 0, 0, 0, 0, 1, 0]], dtype=int8)"
            ]
          },
          "metadata": {},
          "execution_count": 88
        }
      ]
    },
    {
      "cell_type": "code",
      "source": [
        " np.argmax(y_test_class, axis=1)"
      ],
      "metadata": {
        "colab": {
          "base_uri": "https://localhost:8080/"
        },
        "id": "2fcK-_HzAmc5",
        "outputId": "d540d491-a4f4-4129-f8b4-374afab1c608"
      },
      "execution_count": 89,
      "outputs": [
        {
          "output_type": "execute_result",
          "data": {
            "text/plain": [
              "array([0, 2, 6, 5, 3, 3, 2, 4, 4, 3, 6, 2, 0, 5, 0, 5, 0, 0, 6, 3, 5, 3,\n",
              "       3, 3, 4, 2, 5, 5, 2, 1, 4, 2, 6, 3, 2, 4, 0, 0, 3, 4, 6, 1, 0, 3,\n",
              "       2, 0, 5, 2, 4, 5, 0, 5])"
            ]
          },
          "metadata": {},
          "execution_count": 89
        }
      ]
    },
    {
      "cell_type": "code",
      "source": [
        "y_test_class = np.argmax(y_test_class, axis=1)\n",
        "predictions_test = model.predict(x_test)\n",
        "y_pred_test_class = np.argmax(predictions_test, axis=1)\n",
        "y_proba_test_class = predictions_test\n",
        "\n"
      ],
      "metadata": {
        "id": "uyXvoU2rAckI"
      },
      "execution_count": 90,
      "outputs": []
    },
    {
      "cell_type": "code",
      "source": [
        "predictions_test"
      ],
      "metadata": {
        "colab": {
          "base_uri": "https://localhost:8080/"
        },
        "id": "3BAOUaPwAtuY",
        "outputId": "1a0e9966-6489-4a2c-c036-83ba48edff0a"
      },
      "execution_count": 91,
      "outputs": [
        {
          "output_type": "execute_result",
          "data": {
            "text/plain": [
              "array([[6.18287325e-01, 1.03966491e-02, 3.34109724e-01, 3.59369849e-04,\n",
              "        2.18616538e-02, 1.20737627e-02, 2.91150948e-03],\n",
              "       [1.07700340e-01, 2.53525395e-02, 6.55916631e-01, 4.26784158e-03,\n",
              "        1.61398485e-01, 3.06160394e-02, 1.47480639e-02],\n",
              "       [6.78977847e-01, 1.07164018e-01, 5.21729738e-02, 3.97355482e-03,\n",
              "        4.21293527e-02, 1.25739118e-02, 1.03008330e-01],\n",
              "       [1.94645263e-02, 5.66794649e-02, 8.26306820e-01, 1.35089904e-02,\n",
              "        1.63215632e-03, 8.09062794e-02, 1.50182226e-03],\n",
              "       [1.71062085e-04, 5.25256386e-03, 1.12210391e-02, 9.26221132e-01,\n",
              "        1.70858193e-03, 4.65619788e-02, 8.86355434e-03],\n",
              "       [4.91199037e-03, 2.16881018e-02, 4.51047197e-02, 1.54089123e-01,\n",
              "        6.50892034e-02, 5.60644448e-01, 1.48472458e-01],\n",
              "       [6.85826302e-01, 7.27520045e-03, 2.10677773e-01, 5.02828741e-04,\n",
              "        7.15286583e-02, 2.22313330e-02, 1.95789104e-03],\n",
              "       [8.72397780e-01, 1.23433545e-02, 7.97418803e-02, 2.31777155e-03,\n",
              "        1.09862043e-02, 1.36310654e-02, 8.58192425e-03],\n",
              "       [6.38439059e-02, 1.62219927e-01, 6.51642263e-01, 1.68405045e-02,\n",
              "        1.40318135e-02, 4.62399274e-02, 4.51815687e-02],\n",
              "       [1.37277730e-02, 6.75774598e-03, 1.41733468e-01, 2.08483368e-01,\n",
              "        1.48302451e-01, 4.15043265e-01, 6.59519359e-02],\n",
              "       [6.77500546e-01, 5.07325158e-02, 2.15047807e-01, 2.33936147e-03,\n",
              "        1.22236824e-02, 1.48775745e-02, 2.72785071e-02],\n",
              "       [6.75021231e-01, 1.83277298e-02, 2.39415228e-01, 1.07828225e-03,\n",
              "        4.83021028e-02, 8.35631602e-03, 9.49916057e-03],\n",
              "       [9.21506405e-01, 9.00764670e-03, 3.53552066e-02, 7.66875804e-04,\n",
              "        2.18621809e-02, 1.06689706e-02, 8.32674734e-04],\n",
              "       [1.10787200e-02, 2.77537797e-02, 8.20156157e-01, 1.01951389e-02,\n",
              "        6.67122975e-02, 5.81442751e-02, 5.95959695e-03],\n",
              "       [9.86631215e-02, 5.30788004e-02, 7.75064051e-01, 1.75988034e-03,\n",
              "        5.43666855e-02, 1.18261958e-02, 5.24135027e-03],\n",
              "       [3.28851283e-01, 5.31498156e-03, 7.12542236e-02, 1.41349752e-02,\n",
              "        3.55965607e-02, 5.35534978e-01, 9.31293610e-03],\n",
              "       [8.92295182e-01, 3.84463905e-03, 9.20835659e-02, 2.12275962e-04,\n",
              "        8.18793382e-03, 2.68414291e-03, 6.92219823e-04],\n",
              "       [9.91421878e-01, 2.03744555e-03, 3.82617046e-03, 4.49358558e-05,\n",
              "        1.93848554e-03, 5.91365970e-04, 1.39667085e-04],\n",
              "       [1.25968233e-02, 3.80367637e-01, 8.93574432e-02, 6.13976717e-02,\n",
              "        3.47274467e-02, 1.35445492e-02, 4.08008456e-01],\n",
              "       [1.80336938e-03, 2.57416978e-03, 1.45676862e-02, 7.17918038e-01,\n",
              "        1.94298616e-03, 2.54043937e-01, 7.14985421e-03],\n",
              "       [9.16944683e-01, 8.40811990e-03, 6.26213551e-02, 1.45430866e-04,\n",
              "        7.59534677e-03, 2.81734928e-03, 1.46776694e-03],\n",
              "       [1.18399085e-02, 1.13471523e-02, 2.66264975e-02, 1.34505987e-01,\n",
              "        4.17090990e-02, 6.61691785e-01, 1.12279557e-01],\n",
              "       [8.48182105e-03, 7.86295235e-02, 8.38362947e-02, 4.18343872e-01,\n",
              "        2.88222637e-02, 2.78881609e-01, 1.03004634e-01],\n",
              "       [9.91233042e-04, 9.41727497e-03, 3.96991335e-02, 7.28516102e-01,\n",
              "        4.13555354e-02, 1.69880658e-01, 1.01401247e-02],\n",
              "       [5.53679839e-02, 3.53795022e-01, 6.01622388e-02, 5.35502285e-03,\n",
              "        1.57491893e-01, 5.70547767e-03, 3.62122387e-01],\n",
              "       [7.36091286e-03, 4.14445281e-01, 1.43182233e-01, 1.15569271e-01,\n",
              "        1.97502729e-02, 4.86688167e-02, 2.51023144e-01],\n",
              "       [2.53218133e-02, 7.09347078e-04, 1.02691781e-02, 3.85509320e-02,\n",
              "        2.05516489e-03, 9.21924055e-01, 1.16953347e-03],\n",
              "       [7.77452253e-03, 1.51887944e-03, 3.22989598e-02, 6.11541308e-02,\n",
              "        3.26113924e-02, 8.55079353e-01, 9.56275407e-03],\n",
              "       [3.82811413e-03, 5.50294705e-02, 2.85105199e-01, 5.17275453e-01,\n",
              "        4.13209759e-02, 7.10110515e-02, 2.64297538e-02],\n",
              "       [1.15859203e-01, 8.52876380e-02, 6.35162652e-01, 1.83611438e-02,\n",
              "        2.10949313e-02, 1.14717573e-01, 9.51692369e-03],\n",
              "       [8.17441754e-03, 4.87160385e-02, 5.33122599e-01, 5.51468320e-03,\n",
              "        3.67982209e-01, 1.38649894e-02, 2.26250011e-02],\n",
              "       [8.89271855e-01, 1.04936771e-03, 6.40093163e-02, 1.70519203e-03,\n",
              "        1.05432118e-03, 4.25728224e-02, 3.37046862e-04],\n",
              "       [1.84149027e-01, 3.57461095e-01, 1.19885139e-01, 3.69668528e-02,\n",
              "        1.75018180e-02, 1.79127119e-02, 2.66123414e-01],\n",
              "       [1.53074579e-04, 4.97279456e-03, 1.11909546e-02, 8.79358709e-01,\n",
              "        1.25993192e-02, 7.32887536e-02, 1.84364077e-02],\n",
              "       [2.63027996e-02, 8.31275526e-03, 3.12280923e-01, 3.70530821e-02,\n",
              "        1.60826579e-01, 4.51145470e-01, 4.07828297e-03],\n",
              "       [8.68486881e-01, 3.28093842e-02, 8.14482942e-02, 1.85757701e-04,\n",
              "        1.00297201e-02, 1.48063153e-03, 5.55930147e-03],\n",
              "       [7.80247211e-01, 1.13566546e-02, 1.86328232e-01, 4.23933350e-04,\n",
              "        1.46259759e-02, 5.75828925e-03, 1.25958060e-03],\n",
              "       [9.33690310e-01, 3.09855165e-03, 4.88393605e-02, 6.87102263e-04,\n",
              "        2.63253856e-03, 1.07441368e-02, 3.08128801e-04],\n",
              "       [2.33948021e-03, 2.28828727e-03, 1.17622558e-02, 5.38729787e-01,\n",
              "        8.54376424e-03, 3.94976676e-01, 4.13597375e-02],\n",
              "       [3.25537892e-03, 4.19201143e-02, 1.01689681e-01, 1.10480450e-02,\n",
              "        7.97117412e-01, 6.87794760e-03, 3.80914174e-02],\n",
              "       [2.34351724e-01, 8.41999725e-02, 1.23793602e-01, 1.07831575e-01,\n",
              "        3.92467044e-02, 3.10690612e-01, 9.98857543e-02],\n",
              "       [9.79059160e-01, 3.96447303e-03, 1.17717348e-02, 1.01308986e-04,\n",
              "        2.52241269e-03, 1.40893983e-03, 1.17187912e-03],\n",
              "       [9.66815650e-01, 1.96039397e-03, 2.54891347e-02, 9.27672081e-05,\n",
              "        1.69415679e-03, 3.65566905e-03, 2.92317709e-04],\n",
              "       [4.15270450e-03, 5.67770610e-03, 1.57306995e-02, 3.70438337e-01,\n",
              "        2.82196910e-03, 5.94026327e-01, 7.15227798e-03],\n",
              "       [5.97444689e-03, 2.51595020e-01, 2.42458567e-01, 1.00431219e-01,\n",
              "        1.85662135e-01, 1.88945495e-02, 1.94984064e-01],\n",
              "       [7.02816010e-01, 5.88607788e-02, 1.59386829e-01, 2.43076612e-03,\n",
              "        8.63243081e-03, 4.92555313e-02, 1.86176784e-02],\n",
              "       [1.06477916e-01, 1.20499069e-02, 1.77559540e-01, 5.28569520e-02,\n",
              "        6.85937656e-03, 6.41300380e-01, 2.89591984e-03],\n",
              "       [5.12142926e-02, 4.22927886e-02, 6.61134481e-01, 4.77010431e-03,\n",
              "        1.73200324e-01, 4.10865024e-02, 2.63014659e-02],\n",
              "       [2.38113981e-02, 1.27399489e-01, 5.44913471e-01, 1.23053463e-02,\n",
              "        2.70313740e-01, 9.49981622e-03, 1.17567247e-02],\n",
              "       [2.35866196e-02, 1.68078899e-01, 6.39500797e-01, 3.33592035e-02,\n",
              "        6.30430365e-03, 1.15094408e-01, 1.40758045e-02],\n",
              "       [9.35417593e-01, 5.16482675e-03, 5.19188978e-02, 8.87048809e-05,\n",
              "        4.00476996e-03, 2.73339474e-03, 6.71835907e-04],\n",
              "       [5.10538323e-03, 2.74732313e-03, 3.96806970e-02, 1.60700887e-01,\n",
              "        2.58720596e-03, 7.78459847e-01, 1.07186548e-02]], dtype=float32)"
            ]
          },
          "metadata": {},
          "execution_count": 91
        }
      ]
    },
    {
      "cell_type": "code",
      "source": [
        "y_pred_test_class "
      ],
      "metadata": {
        "colab": {
          "base_uri": "https://localhost:8080/"
        },
        "id": "ph-j4nBsAxjT",
        "outputId": "608a31a6-1434-4f8d-89ce-ba5dc5089131"
      },
      "execution_count": 92,
      "outputs": [
        {
          "output_type": "execute_result",
          "data": {
            "text/plain": [
              "array([0, 2, 0, 2, 3, 5, 0, 0, 2, 5, 0, 0, 0, 2, 2, 5, 0, 0, 6, 3, 0, 5,\n",
              "       3, 3, 6, 1, 5, 5, 3, 2, 2, 0, 1, 3, 5, 0, 0, 0, 3, 4, 5, 0, 0, 5,\n",
              "       1, 0, 5, 2, 2, 2, 0, 5])"
            ]
          },
          "metadata": {},
          "execution_count": 92
        }
      ]
    },
    {
      "cell_type": "markdown",
      "source": [
        "### Test Set Confusion Matrix and Heatmap"
      ],
      "metadata": {
        "id": "Epp2QpxsUVXH"
      }
    },
    {
      "cell_type": "code",
      "source": [
        "# Test set Confusion matrix\n",
        "\n",
        "cm=confusion_matrix(y_test_class, y_pred_test_class)\n",
        "\n",
        "index = ['calm', 'happy', 'sad', 'angry', 'fearful', 'disgust', 'surprised']  \n",
        "columns = ['calm', 'happy', 'sad', 'angry', 'fearful', 'disgust', 'surprised']  \n",
        " \n",
        "cm_df = pd.DataFrame(cm,index,columns)                      \n",
        "plt.figure(figsize=(12,8))\n",
        "ax = plt.axes()\n",
        "\n",
        "sns.heatmap(cm_df, ax = ax, cmap = 'BuGn', fmt=\"d\", annot=True)\n",
        "ax.set_ylabel('True emotion')\n",
        "ax.set_xlabel('Predicted emotion')"
      ],
      "metadata": {
        "colab": {
          "base_uri": "https://localhost:8080/",
          "height": 518
        },
        "id": "ukGrk_cagzyb",
        "outputId": "dab209cf-5b84-48ca-d09f-71d912c39da3"
      },
      "execution_count": 93,
      "outputs": [
        {
          "output_type": "execute_result",
          "data": {
            "text/plain": [
              "Text(0.5, 51.0, 'Predicted emotion')"
            ]
          },
          "metadata": {},
          "execution_count": 93
        },
        {
          "output_type": "display_data",
          "data": {
            "text/plain": [
              "<Figure size 864x576 with 2 Axes>"
            ],
            "image/png": "[encoded data removed]"
          },
          "metadata": {
            "needs_background": "light"
          }
        }
      ]
    },
    {
      "cell_type": "code",
      "source": [
        "# Confusion Matrix\n",
        "cm"
      ],
      "metadata": {
        "colab": {
          "base_uri": "https://localhost:8080/"
        },
        "id": "9f51xwUE8haF",
        "outputId": "42308513-9c15-4385-9436-b40fb1e64b4e"
      },
      "execution_count": 94,
      "outputs": [
        {
          "output_type": "execute_result",
          "data": {
            "text/plain": [
              "array([[9, 0, 1, 0, 0, 0, 0],\n",
              "       [1, 0, 1, 0, 0, 0, 0],\n",
              "       [3, 2, 2, 1, 0, 1, 0],\n",
              "       [0, 0, 0, 6, 0, 4, 0],\n",
              "       [2, 0, 3, 0, 1, 0, 1],\n",
              "       [1, 0, 3, 0, 0, 5, 0],\n",
              "       [2, 1, 0, 0, 0, 1, 1]])"
            ]
          },
          "metadata": {},
          "execution_count": 94
        }
      ]
    },
    {
      "cell_type": "markdown",
      "source": [
        "### Test Set Predicted emotions accuracy"
      ],
      "metadata": {
        "id": "zil3CkweUX0q"
      }
    },
    {
      "cell_type": "code",
      "source": [
        "# Test set prediction accuracy rates\n",
        "\n",
        "values = cm.diagonal()\n",
        "row_sum = np.sum(cm,axis=1)\n",
        "acc = values / row_sum\n",
        "\n",
        "print('Test set predicted emotions accuracy:')\n",
        "for e in range(0, len(values)):\n",
        "    print(index[e],':', f\"{(acc[e]):0.4f}\")"
      ],
      "metadata": {
        "colab": {
          "base_uri": "https://localhost:8080/"
        },
        "id": "t_ORyGGig090",
        "outputId": "1177437e-8950-4da1-8742-ccbdfd621e55"
      },
      "execution_count": 95,
      "outputs": [
        {
          "output_type": "stream",
          "name": "stdout",
          "text": [
            "Test set predicted emotions accuracy:\n",
            "calm : 0.9000\n",
            "happy : 0.0000\n",
            "sad : 0.2222\n",
            "angry : 0.6000\n",
            "fearful : 0.1429\n",
            "disgust : 0.5556\n",
            "surprised : 0.2000\n"
          ]
        }
      ]
    },
    {
      "cell_type": "markdown",
      "source": [
        "### Precision, Recal, Fscore"
      ],
      "metadata": {
        "id": "8Hzthv1t8kwd"
      }
    },
    {
      "cell_type": "code",
      "source": [
        "# Validation set precision, recall, fscore\n",
        "\n",
        "precision_recall_fscore_support(y_test_class, y_pred_test_class, average='macro')\n"
      ],
      "metadata": {
        "colab": {
          "base_uri": "https://localhost:8080/"
        },
        "id": "QnwWoVFnh33F",
        "outputId": "9afda88a-3cb9-42b6-ab86-63e7b3495ec7"
      },
      "execution_count": 96,
      "outputs": [
        {
          "output_type": "execute_result",
          "data": {
            "text/plain": [
              "(0.5016697588126159, 0.37437641723356013, 0.3707114424717255, None)"
            ]
          },
          "metadata": {},
          "execution_count": 96
        }
      ]
    },
    {
      "cell_type": "code",
      "source": [
        "precision_recall_fscore_support(y_test_class, y_pred_test_class, average='weighted')"
      ],
      "metadata": {
        "colab": {
          "base_uri": "https://localhost:8080/"
        },
        "id": "OlDhuPlqzwVB",
        "outputId": "07d64700-f507-4b9c-a4b4-28f9d07a19f1"
      },
      "execution_count": 97,
      "outputs": [
        {
          "output_type": "execute_result",
          "data": {
            "text/plain": [
              "(0.5569680319680319, 0.46153846153846156, 0.44347506208961324, None)"
            ]
          },
          "metadata": {},
          "execution_count": 97
        }
      ]
    },
    {
      "cell_type": "markdown",
      "source": [
        "### ROC AUC Score"
      ],
      "metadata": {
        "id": "sEuBd9IyLuiD"
      }
    },
    {
      "cell_type": "code",
      "source": [
        "ravdess_df = pd.read_csv (df_path)"
      ],
      "metadata": {
        "id": "8bb4OSmyTO6v"
      },
      "execution_count": 98,
      "outputs": []
    },
    {
      "cell_type": "code",
      "source": [
        "labels = [\"calm\", \"happy\", \"sad\", \"angry\", \"fear\", \"disgust\", \"suprised\"]"
      ],
      "metadata": {
        "id": "1leZ4JGVTfTp"
      },
      "execution_count": 99,
      "outputs": []
    },
    {
      "cell_type": "code",
      "source": [
        "y_test_adj = y_test.reshape(-1,)"
      ],
      "metadata": {
        "id": "MRm1ZwnxFStc"
      },
      "execution_count": 100,
      "outputs": []
    },
    {
      "cell_type": "code",
      "source": [
        "y_proba_test_class.shape"
      ],
      "metadata": {
        "colab": {
          "base_uri": "https://localhost:8080/"
        },
        "id": "O-IcYOABFjxB",
        "outputId": "6b753b3a-0482-4d54-9be7-55f2ef5de5b2"
      },
      "execution_count": 101,
      "outputs": [
        {
          "output_type": "execute_result",
          "data": {
            "text/plain": [
              "(52, 7)"
            ]
          },
          "metadata": {},
          "execution_count": 101
        }
      ]
    },
    {
      "cell_type": "code",
      "source": [
        "y_test.shape"
      ],
      "metadata": {
        "colab": {
          "base_uri": "https://localhost:8080/"
        },
        "id": "9AaqUY3PIlMQ",
        "outputId": "1ed2feb2-19bb-45fc-b772-df6eaf0d3fae"
      },
      "execution_count": 102,
      "outputs": [
        {
          "output_type": "execute_result",
          "data": {
            "text/plain": [
              "(52, 1)"
            ]
          },
          "metadata": {},
          "execution_count": 102
        }
      ]
    },
    {
      "cell_type": "code",
      "source": [
        "y_test_adj"
      ],
      "metadata": {
        "colab": {
          "base_uri": "https://localhost:8080/"
        },
        "id": "7LgDudYTKInS",
        "outputId": "cb43e338-8f2a-4d1f-bbe7-7e98b670e75b"
      },
      "execution_count": 103,
      "outputs": [
        {
          "output_type": "execute_result",
          "data": {
            "text/plain": [
              "array([0, 2, 6, 5, 3, 3, 2, 4, 4, 3, 6, 2, 0, 5, 0, 5, 0, 0, 6, 3, 5, 3,\n",
              "       3, 3, 4, 2, 5, 5, 2, 1, 4, 2, 6, 3, 2, 4, 0, 0, 3, 4, 6, 1, 0, 3,\n",
              "       2, 0, 5, 2, 4, 5, 0, 5], dtype=int8)"
            ]
          },
          "metadata": {},
          "execution_count": 103
        }
      ]
    },
    {
      "cell_type": "code",
      "source": [
        "\n",
        "\n",
        "macro_roc_auc_ovo = roc_auc_score(y_test_adj, y_proba_test_class, multi_class=\"ovo\", average=\"macro\")\n",
        "weighted_roc_auc_ovo = roc_auc_score(\n",
        "    y_test_adj, y_proba_test_class, multi_class=\"ovo\", average=\"weighted\"\n",
        ")\n",
        "macro_roc_auc_ovr = roc_auc_score(y_test_adj, y_proba_test_class, multi_class=\"ovr\", average=\"macro\")\n",
        "weighted_roc_auc_ovr = roc_auc_score(\n",
        "    y_test_adj, y_proba_test_class, multi_class=\"ovr\", average=\"weighted\"\n",
        ")\n"
      ],
      "metadata": {
        "id": "oMa4N8EhHlY9"
      },
      "execution_count": 104,
      "outputs": []
    },
    {
      "cell_type": "code",
      "source": [
        "print(\"One-vs-One ROC AUC scores:\\n{:.6f} (macro),\\n{:.6f} \" \"(weighted by prevalence)\\n\".format(macro_roc_auc_ovo, weighted_roc_auc_ovo))\n",
        "print(\"One-vs-Rest ROC AUC scores:\\n{:.6f} (macro),\\n{:.6f} \" \"(weighted by prevalence)\".format(macro_roc_auc_ovr, weighted_roc_auc_ovr))"
      ],
      "metadata": {
        "colab": {
          "base_uri": "https://localhost:8080/"
        },
        "id": "hhBLwtO_ICqL",
        "outputId": "8783f8b4-92fa-4631-c383-9064cf35bec2"
      },
      "execution_count": 105,
      "outputs": [
        {
          "output_type": "stream",
          "name": "stdout",
          "text": [
            "One-vs-One ROC AUC scores:\n",
            "0.788455 (macro),\n",
            "0.812065 (weighted by prevalence)\n",
            "\n",
            "One-vs-Rest ROC AUC scores:\n",
            "0.802459 (macro),\n",
            "0.841817 (weighted by prevalence)\n"
          ]
        }
      ]
    }
  ]
}