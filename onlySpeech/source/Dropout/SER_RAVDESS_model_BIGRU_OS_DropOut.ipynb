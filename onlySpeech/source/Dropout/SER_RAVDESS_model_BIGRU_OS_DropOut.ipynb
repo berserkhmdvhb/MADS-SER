{
  "metadata": {
    "kernelspec": {
      "language": "python",
      "display_name": "Python 3",
      "name": "python3"
    },
    "language_info": {
      "pygments_lexer": "ipython3",
      "nbconvert_exporter": "python",
      "version": "3.6.4",
      "file_extension": ".py",
      "codemirror_mode": {
        "name": "ipython",
        "version": 3
      },
      "name": "python",
      "mimetype": "text/x-python"
    },
    "colab": {
      "name": "SER-RAVDESS-model-BIGRU-OS-DropOut.ipynb",
      "provenance": [],
      "collapsed_sections": [
        "anSyerIFN7qd",
        "nyMzoZKKKiw6"
      ]
    }
  },
  "nbformat_minor": 0,
  "nbformat": 4,
  "cells": [
    {
      "cell_type": "markdown",
      "source": [
        "# Imports"
      ],
      "metadata": {
        "id": "anSyerIFN7qd"
      }
    },
    {
      "cell_type": "code",
      "source": [
        "# Importing Libraries"
      ],
      "metadata": {
        "id": "IMFSwIuvKiw2"
      },
      "execution_count": 1,
      "outputs": []
    },
    {
      "cell_type": "code",
      "source": [
        "!pip install json-tricks"
      ],
      "metadata": {
        "colab": {
          "base_uri": "https://localhost:8080/"
        },
        "id": "bBR8aNsmM2tR",
        "outputId": "ca1cb496-4445-4a15-b57d-72be9c0fc7b4"
      },
      "execution_count": 2,
      "outputs": [
        {
          "output_type": "stream",
          "name": "stdout",
          "text": [
            "Looking in indexes: https://pypi.org/simple, https://us-python.pkg.dev/colab-wheels/public/simple/\n",
            "Collecting json-tricks\n",
            "  Downloading json_tricks-3.15.5-py2.py3-none-any.whl (26 kB)\n",
            "Installing collected packages: json-tricks\n",
            "Successfully installed json-tricks-3.15.5\n"
          ]
        }
      ]
    },
    {
      "cell_type": "code",
      "source": [
        "import pandas as pd\n",
        "import numpy as np\n",
        "\n",
        "import os\n",
        "import sys\n",
        "\n",
        "import librosa\n",
        "import librosa.display\n",
        "#from pydub import AudioSegment, effects\n",
        "#import noisereduce as nr\n",
        "\n",
        "\n",
        "import seaborn as sns\n",
        "import matplotlib.pyplot as plt\n",
        "from IPython.display import Audio\n",
        "\n",
        "import tensorflow as tf\n",
        "import keras\n",
        "import sklearn\n",
        "\n",
        "\n",
        "from tensorflow.keras.models import Sequential, Model\n",
        "from tensorflow.keras.layers import Dense, LSTM, Flatten, Dropout, BatchNormalization\n",
        "from tensorflow.keras.callbacks import ModelCheckpoint, EarlyStopping, ReduceLROnPlateau\n",
        "from tensorflow.keras.optimizers import Adam, SGD\n",
        "from tensorflow.keras.utils import to_categorical, plot_model\n",
        "\n",
        "\n",
        "from keras.models import Sequential, model_from_json, load_model\n",
        "from keras import layers\n",
        "from keras import optimizers\n",
        "from keras import callbacks\n",
        "\n",
        "from sklearn.preprocessing import StandardScaler, OneHotEncoder, LabelEncoder\n",
        "from sklearn.metrics import confusion_matrix, classification_report, precision_recall_fscore_support, roc_auc_score\n",
        "from sklearn.model_selection import train_test_split, StratifiedShuffleSplit\n",
        "from sklearn.multiclass import OneVsRestClassifier\n",
        "\n",
        "\n",
        "from tqdm import tqdm\n",
        "\n",
        "\n",
        "from json_tricks import dump, load\n",
        "\n",
        "\n",
        "\n",
        "import warnings\n",
        "if not sys.warnoptions:\n",
        "    warnings.simplefilter(\"ignore\")\n",
        "warnings.filterwarnings(\"ignore\", category=DeprecationWarning) \n",
        "\n",
        "import time\n",
        "tic = time.perf_counter()\n",
        "\n"
      ],
      "metadata": {
        "id": "77IS8HxqFFCA"
      },
      "execution_count": 3,
      "outputs": []
    },
    {
      "cell_type": "code",
      "source": [
        ""
      ],
      "metadata": {
        "id": "gGYqBIk0FGm4"
      },
      "execution_count": 3,
      "outputs": []
    },
    {
      "cell_type": "markdown",
      "source": [
        "# Dataset"
      ],
      "metadata": {
        "id": "nyMzoZKKKiw6"
      }
    },
    {
      "cell_type": "code",
      "source": [
        "from google.colab import drive\n",
        "drive.mount('/content/drive')"
      ],
      "metadata": {
        "colab": {
          "base_uri": "https://localhost:8080/"
        },
        "id": "JFPDGXmwCBs_",
        "outputId": "66210051-0691-45df-a71a-b652a09e48cb"
      },
      "execution_count": 4,
      "outputs": [
        {
          "output_type": "stream",
          "name": "stdout",
          "text": [
            "Mounted at /content/drive\n"
          ]
        }
      ]
    },
    {
      "cell_type": "code",
      "source": [
        "#Crema = \"/content/drive/MyDrive/datasets/speech/CREMAD/sample/\"\n",
        "#Crema = \"/content/drive/MyDrive/datasets/speech/CREMAD/AudioWAV/\"\n",
        "Ravdess = \"/content/drive/MyDrive/datasets/speech/RAVDESS/data/Audio_Speech_Actors_01-24\"\n",
        "Ravdess_processed = \"/content/drive/MyDrive/datasets/speech/RAVDESS/processedData/onlySpeech/\"\n",
        "Ravdess_speech_sample = \"/content/drive/MyDrive/datasets/speech/RAVDESS/data/Audio_Speech_Actors_01-24/\"\n",
        "df_path = \"/content/drive/MyDrive/datasets/speech/RAVDESS/ravdess_df_onlySpeech.csv\"\n",
        "model_path = Ravdess + \"/model/\"\n",
        "\n",
        "checkpoint_path = model_path + \"best_weights-os-BIGRU-1.hdf5\"\n",
        "saved_model_path = model_path + 'model8723-os-BIGRU-1.json'\n",
        "\n",
        "saved_weights_path = model_path + 'model8723_weights-os-BIGRU-1.h5'\n",
        "saved_model_path_2 = model_path + 'Speech-Emotion-Recognition-Model-os-BIGRU-1.h5'"
      ],
      "metadata": {
        "execution": {
          "iopub.status.busy": "2021-06-21T09:35:38.093538Z",
          "iopub.execute_input": "2021-06-21T09:35:38.093869Z",
          "iopub.status.idle": "2021-06-21T09:35:38.097467Z",
          "shell.execute_reply.started": "2021-06-21T09:35:38.093838Z",
          "shell.execute_reply": "2021-06-21T09:35:38.096608Z"
        },
        "trusted": true,
        "id": "vR2GjHL4Kiw7"
      },
      "execution_count": 5,
      "outputs": []
    },
    {
      "cell_type": "code",
      "source": [
        ""
      ],
      "metadata": {
        "id": "J2T6JxzIF2Jq"
      },
      "execution_count": 5,
      "outputs": []
    },
    {
      "cell_type": "code",
      "source": [
        "##Hypter Parameters' Range\n",
        "params = {\n",
        "    \"batch_size\": 20,  # 20<16<10, 25 was a bust\n",
        "    \"epochs\": 300,\n",
        "    \"lr\": 0.00010000,\n",
        "    \"time_steps\": 60\n",
        "}\n",
        "#TIME_STEPS = params[\"time_steps\"]\n",
        "#BATCH_SIZE = params[\"batch_size\"]\n",
        "#iter_changes = \"dropout_layers_0.4_0.4\"\n"
      ],
      "metadata": {
        "id": "jnEd5_Vvy4ue"
      },
      "execution_count": 6,
      "outputs": []
    },
    {
      "cell_type": "code",
      "source": [
        ""
      ],
      "metadata": {
        "id": "dKXM0xT-N8uy"
      },
      "execution_count": 6,
      "outputs": []
    },
    {
      "cell_type": "markdown",
      "source": [
        "# Load Processed Files, Construct Train, Validation and Test Sets"
      ],
      "metadata": {
        "id": "fse_mTpaOGdQ"
      }
    },
    {
      "cell_type": "code",
      "source": [
        "\n",
        "processed_path = Ravdess_processed\n",
        "x_path = processed_path + \"X_features.json\" # FILE LOAD PATH\n",
        "y_path =  processed_path + \"Y_labels.json\" # FILE SAVE PATH\n",
        "#x_path = '/content/drive/MyDrive/datasets/speech/RAVDESS/processedData/X_features.json'\n",
        "\n",
        "# Load X,Y json files back into lists, convert to np.arrays\n",
        "\n",
        "X = load(x_path)\n",
        "X = np.asarray(X, dtype = 'float32')\n",
        "\n",
        "Y = load(y_path)\n",
        "Y = np.asarray(Y, dtype = 'int8')"
      ],
      "metadata": {
        "id": "101BpvWgN8xX"
      },
      "execution_count": 7,
      "outputs": []
    },
    {
      "cell_type": "code",
      "source": [
        "# Split to train, validation, and test sets.\n",
        "from sklearn.model_selection import train_test_split\n",
        "# 1st Split: X,Y => (x_train, x_tosplit) (y_train, y_tosplit)\n",
        "x_train, x_tosplit, y_train, y_tosplit = train_test_split(X, Y, test_size = 0.30, random_state = 1)\n",
        "# 2nd Split: x_tosplit,y_tosplit => (x_val, x_test) (y_val, y_test) \n",
        "x_val, x_test, y_val, y_test = train_test_split(x_tosplit, y_tosplit, test_size = 0.304, random_state = 1)\n",
        "#'One-hot' vectors for Y: emotion classification\n",
        "y_train_class = tf.keras.utils.to_categorical(y_train, 7, dtype = 'int8')\n",
        "y_val_class = tf.keras.utils.to_categorical(y_val, 7, dtype = 'int8')"
      ],
      "metadata": {
        "id": "CuF9M1mfOD7X"
      },
      "execution_count": 8,
      "outputs": []
    },
    {
      "cell_type": "code",
      "source": [
        "# x_train, x_val, and x_test shape check.\n",
        "print(np.shape(x_train))\n",
        "print(np.shape(x_val))\n",
        "print(np.shape(x_test))"
      ],
      "metadata": {
        "colab": {
          "base_uri": "https://localhost:8080/"
        },
        "id": "od-D1YgBOGXs",
        "outputId": "f5a2e91b-6f17-424a-eab0-49bab982480d"
      },
      "execution_count": 9,
      "outputs": [
        {
          "output_type": "stream",
          "name": "stdout",
          "text": [
            "(940, 448, 15)\n",
            "(281, 448, 15)\n",
            "(123, 448, 15)\n"
          ]
        }
      ]
    },
    {
      "cell_type": "code",
      "source": [
        "# Save x_test, y_test to JSON.\n",
        "\n",
        "x_test_path = processed_path + 'x_test_data.json'\n",
        "dump(obj = x_test, fp = x_test_path)\n",
        "\n",
        "y_test_path = processed_path + 'y_test_data.json'\n",
        "dump(obj = y_test, fp = y_test_path)"
      ],
      "metadata": {
        "colab": {
          "base_uri": "https://localhost:8080/",
          "height": 105
        },
        "id": "nTExHJVsOHQ5",
        "outputId": "ec794768-e2c9-4b25-f3f9-df0ad81b1eeb"
      },
      "execution_count": 10,
      "outputs": [
        {
          "output_type": "execute_result",
          "data": {
            "text/plain": [
              "'{\"__ndarray__\": [[6], [3], [5], [4], [0], [4], [5], [4], [3], [6], [3], [4], [0], [5], [3], [0], [5], [5], [2], [6], [6], [0], [0], [2], [5], [0], [5], [0], [4], [1], [3], [6], [6], [5], [4], [2], [5], [4], [4], [5], [6], [0], [1], [2], [1], [1], [6], [2], [6], [4], [5], [6], [1], [2], [5], [1], [1], [4], [4], [1], [6], [3], [4], [2], [2], [2], [4], [0], [3], [6], [5], [1], [2], [4], [3], [0], [3], [6], [2], [6], [0], [4], [1], [3], [6], [3], [6], [4], [3], [3], [2], [5], [4], [1], [0], [3], [2], [3], [1], [0], [2], [6], [5], [4], [4], [3], [3], [6], [4], [0], [3], [4], [6], [5], [3], [2], [3], [1], [6], [6], [1], [0], [6]], \"dtype\": \"int8\", \"shape\": [123, 1], \"Corder\": true}'"
            ],
            "application/vnd.google.colaboratory.intrinsic+json": {
              "type": "string"
            }
          },
          "metadata": {},
          "execution_count": 10
        }
      ]
    },
    {
      "cell_type": "code",
      "source": [
        "# Loading x_test, y_test json files, and converting to np.arrays\n",
        "\n",
        "x_test = load(processed_path + 'x_test_data.json')\n",
        "x_test = np.asarray(x_test).astype('float32')\n",
        "\n",
        "y_test = load(processed_path + 'y_test_data.json')\n",
        "y_test = np.asarray(y_test).astype('int8')\n",
        "\n",
        "y_test_class = tf.keras.utils.to_categorical(y_test, 7, dtype = 'int8')"
      ],
      "metadata": {
        "id": "kAFBRsmk5dzm"
      },
      "execution_count": 11,
      "outputs": []
    },
    {
      "cell_type": "code",
      "source": [
        "X.shape"
      ],
      "metadata": {
        "id": "15joCR4gu4r7",
        "colab": {
          "base_uri": "https://localhost:8080/"
        },
        "outputId": "1f2d271c-1446-4fba-8def-0907a22f4427"
      },
      "execution_count": 12,
      "outputs": [
        {
          "output_type": "execute_result",
          "data": {
            "text/plain": [
              "(1344, 448, 15)"
            ]
          },
          "metadata": {},
          "execution_count": 12
        }
      ]
    },
    {
      "cell_type": "code",
      "source": [
        "X.shape[1:3]"
      ],
      "metadata": {
        "colab": {
          "base_uri": "https://localhost:8080/"
        },
        "id": "8MQhoPKjEzi4",
        "outputId": "ba5acaa4-66df-43be-bc4a-653156aadf5d"
      },
      "execution_count": 13,
      "outputs": [
        {
          "output_type": "execute_result",
          "data": {
            "text/plain": [
              "(448, 15)"
            ]
          },
          "metadata": {},
          "execution_count": 13
        }
      ]
    },
    {
      "cell_type": "markdown",
      "source": [
        "# RNN Model"
      ],
      "metadata": {
        "id": "gnWVMbR6KixC"
      }
    },
    {
      "cell_type": "code",
      "source": [
        "tic"
      ],
      "metadata": {
        "colab": {
          "base_uri": "https://localhost:8080/"
        },
        "id": "7CHZWdfcN8oo",
        "outputId": "eca00809-b4ed-4bd0-aa03-f7473918c3f2"
      },
      "execution_count": 14,
      "outputs": [
        {
          "output_type": "execute_result",
          "data": {
            "text/plain": [
              "49.625140497"
            ]
          },
          "metadata": {},
          "execution_count": 14
        }
      ]
    },
    {
      "cell_type": "markdown",
      "source": [
        "## Define Model & Training"
      ],
      "metadata": {
        "id": "GJjJYnJQORJ8"
      }
    },
    {
      "cell_type": "code",
      "source": [
        "X.shape"
      ],
      "metadata": {
        "colab": {
          "base_uri": "https://localhost:8080/"
        },
        "id": "Mp44ii28CiPt",
        "outputId": "3af853d5-8059-467f-ea08-6b24c294474b"
      },
      "execution_count": 15,
      "outputs": [
        {
          "output_type": "execute_result",
          "data": {
            "text/plain": [
              "(1344, 448, 15)"
            ]
          },
          "metadata": {},
          "execution_count": 15
        }
      ]
    },
    {
      "cell_type": "code",
      "source": [
        "max_features = 2452\n",
        "embed_dim = 256"
      ],
      "metadata": {
        "id": "ALafROv3DmHV"
      },
      "execution_count": 16,
      "outputs": []
    },
    {
      "cell_type": "code",
      "source": [
        ""
      ],
      "metadata": {
        "id": "tySHfGDlBFWz"
      },
      "execution_count": 16,
      "outputs": []
    },
    {
      "cell_type": "code",
      "source": [
        "# Initializing the model\n",
        "\n",
        "\n",
        "model = Sequential()\n",
        "model.add(layers.Bidirectional(layers.GRU(64, dropout=0.1, recurrent_dropout=0.2, return_sequences = True), input_shape=(X.shape[1:3])))\n",
        "model.add(layers.Bidirectional(layers.GRU(64, dropout=0.05)))\n",
        "model.add(Dropout(0.05))\n",
        "model.add(layers.Dense(7, activation = 'softmax'))\n",
        "print(model.summary())\n",
        "\n",
        "batch_size = 23\n",
        "\n",
        "# Callbacks functions\n",
        "\n",
        "#-> EearlyStopping\n",
        "es = EarlyStopping(monitor='val_loss', mode='min', verbose=1,\n",
        "                    patience=10, min_delta=0.0001)\n",
        "\n",
        "\n",
        "#-> Save the best weights\n",
        "mcp_save = callbacks.ModelCheckpoint(checkpoint_path, save_best_only=True,\n",
        "                           monitor='val_categorical_accuracy',\n",
        "                           mode='max')\n",
        "#-> Reduce learning rate after 100 epoches without improvement.\n",
        "rlrop = callbacks.ReduceLROnPlateau(monitor='val_categorical_accuracy', \n",
        "                                    factor=0.1, patience=20)\n",
        "                             \n",
        "# Compile & train   \n",
        "model.compile(loss='categorical_crossentropy', \n",
        "                optimizer='RMSProp', \n",
        "                metrics=['categorical_accuracy'])\n",
        "\n",
        "\n"
      ],
      "metadata": {
        "colab": {
          "base_uri": "https://localhost:8080/"
        },
        "id": "aD2adyVGOJs4",
        "outputId": "17fe497a-22af-43a5-a5ca-7c2315d66478"
      },
      "execution_count": 19,
      "outputs": [
        {
          "output_type": "stream",
          "name": "stdout",
          "text": [
            "Model: \"sequential\"\n",
            "_________________________________________________________________\n",
            " Layer (type)                Output Shape              Param #   \n",
            "=================================================================\n",
            " bidirectional (Bidirectiona  (None, 448, 128)         31104     \n",
            " l)                                                              \n",
            "                                                                 \n",
            " bidirectional_1 (Bidirectio  (None, 128)              74496     \n",
            " nal)                                                            \n",
            "                                                                 \n",
            " dropout (Dropout)           (None, 128)               0         \n",
            "                                                                 \n",
            " dense (Dense)               (None, 7)                 903       \n",
            "                                                                 \n",
            "=================================================================\n",
            "Total params: 106,503\n",
            "Trainable params: 106,503\n",
            "Non-trainable params: 0\n",
            "_________________________________________________________________\n",
            "None\n"
          ]
        }
      ]
    },
    {
      "cell_type": "code",
      "source": [
        ""
      ],
      "metadata": {
        "id": "4DBF6kqx-OHZ"
      },
      "execution_count": 19,
      "outputs": []
    },
    {
      "cell_type": "code",
      "source": [
        "history = model.fit(x_train, y_train_class, \n",
        "                      epochs=340, batch_size = batch_size, \n",
        "                      validation_data = (x_val, y_val_class), \n",
        "                      callbacks = [es, mcp_save, rlrop])\n",
        "toc = time.perf_counter()"
      ],
      "metadata": {
        "colab": {
          "base_uri": "https://localhost:8080/"
        },
        "id": "Da7Gc9x_izth",
        "outputId": "cef6f295-b802-4897-b401-56b4d35d224a"
      },
      "execution_count": 20,
      "outputs": [
        {
          "output_type": "stream",
          "name": "stdout",
          "text": [
            "Epoch 1/340\n",
            "41/41 [==============================] - 66s 1s/step - loss: 2.0753 - categorical_accuracy: 0.1404 - val_loss: 2.0507 - val_categorical_accuracy: 0.1637 - lr: 0.0010\n",
            "Epoch 2/340\n",
            "41/41 [==============================] - 53s 1s/step - loss: 1.9859 - categorical_accuracy: 0.1723 - val_loss: 2.0818 - val_categorical_accuracy: 0.1673 - lr: 0.0010\n",
            "Epoch 3/340\n",
            "41/41 [==============================] - 52s 1s/step - loss: 1.9677 - categorical_accuracy: 0.1915 - val_loss: 2.0344 - val_categorical_accuracy: 0.1317 - lr: 0.0010\n",
            "Epoch 4/340\n",
            "41/41 [==============================] - 52s 1s/step - loss: 1.9571 - categorical_accuracy: 0.2085 - val_loss: 1.9529 - val_categorical_accuracy: 0.1815 - lr: 0.0010\n",
            "Epoch 5/340\n",
            "41/41 [==============================] - 52s 1s/step - loss: 1.9541 - categorical_accuracy: 0.1883 - val_loss: 1.9751 - val_categorical_accuracy: 0.1922 - lr: 0.0010\n",
            "Epoch 6/340\n",
            "41/41 [==============================] - 51s 1s/step - loss: 1.9258 - categorical_accuracy: 0.1947 - val_loss: 2.1060 - val_categorical_accuracy: 0.1210 - lr: 0.0010\n",
            "Epoch 7/340\n",
            "41/41 [==============================] - 52s 1s/step - loss: 1.9264 - categorical_accuracy: 0.2096 - val_loss: 1.9333 - val_categorical_accuracy: 0.1957 - lr: 0.0010\n",
            "Epoch 8/340\n",
            "41/41 [==============================] - 51s 1s/step - loss: 1.8761 - categorical_accuracy: 0.2309 - val_loss: 2.0831 - val_categorical_accuracy: 0.1103 - lr: 0.0010\n",
            "Epoch 9/340\n",
            "41/41 [==============================] - 51s 1s/step - loss: 1.8422 - categorical_accuracy: 0.2670 - val_loss: 2.3081 - val_categorical_accuracy: 0.1032 - lr: 0.0010\n",
            "Epoch 10/340\n",
            "41/41 [==============================] - 52s 1s/step - loss: 1.8508 - categorical_accuracy: 0.2543 - val_loss: 1.9344 - val_categorical_accuracy: 0.2705 - lr: 0.0010\n",
            "Epoch 11/340\n",
            "41/41 [==============================] - 51s 1s/step - loss: 1.8330 - categorical_accuracy: 0.2574 - val_loss: 2.0121 - val_categorical_accuracy: 0.1708 - lr: 0.0010\n",
            "Epoch 12/340\n",
            "41/41 [==============================] - 52s 1s/step - loss: 1.8016 - categorical_accuracy: 0.2777 - val_loss: 1.8707 - val_categorical_accuracy: 0.2811 - lr: 0.0010\n",
            "Epoch 13/340\n",
            "41/41 [==============================] - 51s 1s/step - loss: 1.7815 - categorical_accuracy: 0.2702 - val_loss: 2.1431 - val_categorical_accuracy: 0.1246 - lr: 0.0010\n",
            "Epoch 14/340\n",
            "41/41 [==============================] - 51s 1s/step - loss: 1.7463 - categorical_accuracy: 0.3160 - val_loss: 1.9179 - val_categorical_accuracy: 0.2135 - lr: 0.0010\n",
            "Epoch 15/340\n",
            "41/41 [==============================] - 51s 1s/step - loss: 1.7065 - categorical_accuracy: 0.3415 - val_loss: 1.8455 - val_categorical_accuracy: 0.2705 - lr: 0.0010\n",
            "Epoch 16/340\n",
            "41/41 [==============================] - 51s 1s/step - loss: 1.6650 - categorical_accuracy: 0.3564 - val_loss: 1.8225 - val_categorical_accuracy: 0.2811 - lr: 0.0010\n",
            "Epoch 17/340\n",
            "41/41 [==============================] - 52s 1s/step - loss: 1.6210 - categorical_accuracy: 0.3745 - val_loss: 1.8093 - val_categorical_accuracy: 0.2740 - lr: 0.0010\n",
            "Epoch 18/340\n",
            "41/41 [==============================] - 51s 1s/step - loss: 1.5844 - categorical_accuracy: 0.3926 - val_loss: 1.8432 - val_categorical_accuracy: 0.2669 - lr: 0.0010\n",
            "Epoch 19/340\n",
            "41/41 [==============================] - 52s 1s/step - loss: 1.5846 - categorical_accuracy: 0.3936 - val_loss: 1.7696 - val_categorical_accuracy: 0.2847 - lr: 0.0010\n",
            "Epoch 20/340\n",
            "41/41 [==============================] - 52s 1s/step - loss: 1.5423 - categorical_accuracy: 0.4064 - val_loss: 1.9707 - val_categorical_accuracy: 0.2776 - lr: 0.0010\n",
            "Epoch 21/340\n",
            "41/41 [==============================] - 52s 1s/step - loss: 1.5210 - categorical_accuracy: 0.4064 - val_loss: 1.8149 - val_categorical_accuracy: 0.3132 - lr: 0.0010\n",
            "Epoch 22/340\n",
            "41/41 [==============================] - 52s 1s/step - loss: 1.4788 - categorical_accuracy: 0.4287 - val_loss: 1.8265 - val_categorical_accuracy: 0.2776 - lr: 0.0010\n",
            "Epoch 23/340\n",
            "41/41 [==============================] - 52s 1s/step - loss: 1.4747 - categorical_accuracy: 0.4521 - val_loss: 1.9762 - val_categorical_accuracy: 0.2313 - lr: 0.0010\n",
            "Epoch 24/340\n",
            "41/41 [==============================] - 51s 1s/step - loss: 1.4803 - categorical_accuracy: 0.4330 - val_loss: 1.8859 - val_categorical_accuracy: 0.2705 - lr: 0.0010\n",
            "Epoch 25/340\n",
            "41/41 [==============================] - 52s 1s/step - loss: 1.4451 - categorical_accuracy: 0.4511 - val_loss: 1.6301 - val_categorical_accuracy: 0.3950 - lr: 0.0010\n",
            "Epoch 26/340\n",
            "41/41 [==============================] - 52s 1s/step - loss: 1.4431 - categorical_accuracy: 0.4500 - val_loss: 1.6372 - val_categorical_accuracy: 0.3986 - lr: 0.0010\n",
            "Epoch 27/340\n",
            "41/41 [==============================] - 51s 1s/step - loss: 1.4010 - categorical_accuracy: 0.4766 - val_loss: 1.6696 - val_categorical_accuracy: 0.3772 - lr: 0.0010\n",
            "Epoch 28/340\n",
            "41/41 [==============================] - 52s 1s/step - loss: 1.3796 - categorical_accuracy: 0.4649 - val_loss: 1.6835 - val_categorical_accuracy: 0.4021 - lr: 0.0010\n",
            "Epoch 29/340\n",
            "41/41 [==============================] - 52s 1s/step - loss: 1.4073 - categorical_accuracy: 0.4532 - val_loss: 1.8185 - val_categorical_accuracy: 0.3132 - lr: 0.0010\n",
            "Epoch 30/340\n",
            "41/41 [==============================] - 52s 1s/step - loss: 1.3652 - categorical_accuracy: 0.4660 - val_loss: 1.7144 - val_categorical_accuracy: 0.3737 - lr: 0.0010\n",
            "Epoch 31/340\n",
            "41/41 [==============================] - 51s 1s/step - loss: 1.3412 - categorical_accuracy: 0.4745 - val_loss: 1.7009 - val_categorical_accuracy: 0.4021 - lr: 0.0010\n",
            "Epoch 32/340\n",
            "41/41 [==============================] - 51s 1s/step - loss: 1.3133 - categorical_accuracy: 0.5043 - val_loss: 1.9224 - val_categorical_accuracy: 0.3345 - lr: 0.0010\n",
            "Epoch 33/340\n",
            "41/41 [==============================] - 51s 1s/step - loss: 1.2925 - categorical_accuracy: 0.5106 - val_loss: 1.7248 - val_categorical_accuracy: 0.3950 - lr: 0.0010\n",
            "Epoch 34/340\n",
            "41/41 [==============================] - 51s 1s/step - loss: 1.2693 - categorical_accuracy: 0.5309 - val_loss: 1.6876 - val_categorical_accuracy: 0.3879 - lr: 0.0010\n",
            "Epoch 35/340\n",
            "41/41 [==============================] - 51s 1s/step - loss: 1.2660 - categorical_accuracy: 0.5043 - val_loss: 1.9048 - val_categorical_accuracy: 0.3416 - lr: 0.0010\n",
            "Epoch 35: early stopping\n"
          ]
        }
      ]
    },
    {
      "cell_type": "code",
      "source": [
        ""
      ],
      "metadata": {
        "id": "3MekXCZHizyZ"
      },
      "execution_count": null,
      "outputs": []
    },
    {
      "cell_type": "code",
      "source": [
        "print(f\"Running time: {(toc - tic)/60:0.4f} minutes\")"
      ],
      "metadata": {
        "id": "cHmSBRhVOELJ",
        "colab": {
          "base_uri": "https://localhost:8080/"
        },
        "outputId": "3107150e-3886-4650-a798-21cb218ce1ad"
      },
      "execution_count": 21,
      "outputs": [
        {
          "output_type": "stream",
          "name": "stdout",
          "text": [
            "Running time: 32.6223 minutes\n"
          ]
        }
      ]
    },
    {
      "cell_type": "markdown",
      "source": [
        "## Loading Model"
      ],
      "metadata": {
        "id": "jCQelzMAKixD"
      }
    },
    {
      "cell_type": "code",
      "source": [
        "# Define the best weights to the model.\\\n",
        "#model.load_weights(checkpoint_path)"
      ],
      "metadata": {
        "id": "gruZAW2wI-tO"
      },
      "execution_count": 22,
      "outputs": []
    },
    {
      "cell_type": "markdown",
      "source": [
        "# Evaluation"
      ],
      "metadata": {
        "id": "kDxTjEK0KixD"
      }
    },
    {
      "cell_type": "markdown",
      "source": [
        "## Save & Load model, weights"
      ],
      "metadata": {
        "id": "1YfguG0tPatV"
      }
    },
    {
      "cell_type": "code",
      "source": [
        "# Saving model & weights\n",
        "model_json = model.to_json()\n",
        "\n",
        "\n",
        "\n",
        "with open(saved_model_path, \"w\") as json_file:\n",
        "    json_file.write(model_json)\n",
        "    \n",
        "model.save_weights(saved_weights_path)\n",
        "print(\"Saved model to disk\")"
      ],
      "metadata": {
        "id": "MsVoNhqmgGsK",
        "colab": {
          "base_uri": "https://localhost:8080/"
        },
        "outputId": "e2cf9337-8c88-4267-9c30-05936ec380d9"
      },
      "execution_count": 23,
      "outputs": [
        {
          "output_type": "stream",
          "name": "stdout",
          "text": [
            "Saved model to disk\n"
          ]
        }
      ]
    },
    {
      "cell_type": "code",
      "source": [
        "# Reading the model from JSON file\n",
        "#model_path = Ravdess + \"/model/\"\n",
        "#saved_model_path = model_path + 'model8723.json'\n",
        "#saved_weights_path = model_path + 'model8723_weights.h5'\n",
        "\n",
        "\n",
        "with open(saved_model_path , 'r') as json_file:\n",
        "    json_savedModel = json_file.read()\n",
        "    \n",
        "# Loading the model architecture, weights\n",
        "model = tf.keras.models.model_from_json(json_savedModel)\n",
        "model.load_weights(saved_weights_path)\n",
        "\n",
        "# Compiling the model with similar parameters as the original model.\n",
        "model.compile(loss='categorical_crossentropy', \n",
        "                optimizer='RMSProp', \n",
        "                metrics=['categorical_accuracy'])\n",
        "\n",
        "# Model's structure visualization\n",
        "tf.keras.utils.plot_model(model, to_file='model.png', show_shapes=True, show_layer_names=True)"
      ],
      "metadata": {
        "id": "y4OJGhLmgfX6",
        "colab": {
          "base_uri": "https://localhost:8080/",
          "height": 533
        },
        "outputId": "1f7255d6-48dd-41db-ea8d-496d0d12133d"
      },
      "execution_count": 24,
      "outputs": [
        {
          "output_type": "execute_result",
          "data": {
            "text/plain": [
              "<IPython.core.display.Image object>"
            ],
            "image/png": "[encoded data removed]"
          },
          "metadata": {},
          "execution_count": 24
        }
      ]
    },
    {
      "cell_type": "code",
      "source": [
        ""
      ],
      "metadata": {
        "id": "B_SW6eUAgvEj"
      },
      "execution_count": 24,
      "outputs": []
    },
    {
      "cell_type": "code",
      "source": [
        ""
      ],
      "metadata": {
        "id": "cCfkUXTYgzSB"
      },
      "execution_count": 24,
      "outputs": []
    },
    {
      "cell_type": "code",
      "source": [
        "model.save(saved_model_path_2)"
      ],
      "metadata": {
        "trusted": true,
        "id": "Z5Uzb_bGKixE"
      },
      "execution_count": 25,
      "outputs": []
    },
    {
      "cell_type": "markdown",
      "source": [
        "## Train (fit) Visualization"
      ],
      "metadata": {
        "id": "ATvBW0SPO-eq"
      }
    },
    {
      "cell_type": "code",
      "source": [
        "# Loss, Accuracy presentation\n",
        "\n",
        "# Plot history: Loss\n",
        "plt.plot(history.history['loss'], label='Loss (training data)')\n",
        "plt.plot(history.history['val_loss'], label='Loss (validation data)')\n",
        "plt.title('Loss for train and validation')\n",
        "plt.ylabel('Loss value')\n",
        "plt.xlabel('No. epoch')\n",
        "plt.legend(loc=\"upper left\")\n",
        "plt.show()\n",
        "\n",
        "#Plot history: Accuracy\n",
        "plt.plot(history.history['categorical_accuracy'], label='Acc (training data)')\n",
        "plt.plot(history.history['val_categorical_accuracy'], label='Acc (validation data)')\n",
        "plt.title('Model accuracy')\n",
        "plt.ylabel('Acc %')\n",
        "plt.xlabel('No. epoch')\n",
        "plt.legend(loc=\"upper left\")\n",
        "plt.show()"
      ],
      "metadata": {
        "id": "UjhUHhU_f4EY",
        "colab": {
          "base_uri": "https://localhost:8080/",
          "height": 573
        },
        "outputId": "e4206ccb-5cec-406b-8122-c9899a1884d5"
      },
      "execution_count": 26,
      "outputs": [
        {
          "output_type": "display_data",
          "data": {
            "text/plain": [
              "<Figure size 432x288 with 1 Axes>"
            ],
            "image/png": "[encoded data removed]"
          },
          "metadata": {
            "needs_background": "light"
          }
        },
        {
          "output_type": "display_data",
          "data": {
            "text/plain": [
              "<Figure size 432x288 with 1 Axes>"
            ],
            "image/png": "[encoded data removed]"
          },
          "metadata": {
            "needs_background": "light"
          }
        }
      ]
    },
    {
      "cell_type": "markdown",
      "source": [
        "## Validation Set Evaluation"
      ],
      "metadata": {
        "id": "UZ3lFduxPQeB"
      }
    },
    {
      "cell_type": "markdown",
      "source": [
        "### Val Set Score"
      ],
      "metadata": {
        "id": "5YoYCa22PMGz"
      }
    },
    {
      "cell_type": "code",
      "source": [
        ""
      ],
      "metadata": {
        "id": "jQavrzbB_8fy"
      },
      "execution_count": 26,
      "outputs": []
    },
    {
      "cell_type": "code",
      "source": [
        "# Validation score\n",
        "loss,acc = model.evaluate(x_val, y_val_class, verbose=2)\n"
      ],
      "metadata": {
        "id": "X_KdTUyrf7-j",
        "colab": {
          "base_uri": "https://localhost:8080/"
        },
        "outputId": "1cb24131-49f4-4541-8b05-960a4ea59c58"
      },
      "execution_count": 27,
      "outputs": [
        {
          "output_type": "stream",
          "name": "stdout",
          "text": [
            "9/9 - 3s - loss: 1.9048 - categorical_accuracy: 0.3416 - 3s/epoch - 360ms/step\n"
          ]
        }
      ]
    },
    {
      "cell_type": "code",
      "source": [
        ""
      ],
      "metadata": {
        "id": "09k_I9DM_2Q0"
      },
      "execution_count": 27,
      "outputs": []
    },
    {
      "cell_type": "markdown",
      "source": [
        "### Construct Predicted Labels based on Probability of each class"
      ],
      "metadata": {
        "id": "hz7nc15A_3hb"
      }
    },
    {
      "cell_type": "code",
      "source": [
        "y_val_class"
      ],
      "metadata": {
        "id": "CFM1P2SZ_85N",
        "colab": {
          "base_uri": "https://localhost:8080/"
        },
        "outputId": "cb28f82e-028b-4d69-8de2-ba59aea9fb1e"
      },
      "execution_count": 28,
      "outputs": [
        {
          "output_type": "execute_result",
          "data": {
            "text/plain": [
              "array([[0, 0, 0, ..., 0, 0, 1],\n",
              "       [0, 1, 0, ..., 0, 0, 0],\n",
              "       [0, 0, 0, ..., 0, 1, 0],\n",
              "       ...,\n",
              "       [0, 0, 0, ..., 0, 0, 1],\n",
              "       [0, 0, 0, ..., 0, 0, 1],\n",
              "       [0, 0, 1, ..., 0, 0, 0]], dtype=int8)"
            ]
          },
          "metadata": {},
          "execution_count": 28
        }
      ]
    },
    {
      "cell_type": "code",
      "source": [
        "np.argmax(y_val_class, axis=1)"
      ],
      "metadata": {
        "id": "C9UHSeXbAASy",
        "colab": {
          "base_uri": "https://localhost:8080/"
        },
        "outputId": "7ddbba9c-f083-480b-ab59-2eb062bfc4a6"
      },
      "execution_count": 29,
      "outputs": [
        {
          "output_type": "execute_result",
          "data": {
            "text/plain": [
              "array([6, 1, 5, 3, 5, 5, 2, 5, 0, 4, 5, 1, 5, 5, 2, 1, 0, 1, 4, 5, 3, 6,\n",
              "       0, 2, 2, 4, 6, 5, 1, 4, 0, 5, 2, 3, 1, 6, 5, 2, 1, 0, 3, 4, 0, 5,\n",
              "       3, 3, 0, 6, 4, 6, 0, 3, 3, 3, 4, 5, 3, 2, 3, 6, 1, 0, 3, 2, 4, 4,\n",
              "       6, 2, 4, 0, 5, 5, 1, 2, 0, 5, 5, 3, 4, 6, 4, 2, 2, 3, 6, 0, 0, 3,\n",
              "       2, 5, 1, 4, 1, 0, 6, 3, 6, 1, 2, 6, 6, 2, 0, 5, 1, 5, 4, 0, 5, 2,\n",
              "       0, 5, 0, 6, 2, 3, 3, 2, 2, 2, 0, 1, 5, 2, 5, 3, 2, 0, 3, 3, 3, 2,\n",
              "       0, 3, 0, 6, 3, 3, 3, 1, 0, 3, 6, 5, 6, 4, 0, 2, 6, 2, 1, 1, 4, 6,\n",
              "       0, 2, 1, 1, 3, 0, 6, 6, 2, 0, 1, 5, 5, 4, 5, 5, 0, 2, 4, 4, 6, 4,\n",
              "       3, 6, 2, 3, 2, 3, 0, 1, 0, 3, 1, 5, 2, 1, 6, 0, 4, 1, 6, 2, 0, 0,\n",
              "       6, 0, 0, 2, 5, 5, 1, 2, 3, 2, 2, 2, 4, 3, 5, 3, 1, 0, 2, 0, 2, 4,\n",
              "       6, 1, 0, 6, 5, 6, 4, 0, 0, 4, 5, 3, 2, 6, 2, 6, 3, 5, 3, 1, 5, 6,\n",
              "       5, 1, 2, 1, 6, 0, 5, 3, 2, 1, 6, 3, 0, 1, 3, 6, 3, 2, 2, 4, 6, 4,\n",
              "       3, 2, 2, 5, 5, 4, 1, 3, 6, 5, 3, 0, 3, 4, 6, 6, 2])"
            ]
          },
          "metadata": {},
          "execution_count": 29
        }
      ]
    },
    {
      "cell_type": "code",
      "source": [
        "y_val_class = np.argmax(y_val_class, axis=1)\n",
        "predictions_val = model.predict(x_val)\n",
        "y_proba_val_class = predictions_val\n",
        "y_pred_val_class = np.argmax(predictions_val, axis=1)"
      ],
      "metadata": {
        "id": "urjydD-38JK7"
      },
      "execution_count": 30,
      "outputs": []
    },
    {
      "cell_type": "code",
      "source": [
        "predictions_val\n"
      ],
      "metadata": {
        "id": "Zb7dGRs3AEJn",
        "colab": {
          "base_uri": "https://localhost:8080/"
        },
        "outputId": "4a39a21c-65a2-4acf-8351-2b7be0966491"
      },
      "execution_count": 31,
      "outputs": [
        {
          "output_type": "execute_result",
          "data": {
            "text/plain": [
              "array([[0.05026658, 0.29700628, 0.05680567, ..., 0.17341582, 0.00651004,\n",
              "        0.11052544],\n",
              "       [0.04176198, 0.53885686, 0.08406743, ..., 0.18740189, 0.00216466,\n",
              "        0.13314334],\n",
              "       [0.04121863, 0.15095054, 0.04033183, ..., 0.1106128 , 0.05443011,\n",
              "        0.4699157 ],\n",
              "       ...,\n",
              "       [0.08506644, 0.40667737, 0.07467885, ..., 0.15475023, 0.01793335,\n",
              "        0.20941336],\n",
              "       [0.00465726, 0.20482005, 0.03642287, ..., 0.45575047, 0.01795636,\n",
              "        0.22778636],\n",
              "       [0.00434043, 0.23163341, 0.08663817, ..., 0.33162808, 0.00715338,\n",
              "        0.05198992]], dtype=float32)"
            ]
          },
          "metadata": {},
          "execution_count": 31
        }
      ]
    },
    {
      "cell_type": "code",
      "source": [
        "y_pred_val_class "
      ],
      "metadata": {
        "id": "KxHa1Ss1AJo4",
        "colab": {
          "base_uri": "https://localhost:8080/"
        },
        "outputId": "03b671a1-a861-4356-b8e7-e9e4dfabf602"
      },
      "execution_count": 32,
      "outputs": [
        {
          "output_type": "execute_result",
          "data": {
            "text/plain": [
              "array([3, 1, 6, 4, 4, 0, 4, 4, 0, 4, 2, 1, 6, 2, 0, 1, 0, 1, 4, 3, 1, 4,\n",
              "       1, 0, 1, 1, 4, 4, 1, 1, 0, 0, 0, 1, 1, 1, 6, 2, 1, 0, 1, 2, 0, 4,\n",
              "       4, 1, 2, 6, 1, 1, 1, 4, 2, 4, 2, 4, 6, 0, 1, 4, 1, 2, 3, 0, 2, 2,\n",
              "       1, 1, 4, 0, 2, 2, 1, 2, 2, 6, 2, 3, 4, 0, 1, 0, 4, 4, 1, 0, 1, 1,\n",
              "       2, 6, 4, 2, 1, 1, 4, 1, 4, 1, 1, 4, 1, 1, 0, 0, 4, 2, 4, 1, 1, 0,\n",
              "       0, 2, 4, 6, 0, 3, 1, 0, 2, 0, 0, 0, 0, 0, 6, 4, 2, 0, 1, 1, 1, 4,\n",
              "       0, 3, 0, 1, 3, 1, 1, 1, 0, 2, 6, 4, 1, 4, 4, 1, 4, 6, 1, 1, 0, 4,\n",
              "       0, 2, 1, 1, 1, 1, 0, 1, 0, 0, 0, 2, 4, 4, 2, 0, 0, 1, 1, 4, 6, 4,\n",
              "       1, 1, 2, 3, 0, 3, 1, 1, 0, 4, 1, 6, 4, 4, 6, 0, 4, 4, 2, 4, 0, 0,\n",
              "       6, 0, 0, 0, 6, 1, 1, 4, 1, 4, 4, 1, 4, 4, 4, 6, 0, 0, 1, 0, 2, 0,\n",
              "       1, 1, 4, 1, 0, 6, 2, 0, 2, 1, 0, 3, 1, 2, 2, 4, 4, 6, 3, 1, 1, 4,\n",
              "       1, 1, 0, 1, 2, 1, 4, 4, 4, 1, 4, 4, 0, 1, 4, 6, 3, 2, 0, 1, 4, 4,\n",
              "       6, 1, 2, 1, 1, 4, 0, 4, 6, 1, 3, 2, 4, 2, 1, 4, 4])"
            ]
          },
          "metadata": {},
          "execution_count": 32
        }
      ]
    },
    {
      "cell_type": "markdown",
      "source": [
        "### Val Set Confusion Matrix and Heatmap"
      ],
      "metadata": {
        "id": "d2ullxf9PUMd"
      }
    },
    {
      "cell_type": "code",
      "source": [
        "# Validation Confusion matrix\n",
        "cm=confusion_matrix(y_val_class, y_pred_val_class)\n",
        "\n",
        "index = ['calm', 'happy', 'sad', 'angry', 'fearful', 'disgust', 'surprised']  \n",
        "columns = ['calm', 'happy', 'sad', 'angry', 'fearful', 'disgust', 'surprised']  \n",
        " \n",
        "cm_df = pd.DataFrame(cm,index,columns)                      \n",
        "plt.figure(figsize=(12,8))\n",
        "ax = plt.axes()\n",
        "\n",
        "sns.heatmap(cm_df, ax = ax, cmap = 'PuBu', fmt=\"d\", annot=True)\n",
        "ax.set_ylabel('True emotion')\n",
        "ax.set_xlabel('Predicted emotion')"
      ],
      "metadata": {
        "id": "doLcg3CTf9bx",
        "colab": {
          "base_uri": "https://localhost:8080/",
          "height": 514
        },
        "outputId": "3331741e-8711-412f-9a01-232d75467037"
      },
      "execution_count": 33,
      "outputs": [
        {
          "output_type": "execute_result",
          "data": {
            "text/plain": [
              "Text(0.5, 51.0, 'Predicted emotion')"
            ]
          },
          "metadata": {},
          "execution_count": 33
        },
        {
          "output_type": "display_data",
          "data": {
            "text/plain": [
              "<Figure size 864x576 with 2 Axes>"
            ],
            "image/png": "[encoded data removed]"
          },
          "metadata": {
            "needs_background": "light"
          }
        }
      ]
    },
    {
      "cell_type": "code",
      "source": [
        "# Confusion Matrix\n",
        "cm"
      ],
      "metadata": {
        "id": "hIEG9Pia8Nfp",
        "colab": {
          "base_uri": "https://localhost:8080/"
        },
        "outputId": "489a2d3a-fee3-4b3d-c7e8-13322395ab05"
      },
      "execution_count": 34,
      "outputs": [
        {
          "output_type": "execute_result",
          "data": {
            "text/plain": [
              "array([[27,  8,  5,  0,  3,  0,  0],\n",
              "       [ 4, 25,  0,  0,  4,  0,  0],\n",
              "       [16, 10, 11,  0, 10,  0,  1],\n",
              "       [ 0, 16,  2, 11, 14,  0,  3],\n",
              "       [ 2,  7,  7,  0, 13,  0,  0],\n",
              "       [ 7,  7,  9,  1,  9,  0,  9],\n",
              "       [ 2, 12,  3,  1, 13,  0,  9]])"
            ]
          },
          "metadata": {},
          "execution_count": 34
        }
      ]
    },
    {
      "cell_type": "markdown",
      "source": [
        "### Validation Set Predicted emotions accuracy"
      ],
      "metadata": {
        "id": "kWjKgUdRPYH5"
      }
    },
    {
      "cell_type": "code",
      "source": [
        "# Validation set prediction accuracy rates\n",
        "\n",
        "values = cm.diagonal()\n",
        "row_sum = np.sum(cm,axis=1)\n",
        "acc = values / row_sum\n",
        "\n",
        "print('Validation set predicted emotions accuracy:')\n",
        "for e in range(0, len(values)):\n",
        "    print(index[e],':', f\"{(acc[e]):0.4f}\")"
      ],
      "metadata": {
        "id": "MopdywY9f-mS",
        "colab": {
          "base_uri": "https://localhost:8080/"
        },
        "outputId": "9be5894e-c28f-478a-efce-0031d633b180"
      },
      "execution_count": 35,
      "outputs": [
        {
          "output_type": "stream",
          "name": "stdout",
          "text": [
            "Validation set predicted emotions accuracy:\n",
            "calm : 0.6279\n",
            "happy : 0.7576\n",
            "sad : 0.2292\n",
            "angry : 0.2391\n",
            "fearful : 0.4483\n",
            "disgust : 0.0000\n",
            "surprised : 0.2250\n"
          ]
        }
      ]
    },
    {
      "cell_type": "markdown",
      "source": [
        "### Precision, Recal, Fscore"
      ],
      "metadata": {
        "id": "DGSTy2228XRH"
      }
    },
    {
      "cell_type": "code",
      "source": [
        "# Validation set precision, recall, fscore\n",
        "\n",
        "precision_recall_fscore_support(y_val_class, y_pred_val_class, average='macro')\n"
      ],
      "metadata": {
        "id": "rOwUkCG0gGpm",
        "colab": {
          "base_uri": "https://localhost:8080/"
        },
        "outputId": "b4c70f6b-eabd-4571-dda1-d9a82983873c"
      },
      "execution_count": 36,
      "outputs": [
        {
          "output_type": "stream",
          "name": "stderr",
          "text": [
            "/usr/local/lib/python3.7/dist-packages/sklearn/metrics/_classification.py:1318: UndefinedMetricWarning: Precision and F-score are ill-defined and being set to 0.0 in labels with no predicted samples. Use `zero_division` parameter to control this behavior.\n",
            "  _warn_prf(average, modifier, msg_start, len(result))\n"
          ]
        },
        {
          "output_type": "execute_result",
          "data": {
            "text/plain": [
              "(0.3584495197071262, 0.3610079568340264, 0.3077277079173289, None)"
            ]
          },
          "metadata": {},
          "execution_count": 36
        }
      ]
    },
    {
      "cell_type": "code",
      "source": [
        "precision_recall_fscore_support(y_val_class, y_pred_val_class, average='weighted')"
      ],
      "metadata": {
        "id": "OorFgXxDzy3o",
        "colab": {
          "base_uri": "https://localhost:8080/"
        },
        "outputId": "204544fe-e07c-4a2f-c819-8156119c6602"
      },
      "execution_count": 37,
      "outputs": [
        {
          "output_type": "stream",
          "name": "stderr",
          "text": [
            "/usr/local/lib/python3.7/dist-packages/sklearn/metrics/_classification.py:1318: UndefinedMetricWarning: Precision and F-score are ill-defined and being set to 0.0 in labels with no predicted samples. Use `zero_division` parameter to control this behavior.\n",
            "  _warn_prf(average, modifier, msg_start, len(result))\n"
          ]
        },
        {
          "output_type": "execute_result",
          "data": {
            "text/plain": [
              "(0.37363782384824307, 0.3416370106761566, 0.30640201769777325, None)"
            ]
          },
          "metadata": {},
          "execution_count": 37
        }
      ]
    },
    {
      "cell_type": "markdown",
      "source": [
        "## Test Set Evaluation"
      ],
      "metadata": {
        "id": "FiCwOjmPPgCn"
      }
    },
    {
      "cell_type": "markdown",
      "source": [
        "### Test Set Score\n",
        "\n"
      ],
      "metadata": {
        "id": "CWB7U5xDUSmF"
      }
    },
    {
      "cell_type": "code",
      "source": [
        "loss, acc = model.evaluate(x_test, y_test_class, verbose=2)"
      ],
      "metadata": {
        "id": "Y7NEHPM-gzml",
        "colab": {
          "base_uri": "https://localhost:8080/"
        },
        "outputId": "d9d2d587-10c7-42d7-e57d-a652ef471de6"
      },
      "execution_count": 38,
      "outputs": [
        {
          "output_type": "stream",
          "name": "stdout",
          "text": [
            "4/4 - 1s - loss: 1.9445 - categorical_accuracy: 0.3171 - 808ms/epoch - 202ms/step\n"
          ]
        }
      ]
    },
    {
      "cell_type": "markdown",
      "source": [
        "### Construct Predicted Labels based on Probability of each class"
      ],
      "metadata": {
        "id": "gPwcFV9oAhGh"
      }
    },
    {
      "cell_type": "code",
      "source": [
        "y_test_class"
      ],
      "metadata": {
        "id": "tjN7Eit7AiML",
        "colab": {
          "base_uri": "https://localhost:8080/"
        },
        "outputId": "deeaac9f-f73d-45c7-ce2c-661fa95f1ed2"
      },
      "execution_count": 39,
      "outputs": [
        {
          "output_type": "execute_result",
          "data": {
            "text/plain": [
              "array([[0, 0, 0, 0, 0, 0, 1],\n",
              "       [0, 0, 0, 1, 0, 0, 0],\n",
              "       [0, 0, 0, 0, 0, 1, 0],\n",
              "       [0, 0, 0, 0, 1, 0, 0],\n",
              "       [1, 0, 0, 0, 0, 0, 0],\n",
              "       [0, 0, 0, 0, 1, 0, 0],\n",
              "       [0, 0, 0, 0, 0, 1, 0],\n",
              "       [0, 0, 0, 0, 1, 0, 0],\n",
              "       [0, 0, 0, 1, 0, 0, 0],\n",
              "       [0, 0, 0, 0, 0, 0, 1],\n",
              "       [0, 0, 0, 1, 0, 0, 0],\n",
              "       [0, 0, 0, 0, 1, 0, 0],\n",
              "       [1, 0, 0, 0, 0, 0, 0],\n",
              "       [0, 0, 0, 0, 0, 1, 0],\n",
              "       [0, 0, 0, 1, 0, 0, 0],\n",
              "       [1, 0, 0, 0, 0, 0, 0],\n",
              "       [0, 0, 0, 0, 0, 1, 0],\n",
              "       [0, 0, 0, 0, 0, 1, 0],\n",
              "       [0, 0, 1, 0, 0, 0, 0],\n",
              "       [0, 0, 0, 0, 0, 0, 1],\n",
              "       [0, 0, 0, 0, 0, 0, 1],\n",
              "       [1, 0, 0, 0, 0, 0, 0],\n",
              "       [1, 0, 0, 0, 0, 0, 0],\n",
              "       [0, 0, 1, 0, 0, 0, 0],\n",
              "       [0, 0, 0, 0, 0, 1, 0],\n",
              "       [1, 0, 0, 0, 0, 0, 0],\n",
              "       [0, 0, 0, 0, 0, 1, 0],\n",
              "       [1, 0, 0, 0, 0, 0, 0],\n",
              "       [0, 0, 0, 0, 1, 0, 0],\n",
              "       [0, 1, 0, 0, 0, 0, 0],\n",
              "       [0, 0, 0, 1, 0, 0, 0],\n",
              "       [0, 0, 0, 0, 0, 0, 1],\n",
              "       [0, 0, 0, 0, 0, 0, 1],\n",
              "       [0, 0, 0, 0, 0, 1, 0],\n",
              "       [0, 0, 0, 0, 1, 0, 0],\n",
              "       [0, 0, 1, 0, 0, 0, 0],\n",
              "       [0, 0, 0, 0, 0, 1, 0],\n",
              "       [0, 0, 0, 0, 1, 0, 0],\n",
              "       [0, 0, 0, 0, 1, 0, 0],\n",
              "       [0, 0, 0, 0, 0, 1, 0],\n",
              "       [0, 0, 0, 0, 0, 0, 1],\n",
              "       [1, 0, 0, 0, 0, 0, 0],\n",
              "       [0, 1, 0, 0, 0, 0, 0],\n",
              "       [0, 0, 1, 0, 0, 0, 0],\n",
              "       [0, 1, 0, 0, 0, 0, 0],\n",
              "       [0, 1, 0, 0, 0, 0, 0],\n",
              "       [0, 0, 0, 0, 0, 0, 1],\n",
              "       [0, 0, 1, 0, 0, 0, 0],\n",
              "       [0, 0, 0, 0, 0, 0, 1],\n",
              "       [0, 0, 0, 0, 1, 0, 0],\n",
              "       [0, 0, 0, 0, 0, 1, 0],\n",
              "       [0, 0, 0, 0, 0, 0, 1],\n",
              "       [0, 1, 0, 0, 0, 0, 0],\n",
              "       [0, 0, 1, 0, 0, 0, 0],\n",
              "       [0, 0, 0, 0, 0, 1, 0],\n",
              "       [0, 1, 0, 0, 0, 0, 0],\n",
              "       [0, 1, 0, 0, 0, 0, 0],\n",
              "       [0, 0, 0, 0, 1, 0, 0],\n",
              "       [0, 0, 0, 0, 1, 0, 0],\n",
              "       [0, 1, 0, 0, 0, 0, 0],\n",
              "       [0, 0, 0, 0, 0, 0, 1],\n",
              "       [0, 0, 0, 1, 0, 0, 0],\n",
              "       [0, 0, 0, 0, 1, 0, 0],\n",
              "       [0, 0, 1, 0, 0, 0, 0],\n",
              "       [0, 0, 1, 0, 0, 0, 0],\n",
              "       [0, 0, 1, 0, 0, 0, 0],\n",
              "       [0, 0, 0, 0, 1, 0, 0],\n",
              "       [1, 0, 0, 0, 0, 0, 0],\n",
              "       [0, 0, 0, 1, 0, 0, 0],\n",
              "       [0, 0, 0, 0, 0, 0, 1],\n",
              "       [0, 0, 0, 0, 0, 1, 0],\n",
              "       [0, 1, 0, 0, 0, 0, 0],\n",
              "       [0, 0, 1, 0, 0, 0, 0],\n",
              "       [0, 0, 0, 0, 1, 0, 0],\n",
              "       [0, 0, 0, 1, 0, 0, 0],\n",
              "       [1, 0, 0, 0, 0, 0, 0],\n",
              "       [0, 0, 0, 1, 0, 0, 0],\n",
              "       [0, 0, 0, 0, 0, 0, 1],\n",
              "       [0, 0, 1, 0, 0, 0, 0],\n",
              "       [0, 0, 0, 0, 0, 0, 1],\n",
              "       [1, 0, 0, 0, 0, 0, 0],\n",
              "       [0, 0, 0, 0, 1, 0, 0],\n",
              "       [0, 1, 0, 0, 0, 0, 0],\n",
              "       [0, 0, 0, 1, 0, 0, 0],\n",
              "       [0, 0, 0, 0, 0, 0, 1],\n",
              "       [0, 0, 0, 1, 0, 0, 0],\n",
              "       [0, 0, 0, 0, 0, 0, 1],\n",
              "       [0, 0, 0, 0, 1, 0, 0],\n",
              "       [0, 0, 0, 1, 0, 0, 0],\n",
              "       [0, 0, 0, 1, 0, 0, 0],\n",
              "       [0, 0, 1, 0, 0, 0, 0],\n",
              "       [0, 0, 0, 0, 0, 1, 0],\n",
              "       [0, 0, 0, 0, 1, 0, 0],\n",
              "       [0, 1, 0, 0, 0, 0, 0],\n",
              "       [1, 0, 0, 0, 0, 0, 0],\n",
              "       [0, 0, 0, 1, 0, 0, 0],\n",
              "       [0, 0, 1, 0, 0, 0, 0],\n",
              "       [0, 0, 0, 1, 0, 0, 0],\n",
              "       [0, 1, 0, 0, 0, 0, 0],\n",
              "       [1, 0, 0, 0, 0, 0, 0],\n",
              "       [0, 0, 1, 0, 0, 0, 0],\n",
              "       [0, 0, 0, 0, 0, 0, 1],\n",
              "       [0, 0, 0, 0, 0, 1, 0],\n",
              "       [0, 0, 0, 0, 1, 0, 0],\n",
              "       [0, 0, 0, 0, 1, 0, 0],\n",
              "       [0, 0, 0, 1, 0, 0, 0],\n",
              "       [0, 0, 0, 1, 0, 0, 0],\n",
              "       [0, 0, 0, 0, 0, 0, 1],\n",
              "       [0, 0, 0, 0, 1, 0, 0],\n",
              "       [1, 0, 0, 0, 0, 0, 0],\n",
              "       [0, 0, 0, 1, 0, 0, 0],\n",
              "       [0, 0, 0, 0, 1, 0, 0],\n",
              "       [0, 0, 0, 0, 0, 0, 1],\n",
              "       [0, 0, 0, 0, 0, 1, 0],\n",
              "       [0, 0, 0, 1, 0, 0, 0],\n",
              "       [0, 0, 1, 0, 0, 0, 0],\n",
              "       [0, 0, 0, 1, 0, 0, 0],\n",
              "       [0, 1, 0, 0, 0, 0, 0],\n",
              "       [0, 0, 0, 0, 0, 0, 1],\n",
              "       [0, 0, 0, 0, 0, 0, 1],\n",
              "       [0, 1, 0, 0, 0, 0, 0],\n",
              "       [1, 0, 0, 0, 0, 0, 0],\n",
              "       [0, 0, 0, 0, 0, 0, 1]], dtype=int8)"
            ]
          },
          "metadata": {},
          "execution_count": 39
        }
      ]
    },
    {
      "cell_type": "code",
      "source": [
        " np.argmax(y_test_class, axis=1)"
      ],
      "metadata": {
        "id": "2fcK-_HzAmc5",
        "colab": {
          "base_uri": "https://localhost:8080/"
        },
        "outputId": "16a9f995-8551-4a42-aed7-7c0986bf8ef7"
      },
      "execution_count": 40,
      "outputs": [
        {
          "output_type": "execute_result",
          "data": {
            "text/plain": [
              "array([6, 3, 5, 4, 0, 4, 5, 4, 3, 6, 3, 4, 0, 5, 3, 0, 5, 5, 2, 6, 6, 0,\n",
              "       0, 2, 5, 0, 5, 0, 4, 1, 3, 6, 6, 5, 4, 2, 5, 4, 4, 5, 6, 0, 1, 2,\n",
              "       1, 1, 6, 2, 6, 4, 5, 6, 1, 2, 5, 1, 1, 4, 4, 1, 6, 3, 4, 2, 2, 2,\n",
              "       4, 0, 3, 6, 5, 1, 2, 4, 3, 0, 3, 6, 2, 6, 0, 4, 1, 3, 6, 3, 6, 4,\n",
              "       3, 3, 2, 5, 4, 1, 0, 3, 2, 3, 1, 0, 2, 6, 5, 4, 4, 3, 3, 6, 4, 0,\n",
              "       3, 4, 6, 5, 3, 2, 3, 1, 6, 6, 1, 0, 6])"
            ]
          },
          "metadata": {},
          "execution_count": 40
        }
      ]
    },
    {
      "cell_type": "code",
      "source": [
        "y_test_class = np.argmax(y_test_class, axis=1)\n",
        "predictions_test = model.predict(x_test)\n",
        "y_pred_test_class = np.argmax(predictions_test, axis=1)\n",
        "y_proba_test_class = predictions_test\n",
        "\n"
      ],
      "metadata": {
        "id": "uyXvoU2rAckI"
      },
      "execution_count": 41,
      "outputs": []
    },
    {
      "cell_type": "code",
      "source": [
        "predictions_test"
      ],
      "metadata": {
        "id": "3BAOUaPwAtuY",
        "colab": {
          "base_uri": "https://localhost:8080/"
        },
        "outputId": "1f8d1b5f-e840-4ead-cf87-8c5d6be2efd6"
      },
      "execution_count": 42,
      "outputs": [
        {
          "output_type": "execute_result",
          "data": {
            "text/plain": [
              "array([[4.67049191e-03, 5.01881778e-01, 2.57313810e-02, 3.40748653e-02,\n",
              "        2.54034340e-01, 8.65069625e-04, 1.78742051e-01],\n",
              "       [9.04271728e-04, 5.49988329e-01, 2.94217803e-02, 1.40567094e-01,\n",
              "        2.42117569e-01, 9.76974494e-04, 3.60240303e-02],\n",
              "       [4.77088150e-03, 4.16096300e-02, 7.55677745e-02, 3.33385654e-02,\n",
              "        3.37996572e-01, 9.20221135e-02, 4.14694518e-01],\n",
              "       [1.64586101e-02, 1.33651480e-01, 2.49685049e-01, 1.91059448e-02,\n",
              "        4.97839302e-01, 3.10034794e-03, 8.01592022e-02],\n",
              "       [1.58133894e-01, 1.14294030e-01, 3.55284423e-01, 1.41089614e-02,\n",
              "        2.16516778e-01, 4.70112357e-03, 1.36960745e-01],\n",
              "       [1.68306045e-02, 2.83493817e-01, 6.33639246e-02, 1.97786793e-01,\n",
              "        3.30331802e-01, 2.40925001e-03, 1.05783753e-01],\n",
              "       [2.48447761e-01, 6.50566593e-02, 1.81974158e-01, 4.89967093e-02,\n",
              "        1.05575159e-01, 6.20197169e-02, 2.87929833e-01],\n",
              "       [2.19025716e-01, 2.30242401e-01, 3.41755599e-01, 1.11512979e-02,\n",
              "        1.26093879e-01, 1.78382620e-02, 5.38927689e-02],\n",
              "       [6.22892287e-04, 2.32610613e-01, 1.58853214e-02, 4.30979013e-01,\n",
              "        2.79053807e-01, 1.02343934e-03, 3.98249291e-02],\n",
              "       [2.74102688e-02, 2.85107791e-01, 8.56167078e-02, 8.34226608e-02,\n",
              "        3.91481638e-01, 9.55837721e-04, 1.26005128e-01],\n",
              "       [1.71369396e-03, 6.86426163e-01, 1.94112305e-02, 7.92650655e-02,\n",
              "        1.42783254e-01, 4.06268577e-04, 6.99942335e-02],\n",
              "       [1.63146146e-02, 6.96519464e-02, 1.48287460e-01, 8.05984251e-03,\n",
              "        6.62806630e-01, 1.76816881e-02, 7.71977976e-02],\n",
              "       [7.91735128e-02, 2.36511886e-01, 8.84675905e-02, 1.97835773e-01,\n",
              "        3.30009252e-01, 6.90705003e-03, 6.10949956e-02],\n",
              "       [4.01298739e-02, 5.14365286e-02, 3.20216656e-01, 1.69218536e-02,\n",
              "        4.28070664e-01, 2.87461709e-02, 1.14478305e-01],\n",
              "       [4.70479466e-02, 7.96947405e-02, 4.77954537e-01, 1.68926083e-02,\n",
              "        3.16215813e-01, 8.62310082e-03, 5.35712540e-02],\n",
              "       [5.82669735e-01, 4.41898927e-02, 1.34917587e-01, 1.52496789e-02,\n",
              "        5.19426316e-02, 7.59657472e-02, 9.50648412e-02],\n",
              "       [1.75380129e-02, 1.20280467e-01, 1.52145430e-01, 7.49846399e-02,\n",
              "        3.98489535e-01, 2.49432661e-02, 2.11618632e-01],\n",
              "       [1.57851931e-02, 9.23773348e-02, 3.30609053e-01, 3.68400849e-02,\n",
              "        4.46268439e-01, 2.16019675e-02, 5.65178655e-02],\n",
              "       [1.86876650e-03, 2.68590689e-01, 7.80703425e-02, 2.91717172e-01,\n",
              "        3.32434028e-01, 5.97219355e-03, 2.13468540e-02],\n",
              "       [1.07622286e-03, 9.85572115e-02, 1.73750687e-02, 2.59485766e-02,\n",
              "        4.65017676e-01, 5.14925970e-03, 3.86876017e-01],\n",
              "       [1.47596551e-02, 1.84488192e-01, 1.58466157e-02, 1.03147998e-02,\n",
              "        3.07245553e-01, 3.12773488e-03, 4.64217395e-01],\n",
              "       [6.25248253e-02, 5.01521826e-01, 5.78076616e-02, 4.82273847e-02,\n",
              "        2.21430153e-01, 1.89983333e-03, 1.06588267e-01],\n",
              "       [5.49840093e-01, 3.15689921e-01, 8.16281512e-02, 4.66638291e-03,\n",
              "        2.96296012e-02, 1.91781030e-03, 1.66279841e-02],\n",
              "       [5.70608735e-01, 2.81876624e-02, 2.74874538e-01, 2.98933522e-03,\n",
              "        9.25078243e-02, 9.35584866e-03, 2.14760769e-02],\n",
              "       [2.48849718e-03, 1.42980382e-01, 9.58074778e-02, 4.16830890e-02,\n",
              "        6.78066790e-01, 4.48030746e-03, 3.44935656e-02],\n",
              "       [5.43040276e-01, 1.49115935e-01, 1.74515009e-01, 1.09288702e-02,\n",
              "        5.69069013e-02, 1.96712534e-03, 6.35258853e-02],\n",
              "       [8.33695084e-02, 3.64294320e-01, 9.43684801e-02, 1.86978981e-01,\n",
              "        1.84493124e-01, 4.12871176e-03, 8.23669210e-02],\n",
              "       [3.01947862e-01, 4.87488769e-02, 4.30024266e-01, 1.28501961e-02,\n",
              "        1.48478895e-01, 1.08929388e-02, 4.70569581e-02],\n",
              "       [4.94393498e-01, 1.09894522e-01, 2.69538194e-01, 8.81149527e-03,\n",
              "        8.53482932e-02, 1.68756174e-03, 3.03264223e-02],\n",
              "       [9.24131833e-04, 4.04783130e-01, 9.36383195e-03, 6.89001903e-02,\n",
              "        4.62235630e-01, 7.28429295e-04, 5.30646928e-02],\n",
              "       [1.11169452e-02, 2.83173442e-01, 6.81615546e-02, 3.87924731e-01,\n",
              "        2.00735658e-01, 2.30518938e-03, 4.65824865e-02],\n",
              "       [1.31262848e-02, 1.65217817e-01, 3.83546539e-02, 1.60727091e-02,\n",
              "        3.38138461e-01, 5.70062874e-03, 4.23389435e-01],\n",
              "       [1.70591071e-01, 3.13327998e-01, 7.18996450e-02, 4.58839461e-02,\n",
              "        1.48671791e-01, 2.63200351e-03, 2.46993572e-01],\n",
              "       [4.49183844e-02, 6.78724572e-02, 4.55003023e-01, 1.66114997e-02,\n",
              "        3.52293193e-01, 3.50624844e-02, 2.82388628e-02],\n",
              "       [2.35089902e-02, 1.74180239e-01, 7.09471777e-02, 1.53730558e-02,\n",
              "        5.84453046e-01, 1.18595567e-02, 1.19678020e-01],\n",
              "       [9.17905103e-03, 3.83569628e-01, 4.96674143e-02, 2.45137438e-02,\n",
              "        3.66204590e-01, 4.47713118e-03, 1.62388429e-01],\n",
              "       [3.10003627e-02, 1.94937930e-01, 5.44488169e-02, 4.61928025e-02,\n",
              "        1.86465397e-01, 2.29535159e-02, 4.64001209e-01],\n",
              "       [4.70802903e-01, 1.40745044e-01, 1.49341553e-01, 9.98047926e-03,\n",
              "        5.69726415e-02, 9.15828906e-03, 1.62999034e-01],\n",
              "       [3.93338054e-02, 4.39586490e-01, 6.26740605e-02, 9.04260129e-02,\n",
              "        3.09836060e-01, 2.22103577e-03, 5.59225790e-02],\n",
              "       [4.27348167e-02, 8.09554085e-02, 2.50946134e-01, 2.36042608e-02,\n",
              "        3.57958853e-01, 4.15067896e-02, 2.02293754e-01],\n",
              "       [5.18346159e-03, 4.80061650e-01, 2.76474953e-02, 2.14864183e-02,\n",
              "        2.99739301e-01, 4.17178823e-03, 1.61709920e-01],\n",
              "       [4.05403435e-01, 2.46644646e-01, 2.21027911e-01, 8.03424139e-03,\n",
              "        7.87326545e-02, 4.80446033e-03, 3.53527069e-02],\n",
              "       [3.66627797e-02, 7.72904396e-01, 1.22519154e-02, 1.30178779e-02,\n",
              "        9.18513909e-02, 5.80260938e-04, 7.27313831e-02],\n",
              "       [3.36175738e-03, 1.87986344e-01, 2.66235471e-01, 4.13532145e-02,\n",
              "        4.84362304e-01, 3.51019646e-03, 1.31908460e-02],\n",
              "       [7.64972329e-01, 1.14093550e-01, 4.08599190e-02, 2.15637661e-03,\n",
              "        4.45010886e-02, 1.11410487e-03, 3.23026218e-02],\n",
              "       [1.47099108e-01, 3.92775297e-01, 1.16819777e-01, 9.82974991e-02,\n",
              "        1.16813689e-01, 1.05582429e-02, 1.17636360e-01],\n",
              "       [6.27894886e-03, 1.15536273e-01, 3.93306836e-02, 2.25526989e-02,\n",
              "        4.42574352e-01, 2.25431155e-02, 3.51183951e-01],\n",
              "       [1.61225051e-02, 5.30763984e-01, 4.83928472e-02, 1.46253053e-02,\n",
              "        2.29312018e-01, 6.44797087e-03, 1.54335335e-01],\n",
              "       [2.70377682e-03, 4.79336590e-01, 3.33682559e-02, 1.23149529e-01,\n",
              "        3.01674664e-01, 7.59699382e-04, 5.90074286e-02],\n",
              "       [1.77406054e-02, 4.09994304e-01, 1.63034439e-01, 5.74011318e-02,\n",
              "        2.41636395e-01, 1.28245289e-02, 9.73685309e-02],\n",
              "       [1.22285010e-02, 6.98736012e-02, 2.40909383e-01, 9.54843014e-02,\n",
              "        2.10241899e-01, 3.03052574e-01, 6.82097971e-02],\n",
              "       [4.94363206e-03, 3.61036927e-01, 3.04563940e-02, 1.46941915e-01,\n",
              "        3.66181552e-01, 1.02616451e-03, 8.94133374e-02],\n",
              "       [4.72452641e-02, 7.07879126e-01, 4.52678949e-02, 1.48876468e-02,\n",
              "        1.00701869e-01, 3.91692971e-04, 8.36265609e-02],\n",
              "       [1.34270996e-01, 4.22690243e-01, 1.09315149e-01, 2.91046314e-02,\n",
              "        2.04497054e-01, 8.12987611e-03, 9.19920802e-02],\n",
              "       [4.07733768e-01, 9.98267680e-02, 2.86747068e-01, 3.81314605e-02,\n",
              "        5.97647317e-02, 1.25151388e-02, 9.52809900e-02],\n",
              "       [1.91955388e-01, 1.80807412e-01, 2.67562330e-01, 7.60202529e-03,\n",
              "        2.35118717e-01, 2.90882513e-02, 8.78658518e-02],\n",
              "       [5.80596805e-01, 1.23731367e-01, 1.47994950e-01, 2.53578881e-03,\n",
              "        9.61331651e-02, 6.68894034e-03, 4.23189700e-02],\n",
              "       [6.96507931e-01, 3.43999304e-02, 2.09730208e-01, 1.06588064e-03,\n",
              "        4.21571694e-02, 6.01534406e-03, 1.01235723e-02],\n",
              "       [1.37995379e-02, 3.02542329e-01, 3.72613221e-02, 8.00881069e-03,\n",
              "        3.63628030e-01, 2.92952824e-03, 2.71830380e-01],\n",
              "       [5.08390479e-02, 5.18340468e-01, 3.27811651e-02, 1.53141811e-01,\n",
              "        1.49274051e-01, 2.35879072e-03, 9.32646021e-02],\n",
              "       [5.47207952e-01, 1.03210561e-01, 2.82086611e-01, 1.10827154e-02,\n",
              "        3.08028311e-02, 8.54611769e-03, 1.70632154e-02],\n",
              "       [4.28162934e-03, 4.83708307e-02, 1.11317091e-01, 6.62163645e-03,\n",
              "        5.96146524e-01, 3.68722640e-02, 1.96390033e-01],\n",
              "       [5.46396524e-02, 8.70745331e-02, 3.32548350e-01, 5.28705865e-03,\n",
              "        4.77054596e-01, 9.98959411e-03, 3.34063135e-02],\n",
              "       [2.26981521e-01, 2.81078130e-01, 1.21433988e-01, 1.06402198e-02,\n",
              "        1.42193720e-01, 3.95012349e-02, 1.78171232e-01],\n",
              "       [2.59614497e-01, 1.24761634e-01, 3.22616965e-01, 4.33724653e-03,\n",
              "        1.59424767e-01, 7.24797277e-03, 1.21996880e-01],\n",
              "       [5.67487106e-02, 4.95888628e-02, 2.96087354e-01, 1.83656495e-02,\n",
              "        4.74738270e-01, 1.50153022e-02, 8.94559026e-02],\n",
              "       [3.61163825e-01, 2.47668296e-01, 1.56367481e-01, 6.41286001e-03,\n",
              "        1.19703785e-01, 1.06986135e-03, 1.07613914e-01],\n",
              "       [4.31625813e-01, 2.04320289e-02, 4.02009219e-01, 1.83030742e-03,\n",
              "        1.16364852e-01, 1.07787428e-02, 1.69589911e-02],\n",
              "       [2.20932090e-03, 2.89180934e-01, 2.96492074e-02, 1.41306505e-01,\n",
              "        4.56781954e-01, 3.08871968e-03, 7.77833164e-02],\n",
              "       [6.77354541e-03, 5.00987947e-01, 4.81758974e-02, 1.40027761e-01,\n",
              "        1.67333916e-01, 1.38696202e-03, 1.35314062e-01],\n",
              "       [2.22939719e-03, 3.91015440e-01, 3.46272253e-02, 1.18864767e-01,\n",
              "        4.27880824e-01, 3.35551659e-03, 2.20269505e-02],\n",
              "       [2.68424116e-03, 4.59136128e-01, 2.30328292e-02, 3.06945778e-02,\n",
              "        4.40726757e-01, 4.87359648e-04, 4.32381555e-02],\n",
              "       [1.48508921e-01, 3.22451293e-01, 1.38420910e-01, 1.50351794e-02,\n",
              "        1.58174396e-01, 1.84385702e-02, 1.98970735e-01],\n",
              "       [3.94318789e-01, 4.51677032e-02, 4.52053368e-01, 3.98218771e-03,\n",
              "        7.61842728e-02, 4.88495640e-03, 2.34088637e-02],\n",
              "       [1.38413603e-03, 8.57556611e-02, 5.29128425e-02, 1.38666287e-01,\n",
              "        6.62152767e-01, 3.91439861e-03, 5.52139021e-02],\n",
              "       [7.10377932e-01, 1.45170152e-01, 4.56500053e-02, 1.08853215e-02,\n",
              "        4.92504314e-02, 3.61685804e-03, 3.50493751e-02],\n",
              "       [3.00272107e-02, 5.46570778e-01, 5.88008650e-02, 4.32612002e-02,\n",
              "        1.19102940e-01, 5.17571624e-03, 1.97061345e-01],\n",
              "       [1.44086378e-02, 1.40205190e-01, 1.50162848e-02, 1.21121379e-02,\n",
              "        4.91687000e-01, 6.32122997e-03, 3.20249468e-01],\n",
              "       [2.97724932e-01, 3.41393203e-02, 2.24920154e-01, 2.11930927e-02,\n",
              "        8.07032883e-02, 1.16451442e-01, 2.24867746e-01],\n",
              "       [7.52519593e-02, 2.66077965e-02, 2.31274232e-01, 3.53780165e-02,\n",
              "        1.40329346e-01, 3.50442380e-01, 1.40716195e-01],\n",
              "       [7.30049253e-01, 5.28629608e-02, 1.50070220e-01, 1.28328358e-03,\n",
              "        3.84451076e-02, 1.33047802e-02, 1.39844725e-02],\n",
              "       [8.64262730e-02, 3.14078741e-02, 2.89113253e-01, 8.09035730e-03,\n",
              "        5.15365481e-01, 1.48964040e-02, 5.47002703e-02],\n",
              "       [1.71238836e-02, 1.82831302e-01, 1.48986742e-01, 2.46981196e-02,\n",
              "        4.13542718e-01, 1.66879352e-02, 1.96129352e-01],\n",
              "       [1.51477847e-02, 4.91144568e-01, 3.04196253e-02, 2.02760756e-01,\n",
              "        1.35236517e-01, 2.80202786e-03, 1.22488663e-01],\n",
              "       [2.00498879e-01, 3.60051617e-02, 2.21004426e-01, 5.55576943e-03,\n",
              "        4.18254346e-01, 3.40351276e-02, 8.46463069e-02],\n",
              "       [3.49995717e-02, 1.81591615e-01, 5.57632968e-02, 1.38875097e-01,\n",
              "        3.57535124e-01, 4.09432920e-03, 2.27140993e-01],\n",
              "       [8.27341080e-02, 3.47019732e-01, 1.88509971e-01, 6.18895218e-02,\n",
              "        1.64386183e-01, 3.10730538e-03, 1.52353108e-01],\n",
              "       [2.88914912e-03, 2.69173741e-01, 8.50451738e-02, 7.57249072e-02,\n",
              "        5.09290814e-01, 1.09324127e-03, 5.67829944e-02],\n",
              "       [6.30983326e-04, 1.87572226e-01, 2.47698817e-02, 4.47703779e-01,\n",
              "        2.84344375e-01, 4.85132309e-03, 5.01273908e-02],\n",
              "       [6.49913251e-02, 1.69204459e-01, 1.52583018e-01, 3.67727764e-02,\n",
              "        2.68586785e-01, 8.69806204e-03, 2.99163491e-01],\n",
              "       [6.29788563e-02, 1.03216290e-01, 3.64419371e-01, 4.35282066e-02,\n",
              "        3.68753761e-01, 1.51814343e-02, 4.19220626e-02],\n",
              "       [2.58409586e-02, 3.72661114e-01, 1.10821597e-01, 2.46742051e-02,\n",
              "        3.73550177e-01, 7.27904029e-03, 8.51728767e-02],\n",
              "       [1.53763980e-01, 7.69299790e-02, 7.97574893e-02, 1.65455528e-02,\n",
              "        1.81373417e-01, 4.89875115e-02, 4.42642123e-01],\n",
              "       [1.47833169e-01, 3.91329348e-01, 1.17494859e-01, 8.70533474e-03,\n",
              "        1.96122542e-01, 1.45739166e-03, 1.37057379e-01],\n",
              "       [7.44066834e-01, 6.94451779e-02, 1.45543665e-01, 2.17372295e-03,\n",
              "        2.53095031e-02, 3.25226132e-03, 1.02088284e-02],\n",
              "       [3.10527394e-03, 3.16455573e-01, 1.88266989e-02, 3.81321579e-01,\n",
              "        1.65514588e-01, 2.34968518e-03, 1.12426661e-01],\n",
              "       [2.68432721e-02, 6.37351647e-02, 1.33009166e-01, 2.20355932e-02,\n",
              "        6.12803638e-01, 1.89313591e-02, 1.22641809e-01],\n",
              "       [5.85616753e-03, 6.99307501e-01, 3.32734250e-02, 9.74299312e-02,\n",
              "        1.24706835e-01, 1.08565309e-03, 3.83405723e-02],\n",
              "       [4.74531680e-01, 2.06233934e-01, 1.08454496e-01, 5.66973211e-03,\n",
              "        4.39621434e-02, 6.68762717e-03, 1.54460296e-01],\n",
              "       [5.89367032e-01, 3.34664434e-02, 2.82202750e-01, 1.14344321e-02,\n",
              "        3.36351320e-02, 3.25010158e-02, 1.73932184e-02],\n",
              "       [1.45836687e-03, 6.76644742e-01, 2.75790580e-02, 4.75775376e-02,\n",
              "        2.13345557e-01, 6.42961415e-04, 3.27516273e-02],\n",
              "       [9.54427943e-02, 3.82572152e-02, 5.27950168e-01, 6.34538149e-03,\n",
              "        2.60996014e-01, 4.94155288e-02, 2.15928629e-02],\n",
              "       [1.14259087e-02, 6.96452633e-02, 4.25677598e-01, 2.55148243e-02,\n",
              "        3.11891109e-01, 8.12229738e-02, 7.46222958e-02],\n",
              "       [1.48618659e-02, 3.50835055e-01, 5.72327748e-02, 6.77702203e-02,\n",
              "        4.01510417e-01, 4.07099212e-03, 1.03718556e-01],\n",
              "       [3.11211590e-02, 2.61024177e-01, 5.96154258e-02, 1.40907140e-02,\n",
              "        4.17096794e-01, 3.10464413e-03, 2.13947117e-01],\n",
              "       [4.88773733e-02, 2.66749322e-01, 9.03441310e-02, 1.89734638e-01,\n",
              "        1.85378671e-01, 8.60054325e-03, 2.10315242e-01],\n",
              "       [1.19824558e-02, 5.25674582e-01, 1.02522172e-01, 4.12140265e-02,\n",
              "        2.50561714e-01, 2.10140622e-03, 6.59436211e-02],\n",
              "       [6.26626238e-03, 4.55067813e-01, 6.97386116e-02, 5.56747615e-02,\n",
              "        2.41694838e-01, 1.74763519e-02, 1.54081330e-01],\n",
              "       [1.04134776e-01, 7.98945203e-02, 3.08490098e-01, 7.96601363e-03,\n",
              "        4.29940015e-01, 1.29421018e-02, 5.66324629e-02],\n",
              "       [4.63268995e-01, 1.94315597e-01, 1.41787633e-01, 2.95804255e-02,\n",
              "        9.72179621e-02, 6.84884610e-03, 6.69805855e-02],\n",
              "       [1.29391509e-03, 1.79360464e-01, 5.07021602e-03, 1.87341452e-01,\n",
              "        3.47592115e-01, 1.14748674e-03, 2.78194427e-01],\n",
              "       [8.07126705e-03, 1.08068071e-01, 1.30176514e-01, 2.12380067e-02,\n",
              "        6.32410347e-01, 1.45156262e-02, 8.55201408e-02],\n",
              "       [1.26018887e-02, 6.15675785e-02, 1.46977138e-02, 9.27431230e-03,\n",
              "        1.68914020e-01, 5.95098501e-03, 7.26993501e-01],\n",
              "       [8.87482613e-02, 1.36056796e-01, 2.67974406e-01, 1.59318112e-02,\n",
              "        2.44204938e-01, 6.56501576e-02, 1.81433588e-01],\n",
              "       [6.57360971e-01, 5.19333035e-02, 2.14776456e-01, 1.25357937e-02,\n",
              "        2.14210656e-02, 2.35993993e-02, 1.83729474e-02],\n",
              "       [9.03327018e-03, 4.87262785e-01, 1.15106359e-01, 2.73861270e-02,\n",
              "        3.25872362e-01, 1.62396836e-03, 3.37151438e-02],\n",
              "       [3.28759179e-02, 3.03982258e-01, 2.70176549e-02, 2.60193367e-02,\n",
              "        4.05007124e-01, 7.03240978e-03, 1.98065266e-01],\n",
              "       [7.26415277e-01, 3.08371969e-02, 1.44107819e-01, 3.07322457e-03,\n",
              "        3.60697955e-02, 1.64340977e-02, 4.30627055e-02],\n",
              "       [5.17512374e-02, 1.74355179e-01, 4.23753671e-02, 1.28124598e-02,\n",
              "        2.49658942e-01, 1.45618180e-02, 4.54484999e-01],\n",
              "       [7.54266465e-03, 2.96701193e-01, 2.68653296e-02, 5.83972074e-02,\n",
              "        4.19831157e-01, 4.26299404e-03, 1.86399445e-01],\n",
              "       [4.71443348e-02, 1.28432617e-01, 1.46450803e-01, 2.41900012e-02,\n",
              "        2.83038765e-01, 1.24467090e-02, 3.58296722e-01],\n",
              "       [4.83634412e-01, 1.99786291e-01, 2.02201933e-01, 1.01896580e-02,\n",
              "        5.21173999e-02, 8.31856858e-03, 4.37517911e-02],\n",
              "       [2.60333009e-02, 3.23392600e-01, 5.40510118e-02, 2.37893146e-02,\n",
              "        3.21659476e-01, 5.90863964e-03, 2.45165735e-01]], dtype=float32)"
            ]
          },
          "metadata": {},
          "execution_count": 42
        }
      ]
    },
    {
      "cell_type": "code",
      "source": [
        "y_pred_test_class "
      ],
      "metadata": {
        "id": "ph-j4nBsAxjT",
        "colab": {
          "base_uri": "https://localhost:8080/"
        },
        "outputId": "01989cb9-23fe-447e-b8a5-61d394d566c7"
      },
      "execution_count": 43,
      "outputs": [
        {
          "output_type": "execute_result",
          "data": {
            "text/plain": [
              "array([1, 1, 6, 4, 2, 4, 6, 2, 3, 4, 1, 4, 4, 4, 2, 0, 4, 4, 4, 4, 6, 1,\n",
              "       0, 0, 4, 0, 1, 2, 0, 4, 3, 6, 1, 2, 4, 1, 6, 0, 1, 4, 1, 0, 1, 4,\n",
              "       0, 1, 4, 1, 1, 1, 5, 4, 1, 1, 0, 2, 0, 0, 4, 1, 0, 4, 4, 1, 2, 4,\n",
              "       0, 0, 4, 1, 4, 1, 1, 2, 4, 0, 1, 4, 0, 5, 0, 4, 4, 1, 4, 4, 1, 4,\n",
              "       3, 6, 4, 4, 6, 1, 0, 3, 4, 1, 0, 0, 1, 2, 2, 4, 4, 1, 1, 1, 4, 0,\n",
              "       4, 4, 6, 2, 0, 1, 4, 0, 6, 4, 6, 0, 1])"
            ]
          },
          "metadata": {},
          "execution_count": 43
        }
      ]
    },
    {
      "cell_type": "markdown",
      "source": [
        "### Test Set Confusion Matrix and Heatmap"
      ],
      "metadata": {
        "id": "Epp2QpxsUVXH"
      }
    },
    {
      "cell_type": "code",
      "source": [
        "# Test set Confusion matrix\n",
        "\n",
        "cm=confusion_matrix(y_test_class, y_pred_test_class)\n",
        "\n",
        "index = ['calm', 'happy', 'sad', 'angry', 'fearful', 'disgust', 'surprised']  \n",
        "columns = ['calm', 'happy', 'sad', 'angry', 'fearful', 'disgust', 'surprised']  \n",
        " \n",
        "cm_df = pd.DataFrame(cm,index,columns)                      \n",
        "plt.figure(figsize=(12,8))\n",
        "ax = plt.axes()\n",
        "\n",
        "sns.heatmap(cm_df, ax = ax, cmap = 'BuGn', fmt=\"d\", annot=True)\n",
        "ax.set_ylabel('True emotion')\n",
        "ax.set_xlabel('Predicted emotion')"
      ],
      "metadata": {
        "id": "ukGrk_cagzyb",
        "colab": {
          "base_uri": "https://localhost:8080/",
          "height": 518
        },
        "outputId": "a938ecb3-e663-455b-d37f-17a46f2427c5"
      },
      "execution_count": 44,
      "outputs": [
        {
          "output_type": "execute_result",
          "data": {
            "text/plain": [
              "Text(0.5, 51.0, 'Predicted emotion')"
            ]
          },
          "metadata": {},
          "execution_count": 44
        },
        {
          "output_type": "display_data",
          "data": {
            "text/plain": [
              "<Figure size 864x576 with 2 Axes>"
            ],
            "image/png": "[encoded data removed]"
          },
          "metadata": {
            "needs_background": "light"
          }
        }
      ]
    },
    {
      "cell_type": "code",
      "source": [
        "# Confusion Matrix\n",
        "cm"
      ],
      "metadata": {
        "id": "9f51xwUE8haF",
        "colab": {
          "base_uri": "https://localhost:8080/"
        },
        "outputId": "effaa9a5-4dc3-4196-e9d1-bb93f37fb813"
      },
      "execution_count": 45,
      "outputs": [
        {
          "output_type": "execute_result",
          "data": {
            "text/plain": [
              "array([[11,  1,  2,  0,  1,  0,  0],\n",
              "       [ 4,  6,  1,  0,  2,  0,  1],\n",
              "       [ 2,  7,  1,  0,  5,  0,  0],\n",
              "       [ 1,  7,  1,  4,  6,  0,  1],\n",
              "       [ 4,  2,  2,  0, 12,  0,  1],\n",
              "       [ 1,  1,  3,  0,  7,  1,  3],\n",
              "       [ 1,  8,  1,  0,  7,  1,  4]])"
            ]
          },
          "metadata": {},
          "execution_count": 45
        }
      ]
    },
    {
      "cell_type": "markdown",
      "source": [
        "### Test Set Predicted emotions accuracy"
      ],
      "metadata": {
        "id": "zil3CkweUX0q"
      }
    },
    {
      "cell_type": "code",
      "source": [
        "# Test set prediction accuracy rates\n",
        "\n",
        "values = cm.diagonal()\n",
        "row_sum = np.sum(cm,axis=1)\n",
        "acc = values / row_sum\n",
        "\n",
        "print('Test set predicted emotions accuracy:')\n",
        "for e in range(0, len(values)):\n",
        "    print(index[e],':', f\"{(acc[e]):0.4f}\")"
      ],
      "metadata": {
        "id": "t_ORyGGig090",
        "colab": {
          "base_uri": "https://localhost:8080/"
        },
        "outputId": "0a8744bd-48c3-448b-d6a7-e81df3431293"
      },
      "execution_count": 46,
      "outputs": [
        {
          "output_type": "stream",
          "name": "stdout",
          "text": [
            "Test set predicted emotions accuracy:\n",
            "calm : 0.7333\n",
            "happy : 0.4286\n",
            "sad : 0.0667\n",
            "angry : 0.2000\n",
            "fearful : 0.5714\n",
            "disgust : 0.0625\n",
            "surprised : 0.1818\n"
          ]
        }
      ]
    },
    {
      "cell_type": "markdown",
      "source": [
        "### Precision, Recal, Fscore"
      ],
      "metadata": {
        "id": "8Hzthv1t8kwd"
      }
    },
    {
      "cell_type": "code",
      "source": [
        "# Validation set precision, recall, fscore\n",
        "\n",
        "precision_recall_fscore_support(y_test_class, y_pred_test_class, average='macro')\n"
      ],
      "metadata": {
        "id": "QnwWoVFnh33F",
        "colab": {
          "base_uri": "https://localhost:8080/"
        },
        "outputId": "7d1b5a4e-fe90-4d20-dad3-f5803af52f97"
      },
      "execution_count": 47,
      "outputs": [
        {
          "output_type": "execute_result",
          "data": {
            "text/plain": [
              "(0.419534632034632, 0.3206168831168831, 0.28425461051975665, None)"
            ]
          },
          "metadata": {},
          "execution_count": 47
        }
      ]
    },
    {
      "cell_type": "code",
      "source": [
        "precision_recall_fscore_support(y_test_class, y_pred_test_class, average='weighted')"
      ],
      "metadata": {
        "id": "OlDhuPlqzwVB",
        "colab": {
          "base_uri": "https://localhost:8080/"
        },
        "outputId": "6cfaf314-d1df-41a3-91b1-0e78e1b13fe8"
      },
      "execution_count": 48,
      "outputs": [
        {
          "output_type": "execute_result",
          "data": {
            "text/plain": [
              "(0.4387287509238729, 0.3170731707317073, 0.2884089272751199, None)"
            ]
          },
          "metadata": {},
          "execution_count": 48
        }
      ]
    },
    {
      "cell_type": "markdown",
      "source": [
        "### ROC AUC Score"
      ],
      "metadata": {
        "id": "sEuBd9IyLuiD"
      }
    },
    {
      "cell_type": "code",
      "source": [
        "ravdess_df = pd.read_csv (df_path)"
      ],
      "metadata": {
        "id": "8bb4OSmyTO6v"
      },
      "execution_count": 49,
      "outputs": []
    },
    {
      "cell_type": "code",
      "source": [
        "labels = [\"calm\", \"happy\", \"sad\", \"angry\", \"fear\", \"disgust\", \"suprised\"]"
      ],
      "metadata": {
        "id": "1leZ4JGVTfTp"
      },
      "execution_count": 50,
      "outputs": []
    },
    {
      "cell_type": "code",
      "source": [
        "y_test_adj = y_test.reshape(-1,)"
      ],
      "metadata": {
        "id": "MRm1ZwnxFStc"
      },
      "execution_count": 51,
      "outputs": []
    },
    {
      "cell_type": "code",
      "source": [
        "y_proba_test_class.shape"
      ],
      "metadata": {
        "id": "O-IcYOABFjxB",
        "colab": {
          "base_uri": "https://localhost:8080/"
        },
        "outputId": "a58d1786-16f3-42b5-d57a-278cf95e0ddf"
      },
      "execution_count": 52,
      "outputs": [
        {
          "output_type": "execute_result",
          "data": {
            "text/plain": [
              "(123, 7)"
            ]
          },
          "metadata": {},
          "execution_count": 52
        }
      ]
    },
    {
      "cell_type": "code",
      "source": [
        "y_test.shape"
      ],
      "metadata": {
        "id": "9AaqUY3PIlMQ",
        "colab": {
          "base_uri": "https://localhost:8080/"
        },
        "outputId": "bde56448-d28e-4602-c02f-fa45f1524f27"
      },
      "execution_count": 53,
      "outputs": [
        {
          "output_type": "execute_result",
          "data": {
            "text/plain": [
              "(123, 1)"
            ]
          },
          "metadata": {},
          "execution_count": 53
        }
      ]
    },
    {
      "cell_type": "code",
      "source": [
        "y_test_adj"
      ],
      "metadata": {
        "id": "7LgDudYTKInS",
        "colab": {
          "base_uri": "https://localhost:8080/"
        },
        "outputId": "5775a89c-d5e9-40c5-adcf-e3ff2f2c16e6"
      },
      "execution_count": 54,
      "outputs": [
        {
          "output_type": "execute_result",
          "data": {
            "text/plain": [
              "array([6, 3, 5, 4, 0, 4, 5, 4, 3, 6, 3, 4, 0, 5, 3, 0, 5, 5, 2, 6, 6, 0,\n",
              "       0, 2, 5, 0, 5, 0, 4, 1, 3, 6, 6, 5, 4, 2, 5, 4, 4, 5, 6, 0, 1, 2,\n",
              "       1, 1, 6, 2, 6, 4, 5, 6, 1, 2, 5, 1, 1, 4, 4, 1, 6, 3, 4, 2, 2, 2,\n",
              "       4, 0, 3, 6, 5, 1, 2, 4, 3, 0, 3, 6, 2, 6, 0, 4, 1, 3, 6, 3, 6, 4,\n",
              "       3, 3, 2, 5, 4, 1, 0, 3, 2, 3, 1, 0, 2, 6, 5, 4, 4, 3, 3, 6, 4, 0,\n",
              "       3, 4, 6, 5, 3, 2, 3, 1, 6, 6, 1, 0, 6], dtype=int8)"
            ]
          },
          "metadata": {},
          "execution_count": 54
        }
      ]
    },
    {
      "cell_type": "code",
      "source": [
        "\n",
        "\n",
        "macro_roc_auc_ovo = roc_auc_score(y_test_adj, y_proba_test_class, multi_class=\"ovo\", average=\"macro\")\n",
        "weighted_roc_auc_ovo = roc_auc_score(\n",
        "    y_test_adj, y_proba_test_class, multi_class=\"ovo\", average=\"weighted\"\n",
        ")\n",
        "macro_roc_auc_ovr = roc_auc_score(y_test_adj, y_proba_test_class, multi_class=\"ovr\", average=\"macro\")\n",
        "weighted_roc_auc_ovr = roc_auc_score(\n",
        "    y_test_adj, y_proba_test_class, multi_class=\"ovr\", average=\"weighted\"\n",
        ")\n"
      ],
      "metadata": {
        "id": "oMa4N8EhHlY9"
      },
      "execution_count": 55,
      "outputs": []
    },
    {
      "cell_type": "code",
      "source": [
        "print(\"One-vs-One ROC AUC scores:\\n{:.6f} (macro),\\n{:.6f} \" \"(weighted by prevalence)\\n\".format(macro_roc_auc_ovo, weighted_roc_auc_ovo))\n",
        "print(\"One-vs-Rest ROC AUC scores:\\n{:.6f} (macro),\\n{:.6f} \" \"(weighted by prevalence)\".format(macro_roc_auc_ovr, weighted_roc_auc_ovr))"
      ],
      "metadata": {
        "id": "hhBLwtO_ICqL",
        "colab": {
          "base_uri": "https://localhost:8080/"
        },
        "outputId": "22de51b2-f7f6-4f24-d598-ea972525aec1"
      },
      "execution_count": 56,
      "outputs": [
        {
          "output_type": "stream",
          "name": "stdout",
          "text": [
            "One-vs-One ROC AUC scores:\n",
            "0.735816 (macro),\n",
            "0.736191 (weighted by prevalence)\n",
            "\n",
            "One-vs-Rest ROC AUC scores:\n",
            "0.736072 (macro),\n",
            "0.735972 (weighted by prevalence)\n"
          ]
        }
      ]
    }
  ]
}