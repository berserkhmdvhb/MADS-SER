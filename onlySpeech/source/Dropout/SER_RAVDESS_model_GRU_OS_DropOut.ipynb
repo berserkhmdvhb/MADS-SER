{
  "metadata": {
    "kernelspec": {
      "language": "python",
      "display_name": "Python 3",
      "name": "python3"
    },
    "language_info": {
      "pygments_lexer": "ipython3",
      "nbconvert_exporter": "python",
      "version": "3.6.4",
      "file_extension": ".py",
      "codemirror_mode": {
        "name": "ipython",
        "version": 3
      },
      "name": "python",
      "mimetype": "text/x-python"
    },
    "colab": {
      "name": "SER-RAVDESS-model-GRU-OS-DropOut.ipynb",
      "provenance": [],
      "collapsed_sections": [
        "anSyerIFN7qd"
      ]
    }
  },
  "nbformat_minor": 0,
  "nbformat": 4,
  "cells": [
    {
      "cell_type": "markdown",
      "source": [
        "# Imports"
      ],
      "metadata": {
        "id": "anSyerIFN7qd"
      }
    },
    {
      "cell_type": "code",
      "source": [
        "# Importing Libraries"
      ],
      "metadata": {
        "id": "IMFSwIuvKiw2"
      },
      "execution_count": 5,
      "outputs": []
    },
    {
      "cell_type": "code",
      "source": [
        "!pip install json-tricks"
      ],
      "metadata": {
        "colab": {
          "base_uri": "https://localhost:8080/"
        },
        "id": "bBR8aNsmM2tR",
        "outputId": "59781761-169c-47ae-d704-c2166ed7674d"
      },
      "execution_count": 6,
      "outputs": [
        {
          "output_type": "stream",
          "name": "stdout",
          "text": [
            "Looking in indexes: https://pypi.org/simple, https://us-python.pkg.dev/colab-wheels/public/simple/\n",
            "Requirement already satisfied: json-tricks in /usr/local/lib/python3.7/dist-packages (3.15.5)\n"
          ]
        }
      ]
    },
    {
      "cell_type": "code",
      "source": [
        "import pandas as pd\n",
        "import numpy as np\n",
        "\n",
        "import os\n",
        "import sys\n",
        "\n",
        "import librosa\n",
        "import librosa.display\n",
        "#from pydub import AudioSegment, effects\n",
        "#import noisereduce as nr\n",
        "\n",
        "\n",
        "import seaborn as sns\n",
        "import matplotlib.pyplot as plt\n",
        "from IPython.display import Audio\n",
        "\n",
        "import tensorflow as tf\n",
        "import keras\n",
        "import sklearn\n",
        "\n",
        "\n",
        "from tensorflow.keras.models import Sequential, Model\n",
        "from tensorflow.keras.layers import Dense, LSTM, Flatten, Dropout, BatchNormalization\n",
        "from tensorflow.keras.callbacks import ModelCheckpoint, EarlyStopping, ReduceLROnPlateau\n",
        "from tensorflow.keras.optimizers import Adam, SGD\n",
        "from tensorflow.keras.utils import to_categorical, plot_model\n",
        "\n",
        "\n",
        "from keras.models import Sequential, model_from_json, load_model\n",
        "from keras import layers\n",
        "from keras import optimizers\n",
        "from keras import callbacks\n",
        "\n",
        "from sklearn.preprocessing import StandardScaler, OneHotEncoder, LabelEncoder\n",
        "from sklearn.metrics import confusion_matrix, classification_report, precision_recall_fscore_support, roc_auc_score\n",
        "from sklearn.model_selection import train_test_split, StratifiedShuffleSplit\n",
        "from sklearn.multiclass import OneVsRestClassifier\n",
        "\n",
        "\n",
        "from tqdm import tqdm\n",
        "\n",
        "\n",
        "from json_tricks import dump, load\n",
        "\n",
        "\n",
        "\n",
        "import warnings\n",
        "if not sys.warnoptions:\n",
        "    warnings.simplefilter(\"ignore\")\n",
        "warnings.filterwarnings(\"ignore\", category=DeprecationWarning) \n",
        "\n",
        "import time\n",
        "tic = time.perf_counter()\n",
        "\n"
      ],
      "metadata": {
        "id": "77IS8HxqFFCA"
      },
      "execution_count": 7,
      "outputs": []
    },
    {
      "cell_type": "code",
      "source": [
        ""
      ],
      "metadata": {
        "id": "gGYqBIk0FGm4"
      },
      "execution_count": 7,
      "outputs": []
    },
    {
      "cell_type": "markdown",
      "source": [
        "# Dataset"
      ],
      "metadata": {
        "id": "nyMzoZKKKiw6"
      }
    },
    {
      "cell_type": "code",
      "source": [
        "from google.colab import drive\n",
        "drive.mount('/content/drive')"
      ],
      "metadata": {
        "colab": {
          "base_uri": "https://localhost:8080/"
        },
        "id": "JFPDGXmwCBs_",
        "outputId": "03859b0e-c7cc-4759-cf2c-bc2a1dec3d3e"
      },
      "execution_count": 8,
      "outputs": [
        {
          "output_type": "stream",
          "name": "stdout",
          "text": [
            "Mounted at /content/drive\n"
          ]
        }
      ]
    },
    {
      "cell_type": "code",
      "source": [
        "#Crema = \"/content/drive/MyDrive/datasets/speech/CREMAD/sample/\"\n",
        "#Crema = \"/content/drive/MyDrive/datasets/speech/CREMAD/AudioWAV/\"\n",
        "Ravdess = \"/content/drive/MyDrive/datasets/speech/RAVDESS/data/Audio_Speech_Actors_01-24\"\n",
        "Ravdess_processed = \"/content/drive/MyDrive/datasets/speech/RAVDESS/processedData/onlySpeech/\"\n",
        "Ravdess_speech_sample = \"/content/drive/MyDrive/datasets/speech/RAVDESS/data/Audio_Speech_Actors_01-24/\"\n",
        "df_path = \"/content/drive/MyDrive/datasets/speech/RAVDESS/ravdess_df_onlySpeech.csv\"\n",
        "model_path = Ravdess + \"/model/\"\n",
        "\n",
        "checkpoint_path = model_path + \"best_weights-os-GRU-1.hdf5\"\n",
        "saved_model_path = model_path + 'model8723-os-GRU-1.json'\n",
        "\n",
        "saved_weights_path = model_path + 'model8723_weights-os-GRU-1.h5'\n",
        "saved_model_path_2 = model_path + 'Speech-Emotion-Recognition-Model-os-GRU-1.h5'"
      ],
      "metadata": {
        "execution": {
          "iopub.status.busy": "2021-06-21T09:35:38.093538Z",
          "iopub.execute_input": "2021-06-21T09:35:38.093869Z",
          "iopub.status.idle": "2021-06-21T09:35:38.097467Z",
          "shell.execute_reply.started": "2021-06-21T09:35:38.093838Z",
          "shell.execute_reply": "2021-06-21T09:35:38.096608Z"
        },
        "trusted": true,
        "id": "vR2GjHL4Kiw7"
      },
      "execution_count": 9,
      "outputs": []
    },
    {
      "cell_type": "code",
      "source": [
        ""
      ],
      "metadata": {
        "id": "J2T6JxzIF2Jq"
      },
      "execution_count": 9,
      "outputs": []
    },
    {
      "cell_type": "code",
      "source": [
        "##Hypter Parameters' Range\n",
        "params = {\n",
        "    \"batch_size\": 20,  # 20<16<10, 25 was a bust\n",
        "    \"epochs\": 300,\n",
        "    \"lr\": 0.00010000,\n",
        "    \"time_steps\": 60\n",
        "}\n",
        "#TIME_STEPS = params[\"time_steps\"]\n",
        "#BATCH_SIZE = params[\"batch_size\"]\n",
        "#iter_changes = \"dropout_layers_0.4_0.4\"\n"
      ],
      "metadata": {
        "id": "jnEd5_Vvy4ue"
      },
      "execution_count": 10,
      "outputs": []
    },
    {
      "cell_type": "code",
      "source": [
        ""
      ],
      "metadata": {
        "id": "dKXM0xT-N8uy"
      },
      "execution_count": 10,
      "outputs": []
    },
    {
      "cell_type": "markdown",
      "source": [
        "# Load Processed Files, Construct Train, Validation and Test Sets"
      ],
      "metadata": {
        "id": "fse_mTpaOGdQ"
      }
    },
    {
      "cell_type": "code",
      "source": [
        "\n",
        "processed_path = Ravdess_processed\n",
        "x_path = processed_path + \"X_features.json\" # FILE LOAD PATH\n",
        "y_path =  processed_path + \"Y_labels.json\" # FILE SAVE PATH\n",
        "#x_path = '/content/drive/MyDrive/datasets/speech/RAVDESS/processedData/X_features.json'\n",
        "\n",
        "# Load X,Y json files back into lists, convert to np.arrays\n",
        "\n",
        "X = load(x_path)\n",
        "X = np.asarray(X, dtype = 'float32')\n",
        "\n",
        "Y = load(y_path)\n",
        "Y = np.asarray(Y, dtype = 'int8')"
      ],
      "metadata": {
        "id": "101BpvWgN8xX"
      },
      "execution_count": 11,
      "outputs": []
    },
    {
      "cell_type": "code",
      "source": [
        "# Split to train, validation, and test sets.\n",
        "from sklearn.model_selection import train_test_split\n",
        "# 1st Split: X,Y => (x_train, x_tosplit) (y_train, y_tosplit)\n",
        "x_train, x_tosplit, y_train, y_tosplit = train_test_split(X, Y, test_size = 0.30, random_state = 1)\n",
        "# 2nd Split: x_tosplit,y_tosplit => (x_val, x_test) (y_val, y_test) \n",
        "x_val, x_test, y_val, y_test = train_test_split(x_tosplit, y_tosplit, test_size = 0.304, random_state = 1)\n",
        "#'One-hot' vectors for Y: emotion classification\n",
        "y_train_class = tf.keras.utils.to_categorical(y_train, 7, dtype = 'int8')\n",
        "y_val_class = tf.keras.utils.to_categorical(y_val, 7, dtype = 'int8')"
      ],
      "metadata": {
        "id": "CuF9M1mfOD7X"
      },
      "execution_count": 12,
      "outputs": []
    },
    {
      "cell_type": "code",
      "source": [
        "# x_train, x_val, and x_test shape check.\n",
        "print(np.shape(x_train))\n",
        "print(np.shape(x_val))\n",
        "print(np.shape(x_test))"
      ],
      "metadata": {
        "colab": {
          "base_uri": "https://localhost:8080/"
        },
        "id": "od-D1YgBOGXs",
        "outputId": "9804dc66-3ba6-427c-d17d-fa6a60c51799"
      },
      "execution_count": 13,
      "outputs": [
        {
          "output_type": "stream",
          "name": "stdout",
          "text": [
            "(940, 448, 15)\n",
            "(281, 448, 15)\n",
            "(123, 448, 15)\n"
          ]
        }
      ]
    },
    {
      "cell_type": "code",
      "source": [
        "# Save x_test, y_test to JSON.\n",
        "\n",
        "x_test_path = processed_path + 'x_test_data.json'\n",
        "dump(obj = x_test, fp = x_test_path)\n",
        "\n",
        "y_test_path = processed_path + 'y_test_data.json'\n",
        "dump(obj = y_test, fp = y_test_path)"
      ],
      "metadata": {
        "colab": {
          "base_uri": "https://localhost:8080/",
          "height": 105
        },
        "id": "nTExHJVsOHQ5",
        "outputId": "e3fc79a3-6ea7-4dc7-b966-f5851a838e39"
      },
      "execution_count": 14,
      "outputs": [
        {
          "output_type": "execute_result",
          "data": {
            "text/plain": [
              "'{\"__ndarray__\": [[6], [3], [5], [4], [0], [4], [5], [4], [3], [6], [3], [4], [0], [5], [3], [0], [5], [5], [2], [6], [6], [0], [0], [2], [5], [0], [5], [0], [4], [1], [3], [6], [6], [5], [4], [2], [5], [4], [4], [5], [6], [0], [1], [2], [1], [1], [6], [2], [6], [4], [5], [6], [1], [2], [5], [1], [1], [4], [4], [1], [6], [3], [4], [2], [2], [2], [4], [0], [3], [6], [5], [1], [2], [4], [3], [0], [3], [6], [2], [6], [0], [4], [1], [3], [6], [3], [6], [4], [3], [3], [2], [5], [4], [1], [0], [3], [2], [3], [1], [0], [2], [6], [5], [4], [4], [3], [3], [6], [4], [0], [3], [4], [6], [5], [3], [2], [3], [1], [6], [6], [1], [0], [6]], \"dtype\": \"int8\", \"shape\": [123, 1], \"Corder\": true}'"
            ],
            "application/vnd.google.colaboratory.intrinsic+json": {
              "type": "string"
            }
          },
          "metadata": {},
          "execution_count": 14
        }
      ]
    },
    {
      "cell_type": "code",
      "source": [
        "# Loading x_test, y_test json files, and converting to np.arrays\n",
        "\n",
        "x_test = load(processed_path + 'x_test_data.json')\n",
        "x_test = np.asarray(x_test).astype('float32')\n",
        "\n",
        "y_test = load(processed_path + 'y_test_data.json')\n",
        "y_test = np.asarray(y_test).astype('int8')\n",
        "\n",
        "y_test_class = tf.keras.utils.to_categorical(y_test, 7, dtype = 'int8')"
      ],
      "metadata": {
        "id": "kAFBRsmk5dzm"
      },
      "execution_count": 15,
      "outputs": []
    },
    {
      "cell_type": "code",
      "source": [
        "X.shape"
      ],
      "metadata": {
        "id": "15joCR4gu4r7",
        "colab": {
          "base_uri": "https://localhost:8080/"
        },
        "outputId": "a885687d-bbf7-4de6-c834-9be51b1427b8"
      },
      "execution_count": 16,
      "outputs": [
        {
          "output_type": "execute_result",
          "data": {
            "text/plain": [
              "(1344, 448, 15)"
            ]
          },
          "metadata": {},
          "execution_count": 16
        }
      ]
    },
    {
      "cell_type": "code",
      "source": [
        "X.shape[1:3]"
      ],
      "metadata": {
        "colab": {
          "base_uri": "https://localhost:8080/"
        },
        "id": "8MQhoPKjEzi4",
        "outputId": "558e50a6-7389-40d1-9df2-07b1b2e4952d"
      },
      "execution_count": 17,
      "outputs": [
        {
          "output_type": "execute_result",
          "data": {
            "text/plain": [
              "(448, 15)"
            ]
          },
          "metadata": {},
          "execution_count": 17
        }
      ]
    },
    {
      "cell_type": "markdown",
      "source": [
        "# RNN Model"
      ],
      "metadata": {
        "id": "gnWVMbR6KixC"
      }
    },
    {
      "cell_type": "code",
      "source": [
        "tic"
      ],
      "metadata": {
        "colab": {
          "base_uri": "https://localhost:8080/"
        },
        "id": "7CHZWdfcN8oo",
        "outputId": "8be645ab-4448-4cc5-c3fb-c67b741e41cd"
      },
      "execution_count": 18,
      "outputs": [
        {
          "output_type": "execute_result",
          "data": {
            "text/plain": [
              "82.627313179"
            ]
          },
          "metadata": {},
          "execution_count": 18
        }
      ]
    },
    {
      "cell_type": "markdown",
      "source": [
        "## Define Model & Training"
      ],
      "metadata": {
        "id": "GJjJYnJQORJ8"
      }
    },
    {
      "cell_type": "code",
      "source": [
        "# Initializing the model\n",
        "\n",
        "model = Sequential()\n",
        "model.add(layers.GRU(128, dropout=0.1, recurrent_dropout=0.2, return_sequences = True, input_shape=(X.shape[1:3])))\n",
        "model.add(layers.GRU(64, dropout=0.05, recurrent_dropout=0.10))\n",
        "model.add(layers.Dense(7, activation = 'softmax'))\n",
        "print(model.summary())\n",
        "\n",
        "batch_size = 23\n",
        "\n",
        "# Callbacks functions\n",
        "\n",
        "#-> EearlyStopping\n",
        "es = EarlyStopping(monitor='val_loss', mode='min', verbose=1,\n",
        "                    patience=10, min_delta=0.0001)\n",
        "\n",
        "\n",
        "#-> Save the best weights\n",
        "mcp_save = callbacks.ModelCheckpoint(checkpoint_path, save_best_only=True,\n",
        "                           monitor='val_categorical_accuracy',\n",
        "                           mode='max')\n",
        "#-> Reduce learning rate after 100 epoches without improvement.\n",
        "rlrop = callbacks.ReduceLROnPlateau(monitor='val_categorical_accuracy', \n",
        "                                    factor=0.1, patience=20)\n",
        "                             \n",
        "# Compile & train   \n",
        "model.compile(loss='categorical_crossentropy', \n",
        "                optimizer='RMSProp', \n",
        "                metrics=['categorical_accuracy'])\n",
        "\n",
        "\n"
      ],
      "metadata": {
        "colab": {
          "base_uri": "https://localhost:8080/"
        },
        "id": "aD2adyVGOJs4",
        "outputId": "24ef2e20-3a3a-4fd8-f4c1-4e0fb06ce325"
      },
      "execution_count": 19,
      "outputs": [
        {
          "output_type": "stream",
          "name": "stdout",
          "text": [
            "Model: \"sequential\"\n",
            "_________________________________________________________________\n",
            " Layer (type)                Output Shape              Param #   \n",
            "=================================================================\n",
            " gru (GRU)                   (None, 448, 128)          55680     \n",
            "                                                                 \n",
            " gru_1 (GRU)                 (None, 64)                37248     \n",
            "                                                                 \n",
            " dense (Dense)               (None, 7)                 455       \n",
            "                                                                 \n",
            "=================================================================\n",
            "Total params: 93,383\n",
            "Trainable params: 93,383\n",
            "Non-trainable params: 0\n",
            "_________________________________________________________________\n",
            "None\n"
          ]
        }
      ]
    },
    {
      "cell_type": "code",
      "source": [
        ""
      ],
      "metadata": {
        "id": "4DBF6kqx-OHZ"
      },
      "execution_count": 19,
      "outputs": []
    },
    {
      "cell_type": "code",
      "source": [
        "history = model.fit(x_train, y_train_class, \n",
        "                      epochs=340, batch_size = batch_size, \n",
        "                      validation_data = (x_val, y_val_class), \n",
        "                      callbacks = [es, mcp_save, rlrop])\n",
        "toc = time.perf_counter()"
      ],
      "metadata": {
        "colab": {
          "base_uri": "https://localhost:8080/"
        },
        "id": "Da7Gc9x_izth",
        "outputId": "ee94d697-3204-4e23-a0d1-da321291610f"
      },
      "execution_count": 20,
      "outputs": [
        {
          "output_type": "stream",
          "name": "stdout",
          "text": [
            "Epoch 1/340\n",
            "41/41 [==============================] - 65s 1s/step - loss: 2.0384 - categorical_accuracy: 0.1447 - val_loss: 2.0324 - val_categorical_accuracy: 0.1708 - lr: 0.0010\n",
            "Epoch 2/340\n",
            "41/41 [==============================] - 60s 1s/step - loss: 2.0165 - categorical_accuracy: 0.1404 - val_loss: 1.9702 - val_categorical_accuracy: 0.1708 - lr: 0.0010\n",
            "Epoch 3/340\n",
            "41/41 [==============================] - 58s 1s/step - loss: 1.9833 - categorical_accuracy: 0.1404 - val_loss: 2.0432 - val_categorical_accuracy: 0.1708 - lr: 0.0010\n",
            "Epoch 4/340\n",
            "41/41 [==============================] - 59s 1s/step - loss: 1.9537 - categorical_accuracy: 0.1691 - val_loss: 2.0450 - val_categorical_accuracy: 0.1423 - lr: 0.0010\n",
            "Epoch 5/340\n",
            "41/41 [==============================] - 59s 1s/step - loss: 1.9165 - categorical_accuracy: 0.2032 - val_loss: 1.9669 - val_categorical_accuracy: 0.1708 - lr: 0.0010\n",
            "Epoch 6/340\n",
            "41/41 [==============================] - 58s 1s/step - loss: 1.8961 - categorical_accuracy: 0.2021 - val_loss: 1.8924 - val_categorical_accuracy: 0.2705 - lr: 0.0010\n",
            "Epoch 7/340\n",
            "41/41 [==============================] - 57s 1s/step - loss: 1.8133 - categorical_accuracy: 0.2617 - val_loss: 1.8262 - val_categorical_accuracy: 0.2100 - lr: 0.0010\n",
            "Epoch 8/340\n",
            "41/41 [==============================] - 58s 1s/step - loss: 1.7723 - categorical_accuracy: 0.2809 - val_loss: 1.8115 - val_categorical_accuracy: 0.2242 - lr: 0.0010\n",
            "Epoch 9/340\n",
            "41/41 [==============================] - 58s 1s/step - loss: 1.7339 - categorical_accuracy: 0.2638 - val_loss: 1.8938 - val_categorical_accuracy: 0.2420 - lr: 0.0010\n",
            "Epoch 10/340\n",
            "41/41 [==============================] - 58s 1s/step - loss: 1.7081 - categorical_accuracy: 0.3074 - val_loss: 1.9786 - val_categorical_accuracy: 0.2171 - lr: 0.0010\n",
            "Epoch 11/340\n",
            "41/41 [==============================] - 58s 1s/step - loss: 1.6548 - categorical_accuracy: 0.3330 - val_loss: 1.8177 - val_categorical_accuracy: 0.3096 - lr: 0.0010\n",
            "Epoch 12/340\n",
            "41/41 [==============================] - 58s 1s/step - loss: 1.6417 - categorical_accuracy: 0.3330 - val_loss: 1.7993 - val_categorical_accuracy: 0.2740 - lr: 0.0010\n",
            "Epoch 13/340\n",
            "41/41 [==============================] - 57s 1s/step - loss: 1.6114 - categorical_accuracy: 0.3564 - val_loss: 1.8652 - val_categorical_accuracy: 0.2811 - lr: 0.0010\n",
            "Epoch 14/340\n",
            "41/41 [==============================] - 57s 1s/step - loss: 1.6059 - categorical_accuracy: 0.3532 - val_loss: 1.8444 - val_categorical_accuracy: 0.3025 - lr: 0.0010\n",
            "Epoch 15/340\n",
            "41/41 [==============================] - 58s 1s/step - loss: 1.5702 - categorical_accuracy: 0.3894 - val_loss: 1.9473 - val_categorical_accuracy: 0.2456 - lr: 0.0010\n",
            "Epoch 16/340\n",
            "41/41 [==============================] - 58s 1s/step - loss: 1.5354 - categorical_accuracy: 0.3798 - val_loss: 1.7685 - val_categorical_accuracy: 0.2883 - lr: 0.0010\n",
            "Epoch 17/340\n",
            "41/41 [==============================] - 58s 1s/step - loss: 1.5445 - categorical_accuracy: 0.4032 - val_loss: 1.8374 - val_categorical_accuracy: 0.2598 - lr: 0.0010\n",
            "Epoch 18/340\n",
            "41/41 [==============================] - 60s 1s/step - loss: 1.5648 - categorical_accuracy: 0.3787 - val_loss: 1.9425 - val_categorical_accuracy: 0.2384 - lr: 0.0010\n",
            "Epoch 19/340\n",
            "41/41 [==============================] - 60s 1s/step - loss: 1.5171 - categorical_accuracy: 0.3872 - val_loss: 1.7966 - val_categorical_accuracy: 0.2633 - lr: 0.0010\n",
            "Epoch 20/340\n",
            "41/41 [==============================] - 59s 1s/step - loss: 1.4902 - categorical_accuracy: 0.4351 - val_loss: 1.7320 - val_categorical_accuracy: 0.2918 - lr: 0.0010\n",
            "Epoch 21/340\n",
            "41/41 [==============================] - 59s 1s/step - loss: 1.5203 - categorical_accuracy: 0.4053 - val_loss: 1.6316 - val_categorical_accuracy: 0.2954 - lr: 0.0010\n",
            "Epoch 22/340\n",
            "41/41 [==============================] - 60s 1s/step - loss: 1.4467 - categorical_accuracy: 0.4202 - val_loss: 1.8209 - val_categorical_accuracy: 0.2776 - lr: 0.0010\n",
            "Epoch 23/340\n",
            "41/41 [==============================] - 61s 1s/step - loss: 1.4507 - categorical_accuracy: 0.4298 - val_loss: 1.7641 - val_categorical_accuracy: 0.3310 - lr: 0.0010\n",
            "Epoch 24/340\n",
            "41/41 [==============================] - 60s 1s/step - loss: 1.4406 - categorical_accuracy: 0.4351 - val_loss: 1.6275 - val_categorical_accuracy: 0.3630 - lr: 0.0010\n",
            "Epoch 25/340\n",
            "41/41 [==============================] - 61s 1s/step - loss: 1.3974 - categorical_accuracy: 0.4617 - val_loss: 1.5831 - val_categorical_accuracy: 0.3701 - lr: 0.0010\n",
            "Epoch 26/340\n",
            "41/41 [==============================] - 61s 2s/step - loss: 1.3959 - categorical_accuracy: 0.4500 - val_loss: 1.5483 - val_categorical_accuracy: 0.3737 - lr: 0.0010\n",
            "Epoch 27/340\n",
            "41/41 [==============================] - 60s 1s/step - loss: 1.3489 - categorical_accuracy: 0.4734 - val_loss: 1.5164 - val_categorical_accuracy: 0.4021 - lr: 0.0010\n",
            "Epoch 28/340\n",
            "41/41 [==============================] - 59s 1s/step - loss: 1.3134 - categorical_accuracy: 0.4798 - val_loss: 1.7274 - val_categorical_accuracy: 0.3132 - lr: 0.0010\n",
            "Epoch 29/340\n",
            "41/41 [==============================] - 59s 1s/step - loss: 1.3380 - categorical_accuracy: 0.4915 - val_loss: 1.6445 - val_categorical_accuracy: 0.3737 - lr: 0.0010\n",
            "Epoch 30/340\n",
            "41/41 [==============================] - 60s 1s/step - loss: 1.3277 - categorical_accuracy: 0.4670 - val_loss: 1.5295 - val_categorical_accuracy: 0.3986 - lr: 0.0010\n",
            "Epoch 31/340\n",
            "41/41 [==============================] - 61s 1s/step - loss: 1.2790 - categorical_accuracy: 0.4851 - val_loss: 1.8686 - val_categorical_accuracy: 0.3274 - lr: 0.0010\n",
            "Epoch 32/340\n",
            "41/41 [==============================] - 60s 1s/step - loss: 1.2926 - categorical_accuracy: 0.4809 - val_loss: 1.6112 - val_categorical_accuracy: 0.3701 - lr: 0.0010\n",
            "Epoch 33/340\n",
            "41/41 [==============================] - 60s 1s/step - loss: 1.2542 - categorical_accuracy: 0.5106 - val_loss: 1.5444 - val_categorical_accuracy: 0.3630 - lr: 0.0010\n",
            "Epoch 34/340\n",
            "41/41 [==============================] - 61s 1s/step - loss: 1.2523 - categorical_accuracy: 0.5149 - val_loss: 1.4957 - val_categorical_accuracy: 0.4306 - lr: 0.0010\n",
            "Epoch 35/340\n",
            "41/41 [==============================] - 60s 1s/step - loss: 1.2495 - categorical_accuracy: 0.5138 - val_loss: 1.7247 - val_categorical_accuracy: 0.3701 - lr: 0.0010\n",
            "Epoch 36/340\n",
            "41/41 [==============================] - 60s 1s/step - loss: 1.2054 - categorical_accuracy: 0.5404 - val_loss: 1.6774 - val_categorical_accuracy: 0.3594 - lr: 0.0010\n",
            "Epoch 37/340\n",
            "41/41 [==============================] - 60s 1s/step - loss: 1.2175 - categorical_accuracy: 0.5181 - val_loss: 1.6601 - val_categorical_accuracy: 0.4093 - lr: 0.0010\n",
            "Epoch 38/340\n",
            "41/41 [==============================] - 60s 1s/step - loss: 1.1664 - categorical_accuracy: 0.5617 - val_loss: 1.5918 - val_categorical_accuracy: 0.4199 - lr: 0.0010\n",
            "Epoch 39/340\n",
            "41/41 [==============================] - 60s 1s/step - loss: 1.1954 - categorical_accuracy: 0.5500 - val_loss: 1.5235 - val_categorical_accuracy: 0.4021 - lr: 0.0010\n",
            "Epoch 40/340\n",
            "41/41 [==============================] - 59s 1s/step - loss: 1.1872 - categorical_accuracy: 0.5649 - val_loss: 1.5219 - val_categorical_accuracy: 0.4128 - lr: 0.0010\n",
            "Epoch 41/340\n",
            "41/41 [==============================] - 60s 1s/step - loss: 1.1583 - categorical_accuracy: 0.5819 - val_loss: 1.4378 - val_categorical_accuracy: 0.4342 - lr: 0.0010\n",
            "Epoch 42/340\n",
            "41/41 [==============================] - 60s 1s/step - loss: 1.1363 - categorical_accuracy: 0.5628 - val_loss: 1.6811 - val_categorical_accuracy: 0.3737 - lr: 0.0010\n",
            "Epoch 43/340\n",
            "41/41 [==============================] - 60s 1s/step - loss: 1.1220 - categorical_accuracy: 0.5840 - val_loss: 1.8999 - val_categorical_accuracy: 0.3096 - lr: 0.0010\n",
            "Epoch 44/340\n",
            "41/41 [==============================] - 59s 1s/step - loss: 1.1309 - categorical_accuracy: 0.5543 - val_loss: 1.5761 - val_categorical_accuracy: 0.4021 - lr: 0.0010\n",
            "Epoch 45/340\n",
            "41/41 [==============================] - 60s 1s/step - loss: 1.0921 - categorical_accuracy: 0.5809 - val_loss: 1.5569 - val_categorical_accuracy: 0.4199 - lr: 0.0010\n",
            "Epoch 46/340\n",
            "41/41 [==============================] - 57s 1s/step - loss: 1.0852 - categorical_accuracy: 0.5894 - val_loss: 1.7068 - val_categorical_accuracy: 0.3808 - lr: 0.0010\n",
            "Epoch 47/340\n",
            "41/41 [==============================] - 58s 1s/step - loss: 1.0681 - categorical_accuracy: 0.6000 - val_loss: 1.6845 - val_categorical_accuracy: 0.3950 - lr: 0.0010\n",
            "Epoch 48/340\n",
            "41/41 [==============================] - 58s 1s/step - loss: 1.0769 - categorical_accuracy: 0.6096 - val_loss: 1.5343 - val_categorical_accuracy: 0.4270 - lr: 0.0010\n",
            "Epoch 49/340\n",
            "41/41 [==============================] - 58s 1s/step - loss: 1.0915 - categorical_accuracy: 0.5915 - val_loss: 1.4074 - val_categorical_accuracy: 0.4377 - lr: 0.0010\n",
            "Epoch 50/340\n",
            "41/41 [==============================] - 58s 1s/step - loss: 1.0394 - categorical_accuracy: 0.6117 - val_loss: 1.4105 - val_categorical_accuracy: 0.4626 - lr: 0.0010\n",
            "Epoch 51/340\n",
            "41/41 [==============================] - 58s 1s/step - loss: 1.0289 - categorical_accuracy: 0.6106 - val_loss: 1.4425 - val_categorical_accuracy: 0.4591 - lr: 0.0010\n",
            "Epoch 52/340\n",
            "41/41 [==============================] - 58s 1s/step - loss: 1.0540 - categorical_accuracy: 0.6064 - val_loss: 1.7384 - val_categorical_accuracy: 0.3630 - lr: 0.0010\n",
            "Epoch 53/340\n",
            "41/41 [==============================] - 60s 1s/step - loss: 1.0104 - categorical_accuracy: 0.6170 - val_loss: 1.6677 - val_categorical_accuracy: 0.3950 - lr: 0.0010\n",
            "Epoch 54/340\n",
            "41/41 [==============================] - 59s 1s/step - loss: 1.0151 - categorical_accuracy: 0.6096 - val_loss: 1.4571 - val_categorical_accuracy: 0.4342 - lr: 0.0010\n",
            "Epoch 55/340\n",
            "41/41 [==============================] - 59s 1s/step - loss: 0.9912 - categorical_accuracy: 0.6372 - val_loss: 1.8019 - val_categorical_accuracy: 0.3630 - lr: 0.0010\n",
            "Epoch 56/340\n",
            "41/41 [==============================] - 59s 1s/step - loss: 0.9939 - categorical_accuracy: 0.6191 - val_loss: 1.7912 - val_categorical_accuracy: 0.3879 - lr: 0.0010\n",
            "Epoch 57/340\n",
            "41/41 [==============================] - 59s 1s/step - loss: 0.9929 - categorical_accuracy: 0.6160 - val_loss: 1.8811 - val_categorical_accuracy: 0.3310 - lr: 0.0010\n",
            "Epoch 58/340\n",
            "41/41 [==============================] - 60s 1s/step - loss: 0.9830 - categorical_accuracy: 0.6213 - val_loss: 1.5651 - val_categorical_accuracy: 0.4164 - lr: 0.0010\n",
            "Epoch 59/340\n",
            "41/41 [==============================] - 58s 1s/step - loss: 0.9411 - categorical_accuracy: 0.6638 - val_loss: 1.6607 - val_categorical_accuracy: 0.3630 - lr: 0.0010\n",
            "Epoch 59: early stopping\n"
          ]
        }
      ]
    },
    {
      "cell_type": "code",
      "source": [
        ""
      ],
      "metadata": {
        "id": "3MekXCZHizyZ"
      },
      "execution_count": 20,
      "outputs": []
    },
    {
      "cell_type": "code",
      "source": [
        "print(f\"Running time: {(toc - tic)/60:0.4f} minutes\")"
      ],
      "metadata": {
        "id": "cHmSBRhVOELJ",
        "colab": {
          "base_uri": "https://localhost:8080/"
        },
        "outputId": "158eb890-5028-4b48-ddf1-c849950de075"
      },
      "execution_count": 21,
      "outputs": [
        {
          "output_type": "stream",
          "name": "stdout",
          "text": [
            "Running time: 59.3535 minutes\n"
          ]
        }
      ]
    },
    {
      "cell_type": "markdown",
      "source": [
        "## Loading Model"
      ],
      "metadata": {
        "id": "jCQelzMAKixD"
      }
    },
    {
      "cell_type": "code",
      "source": [
        "# Define the best weights to the model.\\\n",
        "#model.load_weights(checkpoint_path)"
      ],
      "metadata": {
        "id": "gruZAW2wI-tO"
      },
      "execution_count": 22,
      "outputs": []
    },
    {
      "cell_type": "markdown",
      "source": [
        "# Evaluation"
      ],
      "metadata": {
        "id": "kDxTjEK0KixD"
      }
    },
    {
      "cell_type": "markdown",
      "source": [
        "## Save & Load model, weights"
      ],
      "metadata": {
        "id": "1YfguG0tPatV"
      }
    },
    {
      "cell_type": "code",
      "source": [
        "# Saving model & weights\n",
        "model_json = model.to_json()\n",
        "\n",
        "\n",
        "\n",
        "with open(saved_model_path, \"w\") as json_file:\n",
        "    json_file.write(model_json)\n",
        "    \n",
        "model.save_weights(saved_weights_path)\n",
        "print(\"Saved model to disk\")"
      ],
      "metadata": {
        "colab": {
          "base_uri": "https://localhost:8080/"
        },
        "id": "MsVoNhqmgGsK",
        "outputId": "90847dd8-9666-4c7d-d725-ecb4d137292c"
      },
      "execution_count": 23,
      "outputs": [
        {
          "output_type": "stream",
          "name": "stdout",
          "text": [
            "Saved model to disk\n"
          ]
        }
      ]
    },
    {
      "cell_type": "code",
      "source": [
        "# Reading the model from JSON file\n",
        "#model_path = Ravdess + \"/model/\"\n",
        "#saved_model_path = model_path + 'model8723.json'\n",
        "#saved_weights_path = model_path + 'model8723_weights.h5'\n",
        "\n",
        "\n",
        "with open(saved_model_path , 'r') as json_file:\n",
        "    json_savedModel = json_file.read()\n",
        "    \n",
        "# Loading the model architecture, weights\n",
        "model = tf.keras.models.model_from_json(json_savedModel)\n",
        "model.load_weights(saved_weights_path)\n",
        "\n",
        "# Compiling the model with similar parameters as the original model.\n",
        "model.compile(loss='categorical_crossentropy', \n",
        "                optimizer='RMSProp', \n",
        "                metrics=['categorical_accuracy'])\n",
        "\n",
        "# Model's structure visualization\n",
        "tf.keras.utils.plot_model(model, to_file='model.png', show_shapes=True, show_layer_names=True)"
      ],
      "metadata": {
        "colab": {
          "base_uri": "https://localhost:8080/",
          "height": 422
        },
        "id": "y4OJGhLmgfX6",
        "outputId": "6a8c4c53-0508-4e19-f2fa-8977f6ac1f2b"
      },
      "execution_count": 24,
      "outputs": [
        {
          "output_type": "execute_result",
          "data": {
            "text/plain": [
              "<IPython.core.display.Image object>"
            ],
            "image/png": "[encoded data removed]"
          },
          "metadata": {},
          "execution_count": 24
        }
      ]
    },
    {
      "cell_type": "code",
      "source": [
        ""
      ],
      "metadata": {
        "id": "B_SW6eUAgvEj"
      },
      "execution_count": 24,
      "outputs": []
    },
    {
      "cell_type": "code",
      "source": [
        ""
      ],
      "metadata": {
        "id": "cCfkUXTYgzSB"
      },
      "execution_count": 24,
      "outputs": []
    },
    {
      "cell_type": "code",
      "source": [
        "model.save(saved_model_path_2)"
      ],
      "metadata": {
        "trusted": true,
        "id": "Z5Uzb_bGKixE"
      },
      "execution_count": 25,
      "outputs": []
    },
    {
      "cell_type": "markdown",
      "source": [
        "## Train (fit) Visualization"
      ],
      "metadata": {
        "id": "ATvBW0SPO-eq"
      }
    },
    {
      "cell_type": "code",
      "source": [
        "# Loss, Accuracy presentation\n",
        "\n",
        "# Plot history: Loss\n",
        "plt.plot(history.history['loss'], label='Loss (training data)')\n",
        "plt.plot(history.history['val_loss'], label='Loss (validation data)')\n",
        "plt.title('Loss for train and validation')\n",
        "plt.ylabel('Loss value')\n",
        "plt.xlabel('No. epoch')\n",
        "plt.legend(loc=\"upper left\")\n",
        "plt.show()\n",
        "\n",
        "#Plot history: Accuracy\n",
        "plt.plot(history.history['categorical_accuracy'], label='Acc (training data)')\n",
        "plt.plot(history.history['val_categorical_accuracy'], label='Acc (validation data)')\n",
        "plt.title('Model accuracy')\n",
        "plt.ylabel('Acc %')\n",
        "plt.xlabel('No. epoch')\n",
        "plt.legend(loc=\"upper left\")\n",
        "plt.show()"
      ],
      "metadata": {
        "colab": {
          "base_uri": "https://localhost:8080/",
          "height": 573
        },
        "id": "UjhUHhU_f4EY",
        "outputId": "d226916b-39fb-4517-c4a9-e1121980cf22"
      },
      "execution_count": 26,
      "outputs": [
        {
          "output_type": "display_data",
          "data": {
            "text/plain": [
              "<Figure size 432x288 with 1 Axes>"
            ],
            "image/png": "[encoded data removed]"
          },
          "metadata": {
            "needs_background": "light"
          }
        },
        {
          "output_type": "display_data",
          "data": {
            "text/plain": [
              "<Figure size 432x288 with 1 Axes>"
            ],
            "image/png": "[encoded data removed]"
          },
          "metadata": {
            "needs_background": "light"
          }
        }
      ]
    },
    {
      "cell_type": "markdown",
      "source": [
        "## Validation Set Evaluation"
      ],
      "metadata": {
        "id": "UZ3lFduxPQeB"
      }
    },
    {
      "cell_type": "markdown",
      "source": [
        "### Val Set Score"
      ],
      "metadata": {
        "id": "5YoYCa22PMGz"
      }
    },
    {
      "cell_type": "code",
      "source": [
        ""
      ],
      "metadata": {
        "id": "jQavrzbB_8fy"
      },
      "execution_count": 26,
      "outputs": []
    },
    {
      "cell_type": "code",
      "source": [
        "# Validation score\n",
        "loss,acc = model.evaluate(x_val, y_val_class, verbose=2)\n"
      ],
      "metadata": {
        "id": "X_KdTUyrf7-j",
        "colab": {
          "base_uri": "https://localhost:8080/"
        },
        "outputId": "6e345bbf-1055-449e-990e-14fe9842e148"
      },
      "execution_count": 27,
      "outputs": [
        {
          "output_type": "stream",
          "name": "stdout",
          "text": [
            "9/9 - 2s - loss: 1.6607 - categorical_accuracy: 0.3630 - 2s/epoch - 253ms/step\n"
          ]
        }
      ]
    },
    {
      "cell_type": "code",
      "source": [
        ""
      ],
      "metadata": {
        "id": "09k_I9DM_2Q0"
      },
      "execution_count": 27,
      "outputs": []
    },
    {
      "cell_type": "markdown",
      "source": [
        "### Construct Predicted Labels based on Probability of each class"
      ],
      "metadata": {
        "id": "hz7nc15A_3hb"
      }
    },
    {
      "cell_type": "code",
      "source": [
        "y_val_class"
      ],
      "metadata": {
        "colab": {
          "base_uri": "https://localhost:8080/"
        },
        "id": "CFM1P2SZ_85N",
        "outputId": "950da1ae-5548-46b1-8e06-451062e9576c"
      },
      "execution_count": 28,
      "outputs": [
        {
          "output_type": "execute_result",
          "data": {
            "text/plain": [
              "array([[0, 0, 0, ..., 0, 0, 1],\n",
              "       [0, 1, 0, ..., 0, 0, 0],\n",
              "       [0, 0, 0, ..., 0, 1, 0],\n",
              "       ...,\n",
              "       [0, 0, 0, ..., 0, 0, 1],\n",
              "       [0, 0, 0, ..., 0, 0, 1],\n",
              "       [0, 0, 1, ..., 0, 0, 0]], dtype=int8)"
            ]
          },
          "metadata": {},
          "execution_count": 28
        }
      ]
    },
    {
      "cell_type": "code",
      "source": [
        "np.argmax(y_val_class, axis=1)"
      ],
      "metadata": {
        "colab": {
          "base_uri": "https://localhost:8080/"
        },
        "id": "C9UHSeXbAASy",
        "outputId": "67102f5b-0bc2-4ac6-c740-4bbc9a74f574"
      },
      "execution_count": 29,
      "outputs": [
        {
          "output_type": "execute_result",
          "data": {
            "text/plain": [
              "array([6, 1, 5, 3, 5, 5, 2, 5, 0, 4, 5, 1, 5, 5, 2, 1, 0, 1, 4, 5, 3, 6,\n",
              "       0, 2, 2, 4, 6, 5, 1, 4, 0, 5, 2, 3, 1, 6, 5, 2, 1, 0, 3, 4, 0, 5,\n",
              "       3, 3, 0, 6, 4, 6, 0, 3, 3, 3, 4, 5, 3, 2, 3, 6, 1, 0, 3, 2, 4, 4,\n",
              "       6, 2, 4, 0, 5, 5, 1, 2, 0, 5, 5, 3, 4, 6, 4, 2, 2, 3, 6, 0, 0, 3,\n",
              "       2, 5, 1, 4, 1, 0, 6, 3, 6, 1, 2, 6, 6, 2, 0, 5, 1, 5, 4, 0, 5, 2,\n",
              "       0, 5, 0, 6, 2, 3, 3, 2, 2, 2, 0, 1, 5, 2, 5, 3, 2, 0, 3, 3, 3, 2,\n",
              "       0, 3, 0, 6, 3, 3, 3, 1, 0, 3, 6, 5, 6, 4, 0, 2, 6, 2, 1, 1, 4, 6,\n",
              "       0, 2, 1, 1, 3, 0, 6, 6, 2, 0, 1, 5, 5, 4, 5, 5, 0, 2, 4, 4, 6, 4,\n",
              "       3, 6, 2, 3, 2, 3, 0, 1, 0, 3, 1, 5, 2, 1, 6, 0, 4, 1, 6, 2, 0, 0,\n",
              "       6, 0, 0, 2, 5, 5, 1, 2, 3, 2, 2, 2, 4, 3, 5, 3, 1, 0, 2, 0, 2, 4,\n",
              "       6, 1, 0, 6, 5, 6, 4, 0, 0, 4, 5, 3, 2, 6, 2, 6, 3, 5, 3, 1, 5, 6,\n",
              "       5, 1, 2, 1, 6, 0, 5, 3, 2, 1, 6, 3, 0, 1, 3, 6, 3, 2, 2, 4, 6, 4,\n",
              "       3, 2, 2, 5, 5, 4, 1, 3, 6, 5, 3, 0, 3, 4, 6, 6, 2])"
            ]
          },
          "metadata": {},
          "execution_count": 29
        }
      ]
    },
    {
      "cell_type": "code",
      "source": [
        "y_val_class = np.argmax(y_val_class, axis=1)\n",
        "predictions_val = model.predict(x_val)\n",
        "y_proba_val_class = predictions_val\n",
        "y_pred_val_class = np.argmax(predictions_val, axis=1)"
      ],
      "metadata": {
        "id": "urjydD-38JK7"
      },
      "execution_count": 30,
      "outputs": []
    },
    {
      "cell_type": "code",
      "source": [
        "predictions_val\n"
      ],
      "metadata": {
        "colab": {
          "base_uri": "https://localhost:8080/"
        },
        "id": "Zb7dGRs3AEJn",
        "outputId": "efec2c5c-0819-4fcf-80d6-de0a86b0c81c"
      },
      "execution_count": 31,
      "outputs": [
        {
          "output_type": "execute_result",
          "data": {
            "text/plain": [
              "array([[0.00770857, 0.57953113, 0.01824898, ..., 0.07955438, 0.00145823,\n",
              "        0.26455387],\n",
              "       [0.00209094, 0.46097928, 0.02399058, ..., 0.07997562, 0.00226081,\n",
              "        0.42406392],\n",
              "       [0.02687237, 0.12746736, 0.09382717, ..., 0.33069715, 0.28992113,\n",
              "        0.04340015],\n",
              "       ...,\n",
              "       [0.00125582, 0.04343677, 0.0250851 , ..., 0.8405195 , 0.00287201,\n",
              "        0.05849818],\n",
              "       [0.00275608, 0.45993498, 0.08012696, ..., 0.16002   , 0.00253795,\n",
              "        0.29023826],\n",
              "       [0.00290341, 0.19220917, 0.04817108, ..., 0.69802916, 0.00718107,\n",
              "        0.0357583 ]], dtype=float32)"
            ]
          },
          "metadata": {},
          "execution_count": 31
        }
      ]
    },
    {
      "cell_type": "code",
      "source": [
        "y_pred_val_class "
      ],
      "metadata": {
        "colab": {
          "base_uri": "https://localhost:8080/"
        },
        "id": "KxHa1Ss1AJo4",
        "outputId": "024c6de6-6fae-4fe4-b834-fcdfb63090e5"
      },
      "execution_count": 32,
      "outputs": [
        {
          "output_type": "execute_result",
          "data": {
            "text/plain": [
              "array([1, 1, 4, 3, 3, 1, 4, 6, 0, 4, 3, 4, 2, 2, 4, 1, 2, 1, 4, 5, 3, 1,\n",
              "       4, 1, 1, 1, 3, 3, 1, 6, 1, 2, 4, 3, 4, 6, 6, 1, 1, 4, 6, 4, 1, 2,\n",
              "       6, 3, 0, 3, 4, 4, 1, 3, 3, 3, 1, 1, 6, 1, 1, 4, 1, 1, 3, 4, 4, 1,\n",
              "       4, 4, 4, 0, 6, 3, 1, 4, 3, 4, 5, 3, 6, 1, 4, 2, 4, 3, 6, 0, 1, 4,\n",
              "       4, 5, 4, 4, 1, 0, 1, 3, 1, 1, 1, 2, 4, 4, 0, 4, 3, 5, 4, 4, 3, 2,\n",
              "       1, 2, 2, 4, 3, 6, 3, 1, 2, 5, 2, 1, 5, 4, 5, 3, 1, 2, 4, 1, 2, 1,\n",
              "       1, 3, 2, 1, 4, 4, 3, 1, 1, 1, 6, 3, 6, 1, 1, 2, 4, 2, 1, 0, 2, 1,\n",
              "       2, 1, 6, 4, 3, 1, 1, 6, 4, 2, 1, 3, 2, 4, 1, 5, 2, 1, 1, 4, 1, 6,\n",
              "       3, 4, 3, 4, 0, 2, 0, 1, 4, 4, 4, 3, 1, 2, 6, 1, 4, 1, 6, 1, 1, 3,\n",
              "       4, 2, 1, 4, 3, 5, 1, 6, 3, 1, 4, 3, 1, 1, 5, 3, 0, 0, 4, 0, 2, 4,\n",
              "       1, 1, 0, 4, 3, 4, 4, 0, 1, 6, 5, 3, 4, 4, 4, 1, 3, 6, 3, 1, 6, 4,\n",
              "       1, 1, 2, 1, 4, 1, 4, 3, 1, 4, 1, 1, 0, 1, 1, 1, 3, 4, 1, 6, 4, 4,\n",
              "       3, 4, 4, 2, 6, 6, 1, 5, 4, 5, 3, 2, 3, 4, 4, 1, 4])"
            ]
          },
          "metadata": {},
          "execution_count": 32
        }
      ]
    },
    {
      "cell_type": "markdown",
      "source": [
        "### Val Set Confusion Matrix and Heatmap"
      ],
      "metadata": {
        "id": "d2ullxf9PUMd"
      }
    },
    {
      "cell_type": "code",
      "source": [
        "# Validation Confusion matrix\n",
        "cm=confusion_matrix(y_val_class, y_pred_val_class)\n",
        "\n",
        "index = ['calm', 'happy', 'sad', 'angry', 'fearful', 'disgust', 'surprised']  \n",
        "columns = ['calm', 'happy', 'sad', 'angry', 'fearful', 'disgust', 'surprised']  \n",
        " \n",
        "cm_df = pd.DataFrame(cm,index,columns)                      \n",
        "plt.figure(figsize=(12,8))\n",
        "ax = plt.axes()\n",
        "\n",
        "sns.heatmap(cm_df, ax = ax, cmap = 'PuBu', fmt=\"d\", annot=True)\n",
        "ax.set_ylabel('True emotion')\n",
        "ax.set_xlabel('Predicted emotion')"
      ],
      "metadata": {
        "colab": {
          "base_uri": "https://localhost:8080/",
          "height": 514
        },
        "id": "doLcg3CTf9bx",
        "outputId": "4c4d9053-f536-48b3-d0b6-1cbee4934d0a"
      },
      "execution_count": 33,
      "outputs": [
        {
          "output_type": "execute_result",
          "data": {
            "text/plain": [
              "Text(0.5, 51.0, 'Predicted emotion')"
            ]
          },
          "metadata": {},
          "execution_count": 33
        },
        {
          "output_type": "display_data",
          "data": {
            "text/plain": [
              "<Figure size 864x576 with 2 Axes>"
            ],
            "image/png": "[encoded data removed]"
          },
          "metadata": {
            "needs_background": "light"
          }
        }
      ]
    },
    {
      "cell_type": "code",
      "source": [
        "# Confusion Matrix\n",
        "cm"
      ],
      "metadata": {
        "colab": {
          "base_uri": "https://localhost:8080/"
        },
        "id": "hIEG9Pia8Nfp",
        "outputId": "42176b4f-1b2a-45d6-f718-7ed1f8648193"
      },
      "execution_count": 34,
      "outputs": [
        {
          "output_type": "execute_result",
          "data": {
            "text/plain": [
              "array([[12, 15, 10,  2,  4,  0,  0],\n",
              "       [ 2, 22,  1,  1,  6,  0,  1],\n",
              "       [ 1, 15,  7,  3, 20,  1,  1],\n",
              "       [ 0,  6,  2, 27,  6,  1,  4],\n",
              "       [ 0,  6,  1,  0, 16,  0,  6],\n",
              "       [ 0,  4,  7, 10,  4, 11,  6],\n",
              "       [ 0, 14,  1,  2, 16,  0,  7]])"
            ]
          },
          "metadata": {},
          "execution_count": 34
        }
      ]
    },
    {
      "cell_type": "markdown",
      "source": [
        "### Validation Set Predicted emotions accuracy"
      ],
      "metadata": {
        "id": "kWjKgUdRPYH5"
      }
    },
    {
      "cell_type": "code",
      "source": [
        "# Validation set prediction accuracy rates\n",
        "\n",
        "values = cm.diagonal()\n",
        "row_sum = np.sum(cm,axis=1)\n",
        "acc = values / row_sum\n",
        "\n",
        "print('Validation set predicted emotions accuracy:')\n",
        "for e in range(0, len(values)):\n",
        "    print(index[e],':', f\"{(acc[e]):0.4f}\")"
      ],
      "metadata": {
        "colab": {
          "base_uri": "https://localhost:8080/"
        },
        "id": "MopdywY9f-mS",
        "outputId": "12c4ea97-9485-4297-e0dc-410e0085c4fd"
      },
      "execution_count": 35,
      "outputs": [
        {
          "output_type": "stream",
          "name": "stdout",
          "text": [
            "Validation set predicted emotions accuracy:\n",
            "calm : 0.2791\n",
            "happy : 0.6667\n",
            "sad : 0.1458\n",
            "angry : 0.5870\n",
            "fearful : 0.5517\n",
            "disgust : 0.2619\n",
            "surprised : 0.1750\n"
          ]
        }
      ]
    },
    {
      "cell_type": "markdown",
      "source": [
        "### Precision, Recal, Fscore"
      ],
      "metadata": {
        "id": "DGSTy2228XRH"
      }
    },
    {
      "cell_type": "code",
      "source": [
        "# Validation set precision, recall, fscore\n",
        "\n",
        "precision_recall_fscore_support(y_val_class, y_pred_val_class, average='macro')\n"
      ],
      "metadata": {
        "colab": {
          "base_uri": "https://localhost:8080/"
        },
        "id": "rOwUkCG0gGpm",
        "outputId": "d1d2a5c1-3a9c-4f49-b516-3b82f5e58ee1"
      },
      "execution_count": 36,
      "outputs": [
        {
          "output_type": "execute_result",
          "data": {
            "text/plain": [
              "(0.4654354373782465, 0.381022169859541, 0.35769183898259393, None)"
            ]
          },
          "metadata": {},
          "execution_count": 36
        }
      ]
    },
    {
      "cell_type": "code",
      "source": [
        "precision_recall_fscore_support(y_val_class, y_pred_val_class, average='weighted')"
      ],
      "metadata": {
        "colab": {
          "base_uri": "https://localhost:8080/"
        },
        "id": "OorFgXxDzy3o",
        "outputId": "87243d10-9369-48bd-ac1c-107d37d9ce2e"
      },
      "execution_count": 37,
      "outputs": [
        {
          "output_type": "execute_result",
          "data": {
            "text/plain": [
              "(0.4826433146478401, 0.36298932384341637, 0.35959668987914384, None)"
            ]
          },
          "metadata": {},
          "execution_count": 37
        }
      ]
    },
    {
      "cell_type": "markdown",
      "source": [
        "## Test Set Evaluation"
      ],
      "metadata": {
        "id": "FiCwOjmPPgCn"
      }
    },
    {
      "cell_type": "markdown",
      "source": [
        "### Test Set Score\n",
        "\n"
      ],
      "metadata": {
        "id": "CWB7U5xDUSmF"
      }
    },
    {
      "cell_type": "code",
      "source": [
        "loss, acc = model.evaluate(x_test, y_test_class, verbose=2)"
      ],
      "metadata": {
        "id": "Y7NEHPM-gzml",
        "colab": {
          "base_uri": "https://localhost:8080/"
        },
        "outputId": "df14bb2d-07a3-4b89-91e7-d21195dc7353"
      },
      "execution_count": 38,
      "outputs": [
        {
          "output_type": "stream",
          "name": "stdout",
          "text": [
            "4/4 - 1s - loss: 1.6959 - categorical_accuracy: 0.3577 - 716ms/epoch - 179ms/step\n"
          ]
        }
      ]
    },
    {
      "cell_type": "markdown",
      "source": [
        "### Construct Predicted Labels based on Probability of each class"
      ],
      "metadata": {
        "id": "gPwcFV9oAhGh"
      }
    },
    {
      "cell_type": "code",
      "source": [
        "y_test_class"
      ],
      "metadata": {
        "colab": {
          "base_uri": "https://localhost:8080/"
        },
        "id": "tjN7Eit7AiML",
        "outputId": "0ea6fb42-e179-428b-a7b3-158c3634dcc4"
      },
      "execution_count": 39,
      "outputs": [
        {
          "output_type": "execute_result",
          "data": {
            "text/plain": [
              "array([[0, 0, 0, 0, 0, 0, 1],\n",
              "       [0, 0, 0, 1, 0, 0, 0],\n",
              "       [0, 0, 0, 0, 0, 1, 0],\n",
              "       [0, 0, 0, 0, 1, 0, 0],\n",
              "       [1, 0, 0, 0, 0, 0, 0],\n",
              "       [0, 0, 0, 0, 1, 0, 0],\n",
              "       [0, 0, 0, 0, 0, 1, 0],\n",
              "       [0, 0, 0, 0, 1, 0, 0],\n",
              "       [0, 0, 0, 1, 0, 0, 0],\n",
              "       [0, 0, 0, 0, 0, 0, 1],\n",
              "       [0, 0, 0, 1, 0, 0, 0],\n",
              "       [0, 0, 0, 0, 1, 0, 0],\n",
              "       [1, 0, 0, 0, 0, 0, 0],\n",
              "       [0, 0, 0, 0, 0, 1, 0],\n",
              "       [0, 0, 0, 1, 0, 0, 0],\n",
              "       [1, 0, 0, 0, 0, 0, 0],\n",
              "       [0, 0, 0, 0, 0, 1, 0],\n",
              "       [0, 0, 0, 0, 0, 1, 0],\n",
              "       [0, 0, 1, 0, 0, 0, 0],\n",
              "       [0, 0, 0, 0, 0, 0, 1],\n",
              "       [0, 0, 0, 0, 0, 0, 1],\n",
              "       [1, 0, 0, 0, 0, 0, 0],\n",
              "       [1, 0, 0, 0, 0, 0, 0],\n",
              "       [0, 0, 1, 0, 0, 0, 0],\n",
              "       [0, 0, 0, 0, 0, 1, 0],\n",
              "       [1, 0, 0, 0, 0, 0, 0],\n",
              "       [0, 0, 0, 0, 0, 1, 0],\n",
              "       [1, 0, 0, 0, 0, 0, 0],\n",
              "       [0, 0, 0, 0, 1, 0, 0],\n",
              "       [0, 1, 0, 0, 0, 0, 0],\n",
              "       [0, 0, 0, 1, 0, 0, 0],\n",
              "       [0, 0, 0, 0, 0, 0, 1],\n",
              "       [0, 0, 0, 0, 0, 0, 1],\n",
              "       [0, 0, 0, 0, 0, 1, 0],\n",
              "       [0, 0, 0, 0, 1, 0, 0],\n",
              "       [0, 0, 1, 0, 0, 0, 0],\n",
              "       [0, 0, 0, 0, 0, 1, 0],\n",
              "       [0, 0, 0, 0, 1, 0, 0],\n",
              "       [0, 0, 0, 0, 1, 0, 0],\n",
              "       [0, 0, 0, 0, 0, 1, 0],\n",
              "       [0, 0, 0, 0, 0, 0, 1],\n",
              "       [1, 0, 0, 0, 0, 0, 0],\n",
              "       [0, 1, 0, 0, 0, 0, 0],\n",
              "       [0, 0, 1, 0, 0, 0, 0],\n",
              "       [0, 1, 0, 0, 0, 0, 0],\n",
              "       [0, 1, 0, 0, 0, 0, 0],\n",
              "       [0, 0, 0, 0, 0, 0, 1],\n",
              "       [0, 0, 1, 0, 0, 0, 0],\n",
              "       [0, 0, 0, 0, 0, 0, 1],\n",
              "       [0, 0, 0, 0, 1, 0, 0],\n",
              "       [0, 0, 0, 0, 0, 1, 0],\n",
              "       [0, 0, 0, 0, 0, 0, 1],\n",
              "       [0, 1, 0, 0, 0, 0, 0],\n",
              "       [0, 0, 1, 0, 0, 0, 0],\n",
              "       [0, 0, 0, 0, 0, 1, 0],\n",
              "       [0, 1, 0, 0, 0, 0, 0],\n",
              "       [0, 1, 0, 0, 0, 0, 0],\n",
              "       [0, 0, 0, 0, 1, 0, 0],\n",
              "       [0, 0, 0, 0, 1, 0, 0],\n",
              "       [0, 1, 0, 0, 0, 0, 0],\n",
              "       [0, 0, 0, 0, 0, 0, 1],\n",
              "       [0, 0, 0, 1, 0, 0, 0],\n",
              "       [0, 0, 0, 0, 1, 0, 0],\n",
              "       [0, 0, 1, 0, 0, 0, 0],\n",
              "       [0, 0, 1, 0, 0, 0, 0],\n",
              "       [0, 0, 1, 0, 0, 0, 0],\n",
              "       [0, 0, 0, 0, 1, 0, 0],\n",
              "       [1, 0, 0, 0, 0, 0, 0],\n",
              "       [0, 0, 0, 1, 0, 0, 0],\n",
              "       [0, 0, 0, 0, 0, 0, 1],\n",
              "       [0, 0, 0, 0, 0, 1, 0],\n",
              "       [0, 1, 0, 0, 0, 0, 0],\n",
              "       [0, 0, 1, 0, 0, 0, 0],\n",
              "       [0, 0, 0, 0, 1, 0, 0],\n",
              "       [0, 0, 0, 1, 0, 0, 0],\n",
              "       [1, 0, 0, 0, 0, 0, 0],\n",
              "       [0, 0, 0, 1, 0, 0, 0],\n",
              "       [0, 0, 0, 0, 0, 0, 1],\n",
              "       [0, 0, 1, 0, 0, 0, 0],\n",
              "       [0, 0, 0, 0, 0, 0, 1],\n",
              "       [1, 0, 0, 0, 0, 0, 0],\n",
              "       [0, 0, 0, 0, 1, 0, 0],\n",
              "       [0, 1, 0, 0, 0, 0, 0],\n",
              "       [0, 0, 0, 1, 0, 0, 0],\n",
              "       [0, 0, 0, 0, 0, 0, 1],\n",
              "       [0, 0, 0, 1, 0, 0, 0],\n",
              "       [0, 0, 0, 0, 0, 0, 1],\n",
              "       [0, 0, 0, 0, 1, 0, 0],\n",
              "       [0, 0, 0, 1, 0, 0, 0],\n",
              "       [0, 0, 0, 1, 0, 0, 0],\n",
              "       [0, 0, 1, 0, 0, 0, 0],\n",
              "       [0, 0, 0, 0, 0, 1, 0],\n",
              "       [0, 0, 0, 0, 1, 0, 0],\n",
              "       [0, 1, 0, 0, 0, 0, 0],\n",
              "       [1, 0, 0, 0, 0, 0, 0],\n",
              "       [0, 0, 0, 1, 0, 0, 0],\n",
              "       [0, 0, 1, 0, 0, 0, 0],\n",
              "       [0, 0, 0, 1, 0, 0, 0],\n",
              "       [0, 1, 0, 0, 0, 0, 0],\n",
              "       [1, 0, 0, 0, 0, 0, 0],\n",
              "       [0, 0, 1, 0, 0, 0, 0],\n",
              "       [0, 0, 0, 0, 0, 0, 1],\n",
              "       [0, 0, 0, 0, 0, 1, 0],\n",
              "       [0, 0, 0, 0, 1, 0, 0],\n",
              "       [0, 0, 0, 0, 1, 0, 0],\n",
              "       [0, 0, 0, 1, 0, 0, 0],\n",
              "       [0, 0, 0, 1, 0, 0, 0],\n",
              "       [0, 0, 0, 0, 0, 0, 1],\n",
              "       [0, 0, 0, 0, 1, 0, 0],\n",
              "       [1, 0, 0, 0, 0, 0, 0],\n",
              "       [0, 0, 0, 1, 0, 0, 0],\n",
              "       [0, 0, 0, 0, 1, 0, 0],\n",
              "       [0, 0, 0, 0, 0, 0, 1],\n",
              "       [0, 0, 0, 0, 0, 1, 0],\n",
              "       [0, 0, 0, 1, 0, 0, 0],\n",
              "       [0, 0, 1, 0, 0, 0, 0],\n",
              "       [0, 0, 0, 1, 0, 0, 0],\n",
              "       [0, 1, 0, 0, 0, 0, 0],\n",
              "       [0, 0, 0, 0, 0, 0, 1],\n",
              "       [0, 0, 0, 0, 0, 0, 1],\n",
              "       [0, 1, 0, 0, 0, 0, 0],\n",
              "       [1, 0, 0, 0, 0, 0, 0],\n",
              "       [0, 0, 0, 0, 0, 0, 1]], dtype=int8)"
            ]
          },
          "metadata": {},
          "execution_count": 39
        }
      ]
    },
    {
      "cell_type": "code",
      "source": [
        " np.argmax(y_test_class, axis=1)"
      ],
      "metadata": {
        "colab": {
          "base_uri": "https://localhost:8080/"
        },
        "id": "2fcK-_HzAmc5",
        "outputId": "c7d96f22-6f01-4fd0-8153-571321996c0d"
      },
      "execution_count": 40,
      "outputs": [
        {
          "output_type": "execute_result",
          "data": {
            "text/plain": [
              "array([6, 3, 5, 4, 0, 4, 5, 4, 3, 6, 3, 4, 0, 5, 3, 0, 5, 5, 2, 6, 6, 0,\n",
              "       0, 2, 5, 0, 5, 0, 4, 1, 3, 6, 6, 5, 4, 2, 5, 4, 4, 5, 6, 0, 1, 2,\n",
              "       1, 1, 6, 2, 6, 4, 5, 6, 1, 2, 5, 1, 1, 4, 4, 1, 6, 3, 4, 2, 2, 2,\n",
              "       4, 0, 3, 6, 5, 1, 2, 4, 3, 0, 3, 6, 2, 6, 0, 4, 1, 3, 6, 3, 6, 4,\n",
              "       3, 3, 2, 5, 4, 1, 0, 3, 2, 3, 1, 0, 2, 6, 5, 4, 4, 3, 3, 6, 4, 0,\n",
              "       3, 4, 6, 5, 3, 2, 3, 1, 6, 6, 1, 0, 6])"
            ]
          },
          "metadata": {},
          "execution_count": 40
        }
      ]
    },
    {
      "cell_type": "code",
      "source": [
        "y_test_class = np.argmax(y_test_class, axis=1)\n",
        "predictions_test = model.predict(x_test)\n",
        "y_pred_test_class = np.argmax(predictions_test, axis=1)\n",
        "y_proba_test_class = predictions_test\n",
        "\n"
      ],
      "metadata": {
        "id": "uyXvoU2rAckI"
      },
      "execution_count": 41,
      "outputs": []
    },
    {
      "cell_type": "code",
      "source": [
        "predictions_test"
      ],
      "metadata": {
        "colab": {
          "base_uri": "https://localhost:8080/"
        },
        "id": "3BAOUaPwAtuY",
        "outputId": "c203026a-5f5a-4019-fc63-69c79cf8c5f2"
      },
      "execution_count": 42,
      "outputs": [
        {
          "output_type": "execute_result",
          "data": {
            "text/plain": [
              "array([[1.50204997e-03, 3.09658378e-01, 7.63171762e-02, 1.17589101e-01,\n",
              "        1.28856882e-01, 1.12351943e-02, 3.54841143e-01],\n",
              "       [4.43225610e-04, 3.45178321e-02, 9.35935155e-02, 2.25536823e-01,\n",
              "        4.59467530e-01, 2.36834064e-02, 1.62757650e-01],\n",
              "       [6.05253910e-04, 7.94136748e-02, 3.52148972e-02, 3.79346125e-02,\n",
              "        4.94487643e-01, 3.31529416e-03, 3.49028647e-01],\n",
              "       [2.32390757e-03, 2.01530740e-01, 4.22153547e-02, 1.93159897e-02,\n",
              "        5.96026003e-01, 1.95256236e-03, 1.36635348e-01],\n",
              "       [2.18195572e-01, 5.11127234e-01, 1.17310263e-01, 2.55073840e-03,\n",
              "        4.34438139e-02, 1.19417196e-03, 1.06178254e-01],\n",
              "       [8.48180964e-04, 5.97724020e-02, 3.79465111e-02, 2.57184029e-01,\n",
              "        4.12811577e-01, 1.96411218e-02, 2.11796135e-01],\n",
              "       [2.54942686e-03, 2.49798357e-01, 7.46139586e-02, 8.87249336e-02,\n",
              "        6.94765151e-02, 1.38110012e-01, 3.76726806e-01],\n",
              "       [1.26781151e-01, 5.12944341e-01, 1.17626227e-01, 1.00096629e-03,\n",
              "        1.70530245e-01, 3.13447003e-04, 7.08036199e-02],\n",
              "       [6.62583567e-04, 5.19075394e-02, 1.37414709e-01, 2.39675760e-01,\n",
              "        3.68181527e-01, 2.29601171e-02, 1.79197818e-01],\n",
              "       [2.83938600e-04, 4.43192348e-02, 1.25219449e-01, 9.98109356e-02,\n",
              "        5.78217328e-01, 8.76927748e-03, 1.43379867e-01],\n",
              "       [4.66072961e-04, 2.51790397e-02, 4.99260239e-02, 6.99359238e-01,\n",
              "        7.16279373e-02, 7.52928182e-02, 7.81488046e-02],\n",
              "       [2.86680623e-03, 4.54698443e-01, 2.98748240e-02, 1.79950544e-03,\n",
              "        1.60236120e-01, 5.57944470e-04, 3.49966258e-01],\n",
              "       [7.75400698e-01, 6.13082498e-02, 1.19187228e-01, 6.22556591e-03,\n",
              "        2.48081014e-02, 7.10859569e-03, 5.96160861e-03],\n",
              "       [4.61193966e-03, 1.20859044e-02, 2.87294716e-01, 6.86945543e-02,\n",
              "        4.85530123e-02, 5.17702520e-01, 6.10572994e-02],\n",
              "       [3.55793134e-04, 8.92209187e-02, 7.58847296e-02, 1.55755775e-02,\n",
              "        6.15347564e-01, 5.11333393e-03, 1.98502123e-01],\n",
              "       [2.85602301e-01, 3.37224007e-01, 7.76698813e-02, 5.93667338e-03,\n",
              "        2.55673438e-01, 8.17605015e-03, 2.97175199e-02],\n",
              "       [6.20279578e-04, 6.52087778e-02, 5.04167490e-02, 2.04758998e-02,\n",
              "        6.40416026e-01, 3.63787194e-03, 2.19224393e-01],\n",
              "       [5.83795249e-04, 1.80535465e-02, 4.77662496e-02, 6.06474698e-01,\n",
              "        1.86684221e-01, 6.48286641e-02, 7.56088719e-02],\n",
              "       [4.83695709e-04, 1.09126762e-01, 1.53042138e-01, 2.48778239e-02,\n",
              "        5.17237782e-01, 9.17988084e-03, 1.86051860e-01],\n",
              "       [6.61773433e-04, 3.85638326e-02, 2.79037785e-02, 1.09290918e-02,\n",
              "        7.37985730e-01, 2.47953902e-03, 1.81476176e-01],\n",
              "       [1.23967556e-02, 5.27811229e-01, 3.31059843e-02, 1.33291062e-03,\n",
              "        1.40264228e-01, 3.27854214e-04, 2.84761041e-01],\n",
              "       [1.64398313e-01, 1.68065518e-01, 2.46344030e-01, 8.16754822e-04,\n",
              "        3.40148568e-01, 2.92128348e-03, 7.73055702e-02],\n",
              "       [2.78403491e-01, 1.26386480e-02, 3.61294270e-01, 9.78091150e-04,\n",
              "        3.22884351e-01, 1.52277444e-02, 8.57323129e-03],\n",
              "       [1.11844400e-02, 4.92563337e-01, 1.46783203e-01, 3.57278343e-03,\n",
              "        2.30616331e-01, 3.81739438e-03, 1.11462474e-01],\n",
              "       [7.19152857e-04, 7.87767023e-02, 7.20252469e-02, 5.38035631e-01,\n",
              "        5.53293526e-02, 1.06040463e-01, 1.49073392e-01],\n",
              "       [1.78759351e-01, 2.88725287e-01, 2.11766288e-01, 1.03634060e-03,\n",
              "        2.24274725e-01, 1.35870790e-03, 9.40793231e-02],\n",
              "       [4.18747626e-02, 4.92928028e-01, 2.08755240e-01, 3.23010283e-03,\n",
              "        9.45965201e-02, 3.23591637e-03, 1.55379370e-01],\n",
              "       [2.10576728e-02, 1.67825967e-01, 5.96404523e-02, 1.12554040e-02,\n",
              "        6.50953889e-01, 1.06359385e-02, 7.86306709e-02],\n",
              "       [2.51211405e-01, 3.75146121e-01, 1.10051602e-01, 1.10003562e-03,\n",
              "        2.01657012e-01, 8.54909304e-04, 5.99790029e-02],\n",
              "       [2.78687454e-03, 7.03125954e-01, 2.04299036e-02, 1.15666129e-02,\n",
              "        3.95389646e-02, 1.36294961e-03, 2.21188650e-01],\n",
              "       [3.34451813e-03, 1.38416607e-02, 1.74111247e-01, 6.70077130e-02,\n",
              "        2.00162958e-02, 6.64746225e-01, 5.69323488e-02],\n",
              "       [4.92985779e-03, 5.56383252e-01, 1.40157677e-02, 2.39166245e-03,\n",
              "        1.14859879e-01, 3.50841758e-04, 3.07068706e-01],\n",
              "       [9.14588198e-03, 2.38226876e-01, 1.55324861e-01, 2.53371452e-03,\n",
              "        4.23261523e-01, 3.74729373e-03, 1.67759866e-01],\n",
              "       [1.86745997e-03, 4.71815616e-01, 2.41063964e-02, 1.92502677e-03,\n",
              "        1.36644721e-01, 6.25791028e-04, 3.63015026e-01],\n",
              "       [1.67000899e-03, 2.42192104e-01, 4.02403101e-02, 5.56775089e-03,\n",
              "        6.37250662e-01, 1.94840308e-03, 7.11306930e-02],\n",
              "       [7.65717169e-03, 2.36325383e-01, 2.51794815e-01, 2.24106953e-01,\n",
              "        1.49118081e-01, 1.82679351e-02, 1.12729661e-01],\n",
              "       [1.45639470e-02, 3.65132838e-01, 5.96342385e-02, 1.35564676e-03,\n",
              "        4.16646957e-01, 7.35462003e-04, 1.41930938e-01],\n",
              "       [7.52799388e-04, 1.19183049e-01, 3.54754627e-02, 9.47821513e-03,\n",
              "        4.04878050e-01, 2.12020241e-03, 4.28112209e-01],\n",
              "       [3.98819381e-03, 2.61121988e-01, 1.37528284e-02, 2.24281149e-03,\n",
              "        6.73987627e-01, 7.64782249e-04, 4.41417061e-02],\n",
              "       [7.47421896e-03, 2.26801440e-01, 6.19683303e-02, 3.23166311e-01,\n",
              "        8.14773589e-02, 1.26412824e-01, 1.72699556e-01],\n",
              "       [2.38727592e-03, 4.32651460e-01, 1.86781567e-02, 3.82111897e-03,\n",
              "        1.09409623e-01, 6.02514367e-04, 4.32449967e-01],\n",
              "       [7.45371878e-01, 1.73641428e-01, 3.30319554e-02, 1.54921331e-03,\n",
              "        3.82684357e-02, 1.71557127e-03, 6.42153108e-03],\n",
              "       [2.77208141e-03, 3.95026505e-01, 5.86444885e-02, 8.18024203e-03,\n",
              "        2.32556432e-01, 1.71604846e-03, 3.01104248e-01],\n",
              "       [8.88594310e-04, 1.45163193e-01, 1.74425930e-01, 7.86558464e-02,\n",
              "        3.26499760e-01, 2.19980907e-02, 2.52368599e-01],\n",
              "       [2.36031145e-01, 3.66266906e-01, 1.53063655e-01, 9.25105123e-04,\n",
              "        2.17069387e-01, 1.07442436e-03, 2.55693179e-02],\n",
              "       [1.49481092e-02, 5.55075109e-01, 5.00603914e-02, 1.60508731e-03,\n",
              "        1.15284942e-01, 8.99033854e-04, 2.62127280e-01],\n",
              "       [1.72721837e-02, 6.53984010e-01, 1.89039484e-02, 1.84052938e-03,\n",
              "        1.42436162e-01, 7.16234441e-04, 1.64846912e-01],\n",
              "       [9.48464847e-04, 3.70759256e-02, 7.06658587e-02, 5.03383689e-02,\n",
              "        7.52504647e-01, 4.59301611e-03, 8.38737339e-02],\n",
              "       [1.67387270e-03, 2.06071600e-01, 7.63482153e-02, 4.68911856e-01,\n",
              "        1.12518765e-01, 1.76878534e-02, 1.16787866e-01],\n",
              "       [3.87744722e-03, 2.92646915e-01, 2.46525258e-02, 3.13261687e-03,\n",
              "        3.66172969e-01, 9.67151660e-04, 3.08550358e-01],\n",
              "       [2.66449689e-03, 7.77610764e-03, 7.50259534e-02, 9.58276913e-02,\n",
              "        6.53737225e-03, 7.77648211e-01, 3.45201232e-02],\n",
              "       [2.53384421e-03, 2.43816793e-01, 3.04797441e-02, 4.18640412e-02,\n",
              "        2.79196173e-01, 2.05004308e-03, 4.00059372e-01],\n",
              "       [7.73090916e-03, 4.05146003e-01, 2.67225076e-02, 4.88419086e-03,\n",
              "        4.71698046e-01, 1.26157166e-03, 8.25567916e-02],\n",
              "       [2.57856417e-02, 4.41009924e-02, 4.01919097e-01, 4.91127139e-03,\n",
              "        4.85010684e-01, 1.29871862e-02, 2.52850745e-02],\n",
              "       [1.71230230e-02, 1.67245671e-01, 2.58183867e-01, 2.82381743e-01,\n",
              "        6.37680069e-02, 2.96604708e-02, 1.81637272e-01],\n",
              "       [1.47559136e-01, 1.56083360e-01, 4.35296983e-01, 2.36662738e-02,\n",
              "        1.56040758e-01, 5.05485013e-02, 3.08049954e-02],\n",
              "       [2.59761631e-01, 1.53755844e-01, 4.00337428e-01, 1.74322594e-02,\n",
              "        1.40787736e-01, 1.06067602e-02, 1.73184089e-02],\n",
              "       [2.63802856e-01, 2.90720493e-01, 1.40984863e-01, 1.43513444e-03,\n",
              "        2.49124736e-01, 1.76108209e-03, 5.21708094e-02],\n",
              "       [7.96855334e-03, 1.58447489e-01, 6.44793874e-03, 2.53826310e-03,\n",
              "        8.07592809e-01, 5.08056954e-04, 1.64968595e-02],\n",
              "       [2.52083363e-03, 2.96593159e-01, 2.80960917e-01, 2.53709890e-02,\n",
              "        2.33639032e-01, 8.13530385e-03, 1.52779818e-01],\n",
              "       [2.66203761e-01, 5.23618340e-01, 8.24085698e-02, 5.78169432e-03,\n",
              "        5.78338616e-02, 8.31211684e-04, 6.33226335e-02],\n",
              "       [3.23115452e-03, 1.83802828e-01, 3.33372355e-02, 6.44666553e-02,\n",
              "        2.13080734e-01, 8.28110520e-03, 4.93800282e-01],\n",
              "       [2.62478227e-03, 4.74618137e-01, 2.68392451e-02, 3.50787793e-03,\n",
              "        1.58448815e-01, 1.16544729e-03, 3.32795650e-01],\n",
              "       [2.89494283e-02, 3.40349115e-02, 2.54759699e-01, 1.44249247e-03,\n",
              "        6.72262013e-01, 3.67323589e-03, 4.87818150e-03],\n",
              "       [9.21320543e-02, 1.30284116e-01, 2.22617894e-01, 1.47796085e-03,\n",
              "        4.72157925e-01, 2.30408274e-03, 7.90259987e-02],\n",
              "       [7.66485324e-03, 1.17051810e-01, 6.34595096e-01, 9.19895917e-02,\n",
              "        5.93886040e-02, 3.94140296e-02, 4.98959906e-02],\n",
              "       [1.22855507e-01, 4.56711739e-01, 9.58864093e-02, 6.22072490e-04,\n",
              "        2.18057826e-01, 3.90966743e-04, 1.05475552e-01],\n",
              "       [8.90526593e-01, 5.75410947e-02, 3.12993824e-02, 5.13454201e-04,\n",
              "        1.40613951e-02, 1.04839250e-03, 5.00964187e-03],\n",
              "       [1.03485212e-03, 3.16367418e-01, 1.67943314e-01, 3.41477022e-02,\n",
              "        2.70261347e-01, 7.92019069e-03, 2.02325076e-01],\n",
              "       [3.98688426e-04, 6.33945242e-02, 8.97604004e-02, 1.49461124e-02,\n",
              "        4.80557054e-01, 6.17082464e-03, 3.44772458e-01],\n",
              "       [3.43795517e-03, 1.62579000e-01, 5.09082042e-02, 1.19369859e-02,\n",
              "        7.55714238e-01, 4.93332278e-03, 1.04903271e-02],\n",
              "       [2.13699997e-03, 4.37025517e-01, 2.61534378e-02, 3.35233775e-03,\n",
              "        2.34026879e-01, 8.91917967e-04, 2.96412945e-01],\n",
              "       [2.59414375e-01, 5.92720583e-02, 1.48046136e-01, 1.12242885e-02,\n",
              "        4.61566031e-01, 4.24687676e-02, 1.80082973e-02],\n",
              "       [5.53364400e-04, 1.37404621e-01, 1.23648338e-01, 8.74564517e-03,\n",
              "        5.59034765e-01, 2.64510536e-03, 1.67968154e-01],\n",
              "       [4.91697807e-04, 1.88836172e-01, 2.54841633e-02, 1.05173849e-02,\n",
              "        5.50825655e-01, 1.29925390e-03, 2.22545668e-01],\n",
              "       [3.40218633e-01, 4.16047096e-01, 8.14035833e-02, 8.24937073e-04,\n",
              "        1.29906863e-01, 3.91215173e-04, 3.12076379e-02],\n",
              "       [1.86676043e-03, 3.64025891e-01, 3.39070857e-02, 9.11224335e-02,\n",
              "        9.41730812e-02, 2.16413438e-02, 3.93263370e-01],\n",
              "       [1.06495516e-02, 4.98707533e-01, 3.04963347e-02, 1.34780072e-03,\n",
              "        2.10917190e-01, 3.47680296e-04, 2.47533888e-01],\n",
              "       [5.67253046e-02, 1.99666739e-01, 5.13114989e-01, 8.65810923e-03,\n",
              "        6.84349835e-02, 2.05230713e-02, 1.32876799e-01],\n",
              "       [4.05980973e-03, 1.17131896e-01, 2.68063694e-02, 8.35583266e-03,\n",
              "        6.20259702e-01, 2.17058230e-03, 2.21215874e-01],\n",
              "       [8.14773023e-01, 7.25863799e-02, 5.48702963e-02, 7.41271884e-04,\n",
              "        5.16534522e-02, 9.75122559e-04, 4.40038461e-03],\n",
              "       [1.39314188e-02, 2.90336460e-01, 7.26418197e-02, 2.13382230e-03,\n",
              "        4.25028533e-01, 6.94398012e-04, 1.95233554e-01],\n",
              "       [2.37536915e-02, 8.32337439e-01, 1.52922068e-02, 8.15053470e-03,\n",
              "        1.88424718e-02, 1.92108797e-03, 9.97025743e-02],\n",
              "       [6.35964272e-04, 8.35543647e-02, 9.13406461e-02, 5.45698047e-01,\n",
              "        1.07626356e-01, 5.78623302e-02, 1.13282375e-01],\n",
              "       [7.62263238e-02, 4.61098373e-01, 1.61452621e-01, 2.35472969e-03,\n",
              "        2.21621037e-01, 1.19970681e-03, 7.60470852e-02],\n",
              "       [5.09956991e-03, 3.21153700e-01, 9.70773995e-02, 3.62037748e-01,\n",
              "        4.83780988e-02, 3.34140994e-02, 1.32839367e-01],\n",
              "       [1.66618265e-03, 1.22828744e-01, 5.37889078e-02, 9.68432520e-03,\n",
              "        5.65779150e-01, 3.87755199e-03, 2.42375150e-01],\n",
              "       [8.38714768e-04, 8.37168917e-02, 4.28774394e-02, 2.15341542e-02,\n",
              "        6.88019335e-01, 2.02565431e-03, 1.60987794e-01],\n",
              "       [1.09726819e-03, 1.04462594e-01, 2.27637783e-01, 3.18338573e-01,\n",
              "        1.26033828e-01, 5.48233464e-02, 1.67606622e-01],\n",
              "       [1.85686687e-03, 1.38570204e-01, 8.98182318e-02, 7.63837099e-02,\n",
              "        3.32506448e-01, 1.38775604e-02, 3.46987009e-01],\n",
              "       [5.97035401e-02, 1.20640367e-01, 4.26080763e-01, 2.97412160e-03,\n",
              "        3.42130750e-01, 2.14226637e-03, 4.63283248e-02],\n",
              "       [7.60778086e-03, 5.48532307e-02, 9.06206146e-02, 5.97170055e-01,\n",
              "        1.42735034e-01, 3.72108184e-02, 6.98024705e-02],\n",
              "       [1.84315583e-03, 3.30072016e-01, 1.84827540e-02, 2.90043489e-03,\n",
              "        1.17922872e-01, 1.23302347e-03, 5.27545750e-01],\n",
              "       [7.18359603e-03, 2.04498023e-01, 4.10101749e-02, 2.45306361e-03,\n",
              "        4.31867480e-01, 8.98266386e-04, 3.12089384e-01],\n",
              "       [3.01816821e-01, 4.43128236e-02, 5.50489187e-01, 1.71541714e-03,\n",
              "        8.08232576e-02, 6.67372858e-03, 1.41688371e-02],\n",
              "       [5.16837579e-04, 1.33771086e-02, 2.50827670e-02, 7.52387047e-01,\n",
              "        6.36178702e-02, 9.33426619e-02, 5.16757146e-02],\n",
              "       [7.40831159e-03, 2.07440719e-01, 1.46911889e-01, 1.65880471e-02,\n",
              "        3.97787899e-01, 3.04205134e-03, 2.20821083e-01],\n",
              "       [6.94904942e-04, 6.29232004e-02, 4.36756760e-02, 7.16405571e-01,\n",
              "        7.90120140e-02, 2.29303222e-02, 7.43582919e-02],\n",
              "       [2.21911632e-03, 4.03038800e-01, 5.80292530e-02, 3.94264096e-03,\n",
              "        2.68839717e-01, 3.22738360e-03, 2.60703057e-01],\n",
              "       [8.27685475e-01, 6.73518255e-02, 4.93149981e-02, 6.47064764e-04,\n",
              "        4.99927476e-02, 9.46688873e-04, 4.06128634e-03],\n",
              "       [1.24125937e-02, 3.10449392e-01, 1.58778563e-01, 4.37946804e-03,\n",
              "        2.37368807e-01, 6.55043731e-03, 2.70060837e-01],\n",
              "       [2.21544201e-03, 1.87145561e-01, 1.01009801e-01, 3.18277001e-01,\n",
              "        7.54395872e-02, 4.93931584e-02, 2.66519368e-01],\n",
              "       [1.28721551e-03, 2.06998014e-03, 1.62156187e-02, 4.03508872e-01,\n",
              "        5.19557856e-03, 5.59169233e-01, 1.25534600e-02],\n",
              "       [1.84203051e-02, 6.07024908e-01, 3.61322016e-02, 1.22009101e-03,\n",
              "        2.14609832e-01, 1.98548543e-04, 1.22394077e-01],\n",
              "       [5.15177622e-02, 3.78755987e-01, 3.62229608e-02, 1.51293178e-03,\n",
              "        5.07210374e-01, 7.42718286e-04, 2.40372159e-02],\n",
              "       [1.64840941e-03, 2.47035921e-01, 7.85895139e-02, 5.47733009e-02,\n",
              "        2.23558649e-01, 1.35595817e-02, 3.80834639e-01],\n",
              "       [5.56069762e-02, 2.82820225e-01, 3.61512989e-01, 1.00394465e-01,\n",
              "        5.69297448e-02, 3.41317393e-02, 1.08603843e-01],\n",
              "       [4.74705041e-04, 8.60914588e-02, 7.04258382e-02, 1.25168916e-02,\n",
              "        5.12243569e-01, 4.10726015e-03, 3.14140379e-01],\n",
              "       [2.52354324e-01, 4.95900005e-01, 4.23032008e-02, 1.94586429e-03,\n",
              "        1.69919476e-01, 1.42534391e-03, 3.61517742e-02],\n",
              "       [1.48706168e-01, 1.98979065e-01, 4.43094671e-01, 3.02473665e-03,\n",
              "        1.30286336e-01, 4.79044253e-03, 7.11184740e-02],\n",
              "       [5.14902640e-04, 5.29693440e-02, 2.72000395e-02, 6.14787042e-01,\n",
              "        1.32112443e-01, 2.64986996e-02, 1.45917475e-01],\n",
              "       [8.36320780e-03, 1.61606267e-01, 1.49326865e-02, 2.23333072e-02,\n",
              "        7.62640119e-01, 2.41465936e-03, 2.77098399e-02],\n",
              "       [1.84459146e-03, 2.56476104e-01, 1.46067133e-02, 3.04475613e-03,\n",
              "        1.38699502e-01, 9.75665986e-04, 5.84352672e-01],\n",
              "       [3.96141782e-03, 1.78879037e-01, 2.54697859e-01, 2.60041896e-02,\n",
              "        1.89198583e-01, 1.01268984e-01, 2.45989919e-01],\n",
              "       [1.61304884e-02, 9.88495350e-02, 8.37351978e-02, 5.55557728e-01,\n",
              "        2.17824839e-02, 1.22165948e-01, 1.01778649e-01],\n",
              "       [1.28942658e-03, 1.84710354e-01, 1.74460143e-01, 3.71898077e-02,\n",
              "        4.35523212e-01, 3.77786974e-03, 1.63049147e-01],\n",
              "       [1.86495647e-01, 4.77645010e-01, 1.20951034e-01, 1.76059194e-02,\n",
              "        1.35022148e-01, 1.82193227e-03, 6.04582913e-02],\n",
              "       [1.26189828e-01, 1.94511890e-01, 5.39227545e-01, 3.06402948e-02,\n",
              "        5.32338805e-02, 1.70912556e-02, 3.91053110e-02],\n",
              "       [3.00006149e-03, 7.30085373e-02, 5.23566408e-03, 1.83394458e-03,\n",
              "        8.94791543e-01, 6.39565871e-04, 2.14906782e-02],\n",
              "       [4.38562129e-03, 2.98734039e-01, 4.05187272e-02, 1.29740119e-01,\n",
              "        3.38026911e-01, 4.08413494e-03, 1.84510469e-01],\n",
              "       [1.01418784e-02, 4.30075288e-01, 4.66679148e-02, 1.43762375e-03,\n",
              "        2.30404958e-01, 7.77817855e-04, 2.80494571e-01],\n",
              "       [3.43288928e-01, 1.07362248e-01, 3.92770320e-01, 3.92084755e-02,\n",
              "        3.50731649e-02, 5.12464382e-02, 3.10504716e-02],\n",
              "       [2.49719271e-03, 3.30899000e-01, 2.60813329e-02, 2.32858094e-03,\n",
              "        2.36927450e-01, 4.66332596e-04, 4.00800139e-01]], dtype=float32)"
            ]
          },
          "metadata": {},
          "execution_count": 42
        }
      ]
    },
    {
      "cell_type": "code",
      "source": [
        "y_pred_test_class "
      ],
      "metadata": {
        "colab": {
          "base_uri": "https://localhost:8080/"
        },
        "id": "ph-j4nBsAxjT",
        "outputId": "5f74e147-207d-4427-d48c-2ae79379bd9d"
      },
      "execution_count": 43,
      "outputs": [
        {
          "output_type": "execute_result",
          "data": {
            "text/plain": [
              "array([6, 4, 4, 4, 1, 4, 6, 1, 4, 4, 3, 1, 0, 5, 4, 1, 4, 3, 4, 4, 1, 4,\n",
              "       2, 1, 3, 1, 1, 4, 1, 1, 5, 1, 4, 1, 4, 2, 4, 6, 4, 3, 1, 0, 1, 4,\n",
              "       1, 1, 1, 4, 3, 4, 5, 6, 4, 4, 3, 2, 2, 1, 4, 1, 1, 6, 1, 4, 4, 2,\n",
              "       1, 0, 1, 4, 4, 1, 4, 4, 4, 1, 6, 1, 2, 4, 0, 4, 1, 3, 1, 3, 4, 4,\n",
              "       3, 6, 2, 3, 6, 4, 2, 3, 4, 3, 1, 0, 1, 3, 5, 1, 4, 6, 2, 4, 1, 2,\n",
              "       3, 4, 6, 2, 3, 4, 1, 2, 4, 4, 1, 2, 6])"
            ]
          },
          "metadata": {},
          "execution_count": 43
        }
      ]
    },
    {
      "cell_type": "markdown",
      "source": [
        "### Test Set Confusion Matrix and Heatmap"
      ],
      "metadata": {
        "id": "Epp2QpxsUVXH"
      }
    },
    {
      "cell_type": "code",
      "source": [
        "# Test set Confusion matrix\n",
        "\n",
        "cm=confusion_matrix(y_test_class, y_pred_test_class)\n",
        "\n",
        "index = ['calm', 'happy', 'sad', 'angry', 'fearful', 'disgust', 'surprised']  \n",
        "columns = ['calm', 'happy', 'sad', 'angry', 'fearful', 'disgust', 'surprised']  \n",
        " \n",
        "cm_df = pd.DataFrame(cm,index,columns)                      \n",
        "plt.figure(figsize=(12,8))\n",
        "ax = plt.axes()\n",
        "\n",
        "sns.heatmap(cm_df, ax = ax, cmap = 'BuGn', fmt=\"d\", annot=True)\n",
        "ax.set_ylabel('True emotion')\n",
        "ax.set_xlabel('Predicted emotion')"
      ],
      "metadata": {
        "colab": {
          "base_uri": "https://localhost:8080/",
          "height": 514
        },
        "id": "ukGrk_cagzyb",
        "outputId": "f2cf4e69-35d6-4722-c322-ea7ebc57011e"
      },
      "execution_count": 44,
      "outputs": [
        {
          "output_type": "execute_result",
          "data": {
            "text/plain": [
              "Text(0.5, 51.0, 'Predicted emotion')"
            ]
          },
          "metadata": {},
          "execution_count": 44
        },
        {
          "output_type": "display_data",
          "data": {
            "text/plain": [
              "<Figure size 864x576 with 2 Axes>"
            ],
            "image/png": "[encoded data removed]"
          },
          "metadata": {
            "needs_background": "light"
          }
        }
      ]
    },
    {
      "cell_type": "code",
      "source": [
        "# Confusion Matrix\n",
        "cm"
      ],
      "metadata": {
        "colab": {
          "base_uri": "https://localhost:8080/"
        },
        "id": "9f51xwUE8haF",
        "outputId": "26375322-62ec-409e-e858-fc58e886d330"
      },
      "execution_count": 45,
      "outputs": [
        {
          "output_type": "execute_result",
          "data": {
            "text/plain": [
              "array([[ 5,  4,  4,  0,  2,  0,  0],\n",
              "       [ 0,  9,  3,  0,  2,  0,  0],\n",
              "       [ 0,  2,  4,  0,  9,  0,  0],\n",
              "       [ 0,  2,  1,  8,  4,  1,  4],\n",
              "       [ 0,  8,  0,  0, 11,  0,  2],\n",
              "       [ 0,  2,  1,  5,  4,  3,  1],\n",
              "       [ 0,  7,  0,  2,  9,  0,  4]])"
            ]
          },
          "metadata": {},
          "execution_count": 45
        }
      ]
    },
    {
      "cell_type": "markdown",
      "source": [
        "### Test Set Predicted emotions accuracy"
      ],
      "metadata": {
        "id": "zil3CkweUX0q"
      }
    },
    {
      "cell_type": "code",
      "source": [
        "# Test set prediction accuracy rates\n",
        "\n",
        "values = cm.diagonal()\n",
        "row_sum = np.sum(cm,axis=1)\n",
        "acc = values / row_sum\n",
        "\n",
        "print('Test set predicted emotions accuracy:')\n",
        "for e in range(0, len(values)):\n",
        "    print(index[e],':', f\"{(acc[e]):0.4f}\")"
      ],
      "metadata": {
        "colab": {
          "base_uri": "https://localhost:8080/"
        },
        "id": "t_ORyGGig090",
        "outputId": "8f093a1a-7cf6-4e4f-bd36-44fae5c14068"
      },
      "execution_count": 46,
      "outputs": [
        {
          "output_type": "stream",
          "name": "stdout",
          "text": [
            "Test set predicted emotions accuracy:\n",
            "calm : 0.3333\n",
            "happy : 0.6429\n",
            "sad : 0.2667\n",
            "angry : 0.4000\n",
            "fearful : 0.5238\n",
            "disgust : 0.1875\n",
            "surprised : 0.1818\n"
          ]
        }
      ]
    },
    {
      "cell_type": "markdown",
      "source": [
        "### Precision, Recal, Fscore"
      ],
      "metadata": {
        "id": "8Hzthv1t8kwd"
      }
    },
    {
      "cell_type": "code",
      "source": [
        "# Validation set precision, recall, fscore\n",
        "\n",
        "precision_recall_fscore_support(y_test_class, y_pred_test_class, average='macro')\n"
      ],
      "metadata": {
        "colab": {
          "base_uri": "https://localhost:8080/"
        },
        "id": "QnwWoVFnh33F",
        "outputId": "73c0db72-a11a-4a1d-cd2e-af09e64b7226"
      },
      "execution_count": 47,
      "outputs": [
        {
          "output_type": "execute_result",
          "data": {
            "text/plain": [
              "(0.4982372242773964, 0.36228354978354976, 0.35930287070840067, None)"
            ]
          },
          "metadata": {},
          "execution_count": 47
        }
      ]
    },
    {
      "cell_type": "code",
      "source": [
        "precision_recall_fscore_support(y_test_class, y_pred_test_class, average='weighted')"
      ],
      "metadata": {
        "colab": {
          "base_uri": "https://localhost:8080/"
        },
        "id": "OlDhuPlqzwVB",
        "outputId": "87e46de2-2826-44ae-d6e3-5f39842793f1"
      },
      "execution_count": 48,
      "outputs": [
        {
          "output_type": "execute_result",
          "data": {
            "text/plain": [
              "(0.48473235753216154, 0.35772357723577236, 0.35580095662707784, None)"
            ]
          },
          "metadata": {},
          "execution_count": 48
        }
      ]
    },
    {
      "cell_type": "markdown",
      "source": [
        "### ROC AUC Score"
      ],
      "metadata": {
        "id": "sEuBd9IyLuiD"
      }
    },
    {
      "cell_type": "code",
      "source": [
        "ravdess_df = pd.read_csv (df_path)"
      ],
      "metadata": {
        "id": "8bb4OSmyTO6v"
      },
      "execution_count": 49,
      "outputs": []
    },
    {
      "cell_type": "code",
      "source": [
        "labels = [\"calm\", \"happy\", \"sad\", \"angry\", \"fear\", \"disgust\", \"suprised\"]"
      ],
      "metadata": {
        "id": "1leZ4JGVTfTp"
      },
      "execution_count": 50,
      "outputs": []
    },
    {
      "cell_type": "code",
      "source": [
        "y_test_adj = y_test.reshape(-1,)"
      ],
      "metadata": {
        "id": "MRm1ZwnxFStc"
      },
      "execution_count": 51,
      "outputs": []
    },
    {
      "cell_type": "code",
      "source": [
        "y_proba_test_class.shape"
      ],
      "metadata": {
        "colab": {
          "base_uri": "https://localhost:8080/"
        },
        "id": "O-IcYOABFjxB",
        "outputId": "8901f2ba-84d2-4c7b-927a-01ec80252a39"
      },
      "execution_count": 52,
      "outputs": [
        {
          "output_type": "execute_result",
          "data": {
            "text/plain": [
              "(123, 7)"
            ]
          },
          "metadata": {},
          "execution_count": 52
        }
      ]
    },
    {
      "cell_type": "code",
      "source": [
        "y_test.shape"
      ],
      "metadata": {
        "colab": {
          "base_uri": "https://localhost:8080/"
        },
        "id": "9AaqUY3PIlMQ",
        "outputId": "456cfa74-2580-4230-fd15-8d951aa66cc8"
      },
      "execution_count": 53,
      "outputs": [
        {
          "output_type": "execute_result",
          "data": {
            "text/plain": [
              "(123, 1)"
            ]
          },
          "metadata": {},
          "execution_count": 53
        }
      ]
    },
    {
      "cell_type": "code",
      "source": [
        "y_test_adj"
      ],
      "metadata": {
        "colab": {
          "base_uri": "https://localhost:8080/"
        },
        "id": "7LgDudYTKInS",
        "outputId": "fa327de4-9129-4550-b320-0d549839e3f0"
      },
      "execution_count": 54,
      "outputs": [
        {
          "output_type": "execute_result",
          "data": {
            "text/plain": [
              "array([6, 3, 5, 4, 0, 4, 5, 4, 3, 6, 3, 4, 0, 5, 3, 0, 5, 5, 2, 6, 6, 0,\n",
              "       0, 2, 5, 0, 5, 0, 4, 1, 3, 6, 6, 5, 4, 2, 5, 4, 4, 5, 6, 0, 1, 2,\n",
              "       1, 1, 6, 2, 6, 4, 5, 6, 1, 2, 5, 1, 1, 4, 4, 1, 6, 3, 4, 2, 2, 2,\n",
              "       4, 0, 3, 6, 5, 1, 2, 4, 3, 0, 3, 6, 2, 6, 0, 4, 1, 3, 6, 3, 6, 4,\n",
              "       3, 3, 2, 5, 4, 1, 0, 3, 2, 3, 1, 0, 2, 6, 5, 4, 4, 3, 3, 6, 4, 0,\n",
              "       3, 4, 6, 5, 3, 2, 3, 1, 6, 6, 1, 0, 6], dtype=int8)"
            ]
          },
          "metadata": {},
          "execution_count": 54
        }
      ]
    },
    {
      "cell_type": "code",
      "source": [
        "\n",
        "\n",
        "macro_roc_auc_ovo = roc_auc_score(y_test_adj, y_proba_test_class, multi_class=\"ovo\", average=\"macro\")\n",
        "weighted_roc_auc_ovo = roc_auc_score(\n",
        "    y_test_adj, y_proba_test_class, multi_class=\"ovo\", average=\"weighted\"\n",
        ")\n",
        "macro_roc_auc_ovr = roc_auc_score(y_test_adj, y_proba_test_class, multi_class=\"ovr\", average=\"macro\")\n",
        "weighted_roc_auc_ovr = roc_auc_score(\n",
        "    y_test_adj, y_proba_test_class, multi_class=\"ovr\", average=\"weighted\"\n",
        ")\n"
      ],
      "metadata": {
        "id": "oMa4N8EhHlY9"
      },
      "execution_count": 55,
      "outputs": []
    },
    {
      "cell_type": "code",
      "source": [
        "print(\"One-vs-One ROC AUC scores:\\n{:.6f} (macro),\\n{:.6f} \" \"(weighted by prevalence)\\n\".format(macro_roc_auc_ovo, weighted_roc_auc_ovo))\n",
        "print(\"One-vs-Rest ROC AUC scores:\\n{:.6f} (macro),\\n{:.6f} \" \"(weighted by prevalence)\".format(macro_roc_auc_ovr, weighted_roc_auc_ovr))"
      ],
      "metadata": {
        "colab": {
          "base_uri": "https://localhost:8080/"
        },
        "id": "hhBLwtO_ICqL",
        "outputId": "ab106130-6009-4435-d54c-3a964770b695"
      },
      "execution_count": 56,
      "outputs": [
        {
          "output_type": "stream",
          "name": "stdout",
          "text": [
            "One-vs-One ROC AUC scores:\n",
            "0.809292 (macro),\n",
            "0.807032 (weighted by prevalence)\n",
            "\n",
            "One-vs-Rest ROC AUC scores:\n",
            "0.809434 (macro),\n",
            "0.803433 (weighted by prevalence)\n"
          ]
        }
      ]
    }
  ]
}