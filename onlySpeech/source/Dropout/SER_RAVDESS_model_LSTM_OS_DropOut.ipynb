{
  "metadata": {
    "kernelspec": {
      "language": "python",
      "display_name": "Python 3",
      "name": "python3"
    },
    "language_info": {
      "pygments_lexer": "ipython3",
      "nbconvert_exporter": "python",
      "version": "3.6.4",
      "file_extension": ".py",
      "codemirror_mode": {
        "name": "ipython",
        "version": 3
      },
      "name": "python",
      "mimetype": "text/x-python"
    },
    "colab": {
      "name": "SER-RAVDESS-model-LSTM-OS-DropOut.ipynb",
      "provenance": [],
      "collapsed_sections": []
    }
  },
  "nbformat_minor": 0,
  "nbformat": 4,
  "cells": [
    {
      "cell_type": "markdown",
      "source": [
        "# Imports"
      ],
      "metadata": {
        "id": "anSyerIFN7qd"
      }
    },
    {
      "cell_type": "code",
      "source": [
        "# Importing Libraries"
      ],
      "metadata": {
        "id": "IMFSwIuvKiw2"
      },
      "execution_count": 1,
      "outputs": []
    },
    {
      "cell_type": "code",
      "source": [
        "!pip install json-tricks"
      ],
      "metadata": {
        "id": "bBR8aNsmM2tR",
        "colab": {
          "base_uri": "https://localhost:8080/"
        },
        "outputId": "68506273-22a9-495b-b850-48e5a72e4731"
      },
      "execution_count": 2,
      "outputs": [
        {
          "output_type": "stream",
          "name": "stdout",
          "text": [
            "Looking in indexes: https://pypi.org/simple, https://us-python.pkg.dev/colab-wheels/public/simple/\n",
            "Requirement already satisfied: json-tricks in /usr/local/lib/python3.7/dist-packages (3.15.5)\n"
          ]
        }
      ]
    },
    {
      "cell_type": "code",
      "source": [
        "import pandas as pd\n",
        "import numpy as np\n",
        "\n",
        "import os\n",
        "import sys\n",
        "\n",
        "import librosa\n",
        "import librosa.display\n",
        "#from pydub import AudioSegment, effects\n",
        "#import noisereduce as nr\n",
        "\n",
        "\n",
        "import seaborn as sns\n",
        "import matplotlib.pyplot as plt\n",
        "from IPython.display import Audio\n",
        "\n",
        "import tensorflow as tf\n",
        "import keras\n",
        "import sklearn\n",
        "\n",
        "\n",
        "from tensorflow.keras.models import Sequential, Model\n",
        "from tensorflow.keras.layers import Dense, LSTM, Flatten, Dropout, BatchNormalization\n",
        "from tensorflow.keras.callbacks import ModelCheckpoint, EarlyStopping, ReduceLROnPlateau\n",
        "from tensorflow.keras.optimizers import Adam, SGD\n",
        "from tensorflow.keras.utils import to_categorical, plot_model\n",
        "\n",
        "\n",
        "from keras.models import Sequential, model_from_json, load_model\n",
        "from keras import layers\n",
        "from keras import optimizers\n",
        "from keras import callbacks\n",
        "\n",
        "from sklearn.preprocessing import StandardScaler, OneHotEncoder, LabelEncoder\n",
        "from sklearn.metrics import confusion_matrix, classification_report, precision_recall_fscore_support, roc_auc_score\n",
        "from sklearn.model_selection import train_test_split, StratifiedShuffleSplit\n",
        "from sklearn.multiclass import OneVsRestClassifier\n",
        "\n",
        "\n",
        "from tqdm import tqdm\n",
        "\n",
        "\n",
        "from json_tricks import dump, load\n",
        "\n",
        "\n",
        "\n",
        "import warnings\n",
        "if not sys.warnoptions:\n",
        "    warnings.simplefilter(\"ignore\")\n",
        "warnings.filterwarnings(\"ignore\", category=DeprecationWarning) \n",
        "\n",
        "import time\n",
        "tic = time.perf_counter()\n",
        "\n"
      ],
      "metadata": {
        "id": "77IS8HxqFFCA"
      },
      "execution_count": 3,
      "outputs": []
    },
    {
      "cell_type": "code",
      "source": [
        ""
      ],
      "metadata": {
        "id": "gGYqBIk0FGm4"
      },
      "execution_count": 3,
      "outputs": []
    },
    {
      "cell_type": "markdown",
      "source": [
        "# Dataset"
      ],
      "metadata": {
        "id": "nyMzoZKKKiw6"
      }
    },
    {
      "cell_type": "code",
      "source": [
        "from google.colab import drive\n",
        "drive.mount('/content/drive')"
      ],
      "metadata": {
        "id": "JFPDGXmwCBs_",
        "colab": {
          "base_uri": "https://localhost:8080/"
        },
        "outputId": "8ca5978f-e345-4162-c46c-b7f886ad58aa"
      },
      "execution_count": 4,
      "outputs": [
        {
          "output_type": "stream",
          "name": "stdout",
          "text": [
            "Mounted at /content/drive\n"
          ]
        }
      ]
    },
    {
      "cell_type": "code",
      "source": [
        "#Crema = \"/content/drive/MyDrive/datasets/speech/CREMAD/sample/\"\n",
        "#Crema = \"/content/drive/MyDrive/datasets/speech/CREMAD/AudioWAV/\"\n",
        "Ravdess = \"/content/drive/MyDrive/datasets/speech/RAVDESS/data/Audio_Speech_Actors_01-24\"\n",
        "Ravdess_processed = \"/content/drive/MyDrive/datasets/speech/RAVDESS/processedData/onlySpeech/\"\n",
        "Ravdess_speech_sample = \"/content/drive/MyDrive/datasets/speech/RAVDESS/data/Audio_Speech_Actors_01-24/\"\n",
        "df_path = \"/content/drive/MyDrive/datasets/speech/RAVDESS/ravdess_df_onlySpeech.csv\"\n",
        "model_path = Ravdess + \"/model/\"\n",
        "\n",
        "checkpoint_path = model_path + \"best_weights-os-LSTM-1.hdf5\"\n",
        "saved_model_path = model_path + 'model8723-os-LSTM-1.json'\n",
        "\n",
        "saved_weights_path = model_path + 'model8723_weights-os-LSTM-1.h5'\n",
        "saved_model_path_2 = model_path + 'Speech-Emotion-Recognition-Model-os-LSTM-1.h5'"
      ],
      "metadata": {
        "execution": {
          "iopub.status.busy": "2021-06-21T09:35:38.093538Z",
          "iopub.execute_input": "2021-06-21T09:35:38.093869Z",
          "iopub.status.idle": "2021-06-21T09:35:38.097467Z",
          "shell.execute_reply.started": "2021-06-21T09:35:38.093838Z",
          "shell.execute_reply": "2021-06-21T09:35:38.096608Z"
        },
        "trusted": true,
        "id": "vR2GjHL4Kiw7"
      },
      "execution_count": 5,
      "outputs": []
    },
    {
      "cell_type": "code",
      "source": [
        ""
      ],
      "metadata": {
        "id": "J2T6JxzIF2Jq"
      },
      "execution_count": 5,
      "outputs": []
    },
    {
      "cell_type": "code",
      "source": [
        "##Hypter Parameters' Range\n",
        "params = {\n",
        "    \"batch_size\": 20,  # 20<16<10, 25 was a bust\n",
        "    \"epochs\": 300,\n",
        "    \"lr\": 0.00010000,\n",
        "    \"time_steps\": 60\n",
        "}\n",
        "#TIME_STEPS = params[\"time_steps\"]\n",
        "#BATCH_SIZE = params[\"batch_size\"]\n",
        "#iter_changes = \"dropout_layers_0.4_0.4\"\n"
      ],
      "metadata": {
        "id": "jnEd5_Vvy4ue"
      },
      "execution_count": 6,
      "outputs": []
    },
    {
      "cell_type": "code",
      "source": [
        ""
      ],
      "metadata": {
        "id": "dKXM0xT-N8uy"
      },
      "execution_count": 6,
      "outputs": []
    },
    {
      "cell_type": "markdown",
      "source": [
        "# Load Processed Files, Construct Train, Validation and Test Sets"
      ],
      "metadata": {
        "id": "fse_mTpaOGdQ"
      }
    },
    {
      "cell_type": "code",
      "source": [
        "\n",
        "processed_path = Ravdess_processed\n",
        "x_path = processed_path + \"X_features.json\" # FILE LOAD PATH\n",
        "y_path =  processed_path + \"Y_labels.json\" # FILE SAVE PATH\n",
        "#x_path = '/content/drive/MyDrive/datasets/speech/RAVDESS/processedData/X_features.json'\n",
        "\n",
        "# Load X,Y json files back into lists, convert to np.arrays\n",
        "\n",
        "X = load(x_path)\n",
        "X = np.asarray(X, dtype = 'float32')\n",
        "\n",
        "Y = load(y_path)\n",
        "Y = np.asarray(Y, dtype = 'int8')"
      ],
      "metadata": {
        "id": "101BpvWgN8xX"
      },
      "execution_count": 7,
      "outputs": []
    },
    {
      "cell_type": "code",
      "source": [
        "# Split to train, validation, and test sets.\n",
        "from sklearn.model_selection import train_test_split\n",
        "# 1st Split: X,Y => (x_train, x_tosplit) (y_train, y_tosplit)\n",
        "x_train, x_tosplit, y_train, y_tosplit = train_test_split(X, Y, test_size = 0.30, random_state = 1)\n",
        "# 2nd Split: x_tosplit,y_tosplit => (x_val, x_test) (y_val, y_test) \n",
        "x_val, x_test, y_val, y_test = train_test_split(x_tosplit, y_tosplit, test_size = 0.304, random_state = 1)\n",
        "#'One-hot' vectors for Y: emotion classification\n",
        "y_train_class = tf.keras.utils.to_categorical(y_train, 7, dtype = 'int8')\n",
        "y_val_class = tf.keras.utils.to_categorical(y_val, 7, dtype = 'int8')"
      ],
      "metadata": {
        "id": "CuF9M1mfOD7X"
      },
      "execution_count": 8,
      "outputs": []
    },
    {
      "cell_type": "code",
      "source": [
        ""
      ],
      "metadata": {
        "id": "zUxc6v1Fc_ru"
      },
      "execution_count": 8,
      "outputs": []
    },
    {
      "cell_type": "code",
      "source": [
        "# x_train, x_val, and x_test shape check.\n",
        "print(np.shape(x_train))\n",
        "print(np.shape(x_val))\n",
        "print(np.shape(x_test))"
      ],
      "metadata": {
        "id": "od-D1YgBOGXs",
        "colab": {
          "base_uri": "https://localhost:8080/"
        },
        "outputId": "32805aa7-8e8b-4a5d-e643-3daad37e9370"
      },
      "execution_count": 9,
      "outputs": [
        {
          "output_type": "stream",
          "name": "stdout",
          "text": [
            "(940, 448, 15)\n",
            "(281, 448, 15)\n",
            "(123, 448, 15)\n"
          ]
        }
      ]
    },
    {
      "cell_type": "code",
      "source": [
        "# Save x_test, y_test to JSON.\n",
        "\n",
        "x_test_path = processed_path + 'x_test_data.json'\n",
        "dump(obj = x_test, fp = x_test_path)\n",
        "\n",
        "y_test_path = processed_path + 'y_test_data.json'\n",
        "dump(obj = y_test, fp = y_test_path)"
      ],
      "metadata": {
        "id": "nTExHJVsOHQ5",
        "colab": {
          "base_uri": "https://localhost:8080/",
          "height": 105
        },
        "outputId": "624ceec5-7fae-47d5-9b59-59a3df34552b"
      },
      "execution_count": 10,
      "outputs": [
        {
          "output_type": "execute_result",
          "data": {
            "text/plain": [
              "'{\"__ndarray__\": [[6], [3], [5], [4], [0], [4], [5], [4], [3], [6], [3], [4], [0], [5], [3], [0], [5], [5], [2], [6], [6], [0], [0], [2], [5], [0], [5], [0], [4], [1], [3], [6], [6], [5], [4], [2], [5], [4], [4], [5], [6], [0], [1], [2], [1], [1], [6], [2], [6], [4], [5], [6], [1], [2], [5], [1], [1], [4], [4], [1], [6], [3], [4], [2], [2], [2], [4], [0], [3], [6], [5], [1], [2], [4], [3], [0], [3], [6], [2], [6], [0], [4], [1], [3], [6], [3], [6], [4], [3], [3], [2], [5], [4], [1], [0], [3], [2], [3], [1], [0], [2], [6], [5], [4], [4], [3], [3], [6], [4], [0], [3], [4], [6], [5], [3], [2], [3], [1], [6], [6], [1], [0], [6]], \"dtype\": \"int8\", \"shape\": [123, 1], \"Corder\": true}'"
            ],
            "application/vnd.google.colaboratory.intrinsic+json": {
              "type": "string"
            }
          },
          "metadata": {},
          "execution_count": 10
        }
      ]
    },
    {
      "cell_type": "code",
      "source": [
        "# Loading x_test, y_test json files, and converting to np.arrays\n",
        "\n",
        "x_test = load(processed_path + 'x_test_data.json')\n",
        "x_test = np.asarray(x_test).astype('float32')\n",
        "\n",
        "y_test = load(processed_path + 'y_test_data.json')\n",
        "y_test = np.asarray(y_test).astype('int8')\n",
        "\n",
        "y_test_class = tf.keras.utils.to_categorical(y_test, 7, dtype = 'int8')"
      ],
      "metadata": {
        "id": "kAFBRsmk5dzm"
      },
      "execution_count": 11,
      "outputs": []
    },
    {
      "cell_type": "code",
      "source": [
        "X.shape"
      ],
      "metadata": {
        "id": "15joCR4gu4r7",
        "colab": {
          "base_uri": "https://localhost:8080/"
        },
        "outputId": "9855f6ba-5e92-4e0d-e862-7976d88262a3"
      },
      "execution_count": 12,
      "outputs": [
        {
          "output_type": "execute_result",
          "data": {
            "text/plain": [
              "(1344, 448, 15)"
            ]
          },
          "metadata": {},
          "execution_count": 12
        }
      ]
    },
    {
      "cell_type": "code",
      "source": [
        "X.shape[1:3]"
      ],
      "metadata": {
        "id": "8MQhoPKjEzi4",
        "colab": {
          "base_uri": "https://localhost:8080/"
        },
        "outputId": "795e10c6-558d-4502-e432-a55567d7034b"
      },
      "execution_count": 13,
      "outputs": [
        {
          "output_type": "execute_result",
          "data": {
            "text/plain": [
              "(448, 15)"
            ]
          },
          "metadata": {},
          "execution_count": 13
        }
      ]
    },
    {
      "cell_type": "markdown",
      "source": [
        "# RNN Model"
      ],
      "metadata": {
        "id": "gnWVMbR6KixC"
      }
    },
    {
      "cell_type": "code",
      "source": [
        "tic"
      ],
      "metadata": {
        "id": "7CHZWdfcN8oo",
        "colab": {
          "base_uri": "https://localhost:8080/"
        },
        "outputId": "1c9c92f7-d646-4536-890c-196c72dc7d59"
      },
      "execution_count": 14,
      "outputs": [
        {
          "output_type": "execute_result",
          "data": {
            "text/plain": [
              "329.976374692"
            ]
          },
          "metadata": {},
          "execution_count": 14
        }
      ]
    },
    {
      "cell_type": "markdown",
      "source": [
        "## Define Model & Training"
      ],
      "metadata": {
        "id": "GJjJYnJQORJ8"
      }
    },
    {
      "cell_type": "code",
      "source": [
        "# Initializing the model\n",
        "\n",
        "model = Sequential()\n",
        "model.add(layers.LSTM(128, dropout=0.1, recurrent_dropout=0.2, return_sequences = True, input_shape=(X.shape[1:3])))\n",
        "model.add(layers.LSTM(64, dropout=0.05))\n",
        "model.add(Dropout(0.05))\n",
        "model.add(layers.Dense(7, activation = 'softmax'))\n",
        "print(model.summary())\n",
        "\n",
        "batch_size = 23\n",
        "\n",
        "# Callbacks functions\n",
        "\n",
        "#-> EearlyStopping\n",
        "es = EarlyStopping(monitor='val_loss', mode='min', verbose=1,\n",
        "                    patience=10, min_delta=0.0001)\n",
        "\n",
        "\n",
        "#-> Save the best weights\n",
        "mcp_save = callbacks.ModelCheckpoint(checkpoint_path, save_best_only=True,\n",
        "                           monitor='val_categorical_accuracy',\n",
        "                           mode='max')\n",
        "#-> Reduce learning rate after 100 epoches without improvement.\n",
        "rlrop = callbacks.ReduceLROnPlateau(monitor='val_categorical_accuracy', \n",
        "                                    factor=0.1, patience=20)\n",
        "                             \n",
        "# Compile & train   \n",
        "model.compile(loss='categorical_crossentropy', \n",
        "                optimizer='RMSProp', \n",
        "                metrics=['categorical_accuracy'])\n",
        "\n",
        "\n"
      ],
      "metadata": {
        "id": "aD2adyVGOJs4",
        "colab": {
          "base_uri": "https://localhost:8080/"
        },
        "outputId": "01c8c6c6-6a14-42b4-fcab-20b22e902e61"
      },
      "execution_count": 15,
      "outputs": [
        {
          "output_type": "stream",
          "name": "stdout",
          "text": [
            "Model: \"sequential\"\n",
            "_________________________________________________________________\n",
            " Layer (type)                Output Shape              Param #   \n",
            "=================================================================\n",
            " lstm (LSTM)                 (None, 448, 128)          73728     \n",
            "                                                                 \n",
            " lstm_1 (LSTM)               (None, 64)                49408     \n",
            "                                                                 \n",
            " dropout (Dropout)           (None, 64)                0         \n",
            "                                                                 \n",
            " dense (Dense)               (None, 7)                 455       \n",
            "                                                                 \n",
            "=================================================================\n",
            "Total params: 123,591\n",
            "Trainable params: 123,591\n",
            "Non-trainable params: 0\n",
            "_________________________________________________________________\n",
            "None\n"
          ]
        }
      ]
    },
    {
      "cell_type": "code",
      "source": [
        "history = model.fit(x_train, y_train_class, \n",
        "                      epochs=340, batch_size = batch_size, \n",
        "                      validation_data = (x_val, y_val_class), \n",
        "                      callbacks = [es, mcp_save, rlrop])\n",
        "toc = time.perf_counter()"
      ],
      "metadata": {
        "id": "Da7Gc9x_izth",
        "colab": {
          "base_uri": "https://localhost:8080/"
        },
        "outputId": "21e64614-c429-406d-b353-4fac0cd72ff8"
      },
      "execution_count": 16,
      "outputs": [
        {
          "output_type": "stream",
          "name": "stdout",
          "text": [
            "Epoch 1/340\n",
            "41/41 [==============================] - 59s 1s/step - loss: 1.9894 - categorical_accuracy: 0.1287 - val_loss: 1.9961 - val_categorical_accuracy: 0.1388 - lr: 0.0010\n",
            "Epoch 2/340\n",
            "41/41 [==============================] - 52s 1s/step - loss: 1.9628 - categorical_accuracy: 0.1564 - val_loss: 1.9534 - val_categorical_accuracy: 0.1530 - lr: 0.0010\n",
            "Epoch 3/340\n",
            "41/41 [==============================] - 52s 1s/step - loss: 1.9532 - categorical_accuracy: 0.1543 - val_loss: 1.9528 - val_categorical_accuracy: 0.1637 - lr: 0.0010\n",
            "Epoch 4/340\n",
            "41/41 [==============================] - 52s 1s/step - loss: 1.9581 - categorical_accuracy: 0.1340 - val_loss: 1.9594 - val_categorical_accuracy: 0.1530 - lr: 0.0010\n",
            "Epoch 5/340\n",
            "41/41 [==============================] - 52s 1s/step - loss: 1.9531 - categorical_accuracy: 0.1351 - val_loss: 1.9447 - val_categorical_accuracy: 0.1530 - lr: 0.0010\n",
            "Epoch 6/340\n",
            "41/41 [==============================] - 52s 1s/step - loss: 1.9336 - categorical_accuracy: 0.1809 - val_loss: 1.9828 - val_categorical_accuracy: 0.1495 - lr: 0.0010\n",
            "Epoch 7/340\n",
            "41/41 [==============================] - 52s 1s/step - loss: 1.9448 - categorical_accuracy: 0.1660 - val_loss: 1.9888 - val_categorical_accuracy: 0.1530 - lr: 0.0010\n",
            "Epoch 8/340\n",
            "41/41 [==============================] - 52s 1s/step - loss: 1.9264 - categorical_accuracy: 0.1862 - val_loss: 1.9856 - val_categorical_accuracy: 0.1495 - lr: 0.0010\n",
            "Epoch 9/340\n",
            "41/41 [==============================] - 52s 1s/step - loss: 1.9115 - categorical_accuracy: 0.2074 - val_loss: 2.0274 - val_categorical_accuracy: 0.1495 - lr: 0.0010\n",
            "Epoch 10/340\n",
            "41/41 [==============================] - 52s 1s/step - loss: 1.9128 - categorical_accuracy: 0.1947 - val_loss: 1.9850 - val_categorical_accuracy: 0.1495 - lr: 0.0010\n",
            "Epoch 11/340\n",
            "41/41 [==============================] - 52s 1s/step - loss: 1.8883 - categorical_accuracy: 0.1989 - val_loss: 1.9857 - val_categorical_accuracy: 0.1530 - lr: 0.0010\n",
            "Epoch 12/340\n",
            "41/41 [==============================] - 52s 1s/step - loss: 1.8864 - categorical_accuracy: 0.2223 - val_loss: 1.9681 - val_categorical_accuracy: 0.1495 - lr: 0.0010\n",
            "Epoch 13/340\n",
            "41/41 [==============================] - 52s 1s/step - loss: 1.8877 - categorical_accuracy: 0.2340 - val_loss: 2.0094 - val_categorical_accuracy: 0.1495 - lr: 0.0010\n",
            "Epoch 14/340\n",
            "41/41 [==============================] - 52s 1s/step - loss: 1.8560 - categorical_accuracy: 0.2426 - val_loss: 2.0416 - val_categorical_accuracy: 0.1388 - lr: 0.0010\n",
            "Epoch 15/340\n",
            "41/41 [==============================] - 52s 1s/step - loss: 1.8619 - categorical_accuracy: 0.2394 - val_loss: 2.0148 - val_categorical_accuracy: 0.1495 - lr: 0.0010\n",
            "Epoch 15: early stopping\n"
          ]
        }
      ]
    },
    {
      "cell_type": "code",
      "source": [
        ""
      ],
      "metadata": {
        "id": "3MekXCZHizyZ"
      },
      "execution_count": 16,
      "outputs": []
    },
    {
      "cell_type": "code",
      "source": [
        "print(f\"Running time: {(toc - tic)/60:0.4f} minutes\")"
      ],
      "metadata": {
        "id": "cHmSBRhVOELJ",
        "colab": {
          "base_uri": "https://localhost:8080/"
        },
        "outputId": "aa35f4d8-7b6e-4df2-956f-5b684e93ebc4"
      },
      "execution_count": 17,
      "outputs": [
        {
          "output_type": "stream",
          "name": "stdout",
          "text": [
            "Running time: 35.3012 minutes\n"
          ]
        }
      ]
    },
    {
      "cell_type": "markdown",
      "source": [
        "## Loading Model"
      ],
      "metadata": {
        "id": "jCQelzMAKixD"
      }
    },
    {
      "cell_type": "code",
      "source": [
        "# Define the best weights to the model.\\\n",
        "#model.load_weights(checkpoint_path)"
      ],
      "metadata": {
        "id": "gruZAW2wI-tO"
      },
      "execution_count": 18,
      "outputs": []
    },
    {
      "cell_type": "markdown",
      "source": [
        "# Evaluation"
      ],
      "metadata": {
        "id": "kDxTjEK0KixD"
      }
    },
    {
      "cell_type": "markdown",
      "source": [
        "## Save & Load model, weights"
      ],
      "metadata": {
        "id": "1YfguG0tPatV"
      }
    },
    {
      "cell_type": "code",
      "source": [
        "# Saving model & weights\n",
        "model_json = model.to_json()\n",
        "\n",
        "\n",
        "\n",
        "with open(saved_model_path, \"w\") as json_file:\n",
        "    json_file.write(model_json)\n",
        "    \n",
        "model.save_weights(saved_weights_path)\n",
        "print(\"Saved model to disk\")"
      ],
      "metadata": {
        "id": "MsVoNhqmgGsK",
        "colab": {
          "base_uri": "https://localhost:8080/"
        },
        "outputId": "17fa20a2-cb3b-4daf-ad65-46d7aaef0c3c"
      },
      "execution_count": 19,
      "outputs": [
        {
          "output_type": "stream",
          "name": "stdout",
          "text": [
            "Saved model to disk\n"
          ]
        }
      ]
    },
    {
      "cell_type": "code",
      "source": [
        "# Reading the model from JSON file\n",
        "#model_path = Ravdess + \"/model/\"\n",
        "#saved_model_path = model_path + 'model8723.json'\n",
        "#saved_weights_path = model_path + 'model8723_weights.h5'\n",
        "\n",
        "\n",
        "with open(saved_model_path , 'r') as json_file:\n",
        "    json_savedModel = json_file.read()\n",
        "    \n",
        "# Loading the model architecture, weights\n",
        "model = tf.keras.models.model_from_json(json_savedModel)\n",
        "model.load_weights(saved_weights_path)\n",
        "\n",
        "# Compiling the model with similar parameters as the original model.\n",
        "model.compile(loss='categorical_crossentropy', \n",
        "                optimizer='RMSProp', \n",
        "                metrics=['categorical_accuracy'])\n",
        "\n",
        "# Model's structure visualization\n",
        "tf.keras.utils.plot_model(model, to_file='model.png', show_shapes=True, show_layer_names=True)"
      ],
      "metadata": {
        "id": "y4OJGhLmgfX6",
        "colab": {
          "base_uri": "https://localhost:8080/",
          "height": 533
        },
        "outputId": "fd24043c-7811-4cbe-c723-aa35632fc10c"
      },
      "execution_count": 20,
      "outputs": [
        {
          "output_type": "execute_result",
          "data": {
            "text/plain": [
              "<IPython.core.display.Image object>"
            ],
            "image/png": "[encoded data removed]"
          },
          "metadata": {},
          "execution_count": 20
        }
      ]
    },
    {
      "cell_type": "code",
      "source": [
        ""
      ],
      "metadata": {
        "id": "B_SW6eUAgvEj"
      },
      "execution_count": 20,
      "outputs": []
    },
    {
      "cell_type": "code",
      "source": [
        ""
      ],
      "metadata": {
        "id": "cCfkUXTYgzSB"
      },
      "execution_count": 20,
      "outputs": []
    },
    {
      "cell_type": "code",
      "source": [
        "model.save(saved_model_path_2)"
      ],
      "metadata": {
        "trusted": true,
        "id": "Z5Uzb_bGKixE"
      },
      "execution_count": 21,
      "outputs": []
    },
    {
      "cell_type": "markdown",
      "source": [
        "## Train (fit) Visualization"
      ],
      "metadata": {
        "id": "ATvBW0SPO-eq"
      }
    },
    {
      "cell_type": "code",
      "source": [
        "# Loss, Accuracy presentation\n",
        "\n",
        "# Plot history: Loss\n",
        "plt.plot(history.history['loss'], label='Loss (training data)')\n",
        "plt.plot(history.history['val_loss'], label='Loss (validation data)')\n",
        "plt.title('Loss for train and validation')\n",
        "plt.ylabel('Loss value')\n",
        "plt.xlabel('No. epoch')\n",
        "plt.legend(loc=\"upper left\")\n",
        "plt.show()\n",
        "\n",
        "#Plot history: Accuracy\n",
        "plt.plot(history.history['categorical_accuracy'], label='Acc (training data)')\n",
        "plt.plot(history.history['val_categorical_accuracy'], label='Acc (validation data)')\n",
        "plt.title('Model accuracy')\n",
        "plt.ylabel('Acc %')\n",
        "plt.xlabel('No. epoch')\n",
        "plt.legend(loc=\"upper left\")\n",
        "plt.show()"
      ],
      "metadata": {
        "id": "UjhUHhU_f4EY",
        "colab": {
          "base_uri": "https://localhost:8080/",
          "height": 573
        },
        "outputId": "071bbede-d3d3-4922-d692-906d76500fa8"
      },
      "execution_count": 22,
      "outputs": [
        {
          "output_type": "display_data",
          "data": {
            "text/plain": [
              "<Figure size 432x288 with 1 Axes>"
            ],
            "image/png": "[encoded data removed]"
          },
          "metadata": {
            "needs_background": "light"
          }
        },
        {
          "output_type": "display_data",
          "data": {
            "text/plain": [
              "<Figure size 432x288 with 1 Axes>"
            ],
            "image/png": "[encoded data removed]"
          },
          "metadata": {
            "needs_background": "light"
          }
        }
      ]
    },
    {
      "cell_type": "markdown",
      "source": [
        "## Validation Set Evaluation"
      ],
      "metadata": {
        "id": "UZ3lFduxPQeB"
      }
    },
    {
      "cell_type": "markdown",
      "source": [
        "### Val Set Score"
      ],
      "metadata": {
        "id": "5YoYCa22PMGz"
      }
    },
    {
      "cell_type": "code",
      "source": [
        ""
      ],
      "metadata": {
        "id": "jQavrzbB_8fy"
      },
      "execution_count": 22,
      "outputs": []
    },
    {
      "cell_type": "code",
      "source": [
        "# Validation score\n",
        "loss,acc = model.evaluate(x_val, y_val_class, verbose=2)\n"
      ],
      "metadata": {
        "id": "X_KdTUyrf7-j",
        "colab": {
          "base_uri": "https://localhost:8080/"
        },
        "outputId": "98497b25-cf0f-4572-94f2-cd290c43bdb5"
      },
      "execution_count": 23,
      "outputs": [
        {
          "output_type": "stream",
          "name": "stdout",
          "text": [
            "9/9 - 2s - loss: 2.0148 - categorical_accuracy: 0.1495 - 2s/epoch - 261ms/step\n"
          ]
        }
      ]
    },
    {
      "cell_type": "code",
      "source": [
        ""
      ],
      "metadata": {
        "id": "09k_I9DM_2Q0"
      },
      "execution_count": 23,
      "outputs": []
    },
    {
      "cell_type": "markdown",
      "source": [
        "### Construct Predicted Labels based on Probability of each class"
      ],
      "metadata": {
        "id": "hz7nc15A_3hb"
      }
    },
    {
      "cell_type": "code",
      "source": [
        "y_val_class"
      ],
      "metadata": {
        "id": "CFM1P2SZ_85N",
        "colab": {
          "base_uri": "https://localhost:8080/"
        },
        "outputId": "5e1446d4-05dd-4e5c-ac40-4f254248ede8"
      },
      "execution_count": 24,
      "outputs": [
        {
          "output_type": "execute_result",
          "data": {
            "text/plain": [
              "array([[0, 0, 0, ..., 0, 0, 1],\n",
              "       [0, 1, 0, ..., 0, 0, 0],\n",
              "       [0, 0, 0, ..., 0, 1, 0],\n",
              "       ...,\n",
              "       [0, 0, 0, ..., 0, 0, 1],\n",
              "       [0, 0, 0, ..., 0, 0, 1],\n",
              "       [0, 0, 1, ..., 0, 0, 0]], dtype=int8)"
            ]
          },
          "metadata": {},
          "execution_count": 24
        }
      ]
    },
    {
      "cell_type": "code",
      "source": [
        "np.argmax(y_val_class, axis=1)"
      ],
      "metadata": {
        "id": "C9UHSeXbAASy",
        "colab": {
          "base_uri": "https://localhost:8080/"
        },
        "outputId": "05c2c33b-22bd-4255-a5c4-ba090cbb283c"
      },
      "execution_count": 25,
      "outputs": [
        {
          "output_type": "execute_result",
          "data": {
            "text/plain": [
              "array([6, 1, 5, 3, 5, 5, 2, 5, 0, 4, 5, 1, 5, 5, 2, 1, 0, 1, 4, 5, 3, 6,\n",
              "       0, 2, 2, 4, 6, 5, 1, 4, 0, 5, 2, 3, 1, 6, 5, 2, 1, 0, 3, 4, 0, 5,\n",
              "       3, 3, 0, 6, 4, 6, 0, 3, 3, 3, 4, 5, 3, 2, 3, 6, 1, 0, 3, 2, 4, 4,\n",
              "       6, 2, 4, 0, 5, 5, 1, 2, 0, 5, 5, 3, 4, 6, 4, 2, 2, 3, 6, 0, 0, 3,\n",
              "       2, 5, 1, 4, 1, 0, 6, 3, 6, 1, 2, 6, 6, 2, 0, 5, 1, 5, 4, 0, 5, 2,\n",
              "       0, 5, 0, 6, 2, 3, 3, 2, 2, 2, 0, 1, 5, 2, 5, 3, 2, 0, 3, 3, 3, 2,\n",
              "       0, 3, 0, 6, 3, 3, 3, 1, 0, 3, 6, 5, 6, 4, 0, 2, 6, 2, 1, 1, 4, 6,\n",
              "       0, 2, 1, 1, 3, 0, 6, 6, 2, 0, 1, 5, 5, 4, 5, 5, 0, 2, 4, 4, 6, 4,\n",
              "       3, 6, 2, 3, 2, 3, 0, 1, 0, 3, 1, 5, 2, 1, 6, 0, 4, 1, 6, 2, 0, 0,\n",
              "       6, 0, 0, 2, 5, 5, 1, 2, 3, 2, 2, 2, 4, 3, 5, 3, 1, 0, 2, 0, 2, 4,\n",
              "       6, 1, 0, 6, 5, 6, 4, 0, 0, 4, 5, 3, 2, 6, 2, 6, 3, 5, 3, 1, 5, 6,\n",
              "       5, 1, 2, 1, 6, 0, 5, 3, 2, 1, 6, 3, 0, 1, 3, 6, 3, 2, 2, 4, 6, 4,\n",
              "       3, 2, 2, 5, 5, 4, 1, 3, 6, 5, 3, 0, 3, 4, 6, 6, 2])"
            ]
          },
          "metadata": {},
          "execution_count": 25
        }
      ]
    },
    {
      "cell_type": "code",
      "source": [
        "y_val_class = np.argmax(y_val_class, axis=1)\n",
        "predictions_val = model.predict(x_val)\n",
        "y_proba_val_class = predictions_val\n",
        "y_pred_val_class = np.argmax(predictions_val, axis=1)"
      ],
      "metadata": {
        "id": "urjydD-38JK7"
      },
      "execution_count": 26,
      "outputs": []
    },
    {
      "cell_type": "code",
      "source": [
        "predictions_val\n"
      ],
      "metadata": {
        "id": "Zb7dGRs3AEJn",
        "colab": {
          "base_uri": "https://localhost:8080/"
        },
        "outputId": "a01e9e20-c4ef-48f3-84d6-c0b1e01ee1d6"
      },
      "execution_count": 27,
      "outputs": [
        {
          "output_type": "execute_result",
          "data": {
            "text/plain": [
              "array([[0.17342383, 0.08136191, 0.14278536, ..., 0.08274767, 0.30113178,\n",
              "        0.06783017],\n",
              "       [0.13529928, 0.07997561, 0.15396681, ..., 0.08361842, 0.30888453,\n",
              "        0.07587568],\n",
              "       [0.17201547, 0.08103991, 0.14233224, ..., 0.08263596, 0.30202168,\n",
              "        0.06772877],\n",
              "       ...,\n",
              "       [0.15616922, 0.08138404, 0.13921966, ..., 0.08350725, 0.29401052,\n",
              "        0.08139659],\n",
              "       [0.17478712, 0.08195601, 0.14332798, ..., 0.08316562, 0.29957002,\n",
              "        0.06788284],\n",
              "       [0.13363357, 0.0817792 , 0.14978738, ..., 0.08555625, 0.293409  ,\n",
              "        0.08622799]], dtype=float32)"
            ]
          },
          "metadata": {},
          "execution_count": 27
        }
      ]
    },
    {
      "cell_type": "code",
      "source": [
        "y_pred_val_class "
      ],
      "metadata": {
        "id": "KxHa1Ss1AJo4",
        "colab": {
          "base_uri": "https://localhost:8080/"
        },
        "outputId": "ffceb081-3969-491c-ee86-ad7e0d1299d2"
      },
      "execution_count": 28,
      "outputs": [
        {
          "output_type": "execute_result",
          "data": {
            "text/plain": [
              "array([5, 5, 5, 5, 5, 5, 5, 5, 5, 5, 5, 5, 5, 5, 5, 5, 5, 5, 5, 5, 5, 5,\n",
              "       5, 5, 5, 5, 5, 5, 5, 5, 5, 5, 5, 5, 5, 5, 5, 5, 5, 5, 5, 5, 5, 5,\n",
              "       5, 5, 5, 5, 5, 5, 5, 5, 5, 5, 5, 5, 5, 5, 5, 5, 5, 5, 5, 5, 5, 5,\n",
              "       5, 5, 5, 5, 5, 5, 5, 5, 5, 5, 5, 5, 5, 5, 5, 5, 5, 5, 5, 5, 5, 5,\n",
              "       5, 5, 5, 5, 5, 5, 5, 5, 5, 5, 5, 5, 5, 5, 5, 5, 5, 5, 5, 5, 5, 5,\n",
              "       5, 5, 5, 5, 5, 5, 5, 5, 5, 5, 5, 5, 5, 5, 5, 5, 5, 5, 5, 5, 5, 5,\n",
              "       5, 5, 5, 5, 5, 5, 5, 5, 5, 5, 5, 5, 5, 5, 5, 5, 5, 5, 5, 5, 5, 5,\n",
              "       5, 5, 5, 5, 5, 5, 5, 5, 5, 5, 5, 5, 5, 5, 5, 5, 5, 5, 5, 5, 5, 5,\n",
              "       5, 5, 5, 5, 5, 5, 5, 5, 5, 5, 5, 5, 5, 5, 5, 5, 5, 5, 5, 5, 5, 5,\n",
              "       5, 5, 5, 5, 5, 5, 5, 5, 5, 5, 5, 5, 5, 5, 5, 5, 5, 5, 5, 5, 5, 5,\n",
              "       5, 5, 5, 5, 5, 5, 5, 5, 5, 5, 5, 5, 5, 5, 5, 5, 5, 5, 5, 5, 5, 5,\n",
              "       5, 5, 5, 5, 5, 5, 5, 5, 5, 5, 5, 5, 5, 5, 5, 5, 5, 5, 5, 5, 5, 5,\n",
              "       5, 5, 5, 5, 5, 5, 5, 5, 5, 5, 5, 5, 5, 5, 5, 5, 5])"
            ]
          },
          "metadata": {},
          "execution_count": 28
        }
      ]
    },
    {
      "cell_type": "markdown",
      "source": [
        "### Val Set Confusion Matrix and Heatmap"
      ],
      "metadata": {
        "id": "d2ullxf9PUMd"
      }
    },
    {
      "cell_type": "code",
      "source": [
        "# Validation Confusion matrix\n",
        "cm=confusion_matrix(y_val_class, y_pred_val_class)\n",
        "\n",
        "index = ['calm', 'happy', 'sad', 'angry', 'fearful', 'disgust', 'surprised']  \n",
        "columns = ['calm', 'happy', 'sad', 'angry', 'fearful', 'disgust', 'surprised']  \n",
        " \n",
        "cm_df = pd.DataFrame(cm,index,columns)                      \n",
        "plt.figure(figsize=(12,8))\n",
        "ax = plt.axes()\n",
        "\n",
        "sns.heatmap(cm_df, ax = ax, cmap = 'PuBu', fmt=\"d\", annot=True)\n",
        "ax.set_ylabel('True emotion')\n",
        "ax.set_xlabel('Predicted emotion')"
      ],
      "metadata": {
        "id": "doLcg3CTf9bx",
        "colab": {
          "base_uri": "https://localhost:8080/",
          "height": 514
        },
        "outputId": "d0d5344c-29a5-4dd7-f7f8-e3fe545e6a0c"
      },
      "execution_count": 29,
      "outputs": [
        {
          "output_type": "execute_result",
          "data": {
            "text/plain": [
              "Text(0.5, 51.0, 'Predicted emotion')"
            ]
          },
          "metadata": {},
          "execution_count": 29
        },
        {
          "output_type": "display_data",
          "data": {
            "text/plain": [
              "<Figure size 864x576 with 2 Axes>"
            ],
            "image/png": "[encoded data removed]"
          },
          "metadata": {
            "needs_background": "light"
          }
        }
      ]
    },
    {
      "cell_type": "code",
      "source": [
        "# Confusion Matrix\n",
        "cm"
      ],
      "metadata": {
        "id": "hIEG9Pia8Nfp",
        "colab": {
          "base_uri": "https://localhost:8080/"
        },
        "outputId": "f8928175-579f-4425-f0c9-9d1482dc2ef5"
      },
      "execution_count": 30,
      "outputs": [
        {
          "output_type": "execute_result",
          "data": {
            "text/plain": [
              "array([[ 0,  0,  0,  0,  0, 43,  0],\n",
              "       [ 0,  0,  0,  0,  0, 33,  0],\n",
              "       [ 0,  0,  0,  0,  0, 48,  0],\n",
              "       [ 0,  0,  0,  0,  0, 46,  0],\n",
              "       [ 0,  0,  0,  0,  0, 29,  0],\n",
              "       [ 0,  0,  0,  0,  0, 42,  0],\n",
              "       [ 0,  0,  0,  0,  0, 40,  0]])"
            ]
          },
          "metadata": {},
          "execution_count": 30
        }
      ]
    },
    {
      "cell_type": "markdown",
      "source": [
        "### Validation Set Predicted emotions accuracy"
      ],
      "metadata": {
        "id": "kWjKgUdRPYH5"
      }
    },
    {
      "cell_type": "code",
      "source": [
        "# Validation set prediction accuracy rates\n",
        "\n",
        "values = cm.diagonal()\n",
        "row_sum = np.sum(cm,axis=1)\n",
        "acc = values / row_sum\n",
        "\n",
        "print('Validation set predicted emotions accuracy:')\n",
        "for e in range(0, len(values)):\n",
        "    print(index[e],':', f\"{(acc[e]):0.4f}\")"
      ],
      "metadata": {
        "id": "MopdywY9f-mS",
        "colab": {
          "base_uri": "https://localhost:8080/"
        },
        "outputId": "2ff1bc2b-cdca-4312-9cc2-907bb604493c"
      },
      "execution_count": 31,
      "outputs": [
        {
          "output_type": "stream",
          "name": "stdout",
          "text": [
            "Validation set predicted emotions accuracy:\n",
            "calm : 0.0000\n",
            "happy : 0.0000\n",
            "sad : 0.0000\n",
            "angry : 0.0000\n",
            "fearful : 0.0000\n",
            "disgust : 1.0000\n",
            "surprised : 0.0000\n"
          ]
        }
      ]
    },
    {
      "cell_type": "markdown",
      "source": [
        "### Precision, Recal, Fscore"
      ],
      "metadata": {
        "id": "DGSTy2228XRH"
      }
    },
    {
      "cell_type": "code",
      "source": [
        "# Validation set precision, recall, fscore\n",
        "\n",
        "precision_recall_fscore_support(y_val_class, y_pred_val_class, average='macro')\n"
      ],
      "metadata": {
        "id": "rOwUkCG0gGpm",
        "colab": {
          "base_uri": "https://localhost:8080/"
        },
        "outputId": "e11c2812-b2a3-48d2-8946-81dfd463bef6"
      },
      "execution_count": 32,
      "outputs": [
        {
          "output_type": "stream",
          "name": "stderr",
          "text": [
            "/usr/local/lib/python3.7/dist-packages/sklearn/metrics/_classification.py:1318: UndefinedMetricWarning: Precision and F-score are ill-defined and being set to 0.0 in labels with no predicted samples. Use `zero_division` parameter to control this behavior.\n",
            "  _warn_prf(average, modifier, msg_start, len(result))\n"
          ]
        },
        {
          "output_type": "execute_result",
          "data": {
            "text/plain": [
              "(0.021352313167259784, 0.14285714285714285, 0.03715170278637771, None)"
            ]
          },
          "metadata": {},
          "execution_count": 32
        }
      ]
    },
    {
      "cell_type": "code",
      "source": [
        "precision_recall_fscore_support(y_val_class, y_pred_val_class, average='weighted')"
      ],
      "metadata": {
        "id": "OorFgXxDzy3o",
        "colab": {
          "base_uri": "https://localhost:8080/"
        },
        "outputId": "04c0a6c9-823b-4f9d-e94c-d4364f83e310"
      },
      "execution_count": 33,
      "outputs": [
        {
          "output_type": "stream",
          "name": "stderr",
          "text": [
            "/usr/local/lib/python3.7/dist-packages/sklearn/metrics/_classification.py:1318: UndefinedMetricWarning: Precision and F-score are ill-defined and being set to 0.0 in labels with no predicted samples. Use `zero_division` parameter to control this behavior.\n",
            "  _warn_prf(average, modifier, msg_start, len(result))\n"
          ]
        },
        {
          "output_type": "execute_result",
          "data": {
            "text/plain": [
              "(0.022340142602044047, 0.1494661921708185, 0.038870464836993045, None)"
            ]
          },
          "metadata": {},
          "execution_count": 33
        }
      ]
    },
    {
      "cell_type": "markdown",
      "source": [
        "## Test Set Evaluation"
      ],
      "metadata": {
        "id": "FiCwOjmPPgCn"
      }
    },
    {
      "cell_type": "markdown",
      "source": [
        "### Test Set Score\n",
        "\n"
      ],
      "metadata": {
        "id": "CWB7U5xDUSmF"
      }
    },
    {
      "cell_type": "code",
      "source": [
        "loss, acc = model.evaluate(x_test, y_test_class, verbose=2)"
      ],
      "metadata": {
        "id": "Y7NEHPM-gzml",
        "colab": {
          "base_uri": "https://localhost:8080/"
        },
        "outputId": "1ec7e289-dc56-43fb-8751-aa43887a2614"
      },
      "execution_count": 34,
      "outputs": [
        {
          "output_type": "stream",
          "name": "stdout",
          "text": [
            "4/4 - 1s - loss: 2.0912 - categorical_accuracy: 0.1301 - 734ms/epoch - 184ms/step\n"
          ]
        }
      ]
    },
    {
      "cell_type": "markdown",
      "source": [
        "### Construct Predicted Labels based on Probability of each class"
      ],
      "metadata": {
        "id": "gPwcFV9oAhGh"
      }
    },
    {
      "cell_type": "code",
      "source": [
        "y_test_class"
      ],
      "metadata": {
        "id": "tjN7Eit7AiML",
        "colab": {
          "base_uri": "https://localhost:8080/"
        },
        "outputId": "920fcdad-bff0-45b3-a1b5-2d6df1d2d6c9"
      },
      "execution_count": 35,
      "outputs": [
        {
          "output_type": "execute_result",
          "data": {
            "text/plain": [
              "array([[0, 0, 0, 0, 0, 0, 1],\n",
              "       [0, 0, 0, 1, 0, 0, 0],\n",
              "       [0, 0, 0, 0, 0, 1, 0],\n",
              "       [0, 0, 0, 0, 1, 0, 0],\n",
              "       [1, 0, 0, 0, 0, 0, 0],\n",
              "       [0, 0, 0, 0, 1, 0, 0],\n",
              "       [0, 0, 0, 0, 0, 1, 0],\n",
              "       [0, 0, 0, 0, 1, 0, 0],\n",
              "       [0, 0, 0, 1, 0, 0, 0],\n",
              "       [0, 0, 0, 0, 0, 0, 1],\n",
              "       [0, 0, 0, 1, 0, 0, 0],\n",
              "       [0, 0, 0, 0, 1, 0, 0],\n",
              "       [1, 0, 0, 0, 0, 0, 0],\n",
              "       [0, 0, 0, 0, 0, 1, 0],\n",
              "       [0, 0, 0, 1, 0, 0, 0],\n",
              "       [1, 0, 0, 0, 0, 0, 0],\n",
              "       [0, 0, 0, 0, 0, 1, 0],\n",
              "       [0, 0, 0, 0, 0, 1, 0],\n",
              "       [0, 0, 1, 0, 0, 0, 0],\n",
              "       [0, 0, 0, 0, 0, 0, 1],\n",
              "       [0, 0, 0, 0, 0, 0, 1],\n",
              "       [1, 0, 0, 0, 0, 0, 0],\n",
              "       [1, 0, 0, 0, 0, 0, 0],\n",
              "       [0, 0, 1, 0, 0, 0, 0],\n",
              "       [0, 0, 0, 0, 0, 1, 0],\n",
              "       [1, 0, 0, 0, 0, 0, 0],\n",
              "       [0, 0, 0, 0, 0, 1, 0],\n",
              "       [1, 0, 0, 0, 0, 0, 0],\n",
              "       [0, 0, 0, 0, 1, 0, 0],\n",
              "       [0, 1, 0, 0, 0, 0, 0],\n",
              "       [0, 0, 0, 1, 0, 0, 0],\n",
              "       [0, 0, 0, 0, 0, 0, 1],\n",
              "       [0, 0, 0, 0, 0, 0, 1],\n",
              "       [0, 0, 0, 0, 0, 1, 0],\n",
              "       [0, 0, 0, 0, 1, 0, 0],\n",
              "       [0, 0, 1, 0, 0, 0, 0],\n",
              "       [0, 0, 0, 0, 0, 1, 0],\n",
              "       [0, 0, 0, 0, 1, 0, 0],\n",
              "       [0, 0, 0, 0, 1, 0, 0],\n",
              "       [0, 0, 0, 0, 0, 1, 0],\n",
              "       [0, 0, 0, 0, 0, 0, 1],\n",
              "       [1, 0, 0, 0, 0, 0, 0],\n",
              "       [0, 1, 0, 0, 0, 0, 0],\n",
              "       [0, 0, 1, 0, 0, 0, 0],\n",
              "       [0, 1, 0, 0, 0, 0, 0],\n",
              "       [0, 1, 0, 0, 0, 0, 0],\n",
              "       [0, 0, 0, 0, 0, 0, 1],\n",
              "       [0, 0, 1, 0, 0, 0, 0],\n",
              "       [0, 0, 0, 0, 0, 0, 1],\n",
              "       [0, 0, 0, 0, 1, 0, 0],\n",
              "       [0, 0, 0, 0, 0, 1, 0],\n",
              "       [0, 0, 0, 0, 0, 0, 1],\n",
              "       [0, 1, 0, 0, 0, 0, 0],\n",
              "       [0, 0, 1, 0, 0, 0, 0],\n",
              "       [0, 0, 0, 0, 0, 1, 0],\n",
              "       [0, 1, 0, 0, 0, 0, 0],\n",
              "       [0, 1, 0, 0, 0, 0, 0],\n",
              "       [0, 0, 0, 0, 1, 0, 0],\n",
              "       [0, 0, 0, 0, 1, 0, 0],\n",
              "       [0, 1, 0, 0, 0, 0, 0],\n",
              "       [0, 0, 0, 0, 0, 0, 1],\n",
              "       [0, 0, 0, 1, 0, 0, 0],\n",
              "       [0, 0, 0, 0, 1, 0, 0],\n",
              "       [0, 0, 1, 0, 0, 0, 0],\n",
              "       [0, 0, 1, 0, 0, 0, 0],\n",
              "       [0, 0, 1, 0, 0, 0, 0],\n",
              "       [0, 0, 0, 0, 1, 0, 0],\n",
              "       [1, 0, 0, 0, 0, 0, 0],\n",
              "       [0, 0, 0, 1, 0, 0, 0],\n",
              "       [0, 0, 0, 0, 0, 0, 1],\n",
              "       [0, 0, 0, 0, 0, 1, 0],\n",
              "       [0, 1, 0, 0, 0, 0, 0],\n",
              "       [0, 0, 1, 0, 0, 0, 0],\n",
              "       [0, 0, 0, 0, 1, 0, 0],\n",
              "       [0, 0, 0, 1, 0, 0, 0],\n",
              "       [1, 0, 0, 0, 0, 0, 0],\n",
              "       [0, 0, 0, 1, 0, 0, 0],\n",
              "       [0, 0, 0, 0, 0, 0, 1],\n",
              "       [0, 0, 1, 0, 0, 0, 0],\n",
              "       [0, 0, 0, 0, 0, 0, 1],\n",
              "       [1, 0, 0, 0, 0, 0, 0],\n",
              "       [0, 0, 0, 0, 1, 0, 0],\n",
              "       [0, 1, 0, 0, 0, 0, 0],\n",
              "       [0, 0, 0, 1, 0, 0, 0],\n",
              "       [0, 0, 0, 0, 0, 0, 1],\n",
              "       [0, 0, 0, 1, 0, 0, 0],\n",
              "       [0, 0, 0, 0, 0, 0, 1],\n",
              "       [0, 0, 0, 0, 1, 0, 0],\n",
              "       [0, 0, 0, 1, 0, 0, 0],\n",
              "       [0, 0, 0, 1, 0, 0, 0],\n",
              "       [0, 0, 1, 0, 0, 0, 0],\n",
              "       [0, 0, 0, 0, 0, 1, 0],\n",
              "       [0, 0, 0, 0, 1, 0, 0],\n",
              "       [0, 1, 0, 0, 0, 0, 0],\n",
              "       [1, 0, 0, 0, 0, 0, 0],\n",
              "       [0, 0, 0, 1, 0, 0, 0],\n",
              "       [0, 0, 1, 0, 0, 0, 0],\n",
              "       [0, 0, 0, 1, 0, 0, 0],\n",
              "       [0, 1, 0, 0, 0, 0, 0],\n",
              "       [1, 0, 0, 0, 0, 0, 0],\n",
              "       [0, 0, 1, 0, 0, 0, 0],\n",
              "       [0, 0, 0, 0, 0, 0, 1],\n",
              "       [0, 0, 0, 0, 0, 1, 0],\n",
              "       [0, 0, 0, 0, 1, 0, 0],\n",
              "       [0, 0, 0, 0, 1, 0, 0],\n",
              "       [0, 0, 0, 1, 0, 0, 0],\n",
              "       [0, 0, 0, 1, 0, 0, 0],\n",
              "       [0, 0, 0, 0, 0, 0, 1],\n",
              "       [0, 0, 0, 0, 1, 0, 0],\n",
              "       [1, 0, 0, 0, 0, 0, 0],\n",
              "       [0, 0, 0, 1, 0, 0, 0],\n",
              "       [0, 0, 0, 0, 1, 0, 0],\n",
              "       [0, 0, 0, 0, 0, 0, 1],\n",
              "       [0, 0, 0, 0, 0, 1, 0],\n",
              "       [0, 0, 0, 1, 0, 0, 0],\n",
              "       [0, 0, 1, 0, 0, 0, 0],\n",
              "       [0, 0, 0, 1, 0, 0, 0],\n",
              "       [0, 1, 0, 0, 0, 0, 0],\n",
              "       [0, 0, 0, 0, 0, 0, 1],\n",
              "       [0, 0, 0, 0, 0, 0, 1],\n",
              "       [0, 1, 0, 0, 0, 0, 0],\n",
              "       [1, 0, 0, 0, 0, 0, 0],\n",
              "       [0, 0, 0, 0, 0, 0, 1]], dtype=int8)"
            ]
          },
          "metadata": {},
          "execution_count": 35
        }
      ]
    },
    {
      "cell_type": "code",
      "source": [
        " np.argmax(y_test_class, axis=1)"
      ],
      "metadata": {
        "id": "2fcK-_HzAmc5",
        "colab": {
          "base_uri": "https://localhost:8080/"
        },
        "outputId": "f10c56a1-8407-4541-e0a2-e9ac1f66330d"
      },
      "execution_count": 36,
      "outputs": [
        {
          "output_type": "execute_result",
          "data": {
            "text/plain": [
              "array([6, 3, 5, 4, 0, 4, 5, 4, 3, 6, 3, 4, 0, 5, 3, 0, 5, 5, 2, 6, 6, 0,\n",
              "       0, 2, 5, 0, 5, 0, 4, 1, 3, 6, 6, 5, 4, 2, 5, 4, 4, 5, 6, 0, 1, 2,\n",
              "       1, 1, 6, 2, 6, 4, 5, 6, 1, 2, 5, 1, 1, 4, 4, 1, 6, 3, 4, 2, 2, 2,\n",
              "       4, 0, 3, 6, 5, 1, 2, 4, 3, 0, 3, 6, 2, 6, 0, 4, 1, 3, 6, 3, 6, 4,\n",
              "       3, 3, 2, 5, 4, 1, 0, 3, 2, 3, 1, 0, 2, 6, 5, 4, 4, 3, 3, 6, 4, 0,\n",
              "       3, 4, 6, 5, 3, 2, 3, 1, 6, 6, 1, 0, 6])"
            ]
          },
          "metadata": {},
          "execution_count": 36
        }
      ]
    },
    {
      "cell_type": "code",
      "source": [
        "y_test_class = np.argmax(y_test_class, axis=1)\n",
        "predictions_test = model.predict(x_test)\n",
        "y_pred_test_class = np.argmax(predictions_test, axis=1)\n",
        "y_proba_test_class = predictions_test\n",
        "\n"
      ],
      "metadata": {
        "id": "uyXvoU2rAckI"
      },
      "execution_count": 37,
      "outputs": []
    },
    {
      "cell_type": "code",
      "source": [
        "predictions_test"
      ],
      "metadata": {
        "id": "3BAOUaPwAtuY",
        "colab": {
          "base_uri": "https://localhost:8080/"
        },
        "outputId": "2b4106f3-4e76-4a16-fd77-323388c281cf"
      },
      "execution_count": 38,
      "outputs": [
        {
          "output_type": "execute_result",
          "data": {
            "text/plain": [
              "array([[0.13573703, 0.08028857, 0.15436073, 0.16245645, 0.08387727,\n",
              "        0.3081266 , 0.07515325],\n",
              "       [0.13666947, 0.08137564, 0.15477285, 0.16188481, 0.08483771,\n",
              "        0.3050889 , 0.07537065],\n",
              "       [0.17071374, 0.08077014, 0.14239594, 0.15311219, 0.08234368,\n",
              "        0.30268702, 0.06797733],\n",
              "       [0.13630468, 0.08040868, 0.15415509, 0.16279942, 0.08402601,\n",
              "        0.30767664, 0.07462951],\n",
              "       [0.17163977, 0.08077674, 0.1425144 , 0.15226129, 0.08231969,\n",
              "        0.3027502 , 0.06773783],\n",
              "       [0.13689704, 0.08082994, 0.15436184, 0.16214556, 0.08458732,\n",
              "        0.30686167, 0.07431664],\n",
              "       [0.14222005, 0.08257854, 0.14745924, 0.16548564, 0.08728758,\n",
              "        0.29104516, 0.08392379],\n",
              "       [0.13522525, 0.08157443, 0.15310545, 0.16509028, 0.08471725,\n",
              "        0.3015567 , 0.07873067],\n",
              "       [0.13643734, 0.08089875, 0.15461819, 0.16225551, 0.08440328,\n",
              "        0.30640316, 0.07498375],\n",
              "       [0.17097129, 0.08060007, 0.1423242 , 0.15288223, 0.08229294,\n",
              "        0.30315527, 0.06777404],\n",
              "       [0.13569099, 0.08025873, 0.15434918, 0.16253753, 0.08385025,\n",
              "        0.30821553, 0.07509784],\n",
              "       [0.16637161, 0.08086511, 0.14404012, 0.15193361, 0.08334089,\n",
              "        0.30325451, 0.07019415],\n",
              "       [0.13601099, 0.08053939, 0.1544787 , 0.1622689 , 0.08408652,\n",
              "        0.3074192 , 0.0751963 ],\n",
              "       [0.13448794, 0.07978904, 0.15407254, 0.1596593 , 0.08352846,\n",
              "        0.30979085, 0.07867189],\n",
              "       [0.13880475, 0.08076905, 0.15407522, 0.16130497, 0.08479284,\n",
              "        0.30591366, 0.07433961],\n",
              "       [0.15715523, 0.08192607, 0.14020999, 0.16386642, 0.08347213,\n",
              "        0.29376322, 0.07960694],\n",
              "       [0.17042235, 0.08091333, 0.14244679, 0.15325041, 0.08245311,\n",
              "        0.30224842, 0.06826562],\n",
              "       [0.13564976, 0.08073806, 0.15382269, 0.16284715, 0.08449959,\n",
              "        0.30597726, 0.07646552],\n",
              "       [0.16909511, 0.0814829 , 0.1424701 , 0.154057  , 0.08292024,\n",
              "        0.30042365, 0.06955098],\n",
              "       [0.13612895, 0.08023638, 0.15404093, 0.16303933, 0.08388279,\n",
              "        0.30814058, 0.07453108],\n",
              "       [0.1383967 , 0.08163651, 0.15468179, 0.1607321 , 0.0843801 ,\n",
              "        0.30327728, 0.07689544],\n",
              "       [0.13614026, 0.08262321, 0.15086766, 0.1672397 , 0.08569178,\n",
              "        0.29168963, 0.08574778],\n",
              "       [0.16173668, 0.08222961, 0.14146405, 0.15998445, 0.08306042,\n",
              "        0.2946673 , 0.0768574 ],\n",
              "       [0.17235605, 0.08150349, 0.1425986 , 0.15165032, 0.08306875,\n",
              "        0.30087027, 0.06795249],\n",
              "       [0.17129856, 0.08053323, 0.14200318, 0.15308698, 0.08217187,\n",
              "        0.3032859 , 0.06762026],\n",
              "       [0.15759885, 0.08164351, 0.14064418, 0.15940015, 0.08189183,\n",
              "        0.29603043, 0.08279097],\n",
              "       [0.14305596, 0.08105658, 0.15441068, 0.15637988, 0.08479081,\n",
              "        0.3049204 , 0.07538572],\n",
              "       [0.17143586, 0.08069954, 0.14245865, 0.15214053, 0.08223683,\n",
              "        0.30297497, 0.06805365],\n",
              "       [0.17145626, 0.08076676, 0.14249499, 0.15214765, 0.08230485,\n",
              "        0.30280697, 0.06802255],\n",
              "       [0.17604728, 0.08124977, 0.14276265, 0.14925484, 0.082391  ,\n",
              "        0.30115834, 0.06713603],\n",
              "       [0.13693279, 0.08081911, 0.15450798, 0.16125534, 0.0844603 ,\n",
              "        0.30646986, 0.07555465],\n",
              "       [0.17450273, 0.08142798, 0.14275332, 0.15026186, 0.08274426,\n",
              "        0.3008391 , 0.0674708 ],\n",
              "       [0.1720456 , 0.08138103, 0.14278856, 0.15147991, 0.08288729,\n",
              "        0.30123743, 0.06818015],\n",
              "       [0.17673075, 0.08692561, 0.14657317, 0.14381026, 0.09235772,\n",
              "        0.28493443, 0.0686681 ],\n",
              "       [0.1339864 , 0.08202632, 0.15040936, 0.16880535, 0.08560069,\n",
              "        0.29404438, 0.08512755],\n",
              "       [0.17164916, 0.0810997 , 0.14267004, 0.15213037, 0.08265945,\n",
              "        0.30195358, 0.06783773],\n",
              "       [0.16174418, 0.08095299, 0.14080632, 0.16067131, 0.08223932,\n",
              "        0.29941395, 0.07417195],\n",
              "       [0.15387577, 0.08167461, 0.14820057, 0.15638119, 0.08625263,\n",
              "        0.30193922, 0.07167598],\n",
              "       [0.16198942, 0.08111327, 0.14095667, 0.16035435, 0.08240185,\n",
              "        0.29906848, 0.0741159 ],\n",
              "       [0.13553081, 0.08021479, 0.15437308, 0.16200806, 0.08381654,\n",
              "        0.30841172, 0.07564501],\n",
              "       [0.13650642, 0.08053539, 0.15422708, 0.16255243, 0.08415943,\n",
              "        0.30733848, 0.07468078],\n",
              "       [0.1595162 , 0.08288867, 0.14106803, 0.16169733, 0.08404558,\n",
              "        0.29139674, 0.07938741],\n",
              "       [0.17204235, 0.08137461, 0.14254291, 0.15194628, 0.08294225,\n",
              "        0.3011653 , 0.06798624],\n",
              "       [0.13336465, 0.08050011, 0.15142936, 0.16640991, 0.08427608,\n",
              "        0.30348456, 0.08053536],\n",
              "       [0.1571305 , 0.08204164, 0.14055687, 0.1615452 , 0.08336183,\n",
              "        0.29403034, 0.08133367],\n",
              "       [0.17532083, 0.08235572, 0.14341572, 0.14893825, 0.08354736,\n",
              "        0.29849535, 0.06792681],\n",
              "       [0.13734493, 0.08058171, 0.15445925, 0.16183992, 0.08399764,\n",
              "        0.30728856, 0.07448799],\n",
              "       [0.17205098, 0.08155283, 0.14280196, 0.1516472 , 0.08308937,\n",
              "        0.3007807 , 0.06807701],\n",
              "       [0.136277  , 0.08075091, 0.154563  , 0.16221485, 0.0842752 ,\n",
              "        0.3068289 , 0.07509015],\n",
              "       [0.13621211, 0.08224557, 0.1505898 , 0.16704756, 0.08530879,\n",
              "        0.2928417 , 0.08575443],\n",
              "       [0.13344918, 0.07931808, 0.15374295, 0.16020922, 0.08317574,\n",
              "        0.31119695, 0.07890784],\n",
              "       [0.14638406, 0.08209728, 0.1534169 , 0.15612061, 0.08760234,\n",
              "        0.30553627, 0.06884252],\n",
              "       [0.13658726, 0.08103459, 0.15462615, 0.16208595, 0.08454593,\n",
              "        0.3060129 , 0.07510722],\n",
              "       [0.13701338, 0.08091679, 0.15441722, 0.16184442, 0.08468012,\n",
              "        0.30664253, 0.07448559],\n",
              "       [0.17453113, 0.08120209, 0.14194259, 0.14745459, 0.08230279,\n",
              "        0.30115977, 0.07140703],\n",
              "       [0.14669381, 0.08206487, 0.1534875 , 0.15648423, 0.08653552,\n",
              "        0.30149445, 0.07323956],\n",
              "       [0.13356403, 0.08164576, 0.14973338, 0.16970971, 0.08542422,\n",
              "        0.29379684, 0.08612604],\n",
              "       [0.13394818, 0.08186804, 0.14962634, 0.16947196, 0.08571134,\n",
              "        0.29311663, 0.08625751],\n",
              "       [0.13601267, 0.08083943, 0.15376958, 0.16360207, 0.08425649,\n",
              "        0.3055808 , 0.07593892],\n",
              "       [0.17153414, 0.08139704, 0.14275639, 0.15209538, 0.08292419,\n",
              "        0.30113423, 0.06815869],\n",
              "       [0.13616131, 0.08059783, 0.15443863, 0.16193432, 0.08416778,\n",
              "        0.30728176, 0.07541835],\n",
              "       [0.17023669, 0.08067551, 0.14219114, 0.1536507 , 0.08224303,\n",
              "        0.3028186 , 0.06818435],\n",
              "       [0.13661012, 0.08221617, 0.15061246, 0.16727239, 0.08521473,\n",
              "        0.2929949 , 0.08507928],\n",
              "       [0.1714708 , 0.08089472, 0.14241984, 0.15238626, 0.08258867,\n",
              "        0.30234778, 0.06789193],\n",
              "       [0.16465083, 0.08131187, 0.14168184, 0.15787858, 0.08262514,\n",
              "        0.29961684, 0.07223495],\n",
              "       [0.13651063, 0.0809646 , 0.15461019, 0.16209725, 0.08447683,\n",
              "        0.30623195, 0.07510855],\n",
              "       [0.15728502, 0.08264993, 0.14066154, 0.1632081 , 0.08432865,\n",
              "        0.2917962 , 0.08007064],\n",
              "       [0.13873586, 0.08182126, 0.14774822, 0.1678796 , 0.08700578,\n",
              "        0.29250807, 0.08430123],\n",
              "       [0.1719216 , 0.0813688 , 0.1427985 , 0.15179574, 0.08291365,\n",
              "        0.30126718, 0.06793458],\n",
              "       [0.13536935, 0.0797309 , 0.15397662, 0.16083503, 0.08355204,\n",
              "        0.3096468 , 0.07688931],\n",
              "       [0.15702726, 0.08195908, 0.14036906, 0.16384463, 0.08352166,\n",
              "        0.2936257 , 0.07965256],\n",
              "       [0.15386796, 0.08172093, 0.14781424, 0.15682685, 0.08627886,\n",
              "        0.3015514 , 0.07193983],\n",
              "       [0.17205234, 0.08133902, 0.14264998, 0.15185015, 0.08289882,\n",
              "        0.30131325, 0.06789645],\n",
              "       [0.13665357, 0.08088049, 0.15455347, 0.16217965, 0.08442181,\n",
              "        0.30638537, 0.0749256 ],\n",
              "       [0.14256056, 0.08127823, 0.15204391, 0.1598543 , 0.08772663,\n",
              "        0.30735657, 0.06917974],\n",
              "       [0.17142636, 0.08087251, 0.14237753, 0.15261732, 0.08246361,\n",
              "        0.30245885, 0.06778382],\n",
              "       [0.17141773, 0.08085865, 0.1425527 , 0.15236366, 0.08242681,\n",
              "        0.30256966, 0.06781073],\n",
              "       [0.16401693, 0.08179783, 0.14175478, 0.15812144, 0.08311765,\n",
              "        0.29802033, 0.07317115],\n",
              "       [0.1365827 , 0.08091718, 0.15460259, 0.16217564, 0.0844386 ,\n",
              "        0.30631438, 0.07496893],\n",
              "       [0.1402684 , 0.08291174, 0.14719099, 0.16693316, 0.08832632,\n",
              "        0.29001534, 0.08435404],\n",
              "       [0.15960692, 0.08272472, 0.14100997, 0.16176264, 0.08380855,\n",
              "        0.29186925, 0.07921796],\n",
              "       [0.13629338, 0.08064029, 0.1544546 , 0.16251342, 0.0841964 ,\n",
              "        0.30708152, 0.07482041],\n",
              "       [0.1400567 , 0.08125897, 0.15516528, 0.15942144, 0.08430776,\n",
              "        0.3054764 , 0.07431346],\n",
              "       [0.13657162, 0.08111223, 0.15470277, 0.16204958, 0.0845981 ,\n",
              "        0.3058291 , 0.07513665],\n",
              "       [0.13382922, 0.08212944, 0.14991438, 0.16930218, 0.0859386 ,\n",
              "        0.29245254, 0.08643353],\n",
              "       [0.13620861, 0.08151223, 0.15430942, 0.16286618, 0.08483524,\n",
              "        0.30391055, 0.07635778],\n",
              "       [0.13655901, 0.08085316, 0.1545582 , 0.16216102, 0.08438802,\n",
              "        0.30645967, 0.07502086],\n",
              "       [0.13620089, 0.08095913, 0.15436098, 0.16276675, 0.08439764,\n",
              "        0.30583775, 0.0754768 ],\n",
              "       [0.13586736, 0.08031948, 0.15432443, 0.16298158, 0.08390296,\n",
              "        0.30797145, 0.07463264],\n",
              "       [0.16707973, 0.07986298, 0.1400913 , 0.15485305, 0.08285346,\n",
              "        0.3029667 , 0.07229281],\n",
              "       [0.17157707, 0.08110065, 0.14264725, 0.15220849, 0.08265915,\n",
              "        0.30193183, 0.06787557],\n",
              "       [0.13719472, 0.08096807, 0.15447035, 0.16183077, 0.08458833,\n",
              "        0.3060101 , 0.07493765],\n",
              "       [0.15698344, 0.08193872, 0.1404641 , 0.16360517, 0.08343322,\n",
              "        0.29377416, 0.07980128],\n",
              "       [0.13859688, 0.08108487, 0.15538648, 0.15847549, 0.08415156,\n",
              "        0.30623823, 0.07606647],\n",
              "       [0.15913038, 0.0821978 , 0.14110178, 0.15899302, 0.08244553,\n",
              "        0.29438502, 0.08174653],\n",
              "       [0.1873647 , 0.08396982, 0.13862045, 0.14501856, 0.08849835,\n",
              "        0.29422963, 0.06229847],\n",
              "       [0.1341434 , 0.07963145, 0.15382461, 0.15969981, 0.08340143,\n",
              "        0.31012648, 0.07917286],\n",
              "       [0.13591923, 0.08045103, 0.1544353 , 0.16209234, 0.08402193,\n",
              "        0.30770302, 0.07537714],\n",
              "       [0.17122889, 0.08049263, 0.14233609, 0.15226486, 0.08203035,\n",
              "        0.30351937, 0.06812776],\n",
              "       [0.15953971, 0.08280782, 0.14105563, 0.16173306, 0.08393037,\n",
              "        0.29161856, 0.07931483],\n",
              "       [0.13513856, 0.0800935 , 0.15435022, 0.16084562, 0.08373358,\n",
              "        0.3088837 , 0.0769548 ],\n",
              "       [0.13660827, 0.08055992, 0.15422267, 0.16250913, 0.08418009,\n",
              "        0.3072164 , 0.07470357],\n",
              "       [0.1342073 , 0.07964667, 0.15395173, 0.15963097, 0.08342595,\n",
              "        0.31019828, 0.07893908],\n",
              "       [0.13470872, 0.08157647, 0.1522931 , 0.16635008, 0.08472628,\n",
              "        0.2999455 , 0.08039992],\n",
              "       [0.15682165, 0.08161265, 0.14022349, 0.16419375, 0.08314081,\n",
              "        0.29454395, 0.07946369],\n",
              "       [0.16905169, 0.08095218, 0.1421775 , 0.15442793, 0.08243135,\n",
              "        0.30183038, 0.06912898],\n",
              "       [0.13524553, 0.0801373 , 0.15437259, 0.16108865, 0.08376487,\n",
              "        0.3087364 , 0.07665462],\n",
              "       [0.1479824 , 0.08137319, 0.15050909, 0.15798584, 0.08650533,\n",
              "        0.3028887 , 0.0727554 ],\n",
              "       [0.1360763 , 0.08254521, 0.15054023, 0.16759495, 0.08574307,\n",
              "        0.29168913, 0.08581103],\n",
              "       [0.13983145, 0.0816346 , 0.15545368, 0.15892503, 0.0847178 ,\n",
              "        0.30441862, 0.07501875],\n",
              "       [0.17160064, 0.08091337, 0.14256316, 0.15200871, 0.08245028,\n",
              "        0.3024212 , 0.0680426 ],\n",
              "       [0.1339937 , 0.08195394, 0.15006907, 0.16905898, 0.0856262 ,\n",
              "        0.2937865 , 0.08551161],\n",
              "       [0.17221005, 0.08133879, 0.142528  , 0.15185435, 0.08291066,\n",
              "        0.30128154, 0.06787662],\n",
              "       [0.15898423, 0.08228566, 0.1409291 , 0.16183677, 0.08327455,\n",
              "        0.29321942, 0.07947023],\n",
              "       [0.13596226, 0.0804914 , 0.15447052, 0.16224234, 0.08404827,\n",
              "        0.30757278, 0.07521243],\n",
              "       [0.13629366, 0.08071709, 0.15452309, 0.16235001, 0.08424774,\n",
              "        0.30690223, 0.07496618],\n",
              "       [0.1756962 , 0.08188261, 0.14324404, 0.14891833, 0.08303019,\n",
              "        0.29964197, 0.06758665],\n",
              "       [0.1718714 , 0.08133305, 0.14278191, 0.15183651, 0.08287584,\n",
              "        0.30136332, 0.06793799],\n",
              "       [0.17072593, 0.08101175, 0.14198028, 0.1529314 , 0.08281806,\n",
              "        0.30166566, 0.06886697],\n",
              "       [0.13639021, 0.08069047, 0.15442811, 0.16245611, 0.08424141,\n",
              "        0.30694634, 0.0748473 ],\n",
              "       [0.13635178, 0.08042648, 0.15413661, 0.16267706, 0.08404493,\n",
              "        0.30756286, 0.07480024],\n",
              "       [0.13640936, 0.08070408, 0.15450935, 0.16233093, 0.08425216,\n",
              "        0.30689067, 0.07490346],\n",
              "       [0.1392274 , 0.08148315, 0.1555354 , 0.15937345, 0.08445434,\n",
              "        0.30504212, 0.07488409]], dtype=float32)"
            ]
          },
          "metadata": {},
          "execution_count": 38
        }
      ]
    },
    {
      "cell_type": "code",
      "source": [
        "y_pred_test_class "
      ],
      "metadata": {
        "id": "ph-j4nBsAxjT",
        "colab": {
          "base_uri": "https://localhost:8080/"
        },
        "outputId": "25e06277-cd28-4b48-db8c-33c2290bfb8e"
      },
      "execution_count": 39,
      "outputs": [
        {
          "output_type": "execute_result",
          "data": {
            "text/plain": [
              "array([5, 5, 5, 5, 5, 5, 5, 5, 5, 5, 5, 5, 5, 5, 5, 5, 5, 5, 5, 5, 5, 5,\n",
              "       5, 5, 5, 5, 5, 5, 5, 5, 5, 5, 5, 5, 5, 5, 5, 5, 5, 5, 5, 5, 5, 5,\n",
              "       5, 5, 5, 5, 5, 5, 5, 5, 5, 5, 5, 5, 5, 5, 5, 5, 5, 5, 5, 5, 5, 5,\n",
              "       5, 5, 5, 5, 5, 5, 5, 5, 5, 5, 5, 5, 5, 5, 5, 5, 5, 5, 5, 5, 5, 5,\n",
              "       5, 5, 5, 5, 5, 5, 5, 5, 5, 5, 5, 5, 5, 5, 5, 5, 5, 5, 5, 5, 5, 5,\n",
              "       5, 5, 5, 5, 5, 5, 5, 5, 5, 5, 5, 5, 5])"
            ]
          },
          "metadata": {},
          "execution_count": 39
        }
      ]
    },
    {
      "cell_type": "markdown",
      "source": [
        "### Test Set Confusion Matrix and Heatmap"
      ],
      "metadata": {
        "id": "Epp2QpxsUVXH"
      }
    },
    {
      "cell_type": "code",
      "source": [
        "# Test set Confusion matrix\n",
        "\n",
        "cm=confusion_matrix(y_test_class, y_pred_test_class)\n",
        "\n",
        "index = ['calm', 'happy', 'sad', 'angry', 'fearful', 'disgust', 'surprised']  \n",
        "columns = ['calm', 'happy', 'sad', 'angry', 'fearful', 'disgust', 'surprised']  \n",
        " \n",
        "cm_df = pd.DataFrame(cm,index,columns)                      \n",
        "plt.figure(figsize=(12,8))\n",
        "ax = plt.axes()\n",
        "\n",
        "sns.heatmap(cm_df, ax = ax, cmap = 'BuGn', fmt=\"d\", annot=True)\n",
        "ax.set_ylabel('True emotion')\n",
        "ax.set_xlabel('Predicted emotion')"
      ],
      "metadata": {
        "id": "ukGrk_cagzyb",
        "colab": {
          "base_uri": "https://localhost:8080/",
          "height": 514
        },
        "outputId": "a0a79170-791d-4a4b-e823-312a772173cf"
      },
      "execution_count": 40,
      "outputs": [
        {
          "output_type": "execute_result",
          "data": {
            "text/plain": [
              "Text(0.5, 51.0, 'Predicted emotion')"
            ]
          },
          "metadata": {},
          "execution_count": 40
        },
        {
          "output_type": "display_data",
          "data": {
            "text/plain": [
              "<Figure size 864x576 with 2 Axes>"
            ],
            "image/png": "[encoded data removed]"
          },
          "metadata": {
            "needs_background": "light"
          }
        }
      ]
    },
    {
      "cell_type": "code",
      "source": [
        "# Confusion Matrix\n",
        "cm"
      ],
      "metadata": {
        "id": "9f51xwUE8haF",
        "colab": {
          "base_uri": "https://localhost:8080/"
        },
        "outputId": "a8da8755-149d-402e-ae2b-4315f8ca4fd0"
      },
      "execution_count": 41,
      "outputs": [
        {
          "output_type": "execute_result",
          "data": {
            "text/plain": [
              "array([[ 0,  0,  0,  0,  0, 15,  0],\n",
              "       [ 0,  0,  0,  0,  0, 14,  0],\n",
              "       [ 0,  0,  0,  0,  0, 15,  0],\n",
              "       [ 0,  0,  0,  0,  0, 20,  0],\n",
              "       [ 0,  0,  0,  0,  0, 21,  0],\n",
              "       [ 0,  0,  0,  0,  0, 16,  0],\n",
              "       [ 0,  0,  0,  0,  0, 22,  0]])"
            ]
          },
          "metadata": {},
          "execution_count": 41
        }
      ]
    },
    {
      "cell_type": "markdown",
      "source": [
        "### Test Set Predicted emotions accuracy"
      ],
      "metadata": {
        "id": "zil3CkweUX0q"
      }
    },
    {
      "cell_type": "code",
      "source": [
        "# Test set prediction accuracy rates\n",
        "\n",
        "values = cm.diagonal()\n",
        "row_sum = np.sum(cm,axis=1)\n",
        "acc = values / row_sum\n",
        "\n",
        "print('Test set predicted emotions accuracy:')\n",
        "for e in range(0, len(values)):\n",
        "    print(index[e],':', f\"{(acc[e]):0.4f}\")"
      ],
      "metadata": {
        "id": "t_ORyGGig090",
        "colab": {
          "base_uri": "https://localhost:8080/"
        },
        "outputId": "9d0b7ac1-de15-4a84-9136-d77930753ede"
      },
      "execution_count": 42,
      "outputs": [
        {
          "output_type": "stream",
          "name": "stdout",
          "text": [
            "Test set predicted emotions accuracy:\n",
            "calm : 0.0000\n",
            "happy : 0.0000\n",
            "sad : 0.0000\n",
            "angry : 0.0000\n",
            "fearful : 0.0000\n",
            "disgust : 1.0000\n",
            "surprised : 0.0000\n"
          ]
        }
      ]
    },
    {
      "cell_type": "markdown",
      "source": [
        "### Precision, Recal, Fscore"
      ],
      "metadata": {
        "id": "8Hzthv1t8kwd"
      }
    },
    {
      "cell_type": "code",
      "source": [
        "# Validation set precision, recall, fscore\n",
        "\n",
        "precision_recall_fscore_support(y_test_class, y_pred_test_class, average='macro')\n"
      ],
      "metadata": {
        "id": "QnwWoVFnh33F",
        "colab": {
          "base_uri": "https://localhost:8080/"
        },
        "outputId": "a715651e-5927-41fe-d4a8-a36299400efb"
      },
      "execution_count": 43,
      "outputs": [
        {
          "output_type": "stream",
          "name": "stderr",
          "text": [
            "/usr/local/lib/python3.7/dist-packages/sklearn/metrics/_classification.py:1318: UndefinedMetricWarning: Precision and F-score are ill-defined and being set to 0.0 in labels with no predicted samples. Use `zero_division` parameter to control this behavior.\n",
            "  _warn_prf(average, modifier, msg_start, len(result))\n"
          ]
        },
        {
          "output_type": "execute_result",
          "data": {
            "text/plain": [
              "(0.01858304297328688, 0.14285714285714285, 0.0328879753340185, None)"
            ]
          },
          "metadata": {},
          "execution_count": 43
        }
      ]
    },
    {
      "cell_type": "code",
      "source": [
        "precision_recall_fscore_support(y_test_class, y_pred_test_class, average='weighted')"
      ],
      "metadata": {
        "id": "OlDhuPlqzwVB",
        "colab": {
          "base_uri": "https://localhost:8080/"
        },
        "outputId": "ff7b46cb-2394-4d11-ecfd-3f798e32e208"
      },
      "execution_count": 44,
      "outputs": [
        {
          "output_type": "stream",
          "name": "stderr",
          "text": [
            "/usr/local/lib/python3.7/dist-packages/sklearn/metrics/_classification.py:1318: UndefinedMetricWarning: Precision and F-score are ill-defined and being set to 0.0 in labels with no predicted samples. Use `zero_division` parameter to control this behavior.\n",
            "  _warn_prf(average, modifier, msg_start, len(result))\n"
          ]
        },
        {
          "output_type": "execute_result",
          "data": {
            "text/plain": [
              "(0.016921144821204312, 0.13008130081300814, 0.029946774287886765, None)"
            ]
          },
          "metadata": {},
          "execution_count": 44
        }
      ]
    },
    {
      "cell_type": "markdown",
      "source": [
        "### ROC AUC Score"
      ],
      "metadata": {
        "id": "sEuBd9IyLuiD"
      }
    },
    {
      "cell_type": "code",
      "source": [
        "ravdess_df = pd.read_csv (df_path)"
      ],
      "metadata": {
        "id": "8bb4OSmyTO6v"
      },
      "execution_count": 45,
      "outputs": []
    },
    {
      "cell_type": "code",
      "source": [
        "labels = [\"calm\", \"happy\", \"sad\", \"angry\", \"fear\", \"disgust\", \"suprised\"]"
      ],
      "metadata": {
        "id": "1leZ4JGVTfTp"
      },
      "execution_count": 46,
      "outputs": []
    },
    {
      "cell_type": "code",
      "source": [
        "y_test_adj = y_test.reshape(-1,)"
      ],
      "metadata": {
        "id": "MRm1ZwnxFStc"
      },
      "execution_count": 47,
      "outputs": []
    },
    {
      "cell_type": "code",
      "source": [
        "y_proba_test_class.shape"
      ],
      "metadata": {
        "id": "O-IcYOABFjxB",
        "colab": {
          "base_uri": "https://localhost:8080/"
        },
        "outputId": "221f4820-2e01-4ea2-b362-5153e11ecba4"
      },
      "execution_count": 48,
      "outputs": [
        {
          "output_type": "execute_result",
          "data": {
            "text/plain": [
              "(123, 7)"
            ]
          },
          "metadata": {},
          "execution_count": 48
        }
      ]
    },
    {
      "cell_type": "code",
      "source": [
        "y_test.shape"
      ],
      "metadata": {
        "id": "9AaqUY3PIlMQ",
        "colab": {
          "base_uri": "https://localhost:8080/"
        },
        "outputId": "2cc3019a-8211-4eea-9343-2a16312a32a8"
      },
      "execution_count": 49,
      "outputs": [
        {
          "output_type": "execute_result",
          "data": {
            "text/plain": [
              "(123, 1)"
            ]
          },
          "metadata": {},
          "execution_count": 49
        }
      ]
    },
    {
      "cell_type": "code",
      "source": [
        "y_test_adj"
      ],
      "metadata": {
        "id": "7LgDudYTKInS",
        "colab": {
          "base_uri": "https://localhost:8080/"
        },
        "outputId": "9ae507f3-9a07-48d5-e2bd-3f06a38d04b2"
      },
      "execution_count": 50,
      "outputs": [
        {
          "output_type": "execute_result",
          "data": {
            "text/plain": [
              "array([6, 3, 5, 4, 0, 4, 5, 4, 3, 6, 3, 4, 0, 5, 3, 0, 5, 5, 2, 6, 6, 0,\n",
              "       0, 2, 5, 0, 5, 0, 4, 1, 3, 6, 6, 5, 4, 2, 5, 4, 4, 5, 6, 0, 1, 2,\n",
              "       1, 1, 6, 2, 6, 4, 5, 6, 1, 2, 5, 1, 1, 4, 4, 1, 6, 3, 4, 2, 2, 2,\n",
              "       4, 0, 3, 6, 5, 1, 2, 4, 3, 0, 3, 6, 2, 6, 0, 4, 1, 3, 6, 3, 6, 4,\n",
              "       3, 3, 2, 5, 4, 1, 0, 3, 2, 3, 1, 0, 2, 6, 5, 4, 4, 3, 3, 6, 4, 0,\n",
              "       3, 4, 6, 5, 3, 2, 3, 1, 6, 6, 1, 0, 6], dtype=int8)"
            ]
          },
          "metadata": {},
          "execution_count": 50
        }
      ]
    },
    {
      "cell_type": "code",
      "source": [
        "\n",
        "\n",
        "macro_roc_auc_ovo = roc_auc_score(y_test_adj, y_proba_test_class, multi_class=\"ovo\", average=\"macro\")\n",
        "weighted_roc_auc_ovo = roc_auc_score(\n",
        "    y_test_adj, y_proba_test_class, multi_class=\"ovo\", average=\"weighted\"\n",
        ")\n",
        "macro_roc_auc_ovr = roc_auc_score(y_test_adj, y_proba_test_class, multi_class=\"ovr\", average=\"macro\")\n",
        "weighted_roc_auc_ovr = roc_auc_score(\n",
        "    y_test_adj, y_proba_test_class, multi_class=\"ovr\", average=\"weighted\"\n",
        ")\n"
      ],
      "metadata": {
        "id": "oMa4N8EhHlY9"
      },
      "execution_count": 51,
      "outputs": []
    },
    {
      "cell_type": "code",
      "source": [
        "print(\"One-vs-One ROC AUC scores:\\n{:.6f} (macro),\\n{:.6f} \" \"(weighted by prevalence)\\n\".format(macro_roc_auc_ovo, weighted_roc_auc_ovo))\n",
        "print(\"One-vs-Rest ROC AUC scores:\\n{:.6f} (macro),\\n{:.6f} \" \"(weighted by prevalence)\".format(macro_roc_auc_ovr, weighted_roc_auc_ovr))"
      ],
      "metadata": {
        "id": "hhBLwtO_ICqL",
        "colab": {
          "base_uri": "https://localhost:8080/"
        },
        "outputId": "ee0201b2-f2c1-430a-fa60-da7605ccf8de"
      },
      "execution_count": 52,
      "outputs": [
        {
          "output_type": "stream",
          "name": "stdout",
          "text": [
            "One-vs-One ROC AUC scores:\n",
            "0.542904 (macro),\n",
            "0.539420 (weighted by prevalence)\n",
            "\n",
            "One-vs-Rest ROC AUC scores:\n",
            "0.538499 (macro),\n",
            "0.534452 (weighted by prevalence)\n"
          ]
        }
      ]
    }
  ]
}