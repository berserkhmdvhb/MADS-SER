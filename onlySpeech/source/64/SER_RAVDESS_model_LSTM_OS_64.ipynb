{
  "metadata": {
    "kernelspec": {
      "language": "python",
      "display_name": "Python 3",
      "name": "python3"
    },
    "language_info": {
      "pygments_lexer": "ipython3",
      "nbconvert_exporter": "python",
      "version": "3.6.4",
      "file_extension": ".py",
      "codemirror_mode": {
        "name": "ipython",
        "version": 3
      },
      "name": "python",
      "mimetype": "text/x-python"
    },
    "colab": {
      "name": "SER-RAVDESS-model-LSTM-OS-64.ipynb",
      "provenance": [],
      "collapsed_sections": []
    }
  },
  "nbformat_minor": 0,
  "nbformat": 4,
  "cells": [
    {
      "cell_type": "markdown",
      "source": [
        "# Imports"
      ],
      "metadata": {
        "id": "anSyerIFN7qd"
      }
    },
    {
      "cell_type": "code",
      "source": [
        "# Importing Libraries"
      ],
      "metadata": {
        "id": "IMFSwIuvKiw2"
      },
      "execution_count": 5,
      "outputs": []
    },
    {
      "cell_type": "code",
      "source": [
        "!pip install json-tricks"
      ],
      "metadata": {
        "colab": {
          "base_uri": "https://localhost:8080/"
        },
        "id": "bBR8aNsmM2tR",
        "outputId": "ff21179f-ca5e-4bc9-a37b-a70849719065"
      },
      "execution_count": 6,
      "outputs": [
        {
          "output_type": "stream",
          "name": "stdout",
          "text": [
            "Looking in indexes: https://pypi.org/simple, https://us-python.pkg.dev/colab-wheels/public/simple/\n",
            "Requirement already satisfied: json-tricks in /usr/local/lib/python3.7/dist-packages (3.15.5)\n"
          ]
        }
      ]
    },
    {
      "cell_type": "code",
      "source": [
        "import pandas as pd\n",
        "import numpy as np\n",
        "\n",
        "import os\n",
        "import sys\n",
        "\n",
        "import librosa\n",
        "import librosa.display\n",
        "#from pydub import AudioSegment, effects\n",
        "#import noisereduce as nr\n",
        "\n",
        "\n",
        "import seaborn as sns\n",
        "import matplotlib.pyplot as plt\n",
        "from IPython.display import Audio\n",
        "\n",
        "import tensorflow as tf\n",
        "import keras\n",
        "import sklearn\n",
        "\n",
        "\n",
        "from tensorflow.keras.models import Sequential, Model\n",
        "from tensorflow.keras.layers import Dense, LSTM, Flatten, Dropout, BatchNormalization\n",
        "from tensorflow.keras.callbacks import ModelCheckpoint, EarlyStopping, ReduceLROnPlateau\n",
        "from tensorflow.keras.optimizers import Adam, SGD\n",
        "from tensorflow.keras.utils import to_categorical, plot_model\n",
        "\n",
        "\n",
        "from keras.models import Sequential, model_from_json, load_model\n",
        "from keras import layers\n",
        "from keras import optimizers\n",
        "from keras import callbacks\n",
        "\n",
        "from sklearn.preprocessing import StandardScaler, OneHotEncoder, LabelEncoder\n",
        "from sklearn.metrics import confusion_matrix, classification_report, precision_recall_fscore_support, roc_auc_score\n",
        "from sklearn.model_selection import train_test_split, StratifiedShuffleSplit\n",
        "from sklearn.multiclass import OneVsRestClassifier\n",
        "\n",
        "\n",
        "from tqdm import tqdm\n",
        "\n",
        "\n",
        "from json_tricks import dump, load\n",
        "\n",
        "\n",
        "\n",
        "import warnings\n",
        "if not sys.warnoptions:\n",
        "    warnings.simplefilter(\"ignore\")\n",
        "warnings.filterwarnings(\"ignore\", category=DeprecationWarning) \n",
        "\n",
        "import time\n",
        "tic = time.perf_counter()\n",
        "\n"
      ],
      "metadata": {
        "id": "77IS8HxqFFCA"
      },
      "execution_count": 7,
      "outputs": []
    },
    {
      "cell_type": "code",
      "source": [
        ""
      ],
      "metadata": {
        "id": "gGYqBIk0FGm4"
      },
      "execution_count": 7,
      "outputs": []
    },
    {
      "cell_type": "markdown",
      "source": [
        "# Dataset"
      ],
      "metadata": {
        "id": "nyMzoZKKKiw6"
      }
    },
    {
      "cell_type": "code",
      "source": [
        "from google.colab import drive\n",
        "drive.mount('/content/drive')"
      ],
      "metadata": {
        "colab": {
          "base_uri": "https://localhost:8080/"
        },
        "id": "JFPDGXmwCBs_",
        "outputId": "2b2939af-25a5-4594-890b-43e59c1376a1"
      },
      "execution_count": 8,
      "outputs": [
        {
          "output_type": "stream",
          "name": "stdout",
          "text": [
            "Drive already mounted at /content/drive; to attempt to forcibly remount, call drive.mount(\"/content/drive\", force_remount=True).\n"
          ]
        }
      ]
    },
    {
      "cell_type": "code",
      "source": [
        "#Crema = \"/content/drive/MyDrive/datasets/speech/CREMAD/sample/\"\n",
        "#Crema = \"/content/drive/MyDrive/datasets/speech/CREMAD/AudioWAV/\"\n",
        "Ravdess = \"/content/drive/MyDrive/datasets/speech/RAVDESS/data/Audio_Speech_Actors_01-24\"\n",
        "Ravdess_processed = \"/content/drive/MyDrive/datasets/speech/RAVDESS/processedData/onlySpeech/\"\n",
        "Ravdess_speech_sample = \"/content/drive/MyDrive/datasets/speech/RAVDESS/data/Audio_Speech_Actors_01-24/\"\n",
        "df_path = \"/content/drive/MyDrive/datasets/speech/RAVDESS/ravdess_df_onlySpeech.csv\"\n",
        "model_path = Ravdess + \"/model/\"\n",
        "\n",
        "checkpoint_path = model_path + \"best_weights-os-LSTM-1.hdf5\"\n",
        "saved_model_path = model_path + 'model8723-os-LSTM-1.json'\n",
        "\n",
        "saved_weights_path = model_path + 'model8723_weights-os-LSTM-1.h5'\n",
        "saved_model_path_2 = model_path + 'Speech-Emotion-Recognition-Model-os-LSTM-1.h5'"
      ],
      "metadata": {
        "execution": {
          "iopub.status.busy": "2021-06-21T09:35:38.093538Z",
          "iopub.execute_input": "2021-06-21T09:35:38.093869Z",
          "iopub.status.idle": "2021-06-21T09:35:38.097467Z",
          "shell.execute_reply.started": "2021-06-21T09:35:38.093838Z",
          "shell.execute_reply": "2021-06-21T09:35:38.096608Z"
        },
        "trusted": true,
        "id": "vR2GjHL4Kiw7"
      },
      "execution_count": 9,
      "outputs": []
    },
    {
      "cell_type": "code",
      "source": [
        ""
      ],
      "metadata": {
        "id": "J2T6JxzIF2Jq"
      },
      "execution_count": 9,
      "outputs": []
    },
    {
      "cell_type": "code",
      "source": [
        "##Hypter Parameters' Range\n",
        "params = {\n",
        "    \"batch_size\": 20,  # 20<16<10, 25 was a bust\n",
        "    \"epochs\": 300,\n",
        "    \"lr\": 0.00010000,\n",
        "    \"time_steps\": 60\n",
        "}\n",
        "#TIME_STEPS = params[\"time_steps\"]\n",
        "#BATCH_SIZE = params[\"batch_size\"]\n",
        "#iter_changes = \"dropout_layers_0.4_0.4\"\n"
      ],
      "metadata": {
        "id": "jnEd5_Vvy4ue"
      },
      "execution_count": 10,
      "outputs": []
    },
    {
      "cell_type": "code",
      "source": [
        ""
      ],
      "metadata": {
        "id": "dKXM0xT-N8uy"
      },
      "execution_count": 10,
      "outputs": []
    },
    {
      "cell_type": "markdown",
      "source": [
        "# Load Processed Files, Construct Train, Validation and Test Sets"
      ],
      "metadata": {
        "id": "fse_mTpaOGdQ"
      }
    },
    {
      "cell_type": "code",
      "source": [
        "\n",
        "processed_path = Ravdess_processed\n",
        "x_path = processed_path + \"X_features.json\" # FILE LOAD PATH\n",
        "y_path =  processed_path + \"Y_labels.json\" # FILE SAVE PATH\n",
        "#x_path = '/content/drive/MyDrive/datasets/speech/RAVDESS/processedData/X_features.json'\n",
        "\n",
        "# Load X,Y json files back into lists, convert to np.arrays\n",
        "\n",
        "X = load(x_path)\n",
        "X = np.asarray(X, dtype = 'float32')\n",
        "\n",
        "Y = load(y_path)\n",
        "Y = np.asarray(Y, dtype = 'int8')"
      ],
      "metadata": {
        "id": "101BpvWgN8xX"
      },
      "execution_count": 11,
      "outputs": []
    },
    {
      "cell_type": "code",
      "source": [
        "# Split to train, validation, and test sets.\n",
        "from sklearn.model_selection import train_test_split\n",
        "# 1st Split: X,Y => (x_train, x_tosplit) (y_train, y_tosplit)\n",
        "x_train, x_tosplit, y_train, y_tosplit = train_test_split(X, Y, test_size = 0.30, random_state = 1)\n",
        "# 2nd Split: x_tosplit,y_tosplit => (x_val, x_test) (y_val, y_test) \n",
        "x_val, x_test, y_val, y_test = train_test_split(x_tosplit, y_tosplit, test_size = 0.304, random_state = 1)\n",
        "#'One-hot' vectors for Y: emotion classification\n",
        "y_train_class = tf.keras.utils.to_categorical(y_train, 7, dtype = 'int8')\n",
        "y_val_class = tf.keras.utils.to_categorical(y_val, 7, dtype = 'int8')"
      ],
      "metadata": {
        "id": "CuF9M1mfOD7X"
      },
      "execution_count": 12,
      "outputs": []
    },
    {
      "cell_type": "code",
      "source": [
        ""
      ],
      "metadata": {
        "id": "zUxc6v1Fc_ru"
      },
      "execution_count": 12,
      "outputs": []
    },
    {
      "cell_type": "code",
      "source": [
        "# x_train, x_val, and x_test shape check.\n",
        "print(np.shape(x_train))\n",
        "print(np.shape(x_val))\n",
        "print(np.shape(x_test))"
      ],
      "metadata": {
        "colab": {
          "base_uri": "https://localhost:8080/"
        },
        "id": "od-D1YgBOGXs",
        "outputId": "ec529888-3a34-40e3-8604-b594558d4d44"
      },
      "execution_count": 13,
      "outputs": [
        {
          "output_type": "stream",
          "name": "stdout",
          "text": [
            "(940, 448, 15)\n",
            "(281, 448, 15)\n",
            "(123, 448, 15)\n"
          ]
        }
      ]
    },
    {
      "cell_type": "code",
      "source": [
        "# Save x_test, y_test to JSON.\n",
        "\n",
        "x_test_path = processed_path + 'x_test_data.json'\n",
        "dump(obj = x_test, fp = x_test_path)\n",
        "\n",
        "y_test_path = processed_path + 'y_test_data.json'\n",
        "dump(obj = y_test, fp = y_test_path)"
      ],
      "metadata": {
        "colab": {
          "base_uri": "https://localhost:8080/",
          "height": 105
        },
        "id": "nTExHJVsOHQ5",
        "outputId": "20f4fd46-36e4-4452-a026-de0d65651ebd"
      },
      "execution_count": 14,
      "outputs": [
        {
          "output_type": "execute_result",
          "data": {
            "text/plain": [
              "'{\"__ndarray__\": [[6], [3], [5], [4], [0], [4], [5], [4], [3], [6], [3], [4], [0], [5], [3], [0], [5], [5], [2], [6], [6], [0], [0], [2], [5], [0], [5], [0], [4], [1], [3], [6], [6], [5], [4], [2], [5], [4], [4], [5], [6], [0], [1], [2], [1], [1], [6], [2], [6], [4], [5], [6], [1], [2], [5], [1], [1], [4], [4], [1], [6], [3], [4], [2], [2], [2], [4], [0], [3], [6], [5], [1], [2], [4], [3], [0], [3], [6], [2], [6], [0], [4], [1], [3], [6], [3], [6], [4], [3], [3], [2], [5], [4], [1], [0], [3], [2], [3], [1], [0], [2], [6], [5], [4], [4], [3], [3], [6], [4], [0], [3], [4], [6], [5], [3], [2], [3], [1], [6], [6], [1], [0], [6]], \"dtype\": \"int8\", \"shape\": [123, 1], \"Corder\": true}'"
            ],
            "application/vnd.google.colaboratory.intrinsic+json": {
              "type": "string"
            }
          },
          "metadata": {},
          "execution_count": 14
        }
      ]
    },
    {
      "cell_type": "code",
      "source": [
        "# Loading x_test, y_test json files, and converting to np.arrays\n",
        "\n",
        "x_test = load(processed_path + 'x_test_data.json')\n",
        "x_test = np.asarray(x_test).astype('float32')\n",
        "\n",
        "y_test = load(processed_path + 'y_test_data.json')\n",
        "y_test = np.asarray(y_test).astype('int8')\n",
        "\n",
        "y_test_class = tf.keras.utils.to_categorical(y_test, 7, dtype = 'int8')"
      ],
      "metadata": {
        "id": "kAFBRsmk5dzm"
      },
      "execution_count": 15,
      "outputs": []
    },
    {
      "cell_type": "code",
      "source": [
        "X.shape"
      ],
      "metadata": {
        "id": "15joCR4gu4r7",
        "colab": {
          "base_uri": "https://localhost:8080/"
        },
        "outputId": "2f80ca7c-bb3f-41f3-b6fd-0751f4257a33"
      },
      "execution_count": 16,
      "outputs": [
        {
          "output_type": "execute_result",
          "data": {
            "text/plain": [
              "(1344, 448, 15)"
            ]
          },
          "metadata": {},
          "execution_count": 16
        }
      ]
    },
    {
      "cell_type": "code",
      "source": [
        "X.shape[1:3]"
      ],
      "metadata": {
        "colab": {
          "base_uri": "https://localhost:8080/"
        },
        "id": "8MQhoPKjEzi4",
        "outputId": "b012f59f-f8e4-409c-ab61-e18f914a0101"
      },
      "execution_count": 17,
      "outputs": [
        {
          "output_type": "execute_result",
          "data": {
            "text/plain": [
              "(448, 15)"
            ]
          },
          "metadata": {},
          "execution_count": 17
        }
      ]
    },
    {
      "cell_type": "markdown",
      "source": [
        "# RNN Model"
      ],
      "metadata": {
        "id": "gnWVMbR6KixC"
      }
    },
    {
      "cell_type": "code",
      "source": [
        "tic"
      ],
      "metadata": {
        "colab": {
          "base_uri": "https://localhost:8080/"
        },
        "id": "7CHZWdfcN8oo",
        "outputId": "caeed7ed-2728-40a2-920f-2372a92331ff"
      },
      "execution_count": 18,
      "outputs": [
        {
          "output_type": "execute_result",
          "data": {
            "text/plain": [
              "276.114183287"
            ]
          },
          "metadata": {},
          "execution_count": 18
        }
      ]
    },
    {
      "cell_type": "markdown",
      "source": [
        "## Define Model & Training"
      ],
      "metadata": {
        "id": "GJjJYnJQORJ8"
      }
    },
    {
      "cell_type": "code",
      "source": [
        "# Initializing the model\n",
        "\n",
        "model = Sequential()\n",
        "model.add(layers.LSTM(64, return_sequences = True, input_shape=(X.shape[1:3])))\n",
        "model.add(layers.LSTM(64))\n",
        "model.add(Dropout(0.05))\n",
        "model.add(layers.Dense(7, activation = 'softmax'))\n",
        "print(model.summary())\n",
        "\n",
        "batch_size = 23\n",
        "\n",
        "# Callbacks functions\n",
        "\n",
        "#-> EearlyStopping\n",
        "es = EarlyStopping(monitor='val_loss', mode='min', verbose=1,\n",
        "                    patience=10, min_delta=0.0001)\n",
        "\n",
        "\n",
        "#-> Save the best weights\n",
        "mcp_save = callbacks.ModelCheckpoint(checkpoint_path, save_best_only=True,\n",
        "                           monitor='val_categorical_accuracy',\n",
        "                           mode='max')\n",
        "#-> Reduce learning rate after 100 epoches without improvement.\n",
        "rlrop = callbacks.ReduceLROnPlateau(monitor='val_categorical_accuracy', \n",
        "                                    factor=0.1, patience=20)\n",
        "                             \n",
        "# Compile & train   \n",
        "model.compile(loss='categorical_crossentropy', \n",
        "                optimizer='RMSProp', \n",
        "                metrics=['categorical_accuracy'])\n",
        "\n",
        "\n"
      ],
      "metadata": {
        "colab": {
          "base_uri": "https://localhost:8080/"
        },
        "id": "aD2adyVGOJs4",
        "outputId": "626ab929-b7b4-4023-c35e-c0a1f2a971b6"
      },
      "execution_count": 19,
      "outputs": [
        {
          "output_type": "stream",
          "name": "stdout",
          "text": [
            "Model: \"sequential\"\n",
            "_________________________________________________________________\n",
            " Layer (type)                Output Shape              Param #   \n",
            "=================================================================\n",
            " lstm (LSTM)                 (None, 448, 64)           20480     \n",
            "                                                                 \n",
            " lstm_1 (LSTM)               (None, 64)                33024     \n",
            "                                                                 \n",
            " dropout (Dropout)           (None, 64)                0         \n",
            "                                                                 \n",
            " dense (Dense)               (None, 7)                 455       \n",
            "                                                                 \n",
            "=================================================================\n",
            "Total params: 53,959\n",
            "Trainable params: 53,959\n",
            "Non-trainable params: 0\n",
            "_________________________________________________________________\n",
            "None\n"
          ]
        }
      ]
    },
    {
      "cell_type": "code",
      "source": [
        "history = model.fit(x_train, y_train_class, \n",
        "                      epochs=340, batch_size = batch_size, \n",
        "                      validation_data = (x_val, y_val_class), \n",
        "                      callbacks = [es, mcp_save, rlrop])\n",
        "toc = time.perf_counter()"
      ],
      "metadata": {
        "colab": {
          "base_uri": "https://localhost:8080/"
        },
        "id": "Da7Gc9x_izth",
        "outputId": "ce5aaab2-69ce-4013-8588-713241e5fc6c"
      },
      "execution_count": 20,
      "outputs": [
        {
          "output_type": "stream",
          "name": "stdout",
          "text": [
            "Epoch 1/340\n",
            "41/41 [==============================] - 26s 524ms/step - loss: 1.9688 - categorical_accuracy: 0.1436 - val_loss: 1.9519 - val_categorical_accuracy: 0.1708 - lr: 0.0010\n",
            "Epoch 2/340\n",
            "41/41 [==============================] - 20s 478ms/step - loss: 1.9376 - categorical_accuracy: 0.1840 - val_loss: 1.9148 - val_categorical_accuracy: 0.2028 - lr: 0.0010\n",
            "Epoch 3/340\n",
            "41/41 [==============================] - 19s 472ms/step - loss: 1.8830 - categorical_accuracy: 0.2106 - val_loss: 1.9635 - val_categorical_accuracy: 0.1886 - lr: 0.0010\n",
            "Epoch 4/340\n",
            "41/41 [==============================] - 21s 510ms/step - loss: 1.8675 - categorical_accuracy: 0.2330 - val_loss: 1.8855 - val_categorical_accuracy: 0.2705 - lr: 0.0010\n",
            "Epoch 5/340\n",
            "41/41 [==============================] - 19s 469ms/step - loss: 1.8564 - categorical_accuracy: 0.2309 - val_loss: 1.9110 - val_categorical_accuracy: 0.1993 - lr: 0.0010\n",
            "Epoch 6/340\n",
            "41/41 [==============================] - 19s 468ms/step - loss: 1.8418 - categorical_accuracy: 0.2372 - val_loss: 1.8988 - val_categorical_accuracy: 0.2135 - lr: 0.0010\n",
            "Epoch 7/340\n",
            "41/41 [==============================] - 19s 474ms/step - loss: 1.8311 - categorical_accuracy: 0.2149 - val_loss: 1.8826 - val_categorical_accuracy: 0.2456 - lr: 0.0010\n",
            "Epoch 8/340\n",
            "41/41 [==============================] - 19s 457ms/step - loss: 1.8329 - categorical_accuracy: 0.2170 - val_loss: 1.8877 - val_categorical_accuracy: 0.2384 - lr: 0.0010\n",
            "Epoch 9/340\n",
            "41/41 [==============================] - 20s 500ms/step - loss: 1.8070 - categorical_accuracy: 0.2755 - val_loss: 1.9141 - val_categorical_accuracy: 0.1779 - lr: 0.0010\n",
            "Epoch 10/340\n",
            "41/41 [==============================] - 20s 480ms/step - loss: 1.8144 - categorical_accuracy: 0.2372 - val_loss: 1.8505 - val_categorical_accuracy: 0.2633 - lr: 0.0010\n",
            "Epoch 11/340\n",
            "41/41 [==============================] - 20s 482ms/step - loss: 1.8027 - categorical_accuracy: 0.2468 - val_loss: 1.8627 - val_categorical_accuracy: 0.2420 - lr: 0.0010\n",
            "Epoch 12/340\n",
            "41/41 [==============================] - 20s 479ms/step - loss: 1.7996 - categorical_accuracy: 0.2500 - val_loss: 1.8777 - val_categorical_accuracy: 0.2669 - lr: 0.0010\n",
            "Epoch 13/340\n",
            "41/41 [==============================] - 20s 485ms/step - loss: 1.7994 - categorical_accuracy: 0.2511 - val_loss: 1.8557 - val_categorical_accuracy: 0.2776 - lr: 0.0010\n",
            "Epoch 14/340\n",
            "41/41 [==============================] - 20s 478ms/step - loss: 1.7893 - categorical_accuracy: 0.2660 - val_loss: 1.8817 - val_categorical_accuracy: 0.2491 - lr: 0.0010\n",
            "Epoch 15/340\n",
            "41/41 [==============================] - 21s 502ms/step - loss: 1.7797 - categorical_accuracy: 0.2670 - val_loss: 1.8447 - val_categorical_accuracy: 0.2491 - lr: 0.0010\n",
            "Epoch 16/340\n",
            "41/41 [==============================] - 20s 482ms/step - loss: 1.7580 - categorical_accuracy: 0.2585 - val_loss: 1.8206 - val_categorical_accuracy: 0.2491 - lr: 0.0010\n",
            "Epoch 17/340\n",
            "41/41 [==============================] - 19s 473ms/step - loss: 1.7507 - categorical_accuracy: 0.2660 - val_loss: 1.8196 - val_categorical_accuracy: 0.2740 - lr: 0.0010\n",
            "Epoch 18/340\n",
            "41/41 [==============================] - 20s 478ms/step - loss: 1.7319 - categorical_accuracy: 0.2766 - val_loss: 1.8160 - val_categorical_accuracy: 0.2349 - lr: 0.0010\n",
            "Epoch 19/340\n",
            "41/41 [==============================] - 20s 491ms/step - loss: 1.7288 - categorical_accuracy: 0.2574 - val_loss: 1.8051 - val_categorical_accuracy: 0.2847 - lr: 0.0010\n",
            "Epoch 20/340\n",
            "41/41 [==============================] - 20s 483ms/step - loss: 1.7350 - categorical_accuracy: 0.2681 - val_loss: 1.8588 - val_categorical_accuracy: 0.2456 - lr: 0.0010\n",
            "Epoch 21/340\n",
            "41/41 [==============================] - 20s 484ms/step - loss: 1.7225 - categorical_accuracy: 0.2862 - val_loss: 1.8354 - val_categorical_accuracy: 0.2527 - lr: 0.0010\n",
            "Epoch 22/340\n",
            "41/41 [==============================] - 19s 476ms/step - loss: 1.7155 - categorical_accuracy: 0.2915 - val_loss: 1.7813 - val_categorical_accuracy: 0.2669 - lr: 0.0010\n",
            "Epoch 23/340\n",
            "41/41 [==============================] - 20s 483ms/step - loss: 1.7283 - categorical_accuracy: 0.2915 - val_loss: 1.8032 - val_categorical_accuracy: 0.2883 - lr: 0.0010\n",
            "Epoch 24/340\n",
            "41/41 [==============================] - 20s 480ms/step - loss: 1.7212 - categorical_accuracy: 0.2809 - val_loss: 1.8276 - val_categorical_accuracy: 0.2206 - lr: 0.0010\n",
            "Epoch 25/340\n",
            "41/41 [==============================] - 20s 483ms/step - loss: 1.7204 - categorical_accuracy: 0.2968 - val_loss: 1.7687 - val_categorical_accuracy: 0.3310 - lr: 0.0010\n",
            "Epoch 26/340\n",
            "41/41 [==============================] - 20s 478ms/step - loss: 1.7140 - categorical_accuracy: 0.3223 - val_loss: 1.7738 - val_categorical_accuracy: 0.2989 - lr: 0.0010\n",
            "Epoch 27/340\n",
            "41/41 [==============================] - 20s 481ms/step - loss: 1.7006 - categorical_accuracy: 0.3128 - val_loss: 1.7691 - val_categorical_accuracy: 0.3025 - lr: 0.0010\n",
            "Epoch 28/340\n",
            "41/41 [==============================] - 19s 473ms/step - loss: 1.6899 - categorical_accuracy: 0.3011 - val_loss: 1.7801 - val_categorical_accuracy: 0.2989 - lr: 0.0010\n",
            "Epoch 29/340\n",
            "41/41 [==============================] - 20s 479ms/step - loss: 1.7020 - categorical_accuracy: 0.2936 - val_loss: 1.7572 - val_categorical_accuracy: 0.3060 - lr: 0.0010\n",
            "Epoch 30/340\n",
            "41/41 [==============================] - 20s 479ms/step - loss: 1.7121 - categorical_accuracy: 0.3085 - val_loss: 1.8276 - val_categorical_accuracy: 0.2954 - lr: 0.0010\n",
            "Epoch 31/340\n",
            "41/41 [==============================] - 20s 476ms/step - loss: 1.7075 - categorical_accuracy: 0.3043 - val_loss: 1.8416 - val_categorical_accuracy: 0.2705 - lr: 0.0010\n",
            "Epoch 32/340\n",
            "41/41 [==============================] - 20s 480ms/step - loss: 1.7090 - categorical_accuracy: 0.3170 - val_loss: 1.8000 - val_categorical_accuracy: 0.2705 - lr: 0.0010\n",
            "Epoch 33/340\n",
            "41/41 [==============================] - 20s 484ms/step - loss: 1.6915 - categorical_accuracy: 0.2989 - val_loss: 1.7802 - val_categorical_accuracy: 0.3381 - lr: 0.0010\n",
            "Epoch 34/340\n",
            "41/41 [==============================] - 19s 471ms/step - loss: 1.7026 - categorical_accuracy: 0.3011 - val_loss: 1.7986 - val_categorical_accuracy: 0.2918 - lr: 0.0010\n",
            "Epoch 35/340\n",
            "41/41 [==============================] - 19s 474ms/step - loss: 1.7102 - categorical_accuracy: 0.2862 - val_loss: 1.7929 - val_categorical_accuracy: 0.2562 - lr: 0.0010\n",
            "Epoch 36/340\n",
            "41/41 [==============================] - 20s 478ms/step - loss: 1.7088 - categorical_accuracy: 0.3021 - val_loss: 1.8162 - val_categorical_accuracy: 0.2883 - lr: 0.0010\n",
            "Epoch 37/340\n",
            "41/41 [==============================] - 19s 472ms/step - loss: 1.7039 - categorical_accuracy: 0.2979 - val_loss: 1.8052 - val_categorical_accuracy: 0.2918 - lr: 0.0010\n",
            "Epoch 38/340\n",
            "41/41 [==============================] - 19s 473ms/step - loss: 1.6868 - categorical_accuracy: 0.3298 - val_loss: 1.7591 - val_categorical_accuracy: 0.2918 - lr: 0.0010\n",
            "Epoch 39/340\n",
            "41/41 [==============================] - 19s 468ms/step - loss: 1.6911 - categorical_accuracy: 0.3202 - val_loss: 1.7536 - val_categorical_accuracy: 0.3096 - lr: 0.0010\n",
            "Epoch 40/340\n",
            "41/41 [==============================] - 19s 468ms/step - loss: 1.7198 - categorical_accuracy: 0.2968 - val_loss: 1.8830 - val_categorical_accuracy: 0.1637 - lr: 0.0010\n",
            "Epoch 41/340\n",
            "41/41 [==============================] - 19s 474ms/step - loss: 1.7331 - categorical_accuracy: 0.2979 - val_loss: 1.8597 - val_categorical_accuracy: 0.2313 - lr: 0.0010\n",
            "Epoch 42/340\n",
            "41/41 [==============================] - 19s 475ms/step - loss: 1.7155 - categorical_accuracy: 0.3064 - val_loss: 1.7581 - val_categorical_accuracy: 0.3060 - lr: 0.0010\n",
            "Epoch 43/340\n",
            "41/41 [==============================] - 19s 473ms/step - loss: 1.6831 - categorical_accuracy: 0.3170 - val_loss: 1.7407 - val_categorical_accuracy: 0.3274 - lr: 0.0010\n",
            "Epoch 44/340\n",
            "41/41 [==============================] - 20s 478ms/step - loss: 1.6681 - categorical_accuracy: 0.3191 - val_loss: 1.7744 - val_categorical_accuracy: 0.2776 - lr: 0.0010\n",
            "Epoch 45/340\n",
            "41/41 [==============================] - 19s 469ms/step - loss: 1.6919 - categorical_accuracy: 0.3000 - val_loss: 1.7622 - val_categorical_accuracy: 0.3132 - lr: 0.0010\n",
            "Epoch 46/340\n",
            "41/41 [==============================] - 19s 467ms/step - loss: 1.6980 - categorical_accuracy: 0.3234 - val_loss: 1.8217 - val_categorical_accuracy: 0.3025 - lr: 0.0010\n",
            "Epoch 47/340\n",
            "41/41 [==============================] - 19s 473ms/step - loss: 1.6837 - categorical_accuracy: 0.2989 - val_loss: 1.7470 - val_categorical_accuracy: 0.2811 - lr: 0.0010\n",
            "Epoch 48/340\n",
            "41/41 [==============================] - 19s 464ms/step - loss: 1.6706 - categorical_accuracy: 0.3149 - val_loss: 1.7325 - val_categorical_accuracy: 0.3345 - lr: 0.0010\n",
            "Epoch 49/340\n",
            "41/41 [==============================] - 19s 470ms/step - loss: 1.6696 - categorical_accuracy: 0.3117 - val_loss: 1.7650 - val_categorical_accuracy: 0.3310 - lr: 0.0010\n",
            "Epoch 50/340\n",
            "41/41 [==============================] - 20s 480ms/step - loss: 1.7112 - categorical_accuracy: 0.3266 - val_loss: 1.7922 - val_categorical_accuracy: 0.2883 - lr: 0.0010\n",
            "Epoch 51/340\n",
            "41/41 [==============================] - 19s 472ms/step - loss: 1.6782 - categorical_accuracy: 0.3245 - val_loss: 1.7497 - val_categorical_accuracy: 0.3025 - lr: 0.0010\n",
            "Epoch 52/340\n",
            "41/41 [==============================] - 19s 475ms/step - loss: 1.7098 - categorical_accuracy: 0.3128 - val_loss: 1.7957 - val_categorical_accuracy: 0.2669 - lr: 0.0010\n",
            "Epoch 53/340\n",
            "41/41 [==============================] - 20s 478ms/step - loss: 1.6842 - categorical_accuracy: 0.3160 - val_loss: 1.7149 - val_categorical_accuracy: 0.3167 - lr: 0.0010\n",
            "Epoch 54/340\n",
            "41/41 [==============================] - 20s 479ms/step - loss: 1.6416 - categorical_accuracy: 0.3489 - val_loss: 1.6875 - val_categorical_accuracy: 0.3488 - lr: 1.0000e-04\n",
            "Epoch 55/340\n",
            "41/41 [==============================] - 20s 489ms/step - loss: 1.6076 - categorical_accuracy: 0.3543 - val_loss: 1.6828 - val_categorical_accuracy: 0.3594 - lr: 1.0000e-04\n",
            "Epoch 56/340\n",
            "41/41 [==============================] - 19s 473ms/step - loss: 1.5831 - categorical_accuracy: 0.3702 - val_loss: 1.7203 - val_categorical_accuracy: 0.3345 - lr: 1.0000e-04\n",
            "Epoch 57/340\n",
            "41/41 [==============================] - 19s 474ms/step - loss: 1.5697 - categorical_accuracy: 0.3926 - val_loss: 1.6994 - val_categorical_accuracy: 0.3452 - lr: 1.0000e-04\n",
            "Epoch 58/340\n",
            "41/41 [==============================] - 19s 466ms/step - loss: 1.5673 - categorical_accuracy: 0.3798 - val_loss: 1.6969 - val_categorical_accuracy: 0.3345 - lr: 1.0000e-04\n",
            "Epoch 59/340\n",
            "41/41 [==============================] - 19s 460ms/step - loss: 1.5605 - categorical_accuracy: 0.3915 - val_loss: 1.7002 - val_categorical_accuracy: 0.3310 - lr: 1.0000e-04\n",
            "Epoch 60/340\n",
            "41/41 [==============================] - 19s 472ms/step - loss: 1.5593 - categorical_accuracy: 0.3830 - val_loss: 1.6990 - val_categorical_accuracy: 0.3559 - lr: 1.0000e-04\n",
            "Epoch 61/340\n",
            "41/41 [==============================] - 19s 473ms/step - loss: 1.5568 - categorical_accuracy: 0.3798 - val_loss: 1.6929 - val_categorical_accuracy: 0.3523 - lr: 1.0000e-04\n",
            "Epoch 62/340\n",
            "41/41 [==============================] - 20s 484ms/step - loss: 1.5526 - categorical_accuracy: 0.3947 - val_loss: 1.6887 - val_categorical_accuracy: 0.3488 - lr: 1.0000e-04\n",
            "Epoch 63/340\n",
            "41/41 [==============================] - 19s 472ms/step - loss: 1.5483 - categorical_accuracy: 0.4043 - val_loss: 1.6934 - val_categorical_accuracy: 0.3452 - lr: 1.0000e-04\n",
            "Epoch 64/340\n",
            "41/41 [==============================] - 20s 477ms/step - loss: 1.5428 - categorical_accuracy: 0.4032 - val_loss: 1.7201 - val_categorical_accuracy: 0.3416 - lr: 1.0000e-04\n",
            "Epoch 65/340\n",
            "41/41 [==============================] - 20s 481ms/step - loss: 1.5482 - categorical_accuracy: 0.4074 - val_loss: 1.6933 - val_categorical_accuracy: 0.3523 - lr: 1.0000e-04\n",
            "Epoch 65: early stopping\n"
          ]
        }
      ]
    },
    {
      "cell_type": "code",
      "source": [
        ""
      ],
      "metadata": {
        "id": "3MekXCZHizyZ"
      },
      "execution_count": 20,
      "outputs": []
    },
    {
      "cell_type": "code",
      "source": [
        "print(f\"Running time: {(toc - tic)/60:0.4f} minutes\")"
      ],
      "metadata": {
        "id": "cHmSBRhVOELJ",
        "colab": {
          "base_uri": "https://localhost:8080/"
        },
        "outputId": "d4ce74fb-fae1-4667-cbcb-772008556907"
      },
      "execution_count": 21,
      "outputs": [
        {
          "output_type": "stream",
          "name": "stdout",
          "text": [
            "Running time: 22.1749 minutes\n"
          ]
        }
      ]
    },
    {
      "cell_type": "markdown",
      "source": [
        "## Loading Model"
      ],
      "metadata": {
        "id": "jCQelzMAKixD"
      }
    },
    {
      "cell_type": "code",
      "source": [
        "# Define the best weights to the model.\\\n",
        "#model.load_weights(checkpoint_path)"
      ],
      "metadata": {
        "id": "gruZAW2wI-tO"
      },
      "execution_count": 22,
      "outputs": []
    },
    {
      "cell_type": "markdown",
      "source": [
        "# Evaluation"
      ],
      "metadata": {
        "id": "kDxTjEK0KixD"
      }
    },
    {
      "cell_type": "markdown",
      "source": [
        "## Save & Load model, weights"
      ],
      "metadata": {
        "id": "1YfguG0tPatV"
      }
    },
    {
      "cell_type": "code",
      "source": [
        "# Saving model & weights\n",
        "model_json = model.to_json()\n",
        "\n",
        "\n",
        "\n",
        "with open(saved_model_path, \"w\") as json_file:\n",
        "    json_file.write(model_json)\n",
        "    \n",
        "model.save_weights(saved_weights_path)\n",
        "print(\"Saved model to disk\")"
      ],
      "metadata": {
        "colab": {
          "base_uri": "https://localhost:8080/"
        },
        "id": "MsVoNhqmgGsK",
        "outputId": "e8c584b5-8392-4103-fb1f-074135073179"
      },
      "execution_count": 23,
      "outputs": [
        {
          "output_type": "stream",
          "name": "stdout",
          "text": [
            "Saved model to disk\n"
          ]
        }
      ]
    },
    {
      "cell_type": "code",
      "source": [
        "# Reading the model from JSON file\n",
        "#model_path = Ravdess + \"/model/\"\n",
        "#saved_model_path = model_path + 'model8723.json'\n",
        "#saved_weights_path = model_path + 'model8723_weights.h5'\n",
        "\n",
        "\n",
        "with open(saved_model_path , 'r') as json_file:\n",
        "    json_savedModel = json_file.read()\n",
        "    \n",
        "# Loading the model architecture, weights\n",
        "model = tf.keras.models.model_from_json(json_savedModel)\n",
        "model.load_weights(saved_weights_path)\n",
        "\n",
        "# Compiling the model with similar parameters as the original model.\n",
        "model.compile(loss='categorical_crossentropy', \n",
        "                optimizer='RMSProp', \n",
        "                metrics=['categorical_accuracy'])\n",
        "\n",
        "# Model's structure visualization\n",
        "tf.keras.utils.plot_model(model, to_file='model.png', show_shapes=True, show_layer_names=True)"
      ],
      "metadata": {
        "colab": {
          "base_uri": "https://localhost:8080/",
          "height": 533
        },
        "id": "y4OJGhLmgfX6",
        "outputId": "a9991122-33dd-44c0-e802-607929cf2158"
      },
      "execution_count": 24,
      "outputs": [
        {
          "output_type": "execute_result",
          "data": {
            "text/plain": [
              "<IPython.core.display.Image object>"
            ],
            "image/png": "[encoded data removed]"
          },
          "metadata": {},
          "execution_count": 24
        }
      ]
    },
    {
      "cell_type": "code",
      "source": [
        ""
      ],
      "metadata": {
        "id": "B_SW6eUAgvEj"
      },
      "execution_count": 24,
      "outputs": []
    },
    {
      "cell_type": "code",
      "source": [
        ""
      ],
      "metadata": {
        "id": "cCfkUXTYgzSB"
      },
      "execution_count": 24,
      "outputs": []
    },
    {
      "cell_type": "code",
      "source": [
        "model.save(saved_model_path_2)"
      ],
      "metadata": {
        "trusted": true,
        "id": "Z5Uzb_bGKixE"
      },
      "execution_count": 25,
      "outputs": []
    },
    {
      "cell_type": "markdown",
      "source": [
        "## Train (fit) Visualization"
      ],
      "metadata": {
        "id": "ATvBW0SPO-eq"
      }
    },
    {
      "cell_type": "code",
      "source": [
        "# Loss, Accuracy presentation\n",
        "\n",
        "# Plot history: Loss\n",
        "plt.plot(history.history['loss'], label='Loss (training data)')\n",
        "plt.plot(history.history['val_loss'], label='Loss (validation data)')\n",
        "plt.title('Loss for train and validation')\n",
        "plt.ylabel('Loss value')\n",
        "plt.xlabel('No. epoch')\n",
        "plt.legend(loc=\"upper left\")\n",
        "plt.show()\n",
        "\n",
        "#Plot history: Accuracy\n",
        "plt.plot(history.history['categorical_accuracy'], label='Acc (training data)')\n",
        "plt.plot(history.history['val_categorical_accuracy'], label='Acc (validation data)')\n",
        "plt.title('Model accuracy')\n",
        "plt.ylabel('Acc %')\n",
        "plt.xlabel('No. epoch')\n",
        "plt.legend(loc=\"upper left\")\n",
        "plt.show()"
      ],
      "metadata": {
        "colab": {
          "base_uri": "https://localhost:8080/",
          "height": 573
        },
        "id": "UjhUHhU_f4EY",
        "outputId": "1990ca7a-17e0-41fe-e25b-efa2b89e127a"
      },
      "execution_count": 26,
      "outputs": [
        {
          "output_type": "display_data",
          "data": {
            "text/plain": [
              "<Figure size 432x288 with 1 Axes>"
            ],
            "image/png": "[encoded data removed]"
          },
          "metadata": {
            "needs_background": "light"
          }
        },
        {
          "output_type": "display_data",
          "data": {
            "text/plain": [
              "<Figure size 432x288 with 1 Axes>"
            ],
            "image/png": "[encoded data removed]"
          },
          "metadata": {
            "needs_background": "light"
          }
        }
      ]
    },
    {
      "cell_type": "markdown",
      "source": [
        "## Validation Set Evaluation"
      ],
      "metadata": {
        "id": "UZ3lFduxPQeB"
      }
    },
    {
      "cell_type": "markdown",
      "source": [
        "### Val Set Score"
      ],
      "metadata": {
        "id": "5YoYCa22PMGz"
      }
    },
    {
      "cell_type": "code",
      "source": [
        ""
      ],
      "metadata": {
        "id": "jQavrzbB_8fy"
      },
      "execution_count": 26,
      "outputs": []
    },
    {
      "cell_type": "code",
      "source": [
        "# Validation score\n",
        "loss,acc = model.evaluate(x_val, y_val_class, verbose=2)\n"
      ],
      "metadata": {
        "id": "X_KdTUyrf7-j",
        "colab": {
          "base_uri": "https://localhost:8080/"
        },
        "outputId": "bcd534bd-48a5-4a89-9afc-35b2dcaf1d77"
      },
      "execution_count": 27,
      "outputs": [
        {
          "output_type": "stream",
          "name": "stdout",
          "text": [
            "9/9 - 2s - loss: 1.6933 - categorical_accuracy: 0.3523 - 2s/epoch - 226ms/step\n"
          ]
        }
      ]
    },
    {
      "cell_type": "code",
      "source": [
        ""
      ],
      "metadata": {
        "id": "09k_I9DM_2Q0"
      },
      "execution_count": 27,
      "outputs": []
    },
    {
      "cell_type": "markdown",
      "source": [
        "### Construct Predicted Labels based on Probability of each class"
      ],
      "metadata": {
        "id": "hz7nc15A_3hb"
      }
    },
    {
      "cell_type": "code",
      "source": [
        "y_val_class"
      ],
      "metadata": {
        "colab": {
          "base_uri": "https://localhost:8080/"
        },
        "id": "CFM1P2SZ_85N",
        "outputId": "3e96ae24-abac-4cde-ff5d-83cfc2f3d01d"
      },
      "execution_count": 28,
      "outputs": [
        {
          "output_type": "execute_result",
          "data": {
            "text/plain": [
              "array([[0, 0, 0, ..., 0, 0, 1],\n",
              "       [0, 1, 0, ..., 0, 0, 0],\n",
              "       [0, 0, 0, ..., 0, 1, 0],\n",
              "       ...,\n",
              "       [0, 0, 0, ..., 0, 0, 1],\n",
              "       [0, 0, 0, ..., 0, 0, 1],\n",
              "       [0, 0, 1, ..., 0, 0, 0]], dtype=int8)"
            ]
          },
          "metadata": {},
          "execution_count": 28
        }
      ]
    },
    {
      "cell_type": "code",
      "source": [
        "np.argmax(y_val_class, axis=1)"
      ],
      "metadata": {
        "colab": {
          "base_uri": "https://localhost:8080/"
        },
        "id": "C9UHSeXbAASy",
        "outputId": "b8f0edee-8eb3-453e-e883-6196d33547f4"
      },
      "execution_count": 29,
      "outputs": [
        {
          "output_type": "execute_result",
          "data": {
            "text/plain": [
              "array([6, 1, 5, 3, 5, 5, 2, 5, 0, 4, 5, 1, 5, 5, 2, 1, 0, 1, 4, 5, 3, 6,\n",
              "       0, 2, 2, 4, 6, 5, 1, 4, 0, 5, 2, 3, 1, 6, 5, 2, 1, 0, 3, 4, 0, 5,\n",
              "       3, 3, 0, 6, 4, 6, 0, 3, 3, 3, 4, 5, 3, 2, 3, 6, 1, 0, 3, 2, 4, 4,\n",
              "       6, 2, 4, 0, 5, 5, 1, 2, 0, 5, 5, 3, 4, 6, 4, 2, 2, 3, 6, 0, 0, 3,\n",
              "       2, 5, 1, 4, 1, 0, 6, 3, 6, 1, 2, 6, 6, 2, 0, 5, 1, 5, 4, 0, 5, 2,\n",
              "       0, 5, 0, 6, 2, 3, 3, 2, 2, 2, 0, 1, 5, 2, 5, 3, 2, 0, 3, 3, 3, 2,\n",
              "       0, 3, 0, 6, 3, 3, 3, 1, 0, 3, 6, 5, 6, 4, 0, 2, 6, 2, 1, 1, 4, 6,\n",
              "       0, 2, 1, 1, 3, 0, 6, 6, 2, 0, 1, 5, 5, 4, 5, 5, 0, 2, 4, 4, 6, 4,\n",
              "       3, 6, 2, 3, 2, 3, 0, 1, 0, 3, 1, 5, 2, 1, 6, 0, 4, 1, 6, 2, 0, 0,\n",
              "       6, 0, 0, 2, 5, 5, 1, 2, 3, 2, 2, 2, 4, 3, 5, 3, 1, 0, 2, 0, 2, 4,\n",
              "       6, 1, 0, 6, 5, 6, 4, 0, 0, 4, 5, 3, 2, 6, 2, 6, 3, 5, 3, 1, 5, 6,\n",
              "       5, 1, 2, 1, 6, 0, 5, 3, 2, 1, 6, 3, 0, 1, 3, 6, 3, 2, 2, 4, 6, 4,\n",
              "       3, 2, 2, 5, 5, 4, 1, 3, 6, 5, 3, 0, 3, 4, 6, 6, 2])"
            ]
          },
          "metadata": {},
          "execution_count": 29
        }
      ]
    },
    {
      "cell_type": "code",
      "source": [
        "y_val_class = np.argmax(y_val_class, axis=1)\n",
        "predictions_val = model.predict(x_val)\n",
        "y_proba_val_class = predictions_val\n",
        "y_pred_val_class = np.argmax(predictions_val, axis=1)"
      ],
      "metadata": {
        "id": "urjydD-38JK7"
      },
      "execution_count": 30,
      "outputs": []
    },
    {
      "cell_type": "code",
      "source": [
        "predictions_val\n"
      ],
      "metadata": {
        "colab": {
          "base_uri": "https://localhost:8080/"
        },
        "id": "Zb7dGRs3AEJn",
        "outputId": "68dc5731-046e-4508-b82b-323a22c9a5c3"
      },
      "execution_count": 31,
      "outputs": [
        {
          "output_type": "execute_result",
          "data": {
            "text/plain": [
              "array([[0.03784479, 0.08781859, 0.17339352, ..., 0.06299172, 0.25748166,\n",
              "        0.17739594],\n",
              "       [0.00778019, 0.10236781, 0.1078205 , ..., 0.13265406, 0.10417129,\n",
              "        0.20280357],\n",
              "       [0.03063343, 0.05713896, 0.1479143 , ..., 0.04088183, 0.33678055,\n",
              "        0.12596515],\n",
              "       ...,\n",
              "       [0.44029474, 0.14367367, 0.17935261, ..., 0.12729819, 0.0445297 ,\n",
              "        0.05442347],\n",
              "       [0.00738439, 0.09383229, 0.10704018, ..., 0.12330927, 0.11128201,\n",
              "        0.19175358],\n",
              "       [0.04390952, 0.35764444, 0.08661194, ..., 0.3274398 , 0.02361439,\n",
              "        0.12985991]], dtype=float32)"
            ]
          },
          "metadata": {},
          "execution_count": 31
        }
      ]
    },
    {
      "cell_type": "code",
      "source": [
        "y_pred_val_class "
      ],
      "metadata": {
        "colab": {
          "base_uri": "https://localhost:8080/"
        },
        "id": "KxHa1Ss1AJo4",
        "outputId": "5d72b438-f545-4fcb-c676-ae758feba126"
      },
      "execution_count": 32,
      "outputs": [
        {
          "output_type": "execute_result",
          "data": {
            "text/plain": [
              "array([5, 3, 5, 3, 4, 6, 5, 6, 0, 1, 5, 5, 0, 5, 0, 4, 0, 1, 1, 5, 1, 3,\n",
              "       0, 0, 3, 5, 3, 5, 1, 4, 0, 6, 6, 5, 3, 3, 3, 4, 4, 0, 3, 5, 0, 5,\n",
              "       6, 3, 5, 6, 4, 4, 0, 6, 0, 3, 1, 0, 3, 1, 3, 3, 4, 3, 5, 0, 6, 4,\n",
              "       5, 3, 1, 0, 5, 0, 1, 5, 0, 5, 5, 3, 3, 0, 3, 2, 0, 3, 3, 0, 6, 0,\n",
              "       5, 5, 1, 6, 0, 0, 1, 3, 4, 5, 1, 6, 5, 3, 5, 0, 3, 4, 4, 0, 3, 0,\n",
              "       0, 3, 5, 4, 5, 3, 1, 0, 4, 0, 0, 0, 0, 1, 5, 3, 4, 5, 3, 4, 3, 5,\n",
              "       0, 3, 6, 1, 3, 6, 3, 0, 5, 5, 6, 5, 0, 4, 0, 5, 3, 5, 4, 0, 3, 1,\n",
              "       5, 0, 4, 5, 3, 5, 0, 6, 0, 0, 4, 3, 6, 3, 1, 6, 5, 1, 1, 5, 4, 4,\n",
              "       3, 1, 3, 3, 0, 5, 4, 1, 0, 3, 1, 5, 4, 4, 4, 6, 4, 1, 6, 0, 0, 5,\n",
              "       4, 6, 6, 0, 5, 5, 1, 3, 5, 4, 0, 5, 6, 5, 3, 3, 0, 0, 0, 0, 3, 0,\n",
              "       4, 1, 0, 4, 5, 4, 0, 0, 5, 0, 0, 3, 0, 6, 0, 4, 3, 3, 3, 1, 6, 3,\n",
              "       3, 5, 5, 0, 4, 0, 4, 3, 0, 6, 3, 6, 0, 1, 4, 4, 3, 3, 0, 4, 3, 1,\n",
              "       3, 1, 3, 0, 5, 4, 0, 3, 0, 5, 3, 5, 4, 1, 0, 3, 1])"
            ]
          },
          "metadata": {},
          "execution_count": 32
        }
      ]
    },
    {
      "cell_type": "markdown",
      "source": [
        "### Val Set Confusion Matrix and Heatmap"
      ],
      "metadata": {
        "id": "d2ullxf9PUMd"
      }
    },
    {
      "cell_type": "code",
      "source": [
        "# Validation Confusion matrix\n",
        "cm=confusion_matrix(y_val_class, y_pred_val_class)\n",
        "\n",
        "index = ['calm', 'happy', 'sad', 'angry', 'fearful', 'disgust', 'surprised']  \n",
        "columns = ['calm', 'happy', 'sad', 'angry', 'fearful', 'disgust', 'surprised']  \n",
        " \n",
        "cm_df = pd.DataFrame(cm,index,columns)                      \n",
        "plt.figure(figsize=(12,8))\n",
        "ax = plt.axes()\n",
        "\n",
        "sns.heatmap(cm_df, ax = ax, cmap = 'PuBu', fmt=\"d\", annot=True)\n",
        "ax.set_ylabel('True emotion')\n",
        "ax.set_xlabel('Predicted emotion')"
      ],
      "metadata": {
        "colab": {
          "base_uri": "https://localhost:8080/",
          "height": 514
        },
        "id": "doLcg3CTf9bx",
        "outputId": "3704ad5c-ecef-4505-cb32-4ed0c0f401a6"
      },
      "execution_count": 33,
      "outputs": [
        {
          "output_type": "execute_result",
          "data": {
            "text/plain": [
              "Text(0.5, 51.0, 'Predicted emotion')"
            ]
          },
          "metadata": {},
          "execution_count": 33
        },
        {
          "output_type": "display_data",
          "data": {
            "text/plain": [
              "<Figure size 864x576 with 2 Axes>"
            ],
            "image/png": "[encoded data removed]"
          },
          "metadata": {
            "needs_background": "light"
          }
        }
      ]
    },
    {
      "cell_type": "code",
      "source": [
        "# Confusion Matrix\n",
        "cm"
      ],
      "metadata": {
        "colab": {
          "base_uri": "https://localhost:8080/"
        },
        "id": "hIEG9Pia8Nfp",
        "outputId": "ac4d2d1e-6392-448a-b7a4-738e25aebc8d"
      },
      "execution_count": 34,
      "outputs": [
        {
          "output_type": "execute_result",
          "data": {
            "text/plain": [
              "array([[25,  0,  0,  1,  1, 11,  5],\n",
              "       [ 7, 11,  0,  3,  7,  4,  1],\n",
              "       [18,  6,  1,  8,  5,  9,  1],\n",
              "       [ 2,  2,  0, 29,  3,  6,  4],\n",
              "       [ 3,  7,  0,  4,  9,  3,  3],\n",
              "       [ 7,  1,  0,  7,  3, 18,  6],\n",
              "       [ 5,  4,  0, 10, 12,  3,  6]])"
            ]
          },
          "metadata": {},
          "execution_count": 34
        }
      ]
    },
    {
      "cell_type": "markdown",
      "source": [
        "### Validation Set Predicted emotions accuracy"
      ],
      "metadata": {
        "id": "kWjKgUdRPYH5"
      }
    },
    {
      "cell_type": "code",
      "source": [
        "# Validation set prediction accuracy rates\n",
        "\n",
        "values = cm.diagonal()\n",
        "row_sum = np.sum(cm,axis=1)\n",
        "acc = values / row_sum\n",
        "\n",
        "print('Validation set predicted emotions accuracy:')\n",
        "for e in range(0, len(values)):\n",
        "    print(index[e],':', f\"{(acc[e]):0.4f}\")"
      ],
      "metadata": {
        "colab": {
          "base_uri": "https://localhost:8080/"
        },
        "id": "MopdywY9f-mS",
        "outputId": "1d8de6d7-18ee-470a-bf5e-eb0665f6ff6b"
      },
      "execution_count": 35,
      "outputs": [
        {
          "output_type": "stream",
          "name": "stdout",
          "text": [
            "Validation set predicted emotions accuracy:\n",
            "calm : 0.5814\n",
            "happy : 0.3333\n",
            "sad : 0.0208\n",
            "angry : 0.6304\n",
            "fearful : 0.3103\n",
            "disgust : 0.4286\n",
            "surprised : 0.1500\n"
          ]
        }
      ]
    },
    {
      "cell_type": "markdown",
      "source": [
        "### Precision, Recal, Fscore"
      ],
      "metadata": {
        "id": "DGSTy2228XRH"
      }
    },
    {
      "cell_type": "code",
      "source": [
        "# Validation set precision, recall, fscore\n",
        "\n",
        "precision_recall_fscore_support(y_val_class, y_pred_val_class, average='macro')\n"
      ],
      "metadata": {
        "colab": {
          "base_uri": "https://localhost:8080/"
        },
        "id": "rOwUkCG0gGpm",
        "outputId": "d3ec594d-e263-4544-c576-2892eb2a7d9f"
      },
      "execution_count": 36,
      "outputs": [
        {
          "output_type": "execute_result",
          "data": {
            "text/plain": [
              "(0.4264025053745805, 0.35070186489574384, 0.3134052235926682, None)"
            ]
          },
          "metadata": {},
          "execution_count": 36
        }
      ]
    },
    {
      "cell_type": "code",
      "source": [
        "precision_recall_fscore_support(y_val_class, y_pred_val_class, average='weighted')"
      ],
      "metadata": {
        "colab": {
          "base_uri": "https://localhost:8080/"
        },
        "id": "OorFgXxDzy3o",
        "outputId": "042163b0-80b9-4979-ad07-dca6d27353da"
      },
      "execution_count": 37,
      "outputs": [
        {
          "output_type": "execute_result",
          "data": {
            "text/plain": [
              "(0.45205107402770506, 0.35231316725978645, 0.31366561062868065, None)"
            ]
          },
          "metadata": {},
          "execution_count": 37
        }
      ]
    },
    {
      "cell_type": "markdown",
      "source": [
        "## Test Set Evaluation"
      ],
      "metadata": {
        "id": "FiCwOjmPPgCn"
      }
    },
    {
      "cell_type": "markdown",
      "source": [
        "### Test Set Score\n",
        "\n"
      ],
      "metadata": {
        "id": "CWB7U5xDUSmF"
      }
    },
    {
      "cell_type": "code",
      "source": [
        "loss, acc = model.evaluate(x_test, y_test_class, verbose=2)"
      ],
      "metadata": {
        "id": "Y7NEHPM-gzml",
        "colab": {
          "base_uri": "https://localhost:8080/"
        },
        "outputId": "98e97d05-b543-4246-b52d-938da6d11f96"
      },
      "execution_count": 38,
      "outputs": [
        {
          "output_type": "stream",
          "name": "stdout",
          "text": [
            "4/4 - 0s - loss: 1.7011 - categorical_accuracy: 0.3333 - 431ms/epoch - 108ms/step\n"
          ]
        }
      ]
    },
    {
      "cell_type": "markdown",
      "source": [
        "### Construct Predicted Labels based on Probability of each class"
      ],
      "metadata": {
        "id": "gPwcFV9oAhGh"
      }
    },
    {
      "cell_type": "code",
      "source": [
        "y_test_class"
      ],
      "metadata": {
        "colab": {
          "base_uri": "https://localhost:8080/"
        },
        "id": "tjN7Eit7AiML",
        "outputId": "a53a0a92-54f9-4392-946d-266ba09bfd5a"
      },
      "execution_count": 39,
      "outputs": [
        {
          "output_type": "execute_result",
          "data": {
            "text/plain": [
              "array([[0, 0, 0, 0, 0, 0, 1],\n",
              "       [0, 0, 0, 1, 0, 0, 0],\n",
              "       [0, 0, 0, 0, 0, 1, 0],\n",
              "       [0, 0, 0, 0, 1, 0, 0],\n",
              "       [1, 0, 0, 0, 0, 0, 0],\n",
              "       [0, 0, 0, 0, 1, 0, 0],\n",
              "       [0, 0, 0, 0, 0, 1, 0],\n",
              "       [0, 0, 0, 0, 1, 0, 0],\n",
              "       [0, 0, 0, 1, 0, 0, 0],\n",
              "       [0, 0, 0, 0, 0, 0, 1],\n",
              "       [0, 0, 0, 1, 0, 0, 0],\n",
              "       [0, 0, 0, 0, 1, 0, 0],\n",
              "       [1, 0, 0, 0, 0, 0, 0],\n",
              "       [0, 0, 0, 0, 0, 1, 0],\n",
              "       [0, 0, 0, 1, 0, 0, 0],\n",
              "       [1, 0, 0, 0, 0, 0, 0],\n",
              "       [0, 0, 0, 0, 0, 1, 0],\n",
              "       [0, 0, 0, 0, 0, 1, 0],\n",
              "       [0, 0, 1, 0, 0, 0, 0],\n",
              "       [0, 0, 0, 0, 0, 0, 1],\n",
              "       [0, 0, 0, 0, 0, 0, 1],\n",
              "       [1, 0, 0, 0, 0, 0, 0],\n",
              "       [1, 0, 0, 0, 0, 0, 0],\n",
              "       [0, 0, 1, 0, 0, 0, 0],\n",
              "       [0, 0, 0, 0, 0, 1, 0],\n",
              "       [1, 0, 0, 0, 0, 0, 0],\n",
              "       [0, 0, 0, 0, 0, 1, 0],\n",
              "       [1, 0, 0, 0, 0, 0, 0],\n",
              "       [0, 0, 0, 0, 1, 0, 0],\n",
              "       [0, 1, 0, 0, 0, 0, 0],\n",
              "       [0, 0, 0, 1, 0, 0, 0],\n",
              "       [0, 0, 0, 0, 0, 0, 1],\n",
              "       [0, 0, 0, 0, 0, 0, 1],\n",
              "       [0, 0, 0, 0, 0, 1, 0],\n",
              "       [0, 0, 0, 0, 1, 0, 0],\n",
              "       [0, 0, 1, 0, 0, 0, 0],\n",
              "       [0, 0, 0, 0, 0, 1, 0],\n",
              "       [0, 0, 0, 0, 1, 0, 0],\n",
              "       [0, 0, 0, 0, 1, 0, 0],\n",
              "       [0, 0, 0, 0, 0, 1, 0],\n",
              "       [0, 0, 0, 0, 0, 0, 1],\n",
              "       [1, 0, 0, 0, 0, 0, 0],\n",
              "       [0, 1, 0, 0, 0, 0, 0],\n",
              "       [0, 0, 1, 0, 0, 0, 0],\n",
              "       [0, 1, 0, 0, 0, 0, 0],\n",
              "       [0, 1, 0, 0, 0, 0, 0],\n",
              "       [0, 0, 0, 0, 0, 0, 1],\n",
              "       [0, 0, 1, 0, 0, 0, 0],\n",
              "       [0, 0, 0, 0, 0, 0, 1],\n",
              "       [0, 0, 0, 0, 1, 0, 0],\n",
              "       [0, 0, 0, 0, 0, 1, 0],\n",
              "       [0, 0, 0, 0, 0, 0, 1],\n",
              "       [0, 1, 0, 0, 0, 0, 0],\n",
              "       [0, 0, 1, 0, 0, 0, 0],\n",
              "       [0, 0, 0, 0, 0, 1, 0],\n",
              "       [0, 1, 0, 0, 0, 0, 0],\n",
              "       [0, 1, 0, 0, 0, 0, 0],\n",
              "       [0, 0, 0, 0, 1, 0, 0],\n",
              "       [0, 0, 0, 0, 1, 0, 0],\n",
              "       [0, 1, 0, 0, 0, 0, 0],\n",
              "       [0, 0, 0, 0, 0, 0, 1],\n",
              "       [0, 0, 0, 1, 0, 0, 0],\n",
              "       [0, 0, 0, 0, 1, 0, 0],\n",
              "       [0, 0, 1, 0, 0, 0, 0],\n",
              "       [0, 0, 1, 0, 0, 0, 0],\n",
              "       [0, 0, 1, 0, 0, 0, 0],\n",
              "       [0, 0, 0, 0, 1, 0, 0],\n",
              "       [1, 0, 0, 0, 0, 0, 0],\n",
              "       [0, 0, 0, 1, 0, 0, 0],\n",
              "       [0, 0, 0, 0, 0, 0, 1],\n",
              "       [0, 0, 0, 0, 0, 1, 0],\n",
              "       [0, 1, 0, 0, 0, 0, 0],\n",
              "       [0, 0, 1, 0, 0, 0, 0],\n",
              "       [0, 0, 0, 0, 1, 0, 0],\n",
              "       [0, 0, 0, 1, 0, 0, 0],\n",
              "       [1, 0, 0, 0, 0, 0, 0],\n",
              "       [0, 0, 0, 1, 0, 0, 0],\n",
              "       [0, 0, 0, 0, 0, 0, 1],\n",
              "       [0, 0, 1, 0, 0, 0, 0],\n",
              "       [0, 0, 0, 0, 0, 0, 1],\n",
              "       [1, 0, 0, 0, 0, 0, 0],\n",
              "       [0, 0, 0, 0, 1, 0, 0],\n",
              "       [0, 1, 0, 0, 0, 0, 0],\n",
              "       [0, 0, 0, 1, 0, 0, 0],\n",
              "       [0, 0, 0, 0, 0, 0, 1],\n",
              "       [0, 0, 0, 1, 0, 0, 0],\n",
              "       [0, 0, 0, 0, 0, 0, 1],\n",
              "       [0, 0, 0, 0, 1, 0, 0],\n",
              "       [0, 0, 0, 1, 0, 0, 0],\n",
              "       [0, 0, 0, 1, 0, 0, 0],\n",
              "       [0, 0, 1, 0, 0, 0, 0],\n",
              "       [0, 0, 0, 0, 0, 1, 0],\n",
              "       [0, 0, 0, 0, 1, 0, 0],\n",
              "       [0, 1, 0, 0, 0, 0, 0],\n",
              "       [1, 0, 0, 0, 0, 0, 0],\n",
              "       [0, 0, 0, 1, 0, 0, 0],\n",
              "       [0, 0, 1, 0, 0, 0, 0],\n",
              "       [0, 0, 0, 1, 0, 0, 0],\n",
              "       [0, 1, 0, 0, 0, 0, 0],\n",
              "       [1, 0, 0, 0, 0, 0, 0],\n",
              "       [0, 0, 1, 0, 0, 0, 0],\n",
              "       [0, 0, 0, 0, 0, 0, 1],\n",
              "       [0, 0, 0, 0, 0, 1, 0],\n",
              "       [0, 0, 0, 0, 1, 0, 0],\n",
              "       [0, 0, 0, 0, 1, 0, 0],\n",
              "       [0, 0, 0, 1, 0, 0, 0],\n",
              "       [0, 0, 0, 1, 0, 0, 0],\n",
              "       [0, 0, 0, 0, 0, 0, 1],\n",
              "       [0, 0, 0, 0, 1, 0, 0],\n",
              "       [1, 0, 0, 0, 0, 0, 0],\n",
              "       [0, 0, 0, 1, 0, 0, 0],\n",
              "       [0, 0, 0, 0, 1, 0, 0],\n",
              "       [0, 0, 0, 0, 0, 0, 1],\n",
              "       [0, 0, 0, 0, 0, 1, 0],\n",
              "       [0, 0, 0, 1, 0, 0, 0],\n",
              "       [0, 0, 1, 0, 0, 0, 0],\n",
              "       [0, 0, 0, 1, 0, 0, 0],\n",
              "       [0, 1, 0, 0, 0, 0, 0],\n",
              "       [0, 0, 0, 0, 0, 0, 1],\n",
              "       [0, 0, 0, 0, 0, 0, 1],\n",
              "       [0, 1, 0, 0, 0, 0, 0],\n",
              "       [1, 0, 0, 0, 0, 0, 0],\n",
              "       [0, 0, 0, 0, 0, 0, 1]], dtype=int8)"
            ]
          },
          "metadata": {},
          "execution_count": 39
        }
      ]
    },
    {
      "cell_type": "code",
      "source": [
        " np.argmax(y_test_class, axis=1)"
      ],
      "metadata": {
        "colab": {
          "base_uri": "https://localhost:8080/"
        },
        "id": "2fcK-_HzAmc5",
        "outputId": "58805282-96ef-4365-982e-696854fa281c"
      },
      "execution_count": 40,
      "outputs": [
        {
          "output_type": "execute_result",
          "data": {
            "text/plain": [
              "array([6, 3, 5, 4, 0, 4, 5, 4, 3, 6, 3, 4, 0, 5, 3, 0, 5, 5, 2, 6, 6, 0,\n",
              "       0, 2, 5, 0, 5, 0, 4, 1, 3, 6, 6, 5, 4, 2, 5, 4, 4, 5, 6, 0, 1, 2,\n",
              "       1, 1, 6, 2, 6, 4, 5, 6, 1, 2, 5, 1, 1, 4, 4, 1, 6, 3, 4, 2, 2, 2,\n",
              "       4, 0, 3, 6, 5, 1, 2, 4, 3, 0, 3, 6, 2, 6, 0, 4, 1, 3, 6, 3, 6, 4,\n",
              "       3, 3, 2, 5, 4, 1, 0, 3, 2, 3, 1, 0, 2, 6, 5, 4, 4, 3, 3, 6, 4, 0,\n",
              "       3, 4, 6, 5, 3, 2, 3, 1, 6, 6, 1, 0, 6])"
            ]
          },
          "metadata": {},
          "execution_count": 40
        }
      ]
    },
    {
      "cell_type": "code",
      "source": [
        "y_test_class = np.argmax(y_test_class, axis=1)\n",
        "predictions_test = model.predict(x_test)\n",
        "y_pred_test_class = np.argmax(predictions_test, axis=1)\n",
        "y_proba_test_class = predictions_test\n",
        "\n"
      ],
      "metadata": {
        "id": "uyXvoU2rAckI"
      },
      "execution_count": 41,
      "outputs": []
    },
    {
      "cell_type": "code",
      "source": [
        "predictions_test"
      ],
      "metadata": {
        "colab": {
          "base_uri": "https://localhost:8080/"
        },
        "id": "3BAOUaPwAtuY",
        "outputId": "32bb0e49-a219-4193-b833-a81d93ba6246"
      },
      "execution_count": 42,
      "outputs": [
        {
          "output_type": "execute_result",
          "data": {
            "text/plain": [
              "array([[0.00739321, 0.06370487, 0.10896539, 0.4272836 , 0.08189046,\n",
              "        0.15607385, 0.15468861],\n",
              "       [0.00722489, 0.08891147, 0.10689328, 0.37792966, 0.11747076,\n",
              "        0.11611565, 0.18545434],\n",
              "       [0.07770971, 0.01251931, 0.15492636, 0.12021616, 0.0179031 ,\n",
              "        0.55904037, 0.05768504],\n",
              "       [0.02378264, 0.29771075, 0.08711178, 0.05226092, 0.3121041 ,\n",
              "        0.02811853, 0.19891134],\n",
              "       [0.06310777, 0.1853739 , 0.17738123, 0.07835092, 0.13908893,\n",
              "        0.10032587, 0.25637138],\n",
              "       [0.0142867 , 0.2042958 , 0.10914312, 0.13283107, 0.22748946,\n",
              "        0.05069496, 0.26125893],\n",
              "       [0.07366647, 0.01317094, 0.15836616, 0.12456705, 0.01874604,\n",
              "        0.5504087 , 0.06107454],\n",
              "       [0.12155565, 0.20255879, 0.18910854, 0.04135494, 0.16627547,\n",
              "        0.07566047, 0.20348608],\n",
              "       [0.00659873, 0.07439946, 0.10616802, 0.41636735, 0.09753393,\n",
              "        0.13218564, 0.16674693],\n",
              "       [0.00723242, 0.08824819, 0.10911269, 0.3751009 , 0.11413967,\n",
              "        0.11680663, 0.18935949],\n",
              "       [0.00665397, 0.07727286, 0.1062049 , 0.40904   , 0.1008766 ,\n",
              "        0.12821916, 0.17173247],\n",
              "       [0.01497884, 0.24300714, 0.09611919, 0.09640464, 0.26764983,\n",
              "        0.03793781, 0.2439026 ],\n",
              "       [0.00659303, 0.07762955, 0.10592005, 0.40946996, 0.10171199,\n",
              "        0.12738   , 0.17129539],\n",
              "       [0.10285906, 0.06540462, 0.27386847, 0.06762951, 0.09035829,\n",
              "        0.21927361, 0.18060644],\n",
              "       [0.00683911, 0.08177412, 0.10640905, 0.39733335, 0.10725797,\n",
              "        0.12306868, 0.17731775],\n",
              "       [0.83049464, 0.01161135, 0.06914162, 0.00281769, 0.02940919,\n",
              "        0.04417169, 0.01235377],\n",
              "       [0.05379989, 0.1695478 , 0.18050261, 0.09687026, 0.12581052,\n",
              "        0.11836587, 0.25510308],\n",
              "       [0.00662652, 0.07657485, 0.10607209, 0.4115975 , 0.10076194,\n",
              "        0.12911983, 0.16924722],\n",
              "       [0.03298139, 0.06132261, 0.15224549, 0.2503864 , 0.04391149,\n",
              "        0.32678223, 0.13237049],\n",
              "       [0.09390127, 0.28995082, 0.11414006, 0.03127301, 0.30440643,\n",
              "        0.03436971, 0.1319586 ],\n",
              "       [0.09581023, 0.2957603 , 0.11282358, 0.03019887, 0.30548593,\n",
              "        0.03337784, 0.12654321],\n",
              "       [0.01562303, 0.24896716, 0.09472261, 0.08996201, 0.27377647,\n",
              "        0.03642078, 0.24052791],\n",
              "       [0.44992584, 0.11019307, 0.20451362, 0.01017068, 0.10623352,\n",
              "        0.05777484, 0.06118847],\n",
              "       [0.04634419, 0.16474456, 0.17731388, 0.10864803, 0.1264468 ,\n",
              "        0.12056011, 0.25594246],\n",
              "       [0.03510194, 0.03506149, 0.15074977, 0.26636195, 0.04334238,\n",
              "        0.3457865 , 0.12359599],\n",
              "       [0.42714182, 0.14600284, 0.18345182, 0.01089303, 0.12989719,\n",
              "        0.04560022, 0.05701305],\n",
              "       [0.43080357, 0.1474167 , 0.18124075, 0.01073371, 0.12880652,\n",
              "        0.04490382, 0.05609494],\n",
              "       [0.07468922, 0.06629449, 0.17994775, 0.16086417, 0.04074176,\n",
              "        0.3444924 , 0.1329702 ],\n",
              "       [0.5845502 , 0.07667115, 0.15584052, 0.00742708, 0.08566931,\n",
              "        0.04991083, 0.03993093],\n",
              "       [0.01681514, 0.2614987 , 0.09225521, 0.07902522, 0.28200576,\n",
              "        0.03376176, 0.23463821],\n",
              "       [0.03466405, 0.06968038, 0.16140231, 0.2328374 , 0.04986314,\n",
              "        0.30341595, 0.14813673],\n",
              "       [0.35616225, 0.15851615, 0.20375524, 0.01378345, 0.14309627,\n",
              "        0.05172191, 0.07296473],\n",
              "       [0.03585989, 0.07539011, 0.165638  , 0.22335121, 0.05405887,\n",
              "        0.28827375, 0.15742819],\n",
              "       [0.01907736, 0.00212283, 0.0585259 , 0.03920859, 0.0018706 ,\n",
              "        0.8695345 , 0.00966018],\n",
              "       [0.0227995 , 0.29686275, 0.0867326 , 0.05335729, 0.31246415,\n",
              "        0.02801276, 0.19977105],\n",
              "       [0.03725434, 0.08193775, 0.17032494, 0.21144557, 0.05862518,\n",
              "        0.27202365, 0.16838859],\n",
              "       [0.12699297, 0.1723098 , 0.20522067, 0.0490653 , 0.12502997,\n",
              "        0.10032528, 0.22105598],\n",
              "       [0.01413652, 0.21700013, 0.1024048 , 0.12092894, 0.24682955,\n",
              "        0.04574532, 0.25295475],\n",
              "       [0.07481892, 0.35428146, 0.09613729, 0.02649798, 0.31580755,\n",
              "        0.02591353, 0.10654331],\n",
              "       [0.00782995, 0.05187771, 0.10898468, 0.44407013, 0.0650119 ,\n",
              "        0.1876866 , 0.13453905],\n",
              "       [0.06107963, 0.37765414, 0.08858074, 0.02578499, 0.32139602,\n",
              "        0.02289634, 0.10260813],\n",
              "       [0.4450797 , 0.14311427, 0.17759725, 0.01024326, 0.12663735,\n",
              "        0.04397769, 0.05335045],\n",
              "       [0.07236403, 0.33539814, 0.09889898, 0.0287277 , 0.31982923,\n",
              "        0.02770622, 0.11707566],\n",
              "       [0.01522818, 0.11182369, 0.14198245, 0.2584905 , 0.11573096,\n",
              "        0.13295883, 0.22378534],\n",
              "       [0.6630418 , 0.04846302, 0.13393195, 0.00587395, 0.0667747 ,\n",
              "        0.05105323, 0.03086135],\n",
              "       [0.04098991, 0.10818697, 0.18121493, 0.172088  , 0.07883373,\n",
              "        0.2128934 , 0.20579304],\n",
              "       [0.06387175, 0.38039723, 0.08887213, 0.02523223, 0.3189823 ,\n",
              "        0.02285416, 0.09979015],\n",
              "       [0.14985682, 0.09817048, 0.22402918, 0.05705686, 0.08592549,\n",
              "        0.17481466, 0.21014658],\n",
              "       [0.00667836, 0.07161368, 0.10662854, 0.42095113, 0.09356482,\n",
              "        0.13707298, 0.16349049],\n",
              "       [0.06525526, 0.37577713, 0.08993533, 0.02548763, 0.31918436,\n",
              "        0.02332966, 0.10103054],\n",
              "       [0.03928908, 0.02320293, 0.15155509, 0.22758436, 0.02794232,\n",
              "        0.43839008, 0.09203622],\n",
              "       [0.00735107, 0.09576364, 0.10708103, 0.36074904, 0.12413379,\n",
              "        0.10905092, 0.19587049],\n",
              "       [0.06376259, 0.37785143, 0.08884514, 0.02533445, 0.3216113 ,\n",
              "        0.02288083, 0.09971429],\n",
              "       [0.2819201 , 0.20993856, 0.18577804, 0.01325491, 0.20551527,\n",
              "        0.03439954, 0.06919361],\n",
              "       [0.03532744, 0.07274519, 0.16366442, 0.22796185, 0.05198721,\n",
              "        0.29546762, 0.15284629],\n",
              "       [0.10082956, 0.18763505, 0.1850381 , 0.05435028, 0.14705493,\n",
              "        0.09000205, 0.23509012],\n",
              "       [0.21127449, 0.13912109, 0.17440712, 0.02878582, 0.2434834 ,\n",
              "        0.06169988, 0.14122815],\n",
              "       [0.44481558, 0.14331727, 0.17760414, 0.01024907, 0.12666364,\n",
              "        0.04396773, 0.0533826 ],\n",
              "       [0.10379434, 0.28119835, 0.11760709, 0.0307414 , 0.30130622,\n",
              "        0.03543391, 0.12991874],\n",
              "       [0.05359862, 0.15478735, 0.18504567, 0.10652624, 0.11511417,\n",
              "        0.13560362, 0.24932425],\n",
              "       [0.4324205 , 0.14500555, 0.18187055, 0.01070863, 0.12878966,\n",
              "        0.04520712, 0.05599803],\n",
              "       [0.00755334, 0.10023968, 0.10743237, 0.34892362, 0.13029905,\n",
              "        0.10532998, 0.200222  ],\n",
              "       [0.06669903, 0.37451306, 0.09072011, 0.02552497, 0.31739712,\n",
              "        0.02363284, 0.10151289],\n",
              "       [0.35210937, 0.15778987, 0.20661694, 0.01395343, 0.14245073,\n",
              "        0.05277572, 0.074304  ],\n",
              "       [0.29507762, 0.16442697, 0.21955697, 0.01723799, 0.15287313,\n",
              "        0.05931427, 0.09151302],\n",
              "       [0.01499165, 0.2414516 , 0.09636021, 0.09736934, 0.26797754,\n",
              "        0.0382569 , 0.2435927 ],\n",
              "       [0.06629537, 0.17925894, 0.18018816, 0.07846823, 0.1372171 ,\n",
              "        0.10446867, 0.25410345],\n",
              "       [0.22534387, 0.24188551, 0.17289585, 0.01500629, 0.24378715,\n",
              "        0.02961601, 0.07146527],\n",
              "       [0.00684168, 0.07345624, 0.1060194 , 0.42010573, 0.09518478,\n",
              "        0.13585563, 0.16253656],\n",
              "       [0.00653191, 0.07749268, 0.10578888, 0.41011345, 0.10095367,\n",
              "        0.1271673 , 0.17195213],\n",
              "       [0.03923967, 0.34974417, 0.08587944, 0.03317945, 0.32760793,\n",
              "        0.02392411, 0.14042522],\n",
              "       [0.04236786, 0.3551309 , 0.08626635, 0.03152872, 0.32858658,\n",
              "        0.02364031, 0.13247934],\n",
              "       [0.09057704, 0.20189118, 0.17588136, 0.05580113, 0.15658453,\n",
              "        0.08273962, 0.23652509],\n",
              "       [0.01112089, 0.03854053, 0.13065128, 0.3761952 , 0.05237827,\n",
              "        0.2520183 , 0.13909549],\n",
              "       [0.01446098, 0.23379949, 0.0982604 , 0.10535156, 0.26032475,\n",
              "        0.04044011, 0.24736261],\n",
              "       [0.83098274, 0.0116017 , 0.06883758, 0.00281374, 0.0292899 ,\n",
              "        0.04416058, 0.0123138 ],\n",
              "       [0.04049855, 0.09905931, 0.1794273 , 0.18339588, 0.07071555,\n",
              "        0.23342377, 0.19347967],\n",
              "       [0.41133466, 0.15479392, 0.18379289, 0.01071671, 0.13953191,\n",
              "        0.04258077, 0.05724912],\n",
              "       [0.07850808, 0.01265777, 0.15666808, 0.11927719, 0.01816144,\n",
              "        0.5566252 , 0.05810228],\n",
              "       [0.01619137, 0.21002428, 0.10482647, 0.11720909, 0.24730125,\n",
              "        0.048234  , 0.25621352],\n",
              "       [0.44774264, 0.14183901, 0.17733794, 0.01019213, 0.12560351,\n",
              "        0.0441229 , 0.05316181],\n",
              "       [0.03463324, 0.33789355, 0.0856656 , 0.03650979, 0.32655337,\n",
              "        0.0246319 , 0.15411253],\n",
              "       [0.01449758, 0.23877457, 0.0972136 , 0.10152458, 0.2621348 ,\n",
              "        0.03913064, 0.24672432],\n",
              "       [0.01405585, 0.23132923, 0.09874582, 0.10917008, 0.25815403,\n",
              "        0.04113029, 0.24741474],\n",
              "       [0.4472766 , 0.14154556, 0.17760637, 0.01020718, 0.1259886 ,\n",
              "        0.04416434, 0.05321141],\n",
              "       [0.00663056, 0.0766423 , 0.10606465, 0.41151   , 0.10097358,\n",
              "        0.12904838, 0.1691305 ],\n",
              "       [0.00815249, 0.10199057, 0.11150987, 0.3358362 , 0.13047534,\n",
              "        0.1060054 , 0.20603015],\n",
              "       [0.01478685, 0.24020134, 0.09670208, 0.09912693, 0.26603836,\n",
              "        0.03863857, 0.24450587],\n",
              "       [0.00676154, 0.05779045, 0.10686636, 0.44756386, 0.07331053,\n",
              "        0.16461192, 0.14309531],\n",
              "       [0.06435973, 0.18465945, 0.17743404, 0.0778747 , 0.14105189,\n",
              "        0.10020959, 0.25441065],\n",
              "       [0.44836372, 0.13970311, 0.17848662, 0.01025011, 0.12470628,\n",
              "        0.04483505, 0.05365513],\n",
              "       [0.04119098, 0.10912298, 0.18165404, 0.17048325, 0.07918516,\n",
              "        0.21135426, 0.20700936],\n",
              "       [0.03886692, 0.09701   , 0.17751528, 0.18929471, 0.06988737,\n",
              "        0.23619574, 0.19123001],\n",
              "       [0.01487993, 0.2408162 , 0.09665012, 0.0986742 , 0.26575848,\n",
              "        0.03853435, 0.24468666],\n",
              "       [0.45013425, 0.13981345, 0.17855272, 0.01005128, 0.12382628,\n",
              "        0.04458433, 0.05303773],\n",
              "       [0.01018057, 0.0403642 , 0.11161199, 0.42847013, 0.04967009,\n",
              "        0.24395184, 0.11575121],\n",
              "       [0.12378424, 0.01744981, 0.16265312, 0.11911845, 0.02616385,\n",
              "        0.47764447, 0.07318602],\n",
              "       [0.00718816, 0.07534027, 0.1080899 , 0.405938  , 0.09853259,\n",
              "        0.13415828, 0.17075281],\n",
              "       [0.08438595, 0.16937147, 0.19583021, 0.06498773, 0.12611699,\n",
              "        0.10748183, 0.2518258 ],\n",
              "       [0.8312532 , 0.01154622, 0.0687855 , 0.00280376, 0.02922623,\n",
              "        0.04411324, 0.01227189],\n",
              "       [0.00763526, 0.10028514, 0.10736671, 0.34884965, 0.1307888 ,\n",
              "        0.10564846, 0.19942598],\n",
              "       [0.1464993 , 0.02875516, 0.2838649 , 0.04631608, 0.05846014,\n",
              "        0.32486427, 0.11124016],\n",
              "       [0.00952635, 0.06501549, 0.1268125 , 0.37186375, 0.0819245 ,\n",
              "        0.16575189, 0.17910556],\n",
              "       [0.40359053, 0.14985819, 0.1908313 , 0.01179341, 0.13409668,\n",
              "        0.04774301, 0.06208699],\n",
              "       [0.44273713, 0.14492077, 0.17760009, 0.01030193, 0.12690307,\n",
              "        0.04388626, 0.05365075],\n",
              "       [0.0902821 , 0.09050399, 0.20860106, 0.10156352, 0.06895468,\n",
              "        0.23370609, 0.20638855],\n",
              "       [0.0096101 , 0.15003501, 0.10924042, 0.23750366, 0.18214278,\n",
              "        0.07395289, 0.2375152 ],\n",
              "       [0.00655275, 0.07753679, 0.10597078, 0.40961647, 0.10173103,\n",
              "        0.12723471, 0.17135742],\n",
              "       [0.07309102, 0.3580682 , 0.0948347 , 0.02624989, 0.31740946,\n",
              "        0.02536846, 0.10497826],\n",
              "       [0.44479114, 0.14334716, 0.17760071, 0.01024989, 0.12665568,\n",
              "        0.04396746, 0.05338798],\n",
              "       [0.00720817, 0.08744323, 0.10711257, 0.3806371 , 0.11473681,\n",
              "        0.11777161, 0.18509051],\n",
              "       [0.06917755, 0.3660227 , 0.09235692, 0.02588663, 0.3193464 ,\n",
              "        0.02435419, 0.10285561],\n",
              "       [0.02667389, 0.07852148, 0.18344402, 0.21214615, 0.08453986,\n",
              "        0.19423419, 0.22044042],\n",
              "       [0.10383847, 0.19897987, 0.18156226, 0.05033385, 0.15513273,\n",
              "        0.08209746, 0.22805537],\n",
              "       [0.31969917, 0.01628821, 0.14034443, 0.04077419, 0.01896243,\n",
              "        0.4158748 , 0.0480568 ],\n",
              "       [0.00758632, 0.06100406, 0.10939576, 0.43039864, 0.07841305,\n",
              "        0.16300696, 0.15019521],\n",
              "       [0.06730498, 0.18877788, 0.17677552, 0.07343084, 0.143373  ,\n",
              "        0.09619248, 0.25414532],\n",
              "       [0.03574199, 0.0636178 , 0.15807709, 0.2352083 , 0.04510941,\n",
              "        0.3242481 , 0.1379972 ],\n",
              "       [0.06419422, 0.18456703, 0.17758082, 0.07796368, 0.14041197,\n",
              "        0.1004205 , 0.25486183],\n",
              "       [0.00977291, 0.154648  , 0.10914368, 0.22886126, 0.18654549,\n",
              "        0.07159294, 0.23943585],\n",
              "       [0.01496603, 0.2430127 , 0.09614121, 0.09649001, 0.26736724,\n",
              "        0.03795372, 0.24406913],\n",
              "       [0.06434522, 0.1860468 , 0.17721973, 0.07706067, 0.14067708,\n",
              "        0.09926575, 0.25538474],\n",
              "       [0.0133481 , 0.22390538, 0.10058454, 0.11912309, 0.24908224,\n",
              "        0.04349289, 0.2504638 ]], dtype=float32)"
            ]
          },
          "metadata": {},
          "execution_count": 42
        }
      ]
    },
    {
      "cell_type": "code",
      "source": [
        "y_pred_test_class "
      ],
      "metadata": {
        "colab": {
          "base_uri": "https://localhost:8080/"
        },
        "id": "ph-j4nBsAxjT",
        "outputId": "51742e3a-9417-4157-8a0a-24fc98d6636c"
      },
      "execution_count": 43,
      "outputs": [
        {
          "output_type": "execute_result",
          "data": {
            "text/plain": [
              "array([3, 3, 5, 4, 6, 6, 5, 6, 3, 3, 3, 4, 3, 2, 3, 0, 6, 3, 5, 4, 4, 4,\n",
              "       0, 6, 5, 0, 0, 5, 0, 4, 5, 0, 5, 5, 4, 5, 6, 6, 1, 3, 1, 0, 1, 3,\n",
              "       0, 5, 1, 2, 3, 1, 5, 3, 1, 0, 5, 6, 4, 0, 4, 6, 0, 3, 1, 0, 0, 4,\n",
              "       6, 4, 3, 3, 1, 1, 6, 3, 4, 0, 5, 0, 5, 6, 0, 1, 4, 4, 0, 3, 3, 4,\n",
              "       3, 6, 0, 5, 5, 4, 0, 3, 5, 3, 6, 0, 3, 5, 3, 0, 0, 5, 6, 3, 1, 0,\n",
              "       3, 1, 6, 6, 5, 3, 6, 5, 6, 6, 4, 6, 6])"
            ]
          },
          "metadata": {},
          "execution_count": 43
        }
      ]
    },
    {
      "cell_type": "markdown",
      "source": [
        "### Test Set Confusion Matrix and Heatmap"
      ],
      "metadata": {
        "id": "Epp2QpxsUVXH"
      }
    },
    {
      "cell_type": "code",
      "source": [
        "# Test set Confusion matrix\n",
        "\n",
        "cm=confusion_matrix(y_test_class, y_pred_test_class)\n",
        "\n",
        "index = ['calm', 'happy', 'sad', 'angry', 'fearful', 'disgust', 'surprised']  \n",
        "columns = ['calm', 'happy', 'sad', 'angry', 'fearful', 'disgust', 'surprised']  \n",
        " \n",
        "cm_df = pd.DataFrame(cm,index,columns)                      \n",
        "plt.figure(figsize=(12,8))\n",
        "ax = plt.axes()\n",
        "\n",
        "sns.heatmap(cm_df, ax = ax, cmap = 'BuGn', fmt=\"d\", annot=True)\n",
        "ax.set_ylabel('True emotion')\n",
        "ax.set_xlabel('Predicted emotion')"
      ],
      "metadata": {
        "colab": {
          "base_uri": "https://localhost:8080/",
          "height": 514
        },
        "id": "ukGrk_cagzyb",
        "outputId": "9e61c2b3-131d-4a7a-c37e-15642f037e0d"
      },
      "execution_count": 44,
      "outputs": [
        {
          "output_type": "execute_result",
          "data": {
            "text/plain": [
              "Text(0.5, 51.0, 'Predicted emotion')"
            ]
          },
          "metadata": {},
          "execution_count": 44
        },
        {
          "output_type": "display_data",
          "data": {
            "text/plain": [
              "<Figure size 864x576 with 2 Axes>"
            ],
            "image/png": "[encoded data removed]"
          },
          "metadata": {
            "needs_background": "light"
          }
        }
      ]
    },
    {
      "cell_type": "code",
      "source": [
        "# Confusion Matrix\n",
        "cm"
      ],
      "metadata": {
        "colab": {
          "base_uri": "https://localhost:8080/"
        },
        "id": "9f51xwUE8haF",
        "outputId": "d51681cb-ec7a-4b1c-fe3c-3e9890689d12"
      },
      "execution_count": 45,
      "outputs": [
        {
          "output_type": "execute_result",
          "data": {
            "text/plain": [
              "array([[ 9,  0,  0,  1,  2,  1,  2],\n",
              "       [ 1,  3,  0,  0,  5,  2,  3],\n",
              "       [ 4,  0,  1,  3,  1,  4,  2],\n",
              "       [ 0,  0,  0, 11,  2,  4,  3],\n",
              "       [ 4,  6,  0,  1,  5,  1,  4],\n",
              "       [ 1,  1,  1,  3,  0,  7,  3],\n",
              "       [ 4,  2,  0,  7,  2,  2,  5]])"
            ]
          },
          "metadata": {},
          "execution_count": 45
        }
      ]
    },
    {
      "cell_type": "markdown",
      "source": [
        "### Test Set Predicted emotions accuracy"
      ],
      "metadata": {
        "id": "zil3CkweUX0q"
      }
    },
    {
      "cell_type": "code",
      "source": [
        "# Test set prediction accuracy rates\n",
        "\n",
        "values = cm.diagonal()\n",
        "row_sum = np.sum(cm,axis=1)\n",
        "acc = values / row_sum\n",
        "\n",
        "print('Test set predicted emotions accuracy:')\n",
        "for e in range(0, len(values)):\n",
        "    print(index[e],':', f\"{(acc[e]):0.4f}\")"
      ],
      "metadata": {
        "colab": {
          "base_uri": "https://localhost:8080/"
        },
        "id": "t_ORyGGig090",
        "outputId": "b0e41137-c6ed-49c2-8888-48230318c3ab"
      },
      "execution_count": 46,
      "outputs": [
        {
          "output_type": "stream",
          "name": "stdout",
          "text": [
            "Test set predicted emotions accuracy:\n",
            "calm : 0.6000\n",
            "happy : 0.2143\n",
            "sad : 0.0667\n",
            "angry : 0.5500\n",
            "fearful : 0.2381\n",
            "disgust : 0.4375\n",
            "surprised : 0.2273\n"
          ]
        }
      ]
    },
    {
      "cell_type": "markdown",
      "source": [
        "### Precision, Recal, Fscore"
      ],
      "metadata": {
        "id": "8Hzthv1t8kwd"
      }
    },
    {
      "cell_type": "code",
      "source": [
        "# Validation set precision, recall, fscore\n",
        "\n",
        "precision_recall_fscore_support(y_test_class, y_pred_test_class, average='macro')\n"
      ],
      "metadata": {
        "colab": {
          "base_uri": "https://localhost:8080/"
        },
        "id": "QnwWoVFnh33F",
        "outputId": "b93290d9-9fb3-4bdc-96a1-3f0b31ebabda"
      },
      "execution_count": 47,
      "outputs": [
        {
          "output_type": "execute_result",
          "data": {
            "text/plain": [
              "(0.34558642550969915, 0.33340290661719235, 0.30988148143889155, None)"
            ]
          },
          "metadata": {},
          "execution_count": 47
        }
      ]
    },
    {
      "cell_type": "code",
      "source": [
        "precision_recall_fscore_support(y_test_class, y_pred_test_class, average='weighted')"
      ],
      "metadata": {
        "colab": {
          "base_uri": "https://localhost:8080/"
        },
        "id": "OlDhuPlqzwVB",
        "outputId": "21b64020-4d2d-4896-ac9c-10908d85ce21"
      },
      "execution_count": 48,
      "outputs": [
        {
          "output_type": "execute_result",
          "data": {
            "text/plain": [
              "(0.3401699804918568, 0.3333333333333333, 0.31094573581991053, None)"
            ]
          },
          "metadata": {},
          "execution_count": 48
        }
      ]
    },
    {
      "cell_type": "markdown",
      "source": [
        "### ROC AUC Score"
      ],
      "metadata": {
        "id": "sEuBd9IyLuiD"
      }
    },
    {
      "cell_type": "code",
      "source": [
        "ravdess_df = pd.read_csv (df_path)"
      ],
      "metadata": {
        "id": "8bb4OSmyTO6v"
      },
      "execution_count": 49,
      "outputs": []
    },
    {
      "cell_type": "code",
      "source": [
        "labels = [\"calm\", \"happy\", \"sad\", \"angry\", \"fear\", \"disgust\", \"suprised\"]"
      ],
      "metadata": {
        "id": "1leZ4JGVTfTp"
      },
      "execution_count": 50,
      "outputs": []
    },
    {
      "cell_type": "code",
      "source": [
        "y_test_adj = y_test.reshape(-1,)"
      ],
      "metadata": {
        "id": "MRm1ZwnxFStc"
      },
      "execution_count": 51,
      "outputs": []
    },
    {
      "cell_type": "code",
      "source": [
        "y_proba_test_class.shape"
      ],
      "metadata": {
        "colab": {
          "base_uri": "https://localhost:8080/"
        },
        "id": "O-IcYOABFjxB",
        "outputId": "d1ab5ce9-9fdc-493f-c836-03fba1f03cef"
      },
      "execution_count": 52,
      "outputs": [
        {
          "output_type": "execute_result",
          "data": {
            "text/plain": [
              "(123, 7)"
            ]
          },
          "metadata": {},
          "execution_count": 52
        }
      ]
    },
    {
      "cell_type": "code",
      "source": [
        "y_test.shape"
      ],
      "metadata": {
        "colab": {
          "base_uri": "https://localhost:8080/"
        },
        "id": "9AaqUY3PIlMQ",
        "outputId": "a148f360-9ae2-4327-bb9c-cfe4786c4b6c"
      },
      "execution_count": 53,
      "outputs": [
        {
          "output_type": "execute_result",
          "data": {
            "text/plain": [
              "(123, 1)"
            ]
          },
          "metadata": {},
          "execution_count": 53
        }
      ]
    },
    {
      "cell_type": "code",
      "source": [
        "y_test_adj"
      ],
      "metadata": {
        "colab": {
          "base_uri": "https://localhost:8080/"
        },
        "id": "7LgDudYTKInS",
        "outputId": "72ae40bf-ddb6-4eb1-cc43-50404394bfb1"
      },
      "execution_count": 54,
      "outputs": [
        {
          "output_type": "execute_result",
          "data": {
            "text/plain": [
              "array([6, 3, 5, 4, 0, 4, 5, 4, 3, 6, 3, 4, 0, 5, 3, 0, 5, 5, 2, 6, 6, 0,\n",
              "       0, 2, 5, 0, 5, 0, 4, 1, 3, 6, 6, 5, 4, 2, 5, 4, 4, 5, 6, 0, 1, 2,\n",
              "       1, 1, 6, 2, 6, 4, 5, 6, 1, 2, 5, 1, 1, 4, 4, 1, 6, 3, 4, 2, 2, 2,\n",
              "       4, 0, 3, 6, 5, 1, 2, 4, 3, 0, 3, 6, 2, 6, 0, 4, 1, 3, 6, 3, 6, 4,\n",
              "       3, 3, 2, 5, 4, 1, 0, 3, 2, 3, 1, 0, 2, 6, 5, 4, 4, 3, 3, 6, 4, 0,\n",
              "       3, 4, 6, 5, 3, 2, 3, 1, 6, 6, 1, 0, 6], dtype=int8)"
            ]
          },
          "metadata": {},
          "execution_count": 54
        }
      ]
    },
    {
      "cell_type": "code",
      "source": [
        "\n",
        "\n",
        "macro_roc_auc_ovo = roc_auc_score(y_test_adj, y_proba_test_class, multi_class=\"ovo\", average=\"macro\")\n",
        "weighted_roc_auc_ovo = roc_auc_score(\n",
        "    y_test_adj, y_proba_test_class, multi_class=\"ovo\", average=\"weighted\"\n",
        ")\n",
        "macro_roc_auc_ovr = roc_auc_score(y_test_adj, y_proba_test_class, multi_class=\"ovr\", average=\"macro\")\n",
        "weighted_roc_auc_ovr = roc_auc_score(\n",
        "    y_test_adj, y_proba_test_class, multi_class=\"ovr\", average=\"weighted\"\n",
        ")\n"
      ],
      "metadata": {
        "id": "oMa4N8EhHlY9"
      },
      "execution_count": 55,
      "outputs": []
    },
    {
      "cell_type": "code",
      "source": [
        "print(\"One-vs-One ROC AUC scores:\\n{:.6f} (macro),\\n{:.6f} \" \"(weighted by prevalence)\\n\".format(macro_roc_auc_ovo, weighted_roc_auc_ovo))\n",
        "print(\"One-vs-Rest ROC AUC scores:\\n{:.6f} (macro),\\n{:.6f} \" \"(weighted by prevalence)\".format(macro_roc_auc_ovr, weighted_roc_auc_ovr))"
      ],
      "metadata": {
        "colab": {
          "base_uri": "https://localhost:8080/"
        },
        "id": "hhBLwtO_ICqL",
        "outputId": "34cabbaa-aeeb-45b4-aee9-550a0fe633ad"
      },
      "execution_count": 56,
      "outputs": [
        {
          "output_type": "stream",
          "name": "stdout",
          "text": [
            "One-vs-One ROC AUC scores:\n",
            "0.712371 (macro),\n",
            "0.709927 (weighted by prevalence)\n",
            "\n",
            "One-vs-Rest ROC AUC scores:\n",
            "0.711331 (macro),\n",
            "0.706567 (weighted by prevalence)\n"
          ]
        }
      ]
    }
  ]
}