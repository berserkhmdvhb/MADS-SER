{
  "metadata": {
    "kernelspec": {
      "language": "python",
      "display_name": "Python 3",
      "name": "python3"
    },
    "language_info": {
      "pygments_lexer": "ipython3",
      "nbconvert_exporter": "python",
      "version": "3.6.4",
      "file_extension": ".py",
      "codemirror_mode": {
        "name": "ipython",
        "version": 3
      },
      "name": "python",
      "mimetype": "text/x-python"
    },
    "colab": {
      "name": "SER-RAVDESS-model-GRU-OS-64.ipynb",
      "provenance": [],
      "collapsed_sections": [
        "anSyerIFN7qd"
      ]
    }
  },
  "nbformat_minor": 0,
  "nbformat": 4,
  "cells": [
    {
      "cell_type": "markdown",
      "source": [
        "# Imports"
      ],
      "metadata": {
        "id": "anSyerIFN7qd"
      }
    },
    {
      "cell_type": "code",
      "source": [
        "# Importing Libraries"
      ],
      "metadata": {
        "id": "IMFSwIuvKiw2"
      },
      "execution_count": 1,
      "outputs": []
    },
    {
      "cell_type": "code",
      "source": [
        "!pip install json-tricks"
      ],
      "metadata": {
        "colab": {
          "base_uri": "https://localhost:8080/"
        },
        "id": "bBR8aNsmM2tR",
        "outputId": "28ca814e-f8a5-4d62-d15a-367721be9580"
      },
      "execution_count": 2,
      "outputs": [
        {
          "output_type": "stream",
          "name": "stdout",
          "text": [
            "Looking in indexes: https://pypi.org/simple, https://us-python.pkg.dev/colab-wheels/public/simple/\n",
            "Collecting json-tricks\n",
            "  Downloading json_tricks-3.15.5-py2.py3-none-any.whl (26 kB)\n",
            "Installing collected packages: json-tricks\n",
            "Successfully installed json-tricks-3.15.5\n"
          ]
        }
      ]
    },
    {
      "cell_type": "code",
      "source": [
        "import pandas as pd\n",
        "import numpy as np\n",
        "\n",
        "import os\n",
        "import sys\n",
        "\n",
        "import librosa\n",
        "import librosa.display\n",
        "#from pydub import AudioSegment, effects\n",
        "#import noisereduce as nr\n",
        "\n",
        "\n",
        "import seaborn as sns\n",
        "import matplotlib.pyplot as plt\n",
        "from IPython.display import Audio\n",
        "\n",
        "import tensorflow as tf\n",
        "import keras\n",
        "import sklearn\n",
        "\n",
        "\n",
        "from tensorflow.keras.models import Sequential, Model\n",
        "from tensorflow.keras.layers import Dense, LSTM, Flatten, Dropout, BatchNormalization\n",
        "from tensorflow.keras.callbacks import ModelCheckpoint, EarlyStopping, ReduceLROnPlateau\n",
        "from tensorflow.keras.optimizers import Adam, SGD\n",
        "from tensorflow.keras.utils import to_categorical, plot_model\n",
        "\n",
        "\n",
        "from keras.models import Sequential, model_from_json, load_model\n",
        "from keras import layers\n",
        "from keras import optimizers\n",
        "from keras import callbacks\n",
        "\n",
        "from sklearn.preprocessing import StandardScaler, OneHotEncoder, LabelEncoder\n",
        "from sklearn.metrics import confusion_matrix, classification_report, precision_recall_fscore_support, roc_auc_score\n",
        "from sklearn.model_selection import train_test_split, StratifiedShuffleSplit\n",
        "from sklearn.multiclass import OneVsRestClassifier\n",
        "\n",
        "\n",
        "from tqdm import tqdm\n",
        "\n",
        "\n",
        "from json_tricks import dump, load\n",
        "\n",
        "\n",
        "\n",
        "import warnings\n",
        "if not sys.warnoptions:\n",
        "    warnings.simplefilter(\"ignore\")\n",
        "warnings.filterwarnings(\"ignore\", category=DeprecationWarning) \n",
        "\n",
        "import time\n",
        "tic = time.perf_counter()\n",
        "\n"
      ],
      "metadata": {
        "id": "77IS8HxqFFCA"
      },
      "execution_count": 3,
      "outputs": []
    },
    {
      "cell_type": "code",
      "source": [
        ""
      ],
      "metadata": {
        "id": "gGYqBIk0FGm4"
      },
      "execution_count": 3,
      "outputs": []
    },
    {
      "cell_type": "markdown",
      "source": [
        "# Dataset"
      ],
      "metadata": {
        "id": "nyMzoZKKKiw6"
      }
    },
    {
      "cell_type": "code",
      "source": [
        "from google.colab import drive\n",
        "drive.mount('/content/drive')"
      ],
      "metadata": {
        "colab": {
          "base_uri": "https://localhost:8080/"
        },
        "id": "JFPDGXmwCBs_",
        "outputId": "542473ac-c7f1-40f3-8e12-66f7c8da0d87"
      },
      "execution_count": 4,
      "outputs": [
        {
          "output_type": "stream",
          "name": "stdout",
          "text": [
            "Mounted at /content/drive\n"
          ]
        }
      ]
    },
    {
      "cell_type": "code",
      "source": [
        "#Crema = \"/content/drive/MyDrive/datasets/speech/CREMAD/sample/\"\n",
        "#Crema = \"/content/drive/MyDrive/datasets/speech/CREMAD/AudioWAV/\"\n",
        "Ravdess = \"/content/drive/MyDrive/datasets/speech/RAVDESS/data/Audio_Speech_Actors_01-24\"\n",
        "Ravdess_processed = \"/content/drive/MyDrive/datasets/speech/RAVDESS/processedData/onlySpeech/\"\n",
        "Ravdess_speech_sample = \"/content/drive/MyDrive/datasets/speech/RAVDESS/data/Audio_Speech_Actors_01-24/\"\n",
        "df_path = \"/content/drive/MyDrive/datasets/speech/RAVDESS/ravdess_df_onlySpeech.csv\"\n",
        "model_path = Ravdess + \"/model/\"\n",
        "\n",
        "checkpoint_path = model_path + \"best_weights-os-GRU-1.hdf5\"\n",
        "saved_model_path = model_path + 'model8723-os-GRU-1.json'\n",
        "\n",
        "saved_weights_path = model_path + 'model8723_weights-os-GRU-1.h5'\n",
        "saved_model_path_2 = model_path + 'Speech-Emotion-Recognition-Model-os-GRU-1.h5'"
      ],
      "metadata": {
        "execution": {
          "iopub.status.busy": "2021-06-21T09:35:38.093538Z",
          "iopub.execute_input": "2021-06-21T09:35:38.093869Z",
          "iopub.status.idle": "2021-06-21T09:35:38.097467Z",
          "shell.execute_reply.started": "2021-06-21T09:35:38.093838Z",
          "shell.execute_reply": "2021-06-21T09:35:38.096608Z"
        },
        "trusted": true,
        "id": "vR2GjHL4Kiw7"
      },
      "execution_count": 5,
      "outputs": []
    },
    {
      "cell_type": "code",
      "source": [
        ""
      ],
      "metadata": {
        "id": "J2T6JxzIF2Jq"
      },
      "execution_count": 5,
      "outputs": []
    },
    {
      "cell_type": "code",
      "source": [
        "##Hypter Parameters' Range\n",
        "params = {\n",
        "    \"batch_size\": 20,  # 20<16<10, 25 was a bust\n",
        "    \"epochs\": 300,\n",
        "    \"lr\": 0.00010000,\n",
        "    \"time_steps\": 60\n",
        "}\n",
        "#TIME_STEPS = params[\"time_steps\"]\n",
        "#BATCH_SIZE = params[\"batch_size\"]\n",
        "#iter_changes = \"dropout_layers_0.4_0.4\"\n"
      ],
      "metadata": {
        "id": "jnEd5_Vvy4ue"
      },
      "execution_count": 6,
      "outputs": []
    },
    {
      "cell_type": "code",
      "source": [
        ""
      ],
      "metadata": {
        "id": "dKXM0xT-N8uy"
      },
      "execution_count": 6,
      "outputs": []
    },
    {
      "cell_type": "markdown",
      "source": [
        "# Load Processed Files, Construct Train, Validation and Test Sets"
      ],
      "metadata": {
        "id": "fse_mTpaOGdQ"
      }
    },
    {
      "cell_type": "code",
      "source": [
        "\n",
        "processed_path = Ravdess_processed\n",
        "x_path = processed_path + \"X_features.json\" # FILE LOAD PATH\n",
        "y_path =  processed_path + \"Y_labels.json\" # FILE SAVE PATH\n",
        "#x_path = '/content/drive/MyDrive/datasets/speech/RAVDESS/processedData/X_features.json'\n",
        "\n",
        "# Load X,Y json files back into lists, convert to np.arrays\n",
        "\n",
        "X = load(x_path)\n",
        "X = np.asarray(X, dtype = 'float32')\n",
        "\n",
        "Y = load(y_path)\n",
        "Y = np.asarray(Y, dtype = 'int8')"
      ],
      "metadata": {
        "id": "101BpvWgN8xX"
      },
      "execution_count": 7,
      "outputs": []
    },
    {
      "cell_type": "code",
      "source": [
        "# Split to train, validation, and test sets.\n",
        "from sklearn.model_selection import train_test_split\n",
        "# 1st Split: X,Y => (x_train, x_tosplit) (y_train, y_tosplit)\n",
        "x_train, x_tosplit, y_train, y_tosplit = train_test_split(X, Y, test_size = 0.30, random_state = 1)\n",
        "# 2nd Split: x_tosplit,y_tosplit => (x_val, x_test) (y_val, y_test) \n",
        "x_val, x_test, y_val, y_test = train_test_split(x_tosplit, y_tosplit, test_size = 0.304, random_state = 1)\n",
        "#'One-hot' vectors for Y: emotion classification\n",
        "y_train_class = tf.keras.utils.to_categorical(y_train, 7, dtype = 'int8')\n",
        "y_val_class = tf.keras.utils.to_categorical(y_val, 7, dtype = 'int8')"
      ],
      "metadata": {
        "id": "CuF9M1mfOD7X"
      },
      "execution_count": 8,
      "outputs": []
    },
    {
      "cell_type": "code",
      "source": [
        "# x_train, x_val, and x_test shape check.\n",
        "print(np.shape(x_train))\n",
        "print(np.shape(x_val))\n",
        "print(np.shape(x_test))"
      ],
      "metadata": {
        "colab": {
          "base_uri": "https://localhost:8080/"
        },
        "id": "od-D1YgBOGXs",
        "outputId": "b79c0190-4c89-4f46-9fc2-dc6bd269b439"
      },
      "execution_count": 9,
      "outputs": [
        {
          "output_type": "stream",
          "name": "stdout",
          "text": [
            "(940, 448, 15)\n",
            "(281, 448, 15)\n",
            "(123, 448, 15)\n"
          ]
        }
      ]
    },
    {
      "cell_type": "code",
      "source": [
        "# Save x_test, y_test to JSON.\n",
        "\n",
        "x_test_path = processed_path + 'x_test_data.json'\n",
        "dump(obj = x_test, fp = x_test_path)\n",
        "\n",
        "y_test_path = processed_path + 'y_test_data.json'\n",
        "dump(obj = y_test, fp = y_test_path)"
      ],
      "metadata": {
        "colab": {
          "base_uri": "https://localhost:8080/",
          "height": 105
        },
        "id": "nTExHJVsOHQ5",
        "outputId": "8b0173ba-d45d-40b9-a5e2-7367e1e6e3a3"
      },
      "execution_count": 10,
      "outputs": [
        {
          "output_type": "execute_result",
          "data": {
            "text/plain": [
              "'{\"__ndarray__\": [[6], [3], [5], [4], [0], [4], [5], [4], [3], [6], [3], [4], [0], [5], [3], [0], [5], [5], [2], [6], [6], [0], [0], [2], [5], [0], [5], [0], [4], [1], [3], [6], [6], [5], [4], [2], [5], [4], [4], [5], [6], [0], [1], [2], [1], [1], [6], [2], [6], [4], [5], [6], [1], [2], [5], [1], [1], [4], [4], [1], [6], [3], [4], [2], [2], [2], [4], [0], [3], [6], [5], [1], [2], [4], [3], [0], [3], [6], [2], [6], [0], [4], [1], [3], [6], [3], [6], [4], [3], [3], [2], [5], [4], [1], [0], [3], [2], [3], [1], [0], [2], [6], [5], [4], [4], [3], [3], [6], [4], [0], [3], [4], [6], [5], [3], [2], [3], [1], [6], [6], [1], [0], [6]], \"dtype\": \"int8\", \"shape\": [123, 1], \"Corder\": true}'"
            ],
            "application/vnd.google.colaboratory.intrinsic+json": {
              "type": "string"
            }
          },
          "metadata": {},
          "execution_count": 10
        }
      ]
    },
    {
      "cell_type": "code",
      "source": [
        "# Loading x_test, y_test json files, and converting to np.arrays\n",
        "\n",
        "x_test = load(processed_path + 'x_test_data.json')\n",
        "x_test = np.asarray(x_test).astype('float32')\n",
        "\n",
        "y_test = load(processed_path + 'y_test_data.json')\n",
        "y_test = np.asarray(y_test).astype('int8')\n",
        "\n",
        "y_test_class = tf.keras.utils.to_categorical(y_test, 7, dtype = 'int8')"
      ],
      "metadata": {
        "id": "kAFBRsmk5dzm"
      },
      "execution_count": 11,
      "outputs": []
    },
    {
      "cell_type": "code",
      "source": [
        "X.shape"
      ],
      "metadata": {
        "id": "15joCR4gu4r7",
        "colab": {
          "base_uri": "https://localhost:8080/"
        },
        "outputId": "7763fd9e-6805-4232-bce6-a8c84e60160e"
      },
      "execution_count": 12,
      "outputs": [
        {
          "output_type": "execute_result",
          "data": {
            "text/plain": [
              "(1344, 448, 15)"
            ]
          },
          "metadata": {},
          "execution_count": 12
        }
      ]
    },
    {
      "cell_type": "code",
      "source": [
        "X.shape[1:3]"
      ],
      "metadata": {
        "colab": {
          "base_uri": "https://localhost:8080/"
        },
        "id": "8MQhoPKjEzi4",
        "outputId": "249c7e62-4371-47d8-8777-751c3fda43c8"
      },
      "execution_count": 13,
      "outputs": [
        {
          "output_type": "execute_result",
          "data": {
            "text/plain": [
              "(448, 15)"
            ]
          },
          "metadata": {},
          "execution_count": 13
        }
      ]
    },
    {
      "cell_type": "markdown",
      "source": [
        "# RNN Model"
      ],
      "metadata": {
        "id": "gnWVMbR6KixC"
      }
    },
    {
      "cell_type": "code",
      "source": [
        "tic"
      ],
      "metadata": {
        "colab": {
          "base_uri": "https://localhost:8080/"
        },
        "id": "7CHZWdfcN8oo",
        "outputId": "78e539ed-2274-4cfc-c9dc-34a5d3a21d55"
      },
      "execution_count": 14,
      "outputs": [
        {
          "output_type": "execute_result",
          "data": {
            "text/plain": [
              "116.135732907"
            ]
          },
          "metadata": {},
          "execution_count": 14
        }
      ]
    },
    {
      "cell_type": "markdown",
      "source": [
        "## Define Model & Training"
      ],
      "metadata": {
        "id": "GJjJYnJQORJ8"
      }
    },
    {
      "cell_type": "code",
      "source": [
        "# Initializing the model\n",
        "\n",
        "model = Sequential()\n",
        "model.add(layers.GRU(64, return_sequences = True, input_shape=(X.shape[1:3])))\n",
        "model.add(layers.GRU(64))\n",
        "model.add(Dropout(0.05))\n",
        "model.add(layers.Dense(7, activation = 'softmax'))\n",
        "print(model.summary())\n",
        "\n",
        "batch_size = 23\n",
        "\n",
        "# Callbacks functions\n",
        "\n",
        "#-> EearlyStopping\n",
        "es = EarlyStopping(monitor='val_loss', mode='min', verbose=1,\n",
        "                    patience=10, min_delta=0.0001)\n",
        "\n",
        "\n",
        "#-> Save the best weights\n",
        "mcp_save = callbacks.ModelCheckpoint(checkpoint_path, save_best_only=True,\n",
        "                           monitor='val_categorical_accuracy',\n",
        "                           mode='max')\n",
        "#-> Reduce learning rate after 100 epoches without improvement.\n",
        "rlrop = callbacks.ReduceLROnPlateau(monitor='val_categorical_accuracy', \n",
        "                                    factor=0.1, patience=20)\n",
        "                             \n",
        "# Compile & train   \n",
        "model.compile(loss='categorical_crossentropy', \n",
        "                optimizer='RMSProp', \n",
        "                metrics=['categorical_accuracy'])\n",
        "\n",
        "\n"
      ],
      "metadata": {
        "colab": {
          "base_uri": "https://localhost:8080/"
        },
        "id": "aD2adyVGOJs4",
        "outputId": "f6c14716-428a-45c2-fadd-1591017ade4f"
      },
      "execution_count": 15,
      "outputs": [
        {
          "output_type": "stream",
          "name": "stdout",
          "text": [
            "Model: \"sequential\"\n",
            "_________________________________________________________________\n",
            " Layer (type)                Output Shape              Param #   \n",
            "=================================================================\n",
            " gru (GRU)                   (None, 448, 64)           15552     \n",
            "                                                                 \n",
            " gru_1 (GRU)                 (None, 64)                24960     \n",
            "                                                                 \n",
            " dropout (Dropout)           (None, 64)                0         \n",
            "                                                                 \n",
            " dense (Dense)               (None, 7)                 455       \n",
            "                                                                 \n",
            "=================================================================\n",
            "Total params: 40,967\n",
            "Trainable params: 40,967\n",
            "Non-trainable params: 0\n",
            "_________________________________________________________________\n",
            "None\n"
          ]
        }
      ]
    },
    {
      "cell_type": "code",
      "source": [
        ""
      ],
      "metadata": {
        "id": "4DBF6kqx-OHZ"
      },
      "execution_count": 15,
      "outputs": []
    },
    {
      "cell_type": "code",
      "source": [
        "history = model.fit(x_train, y_train_class, \n",
        "                      epochs=340, batch_size = batch_size, \n",
        "                      validation_data = (x_val, y_val_class), \n",
        "                      callbacks = [es, mcp_save, rlrop])\n",
        "toc = time.perf_counter()"
      ],
      "metadata": {
        "colab": {
          "base_uri": "https://localhost:8080/"
        },
        "id": "Da7Gc9x_izth",
        "outputId": "ba76810c-334e-4ecd-d25b-6abf0a4d01c5"
      },
      "execution_count": 16,
      "outputs": [
        {
          "output_type": "stream",
          "name": "stdout",
          "text": [
            "Epoch 1/340\n",
            "41/41 [==============================] - 24s 476ms/step - loss: 1.9613 - categorical_accuracy: 0.1819 - val_loss: 1.8640 - val_categorical_accuracy: 0.2028 - lr: 0.0010\n",
            "Epoch 2/340\n",
            "41/41 [==============================] - 18s 437ms/step - loss: 1.8297 - categorical_accuracy: 0.2585 - val_loss: 1.8579 - val_categorical_accuracy: 0.2242 - lr: 0.0010\n",
            "Epoch 3/340\n",
            "41/41 [==============================] - 18s 439ms/step - loss: 1.7677 - categorical_accuracy: 0.2894 - val_loss: 1.8003 - val_categorical_accuracy: 0.2491 - lr: 0.0010\n",
            "Epoch 4/340\n",
            "41/41 [==============================] - 20s 479ms/step - loss: 1.7325 - categorical_accuracy: 0.3085 - val_loss: 1.7663 - val_categorical_accuracy: 0.3132 - lr: 0.0010\n",
            "Epoch 5/340\n",
            "41/41 [==============================] - 18s 438ms/step - loss: 1.6850 - categorical_accuracy: 0.3500 - val_loss: 1.8000 - val_categorical_accuracy: 0.2883 - lr: 0.0010\n",
            "Epoch 6/340\n",
            "41/41 [==============================] - 18s 434ms/step - loss: 1.6459 - categorical_accuracy: 0.3628 - val_loss: 1.7763 - val_categorical_accuracy: 0.2776 - lr: 0.0010\n",
            "Epoch 7/340\n",
            "41/41 [==============================] - 18s 431ms/step - loss: 1.6004 - categorical_accuracy: 0.3638 - val_loss: 1.7860 - val_categorical_accuracy: 0.3025 - lr: 0.0010\n",
            "Epoch 8/340\n",
            "41/41 [==============================] - 18s 430ms/step - loss: 1.5816 - categorical_accuracy: 0.3872 - val_loss: 1.7168 - val_categorical_accuracy: 0.2954 - lr: 0.0010\n",
            "Epoch 9/340\n",
            "41/41 [==============================] - 18s 439ms/step - loss: 1.5387 - categorical_accuracy: 0.3979 - val_loss: 1.7281 - val_categorical_accuracy: 0.3274 - lr: 0.0010\n",
            "Epoch 10/340\n",
            "41/41 [==============================] - 19s 453ms/step - loss: 1.5204 - categorical_accuracy: 0.4074 - val_loss: 1.6869 - val_categorical_accuracy: 0.3203 - lr: 0.0010\n",
            "Epoch 11/340\n",
            "41/41 [==============================] - 18s 439ms/step - loss: 1.4623 - categorical_accuracy: 0.4479 - val_loss: 1.6406 - val_categorical_accuracy: 0.3737 - lr: 0.0010\n",
            "Epoch 12/340\n",
            "41/41 [==============================] - 18s 439ms/step - loss: 1.4734 - categorical_accuracy: 0.4234 - val_loss: 1.6283 - val_categorical_accuracy: 0.3523 - lr: 0.0010\n",
            "Epoch 13/340\n",
            "41/41 [==============================] - 18s 432ms/step - loss: 1.4323 - categorical_accuracy: 0.4447 - val_loss: 1.7004 - val_categorical_accuracy: 0.3452 - lr: 0.0010\n",
            "Epoch 14/340\n",
            "41/41 [==============================] - 18s 435ms/step - loss: 1.4394 - categorical_accuracy: 0.4468 - val_loss: 1.5484 - val_categorical_accuracy: 0.4093 - lr: 0.0010\n",
            "Epoch 15/340\n",
            "41/41 [==============================] - 18s 432ms/step - loss: 1.3885 - categorical_accuracy: 0.4809 - val_loss: 1.7573 - val_categorical_accuracy: 0.3274 - lr: 0.0010\n",
            "Epoch 16/340\n",
            "41/41 [==============================] - 18s 450ms/step - loss: 1.3983 - categorical_accuracy: 0.4883 - val_loss: 1.6120 - val_categorical_accuracy: 0.3665 - lr: 0.0010\n",
            "Epoch 17/340\n",
            "41/41 [==============================] - 18s 432ms/step - loss: 1.4088 - categorical_accuracy: 0.4670 - val_loss: 1.5670 - val_categorical_accuracy: 0.4093 - lr: 0.0010\n",
            "Epoch 18/340\n",
            "41/41 [==============================] - 18s 432ms/step - loss: 1.3444 - categorical_accuracy: 0.4809 - val_loss: 1.5972 - val_categorical_accuracy: 0.3843 - lr: 0.0010\n",
            "Epoch 19/340\n",
            "41/41 [==============================] - 18s 441ms/step - loss: 1.3647 - categorical_accuracy: 0.4734 - val_loss: 1.5383 - val_categorical_accuracy: 0.4164 - lr: 0.0010\n",
            "Epoch 20/340\n",
            "41/41 [==============================] - 18s 433ms/step - loss: 1.3543 - categorical_accuracy: 0.4883 - val_loss: 1.6566 - val_categorical_accuracy: 0.3630 - lr: 0.0010\n",
            "Epoch 21/340\n",
            "41/41 [==============================] - 18s 434ms/step - loss: 1.3244 - categorical_accuracy: 0.5106 - val_loss: 1.5477 - val_categorical_accuracy: 0.4021 - lr: 0.0010\n",
            "Epoch 22/340\n",
            "41/41 [==============================] - 18s 430ms/step - loss: 1.3021 - categorical_accuracy: 0.5064 - val_loss: 1.6453 - val_categorical_accuracy: 0.3594 - lr: 0.0010\n",
            "Epoch 23/340\n",
            "41/41 [==============================] - 18s 435ms/step - loss: 1.2938 - categorical_accuracy: 0.5128 - val_loss: 1.6229 - val_categorical_accuracy: 0.3986 - lr: 0.0010\n",
            "Epoch 24/340\n",
            "41/41 [==============================] - 18s 435ms/step - loss: 1.2608 - categorical_accuracy: 0.5202 - val_loss: 1.5319 - val_categorical_accuracy: 0.4306 - lr: 0.0010\n",
            "Epoch 25/340\n",
            "41/41 [==============================] - 18s 430ms/step - loss: 1.2699 - categorical_accuracy: 0.5309 - val_loss: 1.5506 - val_categorical_accuracy: 0.3986 - lr: 0.0010\n",
            "Epoch 26/340\n",
            "41/41 [==============================] - 18s 440ms/step - loss: 1.2465 - categorical_accuracy: 0.5245 - val_loss: 1.5855 - val_categorical_accuracy: 0.3843 - lr: 0.0010\n",
            "Epoch 27/340\n",
            "41/41 [==============================] - 18s 436ms/step - loss: 1.2282 - categorical_accuracy: 0.5532 - val_loss: 1.5459 - val_categorical_accuracy: 0.4270 - lr: 0.0010\n",
            "Epoch 28/340\n",
            "41/41 [==============================] - 18s 440ms/step - loss: 1.2517 - categorical_accuracy: 0.5277 - val_loss: 1.5606 - val_categorical_accuracy: 0.4235 - lr: 0.0010\n",
            "Epoch 29/340\n",
            "41/41 [==============================] - 18s 433ms/step - loss: 1.2063 - categorical_accuracy: 0.5511 - val_loss: 1.7121 - val_categorical_accuracy: 0.3986 - lr: 0.0010\n",
            "Epoch 30/340\n",
            "41/41 [==============================] - 18s 435ms/step - loss: 1.1890 - categorical_accuracy: 0.5617 - val_loss: 1.5493 - val_categorical_accuracy: 0.4199 - lr: 0.0010\n",
            "Epoch 31/340\n",
            "41/41 [==============================] - 18s 434ms/step - loss: 1.1882 - categorical_accuracy: 0.5606 - val_loss: 1.5481 - val_categorical_accuracy: 0.3950 - lr: 0.0010\n",
            "Epoch 32/340\n",
            "41/41 [==============================] - 18s 435ms/step - loss: 1.1484 - categorical_accuracy: 0.5574 - val_loss: 1.5894 - val_categorical_accuracy: 0.4199 - lr: 0.0010\n",
            "Epoch 33/340\n",
            "41/41 [==============================] - 18s 436ms/step - loss: 1.1348 - categorical_accuracy: 0.5766 - val_loss: 1.5601 - val_categorical_accuracy: 0.4057 - lr: 0.0010\n",
            "Epoch 34/340\n",
            "41/41 [==============================] - 18s 435ms/step - loss: 1.1016 - categorical_accuracy: 0.5830 - val_loss: 1.5502 - val_categorical_accuracy: 0.4306 - lr: 0.0010\n",
            "Epoch 34: early stopping\n"
          ]
        }
      ]
    },
    {
      "cell_type": "code",
      "source": [
        ""
      ],
      "metadata": {
        "id": "3MekXCZHizyZ"
      },
      "execution_count": 16,
      "outputs": []
    },
    {
      "cell_type": "code",
      "source": [
        "print(f\"Running time: {(toc - tic)/60:0.4f} minutes\")"
      ],
      "metadata": {
        "id": "cHmSBRhVOELJ",
        "colab": {
          "base_uri": "https://localhost:8080/"
        },
        "outputId": "5917e202-937f-493d-cc68-0fac49adcb5e"
      },
      "execution_count": 17,
      "outputs": [
        {
          "output_type": "stream",
          "name": "stdout",
          "text": [
            "Running time: 11.2962 minutes\n"
          ]
        }
      ]
    },
    {
      "cell_type": "markdown",
      "source": [
        "## Loading Model"
      ],
      "metadata": {
        "id": "jCQelzMAKixD"
      }
    },
    {
      "cell_type": "code",
      "source": [
        "# Define the best weights to the model.\\\n",
        "#model.load_weights(checkpoint_path)"
      ],
      "metadata": {
        "id": "gruZAW2wI-tO"
      },
      "execution_count": 18,
      "outputs": []
    },
    {
      "cell_type": "markdown",
      "source": [
        "# Evaluation"
      ],
      "metadata": {
        "id": "kDxTjEK0KixD"
      }
    },
    {
      "cell_type": "markdown",
      "source": [
        "## Save & Load model, weights"
      ],
      "metadata": {
        "id": "1YfguG0tPatV"
      }
    },
    {
      "cell_type": "code",
      "source": [
        "# Saving model & weights\n",
        "model_json = model.to_json()\n",
        "\n",
        "\n",
        "\n",
        "with open(saved_model_path, \"w\") as json_file:\n",
        "    json_file.write(model_json)\n",
        "    \n",
        "model.save_weights(saved_weights_path)\n",
        "print(\"Saved model to disk\")"
      ],
      "metadata": {
        "colab": {
          "base_uri": "https://localhost:8080/"
        },
        "id": "MsVoNhqmgGsK",
        "outputId": "f59b52ca-4754-4bf2-a9f7-234aae5c708b"
      },
      "execution_count": 19,
      "outputs": [
        {
          "output_type": "stream",
          "name": "stdout",
          "text": [
            "Saved model to disk\n"
          ]
        }
      ]
    },
    {
      "cell_type": "code",
      "source": [
        "# Reading the model from JSON file\n",
        "#model_path = Ravdess + \"/model/\"\n",
        "#saved_model_path = model_path + 'model8723.json'\n",
        "#saved_weights_path = model_path + 'model8723_weights.h5'\n",
        "\n",
        "\n",
        "with open(saved_model_path , 'r') as json_file:\n",
        "    json_savedModel = json_file.read()\n",
        "    \n",
        "# Loading the model architecture, weights\n",
        "model = tf.keras.models.model_from_json(json_savedModel)\n",
        "model.load_weights(saved_weights_path)\n",
        "\n",
        "# Compiling the model with similar parameters as the original model.\n",
        "model.compile(loss='categorical_crossentropy', \n",
        "                optimizer='RMSProp', \n",
        "                metrics=['categorical_accuracy'])\n",
        "\n",
        "# Model's structure visualization\n",
        "tf.keras.utils.plot_model(model, to_file='model.png', show_shapes=True, show_layer_names=True)"
      ],
      "metadata": {
        "colab": {
          "base_uri": "https://localhost:8080/",
          "height": 533
        },
        "id": "y4OJGhLmgfX6",
        "outputId": "fcbff30a-4bb1-49fc-86f8-a80ac6af971e"
      },
      "execution_count": 20,
      "outputs": [
        {
          "output_type": "execute_result",
          "data": {
            "text/plain": [
              "<IPython.core.display.Image object>"
            ],
            "image/png": "[encoded data removed]"
          },
          "metadata": {},
          "execution_count": 20
        }
      ]
    },
    {
      "cell_type": "code",
      "source": [
        ""
      ],
      "metadata": {
        "id": "B_SW6eUAgvEj"
      },
      "execution_count": 20,
      "outputs": []
    },
    {
      "cell_type": "code",
      "source": [
        ""
      ],
      "metadata": {
        "id": "cCfkUXTYgzSB"
      },
      "execution_count": 20,
      "outputs": []
    },
    {
      "cell_type": "code",
      "source": [
        "model.save(saved_model_path_2)"
      ],
      "metadata": {
        "trusted": true,
        "id": "Z5Uzb_bGKixE"
      },
      "execution_count": 21,
      "outputs": []
    },
    {
      "cell_type": "markdown",
      "source": [
        "## Train (fit) Visualization"
      ],
      "metadata": {
        "id": "ATvBW0SPO-eq"
      }
    },
    {
      "cell_type": "code",
      "source": [
        "# Loss, Accuracy presentation\n",
        "\n",
        "# Plot history: Loss\n",
        "plt.plot(history.history['loss'], label='Loss (training data)')\n",
        "plt.plot(history.history['val_loss'], label='Loss (validation data)')\n",
        "plt.title('Loss for train and validation')\n",
        "plt.ylabel('Loss value')\n",
        "plt.xlabel('No. epoch')\n",
        "plt.legend(loc=\"upper left\")\n",
        "plt.show()\n",
        "\n",
        "#Plot history: Accuracy\n",
        "plt.plot(history.history['categorical_accuracy'], label='Acc (training data)')\n",
        "plt.plot(history.history['val_categorical_accuracy'], label='Acc (validation data)')\n",
        "plt.title('Model accuracy')\n",
        "plt.ylabel('Acc %')\n",
        "plt.xlabel('No. epoch')\n",
        "plt.legend(loc=\"upper left\")\n",
        "plt.show()"
      ],
      "metadata": {
        "colab": {
          "base_uri": "https://localhost:8080/",
          "height": 573
        },
        "id": "UjhUHhU_f4EY",
        "outputId": "d665a99d-f273-4155-82dd-b91ad2edc3a4"
      },
      "execution_count": 22,
      "outputs": [
        {
          "output_type": "display_data",
          "data": {
            "text/plain": [
              "<Figure size 432x288 with 1 Axes>"
            ],
            "image/png": "[encoded data removed]"
          },
          "metadata": {
            "needs_background": "light"
          }
        },
        {
          "output_type": "display_data",
          "data": {
            "text/plain": [
              "<Figure size 432x288 with 1 Axes>"
            ],
            "image/png": "[encoded data removed]"
          },
          "metadata": {
            "needs_background": "light"
          }
        }
      ]
    },
    {
      "cell_type": "markdown",
      "source": [
        "## Validation Set Evaluation"
      ],
      "metadata": {
        "id": "UZ3lFduxPQeB"
      }
    },
    {
      "cell_type": "markdown",
      "source": [
        "### Val Set Score"
      ],
      "metadata": {
        "id": "5YoYCa22PMGz"
      }
    },
    {
      "cell_type": "code",
      "source": [
        ""
      ],
      "metadata": {
        "id": "jQavrzbB_8fy"
      },
      "execution_count": 22,
      "outputs": []
    },
    {
      "cell_type": "code",
      "source": [
        "# Validation score\n",
        "loss,acc = model.evaluate(x_val, y_val_class, verbose=2)\n"
      ],
      "metadata": {
        "id": "X_KdTUyrf7-j",
        "colab": {
          "base_uri": "https://localhost:8080/"
        },
        "outputId": "54ab3e61-023e-4475-f4b8-0f83e7b974c5"
      },
      "execution_count": 23,
      "outputs": [
        {
          "output_type": "stream",
          "name": "stdout",
          "text": [
            "9/9 - 2s - loss: 1.5502 - categorical_accuracy: 0.4306 - 2s/epoch - 202ms/step\n"
          ]
        }
      ]
    },
    {
      "cell_type": "code",
      "source": [
        ""
      ],
      "metadata": {
        "id": "09k_I9DM_2Q0"
      },
      "execution_count": 23,
      "outputs": []
    },
    {
      "cell_type": "markdown",
      "source": [
        "### Construct Predicted Labels based on Probability of each class"
      ],
      "metadata": {
        "id": "hz7nc15A_3hb"
      }
    },
    {
      "cell_type": "code",
      "source": [
        "y_val_class"
      ],
      "metadata": {
        "colab": {
          "base_uri": "https://localhost:8080/"
        },
        "id": "CFM1P2SZ_85N",
        "outputId": "c5763ad2-66b6-4785-e3d8-2e796ad75a0a"
      },
      "execution_count": 24,
      "outputs": [
        {
          "output_type": "execute_result",
          "data": {
            "text/plain": [
              "array([[0, 0, 0, ..., 0, 0, 1],\n",
              "       [0, 1, 0, ..., 0, 0, 0],\n",
              "       [0, 0, 0, ..., 0, 1, 0],\n",
              "       ...,\n",
              "       [0, 0, 0, ..., 0, 0, 1],\n",
              "       [0, 0, 0, ..., 0, 0, 1],\n",
              "       [0, 0, 1, ..., 0, 0, 0]], dtype=int8)"
            ]
          },
          "metadata": {},
          "execution_count": 24
        }
      ]
    },
    {
      "cell_type": "code",
      "source": [
        "np.argmax(y_val_class, axis=1)"
      ],
      "metadata": {
        "colab": {
          "base_uri": "https://localhost:8080/"
        },
        "id": "C9UHSeXbAASy",
        "outputId": "3f7b3c7c-c904-4a1d-e02d-2f81dad492e1"
      },
      "execution_count": 25,
      "outputs": [
        {
          "output_type": "execute_result",
          "data": {
            "text/plain": [
              "array([6, 1, 5, 3, 5, 5, 2, 5, 0, 4, 5, 1, 5, 5, 2, 1, 0, 1, 4, 5, 3, 6,\n",
              "       0, 2, 2, 4, 6, 5, 1, 4, 0, 5, 2, 3, 1, 6, 5, 2, 1, 0, 3, 4, 0, 5,\n",
              "       3, 3, 0, 6, 4, 6, 0, 3, 3, 3, 4, 5, 3, 2, 3, 6, 1, 0, 3, 2, 4, 4,\n",
              "       6, 2, 4, 0, 5, 5, 1, 2, 0, 5, 5, 3, 4, 6, 4, 2, 2, 3, 6, 0, 0, 3,\n",
              "       2, 5, 1, 4, 1, 0, 6, 3, 6, 1, 2, 6, 6, 2, 0, 5, 1, 5, 4, 0, 5, 2,\n",
              "       0, 5, 0, 6, 2, 3, 3, 2, 2, 2, 0, 1, 5, 2, 5, 3, 2, 0, 3, 3, 3, 2,\n",
              "       0, 3, 0, 6, 3, 3, 3, 1, 0, 3, 6, 5, 6, 4, 0, 2, 6, 2, 1, 1, 4, 6,\n",
              "       0, 2, 1, 1, 3, 0, 6, 6, 2, 0, 1, 5, 5, 4, 5, 5, 0, 2, 4, 4, 6, 4,\n",
              "       3, 6, 2, 3, 2, 3, 0, 1, 0, 3, 1, 5, 2, 1, 6, 0, 4, 1, 6, 2, 0, 0,\n",
              "       6, 0, 0, 2, 5, 5, 1, 2, 3, 2, 2, 2, 4, 3, 5, 3, 1, 0, 2, 0, 2, 4,\n",
              "       6, 1, 0, 6, 5, 6, 4, 0, 0, 4, 5, 3, 2, 6, 2, 6, 3, 5, 3, 1, 5, 6,\n",
              "       5, 1, 2, 1, 6, 0, 5, 3, 2, 1, 6, 3, 0, 1, 3, 6, 3, 2, 2, 4, 6, 4,\n",
              "       3, 2, 2, 5, 5, 4, 1, 3, 6, 5, 3, 0, 3, 4, 6, 6, 2])"
            ]
          },
          "metadata": {},
          "execution_count": 25
        }
      ]
    },
    {
      "cell_type": "code",
      "source": [
        "y_val_class = np.argmax(y_val_class, axis=1)\n",
        "predictions_val = model.predict(x_val)\n",
        "y_proba_val_class = predictions_val\n",
        "y_pred_val_class = np.argmax(predictions_val, axis=1)"
      ],
      "metadata": {
        "id": "urjydD-38JK7"
      },
      "execution_count": 26,
      "outputs": []
    },
    {
      "cell_type": "code",
      "source": [
        "predictions_val\n"
      ],
      "metadata": {
        "colab": {
          "base_uri": "https://localhost:8080/"
        },
        "id": "Zb7dGRs3AEJn",
        "outputId": "b67597df-8a5c-49b3-8d82-e8e41d798354"
      },
      "execution_count": 27,
      "outputs": [
        {
          "output_type": "execute_result",
          "data": {
            "text/plain": [
              "array([[0.01327576, 0.19442251, 0.0615687 , ..., 0.14889891, 0.03165935,\n",
              "        0.14999054],\n",
              "       [0.08059061, 0.40443727, 0.20088045, ..., 0.07494029, 0.08185781,\n",
              "        0.09516244],\n",
              "       [0.00418427, 0.05312036, 0.02592581, ..., 0.6443249 , 0.21112986,\n",
              "        0.03858993],\n",
              "       ...,\n",
              "       [0.00424015, 0.03093782, 0.03142949, ..., 0.48361725, 0.1315545 ,\n",
              "        0.09890534],\n",
              "       [0.00133901, 0.55851054, 0.03833038, ..., 0.09462543, 0.07749336,\n",
              "        0.11723483],\n",
              "       [0.00121143, 0.03743443, 0.04068607, ..., 0.7545852 , 0.06044455,\n",
              "        0.02059315]], dtype=float32)"
            ]
          },
          "metadata": {},
          "execution_count": 27
        }
      ]
    },
    {
      "cell_type": "code",
      "source": [
        "y_pred_val_class "
      ],
      "metadata": {
        "colab": {
          "base_uri": "https://localhost:8080/"
        },
        "id": "KxHa1Ss1AJo4",
        "outputId": "17ad8a29-e23f-401c-bedf-231aa774019d"
      },
      "execution_count": 28,
      "outputs": [
        {
          "output_type": "execute_result",
          "data": {
            "text/plain": [
              "array([3, 1, 4, 3, 3, 0, 4, 5, 0, 4, 3, 3, 4, 5, 2, 6, 0, 1, 4, 5, 3, 2,\n",
              "       0, 0, 4, 6, 6, 5, 1, 4, 0, 1, 6, 4, 6, 6, 5, 3, 1, 4, 4, 4, 2, 5,\n",
              "       3, 3, 5, 5, 6, 4, 0, 3, 5, 5, 2, 0, 3, 2, 1, 3, 6, 6, 3, 4, 4, 6,\n",
              "       6, 6, 4, 2, 1, 5, 2, 5, 5, 5, 5, 3, 6, 4, 4, 4, 2, 3, 6, 0, 6, 6,\n",
              "       2, 5, 4, 5, 3, 0, 1, 5, 6, 2, 4, 5, 5, 6, 0, 4, 2, 3, 4, 6, 5, 2,\n",
              "       1, 0, 2, 6, 3, 4, 3, 0, 6, 2, 2, 1, 0, 5, 5, 3, 3, 5, 4, 3, 2, 2,\n",
              "       4, 3, 6, 4, 3, 2, 3, 0, 2, 1, 6, 3, 6, 2, 2, 4, 4, 5, 1, 4, 6, 1,\n",
              "       5, 2, 4, 5, 3, 5, 0, 6, 2, 0, 6, 3, 5, 4, 3, 5, 5, 2, 4, 5, 3, 4,\n",
              "       3, 4, 3, 3, 2, 3, 6, 1, 0, 3, 4, 4, 6, 2, 6, 4, 6, 4, 4, 0, 0, 5,\n",
              "       1, 5, 0, 0, 3, 5, 6, 6, 3, 6, 2, 5, 4, 3, 3, 3, 0, 1, 1, 0, 6, 2,\n",
              "       6, 5, 0, 6, 3, 4, 6, 2, 0, 4, 5, 3, 2, 6, 2, 4, 3, 4, 3, 1, 1, 6,\n",
              "       6, 2, 0, 6, 3, 0, 5, 3, 6, 6, 6, 3, 0, 1, 6, 1, 3, 5, 6, 2, 6, 4,\n",
              "       5, 2, 6, 4, 2, 6, 6, 3, 4, 2, 3, 0, 3, 2, 4, 1, 4])"
            ]
          },
          "metadata": {},
          "execution_count": 28
        }
      ]
    },
    {
      "cell_type": "markdown",
      "source": [
        "### Val Set Confusion Matrix and Heatmap"
      ],
      "metadata": {
        "id": "d2ullxf9PUMd"
      }
    },
    {
      "cell_type": "code",
      "source": [
        "# Validation Confusion matrix\n",
        "cm=confusion_matrix(y_val_class, y_pred_val_class)\n",
        "\n",
        "index = ['calm', 'happy', 'sad', 'angry', 'fearful', 'disgust', 'surprised']  \n",
        "columns = ['calm', 'happy', 'sad', 'angry', 'fearful', 'disgust', 'surprised']  \n",
        " \n",
        "cm_df = pd.DataFrame(cm,index,columns)                      \n",
        "plt.figure(figsize=(12,8))\n",
        "ax = plt.axes()\n",
        "\n",
        "sns.heatmap(cm_df, ax = ax, cmap = 'PuBu', fmt=\"d\", annot=True)\n",
        "ax.set_ylabel('True emotion')\n",
        "ax.set_xlabel('Predicted emotion')"
      ],
      "metadata": {
        "colab": {
          "base_uri": "https://localhost:8080/",
          "height": 514
        },
        "id": "doLcg3CTf9bx",
        "outputId": "c3581c5a-49eb-4032-8c0b-2577239fa4a9"
      },
      "execution_count": 29,
      "outputs": [
        {
          "output_type": "execute_result",
          "data": {
            "text/plain": [
              "Text(0.5, 51.0, 'Predicted emotion')"
            ]
          },
          "metadata": {},
          "execution_count": 29
        },
        {
          "output_type": "display_data",
          "data": {
            "text/plain": [
              "<Figure size 864x576 with 2 Axes>"
            ],
            "image/png": "[encoded data removed]"
          },
          "metadata": {
            "needs_background": "light"
          }
        }
      ]
    },
    {
      "cell_type": "code",
      "source": [
        "# Confusion Matrix\n",
        "cm"
      ],
      "metadata": {
        "colab": {
          "base_uri": "https://localhost:8080/"
        },
        "id": "hIEG9Pia8Nfp",
        "outputId": "d318c8ee-93a2-4385-875a-f36489bbd11c"
      },
      "execution_count": 30,
      "outputs": [
        {
          "output_type": "execute_result",
          "data": {
            "text/plain": [
              "array([[18,  2,  7,  0,  3,  8,  5],\n",
              "       [ 2,  9,  5,  2,  5,  2,  8],\n",
              "       [ 5,  1, 15,  4,  7,  5, 11],\n",
              "       [ 0,  2,  2, 32,  4,  4,  2],\n",
              "       [ 0,  0,  5,  0, 14,  2,  8],\n",
              "       [ 4,  3,  2,  9,  6, 17,  1],\n",
              "       [ 1,  5,  1,  4, 10,  3, 16]])"
            ]
          },
          "metadata": {},
          "execution_count": 30
        }
      ]
    },
    {
      "cell_type": "markdown",
      "source": [
        "### Validation Set Predicted emotions accuracy"
      ],
      "metadata": {
        "id": "kWjKgUdRPYH5"
      }
    },
    {
      "cell_type": "code",
      "source": [
        "# Validation set prediction accuracy rates\n",
        "\n",
        "values = cm.diagonal()\n",
        "row_sum = np.sum(cm,axis=1)\n",
        "acc = values / row_sum\n",
        "\n",
        "print('Validation set predicted emotions accuracy:')\n",
        "for e in range(0, len(values)):\n",
        "    print(index[e],':', f\"{(acc[e]):0.4f}\")"
      ],
      "metadata": {
        "colab": {
          "base_uri": "https://localhost:8080/"
        },
        "id": "MopdywY9f-mS",
        "outputId": "c6a1120d-8bc1-4506-eb64-d023f629a913"
      },
      "execution_count": 31,
      "outputs": [
        {
          "output_type": "stream",
          "name": "stdout",
          "text": [
            "Validation set predicted emotions accuracy:\n",
            "calm : 0.4186\n",
            "happy : 0.2727\n",
            "sad : 0.3125\n",
            "angry : 0.6957\n",
            "fearful : 0.4828\n",
            "disgust : 0.4048\n",
            "surprised : 0.4000\n"
          ]
        }
      ]
    },
    {
      "cell_type": "markdown",
      "source": [
        "### Precision, Recal, Fscore"
      ],
      "metadata": {
        "id": "DGSTy2228XRH"
      }
    },
    {
      "cell_type": "code",
      "source": [
        "# Validation set precision, recall, fscore\n",
        "\n",
        "precision_recall_fscore_support(y_val_class, y_pred_val_class, average='macro')\n"
      ],
      "metadata": {
        "colab": {
          "base_uri": "https://localhost:8080/"
        },
        "id": "rOwUkCG0gGpm",
        "outputId": "51fd990e-a88c-4cca-d4d5-112353819e72"
      },
      "execution_count": 32,
      "outputs": [
        {
          "output_type": "execute_result",
          "data": {
            "text/plain": [
              "(0.4365744595914713, 0.4267149461792381, 0.4219170954210557, None)"
            ]
          },
          "metadata": {},
          "execution_count": 32
        }
      ]
    },
    {
      "cell_type": "code",
      "source": [
        "precision_recall_fscore_support(y_val_class, y_pred_val_class, average='weighted')"
      ],
      "metadata": {
        "colab": {
          "base_uri": "https://localhost:8080/"
        },
        "id": "OorFgXxDzy3o",
        "outputId": "9f17c8a8-650f-4afe-82bd-67c8abad2c7f"
      },
      "execution_count": 33,
      "outputs": [
        {
          "output_type": "execute_result",
          "data": {
            "text/plain": [
              "(0.447941539492518, 0.4306049822064057, 0.43052733501729346, None)"
            ]
          },
          "metadata": {},
          "execution_count": 33
        }
      ]
    },
    {
      "cell_type": "markdown",
      "source": [
        "## Test Set Evaluation"
      ],
      "metadata": {
        "id": "FiCwOjmPPgCn"
      }
    },
    {
      "cell_type": "markdown",
      "source": [
        "### Test Set Score\n",
        "\n"
      ],
      "metadata": {
        "id": "CWB7U5xDUSmF"
      }
    },
    {
      "cell_type": "code",
      "source": [
        "loss, acc = model.evaluate(x_test, y_test_class, verbose=2)"
      ],
      "metadata": {
        "id": "Y7NEHPM-gzml",
        "colab": {
          "base_uri": "https://localhost:8080/"
        },
        "outputId": "39f8f7dd-8fa5-4b9d-b13d-6676f5633ad1"
      },
      "execution_count": 34,
      "outputs": [
        {
          "output_type": "stream",
          "name": "stdout",
          "text": [
            "4/4 - 0s - loss: 1.4927 - categorical_accuracy: 0.4146 - 363ms/epoch - 91ms/step\n"
          ]
        }
      ]
    },
    {
      "cell_type": "markdown",
      "source": [
        "### Construct Predicted Labels based on Probability of each class"
      ],
      "metadata": {
        "id": "gPwcFV9oAhGh"
      }
    },
    {
      "cell_type": "code",
      "source": [
        "y_test_class"
      ],
      "metadata": {
        "colab": {
          "base_uri": "https://localhost:8080/"
        },
        "id": "tjN7Eit7AiML",
        "outputId": "22c905e0-0c01-4783-ae3b-324e897b3e07"
      },
      "execution_count": 35,
      "outputs": [
        {
          "output_type": "execute_result",
          "data": {
            "text/plain": [
              "array([[0, 0, 0, 0, 0, 0, 1],\n",
              "       [0, 0, 0, 1, 0, 0, 0],\n",
              "       [0, 0, 0, 0, 0, 1, 0],\n",
              "       [0, 0, 0, 0, 1, 0, 0],\n",
              "       [1, 0, 0, 0, 0, 0, 0],\n",
              "       [0, 0, 0, 0, 1, 0, 0],\n",
              "       [0, 0, 0, 0, 0, 1, 0],\n",
              "       [0, 0, 0, 0, 1, 0, 0],\n",
              "       [0, 0, 0, 1, 0, 0, 0],\n",
              "       [0, 0, 0, 0, 0, 0, 1],\n",
              "       [0, 0, 0, 1, 0, 0, 0],\n",
              "       [0, 0, 0, 0, 1, 0, 0],\n",
              "       [1, 0, 0, 0, 0, 0, 0],\n",
              "       [0, 0, 0, 0, 0, 1, 0],\n",
              "       [0, 0, 0, 1, 0, 0, 0],\n",
              "       [1, 0, 0, 0, 0, 0, 0],\n",
              "       [0, 0, 0, 0, 0, 1, 0],\n",
              "       [0, 0, 0, 0, 0, 1, 0],\n",
              "       [0, 0, 1, 0, 0, 0, 0],\n",
              "       [0, 0, 0, 0, 0, 0, 1],\n",
              "       [0, 0, 0, 0, 0, 0, 1],\n",
              "       [1, 0, 0, 0, 0, 0, 0],\n",
              "       [1, 0, 0, 0, 0, 0, 0],\n",
              "       [0, 0, 1, 0, 0, 0, 0],\n",
              "       [0, 0, 0, 0, 0, 1, 0],\n",
              "       [1, 0, 0, 0, 0, 0, 0],\n",
              "       [0, 0, 0, 0, 0, 1, 0],\n",
              "       [1, 0, 0, 0, 0, 0, 0],\n",
              "       [0, 0, 0, 0, 1, 0, 0],\n",
              "       [0, 1, 0, 0, 0, 0, 0],\n",
              "       [0, 0, 0, 1, 0, 0, 0],\n",
              "       [0, 0, 0, 0, 0, 0, 1],\n",
              "       [0, 0, 0, 0, 0, 0, 1],\n",
              "       [0, 0, 0, 0, 0, 1, 0],\n",
              "       [0, 0, 0, 0, 1, 0, 0],\n",
              "       [0, 0, 1, 0, 0, 0, 0],\n",
              "       [0, 0, 0, 0, 0, 1, 0],\n",
              "       [0, 0, 0, 0, 1, 0, 0],\n",
              "       [0, 0, 0, 0, 1, 0, 0],\n",
              "       [0, 0, 0, 0, 0, 1, 0],\n",
              "       [0, 0, 0, 0, 0, 0, 1],\n",
              "       [1, 0, 0, 0, 0, 0, 0],\n",
              "       [0, 1, 0, 0, 0, 0, 0],\n",
              "       [0, 0, 1, 0, 0, 0, 0],\n",
              "       [0, 1, 0, 0, 0, 0, 0],\n",
              "       [0, 1, 0, 0, 0, 0, 0],\n",
              "       [0, 0, 0, 0, 0, 0, 1],\n",
              "       [0, 0, 1, 0, 0, 0, 0],\n",
              "       [0, 0, 0, 0, 0, 0, 1],\n",
              "       [0, 0, 0, 0, 1, 0, 0],\n",
              "       [0, 0, 0, 0, 0, 1, 0],\n",
              "       [0, 0, 0, 0, 0, 0, 1],\n",
              "       [0, 1, 0, 0, 0, 0, 0],\n",
              "       [0, 0, 1, 0, 0, 0, 0],\n",
              "       [0, 0, 0, 0, 0, 1, 0],\n",
              "       [0, 1, 0, 0, 0, 0, 0],\n",
              "       [0, 1, 0, 0, 0, 0, 0],\n",
              "       [0, 0, 0, 0, 1, 0, 0],\n",
              "       [0, 0, 0, 0, 1, 0, 0],\n",
              "       [0, 1, 0, 0, 0, 0, 0],\n",
              "       [0, 0, 0, 0, 0, 0, 1],\n",
              "       [0, 0, 0, 1, 0, 0, 0],\n",
              "       [0, 0, 0, 0, 1, 0, 0],\n",
              "       [0, 0, 1, 0, 0, 0, 0],\n",
              "       [0, 0, 1, 0, 0, 0, 0],\n",
              "       [0, 0, 1, 0, 0, 0, 0],\n",
              "       [0, 0, 0, 0, 1, 0, 0],\n",
              "       [1, 0, 0, 0, 0, 0, 0],\n",
              "       [0, 0, 0, 1, 0, 0, 0],\n",
              "       [0, 0, 0, 0, 0, 0, 1],\n",
              "       [0, 0, 0, 0, 0, 1, 0],\n",
              "       [0, 1, 0, 0, 0, 0, 0],\n",
              "       [0, 0, 1, 0, 0, 0, 0],\n",
              "       [0, 0, 0, 0, 1, 0, 0],\n",
              "       [0, 0, 0, 1, 0, 0, 0],\n",
              "       [1, 0, 0, 0, 0, 0, 0],\n",
              "       [0, 0, 0, 1, 0, 0, 0],\n",
              "       [0, 0, 0, 0, 0, 0, 1],\n",
              "       [0, 0, 1, 0, 0, 0, 0],\n",
              "       [0, 0, 0, 0, 0, 0, 1],\n",
              "       [1, 0, 0, 0, 0, 0, 0],\n",
              "       [0, 0, 0, 0, 1, 0, 0],\n",
              "       [0, 1, 0, 0, 0, 0, 0],\n",
              "       [0, 0, 0, 1, 0, 0, 0],\n",
              "       [0, 0, 0, 0, 0, 0, 1],\n",
              "       [0, 0, 0, 1, 0, 0, 0],\n",
              "       [0, 0, 0, 0, 0, 0, 1],\n",
              "       [0, 0, 0, 0, 1, 0, 0],\n",
              "       [0, 0, 0, 1, 0, 0, 0],\n",
              "       [0, 0, 0, 1, 0, 0, 0],\n",
              "       [0, 0, 1, 0, 0, 0, 0],\n",
              "       [0, 0, 0, 0, 0, 1, 0],\n",
              "       [0, 0, 0, 0, 1, 0, 0],\n",
              "       [0, 1, 0, 0, 0, 0, 0],\n",
              "       [1, 0, 0, 0, 0, 0, 0],\n",
              "       [0, 0, 0, 1, 0, 0, 0],\n",
              "       [0, 0, 1, 0, 0, 0, 0],\n",
              "       [0, 0, 0, 1, 0, 0, 0],\n",
              "       [0, 1, 0, 0, 0, 0, 0],\n",
              "       [1, 0, 0, 0, 0, 0, 0],\n",
              "       [0, 0, 1, 0, 0, 0, 0],\n",
              "       [0, 0, 0, 0, 0, 0, 1],\n",
              "       [0, 0, 0, 0, 0, 1, 0],\n",
              "       [0, 0, 0, 0, 1, 0, 0],\n",
              "       [0, 0, 0, 0, 1, 0, 0],\n",
              "       [0, 0, 0, 1, 0, 0, 0],\n",
              "       [0, 0, 0, 1, 0, 0, 0],\n",
              "       [0, 0, 0, 0, 0, 0, 1],\n",
              "       [0, 0, 0, 0, 1, 0, 0],\n",
              "       [1, 0, 0, 0, 0, 0, 0],\n",
              "       [0, 0, 0, 1, 0, 0, 0],\n",
              "       [0, 0, 0, 0, 1, 0, 0],\n",
              "       [0, 0, 0, 0, 0, 0, 1],\n",
              "       [0, 0, 0, 0, 0, 1, 0],\n",
              "       [0, 0, 0, 1, 0, 0, 0],\n",
              "       [0, 0, 1, 0, 0, 0, 0],\n",
              "       [0, 0, 0, 1, 0, 0, 0],\n",
              "       [0, 1, 0, 0, 0, 0, 0],\n",
              "       [0, 0, 0, 0, 0, 0, 1],\n",
              "       [0, 0, 0, 0, 0, 0, 1],\n",
              "       [0, 1, 0, 0, 0, 0, 0],\n",
              "       [1, 0, 0, 0, 0, 0, 0],\n",
              "       [0, 0, 0, 0, 0, 0, 1]], dtype=int8)"
            ]
          },
          "metadata": {},
          "execution_count": 35
        }
      ]
    },
    {
      "cell_type": "code",
      "source": [
        " np.argmax(y_test_class, axis=1)"
      ],
      "metadata": {
        "colab": {
          "base_uri": "https://localhost:8080/"
        },
        "id": "2fcK-_HzAmc5",
        "outputId": "7c960bed-c234-42f2-f883-e415cf93b380"
      },
      "execution_count": 36,
      "outputs": [
        {
          "output_type": "execute_result",
          "data": {
            "text/plain": [
              "array([6, 3, 5, 4, 0, 4, 5, 4, 3, 6, 3, 4, 0, 5, 3, 0, 5, 5, 2, 6, 6, 0,\n",
              "       0, 2, 5, 0, 5, 0, 4, 1, 3, 6, 6, 5, 4, 2, 5, 4, 4, 5, 6, 0, 1, 2,\n",
              "       1, 1, 6, 2, 6, 4, 5, 6, 1, 2, 5, 1, 1, 4, 4, 1, 6, 3, 4, 2, 2, 2,\n",
              "       4, 0, 3, 6, 5, 1, 2, 4, 3, 0, 3, 6, 2, 6, 0, 4, 1, 3, 6, 3, 6, 4,\n",
              "       3, 3, 2, 5, 4, 1, 0, 3, 2, 3, 1, 0, 2, 6, 5, 4, 4, 3, 3, 6, 4, 0,\n",
              "       3, 4, 6, 5, 3, 2, 3, 1, 6, 6, 1, 0, 6])"
            ]
          },
          "metadata": {},
          "execution_count": 36
        }
      ]
    },
    {
      "cell_type": "code",
      "source": [
        "y_test_class = np.argmax(y_test_class, axis=1)\n",
        "predictions_test = model.predict(x_test)\n",
        "y_pred_test_class = np.argmax(predictions_test, axis=1)\n",
        "y_proba_test_class = predictions_test\n",
        "\n"
      ],
      "metadata": {
        "id": "uyXvoU2rAckI"
      },
      "execution_count": 37,
      "outputs": []
    },
    {
      "cell_type": "code",
      "source": [
        "predictions_test"
      ],
      "metadata": {
        "colab": {
          "base_uri": "https://localhost:8080/"
        },
        "id": "3BAOUaPwAtuY",
        "outputId": "5544bfad-7528-407c-85fd-945282555051"
      },
      "execution_count": 38,
      "outputs": [
        {
          "output_type": "execute_result",
          "data": {
            "text/plain": [
              "array([[2.93782121e-03, 1.19396197e-02, 9.48364586e-02, 3.75561029e-01,\n",
              "        4.30365242e-02, 1.69952378e-01, 3.01736116e-01],\n",
              "       [8.28091637e-04, 2.87597850e-02, 5.01629785e-02, 1.16329029e-01,\n",
              "        3.34360510e-01, 6.56901971e-02, 4.03869390e-01],\n",
              "       [2.45012552e-03, 9.33058280e-03, 1.55727118e-01, 3.16735119e-01,\n",
              "        1.09377399e-01, 1.18183307e-01, 2.88196415e-01],\n",
              "       [2.17934861e-03, 1.16759390e-02, 3.82041372e-02, 1.33524230e-02,\n",
              "        2.86388576e-01, 2.30120756e-02, 6.25187516e-01],\n",
              "       [6.09923005e-01, 1.59589015e-02, 2.58913994e-01, 1.77663332e-03,\n",
              "        6.09861920e-03, 7.37517178e-02, 3.35771553e-02],\n",
              "       [2.08946946e-03, 8.64581689e-02, 5.55730127e-02, 5.60858212e-02,\n",
              "        2.48936310e-01, 3.63989361e-02, 5.14458239e-01],\n",
              "       [2.36570220e-02, 1.31945968e-01, 2.96866775e-01, 2.53152132e-01,\n",
              "        5.28802238e-02, 1.89848244e-01, 5.16496859e-02],\n",
              "       [2.34853942e-02, 2.22495779e-01, 7.25090951e-02, 1.11277169e-02,\n",
              "        3.07672858e-01, 1.61336716e-02, 3.46575469e-01],\n",
              "       [5.93618257e-04, 8.32232833e-03, 7.43841305e-02, 6.72224462e-01,\n",
              "        3.48135345e-02, 1.75500616e-01, 3.41612101e-02],\n",
              "       [2.13658088e-03, 9.03286040e-03, 4.09022830e-02, 2.35637985e-02,\n",
              "        1.71938360e-01, 5.33811301e-02, 6.99044943e-01],\n",
              "       [5.91928023e-04, 2.99511570e-02, 6.88882396e-02, 3.24224085e-01,\n",
              "        3.23811322e-01, 2.38985773e-02, 2.28634670e-01],\n",
              "       [2.08561569e-02, 1.07909016e-01, 2.47051507e-01, 5.11392951e-02,\n",
              "        1.82056144e-01, 2.49784049e-02, 3.66009563e-01],\n",
              "       [5.00363410e-01, 1.24454126e-02, 1.94614053e-01, 4.67203632e-02,\n",
              "        3.12611870e-02, 1.92869738e-01, 2.17257943e-02],\n",
              "       [5.02468869e-02, 2.17982735e-02, 3.06620114e-02, 5.93906604e-02,\n",
              "        4.93538193e-03, 8.17738235e-01, 1.52285285e-02],\n",
              "       [9.77760414e-04, 2.69272625e-02, 1.17614985e-01, 2.56569564e-01,\n",
              "        2.14357018e-01, 1.27969831e-01, 2.55583614e-01],\n",
              "       [4.24669802e-01, 9.05108750e-02, 1.34912625e-01, 2.03960785e-03,\n",
              "        1.34340480e-01, 8.66912156e-02, 1.26835316e-01],\n",
              "       [3.57036619e-03, 6.82712020e-03, 2.17182249e-01, 2.61950046e-01,\n",
              "        9.24011841e-02, 1.43498838e-01, 2.74570197e-01],\n",
              "       [2.13313918e-03, 1.10485852e-02, 1.07545599e-01, 5.32190204e-01,\n",
              "        5.04682958e-02, 2.20723152e-01, 7.58909807e-02],\n",
              "       [3.48653900e-03, 8.53357371e-03, 1.29301488e-01, 2.32967794e-01,\n",
              "        5.63258715e-02, 3.84927839e-01, 1.84456810e-01],\n",
              "       [8.32570810e-03, 3.52946706e-02, 1.54441103e-01, 9.39000025e-02,\n",
              "        1.10209510e-01, 3.05745661e-01, 2.92083353e-01],\n",
              "       [7.17007369e-02, 1.34283066e-01, 6.39536604e-02, 2.33961828e-03,\n",
              "        9.50945616e-02, 7.39889871e-03, 6.25229478e-01],\n",
              "       [1.74501594e-02, 2.44060785e-01, 6.59323633e-02, 9.05330852e-03,\n",
              "        1.34189710e-01, 1.14749428e-02, 5.17838717e-01],\n",
              "       [4.71668392e-01, 2.16142908e-02, 3.52989763e-01, 1.65157043e-03,\n",
              "        1.19575143e-01, 2.70708259e-02, 5.42994682e-03],\n",
              "       [2.59243131e-01, 2.81582594e-01, 2.48277456e-01, 2.28354381e-03,\n",
              "        3.73460986e-02, 8.33083168e-02, 8.79588649e-02],\n",
              "       [1.73746550e-03, 6.07913919e-02, 7.15126917e-02, 5.10738194e-01,\n",
              "        1.00403756e-01, 1.62368134e-01, 9.24484357e-02],\n",
              "       [6.37852773e-02, 1.54956833e-01, 2.77920544e-01, 1.40205510e-02,\n",
              "        3.28572839e-01, 1.27318436e-02, 1.48012131e-01],\n",
              "       [3.57956849e-02, 5.34357667e-01, 1.47729844e-01, 8.26648399e-02,\n",
              "        1.35545015e-01, 1.13012400e-02, 5.26057929e-02],\n",
              "       [1.48408145e-01, 4.32614982e-03, 3.36306691e-01, 3.36357467e-02,\n",
              "        4.12428193e-02, 4.11878437e-01, 2.42020767e-02],\n",
              "       [1.88696072e-01, 7.39563853e-02, 3.28548044e-01, 2.83771707e-03,\n",
              "        2.79230386e-01, 3.28366533e-02, 9.38947052e-02],\n",
              "       [8.50120210e-04, 5.55102706e-01, 1.31552005e-02, 1.67597122e-02,\n",
              "        3.09030507e-02, 4.14457778e-03, 3.79084647e-01],\n",
              "       [2.14723926e-02, 1.51764639e-02, 1.92946017e-01, 2.34976597e-02,\n",
              "        5.22530735e-01, 1.88113332e-01, 3.62633839e-02],\n",
              "       [2.09748442e-03, 2.18457282e-01, 1.31388223e-02, 1.35415206e-02,\n",
              "        3.71572487e-02, 5.73793938e-03, 7.09869683e-01],\n",
              "       [5.48797287e-03, 4.54418883e-02, 6.19726963e-02, 8.02366994e-03,\n",
              "        5.61244547e-01, 1.79009754e-02, 2.99928278e-01],\n",
              "       [8.42542388e-03, 3.32705170e-01, 1.97026268e-01, 2.83513013e-02,\n",
              "        8.80537108e-02, 6.88876584e-02, 2.76550442e-01],\n",
              "       [6.53607713e-04, 1.24122731e-01, 1.63751431e-02, 1.66905820e-02,\n",
              "        8.08426738e-01, 7.15662353e-03, 2.65745539e-02],\n",
              "       [1.61341988e-02, 4.33569476e-02, 4.55467589e-02, 6.82834387e-01,\n",
              "        1.48482965e-02, 1.72470018e-01, 2.48094387e-02],\n",
              "       [4.81525436e-02, 8.29570964e-02, 1.46423370e-01, 2.82309158e-03,\n",
              "        1.13094151e-01, 1.00093391e-02, 5.96540391e-01],\n",
              "       [2.21513980e-03, 2.66869571e-02, 4.79123257e-02, 3.05037536e-02,\n",
              "        3.15481871e-01, 4.27997857e-02, 5.34400105e-01],\n",
              "       [1.14804541e-03, 1.48314402e-01, 3.61715928e-02, 7.27477530e-03,\n",
              "        7.29458570e-01, 1.02376398e-02, 6.73948601e-02],\n",
              "       [5.11985738e-03, 9.25027300e-03, 1.96942016e-02, 2.17811301e-01,\n",
              "        3.02563445e-03, 7.37637818e-01, 7.46099371e-03],\n",
              "       [1.49219064e-03, 4.02513891e-01, 1.55893210e-02, 1.06363837e-02,\n",
              "        3.92430350e-02, 5.83896786e-03, 5.24686158e-01],\n",
              "       [7.77522326e-01, 1.30727775e-02, 1.78915799e-01, 3.63857369e-04,\n",
              "        1.50654987e-02, 6.40474493e-03, 8.65501910e-03],\n",
              "       [1.58538874e-02, 5.53736448e-01, 1.83455925e-02, 4.18402534e-03,\n",
              "        3.78906168e-02, 2.67676748e-02, 3.43221724e-01],\n",
              "       [1.37170230e-03, 9.20046121e-03, 1.59149259e-01, 5.07064283e-01,\n",
              "        7.21437186e-02, 1.69728056e-01, 8.13425779e-02],\n",
              "       [2.86557022e-02, 1.56650782e-01, 1.08629726e-01, 3.33344401e-03,\n",
              "        6.26588643e-01, 1.41332820e-02, 6.20083511e-02],\n",
              "       [3.45232040e-02, 2.26353139e-01, 1.30467936e-01, 9.96851362e-03,\n",
              "        1.44155964e-01, 5.23231700e-02, 4.02208090e-01],\n",
              "       [8.51689465e-03, 1.57135978e-01, 1.43047776e-02, 2.21166504e-03,\n",
              "        2.70887706e-02, 5.00260945e-03, 7.85739303e-01],\n",
              "       [9.67077166e-02, 1.21554211e-01, 2.18976662e-01, 1.91400960e-01,\n",
              "        8.19495842e-02, 3.41316350e-02, 2.55279303e-01],\n",
              "       [7.90855102e-03, 1.24231512e-02, 3.14229578e-02, 7.97004640e-01,\n",
              "        1.04874438e-02, 1.14082545e-01, 2.66707055e-02],\n",
              "       [1.01210019e-02, 2.54956812e-01, 5.46504594e-02, 2.73655504e-02,\n",
              "        3.53813887e-01, 8.07575136e-02, 2.18334749e-01],\n",
              "       [2.34153405e-01, 1.55405821e-02, 8.12161565e-02, 5.73338345e-02,\n",
              "        5.03663486e-03, 6.03353560e-01, 3.36582935e-03],\n",
              "       [4.20082035e-03, 5.06287478e-02, 1.38168991e-01, 4.13759649e-01,\n",
              "        5.14229350e-02, 1.71036899e-01, 1.70781970e-01],\n",
              "       [8.29801112e-02, 1.23661123e-01, 2.57430077e-01, 9.58879665e-03,\n",
              "        4.53615099e-01, 2.66791135e-02, 4.60456572e-02],\n",
              "       [1.09695464e-01, 4.28337231e-02, 4.66582984e-01, 3.24634858e-03,\n",
              "        2.51284838e-01, 6.12978116e-02, 6.50587454e-02],\n",
              "       [1.45891048e-02, 4.30097431e-02, 2.34204605e-02, 2.30895191e-01,\n",
              "        6.53712172e-03, 6.63221598e-01, 1.83267836e-02],\n",
              "       [7.95121849e-01, 4.95798364e-02, 1.05292432e-01, 1.39115972e-03,\n",
              "        2.84750443e-02, 1.26833534e-02, 7.45622255e-03],\n",
              "       [3.39086980e-01, 4.01853435e-02, 1.67129606e-01, 1.27897970e-02,\n",
              "        2.77468741e-01, 1.39163643e-01, 2.41759196e-02],\n",
              "       [9.05401289e-01, 7.49363052e-03, 5.99068068e-02, 4.84138291e-04,\n",
              "        9.27619450e-03, 8.12422670e-03, 9.31354426e-03],\n",
              "       [2.30350764e-03, 1.24770142e-01, 2.58747451e-02, 3.92060913e-03,\n",
              "        7.55846620e-01, 1.25496108e-02, 7.47347847e-02],\n",
              "       [1.08582443e-02, 1.13511361e-01, 2.30996102e-01, 1.60455495e-01,\n",
              "        1.84468582e-01, 6.09134436e-02, 2.38796830e-01],\n",
              "       [2.29861051e-01, 2.09454641e-01, 1.83258802e-01, 1.39547000e-02,\n",
              "        1.99521139e-01, 2.05517802e-02, 1.43397823e-01],\n",
              "       [1.21514034e-03, 1.36856854e-01, 3.61330174e-02, 4.92862195e-01,\n",
              "        6.65554032e-02, 3.29670683e-02, 2.33410329e-01],\n",
              "       [2.78131734e-03, 1.74403906e-01, 4.53102812e-02, 2.43766084e-02,\n",
              "        6.97204530e-01, 2.99521368e-02, 2.59712506e-02],\n",
              "       [1.24424428e-03, 5.23517787e-01, 4.97915857e-02, 6.61395397e-03,\n",
              "        3.68317306e-01, 1.81753617e-02, 3.23397815e-02],\n",
              "       [2.11863108e-02, 1.40199512e-01, 6.73322976e-02, 5.70809469e-03,\n",
              "        2.53962964e-01, 1.06074102e-02, 5.01003385e-01],\n",
              "       [7.60210212e-03, 2.06785858e-01, 7.06839487e-02, 5.76749504e-01,\n",
              "        4.99580465e-02, 6.57523349e-02, 2.24682242e-02],\n",
              "       [1.99614223e-02, 7.19896704e-02, 7.75955841e-02, 3.28944274e-03,\n",
              "        2.40394652e-01, 1.12197855e-02, 5.75549483e-01],\n",
              "       [7.75351226e-01, 3.53776990e-03, 1.53759763e-01, 5.74823527e-04,\n",
              "        1.08175771e-02, 5.29864840e-02, 2.97237234e-03],\n",
              "       [5.40256384e-04, 2.16544513e-02, 1.01427242e-01, 6.67418778e-01,\n",
              "        1.10077597e-01, 6.48380965e-02, 3.40435654e-02],\n",
              "       [1.86395785e-03, 2.80451402e-02, 9.05034319e-02, 2.04058543e-01,\n",
              "        2.69615859e-01, 1.94316402e-01, 2.11596638e-01],\n",
              "       [1.61392987e-03, 1.25548318e-01, 5.70527278e-02, 3.64041328e-02,\n",
              "        7.26406693e-01, 4.29730937e-02, 1.00011695e-02],\n",
              "       [8.11445294e-04, 5.84784687e-01, 1.11672152e-02, 1.58530585e-02,\n",
              "        3.46839018e-02, 4.78027109e-03, 3.47919434e-01],\n",
              "       [1.12031691e-01, 4.61688899e-02, 4.13200587e-01, 2.42814841e-03,\n",
              "        3.38796586e-01, 3.36512551e-02, 5.37229218e-02],\n",
              "       [4.65807877e-03, 1.13706579e-02, 2.00106248e-01, 1.22807361e-01,\n",
              "        8.02058056e-02, 5.82737029e-02, 5.22578120e-01],\n",
              "       [3.97000927e-04, 1.17290370e-01, 4.92490269e-02, 2.99934566e-01,\n",
              "        4.31533486e-01, 1.41848298e-02, 8.74107033e-02],\n",
              "       [3.09662044e-01, 4.75251973e-02, 5.36659360e-01, 1.11138553e-03,\n",
              "        7.75127485e-02, 1.39774168e-02, 1.35519002e-02],\n",
              "       [4.46646800e-03, 3.18554372e-01, 6.51338696e-02, 2.19700471e-01,\n",
              "        7.49026164e-02, 1.38102502e-01, 1.79139629e-01],\n",
              "       [3.66729498e-02, 1.34234145e-01, 4.86706235e-02, 1.55012205e-03,\n",
              "        1.10942103e-01, 6.16862113e-03, 6.61761403e-01],\n",
              "       [1.14609815e-01, 1.34903669e-01, 1.79687589e-01, 2.82978356e-01,\n",
              "        1.36263957e-02, 2.15100318e-01, 5.90938739e-02],\n",
              "       [3.57442535e-02, 1.09776426e-02, 2.28106856e-01, 2.94163618e-02,\n",
              "        2.85797954e-01, 2.24821955e-01, 1.85134962e-01],\n",
              "       [7.47739017e-01, 2.27801502e-02, 1.49915442e-01, 3.99629935e-04,\n",
              "        3.56509499e-02, 1.14507424e-02, 3.20640318e-02],\n",
              "       [1.17951028e-01, 1.80978794e-02, 3.35086316e-01, 4.64870874e-03,\n",
              "        3.00204128e-01, 8.29949230e-02, 1.41016901e-01],\n",
              "       [2.90893503e-02, 5.52311420e-01, 1.34262681e-01, 2.14545950e-02,\n",
              "        6.65558726e-02, 1.82285756e-02, 1.78097561e-01],\n",
              "       [1.01758272e-03, 1.12142749e-02, 7.44692832e-02, 4.67597723e-01,\n",
              "        4.91142236e-02, 3.60278428e-01, 3.63084786e-02],\n",
              "       [4.58345227e-02, 5.37062511e-02, 1.59199342e-01, 2.00225171e-02,\n",
              "        4.53915775e-01, 1.72861770e-01, 9.44597572e-02],\n",
              "       [1.01151029e-02, 2.66022868e-02, 2.31635720e-02, 5.79257250e-01,\n",
              "        1.12392874e-02, 3.02951366e-01, 4.66710255e-02],\n",
              "       [1.20785960e-03, 2.42416486e-02, 9.51670185e-02, 2.85611361e-01,\n",
              "        1.70652330e-01, 2.60644555e-01, 1.62475199e-01],\n",
              "       [7.91440136e-04, 1.40446387e-02, 4.69171889e-02, 1.03726961e-01,\n",
              "        3.23216140e-01, 3.10759731e-02, 4.80227590e-01],\n",
              "       [1.27539330e-04, 3.61667597e-03, 1.56448614e-02, 9.41413999e-01,\n",
              "        1.08581437e-02, 2.12839860e-02, 7.05476617e-03],\n",
              "       [5.33030974e-03, 4.72416505e-02, 9.37767774e-02, 2.98920814e-02,\n",
              "        3.52555692e-01, 1.85009688e-02, 4.52702492e-01],\n",
              "       [6.43856153e-02, 1.77369528e-02, 6.55590296e-01, 9.25178733e-03,\n",
              "        2.00692907e-01, 1.74381342e-02, 3.49043123e-02],\n",
              "       [8.92746449e-02, 8.32918938e-03, 1.05454624e-01, 1.01286650e-01,\n",
              "        7.23934453e-03, 6.56064987e-01, 3.23506035e-02],\n",
              "       [2.75161061e-02, 1.51750222e-01, 7.93970525e-02, 6.37445087e-03,\n",
              "        3.33882838e-01, 1.28716994e-02, 3.88207644e-01],\n",
              "       [1.82217006e-02, 1.37300238e-01, 7.27123618e-02, 7.35456869e-03,\n",
              "        3.28824788e-01, 1.36951674e-02, 4.21891153e-01],\n",
              "       [4.41807747e-01, 4.54915054e-02, 2.61890739e-01, 1.22642459e-03,\n",
              "        1.39206141e-01, 4.21115905e-02, 6.82658479e-02],\n",
              "       [5.13409683e-03, 6.83796499e-03, 1.26586659e-02, 4.11512494e-01,\n",
              "        8.56524147e-03, 5.47532797e-01, 7.75869656e-03],\n",
              "       [3.20589513e-01, 1.59779899e-02, 4.92154390e-01, 2.42969319e-02,\n",
              "        4.54994589e-02, 7.51295462e-02, 2.63522845e-02],\n",
              "       [2.63631996e-03, 1.43771088e-02, 1.78986359e-02, 8.87271464e-01,\n",
              "        6.50694547e-03, 5.88830262e-02, 1.24265486e-02],\n",
              "       [3.74469976e-03, 2.75233477e-01, 6.31066933e-02, 2.84096301e-02,\n",
              "        4.61487114e-01, 2.24727150e-02, 1.45545706e-01],\n",
              "       [8.01150382e-01, 3.52895982e-03, 1.71368897e-01, 2.40333742e-04,\n",
              "        9.27270669e-03, 1.08302431e-02, 3.60845122e-03],\n",
              "       [2.68508494e-01, 2.04112772e-02, 4.98347580e-01, 7.42150191e-03,\n",
              "        1.18210882e-01, 6.41944036e-02, 2.29059644e-02],\n",
              "       [1.23308375e-01, 4.85543832e-02, 1.16744339e-01, 2.29464963e-01,\n",
              "        1.50080742e-02, 3.57511759e-01, 1.09408155e-01],\n",
              "       [2.69155763e-02, 5.85340708e-03, 2.65089814e-02, 3.16215187e-01,\n",
              "        2.71555712e-03, 6.16887569e-01, 4.90376074e-03],\n",
              "       [2.71739345e-03, 4.25712094e-02, 3.21153700e-02, 9.57467966e-03,\n",
              "        6.49918437e-01, 1.12598082e-02, 2.51843125e-01],\n",
              "       [1.59466062e-02, 7.70979896e-02, 1.23950884e-01, 6.05135038e-03,\n",
              "        7.01323926e-01, 3.02976184e-02, 4.53315899e-02],\n",
              "       [2.97471806e-02, 3.80506217e-02, 3.82373422e-01, 5.03242724e-02,\n",
              "        3.73423755e-01, 3.07268891e-02, 9.53539386e-02],\n",
              "       [1.79608390e-01, 7.88130760e-02, 1.05580747e-01, 3.24337453e-01,\n",
              "        2.62913834e-02, 2.65236229e-01, 2.01327372e-02],\n",
              "       [3.56899993e-03, 6.46723574e-03, 8.62792060e-02, 1.49514601e-01,\n",
              "        4.20484729e-02, 6.01640463e-01, 1.10481016e-01],\n",
              "       [5.54471970e-01, 2.11402569e-02, 2.04158217e-01, 8.47886666e-04,\n",
              "        5.60976192e-02, 1.15021273e-01, 4.82627973e-02],\n",
              "       [7.51681685e-01, 1.34988865e-02, 1.98078394e-01, 1.33292197e-04,\n",
              "        7.48643605e-03, 2.28576586e-02, 6.26356015e-03],\n",
              "       [9.19267535e-04, 4.35468033e-02, 4.69272211e-02, 1.84196487e-01,\n",
              "        4.04666811e-01, 2.30618361e-02, 2.96681583e-01],\n",
              "       [3.56011046e-03, 5.66963106e-03, 1.79241393e-02, 1.11314140e-01,\n",
              "        1.94416866e-02, 8.37679505e-01, 4.41074232e-03],\n",
              "       [1.73006055e-03, 3.72026473e-01, 1.96028892e-02, 1.82981845e-02,\n",
              "        5.52823134e-02, 9.81345866e-03, 5.23246586e-01],\n",
              "       [5.53527810e-02, 5.44868745e-02, 3.87064248e-01, 1.00088036e-02,\n",
              "        3.60751361e-01, 2.04966851e-02, 1.11839227e-01],\n",
              "       [1.11659549e-01, 1.79544371e-02, 8.25954899e-02, 1.82506949e-01,\n",
              "        9.46847256e-03, 5.88727772e-01, 7.08736619e-03],\n",
              "       [1.75955191e-01, 1.12599589e-01, 4.05851632e-01, 1.37930050e-01,\n",
              "        3.66945416e-02, 4.72219177e-02, 8.37472230e-02],\n",
              "       [1.08135082e-01, 2.31208399e-01, 1.95660308e-01, 1.46037459e-01,\n",
              "        1.10423632e-01, 4.54236269e-02, 1.63111389e-01],\n",
              "       [6.47450238e-02, 5.05047590e-02, 6.82215616e-02, 4.04214382e-01,\n",
              "        2.94633098e-02, 3.67744654e-01, 1.51063902e-02],\n",
              "       [1.82161871e-02, 2.74644904e-02, 6.48188442e-02, 3.26723722e-03,\n",
              "        6.72010481e-01, 5.39551675e-02, 1.60267621e-01],\n",
              "       [3.41032855e-02, 1.69208258e-01, 1.26343518e-01, 6.50523975e-02,\n",
              "        3.38283964e-02, 8.56639519e-02, 4.85800117e-01],\n",
              "       [5.42659964e-03, 3.14542592e-01, 6.01549670e-02, 2.35327799e-02,\n",
              "        4.28017639e-02, 1.04121827e-02, 5.43129086e-01],\n",
              "       [1.18743576e-01, 2.77296081e-02, 1.20510139e-01, 3.55034083e-01,\n",
              "        1.41124073e-02, 3.25922817e-01, 3.79473493e-02],\n",
              "       [2.57933531e-02, 2.66225636e-01, 4.22901958e-02, 3.01682860e-01,\n",
              "        1.23068755e-02, 2.59593666e-01, 9.21074823e-02]], dtype=float32)"
            ]
          },
          "metadata": {},
          "execution_count": 38
        }
      ]
    },
    {
      "cell_type": "code",
      "source": [
        "y_pred_test_class "
      ],
      "metadata": {
        "colab": {
          "base_uri": "https://localhost:8080/"
        },
        "id": "ph-j4nBsAxjT",
        "outputId": "663ed1c6-2c87-4706-cb07-19bf218f51f0"
      },
      "execution_count": 39,
      "outputs": [
        {
          "output_type": "execute_result",
          "data": {
            "text/plain": [
              "array([3, 6, 3, 6, 0, 6, 2, 6, 3, 6, 3, 6, 0, 5, 3, 0, 6, 3, 5, 5, 6, 6,\n",
              "       0, 1, 3, 4, 1, 5, 2, 1, 4, 6, 4, 1, 4, 3, 6, 6, 4, 5, 6, 0, 1, 3,\n",
              "       4, 6, 6, 6, 3, 4, 5, 3, 4, 2, 5, 0, 0, 0, 4, 6, 0, 3, 4, 1, 6, 3,\n",
              "       6, 0, 3, 4, 4, 1, 2, 6, 4, 2, 1, 6, 3, 4, 0, 2, 1, 3, 4, 3, 3, 6,\n",
              "       3, 6, 2, 5, 6, 6, 0, 5, 2, 3, 4, 0, 2, 5, 5, 4, 4, 2, 3, 5, 0, 0,\n",
              "       4, 5, 6, 2, 5, 2, 1, 3, 4, 6, 6, 3, 3])"
            ]
          },
          "metadata": {},
          "execution_count": 39
        }
      ]
    },
    {
      "cell_type": "markdown",
      "source": [
        "### Test Set Confusion Matrix and Heatmap"
      ],
      "metadata": {
        "id": "Epp2QpxsUVXH"
      }
    },
    {
      "cell_type": "code",
      "source": [
        "# Test set Confusion matrix\n",
        "\n",
        "cm=confusion_matrix(y_test_class, y_pred_test_class)\n",
        "\n",
        "index = ['calm', 'happy', 'sad', 'angry', 'fearful', 'disgust', 'surprised']  \n",
        "columns = ['calm', 'happy', 'sad', 'angry', 'fearful', 'disgust', 'surprised']  \n",
        " \n",
        "cm_df = pd.DataFrame(cm,index,columns)                      \n",
        "plt.figure(figsize=(12,8))\n",
        "ax = plt.axes()\n",
        "\n",
        "sns.heatmap(cm_df, ax = ax, cmap = 'BuGn', fmt=\"d\", annot=True)\n",
        "ax.set_ylabel('True emotion')\n",
        "ax.set_xlabel('Predicted emotion')"
      ],
      "metadata": {
        "colab": {
          "base_uri": "https://localhost:8080/",
          "height": 518
        },
        "id": "ukGrk_cagzyb",
        "outputId": "dfe1823e-9ac2-4936-bdfe-13cb3d95694e"
      },
      "execution_count": 40,
      "outputs": [
        {
          "output_type": "execute_result",
          "data": {
            "text/plain": [
              "Text(0.5, 51.0, 'Predicted emotion')"
            ]
          },
          "metadata": {},
          "execution_count": 40
        },
        {
          "output_type": "display_data",
          "data": {
            "text/plain": [
              "<Figure size 864x576 with 2 Axes>"
            ],
            "image/png": "[encoded data removed]"
          },
          "metadata": {
            "needs_background": "light"
          }
        }
      ]
    },
    {
      "cell_type": "code",
      "source": [
        "# Confusion Matrix\n",
        "cm"
      ],
      "metadata": {
        "colab": {
          "base_uri": "https://localhost:8080/"
        },
        "id": "9f51xwUE8haF",
        "outputId": "795e7b62-5a45-42a1-e07b-573837f19510"
      },
      "execution_count": 41,
      "outputs": [
        {
          "output_type": "execute_result",
          "data": {
            "text/plain": [
              "array([[10,  0,  1,  1,  1,  1,  1],\n",
              "       [ 2,  4,  0,  1,  3,  0,  4],\n",
              "       [ 0,  2,  6,  4,  0,  1,  2],\n",
              "       [ 0,  2,  1, 10,  3,  2,  2],\n",
              "       [ 2,  0,  2,  0,  7,  1,  9],\n",
              "       [ 0,  2,  2,  3,  1,  6,  2],\n",
              "       [ 1,  0,  0,  5,  5,  3,  8]])"
            ]
          },
          "metadata": {},
          "execution_count": 41
        }
      ]
    },
    {
      "cell_type": "markdown",
      "source": [
        "### Test Set Predicted emotions accuracy"
      ],
      "metadata": {
        "id": "zil3CkweUX0q"
      }
    },
    {
      "cell_type": "code",
      "source": [
        "# Test set prediction accuracy rates\n",
        "\n",
        "values = cm.diagonal()\n",
        "row_sum = np.sum(cm,axis=1)\n",
        "acc = values / row_sum\n",
        "\n",
        "print('Test set predicted emotions accuracy:')\n",
        "for e in range(0, len(values)):\n",
        "    print(index[e],':', f\"{(acc[e]):0.4f}\")"
      ],
      "metadata": {
        "colab": {
          "base_uri": "https://localhost:8080/"
        },
        "id": "t_ORyGGig090",
        "outputId": "d25528dc-6b48-4e6f-ac6c-7ae74f25e89a"
      },
      "execution_count": 42,
      "outputs": [
        {
          "output_type": "stream",
          "name": "stdout",
          "text": [
            "Test set predicted emotions accuracy:\n",
            "calm : 0.6667\n",
            "happy : 0.2857\n",
            "sad : 0.4000\n",
            "angry : 0.5000\n",
            "fearful : 0.3333\n",
            "disgust : 0.3750\n",
            "surprised : 0.3636\n"
          ]
        }
      ]
    },
    {
      "cell_type": "markdown",
      "source": [
        "### Precision, Recal, Fscore"
      ],
      "metadata": {
        "id": "8Hzthv1t8kwd"
      }
    },
    {
      "cell_type": "code",
      "source": [
        "# Validation set precision, recall, fscore\n",
        "\n",
        "precision_recall_fscore_support(y_test_class, y_pred_test_class, average='macro')\n"
      ],
      "metadata": {
        "colab": {
          "base_uri": "https://localhost:8080/"
        },
        "id": "QnwWoVFnh33F",
        "outputId": "5fb2fa8f-7e5c-4b6c-8857-777e855f2697"
      },
      "execution_count": 43,
      "outputs": [
        {
          "output_type": "execute_result",
          "data": {
            "text/plain": [
              "(0.43537414965986393, 0.41776437847866427, 0.42292190194629214, None)"
            ]
          },
          "metadata": {},
          "execution_count": 43
        }
      ]
    },
    {
      "cell_type": "code",
      "source": [
        "precision_recall_fscore_support(y_test_class, y_pred_test_class, average='weighted')"
      ],
      "metadata": {
        "colab": {
          "base_uri": "https://localhost:8080/"
        },
        "id": "OlDhuPlqzwVB",
        "outputId": "6200296e-e62c-4c73-847b-4601c29aa63b"
      },
      "execution_count": 44,
      "outputs": [
        {
          "output_type": "execute_result",
          "data": {
            "text/plain": [
              "(0.4221641502129307, 0.4146341463414634, 0.4149184888744674, None)"
            ]
          },
          "metadata": {},
          "execution_count": 44
        }
      ]
    },
    {
      "cell_type": "markdown",
      "source": [
        "### ROC AUC Score"
      ],
      "metadata": {
        "id": "sEuBd9IyLuiD"
      }
    },
    {
      "cell_type": "code",
      "source": [
        "ravdess_df = pd.read_csv (df_path)"
      ],
      "metadata": {
        "id": "8bb4OSmyTO6v"
      },
      "execution_count": 45,
      "outputs": []
    },
    {
      "cell_type": "code",
      "source": [
        "labels = [\"calm\", \"happy\", \"sad\", \"angry\", \"fear\", \"disgust\", \"suprised\"]"
      ],
      "metadata": {
        "id": "1leZ4JGVTfTp"
      },
      "execution_count": 46,
      "outputs": []
    },
    {
      "cell_type": "code",
      "source": [
        "y_test_adj = y_test.reshape(-1,)"
      ],
      "metadata": {
        "id": "MRm1ZwnxFStc"
      },
      "execution_count": 47,
      "outputs": []
    },
    {
      "cell_type": "code",
      "source": [
        "y_proba_test_class.shape"
      ],
      "metadata": {
        "colab": {
          "base_uri": "https://localhost:8080/"
        },
        "id": "O-IcYOABFjxB",
        "outputId": "99ea6f1f-664a-4feb-a266-3bccbc8cd5e3"
      },
      "execution_count": 48,
      "outputs": [
        {
          "output_type": "execute_result",
          "data": {
            "text/plain": [
              "(123, 7)"
            ]
          },
          "metadata": {},
          "execution_count": 48
        }
      ]
    },
    {
      "cell_type": "code",
      "source": [
        "y_test.shape"
      ],
      "metadata": {
        "colab": {
          "base_uri": "https://localhost:8080/"
        },
        "id": "9AaqUY3PIlMQ",
        "outputId": "8f942099-e590-40ae-e265-be23cc026261"
      },
      "execution_count": 49,
      "outputs": [
        {
          "output_type": "execute_result",
          "data": {
            "text/plain": [
              "(123, 1)"
            ]
          },
          "metadata": {},
          "execution_count": 49
        }
      ]
    },
    {
      "cell_type": "code",
      "source": [
        "y_test_adj"
      ],
      "metadata": {
        "colab": {
          "base_uri": "https://localhost:8080/"
        },
        "id": "7LgDudYTKInS",
        "outputId": "d96b7cbb-cc83-42a8-9193-5d38ca5ecb81"
      },
      "execution_count": 50,
      "outputs": [
        {
          "output_type": "execute_result",
          "data": {
            "text/plain": [
              "array([6, 3, 5, 4, 0, 4, 5, 4, 3, 6, 3, 4, 0, 5, 3, 0, 5, 5, 2, 6, 6, 0,\n",
              "       0, 2, 5, 0, 5, 0, 4, 1, 3, 6, 6, 5, 4, 2, 5, 4, 4, 5, 6, 0, 1, 2,\n",
              "       1, 1, 6, 2, 6, 4, 5, 6, 1, 2, 5, 1, 1, 4, 4, 1, 6, 3, 4, 2, 2, 2,\n",
              "       4, 0, 3, 6, 5, 1, 2, 4, 3, 0, 3, 6, 2, 6, 0, 4, 1, 3, 6, 3, 6, 4,\n",
              "       3, 3, 2, 5, 4, 1, 0, 3, 2, 3, 1, 0, 2, 6, 5, 4, 4, 3, 3, 6, 4, 0,\n",
              "       3, 4, 6, 5, 3, 2, 3, 1, 6, 6, 1, 0, 6], dtype=int8)"
            ]
          },
          "metadata": {},
          "execution_count": 50
        }
      ]
    },
    {
      "cell_type": "code",
      "source": [
        "\n",
        "\n",
        "macro_roc_auc_ovo = roc_auc_score(y_test_adj, y_proba_test_class, multi_class=\"ovo\", average=\"macro\")\n",
        "weighted_roc_auc_ovo = roc_auc_score(\n",
        "    y_test_adj, y_proba_test_class, multi_class=\"ovo\", average=\"weighted\"\n",
        ")\n",
        "macro_roc_auc_ovr = roc_auc_score(y_test_adj, y_proba_test_class, multi_class=\"ovr\", average=\"macro\")\n",
        "weighted_roc_auc_ovr = roc_auc_score(\n",
        "    y_test_adj, y_proba_test_class, multi_class=\"ovr\", average=\"weighted\"\n",
        ")\n"
      ],
      "metadata": {
        "id": "oMa4N8EhHlY9"
      },
      "execution_count": 51,
      "outputs": []
    },
    {
      "cell_type": "code",
      "source": [
        "print(\"One-vs-One ROC AUC scores:\\n{:.6f} (macro),\\n{:.6f} \" \"(weighted by prevalence)\\n\".format(macro_roc_auc_ovo, weighted_roc_auc_ovo))\n",
        "print(\"One-vs-Rest ROC AUC scores:\\n{:.6f} (macro),\\n{:.6f} \" \"(weighted by prevalence)\".format(macro_roc_auc_ovr, weighted_roc_auc_ovr))"
      ],
      "metadata": {
        "colab": {
          "base_uri": "https://localhost:8080/"
        },
        "id": "hhBLwtO_ICqL",
        "outputId": "1f31b95a-1cf3-428c-8928-c072fe4ee847"
      },
      "execution_count": 52,
      "outputs": [
        {
          "output_type": "stream",
          "name": "stdout",
          "text": [
            "One-vs-One ROC AUC scores:\n",
            "0.799525 (macro),\n",
            "0.798721 (weighted by prevalence)\n",
            "\n",
            "One-vs-Rest ROC AUC scores:\n",
            "0.799401 (macro),\n",
            "0.797084 (weighted by prevalence)\n"
          ]
        }
      ]
    }
  ]
}