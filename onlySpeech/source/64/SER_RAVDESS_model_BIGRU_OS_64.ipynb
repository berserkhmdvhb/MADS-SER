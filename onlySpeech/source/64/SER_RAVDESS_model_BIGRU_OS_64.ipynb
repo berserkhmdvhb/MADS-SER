{
  "metadata": {
    "kernelspec": {
      "language": "python",
      "display_name": "Python 3",
      "name": "python3"
    },
    "language_info": {
      "pygments_lexer": "ipython3",
      "nbconvert_exporter": "python",
      "version": "3.6.4",
      "file_extension": ".py",
      "codemirror_mode": {
        "name": "ipython",
        "version": 3
      },
      "name": "python",
      "mimetype": "text/x-python"
    },
    "colab": {
      "name": "SER-RAVDESS-model-BIGRU-OS-64.ipynb",
      "provenance": [],
      "collapsed_sections": [
        "anSyerIFN7qd",
        "nyMzoZKKKiw6"
      ]
    }
  },
  "nbformat_minor": 0,
  "nbformat": 4,
  "cells": [
    {
      "cell_type": "markdown",
      "source": [
        "# Imports"
      ],
      "metadata": {
        "id": "anSyerIFN7qd"
      }
    },
    {
      "cell_type": "code",
      "source": [
        "# Importing Libraries"
      ],
      "metadata": {
        "id": "IMFSwIuvKiw2"
      },
      "execution_count": 1,
      "outputs": []
    },
    {
      "cell_type": "code",
      "source": [
        "!pip install json-tricks"
      ],
      "metadata": {
        "colab": {
          "base_uri": "https://localhost:8080/"
        },
        "id": "bBR8aNsmM2tR",
        "outputId": "40d16003-6db4-498b-eecc-f782251fbb9f"
      },
      "execution_count": 2,
      "outputs": [
        {
          "output_type": "stream",
          "name": "stdout",
          "text": [
            "Looking in indexes: https://pypi.org/simple, https://us-python.pkg.dev/colab-wheels/public/simple/\n",
            "Collecting json-tricks\n",
            "  Downloading json_tricks-3.15.5-py2.py3-none-any.whl (26 kB)\n",
            "Installing collected packages: json-tricks\n",
            "Successfully installed json-tricks-3.15.5\n"
          ]
        }
      ]
    },
    {
      "cell_type": "code",
      "source": [
        "import pandas as pd\n",
        "import numpy as np\n",
        "\n",
        "import os\n",
        "import sys\n",
        "\n",
        "import librosa\n",
        "import librosa.display\n",
        "#from pydub import AudioSegment, effects\n",
        "#import noisereduce as nr\n",
        "\n",
        "\n",
        "import seaborn as sns\n",
        "import matplotlib.pyplot as plt\n",
        "from IPython.display import Audio\n",
        "\n",
        "import tensorflow as tf\n",
        "import keras\n",
        "import sklearn\n",
        "\n",
        "\n",
        "from tensorflow.keras.models import Sequential, Model\n",
        "from tensorflow.keras.layers import Dense, LSTM, Flatten, Dropout, BatchNormalization\n",
        "from tensorflow.keras.callbacks import ModelCheckpoint, EarlyStopping, ReduceLROnPlateau\n",
        "from tensorflow.keras.optimizers import Adam, SGD\n",
        "from tensorflow.keras.utils import to_categorical, plot_model\n",
        "\n",
        "\n",
        "from keras.models import Sequential, model_from_json, load_model\n",
        "from keras import layers\n",
        "from keras import optimizers\n",
        "from keras import callbacks\n",
        "\n",
        "from sklearn.preprocessing import StandardScaler, OneHotEncoder, LabelEncoder\n",
        "from sklearn.metrics import confusion_matrix, classification_report, precision_recall_fscore_support, roc_auc_score\n",
        "from sklearn.model_selection import train_test_split, StratifiedShuffleSplit\n",
        "from sklearn.multiclass import OneVsRestClassifier\n",
        "\n",
        "\n",
        "from tqdm import tqdm\n",
        "\n",
        "\n",
        "from json_tricks import dump, load\n",
        "\n",
        "\n",
        "\n",
        "import warnings\n",
        "if not sys.warnoptions:\n",
        "    warnings.simplefilter(\"ignore\")\n",
        "warnings.filterwarnings(\"ignore\", category=DeprecationWarning) \n",
        "\n",
        "import time\n",
        "tic = time.perf_counter()\n",
        "\n"
      ],
      "metadata": {
        "id": "77IS8HxqFFCA"
      },
      "execution_count": 3,
      "outputs": []
    },
    {
      "cell_type": "code",
      "source": [
        ""
      ],
      "metadata": {
        "id": "gGYqBIk0FGm4"
      },
      "execution_count": 3,
      "outputs": []
    },
    {
      "cell_type": "markdown",
      "source": [
        "# Dataset"
      ],
      "metadata": {
        "id": "nyMzoZKKKiw6"
      }
    },
    {
      "cell_type": "code",
      "source": [
        "from google.colab import drive\n",
        "drive.mount('/content/drive')"
      ],
      "metadata": {
        "colab": {
          "base_uri": "https://localhost:8080/"
        },
        "id": "JFPDGXmwCBs_",
        "outputId": "64e4fff6-9ef1-45aa-dcb1-4b7a34409b38"
      },
      "execution_count": 4,
      "outputs": [
        {
          "output_type": "stream",
          "name": "stdout",
          "text": [
            "Mounted at /content/drive\n"
          ]
        }
      ]
    },
    {
      "cell_type": "code",
      "source": [
        "#Crema = \"/content/drive/MyDrive/datasets/speech/CREMAD/sample/\"\n",
        "#Crema = \"/content/drive/MyDrive/datasets/speech/CREMAD/AudioWAV/\"\n",
        "Ravdess = \"/content/drive/MyDrive/datasets/speech/RAVDESS/data/Audio_Speech_Actors_01-24\"\n",
        "Ravdess_processed = \"/content/drive/MyDrive/datasets/speech/RAVDESS/processedData/onlySpeech/\"\n",
        "Ravdess_speech_sample = \"/content/drive/MyDrive/datasets/speech/RAVDESS/data/Audio_Speech_Actors_01-24/\"\n",
        "df_path = \"/content/drive/MyDrive/datasets/speech/RAVDESS/ravdess_df_onlySpeech.csv\"\n",
        "model_path = Ravdess + \"/model/\"\n",
        "\n",
        "checkpoint_path = model_path + \"best_weights-os-BIGRU-1.hdf5\"\n",
        "saved_model_path = model_path + 'model8723-os-BIGRU-1.json'\n",
        "\n",
        "saved_weights_path = model_path + 'model8723_weights-os-BIGRU-1.h5'\n",
        "saved_model_path_2 = model_path + 'Speech-Emotion-Recognition-Model-os-BIGRU-1.h5'"
      ],
      "metadata": {
        "execution": {
          "iopub.status.busy": "2021-06-21T09:35:38.093538Z",
          "iopub.execute_input": "2021-06-21T09:35:38.093869Z",
          "iopub.status.idle": "2021-06-21T09:35:38.097467Z",
          "shell.execute_reply.started": "2021-06-21T09:35:38.093838Z",
          "shell.execute_reply": "2021-06-21T09:35:38.096608Z"
        },
        "trusted": true,
        "id": "vR2GjHL4Kiw7"
      },
      "execution_count": 5,
      "outputs": []
    },
    {
      "cell_type": "code",
      "source": [
        ""
      ],
      "metadata": {
        "id": "J2T6JxzIF2Jq"
      },
      "execution_count": 5,
      "outputs": []
    },
    {
      "cell_type": "code",
      "source": [
        "##Hypter Parameters' Range\n",
        "params = {\n",
        "    \"batch_size\": 20,  # 20<16<10, 25 was a bust\n",
        "    \"epochs\": 300,\n",
        "    \"lr\": 0.00010000,\n",
        "    \"time_steps\": 60\n",
        "}\n",
        "#TIME_STEPS = params[\"time_steps\"]\n",
        "#BATCH_SIZE = params[\"batch_size\"]\n",
        "#iter_changes = \"dropout_layers_0.4_0.4\"\n"
      ],
      "metadata": {
        "id": "jnEd5_Vvy4ue"
      },
      "execution_count": 6,
      "outputs": []
    },
    {
      "cell_type": "code",
      "source": [
        ""
      ],
      "metadata": {
        "id": "dKXM0xT-N8uy"
      },
      "execution_count": 6,
      "outputs": []
    },
    {
      "cell_type": "markdown",
      "source": [
        "# Load Processed Files, Construct Train, Validation and Test Sets"
      ],
      "metadata": {
        "id": "fse_mTpaOGdQ"
      }
    },
    {
      "cell_type": "code",
      "source": [
        "\n",
        "processed_path = Ravdess_processed\n",
        "x_path = processed_path + \"X_features.json\" # FILE LOAD PATH\n",
        "y_path =  processed_path + \"Y_labels.json\" # FILE SAVE PATH\n",
        "#x_path = '/content/drive/MyDrive/datasets/speech/RAVDESS/processedData/X_features.json'\n",
        "\n",
        "# Load X,Y json files back into lists, convert to np.arrays\n",
        "\n",
        "X = load(x_path)\n",
        "X = np.asarray(X, dtype = 'float32')\n",
        "\n",
        "Y = load(y_path)\n",
        "Y = np.asarray(Y, dtype = 'int8')"
      ],
      "metadata": {
        "id": "101BpvWgN8xX"
      },
      "execution_count": 7,
      "outputs": []
    },
    {
      "cell_type": "code",
      "source": [
        "# Split to train, validation, and test sets.\n",
        "from sklearn.model_selection import train_test_split\n",
        "# 1st Split: X,Y => (x_train, x_tosplit) (y_train, y_tosplit)\n",
        "x_train, x_tosplit, y_train, y_tosplit = train_test_split(X, Y, test_size = 0.30, random_state = 1)\n",
        "# 2nd Split: x_tosplit,y_tosplit => (x_val, x_test) (y_val, y_test) \n",
        "x_val, x_test, y_val, y_test = train_test_split(x_tosplit, y_tosplit, test_size = 0.304, random_state = 1)\n",
        "#'One-hot' vectors for Y: emotion classification\n",
        "y_train_class = tf.keras.utils.to_categorical(y_train, 7, dtype = 'int8')\n",
        "y_val_class = tf.keras.utils.to_categorical(y_val, 7, dtype = 'int8')"
      ],
      "metadata": {
        "id": "CuF9M1mfOD7X"
      },
      "execution_count": 8,
      "outputs": []
    },
    {
      "cell_type": "code",
      "source": [
        "# x_train, x_val, and x_test shape check.\n",
        "print(np.shape(x_train))\n",
        "print(np.shape(x_val))\n",
        "print(np.shape(x_test))"
      ],
      "metadata": {
        "colab": {
          "base_uri": "https://localhost:8080/"
        },
        "id": "od-D1YgBOGXs",
        "outputId": "09a43c42-fa42-489f-a513-39d02b603109"
      },
      "execution_count": 9,
      "outputs": [
        {
          "output_type": "stream",
          "name": "stdout",
          "text": [
            "(940, 448, 15)\n",
            "(281, 448, 15)\n",
            "(123, 448, 15)\n"
          ]
        }
      ]
    },
    {
      "cell_type": "code",
      "source": [
        "# Save x_test, y_test to JSON.\n",
        "\n",
        "x_test_path = processed_path + 'x_test_data.json'\n",
        "dump(obj = x_test, fp = x_test_path)\n",
        "\n",
        "y_test_path = processed_path + 'y_test_data.json'\n",
        "dump(obj = y_test, fp = y_test_path)"
      ],
      "metadata": {
        "colab": {
          "base_uri": "https://localhost:8080/",
          "height": 105
        },
        "id": "nTExHJVsOHQ5",
        "outputId": "8a43532c-6843-4037-bc68-6b7919f111c4"
      },
      "execution_count": 10,
      "outputs": [
        {
          "output_type": "execute_result",
          "data": {
            "text/plain": [
              "'{\"__ndarray__\": [[6], [3], [5], [4], [0], [4], [5], [4], [3], [6], [3], [4], [0], [5], [3], [0], [5], [5], [2], [6], [6], [0], [0], [2], [5], [0], [5], [0], [4], [1], [3], [6], [6], [5], [4], [2], [5], [4], [4], [5], [6], [0], [1], [2], [1], [1], [6], [2], [6], [4], [5], [6], [1], [2], [5], [1], [1], [4], [4], [1], [6], [3], [4], [2], [2], [2], [4], [0], [3], [6], [5], [1], [2], [4], [3], [0], [3], [6], [2], [6], [0], [4], [1], [3], [6], [3], [6], [4], [3], [3], [2], [5], [4], [1], [0], [3], [2], [3], [1], [0], [2], [6], [5], [4], [4], [3], [3], [6], [4], [0], [3], [4], [6], [5], [3], [2], [3], [1], [6], [6], [1], [0], [6]], \"dtype\": \"int8\", \"shape\": [123, 1], \"Corder\": true}'"
            ],
            "application/vnd.google.colaboratory.intrinsic+json": {
              "type": "string"
            }
          },
          "metadata": {},
          "execution_count": 10
        }
      ]
    },
    {
      "cell_type": "code",
      "source": [
        "# Loading x_test, y_test json files, and converting to np.arrays\n",
        "\n",
        "x_test = load(processed_path + 'x_test_data.json')\n",
        "x_test = np.asarray(x_test).astype('float32')\n",
        "\n",
        "y_test = load(processed_path + 'y_test_data.json')\n",
        "y_test = np.asarray(y_test).astype('int8')\n",
        "\n",
        "y_test_class = tf.keras.utils.to_categorical(y_test, 7, dtype = 'int8')"
      ],
      "metadata": {
        "id": "kAFBRsmk5dzm"
      },
      "execution_count": 11,
      "outputs": []
    },
    {
      "cell_type": "code",
      "source": [
        "X.shape"
      ],
      "metadata": {
        "id": "15joCR4gu4r7",
        "colab": {
          "base_uri": "https://localhost:8080/"
        },
        "outputId": "540eb272-cf89-4341-b863-afdcb0303a50"
      },
      "execution_count": 12,
      "outputs": [
        {
          "output_type": "execute_result",
          "data": {
            "text/plain": [
              "(1344, 448, 15)"
            ]
          },
          "metadata": {},
          "execution_count": 12
        }
      ]
    },
    {
      "cell_type": "code",
      "source": [
        "X.shape[1:3]"
      ],
      "metadata": {
        "colab": {
          "base_uri": "https://localhost:8080/"
        },
        "id": "8MQhoPKjEzi4",
        "outputId": "237fac74-d9ea-401b-e9a4-a4aa1458ac91"
      },
      "execution_count": 13,
      "outputs": [
        {
          "output_type": "execute_result",
          "data": {
            "text/plain": [
              "(448, 15)"
            ]
          },
          "metadata": {},
          "execution_count": 13
        }
      ]
    },
    {
      "cell_type": "markdown",
      "source": [
        "# RNN Model"
      ],
      "metadata": {
        "id": "gnWVMbR6KixC"
      }
    },
    {
      "cell_type": "code",
      "source": [
        "tic"
      ],
      "metadata": {
        "colab": {
          "base_uri": "https://localhost:8080/"
        },
        "id": "7CHZWdfcN8oo",
        "outputId": "56965a9f-69c3-43e1-ff57-fb63e7c9b808"
      },
      "execution_count": 14,
      "outputs": [
        {
          "output_type": "execute_result",
          "data": {
            "text/plain": [
              "137.136070509"
            ]
          },
          "metadata": {},
          "execution_count": 14
        }
      ]
    },
    {
      "cell_type": "markdown",
      "source": [
        "## Define Model & Training"
      ],
      "metadata": {
        "id": "GJjJYnJQORJ8"
      }
    },
    {
      "cell_type": "code",
      "source": [
        "X.shape"
      ],
      "metadata": {
        "colab": {
          "base_uri": "https://localhost:8080/"
        },
        "id": "Mp44ii28CiPt",
        "outputId": "eaa77b00-16d5-425a-a403-52106ef47a04"
      },
      "execution_count": 15,
      "outputs": [
        {
          "output_type": "execute_result",
          "data": {
            "text/plain": [
              "(1344, 448, 15)"
            ]
          },
          "metadata": {},
          "execution_count": 15
        }
      ]
    },
    {
      "cell_type": "code",
      "source": [
        "max_features = 2452\n",
        "embed_dim = 256"
      ],
      "metadata": {
        "id": "ALafROv3DmHV"
      },
      "execution_count": 16,
      "outputs": []
    },
    {
      "cell_type": "code",
      "source": [
        ""
      ],
      "metadata": {
        "id": "tySHfGDlBFWz"
      },
      "execution_count": 16,
      "outputs": []
    },
    {
      "cell_type": "code",
      "source": [
        "# Initializing the model\n",
        "\n",
        "model = Sequential()\n",
        "model.add(layers.Bidirectional(layers.GRU(64, return_sequences = True), input_shape=(X.shape[1:3])))\n",
        "model.add(layers.Bidirectional(layers.GRU((64))))\n",
        "model.add(Dropout(0.05))\n",
        "model.add(layers.Dense(7, activation = 'softmax'))\n",
        "print(model.summary())\n",
        "\n",
        "batch_size = 23\n",
        "\n",
        "# Callbacks functions\n",
        "\n",
        "#-> EearlyStopping\n",
        "es = EarlyStopping(monitor='val_loss', mode='min', verbose=1,\n",
        "                    patience=10, min_delta=0.0001)\n",
        "\n",
        "\n",
        "#-> Save the best weights\n",
        "mcp_save = callbacks.ModelCheckpoint(checkpoint_path, save_best_only=True,\n",
        "                           monitor='val_categorical_accuracy',\n",
        "                           mode='max')\n",
        "#-> Reduce learning rate after 100 epoches without improvement.\n",
        "rlrop = callbacks.ReduceLROnPlateau(monitor='val_categorical_accuracy', \n",
        "                                    factor=0.1, patience=20)\n",
        "                             \n",
        "# Compile & train   \n",
        "model.compile(loss='categorical_crossentropy', \n",
        "                optimizer='RMSProp', \n",
        "                metrics=['categorical_accuracy'])\n",
        "\n",
        "\n"
      ],
      "metadata": {
        "colab": {
          "base_uri": "https://localhost:8080/"
        },
        "id": "aD2adyVGOJs4",
        "outputId": "0a7d6f38-c9ad-4154-c95f-3d2ba204441e"
      },
      "execution_count": 17,
      "outputs": [
        {
          "output_type": "stream",
          "name": "stdout",
          "text": [
            "Model: \"sequential\"\n",
            "_________________________________________________________________\n",
            " Layer (type)                Output Shape              Param #   \n",
            "=================================================================\n",
            " bidirectional (Bidirectiona  (None, 448, 128)         31104     \n",
            " l)                                                              \n",
            "                                                                 \n",
            " bidirectional_1 (Bidirectio  (None, 128)              74496     \n",
            " nal)                                                            \n",
            "                                                                 \n",
            " dropout (Dropout)           (None, 128)               0         \n",
            "                                                                 \n",
            " dense (Dense)               (None, 7)                 903       \n",
            "                                                                 \n",
            "=================================================================\n",
            "Total params: 106,503\n",
            "Trainable params: 106,503\n",
            "Non-trainable params: 0\n",
            "_________________________________________________________________\n",
            "None\n"
          ]
        }
      ]
    },
    {
      "cell_type": "code",
      "source": [
        ""
      ],
      "metadata": {
        "id": "4DBF6kqx-OHZ"
      },
      "execution_count": 17,
      "outputs": []
    },
    {
      "cell_type": "code",
      "source": [
        "history = model.fit(x_train, y_train_class, \n",
        "                      epochs=340, batch_size = batch_size, \n",
        "                      validation_data = (x_val, y_val_class), \n",
        "                      callbacks = [es, mcp_save, rlrop])\n",
        "toc = time.perf_counter()"
      ],
      "metadata": {
        "colab": {
          "base_uri": "https://localhost:8080/"
        },
        "id": "Da7Gc9x_izth",
        "outputId": "5d41aeb3-241e-4849-a10a-be1980d1f04c"
      },
      "execution_count": 18,
      "outputs": [
        {
          "output_type": "stream",
          "name": "stdout",
          "text": [
            "Epoch 1/340\n",
            "41/41 [==============================] - 42s 844ms/step - loss: 1.9796 - categorical_accuracy: 0.1979 - val_loss: 1.8617 - val_categorical_accuracy: 0.1851 - lr: 0.0010\n",
            "Epoch 2/340\n",
            "41/41 [==============================] - 33s 805ms/step - loss: 1.8429 - categorical_accuracy: 0.2309 - val_loss: 1.7916 - val_categorical_accuracy: 0.2989 - lr: 0.0010\n",
            "Epoch 3/340\n",
            "41/41 [==============================] - 31s 767ms/step - loss: 1.7820 - categorical_accuracy: 0.2872 - val_loss: 1.7568 - val_categorical_accuracy: 0.2954 - lr: 0.0010\n",
            "Epoch 4/340\n",
            "41/41 [==============================] - 32s 777ms/step - loss: 1.6865 - categorical_accuracy: 0.3457 - val_loss: 1.7352 - val_categorical_accuracy: 0.3203 - lr: 0.0010\n",
            "Epoch 5/340\n",
            "41/41 [==============================] - 32s 779ms/step - loss: 1.6319 - categorical_accuracy: 0.3606 - val_loss: 1.6566 - val_categorical_accuracy: 0.3416 - lr: 0.0010\n",
            "Epoch 6/340\n",
            "41/41 [==============================] - 33s 806ms/step - loss: 1.5887 - categorical_accuracy: 0.3798 - val_loss: 1.5912 - val_categorical_accuracy: 0.3950 - lr: 0.0010\n",
            "Epoch 7/340\n",
            "41/41 [==============================] - 31s 766ms/step - loss: 1.5336 - categorical_accuracy: 0.3947 - val_loss: 1.6265 - val_categorical_accuracy: 0.3594 - lr: 0.0010\n",
            "Epoch 8/340\n",
            "41/41 [==============================] - 31s 764ms/step - loss: 1.4810 - categorical_accuracy: 0.4426 - val_loss: 1.6338 - val_categorical_accuracy: 0.3523 - lr: 0.0010\n",
            "Epoch 9/340\n",
            "41/41 [==============================] - 33s 801ms/step - loss: 1.4440 - categorical_accuracy: 0.4479 - val_loss: 1.5584 - val_categorical_accuracy: 0.3986 - lr: 0.0010\n",
            "Epoch 10/340\n",
            "41/41 [==============================] - 31s 756ms/step - loss: 1.3771 - categorical_accuracy: 0.4851 - val_loss: 1.8212 - val_categorical_accuracy: 0.3630 - lr: 0.0010\n",
            "Epoch 11/340\n",
            "41/41 [==============================] - 31s 766ms/step - loss: 1.3415 - categorical_accuracy: 0.4862 - val_loss: 1.6207 - val_categorical_accuracy: 0.3701 - lr: 0.0010\n",
            "Epoch 12/340\n",
            "41/41 [==============================] - 31s 765ms/step - loss: 1.2897 - categorical_accuracy: 0.5064 - val_loss: 1.7236 - val_categorical_accuracy: 0.3559 - lr: 0.0010\n",
            "Epoch 13/340\n",
            "41/41 [==============================] - 31s 752ms/step - loss: 1.2659 - categorical_accuracy: 0.5309 - val_loss: 1.6293 - val_categorical_accuracy: 0.3879 - lr: 0.0010\n",
            "Epoch 14/340\n",
            "41/41 [==============================] - 32s 772ms/step - loss: 1.2513 - categorical_accuracy: 0.5085 - val_loss: 1.5487 - val_categorical_accuracy: 0.4021 - lr: 0.0010\n",
            "Epoch 15/340\n",
            "41/41 [==============================] - 31s 762ms/step - loss: 1.1752 - categorical_accuracy: 0.5638 - val_loss: 1.5873 - val_categorical_accuracy: 0.4021 - lr: 0.0010\n",
            "Epoch 16/340\n",
            "41/41 [==============================] - 31s 766ms/step - loss: 1.1807 - categorical_accuracy: 0.5532 - val_loss: 1.6729 - val_categorical_accuracy: 0.3701 - lr: 0.0010\n",
            "Epoch 17/340\n",
            "41/41 [==============================] - 32s 783ms/step - loss: 1.1489 - categorical_accuracy: 0.5532 - val_loss: 1.5744 - val_categorical_accuracy: 0.4235 - lr: 0.0010\n",
            "Epoch 18/340\n",
            "41/41 [==============================] - 32s 781ms/step - loss: 1.0883 - categorical_accuracy: 0.6170 - val_loss: 1.6297 - val_categorical_accuracy: 0.4591 - lr: 0.0010\n",
            "Epoch 19/340\n",
            "41/41 [==============================] - 31s 765ms/step - loss: 1.0815 - categorical_accuracy: 0.6053 - val_loss: 1.5929 - val_categorical_accuracy: 0.4342 - lr: 0.0010\n",
            "Epoch 20/340\n",
            "41/41 [==============================] - 31s 764ms/step - loss: 1.0220 - categorical_accuracy: 0.6426 - val_loss: 1.6882 - val_categorical_accuracy: 0.4057 - lr: 0.0010\n",
            "Epoch 21/340\n",
            "41/41 [==============================] - 31s 764ms/step - loss: 1.0488 - categorical_accuracy: 0.6064 - val_loss: 1.6436 - val_categorical_accuracy: 0.4484 - lr: 0.0010\n",
            "Epoch 22/340\n",
            "41/41 [==============================] - 31s 756ms/step - loss: 0.9773 - categorical_accuracy: 0.6447 - val_loss: 1.6661 - val_categorical_accuracy: 0.4306 - lr: 0.0010\n",
            "Epoch 23/340\n",
            "41/41 [==============================] - 31s 762ms/step - loss: 0.9459 - categorical_accuracy: 0.6649 - val_loss: 1.6861 - val_categorical_accuracy: 0.4128 - lr: 0.0010\n",
            "Epoch 24/340\n",
            "41/41 [==============================] - 32s 769ms/step - loss: 0.9160 - categorical_accuracy: 0.6638 - val_loss: 1.7283 - val_categorical_accuracy: 0.3950 - lr: 0.0010\n",
            "Epoch 24: early stopping\n"
          ]
        }
      ]
    },
    {
      "cell_type": "code",
      "source": [
        ""
      ],
      "metadata": {
        "id": "3MekXCZHizyZ"
      },
      "execution_count": 18,
      "outputs": []
    },
    {
      "cell_type": "code",
      "source": [
        "print(f\"Running time: {(toc - tic)/60:0.4f} minutes\")"
      ],
      "metadata": {
        "id": "cHmSBRhVOELJ",
        "colab": {
          "base_uri": "https://localhost:8080/"
        },
        "outputId": "8447eeeb-fc8b-4df9-b4aa-ddadb673722f"
      },
      "execution_count": 19,
      "outputs": [
        {
          "output_type": "stream",
          "name": "stdout",
          "text": [
            "Running time: 13.7238 minutes\n"
          ]
        }
      ]
    },
    {
      "cell_type": "markdown",
      "source": [
        "## Loading Model"
      ],
      "metadata": {
        "id": "jCQelzMAKixD"
      }
    },
    {
      "cell_type": "code",
      "source": [
        "# Define the best weights to the model.\\\n",
        "#model.load_weights(checkpoint_path)"
      ],
      "metadata": {
        "id": "gruZAW2wI-tO"
      },
      "execution_count": 20,
      "outputs": []
    },
    {
      "cell_type": "markdown",
      "source": [
        "# Evaluation"
      ],
      "metadata": {
        "id": "kDxTjEK0KixD"
      }
    },
    {
      "cell_type": "markdown",
      "source": [
        "## Save & Load model, weights"
      ],
      "metadata": {
        "id": "1YfguG0tPatV"
      }
    },
    {
      "cell_type": "code",
      "source": [
        "# Saving model & weights\n",
        "model_json = model.to_json()\n",
        "\n",
        "\n",
        "\n",
        "with open(saved_model_path, \"w\") as json_file:\n",
        "    json_file.write(model_json)\n",
        "    \n",
        "model.save_weights(saved_weights_path)\n",
        "print(\"Saved model to disk\")"
      ],
      "metadata": {
        "id": "MsVoNhqmgGsK",
        "colab": {
          "base_uri": "https://localhost:8080/"
        },
        "outputId": "b3f78eab-d05c-41be-e209-ef65557d2927"
      },
      "execution_count": 21,
      "outputs": [
        {
          "output_type": "stream",
          "name": "stdout",
          "text": [
            "Saved model to disk\n"
          ]
        }
      ]
    },
    {
      "cell_type": "code",
      "source": [
        "# Reading the model from JSON file\n",
        "#model_path = Ravdess + \"/model/\"\n",
        "#saved_model_path = model_path + 'model8723.json'\n",
        "#saved_weights_path = model_path + 'model8723_weights.h5'\n",
        "\n",
        "\n",
        "with open(saved_model_path , 'r') as json_file:\n",
        "    json_savedModel = json_file.read()\n",
        "    \n",
        "# Loading the model architecture, weights\n",
        "model = tf.keras.models.model_from_json(json_savedModel)\n",
        "model.load_weights(saved_weights_path)\n",
        "\n",
        "# Compiling the model with similar parameters as the original model.\n",
        "model.compile(loss='categorical_crossentropy', \n",
        "                optimizer='RMSProp', \n",
        "                metrics=['categorical_accuracy'])\n",
        "\n",
        "# Model's structure visualization\n",
        "tf.keras.utils.plot_model(model, to_file='model.png', show_shapes=True, show_layer_names=True)"
      ],
      "metadata": {
        "id": "y4OJGhLmgfX6",
        "colab": {
          "base_uri": "https://localhost:8080/",
          "height": 533
        },
        "outputId": "61cc416b-8a91-436c-c339-18fdb4e9944f"
      },
      "execution_count": 22,
      "outputs": [
        {
          "output_type": "execute_result",
          "data": {
            "text/plain": [
              "<IPython.core.display.Image object>"
            ],
            "image/png": "[encoded data removed]"
          },
          "metadata": {},
          "execution_count": 22
        }
      ]
    },
    {
      "cell_type": "code",
      "source": [
        ""
      ],
      "metadata": {
        "id": "B_SW6eUAgvEj"
      },
      "execution_count": 22,
      "outputs": []
    },
    {
      "cell_type": "code",
      "source": [
        ""
      ],
      "metadata": {
        "id": "cCfkUXTYgzSB"
      },
      "execution_count": 22,
      "outputs": []
    },
    {
      "cell_type": "code",
      "source": [
        "model.save(saved_model_path_2)"
      ],
      "metadata": {
        "trusted": true,
        "id": "Z5Uzb_bGKixE"
      },
      "execution_count": 23,
      "outputs": []
    },
    {
      "cell_type": "markdown",
      "source": [
        "## Train (fit) Visualization"
      ],
      "metadata": {
        "id": "ATvBW0SPO-eq"
      }
    },
    {
      "cell_type": "code",
      "source": [
        "# Loss, Accuracy presentation\n",
        "\n",
        "# Plot history: Loss\n",
        "plt.plot(history.history['loss'], label='Loss (training data)')\n",
        "plt.plot(history.history['val_loss'], label='Loss (validation data)')\n",
        "plt.title('Loss for train and validation')\n",
        "plt.ylabel('Loss value')\n",
        "plt.xlabel('No. epoch')\n",
        "plt.legend(loc=\"upper left\")\n",
        "plt.show()\n",
        "\n",
        "#Plot history: Accuracy\n",
        "plt.plot(history.history['categorical_accuracy'], label='Acc (training data)')\n",
        "plt.plot(history.history['val_categorical_accuracy'], label='Acc (validation data)')\n",
        "plt.title('Model accuracy')\n",
        "plt.ylabel('Acc %')\n",
        "plt.xlabel('No. epoch')\n",
        "plt.legend(loc=\"upper left\")\n",
        "plt.show()"
      ],
      "metadata": {
        "id": "UjhUHhU_f4EY",
        "colab": {
          "base_uri": "https://localhost:8080/",
          "height": 573
        },
        "outputId": "efe5397b-0592-46dc-ffc4-0409cd4f5a2f"
      },
      "execution_count": 24,
      "outputs": [
        {
          "output_type": "display_data",
          "data": {
            "text/plain": [
              "<Figure size 432x288 with 1 Axes>"
            ],
            "image/png": "[encoded data removed]"
          },
          "metadata": {
            "needs_background": "light"
          }
        },
        {
          "output_type": "display_data",
          "data": {
            "text/plain": [
              "<Figure size 432x288 with 1 Axes>"
            ],
            "image/png": "[encoded data removed]"
          },
          "metadata": {
            "needs_background": "light"
          }
        }
      ]
    },
    {
      "cell_type": "markdown",
      "source": [
        "## Validation Set Evaluation"
      ],
      "metadata": {
        "id": "UZ3lFduxPQeB"
      }
    },
    {
      "cell_type": "markdown",
      "source": [
        "### Val Set Score"
      ],
      "metadata": {
        "id": "5YoYCa22PMGz"
      }
    },
    {
      "cell_type": "code",
      "source": [
        ""
      ],
      "metadata": {
        "id": "jQavrzbB_8fy"
      },
      "execution_count": 24,
      "outputs": []
    },
    {
      "cell_type": "code",
      "source": [
        "# Validation score\n",
        "loss,acc = model.evaluate(x_val, y_val_class, verbose=2)\n"
      ],
      "metadata": {
        "id": "X_KdTUyrf7-j",
        "colab": {
          "base_uri": "https://localhost:8080/"
        },
        "outputId": "e67b3e64-3bb0-4601-ca2c-ed669de96ed5"
      },
      "execution_count": 25,
      "outputs": [
        {
          "output_type": "stream",
          "name": "stdout",
          "text": [
            "9/9 - 3s - loss: 1.7283 - categorical_accuracy: 0.3950 - 3s/epoch - 327ms/step\n"
          ]
        }
      ]
    },
    {
      "cell_type": "code",
      "source": [
        ""
      ],
      "metadata": {
        "id": "09k_I9DM_2Q0"
      },
      "execution_count": 25,
      "outputs": []
    },
    {
      "cell_type": "markdown",
      "source": [
        "### Construct Predicted Labels based on Probability of each class"
      ],
      "metadata": {
        "id": "hz7nc15A_3hb"
      }
    },
    {
      "cell_type": "code",
      "source": [
        "y_val_class"
      ],
      "metadata": {
        "id": "CFM1P2SZ_85N",
        "colab": {
          "base_uri": "https://localhost:8080/"
        },
        "outputId": "149f0014-8e99-4916-ed93-483a3af20c99"
      },
      "execution_count": 26,
      "outputs": [
        {
          "output_type": "execute_result",
          "data": {
            "text/plain": [
              "array([[0, 0, 0, ..., 0, 0, 1],\n",
              "       [0, 1, 0, ..., 0, 0, 0],\n",
              "       [0, 0, 0, ..., 0, 1, 0],\n",
              "       ...,\n",
              "       [0, 0, 0, ..., 0, 0, 1],\n",
              "       [0, 0, 0, ..., 0, 0, 1],\n",
              "       [0, 0, 1, ..., 0, 0, 0]], dtype=int8)"
            ]
          },
          "metadata": {},
          "execution_count": 26
        }
      ]
    },
    {
      "cell_type": "code",
      "source": [
        "np.argmax(y_val_class, axis=1)"
      ],
      "metadata": {
        "id": "C9UHSeXbAASy",
        "colab": {
          "base_uri": "https://localhost:8080/"
        },
        "outputId": "85f3b8ba-fe79-49f2-f703-f55f5107f3b5"
      },
      "execution_count": 27,
      "outputs": [
        {
          "output_type": "execute_result",
          "data": {
            "text/plain": [
              "array([6, 1, 5, 3, 5, 5, 2, 5, 0, 4, 5, 1, 5, 5, 2, 1, 0, 1, 4, 5, 3, 6,\n",
              "       0, 2, 2, 4, 6, 5, 1, 4, 0, 5, 2, 3, 1, 6, 5, 2, 1, 0, 3, 4, 0, 5,\n",
              "       3, 3, 0, 6, 4, 6, 0, 3, 3, 3, 4, 5, 3, 2, 3, 6, 1, 0, 3, 2, 4, 4,\n",
              "       6, 2, 4, 0, 5, 5, 1, 2, 0, 5, 5, 3, 4, 6, 4, 2, 2, 3, 6, 0, 0, 3,\n",
              "       2, 5, 1, 4, 1, 0, 6, 3, 6, 1, 2, 6, 6, 2, 0, 5, 1, 5, 4, 0, 5, 2,\n",
              "       0, 5, 0, 6, 2, 3, 3, 2, 2, 2, 0, 1, 5, 2, 5, 3, 2, 0, 3, 3, 3, 2,\n",
              "       0, 3, 0, 6, 3, 3, 3, 1, 0, 3, 6, 5, 6, 4, 0, 2, 6, 2, 1, 1, 4, 6,\n",
              "       0, 2, 1, 1, 3, 0, 6, 6, 2, 0, 1, 5, 5, 4, 5, 5, 0, 2, 4, 4, 6, 4,\n",
              "       3, 6, 2, 3, 2, 3, 0, 1, 0, 3, 1, 5, 2, 1, 6, 0, 4, 1, 6, 2, 0, 0,\n",
              "       6, 0, 0, 2, 5, 5, 1, 2, 3, 2, 2, 2, 4, 3, 5, 3, 1, 0, 2, 0, 2, 4,\n",
              "       6, 1, 0, 6, 5, 6, 4, 0, 0, 4, 5, 3, 2, 6, 2, 6, 3, 5, 3, 1, 5, 6,\n",
              "       5, 1, 2, 1, 6, 0, 5, 3, 2, 1, 6, 3, 0, 1, 3, 6, 3, 2, 2, 4, 6, 4,\n",
              "       3, 2, 2, 5, 5, 4, 1, 3, 6, 5, 3, 0, 3, 4, 6, 6, 2])"
            ]
          },
          "metadata": {},
          "execution_count": 27
        }
      ]
    },
    {
      "cell_type": "code",
      "source": [
        "y_val_class = np.argmax(y_val_class, axis=1)\n",
        "predictions_val = model.predict(x_val)\n",
        "y_proba_val_class = predictions_val\n",
        "y_pred_val_class = np.argmax(predictions_val, axis=1)"
      ],
      "metadata": {
        "id": "urjydD-38JK7"
      },
      "execution_count": 28,
      "outputs": []
    },
    {
      "cell_type": "code",
      "source": [
        "predictions_val\n"
      ],
      "metadata": {
        "id": "Zb7dGRs3AEJn",
        "colab": {
          "base_uri": "https://localhost:8080/"
        },
        "outputId": "67e2c14d-8273-461c-d0bc-00610a356259"
      },
      "execution_count": 29,
      "outputs": [
        {
          "output_type": "execute_result",
          "data": {
            "text/plain": [
              "array([[0.10596502, 0.05561838, 0.05407139, ..., 0.33507767, 0.0911305 ,\n",
              "        0.30126408],\n",
              "       [0.0022431 , 0.13220441, 0.02665883, ..., 0.03886254, 0.1587414 ,\n",
              "        0.17000712],\n",
              "       [0.00380854, 0.02267823, 0.0011257 , ..., 0.18686333, 0.09564125,\n",
              "        0.68956095],\n",
              "       ...,\n",
              "       [0.01937522, 0.04244533, 0.00675172, ..., 0.10549656, 0.12966263,\n",
              "        0.61578155],\n",
              "       [0.0169218 , 0.08611839, 0.00417943, ..., 0.13830304, 0.23636843,\n",
              "        0.4874985 ],\n",
              "       [0.0012669 , 0.05419443, 0.00820199, ..., 0.5600264 , 0.08068651,\n",
              "        0.2791946 ]], dtype=float32)"
            ]
          },
          "metadata": {},
          "execution_count": 29
        }
      ]
    },
    {
      "cell_type": "code",
      "source": [
        "y_pred_val_class "
      ],
      "metadata": {
        "id": "KxHa1Ss1AJo4",
        "colab": {
          "base_uri": "https://localhost:8080/"
        },
        "outputId": "e1708693-541b-46e5-d9c5-aa36ab0ba7e0"
      },
      "execution_count": 30,
      "outputs": [
        {
          "output_type": "execute_result",
          "data": {
            "text/plain": [
              "array([4, 3, 6, 6, 5, 0, 3, 5, 0, 4, 0, 6, 5, 0, 0, 6, 0, 1, 4, 6, 1, 3,\n",
              "       0, 0, 1, 6, 6, 4, 1, 6, 0, 0, 5, 3, 3, 6, 6, 3, 1, 5, 3, 5, 0, 6,\n",
              "       6, 6, 0, 6, 3, 1, 0, 3, 5, 5, 0, 6, 6, 0, 1, 6, 6, 6, 3, 0, 6, 5,\n",
              "       6, 3, 1, 0, 6, 5, 6, 5, 5, 5, 5, 3, 6, 0, 3, 0, 0, 3, 6, 1, 2, 0,\n",
              "       0, 5, 6, 3, 1, 0, 0, 3, 6, 6, 3, 2, 6, 6, 0, 5, 5, 5, 6, 4, 6, 0,\n",
              "       0, 0, 5, 0, 0, 3, 3, 0, 0, 0, 0, 0, 5, 5, 5, 3, 5, 0, 3, 3, 3, 6,\n",
              "       0, 3, 0, 6, 3, 6, 3, 0, 2, 6, 6, 6, 0, 5, 0, 6, 6, 6, 1, 1, 0, 1,\n",
              "       6, 5, 1, 5, 3, 3, 0, 6, 0, 0, 6, 5, 6, 5, 5, 6, 0, 0, 6, 6, 6, 5,\n",
              "       1, 0, 5, 6, 0, 3, 1, 6, 0, 6, 4, 5, 6, 1, 6, 0, 6, 6, 6, 0, 6, 3,\n",
              "       6, 0, 0, 0, 5, 6, 0, 6, 3, 6, 0, 6, 2, 3, 6, 5, 0, 6, 4, 0, 6, 0,\n",
              "       1, 6, 0, 3, 5, 6, 6, 0, 5, 0, 6, 6, 2, 4, 4, 4, 3, 3, 3, 6, 5, 6,\n",
              "       4, 1, 0, 4, 2, 0, 4, 3, 4, 6, 6, 3, 0, 1, 4, 6, 3, 5, 0, 6, 6, 4,\n",
              "       6, 4, 5, 0, 3, 1, 0, 3, 3, 1, 3, 0, 3, 4, 6, 6, 4])"
            ]
          },
          "metadata": {},
          "execution_count": 30
        }
      ]
    },
    {
      "cell_type": "markdown",
      "source": [
        "### Val Set Confusion Matrix and Heatmap"
      ],
      "metadata": {
        "id": "d2ullxf9PUMd"
      }
    },
    {
      "cell_type": "code",
      "source": [
        "# Validation Confusion matrix\n",
        "cm=confusion_matrix(y_val_class, y_pred_val_class)\n",
        "\n",
        "index = ['calm', 'happy', 'sad', 'angry', 'fearful', 'disgust', 'surprised']  \n",
        "columns = ['calm', 'happy', 'sad', 'angry', 'fearful', 'disgust', 'surprised']  \n",
        " \n",
        "cm_df = pd.DataFrame(cm,index,columns)                      \n",
        "plt.figure(figsize=(12,8))\n",
        "ax = plt.axes()\n",
        "\n",
        "sns.heatmap(cm_df, ax = ax, cmap = 'PuBu', fmt=\"d\", annot=True)\n",
        "ax.set_ylabel('True emotion')\n",
        "ax.set_xlabel('Predicted emotion')"
      ],
      "metadata": {
        "id": "doLcg3CTf9bx",
        "colab": {
          "base_uri": "https://localhost:8080/",
          "height": 514
        },
        "outputId": "17a1b6dc-9179-4f8f-935f-a1e95ac0d188"
      },
      "execution_count": 31,
      "outputs": [
        {
          "output_type": "execute_result",
          "data": {
            "text/plain": [
              "Text(0.5, 51.0, 'Predicted emotion')"
            ]
          },
          "metadata": {},
          "execution_count": 31
        },
        {
          "output_type": "display_data",
          "data": {
            "text/plain": [
              "<Figure size 864x576 with 2 Axes>"
            ],
            "image/png": "[encoded data removed]"
          },
          "metadata": {
            "needs_background": "light"
          }
        }
      ]
    },
    {
      "cell_type": "code",
      "source": [
        "# Confusion Matrix\n",
        "cm"
      ],
      "metadata": {
        "id": "hIEG9Pia8Nfp",
        "colab": {
          "base_uri": "https://localhost:8080/"
        },
        "outputId": "d514e527-0f07-4982-c156-4e323ae61df3"
      },
      "execution_count": 32,
      "outputs": [
        {
          "output_type": "execute_result",
          "data": {
            "text/plain": [
              "array([[28,  2,  2,  2,  1,  4,  4],\n",
              "       [ 5, 10,  0,  2,  2,  2, 12],\n",
              "       [20,  1,  1,  4,  5,  8,  9],\n",
              "       [ 1,  3,  0, 28,  1,  3, 10],\n",
              "       [ 4,  2,  1,  3,  4,  5, 10],\n",
              "       [ 6,  1,  0,  2,  3, 17, 13],\n",
              "       [ 6,  3,  2,  3,  3,  0, 23]])"
            ]
          },
          "metadata": {},
          "execution_count": 32
        }
      ]
    },
    {
      "cell_type": "markdown",
      "source": [
        "### Validation Set Predicted emotions accuracy"
      ],
      "metadata": {
        "id": "kWjKgUdRPYH5"
      }
    },
    {
      "cell_type": "code",
      "source": [
        "# Validation set prediction accuracy rates\n",
        "\n",
        "values = cm.diagonal()\n",
        "row_sum = np.sum(cm,axis=1)\n",
        "acc = values / row_sum\n",
        "\n",
        "print('Validation set predicted emotions accuracy:')\n",
        "for e in range(0, len(values)):\n",
        "    print(index[e],':', f\"{(acc[e]):0.4f}\")"
      ],
      "metadata": {
        "id": "MopdywY9f-mS",
        "colab": {
          "base_uri": "https://localhost:8080/"
        },
        "outputId": "92db20c1-fc2f-4e33-9bf3-2a838a4b8033"
      },
      "execution_count": 33,
      "outputs": [
        {
          "output_type": "stream",
          "name": "stdout",
          "text": [
            "Validation set predicted emotions accuracy:\n",
            "calm : 0.6512\n",
            "happy : 0.3030\n",
            "sad : 0.0208\n",
            "angry : 0.6087\n",
            "fearful : 0.1379\n",
            "disgust : 0.4048\n",
            "surprised : 0.5750\n"
          ]
        }
      ]
    },
    {
      "cell_type": "markdown",
      "source": [
        "### Precision, Recal, Fscore"
      ],
      "metadata": {
        "id": "DGSTy2228XRH"
      }
    },
    {
      "cell_type": "code",
      "source": [
        "# Validation set precision, recall, fscore\n",
        "\n",
        "precision_recall_fscore_support(y_val_class, y_pred_val_class, average='macro')\n"
      ],
      "metadata": {
        "id": "rOwUkCG0gGpm",
        "colab": {
          "base_uri": "https://localhost:8080/"
        },
        "outputId": "6f2cec66-5a8a-47e0-87aa-28f4122b219a"
      },
      "execution_count": 34,
      "outputs": [
        {
          "output_type": "execute_result",
          "data": {
            "text/plain": [
              "(0.3697071609352311, 0.38591643121141256, 0.3550079837824542, None)"
            ]
          },
          "metadata": {},
          "execution_count": 34
        }
      ]
    },
    {
      "cell_type": "code",
      "source": [
        "precision_recall_fscore_support(y_val_class, y_pred_val_class, average='weighted')"
      ],
      "metadata": {
        "id": "OorFgXxDzy3o",
        "colab": {
          "base_uri": "https://localhost:8080/"
        },
        "outputId": "44e024fa-8d5c-415c-b2af-2eb2d7228335"
      },
      "execution_count": 35,
      "outputs": [
        {
          "output_type": "execute_result",
          "data": {
            "text/plain": [
              "(0.3745327666536382, 0.39501779359430605, 0.36078045924016094, None)"
            ]
          },
          "metadata": {},
          "execution_count": 35
        }
      ]
    },
    {
      "cell_type": "markdown",
      "source": [
        "## Test Set Evaluation"
      ],
      "metadata": {
        "id": "FiCwOjmPPgCn"
      }
    },
    {
      "cell_type": "markdown",
      "source": [
        "### Test Set Score\n",
        "\n"
      ],
      "metadata": {
        "id": "CWB7U5xDUSmF"
      }
    },
    {
      "cell_type": "code",
      "source": [
        "loss, acc = model.evaluate(x_test, y_test_class, verbose=2)"
      ],
      "metadata": {
        "id": "Y7NEHPM-gzml",
        "colab": {
          "base_uri": "https://localhost:8080/"
        },
        "outputId": "f0ec4e26-344b-4dfd-cee7-644d02afa8f3"
      },
      "execution_count": 36,
      "outputs": [
        {
          "output_type": "stream",
          "name": "stdout",
          "text": [
            "4/4 - 1s - loss: 1.8156 - categorical_accuracy: 0.4065 - 618ms/epoch - 154ms/step\n"
          ]
        }
      ]
    },
    {
      "cell_type": "markdown",
      "source": [
        "### Construct Predicted Labels based on Probability of each class"
      ],
      "metadata": {
        "id": "gPwcFV9oAhGh"
      }
    },
    {
      "cell_type": "code",
      "source": [
        "y_test_class"
      ],
      "metadata": {
        "id": "tjN7Eit7AiML",
        "colab": {
          "base_uri": "https://localhost:8080/"
        },
        "outputId": "54265ee1-b218-40f5-c9ef-556e990a10a7"
      },
      "execution_count": 37,
      "outputs": [
        {
          "output_type": "execute_result",
          "data": {
            "text/plain": [
              "array([[0, 0, 0, 0, 0, 0, 1],\n",
              "       [0, 0, 0, 1, 0, 0, 0],\n",
              "       [0, 0, 0, 0, 0, 1, 0],\n",
              "       [0, 0, 0, 0, 1, 0, 0],\n",
              "       [1, 0, 0, 0, 0, 0, 0],\n",
              "       [0, 0, 0, 0, 1, 0, 0],\n",
              "       [0, 0, 0, 0, 0, 1, 0],\n",
              "       [0, 0, 0, 0, 1, 0, 0],\n",
              "       [0, 0, 0, 1, 0, 0, 0],\n",
              "       [0, 0, 0, 0, 0, 0, 1],\n",
              "       [0, 0, 0, 1, 0, 0, 0],\n",
              "       [0, 0, 0, 0, 1, 0, 0],\n",
              "       [1, 0, 0, 0, 0, 0, 0],\n",
              "       [0, 0, 0, 0, 0, 1, 0],\n",
              "       [0, 0, 0, 1, 0, 0, 0],\n",
              "       [1, 0, 0, 0, 0, 0, 0],\n",
              "       [0, 0, 0, 0, 0, 1, 0],\n",
              "       [0, 0, 0, 0, 0, 1, 0],\n",
              "       [0, 0, 1, 0, 0, 0, 0],\n",
              "       [0, 0, 0, 0, 0, 0, 1],\n",
              "       [0, 0, 0, 0, 0, 0, 1],\n",
              "       [1, 0, 0, 0, 0, 0, 0],\n",
              "       [1, 0, 0, 0, 0, 0, 0],\n",
              "       [0, 0, 1, 0, 0, 0, 0],\n",
              "       [0, 0, 0, 0, 0, 1, 0],\n",
              "       [1, 0, 0, 0, 0, 0, 0],\n",
              "       [0, 0, 0, 0, 0, 1, 0],\n",
              "       [1, 0, 0, 0, 0, 0, 0],\n",
              "       [0, 0, 0, 0, 1, 0, 0],\n",
              "       [0, 1, 0, 0, 0, 0, 0],\n",
              "       [0, 0, 0, 1, 0, 0, 0],\n",
              "       [0, 0, 0, 0, 0, 0, 1],\n",
              "       [0, 0, 0, 0, 0, 0, 1],\n",
              "       [0, 0, 0, 0, 0, 1, 0],\n",
              "       [0, 0, 0, 0, 1, 0, 0],\n",
              "       [0, 0, 1, 0, 0, 0, 0],\n",
              "       [0, 0, 0, 0, 0, 1, 0],\n",
              "       [0, 0, 0, 0, 1, 0, 0],\n",
              "       [0, 0, 0, 0, 1, 0, 0],\n",
              "       [0, 0, 0, 0, 0, 1, 0],\n",
              "       [0, 0, 0, 0, 0, 0, 1],\n",
              "       [1, 0, 0, 0, 0, 0, 0],\n",
              "       [0, 1, 0, 0, 0, 0, 0],\n",
              "       [0, 0, 1, 0, 0, 0, 0],\n",
              "       [0, 1, 0, 0, 0, 0, 0],\n",
              "       [0, 1, 0, 0, 0, 0, 0],\n",
              "       [0, 0, 0, 0, 0, 0, 1],\n",
              "       [0, 0, 1, 0, 0, 0, 0],\n",
              "       [0, 0, 0, 0, 0, 0, 1],\n",
              "       [0, 0, 0, 0, 1, 0, 0],\n",
              "       [0, 0, 0, 0, 0, 1, 0],\n",
              "       [0, 0, 0, 0, 0, 0, 1],\n",
              "       [0, 1, 0, 0, 0, 0, 0],\n",
              "       [0, 0, 1, 0, 0, 0, 0],\n",
              "       [0, 0, 0, 0, 0, 1, 0],\n",
              "       [0, 1, 0, 0, 0, 0, 0],\n",
              "       [0, 1, 0, 0, 0, 0, 0],\n",
              "       [0, 0, 0, 0, 1, 0, 0],\n",
              "       [0, 0, 0, 0, 1, 0, 0],\n",
              "       [0, 1, 0, 0, 0, 0, 0],\n",
              "       [0, 0, 0, 0, 0, 0, 1],\n",
              "       [0, 0, 0, 1, 0, 0, 0],\n",
              "       [0, 0, 0, 0, 1, 0, 0],\n",
              "       [0, 0, 1, 0, 0, 0, 0],\n",
              "       [0, 0, 1, 0, 0, 0, 0],\n",
              "       [0, 0, 1, 0, 0, 0, 0],\n",
              "       [0, 0, 0, 0, 1, 0, 0],\n",
              "       [1, 0, 0, 0, 0, 0, 0],\n",
              "       [0, 0, 0, 1, 0, 0, 0],\n",
              "       [0, 0, 0, 0, 0, 0, 1],\n",
              "       [0, 0, 0, 0, 0, 1, 0],\n",
              "       [0, 1, 0, 0, 0, 0, 0],\n",
              "       [0, 0, 1, 0, 0, 0, 0],\n",
              "       [0, 0, 0, 0, 1, 0, 0],\n",
              "       [0, 0, 0, 1, 0, 0, 0],\n",
              "       [1, 0, 0, 0, 0, 0, 0],\n",
              "       [0, 0, 0, 1, 0, 0, 0],\n",
              "       [0, 0, 0, 0, 0, 0, 1],\n",
              "       [0, 0, 1, 0, 0, 0, 0],\n",
              "       [0, 0, 0, 0, 0, 0, 1],\n",
              "       [1, 0, 0, 0, 0, 0, 0],\n",
              "       [0, 0, 0, 0, 1, 0, 0],\n",
              "       [0, 1, 0, 0, 0, 0, 0],\n",
              "       [0, 0, 0, 1, 0, 0, 0],\n",
              "       [0, 0, 0, 0, 0, 0, 1],\n",
              "       [0, 0, 0, 1, 0, 0, 0],\n",
              "       [0, 0, 0, 0, 0, 0, 1],\n",
              "       [0, 0, 0, 0, 1, 0, 0],\n",
              "       [0, 0, 0, 1, 0, 0, 0],\n",
              "       [0, 0, 0, 1, 0, 0, 0],\n",
              "       [0, 0, 1, 0, 0, 0, 0],\n",
              "       [0, 0, 0, 0, 0, 1, 0],\n",
              "       [0, 0, 0, 0, 1, 0, 0],\n",
              "       [0, 1, 0, 0, 0, 0, 0],\n",
              "       [1, 0, 0, 0, 0, 0, 0],\n",
              "       [0, 0, 0, 1, 0, 0, 0],\n",
              "       [0, 0, 1, 0, 0, 0, 0],\n",
              "       [0, 0, 0, 1, 0, 0, 0],\n",
              "       [0, 1, 0, 0, 0, 0, 0],\n",
              "       [1, 0, 0, 0, 0, 0, 0],\n",
              "       [0, 0, 1, 0, 0, 0, 0],\n",
              "       [0, 0, 0, 0, 0, 0, 1],\n",
              "       [0, 0, 0, 0, 0, 1, 0],\n",
              "       [0, 0, 0, 0, 1, 0, 0],\n",
              "       [0, 0, 0, 0, 1, 0, 0],\n",
              "       [0, 0, 0, 1, 0, 0, 0],\n",
              "       [0, 0, 0, 1, 0, 0, 0],\n",
              "       [0, 0, 0, 0, 0, 0, 1],\n",
              "       [0, 0, 0, 0, 1, 0, 0],\n",
              "       [1, 0, 0, 0, 0, 0, 0],\n",
              "       [0, 0, 0, 1, 0, 0, 0],\n",
              "       [0, 0, 0, 0, 1, 0, 0],\n",
              "       [0, 0, 0, 0, 0, 0, 1],\n",
              "       [0, 0, 0, 0, 0, 1, 0],\n",
              "       [0, 0, 0, 1, 0, 0, 0],\n",
              "       [0, 0, 1, 0, 0, 0, 0],\n",
              "       [0, 0, 0, 1, 0, 0, 0],\n",
              "       [0, 1, 0, 0, 0, 0, 0],\n",
              "       [0, 0, 0, 0, 0, 0, 1],\n",
              "       [0, 0, 0, 0, 0, 0, 1],\n",
              "       [0, 1, 0, 0, 0, 0, 0],\n",
              "       [1, 0, 0, 0, 0, 0, 0],\n",
              "       [0, 0, 0, 0, 0, 0, 1]], dtype=int8)"
            ]
          },
          "metadata": {},
          "execution_count": 37
        }
      ]
    },
    {
      "cell_type": "code",
      "source": [
        " np.argmax(y_test_class, axis=1)"
      ],
      "metadata": {
        "id": "2fcK-_HzAmc5",
        "colab": {
          "base_uri": "https://localhost:8080/"
        },
        "outputId": "98cdd229-d649-47e0-a884-d4700f6adec1"
      },
      "execution_count": 38,
      "outputs": [
        {
          "output_type": "execute_result",
          "data": {
            "text/plain": [
              "array([6, 3, 5, 4, 0, 4, 5, 4, 3, 6, 3, 4, 0, 5, 3, 0, 5, 5, 2, 6, 6, 0,\n",
              "       0, 2, 5, 0, 5, 0, 4, 1, 3, 6, 6, 5, 4, 2, 5, 4, 4, 5, 6, 0, 1, 2,\n",
              "       1, 1, 6, 2, 6, 4, 5, 6, 1, 2, 5, 1, 1, 4, 4, 1, 6, 3, 4, 2, 2, 2,\n",
              "       4, 0, 3, 6, 5, 1, 2, 4, 3, 0, 3, 6, 2, 6, 0, 4, 1, 3, 6, 3, 6, 4,\n",
              "       3, 3, 2, 5, 4, 1, 0, 3, 2, 3, 1, 0, 2, 6, 5, 4, 4, 3, 3, 6, 4, 0,\n",
              "       3, 4, 6, 5, 3, 2, 3, 1, 6, 6, 1, 0, 6])"
            ]
          },
          "metadata": {},
          "execution_count": 38
        }
      ]
    },
    {
      "cell_type": "code",
      "source": [
        "y_test_class = np.argmax(y_test_class, axis=1)\n",
        "predictions_test = model.predict(x_test)\n",
        "y_pred_test_class = np.argmax(predictions_test, axis=1)\n",
        "y_proba_test_class = predictions_test\n",
        "\n"
      ],
      "metadata": {
        "id": "uyXvoU2rAckI"
      },
      "execution_count": 39,
      "outputs": []
    },
    {
      "cell_type": "code",
      "source": [
        "predictions_test"
      ],
      "metadata": {
        "id": "3BAOUaPwAtuY",
        "colab": {
          "base_uri": "https://localhost:8080/"
        },
        "outputId": "d6ed5369-2ee5-4d99-ef7d-385c2a706f91"
      },
      "execution_count": 40,
      "outputs": [
        {
          "output_type": "execute_result",
          "data": {
            "text/plain": [
              "array([[1.03970570e-02, 6.53159060e-03, 5.13040647e-03, 6.97587878e-02,\n",
              "        7.11245835e-02, 1.74936339e-01, 6.62121236e-01],\n",
              "       [1.37759547e-03, 9.21147019e-02, 8.47332329e-02, 6.23203397e-01,\n",
              "        1.03570648e-01, 7.95474425e-02, 1.54530313e-02],\n",
              "       [3.36392759e-03, 6.53265568e-04, 8.45781155e-03, 1.10699860e-02,\n",
              "        8.23349599e-03, 9.07926202e-01, 6.02953620e-02],\n",
              "       [5.93551714e-03, 9.17661265e-02, 6.93821236e-02, 1.61074758e-01,\n",
              "        6.37607217e-01, 1.95449796e-02, 1.46892564e-02],\n",
              "       [2.57699370e-01, 9.60824452e-03, 1.86161846e-02, 3.33561050e-03,\n",
              "        2.93884933e-01, 5.54318028e-03, 4.11312401e-01],\n",
              "       [2.32995227e-02, 1.65346973e-02, 1.36934459e-01, 4.44151759e-01,\n",
              "        6.66736215e-02, 8.67405906e-02, 2.25665316e-01],\n",
              "       [9.55054760e-02, 3.28298844e-03, 1.25007676e-02, 4.18209583e-02,\n",
              "        1.83274001e-02, 6.38151526e-01, 1.90410852e-01],\n",
              "       [1.13421530e-02, 2.23869041e-01, 2.02061366e-02, 1.48511156e-02,\n",
              "        1.18943945e-01, 2.05298036e-01, 4.05489594e-01],\n",
              "       [2.46333657e-04, 9.81030893e-03, 1.99801708e-03, 9.56182480e-01,\n",
              "        4.51743742e-03, 3.12565244e-03, 2.41197739e-02],\n",
              "       [1.13273505e-02, 2.59726290e-02, 1.08468920e-01, 2.76216239e-01,\n",
              "        2.30656177e-01, 1.05328280e-02, 3.36825877e-01],\n",
              "       [1.31503912e-04, 4.07515764e-02, 3.00163496e-03, 9.03841674e-01,\n",
              "        5.66044310e-03, 2.92891334e-03, 4.36842144e-02],\n",
              "       [6.14740551e-02, 2.23149695e-02, 1.27483001e-02, 6.94745034e-03,\n",
              "        4.28617209e-01, 7.84227327e-02, 3.89475346e-01],\n",
              "       [1.61635861e-01, 3.89816761e-02, 5.18297613e-01, 2.71606781e-02,\n",
              "        1.92918390e-01, 4.22429666e-02, 1.87627878e-02],\n",
              "       [6.06835645e-04, 5.40079102e-02, 1.95352491e-02, 3.81084010e-02,\n",
              "        2.04291698e-02, 8.07499439e-02, 7.86562502e-01],\n",
              "       [4.17596512e-02, 2.89155841e-02, 8.82114694e-02, 1.15113035e-01,\n",
              "        5.94869889e-02, 6.24924600e-01, 4.15886790e-02],\n",
              "       [2.91654855e-01, 7.41621628e-02, 2.12742854e-02, 5.33699393e-02,\n",
              "        3.70211527e-02, 4.13463473e-01, 1.09054193e-01],\n",
              "       [1.36689050e-02, 2.65353788e-02, 8.16705450e-02, 2.43753448e-01,\n",
              "        3.48752402e-02, 5.45447171e-01, 5.40493913e-02],\n",
              "       [8.80248437e-04, 5.88394143e-03, 7.12894229e-03, 1.10903662e-03,\n",
              "        2.16830000e-02, 9.36339438e-01, 2.69753709e-02],\n",
              "       [6.23724936e-03, 6.23887368e-02, 5.33271953e-02, 5.50509393e-01,\n",
              "        1.64232895e-01, 1.07223526e-01, 5.60810305e-02],\n",
              "       [1.46814724e-04, 1.00744958e-03, 6.25865185e-04, 1.85896568e-02,\n",
              "        2.22187210e-02, 1.61939234e-01, 7.95472264e-01],\n",
              "       [4.12991971e-01, 1.59472115e-02, 5.61592449e-03, 3.78234952e-04,\n",
              "        1.29421055e-01, 2.43419409e-02, 4.11303610e-01],\n",
              "       [3.27657093e-03, 1.00671895e-01, 1.47310202e-03, 3.38155730e-03,\n",
              "        1.10434450e-01, 5.30568138e-03, 7.75456727e-01],\n",
              "       [2.66730309e-01, 1.41885355e-01, 3.26617122e-01, 2.34820414e-02,\n",
              "        1.91736519e-01, 1.38236638e-02, 3.57250161e-02],\n",
              "       [5.57912767e-01, 1.44614670e-02, 1.94908213e-02, 2.52855420e-02,\n",
              "        1.15713201e-01, 6.37380481e-02, 2.03398168e-01],\n",
              "       [1.10224793e-02, 1.92692205e-02, 1.23521432e-01, 3.17510247e-01,\n",
              "        3.34659725e-01, 1.19073465e-01, 7.49434307e-02],\n",
              "       [2.43452787e-01, 8.77316669e-03, 4.18958604e-01, 2.08643004e-02,\n",
              "        2.40387201e-01, 5.17228395e-02, 1.58410277e-02],\n",
              "       [1.09965295e-01, 2.13046476e-01, 9.25209969e-02, 3.31593364e-01,\n",
              "        1.74902365e-01, 2.60045822e-03, 7.53710568e-02],\n",
              "       [3.18258166e-01, 1.97424018e-03, 4.84614410e-02, 5.19269593e-02,\n",
              "        2.75720526e-02, 5.44202447e-01, 7.60472426e-03],\n",
              "       [1.92955732e-01, 2.20216308e-02, 4.78464603e-01, 9.43557546e-03,\n",
              "        9.28098410e-02, 1.50205672e-01, 5.41070029e-02],\n",
              "       [3.00876726e-03, 8.34644854e-01, 3.52259201e-04, 1.57646171e-03,\n",
              "        7.88486525e-02, 4.28816583e-03, 7.72809312e-02],\n",
              "       [2.09160289e-03, 1.06520941e-02, 8.44218582e-03, 8.30778301e-01,\n",
              "        4.35883226e-03, 4.25191373e-02, 1.01157881e-01],\n",
              "       [4.62437561e-03, 9.41697583e-02, 5.53633412e-03, 1.24692800e-03,\n",
              "        2.59402364e-01, 1.87807158e-02, 6.16239548e-01],\n",
              "       [1.29182348e-02, 6.18070588e-02, 1.31241605e-02, 1.33699715e-01,\n",
              "        2.13403359e-01, 4.05060053e-02, 5.24541438e-01],\n",
              "       [8.52596641e-01, 1.43630151e-02, 4.18415330e-02, 6.67154032e-04,\n",
              "        2.13447828e-02, 6.42469451e-02, 4.93995938e-03],\n",
              "       [1.05181471e-01, 1.89467557e-02, 2.49643419e-02, 5.00989240e-03,\n",
              "        3.36549431e-01, 1.20395876e-01, 3.88952255e-01],\n",
              "       [6.65894104e-03, 8.24804306e-02, 1.50959389e-02, 2.76263189e-02,\n",
              "        1.39005378e-01, 2.62353092e-01, 4.66779947e-01],\n",
              "       [9.79772061e-02, 6.02957308e-02, 1.48510095e-02, 5.62743458e-04,\n",
              "        1.86062664e-01, 1.07139945e-01, 5.33110738e-01],\n",
              "       [4.15145382e-02, 2.66463794e-02, 3.54913734e-02, 4.20808308e-02,\n",
              "        8.81273597e-02, 3.03622991e-01, 4.62516606e-01],\n",
              "       [4.81170928e-03, 5.44435859e-01, 3.32036912e-02, 8.07131007e-02,\n",
              "        1.36070222e-01, 9.15456191e-03, 1.91610858e-01],\n",
              "       [1.70152709e-02, 4.79096584e-02, 9.00988430e-02, 4.72148627e-01,\n",
              "        2.52875742e-02, 1.76807880e-01, 1.70732200e-01],\n",
              "       [2.06389115e-03, 3.96775573e-01, 6.52385456e-03, 3.85864303e-02,\n",
              "        6.12814464e-02, 7.38581941e-02, 4.20910567e-01],\n",
              "       [3.82690549e-01, 3.77808213e-01, 4.03483286e-02, 5.47309639e-03,\n",
              "        1.73571840e-01, 5.10520535e-03, 1.50028821e-02],\n",
              "       [9.72767100e-02, 2.48718426e-01, 4.12183851e-02, 3.11095064e-04,\n",
              "        3.65324706e-01, 2.02335250e-02, 2.26917043e-01],\n",
              "       [6.82598725e-02, 6.15756325e-02, 2.02088669e-01, 4.12995636e-01,\n",
              "        1.85230941e-01, 4.52983044e-02, 2.45509110e-02],\n",
              "       [6.86554670e-01, 1.69008113e-02, 9.86366943e-02, 5.29800728e-03,\n",
              "        2.07557455e-02, 6.10027723e-02, 1.10851303e-01],\n",
              "       [1.87168997e-02, 1.20995387e-01, 3.20721678e-02, 7.02239247e-03,\n",
              "        3.43442291e-01, 2.77759749e-02, 4.49974775e-01],\n",
              "       [5.88679202e-02, 6.03353269e-02, 3.25537361e-02, 2.77695851e-03,\n",
              "        2.39709154e-01, 2.86341999e-02, 5.77122629e-01],\n",
              "       [5.26862359e-03, 1.07697159e-01, 4.48856279e-02, 8.61210972e-02,\n",
              "        6.74135536e-02, 4.82781738e-01, 2.05832243e-01],\n",
              "       [1.00327667e-03, 5.83750866e-02, 1.30909495e-02, 7.06011876e-02,\n",
              "        1.00818641e-01, 2.73767948e-01, 4.82342929e-01],\n",
              "       [1.27524724e-02, 1.23818465e-01, 1.00830406e-01, 1.71823815e-01,\n",
              "        5.04145980e-01, 1.99498683e-02, 6.66790307e-02],\n",
              "       [3.97219701e-04, 1.75013114e-03, 1.13353250e-03, 1.04455287e-02,\n",
              "        2.63241446e-03, 9.69667614e-01, 1.39735900e-02],\n",
              "       [5.38941193e-03, 2.90337224e-02, 2.27829032e-02, 6.59739196e-01,\n",
              "        1.27990246e-01, 5.98182008e-02, 9.52462032e-02],\n",
              "       [5.24142802e-01, 2.04187170e-01, 4.23536263e-02, 4.64066351e-03,\n",
              "        1.17757142e-01, 2.81525106e-04, 1.06637105e-01],\n",
              "       [3.54003996e-01, 5.17094694e-02, 2.03581512e-01, 1.48200747e-02,\n",
              "        2.82270581e-01, 3.62564027e-02, 5.73581159e-02],\n",
              "       [1.20267943e-01, 3.74445431e-02, 1.76427346e-02, 2.83436198e-02,\n",
              "        9.65021849e-02, 9.71716344e-02, 6.02627277e-01],\n",
              "       [7.55080998e-01, 2.79802866e-02, 1.04311958e-01, 3.78866168e-03,\n",
              "        3.73738818e-02, 3.02177146e-02, 4.12465185e-02],\n",
              "       [2.84070820e-01, 5.30331768e-03, 6.96180481e-03, 2.45825155e-04,\n",
              "        5.49110413e-01, 1.09347805e-01, 4.49599475e-02],\n",
              "       [9.87030923e-01, 4.08200361e-03, 2.95102992e-03, 6.47825727e-05,\n",
              "        4.36534453e-03, 2.33332597e-04, 1.27269467e-03],\n",
              "       [4.21066880e-02, 2.37939842e-02, 9.53362905e-04, 3.97858559e-04,\n",
              "        1.76812977e-01, 1.39705529e-02, 7.41964519e-01],\n",
              "       [7.45467318e-04, 5.47708245e-03, 3.58597725e-03, 9.41821814e-01,\n",
              "        1.23933498e-02, 1.19910890e-03, 3.47773246e-02],\n",
              "       [5.98056555e-01, 3.97225060e-02, 3.61572243e-02, 4.12021764e-02,\n",
              "        1.66253969e-01, 3.01242471e-02, 8.84833634e-02],\n",
              "       [1.43996801e-03, 4.51295227e-02, 4.84205130e-03, 4.26836219e-03,\n",
              "        1.01721026e-01, 5.11334836e-02, 7.91465640e-01],\n",
              "       [2.45445549e-01, 5.05802222e-02, 2.39276841e-01, 4.96310461e-03,\n",
              "        2.12006181e-01, 2.22937256e-01, 2.47909129e-02],\n",
              "       [8.22166204e-01, 3.43816052e-03, 4.93876562e-02, 3.31744464e-04,\n",
              "        4.04414684e-02, 6.30600303e-02, 2.11746227e-02],\n",
              "       [1.49661735e-01, 7.77388215e-02, 5.92149049e-02, 2.65679490e-02,\n",
              "        9.18281153e-02, 1.20837856e-02, 5.82904696e-01],\n",
              "       [8.02414194e-02, 9.47616473e-02, 3.71728778e-01, 5.91532513e-02,\n",
              "        1.39939263e-01, 6.88657463e-02, 1.85309887e-01],\n",
              "       [9.06710386e-01, 3.81742930e-03, 3.81704159e-02, 1.97798741e-04,\n",
              "        2.81045735e-02, 1.23413010e-02, 1.06580853e-02],\n",
              "       [9.44850326e-01, 1.01558603e-02, 2.10540686e-02, 9.43681342e-04,\n",
              "        8.73568188e-03, 1.29278125e-02, 1.33265252e-03],\n",
              "       [2.86354247e-04, 5.73570728e-02, 3.17004276e-03, 7.56206036e-01,\n",
              "        2.64801253e-02, 7.96555057e-02, 7.68448412e-02],\n",
              "       [5.45859220e-04, 4.43766192e-02, 2.86691566e-03, 3.17353867e-02,\n",
              "        7.14926869e-02, 5.62274642e-03, 8.43359768e-01],\n",
              "       [2.90175509e-02, 1.00746499e-02, 4.36818525e-02, 2.94113845e-01,\n",
              "        4.67125103e-02, 5.37980974e-01, 3.84186022e-02],\n",
              "       [3.14751454e-03, 6.47071600e-01, 9.97050898e-04, 6.10506535e-02,\n",
              "        2.25630641e-01, 2.55089253e-03, 5.95516078e-02],\n",
              "       [1.42850913e-02, 2.72107959e-01, 8.27515423e-02, 1.09018637e-02,\n",
              "        2.12637305e-01, 1.17780887e-01, 2.89535314e-01],\n",
              "       [2.56524414e-01, 3.47179472e-02, 9.97554064e-02, 1.77943572e-01,\n",
              "        1.22057192e-01, 9.29121971e-02, 2.16089189e-01],\n",
              "       [2.16196049e-02, 2.46850982e-01, 2.52720863e-02, 4.62075949e-01,\n",
              "        2.01151177e-01, 1.12618944e-02, 3.17682959e-02],\n",
              "       [5.73552251e-01, 3.51070426e-02, 2.12408647e-01, 2.01886147e-03,\n",
              "        1.45486712e-01, 7.82760605e-03, 2.35989653e-02],\n",
              "       [6.18985370e-02, 1.38295010e-01, 2.99042277e-02, 6.29628450e-03,\n",
              "        1.36072412e-01, 3.18743497e-01, 3.08789968e-01],\n",
              "       [7.15958625e-02, 2.97639593e-02, 8.33422039e-03, 4.09948220e-03,\n",
              "        5.04675746e-01, 1.24563882e-02, 3.69074374e-01],\n",
              "       [3.46205756e-02, 7.60206312e-04, 2.77545117e-02, 5.45334769e-03,\n",
              "        7.01748300e-03, 9.00624096e-01, 2.37698257e-02],\n",
              "       [8.24153144e-03, 7.54009839e-03, 2.02059355e-02, 7.70482991e-04,\n",
              "        4.20733064e-01, 2.55199432e-01, 2.87309498e-01],\n",
              "       [8.89467001e-01, 8.34241956e-02, 1.61101762e-02, 1.73005322e-03,\n",
              "        3.81812500e-03, 2.63843010e-03, 2.81194155e-03],\n",
              "       [7.34017730e-01, 5.25251590e-03, 3.79914865e-02, 2.65295268e-03,\n",
              "        1.55936480e-01, 3.65974829e-02, 2.75512300e-02],\n",
              "       [3.42921610e-03, 9.07484442e-03, 9.00014117e-03, 3.49392802e-01,\n",
              "        2.46813912e-02, 5.61535537e-01, 4.28860970e-02],\n",
              "       [2.22056406e-04, 9.18942168e-02, 2.10418086e-03, 6.65473938e-01,\n",
              "        8.64475593e-02, 1.09557705e-02, 1.42902255e-01],\n",
              "       [3.87248784e-01, 6.21969067e-02, 5.34647405e-02, 1.02448296e-02,\n",
              "        8.53211954e-02, 3.36855315e-02, 3.67837995e-01],\n",
              "       [8.72568861e-02, 7.17841163e-02, 1.66000165e-02, 2.99048185e-01,\n",
              "        2.40962505e-01, 4.35537621e-02, 2.40794465e-01],\n",
              "       [5.97723108e-03, 6.86629638e-02, 5.34130298e-02, 2.92916149e-01,\n",
              "        1.15748003e-01, 2.46483330e-02, 4.38634306e-01],\n",
              "       [2.83865561e-03, 1.02641061e-01, 2.73964182e-02, 1.45726725e-01,\n",
              "        3.26346099e-01, 1.27176270e-01, 2.67874777e-01],\n",
              "       [3.23218876e-03, 1.53210619e-03, 1.04507528e-01, 6.51364028e-02,\n",
              "        1.72831386e-03, 8.22269380e-01, 1.59401144e-03],\n",
              "       [5.43482527e-02, 5.07446565e-02, 9.78582501e-02, 1.01542413e-01,\n",
              "        1.55470997e-01, 2.82776449e-02, 5.11757791e-01],\n",
              "       [5.03220737e-01, 3.44584920e-02, 1.94396049e-01, 1.92276333e-02,\n",
              "        2.28905708e-01, 7.81106390e-03, 1.19802970e-02],\n",
              "       [3.87315936e-02, 4.82381172e-02, 6.78339377e-02, 4.93606068e-02,\n",
              "        1.88210741e-01, 1.95589364e-01, 4.12035674e-01],\n",
              "       [2.89547071e-02, 2.98688561e-02, 8.69590230e-03, 3.64163192e-04,\n",
              "        2.52922535e-01, 2.59544533e-02, 6.53239429e-01],\n",
              "       [1.12757020e-01, 6.23208284e-01, 1.11666154e-02, 4.76884097e-03,\n",
              "        8.29551965e-02, 2.22662110e-02, 1.42877802e-01],\n",
              "       [3.50772202e-01, 1.21774254e-02, 1.27615333e-01, 6.16396370e-04,\n",
              "        3.79863292e-01, 8.21427554e-02, 4.68125492e-02],\n",
              "       [1.65800937e-03, 1.99480698e-01, 5.26239239e-02, 4.57957894e-01,\n",
              "        7.89677426e-02, 2.68514492e-02, 1.82460293e-01],\n",
              "       [2.39159279e-02, 1.45418951e-02, 2.41381861e-02, 1.40142709e-01,\n",
              "        9.33063105e-02, 2.26525351e-01, 4.77429658e-01],\n",
              "       [1.79351628e-04, 3.04404870e-02, 3.05331894e-03, 9.38105285e-01,\n",
              "        1.27418702e-02, 1.07814313e-03, 1.44014172e-02],\n",
              "       [4.53289337e-02, 1.37773558e-01, 6.88805897e-03, 1.72577635e-03,\n",
              "        1.68257609e-01, 7.02557564e-02, 5.69770277e-01],\n",
              "       [9.61186171e-01, 6.60455786e-03, 2.02799570e-02, 1.61852411e-04,\n",
              "        8.75923131e-03, 1.08510558e-03, 1.92313688e-03],\n",
              "       [9.54475894e-04, 5.13046861e-01, 1.46048181e-02, 6.31628633e-02,\n",
              "        3.45945776e-01, 2.55869585e-03, 5.97264729e-02],\n",
              "       [9.50647984e-03, 8.10886922e-05, 1.19244736e-02, 8.95401090e-03,\n",
              "        2.33458611e-03, 9.66691554e-01, 5.07872901e-04],\n",
              "       [2.40615711e-01, 6.40467787e-03, 8.70933682e-02, 9.77845564e-02,\n",
              "        4.62358166e-03, 5.58454454e-01, 5.02359355e-03],\n",
              "       [8.50854814e-03, 4.22277659e-01, 1.26857506e-02, 2.51099020e-02,\n",
              "        3.88059050e-01, 1.15883714e-02, 1.31770834e-01],\n",
              "       [4.36808281e-02, 8.32159538e-03, 1.40805319e-02, 1.31724088e-03,\n",
              "        5.07327795e-01, 7.90537521e-03, 4.17366713e-01],\n",
              "       [4.98750852e-03, 1.07980473e-02, 5.28284647e-02, 1.15972236e-01,\n",
              "        5.00773713e-02, 5.75523734e-01, 1.89812660e-01],\n",
              "       [1.09976744e-02, 6.58234239e-01, 8.20478890e-03, 2.92379353e-02,\n",
              "        6.44174144e-02, 8.99669901e-03, 2.19911292e-01],\n",
              "       [2.62070261e-03, 3.06785822e-01, 9.74964537e-03, 4.48330380e-02,\n",
              "        9.74204764e-02, 4.69186194e-02, 4.91671741e-01],\n",
              "       [2.87134141e-01, 3.05587333e-02, 4.74640653e-02, 1.11029390e-03,\n",
              "        5.47833323e-01, 6.81429133e-02, 1.77565292e-02],\n",
              "       [5.53883255e-01, 1.97719019e-02, 1.52641302e-02, 2.55783345e-03,\n",
              "        2.01603428e-01, 1.57376751e-03, 2.05345601e-01],\n",
              "       [4.04830877e-04, 6.42309152e-03, 2.16324371e-03, 5.30919313e-01,\n",
              "        2.78582964e-02, 1.91023145e-02, 4.13128883e-01],\n",
              "       [1.60598904e-01, 2.07134947e-01, 1.99260935e-01, 2.63924807e-01,\n",
              "        1.25267997e-01, 2.26421487e-02, 2.11702716e-02],\n",
              "       [6.81385677e-03, 3.78434430e-03, 8.03836156e-04, 1.97286325e-04,\n",
              "        1.00315489e-01, 1.74065568e-02, 8.70678604e-01],\n",
              "       [1.33261964e-01, 1.15917124e-01, 9.74978879e-02, 1.91244250e-03,\n",
              "        1.66288018e-01, 1.53725520e-01, 3.31396997e-01],\n",
              "       [4.78335619e-01, 1.19963642e-02, 5.96004650e-02, 6.22527190e-02,\n",
              "        2.63274349e-02, 2.53040940e-01, 1.08446464e-01],\n",
              "       [1.88520532e-02, 1.82684585e-01, 2.40352705e-01, 2.95665890e-01,\n",
              "        1.47862092e-01, 6.18578903e-02, 5.27248085e-02],\n",
              "       [8.90099555e-02, 4.18346114e-02, 1.10051939e-02, 1.09825628e-02,\n",
              "        3.42956930e-01, 3.31132300e-02, 4.71097440e-01],\n",
              "       [5.08653969e-02, 3.66230845e-03, 1.42158911e-01, 9.32323374e-03,\n",
              "        4.30319048e-02, 6.13294959e-01, 1.37663320e-01],\n",
              "       [3.81885231e-01, 2.61845961e-02, 4.86921705e-03, 5.31731639e-04,\n",
              "        1.40863299e-01, 1.59095116e-02, 4.29756314e-01],\n",
              "       [1.01342751e-02, 3.91035825e-02, 1.82707664e-02, 3.73570770e-01,\n",
              "        8.46416056e-02, 5.93325309e-02, 4.14946437e-01],\n",
              "       [1.93420053e-02, 6.90693185e-02, 1.33265778e-02, 4.28656861e-03,\n",
              "        2.49737784e-01, 2.31907004e-03, 6.41918659e-01],\n",
              "       [5.19846201e-01, 3.14730704e-02, 7.56806284e-02, 3.14838849e-02,\n",
              "        7.71098360e-02, 9.40705985e-02, 1.70335859e-01],\n",
              "       [9.43176821e-02, 1.74502462e-01, 1.84305869e-02, 3.83614786e-02,\n",
              "        1.34919092e-01, 5.41025102e-02, 4.85366225e-01]], dtype=float32)"
            ]
          },
          "metadata": {},
          "execution_count": 40
        }
      ]
    },
    {
      "cell_type": "code",
      "source": [
        "y_pred_test_class "
      ],
      "metadata": {
        "id": "ph-j4nBsAxjT",
        "colab": {
          "base_uri": "https://localhost:8080/"
        },
        "outputId": "895d6993-7347-4877-fd3e-aa1c19c5b8da"
      },
      "execution_count": 41,
      "outputs": [
        {
          "output_type": "execute_result",
          "data": {
            "text/plain": [
              "array([6, 3, 5, 4, 6, 3, 5, 6, 3, 6, 3, 4, 2, 6, 5, 5, 5, 5, 3, 6, 0, 6,\n",
              "       2, 0, 4, 2, 3, 5, 2, 1, 3, 6, 6, 0, 6, 6, 6, 6, 1, 3, 6, 0, 4, 3,\n",
              "       0, 6, 6, 5, 6, 4, 5, 3, 0, 0, 6, 0, 4, 0, 6, 3, 0, 6, 0, 0, 6, 2,\n",
              "       0, 0, 3, 6, 5, 1, 6, 0, 3, 0, 5, 4, 5, 4, 0, 0, 5, 3, 0, 3, 6, 4,\n",
              "       5, 6, 0, 6, 6, 1, 4, 3, 6, 3, 6, 0, 1, 5, 5, 1, 4, 5, 1, 6, 4, 0,\n",
              "       3, 3, 6, 6, 0, 3, 6, 5, 6, 6, 6, 0, 6])"
            ]
          },
          "metadata": {},
          "execution_count": 41
        }
      ]
    },
    {
      "cell_type": "markdown",
      "source": [
        "### Test Set Confusion Matrix and Heatmap"
      ],
      "metadata": {
        "id": "Epp2QpxsUVXH"
      }
    },
    {
      "cell_type": "code",
      "source": [
        "# Test set Confusion matrix\n",
        "\n",
        "cm=confusion_matrix(y_test_class, y_pred_test_class)\n",
        "\n",
        "index = ['calm', 'happy', 'sad', 'angry', 'fearful', 'disgust', 'surprised']  \n",
        "columns = ['calm', 'happy', 'sad', 'angry', 'fearful', 'disgust', 'surprised']  \n",
        " \n",
        "cm_df = pd.DataFrame(cm,index,columns)                      \n",
        "plt.figure(figsize=(12,8))\n",
        "ax = plt.axes()\n",
        "\n",
        "sns.heatmap(cm_df, ax = ax, cmap = 'BuGn', fmt=\"d\", annot=True)\n",
        "ax.set_ylabel('True emotion')\n",
        "ax.set_xlabel('Predicted emotion')"
      ],
      "metadata": {
        "id": "ukGrk_cagzyb",
        "colab": {
          "base_uri": "https://localhost:8080/",
          "height": 514
        },
        "outputId": "6f21718a-3573-4903-fe6e-aaa37a4e8891"
      },
      "execution_count": 42,
      "outputs": [
        {
          "output_type": "execute_result",
          "data": {
            "text/plain": [
              "Text(0.5, 51.0, 'Predicted emotion')"
            ]
          },
          "metadata": {},
          "execution_count": 42
        },
        {
          "output_type": "display_data",
          "data": {
            "text/plain": [
              "<Figure size 864x576 with 2 Axes>"
            ],
            "image/png": "[encoded data removed]"
          },
          "metadata": {
            "needs_background": "light"
          }
        }
      ]
    },
    {
      "cell_type": "code",
      "source": [
        "# Confusion Matrix\n",
        "cm"
      ],
      "metadata": {
        "id": "9f51xwUE8haF",
        "colab": {
          "base_uri": "https://localhost:8080/"
        },
        "outputId": "b4bc9c08-4b81-40c0-9600-788ca800be78"
      },
      "execution_count": 43,
      "outputs": [
        {
          "output_type": "execute_result",
          "data": {
            "text/plain": [
              "array([[ 7,  0,  3,  0,  1,  2,  2],\n",
              "       [ 3,  3,  0,  1,  2,  2,  3],\n",
              "       [ 4,  1,  1,  3,  0,  2,  4],\n",
              "       [ 1,  1,  0, 11,  0,  4,  3],\n",
              "       [ 5,  2,  1,  2,  6,  0,  5],\n",
              "       [ 1,  0,  0,  2,  1,  7,  5],\n",
              "       [ 3,  0,  0,  1,  2,  1, 15]])"
            ]
          },
          "metadata": {},
          "execution_count": 43
        }
      ]
    },
    {
      "cell_type": "markdown",
      "source": [
        "### Test Set Predicted emotions accuracy"
      ],
      "metadata": {
        "id": "zil3CkweUX0q"
      }
    },
    {
      "cell_type": "code",
      "source": [
        "# Test set prediction accuracy rates\n",
        "\n",
        "values = cm.diagonal()\n",
        "row_sum = np.sum(cm,axis=1)\n",
        "acc = values / row_sum\n",
        "\n",
        "print('Test set predicted emotions accuracy:')\n",
        "for e in range(0, len(values)):\n",
        "    print(index[e],':', f\"{(acc[e]):0.4f}\")"
      ],
      "metadata": {
        "id": "t_ORyGGig090",
        "colab": {
          "base_uri": "https://localhost:8080/"
        },
        "outputId": "b50f91b8-04ed-4e3d-bff0-846ddfd50072"
      },
      "execution_count": 44,
      "outputs": [
        {
          "output_type": "stream",
          "name": "stdout",
          "text": [
            "Test set predicted emotions accuracy:\n",
            "calm : 0.4667\n",
            "happy : 0.2143\n",
            "sad : 0.0667\n",
            "angry : 0.5500\n",
            "fearful : 0.2857\n",
            "disgust : 0.4375\n",
            "surprised : 0.6818\n"
          ]
        }
      ]
    },
    {
      "cell_type": "markdown",
      "source": [
        "### Precision, Recal, Fscore"
      ],
      "metadata": {
        "id": "8Hzthv1t8kwd"
      }
    },
    {
      "cell_type": "code",
      "source": [
        "# Validation set precision, recall, fscore\n",
        "\n",
        "precision_recall_fscore_support(y_test_class, y_pred_test_class, average='macro')\n"
      ],
      "metadata": {
        "id": "QnwWoVFnh33F",
        "colab": {
          "base_uri": "https://localhost:8080/"
        },
        "outputId": "fae6ff4a-35b8-4c0c-8681-83415f0c8e02"
      },
      "execution_count": 45,
      "outputs": [
        {
          "output_type": "execute_result",
          "data": {
            "text/plain": [
              "(0.39493319850462705, 0.3860930735930736, 0.3683663272112211, None)"
            ]
          },
          "metadata": {},
          "execution_count": 45
        }
      ]
    },
    {
      "cell_type": "code",
      "source": [
        "precision_recall_fscore_support(y_test_class, y_pred_test_class, average='weighted')"
      ],
      "metadata": {
        "id": "OlDhuPlqzwVB",
        "colab": {
          "base_uri": "https://localhost:8080/"
        },
        "outputId": "6a0a215b-8995-4d9e-e62b-43b662bd261d"
      },
      "execution_count": 46,
      "outputs": [
        {
          "output_type": "execute_result",
          "data": {
            "text/plain": [
              "(0.4066352938304158, 0.4065040650406504, 0.384517520268803, None)"
            ]
          },
          "metadata": {},
          "execution_count": 46
        }
      ]
    },
    {
      "cell_type": "markdown",
      "source": [
        "### ROC AUC Score"
      ],
      "metadata": {
        "id": "sEuBd9IyLuiD"
      }
    },
    {
      "cell_type": "code",
      "source": [
        "ravdess_df = pd.read_csv (df_path)"
      ],
      "metadata": {
        "id": "8bb4OSmyTO6v"
      },
      "execution_count": 47,
      "outputs": []
    },
    {
      "cell_type": "code",
      "source": [
        "labels = [\"calm\", \"happy\", \"sad\", \"angry\", \"fear\", \"disgust\", \"suprised\"]"
      ],
      "metadata": {
        "id": "1leZ4JGVTfTp"
      },
      "execution_count": 48,
      "outputs": []
    },
    {
      "cell_type": "code",
      "source": [
        "y_test_adj = y_test.reshape(-1,)"
      ],
      "metadata": {
        "id": "MRm1ZwnxFStc"
      },
      "execution_count": 49,
      "outputs": []
    },
    {
      "cell_type": "code",
      "source": [
        "y_proba_test_class.shape"
      ],
      "metadata": {
        "id": "O-IcYOABFjxB",
        "colab": {
          "base_uri": "https://localhost:8080/"
        },
        "outputId": "4f2a875b-3954-46e2-c798-04a7a93b58df"
      },
      "execution_count": 50,
      "outputs": [
        {
          "output_type": "execute_result",
          "data": {
            "text/plain": [
              "(123, 7)"
            ]
          },
          "metadata": {},
          "execution_count": 50
        }
      ]
    },
    {
      "cell_type": "code",
      "source": [
        "y_test.shape"
      ],
      "metadata": {
        "id": "9AaqUY3PIlMQ",
        "colab": {
          "base_uri": "https://localhost:8080/"
        },
        "outputId": "dfee0b82-14f7-45d6-e3c3-edc8abc5737b"
      },
      "execution_count": 51,
      "outputs": [
        {
          "output_type": "execute_result",
          "data": {
            "text/plain": [
              "(123, 1)"
            ]
          },
          "metadata": {},
          "execution_count": 51
        }
      ]
    },
    {
      "cell_type": "code",
      "source": [
        "y_test_adj"
      ],
      "metadata": {
        "id": "7LgDudYTKInS",
        "colab": {
          "base_uri": "https://localhost:8080/"
        },
        "outputId": "8c9224d0-a4dd-4f1c-8e69-6f916acebed0"
      },
      "execution_count": 52,
      "outputs": [
        {
          "output_type": "execute_result",
          "data": {
            "text/plain": [
              "array([6, 3, 5, 4, 0, 4, 5, 4, 3, 6, 3, 4, 0, 5, 3, 0, 5, 5, 2, 6, 6, 0,\n",
              "       0, 2, 5, 0, 5, 0, 4, 1, 3, 6, 6, 5, 4, 2, 5, 4, 4, 5, 6, 0, 1, 2,\n",
              "       1, 1, 6, 2, 6, 4, 5, 6, 1, 2, 5, 1, 1, 4, 4, 1, 6, 3, 4, 2, 2, 2,\n",
              "       4, 0, 3, 6, 5, 1, 2, 4, 3, 0, 3, 6, 2, 6, 0, 4, 1, 3, 6, 3, 6, 4,\n",
              "       3, 3, 2, 5, 4, 1, 0, 3, 2, 3, 1, 0, 2, 6, 5, 4, 4, 3, 3, 6, 4, 0,\n",
              "       3, 4, 6, 5, 3, 2, 3, 1, 6, 6, 1, 0, 6], dtype=int8)"
            ]
          },
          "metadata": {},
          "execution_count": 52
        }
      ]
    },
    {
      "cell_type": "code",
      "source": [
        "\n",
        "\n",
        "macro_roc_auc_ovo = roc_auc_score(y_test_adj, y_proba_test_class, multi_class=\"ovo\", average=\"macro\")\n",
        "weighted_roc_auc_ovo = roc_auc_score(\n",
        "    y_test_adj, y_proba_test_class, multi_class=\"ovo\", average=\"weighted\"\n",
        ")\n",
        "macro_roc_auc_ovr = roc_auc_score(y_test_adj, y_proba_test_class, multi_class=\"ovr\", average=\"macro\")\n",
        "weighted_roc_auc_ovr = roc_auc_score(\n",
        "    y_test_adj, y_proba_test_class, multi_class=\"ovr\", average=\"weighted\"\n",
        ")\n"
      ],
      "metadata": {
        "id": "oMa4N8EhHlY9"
      },
      "execution_count": 53,
      "outputs": []
    },
    {
      "cell_type": "code",
      "source": [
        "print(\"One-vs-One ROC AUC scores:\\n{:.6f} (macro),\\n{:.6f} \" \"(weighted by prevalence)\\n\".format(macro_roc_auc_ovo, weighted_roc_auc_ovo))\n",
        "print(\"One-vs-Rest ROC AUC scores:\\n{:.6f} (macro),\\n{:.6f} \" \"(weighted by prevalence)\".format(macro_roc_auc_ovr, weighted_roc_auc_ovr))"
      ],
      "metadata": {
        "id": "hhBLwtO_ICqL",
        "colab": {
          "base_uri": "https://localhost:8080/"
        },
        "outputId": "8c71b689-f272-452d-f6b7-42bba6b82fec"
      },
      "execution_count": 54,
      "outputs": [
        {
          "output_type": "stream",
          "name": "stdout",
          "text": [
            "One-vs-One ROC AUC scores:\n",
            "0.752902 (macro),\n",
            "0.755234 (weighted by prevalence)\n",
            "\n",
            "One-vs-Rest ROC AUC scores:\n",
            "0.753939 (macro),\n",
            "0.758084 (weighted by prevalence)\n"
          ]
        }
      ]
    }
  ]
}