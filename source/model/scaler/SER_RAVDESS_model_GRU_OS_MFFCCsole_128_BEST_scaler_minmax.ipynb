{
  "metadata": {
    "kernelspec": {
      "language": "python",
      "display_name": "Python 3",
      "name": "python3"
    },
    "language_info": {
      "pygments_lexer": "ipython3",
      "nbconvert_exporter": "python",
      "version": "3.6.4",
      "file_extension": ".py",
      "codemirror_mode": {
        "name": "ipython",
        "version": 3
      },
      "name": "python",
      "mimetype": "text/x-python"
    },
    "colab": {
      "name": "SER-RAVDESS-model-GRU-OS-MFFCCsole-128-BEST-scaler-minmax.ipynb",
      "provenance": [],
      "collapsed_sections": []
    }
  },
  "nbformat_minor": 0,
  "nbformat": 4,
  "cells": [
    {
      "cell_type": "markdown",
      "source": [
        "# Imports"
      ],
      "metadata": {
        "id": "anSyerIFN7qd"
      }
    },
    {
      "cell_type": "code",
      "source": [
        "# Importing Libraries"
      ],
      "metadata": {
        "id": "IMFSwIuvKiw2"
      },
      "execution_count": 1,
      "outputs": []
    },
    {
      "cell_type": "code",
      "source": [
        "!pip install json-tricks"
      ],
      "metadata": {
        "colab": {
          "base_uri": "https://localhost:8080/"
        },
        "id": "bBR8aNsmM2tR",
        "outputId": "1d1e25b8-a40a-4835-a443-3fe0343ffdf8"
      },
      "execution_count": 2,
      "outputs": [
        {
          "output_type": "stream",
          "name": "stdout",
          "text": [
            "Looking in indexes: https://pypi.org/simple, https://us-python.pkg.dev/colab-wheels/public/simple/\n",
            "Requirement already satisfied: json-tricks in /usr/local/lib/python3.7/dist-packages (3.15.5)\n"
          ]
        }
      ]
    },
    {
      "cell_type": "code",
      "source": [
        "import pandas as pd\n",
        "import numpy as np\n",
        "\n",
        "import os\n",
        "import sys\n",
        "\n",
        "import librosa\n",
        "import librosa.display\n",
        "#from pydub import AudioSegment, effects\n",
        "#import noisereduce as nr\n",
        "\n",
        "\n",
        "import seaborn as sns\n",
        "import matplotlib.pyplot as plt\n",
        "from IPython.display import Audio\n",
        "\n",
        "import tensorflow as tf\n",
        "import keras\n",
        "import sklearn\n",
        "\n",
        "\n",
        "from tensorflow.keras.models import Sequential, Model\n",
        "from tensorflow.keras.layers import Dense, LSTM, Flatten, Dropout, BatchNormalization\n",
        "from tensorflow.keras.callbacks import ModelCheckpoint, EarlyStopping, ReduceLROnPlateau\n",
        "from tensorflow.keras.optimizers import Adam, SGD\n",
        "from tensorflow.keras.utils import to_categorical, plot_model\n",
        "\n",
        "\n",
        "from keras.models import Sequential, model_from_json, load_model\n",
        "from keras import layers\n",
        "from keras import optimizers\n",
        "from keras import callbacks\n",
        "from sklearn.preprocessing import MinMaxScaler, StandardScaler, OneHotEncoder, LabelEncoder\n",
        "from sklearn.metrics import confusion_matrix, classification_report, precision_recall_fscore_support, roc_auc_score\n",
        "from sklearn.model_selection import train_test_split, StratifiedShuffleSplit\n",
        "from sklearn.multiclass import OneVsRestClassifier\n",
        "\n",
        "\n",
        "from tqdm import tqdm\n",
        "\n",
        "\n",
        "from json_tricks import dump, load\n",
        "\n",
        "\n",
        "\n",
        "import warnings\n",
        "if not sys.warnoptions:\n",
        "    warnings.simplefilter(\"ignore\")\n",
        "warnings.filterwarnings(\"ignore\", category=DeprecationWarning) \n",
        "\n",
        "import time\n",
        "tic = time.perf_counter()\n",
        "\n",
        "\n",
        "\n"
      ],
      "metadata": {
        "id": "77IS8HxqFFCA"
      },
      "execution_count": 3,
      "outputs": []
    },
    {
      "cell_type": "code",
      "source": [
        ""
      ],
      "metadata": {
        "id": "gGYqBIk0FGm4"
      },
      "execution_count": 3,
      "outputs": []
    },
    {
      "cell_type": "markdown",
      "source": [
        "# Dataset"
      ],
      "metadata": {
        "id": "nyMzoZKKKiw6"
      }
    },
    {
      "cell_type": "code",
      "source": [
        "from google.colab import drive\n",
        "drive.mount('/content/drive')"
      ],
      "metadata": {
        "colab": {
          "base_uri": "https://localhost:8080/"
        },
        "id": "JFPDGXmwCBs_",
        "outputId": "19f2a43a-f4fd-4f24-c32a-bc228993e4fe"
      },
      "execution_count": 4,
      "outputs": [
        {
          "output_type": "stream",
          "name": "stdout",
          "text": [
            "Drive already mounted at /content/drive; to attempt to forcibly remount, call drive.mount(\"/content/drive\", force_remount=True).\n"
          ]
        }
      ]
    },
    {
      "cell_type": "code",
      "source": [
        "#Crema = \"/content/drive/MyDrive/datasets/speech/CREMAD/sample/\"\n",
        "#Crema = \"/content/drive/MyDrive/datasets/speech/CREMAD/AudioWAV/\"\n",
        "Ravdess = \"/content/drive/MyDrive/datasets/speech/RAVDESS/data/Audio_Speech_Actors_01-24\"\n",
        "Ravdess_processed = \"/content/drive/MyDrive/datasets/speech/RAVDESS/processedData/onlySpeech/\"\n",
        "Ravdess_speech_sample = \"/content/drive/MyDrive/datasets/speech/RAVDESS/data/Audio_Speech_Actors_01-24/\"\n",
        "df_path = \"/content/drive/MyDrive/datasets/speech/RAVDESS/ravdess_df_onlySpeech.csv\"\n",
        "model_path = Ravdess + \"/model/\"\n",
        "\n",
        "checkpoint_path = model_path + \"best_weights-os-GRU-1.hdf5\"\n",
        "saved_model_path = model_path + 'model8723-os-GRU-1.json'\n",
        "\n",
        "saved_weights_path = model_path + 'model8723_weights-os-GRU-1.h5'\n",
        "saved_model_path_2 = model_path + 'Speech-Emotion-Recognition-Model-os-GRU-1.h5'"
      ],
      "metadata": {
        "execution": {
          "iopub.status.busy": "2021-06-21T09:35:38.093538Z",
          "iopub.execute_input": "2021-06-21T09:35:38.093869Z",
          "iopub.status.idle": "2021-06-21T09:35:38.097467Z",
          "shell.execute_reply.started": "2021-06-21T09:35:38.093838Z",
          "shell.execute_reply": "2021-06-21T09:35:38.096608Z"
        },
        "trusted": true,
        "id": "vR2GjHL4Kiw7"
      },
      "execution_count": 5,
      "outputs": []
    },
    {
      "cell_type": "code",
      "source": [
        ""
      ],
      "metadata": {
        "id": "J2T6JxzIF2Jq"
      },
      "execution_count": 5,
      "outputs": []
    },
    {
      "cell_type": "code",
      "source": [
        "##Hypter Parameters' Range\n",
        "params = {\n",
        "    \"batch_size\": 20,  # 20<16<10, 25 was a bust\n",
        "    \"epochs\": 300,\n",
        "    \"lr\": 0.00010000,\n",
        "    \"time_steps\": 60\n",
        "}\n",
        "#TIME_STEPS = params[\"time_steps\"]\n",
        "#BATCH_SIZE = params[\"batch_size\"]\n",
        "#iter_changes = \"dropout_layers_0.4_0.4\"\n"
      ],
      "metadata": {
        "id": "jnEd5_Vvy4ue"
      },
      "execution_count": 6,
      "outputs": []
    },
    {
      "cell_type": "code",
      "source": [
        ""
      ],
      "metadata": {
        "id": "dKXM0xT-N8uy"
      },
      "execution_count": 6,
      "outputs": []
    },
    {
      "cell_type": "markdown",
      "source": [
        "# Load Processed Files, Construct Train, Validation and Test Sets"
      ],
      "metadata": {
        "id": "fse_mTpaOGdQ"
      }
    },
    {
      "cell_type": "code",
      "source": [
        "\n",
        "processed_path = Ravdess_processed\n",
        "x_path = processed_path + \"X_features_MFCC.json\" # FILE LOAD PATH\n",
        "y_path =  processed_path + \"Y_labels.json\" # FILE SAVE PATH\n",
        "#x_path = '/content/drive/MyDrive/datasets/speech/RAVDESS/processedData/X_features.json'\n",
        "\n",
        "# Load X,Y json files back into lists, convert to np.arrays\n",
        "\n",
        "X = load(x_path)\n",
        "X = np.asarray(X, dtype = 'float32')\n",
        "\n",
        "Y = load(y_path)\n",
        "Y = np.asarray(Y, dtype = 'int8')"
      ],
      "metadata": {
        "id": "101BpvWgN8xX"
      },
      "execution_count": 7,
      "outputs": []
    },
    {
      "cell_type": "code",
      "source": [
        "# Split to train, validation, and test sets.\n",
        "from sklearn.model_selection import train_test_split\n",
        "# 1st Split: X,Y => (x_train, x_tosplit) (y_train, y_tosplit)\n",
        "x_train, x_tosplit, y_train, y_tosplit = train_test_split(X, Y, test_size = 0.30, random_state = 1)\n",
        "\n",
        "\n",
        "\n",
        "\n",
        "# 2nd Split: x_tosplit,y_tosplit => (x_val, x_test) (y_val, y_test) \n",
        "x_val, x_test, y_val, y_test = train_test_split(x_tosplit, y_tosplit, test_size = 0.304, random_state = 1)\n",
        "#'One-hot' vectors for Y: emotion classification\n",
        "y_train_class = tf.keras.utils.to_categorical(y_train, 7, dtype = 'int8')\n",
        "y_val_class = tf.keras.utils.to_categorical(y_val, 7, dtype = 'int8')"
      ],
      "metadata": {
        "id": "CuF9M1mfOD7X"
      },
      "execution_count": 8,
      "outputs": []
    },
    {
      "cell_type": "code",
      "source": [
        ""
      ],
      "metadata": {
        "id": "yJamzwMcCp_v"
      },
      "execution_count": 8,
      "outputs": []
    },
    {
      "cell_type": "code",
      "source": [
        "# Normalize data using MinMaxScaler\n",
        "\n",
        "scaler = MinMaxScaler()\n",
        "\n",
        "\n",
        "X_train = scaler.fit_transform(x_train.reshape(-1, x_train.shape[-1])).reshape(x_train.shape)\n",
        "X_val = scaler.transform(x_val.reshape(-1, x_val.shape[-1])).reshape(x_val.shape)\n",
        "X_test = scaler.transform(x_test.reshape(-1, x_test.shape[-1])).reshape(x_test.shape)"
      ],
      "metadata": {
        "id": "zBs8Y2ZlWY_5"
      },
      "execution_count": 9,
      "outputs": []
    },
    {
      "cell_type": "code",
      "source": [
        "#X_train = x_train\n",
        "#X_val = x_val\n",
        "#X_test = x_test"
      ],
      "metadata": {
        "id": "Acf0v-2jsdOx"
      },
      "execution_count": 10,
      "outputs": []
    },
    {
      "cell_type": "code",
      "source": [
        "# x_train, x_val, and x_test shape check.\n",
        "print(np.shape(X_train))\n",
        "print(np.shape(X_val))\n",
        "print(np.shape(X_test))"
      ],
      "metadata": {
        "colab": {
          "base_uri": "https://localhost:8080/"
        },
        "id": "od-D1YgBOGXs",
        "outputId": "017e5fdc-66f7-48eb-bb32-683e03faaa6d"
      },
      "execution_count": 11,
      "outputs": [
        {
          "output_type": "stream",
          "name": "stdout",
          "text": [
            "(940, 448, 13)\n",
            "(281, 448, 13)\n",
            "(123, 448, 13)\n"
          ]
        }
      ]
    },
    {
      "cell_type": "code",
      "source": [
        "# Save x_test, y_test to JSON.\n",
        "\n",
        "x_test_path = processed_path + 'x_test_data.json'\n",
        "dump(obj = X_test, fp = x_test_path)\n",
        "\n",
        "y_test_path = processed_path + 'y_test_data.json'\n",
        "dump(obj = y_test, fp = y_test_path)"
      ],
      "metadata": {
        "colab": {
          "base_uri": "https://localhost:8080/",
          "height": 105
        },
        "id": "nTExHJVsOHQ5",
        "outputId": "dc005948-d331-41c1-9198-7f7ce585d3f9"
      },
      "execution_count": 12,
      "outputs": [
        {
          "output_type": "execute_result",
          "data": {
            "text/plain": [
              "'{\"__ndarray__\": [[6], [3], [5], [4], [0], [4], [5], [4], [3], [6], [3], [4], [0], [5], [3], [0], [5], [5], [2], [6], [6], [0], [0], [2], [5], [0], [5], [0], [4], [1], [3], [6], [6], [5], [4], [2], [5], [4], [4], [5], [6], [0], [1], [2], [1], [1], [6], [2], [6], [4], [5], [6], [1], [2], [5], [1], [1], [4], [4], [1], [6], [3], [4], [2], [2], [2], [4], [0], [3], [6], [5], [1], [2], [4], [3], [0], [3], [6], [2], [6], [0], [4], [1], [3], [6], [3], [6], [4], [3], [3], [2], [5], [4], [1], [0], [3], [2], [3], [1], [0], [2], [6], [5], [4], [4], [3], [3], [6], [4], [0], [3], [4], [6], [5], [3], [2], [3], [1], [6], [6], [1], [0], [6]], \"dtype\": \"int8\", \"shape\": [123, 1], \"Corder\": true}'"
            ],
            "application/vnd.google.colaboratory.intrinsic+json": {
              "type": "string"
            }
          },
          "metadata": {},
          "execution_count": 12
        }
      ]
    },
    {
      "cell_type": "code",
      "source": [
        "# Loading x_test, y_test json files, and converting to np.arrays\n",
        "\n",
        "X_test = load(processed_path + 'x_test_data.json')\n",
        "X_test = np.asarray(X_test).astype('float32')\n",
        "\n",
        "y_test = load(processed_path + 'y_test_data.json')\n",
        "y_test = np.asarray(y_test).astype('int8')\n",
        "\n",
        "y_test_class = tf.keras.utils.to_categorical(y_test, 7, dtype = 'int8')"
      ],
      "metadata": {
        "id": "kAFBRsmk5dzm"
      },
      "execution_count": 13,
      "outputs": []
    },
    {
      "cell_type": "code",
      "source": [
        "X.shape"
      ],
      "metadata": {
        "id": "15joCR4gu4r7",
        "colab": {
          "base_uri": "https://localhost:8080/"
        },
        "outputId": "4ab4e83f-dd1e-4dc9-dedd-46b96681f39e"
      },
      "execution_count": 14,
      "outputs": [
        {
          "output_type": "execute_result",
          "data": {
            "text/plain": [
              "(1344, 448, 13)"
            ]
          },
          "metadata": {},
          "execution_count": 14
        }
      ]
    },
    {
      "cell_type": "code",
      "source": [
        "X.shape[1:3]"
      ],
      "metadata": {
        "colab": {
          "base_uri": "https://localhost:8080/"
        },
        "id": "8MQhoPKjEzi4",
        "outputId": "cac476fa-263b-4f6f-c3e7-a6e319f489a5"
      },
      "execution_count": 15,
      "outputs": [
        {
          "output_type": "execute_result",
          "data": {
            "text/plain": [
              "(448, 13)"
            ]
          },
          "metadata": {},
          "execution_count": 15
        }
      ]
    },
    {
      "cell_type": "code",
      "source": [
        "X_train.shape"
      ],
      "metadata": {
        "colab": {
          "base_uri": "https://localhost:8080/"
        },
        "id": "LxZyszASamnQ",
        "outputId": "894b0c9a-5d70-4c4c-a23a-775fde876745"
      },
      "execution_count": 16,
      "outputs": [
        {
          "output_type": "execute_result",
          "data": {
            "text/plain": [
              "(940, 448, 13)"
            ]
          },
          "metadata": {},
          "execution_count": 16
        }
      ]
    },
    {
      "cell_type": "markdown",
      "source": [
        "# RNN Model"
      ],
      "metadata": {
        "id": "gnWVMbR6KixC"
      }
    },
    {
      "cell_type": "code",
      "source": [
        "tic"
      ],
      "metadata": {
        "colab": {
          "base_uri": "https://localhost:8080/"
        },
        "id": "7CHZWdfcN8oo",
        "outputId": "214c361a-09e7-45e9-93cd-6598b6106ba9"
      },
      "execution_count": 17,
      "outputs": [
        {
          "output_type": "execute_result",
          "data": {
            "text/plain": [
              "2698.284848561"
            ]
          },
          "metadata": {},
          "execution_count": 17
        }
      ]
    },
    {
      "cell_type": "markdown",
      "source": [
        "## Define Model & Training"
      ],
      "metadata": {
        "id": "GJjJYnJQORJ8"
      }
    },
    {
      "cell_type": "code",
      "source": [
        "# Initializing the model\n",
        "\n",
        "model = Sequential()\n",
        "model.add(layers.GRU(128, return_sequences = True, input_shape=(X.shape[1:3])))\n",
        "model.add(layers.GRU(64))\n",
        "\n",
        "model.add(layers.Dense(7, activation = 'softmax'))\n",
        "print(model.summary())\n",
        "\n",
        "batch_size = 23\n",
        "\n",
        "# Callbacks functions\n",
        "\n",
        "#-> EearlyStopping\n",
        "es = EarlyStopping(monitor='val_loss', mode='min', verbose=1,\n",
        "                    patience=20, min_delta=0.0001)\n",
        "\n",
        "\n",
        "#-> Save the best weights\n",
        "mcp_save = callbacks.ModelCheckpoint(checkpoint_path, save_best_only=True,\n",
        "                           monitor='val_categorical_accuracy',\n",
        "                           mode='max')\n",
        "#-> Reduce learning rate after 100 epoches without improvement.\n",
        "rlrop = callbacks.ReduceLROnPlateau(monitor='val_categorical_accuracy', \n",
        "                                    factor=0.1, patience=20)\n",
        "                             \n",
        "# Compile & train   \n",
        "model.compile(loss='categorical_crossentropy', \n",
        "                optimizer='RMSProp', \n",
        "                metrics=['categorical_accuracy'])\n",
        "\n",
        "\n"
      ],
      "metadata": {
        "colab": {
          "base_uri": "https://localhost:8080/"
        },
        "id": "aD2adyVGOJs4",
        "outputId": "5da89306-31b2-4d4f-aa27-3e921807945d"
      },
      "execution_count": 18,
      "outputs": [
        {
          "output_type": "stream",
          "name": "stdout",
          "text": [
            "Model: \"sequential\"\n",
            "_________________________________________________________________\n",
            " Layer (type)                Output Shape              Param #   \n",
            "=================================================================\n",
            " gru (GRU)                   (None, 448, 128)          54912     \n",
            "                                                                 \n",
            " gru_1 (GRU)                 (None, 64)                37248     \n",
            "                                                                 \n",
            " dense (Dense)               (None, 7)                 455       \n",
            "                                                                 \n",
            "=================================================================\n",
            "Total params: 92,615\n",
            "Trainable params: 92,615\n",
            "Non-trainable params: 0\n",
            "_________________________________________________________________\n",
            "None\n"
          ]
        }
      ]
    },
    {
      "cell_type": "code",
      "source": [
        ""
      ],
      "metadata": {
        "id": "4DBF6kqx-OHZ"
      },
      "execution_count": 18,
      "outputs": []
    },
    {
      "cell_type": "code",
      "source": [
        "history = model.fit(X_train, y_train_class, \n",
        "                      epochs=340, batch_size = batch_size, \n",
        "                      validation_data = (X_val, y_val_class), \n",
        "                      callbacks = [es, mcp_save, rlrop])\n",
        "toc = time.perf_counter()"
      ],
      "metadata": {
        "colab": {
          "base_uri": "https://localhost:8080/"
        },
        "id": "Da7Gc9x_izth",
        "outputId": "7f36d59f-6c3f-4c38-9826-9ca9efa65d9c"
      },
      "execution_count": 19,
      "outputs": [
        {
          "output_type": "stream",
          "name": "stdout",
          "text": [
            "Epoch 1/340\n",
            "41/41 [==============================] - 34s 684ms/step - loss: 1.9635 - categorical_accuracy: 0.1404 - val_loss: 1.9982 - val_categorical_accuracy: 0.1174 - lr: 0.0010\n",
            "Epoch 2/340\n",
            "41/41 [==============================] - 26s 630ms/step - loss: 1.9562 - categorical_accuracy: 0.1468 - val_loss: 1.9906 - val_categorical_accuracy: 0.1174 - lr: 0.0010\n",
            "Epoch 3/340\n",
            "41/41 [==============================] - 27s 650ms/step - loss: 1.9540 - categorical_accuracy: 0.1309 - val_loss: 1.9491 - val_categorical_accuracy: 0.1495 - lr: 0.0010\n",
            "Epoch 4/340\n",
            "41/41 [==============================] - 27s 659ms/step - loss: 1.9523 - categorical_accuracy: 0.1457 - val_loss: 1.9492 - val_categorical_accuracy: 0.1495 - lr: 0.0010\n",
            "Epoch 5/340\n",
            "41/41 [==============================] - 26s 629ms/step - loss: 1.9512 - categorical_accuracy: 0.1489 - val_loss: 1.9515 - val_categorical_accuracy: 0.1495 - lr: 0.0010\n",
            "Epoch 6/340\n",
            "41/41 [==============================] - 27s 651ms/step - loss: 1.9520 - categorical_accuracy: 0.1468 - val_loss: 1.9478 - val_categorical_accuracy: 0.1708 - lr: 0.0010\n",
            "Epoch 7/340\n",
            "41/41 [==============================] - 27s 658ms/step - loss: 1.9514 - categorical_accuracy: 0.1255 - val_loss: 1.9587 - val_categorical_accuracy: 0.1174 - lr: 0.0010\n",
            "Epoch 8/340\n",
            "41/41 [==============================] - 27s 656ms/step - loss: 1.9492 - categorical_accuracy: 0.1543 - val_loss: 1.9527 - val_categorical_accuracy: 0.1032 - lr: 0.0010\n",
            "Epoch 9/340\n",
            "41/41 [==============================] - 26s 640ms/step - loss: 1.9488 - categorical_accuracy: 0.1426 - val_loss: 1.9509 - val_categorical_accuracy: 0.1174 - lr: 0.0010\n",
            "Epoch 10/340\n",
            "41/41 [==============================] - 26s 633ms/step - loss: 1.9490 - categorical_accuracy: 0.1351 - val_loss: 1.9503 - val_categorical_accuracy: 0.1210 - lr: 0.0010\n",
            "Epoch 11/340\n",
            "41/41 [==============================] - 26s 634ms/step - loss: 1.9477 - categorical_accuracy: 0.1521 - val_loss: 1.9666 - val_categorical_accuracy: 0.1032 - lr: 0.0010\n",
            "Epoch 12/340\n",
            "41/41 [==============================] - 26s 638ms/step - loss: 1.9489 - categorical_accuracy: 0.1447 - val_loss: 1.9517 - val_categorical_accuracy: 0.1281 - lr: 0.0010\n",
            "Epoch 13/340\n",
            "41/41 [==============================] - 26s 644ms/step - loss: 1.9478 - categorical_accuracy: 0.1511 - val_loss: 1.9503 - val_categorical_accuracy: 0.1317 - lr: 0.0010\n",
            "Epoch 14/340\n",
            "41/41 [==============================] - 26s 637ms/step - loss: 1.9486 - categorical_accuracy: 0.1426 - val_loss: 1.9519 - val_categorical_accuracy: 0.0925 - lr: 0.0010\n",
            "Epoch 15/340\n",
            "41/41 [==============================] - 26s 632ms/step - loss: 1.9472 - categorical_accuracy: 0.1511 - val_loss: 1.9514 - val_categorical_accuracy: 0.1174 - lr: 0.0010\n",
            "Epoch 16/340\n",
            "41/41 [==============================] - 26s 633ms/step - loss: 1.9466 - categorical_accuracy: 0.1447 - val_loss: 1.9609 - val_categorical_accuracy: 0.1032 - lr: 0.0010\n",
            "Epoch 17/340\n",
            "41/41 [==============================] - 26s 635ms/step - loss: 1.9472 - categorical_accuracy: 0.1521 - val_loss: 1.9516 - val_categorical_accuracy: 0.1174 - lr: 0.0010\n",
            "Epoch 18/340\n",
            "41/41 [==============================] - 26s 633ms/step - loss: 1.9471 - categorical_accuracy: 0.1426 - val_loss: 1.9537 - val_categorical_accuracy: 0.1210 - lr: 0.0010\n",
            "Epoch 19/340\n",
            "41/41 [==============================] - 26s 641ms/step - loss: 1.9468 - categorical_accuracy: 0.1468 - val_loss: 1.9542 - val_categorical_accuracy: 0.0961 - lr: 0.0010\n",
            "Epoch 20/340\n",
            "41/41 [==============================] - 26s 643ms/step - loss: 1.9472 - categorical_accuracy: 0.1521 - val_loss: 1.9490 - val_categorical_accuracy: 0.1210 - lr: 0.0010\n",
            "Epoch 21/340\n",
            "41/41 [==============================] - 26s 641ms/step - loss: 1.9466 - categorical_accuracy: 0.1457 - val_loss: 1.9507 - val_categorical_accuracy: 0.1210 - lr: 0.0010\n",
            "Epoch 22/340\n",
            "41/41 [==============================] - 26s 640ms/step - loss: 1.9477 - categorical_accuracy: 0.1543 - val_loss: 1.9520 - val_categorical_accuracy: 0.1210 - lr: 0.0010\n",
            "Epoch 23/340\n",
            "41/41 [==============================] - 26s 632ms/step - loss: 1.9462 - categorical_accuracy: 0.1521 - val_loss: 1.9563 - val_categorical_accuracy: 0.1210 - lr: 0.0010\n",
            "Epoch 24/340\n",
            "41/41 [==============================] - 26s 631ms/step - loss: 1.9467 - categorical_accuracy: 0.1617 - val_loss: 1.9584 - val_categorical_accuracy: 0.0996 - lr: 0.0010\n",
            "Epoch 25/340\n",
            "41/41 [==============================] - 26s 640ms/step - loss: 1.9475 - categorical_accuracy: 0.1457 - val_loss: 1.9515 - val_categorical_accuracy: 0.1174 - lr: 0.0010\n",
            "Epoch 26/340\n",
            "41/41 [==============================] - 26s 637ms/step - loss: 1.9467 - categorical_accuracy: 0.1511 - val_loss: 1.9524 - val_categorical_accuracy: 0.0961 - lr: 0.0010\n",
            "Epoch 26: early stopping\n"
          ]
        }
      ]
    },
    {
      "cell_type": "code",
      "source": [
        ""
      ],
      "metadata": {
        "id": "3MekXCZHizyZ"
      },
      "execution_count": 19,
      "outputs": []
    },
    {
      "cell_type": "code",
      "source": [
        "print(f\"Running time: {(toc - tic)/60:0.4f} minutes\")"
      ],
      "metadata": {
        "id": "cHmSBRhVOELJ",
        "colab": {
          "base_uri": "https://localhost:8080/"
        },
        "outputId": "05e945b4-0024-4b48-e416-28e0ee3a60bc"
      },
      "execution_count": 20,
      "outputs": [
        {
          "output_type": "stream",
          "name": "stdout",
          "text": [
            "Running time: 12.3548 minutes\n"
          ]
        }
      ]
    },
    {
      "cell_type": "markdown",
      "source": [
        "## Loading Model"
      ],
      "metadata": {
        "id": "jCQelzMAKixD"
      }
    },
    {
      "cell_type": "code",
      "source": [
        "# Define the best weights to the model.\\\n",
        "#model.load_weights(checkpoint_path)"
      ],
      "metadata": {
        "id": "gruZAW2wI-tO"
      },
      "execution_count": 21,
      "outputs": []
    },
    {
      "cell_type": "markdown",
      "source": [
        "# Evaluation"
      ],
      "metadata": {
        "id": "kDxTjEK0KixD"
      }
    },
    {
      "cell_type": "markdown",
      "source": [
        "## Save & Load model, weights"
      ],
      "metadata": {
        "id": "1YfguG0tPatV"
      }
    },
    {
      "cell_type": "code",
      "source": [
        "# Saving model & weights\n",
        "model_json = model.to_json()\n",
        "\n",
        "\n",
        "\n",
        "with open(saved_model_path, \"w\") as json_file:\n",
        "    json_file.write(model_json)\n",
        "    \n",
        "model.save_weights(saved_weights_path)\n",
        "print(\"Saved model to disk\")"
      ],
      "metadata": {
        "colab": {
          "base_uri": "https://localhost:8080/"
        },
        "id": "MsVoNhqmgGsK",
        "outputId": "3bd0f6c0-1759-4a1e-b33f-5f0990baa87b"
      },
      "execution_count": 22,
      "outputs": [
        {
          "output_type": "stream",
          "name": "stdout",
          "text": [
            "Saved model to disk\n"
          ]
        }
      ]
    },
    {
      "cell_type": "code",
      "source": [
        "# Reading the model from JSON file\n",
        "#model_path = Ravdess + \"/model/\"\n",
        "#saved_model_path = model_path + 'model8723.json'\n",
        "#saved_weights_path = model_path + 'model8723_weights.h5'\n",
        "\n",
        "\n",
        "with open(saved_model_path , 'r') as json_file:\n",
        "    json_savedModel = json_file.read()\n",
        "    \n",
        "# Loading the model architecture, weights\n",
        "model = tf.keras.models.model_from_json(json_savedModel)\n",
        "model.load_weights(saved_weights_path)\n",
        "\n",
        "# Compiling the model with similar parameters as the original model.\n",
        "model.compile(loss='categorical_crossentropy', \n",
        "                optimizer='RMSProp', \n",
        "                metrics=['categorical_accuracy'])\n",
        "\n",
        "# Model's structure visualization\n",
        "tf.keras.utils.plot_model(model, to_file='model.png', show_shapes=True, show_layer_names=True)"
      ],
      "metadata": {
        "colab": {
          "base_uri": "https://localhost:8080/",
          "height": 422
        },
        "id": "y4OJGhLmgfX6",
        "outputId": "e4b2a8ef-35bc-4f2e-bb57-09bb3283a3bb"
      },
      "execution_count": 23,
      "outputs": [
        {
          "output_type": "execute_result",
          "data": {
            "text/plain": [
              "<IPython.core.display.Image object>"
            ],
            "image/png": "[encoded data removed]"
          },
          "metadata": {},
          "execution_count": 23
        }
      ]
    },
    {
      "cell_type": "code",
      "source": [
        ""
      ],
      "metadata": {
        "id": "B_SW6eUAgvEj"
      },
      "execution_count": 23,
      "outputs": []
    },
    {
      "cell_type": "code",
      "source": [
        ""
      ],
      "metadata": {
        "id": "cCfkUXTYgzSB"
      },
      "execution_count": 23,
      "outputs": []
    },
    {
      "cell_type": "code",
      "source": [
        "model.save(saved_model_path_2)"
      ],
      "metadata": {
        "trusted": true,
        "id": "Z5Uzb_bGKixE"
      },
      "execution_count": 24,
      "outputs": []
    },
    {
      "cell_type": "markdown",
      "source": [
        "## Train (fit) Visualization"
      ],
      "metadata": {
        "id": "ATvBW0SPO-eq"
      }
    },
    {
      "cell_type": "code",
      "source": [
        "# Loss, Accuracy presentation\n",
        "\n",
        "# Plot history: Loss\n",
        "plt.plot(history.history['loss'], label='Loss (training data)')\n",
        "plt.plot(history.history['val_loss'], label='Loss (validation data)')\n",
        "plt.title('Loss for train and validation')\n",
        "plt.ylabel('Loss value')\n",
        "plt.xlabel('No. epoch')\n",
        "plt.legend(loc=\"upper left\")\n",
        "plt.show()\n",
        "\n",
        "#Plot history: Accuracy\n",
        "plt.plot(history.history['categorical_accuracy'], label='Acc (training data)')\n",
        "plt.plot(history.history['val_categorical_accuracy'], label='Acc (validation data)')\n",
        "plt.title('Model accuracy')\n",
        "plt.ylabel('Acc %')\n",
        "plt.xlabel('No. epoch')\n",
        "plt.legend(loc=\"upper left\")\n",
        "plt.show()"
      ],
      "metadata": {
        "colab": {
          "base_uri": "https://localhost:8080/",
          "height": 573
        },
        "id": "UjhUHhU_f4EY",
        "outputId": "a08b24d9-4e79-416c-dbce-ca588a87fc7c"
      },
      "execution_count": 25,
      "outputs": [
        {
          "output_type": "display_data",
          "data": {
            "text/plain": [
              "<Figure size 432x288 with 1 Axes>"
            ],
            "image/png": "[encoded data removed]"
          },
          "metadata": {
            "needs_background": "light"
          }
        },
        {
          "output_type": "display_data",
          "data": {
            "text/plain": [
              "<Figure size 432x288 with 1 Axes>"
            ],
            "image/png": "[encoded data removed]"
          },
          "metadata": {
            "needs_background": "light"
          }
        }
      ]
    },
    {
      "cell_type": "markdown",
      "source": [
        "## Validation Set Evaluation"
      ],
      "metadata": {
        "id": "UZ3lFduxPQeB"
      }
    },
    {
      "cell_type": "markdown",
      "source": [
        "### Val Set Score"
      ],
      "metadata": {
        "id": "5YoYCa22PMGz"
      }
    },
    {
      "cell_type": "code",
      "source": [
        ""
      ],
      "metadata": {
        "id": "jQavrzbB_8fy"
      },
      "execution_count": 25,
      "outputs": []
    },
    {
      "cell_type": "code",
      "source": [
        "# Validation score\n",
        "loss,acc = model.evaluate(X_val, y_val_class, verbose=2)\n"
      ],
      "metadata": {
        "id": "X_KdTUyrf7-j",
        "colab": {
          "base_uri": "https://localhost:8080/"
        },
        "outputId": "ae732efa-8276-424e-9413-22ae46f14eae"
      },
      "execution_count": 26,
      "outputs": [
        {
          "output_type": "stream",
          "name": "stdout",
          "text": [
            "9/9 - 2s - loss: 1.9524 - categorical_accuracy: 0.0961 - 2s/epoch - 239ms/step\n"
          ]
        }
      ]
    },
    {
      "cell_type": "code",
      "source": [
        ""
      ],
      "metadata": {
        "id": "09k_I9DM_2Q0"
      },
      "execution_count": 26,
      "outputs": []
    },
    {
      "cell_type": "markdown",
      "source": [
        "### Construct Predicted Labels based on Probability of each class"
      ],
      "metadata": {
        "id": "hz7nc15A_3hb"
      }
    },
    {
      "cell_type": "code",
      "source": [
        "y_val_class"
      ],
      "metadata": {
        "colab": {
          "base_uri": "https://localhost:8080/"
        },
        "id": "CFM1P2SZ_85N",
        "outputId": "9b6987fc-013e-4a60-ff4d-ab027be7060d"
      },
      "execution_count": 27,
      "outputs": [
        {
          "output_type": "execute_result",
          "data": {
            "text/plain": [
              "array([[0, 0, 0, ..., 0, 0, 1],\n",
              "       [0, 1, 0, ..., 0, 0, 0],\n",
              "       [0, 0, 0, ..., 0, 1, 0],\n",
              "       ...,\n",
              "       [0, 0, 0, ..., 0, 0, 1],\n",
              "       [0, 0, 0, ..., 0, 0, 1],\n",
              "       [0, 0, 1, ..., 0, 0, 0]], dtype=int8)"
            ]
          },
          "metadata": {},
          "execution_count": 27
        }
      ]
    },
    {
      "cell_type": "code",
      "source": [
        "np.argmax(y_val_class, axis=1)"
      ],
      "metadata": {
        "colab": {
          "base_uri": "https://localhost:8080/"
        },
        "id": "C9UHSeXbAASy",
        "outputId": "64360256-de20-41da-e361-887d18e3b27e"
      },
      "execution_count": 28,
      "outputs": [
        {
          "output_type": "execute_result",
          "data": {
            "text/plain": [
              "array([6, 1, 5, 3, 5, 5, 2, 5, 0, 4, 5, 1, 5, 5, 2, 1, 0, 1, 4, 5, 3, 6,\n",
              "       0, 2, 2, 4, 6, 5, 1, 4, 0, 5, 2, 3, 1, 6, 5, 2, 1, 0, 3, 4, 0, 5,\n",
              "       3, 3, 0, 6, 4, 6, 0, 3, 3, 3, 4, 5, 3, 2, 3, 6, 1, 0, 3, 2, 4, 4,\n",
              "       6, 2, 4, 0, 5, 5, 1, 2, 0, 5, 5, 3, 4, 6, 4, 2, 2, 3, 6, 0, 0, 3,\n",
              "       2, 5, 1, 4, 1, 0, 6, 3, 6, 1, 2, 6, 6, 2, 0, 5, 1, 5, 4, 0, 5, 2,\n",
              "       0, 5, 0, 6, 2, 3, 3, 2, 2, 2, 0, 1, 5, 2, 5, 3, 2, 0, 3, 3, 3, 2,\n",
              "       0, 3, 0, 6, 3, 3, 3, 1, 0, 3, 6, 5, 6, 4, 0, 2, 6, 2, 1, 1, 4, 6,\n",
              "       0, 2, 1, 1, 3, 0, 6, 6, 2, 0, 1, 5, 5, 4, 5, 5, 0, 2, 4, 4, 6, 4,\n",
              "       3, 6, 2, 3, 2, 3, 0, 1, 0, 3, 1, 5, 2, 1, 6, 0, 4, 1, 6, 2, 0, 0,\n",
              "       6, 0, 0, 2, 5, 5, 1, 2, 3, 2, 2, 2, 4, 3, 5, 3, 1, 0, 2, 0, 2, 4,\n",
              "       6, 1, 0, 6, 5, 6, 4, 0, 0, 4, 5, 3, 2, 6, 2, 6, 3, 5, 3, 1, 5, 6,\n",
              "       5, 1, 2, 1, 6, 0, 5, 3, 2, 1, 6, 3, 0, 1, 3, 6, 3, 2, 2, 4, 6, 4,\n",
              "       3, 2, 2, 5, 5, 4, 1, 3, 6, 5, 3, 0, 3, 4, 6, 6, 2])"
            ]
          },
          "metadata": {},
          "execution_count": 28
        }
      ]
    },
    {
      "cell_type": "code",
      "source": [
        "y_val_class = np.argmax(y_val_class, axis=1)\n",
        "predictions_val = model.predict(X_val)\n",
        "y_proba_val_class = predictions_val\n",
        "y_pred_val_class = np.argmax(predictions_val, axis=1)"
      ],
      "metadata": {
        "id": "urjydD-38JK7"
      },
      "execution_count": 29,
      "outputs": []
    },
    {
      "cell_type": "code",
      "source": [
        "predictions_val\n"
      ],
      "metadata": {
        "colab": {
          "base_uri": "https://localhost:8080/"
        },
        "id": "Zb7dGRs3AEJn",
        "outputId": "dd8d6241-f565-41ea-8eb5-c620272c147c"
      },
      "execution_count": 30,
      "outputs": [
        {
          "output_type": "execute_result",
          "data": {
            "text/plain": [
              "array([[0.13881199, 0.14723183, 0.14798857, ..., 0.15887943, 0.14053498,\n",
              "        0.13380802],\n",
              "       [0.14126037, 0.1501673 , 0.14279814, ..., 0.15425898, 0.14157516,\n",
              "        0.13621765],\n",
              "       [0.13872781, 0.14713134, 0.1481676 , ..., 0.15903816, 0.14049874,\n",
              "        0.13372533],\n",
              "       ...,\n",
              "       [0.13844252, 0.14679095, 0.14877476, ..., 0.15957612, 0.14037569,\n",
              "        0.13344517],\n",
              "       [0.13765292, 0.14585052, 0.15045758, ..., 0.16106458, 0.1400332 ,\n",
              "        0.13267039],\n",
              "       [0.139052  , 0.1475185 , 0.14747825, ..., 0.15842676, 0.14063813,\n",
              "        0.13404381]], dtype=float32)"
            ]
          },
          "metadata": {},
          "execution_count": 30
        }
      ]
    },
    {
      "cell_type": "code",
      "source": [
        "y_pred_val_class "
      ],
      "metadata": {
        "colab": {
          "base_uri": "https://localhost:8080/"
        },
        "id": "KxHa1Ss1AJo4",
        "outputId": "d150b391-1349-47c7-fb17-081247345324"
      },
      "execution_count": 31,
      "outputs": [
        {
          "output_type": "execute_result",
          "data": {
            "text/plain": [
              "array([4, 4, 4, 4, 4, 4, 4, 4, 1, 4, 4, 4, 4, 4, 4, 4, 4, 4, 4, 4, 4, 4,\n",
              "       4, 4, 4, 4, 4, 4, 4, 4, 4, 4, 4, 4, 4, 4, 4, 4, 4, 4, 4, 4, 4, 4,\n",
              "       4, 4, 4, 4, 4, 4, 4, 4, 4, 4, 1, 4, 4, 4, 4, 4, 4, 4, 4, 4, 4, 1,\n",
              "       4, 4, 4, 4, 4, 4, 4, 4, 4, 4, 4, 4, 4, 4, 4, 4, 4, 4, 4, 4, 4, 4,\n",
              "       4, 4, 4, 4, 4, 4, 4, 4, 4, 4, 4, 4, 4, 4, 4, 4, 4, 4, 4, 4, 4, 4,\n",
              "       4, 4, 4, 4, 4, 4, 4, 4, 4, 4, 4, 4, 4, 4, 4, 4, 4, 4, 4, 4, 4, 4,\n",
              "       4, 4, 4, 4, 4, 4, 4, 4, 4, 4, 4, 4, 4, 4, 4, 4, 4, 4, 4, 4, 4, 4,\n",
              "       4, 4, 4, 4, 4, 4, 4, 4, 4, 4, 4, 4, 4, 4, 4, 4, 4, 4, 4, 4, 4, 4,\n",
              "       4, 4, 4, 4, 4, 4, 4, 4, 4, 4, 4, 4, 4, 4, 4, 4, 4, 4, 4, 4, 4, 4,\n",
              "       4, 4, 4, 4, 4, 4, 4, 4, 4, 4, 4, 4, 4, 4, 1, 4, 4, 4, 4, 4, 4, 4,\n",
              "       4, 4, 4, 4, 4, 4, 4, 4, 4, 4, 4, 4, 4, 4, 4, 4, 4, 4, 4, 4, 1, 4,\n",
              "       4, 4, 4, 4, 4, 4, 4, 4, 4, 4, 4, 4, 4, 4, 4, 4, 4, 4, 4, 4, 4, 4,\n",
              "       4, 4, 4, 4, 4, 4, 4, 4, 4, 4, 4, 4, 4, 4, 4, 4, 4])"
            ]
          },
          "metadata": {},
          "execution_count": 31
        }
      ]
    },
    {
      "cell_type": "markdown",
      "source": [
        "### Val Set Confusion Matrix and Heatmap"
      ],
      "metadata": {
        "id": "d2ullxf9PUMd"
      }
    },
    {
      "cell_type": "code",
      "source": [
        "# Validation Confusion matrix\n",
        "cm=confusion_matrix(y_val_class, y_pred_val_class)\n",
        "\n",
        "index = ['calm', 'happy', 'sad', 'angry', 'fearful', 'disgust', 'surprised']  \n",
        "columns = ['calm', 'happy', 'sad', 'angry', 'fearful', 'disgust', 'surprised']  \n",
        " \n",
        "cm_df = pd.DataFrame(cm,index,columns)                      \n",
        "plt.figure(figsize=(12,8))\n",
        "ax = plt.axes()\n",
        "\n",
        "sns.heatmap(cm_df, ax = ax, cmap = 'PuBu', fmt=\"d\", annot=True)\n",
        "ax.set_ylabel('True emotion')\n",
        "ax.set_xlabel('Predicted emotion')"
      ],
      "metadata": {
        "colab": {
          "base_uri": "https://localhost:8080/",
          "height": 514
        },
        "id": "doLcg3CTf9bx",
        "outputId": "62746d4a-de8e-45e5-82d2-cb9a5e226f63"
      },
      "execution_count": 32,
      "outputs": [
        {
          "output_type": "execute_result",
          "data": {
            "text/plain": [
              "Text(0.5, 51.0, 'Predicted emotion')"
            ]
          },
          "metadata": {},
          "execution_count": 32
        },
        {
          "output_type": "display_data",
          "data": {
            "text/plain": [
              "<Figure size 864x576 with 2 Axes>"
            ],
            "image/png": "[encoded data removed]"
          },
          "metadata": {
            "needs_background": "light"
          }
        }
      ]
    },
    {
      "cell_type": "code",
      "source": [
        "# Confusion Matrix\n",
        "cm"
      ],
      "metadata": {
        "colab": {
          "base_uri": "https://localhost:8080/"
        },
        "id": "hIEG9Pia8Nfp",
        "outputId": "4e2414e7-bd1f-4641-acdb-75afb047b2f6"
      },
      "execution_count": 33,
      "outputs": [
        {
          "output_type": "execute_result",
          "data": {
            "text/plain": [
              "array([[ 0,  1,  0,  0, 42,  0,  0],\n",
              "       [ 0,  0,  0,  0, 33,  0,  0],\n",
              "       [ 0,  0,  0,  0, 48,  0,  0],\n",
              "       [ 0,  0,  0,  0, 46,  0,  0],\n",
              "       [ 0,  2,  0,  0, 27,  0,  0],\n",
              "       [ 0,  2,  0,  0, 40,  0,  0],\n",
              "       [ 0,  0,  0,  0, 40,  0,  0]])"
            ]
          },
          "metadata": {},
          "execution_count": 33
        }
      ]
    },
    {
      "cell_type": "markdown",
      "source": [
        "### Validation Set Predicted emotions accuracy"
      ],
      "metadata": {
        "id": "kWjKgUdRPYH5"
      }
    },
    {
      "cell_type": "code",
      "source": [
        "# Validation set prediction accuracy rates\n",
        "\n",
        "values = cm.diagonal()\n",
        "row_sum = np.sum(cm,axis=1)\n",
        "acc = values / row_sum\n",
        "\n",
        "print('Validation set predicted emotions accuracy:')\n",
        "for e in range(0, len(values)):\n",
        "    print(index[e],':', f\"{(acc[e]):0.4f}\")"
      ],
      "metadata": {
        "colab": {
          "base_uri": "https://localhost:8080/"
        },
        "id": "MopdywY9f-mS",
        "outputId": "219435a7-6d12-420f-c326-b669e18700ef"
      },
      "execution_count": 34,
      "outputs": [
        {
          "output_type": "stream",
          "name": "stdout",
          "text": [
            "Validation set predicted emotions accuracy:\n",
            "calm : 0.0000\n",
            "happy : 0.0000\n",
            "sad : 0.0000\n",
            "angry : 0.0000\n",
            "fearful : 0.9310\n",
            "disgust : 0.0000\n",
            "surprised : 0.0000\n"
          ]
        }
      ]
    },
    {
      "cell_type": "markdown",
      "source": [
        "### Precision, Recal, Fscore"
      ],
      "metadata": {
        "id": "DGSTy2228XRH"
      }
    },
    {
      "cell_type": "code",
      "source": [
        "# Validation set precision, recall, fscore\n",
        "\n",
        "precision_recall_fscore_support(y_val_class, y_pred_val_class, average='macro')\n"
      ],
      "metadata": {
        "colab": {
          "base_uri": "https://localhost:8080/"
        },
        "id": "rOwUkCG0gGpm",
        "outputId": "4095aa1b-5e6b-41f7-a6c3-d1709a74f1d9"
      },
      "execution_count": 35,
      "outputs": [
        {
          "output_type": "stream",
          "name": "stderr",
          "text": [
            "/usr/local/lib/python3.7/dist-packages/sklearn/metrics/_classification.py:1318: UndefinedMetricWarning: Precision and F-score are ill-defined and being set to 0.0 in labels with no predicted samples. Use `zero_division` parameter to control this behavior.\n",
            "  _warn_prf(average, modifier, msg_start, len(result))\n"
          ]
        },
        {
          "output_type": "execute_result",
          "data": {
            "text/plain": [
              "(0.013975155279503106, 0.1330049261083744, 0.025292740046838406, None)"
            ]
          },
          "metadata": {},
          "execution_count": 35
        }
      ]
    },
    {
      "cell_type": "code",
      "source": [
        "precision_recall_fscore_support(y_val_class, y_pred_val_class, average='weighted')"
      ],
      "metadata": {
        "colab": {
          "base_uri": "https://localhost:8080/"
        },
        "id": "OorFgXxDzy3o",
        "outputId": "821b8c79-b875-4ecc-b598-49b42826c021"
      },
      "execution_count": 36,
      "outputs": [
        {
          "output_type": "stream",
          "name": "stderr",
          "text": [
            "/usr/local/lib/python3.7/dist-packages/sklearn/metrics/_classification.py:1318: UndefinedMetricWarning: Precision and F-score are ill-defined and being set to 0.0 in labels with no predicted samples. Use `zero_division` parameter to control this behavior.\n",
            "  _warn_prf(average, modifier, msg_start, len(result))\n"
          ]
        },
        {
          "output_type": "execute_result",
          "data": {
            "text/plain": [
              "(0.01009593068234566, 0.09608540925266904, 0.018271979464441982, None)"
            ]
          },
          "metadata": {},
          "execution_count": 36
        }
      ]
    },
    {
      "cell_type": "markdown",
      "source": [
        "## Test Set Evaluation"
      ],
      "metadata": {
        "id": "FiCwOjmPPgCn"
      }
    },
    {
      "cell_type": "code",
      "source": [
        ""
      ],
      "metadata": {
        "id": "mUZLaThTeocQ"
      },
      "execution_count": 36,
      "outputs": []
    },
    {
      "cell_type": "markdown",
      "source": [
        "### Test Set Score\n",
        "\n"
      ],
      "metadata": {
        "id": "CWB7U5xDUSmF"
      }
    },
    {
      "cell_type": "code",
      "source": [
        "loss, acc = model.evaluate(X_test, y_test_class, verbose=2)"
      ],
      "metadata": {
        "id": "Y7NEHPM-gzml",
        "colab": {
          "base_uri": "https://localhost:8080/"
        },
        "outputId": "ed7c5cf7-7939-4662-9e0e-7aa6ee09e9f2"
      },
      "execution_count": 37,
      "outputs": [
        {
          "output_type": "stream",
          "name": "stdout",
          "text": [
            "4/4 - 1s - loss: 1.9477 - categorical_accuracy: 0.1789 - 565ms/epoch - 141ms/step\n"
          ]
        }
      ]
    },
    {
      "cell_type": "markdown",
      "source": [
        "### Construct Predicted Labels based on Probability of each class"
      ],
      "metadata": {
        "id": "gPwcFV9oAhGh"
      }
    },
    {
      "cell_type": "code",
      "source": [
        "y_test_class"
      ],
      "metadata": {
        "colab": {
          "base_uri": "https://localhost:8080/"
        },
        "id": "tjN7Eit7AiML",
        "outputId": "3baa4cf5-5d4c-42d5-da2a-1ea4148358eb"
      },
      "execution_count": 38,
      "outputs": [
        {
          "output_type": "execute_result",
          "data": {
            "text/plain": [
              "array([[0, 0, 0, 0, 0, 0, 1],\n",
              "       [0, 0, 0, 1, 0, 0, 0],\n",
              "       [0, 0, 0, 0, 0, 1, 0],\n",
              "       [0, 0, 0, 0, 1, 0, 0],\n",
              "       [1, 0, 0, 0, 0, 0, 0],\n",
              "       [0, 0, 0, 0, 1, 0, 0],\n",
              "       [0, 0, 0, 0, 0, 1, 0],\n",
              "       [0, 0, 0, 0, 1, 0, 0],\n",
              "       [0, 0, 0, 1, 0, 0, 0],\n",
              "       [0, 0, 0, 0, 0, 0, 1],\n",
              "       [0, 0, 0, 1, 0, 0, 0],\n",
              "       [0, 0, 0, 0, 1, 0, 0],\n",
              "       [1, 0, 0, 0, 0, 0, 0],\n",
              "       [0, 0, 0, 0, 0, 1, 0],\n",
              "       [0, 0, 0, 1, 0, 0, 0],\n",
              "       [1, 0, 0, 0, 0, 0, 0],\n",
              "       [0, 0, 0, 0, 0, 1, 0],\n",
              "       [0, 0, 0, 0, 0, 1, 0],\n",
              "       [0, 0, 1, 0, 0, 0, 0],\n",
              "       [0, 0, 0, 0, 0, 0, 1],\n",
              "       [0, 0, 0, 0, 0, 0, 1],\n",
              "       [1, 0, 0, 0, 0, 0, 0],\n",
              "       [1, 0, 0, 0, 0, 0, 0],\n",
              "       [0, 0, 1, 0, 0, 0, 0],\n",
              "       [0, 0, 0, 0, 0, 1, 0],\n",
              "       [1, 0, 0, 0, 0, 0, 0],\n",
              "       [0, 0, 0, 0, 0, 1, 0],\n",
              "       [1, 0, 0, 0, 0, 0, 0],\n",
              "       [0, 0, 0, 0, 1, 0, 0],\n",
              "       [0, 1, 0, 0, 0, 0, 0],\n",
              "       [0, 0, 0, 1, 0, 0, 0],\n",
              "       [0, 0, 0, 0, 0, 0, 1],\n",
              "       [0, 0, 0, 0, 0, 0, 1],\n",
              "       [0, 0, 0, 0, 0, 1, 0],\n",
              "       [0, 0, 0, 0, 1, 0, 0],\n",
              "       [0, 0, 1, 0, 0, 0, 0],\n",
              "       [0, 0, 0, 0, 0, 1, 0],\n",
              "       [0, 0, 0, 0, 1, 0, 0],\n",
              "       [0, 0, 0, 0, 1, 0, 0],\n",
              "       [0, 0, 0, 0, 0, 1, 0],\n",
              "       [0, 0, 0, 0, 0, 0, 1],\n",
              "       [1, 0, 0, 0, 0, 0, 0],\n",
              "       [0, 1, 0, 0, 0, 0, 0],\n",
              "       [0, 0, 1, 0, 0, 0, 0],\n",
              "       [0, 1, 0, 0, 0, 0, 0],\n",
              "       [0, 1, 0, 0, 0, 0, 0],\n",
              "       [0, 0, 0, 0, 0, 0, 1],\n",
              "       [0, 0, 1, 0, 0, 0, 0],\n",
              "       [0, 0, 0, 0, 0, 0, 1],\n",
              "       [0, 0, 0, 0, 1, 0, 0],\n",
              "       [0, 0, 0, 0, 0, 1, 0],\n",
              "       [0, 0, 0, 0, 0, 0, 1],\n",
              "       [0, 1, 0, 0, 0, 0, 0],\n",
              "       [0, 0, 1, 0, 0, 0, 0],\n",
              "       [0, 0, 0, 0, 0, 1, 0],\n",
              "       [0, 1, 0, 0, 0, 0, 0],\n",
              "       [0, 1, 0, 0, 0, 0, 0],\n",
              "       [0, 0, 0, 0, 1, 0, 0],\n",
              "       [0, 0, 0, 0, 1, 0, 0],\n",
              "       [0, 1, 0, 0, 0, 0, 0],\n",
              "       [0, 0, 0, 0, 0, 0, 1],\n",
              "       [0, 0, 0, 1, 0, 0, 0],\n",
              "       [0, 0, 0, 0, 1, 0, 0],\n",
              "       [0, 0, 1, 0, 0, 0, 0],\n",
              "       [0, 0, 1, 0, 0, 0, 0],\n",
              "       [0, 0, 1, 0, 0, 0, 0],\n",
              "       [0, 0, 0, 0, 1, 0, 0],\n",
              "       [1, 0, 0, 0, 0, 0, 0],\n",
              "       [0, 0, 0, 1, 0, 0, 0],\n",
              "       [0, 0, 0, 0, 0, 0, 1],\n",
              "       [0, 0, 0, 0, 0, 1, 0],\n",
              "       [0, 1, 0, 0, 0, 0, 0],\n",
              "       [0, 0, 1, 0, 0, 0, 0],\n",
              "       [0, 0, 0, 0, 1, 0, 0],\n",
              "       [0, 0, 0, 1, 0, 0, 0],\n",
              "       [1, 0, 0, 0, 0, 0, 0],\n",
              "       [0, 0, 0, 1, 0, 0, 0],\n",
              "       [0, 0, 0, 0, 0, 0, 1],\n",
              "       [0, 0, 1, 0, 0, 0, 0],\n",
              "       [0, 0, 0, 0, 0, 0, 1],\n",
              "       [1, 0, 0, 0, 0, 0, 0],\n",
              "       [0, 0, 0, 0, 1, 0, 0],\n",
              "       [0, 1, 0, 0, 0, 0, 0],\n",
              "       [0, 0, 0, 1, 0, 0, 0],\n",
              "       [0, 0, 0, 0, 0, 0, 1],\n",
              "       [0, 0, 0, 1, 0, 0, 0],\n",
              "       [0, 0, 0, 0, 0, 0, 1],\n",
              "       [0, 0, 0, 0, 1, 0, 0],\n",
              "       [0, 0, 0, 1, 0, 0, 0],\n",
              "       [0, 0, 0, 1, 0, 0, 0],\n",
              "       [0, 0, 1, 0, 0, 0, 0],\n",
              "       [0, 0, 0, 0, 0, 1, 0],\n",
              "       [0, 0, 0, 0, 1, 0, 0],\n",
              "       [0, 1, 0, 0, 0, 0, 0],\n",
              "       [1, 0, 0, 0, 0, 0, 0],\n",
              "       [0, 0, 0, 1, 0, 0, 0],\n",
              "       [0, 0, 1, 0, 0, 0, 0],\n",
              "       [0, 0, 0, 1, 0, 0, 0],\n",
              "       [0, 1, 0, 0, 0, 0, 0],\n",
              "       [1, 0, 0, 0, 0, 0, 0],\n",
              "       [0, 0, 1, 0, 0, 0, 0],\n",
              "       [0, 0, 0, 0, 0, 0, 1],\n",
              "       [0, 0, 0, 0, 0, 1, 0],\n",
              "       [0, 0, 0, 0, 1, 0, 0],\n",
              "       [0, 0, 0, 0, 1, 0, 0],\n",
              "       [0, 0, 0, 1, 0, 0, 0],\n",
              "       [0, 0, 0, 1, 0, 0, 0],\n",
              "       [0, 0, 0, 0, 0, 0, 1],\n",
              "       [0, 0, 0, 0, 1, 0, 0],\n",
              "       [1, 0, 0, 0, 0, 0, 0],\n",
              "       [0, 0, 0, 1, 0, 0, 0],\n",
              "       [0, 0, 0, 0, 1, 0, 0],\n",
              "       [0, 0, 0, 0, 0, 0, 1],\n",
              "       [0, 0, 0, 0, 0, 1, 0],\n",
              "       [0, 0, 0, 1, 0, 0, 0],\n",
              "       [0, 0, 1, 0, 0, 0, 0],\n",
              "       [0, 0, 0, 1, 0, 0, 0],\n",
              "       [0, 1, 0, 0, 0, 0, 0],\n",
              "       [0, 0, 0, 0, 0, 0, 1],\n",
              "       [0, 0, 0, 0, 0, 0, 1],\n",
              "       [0, 1, 0, 0, 0, 0, 0],\n",
              "       [1, 0, 0, 0, 0, 0, 0],\n",
              "       [0, 0, 0, 0, 0, 0, 1]], dtype=int8)"
            ]
          },
          "metadata": {},
          "execution_count": 38
        }
      ]
    },
    {
      "cell_type": "code",
      "source": [
        " np.argmax(y_test_class, axis=1)"
      ],
      "metadata": {
        "colab": {
          "base_uri": "https://localhost:8080/"
        },
        "id": "2fcK-_HzAmc5",
        "outputId": "d40a0ffb-3bd3-4a03-c740-fd7686cbb46e"
      },
      "execution_count": 39,
      "outputs": [
        {
          "output_type": "execute_result",
          "data": {
            "text/plain": [
              "array([6, 3, 5, 4, 0, 4, 5, 4, 3, 6, 3, 4, 0, 5, 3, 0, 5, 5, 2, 6, 6, 0,\n",
              "       0, 2, 5, 0, 5, 0, 4, 1, 3, 6, 6, 5, 4, 2, 5, 4, 4, 5, 6, 0, 1, 2,\n",
              "       1, 1, 6, 2, 6, 4, 5, 6, 1, 2, 5, 1, 1, 4, 4, 1, 6, 3, 4, 2, 2, 2,\n",
              "       4, 0, 3, 6, 5, 1, 2, 4, 3, 0, 3, 6, 2, 6, 0, 4, 1, 3, 6, 3, 6, 4,\n",
              "       3, 3, 2, 5, 4, 1, 0, 3, 2, 3, 1, 0, 2, 6, 5, 4, 4, 3, 3, 6, 4, 0,\n",
              "       3, 4, 6, 5, 3, 2, 3, 1, 6, 6, 1, 0, 6])"
            ]
          },
          "metadata": {},
          "execution_count": 39
        }
      ]
    },
    {
      "cell_type": "code",
      "source": [
        "y_test_class = np.argmax(y_test_class, axis=1)\n",
        "predictions_test = model.predict(X_test)\n",
        "y_pred_test_class = np.argmax(predictions_test, axis=1)\n",
        "y_proba_test_class = predictions_test\n",
        "\n"
      ],
      "metadata": {
        "id": "uyXvoU2rAckI"
      },
      "execution_count": 40,
      "outputs": []
    },
    {
      "cell_type": "code",
      "source": [
        "predictions_test"
      ],
      "metadata": {
        "colab": {
          "base_uri": "https://localhost:8080/"
        },
        "id": "3BAOUaPwAtuY",
        "outputId": "276df85c-bea3-4446-ce0a-3e652f18cf57"
      },
      "execution_count": 41,
      "outputs": [
        {
          "output_type": "execute_result",
          "data": {
            "text/plain": [
              "array([[0.14074053, 0.14954196, 0.14389738, 0.1335178 , 0.15524057,\n",
              "        0.14135656, 0.13570523],\n",
              "       [0.13536379, 0.14313705, 0.15535739, 0.13131158, 0.16537715,\n",
              "        0.13902444, 0.1304286 ],\n",
              "       [0.14030261, 0.14901604, 0.14482458, 0.13334422, 0.15606722,\n",
              "        0.14117147, 0.1352739 ],\n",
              "       [0.14008176, 0.14875114, 0.14529255, 0.13325627, 0.15648402,\n",
              "        0.14107779, 0.13505651],\n",
              "       [0.14062677, 0.14940526, 0.14413811, 0.13347282, 0.1554553 ,\n",
              "        0.14130855, 0.13559315],\n",
              "       [0.1387678 , 0.14717905, 0.14808255, 0.13272727, 0.15896276,\n",
              "        0.14051597, 0.1337646 ],\n",
              "       [0.14102632, 0.14988558, 0.14329292, 0.1336305 , 0.154701  ,\n",
              "        0.14147688, 0.13598688],\n",
              "       [0.13763653, 0.14583102, 0.15049258, 0.13226402, 0.1610955 ,\n",
              "        0.14002605, 0.13265431],\n",
              "       [0.1379521 , 0.14620657, 0.1498195 , 0.13239397, 0.16050065,\n",
              "        0.14016329, 0.13296385],\n",
              "       [0.14075495, 0.1495593 , 0.14386684, 0.13352351, 0.15521331,\n",
              "        0.14136264, 0.13571946],\n",
              "       [0.14096111, 0.14980717, 0.14343074, 0.13360482, 0.15482406,\n",
              "        0.14144947, 0.13592261],\n",
              "       [0.13960712, 0.14818244, 0.14629927, 0.1330663 , 0.15737963,\n",
              "        0.14087573, 0.13458952],\n",
              "       [0.13938183, 0.14791283, 0.14677757, 0.13297568, 0.15780467,\n",
              "        0.14077948, 0.134368  ],\n",
              "       [0.14027016, 0.1489771 , 0.14489329, 0.13333131, 0.15612844,\n",
              "        0.1411577 , 0.13524197],\n",
              "       [0.13951384, 0.14807078, 0.14649728, 0.13302882, 0.15755564,\n",
              "        0.14083591, 0.1344978 ],\n",
              "       [0.1390427 , 0.14750738, 0.14749801, 0.13283874, 0.1584443 ,\n",
              "        0.14063413, 0.13403468],\n",
              "       [0.13964936, 0.14823301, 0.1462096 , 0.13308324, 0.15729992,\n",
              "        0.14089376, 0.13463108],\n",
              "       [0.1365382 , 0.1445268 , 0.15283969, 0.13180736, 0.16316515,\n",
              "        0.13954492, 0.13157794],\n",
              "       [0.13721551, 0.14533055, 0.1513914 , 0.13208978, 0.16188894,\n",
              "        0.13984226, 0.13224153],\n",
              "       [0.14107975, 0.14994988, 0.14317992, 0.13365152, 0.15460008,\n",
              "        0.14149934, 0.13603956],\n",
              "       [0.13949968, 0.14805384, 0.14652732, 0.13302311, 0.15758233,\n",
              "        0.14082985, 0.13448386],\n",
              "       [0.13910273, 0.14757913, 0.14737044, 0.13286303, 0.15833108,\n",
              "        0.1406599 , 0.13409367],\n",
              "       [0.14044312, 0.14918469, 0.14452697, 0.13340002, 0.15580201,\n",
              "        0.14123094, 0.13541226],\n",
              "       [0.13672435, 0.14474756, 0.1524413 , 0.13188523, 0.16281436,\n",
              "        0.13962683, 0.13176027],\n",
              "       [0.14101587, 0.14987305, 0.14331494, 0.13362639, 0.15472066,\n",
              "        0.1414725 , 0.13597658],\n",
              "       [0.13806325, 0.14633894, 0.14958258, 0.1324396 , 0.16029112,\n",
              "        0.14021152, 0.13307293],\n",
              "       [0.1418879 , 0.15092376, 0.14147304, 0.13396744, 0.15307352,\n",
              "        0.14183743, 0.13683686],\n",
              "       [0.14040741, 0.14914182, 0.14460263, 0.13338587, 0.15586944,\n",
              "        0.14121583, 0.13537711],\n",
              "       [0.1401103 , 0.14878535, 0.14523204, 0.13326764, 0.15643014,\n",
              "        0.1410899 , 0.13508461],\n",
              "       [0.14275628, 0.15197346, 0.13964286, 0.1343028 , 0.15143223,\n",
              "        0.14219749, 0.13769488],\n",
              "       [0.13747767, 0.1456421 , 0.15083161, 0.13219838, 0.16139491,\n",
              "        0.1399568 , 0.13249853],\n",
              "       [0.13959259, 0.14816505, 0.1463301 , 0.13306047, 0.15740705,\n",
              "        0.14086953, 0.13457523],\n",
              "       [0.13736875, 0.14551263, 0.15106416, 0.13215332, 0.1616002 ,\n",
              "        0.13990925, 0.13239175],\n",
              "       [0.14081076, 0.14962637, 0.14374879, 0.13354553, 0.15510796,\n",
              "        0.14138615, 0.13577443],\n",
              "       [0.1377435 , 0.14595829, 0.15026432, 0.13230813, 0.16089384,\n",
              "        0.14007263, 0.13275923],\n",
              "       [0.13885307, 0.14728087, 0.14790122, 0.1327619 , 0.15880197,\n",
              "        0.14055267, 0.13384837],\n",
              "       [0.14127307, 0.15018259, 0.1427713 , 0.13372743, 0.15423499,\n",
              "        0.14158048, 0.13623019],\n",
              "       [0.13798976, 0.14625141, 0.14973924, 0.13240944, 0.16042967,\n",
              "        0.14017963, 0.1330008 ],\n",
              "       [0.14043923, 0.14918002, 0.14453521, 0.13339847, 0.15580936,\n",
              "        0.14122929, 0.13540843],\n",
              "       [0.14034392, 0.14906563, 0.14473705, 0.13336064, 0.15598923,\n",
              "        0.14118895, 0.13531458],\n",
              "       [0.13949697, 0.1480506 , 0.14653306, 0.13302204, 0.15758742,\n",
              "        0.1408287 , 0.13448122],\n",
              "       [0.13793184, 0.14618243, 0.14986274, 0.13238564, 0.16053888,\n",
              "        0.14015451, 0.13294397],\n",
              "       [0.13729784, 0.14542837, 0.15121558, 0.13212393, 0.1617338 ,\n",
              "        0.13987827, 0.13232224],\n",
              "       [0.13856106, 0.14693233, 0.14852244, 0.13264313, 0.1593526 ,\n",
              "        0.14042686, 0.13356155],\n",
              "       [0.13635342, 0.14430782, 0.15323524, 0.13172987, 0.16351323,\n",
              "        0.13946342, 0.131397  ],\n",
              "       [0.13622282, 0.14415313, 0.1535149 , 0.13167499, 0.1637592 ,\n",
              "        0.13940574, 0.13126914],\n",
              "       [0.14115557, 0.15004112, 0.14301968, 0.13368133, 0.15445693,\n",
              "        0.14153118, 0.1361143 ],\n",
              "       [0.13673104, 0.14475547, 0.15242705, 0.13188803, 0.16280182,\n",
              "        0.13962978, 0.13176681],\n",
              "       [0.13844   , 0.14678796, 0.1487801 , 0.13259378, 0.15958084,\n",
              "        0.1403746 , 0.13344271],\n",
              "       [0.140348  , 0.14907052, 0.14472844, 0.13336226, 0.15598157,\n",
              "        0.1411907 , 0.1353186 ],\n",
              "       [0.14367467, 0.15308738, 0.13771148, 0.13465276, 0.14969516,\n",
              "        0.1425746 , 0.1386039 ],\n",
              "       [0.14291225, 0.15216234, 0.13931458, 0.13436258, 0.15113734,\n",
              "        0.14226179, 0.13784914],\n",
              "       [0.13702227, 0.14510109, 0.15180428, 0.13200946, 0.16225304,\n",
              "        0.13975763, 0.13205215],\n",
              "       [0.13790923, 0.1461555 , 0.14991099, 0.13237634, 0.16058154,\n",
              "        0.14014468, 0.13292179],\n",
              "       [0.13779682, 0.14602171, 0.15015069, 0.1323301 , 0.16079342,\n",
              "        0.14009583, 0.13281152],\n",
              "       [0.13895075, 0.14739753, 0.14769351, 0.1328015 , 0.15861775,\n",
              "        0.14059466, 0.13394432],\n",
              "       [0.13981177, 0.14842753, 0.14586501, 0.13314834, 0.15699346,\n",
              "        0.14096297, 0.13479082],\n",
              "       [0.13825099, 0.14656262, 0.14918262, 0.13251653, 0.15993723,\n",
              "        0.14029288, 0.13325717],\n",
              "       [0.13889654, 0.14733277, 0.1478088 , 0.13277952, 0.15872002,\n",
              "        0.14057134, 0.13389106],\n",
              "       [0.13749015, 0.14565696, 0.15080489, 0.13220353, 0.16137132,\n",
              "        0.13996224, 0.13251077],\n",
              "       [0.1383536 , 0.14668493, 0.14896409, 0.13255851, 0.15974377,\n",
              "        0.14033726, 0.13335788],\n",
              "       [0.14059043, 0.1493616 , 0.14421506, 0.13345842, 0.15552393,\n",
              "        0.1412932 , 0.13555735],\n",
              "       [0.14224118, 0.1513504 , 0.140728  , 0.1341044 , 0.15240593,\n",
              "        0.14198433, 0.13718575],\n",
              "       [0.13916129, 0.14764912, 0.14724602, 0.1328867 , 0.15822066,\n",
              "        0.14068502, 0.13415122],\n",
              "       [0.1387811 , 0.14719494, 0.1480543 , 0.13273267, 0.15893771,\n",
              "        0.14052169, 0.13377768],\n",
              "       [0.1372806 , 0.14540787, 0.15125236, 0.13211676, 0.16176628,\n",
              "        0.13987072, 0.13230532],\n",
              "       [0.13603404, 0.14392962, 0.15391946, 0.13159549, 0.16411483,\n",
              "        0.13932225, 0.13108435],\n",
              "       [0.14181133, 0.15083136, 0.14163466, 0.13393769, 0.15321822,\n",
              "        0.14180553, 0.13676125],\n",
              "       [0.13766743, 0.1458678 , 0.1504266 , 0.13227677, 0.16103722,\n",
              "        0.14003952, 0.13268462],\n",
              "       [0.14194909, 0.15099762, 0.14134394, 0.13399123, 0.15295789,\n",
              "        0.14186291, 0.13689727],\n",
              "       [0.13897851, 0.1474307 , 0.14763446, 0.13281277, 0.15856536,\n",
              "        0.14060658, 0.1339716 ],\n",
              "       [0.13742937, 0.14558467, 0.15093476, 0.13217841, 0.16148597,\n",
              "        0.13993572, 0.13245118],\n",
              "       [0.13760795, 0.14579703, 0.15055354, 0.13225222, 0.16114935,\n",
              "        0.1400136 , 0.13262628],\n",
              "       [0.13809724, 0.14637941, 0.14951017, 0.13245353, 0.16022706,\n",
              "        0.14022626, 0.13310628],\n",
              "       [0.1383634 , 0.14669661, 0.14894322, 0.13256249, 0.1597253 ,\n",
              "        0.14034149, 0.1333675 ],\n",
              "       [0.13968447, 0.14827505, 0.14613512, 0.13309734, 0.1572337 ,\n",
              "        0.14090873, 0.13466561],\n",
              "       [0.13991618, 0.14855263, 0.1456436 , 0.13319013, 0.15679649,\n",
              "        0.14100742, 0.13489357],\n",
              "       [0.13697554, 0.14504558, 0.15190427, 0.13199002, 0.16234119,\n",
              "        0.13973714, 0.13200633],\n",
              "       [0.13792405, 0.14617316, 0.14987929, 0.13238244, 0.16055351,\n",
              "        0.14015111, 0.13293633],\n",
              "       [0.13530117, 0.14306308, 0.15549187, 0.13128492, 0.16549508,\n",
              "        0.13899653, 0.13036737],\n",
              "       [0.1388262 , 0.14724877, 0.14795838, 0.13275099, 0.15885267,\n",
              "        0.1405411 , 0.13382196],\n",
              "       [0.13923445, 0.14773658, 0.14709057, 0.13291626, 0.15808265,\n",
              "        0.14071637, 0.13422312],\n",
              "       [0.14133988, 0.15026307, 0.14263009, 0.13375363, 0.15410876,\n",
              "        0.14160849, 0.13629606],\n",
              "       [0.13674423, 0.14477111, 0.15239885, 0.13189355, 0.16277699,\n",
              "        0.1396356 , 0.13177975],\n",
              "       [0.1370517 , 0.145136  , 0.15174143, 0.13202171, 0.16219765,\n",
              "        0.13977054, 0.13208097],\n",
              "       [0.13571382, 0.14355077, 0.15460609, 0.13146016, 0.16471796,\n",
              "        0.13918021, 0.130771  ],\n",
              "       [0.13819915, 0.14650083, 0.14929304, 0.13249531, 0.16003494,\n",
              "        0.14027043, 0.13320628],\n",
              "       [0.13806388, 0.14633968, 0.14958128, 0.13243987, 0.16028997,\n",
              "        0.1402118 , 0.13307354],\n",
              "       [0.1414599 , 0.15040766, 0.14237657, 0.1338006 , 0.1538821 ,\n",
              "        0.14165875, 0.13641447],\n",
              "       [0.13575077, 0.14359446, 0.15452684, 0.13147579, 0.16464837,\n",
              "        0.13919663, 0.13080715],\n",
              "       [0.13881984, 0.14724119, 0.14797184, 0.1327484 , 0.1588646 ,\n",
              "        0.14053836, 0.13381572],\n",
              "       [0.13744795, 0.14560677, 0.150895  , 0.13218608, 0.16145088,\n",
              "        0.13994382, 0.1324694 ],\n",
              "       [0.13883671, 0.14726132, 0.147936  , 0.13275523, 0.15883282,\n",
              "        0.14054562, 0.13383229],\n",
              "       [0.13961947, 0.14819723, 0.14627306, 0.13307124, 0.15735634,\n",
              "        0.140881  , 0.13460168],\n",
              "       [0.13824268, 0.1465527 , 0.14920032, 0.13251312, 0.1599529 ,\n",
              "        0.14028926, 0.13324898],\n",
              "       [0.13850145, 0.14686121, 0.14864935, 0.13261884, 0.15946504,\n",
              "        0.14040114, 0.13350302],\n",
              "       [0.14132427, 0.15024425, 0.14266309, 0.1337475 , 0.15413827,\n",
              "        0.14160195, 0.13628067],\n",
              "       [0.1393844 , 0.14791591, 0.1467721 , 0.13297671, 0.15779981,\n",
              "        0.14078058, 0.13437054],\n",
              "       [0.1412764 , 0.15018661, 0.14276423, 0.13372874, 0.15422866,\n",
              "        0.1415819 , 0.13623346],\n",
              "       [0.1383824 , 0.14671926, 0.14890274, 0.13257025, 0.15968946,\n",
              "        0.14034972, 0.13338616],\n",
              "       [0.13940307, 0.14793825, 0.14673242, 0.13298424, 0.15776455,\n",
              "        0.14078856, 0.1343889 ],\n",
              "       [0.1393235 , 0.14784308, 0.14690141, 0.13295218, 0.15791467,\n",
              "        0.14075452, 0.13431066],\n",
              "       [0.14123715, 0.15013935, 0.14284721, 0.13371335, 0.15430284,\n",
              "        0.14156543, 0.13619475],\n",
              "       [0.13874546, 0.1471524 , 0.14813006, 0.13271819, 0.15900487,\n",
              "        0.14050634, 0.13374266],\n",
              "       [0.14051993, 0.14927693, 0.14436434, 0.13343048, 0.15565704,\n",
              "        0.14126343, 0.13548791],\n",
              "       [0.13944459, 0.14798792, 0.1466443 , 0.13300095, 0.15768626,\n",
              "        0.1408063 , 0.13442971],\n",
              "       [0.13946791, 0.14801583, 0.14659472, 0.13301033, 0.15764222,\n",
              "        0.14081627, 0.13445264],\n",
              "       [0.13886742, 0.14729802, 0.14787064, 0.1327677 , 0.15877485,\n",
              "        0.14055884, 0.13386247],\n",
              "       [0.13882959, 0.14725284, 0.14795111, 0.13275236, 0.15884621,\n",
              "        0.14054257, 0.1338253 ],\n",
              "       [0.1383417 , 0.14667073, 0.14898942, 0.13255364, 0.1597662 ,\n",
              "        0.1403321 , 0.1333462 ],\n",
              "       [0.13941751, 0.14795552, 0.14670175, 0.13299005, 0.15773731,\n",
              "        0.14079474, 0.1344031 ],\n",
              "       [0.13776438, 0.14598311, 0.15021978, 0.13231672, 0.16085447,\n",
              "        0.1400817 , 0.13277972],\n",
              "       [0.13745464, 0.14561471, 0.1508808 , 0.13218887, 0.16143833,\n",
              "        0.13994676, 0.13247596],\n",
              "       [0.13964163, 0.14822374, 0.146226  , 0.13308014, 0.15731451,\n",
              "        0.14089045, 0.13462347],\n",
              "       [0.13955264, 0.14811724, 0.14641486, 0.1330444 , 0.15748239,\n",
              "        0.14085247, 0.13453595],\n",
              "       [0.1387548 , 0.14716353, 0.14811026, 0.13272199, 0.15898733,\n",
              "        0.14051038, 0.13375182],\n",
              "       [0.13885602, 0.14728442, 0.14789487, 0.13276309, 0.15879634,\n",
              "        0.14055394, 0.13385127],\n",
              "       [0.1377938 , 0.14601812, 0.1501571 , 0.13232885, 0.16079909,\n",
              "        0.1400945 , 0.13280854],\n",
              "       [0.13713568, 0.14523575, 0.15156195, 0.13205662, 0.16203937,\n",
              "        0.13980733, 0.1321633 ],\n",
              "       [0.13881034, 0.14722985, 0.14799204, 0.13274454, 0.15888251,\n",
              "        0.14053428, 0.1338064 ],\n",
              "       [0.13997756, 0.1486262 , 0.14551343, 0.13321467, 0.15668064,\n",
              "        0.14103352, 0.13495396],\n",
              "       [0.13905054, 0.14751676, 0.14748135, 0.13284191, 0.15842952,\n",
              "        0.14063752, 0.13404238],\n",
              "       [0.13945924, 0.14800546, 0.14661315, 0.13300684, 0.15765859,\n",
              "        0.14081258, 0.13444412]], dtype=float32)"
            ]
          },
          "metadata": {},
          "execution_count": 41
        }
      ]
    },
    {
      "cell_type": "code",
      "source": [
        "y_pred_test_class "
      ],
      "metadata": {
        "colab": {
          "base_uri": "https://localhost:8080/"
        },
        "id": "ph-j4nBsAxjT",
        "outputId": "8ff8906a-96e2-40b9-d7b6-38979e978d87"
      },
      "execution_count": 42,
      "outputs": [
        {
          "output_type": "execute_result",
          "data": {
            "text/plain": [
              "array([4, 4, 4, 4, 4, 4, 4, 4, 4, 4, 4, 4, 4, 4, 4, 4, 4, 4, 4, 4, 4, 4,\n",
              "       4, 4, 4, 4, 4, 4, 4, 1, 4, 4, 4, 4, 4, 4, 4, 4, 4, 4, 4, 4, 4, 4,\n",
              "       4, 4, 4, 4, 4, 4, 1, 1, 4, 4, 4, 4, 4, 4, 4, 4, 4, 4, 4, 4, 4, 4,\n",
              "       4, 4, 4, 4, 4, 4, 4, 4, 4, 4, 4, 4, 4, 4, 4, 4, 4, 4, 4, 4, 4, 4,\n",
              "       4, 4, 4, 4, 4, 4, 4, 4, 4, 4, 4, 4, 4, 4, 4, 4, 4, 4, 4, 4, 4, 4,\n",
              "       4, 4, 4, 4, 4, 4, 4, 4, 4, 4, 4, 4, 4])"
            ]
          },
          "metadata": {},
          "execution_count": 42
        }
      ]
    },
    {
      "cell_type": "markdown",
      "source": [
        "### Test Set Confusion Matrix and Heatmap"
      ],
      "metadata": {
        "id": "Epp2QpxsUVXH"
      }
    },
    {
      "cell_type": "code",
      "source": [
        "# Test set Confusion matrix\n",
        "\n",
        "cm=confusion_matrix(y_test_class, y_pred_test_class)\n",
        "\n",
        "index = ['calm', 'happy', 'sad', 'angry', 'fearful', 'disgust', 'surprised']  \n",
        "columns = ['calm', 'happy', 'sad', 'angry', 'fearful', 'disgust', 'surprised']  \n",
        " \n",
        "cm_df = pd.DataFrame(cm,index,columns)                      \n",
        "plt.figure(figsize=(12,8))\n",
        "ax = plt.axes()\n",
        "\n",
        "sns.heatmap(cm_df, ax = ax, cmap = 'BuGn', fmt=\"d\", annot=True)\n",
        "ax.set_ylabel('True emotion')\n",
        "ax.set_xlabel('Predicted emotion')"
      ],
      "metadata": {
        "colab": {
          "base_uri": "https://localhost:8080/",
          "height": 514
        },
        "id": "ukGrk_cagzyb",
        "outputId": "0f4a22be-6eaf-4edc-9463-b54551bfd390"
      },
      "execution_count": 43,
      "outputs": [
        {
          "output_type": "execute_result",
          "data": {
            "text/plain": [
              "Text(0.5, 51.0, 'Predicted emotion')"
            ]
          },
          "metadata": {},
          "execution_count": 43
        },
        {
          "output_type": "display_data",
          "data": {
            "text/plain": [
              "<Figure size 864x576 with 2 Axes>"
            ],
            "image/png": "[encoded data removed]"
          },
          "metadata": {
            "needs_background": "light"
          }
        }
      ]
    },
    {
      "cell_type": "code",
      "source": [
        "# Confusion Matrix\n",
        "cm"
      ],
      "metadata": {
        "colab": {
          "base_uri": "https://localhost:8080/"
        },
        "id": "9f51xwUE8haF",
        "outputId": "98fbdce9-a20c-4d48-f6e8-d21bae0c4fde"
      },
      "execution_count": 44,
      "outputs": [
        {
          "output_type": "execute_result",
          "data": {
            "text/plain": [
              "array([[ 0,  0,  0,  0, 15,  0,  0],\n",
              "       [ 0,  1,  0,  0, 13,  0,  0],\n",
              "       [ 0,  0,  0,  0, 15,  0,  0],\n",
              "       [ 0,  0,  0,  0, 20,  0,  0],\n",
              "       [ 0,  0,  0,  0, 21,  0,  0],\n",
              "       [ 0,  1,  0,  0, 15,  0,  0],\n",
              "       [ 0,  1,  0,  0, 21,  0,  0]])"
            ]
          },
          "metadata": {},
          "execution_count": 44
        }
      ]
    },
    {
      "cell_type": "markdown",
      "source": [
        "### Test Set Predicted emotions accuracy"
      ],
      "metadata": {
        "id": "zil3CkweUX0q"
      }
    },
    {
      "cell_type": "code",
      "source": [
        "# Test set prediction accuracy rates\n",
        "\n",
        "values = cm.diagonal()\n",
        "row_sum = np.sum(cm,axis=1)\n",
        "acc = values / row_sum\n",
        "\n",
        "print('Test set predicted emotions accuracy:')\n",
        "for e in range(0, len(values)):\n",
        "    print(index[e],':', f\"{(acc[e]):0.4f}\")"
      ],
      "metadata": {
        "colab": {
          "base_uri": "https://localhost:8080/"
        },
        "id": "t_ORyGGig090",
        "outputId": "fb87d971-153e-448c-d765-db7b55b10274"
      },
      "execution_count": 45,
      "outputs": [
        {
          "output_type": "stream",
          "name": "stdout",
          "text": [
            "Test set predicted emotions accuracy:\n",
            "calm : 0.0000\n",
            "happy : 0.0714\n",
            "sad : 0.0000\n",
            "angry : 0.0000\n",
            "fearful : 1.0000\n",
            "disgust : 0.0000\n",
            "surprised : 0.0000\n"
          ]
        }
      ]
    },
    {
      "cell_type": "markdown",
      "source": [
        "### Precision, Recal, Fscore"
      ],
      "metadata": {
        "id": "8Hzthv1t8kwd"
      }
    },
    {
      "cell_type": "code",
      "source": [
        "# Validation set precision, recall, fscore\n",
        "\n",
        "precision_recall_fscore_support(y_test_class, y_pred_test_class, average='macro')\n"
      ],
      "metadata": {
        "colab": {
          "base_uri": "https://localhost:8080/"
        },
        "id": "QnwWoVFnh33F",
        "outputId": "9d044968-2dec-4ca3-faee-2761a59ea8f2"
      },
      "execution_count": 46,
      "outputs": [
        {
          "output_type": "stream",
          "name": "stderr",
          "text": [
            "/usr/local/lib/python3.7/dist-packages/sklearn/metrics/_classification.py:1318: UndefinedMetricWarning: Precision and F-score are ill-defined and being set to 0.0 in labels with no predicted samples. Use `zero_division` parameter to control this behavior.\n",
            "  _warn_prf(average, modifier, msg_start, len(result))\n"
          ]
        },
        {
          "output_type": "execute_result",
          "data": {
            "text/plain": [
              "(0.07261904761904761, 0.15306122448979592, 0.059359914178437334, None)"
            ]
          },
          "metadata": {},
          "execution_count": 46
        }
      ]
    },
    {
      "cell_type": "code",
      "source": [
        "precision_recall_fscore_support(y_test_class, y_pred_test_class, average='weighted')"
      ],
      "metadata": {
        "colab": {
          "base_uri": "https://localhost:8080/"
        },
        "id": "OlDhuPlqzwVB",
        "outputId": "f30aaef4-ec0a-418a-eb89-9705e61fd726"
      },
      "execution_count": 47,
      "outputs": [
        {
          "output_type": "stream",
          "name": "stderr",
          "text": [
            "/usr/local/lib/python3.7/dist-packages/sklearn/metrics/_classification.py:1318: UndefinedMetricWarning: Precision and F-score are ill-defined and being set to 0.0 in labels with no predicted samples. Use `zero_division` parameter to control this behavior.\n",
            "  _warn_prf(average, modifier, msg_start, len(result))\n"
          ]
        },
        {
          "output_type": "execute_result",
          "data": {
            "text/plain": [
              "(0.06781842818428183, 0.17886178861788618, 0.06424697538589903, None)"
            ]
          },
          "metadata": {},
          "execution_count": 47
        }
      ]
    },
    {
      "cell_type": "markdown",
      "source": [
        "### ROC AUC Score"
      ],
      "metadata": {
        "id": "sEuBd9IyLuiD"
      }
    },
    {
      "cell_type": "code",
      "source": [
        "ravdess_df = pd.read_csv (df_path)"
      ],
      "metadata": {
        "id": "8bb4OSmyTO6v"
      },
      "execution_count": 48,
      "outputs": []
    },
    {
      "cell_type": "code",
      "source": [
        "labels = [\"calm\", \"happy\", \"sad\", \"angry\", \"fear\", \"disgust\", \"suprised\"]"
      ],
      "metadata": {
        "id": "1leZ4JGVTfTp"
      },
      "execution_count": 49,
      "outputs": []
    },
    {
      "cell_type": "code",
      "source": [
        "y_test_adj = y_test.reshape(-1,)"
      ],
      "metadata": {
        "id": "MRm1ZwnxFStc"
      },
      "execution_count": 50,
      "outputs": []
    },
    {
      "cell_type": "code",
      "source": [
        "y_proba_test_class.shape"
      ],
      "metadata": {
        "colab": {
          "base_uri": "https://localhost:8080/"
        },
        "id": "O-IcYOABFjxB",
        "outputId": "e301a5db-65b9-4e15-fdbd-46b88993e209"
      },
      "execution_count": 51,
      "outputs": [
        {
          "output_type": "execute_result",
          "data": {
            "text/plain": [
              "(123, 7)"
            ]
          },
          "metadata": {},
          "execution_count": 51
        }
      ]
    },
    {
      "cell_type": "code",
      "source": [
        "y_test.shape"
      ],
      "metadata": {
        "colab": {
          "base_uri": "https://localhost:8080/"
        },
        "id": "9AaqUY3PIlMQ",
        "outputId": "3fc56445-a38a-4212-ef95-c520ab9bf65c"
      },
      "execution_count": 52,
      "outputs": [
        {
          "output_type": "execute_result",
          "data": {
            "text/plain": [
              "(123, 1)"
            ]
          },
          "metadata": {},
          "execution_count": 52
        }
      ]
    },
    {
      "cell_type": "code",
      "source": [
        "y_test_adj"
      ],
      "metadata": {
        "colab": {
          "base_uri": "https://localhost:8080/"
        },
        "id": "7LgDudYTKInS",
        "outputId": "7f325d18-bdb4-4952-8ca5-9ad2654045ba"
      },
      "execution_count": 53,
      "outputs": [
        {
          "output_type": "execute_result",
          "data": {
            "text/plain": [
              "array([6, 3, 5, 4, 0, 4, 5, 4, 3, 6, 3, 4, 0, 5, 3, 0, 5, 5, 2, 6, 6, 0,\n",
              "       0, 2, 5, 0, 5, 0, 4, 1, 3, 6, 6, 5, 4, 2, 5, 4, 4, 5, 6, 0, 1, 2,\n",
              "       1, 1, 6, 2, 6, 4, 5, 6, 1, 2, 5, 1, 1, 4, 4, 1, 6, 3, 4, 2, 2, 2,\n",
              "       4, 0, 3, 6, 5, 1, 2, 4, 3, 0, 3, 6, 2, 6, 0, 4, 1, 3, 6, 3, 6, 4,\n",
              "       3, 3, 2, 5, 4, 1, 0, 3, 2, 3, 1, 0, 2, 6, 5, 4, 4, 3, 3, 6, 4, 0,\n",
              "       3, 4, 6, 5, 3, 2, 3, 1, 6, 6, 1, 0, 6], dtype=int8)"
            ]
          },
          "metadata": {},
          "execution_count": 53
        }
      ]
    },
    {
      "cell_type": "code",
      "source": [
        "\n",
        "\n",
        "macro_roc_auc_ovo = roc_auc_score(y_test_adj, y_proba_test_class, multi_class=\"ovo\", average=\"macro\")\n",
        "weighted_roc_auc_ovo = roc_auc_score(\n",
        "    y_test_adj, y_proba_test_class, multi_class=\"ovo\", average=\"weighted\"\n",
        ")\n",
        "macro_roc_auc_ovr = roc_auc_score(y_test_adj, y_proba_test_class, multi_class=\"ovr\", average=\"macro\")\n",
        "weighted_roc_auc_ovr = roc_auc_score(\n",
        "    y_test_adj, y_proba_test_class, multi_class=\"ovr\", average=\"weighted\"\n",
        ")\n"
      ],
      "metadata": {
        "id": "oMa4N8EhHlY9"
      },
      "execution_count": 54,
      "outputs": []
    },
    {
      "cell_type": "code",
      "source": [
        "print(\"One-vs-One ROC AUC scores:\\n{:.6f} (macro),\\n{:.6f} \" \"(weighted by prevalence)\\n\".format(macro_roc_auc_ovo, weighted_roc_auc_ovo))\n",
        "print(\"One-vs-Rest ROC AUC scores:\\n{:.6f} (macro),\\n{:.6f} \" \"(weighted by prevalence)\".format(macro_roc_auc_ovr, weighted_roc_auc_ovr))"
      ],
      "metadata": {
        "colab": {
          "base_uri": "https://localhost:8080/"
        },
        "id": "hhBLwtO_ICqL",
        "outputId": "3cd2dfe3-e12e-4757-8968-61d461ba22aa"
      },
      "execution_count": 55,
      "outputs": [
        {
          "output_type": "stream",
          "name": "stdout",
          "text": [
            "One-vs-One ROC AUC scores:\n",
            "0.551530 (macro),\n",
            "0.548688 (weighted by prevalence)\n",
            "\n",
            "One-vs-Rest ROC AUC scores:\n",
            "0.551238 (macro),\n",
            "0.544848 (weighted by prevalence)\n"
          ]
        }
      ]
    }
  ]
}