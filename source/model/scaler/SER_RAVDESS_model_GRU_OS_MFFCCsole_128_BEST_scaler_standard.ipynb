{
  "metadata": {
    "kernelspec": {
      "language": "python",
      "display_name": "Python 3",
      "name": "python3"
    },
    "language_info": {
      "pygments_lexer": "ipython3",
      "nbconvert_exporter": "python",
      "version": "3.6.4",
      "file_extension": ".py",
      "codemirror_mode": {
        "name": "ipython",
        "version": 3
      },
      "name": "python",
      "mimetype": "text/x-python"
    },
    "colab": {
      "name": "SER-RAVDESS-model-GRU-OS-MFFCCsole-128-BEST-scaler-standard.ipynb",
      "provenance": [],
      "collapsed_sections": []
    }
  },
  "nbformat_minor": 0,
  "nbformat": 4,
  "cells": [
    {
      "cell_type": "markdown",
      "source": [
        "# Imports"
      ],
      "metadata": {
        "id": "anSyerIFN7qd"
      }
    },
    {
      "cell_type": "code",
      "source": [
        "# Importing Libraries"
      ],
      "metadata": {
        "id": "IMFSwIuvKiw2"
      },
      "execution_count": 1,
      "outputs": []
    },
    {
      "cell_type": "code",
      "source": [
        "!pip install json-tricks"
      ],
      "metadata": {
        "colab": {
          "base_uri": "https://localhost:8080/"
        },
        "id": "bBR8aNsmM2tR",
        "outputId": "ca76d099-fa6b-43da-f915-9c881b7c2a5b"
      },
      "execution_count": 2,
      "outputs": [
        {
          "output_type": "stream",
          "name": "stdout",
          "text": [
            "Looking in indexes: https://pypi.org/simple, https://us-python.pkg.dev/colab-wheels/public/simple/\n",
            "Requirement already satisfied: json-tricks in /usr/local/lib/python3.7/dist-packages (3.15.5)\n"
          ]
        }
      ]
    },
    {
      "cell_type": "code",
      "source": [
        "import pandas as pd\n",
        "import numpy as np\n",
        "\n",
        "import os\n",
        "import sys\n",
        "\n",
        "import librosa\n",
        "import librosa.display\n",
        "#from pydub import AudioSegment, effects\n",
        "#import noisereduce as nr\n",
        "\n",
        "\n",
        "import seaborn as sns\n",
        "import matplotlib.pyplot as plt\n",
        "from IPython.display import Audio\n",
        "\n",
        "import tensorflow as tf\n",
        "import keras\n",
        "import sklearn\n",
        "\n",
        "\n",
        "from tensorflow.keras.models import Sequential, Model\n",
        "from tensorflow.keras.layers import Dense, LSTM, Flatten, Dropout, BatchNormalization\n",
        "from tensorflow.keras.callbacks import ModelCheckpoint, EarlyStopping, ReduceLROnPlateau\n",
        "from tensorflow.keras.optimizers import Adam, SGD\n",
        "from tensorflow.keras.utils import to_categorical, plot_model\n",
        "\n",
        "\n",
        "from keras.models import Sequential, model_from_json, load_model\n",
        "from keras import layers\n",
        "from keras import optimizers\n",
        "from keras import callbacks\n",
        "from sklearn.preprocessing import MinMaxScaler, StandardScaler, OneHotEncoder, LabelEncoder\n",
        "from sklearn.metrics import confusion_matrix, classification_report, precision_recall_fscore_support, roc_auc_score\n",
        "from sklearn.model_selection import train_test_split, StratifiedShuffleSplit\n",
        "from sklearn.multiclass import OneVsRestClassifier\n",
        "\n",
        "\n",
        "from tqdm import tqdm\n",
        "\n",
        "\n",
        "from json_tricks import dump, load\n",
        "\n",
        "\n",
        "\n",
        "import warnings\n",
        "if not sys.warnoptions:\n",
        "    warnings.simplefilter(\"ignore\")\n",
        "warnings.filterwarnings(\"ignore\", category=DeprecationWarning) \n",
        "\n",
        "import time\n",
        "tic = time.perf_counter()\n",
        "\n",
        "\n",
        "\n"
      ],
      "metadata": {
        "id": "77IS8HxqFFCA"
      },
      "execution_count": 3,
      "outputs": []
    },
    {
      "cell_type": "code",
      "source": [
        ""
      ],
      "metadata": {
        "id": "gGYqBIk0FGm4"
      },
      "execution_count": 3,
      "outputs": []
    },
    {
      "cell_type": "markdown",
      "source": [
        "# Dataset"
      ],
      "metadata": {
        "id": "nyMzoZKKKiw6"
      }
    },
    {
      "cell_type": "code",
      "source": [
        "from google.colab import drive\n",
        "drive.mount('/content/drive')"
      ],
      "metadata": {
        "id": "JFPDGXmwCBs_",
        "colab": {
          "base_uri": "https://localhost:8080/"
        },
        "outputId": "1342fcc1-05cc-4141-94dd-278c94f89ebc"
      },
      "execution_count": 4,
      "outputs": [
        {
          "output_type": "stream",
          "name": "stdout",
          "text": [
            "Mounted at /content/drive\n"
          ]
        }
      ]
    },
    {
      "cell_type": "code",
      "source": [
        "#Crema = \"/content/drive/MyDrive/datasets/speech/CREMAD/sample/\"\n",
        "#Crema = \"/content/drive/MyDrive/datasets/speech/CREMAD/AudioWAV/\"\n",
        "Ravdess = \"/content/drive/MyDrive/datasets/speech/RAVDESS/data/Audio_Speech_Actors_01-24\"\n",
        "Ravdess_processed = \"/content/drive/MyDrive/datasets/speech/RAVDESS/processedData/onlySpeech/\"\n",
        "Ravdess_speech_sample = \"/content/drive/MyDrive/datasets/speech/RAVDESS/data/Audio_Speech_Actors_01-24/\"\n",
        "df_path = \"/content/drive/MyDrive/datasets/speech/RAVDESS/ravdess_df_onlySpeech.csv\"\n",
        "model_path = Ravdess + \"/model/\"\n",
        "\n",
        "checkpoint_path = model_path + \"best_weights-os-GRU-1.hdf5\"\n",
        "saved_model_path = model_path + 'model8723-os-GRU-1.json'\n",
        "\n",
        "saved_weights_path = model_path + 'model8723_weights-os-GRU-1.h5'\n",
        "saved_model_path_2 = model_path + 'Speech-Emotion-Recognition-Model-os-GRU-1.h5'"
      ],
      "metadata": {
        "execution": {
          "iopub.status.busy": "2021-06-21T09:35:38.093538Z",
          "iopub.execute_input": "2021-06-21T09:35:38.093869Z",
          "iopub.status.idle": "2021-06-21T09:35:38.097467Z",
          "shell.execute_reply.started": "2021-06-21T09:35:38.093838Z",
          "shell.execute_reply": "2021-06-21T09:35:38.096608Z"
        },
        "trusted": true,
        "id": "vR2GjHL4Kiw7"
      },
      "execution_count": 5,
      "outputs": []
    },
    {
      "cell_type": "code",
      "source": [
        ""
      ],
      "metadata": {
        "id": "J2T6JxzIF2Jq"
      },
      "execution_count": 5,
      "outputs": []
    },
    {
      "cell_type": "code",
      "source": [
        "##Hypter Parameters' Range\n",
        "params = {\n",
        "    \"batch_size\": 20,  # 20<16<10, 25 was a bust\n",
        "    \"epochs\": 300,\n",
        "    \"lr\": 0.00010000,\n",
        "    \"time_steps\": 60\n",
        "}\n",
        "#TIME_STEPS = params[\"time_steps\"]\n",
        "#BATCH_SIZE = params[\"batch_size\"]\n",
        "#iter_changes = \"dropout_layers_0.4_0.4\"\n"
      ],
      "metadata": {
        "id": "jnEd5_Vvy4ue"
      },
      "execution_count": 6,
      "outputs": []
    },
    {
      "cell_type": "code",
      "source": [
        ""
      ],
      "metadata": {
        "id": "dKXM0xT-N8uy"
      },
      "execution_count": 6,
      "outputs": []
    },
    {
      "cell_type": "markdown",
      "source": [
        "# Load Processed Files, Construct Train, Validation and Test Sets"
      ],
      "metadata": {
        "id": "fse_mTpaOGdQ"
      }
    },
    {
      "cell_type": "code",
      "source": [
        "\n",
        "processed_path = Ravdess_processed\n",
        "x_path = processed_path + \"X_features_MFCC.json\" # FILE LOAD PATH\n",
        "y_path =  processed_path + \"Y_labels.json\" # FILE SAVE PATH\n",
        "#x_path = '/content/drive/MyDrive/datasets/speech/RAVDESS/processedData/X_features.json'\n",
        "\n",
        "# Load X,Y json files back into lists, convert to np.arrays\n",
        "\n",
        "X = load(x_path)\n",
        "X = np.asarray(X, dtype = 'float32')\n",
        "\n",
        "Y = load(y_path)\n",
        "Y = np.asarray(Y, dtype = 'int8')"
      ],
      "metadata": {
        "id": "101BpvWgN8xX"
      },
      "execution_count": 7,
      "outputs": []
    },
    {
      "cell_type": "code",
      "source": [
        "# Split to train, validation, and test sets.\n",
        "from sklearn.model_selection import train_test_split\n",
        "# 1st Split: X,Y => (x_train, x_tosplit) (y_train, y_tosplit)\n",
        "x_train, x_tosplit, y_train, y_tosplit = train_test_split(X, Y, test_size = 0.30, random_state = 1)\n",
        "\n",
        "\n",
        "\n",
        "\n",
        "# 2nd Split: x_tosplit,y_tosplit => (x_val, x_test) (y_val, y_test) \n",
        "x_val, x_test, y_val, y_test = train_test_split(x_tosplit, y_tosplit, test_size = 0.304, random_state = 1)\n",
        "#'One-hot' vectors for Y: emotion classification\n",
        "y_train_class = tf.keras.utils.to_categorical(y_train, 7, dtype = 'int8')\n",
        "y_val_class = tf.keras.utils.to_categorical(y_val, 7, dtype = 'int8')"
      ],
      "metadata": {
        "id": "CuF9M1mfOD7X"
      },
      "execution_count": 8,
      "outputs": []
    },
    {
      "cell_type": "code",
      "source": [
        ""
      ],
      "metadata": {
        "id": "yJamzwMcCp_v"
      },
      "execution_count": 8,
      "outputs": []
    },
    {
      "cell_type": "code",
      "source": [
        "# Normalize data using StandardScaler\n",
        "\n",
        "scaler = StandardScaler()\n",
        "\n",
        "\n",
        "X_train = scaler.fit_transform(x_train.reshape(-1, x_train.shape[-1])).reshape(x_train.shape)\n",
        "X_val = scaler.transform(x_val.reshape(-1, x_val.shape[-1])).reshape(x_val.shape)\n",
        "X_test = scaler.transform(x_test.reshape(-1, x_test.shape[-1])).reshape(x_test.shape)"
      ],
      "metadata": {
        "id": "zBs8Y2ZlWY_5"
      },
      "execution_count": 9,
      "outputs": []
    },
    {
      "cell_type": "code",
      "source": [
        "#X_train = x_train\n",
        "#X_val = x_val\n",
        "#X_test = x_test"
      ],
      "metadata": {
        "id": "Acf0v-2jsdOx"
      },
      "execution_count": 10,
      "outputs": []
    },
    {
      "cell_type": "code",
      "source": [
        "# x_train, x_val, and x_test shape check.\n",
        "print(np.shape(X_train))\n",
        "print(np.shape(X_val))\n",
        "print(np.shape(X_test))"
      ],
      "metadata": {
        "id": "od-D1YgBOGXs",
        "colab": {
          "base_uri": "https://localhost:8080/"
        },
        "outputId": "4efe1d39-27b8-4d76-cd84-764788f4353c"
      },
      "execution_count": 11,
      "outputs": [
        {
          "output_type": "stream",
          "name": "stdout",
          "text": [
            "(940, 448, 13)\n",
            "(281, 448, 13)\n",
            "(123, 448, 13)\n"
          ]
        }
      ]
    },
    {
      "cell_type": "code",
      "source": [
        "# Save x_test, y_test to JSON.\n",
        "\n",
        "x_test_path = processed_path + 'x_test_data.json'\n",
        "dump(obj = X_test, fp = x_test_path)\n",
        "\n",
        "y_test_path = processed_path + 'y_test_data.json'\n",
        "dump(obj = y_test, fp = y_test_path)"
      ],
      "metadata": {
        "id": "nTExHJVsOHQ5",
        "colab": {
          "base_uri": "https://localhost:8080/",
          "height": 105
        },
        "outputId": "8ebef46c-c12e-48df-e5c6-13622205a7d9"
      },
      "execution_count": 12,
      "outputs": [
        {
          "output_type": "execute_result",
          "data": {
            "text/plain": [
              "'{\"__ndarray__\": [[6], [3], [5], [4], [0], [4], [5], [4], [3], [6], [3], [4], [0], [5], [3], [0], [5], [5], [2], [6], [6], [0], [0], [2], [5], [0], [5], [0], [4], [1], [3], [6], [6], [5], [4], [2], [5], [4], [4], [5], [6], [0], [1], [2], [1], [1], [6], [2], [6], [4], [5], [6], [1], [2], [5], [1], [1], [4], [4], [1], [6], [3], [4], [2], [2], [2], [4], [0], [3], [6], [5], [1], [2], [4], [3], [0], [3], [6], [2], [6], [0], [4], [1], [3], [6], [3], [6], [4], [3], [3], [2], [5], [4], [1], [0], [3], [2], [3], [1], [0], [2], [6], [5], [4], [4], [3], [3], [6], [4], [0], [3], [4], [6], [5], [3], [2], [3], [1], [6], [6], [1], [0], [6]], \"dtype\": \"int8\", \"shape\": [123, 1], \"Corder\": true}'"
            ],
            "application/vnd.google.colaboratory.intrinsic+json": {
              "type": "string"
            }
          },
          "metadata": {},
          "execution_count": 12
        }
      ]
    },
    {
      "cell_type": "code",
      "source": [
        "# Loading x_test, y_test json files, and converting to np.arrays\n",
        "\n",
        "X_test = load(processed_path + 'x_test_data.json')\n",
        "X_test = np.asarray(X_test).astype('float32')\n",
        "\n",
        "y_test = load(processed_path + 'y_test_data.json')\n",
        "y_test = np.asarray(y_test).astype('int8')\n",
        "\n",
        "y_test_class = tf.keras.utils.to_categorical(y_test, 7, dtype = 'int8')"
      ],
      "metadata": {
        "id": "kAFBRsmk5dzm"
      },
      "execution_count": 13,
      "outputs": []
    },
    {
      "cell_type": "code",
      "source": [
        "X.shape"
      ],
      "metadata": {
        "id": "15joCR4gu4r7",
        "colab": {
          "base_uri": "https://localhost:8080/"
        },
        "outputId": "e7db6ade-b783-416c-bf7e-30ad4aff690f"
      },
      "execution_count": 14,
      "outputs": [
        {
          "output_type": "execute_result",
          "data": {
            "text/plain": [
              "(1344, 448, 13)"
            ]
          },
          "metadata": {},
          "execution_count": 14
        }
      ]
    },
    {
      "cell_type": "code",
      "source": [
        "X.shape[1:3]"
      ],
      "metadata": {
        "id": "8MQhoPKjEzi4",
        "colab": {
          "base_uri": "https://localhost:8080/"
        },
        "outputId": "65daf057-d8d8-448a-8216-0ba521259bc4"
      },
      "execution_count": 15,
      "outputs": [
        {
          "output_type": "execute_result",
          "data": {
            "text/plain": [
              "(448, 13)"
            ]
          },
          "metadata": {},
          "execution_count": 15
        }
      ]
    },
    {
      "cell_type": "code",
      "source": [
        "X_train.shape"
      ],
      "metadata": {
        "id": "LxZyszASamnQ",
        "colab": {
          "base_uri": "https://localhost:8080/"
        },
        "outputId": "8907f886-3081-48f3-f414-ec03c70f3208"
      },
      "execution_count": 16,
      "outputs": [
        {
          "output_type": "execute_result",
          "data": {
            "text/plain": [
              "(940, 448, 13)"
            ]
          },
          "metadata": {},
          "execution_count": 16
        }
      ]
    },
    {
      "cell_type": "markdown",
      "source": [
        "# RNN Model"
      ],
      "metadata": {
        "id": "gnWVMbR6KixC"
      }
    },
    {
      "cell_type": "code",
      "source": [
        "tic"
      ],
      "metadata": {
        "id": "7CHZWdfcN8oo",
        "colab": {
          "base_uri": "https://localhost:8080/"
        },
        "outputId": "7e303376-f397-4b20-81e8-f700de8bfa89"
      },
      "execution_count": 17,
      "outputs": [
        {
          "output_type": "execute_result",
          "data": {
            "text/plain": [
              "245.186309811"
            ]
          },
          "metadata": {},
          "execution_count": 17
        }
      ]
    },
    {
      "cell_type": "markdown",
      "source": [
        "## Define Model & Training"
      ],
      "metadata": {
        "id": "GJjJYnJQORJ8"
      }
    },
    {
      "cell_type": "code",
      "source": [
        "# Initializing the model\n",
        "\n",
        "model = Sequential()\n",
        "model.add(layers.GRU(128, return_sequences = True, input_shape=(X.shape[1:3])))\n",
        "model.add(layers.GRU(64))\n",
        "\n",
        "model.add(layers.Dense(7, activation = 'softmax'))\n",
        "print(model.summary())\n",
        "\n",
        "batch_size = 23\n",
        "\n",
        "# Callbacks functions\n",
        "\n",
        "#-> EearlyStopping\n",
        "es = EarlyStopping(monitor='val_loss', mode='min', verbose=1,\n",
        "                    patience=20, min_delta=0.0001)\n",
        "\n",
        "\n",
        "#-> Save the best weights\n",
        "mcp_save = callbacks.ModelCheckpoint(checkpoint_path, save_best_only=True,\n",
        "                           monitor='val_categorical_accuracy',\n",
        "                           mode='max')\n",
        "#-> Reduce learning rate after 100 epoches without improvement.\n",
        "rlrop = callbacks.ReduceLROnPlateau(monitor='val_categorical_accuracy', \n",
        "                                    factor=0.1, patience=20)\n",
        "                             \n",
        "# Compile & train   \n",
        "model.compile(loss='categorical_crossentropy', \n",
        "                optimizer='RMSProp', \n",
        "                metrics=['categorical_accuracy'])\n",
        "\n",
        "\n"
      ],
      "metadata": {
        "id": "aD2adyVGOJs4",
        "colab": {
          "base_uri": "https://localhost:8080/"
        },
        "outputId": "0e9e8d4f-5cdd-451c-ed8f-a86304c10ff8"
      },
      "execution_count": 18,
      "outputs": [
        {
          "output_type": "stream",
          "name": "stdout",
          "text": [
            "Model: \"sequential\"\n",
            "_________________________________________________________________\n",
            " Layer (type)                Output Shape              Param #   \n",
            "=================================================================\n",
            " gru (GRU)                   (None, 448, 128)          54912     \n",
            "                                                                 \n",
            " gru_1 (GRU)                 (None, 64)                37248     \n",
            "                                                                 \n",
            " dense (Dense)               (None, 7)                 455       \n",
            "                                                                 \n",
            "=================================================================\n",
            "Total params: 92,615\n",
            "Trainable params: 92,615\n",
            "Non-trainable params: 0\n",
            "_________________________________________________________________\n",
            "None\n"
          ]
        }
      ]
    },
    {
      "cell_type": "code",
      "source": [
        ""
      ],
      "metadata": {
        "id": "4DBF6kqx-OHZ"
      },
      "execution_count": 18,
      "outputs": []
    },
    {
      "cell_type": "code",
      "source": [
        "history = model.fit(X_train, y_train_class, \n",
        "                      epochs=340, batch_size = batch_size, \n",
        "                      validation_data = (X_val, y_val_class), \n",
        "                      callbacks = [es, mcp_save, rlrop])\n",
        "toc = time.perf_counter()"
      ],
      "metadata": {
        "id": "Da7Gc9x_izth",
        "colab": {
          "base_uri": "https://localhost:8080/"
        },
        "outputId": "0631e843-3757-4f5f-89da-28d653ad3780"
      },
      "execution_count": 19,
      "outputs": [
        {
          "output_type": "stream",
          "name": "stdout",
          "text": [
            "Epoch 1/340\n",
            "41/41 [==============================] - 27s 571ms/step - loss: 1.9568 - categorical_accuracy: 0.1383 - val_loss: 1.9391 - val_categorical_accuracy: 0.1637 - lr: 0.0010\n",
            "Epoch 2/340\n",
            "41/41 [==============================] - 22s 527ms/step - loss: 1.9503 - categorical_accuracy: 0.1681 - val_loss: 1.9575 - val_categorical_accuracy: 0.1210 - lr: 0.0010\n",
            "Epoch 3/340\n",
            "41/41 [==============================] - 22s 527ms/step - loss: 1.9472 - categorical_accuracy: 0.1553 - val_loss: 1.9686 - val_categorical_accuracy: 0.0961 - lr: 0.0010\n",
            "Epoch 4/340\n",
            "41/41 [==============================] - 22s 544ms/step - loss: 1.9480 - categorical_accuracy: 0.1617 - val_loss: 1.9467 - val_categorical_accuracy: 0.1281 - lr: 0.0010\n",
            "Epoch 5/340\n",
            "41/41 [==============================] - 22s 529ms/step - loss: 1.9424 - categorical_accuracy: 0.1713 - val_loss: 1.9708 - val_categorical_accuracy: 0.0925 - lr: 0.0010\n",
            "Epoch 6/340\n",
            "41/41 [==============================] - 21s 522ms/step - loss: 1.9445 - categorical_accuracy: 0.1564 - val_loss: 1.9510 - val_categorical_accuracy: 0.1317 - lr: 0.0010\n",
            "Epoch 7/340\n",
            "41/41 [==============================] - 21s 525ms/step - loss: 1.9423 - categorical_accuracy: 0.1713 - val_loss: 1.9503 - val_categorical_accuracy: 0.1246 - lr: 0.0010\n",
            "Epoch 8/340\n",
            "41/41 [==============================] - 22s 529ms/step - loss: 1.9446 - categorical_accuracy: 0.1511 - val_loss: 1.9470 - val_categorical_accuracy: 0.1246 - lr: 0.0010\n",
            "Epoch 9/340\n",
            "41/41 [==============================] - 23s 563ms/step - loss: 1.9425 - categorical_accuracy: 0.1702 - val_loss: 1.9472 - val_categorical_accuracy: 0.1210 - lr: 0.0010\n",
            "Epoch 10/340\n",
            "41/41 [==============================] - 22s 530ms/step - loss: 1.9445 - categorical_accuracy: 0.1511 - val_loss: 1.9469 - val_categorical_accuracy: 0.1246 - lr: 0.0010\n",
            "Epoch 11/340\n",
            "41/41 [==============================] - 22s 527ms/step - loss: 1.9430 - categorical_accuracy: 0.1574 - val_loss: 1.9521 - val_categorical_accuracy: 0.1210 - lr: 0.0010\n",
            "Epoch 12/340\n",
            "41/41 [==============================] - 22s 530ms/step - loss: 1.9435 - categorical_accuracy: 0.1596 - val_loss: 1.9517 - val_categorical_accuracy: 0.1495 - lr: 0.0010\n",
            "Epoch 13/340\n",
            "41/41 [==============================] - 22s 533ms/step - loss: 1.9424 - categorical_accuracy: 0.1745 - val_loss: 1.9488 - val_categorical_accuracy: 0.1281 - lr: 0.0010\n",
            "Epoch 14/340\n",
            "41/41 [==============================] - 22s 527ms/step - loss: 1.9401 - categorical_accuracy: 0.1628 - val_loss: 1.9507 - val_categorical_accuracy: 0.1352 - lr: 0.0010\n",
            "Epoch 15/340\n",
            "41/41 [==============================] - 22s 531ms/step - loss: 1.9402 - categorical_accuracy: 0.1606 - val_loss: 1.9486 - val_categorical_accuracy: 0.1246 - lr: 0.0010\n",
            "Epoch 16/340\n",
            "41/41 [==============================] - 22s 527ms/step - loss: 1.9416 - categorical_accuracy: 0.1479 - val_loss: 1.9472 - val_categorical_accuracy: 0.1281 - lr: 0.0010\n",
            "Epoch 17/340\n",
            "41/41 [==============================] - 22s 528ms/step - loss: 1.9391 - categorical_accuracy: 0.1596 - val_loss: 1.9490 - val_categorical_accuracy: 0.1423 - lr: 0.0010\n",
            "Epoch 18/340\n",
            "41/41 [==============================] - 22s 528ms/step - loss: 1.9380 - categorical_accuracy: 0.1596 - val_loss: 1.9486 - val_categorical_accuracy: 0.1246 - lr: 0.0010\n",
            "Epoch 19/340\n",
            "41/41 [==============================] - 22s 529ms/step - loss: 1.9370 - categorical_accuracy: 0.1660 - val_loss: 1.9481 - val_categorical_accuracy: 0.1246 - lr: 0.0010\n",
            "Epoch 20/340\n",
            "41/41 [==============================] - 21s 525ms/step - loss: 1.9352 - categorical_accuracy: 0.1745 - val_loss: 1.9536 - val_categorical_accuracy: 0.1352 - lr: 0.0010\n",
            "Epoch 21/340\n",
            "41/41 [==============================] - 22s 525ms/step - loss: 1.9355 - categorical_accuracy: 0.1691 - val_loss: 1.9545 - val_categorical_accuracy: 0.1388 - lr: 0.0010\n",
            "Epoch 21: early stopping\n"
          ]
        }
      ]
    },
    {
      "cell_type": "code",
      "source": [
        ""
      ],
      "metadata": {
        "id": "3MekXCZHizyZ"
      },
      "execution_count": 19,
      "outputs": []
    },
    {
      "cell_type": "code",
      "source": [
        "print(f\"Running time: {(toc - tic)/60:0.4f} minutes\")"
      ],
      "metadata": {
        "id": "cHmSBRhVOELJ",
        "colab": {
          "base_uri": "https://localhost:8080/"
        },
        "outputId": "dc2a229d-9f28-48bf-ced4-764734d57c21"
      },
      "execution_count": 20,
      "outputs": [
        {
          "output_type": "stream",
          "name": "stdout",
          "text": [
            "Running time: 8.4948 minutes\n"
          ]
        }
      ]
    },
    {
      "cell_type": "markdown",
      "source": [
        "## Loading Model"
      ],
      "metadata": {
        "id": "jCQelzMAKixD"
      }
    },
    {
      "cell_type": "code",
      "source": [
        "# Define the best weights to the model.\\\n",
        "#model.load_weights(checkpoint_path)"
      ],
      "metadata": {
        "id": "gruZAW2wI-tO"
      },
      "execution_count": 21,
      "outputs": []
    },
    {
      "cell_type": "markdown",
      "source": [
        "# Evaluation"
      ],
      "metadata": {
        "id": "kDxTjEK0KixD"
      }
    },
    {
      "cell_type": "markdown",
      "source": [
        "## Save & Load model, weights"
      ],
      "metadata": {
        "id": "1YfguG0tPatV"
      }
    },
    {
      "cell_type": "code",
      "source": [
        "# Saving model & weights\n",
        "model_json = model.to_json()\n",
        "\n",
        "\n",
        "\n",
        "with open(saved_model_path, \"w\") as json_file:\n",
        "    json_file.write(model_json)\n",
        "    \n",
        "model.save_weights(saved_weights_path)\n",
        "print(\"Saved model to disk\")"
      ],
      "metadata": {
        "id": "MsVoNhqmgGsK",
        "colab": {
          "base_uri": "https://localhost:8080/"
        },
        "outputId": "7b774993-2fac-4b38-b74a-92ac30ae7a5e"
      },
      "execution_count": 22,
      "outputs": [
        {
          "output_type": "stream",
          "name": "stdout",
          "text": [
            "Saved model to disk\n"
          ]
        }
      ]
    },
    {
      "cell_type": "code",
      "source": [
        "# Reading the model from JSON file\n",
        "#model_path = Ravdess + \"/model/\"\n",
        "#saved_model_path = model_path + 'model8723.json'\n",
        "#saved_weights_path = model_path + 'model8723_weights.h5'\n",
        "\n",
        "\n",
        "with open(saved_model_path , 'r') as json_file:\n",
        "    json_savedModel = json_file.read()\n",
        "    \n",
        "# Loading the model architecture, weights\n",
        "model = tf.keras.models.model_from_json(json_savedModel)\n",
        "model.load_weights(saved_weights_path)\n",
        "\n",
        "# Compiling the model with similar parameters as the original model.\n",
        "model.compile(loss='categorical_crossentropy', \n",
        "                optimizer='RMSProp', \n",
        "                metrics=['categorical_accuracy'])\n",
        "\n",
        "# Model's structure visualization\n",
        "tf.keras.utils.plot_model(model, to_file='model.png', show_shapes=True, show_layer_names=True)"
      ],
      "metadata": {
        "id": "y4OJGhLmgfX6",
        "colab": {
          "base_uri": "https://localhost:8080/",
          "height": 422
        },
        "outputId": "03f5a5f6-c02a-4d4a-9a5c-94acb18502ac"
      },
      "execution_count": 23,
      "outputs": [
        {
          "output_type": "execute_result",
          "data": {
            "text/plain": [
              "<IPython.core.display.Image object>"
            ],
            "image/png": "[encoded data removed]"
          },
          "metadata": {},
          "execution_count": 23
        }
      ]
    },
    {
      "cell_type": "code",
      "source": [
        ""
      ],
      "metadata": {
        "id": "B_SW6eUAgvEj"
      },
      "execution_count": 23,
      "outputs": []
    },
    {
      "cell_type": "code",
      "source": [
        ""
      ],
      "metadata": {
        "id": "cCfkUXTYgzSB"
      },
      "execution_count": 23,
      "outputs": []
    },
    {
      "cell_type": "code",
      "source": [
        "model.save(saved_model_path_2)"
      ],
      "metadata": {
        "trusted": true,
        "id": "Z5Uzb_bGKixE"
      },
      "execution_count": 24,
      "outputs": []
    },
    {
      "cell_type": "markdown",
      "source": [
        "## Train (fit) Visualization"
      ],
      "metadata": {
        "id": "ATvBW0SPO-eq"
      }
    },
    {
      "cell_type": "code",
      "source": [
        "# Loss, Accuracy presentation\n",
        "\n",
        "# Plot history: Loss\n",
        "plt.plot(history.history['loss'], label='Loss (training data)')\n",
        "plt.plot(history.history['val_loss'], label='Loss (validation data)')\n",
        "plt.title('Loss for train and validation')\n",
        "plt.ylabel('Loss value')\n",
        "plt.xlabel('No. epoch')\n",
        "plt.legend(loc=\"upper left\")\n",
        "plt.show()\n",
        "\n",
        "#Plot history: Accuracy\n",
        "plt.plot(history.history['categorical_accuracy'], label='Acc (training data)')\n",
        "plt.plot(history.history['val_categorical_accuracy'], label='Acc (validation data)')\n",
        "plt.title('Model accuracy')\n",
        "plt.ylabel('Acc %')\n",
        "plt.xlabel('No. epoch')\n",
        "plt.legend(loc=\"upper left\")\n",
        "plt.show()"
      ],
      "metadata": {
        "id": "UjhUHhU_f4EY",
        "colab": {
          "base_uri": "https://localhost:8080/",
          "height": 573
        },
        "outputId": "29bb4ed0-a1ea-470e-a226-c17f0cca5101"
      },
      "execution_count": 25,
      "outputs": [
        {
          "output_type": "display_data",
          "data": {
            "text/plain": [
              "<Figure size 432x288 with 1 Axes>"
            ],
            "image/png": "[encoded data removed]"
          },
          "metadata": {
            "needs_background": "light"
          }
        },
        {
          "output_type": "display_data",
          "data": {
            "text/plain": [
              "<Figure size 432x288 with 1 Axes>"
            ],
            "image/png": "[encoded data removed]"
          },
          "metadata": {
            "needs_background": "light"
          }
        }
      ]
    },
    {
      "cell_type": "markdown",
      "source": [
        "## Validation Set Evaluation"
      ],
      "metadata": {
        "id": "UZ3lFduxPQeB"
      }
    },
    {
      "cell_type": "markdown",
      "source": [
        "### Val Set Score"
      ],
      "metadata": {
        "id": "5YoYCa22PMGz"
      }
    },
    {
      "cell_type": "code",
      "source": [
        ""
      ],
      "metadata": {
        "id": "jQavrzbB_8fy"
      },
      "execution_count": 25,
      "outputs": []
    },
    {
      "cell_type": "code",
      "source": [
        "# Validation score\n",
        "loss,acc = model.evaluate(X_val, y_val_class, verbose=2)\n"
      ],
      "metadata": {
        "id": "X_KdTUyrf7-j",
        "colab": {
          "base_uri": "https://localhost:8080/"
        },
        "outputId": "817a8fde-e523-40f2-8be4-2cda9548963c"
      },
      "execution_count": 26,
      "outputs": [
        {
          "output_type": "stream",
          "name": "stdout",
          "text": [
            "9/9 - 2s - loss: 1.9545 - categorical_accuracy: 0.1388 - 2s/epoch - 206ms/step\n"
          ]
        }
      ]
    },
    {
      "cell_type": "code",
      "source": [
        ""
      ],
      "metadata": {
        "id": "09k_I9DM_2Q0"
      },
      "execution_count": 26,
      "outputs": []
    },
    {
      "cell_type": "markdown",
      "source": [
        "### Construct Predicted Labels based on Probability of each class"
      ],
      "metadata": {
        "id": "hz7nc15A_3hb"
      }
    },
    {
      "cell_type": "code",
      "source": [
        "y_val_class"
      ],
      "metadata": {
        "id": "CFM1P2SZ_85N",
        "colab": {
          "base_uri": "https://localhost:8080/"
        },
        "outputId": "86cad6bc-bcca-492b-bf1f-c75d237ca281"
      },
      "execution_count": 27,
      "outputs": [
        {
          "output_type": "execute_result",
          "data": {
            "text/plain": [
              "array([[0, 0, 0, ..., 0, 0, 1],\n",
              "       [0, 1, 0, ..., 0, 0, 0],\n",
              "       [0, 0, 0, ..., 0, 1, 0],\n",
              "       ...,\n",
              "       [0, 0, 0, ..., 0, 0, 1],\n",
              "       [0, 0, 0, ..., 0, 0, 1],\n",
              "       [0, 0, 1, ..., 0, 0, 0]], dtype=int8)"
            ]
          },
          "metadata": {},
          "execution_count": 27
        }
      ]
    },
    {
      "cell_type": "code",
      "source": [
        "np.argmax(y_val_class, axis=1)"
      ],
      "metadata": {
        "id": "C9UHSeXbAASy",
        "colab": {
          "base_uri": "https://localhost:8080/"
        },
        "outputId": "dabed840-6693-463a-957e-fb33f331cab6"
      },
      "execution_count": 28,
      "outputs": [
        {
          "output_type": "execute_result",
          "data": {
            "text/plain": [
              "array([6, 1, 5, 3, 5, 5, 2, 5, 0, 4, 5, 1, 5, 5, 2, 1, 0, 1, 4, 5, 3, 6,\n",
              "       0, 2, 2, 4, 6, 5, 1, 4, 0, 5, 2, 3, 1, 6, 5, 2, 1, 0, 3, 4, 0, 5,\n",
              "       3, 3, 0, 6, 4, 6, 0, 3, 3, 3, 4, 5, 3, 2, 3, 6, 1, 0, 3, 2, 4, 4,\n",
              "       6, 2, 4, 0, 5, 5, 1, 2, 0, 5, 5, 3, 4, 6, 4, 2, 2, 3, 6, 0, 0, 3,\n",
              "       2, 5, 1, 4, 1, 0, 6, 3, 6, 1, 2, 6, 6, 2, 0, 5, 1, 5, 4, 0, 5, 2,\n",
              "       0, 5, 0, 6, 2, 3, 3, 2, 2, 2, 0, 1, 5, 2, 5, 3, 2, 0, 3, 3, 3, 2,\n",
              "       0, 3, 0, 6, 3, 3, 3, 1, 0, 3, 6, 5, 6, 4, 0, 2, 6, 2, 1, 1, 4, 6,\n",
              "       0, 2, 1, 1, 3, 0, 6, 6, 2, 0, 1, 5, 5, 4, 5, 5, 0, 2, 4, 4, 6, 4,\n",
              "       3, 6, 2, 3, 2, 3, 0, 1, 0, 3, 1, 5, 2, 1, 6, 0, 4, 1, 6, 2, 0, 0,\n",
              "       6, 0, 0, 2, 5, 5, 1, 2, 3, 2, 2, 2, 4, 3, 5, 3, 1, 0, 2, 0, 2, 4,\n",
              "       6, 1, 0, 6, 5, 6, 4, 0, 0, 4, 5, 3, 2, 6, 2, 6, 3, 5, 3, 1, 5, 6,\n",
              "       5, 1, 2, 1, 6, 0, 5, 3, 2, 1, 6, 3, 0, 1, 3, 6, 3, 2, 2, 4, 6, 4,\n",
              "       3, 2, 2, 5, 5, 4, 1, 3, 6, 5, 3, 0, 3, 4, 6, 6, 2])"
            ]
          },
          "metadata": {},
          "execution_count": 28
        }
      ]
    },
    {
      "cell_type": "code",
      "source": [
        "y_val_class = np.argmax(y_val_class, axis=1)\n",
        "predictions_val = model.predict(X_val)\n",
        "y_proba_val_class = predictions_val\n",
        "y_pred_val_class = np.argmax(predictions_val, axis=1)"
      ],
      "metadata": {
        "id": "urjydD-38JK7"
      },
      "execution_count": 29,
      "outputs": []
    },
    {
      "cell_type": "code",
      "source": [
        "predictions_val\n"
      ],
      "metadata": {
        "id": "Zb7dGRs3AEJn",
        "colab": {
          "base_uri": "https://localhost:8080/"
        },
        "outputId": "d0c9cc7e-b19c-46e2-be66-c007c19b2f1a"
      },
      "execution_count": 30,
      "outputs": [
        {
          "output_type": "execute_result",
          "data": {
            "text/plain": [
              "array([[0.14808342, 0.1473323 , 0.14450265, ..., 0.16115111, 0.14140493,\n",
              "        0.1325674 ],\n",
              "       [0.15031025, 0.17201823, 0.11269569, ..., 0.11461475, 0.142071  ,\n",
              "        0.16672224],\n",
              "       [0.14634725, 0.14671516, 0.14577743, ..., 0.16294043, 0.14168818,\n",
              "        0.13060887],\n",
              "       ...,\n",
              "       [0.13941239, 0.14479853, 0.15012223, ..., 0.1691371 , 0.14272055,\n",
              "        0.12352539],\n",
              "       [0.11288008, 0.1407703 , 0.16135466, ..., 0.1870403 , 0.1449288 ,\n",
              "        0.10099008],\n",
              "       [0.15226942, 0.14921798, 0.14091302, ..., 0.15614578, 0.14068457,\n",
              "        0.13782355]], dtype=float32)"
            ]
          },
          "metadata": {},
          "execution_count": 30
        }
      ]
    },
    {
      "cell_type": "code",
      "source": [
        "y_pred_val_class "
      ],
      "metadata": {
        "id": "KxHa1Ss1AJo4",
        "colab": {
          "base_uri": "https://localhost:8080/"
        },
        "outputId": "f8b09533-21af-420c-aa43-ca59ccd2e6c1"
      },
      "execution_count": 31,
      "outputs": [
        {
          "output_type": "execute_result",
          "data": {
            "text/plain": [
              "array([4, 1, 4, 4, 1, 4, 4, 1, 1, 4, 4, 4, 1, 4, 4, 0, 1, 1, 4, 4, 0, 1,\n",
              "       1, 0, 1, 4, 4, 4, 0, 4, 1, 4, 4, 4, 4, 4, 0, 4, 0, 4, 1, 4, 4, 4,\n",
              "       1, 0, 0, 4, 4, 4, 4, 1, 4, 4, 1, 4, 1, 1, 4, 0, 4, 4, 1, 4, 4, 3,\n",
              "       0, 4, 0, 1, 1, 4, 0, 4, 4, 1, 4, 1, 1, 4, 0, 4, 1, 1, 1, 0, 0, 0,\n",
              "       4, 4, 0, 4, 4, 0, 4, 4, 0, 4, 0, 4, 0, 1, 1, 4, 1, 1, 4, 4, 4, 4,\n",
              "       0, 4, 0, 1, 0, 0, 1, 4, 1, 4, 4, 0, 1, 4, 4, 0, 4, 0, 1, 4, 1, 0,\n",
              "       4, 1, 4, 4, 4, 4, 4, 1, 1, 4, 1, 4, 0, 1, 1, 0, 1, 4, 1, 1, 4, 1,\n",
              "       4, 4, 4, 4, 0, 1, 1, 1, 4, 4, 1, 1, 4, 3, 1, 0, 4, 1, 4, 0, 0, 1,\n",
              "       1, 4, 4, 4, 0, 1, 4, 0, 0, 4, 4, 4, 1, 0, 4, 0, 0, 4, 4, 1, 0, 4,\n",
              "       4, 4, 1, 4, 1, 1, 0, 0, 4, 4, 4, 4, 1, 4, 3, 4, 4, 4, 4, 0, 0, 4,\n",
              "       0, 1, 0, 1, 4, 4, 4, 4, 4, 0, 4, 4, 0, 0, 4, 4, 4, 4, 1, 1, 3, 1,\n",
              "       4, 4, 4, 4, 4, 0, 0, 4, 0, 4, 0, 1, 0, 0, 4, 1, 4, 1, 4, 0, 4, 4,\n",
              "       4, 4, 1, 4, 1, 4, 4, 0, 1, 0, 0, 4, 4, 4, 4, 4, 4])"
            ]
          },
          "metadata": {},
          "execution_count": 31
        }
      ]
    },
    {
      "cell_type": "markdown",
      "source": [
        "### Val Set Confusion Matrix and Heatmap"
      ],
      "metadata": {
        "id": "d2ullxf9PUMd"
      }
    },
    {
      "cell_type": "code",
      "source": [
        "# Validation Confusion matrix\n",
        "cm=confusion_matrix(y_val_class, y_pred_val_class)\n",
        "\n",
        "index = ['calm', 'happy', 'sad', 'angry', 'fearful', 'disgust', 'surprised']  \n",
        "columns = ['calm', 'happy', 'sad', 'angry', 'fearful', 'disgust', 'surprised']  \n",
        " \n",
        "cm_df = pd.DataFrame(cm,index,columns)                      \n",
        "plt.figure(figsize=(12,8))\n",
        "ax = plt.axes()\n",
        "\n",
        "sns.heatmap(cm_df, ax = ax, cmap = 'PuBu', fmt=\"d\", annot=True)\n",
        "ax.set_ylabel('True emotion')\n",
        "ax.set_xlabel('Predicted emotion')"
      ],
      "metadata": {
        "id": "doLcg3CTf9bx",
        "colab": {
          "base_uri": "https://localhost:8080/",
          "height": 514
        },
        "outputId": "303b8fc4-9b5e-406a-924f-b39b6365d5a8"
      },
      "execution_count": 32,
      "outputs": [
        {
          "output_type": "execute_result",
          "data": {
            "text/plain": [
              "Text(0.5, 51.0, 'Predicted emotion')"
            ]
          },
          "metadata": {},
          "execution_count": 32
        },
        {
          "output_type": "display_data",
          "data": {
            "text/plain": [
              "<Figure size 864x576 with 2 Axes>"
            ],
            "image/png": "[encoded data removed]"
          },
          "metadata": {
            "needs_background": "light"
          }
        }
      ]
    },
    {
      "cell_type": "code",
      "source": [
        "# Confusion Matrix\n",
        "cm"
      ],
      "metadata": {
        "id": "hIEG9Pia8Nfp",
        "colab": {
          "base_uri": "https://localhost:8080/"
        },
        "outputId": "89c31456-7e01-45fd-ac36-e0e14a07dda8"
      },
      "execution_count": 33,
      "outputs": [
        {
          "output_type": "execute_result",
          "data": {
            "text/plain": [
              "array([[14, 10,  0,  0, 19,  0,  0],\n",
              "       [10,  9,  0,  0, 14,  0,  0],\n",
              "       [10, 10,  0,  0, 28,  0,  0],\n",
              "       [ 8, 15,  0,  0, 23,  0,  0],\n",
              "       [ 6,  5,  0,  2, 16,  0,  0],\n",
              "       [ 4, 12,  0,  2, 24,  0,  0],\n",
              "       [ 9, 12,  0,  0, 19,  0,  0]])"
            ]
          },
          "metadata": {},
          "execution_count": 33
        }
      ]
    },
    {
      "cell_type": "markdown",
      "source": [
        "### Validation Set Predicted emotions accuracy"
      ],
      "metadata": {
        "id": "kWjKgUdRPYH5"
      }
    },
    {
      "cell_type": "code",
      "source": [
        "# Validation set prediction accuracy rates\n",
        "\n",
        "values = cm.diagonal()\n",
        "row_sum = np.sum(cm,axis=1)\n",
        "acc = values / row_sum\n",
        "\n",
        "print('Validation set predicted emotions accuracy:')\n",
        "for e in range(0, len(values)):\n",
        "    print(index[e],':', f\"{(acc[e]):0.4f}\")"
      ],
      "metadata": {
        "id": "MopdywY9f-mS",
        "colab": {
          "base_uri": "https://localhost:8080/"
        },
        "outputId": "83eef430-2474-44fe-cbe4-12905af9e225"
      },
      "execution_count": 34,
      "outputs": [
        {
          "output_type": "stream",
          "name": "stdout",
          "text": [
            "Validation set predicted emotions accuracy:\n",
            "calm : 0.3256\n",
            "happy : 0.2727\n",
            "sad : 0.0000\n",
            "angry : 0.0000\n",
            "fearful : 0.5517\n",
            "disgust : 0.0000\n",
            "surprised : 0.0000\n"
          ]
        }
      ]
    },
    {
      "cell_type": "markdown",
      "source": [
        "### Precision, Recal, Fscore"
      ],
      "metadata": {
        "id": "DGSTy2228XRH"
      }
    },
    {
      "cell_type": "code",
      "source": [
        "# Validation set precision, recall, fscore\n",
        "\n",
        "precision_recall_fscore_support(y_val_class, y_pred_val_class, average='macro')\n"
      ],
      "metadata": {
        "id": "rOwUkCG0gGpm",
        "colab": {
          "base_uri": "https://localhost:8080/"
        },
        "outputId": "c3368c54-2b65-46aa-ca19-03d0ef42148e"
      },
      "execution_count": 35,
      "outputs": [
        {
          "output_type": "stream",
          "name": "stderr",
          "text": [
            "/usr/local/lib/python3.7/dist-packages/sklearn/metrics/_classification.py:1318: UndefinedMetricWarning: Precision and F-score are ill-defined and being set to 0.0 in labels with no predicted samples. Use `zero_division` parameter to control this behavior.\n",
            "  _warn_prf(average, modifier, msg_start, len(result))\n"
          ]
        },
        {
          "output_type": "execute_result",
          "data": {
            "text/plain": [
              "(0.06638342569175715, 0.16429040085816352, 0.08929837165905617, None)"
            ]
          },
          "metadata": {},
          "execution_count": 35
        }
      ]
    },
    {
      "cell_type": "code",
      "source": [
        "precision_recall_fscore_support(y_val_class, y_pred_val_class, average='weighted')"
      ],
      "metadata": {
        "id": "OorFgXxDzy3o",
        "colab": {
          "base_uri": "https://localhost:8080/"
        },
        "outputId": "fa1f4eaa-d01b-4f17-b9fb-49e389d49bb8"
      },
      "execution_count": 36,
      "outputs": [
        {
          "output_type": "stream",
          "name": "stderr",
          "text": [
            "/usr/local/lib/python3.7/dist-packages/sklearn/metrics/_classification.py:1318: UndefinedMetricWarning: Precision and F-score are ill-defined and being set to 0.0 in labels with no predicted samples. Use `zero_division` parameter to control this behavior.\n",
            "  _warn_prf(average, modifier, msg_start, len(result))\n"
          ]
        },
        {
          "output_type": "execute_result",
          "data": {
            "text/plain": [
              "(0.06114626638596644, 0.1387900355871886, 0.08034179892896098, None)"
            ]
          },
          "metadata": {},
          "execution_count": 36
        }
      ]
    },
    {
      "cell_type": "markdown",
      "source": [
        "## Test Set Evaluation"
      ],
      "metadata": {
        "id": "FiCwOjmPPgCn"
      }
    },
    {
      "cell_type": "code",
      "source": [
        ""
      ],
      "metadata": {
        "id": "mUZLaThTeocQ"
      },
      "execution_count": 36,
      "outputs": []
    },
    {
      "cell_type": "markdown",
      "source": [
        "### Test Set Score\n",
        "\n"
      ],
      "metadata": {
        "id": "CWB7U5xDUSmF"
      }
    },
    {
      "cell_type": "code",
      "source": [
        "loss, acc = model.evaluate(X_test, y_test_class, verbose=2)"
      ],
      "metadata": {
        "id": "Y7NEHPM-gzml",
        "colab": {
          "base_uri": "https://localhost:8080/"
        },
        "outputId": "8a956147-c24a-4e14-d824-a4024a7a6125"
      },
      "execution_count": 37,
      "outputs": [
        {
          "output_type": "stream",
          "name": "stdout",
          "text": [
            "4/4 - 0s - loss: 1.9390 - categorical_accuracy: 0.1707 - 466ms/epoch - 116ms/step\n"
          ]
        }
      ]
    },
    {
      "cell_type": "markdown",
      "source": [
        "### Construct Predicted Labels based on Probability of each class"
      ],
      "metadata": {
        "id": "gPwcFV9oAhGh"
      }
    },
    {
      "cell_type": "code",
      "source": [
        "y_test_class"
      ],
      "metadata": {
        "id": "tjN7Eit7AiML",
        "colab": {
          "base_uri": "https://localhost:8080/"
        },
        "outputId": "45068021-b6f7-4218-f5be-c685a2a2ac10"
      },
      "execution_count": 38,
      "outputs": [
        {
          "output_type": "execute_result",
          "data": {
            "text/plain": [
              "array([[0, 0, 0, 0, 0, 0, 1],\n",
              "       [0, 0, 0, 1, 0, 0, 0],\n",
              "       [0, 0, 0, 0, 0, 1, 0],\n",
              "       [0, 0, 0, 0, 1, 0, 0],\n",
              "       [1, 0, 0, 0, 0, 0, 0],\n",
              "       [0, 0, 0, 0, 1, 0, 0],\n",
              "       [0, 0, 0, 0, 0, 1, 0],\n",
              "       [0, 0, 0, 0, 1, 0, 0],\n",
              "       [0, 0, 0, 1, 0, 0, 0],\n",
              "       [0, 0, 0, 0, 0, 0, 1],\n",
              "       [0, 0, 0, 1, 0, 0, 0],\n",
              "       [0, 0, 0, 0, 1, 0, 0],\n",
              "       [1, 0, 0, 0, 0, 0, 0],\n",
              "       [0, 0, 0, 0, 0, 1, 0],\n",
              "       [0, 0, 0, 1, 0, 0, 0],\n",
              "       [1, 0, 0, 0, 0, 0, 0],\n",
              "       [0, 0, 0, 0, 0, 1, 0],\n",
              "       [0, 0, 0, 0, 0, 1, 0],\n",
              "       [0, 0, 1, 0, 0, 0, 0],\n",
              "       [0, 0, 0, 0, 0, 0, 1],\n",
              "       [0, 0, 0, 0, 0, 0, 1],\n",
              "       [1, 0, 0, 0, 0, 0, 0],\n",
              "       [1, 0, 0, 0, 0, 0, 0],\n",
              "       [0, 0, 1, 0, 0, 0, 0],\n",
              "       [0, 0, 0, 0, 0, 1, 0],\n",
              "       [1, 0, 0, 0, 0, 0, 0],\n",
              "       [0, 0, 0, 0, 0, 1, 0],\n",
              "       [1, 0, 0, 0, 0, 0, 0],\n",
              "       [0, 0, 0, 0, 1, 0, 0],\n",
              "       [0, 1, 0, 0, 0, 0, 0],\n",
              "       [0, 0, 0, 1, 0, 0, 0],\n",
              "       [0, 0, 0, 0, 0, 0, 1],\n",
              "       [0, 0, 0, 0, 0, 0, 1],\n",
              "       [0, 0, 0, 0, 0, 1, 0],\n",
              "       [0, 0, 0, 0, 1, 0, 0],\n",
              "       [0, 0, 1, 0, 0, 0, 0],\n",
              "       [0, 0, 0, 0, 0, 1, 0],\n",
              "       [0, 0, 0, 0, 1, 0, 0],\n",
              "       [0, 0, 0, 0, 1, 0, 0],\n",
              "       [0, 0, 0, 0, 0, 1, 0],\n",
              "       [0, 0, 0, 0, 0, 0, 1],\n",
              "       [1, 0, 0, 0, 0, 0, 0],\n",
              "       [0, 1, 0, 0, 0, 0, 0],\n",
              "       [0, 0, 1, 0, 0, 0, 0],\n",
              "       [0, 1, 0, 0, 0, 0, 0],\n",
              "       [0, 1, 0, 0, 0, 0, 0],\n",
              "       [0, 0, 0, 0, 0, 0, 1],\n",
              "       [0, 0, 1, 0, 0, 0, 0],\n",
              "       [0, 0, 0, 0, 0, 0, 1],\n",
              "       [0, 0, 0, 0, 1, 0, 0],\n",
              "       [0, 0, 0, 0, 0, 1, 0],\n",
              "       [0, 0, 0, 0, 0, 0, 1],\n",
              "       [0, 1, 0, 0, 0, 0, 0],\n",
              "       [0, 0, 1, 0, 0, 0, 0],\n",
              "       [0, 0, 0, 0, 0, 1, 0],\n",
              "       [0, 1, 0, 0, 0, 0, 0],\n",
              "       [0, 1, 0, 0, 0, 0, 0],\n",
              "       [0, 0, 0, 0, 1, 0, 0],\n",
              "       [0, 0, 0, 0, 1, 0, 0],\n",
              "       [0, 1, 0, 0, 0, 0, 0],\n",
              "       [0, 0, 0, 0, 0, 0, 1],\n",
              "       [0, 0, 0, 1, 0, 0, 0],\n",
              "       [0, 0, 0, 0, 1, 0, 0],\n",
              "       [0, 0, 1, 0, 0, 0, 0],\n",
              "       [0, 0, 1, 0, 0, 0, 0],\n",
              "       [0, 0, 1, 0, 0, 0, 0],\n",
              "       [0, 0, 0, 0, 1, 0, 0],\n",
              "       [1, 0, 0, 0, 0, 0, 0],\n",
              "       [0, 0, 0, 1, 0, 0, 0],\n",
              "       [0, 0, 0, 0, 0, 0, 1],\n",
              "       [0, 0, 0, 0, 0, 1, 0],\n",
              "       [0, 1, 0, 0, 0, 0, 0],\n",
              "       [0, 0, 1, 0, 0, 0, 0],\n",
              "       [0, 0, 0, 0, 1, 0, 0],\n",
              "       [0, 0, 0, 1, 0, 0, 0],\n",
              "       [1, 0, 0, 0, 0, 0, 0],\n",
              "       [0, 0, 0, 1, 0, 0, 0],\n",
              "       [0, 0, 0, 0, 0, 0, 1],\n",
              "       [0, 0, 1, 0, 0, 0, 0],\n",
              "       [0, 0, 0, 0, 0, 0, 1],\n",
              "       [1, 0, 0, 0, 0, 0, 0],\n",
              "       [0, 0, 0, 0, 1, 0, 0],\n",
              "       [0, 1, 0, 0, 0, 0, 0],\n",
              "       [0, 0, 0, 1, 0, 0, 0],\n",
              "       [0, 0, 0, 0, 0, 0, 1],\n",
              "       [0, 0, 0, 1, 0, 0, 0],\n",
              "       [0, 0, 0, 0, 0, 0, 1],\n",
              "       [0, 0, 0, 0, 1, 0, 0],\n",
              "       [0, 0, 0, 1, 0, 0, 0],\n",
              "       [0, 0, 0, 1, 0, 0, 0],\n",
              "       [0, 0, 1, 0, 0, 0, 0],\n",
              "       [0, 0, 0, 0, 0, 1, 0],\n",
              "       [0, 0, 0, 0, 1, 0, 0],\n",
              "       [0, 1, 0, 0, 0, 0, 0],\n",
              "       [1, 0, 0, 0, 0, 0, 0],\n",
              "       [0, 0, 0, 1, 0, 0, 0],\n",
              "       [0, 0, 1, 0, 0, 0, 0],\n",
              "       [0, 0, 0, 1, 0, 0, 0],\n",
              "       [0, 1, 0, 0, 0, 0, 0],\n",
              "       [1, 0, 0, 0, 0, 0, 0],\n",
              "       [0, 0, 1, 0, 0, 0, 0],\n",
              "       [0, 0, 0, 0, 0, 0, 1],\n",
              "       [0, 0, 0, 0, 0, 1, 0],\n",
              "       [0, 0, 0, 0, 1, 0, 0],\n",
              "       [0, 0, 0, 0, 1, 0, 0],\n",
              "       [0, 0, 0, 1, 0, 0, 0],\n",
              "       [0, 0, 0, 1, 0, 0, 0],\n",
              "       [0, 0, 0, 0, 0, 0, 1],\n",
              "       [0, 0, 0, 0, 1, 0, 0],\n",
              "       [1, 0, 0, 0, 0, 0, 0],\n",
              "       [0, 0, 0, 1, 0, 0, 0],\n",
              "       [0, 0, 0, 0, 1, 0, 0],\n",
              "       [0, 0, 0, 0, 0, 0, 1],\n",
              "       [0, 0, 0, 0, 0, 1, 0],\n",
              "       [0, 0, 0, 1, 0, 0, 0],\n",
              "       [0, 0, 1, 0, 0, 0, 0],\n",
              "       [0, 0, 0, 1, 0, 0, 0],\n",
              "       [0, 1, 0, 0, 0, 0, 0],\n",
              "       [0, 0, 0, 0, 0, 0, 1],\n",
              "       [0, 0, 0, 0, 0, 0, 1],\n",
              "       [0, 1, 0, 0, 0, 0, 0],\n",
              "       [1, 0, 0, 0, 0, 0, 0],\n",
              "       [0, 0, 0, 0, 0, 0, 1]], dtype=int8)"
            ]
          },
          "metadata": {},
          "execution_count": 38
        }
      ]
    },
    {
      "cell_type": "code",
      "source": [
        " np.argmax(y_test_class, axis=1)"
      ],
      "metadata": {
        "id": "2fcK-_HzAmc5",
        "colab": {
          "base_uri": "https://localhost:8080/"
        },
        "outputId": "9431b75b-b596-41f5-c884-a0ab948f37ee"
      },
      "execution_count": 39,
      "outputs": [
        {
          "output_type": "execute_result",
          "data": {
            "text/plain": [
              "array([6, 3, 5, 4, 0, 4, 5, 4, 3, 6, 3, 4, 0, 5, 3, 0, 5, 5, 2, 6, 6, 0,\n",
              "       0, 2, 5, 0, 5, 0, 4, 1, 3, 6, 6, 5, 4, 2, 5, 4, 4, 5, 6, 0, 1, 2,\n",
              "       1, 1, 6, 2, 6, 4, 5, 6, 1, 2, 5, 1, 1, 4, 4, 1, 6, 3, 4, 2, 2, 2,\n",
              "       4, 0, 3, 6, 5, 1, 2, 4, 3, 0, 3, 6, 2, 6, 0, 4, 1, 3, 6, 3, 6, 4,\n",
              "       3, 3, 2, 5, 4, 1, 0, 3, 2, 3, 1, 0, 2, 6, 5, 4, 4, 3, 3, 6, 4, 0,\n",
              "       3, 4, 6, 5, 3, 2, 3, 1, 6, 6, 1, 0, 6])"
            ]
          },
          "metadata": {},
          "execution_count": 39
        }
      ]
    },
    {
      "cell_type": "code",
      "source": [
        "y_test_class = np.argmax(y_test_class, axis=1)\n",
        "predictions_test = model.predict(X_test)\n",
        "y_pred_test_class = np.argmax(predictions_test, axis=1)\n",
        "y_proba_test_class = predictions_test\n",
        "\n"
      ],
      "metadata": {
        "id": "uyXvoU2rAckI"
      },
      "execution_count": 40,
      "outputs": []
    },
    {
      "cell_type": "code",
      "source": [
        "predictions_test"
      ],
      "metadata": {
        "id": "3BAOUaPwAtuY",
        "colab": {
          "base_uri": "https://localhost:8080/"
        },
        "outputId": "ad3e6959-6a97-4f14-bdcd-0188859e199a"
      },
      "execution_count": 41,
      "outputs": [
        {
          "output_type": "execute_result",
          "data": {
            "text/plain": [
              "array([[0.15558672, 0.16627775, 0.11861586, 0.13239549, 0.12389173,\n",
              "        0.14057323, 0.16265914],\n",
              "       [0.0501521 , 0.13006727, 0.17311549, 0.23504141, 0.23012553,\n",
              "        0.12945265, 0.05204551],\n",
              "       [0.15826914, 0.16144949, 0.12389915, 0.12666245, 0.13189718,\n",
              "        0.13977921, 0.15804334],\n",
              "       [0.15884076, 0.15907422, 0.12668522, 0.12454469, 0.13600895,\n",
              "        0.13957863, 0.15526763],\n",
              "       [0.15646096, 0.16501522, 0.11995962, 0.13072044, 0.12595384,\n",
              "        0.14032044, 0.16156952],\n",
              "       [0.14718947, 0.14700538, 0.14517117, 0.125447  , 0.16208833,\n",
              "        0.14155197, 0.13154663],\n",
              "       [0.15292172, 0.16944802, 0.11531943, 0.13714124, 0.11876206,\n",
              "        0.1413336 , 0.16507398],\n",
              "       [0.11225411, 0.14070146, 0.16155711, 0.1526339 , 0.18741412,\n",
              "        0.14494132, 0.10049796],\n",
              "       [0.12394433, 0.1421091 , 0.15737729, 0.14210139, 0.18019244,\n",
              "        0.1443818 , 0.10989363],\n",
              "       [0.15546775, 0.16643807, 0.11844672, 0.13261695, 0.12363093,\n",
              "        0.14060746, 0.16279207],\n",
              "       [0.15358414, 0.16872667, 0.11606187, 0.13599318, 0.11992575,\n",
              "        0.14114556, 0.16456291],\n",
              "       [0.15789959, 0.15422699, 0.13298507, 0.12196782, 0.14506072,\n",
              "        0.13966168, 0.14819805],\n",
              "       [0.15625817, 0.15209407, 0.13613184, 0.12179636, 0.14948475,\n",
              "        0.13995863, 0.1442762 ],\n",
              "       [0.1583889 , 0.16109715, 0.12430295, 0.1263174 , 0.13249773,\n",
              "        0.1397408 , 0.15765509],\n",
              "       [0.15732078, 0.15332866, 0.13427584, 0.12180864, 0.14688136,\n",
              "        0.13976443, 0.14662029],\n",
              "       [0.15212795, 0.14914155, 0.14105056, 0.12300421, 0.1563371 ,\n",
              "        0.14070971, 0.13762887],\n",
              "       [0.15811642, 0.15464038, 0.13240635, 0.12207946, 0.1442413 ,\n",
              "        0.13962461, 0.14889143],\n",
              "       [0.07387807, 0.1361542 , 0.17041449, 0.19753937, 0.2104649 ,\n",
              "        0.14049205, 0.07105695],\n",
              "       [0.0961961 , 0.13900895, 0.16605715, 0.16936085, 0.19680266,\n",
              "        0.14446607, 0.08810822],\n",
              "       [0.15235658, 0.17003794, 0.11471469, 0.13811046, 0.11781082,\n",
              "        0.14149368, 0.16547585],\n",
              "       [0.15722069, 0.15319417, 0.13447319, 0.12179519, 0.14715892,\n",
              "        0.13978252, 0.14637525],\n",
              "       [0.15301247, 0.14963967, 0.1401651 , 0.12265246, 0.15510555,\n",
              "        0.14055166, 0.13887309],\n",
              "       [0.15761727, 0.1629866 , 0.12217068, 0.12828757, 0.12930845,\n",
              "        0.13997959, 0.15964982],\n",
              "       [0.0793534 , 0.13698478, 0.16952898, 0.19003801, 0.2069146 ,\n",
              "        0.1419119 , 0.07526826],\n",
              "       [0.15302967, 0.16933282, 0.11543778, 0.13695516, 0.11894786,\n",
              "        0.141303  , 0.16499382],\n",
              "       [0.12779705, 0.14265752, 0.155789  , 0.13892484, 0.17765443,\n",
              "        0.14405835, 0.11311879],\n",
              "       [0.14192475, 0.17860901, 0.10594212, 0.15557194, 0.10376236,\n",
              "        0.14440143, 0.16978836],\n",
              "       [0.15780294, 0.1625944 , 0.12260692, 0.12785466, 0.12996458,\n",
              "        0.13992351, 0.15925296],\n",
              "       [0.15879995, 0.15937783, 0.12632011, 0.12478738, 0.13547428,\n",
              "        0.13959636, 0.15564406],\n",
              "       [0.12856905, 0.18648326, 0.09712843, 0.17911465, 0.08957597,\n",
              "        0.14793572, 0.17119291],\n",
              "       [0.10615435, 0.14005063, 0.16341816, 0.15866974, 0.19101131,\n",
              "        0.14494874, 0.09574705],\n",
              "       [0.15781854, 0.15408571, 0.13318501, 0.12193505, 0.14534335,\n",
              "        0.13967581, 0.14795649],\n",
              "       [0.1019773 , 0.13961574, 0.1645825 , 0.16302456, 0.19344406,\n",
              "        0.14482583, 0.09252991],\n",
              "       [0.1549913 , 0.16705799, 0.11779552, 0.13349175, 0.12262436,\n",
              "        0.14074416, 0.16329485],\n",
              "       [0.11631059, 0.14115784, 0.16020475, 0.14882678, 0.1849706 ,\n",
              "        0.14482369, 0.10370573],\n",
              "       [0.14887957, 0.1476419 , 0.14388318, 0.12453767, 0.16028455,\n",
              "        0.14127192, 0.13350126],\n",
              "       [0.15015902, 0.17215647, 0.11255516, 0.14182115, 0.11439118,\n",
              "        0.14211352, 0.16680348],\n",
              "       [0.12526889, 0.14229132, 0.15684462, 0.1409927 , 0.17933138,\n",
              "        0.14427786, 0.11099329],\n",
              "       [0.15763816, 0.16294383, 0.12221812, 0.12823974, 0.12937991,\n",
              "        0.1399733 , 0.15960695],\n",
              "       [0.15809959, 0.1618998 , 0.12338741, 0.12711853, 0.13113381,\n",
              "        0.13983247, 0.15852842],\n",
              "       [0.15720126, 0.15316862, 0.13451083, 0.12179296, 0.14721185,\n",
              "        0.13978603, 0.1463284 ],\n",
              "       [0.12322348, 0.14201243, 0.15766163, 0.14271203, 0.18065648,\n",
              "        0.14443512, 0.10929888],\n",
              "       [0.09928343, 0.1393349 , 0.16528888, 0.16593164, 0.19500832,\n",
              "        0.14468683, 0.09046606],\n",
              "       [0.14249021, 0.145562  , 0.14831604, 0.12826   , 0.166538  ,\n",
              "        0.14228252, 0.12655129],\n",
              "       [0.06897151, 0.13528901, 0.17111468, 0.2046164 , 0.21384373,\n",
              "        0.13891844, 0.06724633],\n",
              "       [0.06580786, 0.1346534 , 0.1715218 , 0.20936428, 0.21615265,\n",
              "        0.1377351 , 0.06476486],\n",
              "       [0.15152244, 0.17087197, 0.11386273, 0.13952787, 0.11646581,\n",
              "        0.14172943, 0.16601983],\n",
              "       [0.0795594 , 0.13701376, 0.16949345, 0.18976368, 0.20678465,\n",
              "        0.14195897, 0.07542606],\n",
              "       [0.13934435, 0.14478292, 0.15016036, 0.1303299 , 0.16919243,\n",
              "        0.14272988, 0.12346017],\n",
              "       [0.15808187, 0.1619442 , 0.1233372 , 0.1271644 , 0.13105877,\n",
              "        0.13983795, 0.15857558],\n",
              "       [0.11425117, 0.19270349, 0.08837575, 0.20751967, 0.076004  ,\n",
              "        0.15129428, 0.16985165],\n",
              "       [0.1261036 , 0.18770108, 0.09560156, 0.18373813, 0.08715662,\n",
              "        0.14855272, 0.1711464 ],\n",
              "       [0.08919949, 0.13823508, 0.16764246, 0.17753303, 0.20090842,\n",
              "        0.14370157, 0.08277992],\n",
              "       [0.1224129 , 0.1419057 , 0.15797678, 0.14340481, 0.18117465,\n",
              "        0.14449228, 0.10863298],\n",
              "       [0.11830164, 0.14139235, 0.15950462, 0.14701757, 0.18375026,\n",
              "        0.14473525, 0.10529832],\n",
              "       [0.15063976, 0.14840005, 0.14241798, 0.12366588, 0.15824042,\n",
              "        0.14097102, 0.13566487],\n",
              "       [0.15869811, 0.15626529, 0.13021448, 0.12272984, 0.14111751,\n",
              "        0.1395367 , 0.1514381 ],\n",
              "       [0.1338673 , 0.14366192, 0.15301786, 0.1342254 , 0.17340444,\n",
              "        0.14342393, 0.11839917],\n",
              "       [0.1496857 , 0.1479754 , 0.14322984, 0.12412785, 0.15937224,\n",
              "        0.14113526, 0.13447374],\n",
              "       [0.10663546, 0.14010102, 0.16327849, 0.15817988, 0.19072996,\n",
              "        0.14495598, 0.0961192 ],\n",
              "       [0.13692406, 0.14425623, 0.15147194, 0.13200836, 0.17110835,\n",
              "        0.14305021, 0.12118088],\n",
              "       [0.15671562, 0.1646125 , 0.12039306, 0.13021192, 0.12661524,\n",
              "        0.1402462 , 0.16120547],\n",
              "       [0.1366275 , 0.18202087, 0.10229003, 0.16464488, 0.09785697,\n",
              "        0.14583601, 0.1707238 ],\n",
              "       [0.15381025, 0.15013598, 0.1393073 , 0.12236843, 0.15391237,\n",
              "        0.1404075 , 0.1400582 ],\n",
              "       [0.14746241, 0.14710303, 0.1449699 , 0.1252959 , 0.16180593,\n",
              "        0.14150733, 0.13185538],\n",
              "       [0.09863295, 0.1392667 , 0.16545436, 0.16664541, 0.19538604,\n",
              "        0.14464588, 0.0899687 ],\n",
              "       [0.06164841, 0.13370149, 0.17200772, 0.21583307, 0.21938804,\n",
              "        0.13595556, 0.06146572],\n",
              "       [0.14303067, 0.17783694, 0.10674699, 0.15371023, 0.10506359,\n",
              "        0.14409775, 0.1695138 ],\n",
              "       [0.11343297, 0.14083156, 0.16117398, 0.15151067, 0.18670921,\n",
              "        0.14491603, 0.10142557],\n",
              "       [0.14102864, 0.17921813, 0.10530248, 0.15708755, 0.10272776,\n",
              "        0.14464653, 0.1699889 ],\n",
              "       [0.15110643, 0.14862123, 0.14200363, 0.12345006, 0.15766336,\n",
              "        0.14088975, 0.13626555],\n",
              "       [0.10429803, 0.13985702, 0.16394623, 0.16058244, 0.1920943 ,\n",
              "        0.14490761, 0.09431439],\n",
              "       [0.11116104, 0.14058237, 0.16190535, 0.15368782, 0.18806446,\n",
              "        0.14495808, 0.0996409 ],\n",
              "       [0.1289387 , 0.14283179, 0.1552946 , 0.13801205, 0.17688118,\n",
              "        0.14395042, 0.11409133],\n",
              "       [0.13720566, 0.14431472, 0.15132359, 0.13180947, 0.17089027,\n",
              "        0.14301401, 0.12144229],\n",
              "       [0.15827562, 0.15498686, 0.13192822, 0.12219057, 0.14356267,\n",
              "        0.13959828, 0.14945772],\n",
              "       [0.15887028, 0.1573369 , 0.12883314, 0.12332629, 0.13913047,\n",
              "        0.13952549, 0.15297744],\n",
              "       [0.08757139, 0.13804428, 0.16798149, 0.1795174 , 0.20187803,\n",
              "        0.14346676, 0.08154058],\n",
              "       [0.12294564, 0.14197563, 0.15777016, 0.14294875, 0.18083449,\n",
              "        0.14445505, 0.10907028],\n",
              "       [0.04928985, 0.12971216, 0.17318957, 0.23655474, 0.23108412,\n",
              "        0.12885414, 0.05131548],\n",
              "       [0.14836234, 0.14743868, 0.14428836, 0.12480911, 0.16085117,\n",
              "        0.14135855, 0.13289176],\n",
              "       [0.15471867, 0.1507704 , 0.13824375, 0.1220931 , 0.15243195,\n",
              "        0.14024176, 0.14150034],\n",
              "       [0.14934815, 0.17288153, 0.11181834, 0.14317617, 0.11321706,\n",
              "        0.1423413 , 0.16721745],\n",
              "       [0.07996877, 0.13707097, 0.16942236, 0.18922019, 0.20652707,\n",
              "        0.14205119, 0.07573953],\n",
              "       [0.09023724, 0.13835418, 0.16742057, 0.17628476, 0.20029384,\n",
              "        0.14383957, 0.08356975],\n",
              "       [0.05558776, 0.1320083 , 0.1726271 , 0.22572266, 0.22464207,\n",
              "        0.13284741, 0.05656463],\n",
              "       [0.13225065, 0.14337416, 0.15379182, 0.13543941, 0.17457221,\n",
              "        0.1436072 , 0.11696459],\n",
              "       [0.12781787, 0.14266065, 0.15578009, 0.13890807, 0.17764042,\n",
              "        0.14405644, 0.11313646],\n",
              "       [0.1478332 , 0.17417157, 0.11050703, 0.14569889, 0.11111955,\n",
              "        0.14276552, 0.16790426],\n",
              "       [0.05622927, 0.13220817, 0.17256589, 0.2246501 , 0.22404888,\n",
              "        0.13320808, 0.05708958],\n",
              "       [0.14823824, 0.1473911 , 0.14438409, 0.12487517, 0.16098511,\n",
              "        0.14137922, 0.13274708],\n",
              "       [0.10501253, 0.13993144, 0.16374503, 0.159842  , 0.19167791,\n",
              "        0.14492594, 0.09486521],\n",
              "       [0.14856641, 0.1475179 , 0.14412974, 0.12470124, 0.16062924,\n",
              "        0.14132446, 0.13313097],\n",
              "       [0.15796585, 0.1543474 , 0.1328156 , 0.12199795, 0.14482097,\n",
              "        0.13965026, 0.14840207],\n",
              "       [0.13361122, 0.1436152 , 0.15314236, 0.13441582, 0.17359139,\n",
              "        0.14345363, 0.11817037],\n",
              "       [0.14097664, 0.14517215, 0.14922506, 0.12923926, 0.16784115,\n",
              "        0.14250204, 0.1250437 ],\n",
              "       [0.14953992, 0.17271245, 0.11199016, 0.14285615, 0.11349119,\n",
              "        0.1422875 , 0.16712272],\n",
              "       [0.15628171, 0.15211774, 0.1360953 , 0.12179413, 0.14943363,\n",
              "        0.1399543 , 0.14432321],\n",
              "       [0.15011893, 0.17219293, 0.11251809, 0.14188822, 0.1143322 ,\n",
              "        0.14212479, 0.16682479],\n",
              "       [0.13774672, 0.14442909, 0.15103549, 0.13142994, 0.17046782,\n",
              "        0.14294368, 0.12194722],\n",
              "       [0.15644908, 0.15228987, 0.13583061, 0.12178099, 0.14906323,\n",
              "        0.13992351, 0.14466266],\n",
              "       [0.15569453, 0.15156315, 0.13696256, 0.12187355, 0.15064558,\n",
              "        0.1400624 , 0.14319812],\n",
              "       [0.15058444, 0.17176506, 0.11295318, 0.14110798, 0.11502396,\n",
              "        0.14199382, 0.16657154],\n",
              "       [0.14672297, 0.14684264, 0.14550966, 0.12570876, 0.1625638 ,\n",
              "        0.14162771, 0.13102451],\n",
              "       [0.15717384, 0.16383289, 0.12123957, 0.12926331, 0.12790166,\n",
              "        0.14011161, 0.16047709],\n",
              "       [0.15679973, 0.15267554, 0.13524505, 0.12177037, 0.14824277,\n",
              "        0.13985918, 0.14540724],\n",
              "       [0.15698424, 0.15289436, 0.13491732, 0.12177552, 0.14778289,\n",
              "        0.13982551, 0.14582017],\n",
              "       [0.14915025, 0.14775151, 0.1436669 , 0.1243982 , 0.15998235,\n",
              "        0.14122625, 0.13382462],\n",
              "       [0.14842883, 0.14746436, 0.14423685, 0.12477385, 0.16077907,\n",
              "        0.14134745, 0.13296951],\n",
              "       [0.13657951, 0.14418557, 0.15165204, 0.13225298, 0.17137356,\n",
              "        0.14309406, 0.12086231],\n",
              "       [0.15657438, 0.15242355, 0.13562652, 0.12177441, 0.14877741,\n",
              "        0.1399005 , 0.14492321],\n",
              "       [0.11709362, 0.1412491 , 0.15993237, 0.14811061, 0.18449253,\n",
              "        0.14479125, 0.10433049],\n",
              "       [0.10526884, 0.13995813, 0.16367222, 0.15957767, 0.1915284 ,\n",
              "        0.14493173, 0.09506298],\n",
              "       [0.15807879, 0.15456438, 0.13251205, 0.12205721, 0.14439112,\n",
              "        0.13963096, 0.14876544],\n",
              "       [0.15757859, 0.1537    , 0.1337366 , 0.12186009, 0.14612187,\n",
              "        0.13971819, 0.14728469],\n",
              "       [0.14691877, 0.14691032, 0.14536838, 0.12559836, 0.16236529,\n",
              "        0.141596  , 0.13124283],\n",
              "       [0.14893597, 0.14766455, 0.14383836, 0.12450846, 0.1602219 ,\n",
              "        0.14126243, 0.13356839],\n",
              "       [0.11818966, 0.14137892, 0.15954465, 0.14711826, 0.1838193 ,\n",
              "        0.14474073, 0.1052084 ],\n",
              "       [0.09325761, 0.13869147, 0.16674876, 0.17272408, 0.1985177 ,\n",
              "        0.14419149, 0.08586893],\n",
              "       [0.14805087, 0.14732005, 0.14452752, 0.12497558, 0.16118594,\n",
              "        0.14141035, 0.13252974],\n",
              "       [0.15890148, 0.15797593, 0.12803078, 0.12373975, 0.1379691 ,\n",
              "        0.13953517, 0.15384787],\n",
              "       [0.15224732, 0.14920597, 0.14093459, 0.12295474, 0.15617579,\n",
              "        0.14068851, 0.13779305],\n",
              "       [0.15691671, 0.15281284, 0.13503902, 0.12177267, 0.14795372,\n",
              "        0.13983782, 0.14566715]], dtype=float32)"
            ]
          },
          "metadata": {},
          "execution_count": 41
        }
      ]
    },
    {
      "cell_type": "code",
      "source": [
        "y_pred_test_class "
      ],
      "metadata": {
        "id": "ph-j4nBsAxjT",
        "colab": {
          "base_uri": "https://localhost:8080/"
        },
        "outputId": "3deb1699-d674-4a7d-d3df-ada32a48246f"
      },
      "execution_count": 42,
      "outputs": [
        {
          "output_type": "execute_result",
          "data": {
            "text/plain": [
              "array([1, 3, 1, 1, 1, 4, 1, 4, 4, 1, 1, 0, 0, 1, 0, 4, 0, 4, 4, 1, 0, 4,\n",
              "       1, 4, 1, 4, 1, 1, 1, 1, 4, 0, 4, 1, 4, 4, 1, 4, 1, 1, 0, 4, 4, 4,\n",
              "       4, 4, 1, 4, 4, 1, 3, 1, 4, 4, 4, 4, 0, 4, 4, 4, 4, 1, 1, 4, 4, 4,\n",
              "       4, 1, 4, 1, 4, 4, 4, 4, 4, 0, 0, 4, 4, 3, 4, 0, 1, 4, 4, 3, 4, 4,\n",
              "       1, 3, 4, 4, 4, 0, 4, 4, 1, 0, 1, 4, 0, 0, 1, 4, 1, 0, 0, 4, 4, 4,\n",
              "       0, 4, 4, 0, 0, 4, 4, 4, 4, 4, 0, 4, 0])"
            ]
          },
          "metadata": {},
          "execution_count": 42
        }
      ]
    },
    {
      "cell_type": "markdown",
      "source": [
        "### Test Set Confusion Matrix and Heatmap"
      ],
      "metadata": {
        "id": "Epp2QpxsUVXH"
      }
    },
    {
      "cell_type": "code",
      "source": [
        "# Test set Confusion matrix\n",
        "\n",
        "cm=confusion_matrix(y_test_class, y_pred_test_class)\n",
        "\n",
        "index = ['calm', 'happy', 'sad', 'angry', 'fearful', 'disgust', 'surprised']  \n",
        "columns = ['calm', 'happy', 'sad', 'angry', 'fearful', 'disgust', 'surprised']  \n",
        " \n",
        "cm_df = pd.DataFrame(cm,index,columns)                      \n",
        "plt.figure(figsize=(12,8))\n",
        "ax = plt.axes()\n",
        "\n",
        "sns.heatmap(cm_df, ax = ax, cmap = 'BuGn', fmt=\"d\", annot=True)\n",
        "ax.set_ylabel('True emotion')\n",
        "ax.set_xlabel('Predicted emotion')"
      ],
      "metadata": {
        "id": "ukGrk_cagzyb",
        "colab": {
          "base_uri": "https://localhost:8080/",
          "height": 514
        },
        "outputId": "bfb24837-09ac-4224-c49a-8532c55da950"
      },
      "execution_count": 43,
      "outputs": [
        {
          "output_type": "execute_result",
          "data": {
            "text/plain": [
              "Text(0.5, 51.0, 'Predicted emotion')"
            ]
          },
          "metadata": {},
          "execution_count": 43
        },
        {
          "output_type": "display_data",
          "data": {
            "text/plain": [
              "<Figure size 864x576 with 2 Axes>"
            ],
            "image/png": "[encoded data removed]"
          },
          "metadata": {
            "needs_background": "light"
          }
        }
      ]
    },
    {
      "cell_type": "code",
      "source": [
        "# Confusion Matrix\n",
        "cm"
      ],
      "metadata": {
        "id": "9f51xwUE8haF",
        "colab": {
          "base_uri": "https://localhost:8080/"
        },
        "outputId": "0a5348b7-f82c-449b-81c9-fdc3bc70e76e"
      },
      "execution_count": 44,
      "outputs": [
        {
          "output_type": "execute_result",
          "data": {
            "text/plain": [
              "array([[ 2,  4,  0,  0,  9,  0,  0],\n",
              "       [ 3,  3,  0,  0,  8,  0,  0],\n",
              "       [ 1,  1,  0,  0, 13,  0,  0],\n",
              "       [ 7,  3,  0,  3,  7,  0,  0],\n",
              "       [ 2,  6,  0,  0, 13,  0,  0],\n",
              "       [ 2,  9,  0,  1,  4,  0,  0],\n",
              "       [ 5,  6,  0,  1, 10,  0,  0]])"
            ]
          },
          "metadata": {},
          "execution_count": 44
        }
      ]
    },
    {
      "cell_type": "markdown",
      "source": [
        "### Test Set Predicted emotions accuracy"
      ],
      "metadata": {
        "id": "zil3CkweUX0q"
      }
    },
    {
      "cell_type": "code",
      "source": [
        "# Test set prediction accuracy rates\n",
        "\n",
        "values = cm.diagonal()\n",
        "row_sum = np.sum(cm,axis=1)\n",
        "acc = values / row_sum\n",
        "\n",
        "print('Test set predicted emotions accuracy:')\n",
        "for e in range(0, len(values)):\n",
        "    print(index[e],':', f\"{(acc[e]):0.4f}\")"
      ],
      "metadata": {
        "id": "t_ORyGGig090",
        "colab": {
          "base_uri": "https://localhost:8080/"
        },
        "outputId": "7823e264-2e36-4fad-85ba-ee9199f14f26"
      },
      "execution_count": 45,
      "outputs": [
        {
          "output_type": "stream",
          "name": "stdout",
          "text": [
            "Test set predicted emotions accuracy:\n",
            "calm : 0.1333\n",
            "happy : 0.2143\n",
            "sad : 0.0000\n",
            "angry : 0.1500\n",
            "fearful : 0.6190\n",
            "disgust : 0.0000\n",
            "surprised : 0.0000\n"
          ]
        }
      ]
    },
    {
      "cell_type": "markdown",
      "source": [
        "### Precision, Recal, Fscore"
      ],
      "metadata": {
        "id": "8Hzthv1t8kwd"
      }
    },
    {
      "cell_type": "code",
      "source": [
        "# Validation set precision, recall, fscore\n",
        "\n",
        "precision_recall_fscore_support(y_test_class, y_pred_test_class, average='macro')\n"
      ],
      "metadata": {
        "id": "QnwWoVFnh33F",
        "colab": {
          "base_uri": "https://localhost:8080/"
        },
        "outputId": "a264946b-e61d-46b6-eb61-d8b8ed388bf4"
      },
      "execution_count": 46,
      "outputs": [
        {
          "output_type": "stream",
          "name": "stderr",
          "text": [
            "/usr/local/lib/python3.7/dist-packages/sklearn/metrics/_classification.py:1318: UndefinedMetricWarning: Precision and F-score are ill-defined and being set to 0.0 in labels with no predicted samples. Use `zero_division` parameter to control this behavior.\n",
            "  _warn_prf(average, modifier, msg_start, len(result))\n"
          ]
        },
        {
          "output_type": "execute_result",
          "data": {
            "text/plain": [
              "(0.14111201298701298, 0.15952380952380954, 0.11206074909399717, None)"
            ]
          },
          "metadata": {},
          "execution_count": 46
        }
      ]
    },
    {
      "cell_type": "code",
      "source": [
        "precision_recall_fscore_support(y_test_class, y_pred_test_class, average='weighted')"
      ],
      "metadata": {
        "id": "OlDhuPlqzwVB",
        "colab": {
          "base_uri": "https://localhost:8080/"
        },
        "outputId": "348fcb80-0174-4f3b-9235-3ce8a1425ea8"
      },
      "execution_count": 47,
      "outputs": [
        {
          "output_type": "stream",
          "name": "stderr",
          "text": [
            "/usr/local/lib/python3.7/dist-packages/sklearn/metrics/_classification.py:1318: UndefinedMetricWarning: Precision and F-score are ill-defined and being set to 0.0 in labels with no predicted samples. Use `zero_division` parameter to control this behavior.\n",
            "  _warn_prf(average, modifier, msg_start, len(result))\n"
          ]
        },
        {
          "output_type": "execute_result",
          "data": {
            "text/plain": [
              "(0.1539980598669623, 0.17073170731707318, 0.11927835764152898, None)"
            ]
          },
          "metadata": {},
          "execution_count": 47
        }
      ]
    },
    {
      "cell_type": "markdown",
      "source": [
        "### ROC AUC Score"
      ],
      "metadata": {
        "id": "sEuBd9IyLuiD"
      }
    },
    {
      "cell_type": "code",
      "source": [
        "ravdess_df = pd.read_csv (df_path)"
      ],
      "metadata": {
        "id": "8bb4OSmyTO6v"
      },
      "execution_count": 48,
      "outputs": []
    },
    {
      "cell_type": "code",
      "source": [
        "labels = [\"calm\", \"happy\", \"sad\", \"angry\", \"fear\", \"disgust\", \"suprised\"]"
      ],
      "metadata": {
        "id": "1leZ4JGVTfTp"
      },
      "execution_count": 49,
      "outputs": []
    },
    {
      "cell_type": "code",
      "source": [
        "y_test_adj = y_test.reshape(-1,)"
      ],
      "metadata": {
        "id": "MRm1ZwnxFStc"
      },
      "execution_count": 50,
      "outputs": []
    },
    {
      "cell_type": "code",
      "source": [
        "y_proba_test_class.shape"
      ],
      "metadata": {
        "id": "O-IcYOABFjxB",
        "colab": {
          "base_uri": "https://localhost:8080/"
        },
        "outputId": "cfaa0df2-c634-441a-c264-2523b89366d1"
      },
      "execution_count": 51,
      "outputs": [
        {
          "output_type": "execute_result",
          "data": {
            "text/plain": [
              "(123, 7)"
            ]
          },
          "metadata": {},
          "execution_count": 51
        }
      ]
    },
    {
      "cell_type": "code",
      "source": [
        "y_test.shape"
      ],
      "metadata": {
        "id": "9AaqUY3PIlMQ",
        "colab": {
          "base_uri": "https://localhost:8080/"
        },
        "outputId": "b7bcf0ff-2dba-4574-b0a5-03396843b11b"
      },
      "execution_count": 52,
      "outputs": [
        {
          "output_type": "execute_result",
          "data": {
            "text/plain": [
              "(123, 1)"
            ]
          },
          "metadata": {},
          "execution_count": 52
        }
      ]
    },
    {
      "cell_type": "code",
      "source": [
        "y_test_adj"
      ],
      "metadata": {
        "id": "7LgDudYTKInS",
        "colab": {
          "base_uri": "https://localhost:8080/"
        },
        "outputId": "71a7b640-3031-48f5-e747-eaf856a23e06"
      },
      "execution_count": 53,
      "outputs": [
        {
          "output_type": "execute_result",
          "data": {
            "text/plain": [
              "array([6, 3, 5, 4, 0, 4, 5, 4, 3, 6, 3, 4, 0, 5, 3, 0, 5, 5, 2, 6, 6, 0,\n",
              "       0, 2, 5, 0, 5, 0, 4, 1, 3, 6, 6, 5, 4, 2, 5, 4, 4, 5, 6, 0, 1, 2,\n",
              "       1, 1, 6, 2, 6, 4, 5, 6, 1, 2, 5, 1, 1, 4, 4, 1, 6, 3, 4, 2, 2, 2,\n",
              "       4, 0, 3, 6, 5, 1, 2, 4, 3, 0, 3, 6, 2, 6, 0, 4, 1, 3, 6, 3, 6, 4,\n",
              "       3, 3, 2, 5, 4, 1, 0, 3, 2, 3, 1, 0, 2, 6, 5, 4, 4, 3, 3, 6, 4, 0,\n",
              "       3, 4, 6, 5, 3, 2, 3, 1, 6, 6, 1, 0, 6], dtype=int8)"
            ]
          },
          "metadata": {},
          "execution_count": 53
        }
      ]
    },
    {
      "cell_type": "code",
      "source": [
        "\n",
        "\n",
        "macro_roc_auc_ovo = roc_auc_score(y_test_adj, y_proba_test_class, multi_class=\"ovo\", average=\"macro\")\n",
        "weighted_roc_auc_ovo = roc_auc_score(\n",
        "    y_test_adj, y_proba_test_class, multi_class=\"ovo\", average=\"weighted\"\n",
        ")\n",
        "macro_roc_auc_ovr = roc_auc_score(y_test_adj, y_proba_test_class, multi_class=\"ovr\", average=\"macro\")\n",
        "weighted_roc_auc_ovr = roc_auc_score(\n",
        "    y_test_adj, y_proba_test_class, multi_class=\"ovr\", average=\"weighted\"\n",
        ")\n"
      ],
      "metadata": {
        "id": "oMa4N8EhHlY9"
      },
      "execution_count": 54,
      "outputs": []
    },
    {
      "cell_type": "code",
      "source": [
        "print(\"One-vs-One ROC AUC scores:\\n{:.6f} (macro),\\n{:.6f} \" \"(weighted by prevalence)\\n\".format(macro_roc_auc_ovo, weighted_roc_auc_ovo))\n",
        "print(\"One-vs-Rest ROC AUC scores:\\n{:.6f} (macro),\\n{:.6f} \" \"(weighted by prevalence)\".format(macro_roc_auc_ovr, weighted_roc_auc_ovr))"
      ],
      "metadata": {
        "id": "hhBLwtO_ICqL",
        "colab": {
          "base_uri": "https://localhost:8080/"
        },
        "outputId": "bb895723-0166-4a5b-98d0-fe32c5bdfaae"
      },
      "execution_count": 55,
      "outputs": [
        {
          "output_type": "stream",
          "name": "stdout",
          "text": [
            "One-vs-One ROC AUC scores:\n",
            "0.523322 (macro),\n",
            "0.521817 (weighted by prevalence)\n",
            "\n",
            "One-vs-Rest ROC AUC scores:\n",
            "0.523713 (macro),\n",
            "0.519791 (weighted by prevalence)\n"
          ]
        }
      ]
    }
  ]
}