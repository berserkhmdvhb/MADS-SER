{
  "metadata": {
    "kernelspec": {
      "language": "python",
      "display_name": "Python 3",
      "name": "python3"
    },
    "language_info": {
      "pygments_lexer": "ipython3",
      "nbconvert_exporter": "python",
      "version": "3.6.4",
      "file_extension": ".py",
      "codemirror_mode": {
        "name": "ipython",
        "version": 3
      },
      "name": "python",
      "mimetype": "text/x-python"
    },
    "colab": {
      "name": "SER-RAVDESS-model-LSTM-OS-128-SOLE.ipynb",
      "provenance": [],
      "collapsed_sections": []
    }
  },
  "nbformat_minor": 0,
  "nbformat": 4,
  "cells": [
    {
      "cell_type": "markdown",
      "source": [
        "# Imports"
      ],
      "metadata": {
        "id": "anSyerIFN7qd"
      }
    },
    {
      "cell_type": "code",
      "source": [
        "# Importing Libraries"
      ],
      "metadata": {
        "id": "IMFSwIuvKiw2"
      },
      "execution_count": 17,
      "outputs": []
    },
    {
      "cell_type": "code",
      "source": [
        "!pip install json-tricks"
      ],
      "metadata": {
        "colab": {
          "base_uri": "https://localhost:8080/"
        },
        "id": "bBR8aNsmM2tR",
        "outputId": "70c0e58d-b465-4cca-c11b-befbae367ef8"
      },
      "execution_count": 18,
      "outputs": [
        {
          "output_type": "stream",
          "name": "stdout",
          "text": [
            "Looking in indexes: https://pypi.org/simple, https://us-python.pkg.dev/colab-wheels/public/simple/\n",
            "Requirement already satisfied: json-tricks in /usr/local/lib/python3.7/dist-packages (3.15.5)\n"
          ]
        }
      ]
    },
    {
      "cell_type": "code",
      "source": [
        "import pandas as pd\n",
        "import numpy as np\n",
        "\n",
        "import os\n",
        "import sys\n",
        "\n",
        "import librosa\n",
        "import librosa.display\n",
        "#from pydub import AudioSegment, effects\n",
        "#import noisereduce as nr\n",
        "\n",
        "\n",
        "import seaborn as sns\n",
        "import matplotlib.pyplot as plt\n",
        "from IPython.display import Audio\n",
        "\n",
        "import tensorflow as tf\n",
        "import keras\n",
        "import sklearn\n",
        "\n",
        "\n",
        "from tensorflow.keras.models import Sequential, Model\n",
        "from tensorflow.keras.layers import Dense, LSTM, Flatten, Dropout, BatchNormalization\n",
        "from tensorflow.keras.callbacks import ModelCheckpoint, EarlyStopping, ReduceLROnPlateau\n",
        "from tensorflow.keras.optimizers import Adam, SGD\n",
        "from tensorflow.keras.utils import to_categorical, plot_model\n",
        "\n",
        "\n",
        "from keras.models import Sequential, model_from_json, load_model\n",
        "from keras import layers\n",
        "from keras import optimizers\n",
        "from keras import callbacks\n",
        "\n",
        "from sklearn.preprocessing import StandardScaler, OneHotEncoder, LabelEncoder\n",
        "from sklearn.metrics import confusion_matrix, classification_report, precision_recall_fscore_support, roc_auc_score\n",
        "from sklearn.model_selection import train_test_split, StratifiedShuffleSplit\n",
        "from sklearn.multiclass import OneVsRestClassifier\n",
        "\n",
        "\n",
        "from tqdm import tqdm\n",
        "\n",
        "\n",
        "from json_tricks import dump, load\n",
        "\n",
        "\n",
        "\n",
        "import warnings\n",
        "if not sys.warnoptions:\n",
        "    warnings.simplefilter(\"ignore\")\n",
        "warnings.filterwarnings(\"ignore\", category=DeprecationWarning) \n",
        "\n",
        "import time\n",
        "tic = time.perf_counter()\n",
        "\n"
      ],
      "metadata": {
        "id": "77IS8HxqFFCA"
      },
      "execution_count": 19,
      "outputs": []
    },
    {
      "cell_type": "code",
      "source": [
        ""
      ],
      "metadata": {
        "id": "gGYqBIk0FGm4"
      },
      "execution_count": 19,
      "outputs": []
    },
    {
      "cell_type": "markdown",
      "source": [
        "# Dataset"
      ],
      "metadata": {
        "id": "nyMzoZKKKiw6"
      }
    },
    {
      "cell_type": "code",
      "source": [
        "from google.colab import drive\n",
        "drive.mount('/content/drive')"
      ],
      "metadata": {
        "colab": {
          "base_uri": "https://localhost:8080/"
        },
        "id": "JFPDGXmwCBs_",
        "outputId": "53d7d5c9-3387-42d4-b3bc-277ebd5bc68d"
      },
      "execution_count": 20,
      "outputs": [
        {
          "output_type": "stream",
          "name": "stdout",
          "text": [
            "Drive already mounted at /content/drive; to attempt to forcibly remount, call drive.mount(\"/content/drive\", force_remount=True).\n"
          ]
        }
      ]
    },
    {
      "cell_type": "code",
      "source": [
        "#Crema = \"/content/drive/MyDrive/datasets/speech/CREMAD/sample/\"\n",
        "#Crema = \"/content/drive/MyDrive/datasets/speech/CREMAD/AudioWAV/\"\n",
        "Ravdess = \"/content/drive/MyDrive/datasets/speech/RAVDESS/data/Audio_Speech_Actors_01-24\"\n",
        "Ravdess_processed = \"/content/drive/MyDrive/datasets/speech/RAVDESS/processedData/onlySpeech/\"\n",
        "Ravdess_speech_sample = \"/content/drive/MyDrive/datasets/speech/RAVDESS/data/Audio_Speech_Actors_01-24/\"\n",
        "df_path = \"/content/drive/MyDrive/datasets/speech/RAVDESS/ravdess_df_onlySpeech.csv\"\n",
        "model_path = Ravdess + \"/model/\"\n",
        "\n",
        "checkpoint_path = model_path + \"best_weights-os-LSTM-MFCC_MEL.hdf5\"\n",
        "saved_model_path = model_path + 'model8723-os-GRU-MFCC_MEL.json'\n",
        "\n",
        "saved_weights_path = model_path + 'model8723_weights-os-GRU-MFCC_MEL.h5'\n",
        "saved_model_path_2 = model_path + 'Speech-Emotion-Recognition-Model-os-GRU-MFCC_MEL.h5'"
      ],
      "metadata": {
        "execution": {
          "iopub.status.busy": "2021-06-21T09:35:38.093538Z",
          "iopub.execute_input": "2021-06-21T09:35:38.093869Z",
          "iopub.status.idle": "2021-06-21T09:35:38.097467Z",
          "shell.execute_reply.started": "2021-06-21T09:35:38.093838Z",
          "shell.execute_reply": "2021-06-21T09:35:38.096608Z"
        },
        "trusted": true,
        "id": "vR2GjHL4Kiw7"
      },
      "execution_count": 21,
      "outputs": []
    },
    {
      "cell_type": "code",
      "source": [
        ""
      ],
      "metadata": {
        "id": "J2T6JxzIF2Jq"
      },
      "execution_count": 21,
      "outputs": []
    },
    {
      "cell_type": "code",
      "source": [
        "##Hypter Parameters' Range\n",
        "params = {\n",
        "    \"batch_size\": 20,  # 20<16<10, 25 was a bust\n",
        "    \"epochs\": 300,\n",
        "    \"lr\": 0.00010000,\n",
        "    \"time_steps\": 60\n",
        "}\n",
        "#TIME_STEPS = params[\"time_steps\"]\n",
        "#BATCH_SIZE = params[\"batch_size\"]\n",
        "#iter_changes = \"dropout_layers_0.4_0.4\"\n"
      ],
      "metadata": {
        "id": "jnEd5_Vvy4ue"
      },
      "execution_count": 22,
      "outputs": []
    },
    {
      "cell_type": "code",
      "source": [
        ""
      ],
      "metadata": {
        "id": "dKXM0xT-N8uy"
      },
      "execution_count": 22,
      "outputs": []
    },
    {
      "cell_type": "markdown",
      "source": [
        "# Load Processed Files, Construct Train, Validation and Test Sets"
      ],
      "metadata": {
        "id": "fse_mTpaOGdQ"
      }
    },
    {
      "cell_type": "code",
      "source": [
        "\n",
        "processed_path = Ravdess_processed\n",
        "x_path = processed_path + \"X_features_MFCC.json\" # FILE LOAD PATH\n",
        "y_path =  processed_path + \"Y_labels.json\" # FILE SAVE PATH\n",
        "#x_path = '/content/drive/MyDrive/datasets/speech/RAVDESS/processedData/X_features.json'\n",
        "\n",
        "# Load X,Y json files back into lists, convert to np.arrays\n",
        "\n",
        "X = load(x_path)\n",
        "X = np.asarray(X, dtype = 'float32')\n",
        "\n",
        "Y = load(y_path)\n",
        "Y = np.asarray(Y, dtype = 'int8')"
      ],
      "metadata": {
        "id": "101BpvWgN8xX"
      },
      "execution_count": 23,
      "outputs": []
    },
    {
      "cell_type": "code",
      "source": [
        "# Split to train, validation, and test sets.\n",
        "from sklearn.model_selection import train_test_split\n",
        "# 1st Split: X,Y => (x_train, x_tosplit) (y_train, y_tosplit)\n",
        "x_train, x_tosplit, y_train, y_tosplit = train_test_split(X, Y, test_size = 0.30, random_state = 1)\n",
        "# 2nd Split: x_tosplit,y_tosplit => (x_val, x_test) (y_val, y_test) \n",
        "x_val, x_test, y_val, y_test = train_test_split(x_tosplit, y_tosplit, test_size = 0.304, random_state = 1)\n",
        "#'One-hot' vectors for Y: emotion classification\n",
        "y_train_class = tf.keras.utils.to_categorical(y_train, 7, dtype = 'int8')\n",
        "y_val_class = tf.keras.utils.to_categorical(y_val, 7, dtype = 'int8')"
      ],
      "metadata": {
        "id": "CuF9M1mfOD7X"
      },
      "execution_count": 24,
      "outputs": []
    },
    {
      "cell_type": "code",
      "source": [
        ""
      ],
      "metadata": {
        "id": "zUxc6v1Fc_ru"
      },
      "execution_count": 24,
      "outputs": []
    },
    {
      "cell_type": "code",
      "source": [
        "# x_train, x_val, and x_test shape check.\n",
        "print(np.shape(x_train))\n",
        "print(np.shape(x_val))\n",
        "print(np.shape(x_test))"
      ],
      "metadata": {
        "colab": {
          "base_uri": "https://localhost:8080/"
        },
        "id": "od-D1YgBOGXs",
        "outputId": "69f4aded-cfed-4345-ff3c-72d5b14c2110"
      },
      "execution_count": 25,
      "outputs": [
        {
          "output_type": "stream",
          "name": "stdout",
          "text": [
            "(940, 448, 13)\n",
            "(281, 448, 13)\n",
            "(123, 448, 13)\n"
          ]
        }
      ]
    },
    {
      "cell_type": "code",
      "source": [
        "# Save x_test, y_test to JSON.\n",
        "\n",
        "x_test_path = processed_path + 'x_test_data.json'\n",
        "dump(obj = x_test, fp = x_test_path)\n",
        "\n",
        "y_test_path = processed_path + 'y_test_data.json'\n",
        "dump(obj = y_test, fp = y_test_path)"
      ],
      "metadata": {
        "colab": {
          "base_uri": "https://localhost:8080/",
          "height": 105
        },
        "id": "nTExHJVsOHQ5",
        "outputId": "ddde2dee-3382-4eaa-f741-558276a6b82a"
      },
      "execution_count": 26,
      "outputs": [
        {
          "output_type": "execute_result",
          "data": {
            "text/plain": [
              "'{\"__ndarray__\": [[6], [3], [5], [4], [0], [4], [5], [4], [3], [6], [3], [4], [0], [5], [3], [0], [5], [5], [2], [6], [6], [0], [0], [2], [5], [0], [5], [0], [4], [1], [3], [6], [6], [5], [4], [2], [5], [4], [4], [5], [6], [0], [1], [2], [1], [1], [6], [2], [6], [4], [5], [6], [1], [2], [5], [1], [1], [4], [4], [1], [6], [3], [4], [2], [2], [2], [4], [0], [3], [6], [5], [1], [2], [4], [3], [0], [3], [6], [2], [6], [0], [4], [1], [3], [6], [3], [6], [4], [3], [3], [2], [5], [4], [1], [0], [3], [2], [3], [1], [0], [2], [6], [5], [4], [4], [3], [3], [6], [4], [0], [3], [4], [6], [5], [3], [2], [3], [1], [6], [6], [1], [0], [6]], \"dtype\": \"int8\", \"shape\": [123, 1], \"Corder\": true}'"
            ],
            "application/vnd.google.colaboratory.intrinsic+json": {
              "type": "string"
            }
          },
          "metadata": {},
          "execution_count": 26
        }
      ]
    },
    {
      "cell_type": "code",
      "source": [
        "# Loading x_test, y_test json files, and converting to np.arrays\n",
        "\n",
        "x_test = load(processed_path + 'x_test_data.json')\n",
        "x_test = np.asarray(x_test).astype('float32')\n",
        "\n",
        "y_test = load(processed_path + 'y_test_data.json')\n",
        "y_test = np.asarray(y_test).astype('int8')\n",
        "\n",
        "y_test_class = tf.keras.utils.to_categorical(y_test, 7, dtype = 'int8')"
      ],
      "metadata": {
        "id": "kAFBRsmk5dzm"
      },
      "execution_count": 27,
      "outputs": []
    },
    {
      "cell_type": "code",
      "source": [
        "X.shape"
      ],
      "metadata": {
        "id": "15joCR4gu4r7",
        "colab": {
          "base_uri": "https://localhost:8080/"
        },
        "outputId": "91c95613-c0aa-4664-a661-1f0400b28bff"
      },
      "execution_count": 28,
      "outputs": [
        {
          "output_type": "execute_result",
          "data": {
            "text/plain": [
              "(1344, 448, 13)"
            ]
          },
          "metadata": {},
          "execution_count": 28
        }
      ]
    },
    {
      "cell_type": "code",
      "source": [
        "X.shape[1:3]"
      ],
      "metadata": {
        "colab": {
          "base_uri": "https://localhost:8080/"
        },
        "id": "8MQhoPKjEzi4",
        "outputId": "3748c553-a96e-4f6e-8864-4114ccb0c175"
      },
      "execution_count": 29,
      "outputs": [
        {
          "output_type": "execute_result",
          "data": {
            "text/plain": [
              "(448, 13)"
            ]
          },
          "metadata": {},
          "execution_count": 29
        }
      ]
    },
    {
      "cell_type": "markdown",
      "source": [
        "# RNN Model"
      ],
      "metadata": {
        "id": "gnWVMbR6KixC"
      }
    },
    {
      "cell_type": "code",
      "source": [
        "tic"
      ],
      "metadata": {
        "colab": {
          "base_uri": "https://localhost:8080/"
        },
        "id": "7CHZWdfcN8oo",
        "outputId": "d618f078-bf90-4724-9412-7684438624ef"
      },
      "execution_count": 30,
      "outputs": [
        {
          "output_type": "execute_result",
          "data": {
            "text/plain": [
              "1232.29553492"
            ]
          },
          "metadata": {},
          "execution_count": 30
        }
      ]
    },
    {
      "cell_type": "markdown",
      "source": [
        "## Define Model & Training"
      ],
      "metadata": {
        "id": "GJjJYnJQORJ8"
      }
    },
    {
      "cell_type": "code",
      "source": [
        "# Initializing the model\n",
        "\n",
        "model = Sequential()\n",
        "model.add(layers.LSTM(128, return_sequences = True, input_shape=(X.shape[1:3])))\n",
        "model.add(layers.LSTM(64))\n",
        "#model.add(Dropout(0.05))\n",
        "model.add(layers.Dense(7, activation = 'softmax'))\n",
        "print(model.summary())\n",
        "\n",
        "batch_size = 23\n",
        "\n",
        "# Callbacks functions\n",
        "\n",
        "#-> EearlyStopping\n",
        "es = EarlyStopping(monitor='val_loss', mode='min', verbose=1,\n",
        "                    patience=10, min_delta=0.0001)\n",
        "\n",
        "\n",
        "#-> Save the best weights\n",
        "mcp_save = callbacks.ModelCheckpoint(checkpoint_path, save_best_only=True,\n",
        "                           monitor='val_categorical_accuracy',\n",
        "                           mode='max')\n",
        "#-> Reduce learning rate after 100 epoches without improvement.\n",
        "rlrop = callbacks.ReduceLROnPlateau(monitor='val_categorical_accuracy', \n",
        "                                    factor=0.1, patience=20)\n",
        "                             \n",
        "# Compile & train   \n",
        "model.compile(loss='categorical_crossentropy', \n",
        "                optimizer='RMSProp', \n",
        "                metrics=['categorical_accuracy'])\n",
        "\n",
        "\n"
      ],
      "metadata": {
        "colab": {
          "base_uri": "https://localhost:8080/"
        },
        "id": "aD2adyVGOJs4",
        "outputId": "70445136-d73d-4f17-8fb7-fc85f69ae73a"
      },
      "execution_count": 31,
      "outputs": [
        {
          "output_type": "stream",
          "name": "stdout",
          "text": [
            "Model: \"sequential_1\"\n",
            "_________________________________________________________________\n",
            " Layer (type)                Output Shape              Param #   \n",
            "=================================================================\n",
            " lstm_2 (LSTM)               (None, 448, 128)          72704     \n",
            "                                                                 \n",
            " lstm_3 (LSTM)               (None, 64)                49408     \n",
            "                                                                 \n",
            " dense_1 (Dense)             (None, 7)                 455       \n",
            "                                                                 \n",
            "=================================================================\n",
            "Total params: 122,567\n",
            "Trainable params: 122,567\n",
            "Non-trainable params: 0\n",
            "_________________________________________________________________\n",
            "None\n"
          ]
        }
      ]
    },
    {
      "cell_type": "code",
      "source": [
        "history = model.fit(x_train, y_train_class, \n",
        "                      epochs=340, batch_size = batch_size, \n",
        "                      validation_data = (x_val, y_val_class), \n",
        "                      callbacks = [es, mcp_save, rlrop])\n",
        "toc = time.perf_counter()"
      ],
      "metadata": {
        "colab": {
          "base_uri": "https://localhost:8080/"
        },
        "id": "Da7Gc9x_izth",
        "outputId": "b87adcde-105b-45b7-a2d8-e030dd82f84f"
      },
      "execution_count": 32,
      "outputs": [
        {
          "output_type": "stream",
          "name": "stdout",
          "text": [
            "Epoch 1/340\n",
            "41/41 [==============================] - 36s 779ms/step - loss: 1.9668 - categorical_accuracy: 0.1340 - val_loss: 1.9216 - val_categorical_accuracy: 0.1708 - lr: 0.0010\n",
            "Epoch 2/340\n",
            "41/41 [==============================] - 30s 734ms/step - loss: 1.9016 - categorical_accuracy: 0.2085 - val_loss: 1.8295 - val_categorical_accuracy: 0.2918 - lr: 0.0010\n",
            "Epoch 3/340\n",
            "41/41 [==============================] - 31s 747ms/step - loss: 1.8547 - categorical_accuracy: 0.2330 - val_loss: 1.8317 - val_categorical_accuracy: 0.2384 - lr: 0.0010\n",
            "Epoch 4/340\n",
            "41/41 [==============================] - 30s 721ms/step - loss: 1.7909 - categorical_accuracy: 0.2755 - val_loss: 1.8356 - val_categorical_accuracy: 0.2883 - lr: 0.0010\n",
            "Epoch 5/340\n",
            "41/41 [==============================] - 32s 786ms/step - loss: 1.7606 - categorical_accuracy: 0.2883 - val_loss: 1.7391 - val_categorical_accuracy: 0.3203 - lr: 0.0010\n",
            "Epoch 6/340\n",
            "41/41 [==============================] - 30s 736ms/step - loss: 1.7498 - categorical_accuracy: 0.2851 - val_loss: 1.8681 - val_categorical_accuracy: 0.2562 - lr: 0.0010\n",
            "Epoch 7/340\n",
            "41/41 [==============================] - 31s 756ms/step - loss: 1.7003 - categorical_accuracy: 0.3128 - val_loss: 1.7044 - val_categorical_accuracy: 0.3274 - lr: 0.0010\n",
            "Epoch 8/340\n",
            "41/41 [==============================] - 30s 726ms/step - loss: 1.6632 - categorical_accuracy: 0.3340 - val_loss: 1.7493 - val_categorical_accuracy: 0.2954 - lr: 0.0010\n",
            "Epoch 9/340\n",
            "41/41 [==============================] - 30s 730ms/step - loss: 1.6406 - categorical_accuracy: 0.3468 - val_loss: 1.6696 - val_categorical_accuracy: 0.3594 - lr: 0.0010\n",
            "Epoch 10/340\n",
            "41/41 [==============================] - 55s 1s/step - loss: 1.6205 - categorical_accuracy: 0.3723 - val_loss: 1.7061 - val_categorical_accuracy: 0.3345 - lr: 0.0010\n",
            "Epoch 11/340\n",
            "41/41 [==============================] - 37s 890ms/step - loss: 1.6127 - categorical_accuracy: 0.3596 - val_loss: 1.6399 - val_categorical_accuracy: 0.3701 - lr: 0.0010\n",
            "Epoch 12/340\n",
            "41/41 [==============================] - 31s 744ms/step - loss: 1.5954 - categorical_accuracy: 0.3883 - val_loss: 1.7888 - val_categorical_accuracy: 0.3345 - lr: 0.0010\n",
            "Epoch 13/340\n",
            "41/41 [==============================] - 36s 890ms/step - loss: 1.5991 - categorical_accuracy: 0.3670 - val_loss: 1.6439 - val_categorical_accuracy: 0.3381 - lr: 0.0010\n",
            "Epoch 14/340\n",
            "41/41 [==============================] - 30s 740ms/step - loss: 1.5761 - categorical_accuracy: 0.3851 - val_loss: 1.6554 - val_categorical_accuracy: 0.3701 - lr: 0.0010\n",
            "Epoch 15/340\n",
            "41/41 [==============================] - 30s 733ms/step - loss: 1.5843 - categorical_accuracy: 0.3777 - val_loss: 1.6369 - val_categorical_accuracy: 0.3381 - lr: 0.0010\n",
            "Epoch 16/340\n",
            "41/41 [==============================] - 31s 757ms/step - loss: 1.5281 - categorical_accuracy: 0.4000 - val_loss: 1.5898 - val_categorical_accuracy: 0.3772 - lr: 0.0010\n",
            "Epoch 17/340\n",
            "41/41 [==============================] - 30s 740ms/step - loss: 1.5330 - categorical_accuracy: 0.4138 - val_loss: 1.6159 - val_categorical_accuracy: 0.3452 - lr: 0.0010\n",
            "Epoch 18/340\n",
            "41/41 [==============================] - 30s 732ms/step - loss: 1.5234 - categorical_accuracy: 0.4021 - val_loss: 1.6137 - val_categorical_accuracy: 0.3772 - lr: 0.0010\n",
            "Epoch 19/340\n",
            "41/41 [==============================] - 30s 738ms/step - loss: 1.4995 - categorical_accuracy: 0.4160 - val_loss: 1.6644 - val_categorical_accuracy: 0.3310 - lr: 0.0010\n",
            "Epoch 20/340\n",
            "41/41 [==============================] - 31s 757ms/step - loss: 1.4878 - categorical_accuracy: 0.4287 - val_loss: 1.5559 - val_categorical_accuracy: 0.3915 - lr: 0.0010\n",
            "Epoch 21/340\n",
            "41/41 [==============================] - 30s 739ms/step - loss: 1.4938 - categorical_accuracy: 0.4160 - val_loss: 1.6680 - val_categorical_accuracy: 0.3523 - lr: 0.0010\n",
            "Epoch 22/340\n",
            "41/41 [==============================] - 30s 737ms/step - loss: 1.4739 - categorical_accuracy: 0.4330 - val_loss: 1.6665 - val_categorical_accuracy: 0.3701 - lr: 0.0010\n",
            "Epoch 23/340\n",
            "41/41 [==============================] - 32s 779ms/step - loss: 1.4621 - categorical_accuracy: 0.4383 - val_loss: 1.6467 - val_categorical_accuracy: 0.3808 - lr: 0.0010\n",
            "Epoch 24/340\n",
            "41/41 [==============================] - 30s 736ms/step - loss: 1.4633 - categorical_accuracy: 0.4415 - val_loss: 1.5250 - val_categorical_accuracy: 0.4306 - lr: 0.0010\n",
            "Epoch 25/340\n",
            "41/41 [==============================] - 30s 733ms/step - loss: 1.4541 - categorical_accuracy: 0.4543 - val_loss: 1.6171 - val_categorical_accuracy: 0.3488 - lr: 0.0010\n",
            "Epoch 26/340\n",
            "41/41 [==============================] - 30s 736ms/step - loss: 1.4040 - categorical_accuracy: 0.4468 - val_loss: 1.5589 - val_categorical_accuracy: 0.4413 - lr: 0.0010\n",
            "Epoch 27/340\n",
            "41/41 [==============================] - 29s 720ms/step - loss: 1.4167 - categorical_accuracy: 0.4521 - val_loss: 1.5316 - val_categorical_accuracy: 0.4270 - lr: 0.0010\n",
            "Epoch 28/340\n",
            "41/41 [==============================] - 30s 734ms/step - loss: 1.3979 - categorical_accuracy: 0.4819 - val_loss: 1.5579 - val_categorical_accuracy: 0.4021 - lr: 0.0010\n",
            "Epoch 29/340\n",
            "41/41 [==============================] - 30s 729ms/step - loss: 1.3543 - categorical_accuracy: 0.4883 - val_loss: 1.5883 - val_categorical_accuracy: 0.3665 - lr: 0.0010\n",
            "Epoch 30/340\n",
            "41/41 [==============================] - 30s 734ms/step - loss: 1.3480 - categorical_accuracy: 0.4830 - val_loss: 1.5411 - val_categorical_accuracy: 0.3772 - lr: 0.0010\n",
            "Epoch 31/340\n",
            "41/41 [==============================] - 30s 723ms/step - loss: 1.3073 - categorical_accuracy: 0.4968 - val_loss: 1.5217 - val_categorical_accuracy: 0.4128 - lr: 0.0010\n",
            "Epoch 32/340\n",
            "41/41 [==============================] - 30s 738ms/step - loss: 1.3204 - categorical_accuracy: 0.4957 - val_loss: 1.4717 - val_categorical_accuracy: 0.4270 - lr: 0.0010\n",
            "Epoch 33/340\n",
            "41/41 [==============================] - 31s 761ms/step - loss: 1.3090 - categorical_accuracy: 0.4883 - val_loss: 1.4539 - val_categorical_accuracy: 0.4342 - lr: 0.0010\n",
            "Epoch 34/340\n",
            "41/41 [==============================] - 30s 743ms/step - loss: 1.3105 - categorical_accuracy: 0.5053 - val_loss: 1.4376 - val_categorical_accuracy: 0.4733 - lr: 0.0010\n",
            "Epoch 35/340\n",
            "41/41 [==============================] - 30s 728ms/step - loss: 1.2651 - categorical_accuracy: 0.5128 - val_loss: 1.5672 - val_categorical_accuracy: 0.3986 - lr: 0.0010\n",
            "Epoch 36/340\n",
            "41/41 [==============================] - 30s 727ms/step - loss: 1.2725 - categorical_accuracy: 0.5138 - val_loss: 1.5115 - val_categorical_accuracy: 0.4164 - lr: 0.0010\n",
            "Epoch 37/340\n",
            "41/41 [==============================] - 30s 726ms/step - loss: 1.2281 - categorical_accuracy: 0.5426 - val_loss: 1.6711 - val_categorical_accuracy: 0.4164 - lr: 0.0010\n",
            "Epoch 38/340\n",
            "41/41 [==============================] - 30s 726ms/step - loss: 1.2504 - categorical_accuracy: 0.5372 - val_loss: 1.4509 - val_categorical_accuracy: 0.4484 - lr: 0.0010\n",
            "Epoch 39/340\n",
            "41/41 [==============================] - 30s 732ms/step - loss: 1.2637 - categorical_accuracy: 0.5213 - val_loss: 1.4644 - val_categorical_accuracy: 0.4555 - lr: 0.0010\n",
            "Epoch 40/340\n",
            "41/41 [==============================] - 30s 722ms/step - loss: 1.2397 - categorical_accuracy: 0.5277 - val_loss: 1.5142 - val_categorical_accuracy: 0.4164 - lr: 0.0010\n",
            "Epoch 41/340\n",
            "41/41 [==============================] - 30s 726ms/step - loss: 1.2302 - categorical_accuracy: 0.5319 - val_loss: 1.5816 - val_categorical_accuracy: 0.4021 - lr: 0.0010\n",
            "Epoch 42/340\n",
            "41/41 [==============================] - 31s 769ms/step - loss: 1.2498 - categorical_accuracy: 0.5074 - val_loss: 1.4689 - val_categorical_accuracy: 0.4520 - lr: 0.0010\n",
            "Epoch 43/340\n",
            "41/41 [==============================] - 30s 727ms/step - loss: 1.2304 - categorical_accuracy: 0.5266 - val_loss: 1.5104 - val_categorical_accuracy: 0.4520 - lr: 0.0010\n",
            "Epoch 44/340\n",
            "41/41 [==============================] - 30s 739ms/step - loss: 1.1781 - categorical_accuracy: 0.5521 - val_loss: 1.4714 - val_categorical_accuracy: 0.4342 - lr: 0.0010\n",
            "Epoch 44: early stopping\n"
          ]
        }
      ]
    },
    {
      "cell_type": "code",
      "source": [
        ""
      ],
      "metadata": {
        "id": "3MekXCZHizyZ"
      },
      "execution_count": 32,
      "outputs": []
    },
    {
      "cell_type": "code",
      "source": [
        "print(f\"Running time: {(toc - tic)/60:0.4f} minutes\")"
      ],
      "metadata": {
        "id": "cHmSBRhVOELJ",
        "colab": {
          "base_uri": "https://localhost:8080/"
        },
        "outputId": "38a84298-8e8e-4ffe-ee27-32d028e61b96"
      },
      "execution_count": 33,
      "outputs": [
        {
          "output_type": "stream",
          "name": "stdout",
          "text": [
            "Running time: 23.5984 minutes\n"
          ]
        }
      ]
    },
    {
      "cell_type": "markdown",
      "source": [
        "## Loading Model"
      ],
      "metadata": {
        "id": "jCQelzMAKixD"
      }
    },
    {
      "cell_type": "code",
      "source": [
        "# Define the best weights to the model.\\\n",
        "#model.load_weights(checkpoint_path)"
      ],
      "metadata": {
        "id": "gruZAW2wI-tO"
      },
      "execution_count": 34,
      "outputs": []
    },
    {
      "cell_type": "code",
      "source": [
        ""
      ],
      "metadata": {
        "id": "N_805X3Xw-ST"
      },
      "execution_count": 34,
      "outputs": []
    },
    {
      "cell_type": "markdown",
      "source": [
        "# Evaluation"
      ],
      "metadata": {
        "id": "kDxTjEK0KixD"
      }
    },
    {
      "cell_type": "markdown",
      "source": [
        "## Save & Load model, weights"
      ],
      "metadata": {
        "id": "1YfguG0tPatV"
      }
    },
    {
      "cell_type": "code",
      "source": [
        "# Saving model & weights\n",
        "model_json = model.to_json()\n",
        "\n",
        "\n",
        "\n",
        "with open(saved_model_path, \"w\") as json_file:\n",
        "    json_file.write(model_json)\n",
        "    \n",
        "model.save_weights(saved_weights_path)\n",
        "print(\"Saved model to disk\")"
      ],
      "metadata": {
        "colab": {
          "base_uri": "https://localhost:8080/"
        },
        "id": "MsVoNhqmgGsK",
        "outputId": "bfde797b-5208-42c1-b9af-77ffcc2690e9"
      },
      "execution_count": 35,
      "outputs": [
        {
          "output_type": "stream",
          "name": "stdout",
          "text": [
            "Saved model to disk\n"
          ]
        }
      ]
    },
    {
      "cell_type": "code",
      "source": [
        "# Reading the model from JSON file\n",
        "#model_path = Ravdess + \"/model/\"\n",
        "#saved_model_path = model_path + 'model8723.json'\n",
        "#saved_weights_path = model_path + 'model8723_weights.h5'\n",
        "\n",
        "\n",
        "with open(saved_model_path , 'r') as json_file:\n",
        "    json_savedModel = json_file.read()\n",
        "    \n",
        "# Loading the model architecture, weights\n",
        "model = tf.keras.models.model_from_json(json_savedModel)\n",
        "model.load_weights(saved_weights_path)\n",
        "\n",
        "# Compiling the model with similar parameters as the original model.\n",
        "model.compile(loss='categorical_crossentropy', \n",
        "                optimizer='RMSProp', \n",
        "                metrics=['categorical_accuracy'])\n",
        "\n",
        "# Model's structure visualization\n",
        "tf.keras.utils.plot_model(model, to_file='model.png', show_shapes=True, show_layer_names=True)"
      ],
      "metadata": {
        "colab": {
          "base_uri": "https://localhost:8080/",
          "height": 422
        },
        "id": "y4OJGhLmgfX6",
        "outputId": "9029c024-9cc7-4b6d-8ed7-cd80dfe3ea8d"
      },
      "execution_count": 36,
      "outputs": [
        {
          "output_type": "execute_result",
          "data": {
            "text/plain": [
              "<IPython.core.display.Image object>"
            ],
            "image/png": "[encoded data removed]"
          },
          "metadata": {},
          "execution_count": 36
        }
      ]
    },
    {
      "cell_type": "code",
      "source": [
        ""
      ],
      "metadata": {
        "id": "B_SW6eUAgvEj"
      },
      "execution_count": 36,
      "outputs": []
    },
    {
      "cell_type": "code",
      "source": [
        ""
      ],
      "metadata": {
        "id": "cCfkUXTYgzSB"
      },
      "execution_count": 36,
      "outputs": []
    },
    {
      "cell_type": "code",
      "source": [
        "model.save(saved_model_path_2)"
      ],
      "metadata": {
        "trusted": true,
        "id": "Z5Uzb_bGKixE"
      },
      "execution_count": 37,
      "outputs": []
    },
    {
      "cell_type": "markdown",
      "source": [
        "## Train (fit) Visualization"
      ],
      "metadata": {
        "id": "ATvBW0SPO-eq"
      }
    },
    {
      "cell_type": "code",
      "source": [
        "# Loss, Accuracy presentation\n",
        "\n",
        "# Plot history: Loss\n",
        "plt.plot(history.history['loss'], label='Loss (training data)')\n",
        "plt.plot(history.history['val_loss'], label='Loss (validation data)')\n",
        "plt.title('Loss for train and validation')\n",
        "plt.ylabel('Loss value')\n",
        "plt.xlabel('No. epoch')\n",
        "plt.legend(loc=\"upper left\")\n",
        "plt.show()\n",
        "\n",
        "#Plot history: Accuracy\n",
        "plt.plot(history.history['categorical_accuracy'], label='Acc (training data)')\n",
        "plt.plot(history.history['val_categorical_accuracy'], label='Acc (validation data)')\n",
        "plt.title('Model accuracy')\n",
        "plt.ylabel('Acc %')\n",
        "plt.xlabel('No. epoch')\n",
        "plt.legend(loc=\"upper left\")\n",
        "plt.show()"
      ],
      "metadata": {
        "colab": {
          "base_uri": "https://localhost:8080/",
          "height": 573
        },
        "id": "UjhUHhU_f4EY",
        "outputId": "52d37c85-aa22-4a70-c85d-730123871a37"
      },
      "execution_count": 38,
      "outputs": [
        {
          "output_type": "display_data",
          "data": {
            "text/plain": [
              "<Figure size 432x288 with 1 Axes>"
            ],
            "image/png": "[encoded data removed]"
          },
          "metadata": {
            "needs_background": "light"
          }
        },
        {
          "output_type": "display_data",
          "data": {
            "text/plain": [
              "<Figure size 432x288 with 1 Axes>"
            ],
            "image/png": "[encoded data removed]"
          },
          "metadata": {
            "needs_background": "light"
          }
        }
      ]
    },
    {
      "cell_type": "markdown",
      "source": [
        "## Validation Set Evaluation"
      ],
      "metadata": {
        "id": "UZ3lFduxPQeB"
      }
    },
    {
      "cell_type": "markdown",
      "source": [
        "### Val Set Score"
      ],
      "metadata": {
        "id": "5YoYCa22PMGz"
      }
    },
    {
      "cell_type": "code",
      "source": [
        "X_train = x_train\n",
        "X_val = x_val\n",
        "X_test = x_test"
      ],
      "metadata": {
        "id": "jQavrzbB_8fy"
      },
      "execution_count": 41,
      "outputs": []
    },
    {
      "cell_type": "code",
      "source": [
        "# Validation score\n",
        "loss,acc = model.evaluate(X_val, y_val_class, verbose=2)\n"
      ],
      "metadata": {
        "id": "X_KdTUyrf7-j",
        "colab": {
          "base_uri": "https://localhost:8080/"
        },
        "outputId": "7bca8e0d-e44c-4fa3-8f39-f975cec3910b"
      },
      "execution_count": 42,
      "outputs": [
        {
          "output_type": "stream",
          "name": "stdout",
          "text": [
            "9/9 - 4s - loss: 1.4714 - categorical_accuracy: 0.4342 - 4s/epoch - 446ms/step\n"
          ]
        }
      ]
    },
    {
      "cell_type": "code",
      "source": [
        ""
      ],
      "metadata": {
        "id": "09k_I9DM_2Q0"
      },
      "execution_count": 42,
      "outputs": []
    },
    {
      "cell_type": "markdown",
      "source": [
        "### Construct Predicted Labels based on Probability of each class"
      ],
      "metadata": {
        "id": "hz7nc15A_3hb"
      }
    },
    {
      "cell_type": "code",
      "source": [
        "y_val_class"
      ],
      "metadata": {
        "colab": {
          "base_uri": "https://localhost:8080/"
        },
        "id": "CFM1P2SZ_85N",
        "outputId": "9c5c931f-4da8-4c18-ea77-099e958a4b3a"
      },
      "execution_count": 43,
      "outputs": [
        {
          "output_type": "execute_result",
          "data": {
            "text/plain": [
              "array([[0, 0, 0, ..., 0, 0, 1],\n",
              "       [0, 1, 0, ..., 0, 0, 0],\n",
              "       [0, 0, 0, ..., 0, 1, 0],\n",
              "       ...,\n",
              "       [0, 0, 0, ..., 0, 0, 1],\n",
              "       [0, 0, 0, ..., 0, 0, 1],\n",
              "       [0, 0, 1, ..., 0, 0, 0]], dtype=int8)"
            ]
          },
          "metadata": {},
          "execution_count": 43
        }
      ]
    },
    {
      "cell_type": "code",
      "source": [
        "np.argmax(y_val_class, axis=1)"
      ],
      "metadata": {
        "colab": {
          "base_uri": "https://localhost:8080/"
        },
        "id": "C9UHSeXbAASy",
        "outputId": "f907257f-4d97-4275-c29b-72862afccc73"
      },
      "execution_count": 44,
      "outputs": [
        {
          "output_type": "execute_result",
          "data": {
            "text/plain": [
              "array([6, 1, 5, 3, 5, 5, 2, 5, 0, 4, 5, 1, 5, 5, 2, 1, 0, 1, 4, 5, 3, 6,\n",
              "       0, 2, 2, 4, 6, 5, 1, 4, 0, 5, 2, 3, 1, 6, 5, 2, 1, 0, 3, 4, 0, 5,\n",
              "       3, 3, 0, 6, 4, 6, 0, 3, 3, 3, 4, 5, 3, 2, 3, 6, 1, 0, 3, 2, 4, 4,\n",
              "       6, 2, 4, 0, 5, 5, 1, 2, 0, 5, 5, 3, 4, 6, 4, 2, 2, 3, 6, 0, 0, 3,\n",
              "       2, 5, 1, 4, 1, 0, 6, 3, 6, 1, 2, 6, 6, 2, 0, 5, 1, 5, 4, 0, 5, 2,\n",
              "       0, 5, 0, 6, 2, 3, 3, 2, 2, 2, 0, 1, 5, 2, 5, 3, 2, 0, 3, 3, 3, 2,\n",
              "       0, 3, 0, 6, 3, 3, 3, 1, 0, 3, 6, 5, 6, 4, 0, 2, 6, 2, 1, 1, 4, 6,\n",
              "       0, 2, 1, 1, 3, 0, 6, 6, 2, 0, 1, 5, 5, 4, 5, 5, 0, 2, 4, 4, 6, 4,\n",
              "       3, 6, 2, 3, 2, 3, 0, 1, 0, 3, 1, 5, 2, 1, 6, 0, 4, 1, 6, 2, 0, 0,\n",
              "       6, 0, 0, 2, 5, 5, 1, 2, 3, 2, 2, 2, 4, 3, 5, 3, 1, 0, 2, 0, 2, 4,\n",
              "       6, 1, 0, 6, 5, 6, 4, 0, 0, 4, 5, 3, 2, 6, 2, 6, 3, 5, 3, 1, 5, 6,\n",
              "       5, 1, 2, 1, 6, 0, 5, 3, 2, 1, 6, 3, 0, 1, 3, 6, 3, 2, 2, 4, 6, 4,\n",
              "       3, 2, 2, 5, 5, 4, 1, 3, 6, 5, 3, 0, 3, 4, 6, 6, 2])"
            ]
          },
          "metadata": {},
          "execution_count": 44
        }
      ]
    },
    {
      "cell_type": "code",
      "source": [
        "y_val_class = np.argmax(y_val_class, axis=1)\n",
        "predictions_val = model.predict(X_val)\n",
        "y_proba_val_class = predictions_val\n",
        "y_pred_val_class = np.argmax(predictions_val, axis=1)"
      ],
      "metadata": {
        "id": "urjydD-38JK7"
      },
      "execution_count": 45,
      "outputs": []
    },
    {
      "cell_type": "code",
      "source": [
        "predictions_val\n"
      ],
      "metadata": {
        "colab": {
          "base_uri": "https://localhost:8080/"
        },
        "id": "Zb7dGRs3AEJn",
        "outputId": "7c17cfe8-40ba-412a-95f0-24d9c599f3f4"
      },
      "execution_count": 46,
      "outputs": [
        {
          "output_type": "execute_result",
          "data": {
            "text/plain": [
              "array([[0.01990128, 0.01221745, 0.08033687, ..., 0.08042604, 0.46971208,\n",
              "        0.13310805],\n",
              "       [0.00193044, 0.48496452, 0.06327219, ..., 0.08734417, 0.0076498 ,\n",
              "        0.22879383],\n",
              "       [0.01116967, 0.37784305, 0.07045747, ..., 0.19759443, 0.07392617,\n",
              "        0.05555072],\n",
              "       ...,\n",
              "       [0.00102817, 0.08186141, 0.04307767, ..., 0.04863021, 0.02327563,\n",
              "        0.67310286],\n",
              "       [0.00113123, 0.3274915 , 0.03580706, ..., 0.16196862, 0.01710666,\n",
              "        0.0682454 ],\n",
              "       [0.00851772, 0.42069772, 0.04309568, ..., 0.29771435, 0.01878869,\n",
              "        0.02121199]], dtype=float32)"
            ]
          },
          "metadata": {},
          "execution_count": 46
        }
      ]
    },
    {
      "cell_type": "code",
      "source": [
        "y_pred_val_class "
      ],
      "metadata": {
        "colab": {
          "base_uri": "https://localhost:8080/"
        },
        "id": "KxHa1Ss1AJo4",
        "outputId": "c8f556de-b8bf-4119-a3ee-8932bac59692"
      },
      "execution_count": 47,
      "outputs": [
        {
          "output_type": "execute_result",
          "data": {
            "text/plain": [
              "array([5, 1, 1, 3, 5, 2, 6, 6, 4, 1, 5, 2, 1, 0, 1, 1, 0, 1, 5, 5, 1, 1,\n",
              "       2, 1, 1, 4, 3, 5, 1, 1, 0, 0, 2, 3, 1, 6, 3, 2, 1, 2, 1, 1, 0, 5,\n",
              "       1, 1, 2, 3, 4, 4, 0, 3, 5, 3, 6, 5, 5, 5, 1, 2, 1, 1, 3, 0, 3, 0,\n",
              "       1, 1, 1, 1, 5, 6, 1, 0, 0, 6, 5, 5, 3, 6, 1, 0, 1, 5, 1, 5, 2, 1,\n",
              "       0, 5, 1, 3, 6, 0, 6, 3, 6, 1, 4, 0, 3, 4, 0, 5, 0, 3, 3, 2, 4, 0,\n",
              "       0, 2, 2, 2, 2, 3, 1, 6, 2, 5, 0, 1, 6, 2, 5, 3, 1, 0, 1, 3, 2, 3,\n",
              "       2, 3, 0, 4, 3, 6, 3, 5, 0, 1, 1, 5, 3, 1, 5, 5, 6, 3, 1, 1, 0, 6,\n",
              "       0, 2, 1, 2, 3, 2, 5, 1, 2, 0, 6, 3, 2, 4, 1, 2, 0, 1, 4, 1, 3, 6,\n",
              "       3, 1, 2, 3, 0, 3, 2, 1, 0, 3, 1, 5, 6, 1, 1, 0, 6, 1, 6, 2, 0, 0,\n",
              "       6, 0, 0, 0, 5, 6, 1, 6, 6, 4, 5, 5, 4, 6, 5, 3, 0, 2, 0, 0, 1, 1,\n",
              "       6, 1, 0, 6, 0, 2, 4, 2, 0, 1, 5, 1, 4, 1, 0, 6, 4, 5, 3, 1, 5, 6,\n",
              "       0, 4, 0, 4, 1, 2, 6, 3, 1, 2, 5, 1, 0, 3, 1, 5, 3, 2, 2, 3, 6, 1,\n",
              "       5, 1, 3, 5, 5, 6, 2, 3, 5, 5, 3, 0, 1, 1, 6, 3, 1])"
            ]
          },
          "metadata": {},
          "execution_count": 47
        }
      ]
    },
    {
      "cell_type": "markdown",
      "source": [
        "### Val Set Confusion Matrix and Heatmap"
      ],
      "metadata": {
        "id": "d2ullxf9PUMd"
      }
    },
    {
      "cell_type": "code",
      "source": [
        "# Validation Confusion matrix\n",
        "cm=confusion_matrix(y_val_class, y_pred_val_class)\n",
        "\n",
        "index = ['calm', 'happy', 'sad', 'angry', 'fearful', 'disgust', 'surprised']  \n",
        "columns = ['calm', 'happy', 'sad', 'angry', 'fearful', 'disgust', 'surprised']  \n",
        " \n",
        "cm_df = pd.DataFrame(cm,index,columns)                      \n",
        "plt.figure(figsize=(12,8))\n",
        "ax = plt.axes()\n",
        "\n",
        "sns.heatmap(cm_df, ax = ax, cmap = 'PuBu', fmt=\"d\", annot=True)\n",
        "ax.set_ylabel('True emotion')\n",
        "ax.set_xlabel('Predicted emotion')"
      ],
      "metadata": {
        "colab": {
          "base_uri": "https://localhost:8080/",
          "height": 514
        },
        "id": "doLcg3CTf9bx",
        "outputId": "9f9441db-295e-4755-fd72-eadbec196d66"
      },
      "execution_count": 48,
      "outputs": [
        {
          "output_type": "execute_result",
          "data": {
            "text/plain": [
              "Text(0.5, 51.0, 'Predicted emotion')"
            ]
          },
          "metadata": {},
          "execution_count": 48
        },
        {
          "output_type": "display_data",
          "data": {
            "text/plain": [
              "<Figure size 864x576 with 2 Axes>"
            ],
            "image/png": "[encoded data removed]"
          },
          "metadata": {
            "needs_background": "light"
          }
        }
      ]
    },
    {
      "cell_type": "code",
      "source": [
        "# Confusion Matrix\n",
        "cm"
      ],
      "metadata": {
        "colab": {
          "base_uri": "https://localhost:8080/"
        },
        "id": "hIEG9Pia8Nfp",
        "outputId": "9e73b851-1ca9-4102-ff9f-aa88f3288575"
      },
      "execution_count": 49,
      "outputs": [
        {
          "output_type": "execute_result",
          "data": {
            "text/plain": [
              "array([[26,  2, 12,  0,  1,  2,  0],\n",
              "       [ 2, 21,  4,  1,  2,  1,  2],\n",
              "       [10, 11, 11,  3,  4,  5,  4],\n",
              "       [ 0, 13,  1, 23,  1,  5,  3],\n",
              "       [ 2, 11,  0,  5,  6,  1,  4],\n",
              "       [ 4,  3,  4,  3,  1, 21,  6],\n",
              "       [ 1,  9,  3,  6,  2,  5, 14]])"
            ]
          },
          "metadata": {},
          "execution_count": 49
        }
      ]
    },
    {
      "cell_type": "markdown",
      "source": [
        "### Validation Set Predicted emotions accuracy"
      ],
      "metadata": {
        "id": "kWjKgUdRPYH5"
      }
    },
    {
      "cell_type": "code",
      "source": [
        "# Validation set prediction accuracy rates\n",
        "\n",
        "values = cm.diagonal()\n",
        "row_sum = np.sum(cm,axis=1)\n",
        "acc = values / row_sum\n",
        "\n",
        "print('Validation set predicted emotions accuracy:')\n",
        "for e in range(0, len(values)):\n",
        "    print(index[e],':', f\"{(acc[e]):0.4f}\")"
      ],
      "metadata": {
        "colab": {
          "base_uri": "https://localhost:8080/"
        },
        "id": "MopdywY9f-mS",
        "outputId": "0d020f33-23e0-4625-8530-aa523caab34c"
      },
      "execution_count": 50,
      "outputs": [
        {
          "output_type": "stream",
          "name": "stdout",
          "text": [
            "Validation set predicted emotions accuracy:\n",
            "calm : 0.6047\n",
            "happy : 0.6364\n",
            "sad : 0.2292\n",
            "angry : 0.5000\n",
            "fearful : 0.2069\n",
            "disgust : 0.5000\n",
            "surprised : 0.3500\n"
          ]
        }
      ]
    },
    {
      "cell_type": "markdown",
      "source": [
        "### Precision, Recal, Fscore"
      ],
      "metadata": {
        "id": "DGSTy2228XRH"
      }
    },
    {
      "cell_type": "code",
      "source": [
        "# Validation set precision, recall, fscore\n",
        "\n",
        "precision_recall_fscore_support(y_val_class, y_pred_val_class, average='macro')\n"
      ],
      "metadata": {
        "colab": {
          "base_uri": "https://localhost:8080/"
        },
        "id": "rOwUkCG0gGpm",
        "outputId": "e2e9f43a-1872-4005-9c3e-20c65aee97dd"
      },
      "execution_count": 51,
      "outputs": [
        {
          "output_type": "execute_result",
          "data": {
            "text/plain": [
              "(0.436460386076086, 0.4324397167921627, 0.42129975505033485, None)"
            ]
          },
          "metadata": {},
          "execution_count": 51
        }
      ]
    },
    {
      "cell_type": "code",
      "source": [
        "precision_recall_fscore_support(y_val_class, y_pred_val_class, average='weighted')"
      ],
      "metadata": {
        "colab": {
          "base_uri": "https://localhost:8080/"
        },
        "id": "OorFgXxDzy3o",
        "outputId": "12085d6b-56c6-499e-af99-531470ae7c17"
      },
      "execution_count": 52,
      "outputs": [
        {
          "output_type": "execute_result",
          "data": {
            "text/plain": [
              "(0.44444849774478024, 0.43416370106761565, 0.4282206779434435, None)"
            ]
          },
          "metadata": {},
          "execution_count": 52
        }
      ]
    },
    {
      "cell_type": "code",
      "source": [
        ""
      ],
      "metadata": {
        "id": "i1fFuDHJyxB5"
      },
      "execution_count": 52,
      "outputs": []
    },
    {
      "cell_type": "markdown",
      "source": [
        ""
      ],
      "metadata": {
        "id": "KfSo6YD0y34T"
      }
    },
    {
      "cell_type": "markdown",
      "source": [
        "## Test Set Evaluation"
      ],
      "metadata": {
        "id": "FiCwOjmPPgCn"
      }
    },
    {
      "cell_type": "code",
      "source": [
        ""
      ],
      "metadata": {
        "id": "mUZLaThTeocQ"
      },
      "execution_count": 52,
      "outputs": []
    },
    {
      "cell_type": "markdown",
      "source": [
        "### Test Set Score\n",
        "\n"
      ],
      "metadata": {
        "id": "CWB7U5xDUSmF"
      }
    },
    {
      "cell_type": "code",
      "source": [
        "loss, acc = model.evaluate(X_test, y_test_class, verbose=2)"
      ],
      "metadata": {
        "id": "Y7NEHPM-gzml",
        "colab": {
          "base_uri": "https://localhost:8080/"
        },
        "outputId": "20566730-1a03-46e6-d935-226d0fc8c93e"
      },
      "execution_count": 53,
      "outputs": [
        {
          "output_type": "stream",
          "name": "stdout",
          "text": [
            "4/4 - 1s - loss: 1.6073 - categorical_accuracy: 0.4065 - 706ms/epoch - 177ms/step\n"
          ]
        }
      ]
    },
    {
      "cell_type": "markdown",
      "source": [
        "### Construct Predicted Labels based on Probability of each class"
      ],
      "metadata": {
        "id": "gPwcFV9oAhGh"
      }
    },
    {
      "cell_type": "code",
      "source": [
        "y_test_class"
      ],
      "metadata": {
        "colab": {
          "base_uri": "https://localhost:8080/"
        },
        "id": "tjN7Eit7AiML",
        "outputId": "353355bc-f8c7-49b6-d47f-f18b4d9a234e"
      },
      "execution_count": 54,
      "outputs": [
        {
          "output_type": "execute_result",
          "data": {
            "text/plain": [
              "array([[0, 0, 0, 0, 0, 0, 1],\n",
              "       [0, 0, 0, 1, 0, 0, 0],\n",
              "       [0, 0, 0, 0, 0, 1, 0],\n",
              "       [0, 0, 0, 0, 1, 0, 0],\n",
              "       [1, 0, 0, 0, 0, 0, 0],\n",
              "       [0, 0, 0, 0, 1, 0, 0],\n",
              "       [0, 0, 0, 0, 0, 1, 0],\n",
              "       [0, 0, 0, 0, 1, 0, 0],\n",
              "       [0, 0, 0, 1, 0, 0, 0],\n",
              "       [0, 0, 0, 0, 0, 0, 1],\n",
              "       [0, 0, 0, 1, 0, 0, 0],\n",
              "       [0, 0, 0, 0, 1, 0, 0],\n",
              "       [1, 0, 0, 0, 0, 0, 0],\n",
              "       [0, 0, 0, 0, 0, 1, 0],\n",
              "       [0, 0, 0, 1, 0, 0, 0],\n",
              "       [1, 0, 0, 0, 0, 0, 0],\n",
              "       [0, 0, 0, 0, 0, 1, 0],\n",
              "       [0, 0, 0, 0, 0, 1, 0],\n",
              "       [0, 0, 1, 0, 0, 0, 0],\n",
              "       [0, 0, 0, 0, 0, 0, 1],\n",
              "       [0, 0, 0, 0, 0, 0, 1],\n",
              "       [1, 0, 0, 0, 0, 0, 0],\n",
              "       [1, 0, 0, 0, 0, 0, 0],\n",
              "       [0, 0, 1, 0, 0, 0, 0],\n",
              "       [0, 0, 0, 0, 0, 1, 0],\n",
              "       [1, 0, 0, 0, 0, 0, 0],\n",
              "       [0, 0, 0, 0, 0, 1, 0],\n",
              "       [1, 0, 0, 0, 0, 0, 0],\n",
              "       [0, 0, 0, 0, 1, 0, 0],\n",
              "       [0, 1, 0, 0, 0, 0, 0],\n",
              "       [0, 0, 0, 1, 0, 0, 0],\n",
              "       [0, 0, 0, 0, 0, 0, 1],\n",
              "       [0, 0, 0, 0, 0, 0, 1],\n",
              "       [0, 0, 0, 0, 0, 1, 0],\n",
              "       [0, 0, 0, 0, 1, 0, 0],\n",
              "       [0, 0, 1, 0, 0, 0, 0],\n",
              "       [0, 0, 0, 0, 0, 1, 0],\n",
              "       [0, 0, 0, 0, 1, 0, 0],\n",
              "       [0, 0, 0, 0, 1, 0, 0],\n",
              "       [0, 0, 0, 0, 0, 1, 0],\n",
              "       [0, 0, 0, 0, 0, 0, 1],\n",
              "       [1, 0, 0, 0, 0, 0, 0],\n",
              "       [0, 1, 0, 0, 0, 0, 0],\n",
              "       [0, 0, 1, 0, 0, 0, 0],\n",
              "       [0, 1, 0, 0, 0, 0, 0],\n",
              "       [0, 1, 0, 0, 0, 0, 0],\n",
              "       [0, 0, 0, 0, 0, 0, 1],\n",
              "       [0, 0, 1, 0, 0, 0, 0],\n",
              "       [0, 0, 0, 0, 0, 0, 1],\n",
              "       [0, 0, 0, 0, 1, 0, 0],\n",
              "       [0, 0, 0, 0, 0, 1, 0],\n",
              "       [0, 0, 0, 0, 0, 0, 1],\n",
              "       [0, 1, 0, 0, 0, 0, 0],\n",
              "       [0, 0, 1, 0, 0, 0, 0],\n",
              "       [0, 0, 0, 0, 0, 1, 0],\n",
              "       [0, 1, 0, 0, 0, 0, 0],\n",
              "       [0, 1, 0, 0, 0, 0, 0],\n",
              "       [0, 0, 0, 0, 1, 0, 0],\n",
              "       [0, 0, 0, 0, 1, 0, 0],\n",
              "       [0, 1, 0, 0, 0, 0, 0],\n",
              "       [0, 0, 0, 0, 0, 0, 1],\n",
              "       [0, 0, 0, 1, 0, 0, 0],\n",
              "       [0, 0, 0, 0, 1, 0, 0],\n",
              "       [0, 0, 1, 0, 0, 0, 0],\n",
              "       [0, 0, 1, 0, 0, 0, 0],\n",
              "       [0, 0, 1, 0, 0, 0, 0],\n",
              "       [0, 0, 0, 0, 1, 0, 0],\n",
              "       [1, 0, 0, 0, 0, 0, 0],\n",
              "       [0, 0, 0, 1, 0, 0, 0],\n",
              "       [0, 0, 0, 0, 0, 0, 1],\n",
              "       [0, 0, 0, 0, 0, 1, 0],\n",
              "       [0, 1, 0, 0, 0, 0, 0],\n",
              "       [0, 0, 1, 0, 0, 0, 0],\n",
              "       [0, 0, 0, 0, 1, 0, 0],\n",
              "       [0, 0, 0, 1, 0, 0, 0],\n",
              "       [1, 0, 0, 0, 0, 0, 0],\n",
              "       [0, 0, 0, 1, 0, 0, 0],\n",
              "       [0, 0, 0, 0, 0, 0, 1],\n",
              "       [0, 0, 1, 0, 0, 0, 0],\n",
              "       [0, 0, 0, 0, 0, 0, 1],\n",
              "       [1, 0, 0, 0, 0, 0, 0],\n",
              "       [0, 0, 0, 0, 1, 0, 0],\n",
              "       [0, 1, 0, 0, 0, 0, 0],\n",
              "       [0, 0, 0, 1, 0, 0, 0],\n",
              "       [0, 0, 0, 0, 0, 0, 1],\n",
              "       [0, 0, 0, 1, 0, 0, 0],\n",
              "       [0, 0, 0, 0, 0, 0, 1],\n",
              "       [0, 0, 0, 0, 1, 0, 0],\n",
              "       [0, 0, 0, 1, 0, 0, 0],\n",
              "       [0, 0, 0, 1, 0, 0, 0],\n",
              "       [0, 0, 1, 0, 0, 0, 0],\n",
              "       [0, 0, 0, 0, 0, 1, 0],\n",
              "       [0, 0, 0, 0, 1, 0, 0],\n",
              "       [0, 1, 0, 0, 0, 0, 0],\n",
              "       [1, 0, 0, 0, 0, 0, 0],\n",
              "       [0, 0, 0, 1, 0, 0, 0],\n",
              "       [0, 0, 1, 0, 0, 0, 0],\n",
              "       [0, 0, 0, 1, 0, 0, 0],\n",
              "       [0, 1, 0, 0, 0, 0, 0],\n",
              "       [1, 0, 0, 0, 0, 0, 0],\n",
              "       [0, 0, 1, 0, 0, 0, 0],\n",
              "       [0, 0, 0, 0, 0, 0, 1],\n",
              "       [0, 0, 0, 0, 0, 1, 0],\n",
              "       [0, 0, 0, 0, 1, 0, 0],\n",
              "       [0, 0, 0, 0, 1, 0, 0],\n",
              "       [0, 0, 0, 1, 0, 0, 0],\n",
              "       [0, 0, 0, 1, 0, 0, 0],\n",
              "       [0, 0, 0, 0, 0, 0, 1],\n",
              "       [0, 0, 0, 0, 1, 0, 0],\n",
              "       [1, 0, 0, 0, 0, 0, 0],\n",
              "       [0, 0, 0, 1, 0, 0, 0],\n",
              "       [0, 0, 0, 0, 1, 0, 0],\n",
              "       [0, 0, 0, 0, 0, 0, 1],\n",
              "       [0, 0, 0, 0, 0, 1, 0],\n",
              "       [0, 0, 0, 1, 0, 0, 0],\n",
              "       [0, 0, 1, 0, 0, 0, 0],\n",
              "       [0, 0, 0, 1, 0, 0, 0],\n",
              "       [0, 1, 0, 0, 0, 0, 0],\n",
              "       [0, 0, 0, 0, 0, 0, 1],\n",
              "       [0, 0, 0, 0, 0, 0, 1],\n",
              "       [0, 1, 0, 0, 0, 0, 0],\n",
              "       [1, 0, 0, 0, 0, 0, 0],\n",
              "       [0, 0, 0, 0, 0, 0, 1]], dtype=int8)"
            ]
          },
          "metadata": {},
          "execution_count": 54
        }
      ]
    },
    {
      "cell_type": "code",
      "source": [
        " np.argmax(y_test_class, axis=1)"
      ],
      "metadata": {
        "colab": {
          "base_uri": "https://localhost:8080/"
        },
        "id": "2fcK-_HzAmc5",
        "outputId": "149807e3-ccf2-4c0b-ce2c-fdd29d96a00c"
      },
      "execution_count": 55,
      "outputs": [
        {
          "output_type": "execute_result",
          "data": {
            "text/plain": [
              "array([6, 3, 5, 4, 0, 4, 5, 4, 3, 6, 3, 4, 0, 5, 3, 0, 5, 5, 2, 6, 6, 0,\n",
              "       0, 2, 5, 0, 5, 0, 4, 1, 3, 6, 6, 5, 4, 2, 5, 4, 4, 5, 6, 0, 1, 2,\n",
              "       1, 1, 6, 2, 6, 4, 5, 6, 1, 2, 5, 1, 1, 4, 4, 1, 6, 3, 4, 2, 2, 2,\n",
              "       4, 0, 3, 6, 5, 1, 2, 4, 3, 0, 3, 6, 2, 6, 0, 4, 1, 3, 6, 3, 6, 4,\n",
              "       3, 3, 2, 5, 4, 1, 0, 3, 2, 3, 1, 0, 2, 6, 5, 4, 4, 3, 3, 6, 4, 0,\n",
              "       3, 4, 6, 5, 3, 2, 3, 1, 6, 6, 1, 0, 6])"
            ]
          },
          "metadata": {},
          "execution_count": 55
        }
      ]
    },
    {
      "cell_type": "code",
      "source": [
        "y_test_class = np.argmax(y_test_class, axis=1)\n",
        "predictions_test = model.predict(X_test)\n",
        "y_pred_test_class = np.argmax(predictions_test, axis=1)\n",
        "y_proba_test_class = predictions_test\n",
        "\n"
      ],
      "metadata": {
        "id": "uyXvoU2rAckI"
      },
      "execution_count": 56,
      "outputs": []
    },
    {
      "cell_type": "code",
      "source": [
        "predictions_test"
      ],
      "metadata": {
        "colab": {
          "base_uri": "https://localhost:8080/"
        },
        "id": "3BAOUaPwAtuY",
        "outputId": "c88d43fe-db98-464c-9c19-16cdb2b899f2"
      },
      "execution_count": 57,
      "outputs": [
        {
          "output_type": "execute_result",
          "data": {
            "text/plain": [
              "array([[3.38615961e-02, 4.45968240e-01, 7.40231127e-02, 1.75124601e-01,\n",
              "        1.80219725e-01, 6.93904087e-02, 2.14123651e-02],\n",
              "       [1.70920067e-03, 4.15453255e-01, 2.83859260e-02, 3.16976458e-01,\n",
              "        1.93519041e-01, 1.19933104e-02, 3.19628268e-02],\n",
              "       [1.50160660e-04, 1.69523433e-02, 8.39499291e-03, 3.31497729e-01,\n",
              "        1.10524436e-02, 5.38821034e-02, 5.78070223e-01],\n",
              "       [4.90301754e-04, 9.55795944e-02, 4.32896726e-02, 1.88152373e-01,\n",
              "        1.86581582e-01, 1.79203972e-02, 4.67986047e-01],\n",
              "       [6.19520843e-01, 5.75262681e-02, 2.52057046e-01, 8.48589744e-03,\n",
              "        2.64918469e-02, 2.41390150e-02, 1.17790867e-02],\n",
              "       [1.26000866e-02, 1.34973705e-01, 6.71454966e-02, 3.18444371e-01,\n",
              "        6.30709380e-02, 3.69751871e-01, 3.40135694e-02],\n",
              "       [3.41572575e-02, 9.39975772e-03, 2.79978514e-01, 2.73020249e-02,\n",
              "        1.09860599e-02, 5.17652214e-01, 1.20524250e-01],\n",
              "       [1.14794388e-01, 1.46957099e-01, 4.06672686e-01, 3.59970890e-02,\n",
              "        1.28917918e-01, 2.77363434e-02, 1.38924524e-01],\n",
              "       [3.30400449e-04, 6.57735616e-02, 3.67251784e-02, 5.55012882e-01,\n",
              "        1.05759278e-01, 2.76180729e-02, 2.08780661e-01],\n",
              "       [3.08943389e-04, 2.27968339e-02, 1.34729818e-02, 2.48508409e-01,\n",
              "        7.48988288e-03, 7.22668990e-02, 6.35156095e-01],\n",
              "       [9.83447535e-04, 4.21307206e-01, 4.09152433e-02, 1.68637350e-01,\n",
              "        2.08902091e-01, 8.94398149e-03, 1.50310665e-01],\n",
              "       [5.50661585e-04, 3.67884547e-01, 3.00906226e-02, 1.92971572e-01,\n",
              "        1.81483664e-02, 6.42248839e-02, 3.26129317e-01],\n",
              "       [7.63489366e-01, 7.79650779e-03, 1.94593534e-01, 1.28712761e-03,\n",
              "        1.05054053e-02, 1.81765221e-02, 4.15142905e-03],\n",
              "       [6.45638853e-02, 1.16216326e-02, 2.70071000e-01, 4.36483808e-02,\n",
              "        9.98362601e-02, 3.29028755e-01, 1.81230068e-01],\n",
              "       [4.27844265e-04, 3.16188753e-01, 2.65897308e-02, 7.38625601e-02,\n",
              "        2.13990398e-02, 1.70440562e-02, 5.44487953e-01],\n",
              "       [9.50894713e-01, 6.29661186e-03, 2.72952635e-02, 1.05766254e-03,\n",
              "        1.09656733e-02, 2.75566056e-03, 7.34578294e-04],\n",
              "       [9.70719266e-04, 2.92762853e-02, 1.12122661e-02, 7.24416614e-01,\n",
              "        6.71618618e-03, 1.22122675e-01, 1.05285227e-01],\n",
              "       [3.14906565e-03, 2.97591630e-02, 7.48971254e-02, 1.32103100e-01,\n",
              "        1.79134086e-01, 1.52947262e-01, 4.28010166e-01],\n",
              "       [1.52134954e-03, 5.90424299e-01, 4.29744013e-02, 2.09209040e-01,\n",
              "        9.26456600e-02, 1.70422401e-02, 4.61830534e-02],\n",
              "       [4.29550477e-04, 1.10947251e-01, 2.00765245e-02, 7.57330507e-02,\n",
              "        1.57172494e-02, 7.82672875e-03, 7.69269586e-01],\n",
              "       [1.37232587e-01, 4.62895110e-02, 5.42273700e-01, 2.20013075e-02,\n",
              "        6.85922727e-02, 5.52614816e-02, 1.28349140e-01],\n",
              "       [3.56020868e-01, 4.09801543e-01, 1.51527658e-01, 2.44809184e-02,\n",
              "        2.88369600e-02, 7.71061564e-03, 2.16215048e-02],\n",
              "       [8.52390826e-01, 1.15956319e-02, 8.71998221e-02, 4.89266077e-03,\n",
              "        9.64928698e-03, 2.65972521e-02, 7.67455064e-03],\n",
              "       [6.61913395e-01, 5.72914490e-03, 2.88252801e-01, 1.71075412e-03,\n",
              "        2.39259731e-02, 7.71682523e-03, 1.07510993e-02],\n",
              "       [5.50678757e-04, 2.05260795e-02, 3.16583812e-02, 3.06574702e-01,\n",
              "        9.84105393e-02, 7.26520196e-02, 4.69627589e-01],\n",
              "       [4.78884876e-01, 6.80601150e-02, 2.76484221e-01, 1.65246483e-02,\n",
              "        1.10451840e-01, 2.35370249e-02, 2.60572787e-02],\n",
              "       [1.01488017e-01, 1.31968513e-01, 4.80850816e-01, 3.40766720e-02,\n",
              "        2.27437355e-02, 1.91514939e-01, 3.73573080e-02],\n",
              "       [7.65181839e-01, 2.25747693e-02, 1.86374411e-01, 2.39731721e-03,\n",
              "        6.84797019e-03, 9.41097271e-03, 7.21256714e-03],\n",
              "       [5.21251513e-03, 2.83193290e-01, 9.69168246e-02, 1.22537397e-01,\n",
              "        1.28119975e-01, 1.93623472e-02, 3.44657689e-01],\n",
              "       [1.09498878e-03, 7.25772381e-01, 2.56900024e-02, 1.09046489e-01,\n",
              "        1.61110070e-02, 1.99273396e-02, 1.02357753e-01],\n",
              "       [8.45417976e-02, 3.42649892e-02, 2.14036658e-01, 4.08707112e-02,\n",
              "        1.02506718e-02, 5.82677603e-01, 3.33575606e-02],\n",
              "       [1.50151392e-02, 7.14228809e-01, 8.81626010e-02, 5.98085709e-02,\n",
              "        8.46931636e-02, 1.68806985e-02, 2.12108959e-02],\n",
              "       [1.32960337e-03, 6.63846284e-02, 8.69603232e-02, 3.01311404e-01,\n",
              "        2.03658089e-01, 1.21362872e-01, 2.18993157e-01],\n",
              "       [2.33557541e-03, 1.92216456e-01, 5.92235811e-02, 2.28512794e-01,\n",
              "        9.51416418e-03, 1.27471596e-01, 3.80725771e-01],\n",
              "       [3.88376391e-03, 2.64528960e-01, 5.44493534e-02, 1.70608401e-01,\n",
              "        4.14734811e-01, 1.59785859e-02, 7.58161023e-02],\n",
              "       [1.94444418e-01, 8.38329867e-02, 5.24749100e-01, 1.90304257e-02,\n",
              "        2.16745101e-02, 3.73173207e-02, 1.18951261e-01],\n",
              "       [1.71994709e-03, 8.86587799e-02, 4.89121303e-02, 2.13850185e-01,\n",
              "        1.48445219e-02, 1.89727053e-01, 4.42287415e-01],\n",
              "       [8.16137879e-04, 4.63027328e-01, 1.76005997e-02, 3.81483704e-01,\n",
              "        9.28712785e-02, 7.64100719e-03, 3.65598463e-02],\n",
              "       [9.43237974e-04, 4.45184670e-02, 4.20247205e-02, 1.91593155e-01,\n",
              "        3.77612859e-01, 7.35347793e-02, 2.69772798e-01],\n",
              "       [1.36377672e-02, 1.03670053e-01, 2.78759062e-01, 7.06067011e-02,\n",
              "        1.21238433e-01, 1.43121257e-01, 2.68966734e-01],\n",
              "       [5.56262094e-04, 5.22074521e-01, 5.79342917e-02, 7.87364915e-02,\n",
              "        6.31021559e-02, 7.83685874e-03, 2.69759476e-01],\n",
              "       [9.15687561e-01, 2.37584207e-03, 6.46305308e-02, 5.22776740e-04,\n",
              "        3.83833703e-03, 1.18890600e-02, 1.05593132e-03],\n",
              "       [4.26121103e-03, 7.22997189e-01, 1.29708230e-01, 3.65990996e-02,\n",
              "        1.82333346e-02, 2.48298906e-02, 6.33709654e-02],\n",
              "       [7.04087492e-04, 1.82812855e-01, 6.54619038e-02, 3.54783565e-01,\n",
              "        7.87509158e-02, 4.57279049e-02, 2.71758795e-01],\n",
              "       [6.95382059e-01, 3.86293717e-02, 1.05150819e-01, 1.27271879e-02,\n",
              "        5.75073920e-02, 7.45752901e-02, 1.60278212e-02],\n",
              "       [1.72263887e-02, 1.67388260e-01, 1.87954441e-01, 9.06229168e-02,\n",
              "        3.91064972e-01, 3.67739908e-02, 1.08969070e-01],\n",
              "       [4.31278575e-04, 1.13759413e-01, 4.17269617e-02, 1.60620660e-01,\n",
              "        1.04360446e-01, 1.35637056e-02, 5.65537512e-01],\n",
              "       [1.45507708e-01, 1.47920419e-02, 4.96948987e-01, 1.69745963e-02,\n",
              "        3.02334893e-02, 1.39488712e-01, 1.56054527e-01],\n",
              "       [9.74079827e-04, 5.81713736e-01, 1.73298400e-02, 2.78200299e-01,\n",
              "        8.54021534e-02, 5.52855199e-03, 3.08512710e-02],\n",
              "       [4.55886824e-03, 6.39987409e-01, 5.88014871e-02, 6.79148287e-02,\n",
              "        1.20333962e-01, 7.63141410e-03, 1.00772083e-01],\n",
              "       [1.13052940e-02, 5.82072735e-01, 9.43880975e-02, 6.37114048e-02,\n",
              "        5.12432121e-02, 2.29965560e-02, 1.74282655e-01],\n",
              "       [3.98554467e-03, 3.29452336e-01, 9.00679305e-02, 1.45021409e-01,\n",
              "        2.85431057e-01, 1.63309406e-02, 1.29710808e-01],\n",
              "       [4.75075049e-03, 6.40863180e-01, 1.05432093e-01, 4.02566828e-02,\n",
              "        5.84589802e-02, 9.03510675e-03, 1.41203329e-01],\n",
              "       [2.00919304e-02, 1.46415949e-01, 2.42373303e-01, 6.24301508e-02,\n",
              "        3.76551121e-01, 3.59468833e-02, 1.16190605e-01],\n",
              "       [6.71017230e-01, 1.46137383e-02, 2.47779548e-01, 4.63066762e-03,\n",
              "        8.05374607e-03, 4.12505157e-02, 1.26544954e-02],\n",
              "       [5.25341451e-01, 3.46440524e-02, 3.03663433e-01, 9.65166278e-03,\n",
              "        4.10554633e-02, 5.94022498e-02, 2.62416713e-02],\n",
              "       [1.46523818e-01, 1.07530028e-01, 5.04863918e-01, 2.35095844e-02,\n",
              "        3.61853614e-02, 4.12674546e-02, 1.40119866e-01],\n",
              "       [3.86586040e-01, 8.98034722e-02, 1.29119992e-01, 3.46541069e-02,\n",
              "        2.82084674e-01, 1.72993969e-02, 6.04523197e-02],\n",
              "       [5.48625086e-03, 1.56659722e-01, 6.53844476e-02, 3.56749743e-02,\n",
              "        5.86517274e-01, 1.37399854e-02, 1.36537284e-01],\n",
              "       [1.56323693e-03, 7.14835405e-01, 3.34762335e-02, 1.15586519e-01,\n",
              "        9.48021561e-02, 5.32724243e-03, 3.44091915e-02],\n",
              "       [4.58204836e-01, 1.11227587e-01, 1.94659725e-01, 2.99600642e-02,\n",
              "        1.74871400e-01, 1.04820477e-02, 2.05943082e-02],\n",
              "       [3.49339214e-04, 4.36735898e-02, 6.71178568e-03, 8.51346850e-01,\n",
              "        4.26440649e-02, 1.93990562e-02, 3.58754843e-02],\n",
              "       [2.58029401e-02, 2.03126669e-01, 2.11785018e-01, 4.78200279e-02,\n",
              "        1.39601678e-01, 1.56807750e-01, 2.15055943e-01],\n",
              "       [2.47714221e-02, 2.92134672e-01, 3.30202252e-01, 3.92824411e-02,\n",
              "        1.94447991e-02, 2.52752036e-01, 4.14123721e-02],\n",
              "       [2.76674390e-01, 7.08169863e-02, 2.91067123e-01, 3.07823606e-02,\n",
              "        2.53383905e-01, 2.64125541e-02, 5.08627258e-02],\n",
              "       [1.67593345e-01, 2.32336260e-02, 5.53202033e-01, 1.00581357e-02,\n",
              "        1.43450722e-02, 2.10249722e-01, 2.13180352e-02],\n",
              "       [5.31252325e-02, 3.03882897e-01, 2.94997096e-01, 4.60091755e-02,\n",
              "        1.86019480e-01, 4.71265092e-02, 6.88395649e-02],\n",
              "       [8.77543688e-01, 1.75307542e-02, 5.18352278e-02, 2.13900791e-03,\n",
              "        4.37164828e-02, 4.39442508e-03, 2.84036179e-03],\n",
              "       [3.95649159e-03, 8.20365310e-01, 5.05874828e-02, 6.02741539e-02,\n",
              "        3.02934833e-02, 1.94111671e-02, 1.51117807e-02],\n",
              "       [6.07683614e-04, 3.56299579e-01, 1.94694251e-02, 3.14225018e-01,\n",
              "        1.21047692e-02, 3.07333581e-02, 2.66560227e-01],\n",
              "       [2.40872428e-03, 2.19622999e-01, 4.27641794e-02, 9.59016234e-02,\n",
              "        3.19006145e-01, 1.87134650e-02, 3.01582843e-01],\n",
              "       [5.39007422e-04, 3.04198176e-01, 6.11364767e-02, 1.03892833e-01,\n",
              "        1.76060006e-01, 9.60394461e-03, 3.44569534e-01],\n",
              "       [1.16630390e-01, 7.64942467e-02, 5.50539017e-01, 2.19732728e-02,\n",
              "        3.08463816e-02, 4.93508354e-02, 1.54165775e-01],\n",
              "       [6.12087436e-02, 1.60399601e-01, 3.84033084e-01, 3.64911444e-02,\n",
              "        9.30821449e-02, 3.80371734e-02, 2.26748139e-01],\n",
              "       [4.51508816e-03, 3.13393563e-01, 4.46323194e-02, 2.86367059e-01,\n",
              "        2.73378938e-01, 3.09742913e-02, 4.67387252e-02],\n",
              "       [1.46237388e-01, 2.17586815e-01, 1.56140789e-01, 1.23175427e-01,\n",
              "        1.26238167e-01, 1.70101821e-01, 6.05196133e-02],\n",
              "       [1.29576959e-02, 2.66117584e-02, 1.06706142e-01, 2.44027413e-02,\n",
              "        4.75882133e-03, 7.92434871e-01, 3.21279429e-02],\n",
              "       [1.25562958e-03, 1.60058483e-01, 8.72334093e-02, 8.39934126e-02,\n",
              "        3.66844296e-01, 1.48209026e-02, 2.85793841e-01],\n",
              "       [2.54883319e-01, 4.07192171e-01, 2.07559660e-01, 3.60109657e-02,\n",
              "        2.06578225e-02, 2.52755433e-02, 4.84205633e-02],\n",
              "       [1.18606165e-02, 1.61239326e-01, 2.58614182e-01, 8.35014433e-02,\n",
              "        8.03624317e-02, 4.88949306e-02, 3.55527163e-01],\n",
              "       [8.81241202e-01, 4.35249042e-03, 1.01686999e-01, 6.68395543e-04,\n",
              "        7.33373500e-03, 3.04235704e-03, 1.67488749e-03],\n",
              "       [6.80548139e-03, 3.67100358e-01, 6.48811087e-02, 2.65486956e-01,\n",
              "        6.49869218e-02, 1.32341295e-01, 9.83978957e-02],\n",
              "       [3.45254812e-04, 2.42828190e-01, 2.30277609e-02, 5.25189675e-02,\n",
              "        1.64430458e-02, 1.24782156e-02, 6.52358532e-01],\n",
              "       [8.23420472e-03, 2.09916934e-01, 6.69444427e-02, 4.29547317e-02,\n",
              "        6.40859306e-01, 3.82877863e-03, 2.72615962e-02],\n",
              "       [2.71110190e-03, 9.13104787e-02, 6.73519000e-02, 2.46840850e-01,\n",
              "        1.96185723e-01, 8.24921876e-02, 3.13107759e-01],\n",
              "       [7.82302767e-03, 1.21912606e-01, 3.73411596e-01, 2.81735249e-02,\n",
              "        1.44684970e-01, 2.47496702e-02, 2.99244553e-01],\n",
              "       [1.14529235e-02, 2.88200229e-01, 1.39676481e-01, 1.69574305e-01,\n",
              "        1.95798501e-01, 5.02284728e-02, 1.45069063e-01],\n",
              "       [2.92332261e-03, 3.85796726e-01, 4.77060713e-02, 9.86325964e-02,\n",
              "        3.29607546e-01, 8.45345855e-03, 1.26880318e-01],\n",
              "       [2.27188793e-04, 1.68949395e-01, 2.02751085e-02, 5.74768543e-01,\n",
              "        6.80876821e-02, 1.01201227e-02, 1.57571927e-01],\n",
              "       [2.00715289e-01, 4.11363207e-02, 1.37058675e-01, 1.64749641e-02,\n",
              "        5.56279898e-01, 1.20502152e-02, 3.62845920e-02],\n",
              "       [1.14968523e-01, 1.67570010e-01, 2.86188453e-01, 5.29320203e-02,\n",
              "        2.60872155e-01, 4.13053483e-02, 7.61634335e-02],\n",
              "       [2.28236556e-01, 3.00723743e-02, 2.74461269e-01, 4.57978696e-02,\n",
              "        3.46215479e-02, 3.32071662e-01, 5.47387749e-02],\n",
              "       [2.61247577e-03, 3.13079268e-01, 9.07235295e-02, 1.29922792e-01,\n",
              "        4.03373092e-02, 1.73345640e-01, 2.49979004e-01],\n",
              "       [1.50341153e-01, 2.71013558e-01, 1.91735968e-01, 6.55671507e-02,\n",
              "        2.69265056e-01, 6.98498683e-03, 4.50921990e-02],\n",
              "       [4.57664460e-01, 8.25481303e-03, 4.58615422e-01, 2.44162907e-03,\n",
              "        6.20767940e-03, 4.43868823e-02, 2.24290565e-02],\n",
              "       [1.02299824e-03, 4.94818203e-03, 4.12288755e-02, 3.82587671e-01,\n",
              "        6.88423142e-02, 3.52236420e-01, 1.49133518e-01],\n",
              "       [4.33515042e-01, 1.66235995e-02, 2.35958755e-01, 3.37443687e-02,\n",
              "        1.71432439e-02, 1.76209256e-01, 8.68058130e-02],\n",
              "       [1.02307252e-03, 4.54048276e-01, 2.43867505e-02, 3.70210826e-01,\n",
              "        7.21281543e-02, 1.50421550e-02, 6.31607547e-02],\n",
              "       [6.26608590e-03, 4.66717005e-01, 8.47409964e-02, 1.21644825e-01,\n",
              "        1.24683883e-02, 2.38561034e-01, 6.96017519e-02],\n",
              "       [6.20631516e-01, 1.18706413e-02, 2.93245822e-01, 4.79751080e-03,\n",
              "        3.88459079e-02, 9.08193644e-03, 2.15267316e-02],\n",
              "       [7.23717213e-02, 3.05181891e-01, 1.61768571e-01, 7.54660517e-02,\n",
              "        3.23260576e-01, 5.72457770e-03, 5.62266558e-02],\n",
              "       [2.03048754e-02, 2.57478543e-02, 3.33416909e-01, 2.97442023e-02,\n",
              "        1.58122480e-02, 4.62419450e-01, 1.12554431e-01],\n",
              "       [2.37980589e-01, 1.37429476e-01, 1.60535976e-01, 1.14497922e-01,\n",
              "        1.67109035e-02, 1.78922758e-01, 1.53922468e-01],\n",
              "       [1.58865213e-01, 1.80487022e-01, 3.12430382e-01, 5.42851649e-02,\n",
              "        2.18901858e-01, 2.13108733e-02, 5.37194535e-02],\n",
              "       [4.13357629e-04, 3.48407328e-01, 2.51711383e-02, 7.77147487e-02,\n",
              "        1.99516080e-02, 1.59563106e-02, 5.12385547e-01],\n",
              "       [2.50360044e-03, 1.68214485e-01, 9.19489935e-02, 1.03595123e-01,\n",
              "        5.72119728e-02, 9.80192646e-02, 4.78506595e-01],\n",
              "       [9.33840200e-02, 2.95902863e-02, 4.30085540e-01, 4.25424464e-02,\n",
              "        5.28210141e-02, 1.25747368e-01, 2.25829244e-01],\n",
              "       [9.05967026e-04, 2.33994171e-01, 3.55637223e-02, 2.01206997e-01,\n",
              "        2.04465706e-02, 3.46139185e-02, 4.73268688e-01],\n",
              "       [2.55966801e-02, 8.09367523e-02, 6.38411716e-02, 2.45077267e-01,\n",
              "        2.79281050e-01, 1.25940353e-01, 1.79326728e-01],\n",
              "       [9.36311245e-01, 8.53798911e-03, 4.02454026e-02, 1.33198604e-03,\n",
              "        1.02988882e-02, 2.02211202e-03, 1.25227834e-03],\n",
              "       [3.30712850e-04, 6.15404136e-02, 2.52604336e-02, 6.42307699e-01,\n",
              "        5.19537032e-02, 2.58602202e-02, 1.92746833e-01],\n",
              "       [2.40639760e-03, 1.80160850e-01, 5.28881922e-02, 7.54964277e-02,\n",
              "        4.81484056e-01, 1.32996524e-02, 1.94264427e-01],\n",
              "       [1.44486432e-03, 1.03548408e-01, 8.33528787e-02, 7.94328600e-02,\n",
              "        3.98349613e-01, 1.82274021e-02, 3.15643966e-01],\n",
              "       [3.82249616e-03, 1.11492153e-03, 3.47909480e-02, 5.86677082e-02,\n",
              "        1.30866002e-02, 8.58179688e-01, 3.03376447e-02],\n",
              "       [1.98876634e-01, 1.18991835e-02, 3.09339911e-01, 1.71349514e-02,\n",
              "        6.97020395e-03, 4.16678935e-01, 3.91001143e-02],\n",
              "       [2.19184794e-02, 2.10151047e-01, 1.92885965e-01, 1.22657850e-01,\n",
              "        2.89815366e-01, 6.17946908e-02, 1.00776665e-01],\n",
              "       [1.05783688e-02, 5.49716055e-02, 1.44341305e-01, 3.20285141e-01,\n",
              "        8.48449096e-02, 1.42349109e-01, 2.42629588e-01],\n",
              "       [4.84875180e-02, 5.23026347e-01, 1.76537931e-01, 7.02771917e-02,\n",
              "        1.00384809e-01, 3.46059762e-02, 4.66802232e-02],\n",
              "       [1.63002303e-04, 2.05043852e-02, 1.29283192e-02, 1.56751186e-01,\n",
              "        2.03041974e-02, 2.26725601e-02, 7.66676307e-01],\n",
              "       [3.12935794e-03, 3.91448699e-02, 1.57049909e-01, 1.60915092e-01,\n",
              "        2.95807928e-01, 8.51089805e-02, 2.58843869e-01],\n",
              "       [9.23724473e-03, 3.74322206e-01, 1.44096658e-01, 8.06122497e-02,\n",
              "        2.88338006e-01, 1.03971800e-02, 9.29964036e-02],\n",
              "       [9.00298119e-01, 9.64933354e-03, 7.65141547e-02, 1.24091154e-03,\n",
              "        6.86287973e-03, 3.35312728e-03, 2.08154344e-03],\n",
              "       [3.14380974e-03, 7.66695216e-02, 1.00122243e-01, 3.90481837e-02,\n",
              "        1.03607647e-01, 1.95018258e-02, 6.57906771e-01]], dtype=float32)"
            ]
          },
          "metadata": {},
          "execution_count": 57
        }
      ]
    },
    {
      "cell_type": "code",
      "source": [
        "y_pred_test_class "
      ],
      "metadata": {
        "colab": {
          "base_uri": "https://localhost:8080/"
        },
        "id": "ph-j4nBsAxjT",
        "outputId": "3a44ae51-0303-4669-c421-d4e15c539dac"
      },
      "execution_count": 58,
      "outputs": [
        {
          "output_type": "execute_result",
          "data": {
            "text/plain": [
              "array([1, 1, 6, 6, 0, 5, 5, 2, 3, 6, 1, 1, 0, 5, 6, 0, 3, 6, 1, 6, 2, 1,\n",
              "       0, 0, 6, 0, 2, 0, 6, 1, 5, 1, 3, 6, 4, 2, 6, 1, 4, 2, 1, 0, 1, 3,\n",
              "       0, 4, 6, 2, 1, 1, 1, 1, 1, 4, 0, 0, 2, 0, 4, 1, 0, 3, 6, 2, 2, 2,\n",
              "       1, 0, 1, 1, 4, 6, 2, 2, 1, 1, 5, 4, 1, 6, 0, 1, 6, 4, 6, 2, 1, 1,\n",
              "       3, 4, 2, 5, 1, 1, 2, 3, 0, 1, 1, 0, 4, 5, 0, 2, 6, 6, 2, 6, 4, 0,\n",
              "       3, 4, 4, 5, 5, 4, 3, 1, 6, 4, 1, 0, 6])"
            ]
          },
          "metadata": {},
          "execution_count": 58
        }
      ]
    },
    {
      "cell_type": "markdown",
      "source": [
        "### Test Set Confusion Matrix and Heatmap"
      ],
      "metadata": {
        "id": "Epp2QpxsUVXH"
      }
    },
    {
      "cell_type": "code",
      "source": [
        "# Test set Confusion matrix\n",
        "\n",
        "cm=confusion_matrix(y_test_class, y_pred_test_class)\n",
        "\n",
        "index = ['calm', 'happy', 'sad', 'angry', 'fearful', 'disgust', 'surprised']  \n",
        "columns = ['calm', 'happy', 'sad', 'angry', 'fearful', 'disgust', 'surprised']  \n",
        " \n",
        "cm_df = pd.DataFrame(cm,index,columns)                      \n",
        "plt.figure(figsize=(12,8))\n",
        "ax = plt.axes()\n",
        "\n",
        "sns.heatmap(cm_df, ax = ax, cmap = 'BuGn', fmt=\"d\", annot=True)\n",
        "ax.set_ylabel('True emotion')\n",
        "ax.set_xlabel('Predicted emotion')"
      ],
      "metadata": {
        "colab": {
          "base_uri": "https://localhost:8080/",
          "height": 0
        },
        "id": "ukGrk_cagzyb",
        "outputId": "d57b663d-5f57-4307-ba17-22da47134d30"
      },
      "execution_count": 59,
      "outputs": [
        {
          "output_type": "execute_result",
          "data": {
            "text/plain": [
              "Text(0.5, 51.0, 'Predicted emotion')"
            ]
          },
          "metadata": {},
          "execution_count": 59
        },
        {
          "output_type": "display_data",
          "data": {
            "text/plain": [
              "<Figure size 864x576 with 2 Axes>"
            ],
            "image/png": "[encoded data removed]"
          },
          "metadata": {
            "needs_background": "light"
          }
        }
      ]
    },
    {
      "cell_type": "code",
      "source": [
        "# Confusion Matrix\n",
        "cm"
      ],
      "metadata": {
        "colab": {
          "base_uri": "https://localhost:8080/"
        },
        "id": "9f51xwUE8haF",
        "outputId": "3af87a2c-0190-4b97-ac20-b8b8f65a71cd"
      },
      "execution_count": 60,
      "outputs": [
        {
          "output_type": "execute_result",
          "data": {
            "text/plain": [
              "array([[12,  2,  1,  0,  0,  0,  0],\n",
              "       [ 2,  8,  1,  0,  1,  0,  2],\n",
              "       [ 2,  2,  7,  1,  3,  0,  0],\n",
              "       [ 0,  5,  2,  6,  2,  3,  2],\n",
              "       [ 1,  7,  3,  0,  5,  1,  4],\n",
              "       [ 2,  1,  2,  1,  1,  4,  5],\n",
              "       [ 1,  7,  1,  1,  3,  1,  8]])"
            ]
          },
          "metadata": {},
          "execution_count": 60
        }
      ]
    },
    {
      "cell_type": "markdown",
      "source": [
        "### Test Set Predicted emotions accuracy"
      ],
      "metadata": {
        "id": "zil3CkweUX0q"
      }
    },
    {
      "cell_type": "code",
      "source": [
        "# Test set prediction accuracy rates\n",
        "\n",
        "values = cm.diagonal()\n",
        "row_sum = np.sum(cm,axis=1)\n",
        "acc = values / row_sum\n",
        "\n",
        "print('Test set predicted emotions accuracy:')\n",
        "for e in range(0, len(values)):\n",
        "    print(index[e],':', f\"{(acc[e]):0.4f}\")"
      ],
      "metadata": {
        "colab": {
          "base_uri": "https://localhost:8080/"
        },
        "id": "t_ORyGGig090",
        "outputId": "f0eeb86f-4a36-4a19-e756-f8f27cfa1773"
      },
      "execution_count": 61,
      "outputs": [
        {
          "output_type": "stream",
          "name": "stdout",
          "text": [
            "Test set predicted emotions accuracy:\n",
            "calm : 0.8000\n",
            "happy : 0.5714\n",
            "sad : 0.4667\n",
            "angry : 0.3000\n",
            "fearful : 0.2381\n",
            "disgust : 0.2500\n",
            "surprised : 0.3636\n"
          ]
        }
      ]
    },
    {
      "cell_type": "markdown",
      "source": [
        "### Precision, Recal, Fscore"
      ],
      "metadata": {
        "id": "8Hzthv1t8kwd"
      }
    },
    {
      "cell_type": "code",
      "source": [
        "# Validation set precision, recall, fscore\n",
        "\n",
        "precision_recall_fscore_support(y_test_class, y_pred_test_class, average='macro')\n"
      ],
      "metadata": {
        "colab": {
          "base_uri": "https://localhost:8080/"
        },
        "id": "QnwWoVFnh33F",
        "outputId": "32179cdd-7b55-4d9f-bb5f-fb9b71ba8d66"
      },
      "execution_count": 62,
      "outputs": [
        {
          "output_type": "execute_result",
          "data": {
            "text/plain": [
              "(0.4410230758970255, 0.42711811997526283, 0.40781489673609644, None)"
            ]
          },
          "metadata": {},
          "execution_count": 62
        }
      ]
    },
    {
      "cell_type": "code",
      "source": [
        "precision_recall_fscore_support(y_test_class, y_pred_test_class, average='weighted')"
      ],
      "metadata": {
        "colab": {
          "base_uri": "https://localhost:8080/"
        },
        "id": "OlDhuPlqzwVB",
        "outputId": "7535b0a8-1e4b-40fd-df90-79489a835e95"
      },
      "execution_count": 63,
      "outputs": [
        {
          "output_type": "execute_result",
          "data": {
            "text/plain": [
              "(0.44310461311896027, 0.4065040650406504, 0.3994554586750597, None)"
            ]
          },
          "metadata": {},
          "execution_count": 63
        }
      ]
    },
    {
      "cell_type": "markdown",
      "source": [
        "### ROC AUC Score"
      ],
      "metadata": {
        "id": "sEuBd9IyLuiD"
      }
    },
    {
      "cell_type": "code",
      "source": [
        "ravdess_df = pd.read_csv (df_path)"
      ],
      "metadata": {
        "id": "8bb4OSmyTO6v"
      },
      "execution_count": 64,
      "outputs": []
    },
    {
      "cell_type": "code",
      "source": [
        "labels = [\"calm\", \"happy\", \"sad\", \"angry\", \"fear\", \"disgust\", \"suprised\"]"
      ],
      "metadata": {
        "id": "1leZ4JGVTfTp"
      },
      "execution_count": 65,
      "outputs": []
    },
    {
      "cell_type": "code",
      "source": [
        "y_test_adj = y_test.reshape(-1,)"
      ],
      "metadata": {
        "id": "MRm1ZwnxFStc"
      },
      "execution_count": 66,
      "outputs": []
    },
    {
      "cell_type": "code",
      "source": [
        "y_proba_test_class.shape"
      ],
      "metadata": {
        "colab": {
          "base_uri": "https://localhost:8080/"
        },
        "id": "O-IcYOABFjxB",
        "outputId": "a7b2fad1-b7bc-4c4a-e72d-3fc492dfa488"
      },
      "execution_count": 67,
      "outputs": [
        {
          "output_type": "execute_result",
          "data": {
            "text/plain": [
              "(123, 7)"
            ]
          },
          "metadata": {},
          "execution_count": 67
        }
      ]
    },
    {
      "cell_type": "code",
      "source": [
        "y_test.shape"
      ],
      "metadata": {
        "colab": {
          "base_uri": "https://localhost:8080/"
        },
        "id": "9AaqUY3PIlMQ",
        "outputId": "b2e88cc5-9caa-4a23-8d41-a07a35551cd8"
      },
      "execution_count": 68,
      "outputs": [
        {
          "output_type": "execute_result",
          "data": {
            "text/plain": [
              "(123, 1)"
            ]
          },
          "metadata": {},
          "execution_count": 68
        }
      ]
    },
    {
      "cell_type": "code",
      "source": [
        "y_test_adj"
      ],
      "metadata": {
        "colab": {
          "base_uri": "https://localhost:8080/"
        },
        "id": "7LgDudYTKInS",
        "outputId": "7a0dc5f8-a780-4848-9180-01f8c6a070c8"
      },
      "execution_count": 69,
      "outputs": [
        {
          "output_type": "execute_result",
          "data": {
            "text/plain": [
              "array([6, 3, 5, 4, 0, 4, 5, 4, 3, 6, 3, 4, 0, 5, 3, 0, 5, 5, 2, 6, 6, 0,\n",
              "       0, 2, 5, 0, 5, 0, 4, 1, 3, 6, 6, 5, 4, 2, 5, 4, 4, 5, 6, 0, 1, 2,\n",
              "       1, 1, 6, 2, 6, 4, 5, 6, 1, 2, 5, 1, 1, 4, 4, 1, 6, 3, 4, 2, 2, 2,\n",
              "       4, 0, 3, 6, 5, 1, 2, 4, 3, 0, 3, 6, 2, 6, 0, 4, 1, 3, 6, 3, 6, 4,\n",
              "       3, 3, 2, 5, 4, 1, 0, 3, 2, 3, 1, 0, 2, 6, 5, 4, 4, 3, 3, 6, 4, 0,\n",
              "       3, 4, 6, 5, 3, 2, 3, 1, 6, 6, 1, 0, 6], dtype=int8)"
            ]
          },
          "metadata": {},
          "execution_count": 69
        }
      ]
    },
    {
      "cell_type": "code",
      "source": [
        "\n",
        "\n",
        "macro_roc_auc_ovo = roc_auc_score(y_test_adj, y_proba_test_class, multi_class=\"ovo\", average=\"macro\")\n",
        "weighted_roc_auc_ovo = roc_auc_score(\n",
        "    y_test_adj, y_proba_test_class, multi_class=\"ovo\", average=\"weighted\"\n",
        ")\n",
        "macro_roc_auc_ovr = roc_auc_score(y_test_adj, y_proba_test_class, multi_class=\"ovr\", average=\"macro\")\n",
        "weighted_roc_auc_ovr = roc_auc_score(\n",
        "    y_test_adj, y_proba_test_class, multi_class=\"ovr\", average=\"weighted\"\n",
        ")\n"
      ],
      "metadata": {
        "id": "oMa4N8EhHlY9"
      },
      "execution_count": 70,
      "outputs": []
    },
    {
      "cell_type": "code",
      "source": [
        "print(\"One-vs-One ROC AUC scores:\\n{:.6f} (macro),\\n{:.6f} \" \"(weighted by prevalence)\\n\".format(macro_roc_auc_ovo, weighted_roc_auc_ovo))\n",
        "print(\"One-vs-Rest ROC AUC scores:\\n{:.6f} (macro),\\n{:.6f} \" \"(weighted by prevalence)\".format(macro_roc_auc_ovr, weighted_roc_auc_ovr))"
      ],
      "metadata": {
        "colab": {
          "base_uri": "https://localhost:8080/"
        },
        "id": "hhBLwtO_ICqL",
        "outputId": "b304d692-f1de-4b31-f5fa-529200aefdc9"
      },
      "execution_count": 71,
      "outputs": [
        {
          "output_type": "stream",
          "name": "stdout",
          "text": [
            "One-vs-One ROC AUC scores:\n",
            "0.787016 (macro),\n",
            "0.779917 (weighted by prevalence)\n",
            "\n",
            "One-vs-Rest ROC AUC scores:\n",
            "0.780875 (macro),\n",
            "0.770409 (weighted by prevalence)\n"
          ]
        }
      ]
    },
    {
      "cell_type": "code",
      "source": [
        ""
      ],
      "metadata": {
        "id": "T_xLVM8ey0QT"
      },
      "execution_count": 71,
      "outputs": []
    }
  ]
}