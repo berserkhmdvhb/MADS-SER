{
  "metadata": {
    "kernelspec": {
      "language": "python",
      "display_name": "Python 3",
      "name": "python3"
    },
    "language_info": {
      "pygments_lexer": "ipython3",
      "nbconvert_exporter": "python",
      "version": "3.6.4",
      "file_extension": ".py",
      "codemirror_mode": {
        "name": "ipython",
        "version": 3
      },
      "name": "python",
      "mimetype": "text/x-python"
    },
    "colab": {
      "name": "SER-RAVDESS-model-BIGRU-OS-128-SOLE.ipynb",
      "provenance": [],
      "collapsed_sections": [
        "anSyerIFN7qd",
        "nyMzoZKKKiw6"
      ]
    }
  },
  "nbformat_minor": 0,
  "nbformat": 4,
  "cells": [
    {
      "cell_type": "markdown",
      "source": [
        "# Imports"
      ],
      "metadata": {
        "id": "anSyerIFN7qd"
      }
    },
    {
      "cell_type": "code",
      "source": [
        "# Importing Libraries"
      ],
      "metadata": {
        "id": "IMFSwIuvKiw2"
      },
      "execution_count": null,
      "outputs": []
    },
    {
      "cell_type": "code",
      "source": [
        "!pip install json-tricks"
      ],
      "metadata": {
        "colab": {
          "base_uri": "https://localhost:8080/"
        },
        "id": "bBR8aNsmM2tR",
        "outputId": "bc18e732-eaf6-4594-d202-4537b86c453f"
      },
      "execution_count": null,
      "outputs": [
        {
          "output_type": "stream",
          "name": "stdout",
          "text": [
            "Looking in indexes: https://pypi.org/simple, https://us-python.pkg.dev/colab-wheels/public/simple/\n",
            "Collecting json-tricks\n",
            "  Downloading json_tricks-3.15.5-py2.py3-none-any.whl (26 kB)\n",
            "Installing collected packages: json-tricks\n",
            "Successfully installed json-tricks-3.15.5\n"
          ]
        }
      ]
    },
    {
      "cell_type": "code",
      "source": [
        "import pandas as pd\n",
        "import numpy as np\n",
        "\n",
        "import os\n",
        "import sys\n",
        "\n",
        "import librosa\n",
        "import librosa.display\n",
        "#from pydub import AudioSegment, effects\n",
        "#import noisereduce as nr\n",
        "\n",
        "\n",
        "import seaborn as sns\n",
        "import matplotlib.pyplot as plt\n",
        "from IPython.display import Audio\n",
        "\n",
        "import tensorflow as tf\n",
        "import keras\n",
        "import sklearn\n",
        "\n",
        "\n",
        "from tensorflow.keras.models import Sequential, Model\n",
        "from tensorflow.keras.layers import Dense, LSTM, Flatten, Dropout, BatchNormalization\n",
        "from tensorflow.keras.callbacks import ModelCheckpoint, EarlyStopping, ReduceLROnPlateau\n",
        "from tensorflow.keras.optimizers import Adam, SGD\n",
        "from tensorflow.keras.utils import to_categorical, plot_model\n",
        "\n",
        "\n",
        "from keras.models import Sequential, model_from_json, load_model\n",
        "from keras import layers\n",
        "from keras import optimizers\n",
        "from keras import callbacks\n",
        "\n",
        "from sklearn.preprocessing import StandardScaler, OneHotEncoder, LabelEncoder\n",
        "from sklearn.metrics import confusion_matrix, classification_report, precision_recall_fscore_support, roc_auc_score\n",
        "from sklearn.model_selection import train_test_split, StratifiedShuffleSplit\n",
        "from sklearn.multiclass import OneVsRestClassifier\n",
        "\n",
        "\n",
        "from tqdm import tqdm\n",
        "\n",
        "\n",
        "from json_tricks import dump, load\n",
        "\n",
        "\n",
        "\n",
        "import warnings\n",
        "if not sys.warnoptions:\n",
        "    warnings.simplefilter(\"ignore\")\n",
        "warnings.filterwarnings(\"ignore\", category=DeprecationWarning) \n",
        "\n",
        "import time\n",
        "tic = time.perf_counter()\n",
        "\n"
      ],
      "metadata": {
        "id": "77IS8HxqFFCA"
      },
      "execution_count": null,
      "outputs": []
    },
    {
      "cell_type": "code",
      "source": [
        ""
      ],
      "metadata": {
        "id": "gGYqBIk0FGm4"
      },
      "execution_count": null,
      "outputs": []
    },
    {
      "cell_type": "markdown",
      "source": [
        "# Dataset"
      ],
      "metadata": {
        "id": "nyMzoZKKKiw6"
      }
    },
    {
      "cell_type": "code",
      "source": [
        "from google.colab import drive\n",
        "drive.mount('/content/drive')"
      ],
      "metadata": {
        "colab": {
          "base_uri": "https://localhost:8080/"
        },
        "id": "JFPDGXmwCBs_",
        "outputId": "d4e75690-cc75-4329-f9f5-032c410ba39f"
      },
      "execution_count": null,
      "outputs": [
        {
          "output_type": "stream",
          "name": "stdout",
          "text": [
            "Mounted at /content/drive\n"
          ]
        }
      ]
    },
    {
      "cell_type": "code",
      "source": [
        "#Crema = \"/content/drive/MyDrive/datasets/speech/CREMAD/sample/\"\n",
        "#Crema = \"/content/drive/MyDrive/datasets/speech/CREMAD/AudioWAV/\"\n",
        "Ravdess = \"/content/drive/MyDrive/datasets/speech/RAVDESS/data/Audio_Speech_Actors_01-24\"\n",
        "Ravdess_processed = \"/content/drive/MyDrive/datasets/speech/RAVDESS/processedData/onlySpeech/\"\n",
        "Ravdess_speech_sample = \"/content/drive/MyDrive/datasets/speech/RAVDESS/data/Audio_Speech_Actors_01-24/\"\n",
        "df_path = \"/content/drive/MyDrive/datasets/speech/RAVDESS/ravdess_df_onlySpeech.csv\"\n",
        "model_path = Ravdess + \"/model/\"\n",
        "\n",
        "checkpoint_path = model_path + \"best_weights-os-GRU-MFCC_MEL.hdf5\"\n",
        "saved_model_path = model_path + 'model8723-os-GRU-MFCC_MEL.json'\n",
        "\n",
        "saved_weights_path = model_path + 'model8723_weights-os-GRU-MFCC_MEL.h5'\n",
        "saved_model_path_2 = model_path + 'Speech-Emotion-Recognition-Model-os-GRU-MFCC_MEL.h5'"
      ],
      "metadata": {
        "execution": {
          "iopub.status.busy": "2021-06-21T09:35:38.093538Z",
          "iopub.execute_input": "2021-06-21T09:35:38.093869Z",
          "iopub.status.idle": "2021-06-21T09:35:38.097467Z",
          "shell.execute_reply.started": "2021-06-21T09:35:38.093838Z",
          "shell.execute_reply": "2021-06-21T09:35:38.096608Z"
        },
        "trusted": true,
        "id": "vR2GjHL4Kiw7"
      },
      "execution_count": null,
      "outputs": []
    },
    {
      "cell_type": "code",
      "source": [
        ""
      ],
      "metadata": {
        "id": "J2T6JxzIF2Jq"
      },
      "execution_count": null,
      "outputs": []
    },
    {
      "cell_type": "code",
      "source": [
        "##Hypter Parameters' Range\n",
        "params = {\n",
        "    \"batch_size\": 20,  # 20<16<10, 25 was a bust\n",
        "    \"epochs\": 300,\n",
        "    \"lr\": 0.00010000,\n",
        "    \"time_steps\": 60\n",
        "}\n",
        "#TIME_STEPS = params[\"time_steps\"]\n",
        "#BATCH_SIZE = params[\"batch_size\"]\n",
        "#iter_changes = \"dropout_layers_0.4_0.4\"\n"
      ],
      "metadata": {
        "id": "jnEd5_Vvy4ue"
      },
      "execution_count": null,
      "outputs": []
    },
    {
      "cell_type": "code",
      "source": [
        ""
      ],
      "metadata": {
        "id": "dKXM0xT-N8uy"
      },
      "execution_count": null,
      "outputs": []
    },
    {
      "cell_type": "markdown",
      "source": [
        "# Load Processed Files, Construct Train, Validation and Test Sets"
      ],
      "metadata": {
        "id": "fse_mTpaOGdQ"
      }
    },
    {
      "cell_type": "code",
      "source": [
        "\n",
        "processed_path = Ravdess_processed\n",
        "x_path = processed_path + \"X_features_MFCC.json\" # FILE LOAD PATH\n",
        "y_path =  processed_path + \"Y_labels.json\" # FILE SAVE PATH\n",
        "#x_path = '/content/drive/MyDrive/datasets/speech/RAVDESS/processedData/X_features.json'\n",
        "\n",
        "# Load X,Y json files back into lists, convert to np.arrays\n",
        "\n",
        "X = load(x_path)\n",
        "X = np.asarray(X, dtype = 'float32')\n",
        "\n",
        "Y = load(y_path)\n",
        "Y = np.asarray(Y, dtype = 'int8')"
      ],
      "metadata": {
        "id": "101BpvWgN8xX"
      },
      "execution_count": null,
      "outputs": []
    },
    {
      "cell_type": "code",
      "source": [
        "# Split to train, validation, and test sets.\n",
        "from sklearn.model_selection import train_test_split\n",
        "# 1st Split: X,Y => (x_train, x_tosplit) (y_train, y_tosplit)\n",
        "x_train, x_tosplit, y_train, y_tosplit = train_test_split(X, Y, test_size = 0.30, random_state = 1)\n",
        "# 2nd Split: x_tosplit,y_tosplit => (x_val, x_test) (y_val, y_test) \n",
        "x_val, x_test, y_val, y_test = train_test_split(x_tosplit, y_tosplit, test_size = 0.304, random_state = 1)\n",
        "#'One-hot' vectors for Y: emotion classification\n",
        "y_train_class = tf.keras.utils.to_categorical(y_train, 7, dtype = 'int8')\n",
        "y_val_class = tf.keras.utils.to_categorical(y_val, 7, dtype = 'int8')"
      ],
      "metadata": {
        "id": "CuF9M1mfOD7X"
      },
      "execution_count": null,
      "outputs": []
    },
    {
      "cell_type": "code",
      "source": [
        "# x_train, x_val, and x_test shape check.\n",
        "print(np.shape(x_train))\n",
        "print(np.shape(x_val))\n",
        "print(np.shape(x_test))"
      ],
      "metadata": {
        "colab": {
          "base_uri": "https://localhost:8080/"
        },
        "id": "od-D1YgBOGXs",
        "outputId": "54e965fc-d53e-4e1f-9cd8-cb2d93abe297"
      },
      "execution_count": null,
      "outputs": [
        {
          "output_type": "stream",
          "name": "stdout",
          "text": [
            "(940, 448, 13)\n",
            "(281, 448, 13)\n",
            "(123, 448, 13)\n"
          ]
        }
      ]
    },
    {
      "cell_type": "code",
      "source": [
        "X_train = x_train\n",
        "X_val = x_val\n",
        "X_test = x_test"
      ],
      "metadata": {
        "id": "MAhaNJDL4reG"
      },
      "execution_count": null,
      "outputs": []
    },
    {
      "cell_type": "code",
      "source": [
        "# Save x_test, y_test to JSON.\n",
        "\n",
        "x_test_path = processed_path + 'x_test_data.json'\n",
        "dump(obj = x_test, fp = x_test_path)\n",
        "\n",
        "y_test_path = processed_path + 'y_test_data.json'\n",
        "dump(obj = y_test, fp = y_test_path)"
      ],
      "metadata": {
        "colab": {
          "base_uri": "https://localhost:8080/",
          "height": 105
        },
        "id": "nTExHJVsOHQ5",
        "outputId": "4e17b578-3f2b-4f99-adc1-2da1ea481c24"
      },
      "execution_count": null,
      "outputs": [
        {
          "output_type": "execute_result",
          "data": {
            "text/plain": [
              "'{\"__ndarray__\": [[6], [3], [5], [4], [0], [4], [5], [4], [3], [6], [3], [4], [0], [5], [3], [0], [5], [5], [2], [6], [6], [0], [0], [2], [5], [0], [5], [0], [4], [1], [3], [6], [6], [5], [4], [2], [5], [4], [4], [5], [6], [0], [1], [2], [1], [1], [6], [2], [6], [4], [5], [6], [1], [2], [5], [1], [1], [4], [4], [1], [6], [3], [4], [2], [2], [2], [4], [0], [3], [6], [5], [1], [2], [4], [3], [0], [3], [6], [2], [6], [0], [4], [1], [3], [6], [3], [6], [4], [3], [3], [2], [5], [4], [1], [0], [3], [2], [3], [1], [0], [2], [6], [5], [4], [4], [3], [3], [6], [4], [0], [3], [4], [6], [5], [3], [2], [3], [1], [6], [6], [1], [0], [6]], \"dtype\": \"int8\", \"shape\": [123, 1], \"Corder\": true}'"
            ],
            "application/vnd.google.colaboratory.intrinsic+json": {
              "type": "string"
            }
          },
          "metadata": {},
          "execution_count": 11
        }
      ]
    },
    {
      "cell_type": "code",
      "source": [
        "# Loading x_test, y_test json files, and converting to np.arrays\n",
        "\n",
        "x_test = load(processed_path + 'x_test_data.json')\n",
        "x_test = np.asarray(x_test).astype('float32')\n",
        "\n",
        "y_test = load(processed_path + 'y_test_data.json')\n",
        "y_test = np.asarray(y_test).astype('int8')\n",
        "\n",
        "y_test_class = tf.keras.utils.to_categorical(y_test, 7, dtype = 'int8')"
      ],
      "metadata": {
        "id": "kAFBRsmk5dzm"
      },
      "execution_count": null,
      "outputs": []
    },
    {
      "cell_type": "code",
      "source": [
        "X.shape"
      ],
      "metadata": {
        "id": "15joCR4gu4r7",
        "colab": {
          "base_uri": "https://localhost:8080/"
        },
        "outputId": "ce00a092-30b9-4193-e41c-e33d83dc7dca"
      },
      "execution_count": null,
      "outputs": [
        {
          "output_type": "execute_result",
          "data": {
            "text/plain": [
              "(1344, 448, 13)"
            ]
          },
          "metadata": {},
          "execution_count": 13
        }
      ]
    },
    {
      "cell_type": "code",
      "source": [
        "X.shape[1:3]"
      ],
      "metadata": {
        "colab": {
          "base_uri": "https://localhost:8080/"
        },
        "id": "8MQhoPKjEzi4",
        "outputId": "a8233dc1-0e3a-4a18-8c79-2121690a4f61"
      },
      "execution_count": null,
      "outputs": [
        {
          "output_type": "execute_result",
          "data": {
            "text/plain": [
              "(448, 13)"
            ]
          },
          "metadata": {},
          "execution_count": 14
        }
      ]
    },
    {
      "cell_type": "markdown",
      "source": [
        "# RNN Model"
      ],
      "metadata": {
        "id": "gnWVMbR6KixC"
      }
    },
    {
      "cell_type": "code",
      "source": [
        "tic"
      ],
      "metadata": {
        "colab": {
          "base_uri": "https://localhost:8080/"
        },
        "id": "7CHZWdfcN8oo",
        "outputId": "13de50ff-413a-4206-8058-066066ac3b08"
      },
      "execution_count": null,
      "outputs": [
        {
          "output_type": "execute_result",
          "data": {
            "text/plain": [
              "148.765445788"
            ]
          },
          "metadata": {},
          "execution_count": 15
        }
      ]
    },
    {
      "cell_type": "markdown",
      "source": [
        "## Define Model & Training"
      ],
      "metadata": {
        "id": "GJjJYnJQORJ8"
      }
    },
    {
      "cell_type": "code",
      "source": [
        "X.shape"
      ],
      "metadata": {
        "colab": {
          "base_uri": "https://localhost:8080/"
        },
        "id": "Mp44ii28CiPt",
        "outputId": "25698d25-d0e3-43aa-901b-aae94da614fb"
      },
      "execution_count": null,
      "outputs": [
        {
          "output_type": "execute_result",
          "data": {
            "text/plain": [
              "(1344, 448, 13)"
            ]
          },
          "metadata": {},
          "execution_count": 16
        }
      ]
    },
    {
      "cell_type": "code",
      "source": [
        "max_features = 2452\n",
        "embed_dim = 256"
      ],
      "metadata": {
        "id": "ALafROv3DmHV"
      },
      "execution_count": null,
      "outputs": []
    },
    {
      "cell_type": "code",
      "source": [
        ""
      ],
      "metadata": {
        "id": "tySHfGDlBFWz"
      },
      "execution_count": null,
      "outputs": []
    },
    {
      "cell_type": "code",
      "source": [
        "# Initializing the model\n",
        "\n",
        "model = Sequential()\n",
        "model.add(layers.Bidirectional(layers.GRU(128, return_sequences = True), input_shape=(X.shape[1:3])))\n",
        "model.add(layers.Bidirectional(layers.GRU((64))))\n",
        "model.add(Dropout(0.05))\n",
        "model.add(layers.Dense(7, activation = 'softmax'))\n",
        "print(model.summary())\n",
        "\n",
        "batch_size = 23\n",
        "\n",
        "# Callbacks functions\n",
        "\n",
        "#-> EearlyStopping\n",
        "es = EarlyStopping(monitor='val_loss', mode='min', verbose=1,\n",
        "                    patience=10, min_delta=0.0001)\n",
        "\n",
        "\n",
        "#-> Save the best weights\n",
        "mcp_save = callbacks.ModelCheckpoint(checkpoint_path, save_best_only=True,\n",
        "                           monitor='val_categorical_accuracy',\n",
        "                           mode='max')\n",
        "#-> Reduce learning rate after 100 epoches without improvement.\n",
        "rlrop = callbacks.ReduceLROnPlateau(monitor='val_categorical_accuracy', \n",
        "                                    factor=0.1, patience=20)\n",
        "                             \n",
        "# Compile & train   \n",
        "model.compile(loss='categorical_crossentropy', \n",
        "                optimizer='RMSProp', \n",
        "                metrics=['categorical_accuracy'])\n",
        "\n",
        "\n"
      ],
      "metadata": {
        "colab": {
          "base_uri": "https://localhost:8080/"
        },
        "id": "aD2adyVGOJs4",
        "outputId": "4c15357a-9dd3-4585-f872-de08ecb6aa7a"
      },
      "execution_count": null,
      "outputs": [
        {
          "output_type": "stream",
          "name": "stdout",
          "text": [
            "Model: \"sequential\"\n",
            "_________________________________________________________________\n",
            " Layer (type)                Output Shape              Param #   \n",
            "=================================================================\n",
            " bidirectional (Bidirectiona  (None, 448, 256)         109824    \n",
            " l)                                                              \n",
            "                                                                 \n",
            " bidirectional_1 (Bidirectio  (None, 128)              123648    \n",
            " nal)                                                            \n",
            "                                                                 \n",
            " dropout (Dropout)           (None, 128)               0         \n",
            "                                                                 \n",
            " dense (Dense)               (None, 7)                 903       \n",
            "                                                                 \n",
            "=================================================================\n",
            "Total params: 234,375\n",
            "Trainable params: 234,375\n",
            "Non-trainable params: 0\n",
            "_________________________________________________________________\n",
            "None\n"
          ]
        }
      ]
    },
    {
      "cell_type": "code",
      "source": [
        ""
      ],
      "metadata": {
        "id": "4DBF6kqx-OHZ"
      },
      "execution_count": null,
      "outputs": []
    },
    {
      "cell_type": "code",
      "source": [
        "history = model.fit(x_train, y_train_class, \n",
        "                      epochs=340, batch_size = batch_size, \n",
        "                      validation_data = (x_val, y_val_class), \n",
        "                      callbacks = [es, mcp_save, rlrop])\n",
        "toc = time.perf_counter()"
      ],
      "metadata": {
        "colab": {
          "base_uri": "https://localhost:8080/"
        },
        "id": "Da7Gc9x_izth",
        "outputId": "f98b5f62-0022-4231-f5d1-e0c637bd37f8"
      },
      "execution_count": null,
      "outputs": [
        {
          "output_type": "stream",
          "name": "stdout",
          "text": [
            "Epoch 1/340\n",
            "41/41 [==============================] - 65s 1s/step - loss: 2.0621 - categorical_accuracy: 0.1617 - val_loss: 2.0706 - val_categorical_accuracy: 0.1530 - lr: 0.0010\n",
            "Epoch 2/340\n",
            "41/41 [==============================] - 54s 1s/step - loss: 1.8642 - categorical_accuracy: 0.2319 - val_loss: 1.7591 - val_categorical_accuracy: 0.2811 - lr: 0.0010\n",
            "Epoch 3/340\n",
            "41/41 [==============================] - 54s 1s/step - loss: 1.7287 - categorical_accuracy: 0.3128 - val_loss: 1.7476 - val_categorical_accuracy: 0.2562 - lr: 0.0010\n",
            "Epoch 4/340\n",
            "41/41 [==============================] - 56s 1s/step - loss: 1.5969 - categorical_accuracy: 0.3553 - val_loss: 1.7486 - val_categorical_accuracy: 0.3025 - lr: 0.0010\n",
            "Epoch 5/340\n",
            "41/41 [==============================] - 54s 1s/step - loss: 1.4924 - categorical_accuracy: 0.4340 - val_loss: 1.4688 - val_categorical_accuracy: 0.4199 - lr: 0.0010\n",
            "Epoch 6/340\n",
            "41/41 [==============================] - 54s 1s/step - loss: 1.4118 - categorical_accuracy: 0.4691 - val_loss: 1.4370 - val_categorical_accuracy: 0.4484 - lr: 0.0010\n",
            "Epoch 7/340\n",
            "41/41 [==============================] - 54s 1s/step - loss: 1.2828 - categorical_accuracy: 0.5096 - val_loss: 1.3744 - val_categorical_accuracy: 0.4840 - lr: 0.0010\n",
            "Epoch 8/340\n",
            "41/41 [==============================] - 54s 1s/step - loss: 1.2803 - categorical_accuracy: 0.5255 - val_loss: 1.4224 - val_categorical_accuracy: 0.4057 - lr: 0.0010\n",
            "Epoch 9/340\n",
            "41/41 [==============================] - 55s 1s/step - loss: 1.2085 - categorical_accuracy: 0.5372 - val_loss: 1.3503 - val_categorical_accuracy: 0.4804 - lr: 0.0010\n",
            "Epoch 10/340\n",
            "41/41 [==============================] - 54s 1s/step - loss: 1.1487 - categorical_accuracy: 0.5670 - val_loss: 1.4041 - val_categorical_accuracy: 0.4733 - lr: 0.0010\n",
            "Epoch 11/340\n",
            "41/41 [==============================] - 54s 1s/step - loss: 1.0656 - categorical_accuracy: 0.6053 - val_loss: 1.4565 - val_categorical_accuracy: 0.4093 - lr: 0.0010\n",
            "Epoch 12/340\n",
            "41/41 [==============================] - 54s 1s/step - loss: 1.0380 - categorical_accuracy: 0.6181 - val_loss: 1.4319 - val_categorical_accuracy: 0.4733 - lr: 0.0010\n",
            "Epoch 13/340\n",
            "41/41 [==============================] - 54s 1s/step - loss: 0.9710 - categorical_accuracy: 0.6319 - val_loss: 1.4586 - val_categorical_accuracy: 0.4911 - lr: 0.0010\n",
            "Epoch 14/340\n",
            "41/41 [==============================] - 56s 1s/step - loss: 0.9253 - categorical_accuracy: 0.6681 - val_loss: 1.4848 - val_categorical_accuracy: 0.4520 - lr: 0.0010\n",
            "Epoch 15/340\n",
            "41/41 [==============================] - 54s 1s/step - loss: 0.8327 - categorical_accuracy: 0.6957 - val_loss: 1.3690 - val_categorical_accuracy: 0.5053 - lr: 0.0010\n",
            "Epoch 16/340\n",
            "41/41 [==============================] - 54s 1s/step - loss: 0.8434 - categorical_accuracy: 0.6904 - val_loss: 1.2719 - val_categorical_accuracy: 0.5694 - lr: 0.0010\n",
            "Epoch 17/340\n",
            "41/41 [==============================] - 54s 1s/step - loss: 0.7928 - categorical_accuracy: 0.7096 - val_loss: 1.5275 - val_categorical_accuracy: 0.4733 - lr: 0.0010\n",
            "Epoch 18/340\n",
            "41/41 [==============================] - 54s 1s/step - loss: 0.6890 - categorical_accuracy: 0.7489 - val_loss: 1.4837 - val_categorical_accuracy: 0.5018 - lr: 0.0010\n",
            "Epoch 19/340\n",
            "41/41 [==============================] - 56s 1s/step - loss: 0.6809 - categorical_accuracy: 0.7564 - val_loss: 1.3063 - val_categorical_accuracy: 0.5196 - lr: 0.0010\n",
            "Epoch 20/340\n",
            "41/41 [==============================] - 54s 1s/step - loss: 0.6417 - categorical_accuracy: 0.7638 - val_loss: 1.4626 - val_categorical_accuracy: 0.5089 - lr: 0.0010\n",
            "Epoch 21/340\n",
            "41/41 [==============================] - 54s 1s/step - loss: 0.6182 - categorical_accuracy: 0.7809 - val_loss: 1.3814 - val_categorical_accuracy: 0.4875 - lr: 0.0010\n",
            "Epoch 22/340\n",
            "41/41 [==============================] - 54s 1s/step - loss: 0.5484 - categorical_accuracy: 0.8106 - val_loss: 1.2610 - val_categorical_accuracy: 0.5231 - lr: 0.0010\n",
            "Epoch 23/340\n",
            "41/41 [==============================] - 53s 1s/step - loss: 0.5429 - categorical_accuracy: 0.8191 - val_loss: 1.5849 - val_categorical_accuracy: 0.4875 - lr: 0.0010\n",
            "Epoch 24/340\n",
            "41/41 [==============================] - 56s 1s/step - loss: 0.4648 - categorical_accuracy: 0.8362 - val_loss: 1.3567 - val_categorical_accuracy: 0.5338 - lr: 0.0010\n",
            "Epoch 25/340\n",
            "41/41 [==============================] - 54s 1s/step - loss: 0.4774 - categorical_accuracy: 0.8287 - val_loss: 1.7645 - val_categorical_accuracy: 0.4662 - lr: 0.0010\n",
            "Epoch 26/340\n",
            "41/41 [==============================] - 54s 1s/step - loss: 0.4050 - categorical_accuracy: 0.8606 - val_loss: 1.4800 - val_categorical_accuracy: 0.4840 - lr: 0.0010\n",
            "Epoch 27/340\n",
            "41/41 [==============================] - 54s 1s/step - loss: 0.4370 - categorical_accuracy: 0.8479 - val_loss: 1.2931 - val_categorical_accuracy: 0.5658 - lr: 0.0010\n",
            "Epoch 28/340\n",
            "41/41 [==============================] - 53s 1s/step - loss: 0.3766 - categorical_accuracy: 0.8628 - val_loss: 1.3658 - val_categorical_accuracy: 0.5480 - lr: 0.0010\n",
            "Epoch 29/340\n",
            "41/41 [==============================] - 55s 1s/step - loss: 0.3414 - categorical_accuracy: 0.8936 - val_loss: 1.4025 - val_categorical_accuracy: 0.5160 - lr: 0.0010\n",
            "Epoch 30/340\n",
            "41/41 [==============================] - 53s 1s/step - loss: 0.3103 - categorical_accuracy: 0.8957 - val_loss: 1.5004 - val_categorical_accuracy: 0.5374 - lr: 0.0010\n",
            "Epoch 31/340\n",
            "41/41 [==============================] - 53s 1s/step - loss: 0.3673 - categorical_accuracy: 0.8830 - val_loss: 1.3505 - val_categorical_accuracy: 0.5694 - lr: 0.0010\n",
            "Epoch 32/340\n",
            "41/41 [==============================] - 53s 1s/step - loss: 0.3233 - categorical_accuracy: 0.8894 - val_loss: 1.2658 - val_categorical_accuracy: 0.5658 - lr: 0.0010\n",
            "Epoch 32: early stopping\n"
          ]
        }
      ]
    },
    {
      "cell_type": "code",
      "source": [
        ""
      ],
      "metadata": {
        "id": "3MekXCZHizyZ"
      },
      "execution_count": null,
      "outputs": []
    },
    {
      "cell_type": "code",
      "source": [
        "print(f\"Running time: {(toc - tic)/60:0.4f} minutes\")"
      ],
      "metadata": {
        "id": "cHmSBRhVOELJ",
        "colab": {
          "base_uri": "https://localhost:8080/"
        },
        "outputId": "96b353b0-4120-40b1-a315-c16325d278c9"
      },
      "execution_count": null,
      "outputs": [
        {
          "output_type": "stream",
          "name": "stdout",
          "text": [
            "Running time: 30.1717 minutes\n"
          ]
        }
      ]
    },
    {
      "cell_type": "markdown",
      "source": [
        "## Loading Model"
      ],
      "metadata": {
        "id": "jCQelzMAKixD"
      }
    },
    {
      "cell_type": "code",
      "source": [
        "# Define the best weights to the model.\\\n",
        "#model.load_weights(checkpoint_path)"
      ],
      "metadata": {
        "id": "gruZAW2wI-tO"
      },
      "execution_count": null,
      "outputs": []
    },
    {
      "cell_type": "markdown",
      "source": [
        "# Evaluation"
      ],
      "metadata": {
        "id": "kDxTjEK0KixD"
      }
    },
    {
      "cell_type": "markdown",
      "source": [
        "## Save & Load model, weights"
      ],
      "metadata": {
        "id": "1YfguG0tPatV"
      }
    },
    {
      "cell_type": "code",
      "source": [
        "# Saving model & weights\n",
        "model_json = model.to_json()\n",
        "\n",
        "\n",
        "\n",
        "with open(saved_model_path, \"w\") as json_file:\n",
        "    json_file.write(model_json)\n",
        "    \n",
        "model.save_weights(saved_weights_path)\n",
        "print(\"Saved model to disk\")"
      ],
      "metadata": {
        "id": "MsVoNhqmgGsK",
        "colab": {
          "base_uri": "https://localhost:8080/"
        },
        "outputId": "b36a8c01-30f9-4d82-84fa-b841d91f4774"
      },
      "execution_count": null,
      "outputs": [
        {
          "output_type": "stream",
          "name": "stdout",
          "text": [
            "Saved model to disk\n"
          ]
        }
      ]
    },
    {
      "cell_type": "code",
      "source": [
        "# Reading the model from JSON file\n",
        "#model_path = Ravdess + \"/model/\"\n",
        "#saved_model_path = model_path + 'model8723.json'\n",
        "#saved_weights_path = model_path + 'model8723_weights.h5'\n",
        "\n",
        "\n",
        "with open(saved_model_path , 'r') as json_file:\n",
        "    json_savedModel = json_file.read()\n",
        "    \n",
        "# Loading the model architecture, weights\n",
        "model = tf.keras.models.model_from_json(json_savedModel)\n",
        "model.load_weights(saved_weights_path)\n",
        "\n",
        "# Compiling the model with similar parameters as the original model.\n",
        "model.compile(loss='categorical_crossentropy', \n",
        "                optimizer='RMSProp', \n",
        "                metrics=['categorical_accuracy'])\n",
        "\n",
        "# Model's structure visualization\n",
        "tf.keras.utils.plot_model(model, to_file='model.png', show_shapes=True, show_layer_names=True)"
      ],
      "metadata": {
        "id": "y4OJGhLmgfX6",
        "colab": {
          "base_uri": "https://localhost:8080/",
          "height": 533
        },
        "outputId": "a038117f-c330-44fe-f0f4-d0b9eef86846"
      },
      "execution_count": null,
      "outputs": [
        {
          "output_type": "execute_result",
          "data": {
            "text/plain": [
              "<IPython.core.display.Image object>"
            ],
            "image/png": "[encoded data removed]"
          },
          "metadata": {},
          "execution_count": 23
        }
      ]
    },
    {
      "cell_type": "code",
      "source": [
        ""
      ],
      "metadata": {
        "id": "B_SW6eUAgvEj"
      },
      "execution_count": null,
      "outputs": []
    },
    {
      "cell_type": "code",
      "source": [
        ""
      ],
      "metadata": {
        "id": "cCfkUXTYgzSB"
      },
      "execution_count": null,
      "outputs": []
    },
    {
      "cell_type": "code",
      "source": [
        "model.save(saved_model_path_2)"
      ],
      "metadata": {
        "trusted": true,
        "id": "Z5Uzb_bGKixE"
      },
      "execution_count": null,
      "outputs": []
    },
    {
      "cell_type": "markdown",
      "source": [
        "## Train (fit) Visualization"
      ],
      "metadata": {
        "id": "ATvBW0SPO-eq"
      }
    },
    {
      "cell_type": "code",
      "source": [
        "# Loss, Accuracy presentation\n",
        "\n",
        "# Plot history: Loss\n",
        "plt.plot(history.history['loss'], label='Loss (training data)')\n",
        "plt.plot(history.history['val_loss'], label='Loss (validation data)')\n",
        "plt.title('Loss for train and validation')\n",
        "plt.ylabel('Loss value')\n",
        "plt.xlabel('No. epoch')\n",
        "plt.legend(loc=\"upper left\")\n",
        "plt.show()\n",
        "\n",
        "#Plot history: Accuracy\n",
        "plt.plot(history.history['categorical_accuracy'], label='Acc (training data)')\n",
        "plt.plot(history.history['val_categorical_accuracy'], label='Acc (validation data)')\n",
        "plt.title('Model accuracy')\n",
        "plt.ylabel('Acc %')\n",
        "plt.xlabel('No. epoch')\n",
        "plt.legend(loc=\"upper left\")\n",
        "plt.show()"
      ],
      "metadata": {
        "id": "UjhUHhU_f4EY",
        "colab": {
          "base_uri": "https://localhost:8080/",
          "height": 573
        },
        "outputId": "49154798-fe58-4413-e2b1-3997eb2eeacd"
      },
      "execution_count": null,
      "outputs": [
        {
          "output_type": "display_data",
          "data": {
            "text/plain": [
              "<Figure size 432x288 with 1 Axes>"
            ],
            "image/png": "[encoded data removed]"
          },
          "metadata": {
            "needs_background": "light"
          }
        },
        {
          "output_type": "display_data",
          "data": {
            "text/plain": [
              "<Figure size 432x288 with 1 Axes>"
            ],
            "image/png": "[encoded data removed]"
          },
          "metadata": {
            "needs_background": "light"
          }
        }
      ]
    },
    {
      "cell_type": "markdown",
      "source": [
        "## Validation Set Evaluation"
      ],
      "metadata": {
        "id": "UZ3lFduxPQeB"
      }
    },
    {
      "cell_type": "markdown",
      "source": [
        "### Val Set Score"
      ],
      "metadata": {
        "id": "5YoYCa22PMGz"
      }
    },
    {
      "cell_type": "code",
      "source": [
        ""
      ],
      "metadata": {
        "id": "jQavrzbB_8fy"
      },
      "execution_count": null,
      "outputs": []
    },
    {
      "cell_type": "code",
      "source": [
        "# Validation score\n",
        "loss,acc = model.evaluate(x_val, y_val_class, verbose=2)\n"
      ],
      "metadata": {
        "id": "X_KdTUyrf7-j",
        "colab": {
          "base_uri": "https://localhost:8080/"
        },
        "outputId": "03b6a865-4126-4211-c587-01c690b06371"
      },
      "execution_count": null,
      "outputs": [
        {
          "output_type": "stream",
          "name": "stdout",
          "text": [
            "9/9 - 4s - loss: 1.2658 - categorical_accuracy: 0.5658 - 4s/epoch - 477ms/step\n"
          ]
        }
      ]
    },
    {
      "cell_type": "code",
      "source": [
        ""
      ],
      "metadata": {
        "id": "09k_I9DM_2Q0"
      },
      "execution_count": null,
      "outputs": []
    },
    {
      "cell_type": "markdown",
      "source": [
        "### Construct Predicted Labels based on Probability of each class"
      ],
      "metadata": {
        "id": "hz7nc15A_3hb"
      }
    },
    {
      "cell_type": "code",
      "source": [
        "y_val_class"
      ],
      "metadata": {
        "id": "CFM1P2SZ_85N",
        "colab": {
          "base_uri": "https://localhost:8080/"
        },
        "outputId": "2311f7a4-ba5a-4845-eed8-d5583b86d3ab"
      },
      "execution_count": null,
      "outputs": [
        {
          "output_type": "execute_result",
          "data": {
            "text/plain": [
              "array([[0, 0, 0, ..., 0, 0, 1],\n",
              "       [0, 1, 0, ..., 0, 0, 0],\n",
              "       [0, 0, 0, ..., 0, 1, 0],\n",
              "       ...,\n",
              "       [0, 0, 0, ..., 0, 0, 1],\n",
              "       [0, 0, 0, ..., 0, 0, 1],\n",
              "       [0, 0, 1, ..., 0, 0, 0]], dtype=int8)"
            ]
          },
          "metadata": {},
          "execution_count": 27
        }
      ]
    },
    {
      "cell_type": "code",
      "source": [
        "np.argmax(y_val_class, axis=1)"
      ],
      "metadata": {
        "id": "C9UHSeXbAASy",
        "colab": {
          "base_uri": "https://localhost:8080/"
        },
        "outputId": "4ebdc1c2-c6ec-444a-9dd9-4f69c6880dfa"
      },
      "execution_count": null,
      "outputs": [
        {
          "output_type": "execute_result",
          "data": {
            "text/plain": [
              "array([6, 1, 5, 3, 5, 5, 2, 5, 0, 4, 5, 1, 5, 5, 2, 1, 0, 1, 4, 5, 3, 6,\n",
              "       0, 2, 2, 4, 6, 5, 1, 4, 0, 5, 2, 3, 1, 6, 5, 2, 1, 0, 3, 4, 0, 5,\n",
              "       3, 3, 0, 6, 4, 6, 0, 3, 3, 3, 4, 5, 3, 2, 3, 6, 1, 0, 3, 2, 4, 4,\n",
              "       6, 2, 4, 0, 5, 5, 1, 2, 0, 5, 5, 3, 4, 6, 4, 2, 2, 3, 6, 0, 0, 3,\n",
              "       2, 5, 1, 4, 1, 0, 6, 3, 6, 1, 2, 6, 6, 2, 0, 5, 1, 5, 4, 0, 5, 2,\n",
              "       0, 5, 0, 6, 2, 3, 3, 2, 2, 2, 0, 1, 5, 2, 5, 3, 2, 0, 3, 3, 3, 2,\n",
              "       0, 3, 0, 6, 3, 3, 3, 1, 0, 3, 6, 5, 6, 4, 0, 2, 6, 2, 1, 1, 4, 6,\n",
              "       0, 2, 1, 1, 3, 0, 6, 6, 2, 0, 1, 5, 5, 4, 5, 5, 0, 2, 4, 4, 6, 4,\n",
              "       3, 6, 2, 3, 2, 3, 0, 1, 0, 3, 1, 5, 2, 1, 6, 0, 4, 1, 6, 2, 0, 0,\n",
              "       6, 0, 0, 2, 5, 5, 1, 2, 3, 2, 2, 2, 4, 3, 5, 3, 1, 0, 2, 0, 2, 4,\n",
              "       6, 1, 0, 6, 5, 6, 4, 0, 0, 4, 5, 3, 2, 6, 2, 6, 3, 5, 3, 1, 5, 6,\n",
              "       5, 1, 2, 1, 6, 0, 5, 3, 2, 1, 6, 3, 0, 1, 3, 6, 3, 2, 2, 4, 6, 4,\n",
              "       3, 2, 2, 5, 5, 4, 1, 3, 6, 5, 3, 0, 3, 4, 6, 6, 2])"
            ]
          },
          "metadata": {},
          "execution_count": 28
        }
      ]
    },
    {
      "cell_type": "code",
      "source": [
        "y_val_class = np.argmax(y_val_class, axis=1)\n",
        "predictions_val = model.predict(x_val)\n",
        "y_proba_val_class = predictions_val\n",
        "y_pred_val_class = np.argmax(predictions_val, axis=1)"
      ],
      "metadata": {
        "id": "urjydD-38JK7"
      },
      "execution_count": null,
      "outputs": []
    },
    {
      "cell_type": "code",
      "source": [
        "predictions_val\n"
      ],
      "metadata": {
        "id": "Zb7dGRs3AEJn",
        "colab": {
          "base_uri": "https://localhost:8080/"
        },
        "outputId": "432d9acd-0574-4303-933c-7f0b0d42d61b"
      },
      "execution_count": null,
      "outputs": [
        {
          "output_type": "execute_result",
          "data": {
            "text/plain": [
              "array([[1.16010138e-03, 8.74263227e-01, 2.66720518e-03, ...,\n",
              "        1.92855690e-02, 1.33480309e-04, 5.44642508e-02],\n",
              "       [2.21468326e-05, 5.55271804e-01, 1.83341082e-03, ...,\n",
              "        6.03575306e-03, 3.12706525e-03, 4.33573455e-01],\n",
              "       [2.24523265e-02, 3.47083807e-02, 6.12672884e-03, ...,\n",
              "        1.62154436e-01, 7.49594152e-01, 1.57947820e-02],\n",
              "       ...,\n",
              "       [5.84247150e-02, 3.61731946e-02, 2.85389364e-01, ...,\n",
              "        4.04762208e-01, 7.69309793e-03, 2.60167103e-02],\n",
              "       [2.41548245e-04, 7.69002736e-01, 1.01091736e-03, ...,\n",
              "        2.11744681e-01, 6.70374138e-05, 1.37959365e-02],\n",
              "       [3.96521122e-04, 3.40262890e-01, 1.52008468e-02, ...,\n",
              "        6.04096055e-01, 2.72504846e-03, 5.01091033e-03]], dtype=float32)"
            ]
          },
          "metadata": {},
          "execution_count": 30
        }
      ]
    },
    {
      "cell_type": "code",
      "source": [
        "y_pred_val_class "
      ],
      "metadata": {
        "id": "KxHa1Ss1AJo4",
        "colab": {
          "base_uri": "https://localhost:8080/"
        },
        "outputId": "bd238178-2155-4eea-c404-af7660fee1a1"
      },
      "execution_count": null,
      "outputs": [
        {
          "output_type": "execute_result",
          "data": {
            "text/plain": [
              "array([1, 1, 5, 2, 5, 5, 6, 2, 0, 4, 1, 1, 5, 2, 0, 1, 2, 1, 4, 5, 3, 2,\n",
              "       0, 0, 2, 1, 3, 5, 1, 4, 0, 2, 2, 3, 1, 6, 6, 2, 1, 2, 3, 5, 0, 2,\n",
              "       3, 4, 0, 1, 4, 1, 0, 3, 5, 6, 2, 3, 6, 2, 1, 3, 1, 2, 3, 2, 4, 0,\n",
              "       6, 2, 4, 0, 5, 2, 1, 2, 0, 5, 5, 3, 2, 2, 4, 2, 4, 3, 6, 0, 1, 4,\n",
              "       0, 5, 4, 4, 5, 0, 1, 3, 1, 1, 1, 2, 3, 1, 0, 2, 6, 5, 3, 2, 5, 2,\n",
              "       0, 2, 2, 2, 2, 3, 3, 2, 0, 2, 2, 1, 5, 5, 5, 3, 2, 2, 3, 3, 0, 6,\n",
              "       2, 3, 0, 4, 3, 3, 3, 3, 0, 2, 1, 3, 6, 2, 0, 3, 6, 1, 1, 1, 1, 6,\n",
              "       0, 2, 1, 3, 3, 0, 2, 1, 2, 0, 6, 3, 5, 4, 5, 0, 2, 1, 4, 5, 6, 4,\n",
              "       3, 4, 2, 3, 0, 3, 0, 1, 0, 6, 1, 5, 5, 5, 1, 0, 1, 6, 6, 2, 0, 0,\n",
              "       5, 0, 0, 0, 5, 3, 1, 2, 5, 1, 5, 5, 4, 3, 5, 2, 1, 0, 4, 0, 2, 4,\n",
              "       1, 1, 0, 6, 2, 2, 0, 0, 0, 1, 5, 4, 2, 2, 2, 2, 4, 3, 3, 1, 5, 6,\n",
              "       0, 1, 2, 1, 1, 0, 3, 3, 2, 1, 3, 4, 0, 1, 4, 1, 3, 2, 0, 1, 4, 4,\n",
              "       3, 0, 5, 5, 5, 1, 0, 5, 6, 5, 3, 0, 4, 4, 4, 1, 4])"
            ]
          },
          "metadata": {},
          "execution_count": 31
        }
      ]
    },
    {
      "cell_type": "markdown",
      "source": [
        "### Val Set Confusion Matrix and Heatmap"
      ],
      "metadata": {
        "id": "d2ullxf9PUMd"
      }
    },
    {
      "cell_type": "code",
      "source": [
        "# Validation Confusion matrix\n",
        "cm=confusion_matrix(y_val_class, y_pred_val_class)\n",
        "\n",
        "index = ['calm', 'happy', 'sad', 'angry', 'fearful', 'disgust', 'surprised']  \n",
        "columns = ['calm', 'happy', 'sad', 'angry', 'fearful', 'disgust', 'surprised']  \n",
        " \n",
        "cm_df = pd.DataFrame(cm,index,columns)                      \n",
        "plt.figure(figsize=(12,8))\n",
        "ax = plt.axes()\n",
        "\n",
        "sns.heatmap(cm_df, ax = ax, cmap = 'PuBu', fmt=\"d\", annot=True)\n",
        "ax.set_ylabel('True emotion')\n",
        "ax.set_xlabel('Predicted emotion')"
      ],
      "metadata": {
        "id": "doLcg3CTf9bx",
        "colab": {
          "base_uri": "https://localhost:8080/"
        },
        "outputId": "f32d0e2b-6c86-4b71-854c-a3e125610691"
      },
      "execution_count": null,
      "outputs": [
        {
          "output_type": "execute_result",
          "data": {
            "text/plain": [
              "Text(0.5, 51.0, 'Predicted emotion')"
            ]
          },
          "metadata": {},
          "execution_count": 32
        },
        {
          "output_type": "display_data",
          "data": {
            "text/plain": [
              "<Figure size 864x576 with 2 Axes>"
            ],
            "image/png": "[encoded data removed]"
          },
          "metadata": {
            "needs_background": "light"
          }
        }
      ]
    },
    {
      "cell_type": "code",
      "source": [
        "# Confusion Matrix\n",
        "cm"
      ],
      "metadata": {
        "id": "hIEG9Pia8Nfp",
        "colab": {
          "base_uri": "https://localhost:8080/"
        },
        "outputId": "0e621182-7545-4da4-c9db-05690b88b16c"
      },
      "execution_count": null,
      "outputs": [
        {
          "output_type": "execute_result",
          "data": {
            "text/plain": [
              "array([[33,  1,  9,  0,  0,  0,  0],\n",
              "       [ 1, 24,  0,  2,  1,  2,  3],\n",
              "       [ 8,  5, 24,  1,  3,  5,  2],\n",
              "       [ 1,  1,  3, 28,  7,  3,  3],\n",
              "       [ 2,  6,  3,  1, 15,  2,  0],\n",
              "       [ 2,  1,  8,  6,  0, 24,  1],\n",
              "       [ 0, 12,  8,  4,  4,  1, 11]])"
            ]
          },
          "metadata": {},
          "execution_count": 33
        }
      ]
    },
    {
      "cell_type": "markdown",
      "source": [
        "### Validation Set Predicted emotions accuracy"
      ],
      "metadata": {
        "id": "kWjKgUdRPYH5"
      }
    },
    {
      "cell_type": "code",
      "source": [
        "# Validation set prediction accuracy rates\n",
        "\n",
        "values = cm.diagonal()\n",
        "row_sum = np.sum(cm,axis=1)\n",
        "acc = values / row_sum\n",
        "\n",
        "print('Validation set predicted emotions accuracy:')\n",
        "for e in range(0, len(values)):\n",
        "    print(index[e],':', f\"{(acc[e]):0.4f}\")"
      ],
      "metadata": {
        "id": "MopdywY9f-mS",
        "colab": {
          "base_uri": "https://localhost:8080/"
        },
        "outputId": "c38c9760-7fca-4899-bf56-8b02b07455b5"
      },
      "execution_count": null,
      "outputs": [
        {
          "output_type": "stream",
          "name": "stdout",
          "text": [
            "Validation set predicted emotions accuracy:\n",
            "calm : 0.7674\n",
            "happy : 0.7273\n",
            "sad : 0.5000\n",
            "angry : 0.6087\n",
            "fearful : 0.5172\n",
            "disgust : 0.5714\n",
            "surprised : 0.2750\n"
          ]
        }
      ]
    },
    {
      "cell_type": "markdown",
      "source": [
        "### Precision, Recal, Fscore"
      ],
      "metadata": {
        "id": "DGSTy2228XRH"
      }
    },
    {
      "cell_type": "code",
      "source": [
        "# Validation set precision, recall, fscore\n",
        "\n",
        "precision_recall_fscore_support(y_val_class, y_pred_val_class, average='macro')\n"
      ],
      "metadata": {
        "id": "rOwUkCG0gGpm",
        "colab": {
          "base_uri": "https://localhost:8080/"
        },
        "outputId": "2654c3a1-778f-4199-b48b-beb236970981"
      },
      "execution_count": null,
      "outputs": [
        {
          "output_type": "execute_result",
          "data": {
            "text/plain": [
              "(0.56911523017906, 0.5667257415215247, 0.5566808314044943, None)"
            ]
          },
          "metadata": {},
          "execution_count": 35
        }
      ]
    },
    {
      "cell_type": "code",
      "source": [
        "precision_recall_fscore_support(y_val_class, y_pred_val_class, average='weighted')"
      ],
      "metadata": {
        "id": "OorFgXxDzy3o",
        "colab": {
          "base_uri": "https://localhost:8080/"
        },
        "outputId": "8ba1dbb6-4588-4f23-ca00-952105f1b9a4"
      },
      "execution_count": null,
      "outputs": [
        {
          "output_type": "execute_result",
          "data": {
            "text/plain": [
              "(0.5743304406301303, 0.5658362989323843, 0.5593976751409123, None)"
            ]
          },
          "metadata": {},
          "execution_count": 36
        }
      ]
    },
    {
      "cell_type": "markdown",
      "source": [
        "## Test Set Evaluation"
      ],
      "metadata": {
        "id": "FiCwOjmPPgCn"
      }
    },
    {
      "cell_type": "markdown",
      "source": [
        "### Test Set Score\n",
        "\n"
      ],
      "metadata": {
        "id": "CWB7U5xDUSmF"
      }
    },
    {
      "cell_type": "code",
      "source": [
        "loss, acc = model.evaluate(x_test, y_test_class, verbose=2)"
      ],
      "metadata": {
        "id": "Y7NEHPM-gzml",
        "colab": {
          "base_uri": "https://localhost:8080/"
        },
        "outputId": "93967b06-3737-4985-820a-fba06c2805ea"
      },
      "execution_count": null,
      "outputs": [
        {
          "output_type": "stream",
          "name": "stdout",
          "text": [
            "4/4 - 1s - loss: 1.4814 - categorical_accuracy: 0.6016 - 1s/epoch - 286ms/step\n"
          ]
        }
      ]
    },
    {
      "cell_type": "markdown",
      "source": [
        "### Construct Predicted Labels based on Probability of each class"
      ],
      "metadata": {
        "id": "gPwcFV9oAhGh"
      }
    },
    {
      "cell_type": "code",
      "source": [
        "y_test_class"
      ],
      "metadata": {
        "id": "tjN7Eit7AiML",
        "colab": {
          "base_uri": "https://localhost:8080/"
        },
        "outputId": "d1f08819-4f79-4ab3-ade0-743436055319"
      },
      "execution_count": null,
      "outputs": [
        {
          "output_type": "execute_result",
          "data": {
            "text/plain": [
              "array([[0, 0, 0, 0, 0, 0, 1],\n",
              "       [0, 0, 0, 1, 0, 0, 0],\n",
              "       [0, 0, 0, 0, 0, 1, 0],\n",
              "       [0, 0, 0, 0, 1, 0, 0],\n",
              "       [1, 0, 0, 0, 0, 0, 0],\n",
              "       [0, 0, 0, 0, 1, 0, 0],\n",
              "       [0, 0, 0, 0, 0, 1, 0],\n",
              "       [0, 0, 0, 0, 1, 0, 0],\n",
              "       [0, 0, 0, 1, 0, 0, 0],\n",
              "       [0, 0, 0, 0, 0, 0, 1],\n",
              "       [0, 0, 0, 1, 0, 0, 0],\n",
              "       [0, 0, 0, 0, 1, 0, 0],\n",
              "       [1, 0, 0, 0, 0, 0, 0],\n",
              "       [0, 0, 0, 0, 0, 1, 0],\n",
              "       [0, 0, 0, 1, 0, 0, 0],\n",
              "       [1, 0, 0, 0, 0, 0, 0],\n",
              "       [0, 0, 0, 0, 0, 1, 0],\n",
              "       [0, 0, 0, 0, 0, 1, 0],\n",
              "       [0, 0, 1, 0, 0, 0, 0],\n",
              "       [0, 0, 0, 0, 0, 0, 1],\n",
              "       [0, 0, 0, 0, 0, 0, 1],\n",
              "       [1, 0, 0, 0, 0, 0, 0],\n",
              "       [1, 0, 0, 0, 0, 0, 0],\n",
              "       [0, 0, 1, 0, 0, 0, 0],\n",
              "       [0, 0, 0, 0, 0, 1, 0],\n",
              "       [1, 0, 0, 0, 0, 0, 0],\n",
              "       [0, 0, 0, 0, 0, 1, 0],\n",
              "       [1, 0, 0, 0, 0, 0, 0],\n",
              "       [0, 0, 0, 0, 1, 0, 0],\n",
              "       [0, 1, 0, 0, 0, 0, 0],\n",
              "       [0, 0, 0, 1, 0, 0, 0],\n",
              "       [0, 0, 0, 0, 0, 0, 1],\n",
              "       [0, 0, 0, 0, 0, 0, 1],\n",
              "       [0, 0, 0, 0, 0, 1, 0],\n",
              "       [0, 0, 0, 0, 1, 0, 0],\n",
              "       [0, 0, 1, 0, 0, 0, 0],\n",
              "       [0, 0, 0, 0, 0, 1, 0],\n",
              "       [0, 0, 0, 0, 1, 0, 0],\n",
              "       [0, 0, 0, 0, 1, 0, 0],\n",
              "       [0, 0, 0, 0, 0, 1, 0],\n",
              "       [0, 0, 0, 0, 0, 0, 1],\n",
              "       [1, 0, 0, 0, 0, 0, 0],\n",
              "       [0, 1, 0, 0, 0, 0, 0],\n",
              "       [0, 0, 1, 0, 0, 0, 0],\n",
              "       [0, 1, 0, 0, 0, 0, 0],\n",
              "       [0, 1, 0, 0, 0, 0, 0],\n",
              "       [0, 0, 0, 0, 0, 0, 1],\n",
              "       [0, 0, 1, 0, 0, 0, 0],\n",
              "       [0, 0, 0, 0, 0, 0, 1],\n",
              "       [0, 0, 0, 0, 1, 0, 0],\n",
              "       [0, 0, 0, 0, 0, 1, 0],\n",
              "       [0, 0, 0, 0, 0, 0, 1],\n",
              "       [0, 1, 0, 0, 0, 0, 0],\n",
              "       [0, 0, 1, 0, 0, 0, 0],\n",
              "       [0, 0, 0, 0, 0, 1, 0],\n",
              "       [0, 1, 0, 0, 0, 0, 0],\n",
              "       [0, 1, 0, 0, 0, 0, 0],\n",
              "       [0, 0, 0, 0, 1, 0, 0],\n",
              "       [0, 0, 0, 0, 1, 0, 0],\n",
              "       [0, 1, 0, 0, 0, 0, 0],\n",
              "       [0, 0, 0, 0, 0, 0, 1],\n",
              "       [0, 0, 0, 1, 0, 0, 0],\n",
              "       [0, 0, 0, 0, 1, 0, 0],\n",
              "       [0, 0, 1, 0, 0, 0, 0],\n",
              "       [0, 0, 1, 0, 0, 0, 0],\n",
              "       [0, 0, 1, 0, 0, 0, 0],\n",
              "       [0, 0, 0, 0, 1, 0, 0],\n",
              "       [1, 0, 0, 0, 0, 0, 0],\n",
              "       [0, 0, 0, 1, 0, 0, 0],\n",
              "       [0, 0, 0, 0, 0, 0, 1],\n",
              "       [0, 0, 0, 0, 0, 1, 0],\n",
              "       [0, 1, 0, 0, 0, 0, 0],\n",
              "       [0, 0, 1, 0, 0, 0, 0],\n",
              "       [0, 0, 0, 0, 1, 0, 0],\n",
              "       [0, 0, 0, 1, 0, 0, 0],\n",
              "       [1, 0, 0, 0, 0, 0, 0],\n",
              "       [0, 0, 0, 1, 0, 0, 0],\n",
              "       [0, 0, 0, 0, 0, 0, 1],\n",
              "       [0, 0, 1, 0, 0, 0, 0],\n",
              "       [0, 0, 0, 0, 0, 0, 1],\n",
              "       [1, 0, 0, 0, 0, 0, 0],\n",
              "       [0, 0, 0, 0, 1, 0, 0],\n",
              "       [0, 1, 0, 0, 0, 0, 0],\n",
              "       [0, 0, 0, 1, 0, 0, 0],\n",
              "       [0, 0, 0, 0, 0, 0, 1],\n",
              "       [0, 0, 0, 1, 0, 0, 0],\n",
              "       [0, 0, 0, 0, 0, 0, 1],\n",
              "       [0, 0, 0, 0, 1, 0, 0],\n",
              "       [0, 0, 0, 1, 0, 0, 0],\n",
              "       [0, 0, 0, 1, 0, 0, 0],\n",
              "       [0, 0, 1, 0, 0, 0, 0],\n",
              "       [0, 0, 0, 0, 0, 1, 0],\n",
              "       [0, 0, 0, 0, 1, 0, 0],\n",
              "       [0, 1, 0, 0, 0, 0, 0],\n",
              "       [1, 0, 0, 0, 0, 0, 0],\n",
              "       [0, 0, 0, 1, 0, 0, 0],\n",
              "       [0, 0, 1, 0, 0, 0, 0],\n",
              "       [0, 0, 0, 1, 0, 0, 0],\n",
              "       [0, 1, 0, 0, 0, 0, 0],\n",
              "       [1, 0, 0, 0, 0, 0, 0],\n",
              "       [0, 0, 1, 0, 0, 0, 0],\n",
              "       [0, 0, 0, 0, 0, 0, 1],\n",
              "       [0, 0, 0, 0, 0, 1, 0],\n",
              "       [0, 0, 0, 0, 1, 0, 0],\n",
              "       [0, 0, 0, 0, 1, 0, 0],\n",
              "       [0, 0, 0, 1, 0, 0, 0],\n",
              "       [0, 0, 0, 1, 0, 0, 0],\n",
              "       [0, 0, 0, 0, 0, 0, 1],\n",
              "       [0, 0, 0, 0, 1, 0, 0],\n",
              "       [1, 0, 0, 0, 0, 0, 0],\n",
              "       [0, 0, 0, 1, 0, 0, 0],\n",
              "       [0, 0, 0, 0, 1, 0, 0],\n",
              "       [0, 0, 0, 0, 0, 0, 1],\n",
              "       [0, 0, 0, 0, 0, 1, 0],\n",
              "       [0, 0, 0, 1, 0, 0, 0],\n",
              "       [0, 0, 1, 0, 0, 0, 0],\n",
              "       [0, 0, 0, 1, 0, 0, 0],\n",
              "       [0, 1, 0, 0, 0, 0, 0],\n",
              "       [0, 0, 0, 0, 0, 0, 1],\n",
              "       [0, 0, 0, 0, 0, 0, 1],\n",
              "       [0, 1, 0, 0, 0, 0, 0],\n",
              "       [1, 0, 0, 0, 0, 0, 0],\n",
              "       [0, 0, 0, 0, 0, 0, 1]], dtype=int8)"
            ]
          },
          "metadata": {},
          "execution_count": 38
        }
      ]
    },
    {
      "cell_type": "code",
      "source": [
        " np.argmax(y_test_class, axis=1)"
      ],
      "metadata": {
        "id": "2fcK-_HzAmc5",
        "colab": {
          "base_uri": "https://localhost:8080/"
        },
        "outputId": "84e70f37-dcab-46be-bd0b-44d82ba8c844"
      },
      "execution_count": null,
      "outputs": [
        {
          "output_type": "execute_result",
          "data": {
            "text/plain": [
              "array([6, 3, 5, 4, 0, 4, 5, 4, 3, 6, 3, 4, 0, 5, 3, 0, 5, 5, 2, 6, 6, 0,\n",
              "       0, 2, 5, 0, 5, 0, 4, 1, 3, 6, 6, 5, 4, 2, 5, 4, 4, 5, 6, 0, 1, 2,\n",
              "       1, 1, 6, 2, 6, 4, 5, 6, 1, 2, 5, 1, 1, 4, 4, 1, 6, 3, 4, 2, 2, 2,\n",
              "       4, 0, 3, 6, 5, 1, 2, 4, 3, 0, 3, 6, 2, 6, 0, 4, 1, 3, 6, 3, 6, 4,\n",
              "       3, 3, 2, 5, 4, 1, 0, 3, 2, 3, 1, 0, 2, 6, 5, 4, 4, 3, 3, 6, 4, 0,\n",
              "       3, 4, 6, 5, 3, 2, 3, 1, 6, 6, 1, 0, 6])"
            ]
          },
          "metadata": {},
          "execution_count": 39
        }
      ]
    },
    {
      "cell_type": "code",
      "source": [
        "y_test_class = np.argmax(y_test_class, axis=1)\n",
        "predictions_test = model.predict(x_test)\n",
        "y_pred_test_class = np.argmax(predictions_test, axis=1)\n",
        "y_proba_test_class = predictions_test\n",
        "\n"
      ],
      "metadata": {
        "id": "uyXvoU2rAckI"
      },
      "execution_count": null,
      "outputs": []
    },
    {
      "cell_type": "code",
      "source": [
        "predictions_test"
      ],
      "metadata": {
        "id": "3BAOUaPwAtuY",
        "colab": {
          "base_uri": "https://localhost:8080/"
        },
        "outputId": "154f8836-842b-461a-80ea-269e3a046295"
      },
      "execution_count": null,
      "outputs": [
        {
          "output_type": "execute_result",
          "data": {
            "text/plain": [
              "array([[3.53866344e-05, 4.20265310e-02, 1.75043046e-02, 6.02495996e-03,\n",
              "        3.29186246e-02, 1.81275140e-03, 8.99677455e-01],\n",
              "       [2.17176290e-04, 1.84486117e-02, 3.15717869e-02, 1.72942260e-03,\n",
              "        9.47503567e-01, 9.00297382e-05, 4.39360505e-04],\n",
              "       [1.78961600e-05, 1.44234509e-05, 3.08715552e-03, 4.60143405e-04,\n",
              "        1.39562308e-05, 9.96088028e-01, 3.18473147e-04],\n",
              "       [1.00987665e-04, 1.65987949e-04, 1.66069895e-01, 2.59029889e-03,\n",
              "        2.72981048e-01, 1.15205400e-01, 4.42886412e-01],\n",
              "       [7.55131662e-01, 2.13206232e-01, 2.56380029e-02, 1.93574524e-04,\n",
              "        5.42819686e-03, 1.46635130e-05, 3.87643377e-04],\n",
              "       [2.42448790e-04, 5.61789423e-02, 6.42628223e-03, 2.50782192e-01,\n",
              "        4.55154389e-01, 1.87617466e-01, 4.35983539e-02],\n",
              "       [2.47906893e-03, 3.22106149e-04, 9.50605050e-02, 4.85785386e-05,\n",
              "        3.54102626e-02, 8.63692641e-01, 2.98687490e-03],\n",
              "       [7.07564235e-01, 4.98316670e-03, 8.10499862e-02, 6.33584149e-03,\n",
              "        1.75070271e-01, 4.19488270e-03, 2.08017342e-02],\n",
              "       [5.73847901e-05, 1.09247793e-03, 3.33846943e-03, 9.77841198e-01,\n",
              "        4.21780907e-03, 1.33025451e-02, 1.50195308e-04],\n",
              "       [4.50868713e-04, 1.00261867e-02, 1.48814917e-03, 3.27883869e-01,\n",
              "        1.84846018e-03, 2.99977930e-03, 6.55302644e-01],\n",
              "       [7.93007421e-05, 3.72309163e-02, 2.34952616e-03, 8.94178152e-01,\n",
              "        5.89436926e-02, 2.40731798e-03, 4.81112488e-03],\n",
              "       [9.87905078e-04, 6.52023545e-03, 8.16788018e-01, 1.74547793e-04,\n",
              "        7.83942565e-02, 2.42500622e-02, 7.28849322e-02],\n",
              "       [8.81641686e-01, 5.80904598e-04, 1.11607097e-01, 1.15622834e-05,\n",
              "        5.68503700e-03, 3.98193544e-04, 7.54914654e-05],\n",
              "       [2.36450462e-03, 1.23018763e-04, 1.19601756e-01, 3.51583143e-03,\n",
              "        1.50451227e-03, 8.64563406e-01, 8.32697470e-03],\n",
              "       [5.87353766e-01, 1.35519996e-01, 1.62816420e-01, 2.08456833e-02,\n",
              "        1.76461227e-02, 1.55651877e-02, 6.02527224e-02],\n",
              "       [9.96390879e-01, 4.29257547e-04, 2.66117183e-03, 4.78630773e-06,\n",
              "        9.43698542e-05, 4.09429515e-04, 1.01743472e-05],\n",
              "       [1.88840768e-05, 3.63488274e-04, 4.64904942e-02, 6.11960480e-04,\n",
              "        4.05118975e-04, 9.50484753e-01, 1.62528141e-03],\n",
              "       [1.48020289e-03, 3.71846050e-04, 1.47708908e-01, 1.44150469e-03,\n",
              "        3.69290486e-02, 8.02193940e-01, 9.87459533e-03],\n",
              "       [9.86876476e-05, 3.03632706e-01, 2.35633656e-01, 4.47885841e-02,\n",
              "        3.77271354e-01, 8.32422171e-03, 3.02508380e-02],\n",
              "       [1.17174905e-05, 6.51595008e-04, 4.40651849e-02, 3.52773047e-03,\n",
              "        1.67250320e-01, 2.20791413e-03, 7.82285511e-01],\n",
              "       [2.26512994e-03, 2.16883030e-02, 1.79531157e-01, 1.96845198e-04,\n",
              "        5.37166819e-02, 4.36985109e-04, 7.42164850e-01],\n",
              "       [9.19967413e-01, 3.73936631e-02, 3.75324748e-02, 2.20679958e-05,\n",
              "        4.82089538e-03, 2.02772164e-04, 6.07151524e-05],\n",
              "       [9.87600565e-01, 3.56696662e-03, 8.33501760e-03, 1.06216958e-05,\n",
              "        3.73839663e-04, 4.28720668e-05, 7.01570316e-05],\n",
              "       [6.93239272e-02, 1.69557566e-03, 9.13524628e-01, 1.90161390e-05,\n",
              "        1.08139757e-02, 2.82325345e-04, 4.34046425e-03],\n",
              "       [8.67004564e-06, 5.14790835e-03, 8.31030367e-04, 9.15977418e-01,\n",
              "        8.58757048e-05, 7.76420087e-02, 3.07120645e-04],\n",
              "       [9.45062041e-01, 4.76635556e-04, 3.77323255e-02, 1.25222277e-05,\n",
              "        1.64446793e-02, 2.59241380e-04, 1.25059969e-05],\n",
              "       [1.21452566e-03, 2.81530339e-02, 5.92331029e-03, 3.98791671e-01,\n",
              "        9.51995244e-05, 5.65172553e-01, 6.49653433e-04],\n",
              "       [1.31010264e-01, 6.35157572e-04, 8.65663230e-01, 1.57083923e-05,\n",
              "        1.73898297e-03, 6.68088265e-04, 2.68730219e-04],\n",
              "       [1.73516348e-02, 7.64478391e-05, 9.49956417e-01, 4.15846662e-05,\n",
              "        2.31557712e-02, 2.86259659e-04, 9.13191307e-03],\n",
              "       [2.63650463e-06, 9.99386430e-01, 1.23071251e-04, 3.01410455e-05,\n",
              "        1.53386543e-04, 4.96757229e-06, 2.99411156e-04],\n",
              "       [1.49666676e-02, 1.49207503e-01, 4.73000854e-03, 1.32363915e-01,\n",
              "        2.49055517e-03, 6.95000052e-01, 1.24136766e-03],\n",
              "       [8.57837440e-05, 9.96946990e-01, 3.36922472e-04, 1.17219162e-04,\n",
              "        4.73864406e-04, 4.74011285e-05, 1.99181843e-03],\n",
              "       [3.12644348e-04, 6.83601320e-01, 1.05712069e-02, 1.12727061e-01,\n",
              "        4.97913547e-02, 3.11976429e-02, 1.11798771e-01],\n",
              "       [1.63474940e-02, 9.37051792e-03, 1.80166122e-02, 1.61402754e-03,\n",
              "        4.25406528e-04, 9.54046667e-01, 1.79206967e-04],\n",
              "       [6.70337249e-05, 6.92766998e-03, 2.64505744e-02, 2.51341717e-05,\n",
              "        9.60230350e-01, 6.70902664e-05, 6.23216247e-03],\n",
              "       [1.45058054e-02, 1.83598208e-03, 7.04795301e-01, 2.66727526e-04,\n",
              "        2.78028450e-03, 2.69203454e-01, 6.61249878e-03],\n",
              "       [8.11741513e-04, 9.15101450e-03, 9.24181640e-02, 9.38468203e-02,\n",
              "        2.11199792e-03, 8.00198019e-01, 1.46226655e-03],\n",
              "       [6.47504348e-05, 6.01757085e-03, 4.00219336e-02, 1.74545106e-02,\n",
              "        8.84077013e-01, 4.54265065e-02, 6.93775387e-03],\n",
              "       [7.54014589e-04, 4.55985107e-02, 4.68790203e-01, 3.11452616e-02,\n",
              "        1.54766649e-01, 2.81207263e-01, 1.77380312e-02],\n",
              "       [6.43978128e-04, 2.24358191e-05, 9.12526488e-01, 5.30997291e-04,\n",
              "        1.81287844e-02, 6.42343089e-02, 3.91294714e-03],\n",
              "       [1.06140569e-05, 9.16797578e-01, 5.10590617e-04, 3.65926861e-03,\n",
              "        6.17260486e-03, 1.07228907e-05, 7.28386119e-02],\n",
              "       [9.83447552e-01, 1.67731277e-03, 1.42579265e-02, 5.58851241e-07,\n",
              "        3.75159405e-04, 2.28955803e-04, 1.24916660e-05],\n",
              "       [1.22287340e-04, 9.98615384e-01, 7.14820868e-04, 4.04632265e-05,\n",
              "        8.31796933e-05, 2.71360914e-04, 1.52540408e-04],\n",
              "       [1.04647153e-03, 4.47417125e-02, 8.53313446e-01, 1.13163446e-03,\n",
              "        8.91815796e-02, 5.07687917e-03, 5.50819188e-03],\n",
              "       [8.08786333e-01, 4.88421656e-02, 1.18296660e-01, 3.09243798e-04,\n",
              "        1.66069288e-02, 6.70408271e-03, 4.54550056e-04],\n",
              "       [2.61727691e-04, 9.36054230e-01, 2.51680054e-03, 5.80759333e-05,\n",
              "        5.94190583e-02, 2.88492865e-05, 1.66114385e-03],\n",
              "       [2.93448031e-01, 4.06761080e-01, 1.04675747e-01, 1.28668977e-03,\n",
              "        1.48305207e-01, 2.85652727e-02, 1.69580411e-02],\n",
              "       [2.04420811e-03, 5.92433353e-05, 9.91005421e-01, 3.62334831e-05,\n",
              "        3.91006423e-03, 2.32408801e-03, 6.20679231e-04],\n",
              "       [3.78413315e-05, 6.32079020e-02, 2.53707096e-02, 1.56226501e-01,\n",
              "        5.15917614e-02, 3.46908206e-03, 7.00096190e-01],\n",
              "       [5.91542688e-04, 1.44019313e-02, 1.77799463e-02, 3.60390914e-06,\n",
              "        9.59230065e-01, 2.90139549e-04, 7.70283118e-03],\n",
              "       [1.20377271e-02, 1.47967337e-04, 8.55115503e-02, 8.82488850e-04,\n",
              "        1.44712627e-04, 9.01180983e-01, 9.45266584e-05],\n",
              "       [4.41903295e-03, 9.96516868e-02, 4.48834859e-02, 2.38807097e-01,\n",
              "        1.37339100e-01, 2.75009602e-01, 1.99890047e-01],\n",
              "       [3.16686928e-02, 7.72457182e-01, 1.66412905e-01, 4.50302195e-03,\n",
              "        1.09963398e-02, 1.00989919e-03, 1.29519124e-02],\n",
              "       [2.85284128e-03, 5.19773245e-01, 1.01768553e-01, 1.05828099e-01,\n",
              "        2.23912895e-01, 2.45983917e-02, 2.12660469e-02],\n",
              "       [6.28794551e-01, 1.56151522e-02, 3.48771721e-01, 1.34246284e-05,\n",
              "        2.74786563e-03, 2.03450225e-04, 3.85385985e-03],\n",
              "       [8.17178369e-01, 3.94533528e-03, 1.78112030e-01, 2.10972530e-06,\n",
              "        4.70217754e-04, 3.92683651e-05, 2.52736936e-04],\n",
              "       [7.41010010e-01, 8.94110010e-04, 1.62368178e-01, 1.05747589e-04,\n",
              "        9.23091248e-02, 2.37658597e-03, 9.36277327e-04],\n",
              "       [3.88280042e-02, 2.45402288e-02, 3.57207656e-01, 4.99280213e-06,\n",
              "        5.78304589e-01, 3.00373995e-05, 1.08438882e-03],\n",
              "       [1.03771927e-04, 1.68456789e-03, 3.38001340e-03, 4.60735988e-04,\n",
              "        9.91200268e-01, 9.93176363e-04, 2.17757304e-03],\n",
              "       [2.34253064e-04, 9.60798979e-01, 6.42292434e-03, 2.06071995e-02,\n",
              "        1.08846407e-02, 4.76246583e-04, 5.75751881e-04],\n",
              "       [9.87686396e-01, 2.56207702e-03, 7.86306243e-03, 6.80457597e-05,\n",
              "        2.66332179e-04, 1.27875968e-03, 2.75432685e-04],\n",
              "       [3.18976781e-05, 1.21609599e-03, 4.74064698e-04, 9.34347451e-01,\n",
              "        2.41598958e-04, 4.70104106e-02, 1.66785270e-02],\n",
              "       [5.87758899e-04, 1.94927640e-02, 2.82732323e-02, 3.51623516e-03,\n",
              "        5.01475297e-03, 7.02479243e-01, 2.40636095e-01],\n",
              "       [3.16181071e-02, 2.22800076e-01, 3.19476068e-01, 1.31191290e-03,\n",
              "        2.21720641e-03, 4.21896398e-01, 6.80274039e-04],\n",
              "       [3.83751422e-01, 2.07255602e-01, 9.84471887e-02, 1.26519695e-01,\n",
              "        1.21450365e-01, 4.98133861e-02, 1.27624385e-02],\n",
              "       [1.95753601e-04, 6.15948404e-04, 9.86755610e-01, 7.09917076e-05,\n",
              "        4.78603737e-03, 1.40798441e-03, 6.16764883e-03],\n",
              "       [1.13622956e-01, 1.89788878e-01, 6.00892782e-01, 1.99119793e-04,\n",
              "        8.08256939e-02, 7.46663660e-04, 1.39238685e-02],\n",
              "       [9.59742486e-01, 1.78186776e-04, 3.91107090e-02, 7.46586693e-07,\n",
              "        3.65781190e-04, 5.70339849e-04, 3.17689664e-05],\n",
              "       [3.56755163e-06, 2.99674016e-03, 7.44246552e-03, 9.76309359e-01,\n",
              "        6.64041610e-03, 5.94344269e-03, 6.63922867e-04],\n",
              "       [1.46193279e-05, 9.57602680e-01, 2.03974918e-03, 3.22162313e-03,\n",
              "        2.15724693e-03, 6.60368096e-05, 3.48981507e-02],\n",
              "       [2.81765833e-02, 5.01332343e-01, 2.42915633e-03, 4.25587237e-01,\n",
              "        2.95965234e-03, 3.92736569e-02, 2.41361646e-04],\n",
              "       [8.23274022e-05, 5.22848815e-02, 9.94223431e-02, 1.30844113e-04,\n",
              "        3.05120409e-01, 2.17928216e-04, 5.42741299e-01],\n",
              "       [1.13393776e-01, 2.59710738e-04, 7.87406564e-01, 2.87119602e-03,\n",
              "        2.24525481e-02, 7.32961372e-02, 3.20041232e-04],\n",
              "       [1.18991698e-03, 4.73235268e-04, 8.67478907e-01, 2.55556777e-04,\n",
              "        8.82874951e-02, 1.11744774e-03, 4.11974154e-02],\n",
              "       [6.55418698e-05, 1.26091647e-04, 7.23899603e-02, 7.92769432e-01,\n",
              "        5.21299317e-02, 8.07037503e-02, 1.81535084e-03],\n",
              "       [4.72913712e-01, 3.62788178e-02, 4.78095531e-01, 1.30505859e-05,\n",
              "        2.25893408e-03, 7.50844693e-03, 2.93163373e-03],\n",
              "       [1.21661113e-03, 8.69736552e-01, 3.07437014e-02, 3.97901749e-03,\n",
              "        1.56071212e-04, 8.86707678e-02, 5.49736014e-03],\n",
              "       [6.06718313e-05, 1.62458867e-01, 1.14920933e-03, 7.39274081e-04,\n",
              "        1.82797596e-01, 1.38317570e-04, 6.52656078e-01],\n",
              "       [2.40167882e-02, 4.79602779e-04, 9.52994466e-01, 1.03259435e-05,\n",
              "        8.93773162e-04, 2.11511124e-02, 4.53996967e-04],\n",
              "       [3.65122454e-03, 4.46193124e-04, 7.66429543e-01, 4.64568693e-05,\n",
              "        5.12423515e-02, 1.67593092e-01, 1.05913021e-02],\n",
              "       [9.80423212e-01, 1.07843364e-02, 7.78132351e-03, 2.34414233e-06,\n",
              "        9.39273799e-04, 3.57923927e-05, 3.36261510e-05],\n",
              "       [8.97530233e-04, 8.14440101e-03, 6.50786698e-01, 2.54596421e-03,\n",
              "        1.89272091e-01, 1.69035327e-02, 1.31449759e-01],\n",
              "       [2.13323027e-01, 7.66102314e-01, 2.43547722e-03, 1.14079681e-04,\n",
              "        4.48402658e-04, 3.38820578e-03, 1.41884871e-02],\n",
              "       [1.86896450e-05, 1.93421096e-02, 1.07143726e-02, 2.29744334e-02,\n",
              "        9.43910301e-01, 1.71805813e-03, 1.32197572e-03],\n",
              "       [2.63026599e-02, 1.09411823e-02, 3.98563743e-01, 1.09031191e-02,\n",
              "        8.71862993e-02, 4.33624893e-01, 3.24780233e-02],\n",
              "       [1.00201309e-04, 1.84770150e-03, 1.44044822e-02, 1.53463130e-04,\n",
              "        9.19649839e-01, 4.14433181e-02, 2.24010497e-02],\n",
              "       [1.59752999e-05, 9.87321883e-02, 3.69720533e-02, 3.68900329e-01,\n",
              "        8.83402452e-02, 4.23604809e-03, 4.02803123e-01],\n",
              "       [2.08178579e-04, 3.01679652e-02, 7.57905617e-02, 3.45530082e-03,\n",
              "        8.22556734e-01, 4.20989804e-02, 2.57223025e-02],\n",
              "       [4.91906667e-06, 4.49715444e-04, 1.00620249e-02, 5.54143965e-01,\n",
              "        3.37590405e-04, 4.33720082e-01, 1.28165912e-03],\n",
              "       [1.15280203e-03, 1.40400720e-03, 1.27014160e-01, 7.81086028e-01,\n",
              "        8.62120315e-02, 2.53093592e-03, 6.00042520e-04],\n",
              "       [4.68792617e-02, 1.15669318e-04, 8.98926795e-01, 3.13068647e-03,\n",
              "        1.88882407e-02, 2.81247552e-02, 3.93460086e-03],\n",
              "       [8.53811279e-02, 9.39290449e-02, 5.26219249e-01, 8.18100700e-04,\n",
              "        1.78572796e-02, 2.27270022e-01, 4.85251583e-02],\n",
              "       [6.52220260e-05, 2.01617740e-03, 7.74730265e-01, 1.69142010e-03,\n",
              "        2.00041831e-01, 1.79046467e-02, 3.55039840e-03],\n",
              "       [2.64515467e-02, 3.19435358e-01, 6.53556064e-02, 1.26075977e-03,\n",
              "        5.83453894e-01, 2.82840850e-03, 1.21443509e-03],\n",
              "       [8.73024344e-01, 2.41876417e-03, 1.19422540e-01, 5.52639613e-05,\n",
              "        4.89193387e-03, 2.89072541e-05, 1.58200259e-04],\n",
              "       [1.73349576e-07, 3.00580268e-05, 6.43820676e-05, 9.98190939e-01,\n",
              "        4.22629564e-05, 1.50543405e-03, 1.66866375e-04],\n",
              "       [4.33825143e-03, 1.29380473e-03, 8.52235675e-01, 1.77718839e-03,\n",
              "        3.93041931e-02, 8.67791027e-02, 1.42716831e-02],\n",
              "       [5.26917893e-06, 7.25430390e-03, 3.73289222e-04, 9.87264395e-01,\n",
              "        1.24986412e-03, 7.48524733e-04, 3.10432166e-03],\n",
              "       [8.99149396e-04, 6.24138474e-01, 2.09390223e-02, 2.65042961e-01,\n",
              "        1.29525643e-02, 6.50012940e-02, 1.10265734e-02],\n",
              "       [9.94688869e-01, 1.84371049e-04, 5.03583113e-03, 2.55939767e-07,\n",
              "        4.60876654e-05, 4.30694308e-05, 1.54529812e-06],\n",
              "       [1.24069757e-03, 6.64321542e-01, 2.27078319e-01, 1.87202147e-03,\n",
              "        9.73942056e-02, 3.93537601e-04, 7.69961625e-03],\n",
              "       [6.82948739e-04, 1.26663130e-04, 7.39536760e-03, 1.34631293e-03,\n",
              "        3.20341904e-03, 9.85583663e-01, 1.66170823e-03],\n",
              "       [3.64194973e-04, 3.18541970e-05, 1.90746918e-01, 1.19930329e-02,\n",
              "        3.80671350e-04, 7.93508768e-01, 2.97459960e-03],\n",
              "       [3.98524404e-02, 1.83327332e-01, 6.19702995e-01, 2.51722080e-03,\n",
              "        1.28567442e-01, 1.42194971e-03, 2.46107616e-02],\n",
              "       [1.51421560e-03, 2.27960110e-01, 2.15802877e-03, 5.35745081e-03,\n",
              "        5.12027852e-02, 1.97918271e-03, 7.09828198e-01],\n",
              "       [4.21286859e-05, 8.37533036e-04, 5.06411656e-04, 9.71352041e-01,\n",
              "        4.09842105e-05, 2.09515765e-02, 6.26937579e-03],\n",
              "       [3.01875085e-01, 6.81935530e-03, 6.21713459e-01, 5.32169011e-04,\n",
              "        4.89409603e-02, 1.50208063e-02, 5.09812729e-03],\n",
              "       [8.84341989e-06, 3.20054442e-02, 4.03811084e-03, 1.23572191e-02,\n",
              "        7.05418177e-03, 3.26163834e-04, 9.44209993e-01],\n",
              "       [2.08165403e-03, 7.87927711e-04, 3.61854434e-01, 8.23553637e-06,\n",
              "        6.28711581e-01, 1.88673555e-03, 4.66940133e-03],\n",
              "       [9.76963937e-01, 1.29370289e-02, 6.91190315e-03, 7.33600755e-05,\n",
              "        2.94369739e-03, 2.89160071e-05, 1.41172131e-04],\n",
              "       [7.80426944e-07, 2.93752365e-03, 2.21055088e-04, 9.85277355e-01,\n",
              "        2.69089080e-03, 2.39120141e-04, 8.63324478e-03],\n",
              "       [6.36750599e-03, 1.79749914e-02, 2.54267752e-02, 2.09360686e-03,\n",
              "        9.31240797e-01, 1.65645815e-02, 3.31685995e-04],\n",
              "       [4.74499320e-05, 3.45593970e-03, 1.15618296e-01, 1.06829058e-04,\n",
              "        1.01857729e-01, 7.24866637e-04, 7.78188884e-01],\n",
              "       [1.71180896e-03, 1.94763672e-03, 8.82182717e-02, 2.87794566e-04,\n",
              "        7.35289836e-03, 8.00889194e-01, 9.95923579e-02],\n",
              "       [3.28653753e-02, 9.55818250e-05, 8.50400701e-02, 2.61625126e-02,\n",
              "        9.80144396e-05, 8.55463266e-01, 2.75184168e-04],\n",
              "       [4.05923551e-04, 7.45438738e-03, 9.38639820e-01, 4.07133601e-04,\n",
              "        2.31847968e-02, 1.11609511e-03, 2.87918709e-02],\n",
              "       [4.49237821e-04, 7.27069899e-02, 7.91608542e-03, 6.20285034e-01,\n",
              "        1.06454780e-03, 2.38451555e-01, 5.91266267e-02],\n",
              "       [1.90237790e-01, 3.60763401e-01, 3.22137743e-01, 2.20143911e-03,\n",
              "        5.27541572e-03, 1.04916997e-01, 1.44671611e-02],\n",
              "       [3.78875266e-04, 2.09775660e-03, 4.34702775e-03, 4.60300315e-03,\n",
              "        1.80630130e-03, 9.60073650e-01, 2.66933292e-02],\n",
              "       [2.94460169e-05, 5.91225773e-02, 2.05823430e-03, 1.03978990e-02,\n",
              "        2.86209192e-02, 1.53515628e-03, 8.98235798e-01],\n",
              "       [3.98403179e-04, 8.10295701e-01, 5.12681901e-03, 6.41382765e-04,\n",
              "        1.30977198e-01, 4.47163075e-05, 5.25157489e-02],\n",
              "       [2.51292646e-01, 8.77069682e-03, 7.25264490e-01, 2.77778581e-05,\n",
              "        6.80339197e-03, 6.55817275e-04, 7.18519464e-03],\n",
              "       [4.33280820e-06, 3.02276621e-03, 4.58695780e-04, 1.25284860e-04,\n",
              "        1.35406982e-02, 3.19634535e-04, 9.82528567e-01]], dtype=float32)"
            ]
          },
          "metadata": {},
          "execution_count": 41
        }
      ]
    },
    {
      "cell_type": "code",
      "source": [
        "y_pred_test_class "
      ],
      "metadata": {
        "id": "ph-j4nBsAxjT",
        "colab": {
          "base_uri": "https://localhost:8080/"
        },
        "outputId": "67ddc367-19bc-410c-c592-499cd997bdb2"
      },
      "execution_count": null,
      "outputs": [
        {
          "output_type": "execute_result",
          "data": {
            "text/plain": [
              "array([6, 4, 5, 6, 0, 4, 5, 0, 3, 6, 3, 2, 0, 5, 0, 0, 5, 5, 4, 6, 6, 0,\n",
              "       0, 2, 3, 0, 5, 2, 2, 1, 5, 1, 1, 5, 4, 2, 5, 4, 2, 2, 1, 0, 1, 2,\n",
              "       0, 1, 1, 2, 6, 4, 5, 5, 1, 1, 0, 0, 0, 4, 4, 1, 0, 3, 5, 5, 0, 2,\n",
              "       2, 0, 3, 1, 1, 6, 2, 2, 3, 2, 1, 6, 2, 2, 0, 2, 1, 4, 5, 4, 6, 4,\n",
              "       3, 3, 2, 2, 2, 4, 0, 3, 2, 3, 1, 0, 1, 5, 5, 2, 6, 3, 2, 6, 4, 0,\n",
              "       3, 4, 6, 5, 5, 2, 3, 1, 5, 6, 1, 2, 6])"
            ]
          },
          "metadata": {},
          "execution_count": 42
        }
      ]
    },
    {
      "cell_type": "markdown",
      "source": [
        "### Test Set Confusion Matrix and Heatmap"
      ],
      "metadata": {
        "id": "Epp2QpxsUVXH"
      }
    },
    {
      "cell_type": "code",
      "source": [
        "# Test set Confusion matrix\n",
        "\n",
        "cm=confusion_matrix(y_test_class, y_pred_test_class)\n",
        "\n",
        "index = ['calm', 'happy', 'sad', 'angry', 'fearful', 'disgust', 'surprised']  \n",
        "columns = ['calm', 'happy', 'sad', 'angry', 'fearful', 'disgust', 'surprised']  \n",
        " \n",
        "cm_df = pd.DataFrame(cm,index,columns)                      \n",
        "plt.figure(figsize=(12,8))\n",
        "ax = plt.axes()\n",
        "\n",
        "sns.heatmap(cm_df, ax = ax, cmap = 'BuGn', fmt=\"d\", annot=True)\n",
        "ax.set_ylabel('True emotion')\n",
        "ax.set_xlabel('Predicted emotion')"
      ],
      "metadata": {
        "id": "ukGrk_cagzyb",
        "colab": {
          "base_uri": "https://localhost:8080/"
        },
        "outputId": "d1a765dd-35dd-4cf3-fc50-ebd076adc7ee"
      },
      "execution_count": null,
      "outputs": [
        {
          "output_type": "execute_result",
          "data": {
            "text/plain": [
              "Text(0.5, 51.0, 'Predicted emotion')"
            ]
          },
          "metadata": {},
          "execution_count": 43
        },
        {
          "output_type": "display_data",
          "data": {
            "text/plain": [
              "<Figure size 864x576 with 2 Axes>"
            ],
            "image/png": "[encoded data removed]"
          },
          "metadata": {
            "needs_background": "light"
          }
        }
      ]
    },
    {
      "cell_type": "code",
      "source": [
        "# Confusion Matrix\n",
        "cm"
      ],
      "metadata": {
        "id": "9f51xwUE8haF",
        "colab": {
          "base_uri": "https://localhost:8080/"
        },
        "outputId": "7f04abe8-f850-4302-d61f-c866034e10f7"
      },
      "execution_count": null,
      "outputs": [
        {
          "output_type": "execute_result",
          "data": {
            "text/plain": [
              "array([[12,  0,  3,  0,  0,  0,  0],\n",
              "       [ 3,  9,  0,  0,  1,  0,  1],\n",
              "       [ 1,  2, 10,  0,  1,  1,  0],\n",
              "       [ 1,  1,  1, 12,  3,  2,  0],\n",
              "       [ 1,  0,  8,  0,  9,  1,  2],\n",
              "       [ 1,  1,  2,  1,  0, 11,  0],\n",
              "       [ 1,  5,  1,  0,  0,  4, 11]])"
            ]
          },
          "metadata": {},
          "execution_count": 44
        }
      ]
    },
    {
      "cell_type": "markdown",
      "source": [
        "### Test Set Predicted emotions accuracy"
      ],
      "metadata": {
        "id": "zil3CkweUX0q"
      }
    },
    {
      "cell_type": "code",
      "source": [
        "# Test set prediction accuracy rates\n",
        "\n",
        "values = cm.diagonal()\n",
        "row_sum = np.sum(cm,axis=1)\n",
        "acc = values / row_sum\n",
        "\n",
        "print('Test set predicted emotions accuracy:')\n",
        "for e in range(0, len(values)):\n",
        "    print(index[e],':', f\"{(acc[e]):0.4f}\")"
      ],
      "metadata": {
        "id": "t_ORyGGig090",
        "colab": {
          "base_uri": "https://localhost:8080/"
        },
        "outputId": "76dc8a68-300b-4f47-858f-8d8244efd259"
      },
      "execution_count": null,
      "outputs": [
        {
          "output_type": "stream",
          "name": "stdout",
          "text": [
            "Test set predicted emotions accuracy:\n",
            "calm : 0.8000\n",
            "happy : 0.6429\n",
            "sad : 0.6667\n",
            "angry : 0.6000\n",
            "fearful : 0.4286\n",
            "disgust : 0.6875\n",
            "surprised : 0.5000\n"
          ]
        }
      ]
    },
    {
      "cell_type": "markdown",
      "source": [
        "### Precision, Recal, Fscore"
      ],
      "metadata": {
        "id": "8Hzthv1t8kwd"
      }
    },
    {
      "cell_type": "code",
      "source": [
        "# Validation set precision, recall, fscore\n",
        "\n",
        "precision_recall_fscore_support(y_test_class, y_pred_test_class, average='macro')\n"
      ],
      "metadata": {
        "id": "QnwWoVFnh33F",
        "colab": {
          "base_uri": "https://localhost:8080/"
        },
        "outputId": "aa80efb2-1dec-4b60-e3d5-87f742870686"
      },
      "execution_count": null,
      "outputs": [
        {
          "output_type": "execute_result",
          "data": {
            "text/plain": [
              "(0.6329422457242007, 0.6179421768707483, 0.604207895279324, None)"
            ]
          },
          "metadata": {},
          "execution_count": 46
        }
      ]
    },
    {
      "cell_type": "code",
      "source": [
        "precision_recall_fscore_support(y_test_class, y_pred_test_class, average='weighted')"
      ],
      "metadata": {
        "id": "OlDhuPlqzwVB",
        "colab": {
          "base_uri": "https://localhost:8080/"
        },
        "outputId": "31398f3e-63f1-4d8b-c332-03ee579787c5"
      },
      "execution_count": null,
      "outputs": [
        {
          "output_type": "execute_result",
          "data": {
            "text/plain": [
              "(0.6545561840812162, 0.6016260162601627, 0.6057541149004565, None)"
            ]
          },
          "metadata": {},
          "execution_count": 47
        }
      ]
    },
    {
      "cell_type": "markdown",
      "source": [
        "### ROC AUC Score"
      ],
      "metadata": {
        "id": "sEuBd9IyLuiD"
      }
    },
    {
      "cell_type": "code",
      "source": [
        "ravdess_df = pd.read_csv (df_path)"
      ],
      "metadata": {
        "id": "8bb4OSmyTO6v"
      },
      "execution_count": null,
      "outputs": []
    },
    {
      "cell_type": "code",
      "source": [
        "labels = [\"calm\", \"happy\", \"sad\", \"angry\", \"fear\", \"disgust\", \"suprised\"]"
      ],
      "metadata": {
        "id": "1leZ4JGVTfTp"
      },
      "execution_count": null,
      "outputs": []
    },
    {
      "cell_type": "code",
      "source": [
        "y_test_adj = y_test.reshape(-1,)"
      ],
      "metadata": {
        "id": "MRm1ZwnxFStc"
      },
      "execution_count": null,
      "outputs": []
    },
    {
      "cell_type": "code",
      "source": [
        "y_proba_test_class.shape"
      ],
      "metadata": {
        "id": "O-IcYOABFjxB",
        "colab": {
          "base_uri": "https://localhost:8080/"
        },
        "outputId": "cdaf6acc-a67c-4688-fd9b-6c7ff269b603"
      },
      "execution_count": null,
      "outputs": [
        {
          "output_type": "execute_result",
          "data": {
            "text/plain": [
              "(123, 7)"
            ]
          },
          "metadata": {},
          "execution_count": 51
        }
      ]
    },
    {
      "cell_type": "code",
      "source": [
        "y_test.shape"
      ],
      "metadata": {
        "id": "9AaqUY3PIlMQ",
        "colab": {
          "base_uri": "https://localhost:8080/"
        },
        "outputId": "7c8922b0-dca5-4782-b803-065151b9d61e"
      },
      "execution_count": null,
      "outputs": [
        {
          "output_type": "execute_result",
          "data": {
            "text/plain": [
              "(123, 1)"
            ]
          },
          "metadata": {},
          "execution_count": 52
        }
      ]
    },
    {
      "cell_type": "code",
      "source": [
        "y_test_adj"
      ],
      "metadata": {
        "id": "7LgDudYTKInS",
        "colab": {
          "base_uri": "https://localhost:8080/"
        },
        "outputId": "023afcaf-ed72-4172-a08c-8d294a0b8b6f"
      },
      "execution_count": null,
      "outputs": [
        {
          "output_type": "execute_result",
          "data": {
            "text/plain": [
              "array([6, 3, 5, 4, 0, 4, 5, 4, 3, 6, 3, 4, 0, 5, 3, 0, 5, 5, 2, 6, 6, 0,\n",
              "       0, 2, 5, 0, 5, 0, 4, 1, 3, 6, 6, 5, 4, 2, 5, 4, 4, 5, 6, 0, 1, 2,\n",
              "       1, 1, 6, 2, 6, 4, 5, 6, 1, 2, 5, 1, 1, 4, 4, 1, 6, 3, 4, 2, 2, 2,\n",
              "       4, 0, 3, 6, 5, 1, 2, 4, 3, 0, 3, 6, 2, 6, 0, 4, 1, 3, 6, 3, 6, 4,\n",
              "       3, 3, 2, 5, 4, 1, 0, 3, 2, 3, 1, 0, 2, 6, 5, 4, 4, 3, 3, 6, 4, 0,\n",
              "       3, 4, 6, 5, 3, 2, 3, 1, 6, 6, 1, 0, 6], dtype=int8)"
            ]
          },
          "metadata": {},
          "execution_count": 53
        }
      ]
    },
    {
      "cell_type": "code",
      "source": [
        "\n",
        "\n",
        "macro_roc_auc_ovo = roc_auc_score(y_test_adj, y_proba_test_class, multi_class=\"ovo\", average=\"macro\")\n",
        "weighted_roc_auc_ovo = roc_auc_score(\n",
        "    y_test_adj, y_proba_test_class, multi_class=\"ovo\", average=\"weighted\"\n",
        ")\n",
        "macro_roc_auc_ovr = roc_auc_score(y_test_adj, y_proba_test_class, multi_class=\"ovr\", average=\"macro\")\n",
        "weighted_roc_auc_ovr = roc_auc_score(\n",
        "    y_test_adj, y_proba_test_class, multi_class=\"ovr\", average=\"weighted\"\n",
        ")\n"
      ],
      "metadata": {
        "id": "oMa4N8EhHlY9"
      },
      "execution_count": null,
      "outputs": []
    },
    {
      "cell_type": "code",
      "source": [
        "print(\"One-vs-One ROC AUC scores:\\n{:.6f} (macro),\\n{:.6f} \" \"(weighted by prevalence)\\n\".format(macro_roc_auc_ovo, weighted_roc_auc_ovo))\n",
        "print(\"One-vs-Rest ROC AUC scores:\\n{:.6f} (macro),\\n{:.6f} \" \"(weighted by prevalence)\".format(macro_roc_auc_ovr, weighted_roc_auc_ovr))"
      ],
      "metadata": {
        "id": "hhBLwtO_ICqL",
        "colab": {
          "base_uri": "https://localhost:8080/"
        },
        "outputId": "5de51a76-c761-4432-92b6-c2a7bc941c73"
      },
      "execution_count": null,
      "outputs": [
        {
          "output_type": "stream",
          "name": "stdout",
          "text": [
            "One-vs-One ROC AUC scores:\n",
            "0.896302 (macro),\n",
            "0.893496 (weighted by prevalence)\n",
            "\n",
            "One-vs-Rest ROC AUC scores:\n",
            "0.892292 (macro),\n",
            "0.890164 (weighted by prevalence)\n"
          ]
        }
      ]
    }
  ]
}