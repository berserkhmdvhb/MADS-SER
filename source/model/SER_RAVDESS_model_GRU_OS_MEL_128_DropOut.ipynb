{
  "metadata": {
    "kernelspec": {
      "language": "python",
      "display_name": "Python 3",
      "name": "python3"
    },
    "language_info": {
      "pygments_lexer": "ipython3",
      "nbconvert_exporter": "python",
      "version": "3.6.4",
      "file_extension": ".py",
      "codemirror_mode": {
        "name": "ipython",
        "version": 3
      },
      "name": "python",
      "mimetype": "text/x-python"
    },
    "colab": {
      "name": " SER-RAVDESS-model-GRU-OS-MEL-128-DropOut.ipynb",
      "provenance": [],
      "collapsed_sections": []
    }
  },
  "nbformat_minor": 0,
  "nbformat": 4,
  "cells": [
    {
      "cell_type": "markdown",
      "source": [
        "# Imports"
      ],
      "metadata": {
        "id": "anSyerIFN7qd"
      }
    },
    {
      "cell_type": "code",
      "source": [
        "# Importing Libraries"
      ],
      "metadata": {
        "id": "IMFSwIuvKiw2"
      },
      "execution_count": 1,
      "outputs": []
    },
    {
      "cell_type": "code",
      "source": [
        "!pip install json-tricks"
      ],
      "metadata": {
        "colab": {
          "base_uri": "https://localhost:8080/"
        },
        "id": "bBR8aNsmM2tR",
        "outputId": "c994cf18-121c-4279-ff9f-a43ac35fb5e7"
      },
      "execution_count": 2,
      "outputs": [
        {
          "output_type": "stream",
          "name": "stdout",
          "text": [
            "Looking in indexes: https://pypi.org/simple, https://us-python.pkg.dev/colab-wheels/public/simple/\n",
            "Collecting json-tricks\n",
            "  Downloading json_tricks-3.15.5-py2.py3-none-any.whl (26 kB)\n",
            "Installing collected packages: json-tricks\n",
            "Successfully installed json-tricks-3.15.5\n"
          ]
        }
      ]
    },
    {
      "cell_type": "code",
      "source": [
        "import pandas as pd\n",
        "import numpy as np\n",
        "\n",
        "import os\n",
        "import sys\n",
        "\n",
        "import librosa\n",
        "import librosa.display\n",
        "#from pydub import AudioSegment, effects\n",
        "#import noisereduce as nr\n",
        "\n",
        "\n",
        "import seaborn as sns\n",
        "import matplotlib.pyplot as plt\n",
        "from IPython.display import Audio\n",
        "\n",
        "import tensorflow as tf\n",
        "import keras\n",
        "import sklearn\n",
        "\n",
        "\n",
        "from tensorflow.keras.models import Sequential, Model\n",
        "from tensorflow.keras.layers import Dense, LSTM, Flatten, Dropout, BatchNormalization\n",
        "from tensorflow.keras.callbacks import ModelCheckpoint, EarlyStopping, ReduceLROnPlateau\n",
        "from tensorflow.keras.optimizers import Adam, SGD\n",
        "from tensorflow.keras.utils import to_categorical, plot_model\n",
        "\n",
        "\n",
        "from keras.models import Sequential, model_from_json, load_model\n",
        "from keras import layers\n",
        "from keras import optimizers\n",
        "from keras import callbacks\n",
        "\n",
        "from sklearn.preprocessing import StandardScaler, OneHotEncoder, LabelEncoder\n",
        "from sklearn.metrics import confusion_matrix, classification_report, precision_recall_fscore_support, roc_auc_score\n",
        "from sklearn.model_selection import train_test_split, StratifiedShuffleSplit\n",
        "from sklearn.multiclass import OneVsRestClassifier\n",
        "\n",
        "\n",
        "from tqdm import tqdm\n",
        "\n",
        "\n",
        "from json_tricks import dump, load\n",
        "\n",
        "\n",
        "\n",
        "import warnings\n",
        "if not sys.warnoptions:\n",
        "    warnings.simplefilter(\"ignore\")\n",
        "warnings.filterwarnings(\"ignore\", category=DeprecationWarning) \n",
        "\n",
        "import time\n",
        "tic = time.perf_counter()\n",
        "\n",
        "\n",
        "from sklearn.preprocessing import MinMaxScaler\n"
      ],
      "metadata": {
        "id": "77IS8HxqFFCA"
      },
      "execution_count": 3,
      "outputs": []
    },
    {
      "cell_type": "code",
      "source": [
        ""
      ],
      "metadata": {
        "id": "gGYqBIk0FGm4"
      },
      "execution_count": 3,
      "outputs": []
    },
    {
      "cell_type": "markdown",
      "source": [
        "# Dataset"
      ],
      "metadata": {
        "id": "nyMzoZKKKiw6"
      }
    },
    {
      "cell_type": "code",
      "source": [
        "from google.colab import drive\n",
        "drive.mount('/content/drive')"
      ],
      "metadata": {
        "colab": {
          "base_uri": "https://localhost:8080/"
        },
        "id": "JFPDGXmwCBs_",
        "outputId": "d3faf4f4-5739-464a-f333-cb36b743f407"
      },
      "execution_count": 4,
      "outputs": [
        {
          "output_type": "stream",
          "name": "stdout",
          "text": [
            "Mounted at /content/drive\n"
          ]
        }
      ]
    },
    {
      "cell_type": "code",
      "source": [
        "#Crema = \"/content/drive/MyDrive/datasets/speech/CREMAD/sample/\"\n",
        "#Crema = \"/content/drive/MyDrive/datasets/speech/CREMAD/AudioWAV/\"\n",
        "Ravdess = \"/content/drive/MyDrive/datasets/speech/RAVDESS/data/Audio_Speech_Actors_01-24\"\n",
        "Ravdess_processed = \"/content/drive/MyDrive/datasets/speech/RAVDESS/processedData/onlySpeech/\"\n",
        "Ravdess_speech_sample = \"/content/drive/MyDrive/datasets/speech/RAVDESS/data/Audio_Speech_Actors_01-24/\"\n",
        "df_path = \"/content/drive/MyDrive/datasets/speech/RAVDESS/ravdess_df_onlySpeech.csv\"\n",
        "model_path = Ravdess + \"/model/\"\n",
        "\n",
        "checkpoint_path = model_path + \"best_weights-os-GRU-1.hdf5\"\n",
        "saved_model_path = model_path + 'model8723-os-GRU-1.json'\n",
        "\n",
        "saved_weights_path = model_path + 'model8723_weights-os-GRU-1.h5'\n",
        "saved_model_path_2 = model_path + 'Speech-Emotion-Recognition-Model-os-GRU-1.h5'"
      ],
      "metadata": {
        "execution": {
          "iopub.status.busy": "2021-06-21T09:35:38.093538Z",
          "iopub.execute_input": "2021-06-21T09:35:38.093869Z",
          "iopub.status.idle": "2021-06-21T09:35:38.097467Z",
          "shell.execute_reply.started": "2021-06-21T09:35:38.093838Z",
          "shell.execute_reply": "2021-06-21T09:35:38.096608Z"
        },
        "trusted": true,
        "id": "vR2GjHL4Kiw7"
      },
      "execution_count": 5,
      "outputs": []
    },
    {
      "cell_type": "code",
      "source": [
        ""
      ],
      "metadata": {
        "id": "J2T6JxzIF2Jq"
      },
      "execution_count": 5,
      "outputs": []
    },
    {
      "cell_type": "code",
      "source": [
        "##Hypter Parameters' Range\n",
        "params = {\n",
        "    \"batch_size\": 20,  # 20<16<10, 25 was a bust\n",
        "    \"epochs\": 300,\n",
        "    \"lr\": 0.00010000,\n",
        "    \"time_steps\": 60\n",
        "}\n",
        "#TIME_STEPS = params[\"time_steps\"]\n",
        "#BATCH_SIZE = params[\"batch_size\"]\n",
        "#iter_changes = \"dropout_layers_0.4_0.4\"\n"
      ],
      "metadata": {
        "id": "jnEd5_Vvy4ue"
      },
      "execution_count": 6,
      "outputs": []
    },
    {
      "cell_type": "code",
      "source": [
        ""
      ],
      "metadata": {
        "id": "dKXM0xT-N8uy"
      },
      "execution_count": 6,
      "outputs": []
    },
    {
      "cell_type": "markdown",
      "source": [
        "# Load Processed Files, Construct Train, Validation and Test Sets"
      ],
      "metadata": {
        "id": "fse_mTpaOGdQ"
      }
    },
    {
      "cell_type": "code",
      "source": [
        "\n",
        "processed_path = Ravdess_processed\n",
        "x_path = processed_path + \"X_features.json\" # FILE LOAD PATH\n",
        "y_path =  processed_path + \"Y_labels.json\" # FILE SAVE PATH\n",
        "#x_path = '/content/drive/MyDrive/datasets/speech/RAVDESS/processedData/X_features.json'\n",
        "\n",
        "# Load X,Y json files back into lists, convert to np.arrays\n",
        "\n",
        "X = load(x_path)\n",
        "X = np.asarray(X, dtype = 'float32')\n",
        "\n",
        "Y = load(y_path)\n",
        "Y = np.asarray(Y, dtype = 'int8')"
      ],
      "metadata": {
        "id": "101BpvWgN8xX"
      },
      "execution_count": 7,
      "outputs": []
    },
    {
      "cell_type": "code",
      "source": [
        "# Split to train, validation, and test sets.\n",
        "from sklearn.model_selection import train_test_split\n",
        "# 1st Split: X,Y => (x_train, x_tosplit) (y_train, y_tosplit)\n",
        "x_train, x_tosplit, y_train, y_tosplit = train_test_split(X, Y, test_size = 0.30, random_state = 1)\n",
        "# 2nd Split: x_tosplit,y_tosplit => (x_val, x_test) (y_val, y_test) \n",
        "x_val, x_test, y_val, y_test = train_test_split(x_tosplit, y_tosplit, test_size = 0.304, random_state = 1)\n",
        "#'One-hot' vectors for Y: emotion classification\n",
        "y_train_class = tf.keras.utils.to_categorical(y_train, 7, dtype = 'int8')\n",
        "y_val_class = tf.keras.utils.to_categorical(y_val, 7, dtype = 'int8')"
      ],
      "metadata": {
        "id": "CuF9M1mfOD7X"
      },
      "execution_count": 8,
      "outputs": []
    },
    {
      "cell_type": "code",
      "source": [
        "# Normalize using MinMaxScaler\n",
        "\n",
        "#scaler = MinMaxScaler()\n",
        "\n",
        "#X_train = scaler.fit_transform(x_train.reshape(-1, x_train.shape[-1])).reshape(x_train.shape)\n",
        "#X_Val = scaler.fit_transform(x_val.reshape(-1, x_val.shape[-1])).reshape(x_val.shape)\n",
        "#X_test = scaler.transform(x_test.reshape(-1, x_test.shape[-1])).reshape(x_test.shape)"
      ],
      "metadata": {
        "id": "zBs8Y2ZlWY_5"
      },
      "execution_count": 9,
      "outputs": []
    },
    {
      "cell_type": "code",
      "source": [
        "X_train = x_train\n",
        "X_val = x_val\n",
        "X_test = x_test"
      ],
      "metadata": {
        "id": "Acf0v-2jsdOx"
      },
      "execution_count": 10,
      "outputs": []
    },
    {
      "cell_type": "code",
      "source": [
        "# x_train, x_val, and x_test shape check.\n",
        "print(np.shape(X_train))\n",
        "print(np.shape(X_val))\n",
        "print(np.shape(X_test))"
      ],
      "metadata": {
        "colab": {
          "base_uri": "https://localhost:8080/"
        },
        "id": "od-D1YgBOGXs",
        "outputId": "eb4444ae-f614-46db-d18a-3cfe877951b0"
      },
      "execution_count": 11,
      "outputs": [
        {
          "output_type": "stream",
          "name": "stdout",
          "text": [
            "(940, 448, 153)\n",
            "(281, 448, 153)\n",
            "(123, 448, 153)\n"
          ]
        }
      ]
    },
    {
      "cell_type": "code",
      "source": [
        "# Save x_test, y_test to JSON.\n",
        "\n",
        "x_test_path = processed_path + 'x_test_data.json'\n",
        "dump(obj = X_test, fp = x_test_path)\n",
        "\n",
        "y_test_path = processed_path + 'y_test_data.json'\n",
        "dump(obj = y_test, fp = y_test_path)"
      ],
      "metadata": {
        "colab": {
          "base_uri": "https://localhost:8080/",
          "height": 105
        },
        "id": "nTExHJVsOHQ5",
        "outputId": "b665ba27-6a91-4006-b119-a65646fd55aa"
      },
      "execution_count": 12,
      "outputs": [
        {
          "output_type": "execute_result",
          "data": {
            "text/plain": [
              "'{\"__ndarray__\": [[6], [3], [5], [4], [0], [4], [5], [4], [3], [6], [3], [4], [0], [5], [3], [0], [5], [5], [2], [6], [6], [0], [0], [2], [5], [0], [5], [0], [4], [1], [3], [6], [6], [5], [4], [2], [5], [4], [4], [5], [6], [0], [1], [2], [1], [1], [6], [2], [6], [4], [5], [6], [1], [2], [5], [1], [1], [4], [4], [1], [6], [3], [4], [2], [2], [2], [4], [0], [3], [6], [5], [1], [2], [4], [3], [0], [3], [6], [2], [6], [0], [4], [1], [3], [6], [3], [6], [4], [3], [3], [2], [5], [4], [1], [0], [3], [2], [3], [1], [0], [2], [6], [5], [4], [4], [3], [3], [6], [4], [0], [3], [4], [6], [5], [3], [2], [3], [1], [6], [6], [1], [0], [6]], \"dtype\": \"int8\", \"shape\": [123, 1], \"Corder\": true}'"
            ],
            "application/vnd.google.colaboratory.intrinsic+json": {
              "type": "string"
            }
          },
          "metadata": {},
          "execution_count": 12
        }
      ]
    },
    {
      "cell_type": "code",
      "source": [
        "# Loading x_test, y_test json files, and converting to np.arrays\n",
        "\n",
        "X_test = load(processed_path + 'x_test_data.json')\n",
        "X_test = np.asarray(X_test).astype('float32')\n",
        "\n",
        "y_test = load(processed_path + 'y_test_data.json')\n",
        "y_test = np.asarray(y_test).astype('int8')\n",
        "\n",
        "y_test_class = tf.keras.utils.to_categorical(y_test, 7, dtype = 'int8')"
      ],
      "metadata": {
        "id": "kAFBRsmk5dzm"
      },
      "execution_count": 13,
      "outputs": []
    },
    {
      "cell_type": "code",
      "source": [
        "X.shape"
      ],
      "metadata": {
        "id": "15joCR4gu4r7",
        "colab": {
          "base_uri": "https://localhost:8080/"
        },
        "outputId": "34d35d78-7504-42d0-832b-103473f7fadf"
      },
      "execution_count": 14,
      "outputs": [
        {
          "output_type": "execute_result",
          "data": {
            "text/plain": [
              "(1344, 448, 153)"
            ]
          },
          "metadata": {},
          "execution_count": 14
        }
      ]
    },
    {
      "cell_type": "code",
      "source": [
        "X.shape[1:3]"
      ],
      "metadata": {
        "colab": {
          "base_uri": "https://localhost:8080/"
        },
        "id": "8MQhoPKjEzi4",
        "outputId": "cf38be1c-1599-482b-b97e-0a089b90e3a0"
      },
      "execution_count": 15,
      "outputs": [
        {
          "output_type": "execute_result",
          "data": {
            "text/plain": [
              "(448, 153)"
            ]
          },
          "metadata": {},
          "execution_count": 15
        }
      ]
    },
    {
      "cell_type": "code",
      "source": [
        "X_train.shape"
      ],
      "metadata": {
        "colab": {
          "base_uri": "https://localhost:8080/"
        },
        "id": "LxZyszASamnQ",
        "outputId": "05b046d8-1a76-4fd4-ad8b-7823c671168c"
      },
      "execution_count": 16,
      "outputs": [
        {
          "output_type": "execute_result",
          "data": {
            "text/plain": [
              "(940, 448, 153)"
            ]
          },
          "metadata": {},
          "execution_count": 16
        }
      ]
    },
    {
      "cell_type": "markdown",
      "source": [
        "# RNN Model"
      ],
      "metadata": {
        "id": "gnWVMbR6KixC"
      }
    },
    {
      "cell_type": "code",
      "source": [
        "tic"
      ],
      "metadata": {
        "colab": {
          "base_uri": "https://localhost:8080/"
        },
        "id": "7CHZWdfcN8oo",
        "outputId": "d70b5eeb-f85e-44bd-829d-51cc6ebb41f4"
      },
      "execution_count": 17,
      "outputs": [
        {
          "output_type": "execute_result",
          "data": {
            "text/plain": [
              "88.449895063"
            ]
          },
          "metadata": {},
          "execution_count": 17
        }
      ]
    },
    {
      "cell_type": "markdown",
      "source": [
        "## Define Model & Training"
      ],
      "metadata": {
        "id": "GJjJYnJQORJ8"
      }
    },
    {
      "cell_type": "code",
      "source": [
        "# Initializing the model\n",
        "\n",
        "model = Sequential()\n",
        "model.add(layers.GRU(128, return_sequences = True, input_shape=(X.shape[1:3])))\n",
        "model.add(layers.GRU(64))\n",
        "model.add(Dropout(0.2))\n",
        "model.add(layers.Dense(7, activation = 'softmax'))\n",
        "print(model.summary())\n",
        "\n",
        "batch_size = 23\n",
        "\n",
        "# Callbacks functions\n",
        "\n",
        "#-> EearlyStopping\n",
        "es = EarlyStopping(monitor='val_loss', mode='min', verbose=1,\n",
        "                    patience=10, min_delta=0.0001)\n",
        "\n",
        "\n",
        "#-> Save the best weights\n",
        "mcp_save = callbacks.ModelCheckpoint(checkpoint_path, save_best_only=True,\n",
        "                           monitor='val_categorical_accuracy',\n",
        "                           mode='max')\n",
        "#-> Reduce learning rate after 100 epoches without improvement.\n",
        "rlrop = callbacks.ReduceLROnPlateau(monitor='val_categorical_accuracy', \n",
        "                                    factor=0.1, patience=20)\n",
        "                             \n",
        "# Compile & train   \n",
        "model.compile(loss='categorical_crossentropy', \n",
        "                optimizer='RMSProp', \n",
        "                metrics=['categorical_accuracy'])\n",
        "\n",
        "\n"
      ],
      "metadata": {
        "colab": {
          "base_uri": "https://localhost:8080/"
        },
        "id": "aD2adyVGOJs4",
        "outputId": "ac76a0b0-c556-4d03-baab-9a53bcc65181"
      },
      "execution_count": 18,
      "outputs": [
        {
          "output_type": "stream",
          "name": "stdout",
          "text": [
            "Model: \"sequential\"\n",
            "_________________________________________________________________\n",
            " Layer (type)                Output Shape              Param #   \n",
            "=================================================================\n",
            " gru (GRU)                   (None, 448, 128)          108672    \n",
            "                                                                 \n",
            " gru_1 (GRU)                 (None, 64)                37248     \n",
            "                                                                 \n",
            " dropout (Dropout)           (None, 64)                0         \n",
            "                                                                 \n",
            " dense (Dense)               (None, 7)                 455       \n",
            "                                                                 \n",
            "=================================================================\n",
            "Total params: 146,375\n",
            "Trainable params: 146,375\n",
            "Non-trainable params: 0\n",
            "_________________________________________________________________\n",
            "None\n"
          ]
        }
      ]
    },
    {
      "cell_type": "code",
      "source": [
        ""
      ],
      "metadata": {
        "id": "4DBF6kqx-OHZ"
      },
      "execution_count": 18,
      "outputs": []
    },
    {
      "cell_type": "code",
      "source": [
        "history = model.fit(X_train, y_train_class, \n",
        "                      epochs=340, batch_size = batch_size, \n",
        "                      validation_data = (X_val, y_val_class), \n",
        "                      callbacks = [es, mcp_save, rlrop])\n",
        "toc = time.perf_counter()"
      ],
      "metadata": {
        "colab": {
          "base_uri": "https://localhost:8080/"
        },
        "id": "Da7Gc9x_izth",
        "outputId": "474769a5-4af4-4bf5-e9ef-a174eea66995"
      },
      "execution_count": 19,
      "outputs": [
        {
          "output_type": "stream",
          "name": "stdout",
          "text": [
            "Epoch 1/340\n",
            "41/41 [==============================] - 26s 548ms/step - loss: 1.8106 - categorical_accuracy: 0.2926 - val_loss: 1.6665 - val_categorical_accuracy: 0.3808 - lr: 0.0010\n",
            "Epoch 2/340\n",
            "41/41 [==============================] - 21s 522ms/step - loss: 1.6366 - categorical_accuracy: 0.3723 - val_loss: 1.6456 - val_categorical_accuracy: 0.3381 - lr: 0.0010\n",
            "Epoch 3/340\n",
            "41/41 [==============================] - 20s 493ms/step - loss: 1.5422 - categorical_accuracy: 0.3957 - val_loss: 1.5861 - val_categorical_accuracy: 0.3701 - lr: 0.0010\n",
            "Epoch 4/340\n",
            "41/41 [==============================] - 21s 509ms/step - loss: 1.4810 - categorical_accuracy: 0.4309 - val_loss: 1.5682 - val_categorical_accuracy: 0.4093 - lr: 0.0010\n",
            "Epoch 5/340\n",
            "41/41 [==============================] - 20s 492ms/step - loss: 1.4666 - categorical_accuracy: 0.4447 - val_loss: 1.5348 - val_categorical_accuracy: 0.4057 - lr: 0.0010\n",
            "Epoch 6/340\n",
            "41/41 [==============================] - 20s 493ms/step - loss: 1.4365 - categorical_accuracy: 0.4500 - val_loss: 1.5908 - val_categorical_accuracy: 0.3843 - lr: 0.0010\n",
            "Epoch 7/340\n",
            "41/41 [==============================] - 20s 493ms/step - loss: 1.3690 - categorical_accuracy: 0.4809 - val_loss: 1.5399 - val_categorical_accuracy: 0.4306 - lr: 0.0010\n",
            "Epoch 8/340\n",
            "41/41 [==============================] - 20s 493ms/step - loss: 1.3674 - categorical_accuracy: 0.4851 - val_loss: 1.5470 - val_categorical_accuracy: 0.4591 - lr: 0.0010\n",
            "Epoch 9/340\n",
            "41/41 [==============================] - 20s 485ms/step - loss: 1.3665 - categorical_accuracy: 0.5043 - val_loss: 1.4967 - val_categorical_accuracy: 0.4413 - lr: 0.0010\n",
            "Epoch 10/340\n",
            "41/41 [==============================] - 20s 479ms/step - loss: 1.3219 - categorical_accuracy: 0.4979 - val_loss: 1.5548 - val_categorical_accuracy: 0.4021 - lr: 0.0010\n",
            "Epoch 11/340\n",
            "41/41 [==============================] - 21s 503ms/step - loss: 1.3293 - categorical_accuracy: 0.4851 - val_loss: 1.5646 - val_categorical_accuracy: 0.4057 - lr: 0.0010\n",
            "Epoch 12/340\n",
            "41/41 [==============================] - 20s 491ms/step - loss: 1.2609 - categorical_accuracy: 0.5372 - val_loss: 1.6136 - val_categorical_accuracy: 0.4199 - lr: 0.0010\n",
            "Epoch 13/340\n",
            "41/41 [==============================] - 20s 493ms/step - loss: 1.2713 - categorical_accuracy: 0.5191 - val_loss: 1.5305 - val_categorical_accuracy: 0.4164 - lr: 0.0010\n",
            "Epoch 14/340\n",
            "41/41 [==============================] - 20s 493ms/step - loss: 1.2456 - categorical_accuracy: 0.5394 - val_loss: 1.6044 - val_categorical_accuracy: 0.4199 - lr: 0.0010\n",
            "Epoch 15/340\n",
            "41/41 [==============================] - 20s 489ms/step - loss: 1.2162 - categorical_accuracy: 0.5468 - val_loss: 1.5639 - val_categorical_accuracy: 0.3986 - lr: 0.0010\n",
            "Epoch 16/340\n",
            "41/41 [==============================] - 21s 510ms/step - loss: 1.1970 - categorical_accuracy: 0.5479 - val_loss: 1.6303 - val_categorical_accuracy: 0.4021 - lr: 0.0010\n",
            "Epoch 17/340\n",
            "41/41 [==============================] - 20s 496ms/step - loss: 1.1641 - categorical_accuracy: 0.5543 - val_loss: 1.5424 - val_categorical_accuracy: 0.4520 - lr: 0.0010\n",
            "Epoch 18/340\n",
            "41/41 [==============================] - 20s 494ms/step - loss: 1.1470 - categorical_accuracy: 0.5702 - val_loss: 1.5670 - val_categorical_accuracy: 0.4270 - lr: 0.0010\n",
            "Epoch 19/340\n",
            "41/41 [==============================] - 20s 489ms/step - loss: 1.1065 - categorical_accuracy: 0.6000 - val_loss: 1.5350 - val_categorical_accuracy: 0.4555 - lr: 0.0010\n",
            "Epoch 19: early stopping\n"
          ]
        }
      ]
    },
    {
      "cell_type": "code",
      "source": [
        ""
      ],
      "metadata": {
        "id": "3MekXCZHizyZ"
      },
      "execution_count": 19,
      "outputs": []
    },
    {
      "cell_type": "code",
      "source": [
        "print(f\"Running time: {(toc - tic)/60:0.4f} minutes\")"
      ],
      "metadata": {
        "id": "cHmSBRhVOELJ",
        "colab": {
          "base_uri": "https://localhost:8080/"
        },
        "outputId": "28b44f25-1385-4d22-e19c-b07c0a6e482b"
      },
      "execution_count": 20,
      "outputs": [
        {
          "output_type": "stream",
          "name": "stdout",
          "text": [
            "Running time: 20.7347 minutes\n"
          ]
        }
      ]
    },
    {
      "cell_type": "markdown",
      "source": [
        "## Loading Model"
      ],
      "metadata": {
        "id": "jCQelzMAKixD"
      }
    },
    {
      "cell_type": "code",
      "source": [
        "# Define the best weights to the model.\\\n",
        "#model.load_weights(checkpoint_path)"
      ],
      "metadata": {
        "id": "gruZAW2wI-tO"
      },
      "execution_count": 21,
      "outputs": []
    },
    {
      "cell_type": "markdown",
      "source": [
        "# Evaluation"
      ],
      "metadata": {
        "id": "kDxTjEK0KixD"
      }
    },
    {
      "cell_type": "markdown",
      "source": [
        "## Save & Load model, weights"
      ],
      "metadata": {
        "id": "1YfguG0tPatV"
      }
    },
    {
      "cell_type": "code",
      "source": [
        "# Saving model & weights\n",
        "model_json = model.to_json()\n",
        "\n",
        "\n",
        "\n",
        "with open(saved_model_path, \"w\") as json_file:\n",
        "    json_file.write(model_json)\n",
        "    \n",
        "model.save_weights(saved_weights_path)\n",
        "print(\"Saved model to disk\")"
      ],
      "metadata": {
        "colab": {
          "base_uri": "https://localhost:8080/"
        },
        "id": "MsVoNhqmgGsK",
        "outputId": "e8099fb0-a4f3-4ae2-850f-b304b0fe7175"
      },
      "execution_count": 22,
      "outputs": [
        {
          "output_type": "stream",
          "name": "stdout",
          "text": [
            "Saved model to disk\n"
          ]
        }
      ]
    },
    {
      "cell_type": "code",
      "source": [
        "# Reading the model from JSON file\n",
        "#model_path = Ravdess + \"/model/\"\n",
        "#saved_model_path = model_path + 'model8723.json'\n",
        "#saved_weights_path = model_path + 'model8723_weights.h5'\n",
        "\n",
        "\n",
        "with open(saved_model_path , 'r') as json_file:\n",
        "    json_savedModel = json_file.read()\n",
        "    \n",
        "# Loading the model architecture, weights\n",
        "model = tf.keras.models.model_from_json(json_savedModel)\n",
        "model.load_weights(saved_weights_path)\n",
        "\n",
        "# Compiling the model with similar parameters as the original model.\n",
        "model.compile(loss='categorical_crossentropy', \n",
        "                optimizer='RMSProp', \n",
        "                metrics=['categorical_accuracy'])\n",
        "\n",
        "# Model's structure visualization\n",
        "tf.keras.utils.plot_model(model, to_file='model.png', show_shapes=True, show_layer_names=True)"
      ],
      "metadata": {
        "colab": {
          "base_uri": "https://localhost:8080/",
          "height": 533
        },
        "id": "y4OJGhLmgfX6",
        "outputId": "ac0567fc-3383-49ea-d487-2f46080e5796"
      },
      "execution_count": 23,
      "outputs": [
        {
          "output_type": "execute_result",
          "data": {
            "text/plain": [
              "<IPython.core.display.Image object>"
            ],
            "image/png": "[encoded data removed]"
          },
          "metadata": {},
          "execution_count": 23
        }
      ]
    },
    {
      "cell_type": "code",
      "source": [
        ""
      ],
      "metadata": {
        "id": "B_SW6eUAgvEj"
      },
      "execution_count": 23,
      "outputs": []
    },
    {
      "cell_type": "code",
      "source": [
        ""
      ],
      "metadata": {
        "id": "cCfkUXTYgzSB"
      },
      "execution_count": 23,
      "outputs": []
    },
    {
      "cell_type": "code",
      "source": [
        "model.save(saved_model_path_2)"
      ],
      "metadata": {
        "trusted": true,
        "id": "Z5Uzb_bGKixE"
      },
      "execution_count": 24,
      "outputs": []
    },
    {
      "cell_type": "markdown",
      "source": [
        "## Train (fit) Visualization"
      ],
      "metadata": {
        "id": "ATvBW0SPO-eq"
      }
    },
    {
      "cell_type": "code",
      "source": [
        "# Loss, Accuracy presentation\n",
        "\n",
        "# Plot history: Loss\n",
        "plt.plot(history.history['loss'], label='Loss (training data)')\n",
        "plt.plot(history.history['val_loss'], label='Loss (validation data)')\n",
        "plt.title('Loss for train and validation')\n",
        "plt.ylabel('Loss value')\n",
        "plt.xlabel('No. epoch')\n",
        "plt.legend(loc=\"upper left\")\n",
        "plt.show()\n",
        "\n",
        "#Plot history: Accuracy\n",
        "plt.plot(history.history['categorical_accuracy'], label='Acc (training data)')\n",
        "plt.plot(history.history['val_categorical_accuracy'], label='Acc (validation data)')\n",
        "plt.title('Model accuracy')\n",
        "plt.ylabel('Acc %')\n",
        "plt.xlabel('No. epoch')\n",
        "plt.legend(loc=\"upper left\")\n",
        "plt.show()"
      ],
      "metadata": {
        "colab": {
          "base_uri": "https://localhost:8080/",
          "height": 573
        },
        "id": "UjhUHhU_f4EY",
        "outputId": "571214e2-3b6b-4d3f-fe8d-0788f6f15d45"
      },
      "execution_count": 25,
      "outputs": [
        {
          "output_type": "display_data",
          "data": {
            "text/plain": [
              "<Figure size 432x288 with 1 Axes>"
            ],
            "image/png": "[encoded data removed]"
          },
          "metadata": {
            "needs_background": "light"
          }
        },
        {
          "output_type": "display_data",
          "data": {
            "text/plain": [
              "<Figure size 432x288 with 1 Axes>"
            ],
            "image/png": "[encoded data removed]"
          },
          "metadata": {
            "needs_background": "light"
          }
        }
      ]
    },
    {
      "cell_type": "markdown",
      "source": [
        "## Validation Set Evaluation"
      ],
      "metadata": {
        "id": "UZ3lFduxPQeB"
      }
    },
    {
      "cell_type": "markdown",
      "source": [
        "### Val Set Score"
      ],
      "metadata": {
        "id": "5YoYCa22PMGz"
      }
    },
    {
      "cell_type": "code",
      "source": [
        ""
      ],
      "metadata": {
        "id": "jQavrzbB_8fy"
      },
      "execution_count": 25,
      "outputs": []
    },
    {
      "cell_type": "code",
      "source": [
        "# Validation score\n",
        "loss,acc = model.evaluate(X_val, y_val_class, verbose=2)\n"
      ],
      "metadata": {
        "id": "X_KdTUyrf7-j",
        "colab": {
          "base_uri": "https://localhost:8080/"
        },
        "outputId": "33fcd17e-b306-4264-c13c-04cd5904b002"
      },
      "execution_count": 26,
      "outputs": [
        {
          "output_type": "stream",
          "name": "stdout",
          "text": [
            "9/9 - 2s - loss: 1.5350 - categorical_accuracy: 0.4555 - 2s/epoch - 196ms/step\n"
          ]
        }
      ]
    },
    {
      "cell_type": "code",
      "source": [
        ""
      ],
      "metadata": {
        "id": "09k_I9DM_2Q0"
      },
      "execution_count": 26,
      "outputs": []
    },
    {
      "cell_type": "markdown",
      "source": [
        "### Construct Predicted Labels based on Probability of each class"
      ],
      "metadata": {
        "id": "hz7nc15A_3hb"
      }
    },
    {
      "cell_type": "code",
      "source": [
        "y_val_class"
      ],
      "metadata": {
        "colab": {
          "base_uri": "https://localhost:8080/"
        },
        "id": "CFM1P2SZ_85N",
        "outputId": "a408f6d3-ce8a-41aa-9090-5596f0902b95"
      },
      "execution_count": 27,
      "outputs": [
        {
          "output_type": "execute_result",
          "data": {
            "text/plain": [
              "array([[0, 0, 0, ..., 0, 0, 1],\n",
              "       [0, 1, 0, ..., 0, 0, 0],\n",
              "       [0, 0, 0, ..., 0, 1, 0],\n",
              "       ...,\n",
              "       [0, 0, 0, ..., 0, 0, 1],\n",
              "       [0, 0, 0, ..., 0, 0, 1],\n",
              "       [0, 0, 1, ..., 0, 0, 0]], dtype=int8)"
            ]
          },
          "metadata": {},
          "execution_count": 27
        }
      ]
    },
    {
      "cell_type": "code",
      "source": [
        "np.argmax(y_val_class, axis=1)"
      ],
      "metadata": {
        "colab": {
          "base_uri": "https://localhost:8080/"
        },
        "id": "C9UHSeXbAASy",
        "outputId": "432e1987-1496-4c98-bb48-b0e46925d4f2"
      },
      "execution_count": 28,
      "outputs": [
        {
          "output_type": "execute_result",
          "data": {
            "text/plain": [
              "array([6, 1, 5, 3, 5, 5, 2, 5, 0, 4, 5, 1, 5, 5, 2, 1, 0, 1, 4, 5, 3, 6,\n",
              "       0, 2, 2, 4, 6, 5, 1, 4, 0, 5, 2, 3, 1, 6, 5, 2, 1, 0, 3, 4, 0, 5,\n",
              "       3, 3, 0, 6, 4, 6, 0, 3, 3, 3, 4, 5, 3, 2, 3, 6, 1, 0, 3, 2, 4, 4,\n",
              "       6, 2, 4, 0, 5, 5, 1, 2, 0, 5, 5, 3, 4, 6, 4, 2, 2, 3, 6, 0, 0, 3,\n",
              "       2, 5, 1, 4, 1, 0, 6, 3, 6, 1, 2, 6, 6, 2, 0, 5, 1, 5, 4, 0, 5, 2,\n",
              "       0, 5, 0, 6, 2, 3, 3, 2, 2, 2, 0, 1, 5, 2, 5, 3, 2, 0, 3, 3, 3, 2,\n",
              "       0, 3, 0, 6, 3, 3, 3, 1, 0, 3, 6, 5, 6, 4, 0, 2, 6, 2, 1, 1, 4, 6,\n",
              "       0, 2, 1, 1, 3, 0, 6, 6, 2, 0, 1, 5, 5, 4, 5, 5, 0, 2, 4, 4, 6, 4,\n",
              "       3, 6, 2, 3, 2, 3, 0, 1, 0, 3, 1, 5, 2, 1, 6, 0, 4, 1, 6, 2, 0, 0,\n",
              "       6, 0, 0, 2, 5, 5, 1, 2, 3, 2, 2, 2, 4, 3, 5, 3, 1, 0, 2, 0, 2, 4,\n",
              "       6, 1, 0, 6, 5, 6, 4, 0, 0, 4, 5, 3, 2, 6, 2, 6, 3, 5, 3, 1, 5, 6,\n",
              "       5, 1, 2, 1, 6, 0, 5, 3, 2, 1, 6, 3, 0, 1, 3, 6, 3, 2, 2, 4, 6, 4,\n",
              "       3, 2, 2, 5, 5, 4, 1, 3, 6, 5, 3, 0, 3, 4, 6, 6, 2])"
            ]
          },
          "metadata": {},
          "execution_count": 28
        }
      ]
    },
    {
      "cell_type": "code",
      "source": [
        "y_val_class = np.argmax(y_val_class, axis=1)\n",
        "predictions_val = model.predict(X_val)\n",
        "y_proba_val_class = predictions_val\n",
        "y_pred_val_class = np.argmax(predictions_val, axis=1)"
      ],
      "metadata": {
        "id": "urjydD-38JK7"
      },
      "execution_count": 29,
      "outputs": []
    },
    {
      "cell_type": "code",
      "source": [
        "predictions_val\n"
      ],
      "metadata": {
        "colab": {
          "base_uri": "https://localhost:8080/"
        },
        "id": "Zb7dGRs3AEJn",
        "outputId": "b4e91dbc-d61a-442b-a36d-1fb14717c5f5"
      },
      "execution_count": 30,
      "outputs": [
        {
          "output_type": "execute_result",
          "data": {
            "text/plain": [
              "array([[0.10054295, 0.20532645, 0.02995173, ..., 0.13413975, 0.01334137,\n",
              "        0.4644398 ],\n",
              "       [0.00146578, 0.78513074, 0.00968596, ..., 0.1320268 , 0.04219916,\n",
              "        0.01030036],\n",
              "       [0.01839878, 0.15192914, 0.06292988, ..., 0.25148964, 0.26338014,\n",
              "        0.23410241],\n",
              "       ...,\n",
              "       [0.00917013, 0.01572585, 0.04275941, ..., 0.11366097, 0.672599  ,\n",
              "        0.03644264],\n",
              "       [0.00242945, 0.22725092, 0.2894276 , ..., 0.11553588, 0.18955155,\n",
              "        0.05572536],\n",
              "       [0.00495015, 0.15643731, 0.03459778, ..., 0.5429358 , 0.04797249,\n",
              "        0.03702259]], dtype=float32)"
            ]
          },
          "metadata": {},
          "execution_count": 30
        }
      ]
    },
    {
      "cell_type": "code",
      "source": [
        "y_pred_val_class "
      ],
      "metadata": {
        "colab": {
          "base_uri": "https://localhost:8080/"
        },
        "id": "KxHa1Ss1AJo4",
        "outputId": "5b18f1c3-8d66-4d1b-98c9-59c7517c4a3d"
      },
      "execution_count": 31,
      "outputs": [
        {
          "output_type": "execute_result",
          "data": {
            "text/plain": [
              "array([6, 1, 5, 3, 5, 6, 5, 6, 0, 4, 5, 4, 5, 0, 2, 1, 0, 1, 6, 5, 4, 2,\n",
              "       0, 2, 5, 6, 3, 5, 1, 4, 0, 5, 2, 3, 3, 1, 1, 6, 1, 2, 5, 0, 2, 6,\n",
              "       3, 3, 0, 5, 6, 6, 5, 3, 5, 3, 0, 4, 6, 5, 1, 2, 6, 0, 3, 0, 5, 0,\n",
              "       2, 5, 4, 0, 1, 5, 6, 0, 0, 5, 4, 3, 6, 1, 1, 0, 0, 1, 5, 0, 0, 2,\n",
              "       0, 6, 6, 5, 3, 0, 6, 3, 1, 6, 4, 2, 6, 2, 0, 2, 5, 5, 2, 3, 3, 0,\n",
              "       6, 0, 0, 2, 2, 3, 3, 0, 6, 2, 5, 6, 5, 5, 5, 3, 2, 5, 1, 3, 5, 1,\n",
              "       6, 3, 0, 6, 4, 3, 3, 6, 0, 1, 6, 5, 6, 1, 0, 2, 6, 5, 2, 4, 6, 6,\n",
              "       0, 0, 1, 5, 3, 0, 4, 6, 2, 0, 6, 5, 1, 3, 2, 5, 0, 1, 4, 2, 1, 4,\n",
              "       3, 5, 6, 3, 6, 1, 0, 6, 0, 3, 4, 3, 6, 4, 1, 0, 4, 1, 3, 0, 2, 0,\n",
              "       6, 0, 1, 2, 6, 5, 1, 1, 5, 1, 0, 5, 1, 3, 5, 3, 5, 0, 6, 0, 6, 4,\n",
              "       1, 0, 0, 6, 5, 1, 2, 0, 6, 4, 5, 3, 2, 5, 6, 4, 3, 2, 3, 6, 1, 6,\n",
              "       2, 6, 0, 4, 6, 0, 4, 4, 4, 2, 5, 3, 0, 6, 6, 6, 3, 2, 1, 0, 2, 4,\n",
              "       5, 2, 5, 0, 6, 1, 1, 5, 6, 5, 3, 6, 3, 4, 5, 2, 4])"
            ]
          },
          "metadata": {},
          "execution_count": 31
        }
      ]
    },
    {
      "cell_type": "markdown",
      "source": [
        "### Val Set Confusion Matrix and Heatmap"
      ],
      "metadata": {
        "id": "d2ullxf9PUMd"
      }
    },
    {
      "cell_type": "code",
      "source": [
        "# Validation Confusion matrix\n",
        "cm=confusion_matrix(y_val_class, y_pred_val_class)\n",
        "\n",
        "index = ['calm', 'happy', 'sad', 'angry', 'fearful', 'disgust', 'surprised']  \n",
        "columns = ['calm', 'happy', 'sad', 'angry', 'fearful', 'disgust', 'surprised']  \n",
        " \n",
        "cm_df = pd.DataFrame(cm,index,columns)                      \n",
        "plt.figure(figsize=(12,8))\n",
        "ax = plt.axes()\n",
        "\n",
        "sns.heatmap(cm_df, ax = ax, cmap = 'PuBu', fmt=\"d\", annot=True)\n",
        "ax.set_ylabel('True emotion')\n",
        "ax.set_xlabel('Predicted emotion')"
      ],
      "metadata": {
        "colab": {
          "base_uri": "https://localhost:8080/",
          "height": 514
        },
        "id": "doLcg3CTf9bx",
        "outputId": "a54dc8b5-9ec8-4adf-f46a-54d377d75ba8"
      },
      "execution_count": 32,
      "outputs": [
        {
          "output_type": "execute_result",
          "data": {
            "text/plain": [
              "Text(0.5, 51.0, 'Predicted emotion')"
            ]
          },
          "metadata": {},
          "execution_count": 32
        },
        {
          "output_type": "display_data",
          "data": {
            "text/plain": [
              "<Figure size 864x576 with 2 Axes>"
            ],
            "image/png": "[encoded data removed]"
          },
          "metadata": {
            "needs_background": "light"
          }
        }
      ]
    },
    {
      "cell_type": "code",
      "source": [
        "# Confusion Matrix\n",
        "cm"
      ],
      "metadata": {
        "colab": {
          "base_uri": "https://localhost:8080/"
        },
        "id": "hIEG9Pia8Nfp",
        "outputId": "7a5b86bd-e131-4b54-8fa3-3c4f8a7f1b04"
      },
      "execution_count": 33,
      "outputs": [
        {
          "output_type": "execute_result",
          "data": {
            "text/plain": [
              "array([[31,  1,  3,  1,  0,  3,  4],\n",
              "       [ 1,  9,  2,  2,  5,  3, 11],\n",
              "       [11,  5, 13,  0,  3,  8,  8],\n",
              "       [ 0,  5,  1, 29,  3,  6,  2],\n",
              "       [ 4,  4,  3,  1, 10,  2,  5],\n",
              "       [ 3,  4,  4,  2,  3, 20,  6],\n",
              "       [ 0,  7,  7,  2,  2,  6, 16]])"
            ]
          },
          "metadata": {},
          "execution_count": 33
        }
      ]
    },
    {
      "cell_type": "markdown",
      "source": [
        "### Validation Set Predicted emotions accuracy"
      ],
      "metadata": {
        "id": "kWjKgUdRPYH5"
      }
    },
    {
      "cell_type": "code",
      "source": [
        "# Validation set prediction accuracy rates\n",
        "\n",
        "values = cm.diagonal()\n",
        "row_sum = np.sum(cm,axis=1)\n",
        "acc = values / row_sum\n",
        "\n",
        "print('Validation set predicted emotions accuracy:')\n",
        "for e in range(0, len(values)):\n",
        "    print(index[e],':', f\"{(acc[e]):0.4f}\")"
      ],
      "metadata": {
        "colab": {
          "base_uri": "https://localhost:8080/"
        },
        "id": "MopdywY9f-mS",
        "outputId": "44f9b201-e538-45ee-88a1-2b0528a4c9a2"
      },
      "execution_count": 34,
      "outputs": [
        {
          "output_type": "stream",
          "name": "stdout",
          "text": [
            "Validation set predicted emotions accuracy:\n",
            "calm : 0.7209\n",
            "happy : 0.2727\n",
            "sad : 0.2708\n",
            "angry : 0.6304\n",
            "fearful : 0.3448\n",
            "disgust : 0.4762\n",
            "surprised : 0.4000\n"
          ]
        }
      ]
    },
    {
      "cell_type": "markdown",
      "source": [
        "### Precision, Recal, Fscore"
      ],
      "metadata": {
        "id": "DGSTy2228XRH"
      }
    },
    {
      "cell_type": "code",
      "source": [
        "# Validation set precision, recall, fscore\n",
        "\n",
        "precision_recall_fscore_support(y_val_class, y_pred_val_class, average='macro')\n"
      ],
      "metadata": {
        "colab": {
          "base_uri": "https://localhost:8080/"
        },
        "id": "rOwUkCG0gGpm",
        "outputId": "aa44e7d3-b0d7-4321-fe24-9ba9606661bd"
      },
      "execution_count": 35,
      "outputs": [
        {
          "output_type": "execute_result",
          "data": {
            "text/plain": [
              "(0.45197719912005624, 0.445134811946402, 0.4438660398715453, None)"
            ]
          },
          "metadata": {},
          "execution_count": 35
        }
      ]
    },
    {
      "cell_type": "code",
      "source": [
        "precision_recall_fscore_support(y_val_class, y_pred_val_class, average='weighted')"
      ],
      "metadata": {
        "colab": {
          "base_uri": "https://localhost:8080/"
        },
        "id": "OorFgXxDzy3o",
        "outputId": "851839db-d850-46df-b52c-fd33bb58513b"
      },
      "execution_count": 36,
      "outputs": [
        {
          "output_type": "execute_result",
          "data": {
            "text/plain": [
              "(0.4664426964782837, 0.4555160142348754, 0.45579754873792255, None)"
            ]
          },
          "metadata": {},
          "execution_count": 36
        }
      ]
    },
    {
      "cell_type": "markdown",
      "source": [
        "## Test Set Evaluation"
      ],
      "metadata": {
        "id": "FiCwOjmPPgCn"
      }
    },
    {
      "cell_type": "markdown",
      "source": [
        "### Test Set Score\n",
        "\n"
      ],
      "metadata": {
        "id": "CWB7U5xDUSmF"
      }
    },
    {
      "cell_type": "code",
      "source": [
        "loss, acc = model.evaluate(X_test, y_test_class, verbose=2)"
      ],
      "metadata": {
        "id": "Y7NEHPM-gzml",
        "colab": {
          "base_uri": "https://localhost:8080/"
        },
        "outputId": "ac1f7b15-ec04-4f02-ca7f-36a16ad49bb2"
      },
      "execution_count": 37,
      "outputs": [
        {
          "output_type": "stream",
          "name": "stdout",
          "text": [
            "4/4 - 0s - loss: 1.8887 - categorical_accuracy: 0.3171 - 464ms/epoch - 116ms/step\n"
          ]
        }
      ]
    },
    {
      "cell_type": "markdown",
      "source": [
        "### Construct Predicted Labels based on Probability of each class"
      ],
      "metadata": {
        "id": "gPwcFV9oAhGh"
      }
    },
    {
      "cell_type": "code",
      "source": [
        "y_test_class"
      ],
      "metadata": {
        "colab": {
          "base_uri": "https://localhost:8080/"
        },
        "id": "tjN7Eit7AiML",
        "outputId": "1227f2f0-c3fd-473d-9573-79ca00129582"
      },
      "execution_count": 38,
      "outputs": [
        {
          "output_type": "execute_result",
          "data": {
            "text/plain": [
              "array([[0, 0, 0, 0, 0, 0, 1],\n",
              "       [0, 0, 0, 1, 0, 0, 0],\n",
              "       [0, 0, 0, 0, 0, 1, 0],\n",
              "       [0, 0, 0, 0, 1, 0, 0],\n",
              "       [1, 0, 0, 0, 0, 0, 0],\n",
              "       [0, 0, 0, 0, 1, 0, 0],\n",
              "       [0, 0, 0, 0, 0, 1, 0],\n",
              "       [0, 0, 0, 0, 1, 0, 0],\n",
              "       [0, 0, 0, 1, 0, 0, 0],\n",
              "       [0, 0, 0, 0, 0, 0, 1],\n",
              "       [0, 0, 0, 1, 0, 0, 0],\n",
              "       [0, 0, 0, 0, 1, 0, 0],\n",
              "       [1, 0, 0, 0, 0, 0, 0],\n",
              "       [0, 0, 0, 0, 0, 1, 0],\n",
              "       [0, 0, 0, 1, 0, 0, 0],\n",
              "       [1, 0, 0, 0, 0, 0, 0],\n",
              "       [0, 0, 0, 0, 0, 1, 0],\n",
              "       [0, 0, 0, 0, 0, 1, 0],\n",
              "       [0, 0, 1, 0, 0, 0, 0],\n",
              "       [0, 0, 0, 0, 0, 0, 1],\n",
              "       [0, 0, 0, 0, 0, 0, 1],\n",
              "       [1, 0, 0, 0, 0, 0, 0],\n",
              "       [1, 0, 0, 0, 0, 0, 0],\n",
              "       [0, 0, 1, 0, 0, 0, 0],\n",
              "       [0, 0, 0, 0, 0, 1, 0],\n",
              "       [1, 0, 0, 0, 0, 0, 0],\n",
              "       [0, 0, 0, 0, 0, 1, 0],\n",
              "       [1, 0, 0, 0, 0, 0, 0],\n",
              "       [0, 0, 0, 0, 1, 0, 0],\n",
              "       [0, 1, 0, 0, 0, 0, 0],\n",
              "       [0, 0, 0, 1, 0, 0, 0],\n",
              "       [0, 0, 0, 0, 0, 0, 1],\n",
              "       [0, 0, 0, 0, 0, 0, 1],\n",
              "       [0, 0, 0, 0, 0, 1, 0],\n",
              "       [0, 0, 0, 0, 1, 0, 0],\n",
              "       [0, 0, 1, 0, 0, 0, 0],\n",
              "       [0, 0, 0, 0, 0, 1, 0],\n",
              "       [0, 0, 0, 0, 1, 0, 0],\n",
              "       [0, 0, 0, 0, 1, 0, 0],\n",
              "       [0, 0, 0, 0, 0, 1, 0],\n",
              "       [0, 0, 0, 0, 0, 0, 1],\n",
              "       [1, 0, 0, 0, 0, 0, 0],\n",
              "       [0, 1, 0, 0, 0, 0, 0],\n",
              "       [0, 0, 1, 0, 0, 0, 0],\n",
              "       [0, 1, 0, 0, 0, 0, 0],\n",
              "       [0, 1, 0, 0, 0, 0, 0],\n",
              "       [0, 0, 0, 0, 0, 0, 1],\n",
              "       [0, 0, 1, 0, 0, 0, 0],\n",
              "       [0, 0, 0, 0, 0, 0, 1],\n",
              "       [0, 0, 0, 0, 1, 0, 0],\n",
              "       [0, 0, 0, 0, 0, 1, 0],\n",
              "       [0, 0, 0, 0, 0, 0, 1],\n",
              "       [0, 1, 0, 0, 0, 0, 0],\n",
              "       [0, 0, 1, 0, 0, 0, 0],\n",
              "       [0, 0, 0, 0, 0, 1, 0],\n",
              "       [0, 1, 0, 0, 0, 0, 0],\n",
              "       [0, 1, 0, 0, 0, 0, 0],\n",
              "       [0, 0, 0, 0, 1, 0, 0],\n",
              "       [0, 0, 0, 0, 1, 0, 0],\n",
              "       [0, 1, 0, 0, 0, 0, 0],\n",
              "       [0, 0, 0, 0, 0, 0, 1],\n",
              "       [0, 0, 0, 1, 0, 0, 0],\n",
              "       [0, 0, 0, 0, 1, 0, 0],\n",
              "       [0, 0, 1, 0, 0, 0, 0],\n",
              "       [0, 0, 1, 0, 0, 0, 0],\n",
              "       [0, 0, 1, 0, 0, 0, 0],\n",
              "       [0, 0, 0, 0, 1, 0, 0],\n",
              "       [1, 0, 0, 0, 0, 0, 0],\n",
              "       [0, 0, 0, 1, 0, 0, 0],\n",
              "       [0, 0, 0, 0, 0, 0, 1],\n",
              "       [0, 0, 0, 0, 0, 1, 0],\n",
              "       [0, 1, 0, 0, 0, 0, 0],\n",
              "       [0, 0, 1, 0, 0, 0, 0],\n",
              "       [0, 0, 0, 0, 1, 0, 0],\n",
              "       [0, 0, 0, 1, 0, 0, 0],\n",
              "       [1, 0, 0, 0, 0, 0, 0],\n",
              "       [0, 0, 0, 1, 0, 0, 0],\n",
              "       [0, 0, 0, 0, 0, 0, 1],\n",
              "       [0, 0, 1, 0, 0, 0, 0],\n",
              "       [0, 0, 0, 0, 0, 0, 1],\n",
              "       [1, 0, 0, 0, 0, 0, 0],\n",
              "       [0, 0, 0, 0, 1, 0, 0],\n",
              "       [0, 1, 0, 0, 0, 0, 0],\n",
              "       [0, 0, 0, 1, 0, 0, 0],\n",
              "       [0, 0, 0, 0, 0, 0, 1],\n",
              "       [0, 0, 0, 1, 0, 0, 0],\n",
              "       [0, 0, 0, 0, 0, 0, 1],\n",
              "       [0, 0, 0, 0, 1, 0, 0],\n",
              "       [0, 0, 0, 1, 0, 0, 0],\n",
              "       [0, 0, 0, 1, 0, 0, 0],\n",
              "       [0, 0, 1, 0, 0, 0, 0],\n",
              "       [0, 0, 0, 0, 0, 1, 0],\n",
              "       [0, 0, 0, 0, 1, 0, 0],\n",
              "       [0, 1, 0, 0, 0, 0, 0],\n",
              "       [1, 0, 0, 0, 0, 0, 0],\n",
              "       [0, 0, 0, 1, 0, 0, 0],\n",
              "       [0, 0, 1, 0, 0, 0, 0],\n",
              "       [0, 0, 0, 1, 0, 0, 0],\n",
              "       [0, 1, 0, 0, 0, 0, 0],\n",
              "       [1, 0, 0, 0, 0, 0, 0],\n",
              "       [0, 0, 1, 0, 0, 0, 0],\n",
              "       [0, 0, 0, 0, 0, 0, 1],\n",
              "       [0, 0, 0, 0, 0, 1, 0],\n",
              "       [0, 0, 0, 0, 1, 0, 0],\n",
              "       [0, 0, 0, 0, 1, 0, 0],\n",
              "       [0, 0, 0, 1, 0, 0, 0],\n",
              "       [0, 0, 0, 1, 0, 0, 0],\n",
              "       [0, 0, 0, 0, 0, 0, 1],\n",
              "       [0, 0, 0, 0, 1, 0, 0],\n",
              "       [1, 0, 0, 0, 0, 0, 0],\n",
              "       [0, 0, 0, 1, 0, 0, 0],\n",
              "       [0, 0, 0, 0, 1, 0, 0],\n",
              "       [0, 0, 0, 0, 0, 0, 1],\n",
              "       [0, 0, 0, 0, 0, 1, 0],\n",
              "       [0, 0, 0, 1, 0, 0, 0],\n",
              "       [0, 0, 1, 0, 0, 0, 0],\n",
              "       [0, 0, 0, 1, 0, 0, 0],\n",
              "       [0, 1, 0, 0, 0, 0, 0],\n",
              "       [0, 0, 0, 0, 0, 0, 1],\n",
              "       [0, 0, 0, 0, 0, 0, 1],\n",
              "       [0, 1, 0, 0, 0, 0, 0],\n",
              "       [1, 0, 0, 0, 0, 0, 0],\n",
              "       [0, 0, 0, 0, 0, 0, 1]], dtype=int8)"
            ]
          },
          "metadata": {},
          "execution_count": 38
        }
      ]
    },
    {
      "cell_type": "code",
      "source": [
        " np.argmax(y_test_class, axis=1)"
      ],
      "metadata": {
        "colab": {
          "base_uri": "https://localhost:8080/"
        },
        "id": "2fcK-_HzAmc5",
        "outputId": "5ab468cf-54ad-4a0d-e719-0dd84ba2b2b0"
      },
      "execution_count": 39,
      "outputs": [
        {
          "output_type": "execute_result",
          "data": {
            "text/plain": [
              "array([6, 3, 5, 4, 0, 4, 5, 4, 3, 6, 3, 4, 0, 5, 3, 0, 5, 5, 2, 6, 6, 0,\n",
              "       0, 2, 5, 0, 5, 0, 4, 1, 3, 6, 6, 5, 4, 2, 5, 4, 4, 5, 6, 0, 1, 2,\n",
              "       1, 1, 6, 2, 6, 4, 5, 6, 1, 2, 5, 1, 1, 4, 4, 1, 6, 3, 4, 2, 2, 2,\n",
              "       4, 0, 3, 6, 5, 1, 2, 4, 3, 0, 3, 6, 2, 6, 0, 4, 1, 3, 6, 3, 6, 4,\n",
              "       3, 3, 2, 5, 4, 1, 0, 3, 2, 3, 1, 0, 2, 6, 5, 4, 4, 3, 3, 6, 4, 0,\n",
              "       3, 4, 6, 5, 3, 2, 3, 1, 6, 6, 1, 0, 6])"
            ]
          },
          "metadata": {},
          "execution_count": 39
        }
      ]
    },
    {
      "cell_type": "code",
      "source": [
        "y_test_class = np.argmax(y_test_class, axis=1)\n",
        "predictions_test = model.predict(X_test)\n",
        "y_pred_test_class = np.argmax(predictions_test, axis=1)\n",
        "y_proba_test_class = predictions_test\n",
        "\n"
      ],
      "metadata": {
        "id": "uyXvoU2rAckI"
      },
      "execution_count": 40,
      "outputs": []
    },
    {
      "cell_type": "code",
      "source": [
        "predictions_test"
      ],
      "metadata": {
        "colab": {
          "base_uri": "https://localhost:8080/"
        },
        "id": "3BAOUaPwAtuY",
        "outputId": "865fe3e5-7196-4cd5-8037-0e3ae7845cef"
      },
      "execution_count": 41,
      "outputs": [
        {
          "output_type": "execute_result",
          "data": {
            "text/plain": [
              "array([[6.53594499e-04, 3.21568459e-01, 3.61049883e-02, 2.14658275e-01,\n",
              "        2.85356194e-01, 7.53049925e-02, 6.63534775e-02],\n",
              "       [1.34275586e-03, 2.51492169e-02, 1.26238475e-02, 5.02646148e-01,\n",
              "        1.65317401e-01, 2.86765665e-01, 6.15502009e-03],\n",
              "       [1.48638850e-02, 1.38356183e-02, 2.62685511e-02, 2.76091658e-02,\n",
              "        2.36172462e-03, 9.10882950e-01, 4.17803647e-03],\n",
              "       [1.61123648e-03, 1.03156995e-02, 1.16289325e-01, 1.66649669e-02,\n",
              "        4.85613272e-02, 2.11592317e-02, 7.85398185e-01],\n",
              "       [5.44007778e-01, 5.14252037e-02, 2.87828356e-01, 1.82273483e-03,\n",
              "        6.29041269e-02, 2.15497557e-02, 3.04619446e-02],\n",
              "       [3.35857412e-03, 4.86420184e-01, 3.59888226e-02, 1.12608247e-01,\n",
              "        7.34691694e-02, 1.63606197e-01, 1.24548770e-01],\n",
              "       [1.40942633e-02, 9.32759792e-02, 7.87965283e-02, 1.82494923e-01,\n",
              "        1.45553118e-02, 4.56696063e-01, 1.60086915e-01],\n",
              "       [2.11645767e-01, 4.82350625e-02, 3.71829361e-01, 6.10152259e-03,\n",
              "        1.85807556e-01, 1.53495312e-01, 2.28853319e-02],\n",
              "       [5.46193158e-04, 7.91020244e-02, 7.73442313e-02, 1.79761410e-01,\n",
              "        3.33166659e-01, 9.45552886e-02, 2.35524207e-01],\n",
              "       [2.64735613e-03, 1.63216963e-02, 5.86956441e-02, 4.51375306e-01,\n",
              "        1.51438322e-02, 1.53458253e-01, 3.02357912e-01],\n",
              "       [1.17000061e-04, 6.51388615e-02, 1.66112080e-03, 8.90424192e-01,\n",
              "        2.20700949e-02, 9.25029162e-03, 1.13385115e-02],\n",
              "       [1.01611798e-03, 1.56233117e-01, 1.71225201e-02, 3.11205462e-02,\n",
              "        7.52404392e-01, 6.38831966e-03, 3.57149281e-02],\n",
              "       [6.66509271e-02, 3.19443047e-02, 5.98973595e-02, 3.25863026e-02,\n",
              "        1.50941446e-01, 5.30909970e-02, 6.04888678e-01],\n",
              "       [9.09121484e-02, 4.58998121e-02, 3.75402212e-01, 2.06159838e-02,\n",
              "        2.47285977e-01, 3.56314704e-02, 1.84252396e-01],\n",
              "       [9.55541246e-03, 2.50786711e-02, 5.48363090e-01, 4.75098053e-03,\n",
              "        3.86055112e-02, 2.69938614e-02, 3.46652478e-01],\n",
              "       [8.55758071e-01, 2.52562705e-02, 3.14990804e-02, 5.42097609e-04,\n",
              "        7.27038831e-02, 3.89135978e-03, 1.03492429e-02],\n",
              "       [1.87490054e-03, 3.37354047e-03, 1.81008652e-02, 5.27765863e-02,\n",
              "        3.75254662e-03, 9.06800568e-01, 1.33210858e-02],\n",
              "       [1.29214095e-04, 2.75379117e-03, 1.48651924e-03, 9.46147919e-01,\n",
              "        1.34393694e-02, 3.36574018e-02, 2.38578301e-03],\n",
              "       [8.62310734e-03, 6.88329637e-02, 5.13698041e-01, 7.50341266e-02,\n",
              "        7.83354938e-02, 2.03744307e-01, 5.17319441e-02],\n",
              "       [3.31093259e-02, 1.72837991e-02, 6.23779655e-01, 9.96429659e-03,\n",
              "        2.66917404e-02, 1.59754112e-01, 1.29417151e-01],\n",
              "       [2.43672747e-02, 3.47472638e-01, 4.86267619e-02, 3.18361185e-02,\n",
              "        6.09933995e-02, 1.44475311e-01, 3.42228442e-01],\n",
              "       [4.16601747e-01, 8.12916085e-02, 2.70958722e-01, 2.30850652e-03,\n",
              "        1.36465147e-01, 3.14648673e-02, 6.09094836e-02],\n",
              "       [8.59063804e-01, 2.14107754e-03, 5.43728098e-02, 2.84628826e-03,\n",
              "        1.40149398e-02, 6.62331954e-02, 1.32785726e-03],\n",
              "       [9.30870473e-02, 1.40274227e-01, 8.04082006e-02, 3.15648504e-02,\n",
              "        4.08894867e-02, 5.49273863e-02, 5.58848798e-01],\n",
              "       [2.70580929e-02, 5.43123707e-02, 1.93702262e-02, 3.12052462e-02,\n",
              "        3.13964561e-02, 7.64005631e-02, 7.60257065e-01],\n",
              "       [3.46667767e-01, 1.22186281e-01, 1.10376433e-01, 7.27069937e-03,\n",
              "        2.28138879e-01, 1.29975840e-01, 5.53840511e-02],\n",
              "       [3.23101357e-02, 5.12186646e-01, 4.77170572e-02, 8.64907447e-03,\n",
              "        1.69872925e-01, 1.28864214e-01, 1.00399904e-01],\n",
              "       [6.22334406e-02, 9.23688617e-03, 4.34788585e-01, 1.40637383e-02,\n",
              "        1.32554499e-02, 4.52006072e-01, 1.44158769e-02],\n",
              "       [3.30694228e-01, 1.01508617e-01, 9.79887396e-02, 1.03192031e-02,\n",
              "        1.69301316e-01, 1.90561071e-01, 9.96267945e-02],\n",
              "       [3.77937127e-03, 2.11883634e-01, 3.56960967e-02, 2.82998413e-01,\n",
              "        9.69194844e-02, 1.58703193e-01, 2.10019797e-01],\n",
              "       [9.27695830e-04, 1.90010678e-03, 4.78138439e-02, 2.41855204e-01,\n",
              "        3.17337201e-03, 6.95588529e-01, 8.74127913e-03],\n",
              "       [1.63919777e-02, 1.05431058e-01, 1.23215085e-02, 3.81344892e-02,\n",
              "        2.36206558e-02, 5.34257442e-02, 7.50674546e-01],\n",
              "       [1.05369082e-02, 2.76724219e-01, 3.07444278e-02, 6.15856498e-02,\n",
              "        1.37229308e-01, 4.06699181e-01, 7.64802769e-02],\n",
              "       [1.34511874e-03, 1.46053091e-01, 1.28844539e-02, 5.78667223e-01,\n",
              "        3.59451398e-02, 4.60075252e-02, 1.79097503e-01],\n",
              "       [4.13682079e-03, 5.73977113e-01, 1.55503079e-02, 3.61526012e-02,\n",
              "        3.15151513e-01, 2.46679131e-02, 3.03636547e-02],\n",
              "       [1.34584919e-01, 3.13080437e-02, 4.49998826e-01, 1.97767969e-02,\n",
              "        4.28974181e-02, 2.77293980e-01, 4.41400260e-02],\n",
              "       [1.08070699e-02, 2.37395391e-01, 2.50337064e-01, 2.92556044e-02,\n",
              "        2.01644003e-01, 8.33881050e-02, 1.87172756e-01],\n",
              "       [3.07346042e-03, 6.42701536e-02, 1.51586039e-02, 4.41378295e-01,\n",
              "        1.05345258e-02, 4.26297635e-01, 3.92872952e-02],\n",
              "       [1.10487989e-03, 1.56026155e-01, 5.52993193e-02, 5.08602969e-02,\n",
              "        6.69487894e-01, 3.98402959e-02, 2.73811333e-02],\n",
              "       [2.33133748e-01, 8.69367123e-02, 6.66103736e-02, 1.98469032e-02,\n",
              "        5.85268438e-02, 4.86793518e-01, 4.81518991e-02],\n",
              "       [6.64935634e-03, 1.55604735e-01, 2.54412368e-02, 3.47136110e-02,\n",
              "        5.54643869e-02, 6.89295158e-02, 6.53197169e-01],\n",
              "       [1.65471748e-01, 9.91607383e-02, 2.32774764e-01, 2.65482124e-02,\n",
              "        6.62757158e-02, 3.22975874e-01, 8.67929682e-02],\n",
              "       [9.99720953e-03, 1.79979920e-01, 3.07407171e-01, 7.69895036e-03,\n",
              "        1.16184846e-01, 1.90467775e-01, 1.88264102e-01],\n",
              "       [2.10512662e-03, 1.34406522e-01, 4.99320477e-02, 4.50039476e-01,\n",
              "        6.12364747e-02, 9.75118652e-02, 2.04768434e-01],\n",
              "       [5.16607463e-01, 3.77323404e-02, 7.20783547e-02, 2.20782496e-03,\n",
              "        2.80753165e-01, 2.00884845e-02, 7.05324709e-02],\n",
              "       [9.01687948e-04, 5.81809998e-01, 7.14477804e-03, 1.09894946e-01,\n",
              "        2.60793030e-01, 1.72336269e-02, 2.22218838e-02],\n",
              "       [1.14788316e-01, 2.15088978e-01, 2.62963951e-01, 2.62297411e-02,\n",
              "        8.62489939e-02, 2.19133720e-01, 7.55463690e-02],\n",
              "       [4.44831140e-02, 1.38236517e-02, 3.14151645e-01, 3.54888500e-03,\n",
              "        4.75024194e-01, 1.80266257e-02, 1.30941853e-01],\n",
              "       [7.05968589e-03, 2.73445025e-02, 6.02572143e-01, 5.54304309e-02,\n",
              "        3.14634703e-02, 2.54371613e-01, 2.17581131e-02],\n",
              "       [2.38210522e-03, 4.19417888e-01, 8.67379829e-03, 1.97854772e-01,\n",
              "        2.47419447e-01, 4.20567617e-02, 8.21952596e-02],\n",
              "       [6.87591210e-02, 8.76944885e-03, 6.07567132e-01, 5.10358205e-03,\n",
              "        1.72688849e-02, 2.74299890e-01, 1.82319935e-02],\n",
              "       [2.62341648e-02, 5.60810745e-01, 1.32601354e-02, 8.19898546e-02,\n",
              "        3.69079039e-02, 1.00665778e-01, 1.80131480e-01],\n",
              "       [3.58707528e-03, 1.96122333e-01, 1.45127131e-02, 3.51546481e-02,\n",
              "        4.40152645e-01, 9.56053734e-02, 2.14865223e-01],\n",
              "       [2.35785041e-02, 3.21582854e-01, 1.78957179e-01, 2.41812710e-02,\n",
              "        9.08642635e-02, 1.06846437e-01, 2.53989518e-01],\n",
              "       [1.89746695e-03, 2.57130079e-02, 2.75367480e-02, 1.13319658e-01,\n",
              "        7.84372631e-03, 8.19844902e-01, 3.84448911e-03],\n",
              "       [2.02438802e-01, 4.46152724e-02, 1.54466614e-01, 8.68047960e-03,\n",
              "        3.11403304e-01, 2.10643038e-02, 2.57331342e-01],\n",
              "       [2.96825171e-01, 1.51978489e-02, 3.96069050e-01, 9.56925680e-04,\n",
              "        9.88366678e-02, 3.73759940e-02, 1.54738382e-01],\n",
              "       [8.30583647e-02, 1.24154566e-02, 5.11713624e-01, 1.27014229e-02,\n",
              "        1.56957462e-01, 1.60827309e-01, 6.23264574e-02],\n",
              "       [7.01209810e-03, 2.28717774e-02, 9.65399742e-02, 1.00998580e-02,\n",
              "        8.15622360e-02, 1.45890946e-02, 7.67324924e-01],\n",
              "       [2.80785665e-04, 1.11994855e-01, 1.29259806e-02, 7.27978706e-01,\n",
              "        9.31490362e-02, 3.11425366e-02, 2.25280877e-02],\n",
              "       [9.21919703e-01, 2.81097088e-03, 3.28899957e-02, 1.38461019e-03,\n",
              "        2.88766734e-02, 8.77126679e-03, 3.34678078e-03],\n",
              "       [9.85386297e-02, 1.95197351e-02, 7.52176195e-02, 1.42860105e-02,\n",
              "        7.64210895e-02, 6.49664879e-01, 6.63521290e-02],\n",
              "       [1.15623092e-03, 3.59323323e-01, 9.52459499e-02, 7.45457411e-02,\n",
              "        2.96275526e-01, 8.65346715e-02, 8.69185254e-02],\n",
              "       [2.70455237e-02, 3.39831971e-02, 8.70923027e-02, 2.73586065e-02,\n",
              "        1.09895162e-01, 8.68062824e-02, 6.27818942e-01],\n",
              "       [1.38853639e-01, 1.20974360e-02, 5.02273619e-01, 2.79792212e-03,\n",
              "        2.90622890e-01, 3.73578183e-02, 1.59966666e-02],\n",
              "       [4.23813844e-03, 1.41225234e-01, 9.88154411e-02, 7.66470283e-03,\n",
              "        4.77020480e-02, 1.60315391e-02, 6.84322894e-01],\n",
              "       [1.41881302e-01, 1.86347619e-01, 5.09735346e-01, 4.04463196e-03,\n",
              "        1.01904772e-01, 3.04221902e-02, 2.56640371e-02],\n",
              "       [6.74452722e-01, 2.92097917e-03, 2.26559997e-01, 4.99339495e-03,\n",
              "        6.84055984e-02, 1.42163457e-02, 8.45103711e-03],\n",
              "       [3.97434138e-04, 1.24200322e-01, 3.00814095e-03, 7.60143936e-01,\n",
              "        7.45673701e-02, 1.59522183e-02, 2.17304863e-02],\n",
              "       [9.78485215e-04, 6.77088872e-02, 4.39279340e-02, 1.06366418e-01,\n",
              "        4.45628874e-02, 3.86155099e-01, 3.50300342e-01],\n",
              "       [5.59608976e-04, 3.70900184e-01, 2.38227528e-02, 9.85657498e-02,\n",
              "        3.93038720e-01, 1.97108723e-02, 9.34021622e-02],\n",
              "       [8.79434345e-04, 3.44749600e-01, 2.86422367e-03, 4.73617762e-01,\n",
              "        4.80202138e-02, 1.72952041e-02, 1.12573497e-01],\n",
              "       [6.02402277e-02, 1.09837558e-02, 2.02237755e-01, 4.74263355e-03,\n",
              "        2.62530953e-01, 1.29993157e-02, 4.46265310e-01],\n",
              "       [3.51486802e-01, 5.90137066e-03, 3.36798877e-01, 5.01644006e-03,\n",
              "        3.49481814e-02, 2.62195379e-01, 3.65294679e-03],\n",
              "       [1.34602003e-03, 3.51663232e-02, 2.97075254e-03, 3.60657051e-02,\n",
              "        9.16721046e-01, 2.52616662e-03, 5.20394742e-03],\n",
              "       [1.07643247e-01, 2.47386858e-01, 1.46354944e-01, 1.04344040e-02,\n",
              "        7.93763697e-02, 2.98081376e-02, 3.78995985e-01],\n",
              "       [6.49031773e-02, 3.13817829e-01, 5.70945404e-02, 6.31229430e-02,\n",
              "        3.53275947e-02, 2.41936907e-01, 2.23796934e-01],\n",
              "       [1.82993955e-03, 2.38028243e-01, 5.30213602e-02, 7.28967562e-02,\n",
              "        1.97946325e-01, 2.37418711e-02, 4.12535489e-01],\n",
              "       [1.07224314e-02, 1.63720809e-02, 6.24026120e-01, 3.97663005e-03,\n",
              "        6.43970221e-02, 4.52031568e-02, 2.35302597e-01],\n",
              "       [2.45258454e-02, 2.77189836e-02, 1.22450665e-02, 7.71760419e-02,\n",
              "        7.96620362e-03, 7.88563669e-01, 6.18041642e-02],\n",
              "       [7.63018370e-01, 9.33105964e-03, 2.66386233e-02, 2.58923089e-03,\n",
              "        8.41624197e-03, 1.88504949e-01, 1.50161132e-03],\n",
              "       [4.85990569e-02, 1.81704089e-01, 2.38458946e-01, 7.39699462e-03,\n",
              "        3.09097357e-02, 2.77016938e-01, 2.15914264e-01],\n",
              "       [2.29567960e-01, 9.55438390e-02, 2.51144201e-01, 3.06369434e-03,\n",
              "        2.78010279e-01, 3.09623331e-02, 1.11707605e-01],\n",
              "       [1.09421951e-03, 3.00453067e-01, 4.18350240e-03, 4.69269663e-01,\n",
              "        1.54035375e-01, 1.08800894e-02, 6.00841120e-02],\n",
              "       [1.23712709e-02, 6.47866949e-02, 1.76526695e-01, 1.56031149e-02,\n",
              "        5.47975838e-01, 2.31059063e-02, 1.59630552e-01],\n",
              "       [3.53145320e-03, 1.05789863e-01, 8.26681312e-03, 3.89244527e-01,\n",
              "        4.01026428e-01, 1.09396260e-02, 8.12013000e-02],\n",
              "       [2.83488426e-02, 2.89364401e-02, 9.57068130e-02, 1.03238061e-01,\n",
              "        3.61005068e-01, 2.53223270e-01, 1.29541472e-01],\n",
              "       [1.16955570e-03, 8.47526453e-03, 3.61321680e-03, 8.85051250e-01,\n",
              "        5.38467616e-02, 1.31875006e-02, 3.46563682e-02],\n",
              "       [3.47012363e-04, 5.61832599e-02, 9.92759317e-03, 8.33451450e-01,\n",
              "        5.87292239e-02, 1.54188164e-02, 2.59426236e-02],\n",
              "       [1.66684072e-02, 1.36312777e-02, 1.25348032e-01, 8.27638656e-02,\n",
              "        1.50751723e-02, 7.34912694e-01, 1.16005717e-02],\n",
              "       [4.65801299e-01, 1.30313924e-02, 2.41768003e-01, 1.27775017e-02,\n",
              "        4.55912985e-02, 3.07629835e-02, 1.90267488e-01],\n",
              "       [2.94822571e-03, 3.11237741e-02, 4.23016660e-02, 3.38851959e-02,\n",
              "        3.57031263e-02, 1.17650786e-02, 8.42272937e-01],\n",
              "       [7.61774555e-03, 2.75582433e-01, 1.05332039e-01, 5.08010276e-02,\n",
              "        1.00658260e-01, 1.65319055e-01, 2.94689476e-01],\n",
              "       [4.69499407e-03, 2.56429434e-01, 4.87890542e-02, 1.54688150e-01,\n",
              "        2.09693626e-01, 2.88632005e-01, 3.70728523e-02],\n",
              "       [3.29063445e-01, 3.03294212e-02, 1.76210985e-01, 4.70134988e-03,\n",
              "        1.78638753e-02, 4.27479029e-01, 1.43519640e-02],\n",
              "       [2.96395132e-03, 5.11272252e-02, 6.51078969e-02, 4.68631506e-01,\n",
              "        1.24465972e-01, 2.15492398e-01, 7.22110942e-02],\n",
              "       [6.36730552e-01, 2.34902115e-03, 2.59980977e-01, 2.55210814e-03,\n",
              "        4.93235253e-02, 2.96394173e-02, 1.94243379e-02],\n",
              "       [9.38536177e-05, 2.52690781e-02, 2.11875793e-03, 9.04833555e-01,\n",
              "        4.69262078e-02, 5.45847090e-03, 1.52999461e-02],\n",
              "       [1.48109645e-02, 4.63645384e-02, 8.75204951e-02, 3.42916548e-02,\n",
              "        2.00985566e-01, 3.95479463e-02, 5.76478779e-01],\n",
              "       [6.29345775e-01, 1.91964041e-02, 9.84605476e-02, 5.32236183e-03,\n",
              "        5.82764223e-02, 1.85593054e-01, 3.80542758e-03],\n",
              "       [1.30282357e-01, 3.53622586e-02, 2.74412423e-01, 4.16750498e-02,\n",
              "        1.07710309e-01, 3.50200266e-01, 6.03574440e-02],\n",
              "       [7.76027841e-03, 1.71867646e-02, 2.57964842e-02, 8.16362202e-02,\n",
              "        2.53782365e-02, 1.28608197e-01, 7.13633835e-01],\n",
              "       [1.21905177e-03, 1.37532596e-02, 1.73682272e-02, 1.48428470e-01,\n",
              "        2.87839770e-03, 7.81912684e-01, 3.44398394e-02],\n",
              "       [4.47323062e-02, 2.36837879e-01, 1.97918210e-02, 7.09083453e-02,\n",
              "        3.00406124e-02, 6.63020313e-02, 5.31386971e-01],\n",
              "       [2.05633849e-01, 3.48599292e-02, 2.25560352e-01, 2.99366214e-03,\n",
              "        2.92606741e-01, 4.72472832e-02, 1.91098198e-01],\n",
              "       [6.44886028e-03, 2.15771422e-01, 5.11654243e-02, 3.14058512e-01,\n",
              "        9.85214934e-02, 1.08658090e-01, 2.05376148e-01],\n",
              "       [5.96853578e-03, 7.22635537e-02, 5.15416265e-02, 1.08383164e-01,\n",
              "        1.16389692e-01, 5.91343701e-01, 5.41097298e-02],\n",
              "       [2.52472283e-03, 1.29167661e-02, 3.31084616e-02, 2.19434306e-01,\n",
              "        1.74692348e-02, 2.89013267e-01, 4.25533175e-01],\n",
              "       [4.75536436e-02, 2.06663519e-01, 5.82820214e-02, 2.78434660e-02,\n",
              "        3.36144060e-01, 7.73916021e-02, 2.46121705e-01],\n",
              "       [1.77779107e-03, 6.35738391e-03, 5.63857742e-02, 1.35794386e-01,\n",
              "        2.13310476e-02, 7.61311114e-01, 1.70424953e-02],\n",
              "       [5.92938450e-04, 1.88728407e-01, 9.27275233e-03, 6.35642588e-01,\n",
              "        1.17332637e-01, 2.61768382e-02, 2.22538337e-02],\n",
              "       [2.62690219e-03, 2.86725052e-02, 1.37837073e-02, 8.06788146e-01,\n",
              "        8.10311213e-02, 5.72330356e-02, 9.86455753e-03],\n",
              "       [2.17535440e-03, 1.10296942e-01, 8.98341015e-02, 1.82317961e-02,\n",
              "        9.97296646e-02, 7.69614056e-02, 6.02770686e-01],\n",
              "       [5.49062006e-02, 8.12104419e-02, 4.33372527e-01, 1.71440151e-02,\n",
              "        6.41283169e-02, 1.81149557e-01, 1.68088973e-01],\n",
              "       [1.35951582e-02, 3.14194732e-03, 1.15952559e-01, 8.81033018e-03,\n",
              "        6.39098044e-03, 8.44929516e-01, 7.17961276e-03],\n",
              "       [1.28464010e-02, 2.83039123e-01, 1.41139805e-01, 4.70913239e-02,\n",
              "        5.06273881e-02, 2.45778129e-01, 2.19477847e-01],\n",
              "       [3.10348142e-02, 5.37576854e-01, 6.15847521e-02, 2.82948371e-02,\n",
              "        2.22645193e-01, 6.16756752e-02, 5.71879186e-02],\n",
              "       [4.40585949e-02, 6.31834799e-03, 1.60977051e-01, 6.57980666e-02,\n",
              "        1.75091680e-02, 6.79315925e-01, 2.60228850e-02],\n",
              "       [4.38422859e-02, 1.01935856e-01, 6.10134751e-02, 2.77157836e-02,\n",
              "        4.11006182e-01, 1.12916425e-01, 2.41570070e-01],\n",
              "       [4.30540228e-03, 2.85499603e-01, 1.58556774e-02, 4.20938760e-01,\n",
              "        2.16261148e-02, 8.64663720e-02, 1.65308088e-01],\n",
              "       [3.45863588e-02, 2.71749169e-01, 9.85177755e-02, 9.49263051e-02,\n",
              "        4.11511734e-02, 9.27254036e-02, 3.66343886e-01],\n",
              "       [1.02889780e-02, 8.70572552e-02, 4.10271399e-02, 4.74606693e-01,\n",
              "        3.08283512e-02, 3.22528660e-01, 3.36629190e-02],\n",
              "       [7.31707201e-04, 1.74403891e-01, 6.79282770e-02, 5.04025593e-02,\n",
              "        8.98135453e-02, 3.33557837e-02, 5.83364248e-01]], dtype=float32)"
            ]
          },
          "metadata": {},
          "execution_count": 41
        }
      ]
    },
    {
      "cell_type": "code",
      "source": [
        "y_pred_test_class "
      ],
      "metadata": {
        "colab": {
          "base_uri": "https://localhost:8080/"
        },
        "id": "ph-j4nBsAxjT",
        "outputId": "2b06575b-4b23-4764-e1fc-76b9c6b03d1d"
      },
      "execution_count": 42,
      "outputs": [
        {
          "output_type": "execute_result",
          "data": {
            "text/plain": [
              "array([1, 3, 5, 6, 0, 1, 5, 2, 4, 3, 3, 4, 6, 2, 2, 0, 5, 3, 2, 2, 1, 0,\n",
              "       0, 6, 6, 0, 1, 5, 0, 3, 5, 6, 5, 3, 1, 2, 2, 3, 4, 5, 6, 5, 2, 3,\n",
              "       0, 1, 2, 4, 2, 1, 2, 1, 4, 1, 5, 4, 2, 2, 6, 3, 0, 5, 1, 6, 2, 6,\n",
              "       2, 0, 3, 5, 4, 3, 6, 0, 4, 6, 1, 6, 2, 5, 0, 5, 4, 3, 4, 4, 4, 3,\n",
              "       3, 5, 0, 6, 6, 5, 5, 3, 0, 3, 6, 0, 5, 6, 5, 6, 4, 3, 5, 6, 4, 5,\n",
              "       3, 3, 6, 2, 5, 1, 1, 5, 4, 3, 6, 3, 6])"
            ]
          },
          "metadata": {},
          "execution_count": 42
        }
      ]
    },
    {
      "cell_type": "markdown",
      "source": [
        "### Test Set Confusion Matrix and Heatmap"
      ],
      "metadata": {
        "id": "Epp2QpxsUVXH"
      }
    },
    {
      "cell_type": "code",
      "source": [
        "# Test set Confusion matrix\n",
        "\n",
        "cm=confusion_matrix(y_test_class, y_pred_test_class)\n",
        "\n",
        "index = ['calm', 'happy', 'sad', 'angry', 'fearful', 'disgust', 'surprised']  \n",
        "columns = ['calm', 'happy', 'sad', 'angry', 'fearful', 'disgust', 'surprised']  \n",
        " \n",
        "cm_df = pd.DataFrame(cm,index,columns)                      \n",
        "plt.figure(figsize=(12,8))\n",
        "ax = plt.axes()\n",
        "\n",
        "sns.heatmap(cm_df, ax = ax, cmap = 'BuGn', fmt=\"d\", annot=True)\n",
        "ax.set_ylabel('True emotion')\n",
        "ax.set_xlabel('Predicted emotion')"
      ],
      "metadata": {
        "colab": {
          "base_uri": "https://localhost:8080/",
          "height": 518
        },
        "id": "ukGrk_cagzyb",
        "outputId": "98289ccb-c90e-4e66-876f-4aa62e941b98"
      },
      "execution_count": 43,
      "outputs": [
        {
          "output_type": "execute_result",
          "data": {
            "text/plain": [
              "Text(0.5, 51.0, 'Predicted emotion')"
            ]
          },
          "metadata": {},
          "execution_count": 43
        },
        {
          "output_type": "display_data",
          "data": {
            "text/plain": [
              "<Figure size 864x576 with 2 Axes>"
            ],
            "image/png": "[encoded data removed]"
          },
          "metadata": {
            "needs_background": "light"
          }
        }
      ]
    },
    {
      "cell_type": "code",
      "source": [
        "# Confusion Matrix\n",
        "cm"
      ],
      "metadata": {
        "colab": {
          "base_uri": "https://localhost:8080/"
        },
        "id": "9f51xwUE8haF",
        "outputId": "bd0e38d2-f2bd-4449-dce7-7c1132df0ea9"
      },
      "execution_count": 44,
      "outputs": [
        {
          "output_type": "execute_result",
          "data": {
            "text/plain": [
              "array([[8, 0, 0, 1, 0, 4, 2],\n",
              "       [1, 1, 2, 3, 3, 2, 2],\n",
              "       [2, 2, 4, 1, 1, 1, 4],\n",
              "       [0, 2, 1, 9, 3, 5, 0],\n",
              "       [2, 4, 3, 3, 4, 1, 4],\n",
              "       [0, 1, 4, 2, 1, 6, 2],\n",
              "       [1, 3, 3, 2, 3, 3, 7]])"
            ]
          },
          "metadata": {},
          "execution_count": 44
        }
      ]
    },
    {
      "cell_type": "markdown",
      "source": [
        "### Test Set Predicted emotions accuracy"
      ],
      "metadata": {
        "id": "zil3CkweUX0q"
      }
    },
    {
      "cell_type": "code",
      "source": [
        "# Test set prediction accuracy rates\n",
        "\n",
        "values = cm.diagonal()\n",
        "row_sum = np.sum(cm,axis=1)\n",
        "acc = values / row_sum\n",
        "\n",
        "print('Test set predicted emotions accuracy:')\n",
        "for e in range(0, len(values)):\n",
        "    print(index[e],':', f\"{(acc[e]):0.4f}\")"
      ],
      "metadata": {
        "colab": {
          "base_uri": "https://localhost:8080/"
        },
        "id": "t_ORyGGig090",
        "outputId": "12dfb954-108b-4494-914f-9889c28de49e"
      },
      "execution_count": 45,
      "outputs": [
        {
          "output_type": "stream",
          "name": "stdout",
          "text": [
            "Test set predicted emotions accuracy:\n",
            "calm : 0.5333\n",
            "happy : 0.0714\n",
            "sad : 0.2667\n",
            "angry : 0.4500\n",
            "fearful : 0.1905\n",
            "disgust : 0.3750\n",
            "surprised : 0.3182\n"
          ]
        }
      ]
    },
    {
      "cell_type": "markdown",
      "source": [
        "### Precision, Recal, Fscore"
      ],
      "metadata": {
        "id": "8Hzthv1t8kwd"
      }
    },
    {
      "cell_type": "code",
      "source": [
        "# Validation set precision, recall, fscore\n",
        "\n",
        "precision_recall_fscore_support(y_test_class, y_pred_test_class, average='macro')\n"
      ],
      "metadata": {
        "colab": {
          "base_uri": "https://localhost:8080/"
        },
        "id": "QnwWoVFnh33F",
        "outputId": "d8cd49c0-99ef-4a09-c66f-a4ae371a6e6a"
      },
      "execution_count": 46,
      "outputs": [
        {
          "output_type": "execute_result",
          "data": {
            "text/plain": [
              "(0.31213492389962977, 0.31501236858379716, 0.311202241929183, None)"
            ]
          },
          "metadata": {},
          "execution_count": 46
        }
      ]
    },
    {
      "cell_type": "code",
      "source": [
        "precision_recall_fscore_support(y_test_class, y_pred_test_class, average='weighted')"
      ],
      "metadata": {
        "colab": {
          "base_uri": "https://localhost:8080/"
        },
        "id": "OlDhuPlqzwVB",
        "outputId": "283fa940-af2e-4a93-fc46-dee1093d72bd"
      },
      "execution_count": 47,
      "outputs": [
        {
          "output_type": "execute_result",
          "data": {
            "text/plain": [
              "(0.3174484689549252, 0.3170731707317073, 0.3148412671070655, None)"
            ]
          },
          "metadata": {},
          "execution_count": 47
        }
      ]
    },
    {
      "cell_type": "markdown",
      "source": [
        "### ROC AUC Score"
      ],
      "metadata": {
        "id": "sEuBd9IyLuiD"
      }
    },
    {
      "cell_type": "code",
      "source": [
        "ravdess_df = pd.read_csv (df_path)"
      ],
      "metadata": {
        "id": "8bb4OSmyTO6v"
      },
      "execution_count": 48,
      "outputs": []
    },
    {
      "cell_type": "code",
      "source": [
        "labels = [\"calm\", \"happy\", \"sad\", \"angry\", \"fear\", \"disgust\", \"suprised\"]"
      ],
      "metadata": {
        "id": "1leZ4JGVTfTp"
      },
      "execution_count": 49,
      "outputs": []
    },
    {
      "cell_type": "code",
      "source": [
        "y_test_adj = y_test.reshape(-1,)"
      ],
      "metadata": {
        "id": "MRm1ZwnxFStc"
      },
      "execution_count": 50,
      "outputs": []
    },
    {
      "cell_type": "code",
      "source": [
        "y_proba_test_class.shape"
      ],
      "metadata": {
        "colab": {
          "base_uri": "https://localhost:8080/"
        },
        "id": "O-IcYOABFjxB",
        "outputId": "9fa728c2-edec-4d5a-f12b-d800fafc6334"
      },
      "execution_count": 51,
      "outputs": [
        {
          "output_type": "execute_result",
          "data": {
            "text/plain": [
              "(123, 7)"
            ]
          },
          "metadata": {},
          "execution_count": 51
        }
      ]
    },
    {
      "cell_type": "code",
      "source": [
        "y_test.shape"
      ],
      "metadata": {
        "colab": {
          "base_uri": "https://localhost:8080/"
        },
        "id": "9AaqUY3PIlMQ",
        "outputId": "5929409f-ff8c-4a8d-ab99-38fbc55e9a28"
      },
      "execution_count": 52,
      "outputs": [
        {
          "output_type": "execute_result",
          "data": {
            "text/plain": [
              "(123, 1)"
            ]
          },
          "metadata": {},
          "execution_count": 52
        }
      ]
    },
    {
      "cell_type": "code",
      "source": [
        "y_test_adj"
      ],
      "metadata": {
        "colab": {
          "base_uri": "https://localhost:8080/"
        },
        "id": "7LgDudYTKInS",
        "outputId": "a84f70dd-617e-4bfa-d2fe-878e3e01007d"
      },
      "execution_count": 53,
      "outputs": [
        {
          "output_type": "execute_result",
          "data": {
            "text/plain": [
              "array([6, 3, 5, 4, 0, 4, 5, 4, 3, 6, 3, 4, 0, 5, 3, 0, 5, 5, 2, 6, 6, 0,\n",
              "       0, 2, 5, 0, 5, 0, 4, 1, 3, 6, 6, 5, 4, 2, 5, 4, 4, 5, 6, 0, 1, 2,\n",
              "       1, 1, 6, 2, 6, 4, 5, 6, 1, 2, 5, 1, 1, 4, 4, 1, 6, 3, 4, 2, 2, 2,\n",
              "       4, 0, 3, 6, 5, 1, 2, 4, 3, 0, 3, 6, 2, 6, 0, 4, 1, 3, 6, 3, 6, 4,\n",
              "       3, 3, 2, 5, 4, 1, 0, 3, 2, 3, 1, 0, 2, 6, 5, 4, 4, 3, 3, 6, 4, 0,\n",
              "       3, 4, 6, 5, 3, 2, 3, 1, 6, 6, 1, 0, 6], dtype=int8)"
            ]
          },
          "metadata": {},
          "execution_count": 53
        }
      ]
    },
    {
      "cell_type": "code",
      "source": [
        "\n",
        "\n",
        "macro_roc_auc_ovo = roc_auc_score(y_test_adj, y_proba_test_class, multi_class=\"ovo\", average=\"macro\")\n",
        "weighted_roc_auc_ovo = roc_auc_score(\n",
        "    y_test_adj, y_proba_test_class, multi_class=\"ovo\", average=\"weighted\"\n",
        ")\n",
        "macro_roc_auc_ovr = roc_auc_score(y_test_adj, y_proba_test_class, multi_class=\"ovr\", average=\"macro\")\n",
        "weighted_roc_auc_ovr = roc_auc_score(\n",
        "    y_test_adj, y_proba_test_class, multi_class=\"ovr\", average=\"weighted\"\n",
        ")\n"
      ],
      "metadata": {
        "id": "oMa4N8EhHlY9"
      },
      "execution_count": 54,
      "outputs": []
    },
    {
      "cell_type": "code",
      "source": [
        "print(\"One-vs-One ROC AUC scores:\\n{:.6f} (macro),\\n{:.6f} \" \"(weighted by prevalence)\\n\".format(macro_roc_auc_ovo, weighted_roc_auc_ovo))\n",
        "print(\"One-vs-Rest ROC AUC scores:\\n{:.6f} (macro),\\n{:.6f} \" \"(weighted by prevalence)\".format(macro_roc_auc_ovr, weighted_roc_auc_ovr))"
      ],
      "metadata": {
        "colab": {
          "base_uri": "https://localhost:8080/"
        },
        "id": "hhBLwtO_ICqL",
        "outputId": "ba597668-2fd0-43e0-81b8-61f8b5d337c5"
      },
      "execution_count": 55,
      "outputs": [
        {
          "output_type": "stream",
          "name": "stdout",
          "text": [
            "One-vs-One ROC AUC scores:\n",
            "0.719965 (macro),\n",
            "0.718380 (weighted by prevalence)\n",
            "\n",
            "One-vs-Rest ROC AUC scores:\n",
            "0.719440 (macro),\n",
            "0.716662 (weighted by prevalence)\n"
          ]
        }
      ]
    }
  ]
}