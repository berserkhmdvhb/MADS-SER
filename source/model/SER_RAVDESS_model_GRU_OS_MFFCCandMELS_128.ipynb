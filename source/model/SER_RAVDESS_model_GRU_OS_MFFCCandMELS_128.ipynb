{
  "metadata": {
    "kernelspec": {
      "language": "python",
      "display_name": "Python 3",
      "name": "python3"
    },
    "language_info": {
      "pygments_lexer": "ipython3",
      "nbconvert_exporter": "python",
      "version": "3.6.4",
      "file_extension": ".py",
      "codemirror_mode": {
        "name": "ipython",
        "version": 3
      },
      "name": "python",
      "mimetype": "text/x-python"
    },
    "colab": {
      "name": "SER-RAVDESS-model-GRU-OS-MFFCCandMELS-128.ipynb",
      "provenance": [],
      "collapsed_sections": []
    }
  },
  "nbformat_minor": 0,
  "nbformat": 4,
  "cells": [
    {
      "cell_type": "markdown",
      "source": [
        "# Imports"
      ],
      "metadata": {
        "id": "anSyerIFN7qd"
      }
    },
    {
      "cell_type": "code",
      "source": [
        "# Importing Libraries"
      ],
      "metadata": {
        "id": "IMFSwIuvKiw2"
      },
      "execution_count": 1,
      "outputs": []
    },
    {
      "cell_type": "code",
      "source": [
        "!pip install json-tricks"
      ],
      "metadata": {
        "colab": {
          "base_uri": "https://localhost:8080/"
        },
        "id": "bBR8aNsmM2tR",
        "outputId": "f830c78e-29d3-4dfb-9d72-a4262cd031c4"
      },
      "execution_count": 2,
      "outputs": [
        {
          "output_type": "stream",
          "name": "stdout",
          "text": [
            "Looking in indexes: https://pypi.org/simple, https://us-python.pkg.dev/colab-wheels/public/simple/\n",
            "Collecting json-tricks\n",
            "  Downloading json_tricks-3.15.5-py2.py3-none-any.whl (26 kB)\n",
            "Installing collected packages: json-tricks\n",
            "Successfully installed json-tricks-3.15.5\n"
          ]
        }
      ]
    },
    {
      "cell_type": "code",
      "source": [
        "import pandas as pd\n",
        "import numpy as np\n",
        "\n",
        "import os\n",
        "import sys\n",
        "\n",
        "import librosa\n",
        "import librosa.display\n",
        "#from pydub import AudioSegment, effects\n",
        "#import noisereduce as nr\n",
        "\n",
        "\n",
        "import seaborn as sns\n",
        "import matplotlib.pyplot as plt\n",
        "from IPython.display import Audio\n",
        "\n",
        "import tensorflow as tf\n",
        "import keras\n",
        "import sklearn\n",
        "\n",
        "\n",
        "from tensorflow.keras.models import Sequential, Model\n",
        "from tensorflow.keras.layers import Dense, LSTM, Flatten, Dropout, BatchNormalization\n",
        "from tensorflow.keras.callbacks import ModelCheckpoint, EarlyStopping, ReduceLROnPlateau\n",
        "from tensorflow.keras.optimizers import Adam, SGD\n",
        "from tensorflow.keras.utils import to_categorical, plot_model\n",
        "\n",
        "\n",
        "from keras.models import Sequential, model_from_json, load_model\n",
        "from keras import layers\n",
        "from keras import optimizers\n",
        "from keras import callbacks\n",
        "\n",
        "from sklearn.preprocessing import StandardScaler, OneHotEncoder, LabelEncoder\n",
        "from sklearn.metrics import confusion_matrix, classification_report, precision_recall_fscore_support, roc_auc_score\n",
        "from sklearn.model_selection import train_test_split, StratifiedShuffleSplit\n",
        "from sklearn.multiclass import OneVsRestClassifier\n",
        "\n",
        "\n",
        "from tqdm import tqdm\n",
        "\n",
        "\n",
        "from json_tricks import dump, load\n",
        "\n",
        "\n",
        "\n",
        "import warnings\n",
        "if not sys.warnoptions:\n",
        "    warnings.simplefilter(\"ignore\")\n",
        "warnings.filterwarnings(\"ignore\", category=DeprecationWarning) \n",
        "\n",
        "import time\n",
        "tic = time.perf_counter()\n",
        "\n",
        "\n",
        "from sklearn.preprocessing import MinMaxScaler\n"
      ],
      "metadata": {
        "id": "77IS8HxqFFCA"
      },
      "execution_count": 3,
      "outputs": []
    },
    {
      "cell_type": "code",
      "source": [
        ""
      ],
      "metadata": {
        "id": "gGYqBIk0FGm4"
      },
      "execution_count": 3,
      "outputs": []
    },
    {
      "cell_type": "markdown",
      "source": [
        "# Dataset"
      ],
      "metadata": {
        "id": "nyMzoZKKKiw6"
      }
    },
    {
      "cell_type": "code",
      "source": [
        "from google.colab import drive\n",
        "drive.mount('/content/drive')"
      ],
      "metadata": {
        "colab": {
          "base_uri": "https://localhost:8080/"
        },
        "id": "JFPDGXmwCBs_",
        "outputId": "7d0d0b4b-4999-47e5-8f0c-129fe8963e89"
      },
      "execution_count": 4,
      "outputs": [
        {
          "output_type": "stream",
          "name": "stdout",
          "text": [
            "Mounted at /content/drive\n"
          ]
        }
      ]
    },
    {
      "cell_type": "code",
      "source": [
        "#Crema = \"/content/drive/MyDrive/datasets/speech/CREMAD/sample/\"\n",
        "#Crema = \"/content/drive/MyDrive/datasets/speech/CREMAD/AudioWAV/\"\n",
        "Ravdess = \"/content/drive/MyDrive/datasets/speech/RAVDESS/data/Audio_Speech_Actors_01-24\"\n",
        "Ravdess_processed = \"/content/drive/MyDrive/datasets/speech/RAVDESS/processedData/onlySpeech/\"\n",
        "Ravdess_speech_sample = \"/content/drive/MyDrive/datasets/speech/RAVDESS/data/Audio_Speech_Actors_01-24/\"\n",
        "df_path = \"/content/drive/MyDrive/datasets/speech/RAVDESS/ravdess_df_onlySpeech.csv\"\n",
        "model_path = Ravdess + \"/model/\"\n",
        "\n",
        "checkpoint_path = model_path + \"best_weights-os-GRU-1.hdf5\"\n",
        "saved_model_path = model_path + 'model8723-os-GRU-1.json'\n",
        "\n",
        "saved_weights_path = model_path + 'model8723_weights-os-GRU-1.h5'\n",
        "saved_model_path_2 = model_path + 'Speech-Emotion-Recognition-Model-os-GRU-1.h5'"
      ],
      "metadata": {
        "execution": {
          "iopub.status.busy": "2021-06-21T09:35:38.093538Z",
          "iopub.execute_input": "2021-06-21T09:35:38.093869Z",
          "iopub.status.idle": "2021-06-21T09:35:38.097467Z",
          "shell.execute_reply.started": "2021-06-21T09:35:38.093838Z",
          "shell.execute_reply": "2021-06-21T09:35:38.096608Z"
        },
        "trusted": true,
        "id": "vR2GjHL4Kiw7"
      },
      "execution_count": 5,
      "outputs": []
    },
    {
      "cell_type": "code",
      "source": [
        ""
      ],
      "metadata": {
        "id": "J2T6JxzIF2Jq"
      },
      "execution_count": 5,
      "outputs": []
    },
    {
      "cell_type": "code",
      "source": [
        "##Hypter Parameters' Range\n",
        "params = {\n",
        "    \"batch_size\": 20,  # 20<16<10, 25 was a bust\n",
        "    \"epochs\": 300,\n",
        "    \"lr\": 0.00010000,\n",
        "    \"time_steps\": 60\n",
        "}\n",
        "#TIME_STEPS = params[\"time_steps\"]\n",
        "#BATCH_SIZE = params[\"batch_size\"]\n",
        "#iter_changes = \"dropout_layers_0.4_0.4\"\n"
      ],
      "metadata": {
        "id": "jnEd5_Vvy4ue"
      },
      "execution_count": 6,
      "outputs": []
    },
    {
      "cell_type": "code",
      "source": [
        ""
      ],
      "metadata": {
        "id": "dKXM0xT-N8uy"
      },
      "execution_count": 6,
      "outputs": []
    },
    {
      "cell_type": "markdown",
      "source": [
        "# Load Processed Files, Construct Train, Validation and Test Sets"
      ],
      "metadata": {
        "id": "fse_mTpaOGdQ"
      }
    },
    {
      "cell_type": "code",
      "source": [
        "\n",
        "processed_path = Ravdess_processed\n",
        "x_path = processed_path + \"X_features_Mel_MFCC.json\" # FILE LOAD PATH\n",
        "y_path =  processed_path + \"Y_labels.json\" # FILE SAVE PATH\n",
        "#x_path = '/content/drive/MyDrive/datasets/speech/RAVDESS/processedData/X_features.json'\n",
        "\n",
        "# Load X,Y json files back into lists, convert to np.arrays\n",
        "\n",
        "X = load(x_path)\n",
        "X = np.asarray(X, dtype = 'float32')\n",
        "\n",
        "Y = load(y_path)\n",
        "Y = np.asarray(Y, dtype = 'int8')"
      ],
      "metadata": {
        "id": "101BpvWgN8xX"
      },
      "execution_count": 7,
      "outputs": []
    },
    {
      "cell_type": "code",
      "source": [
        "# Split to train, validation, and test sets.\n",
        "from sklearn.model_selection import train_test_split\n",
        "# 1st Split: X,Y => (x_train, x_tosplit) (y_train, y_tosplit)\n",
        "x_train, x_tosplit, y_train, y_tosplit = train_test_split(X, Y, test_size = 0.30, random_state = 1)\n",
        "# 2nd Split: x_tosplit,y_tosplit => (x_val, x_test) (y_val, y_test) \n",
        "x_val, x_test, y_val, y_test = train_test_split(x_tosplit, y_tosplit, test_size = 0.304, random_state = 1)\n",
        "#'One-hot' vectors for Y: emotion classification\n",
        "y_train_class = tf.keras.utils.to_categorical(y_train, 7, dtype = 'int8')\n",
        "y_val_class = tf.keras.utils.to_categorical(y_val, 7, dtype = 'int8')"
      ],
      "metadata": {
        "id": "CuF9M1mfOD7X"
      },
      "execution_count": 8,
      "outputs": []
    },
    {
      "cell_type": "code",
      "source": [
        "# Normalize using MinMaxScaler\n",
        "\n",
        "#scaler = MinMaxScaler()\n",
        "\n",
        "#X_train = scaler.fit_transform(x_train.reshape(-1, x_train.shape[-1])).reshape(x_train.shape)\n",
        "#X_Val = scaler.fit_transform(x_val.reshape(-1, x_val.shape[-1])).reshape(x_val.shape)\n",
        "#X_test = scaler.transform(x_test.reshape(-1, x_test.shape[-1])).reshape(x_test.shape)"
      ],
      "metadata": {
        "id": "zBs8Y2ZlWY_5"
      },
      "execution_count": 9,
      "outputs": []
    },
    {
      "cell_type": "code",
      "source": [
        "X_train = x_train\n",
        "X_val = x_val\n",
        "X_test = x_test"
      ],
      "metadata": {
        "id": "Acf0v-2jsdOx"
      },
      "execution_count": 10,
      "outputs": []
    },
    {
      "cell_type": "code",
      "source": [
        "# x_train, x_val, and x_test shape check.\n",
        "print(np.shape(X_train))\n",
        "print(np.shape(X_val))\n",
        "print(np.shape(X_test))"
      ],
      "metadata": {
        "colab": {
          "base_uri": "https://localhost:8080/"
        },
        "id": "od-D1YgBOGXs",
        "outputId": "cec58ad8-01e8-4925-ce8e-8b0b509facd5"
      },
      "execution_count": 11,
      "outputs": [
        {
          "output_type": "stream",
          "name": "stdout",
          "text": [
            "(940, 448, 153)\n",
            "(281, 448, 153)\n",
            "(123, 448, 153)\n"
          ]
        }
      ]
    },
    {
      "cell_type": "code",
      "source": [
        "# Save x_test, y_test to JSON.\n",
        "\n",
        "x_test_path = processed_path + 'x_test_data.json'\n",
        "dump(obj = X_test, fp = x_test_path)\n",
        "\n",
        "y_test_path = processed_path + 'y_test_data.json'\n",
        "dump(obj = y_test, fp = y_test_path)"
      ],
      "metadata": {
        "colab": {
          "base_uri": "https://localhost:8080/",
          "height": 105
        },
        "id": "nTExHJVsOHQ5",
        "outputId": "d2a28df2-0ee3-41cf-8361-6ec4054812e9"
      },
      "execution_count": 12,
      "outputs": [
        {
          "output_type": "execute_result",
          "data": {
            "text/plain": [
              "'{\"__ndarray__\": [[6], [3], [5], [4], [0], [4], [5], [4], [3], [6], [3], [4], [0], [5], [3], [0], [5], [5], [2], [6], [6], [0], [0], [2], [5], [0], [5], [0], [4], [1], [3], [6], [6], [5], [4], [2], [5], [4], [4], [5], [6], [0], [1], [2], [1], [1], [6], [2], [6], [4], [5], [6], [1], [2], [5], [1], [1], [4], [4], [1], [6], [3], [4], [2], [2], [2], [4], [0], [3], [6], [5], [1], [2], [4], [3], [0], [3], [6], [2], [6], [0], [4], [1], [3], [6], [3], [6], [4], [3], [3], [2], [5], [4], [1], [0], [3], [2], [3], [1], [0], [2], [6], [5], [4], [4], [3], [3], [6], [4], [0], [3], [4], [6], [5], [3], [2], [3], [1], [6], [6], [1], [0], [6]], \"dtype\": \"int8\", \"shape\": [123, 1], \"Corder\": true}'"
            ],
            "application/vnd.google.colaboratory.intrinsic+json": {
              "type": "string"
            }
          },
          "metadata": {},
          "execution_count": 12
        }
      ]
    },
    {
      "cell_type": "code",
      "source": [
        "# Loading x_test, y_test json files, and converting to np.arrays\n",
        "\n",
        "X_test = load(processed_path + 'x_test_data.json')\n",
        "X_test = np.asarray(X_test).astype('float32')\n",
        "\n",
        "y_test = load(processed_path + 'y_test_data.json')\n",
        "y_test = np.asarray(y_test).astype('int8')\n",
        "\n",
        "y_test_class = tf.keras.utils.to_categorical(y_test, 7, dtype = 'int8')"
      ],
      "metadata": {
        "id": "kAFBRsmk5dzm"
      },
      "execution_count": 13,
      "outputs": []
    },
    {
      "cell_type": "code",
      "source": [
        "X.shape"
      ],
      "metadata": {
        "id": "15joCR4gu4r7",
        "colab": {
          "base_uri": "https://localhost:8080/"
        },
        "outputId": "82c771fc-4f6b-443b-dcef-4ebad88699b8"
      },
      "execution_count": 14,
      "outputs": [
        {
          "output_type": "execute_result",
          "data": {
            "text/plain": [
              "(1344, 448, 153)"
            ]
          },
          "metadata": {},
          "execution_count": 14
        }
      ]
    },
    {
      "cell_type": "code",
      "source": [
        "X.shape[1:3]"
      ],
      "metadata": {
        "colab": {
          "base_uri": "https://localhost:8080/"
        },
        "id": "8MQhoPKjEzi4",
        "outputId": "bed0c296-54af-4b89-ccca-2f4e53361699"
      },
      "execution_count": 15,
      "outputs": [
        {
          "output_type": "execute_result",
          "data": {
            "text/plain": [
              "(448, 153)"
            ]
          },
          "metadata": {},
          "execution_count": 15
        }
      ]
    },
    {
      "cell_type": "code",
      "source": [
        "X_train.shape"
      ],
      "metadata": {
        "colab": {
          "base_uri": "https://localhost:8080/"
        },
        "id": "LxZyszASamnQ",
        "outputId": "00f84ecd-2731-49be-bbe2-c6c1ae6dd733"
      },
      "execution_count": 16,
      "outputs": [
        {
          "output_type": "execute_result",
          "data": {
            "text/plain": [
              "(940, 448, 153)"
            ]
          },
          "metadata": {},
          "execution_count": 16
        }
      ]
    },
    {
      "cell_type": "markdown",
      "source": [
        "# RNN Model"
      ],
      "metadata": {
        "id": "gnWVMbR6KixC"
      }
    },
    {
      "cell_type": "code",
      "source": [
        "tic"
      ],
      "metadata": {
        "colab": {
          "base_uri": "https://localhost:8080/"
        },
        "id": "7CHZWdfcN8oo",
        "outputId": "804d1bcd-6307-4213-fc94-cdcf5e58c426"
      },
      "execution_count": 17,
      "outputs": [
        {
          "output_type": "execute_result",
          "data": {
            "text/plain": [
              "140.342451431"
            ]
          },
          "metadata": {},
          "execution_count": 17
        }
      ]
    },
    {
      "cell_type": "markdown",
      "source": [
        "## Define Model & Training"
      ],
      "metadata": {
        "id": "GJjJYnJQORJ8"
      }
    },
    {
      "cell_type": "code",
      "source": [
        "# Initializing the model\n",
        "\n",
        "model = Sequential()\n",
        "model.add(layers.GRU(128, return_sequences = True, input_shape=(X.shape[1:3])))\n",
        "model.add(layers.GRU(64))\n",
        "\n",
        "model.add(layers.Dense(7, activation = 'softmax'))\n",
        "print(model.summary())\n",
        "\n",
        "batch_size = 23\n",
        "\n",
        "# Callbacks functions\n",
        "\n",
        "#-> EearlyStopping\n",
        "es = EarlyStopping(monitor='val_loss', mode='min', verbose=1,\n",
        "                    patience=20, min_delta=0.0001)\n",
        "\n",
        "\n",
        "#-> Save the best weights\n",
        "mcp_save = callbacks.ModelCheckpoint(checkpoint_path, save_best_only=True,\n",
        "                           monitor='val_categorical_accuracy',\n",
        "                           mode='max')\n",
        "#-> Reduce learning rate after 100 epoches without improvement.\n",
        "rlrop = callbacks.ReduceLROnPlateau(monitor='val_categorical_accuracy', \n",
        "                                    factor=0.1, patience=20)\n",
        "                             \n",
        "# Compile & train   \n",
        "model.compile(loss='categorical_crossentropy', \n",
        "                optimizer='RMSProp', \n",
        "                metrics=['categorical_accuracy'])\n",
        "\n",
        "\n"
      ],
      "metadata": {
        "colab": {
          "base_uri": "https://localhost:8080/"
        },
        "id": "aD2adyVGOJs4",
        "outputId": "8727a510-78f4-438f-f55f-d0997b80b93c"
      },
      "execution_count": 18,
      "outputs": [
        {
          "output_type": "stream",
          "name": "stdout",
          "text": [
            "Model: \"sequential\"\n",
            "_________________________________________________________________\n",
            " Layer (type)                Output Shape              Param #   \n",
            "=================================================================\n",
            " gru (GRU)                   (None, 448, 128)          108672    \n",
            "                                                                 \n",
            " gru_1 (GRU)                 (None, 64)                37248     \n",
            "                                                                 \n",
            " dense (Dense)               (None, 7)                 455       \n",
            "                                                                 \n",
            "=================================================================\n",
            "Total params: 146,375\n",
            "Trainable params: 146,375\n",
            "Non-trainable params: 0\n",
            "_________________________________________________________________\n",
            "None\n"
          ]
        }
      ]
    },
    {
      "cell_type": "code",
      "source": [
        ""
      ],
      "metadata": {
        "id": "4DBF6kqx-OHZ"
      },
      "execution_count": 18,
      "outputs": []
    },
    {
      "cell_type": "code",
      "source": [
        "history = model.fit(X_train, y_train_class, \n",
        "                      epochs=340, batch_size = batch_size, \n",
        "                      validation_data = (X_val, y_val_class), \n",
        "                      callbacks = [es, mcp_save, rlrop])\n",
        "toc = time.perf_counter()"
      ],
      "metadata": {
        "colab": {
          "base_uri": "https://localhost:8080/"
        },
        "id": "Da7Gc9x_izth",
        "outputId": "66c212d2-c7cf-435d-8ec2-a51af46fc153"
      },
      "execution_count": 19,
      "outputs": [
        {
          "output_type": "stream",
          "name": "stdout",
          "text": [
            "Epoch 1/340\n",
            "41/41 [==============================] - 34s 722ms/step - loss: 1.8592 - categorical_accuracy: 0.2426 - val_loss: 1.7766 - val_categorical_accuracy: 0.2954 - lr: 0.0010\n",
            "Epoch 2/340\n",
            "41/41 [==============================] - 29s 697ms/step - loss: 1.6123 - categorical_accuracy: 0.3564 - val_loss: 1.6714 - val_categorical_accuracy: 0.3274 - lr: 0.0010\n",
            "Epoch 3/340\n",
            "41/41 [==============================] - 29s 700ms/step - loss: 1.4994 - categorical_accuracy: 0.4202 - val_loss: 1.6222 - val_categorical_accuracy: 0.3594 - lr: 0.0010\n",
            "Epoch 4/340\n",
            "41/41 [==============================] - 28s 692ms/step - loss: 1.4256 - categorical_accuracy: 0.4489 - val_loss: 1.5781 - val_categorical_accuracy: 0.3665 - lr: 0.0010\n",
            "Epoch 5/340\n",
            "41/41 [==============================] - 28s 689ms/step - loss: 1.3866 - categorical_accuracy: 0.4670 - val_loss: 1.6032 - val_categorical_accuracy: 0.4021 - lr: 0.0010\n",
            "Epoch 6/340\n",
            "41/41 [==============================] - 28s 686ms/step - loss: 1.3291 - categorical_accuracy: 0.5053 - val_loss: 1.5700 - val_categorical_accuracy: 0.3701 - lr: 0.0010\n",
            "Epoch 7/340\n",
            "41/41 [==============================] - 28s 694ms/step - loss: 1.2825 - categorical_accuracy: 0.5074 - val_loss: 1.5610 - val_categorical_accuracy: 0.4413 - lr: 0.0010\n",
            "Epoch 8/340\n",
            "41/41 [==============================] - 28s 684ms/step - loss: 1.2243 - categorical_accuracy: 0.5223 - val_loss: 1.5432 - val_categorical_accuracy: 0.4093 - lr: 0.0010\n",
            "Epoch 9/340\n",
            "41/41 [==============================] - 28s 686ms/step - loss: 1.1929 - categorical_accuracy: 0.5457 - val_loss: 1.5875 - val_categorical_accuracy: 0.3915 - lr: 0.0010\n",
            "Epoch 10/340\n",
            "41/41 [==============================] - 28s 689ms/step - loss: 1.1532 - categorical_accuracy: 0.5819 - val_loss: 1.5611 - val_categorical_accuracy: 0.4021 - lr: 0.0010\n",
            "Epoch 11/340\n",
            "41/41 [==============================] - 28s 691ms/step - loss: 1.1294 - categorical_accuracy: 0.5543 - val_loss: 1.5338 - val_categorical_accuracy: 0.4235 - lr: 0.0010\n",
            "Epoch 12/340\n",
            "41/41 [==============================] - 28s 684ms/step - loss: 1.0511 - categorical_accuracy: 0.6085 - val_loss: 1.5784 - val_categorical_accuracy: 0.4235 - lr: 0.0010\n",
            "Epoch 13/340\n",
            "41/41 [==============================] - 28s 691ms/step - loss: 1.0332 - categorical_accuracy: 0.5979 - val_loss: 1.5159 - val_categorical_accuracy: 0.4199 - lr: 0.0010\n",
            "Epoch 14/340\n",
            "41/41 [==============================] - 32s 774ms/step - loss: 0.9762 - categorical_accuracy: 0.6372 - val_loss: 1.5512 - val_categorical_accuracy: 0.4235 - lr: 0.0010\n",
            "Epoch 15/340\n",
            "41/41 [==============================] - 28s 692ms/step - loss: 0.9494 - categorical_accuracy: 0.6511 - val_loss: 1.6159 - val_categorical_accuracy: 0.4270 - lr: 0.0010\n",
            "Epoch 16/340\n",
            "41/41 [==============================] - 28s 690ms/step - loss: 0.9304 - categorical_accuracy: 0.6585 - val_loss: 1.6936 - val_categorical_accuracy: 0.4342 - lr: 0.0010\n",
            "Epoch 17/340\n",
            "41/41 [==============================] - 28s 690ms/step - loss: 0.8806 - categorical_accuracy: 0.6691 - val_loss: 1.6719 - val_categorical_accuracy: 0.4270 - lr: 0.0010\n",
            "Epoch 18/340\n",
            "41/41 [==============================] - 28s 695ms/step - loss: 0.8960 - categorical_accuracy: 0.6521 - val_loss: 1.6046 - val_categorical_accuracy: 0.4875 - lr: 0.0010\n",
            "Epoch 19/340\n",
            "41/41 [==============================] - 28s 694ms/step - loss: 0.8370 - categorical_accuracy: 0.6755 - val_loss: 1.8025 - val_categorical_accuracy: 0.4270 - lr: 0.0010\n",
            "Epoch 20/340\n",
            "41/41 [==============================] - 28s 690ms/step - loss: 0.8217 - categorical_accuracy: 0.6979 - val_loss: 1.7238 - val_categorical_accuracy: 0.4270 - lr: 0.0010\n",
            "Epoch 21/340\n",
            "41/41 [==============================] - 28s 685ms/step - loss: 0.7865 - categorical_accuracy: 0.7213 - val_loss: 1.6773 - val_categorical_accuracy: 0.4484 - lr: 0.0010\n",
            "Epoch 22/340\n",
            "41/41 [==============================] - 28s 691ms/step - loss: 0.7711 - categorical_accuracy: 0.7064 - val_loss: 1.7801 - val_categorical_accuracy: 0.4342 - lr: 0.0010\n",
            "Epoch 23/340\n",
            "41/41 [==============================] - 28s 687ms/step - loss: 0.7427 - categorical_accuracy: 0.7351 - val_loss: 1.8192 - val_categorical_accuracy: 0.4626 - lr: 0.0010\n",
            "Epoch 24/340\n",
            "41/41 [==============================] - 28s 691ms/step - loss: 0.7255 - categorical_accuracy: 0.7319 - val_loss: 1.9212 - val_categorical_accuracy: 0.4555 - lr: 0.0010\n",
            "Epoch 25/340\n",
            "41/41 [==============================] - 28s 684ms/step - loss: 0.7105 - categorical_accuracy: 0.7489 - val_loss: 1.6788 - val_categorical_accuracy: 0.4306 - lr: 0.0010\n",
            "Epoch 26/340\n",
            "41/41 [==============================] - 28s 685ms/step - loss: 0.6564 - categorical_accuracy: 0.7777 - val_loss: 1.8301 - val_categorical_accuracy: 0.4199 - lr: 0.0010\n",
            "Epoch 27/340\n",
            "41/41 [==============================] - 28s 684ms/step - loss: 0.6504 - categorical_accuracy: 0.7606 - val_loss: 1.7896 - val_categorical_accuracy: 0.4164 - lr: 0.0010\n",
            "Epoch 28/340\n",
            "41/41 [==============================] - 28s 689ms/step - loss: 0.6313 - categorical_accuracy: 0.7766 - val_loss: 1.9162 - val_categorical_accuracy: 0.4342 - lr: 0.0010\n",
            "Epoch 29/340\n",
            "41/41 [==============================] - 28s 684ms/step - loss: 0.6059 - categorical_accuracy: 0.7830 - val_loss: 1.9254 - val_categorical_accuracy: 0.4164 - lr: 0.0010\n",
            "Epoch 30/340\n",
            "41/41 [==============================] - 28s 687ms/step - loss: 0.5632 - categorical_accuracy: 0.8053 - val_loss: 1.9666 - val_categorical_accuracy: 0.3772 - lr: 0.0010\n",
            "Epoch 31/340\n",
            "41/41 [==============================] - 28s 686ms/step - loss: 0.5872 - categorical_accuracy: 0.7830 - val_loss: 1.9589 - val_categorical_accuracy: 0.4484 - lr: 0.0010\n",
            "Epoch 32/340\n",
            "41/41 [==============================] - 28s 691ms/step - loss: 0.5523 - categorical_accuracy: 0.8000 - val_loss: 1.8994 - val_categorical_accuracy: 0.4484 - lr: 0.0010\n",
            "Epoch 33/340\n",
            "41/41 [==============================] - 28s 687ms/step - loss: 0.5105 - categorical_accuracy: 0.8181 - val_loss: 1.9715 - val_categorical_accuracy: 0.4448 - lr: 0.0010\n",
            "Epoch 33: early stopping\n"
          ]
        }
      ]
    },
    {
      "cell_type": "code",
      "source": [
        ""
      ],
      "metadata": {
        "id": "3MekXCZHizyZ"
      },
      "execution_count": 19,
      "outputs": []
    },
    {
      "cell_type": "code",
      "source": [
        "print(f\"Running time: {(toc - tic)/60:0.4f} minutes\")"
      ],
      "metadata": {
        "id": "cHmSBRhVOELJ",
        "colab": {
          "base_uri": "https://localhost:8080/"
        },
        "outputId": "1bdad591-00e2-4ce4-91e8-88612535a565"
      },
      "execution_count": 20,
      "outputs": [
        {
          "output_type": "stream",
          "name": "stdout",
          "text": [
            "Running time: 30.1787 minutes\n"
          ]
        }
      ]
    },
    {
      "cell_type": "markdown",
      "source": [
        "## Loading Model"
      ],
      "metadata": {
        "id": "jCQelzMAKixD"
      }
    },
    {
      "cell_type": "code",
      "source": [
        "# Define the best weights to the model.\\\n",
        "#model.load_weights(checkpoint_path)"
      ],
      "metadata": {
        "id": "gruZAW2wI-tO"
      },
      "execution_count": 21,
      "outputs": []
    },
    {
      "cell_type": "markdown",
      "source": [
        "# Evaluation"
      ],
      "metadata": {
        "id": "kDxTjEK0KixD"
      }
    },
    {
      "cell_type": "markdown",
      "source": [
        "## Save & Load model, weights"
      ],
      "metadata": {
        "id": "1YfguG0tPatV"
      }
    },
    {
      "cell_type": "code",
      "source": [
        "# Saving model & weights\n",
        "model_json = model.to_json()\n",
        "\n",
        "\n",
        "\n",
        "with open(saved_model_path, \"w\") as json_file:\n",
        "    json_file.write(model_json)\n",
        "    \n",
        "model.save_weights(saved_weights_path)\n",
        "print(\"Saved model to disk\")"
      ],
      "metadata": {
        "colab": {
          "base_uri": "https://localhost:8080/"
        },
        "id": "MsVoNhqmgGsK",
        "outputId": "83fd11d8-2f1e-4e45-8b18-55afaaf7ea5c"
      },
      "execution_count": 22,
      "outputs": [
        {
          "output_type": "stream",
          "name": "stdout",
          "text": [
            "Saved model to disk\n"
          ]
        }
      ]
    },
    {
      "cell_type": "code",
      "source": [
        "# Reading the model from JSON file\n",
        "#model_path = Ravdess + \"/model/\"\n",
        "#saved_model_path = model_path + 'model8723.json'\n",
        "#saved_weights_path = model_path + 'model8723_weights.h5'\n",
        "\n",
        "\n",
        "with open(saved_model_path , 'r') as json_file:\n",
        "    json_savedModel = json_file.read()\n",
        "    \n",
        "# Loading the model architecture, weights\n",
        "model = tf.keras.models.model_from_json(json_savedModel)\n",
        "model.load_weights(saved_weights_path)\n",
        "\n",
        "# Compiling the model with similar parameters as the original model.\n",
        "model.compile(loss='categorical_crossentropy', \n",
        "                optimizer='RMSProp', \n",
        "                metrics=['categorical_accuracy'])\n",
        "\n",
        "# Model's structure visualization\n",
        "tf.keras.utils.plot_model(model, to_file='model.png', show_shapes=True, show_layer_names=True)"
      ],
      "metadata": {
        "colab": {
          "base_uri": "https://localhost:8080/",
          "height": 422
        },
        "id": "y4OJGhLmgfX6",
        "outputId": "b6324668-9cd2-42ef-90d7-2656a691ba81"
      },
      "execution_count": 23,
      "outputs": [
        {
          "output_type": "execute_result",
          "data": {
            "text/plain": [
              "<IPython.core.display.Image object>"
            ],
            "image/png": "[encoded data removed]"
          },
          "metadata": {},
          "execution_count": 23
        }
      ]
    },
    {
      "cell_type": "code",
      "source": [
        ""
      ],
      "metadata": {
        "id": "B_SW6eUAgvEj"
      },
      "execution_count": 23,
      "outputs": []
    },
    {
      "cell_type": "code",
      "source": [
        ""
      ],
      "metadata": {
        "id": "cCfkUXTYgzSB"
      },
      "execution_count": 23,
      "outputs": []
    },
    {
      "cell_type": "code",
      "source": [
        "model.save(saved_model_path_2)"
      ],
      "metadata": {
        "trusted": true,
        "id": "Z5Uzb_bGKixE"
      },
      "execution_count": 24,
      "outputs": []
    },
    {
      "cell_type": "markdown",
      "source": [
        "## Train (fit) Visualization"
      ],
      "metadata": {
        "id": "ATvBW0SPO-eq"
      }
    },
    {
      "cell_type": "code",
      "source": [
        "# Loss, Accuracy presentation\n",
        "\n",
        "# Plot history: Loss\n",
        "plt.plot(history.history['loss'], label='Loss (training data)')\n",
        "plt.plot(history.history['val_loss'], label='Loss (validation data)')\n",
        "plt.title('Loss for train and validation')\n",
        "plt.ylabel('Loss value')\n",
        "plt.xlabel('No. epoch')\n",
        "plt.legend(loc=\"upper left\")\n",
        "plt.show()\n",
        "\n",
        "#Plot history: Accuracy\n",
        "plt.plot(history.history['categorical_accuracy'], label='Acc (training data)')\n",
        "plt.plot(history.history['val_categorical_accuracy'], label='Acc (validation data)')\n",
        "plt.title('Model accuracy')\n",
        "plt.ylabel('Acc %')\n",
        "plt.xlabel('No. epoch')\n",
        "plt.legend(loc=\"upper left\")\n",
        "plt.show()"
      ],
      "metadata": {
        "colab": {
          "base_uri": "https://localhost:8080/",
          "height": 573
        },
        "id": "UjhUHhU_f4EY",
        "outputId": "c9d9e8ce-54da-46d9-e4b8-ff9781f112ea"
      },
      "execution_count": 25,
      "outputs": [
        {
          "output_type": "display_data",
          "data": {
            "text/plain": [
              "<Figure size 432x288 with 1 Axes>"
            ],
            "image/png": "[encoded data removed]"
          },
          "metadata": {
            "needs_background": "light"
          }
        },
        {
          "output_type": "display_data",
          "data": {
            "text/plain": [
              "<Figure size 432x288 with 1 Axes>"
            ],
            "image/png": "[encoded data removed]"
          },
          "metadata": {
            "needs_background": "light"
          }
        }
      ]
    },
    {
      "cell_type": "markdown",
      "source": [
        "## Validation Set Evaluation"
      ],
      "metadata": {
        "id": "UZ3lFduxPQeB"
      }
    },
    {
      "cell_type": "markdown",
      "source": [
        "### Val Set Score"
      ],
      "metadata": {
        "id": "5YoYCa22PMGz"
      }
    },
    {
      "cell_type": "code",
      "source": [
        ""
      ],
      "metadata": {
        "id": "jQavrzbB_8fy"
      },
      "execution_count": 25,
      "outputs": []
    },
    {
      "cell_type": "code",
      "source": [
        "# Validation score\n",
        "loss,acc = model.evaluate(X_val, y_val_class, verbose=2)\n"
      ],
      "metadata": {
        "id": "X_KdTUyrf7-j",
        "colab": {
          "base_uri": "https://localhost:8080/"
        },
        "outputId": "6b05d1f3-bd84-4bcc-d548-1ce89b0687a7"
      },
      "execution_count": 26,
      "outputs": [
        {
          "output_type": "stream",
          "name": "stdout",
          "text": [
            "9/9 - 2s - loss: 1.9715 - categorical_accuracy: 0.4448 - 2s/epoch - 255ms/step\n"
          ]
        }
      ]
    },
    {
      "cell_type": "code",
      "source": [
        ""
      ],
      "metadata": {
        "id": "09k_I9DM_2Q0"
      },
      "execution_count": 26,
      "outputs": []
    },
    {
      "cell_type": "markdown",
      "source": [
        "### Construct Predicted Labels based on Probability of each class"
      ],
      "metadata": {
        "id": "hz7nc15A_3hb"
      }
    },
    {
      "cell_type": "code",
      "source": [
        "y_val_class"
      ],
      "metadata": {
        "colab": {
          "base_uri": "https://localhost:8080/"
        },
        "id": "CFM1P2SZ_85N",
        "outputId": "d918411d-b3da-4a62-ca17-c23e14782aa1"
      },
      "execution_count": 27,
      "outputs": [
        {
          "output_type": "execute_result",
          "data": {
            "text/plain": [
              "array([[0, 0, 0, ..., 0, 0, 1],\n",
              "       [0, 1, 0, ..., 0, 0, 0],\n",
              "       [0, 0, 0, ..., 0, 1, 0],\n",
              "       ...,\n",
              "       [0, 0, 0, ..., 0, 0, 1],\n",
              "       [0, 0, 0, ..., 0, 0, 1],\n",
              "       [0, 0, 1, ..., 0, 0, 0]], dtype=int8)"
            ]
          },
          "metadata": {},
          "execution_count": 27
        }
      ]
    },
    {
      "cell_type": "code",
      "source": [
        "np.argmax(y_val_class, axis=1)"
      ],
      "metadata": {
        "colab": {
          "base_uri": "https://localhost:8080/"
        },
        "id": "C9UHSeXbAASy",
        "outputId": "511b4590-9a43-4338-b1c6-ebd87790cf09"
      },
      "execution_count": 28,
      "outputs": [
        {
          "output_type": "execute_result",
          "data": {
            "text/plain": [
              "array([6, 1, 5, 3, 5, 5, 2, 5, 0, 4, 5, 1, 5, 5, 2, 1, 0, 1, 4, 5, 3, 6,\n",
              "       0, 2, 2, 4, 6, 5, 1, 4, 0, 5, 2, 3, 1, 6, 5, 2, 1, 0, 3, 4, 0, 5,\n",
              "       3, 3, 0, 6, 4, 6, 0, 3, 3, 3, 4, 5, 3, 2, 3, 6, 1, 0, 3, 2, 4, 4,\n",
              "       6, 2, 4, 0, 5, 5, 1, 2, 0, 5, 5, 3, 4, 6, 4, 2, 2, 3, 6, 0, 0, 3,\n",
              "       2, 5, 1, 4, 1, 0, 6, 3, 6, 1, 2, 6, 6, 2, 0, 5, 1, 5, 4, 0, 5, 2,\n",
              "       0, 5, 0, 6, 2, 3, 3, 2, 2, 2, 0, 1, 5, 2, 5, 3, 2, 0, 3, 3, 3, 2,\n",
              "       0, 3, 0, 6, 3, 3, 3, 1, 0, 3, 6, 5, 6, 4, 0, 2, 6, 2, 1, 1, 4, 6,\n",
              "       0, 2, 1, 1, 3, 0, 6, 6, 2, 0, 1, 5, 5, 4, 5, 5, 0, 2, 4, 4, 6, 4,\n",
              "       3, 6, 2, 3, 2, 3, 0, 1, 0, 3, 1, 5, 2, 1, 6, 0, 4, 1, 6, 2, 0, 0,\n",
              "       6, 0, 0, 2, 5, 5, 1, 2, 3, 2, 2, 2, 4, 3, 5, 3, 1, 0, 2, 0, 2, 4,\n",
              "       6, 1, 0, 6, 5, 6, 4, 0, 0, 4, 5, 3, 2, 6, 2, 6, 3, 5, 3, 1, 5, 6,\n",
              "       5, 1, 2, 1, 6, 0, 5, 3, 2, 1, 6, 3, 0, 1, 3, 6, 3, 2, 2, 4, 6, 4,\n",
              "       3, 2, 2, 5, 5, 4, 1, 3, 6, 5, 3, 0, 3, 4, 6, 6, 2])"
            ]
          },
          "metadata": {},
          "execution_count": 28
        }
      ]
    },
    {
      "cell_type": "code",
      "source": [
        "y_val_class = np.argmax(y_val_class, axis=1)\n",
        "predictions_val = model.predict(X_val)\n",
        "y_proba_val_class = predictions_val\n",
        "y_pred_val_class = np.argmax(predictions_val, axis=1)"
      ],
      "metadata": {
        "id": "urjydD-38JK7"
      },
      "execution_count": 29,
      "outputs": []
    },
    {
      "cell_type": "code",
      "source": [
        "predictions_val\n"
      ],
      "metadata": {
        "colab": {
          "base_uri": "https://localhost:8080/"
        },
        "id": "Zb7dGRs3AEJn",
        "outputId": "3a19fb21-7f71-4754-fc9c-c18c0cdb83d6"
      },
      "execution_count": 30,
      "outputs": [
        {
          "output_type": "execute_result",
          "data": {
            "text/plain": [
              "array([[1.05342055e-02, 3.98205727e-01, 1.58470497e-02, ...,\n",
              "        5.70437312e-02, 1.94015816e-01, 3.11142147e-01],\n",
              "       [1.46426610e-03, 7.08924592e-01, 2.61413585e-03, ...,\n",
              "        5.39239720e-02, 2.40036361e-02, 2.00552255e-01],\n",
              "       [2.05237996e-02, 1.31882988e-02, 3.27592483e-04, ...,\n",
              "        4.45667170e-02, 8.92251790e-01, 2.64626965e-02],\n",
              "       ...,\n",
              "       [6.16295077e-02, 2.51290854e-03, 3.33252549e-01, ...,\n",
              "        7.56483292e-03, 5.90318501e-01, 3.59628326e-03],\n",
              "       [1.44227030e-04, 5.92399001e-01, 7.60004902e-03, ...,\n",
              "        3.29405405e-02, 5.18904720e-03, 3.61152202e-01],\n",
              "       [3.82561790e-04, 5.83333373e-02, 2.18568207e-03, ...,\n",
              "        2.18957532e-02, 6.59208968e-02, 3.30335315e-04]], dtype=float32)"
            ]
          },
          "metadata": {},
          "execution_count": 30
        }
      ]
    },
    {
      "cell_type": "code",
      "source": [
        "y_pred_val_class "
      ],
      "metadata": {
        "colab": {
          "base_uri": "https://localhost:8080/"
        },
        "id": "KxHa1Ss1AJo4",
        "outputId": "979ce9c1-cba2-4e28-f56d-9a6aa8f88e66"
      },
      "execution_count": 31,
      "outputs": [
        {
          "output_type": "execute_result",
          "data": {
            "text/plain": [
              "array([1, 1, 5, 3, 5, 2, 1, 2, 0, 1, 5, 1, 5, 2, 2, 5, 0, 1, 3, 5, 3, 2,\n",
              "       0, 2, 4, 1, 6, 5, 3, 6, 0, 5, 2, 3, 3, 6, 5, 6, 1, 4, 1, 5, 6, 2,\n",
              "       1, 3, 5, 6, 4, 1, 4, 4, 3, 3, 0, 4, 1, 4, 1, 1, 6, 1, 3, 2, 2, 0,\n",
              "       6, 5, 4, 2, 5, 2, 6, 5, 5, 2, 1, 3, 3, 4, 4, 0, 6, 3, 5, 0, 2, 6,\n",
              "       2, 2, 1, 5, 5, 0, 6, 3, 6, 1, 5, 2, 2, 2, 0, 6, 1, 5, 4, 4, 3, 4,\n",
              "       6, 5, 0, 2, 5, 3, 3, 2, 2, 6, 3, 3, 5, 2, 0, 3, 6, 0, 4, 3, 2, 3,\n",
              "       3, 6, 2, 6, 4, 5, 3, 1, 0, 4, 1, 5, 5, 1, 0, 2, 2, 5, 2, 5, 2, 6,\n",
              "       0, 2, 3, 4, 3, 1, 6, 6, 2, 0, 1, 5, 6, 3, 6, 5, 1, 1, 4, 1, 2, 4,\n",
              "       3, 5, 2, 3, 6, 3, 2, 5, 2, 3, 4, 3, 6, 2, 6, 2, 4, 6, 6, 6, 2, 0,\n",
              "       6, 5, 2, 2, 6, 2, 1, 6, 3, 3, 2, 5, 1, 3, 5, 3, 5, 0, 6, 0, 3, 5,\n",
              "       1, 0, 0, 6, 5, 3, 2, 0, 2, 1, 6, 3, 2, 6, 2, 4, 3, 2, 3, 1, 5, 2,\n",
              "       1, 1, 2, 4, 5, 0, 4, 3, 1, 5, 1, 3, 0, 1, 5, 1, 3, 1, 1, 1, 2, 4,\n",
              "       5, 4, 5, 6, 2, 1, 1, 5, 2, 1, 3, 5, 3, 4, 5, 1, 3])"
            ]
          },
          "metadata": {},
          "execution_count": 31
        }
      ]
    },
    {
      "cell_type": "markdown",
      "source": [
        "### Val Set Confusion Matrix and Heatmap"
      ],
      "metadata": {
        "id": "d2ullxf9PUMd"
      }
    },
    {
      "cell_type": "code",
      "source": [
        "# Validation Confusion matrix\n",
        "cm=confusion_matrix(y_val_class, y_pred_val_class)\n",
        "\n",
        "index = ['calm', 'happy', 'sad', 'angry', 'fearful', 'disgust', 'surprised']  \n",
        "columns = ['calm', 'happy', 'sad', 'angry', 'fearful', 'disgust', 'surprised']  \n",
        " \n",
        "cm_df = pd.DataFrame(cm,index,columns)                      \n",
        "plt.figure(figsize=(12,8))\n",
        "ax = plt.axes()\n",
        "\n",
        "sns.heatmap(cm_df, ax = ax, cmap = 'PuBu', fmt=\"d\", annot=True)\n",
        "ax.set_ylabel('True emotion')\n",
        "ax.set_xlabel('Predicted emotion')"
      ],
      "metadata": {
        "colab": {
          "base_uri": "https://localhost:8080/",
          "height": 514
        },
        "id": "doLcg3CTf9bx",
        "outputId": "01d6c89c-23f7-4c5c-ad06-ee08bafdb020"
      },
      "execution_count": 32,
      "outputs": [
        {
          "output_type": "execute_result",
          "data": {
            "text/plain": [
              "Text(0.5, 51.0, 'Predicted emotion')"
            ]
          },
          "metadata": {},
          "execution_count": 32
        },
        {
          "output_type": "display_data",
          "data": {
            "text/plain": [
              "<Figure size 864x576 with 2 Axes>"
            ],
            "image/png": "[encoded data removed]"
          },
          "metadata": {
            "needs_background": "light"
          }
        }
      ]
    },
    {
      "cell_type": "code",
      "source": [
        "# Confusion Matrix\n",
        "cm"
      ],
      "metadata": {
        "colab": {
          "base_uri": "https://localhost:8080/"
        },
        "id": "hIEG9Pia8Nfp",
        "outputId": "880f3a1e-0b39-4027-c2d6-4094733c2b11"
      },
      "execution_count": 33,
      "outputs": [
        {
          "output_type": "execute_result",
          "data": {
            "text/plain": [
              "array([[20,  3,  9,  2,  3,  4,  2],\n",
              "       [ 1, 14,  2,  4,  3,  6,  3],\n",
              "       [ 1,  5, 18,  4,  4,  7,  9],\n",
              "       [ 0,  4,  1, 31,  4,  4,  2],\n",
              "       [ 2,  8,  3,  3,  9,  3,  1],\n",
              "       [ 1,  3, 10,  2,  2, 18,  6],\n",
              "       [ 0,  8,  9,  1,  2,  5, 15]])"
            ]
          },
          "metadata": {},
          "execution_count": 33
        }
      ]
    },
    {
      "cell_type": "markdown",
      "source": [
        "### Validation Set Predicted emotions accuracy"
      ],
      "metadata": {
        "id": "kWjKgUdRPYH5"
      }
    },
    {
      "cell_type": "code",
      "source": [
        "# Validation set prediction accuracy rates\n",
        "\n",
        "values = cm.diagonal()\n",
        "row_sum = np.sum(cm,axis=1)\n",
        "acc = values / row_sum\n",
        "\n",
        "print('Validation set predicted emotions accuracy:')\n",
        "for e in range(0, len(values)):\n",
        "    print(index[e],':', f\"{(acc[e]):0.4f}\")"
      ],
      "metadata": {
        "colab": {
          "base_uri": "https://localhost:8080/"
        },
        "id": "MopdywY9f-mS",
        "outputId": "4902ed1f-8905-4ff5-c6d7-618aaa27d5ae"
      },
      "execution_count": 34,
      "outputs": [
        {
          "output_type": "stream",
          "name": "stdout",
          "text": [
            "Validation set predicted emotions accuracy:\n",
            "calm : 0.4651\n",
            "happy : 0.4242\n",
            "sad : 0.3750\n",
            "angry : 0.6739\n",
            "fearful : 0.3103\n",
            "disgust : 0.4286\n",
            "surprised : 0.3750\n"
          ]
        }
      ]
    },
    {
      "cell_type": "markdown",
      "source": [
        "### Precision, Recal, Fscore"
      ],
      "metadata": {
        "id": "DGSTy2228XRH"
      }
    },
    {
      "cell_type": "code",
      "source": [
        "# Validation set precision, recall, fscore\n",
        "\n",
        "precision_recall_fscore_support(y_val_class, y_pred_val_class, average='macro')\n"
      ],
      "metadata": {
        "colab": {
          "base_uri": "https://localhost:8080/"
        },
        "id": "rOwUkCG0gGpm",
        "outputId": "6efaab7b-8e4a-4121-eca1-d52125392b0a"
      },
      "execution_count": 35,
      "outputs": [
        {
          "output_type": "execute_result",
          "data": {
            "text/plain": [
              "(0.46112690345613083, 0.43602685756401255, 0.4406306654035858, None)"
            ]
          },
          "metadata": {},
          "execution_count": 35
        }
      ]
    },
    {
      "cell_type": "code",
      "source": [
        "precision_recall_fscore_support(y_val_class, y_pred_val_class, average='weighted')"
      ],
      "metadata": {
        "colab": {
          "base_uri": "https://localhost:8080/"
        },
        "id": "OorFgXxDzy3o",
        "outputId": "f6ce6a3c-7abc-4b8f-9b18-269ee3fed92f"
      },
      "execution_count": 36,
      "outputs": [
        {
          "output_type": "execute_result",
          "data": {
            "text/plain": [
              "(0.4738922546185839, 0.44483985765124556, 0.4511805913198118, None)"
            ]
          },
          "metadata": {},
          "execution_count": 36
        }
      ]
    },
    {
      "cell_type": "markdown",
      "source": [
        "## Test Set Evaluation"
      ],
      "metadata": {
        "id": "FiCwOjmPPgCn"
      }
    },
    {
      "cell_type": "code",
      "source": [
        ""
      ],
      "metadata": {
        "id": "mUZLaThTeocQ"
      },
      "execution_count": 36,
      "outputs": []
    },
    {
      "cell_type": "markdown",
      "source": [
        "### Test Set Score\n",
        "\n"
      ],
      "metadata": {
        "id": "CWB7U5xDUSmF"
      }
    },
    {
      "cell_type": "code",
      "source": [
        "loss, acc = model.evaluate(X_test, y_test_class, verbose=2)"
      ],
      "metadata": {
        "id": "Y7NEHPM-gzml",
        "colab": {
          "base_uri": "https://localhost:8080/"
        },
        "outputId": "4eb756b5-4d3d-4feb-8e1d-dea3f4ec5aca"
      },
      "execution_count": 37,
      "outputs": [
        {
          "output_type": "stream",
          "name": "stdout",
          "text": [
            "4/4 - 1s - loss: 2.4917 - categorical_accuracy: 0.3577 - 646ms/epoch - 161ms/step\n"
          ]
        }
      ]
    },
    {
      "cell_type": "markdown",
      "source": [
        "### Construct Predicted Labels based on Probability of each class"
      ],
      "metadata": {
        "id": "gPwcFV9oAhGh"
      }
    },
    {
      "cell_type": "code",
      "source": [
        "y_test_class"
      ],
      "metadata": {
        "colab": {
          "base_uri": "https://localhost:8080/"
        },
        "id": "tjN7Eit7AiML",
        "outputId": "3dfd5336-3c2d-47d8-93dc-d67d51c130d0"
      },
      "execution_count": 38,
      "outputs": [
        {
          "output_type": "execute_result",
          "data": {
            "text/plain": [
              "array([[0, 0, 0, 0, 0, 0, 1],\n",
              "       [0, 0, 0, 1, 0, 0, 0],\n",
              "       [0, 0, 0, 0, 0, 1, 0],\n",
              "       [0, 0, 0, 0, 1, 0, 0],\n",
              "       [1, 0, 0, 0, 0, 0, 0],\n",
              "       [0, 0, 0, 0, 1, 0, 0],\n",
              "       [0, 0, 0, 0, 0, 1, 0],\n",
              "       [0, 0, 0, 0, 1, 0, 0],\n",
              "       [0, 0, 0, 1, 0, 0, 0],\n",
              "       [0, 0, 0, 0, 0, 0, 1],\n",
              "       [0, 0, 0, 1, 0, 0, 0],\n",
              "       [0, 0, 0, 0, 1, 0, 0],\n",
              "       [1, 0, 0, 0, 0, 0, 0],\n",
              "       [0, 0, 0, 0, 0, 1, 0],\n",
              "       [0, 0, 0, 1, 0, 0, 0],\n",
              "       [1, 0, 0, 0, 0, 0, 0],\n",
              "       [0, 0, 0, 0, 0, 1, 0],\n",
              "       [0, 0, 0, 0, 0, 1, 0],\n",
              "       [0, 0, 1, 0, 0, 0, 0],\n",
              "       [0, 0, 0, 0, 0, 0, 1],\n",
              "       [0, 0, 0, 0, 0, 0, 1],\n",
              "       [1, 0, 0, 0, 0, 0, 0],\n",
              "       [1, 0, 0, 0, 0, 0, 0],\n",
              "       [0, 0, 1, 0, 0, 0, 0],\n",
              "       [0, 0, 0, 0, 0, 1, 0],\n",
              "       [1, 0, 0, 0, 0, 0, 0],\n",
              "       [0, 0, 0, 0, 0, 1, 0],\n",
              "       [1, 0, 0, 0, 0, 0, 0],\n",
              "       [0, 0, 0, 0, 1, 0, 0],\n",
              "       [0, 1, 0, 0, 0, 0, 0],\n",
              "       [0, 0, 0, 1, 0, 0, 0],\n",
              "       [0, 0, 0, 0, 0, 0, 1],\n",
              "       [0, 0, 0, 0, 0, 0, 1],\n",
              "       [0, 0, 0, 0, 0, 1, 0],\n",
              "       [0, 0, 0, 0, 1, 0, 0],\n",
              "       [0, 0, 1, 0, 0, 0, 0],\n",
              "       [0, 0, 0, 0, 0, 1, 0],\n",
              "       [0, 0, 0, 0, 1, 0, 0],\n",
              "       [0, 0, 0, 0, 1, 0, 0],\n",
              "       [0, 0, 0, 0, 0, 1, 0],\n",
              "       [0, 0, 0, 0, 0, 0, 1],\n",
              "       [1, 0, 0, 0, 0, 0, 0],\n",
              "       [0, 1, 0, 0, 0, 0, 0],\n",
              "       [0, 0, 1, 0, 0, 0, 0],\n",
              "       [0, 1, 0, 0, 0, 0, 0],\n",
              "       [0, 1, 0, 0, 0, 0, 0],\n",
              "       [0, 0, 0, 0, 0, 0, 1],\n",
              "       [0, 0, 1, 0, 0, 0, 0],\n",
              "       [0, 0, 0, 0, 0, 0, 1],\n",
              "       [0, 0, 0, 0, 1, 0, 0],\n",
              "       [0, 0, 0, 0, 0, 1, 0],\n",
              "       [0, 0, 0, 0, 0, 0, 1],\n",
              "       [0, 1, 0, 0, 0, 0, 0],\n",
              "       [0, 0, 1, 0, 0, 0, 0],\n",
              "       [0, 0, 0, 0, 0, 1, 0],\n",
              "       [0, 1, 0, 0, 0, 0, 0],\n",
              "       [0, 1, 0, 0, 0, 0, 0],\n",
              "       [0, 0, 0, 0, 1, 0, 0],\n",
              "       [0, 0, 0, 0, 1, 0, 0],\n",
              "       [0, 1, 0, 0, 0, 0, 0],\n",
              "       [0, 0, 0, 0, 0, 0, 1],\n",
              "       [0, 0, 0, 1, 0, 0, 0],\n",
              "       [0, 0, 0, 0, 1, 0, 0],\n",
              "       [0, 0, 1, 0, 0, 0, 0],\n",
              "       [0, 0, 1, 0, 0, 0, 0],\n",
              "       [0, 0, 1, 0, 0, 0, 0],\n",
              "       [0, 0, 0, 0, 1, 0, 0],\n",
              "       [1, 0, 0, 0, 0, 0, 0],\n",
              "       [0, 0, 0, 1, 0, 0, 0],\n",
              "       [0, 0, 0, 0, 0, 0, 1],\n",
              "       [0, 0, 0, 0, 0, 1, 0],\n",
              "       [0, 1, 0, 0, 0, 0, 0],\n",
              "       [0, 0, 1, 0, 0, 0, 0],\n",
              "       [0, 0, 0, 0, 1, 0, 0],\n",
              "       [0, 0, 0, 1, 0, 0, 0],\n",
              "       [1, 0, 0, 0, 0, 0, 0],\n",
              "       [0, 0, 0, 1, 0, 0, 0],\n",
              "       [0, 0, 0, 0, 0, 0, 1],\n",
              "       [0, 0, 1, 0, 0, 0, 0],\n",
              "       [0, 0, 0, 0, 0, 0, 1],\n",
              "       [1, 0, 0, 0, 0, 0, 0],\n",
              "       [0, 0, 0, 0, 1, 0, 0],\n",
              "       [0, 1, 0, 0, 0, 0, 0],\n",
              "       [0, 0, 0, 1, 0, 0, 0],\n",
              "       [0, 0, 0, 0, 0, 0, 1],\n",
              "       [0, 0, 0, 1, 0, 0, 0],\n",
              "       [0, 0, 0, 0, 0, 0, 1],\n",
              "       [0, 0, 0, 0, 1, 0, 0],\n",
              "       [0, 0, 0, 1, 0, 0, 0],\n",
              "       [0, 0, 0, 1, 0, 0, 0],\n",
              "       [0, 0, 1, 0, 0, 0, 0],\n",
              "       [0, 0, 0, 0, 0, 1, 0],\n",
              "       [0, 0, 0, 0, 1, 0, 0],\n",
              "       [0, 1, 0, 0, 0, 0, 0],\n",
              "       [1, 0, 0, 0, 0, 0, 0],\n",
              "       [0, 0, 0, 1, 0, 0, 0],\n",
              "       [0, 0, 1, 0, 0, 0, 0],\n",
              "       [0, 0, 0, 1, 0, 0, 0],\n",
              "       [0, 1, 0, 0, 0, 0, 0],\n",
              "       [1, 0, 0, 0, 0, 0, 0],\n",
              "       [0, 0, 1, 0, 0, 0, 0],\n",
              "       [0, 0, 0, 0, 0, 0, 1],\n",
              "       [0, 0, 0, 0, 0, 1, 0],\n",
              "       [0, 0, 0, 0, 1, 0, 0],\n",
              "       [0, 0, 0, 0, 1, 0, 0],\n",
              "       [0, 0, 0, 1, 0, 0, 0],\n",
              "       [0, 0, 0, 1, 0, 0, 0],\n",
              "       [0, 0, 0, 0, 0, 0, 1],\n",
              "       [0, 0, 0, 0, 1, 0, 0],\n",
              "       [1, 0, 0, 0, 0, 0, 0],\n",
              "       [0, 0, 0, 1, 0, 0, 0],\n",
              "       [0, 0, 0, 0, 1, 0, 0],\n",
              "       [0, 0, 0, 0, 0, 0, 1],\n",
              "       [0, 0, 0, 0, 0, 1, 0],\n",
              "       [0, 0, 0, 1, 0, 0, 0],\n",
              "       [0, 0, 1, 0, 0, 0, 0],\n",
              "       [0, 0, 0, 1, 0, 0, 0],\n",
              "       [0, 1, 0, 0, 0, 0, 0],\n",
              "       [0, 0, 0, 0, 0, 0, 1],\n",
              "       [0, 0, 0, 0, 0, 0, 1],\n",
              "       [0, 1, 0, 0, 0, 0, 0],\n",
              "       [1, 0, 0, 0, 0, 0, 0],\n",
              "       [0, 0, 0, 0, 0, 0, 1]], dtype=int8)"
            ]
          },
          "metadata": {},
          "execution_count": 38
        }
      ]
    },
    {
      "cell_type": "code",
      "source": [
        " np.argmax(y_test_class, axis=1)"
      ],
      "metadata": {
        "colab": {
          "base_uri": "https://localhost:8080/"
        },
        "id": "2fcK-_HzAmc5",
        "outputId": "5cadebd1-4989-469d-8c14-4584566c8671"
      },
      "execution_count": 39,
      "outputs": [
        {
          "output_type": "execute_result",
          "data": {
            "text/plain": [
              "array([6, 3, 5, 4, 0, 4, 5, 4, 3, 6, 3, 4, 0, 5, 3, 0, 5, 5, 2, 6, 6, 0,\n",
              "       0, 2, 5, 0, 5, 0, 4, 1, 3, 6, 6, 5, 4, 2, 5, 4, 4, 5, 6, 0, 1, 2,\n",
              "       1, 1, 6, 2, 6, 4, 5, 6, 1, 2, 5, 1, 1, 4, 4, 1, 6, 3, 4, 2, 2, 2,\n",
              "       4, 0, 3, 6, 5, 1, 2, 4, 3, 0, 3, 6, 2, 6, 0, 4, 1, 3, 6, 3, 6, 4,\n",
              "       3, 3, 2, 5, 4, 1, 0, 3, 2, 3, 1, 0, 2, 6, 5, 4, 4, 3, 3, 6, 4, 0,\n",
              "       3, 4, 6, 5, 3, 2, 3, 1, 6, 6, 1, 0, 6])"
            ]
          },
          "metadata": {},
          "execution_count": 39
        }
      ]
    },
    {
      "cell_type": "code",
      "source": [
        "y_test_class = np.argmax(y_test_class, axis=1)\n",
        "predictions_test = model.predict(X_test)\n",
        "y_pred_test_class = np.argmax(predictions_test, axis=1)\n",
        "y_proba_test_class = predictions_test\n",
        "\n"
      ],
      "metadata": {
        "id": "uyXvoU2rAckI"
      },
      "execution_count": 40,
      "outputs": []
    },
    {
      "cell_type": "code",
      "source": [
        "predictions_test"
      ],
      "metadata": {
        "colab": {
          "base_uri": "https://localhost:8080/"
        },
        "id": "3BAOUaPwAtuY",
        "outputId": "49ef90d9-2142-4493-db90-b494aa40c30e"
      },
      "execution_count": 41,
      "outputs": [
        {
          "output_type": "execute_result",
          "data": {
            "text/plain": [
              "array([[3.75331350e-04, 4.59862113e-01, 4.90602572e-03, 4.45652641e-02,\n",
              "        3.87307778e-02, 1.45460889e-01, 3.06099504e-01],\n",
              "       [1.29191012e-05, 4.80035145e-04, 3.92058791e-05, 9.95570362e-01,\n",
              "        8.42414040e-04, 3.04320571e-03, 1.19082306e-05],\n",
              "       [2.90977582e-02, 1.34403944e-01, 1.08500579e-02, 3.95251438e-02,\n",
              "        7.50379171e-03, 7.20958173e-01, 5.76611646e-02],\n",
              "       [5.22793525e-05, 4.31454042e-03, 1.07813021e-03, 5.47576783e-05,\n",
              "        3.73022864e-04, 2.24284455e-03, 9.91884470e-01],\n",
              "       [2.68283896e-02, 3.72097433e-01, 5.10898650e-01, 3.95825366e-04,\n",
              "        5.23961671e-02, 1.50319738e-02, 2.23516189e-02],\n",
              "       [1.36415195e-02, 8.81748140e-01, 1.69498532e-03, 9.29737743e-03,\n",
              "        7.24668382e-03, 4.13490944e-02, 4.50222343e-02],\n",
              "       [2.68300949e-03, 3.29981185e-02, 1.57591572e-03, 7.08000183e-01,\n",
              "        8.41441972e-04, 2.53030926e-01, 8.70335673e-04],\n",
              "       [8.60809207e-01, 2.13682391e-02, 8.31921399e-02, 1.78132788e-04,\n",
              "        3.12277749e-02, 2.23326846e-03, 9.91265872e-04],\n",
              "       [8.94647746e-05, 2.20025517e-02, 1.93837611e-03, 9.03007090e-01,\n",
              "        4.20998707e-02, 3.07134185e-02, 1.49276777e-04],\n",
              "       [1.78101007e-04, 2.10283487e-03, 4.73230630e-02, 3.88517103e-04,\n",
              "        5.48572978e-03, 1.72434710e-02, 9.27278280e-01],\n",
              "       [8.37322659e-05, 5.14401011e-02, 6.17994170e-04, 8.89830589e-01,\n",
              "        1.37687624e-02, 4.36641909e-02, 5.94703015e-04],\n",
              "       [1.50245105e-04, 2.67037041e-02, 2.21463349e-02, 4.84587789e-01,\n",
              "        4.38266873e-01, 2.25651450e-02, 5.58003411e-03],\n",
              "       [8.41246024e-02, 2.59343106e-02, 8.31238747e-01, 2.38871624e-04,\n",
              "        3.86136919e-02, 3.12664569e-03, 1.67230126e-02],\n",
              "       [1.25446625e-03, 2.69066729e-03, 6.13373876e-01, 1.99121218e-02,\n",
              "        4.63549374e-03, 3.26393694e-01, 3.17396447e-02],\n",
              "       [3.69651010e-04, 4.10564942e-03, 3.96683961e-01, 2.08790807e-05,\n",
              "        1.86832100e-02, 6.42188173e-03, 5.73714733e-01],\n",
              "       [1.81542411e-01, 7.29193911e-02, 6.19849682e-01, 2.44185067e-04,\n",
              "        9.62957740e-02, 7.18514156e-03, 2.19634045e-02],\n",
              "       [2.17477238e-04, 6.13831449e-03, 8.89935065e-03, 2.78212279e-02,\n",
              "        3.05950613e-04, 9.55969989e-01, 6.47584733e-04],\n",
              "       [8.68154166e-04, 4.82452326e-02, 2.31622159e-03, 2.91848421e-01,\n",
              "        1.09647229e-01, 1.97110549e-01, 3.49964261e-01],\n",
              "       [7.88959223e-05, 5.63033996e-03, 6.68381574e-03, 9.36724722e-01,\n",
              "        1.81953721e-02, 3.04254666e-02, 2.26140651e-03],\n",
              "       [1.47522558e-02, 2.26495620e-02, 6.40449375e-02, 2.61101581e-04,\n",
              "        2.87387520e-03, 8.41587316e-03, 8.87002409e-01],\n",
              "       [3.91459204e-02, 4.98993516e-01, 9.85242501e-02, 1.72019238e-04,\n",
              "        2.01056182e-01, 4.62691765e-03, 1.57481134e-01],\n",
              "       [4.38525015e-03, 5.23745239e-01, 1.42098302e-02, 1.81996897e-02,\n",
              "        8.01878329e-03, 4.23604161e-01, 7.83707015e-03],\n",
              "       [7.53059685e-01, 1.76768715e-03, 2.25940049e-01, 1.52423250e-04,\n",
              "        1.62661187e-02, 5.86367096e-04, 2.22768611e-03],\n",
              "       [6.66674867e-04, 2.88600437e-02, 1.45663515e-01, 3.45698297e-01,\n",
              "        2.11103279e-02, 4.57449287e-01, 5.51850942e-04],\n",
              "       [1.40775359e-04, 7.12469080e-03, 8.61138920e-04, 8.62499848e-02,\n",
              "        1.44549680e-03, 8.98164749e-01, 6.01316104e-03],\n",
              "       [2.70651311e-01, 2.35545233e-01, 3.28380197e-01, 3.02385306e-04,\n",
              "        1.33493289e-01, 1.03723165e-02, 2.12552659e-02],\n",
              "       [9.88468342e-03, 9.34342563e-01, 2.57886760e-03, 7.33686145e-04,\n",
              "        2.54906192e-02, 1.67465266e-02, 1.02229472e-02],\n",
              "       [9.79376912e-01, 1.19741401e-03, 4.87644225e-03, 1.37940777e-04,\n",
              "        1.24669988e-02, 1.70126406e-03, 2.43044386e-04],\n",
              "       [4.64376025e-02, 6.99616149e-02, 7.67288804e-02, 1.31857698e-04,\n",
              "        7.18120754e-01, 2.28323648e-03, 8.63360241e-02],\n",
              "       [8.81849206e-04, 9.50802267e-02, 3.34137981e-03, 1.44723148e-04,\n",
              "        7.10994238e-03, 9.05039161e-03, 8.84391487e-01],\n",
              "       [2.63619822e-05, 2.13084230e-03, 3.59754404e-03, 5.97610511e-02,\n",
              "        6.83112012e-04, 9.33614850e-01, 1.86252990e-04],\n",
              "       [8.31883866e-03, 9.41083252e-01, 4.15310496e-03, 6.17075886e-04,\n",
              "        6.44574931e-04, 2.70821247e-02, 1.81010589e-02],\n",
              "       [9.05368070e-04, 1.85113400e-01, 2.47590244e-02, 2.75036264e-02,\n",
              "        2.19819602e-03, 5.72492480e-02, 7.02271163e-01],\n",
              "       [1.00362417e-03, 4.49226685e-02, 6.36551587e-04, 5.14763474e-01,\n",
              "        1.85978059e-02, 4.16138321e-01, 3.93754570e-03],\n",
              "       [4.43886638e-05, 1.68875664e-01, 6.29846519e-03, 5.64384274e-04,\n",
              "        8.22150350e-01, 8.92844750e-04, 1.17390545e-03],\n",
              "       [5.28319031e-02, 6.84901793e-03, 7.95006275e-01, 3.03333183e-03,\n",
              "        2.25025453e-02, 4.22492996e-02, 7.75275752e-02],\n",
              "       [3.17739818e-04, 2.47890860e-01, 5.10089919e-02, 4.93208766e-02,\n",
              "        7.68583193e-02, 2.05030769e-01, 3.69572490e-01],\n",
              "       [9.14131058e-04, 3.35491002e-01, 8.75808820e-02, 6.82615163e-03,\n",
              "        4.70360786e-01, 9.15804952e-02, 7.24657718e-03],\n",
              "       [1.99646107e-03, 8.86493444e-01, 1.05771981e-03, 1.43911503e-02,\n",
              "        6.17577583e-02, 1.98357385e-02, 1.44677358e-02],\n",
              "       [1.96075700e-02, 9.21394378e-02, 2.02802662e-03, 6.89868489e-03,\n",
              "        9.21343267e-02, 7.07953870e-01, 7.92380124e-02],\n",
              "       [1.50657853e-03, 9.91570875e-02, 1.21246825e-03, 6.44371688e-01,\n",
              "        3.07847597e-02, 2.10594818e-01, 1.23725692e-02],\n",
              "       [7.70564854e-01, 2.98176669e-02, 1.23075388e-01, 9.40289698e-04,\n",
              "        6.33163303e-02, 1.15698595e-02, 7.15704169e-04],\n",
              "       [7.30891665e-03, 3.16994756e-01, 2.82596260e-01, 1.15166698e-03,\n",
              "        1.17087819e-01, 1.53196633e-01, 1.21663995e-01],\n",
              "       [2.68683270e-05, 3.49652767e-03, 3.42071382e-03, 7.54429758e-01,\n",
              "        1.38825714e-03, 2.34058067e-01, 3.17975623e-03],\n",
              "       [4.63688135e-01, 1.04031548e-01, 1.47894144e-01, 1.06401647e-04,\n",
              "        1.87694892e-01, 2.55823671e-03, 9.40267369e-02],\n",
              "       [8.25228344e-04, 6.96151018e-01, 1.73533417e-03, 5.14721721e-02,\n",
              "        2.32532844e-01, 1.06308693e-02, 6.65246649e-03],\n",
              "       [5.64634874e-02, 3.62092294e-02, 8.83327663e-01, 2.26699078e-04,\n",
              "        5.83804911e-03, 1.25937276e-02, 5.34100644e-03],\n",
              "       [1.72142521e-03, 5.81995025e-03, 2.36359034e-02, 9.52464470e-04,\n",
              "        1.36618733e-01, 4.88425232e-02, 7.82408953e-01],\n",
              "       [3.51484705e-05, 1.11909797e-02, 6.32148376e-03, 5.39778829e-01,\n",
              "        3.56500922e-03, 4.38859046e-01, 2.49616511e-04],\n",
              "       [1.65490271e-03, 8.95875931e-01, 3.32512747e-04, 1.78211387e-02,\n",
              "        3.26704457e-02, 5.39337331e-03, 4.62516397e-02],\n",
              "       [7.99206842e-04, 5.49869100e-03, 5.15233725e-03, 6.06583096e-02,\n",
              "        1.79020409e-03, 9.24335599e-01, 1.76566700e-03],\n",
              "       [9.71099420e-04, 8.27413201e-02, 1.65466890e-01, 1.23731140e-02,\n",
              "        2.68999464e-03, 7.21792042e-01, 1.39655070e-02],\n",
              "       [2.44083181e-01, 6.33110628e-02, 5.27697476e-03, 2.58320622e-04,\n",
              "        6.21167362e-01, 1.43116023e-02, 5.15915379e-02],\n",
              "       [1.79804582e-02, 3.16370010e-01, 4.75703999e-02, 1.30531285e-03,\n",
              "        5.02829671e-01, 1.93338320e-02, 9.46103111e-02],\n",
              "       [2.97391613e-04, 3.16335866e-03, 8.08561981e-01, 9.87197310e-02,\n",
              "        5.69670461e-03, 6.77259713e-02, 1.58349704e-02],\n",
              "       [6.76900223e-02, 8.83456971e-03, 7.46592224e-01, 8.00754933e-05,\n",
              "        2.05383413e-02, 1.38681906e-03, 1.54877916e-01],\n",
              "       [9.64510068e-02, 6.66536018e-02, 2.77929916e-03, 3.81906098e-03,\n",
              "        7.28108883e-02, 5.59387505e-01, 1.98098645e-01],\n",
              "       [6.81964979e-02, 3.61092351e-02, 4.45006266e-02, 8.24679248e-03,\n",
              "        3.07319075e-01, 5.31638324e-01, 3.98941897e-03],\n",
              "       [1.58722214e-02, 3.72081727e-01, 1.10997269e-02, 2.12271162e-03,\n",
              "        1.68565556e-01, 1.45784644e-02, 4.15679544e-01],\n",
              "       [1.30606029e-04, 5.40487207e-02, 5.40505105e-04, 8.40043008e-01,\n",
              "        5.12485094e-02, 5.32667898e-02, 7.21931225e-04],\n",
              "       [7.58101165e-01, 2.16290280e-02, 1.79354846e-01, 4.75703069e-04,\n",
              "        2.98847780e-02, 1.79333542e-03, 8.76113307e-03],\n",
              "       [5.63183762e-02, 1.88774452e-01, 8.49616230e-02, 7.35699804e-03,\n",
              "        2.78355163e-02, 5.27288392e-02, 5.82024217e-01],\n",
              "       [3.80267913e-04, 4.29492407e-02, 4.62661497e-02, 2.68435833e-04,\n",
              "        5.18536329e-01, 2.61587221e-02, 3.65440816e-01],\n",
              "       [5.39780632e-02, 1.42139509e-01, 2.59695977e-01, 2.41620932e-04,\n",
              "        3.66031259e-01, 6.19466649e-03, 1.71718910e-01],\n",
              "       [9.41232964e-02, 9.77270026e-03, 8.62494171e-01, 2.83948117e-04,\n",
              "        2.01021247e-02, 5.77081693e-03, 7.45289819e-03],\n",
              "       [5.43962233e-04, 6.08246587e-03, 7.52462268e-01, 4.10152785e-03,\n",
              "        3.85527452e-03, 5.46056107e-02, 1.78348914e-01],\n",
              "       [1.48241371e-02, 6.84623778e-01, 2.24169493e-01, 4.74442146e-04,\n",
              "        3.96719500e-02, 1.54590122e-02, 2.07772944e-02],\n",
              "       [9.40047920e-01, 3.37449112e-03, 6.57120300e-03, 2.45524328e-02,\n",
              "        8.15597549e-03, 1.70683637e-02, 2.29504105e-04],\n",
              "       [1.85733697e-05, 7.30882224e-04, 9.86851319e-06, 9.94994223e-01,\n",
              "        6.94224495e-04, 3.53576173e-03, 1.64927042e-05],\n",
              "       [5.69570293e-05, 1.11803729e-02, 3.34834993e-01, 1.31585659e-03,\n",
              "        2.23200265e-02, 8.06638151e-02, 5.49627960e-01],\n",
              "       [3.70634138e-04, 6.84469521e-01, 6.69872714e-03, 1.20093562e-01,\n",
              "        9.08147693e-02, 4.74099182e-02, 5.01428582e-02],\n",
              "       [1.10212225e-03, 7.45158136e-01, 7.52344728e-03, 8.25367197e-02,\n",
              "        6.36804625e-02, 9.70028788e-02, 2.99624726e-03],\n",
              "       [2.33656522e-02, 1.54210124e-02, 5.02522253e-02, 4.39903932e-03,\n",
              "        2.49098927e-01, 1.94856972e-01, 4.62606162e-01],\n",
              "       [6.45010686e-03, 3.26925365e-04, 9.80432034e-01, 1.64808298e-04,\n",
              "        5.88726392e-03, 1.86072546e-03, 4.87811677e-03],\n",
              "       [9.06319707e-04, 7.41282925e-02, 4.86132735e-03, 4.68540579e-01,\n",
              "        3.28347862e-01, 3.34691443e-02, 8.97464976e-02],\n",
              "       [6.50446163e-04, 4.08364227e-03, 1.77300104e-03, 5.62812090e-02,\n",
              "        1.57155003e-03, 9.35363770e-01, 2.76411098e-04],\n",
              "       [7.81548501e-04, 1.62389949e-02, 1.28737837e-02, 4.07516733e-02,\n",
              "        4.39126597e-04, 9.28484142e-01, 4.30806860e-04],\n",
              "       [2.21085138e-04, 5.75054660e-02, 8.53633508e-03, 2.92027695e-03,\n",
              "        9.25987244e-01, 6.41630671e-04, 4.18794155e-03],\n",
              "       [3.75859323e-03, 1.47326128e-03, 9.73471463e-01, 7.34827336e-05,\n",
              "        1.41824223e-02, 9.71403730e-04, 6.06933748e-03],\n",
              "       [1.04397405e-02, 1.55473044e-02, 1.01849041e-03, 2.58507263e-02,\n",
              "        5.63266082e-03, 7.92439461e-01, 1.49071679e-01],\n",
              "       [5.45538545e-01, 2.62549251e-01, 1.22029617e-01, 1.65091525e-03,\n",
              "        5.73148541e-02, 4.23334958e-03, 6.68337662e-03],\n",
              "       [1.87098891e-01, 4.37080055e-01, 1.32954195e-01, 2.56087678e-03,\n",
              "        3.30913998e-02, 1.24390803e-01, 8.28238428e-02],\n",
              "       [3.71723026e-02, 2.41756272e-02, 9.03439939e-01, 3.40192666e-04,\n",
              "        1.80340931e-02, 8.13266169e-03, 8.70515779e-03],\n",
              "       [3.31684132e-04, 3.32056284e-01, 1.48021430e-03, 5.43180764e-01,\n",
              "        6.42371476e-02, 5.01230471e-02, 8.59096274e-03],\n",
              "       [3.82344099e-03, 2.59460121e-01, 5.74048050e-02, 7.29754800e-04,\n",
              "        1.39662847e-01, 8.21028184e-03, 5.30708730e-01],\n",
              "       [6.67203218e-03, 3.71870734e-02, 6.68720305e-02, 6.24044053e-02,\n",
              "        6.43352032e-01, 3.21413688e-02, 1.51371077e-01],\n",
              "       [4.24391637e-03, 1.02555908e-01, 2.89134914e-03, 9.43349733e-04,\n",
              "        4.39558923e-01, 4.42242920e-01, 7.56370928e-03],\n",
              "       [1.67040380e-05, 2.26004445e-03, 2.69603659e-03, 6.22165799e-01,\n",
              "        2.08056974e-03, 3.70249629e-01, 5.31165919e-04],\n",
              "       [8.54004247e-05, 1.33244125e-02, 7.21523678e-03, 8.40440333e-01,\n",
              "        1.12629950e-01, 1.88542865e-02, 7.45033799e-03],\n",
              "       [1.78791612e-04, 4.83007282e-02, 2.23766223e-01, 3.31964046e-02,\n",
              "        6.74469164e-03, 6.80954278e-01, 6.85885455e-03],\n",
              "       [9.59473848e-01, 2.01065512e-03, 1.29252682e-02, 1.37641514e-03,\n",
              "        5.80419134e-03, 1.78946238e-02, 5.14958461e-04],\n",
              "       [5.31284277e-05, 3.25946975e-03, 5.77123184e-03, 9.20378864e-01,\n",
              "        4.46744589e-03, 6.55924678e-02, 4.77368536e-04],\n",
              "       [2.72422191e-03, 5.17085083e-02, 1.89531893e-02, 2.72953999e-03,\n",
              "        2.44364701e-03, 2.99274866e-02, 8.91513407e-01],\n",
              "       [1.08694555e-02, 5.70193172e-01, 1.03540020e-02, 5.14118474e-05,\n",
              "        1.10971201e-02, 2.92584789e-03, 3.94509047e-01],\n",
              "       [7.31934234e-02, 1.82257500e-02, 8.91750336e-01, 5.38904220e-04,\n",
              "        2.97300145e-03, 6.99823024e-03, 6.32039364e-03],\n",
              "       [3.14287376e-04, 1.91145297e-02, 5.24787325e-03, 7.67298136e-03,\n",
              "        1.16291121e-01, 8.49640429e-01, 1.71875395e-03],\n",
              "       [5.82285345e-01, 6.59768842e-03, 3.51218849e-01, 2.39578565e-03,\n",
              "        1.25928279e-02, 1.05531504e-02, 3.43563035e-02],\n",
              "       [4.37389572e-05, 6.56853691e-02, 5.76188962e-04, 8.68458092e-01,\n",
              "        3.98088470e-02, 2.50194035e-02, 4.08366468e-04],\n",
              "       [6.33616350e-04, 1.08879926e-02, 3.34561974e-01, 7.74711790e-03,\n",
              "        4.28128913e-02, 6.60798848e-02, 5.37276506e-01],\n",
              "       [5.76861501e-01, 2.21505389e-03, 1.83250695e-01, 2.59840162e-04,\n",
              "        2.11109921e-01, 2.16060448e-02, 4.69689118e-03],\n",
              "       [1.48604196e-02, 7.71402597e-01, 3.69523047e-03, 8.04817490e-03,\n",
              "        1.82174042e-01, 1.08776586e-02, 8.94191675e-03],\n",
              "       [3.82990506e-03, 3.22185308e-02, 3.96715850e-02, 1.93303291e-04,\n",
              "        2.94851605e-02, 8.28268658e-03, 8.86318803e-01],\n",
              "       [1.77843540e-05, 8.79665546e-04, 9.00054409e-04, 1.71847060e-01,\n",
              "        1.82762125e-03, 8.23748410e-01, 7.79363152e-04],\n",
              "       [1.77187880e-03, 3.19560558e-01, 3.74885768e-01, 3.79266054e-03,\n",
              "        9.75245163e-02, 1.10653788e-01, 9.18107852e-02],\n",
              "       [6.38180524e-02, 3.90699729e-02, 4.56114151e-02, 5.45743787e-05,\n",
              "        1.39006227e-01, 1.03492732e-03, 7.11404800e-01],\n",
              "       [3.07179391e-02, 2.90734082e-01, 5.08959591e-01, 1.65400212e-03,\n",
              "        7.50348903e-04, 2.18400899e-02, 1.45343870e-01],\n",
              "       [3.28779942e-03, 3.33834589e-02, 3.16808112e-02, 1.87681144e-04,\n",
              "        9.39788148e-02, 1.70515645e-02, 8.20429862e-01],\n",
              "       [2.31051072e-05, 2.11215559e-02, 2.97940612e-01, 5.23164915e-03,\n",
              "        2.54942123e-02, 5.44789135e-02, 5.95709920e-01],\n",
              "       [2.12354679e-03, 1.06414877e-01, 4.45342436e-02, 1.85901241e-03,\n",
              "        1.84673041e-01, 6.53605282e-01, 6.79003168e-03],\n",
              "       [9.41269900e-05, 2.77049094e-03, 9.48970439e-04, 8.90460372e-01,\n",
              "        4.06477222e-04, 1.05144091e-01, 1.75511595e-04],\n",
              "       [5.25324249e-05, 4.65755314e-02, 1.25207193e-03, 8.75813186e-01,\n",
              "        3.05085443e-02, 4.53928225e-02, 4.05315746e-04],\n",
              "       [8.97887920e-04, 1.29742939e-02, 1.85589946e-04, 6.08648777e-01,\n",
              "        5.90394763e-03, 3.70034307e-01, 1.35521707e-03],\n",
              "       [7.62339961e-03, 3.12310690e-03, 3.65715753e-03, 6.71329850e-04,\n",
              "        3.89982387e-03, 2.38887146e-02, 9.57136452e-01],\n",
              "       [5.14185242e-03, 5.48550533e-03, 9.62140560e-01, 3.04468645e-04,\n",
              "        1.16424006e-03, 9.21446085e-03, 1.65488217e-02],\n",
              "       [4.86387107e-05, 1.80155330e-03, 1.25519997e-02, 2.87446473e-02,\n",
              "        6.37204212e-04, 9.55421865e-01, 7.94065767e-04],\n",
              "       [2.10151135e-04, 1.68825760e-02, 4.05630879e-02, 2.65680254e-03,\n",
              "        3.32381763e-02, 2.95513365e-02, 8.76897931e-01],\n",
              "       [2.09927122e-04, 9.00816023e-02, 1.33150443e-03, 6.76787317e-01,\n",
              "        2.23612189e-02, 2.01292306e-01, 7.93621968e-03],\n",
              "       [9.38769779e-04, 2.90671196e-02, 9.13573522e-03, 6.50543511e-01,\n",
              "        1.66921446e-03, 2.69029289e-01, 3.96164693e-02],\n",
              "       [2.43373076e-03, 1.58858337e-02, 1.45523099e-03, 3.39677208e-04,\n",
              "        1.56261877e-03, 5.23420088e-02, 9.25980866e-01],\n",
              "       [2.27958357e-04, 8.61919671e-02, 1.81753200e-03, 7.34885633e-01,\n",
              "        2.53126863e-02, 1.28064036e-01, 2.35003103e-02],\n",
              "       [5.23352902e-03, 1.06849343e-01, 6.64889395e-01, 6.71163946e-03,\n",
              "        6.61301091e-02, 1.19966745e-01, 3.02191600e-02],\n",
              "       [3.95274833e-02, 7.54083768e-02, 5.97478896e-02, 4.45480458e-03,\n",
              "        1.14552081e-01, 5.58109343e-01, 1.48200095e-01],\n",
              "       [2.81049008e-03, 2.88843989e-01, 4.38489020e-03, 2.30326364e-03,\n",
              "        5.00052646e-02, 3.96404825e-02, 6.12011611e-01]], dtype=float32)"
            ]
          },
          "metadata": {},
          "execution_count": 41
        }
      ]
    },
    {
      "cell_type": "code",
      "source": [
        "y_pred_test_class "
      ],
      "metadata": {
        "colab": {
          "base_uri": "https://localhost:8080/"
        },
        "id": "ph-j4nBsAxjT",
        "outputId": "612c1191-977b-4c40-bed9-c0c76c219340"
      },
      "execution_count": 42,
      "outputs": [
        {
          "output_type": "execute_result",
          "data": {
            "text/plain": [
              "array([1, 3, 5, 6, 2, 1, 3, 0, 3, 6, 3, 3, 2, 2, 6, 2, 5, 6, 3, 6, 1, 1,\n",
              "       0, 5, 5, 2, 1, 0, 4, 6, 5, 1, 6, 3, 4, 2, 6, 4, 1, 5, 3, 0, 1, 3,\n",
              "       0, 1, 2, 6, 3, 1, 5, 5, 4, 4, 2, 2, 5, 5, 6, 3, 0, 6, 4, 4, 2, 2,\n",
              "       1, 0, 3, 6, 1, 1, 6, 2, 3, 5, 5, 4, 2, 5, 0, 1, 2, 3, 6, 4, 5, 3,\n",
              "       3, 5, 0, 3, 6, 1, 2, 5, 0, 3, 6, 0, 1, 6, 5, 2, 6, 2, 6, 6, 5, 3,\n",
              "       3, 3, 6, 2, 5, 6, 3, 3, 6, 3, 2, 5, 6])"
            ]
          },
          "metadata": {},
          "execution_count": 42
        }
      ]
    },
    {
      "cell_type": "markdown",
      "source": [
        "### Test Set Confusion Matrix and Heatmap"
      ],
      "metadata": {
        "id": "Epp2QpxsUVXH"
      }
    },
    {
      "cell_type": "code",
      "source": [
        "# Test set Confusion matrix\n",
        "\n",
        "cm=confusion_matrix(y_test_class, y_pred_test_class)\n",
        "\n",
        "index = ['calm', 'happy', 'sad', 'angry', 'fearful', 'disgust', 'surprised']  \n",
        "columns = ['calm', 'happy', 'sad', 'angry', 'fearful', 'disgust', 'surprised']  \n",
        " \n",
        "cm_df = pd.DataFrame(cm,index,columns)                      \n",
        "plt.figure(figsize=(12,8))\n",
        "ax = plt.axes()\n",
        "\n",
        "sns.heatmap(cm_df, ax = ax, cmap = 'BuGn', fmt=\"d\", annot=True)\n",
        "ax.set_ylabel('True emotion')\n",
        "ax.set_xlabel('Predicted emotion')"
      ],
      "metadata": {
        "colab": {
          "base_uri": "https://localhost:8080/",
          "height": 518
        },
        "id": "ukGrk_cagzyb",
        "outputId": "7f4684bb-907e-43cc-a436-dde07a118344"
      },
      "execution_count": 43,
      "outputs": [
        {
          "output_type": "execute_result",
          "data": {
            "text/plain": [
              "Text(0.5, 51.0, 'Predicted emotion')"
            ]
          },
          "metadata": {},
          "execution_count": 43
        },
        {
          "output_type": "display_data",
          "data": {
            "text/plain": [
              "<Figure size 864x576 with 2 Axes>"
            ],
            "image/png": "[encoded data removed]"
          },
          "metadata": {
            "needs_background": "light"
          }
        }
      ]
    },
    {
      "cell_type": "code",
      "source": [
        "# Confusion Matrix\n",
        "cm"
      ],
      "metadata": {
        "colab": {
          "base_uri": "https://localhost:8080/"
        },
        "id": "9f51xwUE8haF",
        "outputId": "11ead42c-17e2-478a-e75d-b40b23b248aa"
      },
      "execution_count": 44,
      "outputs": [
        {
          "output_type": "execute_result",
          "data": {
            "text/plain": [
              "array([[ 6,  1,  5,  1,  0,  2,  0],\n",
              "       [ 1,  4,  3,  2,  1,  1,  2],\n",
              "       [ 2,  1,  4,  2,  2,  1,  3],\n",
              "       [ 0,  0,  1, 10,  1,  5,  3],\n",
              "       [ 1,  5,  2,  3,  4,  2,  4],\n",
              "       [ 0,  2,  3,  3,  0,  6,  2],\n",
              "       [ 1,  3,  1,  3,  1,  3, 10]])"
            ]
          },
          "metadata": {},
          "execution_count": 44
        }
      ]
    },
    {
      "cell_type": "markdown",
      "source": [
        "### Test Set Predicted emotions accuracy"
      ],
      "metadata": {
        "id": "zil3CkweUX0q"
      }
    },
    {
      "cell_type": "code",
      "source": [
        "# Test set prediction accuracy rates\n",
        "\n",
        "values = cm.diagonal()\n",
        "row_sum = np.sum(cm,axis=1)\n",
        "acc = values / row_sum\n",
        "\n",
        "print('Test set predicted emotions accuracy:')\n",
        "for e in range(0, len(values)):\n",
        "    print(index[e],':', f\"{(acc[e]):0.4f}\")"
      ],
      "metadata": {
        "colab": {
          "base_uri": "https://localhost:8080/"
        },
        "id": "t_ORyGGig090",
        "outputId": "b7af8bc4-b41c-41af-8bad-f40e72e6b771"
      },
      "execution_count": 45,
      "outputs": [
        {
          "output_type": "stream",
          "name": "stdout",
          "text": [
            "Test set predicted emotions accuracy:\n",
            "calm : 0.4000\n",
            "happy : 0.2857\n",
            "sad : 0.2667\n",
            "angry : 0.5000\n",
            "fearful : 0.1905\n",
            "disgust : 0.3750\n",
            "surprised : 0.4545\n"
          ]
        }
      ]
    },
    {
      "cell_type": "markdown",
      "source": [
        "### Precision, Recal, Fscore"
      ],
      "metadata": {
        "id": "8Hzthv1t8kwd"
      }
    },
    {
      "cell_type": "code",
      "source": [
        "# Validation set precision, recall, fscore\n",
        "\n",
        "precision_recall_fscore_support(y_test_class, y_pred_test_class, average='macro')\n"
      ],
      "metadata": {
        "colab": {
          "base_uri": "https://localhost:8080/"
        },
        "id": "QnwWoVFnh33F",
        "outputId": "234d05a6-153b-4673-ec7c-c3b3edf28523"
      },
      "execution_count": 46,
      "outputs": [
        {
          "output_type": "execute_result",
          "data": {
            "text/plain": [
              "(0.36910837700311383, 0.3532003710575139, 0.350403901299042, None)"
            ]
          },
          "metadata": {},
          "execution_count": 46
        }
      ]
    },
    {
      "cell_type": "code",
      "source": [
        "precision_recall_fscore_support(y_test_class, y_pred_test_class, average='weighted')"
      ],
      "metadata": {
        "colab": {
          "base_uri": "https://localhost:8080/"
        },
        "id": "OlDhuPlqzwVB",
        "outputId": "a3cf41ad-1ee2-4801-8621-ceaa3c989026"
      },
      "execution_count": 47,
      "outputs": [
        {
          "output_type": "execute_result",
          "data": {
            "text/plain": [
              "(0.3778296443251514, 0.35772357723577236, 0.35589660029807235, None)"
            ]
          },
          "metadata": {},
          "execution_count": 47
        }
      ]
    },
    {
      "cell_type": "markdown",
      "source": [
        "### ROC AUC Score"
      ],
      "metadata": {
        "id": "sEuBd9IyLuiD"
      }
    },
    {
      "cell_type": "code",
      "source": [
        "ravdess_df = pd.read_csv (df_path)"
      ],
      "metadata": {
        "id": "8bb4OSmyTO6v"
      },
      "execution_count": 48,
      "outputs": []
    },
    {
      "cell_type": "code",
      "source": [
        "labels = [\"calm\", \"happy\", \"sad\", \"angry\", \"fear\", \"disgust\", \"suprised\"]"
      ],
      "metadata": {
        "id": "1leZ4JGVTfTp"
      },
      "execution_count": 49,
      "outputs": []
    },
    {
      "cell_type": "code",
      "source": [
        "y_test_adj = y_test.reshape(-1,)"
      ],
      "metadata": {
        "id": "MRm1ZwnxFStc"
      },
      "execution_count": 50,
      "outputs": []
    },
    {
      "cell_type": "code",
      "source": [
        "y_proba_test_class.shape"
      ],
      "metadata": {
        "colab": {
          "base_uri": "https://localhost:8080/"
        },
        "id": "O-IcYOABFjxB",
        "outputId": "525b416a-8add-4591-9711-e136e0063fa9"
      },
      "execution_count": 51,
      "outputs": [
        {
          "output_type": "execute_result",
          "data": {
            "text/plain": [
              "(123, 7)"
            ]
          },
          "metadata": {},
          "execution_count": 51
        }
      ]
    },
    {
      "cell_type": "code",
      "source": [
        "y_test.shape"
      ],
      "metadata": {
        "colab": {
          "base_uri": "https://localhost:8080/"
        },
        "id": "9AaqUY3PIlMQ",
        "outputId": "04730f2a-c98a-4d6e-ed44-24218e569096"
      },
      "execution_count": 52,
      "outputs": [
        {
          "output_type": "execute_result",
          "data": {
            "text/plain": [
              "(123, 1)"
            ]
          },
          "metadata": {},
          "execution_count": 52
        }
      ]
    },
    {
      "cell_type": "code",
      "source": [
        "y_test_adj"
      ],
      "metadata": {
        "colab": {
          "base_uri": "https://localhost:8080/"
        },
        "id": "7LgDudYTKInS",
        "outputId": "4fb23509-5d1e-48eb-c61c-379c2647574f"
      },
      "execution_count": 53,
      "outputs": [
        {
          "output_type": "execute_result",
          "data": {
            "text/plain": [
              "array([6, 3, 5, 4, 0, 4, 5, 4, 3, 6, 3, 4, 0, 5, 3, 0, 5, 5, 2, 6, 6, 0,\n",
              "       0, 2, 5, 0, 5, 0, 4, 1, 3, 6, 6, 5, 4, 2, 5, 4, 4, 5, 6, 0, 1, 2,\n",
              "       1, 1, 6, 2, 6, 4, 5, 6, 1, 2, 5, 1, 1, 4, 4, 1, 6, 3, 4, 2, 2, 2,\n",
              "       4, 0, 3, 6, 5, 1, 2, 4, 3, 0, 3, 6, 2, 6, 0, 4, 1, 3, 6, 3, 6, 4,\n",
              "       3, 3, 2, 5, 4, 1, 0, 3, 2, 3, 1, 0, 2, 6, 5, 4, 4, 3, 3, 6, 4, 0,\n",
              "       3, 4, 6, 5, 3, 2, 3, 1, 6, 6, 1, 0, 6], dtype=int8)"
            ]
          },
          "metadata": {},
          "execution_count": 53
        }
      ]
    },
    {
      "cell_type": "code",
      "source": [
        "\n",
        "\n",
        "macro_roc_auc_ovo = roc_auc_score(y_test_adj, y_proba_test_class, multi_class=\"ovo\", average=\"macro\")\n",
        "weighted_roc_auc_ovo = roc_auc_score(\n",
        "    y_test_adj, y_proba_test_class, multi_class=\"ovo\", average=\"weighted\"\n",
        ")\n",
        "macro_roc_auc_ovr = roc_auc_score(y_test_adj, y_proba_test_class, multi_class=\"ovr\", average=\"macro\")\n",
        "weighted_roc_auc_ovr = roc_auc_score(\n",
        "    y_test_adj, y_proba_test_class, multi_class=\"ovr\", average=\"weighted\"\n",
        ")\n"
      ],
      "metadata": {
        "id": "oMa4N8EhHlY9"
      },
      "execution_count": 54,
      "outputs": []
    },
    {
      "cell_type": "code",
      "source": [
        "print(\"One-vs-One ROC AUC scores:\\n{:.6f} (macro),\\n{:.6f} \" \"(weighted by prevalence)\\n\".format(macro_roc_auc_ovo, weighted_roc_auc_ovo))\n",
        "print(\"One-vs-Rest ROC AUC scores:\\n{:.6f} (macro),\\n{:.6f} \" \"(weighted by prevalence)\".format(macro_roc_auc_ovr, weighted_roc_auc_ovr))"
      ],
      "metadata": {
        "colab": {
          "base_uri": "https://localhost:8080/"
        },
        "id": "hhBLwtO_ICqL",
        "outputId": "d6062177-6875-470a-c5d1-4cb2039645bf"
      },
      "execution_count": 55,
      "outputs": [
        {
          "output_type": "stream",
          "name": "stdout",
          "text": [
            "One-vs-One ROC AUC scores:\n",
            "0.724083 (macro),\n",
            "0.723680 (weighted by prevalence)\n",
            "\n",
            "One-vs-Rest ROC AUC scores:\n",
            "0.725016 (macro),\n",
            "0.723419 (weighted by prevalence)\n"
          ]
        }
      ]
    }
  ]
}