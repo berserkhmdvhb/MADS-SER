{
  "metadata": {
    "kernelspec": {
      "language": "python",
      "display_name": "Python 3",
      "name": "python3"
    },
    "language_info": {
      "pygments_lexer": "ipython3",
      "nbconvert_exporter": "python",
      "version": "3.6.4",
      "file_extension": ".py",
      "codemirror_mode": {
        "name": "ipython",
        "version": 3
      },
      "name": "python",
      "mimetype": "text/x-python"
    },
    "colab": {
      "name": "SER-RAVDESS-model-GRU-OS-MEL-128.ipynb",
      "provenance": [],
      "collapsed_sections": []
    }
  },
  "nbformat_minor": 0,
  "nbformat": 4,
  "cells": [
    {
      "cell_type": "markdown",
      "source": [
        "# Imports"
      ],
      "metadata": {
        "id": "anSyerIFN7qd"
      }
    },
    {
      "cell_type": "code",
      "source": [
        "# Importing Libraries"
      ],
      "metadata": {
        "id": "IMFSwIuvKiw2"
      },
      "execution_count": 1,
      "outputs": []
    },
    {
      "cell_type": "code",
      "source": [
        "!pip install json-tricks"
      ],
      "metadata": {
        "colab": {
          "base_uri": "https://localhost:8080/"
        },
        "id": "bBR8aNsmM2tR",
        "outputId": "f25a2107-1dd2-4e88-ac9b-282e28e353f1"
      },
      "execution_count": 2,
      "outputs": [
        {
          "output_type": "stream",
          "name": "stdout",
          "text": [
            "Looking in indexes: https://pypi.org/simple, https://us-python.pkg.dev/colab-wheels/public/simple/\n",
            "Collecting json-tricks\n",
            "  Downloading json_tricks-3.15.5-py2.py3-none-any.whl (26 kB)\n",
            "Installing collected packages: json-tricks\n",
            "Successfully installed json-tricks-3.15.5\n"
          ]
        }
      ]
    },
    {
      "cell_type": "code",
      "source": [
        "import pandas as pd\n",
        "import numpy as np\n",
        "\n",
        "import os\n",
        "import sys\n",
        "\n",
        "import librosa\n",
        "import librosa.display\n",
        "#from pydub import AudioSegment, effects\n",
        "#import noisereduce as nr\n",
        "\n",
        "\n",
        "import seaborn as sns\n",
        "import matplotlib.pyplot as plt\n",
        "from IPython.display import Audio\n",
        "\n",
        "import tensorflow as tf\n",
        "import keras\n",
        "import sklearn\n",
        "\n",
        "\n",
        "from tensorflow.keras.models import Sequential, Model\n",
        "from tensorflow.keras.layers import Dense, LSTM, Flatten, Dropout, BatchNormalization\n",
        "from tensorflow.keras.callbacks import ModelCheckpoint, EarlyStopping, ReduceLROnPlateau\n",
        "from tensorflow.keras.optimizers import Adam, SGD\n",
        "from tensorflow.keras.utils import to_categorical, plot_model\n",
        "\n",
        "\n",
        "from keras.models import Sequential, model_from_json, load_model\n",
        "from keras import layers\n",
        "from keras import optimizers\n",
        "from keras import callbacks\n",
        "\n",
        "from sklearn.preprocessing import StandardScaler, OneHotEncoder, LabelEncoder\n",
        "from sklearn.metrics import confusion_matrix, classification_report, precision_recall_fscore_support, roc_auc_score\n",
        "from sklearn.model_selection import train_test_split, StratifiedShuffleSplit\n",
        "from sklearn.multiclass import OneVsRestClassifier\n",
        "\n",
        "\n",
        "from tqdm import tqdm\n",
        "\n",
        "\n",
        "from json_tricks import dump, load\n",
        "\n",
        "\n",
        "\n",
        "import warnings\n",
        "if not sys.warnoptions:\n",
        "    warnings.simplefilter(\"ignore\")\n",
        "warnings.filterwarnings(\"ignore\", category=DeprecationWarning) \n",
        "\n",
        "import time\n",
        "tic = time.perf_counter()\n",
        "\n",
        "\n",
        "from sklearn.preprocessing import MinMaxScaler\n"
      ],
      "metadata": {
        "id": "77IS8HxqFFCA"
      },
      "execution_count": 3,
      "outputs": []
    },
    {
      "cell_type": "code",
      "source": [
        ""
      ],
      "metadata": {
        "id": "gGYqBIk0FGm4"
      },
      "execution_count": 3,
      "outputs": []
    },
    {
      "cell_type": "markdown",
      "source": [
        "# Dataset"
      ],
      "metadata": {
        "id": "nyMzoZKKKiw6"
      }
    },
    {
      "cell_type": "code",
      "source": [
        "from google.colab import drive\n",
        "drive.mount('/content/drive')"
      ],
      "metadata": {
        "colab": {
          "base_uri": "https://localhost:8080/"
        },
        "id": "JFPDGXmwCBs_",
        "outputId": "97da1dd8-6aea-49b3-cb66-77f78c200dbd"
      },
      "execution_count": 4,
      "outputs": [
        {
          "output_type": "stream",
          "name": "stdout",
          "text": [
            "Mounted at /content/drive\n"
          ]
        }
      ]
    },
    {
      "cell_type": "code",
      "source": [
        "#Crema = \"/content/drive/MyDrive/datasets/speech/CREMAD/sample/\"\n",
        "#Crema = \"/content/drive/MyDrive/datasets/speech/CREMAD/AudioWAV/\"\n",
        "Ravdess = \"/content/drive/MyDrive/datasets/speech/RAVDESS/data/Audio_Speech_Actors_01-24\"\n",
        "Ravdess_processed = \"/content/drive/MyDrive/datasets/speech/RAVDESS/processedData/onlySpeech/\"\n",
        "Ravdess_speech_sample = \"/content/drive/MyDrive/datasets/speech/RAVDESS/data/Audio_Speech_Actors_01-24/\"\n",
        "df_path = \"/content/drive/MyDrive/datasets/speech/RAVDESS/ravdess_df_onlySpeech.csv\"\n",
        "model_path = Ravdess + \"/model/\"\n",
        "\n",
        "checkpoint_path = model_path + \"best_weights-os-GRU-1.hdf5\"\n",
        "saved_model_path = model_path + 'model8723-os-GRU-1.json'\n",
        "\n",
        "saved_weights_path = model_path + 'model8723_weights-os-GRU-1.h5'\n",
        "saved_model_path_2 = model_path + 'Speech-Emotion-Recognition-Model-os-GRU-1.h5'"
      ],
      "metadata": {
        "execution": {
          "iopub.status.busy": "2021-06-21T09:35:38.093538Z",
          "iopub.execute_input": "2021-06-21T09:35:38.093869Z",
          "iopub.status.idle": "2021-06-21T09:35:38.097467Z",
          "shell.execute_reply.started": "2021-06-21T09:35:38.093838Z",
          "shell.execute_reply": "2021-06-21T09:35:38.096608Z"
        },
        "trusted": true,
        "id": "vR2GjHL4Kiw7"
      },
      "execution_count": 5,
      "outputs": []
    },
    {
      "cell_type": "code",
      "source": [
        ""
      ],
      "metadata": {
        "id": "J2T6JxzIF2Jq"
      },
      "execution_count": 5,
      "outputs": []
    },
    {
      "cell_type": "code",
      "source": [
        "##Hypter Parameters' Range\n",
        "params = {\n",
        "    \"batch_size\": 20,  # 20<16<10, 25 was a bust\n",
        "    \"epochs\": 300,\n",
        "    \"lr\": 0.00010000,\n",
        "    \"time_steps\": 60\n",
        "}\n",
        "#TIME_STEPS = params[\"time_steps\"]\n",
        "#BATCH_SIZE = params[\"batch_size\"]\n",
        "#iter_changes = \"dropout_layers_0.4_0.4\"\n"
      ],
      "metadata": {
        "id": "jnEd5_Vvy4ue"
      },
      "execution_count": 6,
      "outputs": []
    },
    {
      "cell_type": "code",
      "source": [
        ""
      ],
      "metadata": {
        "id": "dKXM0xT-N8uy"
      },
      "execution_count": 6,
      "outputs": []
    },
    {
      "cell_type": "markdown",
      "source": [
        "# Load Processed Files, Construct Train, Validation and Test Sets"
      ],
      "metadata": {
        "id": "fse_mTpaOGdQ"
      }
    },
    {
      "cell_type": "code",
      "source": [
        "\n",
        "processed_path = Ravdess_processed\n",
        "x_path = processed_path + \"X_features.json\" # FILE LOAD PATH\n",
        "y_path =  processed_path + \"Y_labels.json\" # FILE SAVE PATH\n",
        "#x_path = '/content/drive/MyDrive/datasets/speech/RAVDESS/processedData/X_features.json'\n",
        "\n",
        "# Load X,Y json files back into lists, convert to np.arrays\n",
        "\n",
        "X = load(x_path)\n",
        "X = np.asarray(X, dtype = 'float32')\n",
        "\n",
        "Y = load(y_path)\n",
        "Y = np.asarray(Y, dtype = 'int8')"
      ],
      "metadata": {
        "id": "101BpvWgN8xX"
      },
      "execution_count": 7,
      "outputs": []
    },
    {
      "cell_type": "code",
      "source": [
        "# Split to train, validation, and test sets.\n",
        "from sklearn.model_selection import train_test_split\n",
        "# 1st Split: X,Y => (x_train, x_tosplit) (y_train, y_tosplit)\n",
        "x_train, x_tosplit, y_train, y_tosplit = train_test_split(X, Y, test_size = 0.30, random_state = 1)\n",
        "# 2nd Split: x_tosplit,y_tosplit => (x_val, x_test) (y_val, y_test) \n",
        "x_val, x_test, y_val, y_test = train_test_split(x_tosplit, y_tosplit, test_size = 0.304, random_state = 1)\n",
        "#'One-hot' vectors for Y: emotion classification\n",
        "y_train_class = tf.keras.utils.to_categorical(y_train, 7, dtype = 'int8')\n",
        "y_val_class = tf.keras.utils.to_categorical(y_val, 7, dtype = 'int8')"
      ],
      "metadata": {
        "id": "CuF9M1mfOD7X"
      },
      "execution_count": 8,
      "outputs": []
    },
    {
      "cell_type": "code",
      "source": [
        "# Normalize using MinMaxScaler\n",
        "\n",
        "#scaler = MinMaxScaler()\n",
        "\n",
        "#X_train = scaler.fit_transform(x_train.reshape(-1, x_train.shape[-1])).reshape(x_train.shape)\n",
        "#X_Val = scaler.fit_transform(x_val.reshape(-1, x_val.shape[-1])).reshape(x_val.shape)\n",
        "#X_test = scaler.transform(x_test.reshape(-1, x_test.shape[-1])).reshape(x_test.shape)"
      ],
      "metadata": {
        "id": "zBs8Y2ZlWY_5"
      },
      "execution_count": 9,
      "outputs": []
    },
    {
      "cell_type": "code",
      "source": [
        "X_train = x_train\n",
        "X_val = x_val\n",
        "X_test = x_test"
      ],
      "metadata": {
        "id": "Acf0v-2jsdOx"
      },
      "execution_count": 10,
      "outputs": []
    },
    {
      "cell_type": "code",
      "source": [
        "# x_train, x_val, and x_test shape check.\n",
        "print(np.shape(X_train))\n",
        "print(np.shape(X_val))\n",
        "print(np.shape(X_test))"
      ],
      "metadata": {
        "colab": {
          "base_uri": "https://localhost:8080/"
        },
        "id": "od-D1YgBOGXs",
        "outputId": "f9c76ee7-daf5-4f6c-f4f7-698b7bcdca3a"
      },
      "execution_count": 11,
      "outputs": [
        {
          "output_type": "stream",
          "name": "stdout",
          "text": [
            "(940, 448, 153)\n",
            "(281, 448, 153)\n",
            "(123, 448, 153)\n"
          ]
        }
      ]
    },
    {
      "cell_type": "code",
      "source": [
        "# Save x_test, y_test to JSON.\n",
        "\n",
        "x_test_path = processed_path + 'x_test_data.json'\n",
        "dump(obj = X_test, fp = x_test_path)\n",
        "\n",
        "y_test_path = processed_path + 'y_test_data.json'\n",
        "dump(obj = y_test, fp = y_test_path)"
      ],
      "metadata": {
        "colab": {
          "base_uri": "https://localhost:8080/",
          "height": 105
        },
        "id": "nTExHJVsOHQ5",
        "outputId": "ec429b61-b6c3-405a-f067-aed7d9e0e6ba"
      },
      "execution_count": 12,
      "outputs": [
        {
          "output_type": "execute_result",
          "data": {
            "text/plain": [
              "'{\"__ndarray__\": [[6], [3], [5], [4], [0], [4], [5], [4], [3], [6], [3], [4], [0], [5], [3], [0], [5], [5], [2], [6], [6], [0], [0], [2], [5], [0], [5], [0], [4], [1], [3], [6], [6], [5], [4], [2], [5], [4], [4], [5], [6], [0], [1], [2], [1], [1], [6], [2], [6], [4], [5], [6], [1], [2], [5], [1], [1], [4], [4], [1], [6], [3], [4], [2], [2], [2], [4], [0], [3], [6], [5], [1], [2], [4], [3], [0], [3], [6], [2], [6], [0], [4], [1], [3], [6], [3], [6], [4], [3], [3], [2], [5], [4], [1], [0], [3], [2], [3], [1], [0], [2], [6], [5], [4], [4], [3], [3], [6], [4], [0], [3], [4], [6], [5], [3], [2], [3], [1], [6], [6], [1], [0], [6]], \"dtype\": \"int8\", \"shape\": [123, 1], \"Corder\": true}'"
            ],
            "application/vnd.google.colaboratory.intrinsic+json": {
              "type": "string"
            }
          },
          "metadata": {},
          "execution_count": 12
        }
      ]
    },
    {
      "cell_type": "code",
      "source": [
        "# Loading x_test, y_test json files, and converting to np.arrays\n",
        "\n",
        "X_test = load(processed_path + 'x_test_data.json')\n",
        "X_test = np.asarray(X_test).astype('float32')\n",
        "\n",
        "y_test = load(processed_path + 'y_test_data.json')\n",
        "y_test = np.asarray(y_test).astype('int8')\n",
        "\n",
        "y_test_class = tf.keras.utils.to_categorical(y_test, 7, dtype = 'int8')"
      ],
      "metadata": {
        "id": "kAFBRsmk5dzm"
      },
      "execution_count": 13,
      "outputs": []
    },
    {
      "cell_type": "code",
      "source": [
        "X.shape"
      ],
      "metadata": {
        "id": "15joCR4gu4r7",
        "colab": {
          "base_uri": "https://localhost:8080/"
        },
        "outputId": "72c8e5d0-96de-4c94-ae2b-9dffb6a79d47"
      },
      "execution_count": 14,
      "outputs": [
        {
          "output_type": "execute_result",
          "data": {
            "text/plain": [
              "(1344, 448, 153)"
            ]
          },
          "metadata": {},
          "execution_count": 14
        }
      ]
    },
    {
      "cell_type": "code",
      "source": [
        "X.shape[1:3]"
      ],
      "metadata": {
        "colab": {
          "base_uri": "https://localhost:8080/"
        },
        "id": "8MQhoPKjEzi4",
        "outputId": "e7d4f340-5515-4ee6-a0be-e85e3489df10"
      },
      "execution_count": 15,
      "outputs": [
        {
          "output_type": "execute_result",
          "data": {
            "text/plain": [
              "(448, 153)"
            ]
          },
          "metadata": {},
          "execution_count": 15
        }
      ]
    },
    {
      "cell_type": "code",
      "source": [
        "X_train.shape"
      ],
      "metadata": {
        "colab": {
          "base_uri": "https://localhost:8080/"
        },
        "id": "LxZyszASamnQ",
        "outputId": "332a152a-e251-479b-c597-457978573485"
      },
      "execution_count": 16,
      "outputs": [
        {
          "output_type": "execute_result",
          "data": {
            "text/plain": [
              "(940, 448, 153)"
            ]
          },
          "metadata": {},
          "execution_count": 16
        }
      ]
    },
    {
      "cell_type": "markdown",
      "source": [
        "# RNN Model"
      ],
      "metadata": {
        "id": "gnWVMbR6KixC"
      }
    },
    {
      "cell_type": "code",
      "source": [
        "tic"
      ],
      "metadata": {
        "colab": {
          "base_uri": "https://localhost:8080/"
        },
        "id": "7CHZWdfcN8oo",
        "outputId": "1e01a08f-b659-420b-ba66-c33088e4015a"
      },
      "execution_count": 17,
      "outputs": [
        {
          "output_type": "execute_result",
          "data": {
            "text/plain": [
              "76.220985513"
            ]
          },
          "metadata": {},
          "execution_count": 17
        }
      ]
    },
    {
      "cell_type": "markdown",
      "source": [
        "## Define Model & Training"
      ],
      "metadata": {
        "id": "GJjJYnJQORJ8"
      }
    },
    {
      "cell_type": "code",
      "source": [
        "# Initializing the model\n",
        "\n",
        "model = Sequential()\n",
        "model.add(layers.GRU(128, return_sequences = True, input_shape=(X.shape[1:3])))\n",
        "model.add(layers.GRU(64))\n",
        "\n",
        "model.add(layers.Dense(7, activation = 'softmax'))\n",
        "print(model.summary())\n",
        "\n",
        "batch_size = 23\n",
        "\n",
        "# Callbacks functions\n",
        "\n",
        "#-> EearlyStopping\n",
        "es = EarlyStopping(monitor='val_loss', mode='min', verbose=1,\n",
        "                    patience=10, min_delta=0.0001)\n",
        "\n",
        "\n",
        "#-> Save the best weights\n",
        "mcp_save = callbacks.ModelCheckpoint(checkpoint_path, save_best_only=True,\n",
        "                           monitor='val_categorical_accuracy',\n",
        "                           mode='max')\n",
        "#-> Reduce learning rate after 100 epoches without improvement.\n",
        "rlrop = callbacks.ReduceLROnPlateau(monitor='val_categorical_accuracy', \n",
        "                                    factor=0.1, patience=20)\n",
        "                             \n",
        "# Compile & train   \n",
        "model.compile(loss='categorical_crossentropy', \n",
        "                optimizer='RMSProp', \n",
        "                metrics=['categorical_accuracy'])\n",
        "\n",
        "\n"
      ],
      "metadata": {
        "colab": {
          "base_uri": "https://localhost:8080/"
        },
        "id": "aD2adyVGOJs4",
        "outputId": "f920859a-0fc5-479b-baec-886d86ec4af5"
      },
      "execution_count": 18,
      "outputs": [
        {
          "output_type": "stream",
          "name": "stdout",
          "text": [
            "Model: \"sequential\"\n",
            "_________________________________________________________________\n",
            " Layer (type)                Output Shape              Param #   \n",
            "=================================================================\n",
            " gru (GRU)                   (None, 448, 128)          108672    \n",
            "                                                                 \n",
            " gru_1 (GRU)                 (None, 64)                37248     \n",
            "                                                                 \n",
            " dense (Dense)               (None, 7)                 455       \n",
            "                                                                 \n",
            "=================================================================\n",
            "Total params: 146,375\n",
            "Trainable params: 146,375\n",
            "Non-trainable params: 0\n",
            "_________________________________________________________________\n",
            "None\n"
          ]
        }
      ]
    },
    {
      "cell_type": "code",
      "source": [
        ""
      ],
      "metadata": {
        "id": "4DBF6kqx-OHZ"
      },
      "execution_count": 18,
      "outputs": []
    },
    {
      "cell_type": "code",
      "source": [
        "history = model.fit(X_train, y_train_class, \n",
        "                      epochs=340, batch_size = batch_size, \n",
        "                      validation_data = (X_val, y_val_class), \n",
        "                      callbacks = [es, mcp_save, rlrop])\n",
        "toc = time.perf_counter()"
      ],
      "metadata": {
        "colab": {
          "base_uri": "https://localhost:8080/"
        },
        "id": "Da7Gc9x_izth",
        "outputId": "72f9fceb-fcf4-4dda-af46-18526708a8a5"
      },
      "execution_count": 19,
      "outputs": [
        {
          "output_type": "stream",
          "name": "stdout",
          "text": [
            "Epoch 1/340\n",
            "41/41 [==============================] - 35s 761ms/step - loss: 1.8019 - categorical_accuracy: 0.3000 - val_loss: 1.6588 - val_categorical_accuracy: 0.3310 - lr: 0.0010\n",
            "Epoch 2/340\n",
            "41/41 [==============================] - 28s 686ms/step - loss: 1.5736 - categorical_accuracy: 0.4085 - val_loss: 1.6368 - val_categorical_accuracy: 0.3310 - lr: 0.0010\n",
            "Epoch 3/340\n",
            "41/41 [==============================] - 30s 726ms/step - loss: 1.5002 - categorical_accuracy: 0.4213 - val_loss: 1.6593 - val_categorical_accuracy: 0.3416 - lr: 0.0010\n",
            "Epoch 4/340\n",
            "41/41 [==============================] - 28s 692ms/step - loss: 1.4659 - categorical_accuracy: 0.4319 - val_loss: 1.6253 - val_categorical_accuracy: 0.3381 - lr: 0.0010\n",
            "Epoch 5/340\n",
            "41/41 [==============================] - 29s 707ms/step - loss: 1.4143 - categorical_accuracy: 0.4511 - val_loss: 1.6254 - val_categorical_accuracy: 0.3594 - lr: 0.0010\n",
            "Epoch 6/340\n",
            "41/41 [==============================] - 29s 703ms/step - loss: 1.3671 - categorical_accuracy: 0.4755 - val_loss: 1.6305 - val_categorical_accuracy: 0.3772 - lr: 0.0010\n",
            "Epoch 7/340\n",
            "41/41 [==============================] - 29s 701ms/step - loss: 1.3434 - categorical_accuracy: 0.4926 - val_loss: 1.5455 - val_categorical_accuracy: 0.3986 - lr: 0.0010\n",
            "Epoch 8/340\n",
            "41/41 [==============================] - 28s 689ms/step - loss: 1.2757 - categorical_accuracy: 0.5160 - val_loss: 1.6424 - val_categorical_accuracy: 0.3737 - lr: 0.0010\n",
            "Epoch 9/340\n",
            "41/41 [==============================] - 30s 732ms/step - loss: 1.2339 - categorical_accuracy: 0.5426 - val_loss: 1.6110 - val_categorical_accuracy: 0.3879 - lr: 0.0010\n",
            "Epoch 10/340\n",
            "41/41 [==============================] - 29s 715ms/step - loss: 1.2206 - categorical_accuracy: 0.5553 - val_loss: 1.5940 - val_categorical_accuracy: 0.4093 - lr: 0.0010\n",
            "Epoch 11/340\n",
            "41/41 [==============================] - 29s 699ms/step - loss: 1.1667 - categorical_accuracy: 0.5723 - val_loss: 1.5810 - val_categorical_accuracy: 0.3915 - lr: 0.0010\n",
            "Epoch 12/340\n",
            "41/41 [==============================] - 28s 695ms/step - loss: 1.1053 - categorical_accuracy: 0.5872 - val_loss: 1.7045 - val_categorical_accuracy: 0.3630 - lr: 0.0010\n",
            "Epoch 13/340\n",
            "41/41 [==============================] - 28s 690ms/step - loss: 1.0517 - categorical_accuracy: 0.6255 - val_loss: 1.6441 - val_categorical_accuracy: 0.4057 - lr: 0.0010\n",
            "Epoch 14/340\n",
            "41/41 [==============================] - 29s 701ms/step - loss: 1.0219 - categorical_accuracy: 0.6277 - val_loss: 1.6270 - val_categorical_accuracy: 0.3879 - lr: 0.0010\n",
            "Epoch 15/340\n",
            "41/41 [==============================] - 28s 693ms/step - loss: 0.9759 - categorical_accuracy: 0.6447 - val_loss: 1.6646 - val_categorical_accuracy: 0.3879 - lr: 0.0010\n",
            "Epoch 16/340\n",
            "41/41 [==============================] - 29s 712ms/step - loss: 0.9493 - categorical_accuracy: 0.6564 - val_loss: 1.6659 - val_categorical_accuracy: 0.4199 - lr: 0.0010\n",
            "Epoch 17/340\n",
            "41/41 [==============================] - 28s 694ms/step - loss: 0.9068 - categorical_accuracy: 0.6691 - val_loss: 1.6201 - val_categorical_accuracy: 0.4093 - lr: 0.0010\n",
            "Epoch 17: early stopping\n"
          ]
        }
      ]
    },
    {
      "cell_type": "code",
      "source": [
        ""
      ],
      "metadata": {
        "id": "3MekXCZHizyZ"
      },
      "execution_count": 19,
      "outputs": []
    },
    {
      "cell_type": "code",
      "source": [
        "print(f\"Running time: {(toc - tic)/60:0.4f} minutes\")"
      ],
      "metadata": {
        "id": "cHmSBRhVOELJ",
        "colab": {
          "base_uri": "https://localhost:8080/"
        },
        "outputId": "21e24654-f7ff-4ccc-89b9-073105e3f4cd"
      },
      "execution_count": 20,
      "outputs": [
        {
          "output_type": "stream",
          "name": "stdout",
          "text": [
            "Running time: 12.6678 minutes\n"
          ]
        }
      ]
    },
    {
      "cell_type": "markdown",
      "source": [
        "## Loading Model"
      ],
      "metadata": {
        "id": "jCQelzMAKixD"
      }
    },
    {
      "cell_type": "code",
      "source": [
        "# Define the best weights to the model.\\\n",
        "#model.load_weights(checkpoint_path)"
      ],
      "metadata": {
        "id": "gruZAW2wI-tO"
      },
      "execution_count": 21,
      "outputs": []
    },
    {
      "cell_type": "markdown",
      "source": [
        "# Evaluation"
      ],
      "metadata": {
        "id": "kDxTjEK0KixD"
      }
    },
    {
      "cell_type": "markdown",
      "source": [
        "## Save & Load model, weights"
      ],
      "metadata": {
        "id": "1YfguG0tPatV"
      }
    },
    {
      "cell_type": "code",
      "source": [
        "# Saving model & weights\n",
        "model_json = model.to_json()\n",
        "\n",
        "\n",
        "\n",
        "with open(saved_model_path, \"w\") as json_file:\n",
        "    json_file.write(model_json)\n",
        "    \n",
        "model.save_weights(saved_weights_path)\n",
        "print(\"Saved model to disk\")"
      ],
      "metadata": {
        "colab": {
          "base_uri": "https://localhost:8080/"
        },
        "id": "MsVoNhqmgGsK",
        "outputId": "2b3a69b0-f522-4684-ddfb-3b06b66dd60a"
      },
      "execution_count": 22,
      "outputs": [
        {
          "output_type": "stream",
          "name": "stdout",
          "text": [
            "Saved model to disk\n"
          ]
        }
      ]
    },
    {
      "cell_type": "code",
      "source": [
        "# Reading the model from JSON file\n",
        "#model_path = Ravdess + \"/model/\"\n",
        "#saved_model_path = model_path + 'model8723.json'\n",
        "#saved_weights_path = model_path + 'model8723_weights.h5'\n",
        "\n",
        "\n",
        "with open(saved_model_path , 'r') as json_file:\n",
        "    json_savedModel = json_file.read()\n",
        "    \n",
        "# Loading the model architecture, weights\n",
        "model = tf.keras.models.model_from_json(json_savedModel)\n",
        "model.load_weights(saved_weights_path)\n",
        "\n",
        "# Compiling the model with similar parameters as the original model.\n",
        "model.compile(loss='categorical_crossentropy', \n",
        "                optimizer='RMSProp', \n",
        "                metrics=['categorical_accuracy'])\n",
        "\n",
        "# Model's structure visualization\n",
        "tf.keras.utils.plot_model(model, to_file='model.png', show_shapes=True, show_layer_names=True)"
      ],
      "metadata": {
        "colab": {
          "base_uri": "https://localhost:8080/",
          "height": 422
        },
        "id": "y4OJGhLmgfX6",
        "outputId": "dae9edf9-dc9a-4aff-bbb6-e2633bd7dbb8"
      },
      "execution_count": 23,
      "outputs": [
        {
          "output_type": "execute_result",
          "data": {
            "text/plain": [
              "<IPython.core.display.Image object>"
            ],
            "image/png": "[encoded data removed]"
          },
          "metadata": {},
          "execution_count": 23
        }
      ]
    },
    {
      "cell_type": "code",
      "source": [
        ""
      ],
      "metadata": {
        "id": "B_SW6eUAgvEj"
      },
      "execution_count": 23,
      "outputs": []
    },
    {
      "cell_type": "code",
      "source": [
        ""
      ],
      "metadata": {
        "id": "cCfkUXTYgzSB"
      },
      "execution_count": 23,
      "outputs": []
    },
    {
      "cell_type": "code",
      "source": [
        "model.save(saved_model_path_2)"
      ],
      "metadata": {
        "trusted": true,
        "id": "Z5Uzb_bGKixE"
      },
      "execution_count": 24,
      "outputs": []
    },
    {
      "cell_type": "markdown",
      "source": [
        "## Train (fit) Visualization"
      ],
      "metadata": {
        "id": "ATvBW0SPO-eq"
      }
    },
    {
      "cell_type": "code",
      "source": [
        "# Loss, Accuracy presentation\n",
        "\n",
        "# Plot history: Loss\n",
        "plt.plot(history.history['loss'], label='Loss (training data)')\n",
        "plt.plot(history.history['val_loss'], label='Loss (validation data)')\n",
        "plt.title('Loss for train and validation')\n",
        "plt.ylabel('Loss value')\n",
        "plt.xlabel('No. epoch')\n",
        "plt.legend(loc=\"upper left\")\n",
        "plt.show()\n",
        "\n",
        "#Plot history: Accuracy\n",
        "plt.plot(history.history['categorical_accuracy'], label='Acc (training data)')\n",
        "plt.plot(history.history['val_categorical_accuracy'], label='Acc (validation data)')\n",
        "plt.title('Model accuracy')\n",
        "plt.ylabel('Acc %')\n",
        "plt.xlabel('No. epoch')\n",
        "plt.legend(loc=\"upper left\")\n",
        "plt.show()"
      ],
      "metadata": {
        "colab": {
          "base_uri": "https://localhost:8080/",
          "height": 573
        },
        "id": "UjhUHhU_f4EY",
        "outputId": "310405a1-5e95-4757-d6e8-fe0ddb5363d5"
      },
      "execution_count": 25,
      "outputs": [
        {
          "output_type": "display_data",
          "data": {
            "text/plain": [
              "<Figure size 432x288 with 1 Axes>"
            ],
            "image/png": "[encoded data removed]"
          },
          "metadata": {
            "needs_background": "light"
          }
        },
        {
          "output_type": "display_data",
          "data": {
            "text/plain": [
              "<Figure size 432x288 with 1 Axes>"
            ],
            "image/png": "[encoded data removed]"
          },
          "metadata": {
            "needs_background": "light"
          }
        }
      ]
    },
    {
      "cell_type": "markdown",
      "source": [
        "## Validation Set Evaluation"
      ],
      "metadata": {
        "id": "UZ3lFduxPQeB"
      }
    },
    {
      "cell_type": "markdown",
      "source": [
        "### Val Set Score"
      ],
      "metadata": {
        "id": "5YoYCa22PMGz"
      }
    },
    {
      "cell_type": "code",
      "source": [
        ""
      ],
      "metadata": {
        "id": "jQavrzbB_8fy"
      },
      "execution_count": 25,
      "outputs": []
    },
    {
      "cell_type": "code",
      "source": [
        "# Validation score\n",
        "loss,acc = model.evaluate(X_val, y_val_class, verbose=2)\n"
      ],
      "metadata": {
        "id": "X_KdTUyrf7-j",
        "colab": {
          "base_uri": "https://localhost:8080/"
        },
        "outputId": "f5acd7d9-820e-40ba-9ea3-2ddc30574291"
      },
      "execution_count": 26,
      "outputs": [
        {
          "output_type": "stream",
          "name": "stdout",
          "text": [
            "9/9 - 2s - loss: 1.6201 - categorical_accuracy: 0.4093 - 2s/epoch - 257ms/step\n"
          ]
        }
      ]
    },
    {
      "cell_type": "code",
      "source": [
        ""
      ],
      "metadata": {
        "id": "09k_I9DM_2Q0"
      },
      "execution_count": 26,
      "outputs": []
    },
    {
      "cell_type": "markdown",
      "source": [
        "### Construct Predicted Labels based on Probability of each class"
      ],
      "metadata": {
        "id": "hz7nc15A_3hb"
      }
    },
    {
      "cell_type": "code",
      "source": [
        "y_val_class"
      ],
      "metadata": {
        "colab": {
          "base_uri": "https://localhost:8080/"
        },
        "id": "CFM1P2SZ_85N",
        "outputId": "b30320a1-74e2-4e45-8d56-feff4e88f021"
      },
      "execution_count": 27,
      "outputs": [
        {
          "output_type": "execute_result",
          "data": {
            "text/plain": [
              "array([[0, 0, 0, ..., 0, 0, 1],\n",
              "       [0, 1, 0, ..., 0, 0, 0],\n",
              "       [0, 0, 0, ..., 0, 1, 0],\n",
              "       ...,\n",
              "       [0, 0, 0, ..., 0, 0, 1],\n",
              "       [0, 0, 0, ..., 0, 0, 1],\n",
              "       [0, 0, 1, ..., 0, 0, 0]], dtype=int8)"
            ]
          },
          "metadata": {},
          "execution_count": 27
        }
      ]
    },
    {
      "cell_type": "code",
      "source": [
        "np.argmax(y_val_class, axis=1)"
      ],
      "metadata": {
        "colab": {
          "base_uri": "https://localhost:8080/"
        },
        "id": "C9UHSeXbAASy",
        "outputId": "35296afe-381f-481f-bdd2-a4029cdaa98c"
      },
      "execution_count": 28,
      "outputs": [
        {
          "output_type": "execute_result",
          "data": {
            "text/plain": [
              "array([6, 1, 5, 3, 5, 5, 2, 5, 0, 4, 5, 1, 5, 5, 2, 1, 0, 1, 4, 5, 3, 6,\n",
              "       0, 2, 2, 4, 6, 5, 1, 4, 0, 5, 2, 3, 1, 6, 5, 2, 1, 0, 3, 4, 0, 5,\n",
              "       3, 3, 0, 6, 4, 6, 0, 3, 3, 3, 4, 5, 3, 2, 3, 6, 1, 0, 3, 2, 4, 4,\n",
              "       6, 2, 4, 0, 5, 5, 1, 2, 0, 5, 5, 3, 4, 6, 4, 2, 2, 3, 6, 0, 0, 3,\n",
              "       2, 5, 1, 4, 1, 0, 6, 3, 6, 1, 2, 6, 6, 2, 0, 5, 1, 5, 4, 0, 5, 2,\n",
              "       0, 5, 0, 6, 2, 3, 3, 2, 2, 2, 0, 1, 5, 2, 5, 3, 2, 0, 3, 3, 3, 2,\n",
              "       0, 3, 0, 6, 3, 3, 3, 1, 0, 3, 6, 5, 6, 4, 0, 2, 6, 2, 1, 1, 4, 6,\n",
              "       0, 2, 1, 1, 3, 0, 6, 6, 2, 0, 1, 5, 5, 4, 5, 5, 0, 2, 4, 4, 6, 4,\n",
              "       3, 6, 2, 3, 2, 3, 0, 1, 0, 3, 1, 5, 2, 1, 6, 0, 4, 1, 6, 2, 0, 0,\n",
              "       6, 0, 0, 2, 5, 5, 1, 2, 3, 2, 2, 2, 4, 3, 5, 3, 1, 0, 2, 0, 2, 4,\n",
              "       6, 1, 0, 6, 5, 6, 4, 0, 0, 4, 5, 3, 2, 6, 2, 6, 3, 5, 3, 1, 5, 6,\n",
              "       5, 1, 2, 1, 6, 0, 5, 3, 2, 1, 6, 3, 0, 1, 3, 6, 3, 2, 2, 4, 6, 4,\n",
              "       3, 2, 2, 5, 5, 4, 1, 3, 6, 5, 3, 0, 3, 4, 6, 6, 2])"
            ]
          },
          "metadata": {},
          "execution_count": 28
        }
      ]
    },
    {
      "cell_type": "code",
      "source": [
        "y_val_class = np.argmax(y_val_class, axis=1)\n",
        "predictions_val = model.predict(X_val)\n",
        "y_proba_val_class = predictions_val\n",
        "y_pred_val_class = np.argmax(predictions_val, axis=1)"
      ],
      "metadata": {
        "id": "urjydD-38JK7"
      },
      "execution_count": 29,
      "outputs": []
    },
    {
      "cell_type": "code",
      "source": [
        "predictions_val\n"
      ],
      "metadata": {
        "colab": {
          "base_uri": "https://localhost:8080/"
        },
        "id": "Zb7dGRs3AEJn",
        "outputId": "fce8a87d-25f0-4562-e8fb-c61cae5dba7a"
      },
      "execution_count": 30,
      "outputs": [
        {
          "output_type": "execute_result",
          "data": {
            "text/plain": [
              "array([[0.01255246, 0.24017723, 0.03383337, ..., 0.04415951, 0.21499759,\n",
              "        0.31569692],\n",
              "       [0.00442478, 0.42196116, 0.07468116, ..., 0.29503644, 0.04726386,\n",
              "        0.06883561],\n",
              "       [0.52009773, 0.0367015 , 0.02101777, ..., 0.03865973, 0.29152554,\n",
              "        0.09066752],\n",
              "       ...,\n",
              "       [0.15770848, 0.00298981, 0.20944662, ..., 0.00670285, 0.13916807,\n",
              "        0.47000617],\n",
              "       [0.00155787, 0.3958846 , 0.09275559, ..., 0.08992122, 0.03226174,\n",
              "        0.26016915],\n",
              "       [0.00201398, 0.01306078, 0.50680506, ..., 0.39834556, 0.03961699,\n",
              "        0.02711571]], dtype=float32)"
            ]
          },
          "metadata": {},
          "execution_count": 30
        }
      ]
    },
    {
      "cell_type": "code",
      "source": [
        "y_pred_val_class "
      ],
      "metadata": {
        "colab": {
          "base_uri": "https://localhost:8080/"
        },
        "id": "KxHa1Ss1AJo4",
        "outputId": "0d51959a-8df7-4c61-ccb4-594a96f048da"
      },
      "execution_count": 31,
      "outputs": [
        {
          "output_type": "execute_result",
          "data": {
            "text/plain": [
              "array([6, 1, 0, 3, 6, 2, 4, 2, 0, 3, 4, 1, 3, 0, 2, 1, 2, 6, 6, 5, 3, 1,\n",
              "       0, 0, 2, 3, 3, 0, 3, 1, 0, 5, 1, 3, 3, 3, 6, 0, 1, 1, 3, 6, 2, 6,\n",
              "       1, 3, 0, 5, 4, 3, 2, 3, 5, 3, 0, 4, 3, 4, 3, 1, 6, 1, 3, 2, 0, 0,\n",
              "       2, 2, 4, 0, 2, 2, 6, 0, 6, 0, 5, 3, 1, 1, 1, 0, 4, 3, 3, 0, 2, 0,\n",
              "       0, 2, 1, 3, 1, 0, 6, 3, 6, 3, 4, 6, 1, 2, 0, 2, 6, 0, 2, 4, 3, 5,\n",
              "       1, 0, 2, 0, 5, 3, 4, 0, 2, 5, 5, 5, 5, 5, 5, 3, 2, 0, 1, 3, 2, 2,\n",
              "       3, 3, 2, 2, 1, 3, 3, 6, 0, 1, 3, 5, 6, 1, 4, 2, 3, 6, 2, 4, 2, 6,\n",
              "       5, 2, 3, 0, 3, 0, 0, 6, 2, 0, 0, 5, 1, 3, 5, 5, 2, 4, 4, 2, 2, 4,\n",
              "       3, 2, 2, 3, 6, 3, 1, 6, 0, 3, 4, 3, 6, 4, 3, 2, 4, 2, 3, 2, 0, 0,\n",
              "       3, 0, 2, 2, 3, 5, 4, 6, 6, 4, 2, 5, 6, 3, 2, 3, 0, 0, 4, 0, 1, 0,\n",
              "       3, 0, 2, 6, 0, 3, 0, 0, 0, 4, 5, 3, 0, 2, 0, 4, 3, 2, 3, 1, 5, 2,\n",
              "       2, 1, 2, 4, 6, 0, 3, 1, 2, 2, 1, 3, 0, 1, 3, 1, 3, 2, 1, 1, 2, 4,\n",
              "       5, 4, 3, 1, 6, 4, 1, 5, 2, 0, 3, 5, 3, 1, 6, 1, 2])"
            ]
          },
          "metadata": {},
          "execution_count": 31
        }
      ]
    },
    {
      "cell_type": "markdown",
      "source": [
        "### Val Set Confusion Matrix and Heatmap"
      ],
      "metadata": {
        "id": "d2ullxf9PUMd"
      }
    },
    {
      "cell_type": "code",
      "source": [
        "# Validation Confusion matrix\n",
        "cm=confusion_matrix(y_val_class, y_pred_val_class)\n",
        "\n",
        "index = ['calm', 'happy', 'sad', 'angry', 'fearful', 'disgust', 'surprised']  \n",
        "columns = ['calm', 'happy', 'sad', 'angry', 'fearful', 'disgust', 'surprised']  \n",
        " \n",
        "cm_df = pd.DataFrame(cm,index,columns)                      \n",
        "plt.figure(figsize=(12,8))\n",
        "ax = plt.axes()\n",
        "\n",
        "sns.heatmap(cm_df, ax = ax, cmap = 'PuBu', fmt=\"d\", annot=True)\n",
        "ax.set_ylabel('True emotion')\n",
        "ax.set_xlabel('Predicted emotion')"
      ],
      "metadata": {
        "colab": {
          "base_uri": "https://localhost:8080/",
          "height": 514
        },
        "id": "doLcg3CTf9bx",
        "outputId": "f20f8abd-98a2-4559-f87b-c443db686470"
      },
      "execution_count": 32,
      "outputs": [
        {
          "output_type": "execute_result",
          "data": {
            "text/plain": [
              "Text(0.5, 51.0, 'Predicted emotion')"
            ]
          },
          "metadata": {},
          "execution_count": 32
        },
        {
          "output_type": "display_data",
          "data": {
            "text/plain": [
              "<Figure size 864x576 with 2 Axes>"
            ],
            "image/png": "[encoded data removed]"
          },
          "metadata": {
            "needs_background": "light"
          }
        }
      ]
    },
    {
      "cell_type": "code",
      "source": [
        "# Confusion Matrix\n",
        "cm"
      ],
      "metadata": {
        "colab": {
          "base_uri": "https://localhost:8080/"
        },
        "id": "hIEG9Pia8Nfp",
        "outputId": "213988f5-052d-4c99-c0d3-39df2973a59f"
      },
      "execution_count": 33,
      "outputs": [
        {
          "output_type": "execute_result",
          "data": {
            "text/plain": [
              "array([[22,  4, 10,  1,  2,  3,  1],\n",
              "       [ 4, 10,  3,  4,  5,  1,  6],\n",
              "       [ 8,  3, 19,  1,  8,  5,  4],\n",
              "       [ 1,  5,  1, 34,  1,  3,  1],\n",
              "       [ 5,  6,  3,  4,  8,  0,  3],\n",
              "       [ 8,  2,  9,  5,  2, 12,  4],\n",
              "       [ 2,  7,  8, 11,  1,  1, 10]])"
            ]
          },
          "metadata": {},
          "execution_count": 33
        }
      ]
    },
    {
      "cell_type": "markdown",
      "source": [
        "### Validation Set Predicted emotions accuracy"
      ],
      "metadata": {
        "id": "kWjKgUdRPYH5"
      }
    },
    {
      "cell_type": "code",
      "source": [
        "# Validation set prediction accuracy rates\n",
        "\n",
        "values = cm.diagonal()\n",
        "row_sum = np.sum(cm,axis=1)\n",
        "acc = values / row_sum\n",
        "\n",
        "print('Validation set predicted emotions accuracy:')\n",
        "for e in range(0, len(values)):\n",
        "    print(index[e],':', f\"{(acc[e]):0.4f}\")"
      ],
      "metadata": {
        "colab": {
          "base_uri": "https://localhost:8080/"
        },
        "id": "MopdywY9f-mS",
        "outputId": "d2b339d5-7a07-47d3-a160-aeca3e08a8c2"
      },
      "execution_count": 34,
      "outputs": [
        {
          "output_type": "stream",
          "name": "stdout",
          "text": [
            "Validation set predicted emotions accuracy:\n",
            "calm : 0.5116\n",
            "happy : 0.3030\n",
            "sad : 0.3958\n",
            "angry : 0.7391\n",
            "fearful : 0.2759\n",
            "disgust : 0.2857\n",
            "surprised : 0.2500\n"
          ]
        }
      ]
    },
    {
      "cell_type": "markdown",
      "source": [
        "### Precision, Recal, Fscore"
      ],
      "metadata": {
        "id": "DGSTy2228XRH"
      }
    },
    {
      "cell_type": "code",
      "source": [
        "# Validation set precision, recall, fscore\n",
        "\n",
        "precision_recall_fscore_support(y_val_class, y_pred_val_class, average='macro')\n"
      ],
      "metadata": {
        "colab": {
          "base_uri": "https://localhost:8080/"
        },
        "id": "rOwUkCG0gGpm",
        "outputId": "c35cbeff-1f1f-4779-ca6a-f896a8b4f0c8"
      },
      "execution_count": 35,
      "outputs": [
        {
          "output_type": "execute_result",
          "data": {
            "text/plain": [
              "(0.3937930550682665, 0.3944569046861131, 0.38719399091582185, None)"
            ]
          },
          "metadata": {},
          "execution_count": 35
        }
      ]
    },
    {
      "cell_type": "code",
      "source": [
        "precision_recall_fscore_support(y_val_class, y_pred_val_class, average='weighted')"
      ],
      "metadata": {
        "colab": {
          "base_uri": "https://localhost:8080/"
        },
        "id": "OorFgXxDzy3o",
        "outputId": "d1668132-5c2e-4a63-ba3d-9e2c78084aeb"
      },
      "execution_count": 36,
      "outputs": [
        {
          "output_type": "execute_result",
          "data": {
            "text/plain": [
              "(0.40447981778030373, 0.4092526690391459, 0.399523810165847, None)"
            ]
          },
          "metadata": {},
          "execution_count": 36
        }
      ]
    },
    {
      "cell_type": "markdown",
      "source": [
        "## Test Set Evaluation"
      ],
      "metadata": {
        "id": "FiCwOjmPPgCn"
      }
    },
    {
      "cell_type": "code",
      "source": [
        ""
      ],
      "metadata": {
        "id": "mUZLaThTeocQ"
      },
      "execution_count": null,
      "outputs": []
    },
    {
      "cell_type": "markdown",
      "source": [
        "### Test Set Score\n",
        "\n"
      ],
      "metadata": {
        "id": "CWB7U5xDUSmF"
      }
    },
    {
      "cell_type": "code",
      "source": [
        "loss, acc = model.evaluate(X_test, y_test_class, verbose=2)"
      ],
      "metadata": {
        "id": "Y7NEHPM-gzml",
        "colab": {
          "base_uri": "https://localhost:8080/"
        },
        "outputId": "9c4bf9e7-8ad8-465c-eb17-4a34a6b5dc54"
      },
      "execution_count": 37,
      "outputs": [
        {
          "output_type": "stream",
          "name": "stdout",
          "text": [
            "4/4 - 1s - loss: 2.0275 - categorical_accuracy: 0.3171 - 635ms/epoch - 159ms/step\n"
          ]
        }
      ]
    },
    {
      "cell_type": "markdown",
      "source": [
        "### Construct Predicted Labels based on Probability of each class"
      ],
      "metadata": {
        "id": "gPwcFV9oAhGh"
      }
    },
    {
      "cell_type": "code",
      "source": [
        "y_test_class"
      ],
      "metadata": {
        "colab": {
          "base_uri": "https://localhost:8080/"
        },
        "id": "tjN7Eit7AiML",
        "outputId": "480738f4-5571-4158-983d-4689ebd5a038"
      },
      "execution_count": 38,
      "outputs": [
        {
          "output_type": "execute_result",
          "data": {
            "text/plain": [
              "array([[0, 0, 0, 0, 0, 0, 1],\n",
              "       [0, 0, 0, 1, 0, 0, 0],\n",
              "       [0, 0, 0, 0, 0, 1, 0],\n",
              "       [0, 0, 0, 0, 1, 0, 0],\n",
              "       [1, 0, 0, 0, 0, 0, 0],\n",
              "       [0, 0, 0, 0, 1, 0, 0],\n",
              "       [0, 0, 0, 0, 0, 1, 0],\n",
              "       [0, 0, 0, 0, 1, 0, 0],\n",
              "       [0, 0, 0, 1, 0, 0, 0],\n",
              "       [0, 0, 0, 0, 0, 0, 1],\n",
              "       [0, 0, 0, 1, 0, 0, 0],\n",
              "       [0, 0, 0, 0, 1, 0, 0],\n",
              "       [1, 0, 0, 0, 0, 0, 0],\n",
              "       [0, 0, 0, 0, 0, 1, 0],\n",
              "       [0, 0, 0, 1, 0, 0, 0],\n",
              "       [1, 0, 0, 0, 0, 0, 0],\n",
              "       [0, 0, 0, 0, 0, 1, 0],\n",
              "       [0, 0, 0, 0, 0, 1, 0],\n",
              "       [0, 0, 1, 0, 0, 0, 0],\n",
              "       [0, 0, 0, 0, 0, 0, 1],\n",
              "       [0, 0, 0, 0, 0, 0, 1],\n",
              "       [1, 0, 0, 0, 0, 0, 0],\n",
              "       [1, 0, 0, 0, 0, 0, 0],\n",
              "       [0, 0, 1, 0, 0, 0, 0],\n",
              "       [0, 0, 0, 0, 0, 1, 0],\n",
              "       [1, 0, 0, 0, 0, 0, 0],\n",
              "       [0, 0, 0, 0, 0, 1, 0],\n",
              "       [1, 0, 0, 0, 0, 0, 0],\n",
              "       [0, 0, 0, 0, 1, 0, 0],\n",
              "       [0, 1, 0, 0, 0, 0, 0],\n",
              "       [0, 0, 0, 1, 0, 0, 0],\n",
              "       [0, 0, 0, 0, 0, 0, 1],\n",
              "       [0, 0, 0, 0, 0, 0, 1],\n",
              "       [0, 0, 0, 0, 0, 1, 0],\n",
              "       [0, 0, 0, 0, 1, 0, 0],\n",
              "       [0, 0, 1, 0, 0, 0, 0],\n",
              "       [0, 0, 0, 0, 0, 1, 0],\n",
              "       [0, 0, 0, 0, 1, 0, 0],\n",
              "       [0, 0, 0, 0, 1, 0, 0],\n",
              "       [0, 0, 0, 0, 0, 1, 0],\n",
              "       [0, 0, 0, 0, 0, 0, 1],\n",
              "       [1, 0, 0, 0, 0, 0, 0],\n",
              "       [0, 1, 0, 0, 0, 0, 0],\n",
              "       [0, 0, 1, 0, 0, 0, 0],\n",
              "       [0, 1, 0, 0, 0, 0, 0],\n",
              "       [0, 1, 0, 0, 0, 0, 0],\n",
              "       [0, 0, 0, 0, 0, 0, 1],\n",
              "       [0, 0, 1, 0, 0, 0, 0],\n",
              "       [0, 0, 0, 0, 0, 0, 1],\n",
              "       [0, 0, 0, 0, 1, 0, 0],\n",
              "       [0, 0, 0, 0, 0, 1, 0],\n",
              "       [0, 0, 0, 0, 0, 0, 1],\n",
              "       [0, 1, 0, 0, 0, 0, 0],\n",
              "       [0, 0, 1, 0, 0, 0, 0],\n",
              "       [0, 0, 0, 0, 0, 1, 0],\n",
              "       [0, 1, 0, 0, 0, 0, 0],\n",
              "       [0, 1, 0, 0, 0, 0, 0],\n",
              "       [0, 0, 0, 0, 1, 0, 0],\n",
              "       [0, 0, 0, 0, 1, 0, 0],\n",
              "       [0, 1, 0, 0, 0, 0, 0],\n",
              "       [0, 0, 0, 0, 0, 0, 1],\n",
              "       [0, 0, 0, 1, 0, 0, 0],\n",
              "       [0, 0, 0, 0, 1, 0, 0],\n",
              "       [0, 0, 1, 0, 0, 0, 0],\n",
              "       [0, 0, 1, 0, 0, 0, 0],\n",
              "       [0, 0, 1, 0, 0, 0, 0],\n",
              "       [0, 0, 0, 0, 1, 0, 0],\n",
              "       [1, 0, 0, 0, 0, 0, 0],\n",
              "       [0, 0, 0, 1, 0, 0, 0],\n",
              "       [0, 0, 0, 0, 0, 0, 1],\n",
              "       [0, 0, 0, 0, 0, 1, 0],\n",
              "       [0, 1, 0, 0, 0, 0, 0],\n",
              "       [0, 0, 1, 0, 0, 0, 0],\n",
              "       [0, 0, 0, 0, 1, 0, 0],\n",
              "       [0, 0, 0, 1, 0, 0, 0],\n",
              "       [1, 0, 0, 0, 0, 0, 0],\n",
              "       [0, 0, 0, 1, 0, 0, 0],\n",
              "       [0, 0, 0, 0, 0, 0, 1],\n",
              "       [0, 0, 1, 0, 0, 0, 0],\n",
              "       [0, 0, 0, 0, 0, 0, 1],\n",
              "       [1, 0, 0, 0, 0, 0, 0],\n",
              "       [0, 0, 0, 0, 1, 0, 0],\n",
              "       [0, 1, 0, 0, 0, 0, 0],\n",
              "       [0, 0, 0, 1, 0, 0, 0],\n",
              "       [0, 0, 0, 0, 0, 0, 1],\n",
              "       [0, 0, 0, 1, 0, 0, 0],\n",
              "       [0, 0, 0, 0, 0, 0, 1],\n",
              "       [0, 0, 0, 0, 1, 0, 0],\n",
              "       [0, 0, 0, 1, 0, 0, 0],\n",
              "       [0, 0, 0, 1, 0, 0, 0],\n",
              "       [0, 0, 1, 0, 0, 0, 0],\n",
              "       [0, 0, 0, 0, 0, 1, 0],\n",
              "       [0, 0, 0, 0, 1, 0, 0],\n",
              "       [0, 1, 0, 0, 0, 0, 0],\n",
              "       [1, 0, 0, 0, 0, 0, 0],\n",
              "       [0, 0, 0, 1, 0, 0, 0],\n",
              "       [0, 0, 1, 0, 0, 0, 0],\n",
              "       [0, 0, 0, 1, 0, 0, 0],\n",
              "       [0, 1, 0, 0, 0, 0, 0],\n",
              "       [1, 0, 0, 0, 0, 0, 0],\n",
              "       [0, 0, 1, 0, 0, 0, 0],\n",
              "       [0, 0, 0, 0, 0, 0, 1],\n",
              "       [0, 0, 0, 0, 0, 1, 0],\n",
              "       [0, 0, 0, 0, 1, 0, 0],\n",
              "       [0, 0, 0, 0, 1, 0, 0],\n",
              "       [0, 0, 0, 1, 0, 0, 0],\n",
              "       [0, 0, 0, 1, 0, 0, 0],\n",
              "       [0, 0, 0, 0, 0, 0, 1],\n",
              "       [0, 0, 0, 0, 1, 0, 0],\n",
              "       [1, 0, 0, 0, 0, 0, 0],\n",
              "       [0, 0, 0, 1, 0, 0, 0],\n",
              "       [0, 0, 0, 0, 1, 0, 0],\n",
              "       [0, 0, 0, 0, 0, 0, 1],\n",
              "       [0, 0, 0, 0, 0, 1, 0],\n",
              "       [0, 0, 0, 1, 0, 0, 0],\n",
              "       [0, 0, 1, 0, 0, 0, 0],\n",
              "       [0, 0, 0, 1, 0, 0, 0],\n",
              "       [0, 1, 0, 0, 0, 0, 0],\n",
              "       [0, 0, 0, 0, 0, 0, 1],\n",
              "       [0, 0, 0, 0, 0, 0, 1],\n",
              "       [0, 1, 0, 0, 0, 0, 0],\n",
              "       [1, 0, 0, 0, 0, 0, 0],\n",
              "       [0, 0, 0, 0, 0, 0, 1]], dtype=int8)"
            ]
          },
          "metadata": {},
          "execution_count": 38
        }
      ]
    },
    {
      "cell_type": "code",
      "source": [
        " np.argmax(y_test_class, axis=1)"
      ],
      "metadata": {
        "colab": {
          "base_uri": "https://localhost:8080/"
        },
        "id": "2fcK-_HzAmc5",
        "outputId": "ff6e9a10-e726-4f02-eeae-03daa4208050"
      },
      "execution_count": 39,
      "outputs": [
        {
          "output_type": "execute_result",
          "data": {
            "text/plain": [
              "array([6, 3, 5, 4, 0, 4, 5, 4, 3, 6, 3, 4, 0, 5, 3, 0, 5, 5, 2, 6, 6, 0,\n",
              "       0, 2, 5, 0, 5, 0, 4, 1, 3, 6, 6, 5, 4, 2, 5, 4, 4, 5, 6, 0, 1, 2,\n",
              "       1, 1, 6, 2, 6, 4, 5, 6, 1, 2, 5, 1, 1, 4, 4, 1, 6, 3, 4, 2, 2, 2,\n",
              "       4, 0, 3, 6, 5, 1, 2, 4, 3, 0, 3, 6, 2, 6, 0, 4, 1, 3, 6, 3, 6, 4,\n",
              "       3, 3, 2, 5, 4, 1, 0, 3, 2, 3, 1, 0, 2, 6, 5, 4, 4, 3, 3, 6, 4, 0,\n",
              "       3, 4, 6, 5, 3, 2, 3, 1, 6, 6, 1, 0, 6])"
            ]
          },
          "metadata": {},
          "execution_count": 39
        }
      ]
    },
    {
      "cell_type": "code",
      "source": [
        "y_test_class = np.argmax(y_test_class, axis=1)\n",
        "predictions_test = model.predict(X_test)\n",
        "y_pred_test_class = np.argmax(predictions_test, axis=1)\n",
        "y_proba_test_class = predictions_test\n",
        "\n"
      ],
      "metadata": {
        "id": "uyXvoU2rAckI"
      },
      "execution_count": 40,
      "outputs": []
    },
    {
      "cell_type": "code",
      "source": [
        "predictions_test"
      ],
      "metadata": {
        "colab": {
          "base_uri": "https://localhost:8080/"
        },
        "id": "3BAOUaPwAtuY",
        "outputId": "42eabf21-f813-4711-eb2d-a8fdf2d5bec3"
      },
      "execution_count": 41,
      "outputs": [
        {
          "output_type": "execute_result",
          "data": {
            "text/plain": [
              "array([[1.48211184e-04, 7.66818132e-03, 1.53447303e-03, 9.20423150e-01,\n",
              "        2.09711604e-02, 3.68072987e-02, 1.24474764e-02],\n",
              "       [1.10492831e-04, 6.18927367e-03, 9.46896966e-04, 9.52466071e-01,\n",
              "        1.55209871e-02, 2.26125792e-02, 2.15363479e-03],\n",
              "       [3.25773582e-02, 2.20012553e-02, 3.41763198e-01, 2.19098423e-02,\n",
              "        1.52074406e-02, 3.21370274e-01, 2.45170593e-01],\n",
              "       [4.04077256e-03, 8.18692818e-02, 9.07471105e-02, 8.34746566e-03,\n",
              "        1.81975082e-01, 3.64043266e-02, 5.96615970e-01],\n",
              "       [1.36921287e-01, 6.89329505e-01, 6.42687082e-02, 1.09626558e-02,\n",
              "        3.63178402e-02, 3.28656733e-02, 2.93342862e-02],\n",
              "       [2.71427562e-03, 6.92981064e-01, 1.16424793e-02, 7.43776783e-02,\n",
              "        1.98857617e-02, 4.78241742e-02, 1.50574505e-01],\n",
              "       [8.76070783e-02, 4.27934229e-01, 7.53073767e-02, 8.21826085e-02,\n",
              "        2.92077772e-02, 2.66772747e-01, 3.09881531e-02],\n",
              "       [2.76334018e-01, 8.48752037e-02, 3.56246471e-01, 1.11654820e-02,\n",
              "        1.70938820e-01, 5.42973578e-02, 4.61426675e-02],\n",
              "       [1.33251087e-04, 6.00093044e-03, 2.18324387e-03, 9.55932319e-01,\n",
              "        1.68052688e-02, 1.04518794e-02, 8.49299505e-03],\n",
              "       [1.87352076e-02, 1.15566896e-02, 4.09899428e-02, 3.77090201e-02,\n",
              "        1.48703279e-02, 2.63768379e-02, 8.49761963e-01],\n",
              "       [5.31572383e-04, 1.92593426e-01, 8.61964840e-03, 6.26839280e-01,\n",
              "        1.32507756e-01, 2.23673899e-02, 1.65410172e-02],\n",
              "       [7.76083558e-04, 4.75130528e-01, 3.71206878e-03, 1.70982122e-01,\n",
              "        3.23905379e-01, 1.19743422e-02, 1.35195302e-02],\n",
              "       [6.68315053e-01, 6.67999610e-02, 7.51165301e-02, 3.35817481e-03,\n",
              "        3.90710421e-02, 1.38968930e-01, 8.37028213e-03],\n",
              "       [2.92710587e-02, 1.38201416e-01, 5.38513362e-01, 5.76356985e-03,\n",
              "        5.51951379e-02, 2.05140620e-01, 2.79148407e-02],\n",
              "       [1.05187511e-02, 3.73242493e-03, 4.70746785e-01, 9.51485708e-04,\n",
              "        3.71858403e-02, 1.48444595e-02, 4.62020278e-01],\n",
              "       [7.26591051e-01, 1.94603391e-02, 6.04608804e-02, 9.98634496e-04,\n",
              "        1.04972348e-01, 5.88229857e-02, 2.86937784e-02],\n",
              "       [5.99620398e-03, 4.02793428e-03, 4.01326805e-01, 2.03223936e-02,\n",
              "        7.53695099e-03, 7.91906640e-02, 4.81599063e-01],\n",
              "       [8.38800985e-03, 5.28089609e-03, 6.37608173e-04, 8.86281729e-01,\n",
              "        9.71387886e-03, 7.04728812e-02, 1.92250460e-02],\n",
              "       [5.70006028e-04, 7.53746694e-03, 8.20567012e-02, 6.07884705e-01,\n",
              "        8.98702145e-02, 1.43920019e-01, 6.81608021e-02],\n",
              "       [8.24981987e-01, 6.36925083e-03, 6.57842075e-03, 1.72992460e-02,\n",
              "        3.89045523e-03, 1.35379791e-01, 5.50085260e-03],\n",
              "       [9.46914032e-03, 6.88955784e-01, 1.24492556e-01, 4.13717190e-03,\n",
              "        2.57330369e-02, 3.80520499e-03, 1.43407062e-01],\n",
              "       [1.25887888e-02, 2.33297739e-02, 9.20344234e-01, 1.20565365e-03,\n",
              "        2.07684021e-02, 8.90708901e-03, 1.28560029e-02],\n",
              "       [8.79587710e-01, 8.98876344e-04, 3.29156104e-03, 2.15561362e-03,\n",
              "        2.26892228e-03, 1.08715825e-01, 3.08140670e-03],\n",
              "       [5.42846061e-02, 2.26447105e-01, 5.51390588e-01, 1.31949373e-02,\n",
              "        5.51727861e-02, 3.60389613e-02, 6.34710342e-02],\n",
              "       [6.56119548e-03, 1.12544715e-01, 5.13349995e-02, 5.84070645e-02,\n",
              "        4.10012789e-02, 5.16213477e-02, 6.78529322e-01],\n",
              "       [6.25964776e-02, 4.48625892e-01, 9.74804536e-02, 7.17588365e-02,\n",
              "        1.64333791e-01, 3.26997414e-02, 1.22504793e-01],\n",
              "       [2.09656227e-02, 9.01602209e-02, 9.66743380e-02, 6.28283203e-01,\n",
              "        3.25660221e-02, 5.16201966e-02, 7.97303915e-02],\n",
              "       [1.37367919e-01, 6.73713302e-03, 4.99610960e-01, 1.33202830e-03,\n",
              "        1.83991402e-01, 1.46012411e-01, 2.49482095e-02],\n",
              "       [8.45541432e-02, 7.55117536e-02, 5.22927403e-01, 1.59237487e-03,\n",
              "        2.63203859e-01, 2.05107797e-02, 3.16997841e-02],\n",
              "       [5.25630126e-03, 3.77518386e-01, 1.58245396e-02, 1.47240739e-02,\n",
              "        2.21045967e-02, 1.21767959e-02, 5.52395225e-01],\n",
              "       [9.96118709e-02, 1.27159506e-02, 9.49499160e-02, 1.00506000e-01,\n",
              "        5.10697812e-03, 6.54974639e-01, 3.21346000e-02],\n",
              "       [8.30363855e-03, 2.84366906e-01, 1.64623726e-02, 5.57302088e-02,\n",
              "        2.47750171e-02, 1.54296845e-01, 4.56065118e-01],\n",
              "       [5.48597146e-03, 2.38977373e-01, 4.92606778e-03, 1.06313922e-01,\n",
              "        1.27289686e-02, 5.77268124e-01, 5.42995185e-02],\n",
              "       [9.98658012e-04, 6.15677178e-01, 3.14317713e-03, 1.91955969e-01,\n",
              "        1.34661153e-01, 3.08101010e-02, 2.27536391e-02],\n",
              "       [3.68037634e-03, 4.92323518e-01, 5.43994829e-02, 2.03018505e-02,\n",
              "        3.75060141e-01, 1.81191962e-03, 5.24227135e-02],\n",
              "       [8.31594467e-01, 6.16589515e-03, 1.61682311e-02, 4.04303335e-03,\n",
              "        6.23521255e-03, 1.09462284e-01, 2.63307504e-02],\n",
              "       [5.77241788e-03, 4.00405616e-01, 1.86385512e-01, 2.89401207e-02,\n",
              "        9.23031569e-02, 3.09825130e-02, 2.55210578e-01],\n",
              "       [6.23805390e-04, 5.70809618e-02, 2.96534947e-03, 7.62441576e-01,\n",
              "        1.96517911e-02, 6.48339242e-02, 9.24025476e-02],\n",
              "       [1.29521603e-03, 5.52043058e-02, 2.60379203e-02, 4.91157547e-02,\n",
              "        3.35286945e-01, 5.09537458e-01, 2.35224366e-02],\n",
              "       [3.93855609e-02, 1.55609503e-01, 1.45295411e-01, 1.84135526e-01,\n",
              "        2.69074202e-01, 1.39670923e-01, 6.68288767e-02],\n",
              "       [1.77894940e-03, 2.74124324e-01, 5.88504318e-03, 2.10604638e-01,\n",
              "        8.11928585e-02, 6.63268417e-02, 3.60087365e-01],\n",
              "       [1.47228569e-01, 6.66365325e-01, 9.42525938e-02, 3.97139462e-03,\n",
              "        1.84035469e-02, 5.56324013e-02, 1.41462414e-02],\n",
              "       [5.41016227e-03, 1.18240956e-02, 2.56682970e-02, 1.64737944e-02,\n",
              "        6.90897033e-02, 8.67833793e-01, 3.70013085e-03],\n",
              "       [2.23631272e-04, 3.15532163e-02, 1.81754271e-03, 9.13574576e-01,\n",
              "        5.11941034e-03, 1.77003518e-02, 3.00112218e-02],\n",
              "       [7.44464993e-02, 2.07506478e-01, 4.24552768e-01, 1.72688381e-03,\n",
              "        2.25315452e-01, 1.09510282e-02, 5.55009432e-02],\n",
              "       [2.93331547e-03, 1.72856182e-01, 3.18600237e-02, 5.84241688e-01,\n",
              "        9.09557790e-02, 1.75517462e-02, 9.96012762e-02],\n",
              "       [3.48617852e-01, 1.41999260e-01, 2.10528467e-02, 1.32659785e-02,\n",
              "        3.48144397e-02, 3.78133386e-01, 6.21162206e-02],\n",
              "       [7.63524845e-02, 3.23111981e-01, 4.91462685e-02, 1.59261107e-01,\n",
              "        2.47900620e-01, 5.68390638e-02, 8.73884484e-02],\n",
              "       [1.40277902e-03, 2.05854680e-02, 2.79483020e-01, 5.71436405e-01,\n",
              "        5.44898584e-02, 5.32849282e-02, 1.93175189e-02],\n",
              "       [3.14149167e-03, 4.26439911e-01, 4.45546582e-03, 3.42495978e-01,\n",
              "        1.56840712e-01, 4.59381454e-02, 2.06882097e-02],\n",
              "       [5.94497845e-02, 6.61209747e-02, 7.04560429e-02, 1.39353648e-01,\n",
              "        2.90613016e-03, 5.53974688e-01, 1.07738659e-01],\n",
              "       [2.46386975e-02, 2.20432192e-01, 2.31968626e-01, 2.43180200e-01,\n",
              "        2.33531240e-02, 9.42781195e-02, 1.62149072e-01],\n",
              "       [1.43987238e-02, 4.51789759e-02, 5.63570797e-01, 2.15498288e-03,\n",
              "        2.75525928e-01, 5.00932429e-03, 9.41612944e-02],\n",
              "       [1.23276440e-02, 1.55984357e-01, 3.14123541e-01, 5.03283329e-02,\n",
              "        3.82608682e-01, 7.90274423e-03, 7.67246783e-02],\n",
              "       [4.24330169e-03, 5.41668497e-02, 1.13240853e-01, 7.42658749e-02,\n",
              "        2.10188366e-02, 6.97238982e-01, 3.58252041e-02],\n",
              "       [2.80513912e-01, 2.95116395e-01, 1.98339567e-01, 2.43584951e-03,\n",
              "        1.75417587e-01, 8.83528125e-03, 3.93414125e-02],\n",
              "       [2.30710045e-01, 6.83445707e-02, 9.24297422e-02, 1.01040870e-01,\n",
              "        2.15868596e-02, 3.88495296e-01, 9.73926336e-02],\n",
              "       [5.55717528e-01, 6.79136142e-02, 3.14492993e-02, 1.10434229e-03,\n",
              "        6.99597672e-02, 2.41219923e-01, 3.26355733e-02],\n",
              "       [1.33259380e-02, 5.60194999e-02, 2.79804438e-01, 3.08576948e-03,\n",
              "        4.48114872e-01, 1.38460612e-02, 1.85803398e-01],\n",
              "       [9.95742739e-05, 1.88113265e-02, 1.03745074e-03, 9.58556831e-01,\n",
              "        1.65782422e-02, 2.65801116e-03, 2.25852500e-03],\n",
              "       [8.34819376e-01, 1.07487794e-02, 7.83794001e-02, 4.38512722e-03,\n",
              "        2.71577463e-02, 3.37215327e-02, 1.07881119e-02],\n",
              "       [2.28057414e-01, 9.01181772e-02, 1.05815390e-02, 3.59266177e-02,\n",
              "        3.97480018e-02, 4.55734819e-01, 1.39833421e-01],\n",
              "       [3.21829249e-03, 5.24948895e-01, 2.24376787e-02, 2.71902662e-02,\n",
              "        1.67111650e-01, 4.35168147e-02, 2.11576447e-01],\n",
              "       [3.73222567e-02, 1.34465937e-02, 7.23090589e-01, 3.16731213e-03,\n",
              "        1.47036895e-01, 2.70102210e-02, 4.89260890e-02],\n",
              "       [2.14200839e-01, 9.70189050e-02, 5.54076612e-01, 5.36678219e-03,\n",
              "        9.71502811e-02, 1.93610787e-02, 1.28254406e-02],\n",
              "       [6.34675398e-02, 1.54969105e-02, 7.42254794e-01, 9.22926702e-03,\n",
              "        5.76839410e-02, 3.47375497e-02, 7.71300644e-02],\n",
              "       [9.30739008e-03, 6.15820765e-01, 8.37104619e-02, 8.57658964e-03,\n",
              "        2.09866479e-01, 5.27251810e-02, 1.99931264e-02],\n",
              "       [8.98031771e-01, 2.21664226e-03, 6.97825775e-02, 1.72072346e-03,\n",
              "        1.88424923e-02, 5.35862474e-03, 4.04727133e-03],\n",
              "       [2.39057932e-04, 2.10465062e-02, 2.05886853e-03, 8.89703929e-01,\n",
              "        2.69450620e-02, 3.49338017e-02, 2.50727050e-02],\n",
              "       [5.57869254e-03, 7.70462211e-03, 9.93079469e-02, 6.27206564e-01,\n",
              "        6.40644208e-02, 9.58214551e-02, 1.00316301e-01],\n",
              "       [1.01102330e-03, 1.42083809e-01, 7.16882525e-04, 7.54240990e-01,\n",
              "        7.37320557e-02, 2.03840639e-02, 7.83118233e-03],\n",
              "       [2.14783126e-03, 3.89047056e-01, 1.00906817e-02, 1.50666654e-01,\n",
              "        3.12483132e-01, 1.94210075e-02, 1.16143614e-01],\n",
              "       [1.37626389e-02, 7.92818293e-02, 3.13024312e-01, 7.68521102e-03,\n",
              "        4.82081532e-01, 1.09854471e-02, 9.31790397e-02],\n",
              "       [2.21893117e-02, 4.20265738e-03, 8.98608446e-01, 6.71429967e-04,\n",
              "        4.48230840e-02, 2.22622361e-02, 7.24282814e-03],\n",
              "       [2.69574556e-03, 1.39805481e-01, 1.79393496e-03, 2.70120144e-01,\n",
              "        5.57481587e-01, 2.36755554e-02, 4.42750519e-03],\n",
              "       [5.02748191e-02, 2.66097397e-01, 4.90634590e-02, 3.14059891e-02,\n",
              "        8.26963503e-03, 1.22357383e-01, 4.72531289e-01],\n",
              "       [2.21163854e-02, 3.72344732e-01, 3.54196951e-02, 1.53003065e-02,\n",
              "        5.41023016e-02, 4.77145493e-01, 2.35709995e-02],\n",
              "       [3.04176938e-03, 4.24671710e-01, 8.64634011e-03, 5.56582101e-02,\n",
              "        2.57786572e-01, 3.16289663e-02, 2.18566298e-01],\n",
              "       [3.54831549e-03, 8.22416600e-03, 9.49858844e-01, 1.32563175e-04,\n",
              "        2.89428644e-02, 1.85427151e-03, 7.43893627e-03],\n",
              "       [2.89992601e-01, 3.68240662e-02, 1.58360481e-01, 3.15936282e-02,\n",
              "        1.75602790e-02, 2.64045238e-01, 2.01623797e-01],\n",
              "       [8.67370486e-01, 1.34826377e-02, 7.70388450e-03, 1.12393626e-03,\n",
              "        2.16281228e-02, 3.97554487e-02, 4.89354916e-02],\n",
              "       [3.62354547e-01, 5.37124239e-02, 3.64889592e-01, 1.58888660e-02,\n",
              "        2.65334621e-02, 2.39433795e-02, 1.52677774e-01],\n",
              "       [4.79827411e-02, 8.74735042e-02, 7.35501170e-01, 5.47459407e-04,\n",
              "        8.65694135e-02, 1.16591584e-02, 3.02665904e-02],\n",
              "       [2.76300620e-04, 1.48367837e-01, 2.42234627e-03, 7.67847717e-01,\n",
              "        6.02547415e-02, 1.19870594e-02, 8.84393416e-03],\n",
              "       [2.78398208e-02, 2.29256257e-01, 1.61668569e-01, 2.44512279e-02,\n",
              "        2.81471163e-01, 3.95244248e-02, 2.35788554e-01],\n",
              "       [7.62898533e-04, 4.22649890e-01, 9.98057891e-03, 7.19968379e-02,\n",
              "        3.96656424e-01, 9.41738561e-02, 3.77953635e-03],\n",
              "       [2.63100177e-01, 6.75709471e-02, 3.45641896e-02, 8.09672195e-03,\n",
              "        1.34008199e-01, 4.18156236e-01, 7.45034665e-02],\n",
              "       [5.01478498e-04, 2.93385517e-03, 2.09882343e-03, 9.65128779e-01,\n",
              "        4.71758563e-03, 8.62067007e-03, 1.59987789e-02],\n",
              "       [1.07174239e-03, 4.89881039e-02, 7.83360191e-03, 8.57943535e-01,\n",
              "        2.43547019e-02, 2.20805425e-02, 3.77277061e-02],\n",
              "       [1.14194339e-03, 1.05501026e-01, 3.18728313e-02, 3.02311987e-01,\n",
              "        3.67939509e-02, 4.47725773e-01, 7.46524706e-02],\n",
              "       [9.50014412e-01, 1.04067358e-03, 8.66099913e-03, 3.68289952e-03,\n",
              "        2.31805211e-03, 3.08391005e-02, 3.44397733e-03],\n",
              "       [2.53401119e-02, 2.30139807e-01, 2.27460861e-01, 5.38253188e-02,\n",
              "        3.59054059e-02, 3.31165612e-01, 9.61628035e-02],\n",
              "       [3.06046079e-03, 1.73184782e-01, 6.31459579e-02, 1.97879046e-01,\n",
              "        5.52269816e-02, 2.28114743e-02, 4.84691262e-01],\n",
              "       [2.06368044e-02, 3.74825686e-01, 4.98483554e-02, 3.27472799e-02,\n",
              "        2.68635869e-01, 1.06944116e-02, 2.42611557e-01],\n",
              "       [6.04922056e-01, 4.44757054e-03, 6.39861599e-02, 3.60958884e-03,\n",
              "        5.30572422e-03, 2.99000055e-01, 1.87288094e-02],\n",
              "       [3.75493616e-03, 9.65525676e-03, 7.21861655e-03, 8.85692313e-02,\n",
              "        5.78842998e-01, 3.10187250e-01, 1.77165552e-03],\n",
              "       [9.64994550e-01, 2.04275409e-03, 7.56625040e-03, 1.85128802e-03,\n",
              "        1.74569781e-03, 1.06706722e-02, 1.11288493e-02],\n",
              "       [3.05515801e-04, 3.31175849e-02, 1.23446668e-03, 9.11364019e-01,\n",
              "        3.81637104e-02, 1.24270031e-02, 3.38771218e-03],\n",
              "       [1.70843732e-02, 7.80838206e-02, 2.42582560e-01, 6.94176480e-02,\n",
              "        3.21500361e-01, 2.70312168e-02, 2.44299993e-01],\n",
              "       [8.28232408e-01, 3.83065548e-03, 1.35390125e-02, 1.04748609e-03,\n",
              "        9.39241797e-03, 1.41861081e-01, 2.09703320e-03],\n",
              "       [5.86439110e-03, 6.35785758e-02, 1.64948329e-01, 8.08567032e-02,\n",
              "        5.83716273e-01, 3.18807326e-02, 6.91550896e-02],\n",
              "       [6.07473264e-03, 2.77698487e-02, 1.79430712e-02, 1.52432129e-01,\n",
              "        2.96882447e-02, 2.38304541e-01, 5.27787507e-01],\n",
              "       [1.42126426e-03, 4.42876620e-03, 2.22594989e-03, 6.92690372e-01,\n",
              "        4.70047537e-03, 2.64116794e-01, 3.04163396e-02],\n",
              "       [5.26162377e-03, 4.44674999e-01, 5.18033952e-02, 1.31093949e-01,\n",
              "        2.15133727e-01, 8.36778283e-02, 6.83543980e-02],\n",
              "       [3.77420187e-02, 1.55755773e-01, 2.26384699e-01, 1.21400319e-02,\n",
              "        3.02854747e-01, 1.34530300e-02, 2.51669735e-01],\n",
              "       [1.73620426e-03, 6.88453764e-02, 1.90804957e-03, 4.12017703e-01,\n",
              "        3.34384409e-03, 1.58850342e-01, 3.53298485e-01],\n",
              "       [1.60851311e-02, 2.97738552e-01, 1.31433442e-01, 2.37351526e-02,\n",
              "        3.04389834e-01, 1.43770888e-01, 8.28470141e-02],\n",
              "       [5.33635961e-03, 2.02766489e-02, 1.74494162e-02, 7.81926047e-03,\n",
              "        2.27303486e-02, 2.09522694e-02, 9.05435681e-01],\n",
              "       [1.34735778e-01, 8.00866112e-02, 2.67801911e-01, 1.06105059e-02,\n",
              "        3.08412373e-01, 1.35281995e-01, 6.30708113e-02],\n",
              "       [2.13594502e-03, 7.23930774e-03, 2.00254563e-02, 1.20647565e-01,\n",
              "        4.23176726e-03, 7.85211146e-01, 6.05088212e-02],\n",
              "       [3.21454892e-04, 5.85942492e-02, 1.62526092e-03, 7.64435291e-01,\n",
              "        1.01185106e-01, 5.28465323e-02, 2.09921394e-02],\n",
              "       [2.68186675e-03, 8.28052834e-02, 8.78266990e-03, 7.33789146e-01,\n",
              "        1.06278300e-01, 4.72449474e-02, 1.84177011e-02],\n",
              "       [1.26655335e-02, 7.02053010e-02, 1.26108721e-01, 1.26504237e-02,\n",
              "        1.21412098e-01, 4.39818799e-02, 6.12976074e-01],\n",
              "       [2.06204772e-01, 1.45228639e-01, 1.66441277e-01, 1.12916855e-02,\n",
              "        2.70417854e-02, 1.94533896e-02, 4.24338430e-01],\n",
              "       [3.86018935e-03, 4.76115942e-03, 8.75558108e-02, 5.85779995e-02,\n",
              "        5.55940950e-03, 6.50322974e-01, 1.89362422e-01],\n",
              "       [3.29800248e-02, 9.73914266e-02, 3.56259167e-01, 1.37008987e-02,\n",
              "        1.73193112e-01, 8.26800317e-02, 2.43795365e-01],\n",
              "       [5.97772235e-03, 2.87785232e-01, 1.11870645e-02, 2.59564131e-01,\n",
              "        3.03031743e-01, 3.22376154e-02, 1.00216500e-01],\n",
              "       [3.29697994e-03, 1.39930882e-02, 7.87976850e-03, 3.01239789e-01,\n",
              "        9.08556953e-03, 6.21730328e-01, 4.27745432e-02],\n",
              "       [2.08147299e-02, 7.39422590e-02, 1.97049826e-01, 1.29834600e-02,\n",
              "        2.80340225e-01, 8.23632181e-02, 3.32506239e-01],\n",
              "       [8.20470136e-03, 3.30974340e-01, 1.64391510e-02, 1.28407165e-01,\n",
              "        1.78606480e-01, 6.18243255e-02, 2.75543839e-01],\n",
              "       [9.47893132e-03, 2.35664457e-01, 1.82147920e-02, 1.60694063e-01,\n",
              "        1.39870793e-02, 7.66423568e-02, 4.85318273e-01],\n",
              "       [2.56031990e-01, 1.43181635e-02, 2.29046531e-02, 1.00312471e-01,\n",
              "        3.26301786e-03, 5.59203982e-01, 4.39656302e-02],\n",
              "       [3.72635596e-03, 2.48692349e-01, 5.08795381e-02, 2.32504889e-01,\n",
              "        4.25577238e-02, 5.63639402e-02, 3.65275234e-01]], dtype=float32)"
            ]
          },
          "metadata": {},
          "execution_count": 41
        }
      ]
    },
    {
      "cell_type": "code",
      "source": [
        "y_pred_test_class "
      ],
      "metadata": {
        "colab": {
          "base_uri": "https://localhost:8080/"
        },
        "id": "ph-j4nBsAxjT",
        "outputId": "e05e0891-75d7-47f8-b952-029dc5744c5f"
      },
      "execution_count": 42,
      "outputs": [
        {
          "output_type": "execute_result",
          "data": {
            "text/plain": [
              "array([3, 3, 2, 6, 1, 1, 1, 2, 3, 6, 3, 1, 0, 2, 2, 0, 6, 3, 3, 0, 1, 2,\n",
              "       0, 2, 6, 1, 3, 2, 2, 6, 5, 6, 5, 1, 1, 0, 1, 3, 5, 4, 6, 1, 5, 3,\n",
              "       2, 3, 5, 1, 3, 1, 5, 3, 2, 4, 5, 1, 5, 0, 4, 3, 0, 5, 1, 2, 2, 2,\n",
              "       1, 0, 3, 3, 3, 1, 4, 2, 4, 6, 5, 1, 2, 0, 0, 2, 2, 3, 4, 1, 5, 3,\n",
              "       3, 5, 0, 5, 6, 1, 0, 4, 0, 3, 4, 0, 4, 6, 3, 1, 4, 3, 4, 6, 4, 5,\n",
              "       3, 3, 6, 6, 5, 2, 4, 5, 6, 1, 6, 5, 6])"
            ]
          },
          "metadata": {},
          "execution_count": 42
        }
      ]
    },
    {
      "cell_type": "markdown",
      "source": [
        "### Test Set Confusion Matrix and Heatmap"
      ],
      "metadata": {
        "id": "Epp2QpxsUVXH"
      }
    },
    {
      "cell_type": "code",
      "source": [
        "# Test set Confusion matrix\n",
        "\n",
        "cm=confusion_matrix(y_test_class, y_pred_test_class)\n",
        "\n",
        "index = ['calm', 'happy', 'sad', 'angry', 'fearful', 'disgust', 'surprised']  \n",
        "columns = ['calm', 'happy', 'sad', 'angry', 'fearful', 'disgust', 'surprised']  \n",
        " \n",
        "cm_df = pd.DataFrame(cm,index,columns)                      \n",
        "plt.figure(figsize=(12,8))\n",
        "ax = plt.axes()\n",
        "\n",
        "sns.heatmap(cm_df, ax = ax, cmap = 'BuGn', fmt=\"d\", annot=True)\n",
        "ax.set_ylabel('True emotion')\n",
        "ax.set_xlabel('Predicted emotion')"
      ],
      "metadata": {
        "colab": {
          "base_uri": "https://localhost:8080/",
          "height": 518
        },
        "id": "ukGrk_cagzyb",
        "outputId": "7ea6de2f-27fb-4891-9f5e-6e8ab8015b65"
      },
      "execution_count": 43,
      "outputs": [
        {
          "output_type": "execute_result",
          "data": {
            "text/plain": [
              "Text(0.5, 51.0, 'Predicted emotion')"
            ]
          },
          "metadata": {},
          "execution_count": 43
        },
        {
          "output_type": "display_data",
          "data": {
            "text/plain": [
              "<Figure size 864x576 with 2 Axes>"
            ],
            "image/png": "[encoded data removed]"
          },
          "metadata": {
            "needs_background": "light"
          }
        }
      ]
    },
    {
      "cell_type": "code",
      "source": [
        "# Confusion Matrix\n",
        "cm"
      ],
      "metadata": {
        "colab": {
          "base_uri": "https://localhost:8080/"
        },
        "id": "9f51xwUE8haF",
        "outputId": "7e9e4700-dbfa-492e-f074-301bd188d911"
      },
      "execution_count": 44,
      "outputs": [
        {
          "output_type": "execute_result",
          "data": {
            "text/plain": [
              "array([[7, 3, 2, 0, 0, 2, 1],\n",
              "       [0, 3, 3, 2, 1, 3, 2],\n",
              "       [3, 1, 6, 2, 3, 0, 0],\n",
              "       [0, 1, 1, 9, 4, 5, 0],\n",
              "       [1, 7, 4, 3, 3, 1, 2],\n",
              "       [0, 3, 2, 4, 1, 3, 3],\n",
              "       [3, 3, 0, 4, 1, 3, 8]])"
            ]
          },
          "metadata": {},
          "execution_count": 44
        }
      ]
    },
    {
      "cell_type": "markdown",
      "source": [
        "### Test Set Predicted emotions accuracy"
      ],
      "metadata": {
        "id": "zil3CkweUX0q"
      }
    },
    {
      "cell_type": "code",
      "source": [
        "# Test set prediction accuracy rates\n",
        "\n",
        "values = cm.diagonal()\n",
        "row_sum = np.sum(cm,axis=1)\n",
        "acc = values / row_sum\n",
        "\n",
        "print('Test set predicted emotions accuracy:')\n",
        "for e in range(0, len(values)):\n",
        "    print(index[e],':', f\"{(acc[e]):0.4f}\")"
      ],
      "metadata": {
        "colab": {
          "base_uri": "https://localhost:8080/"
        },
        "id": "t_ORyGGig090",
        "outputId": "b4aeeb81-2530-4daf-983e-14b61221cbba"
      },
      "execution_count": 45,
      "outputs": [
        {
          "output_type": "stream",
          "name": "stdout",
          "text": [
            "Test set predicted emotions accuracy:\n",
            "calm : 0.4667\n",
            "happy : 0.2143\n",
            "sad : 0.4000\n",
            "angry : 0.4500\n",
            "fearful : 0.1429\n",
            "disgust : 0.1875\n",
            "surprised : 0.3636\n"
          ]
        }
      ]
    },
    {
      "cell_type": "markdown",
      "source": [
        "### Precision, Recal, Fscore"
      ],
      "metadata": {
        "id": "8Hzthv1t8kwd"
      }
    },
    {
      "cell_type": "code",
      "source": [
        "# Validation set precision, recall, fscore\n",
        "\n",
        "precision_recall_fscore_support(y_test_class, y_pred_test_class, average='macro')\n"
      ],
      "metadata": {
        "colab": {
          "base_uri": "https://localhost:8080/"
        },
        "id": "QnwWoVFnh33F",
        "outputId": "d646bff4-a244-4681-cd2f-83181580674b"
      },
      "execution_count": 46,
      "outputs": [
        {
          "output_type": "execute_result",
          "data": {
            "text/plain": [
              "(0.3226328993135716, 0.3178494124922696, 0.31517940949684614, None)"
            ]
          },
          "metadata": {},
          "execution_count": 46
        }
      ]
    },
    {
      "cell_type": "code",
      "source": [
        "precision_recall_fscore_support(y_test_class, y_pred_test_class, average='weighted')"
      ],
      "metadata": {
        "colab": {
          "base_uri": "https://localhost:8080/"
        },
        "id": "OlDhuPlqzwVB",
        "outputId": "3f69dd9a-18e4-4890-a406-323e72a01071"
      },
      "execution_count": 47,
      "outputs": [
        {
          "output_type": "execute_result",
          "data": {
            "text/plain": [
              "(0.33064783136519144, 0.3170731707317073, 0.3183404398656699, None)"
            ]
          },
          "metadata": {},
          "execution_count": 47
        }
      ]
    },
    {
      "cell_type": "markdown",
      "source": [
        "### ROC AUC Score"
      ],
      "metadata": {
        "id": "sEuBd9IyLuiD"
      }
    },
    {
      "cell_type": "code",
      "source": [
        "ravdess_df = pd.read_csv (df_path)"
      ],
      "metadata": {
        "id": "8bb4OSmyTO6v"
      },
      "execution_count": 48,
      "outputs": []
    },
    {
      "cell_type": "code",
      "source": [
        "labels = [\"calm\", \"happy\", \"sad\", \"angry\", \"fear\", \"disgust\", \"suprised\"]"
      ],
      "metadata": {
        "id": "1leZ4JGVTfTp"
      },
      "execution_count": 49,
      "outputs": []
    },
    {
      "cell_type": "code",
      "source": [
        "y_test_adj = y_test.reshape(-1,)"
      ],
      "metadata": {
        "id": "MRm1ZwnxFStc"
      },
      "execution_count": 50,
      "outputs": []
    },
    {
      "cell_type": "code",
      "source": [
        "y_proba_test_class.shape"
      ],
      "metadata": {
        "colab": {
          "base_uri": "https://localhost:8080/"
        },
        "id": "O-IcYOABFjxB",
        "outputId": "7ea45992-1070-48b0-915c-41b6e543c78e"
      },
      "execution_count": 51,
      "outputs": [
        {
          "output_type": "execute_result",
          "data": {
            "text/plain": [
              "(123, 7)"
            ]
          },
          "metadata": {},
          "execution_count": 51
        }
      ]
    },
    {
      "cell_type": "code",
      "source": [
        "y_test.shape"
      ],
      "metadata": {
        "colab": {
          "base_uri": "https://localhost:8080/"
        },
        "id": "9AaqUY3PIlMQ",
        "outputId": "2d620736-c832-4dd9-b52b-ab80e06363f8"
      },
      "execution_count": 52,
      "outputs": [
        {
          "output_type": "execute_result",
          "data": {
            "text/plain": [
              "(123, 1)"
            ]
          },
          "metadata": {},
          "execution_count": 52
        }
      ]
    },
    {
      "cell_type": "code",
      "source": [
        "y_test_adj"
      ],
      "metadata": {
        "colab": {
          "base_uri": "https://localhost:8080/"
        },
        "id": "7LgDudYTKInS",
        "outputId": "5348263b-c31d-48a8-f1cb-d27b4d16c00c"
      },
      "execution_count": 53,
      "outputs": [
        {
          "output_type": "execute_result",
          "data": {
            "text/plain": [
              "array([6, 3, 5, 4, 0, 4, 5, 4, 3, 6, 3, 4, 0, 5, 3, 0, 5, 5, 2, 6, 6, 0,\n",
              "       0, 2, 5, 0, 5, 0, 4, 1, 3, 6, 6, 5, 4, 2, 5, 4, 4, 5, 6, 0, 1, 2,\n",
              "       1, 1, 6, 2, 6, 4, 5, 6, 1, 2, 5, 1, 1, 4, 4, 1, 6, 3, 4, 2, 2, 2,\n",
              "       4, 0, 3, 6, 5, 1, 2, 4, 3, 0, 3, 6, 2, 6, 0, 4, 1, 3, 6, 3, 6, 4,\n",
              "       3, 3, 2, 5, 4, 1, 0, 3, 2, 3, 1, 0, 2, 6, 5, 4, 4, 3, 3, 6, 4, 0,\n",
              "       3, 4, 6, 5, 3, 2, 3, 1, 6, 6, 1, 0, 6], dtype=int8)"
            ]
          },
          "metadata": {},
          "execution_count": 53
        }
      ]
    },
    {
      "cell_type": "code",
      "source": [
        "\n",
        "\n",
        "macro_roc_auc_ovo = roc_auc_score(y_test_adj, y_proba_test_class, multi_class=\"ovo\", average=\"macro\")\n",
        "weighted_roc_auc_ovo = roc_auc_score(\n",
        "    y_test_adj, y_proba_test_class, multi_class=\"ovo\", average=\"weighted\"\n",
        ")\n",
        "macro_roc_auc_ovr = roc_auc_score(y_test_adj, y_proba_test_class, multi_class=\"ovr\", average=\"macro\")\n",
        "weighted_roc_auc_ovr = roc_auc_score(\n",
        "    y_test_adj, y_proba_test_class, multi_class=\"ovr\", average=\"weighted\"\n",
        ")\n"
      ],
      "metadata": {
        "id": "oMa4N8EhHlY9"
      },
      "execution_count": 54,
      "outputs": []
    },
    {
      "cell_type": "code",
      "source": [
        "print(\"One-vs-One ROC AUC scores:\\n{:.6f} (macro),\\n{:.6f} \" \"(weighted by prevalence)\\n\".format(macro_roc_auc_ovo, weighted_roc_auc_ovo))\n",
        "print(\"One-vs-Rest ROC AUC scores:\\n{:.6f} (macro),\\n{:.6f} \" \"(weighted by prevalence)\".format(macro_roc_auc_ovr, weighted_roc_auc_ovr))"
      ],
      "metadata": {
        "colab": {
          "base_uri": "https://localhost:8080/"
        },
        "id": "hhBLwtO_ICqL",
        "outputId": "a5c9cba8-d4f3-4a09-a8f5-de88e339d849"
      },
      "execution_count": 55,
      "outputs": [
        {
          "output_type": "stream",
          "name": "stdout",
          "text": [
            "One-vs-One ROC AUC scores:\n",
            "0.709735 (macro),\n",
            "0.710420 (weighted by prevalence)\n",
            "\n",
            "One-vs-Rest ROC AUC scores:\n",
            "0.708778 (macro),\n",
            "0.711733 (weighted by prevalence)\n"
          ]
        }
      ]
    }
  ]
}