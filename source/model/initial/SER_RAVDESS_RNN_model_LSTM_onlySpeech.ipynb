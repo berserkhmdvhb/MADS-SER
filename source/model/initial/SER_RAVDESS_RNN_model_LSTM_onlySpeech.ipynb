{
  "metadata": {
    "kernelspec": {
      "language": "python",
      "display_name": "Python 3",
      "name": "python3"
    },
    "language_info": {
      "pygments_lexer": "ipython3",
      "nbconvert_exporter": "python",
      "version": "3.6.4",
      "file_extension": ".py",
      "codemirror_mode": {
        "name": "ipython",
        "version": 3
      },
      "name": "python",
      "mimetype": "text/x-python"
    },
    "colab": {
      "name": "SER-RAVDESS-RNN-model-LSTM-onlySpeech.ipynb",
      "provenance": [],
      "collapsed_sections": []
    }
  },
  "nbformat_minor": 0,
  "nbformat": 4,
  "cells": [
    {
      "cell_type": "markdown",
      "source": [
        "# Imports"
      ],
      "metadata": {
        "id": "anSyerIFN7qd"
      }
    },
    {
      "cell_type": "code",
      "source": [
        "# Importing Libraries"
      ],
      "metadata": {
        "id": "IMFSwIuvKiw2"
      },
      "execution_count": 65,
      "outputs": []
    },
    {
      "cell_type": "code",
      "source": [
        "!pip install json-tricks"
      ],
      "metadata": {
        "colab": {
          "base_uri": "https://localhost:8080/"
        },
        "id": "bBR8aNsmM2tR",
        "outputId": "ac37e05f-86ec-4f5d-b687-3a2f1862a2c8"
      },
      "execution_count": 66,
      "outputs": [
        {
          "output_type": "stream",
          "name": "stdout",
          "text": [
            "Looking in indexes: https://pypi.org/simple, https://us-python.pkg.dev/colab-wheels/public/simple/\n",
            "Requirement already satisfied: json-tricks in /usr/local/lib/python3.7/dist-packages (3.15.5)\n"
          ]
        }
      ]
    },
    {
      "cell_type": "code",
      "source": [
        "import pandas as pd\n",
        "import numpy as np\n",
        "\n",
        "import os\n",
        "import sys\n",
        "\n",
        "import librosa\n",
        "import librosa.display\n",
        "#from pydub import AudioSegment, effects\n",
        "#import noisereduce as nr\n",
        "\n",
        "\n",
        "import seaborn as sns\n",
        "import matplotlib.pyplot as plt\n",
        "from IPython.display import Audio\n",
        "\n",
        "import tensorflow as tf\n",
        "import keras\n",
        "import sklearn\n",
        "\n",
        "\n",
        "from tensorflow.keras.models import Sequential, Model\n",
        "from tensorflow.keras.layers import Dense, LSTM, Flatten, Dropout, BatchNormalization\n",
        "from tensorflow.keras.callbacks import ModelCheckpoint, EarlyStopping, ReduceLROnPlateau\n",
        "from tensorflow.keras.optimizers import Adam, SGD\n",
        "from tensorflow.keras.utils import to_categorical, plot_model\n",
        "\n",
        "\n",
        "from keras.models import Sequential, model_from_json, load_model\n",
        "from keras import layers\n",
        "from keras import optimizers\n",
        "from keras import callbacks\n",
        "\n",
        "from sklearn.preprocessing import StandardScaler, OneHotEncoder, LabelEncoder\n",
        "from sklearn.metrics import confusion_matrix, classification_report, precision_recall_fscore_support, roc_auc_score\n",
        "from sklearn.model_selection import train_test_split, StratifiedShuffleSplit\n",
        "from sklearn.multiclass import OneVsRestClassifier\n",
        "\n",
        "\n",
        "from tqdm import tqdm\n",
        "\n",
        "\n",
        "from json_tricks import dump, load\n",
        "\n",
        "\n",
        "\n",
        "import warnings\n",
        "if not sys.warnoptions:\n",
        "    warnings.simplefilter(\"ignore\")\n",
        "warnings.filterwarnings(\"ignore\", category=DeprecationWarning) \n",
        "\n",
        "import time\n",
        "tic = time.perf_counter()\n",
        "\n"
      ],
      "metadata": {
        "id": "77IS8HxqFFCA"
      },
      "execution_count": 67,
      "outputs": []
    },
    {
      "cell_type": "code",
      "source": [
        ""
      ],
      "metadata": {
        "id": "gGYqBIk0FGm4"
      },
      "execution_count": 67,
      "outputs": []
    },
    {
      "cell_type": "markdown",
      "source": [
        "# Dataset"
      ],
      "metadata": {
        "id": "nyMzoZKKKiw6"
      }
    },
    {
      "cell_type": "code",
      "source": [
        "from google.colab import drive\n",
        "drive.mount('/content/drive')"
      ],
      "metadata": {
        "colab": {
          "base_uri": "https://localhost:8080/"
        },
        "id": "JFPDGXmwCBs_",
        "outputId": "21dd5348-acd4-41b1-9ac7-2f1e508563fe"
      },
      "execution_count": 68,
      "outputs": [
        {
          "output_type": "stream",
          "name": "stdout",
          "text": [
            "Drive already mounted at /content/drive; to attempt to forcibly remount, call drive.mount(\"/content/drive\", force_remount=True).\n"
          ]
        }
      ]
    },
    {
      "cell_type": "code",
      "source": [
        "#Crema = \"/content/drive/MyDrive/datasets/speech/CREMAD/sample/\"\n",
        "#Crema = \"/content/drive/MyDrive/datasets/speech/CREMAD/AudioWAV/\"\n",
        "Ravdess = \"/content/drive/MyDrive/datasets/speech/RAVDESS/data/Audio_Speech_Actors_01-24\"\n",
        "Ravdess_processed = \"/content/drive/MyDrive/datasets/speech/RAVDESS/processedData/onlySpeech/\"\n",
        "Ravdess_speech_sample = \"/content/drive/MyDrive/datasets/speech/RAVDESS/data/Audio_Speech_Actors_01-24/\"\n",
        "df_path = \"/content/drive/MyDrive/datasets/speech/RAVDESS/ravdess_df_onlySpeech.csv\"\n",
        "model_path = Ravdess + \"/model/\"\n",
        "\n",
        "checkpoint_path = model_path + \"best_weights-os-LSTM-1.hdf5\"\n",
        "saved_model_path = model_path + 'model8723-os-LSTM-1.json'\n",
        "\n",
        "saved_weights_path = model_path + 'model8723_weights-os-LSTM-1.h5'\n",
        "saved_model_path_2 = model_path + 'Speech-Emotion-Recognition-Model-os-LSTM-1.h5'"
      ],
      "metadata": {
        "execution": {
          "iopub.status.busy": "2021-06-21T09:35:38.093538Z",
          "iopub.execute_input": "2021-06-21T09:35:38.093869Z",
          "iopub.status.idle": "2021-06-21T09:35:38.097467Z",
          "shell.execute_reply.started": "2021-06-21T09:35:38.093838Z",
          "shell.execute_reply": "2021-06-21T09:35:38.096608Z"
        },
        "trusted": true,
        "id": "vR2GjHL4Kiw7"
      },
      "execution_count": 69,
      "outputs": []
    },
    {
      "cell_type": "code",
      "source": [
        ""
      ],
      "metadata": {
        "id": "J2T6JxzIF2Jq"
      },
      "execution_count": 69,
      "outputs": []
    },
    {
      "cell_type": "code",
      "source": [
        "##Hypter Parameters' Range\n",
        "params = {\n",
        "    \"batch_size\": 20,  # 20<16<10, 25 was a bust\n",
        "    \"epochs\": 300,\n",
        "    \"lr\": 0.00010000,\n",
        "    \"time_steps\": 60\n",
        "}\n",
        "#TIME_STEPS = params[\"time_steps\"]\n",
        "#BATCH_SIZE = params[\"batch_size\"]\n",
        "#iter_changes = \"dropout_layers_0.4_0.4\"\n"
      ],
      "metadata": {
        "id": "jnEd5_Vvy4ue"
      },
      "execution_count": 70,
      "outputs": []
    },
    {
      "cell_type": "code",
      "source": [
        ""
      ],
      "metadata": {
        "id": "dKXM0xT-N8uy"
      },
      "execution_count": 70,
      "outputs": []
    },
    {
      "cell_type": "markdown",
      "source": [
        "# Load Processed Files, Construct Train, Validation and Test Sets"
      ],
      "metadata": {
        "id": "fse_mTpaOGdQ"
      }
    },
    {
      "cell_type": "code",
      "source": [
        "\n",
        "processed_path = Ravdess_processed\n",
        "x_path = processed_path + \"X_features.json\" # FILE LOAD PATH\n",
        "y_path =  processed_path + \"Y_labels.json\" # FILE SAVE PATH\n",
        "#x_path = '/content/drive/MyDrive/datasets/speech/RAVDESS/processedData/X_features.json'\n",
        "\n",
        "# Load X,Y json files back into lists, convert to np.arrays\n",
        "\n",
        "X = load(x_path)\n",
        "X = np.asarray(X, dtype = 'float32')\n",
        "\n",
        "Y = load(y_path)\n",
        "Y = np.asarray(Y, dtype = 'int8')"
      ],
      "metadata": {
        "id": "101BpvWgN8xX"
      },
      "execution_count": 71,
      "outputs": []
    },
    {
      "cell_type": "code",
      "source": [
        "# Split to train, validation, and test sets.\n",
        "from sklearn.model_selection import train_test_split\n",
        "# 1st Split: X,Y => (x_train, x_tosplit) (y_train, y_tosplit)\n",
        "x_train, x_tosplit, y_train, y_tosplit = train_test_split(X, Y, test_size = 0.125, random_state = 1)\n",
        "# 2nd Split: x_tosplit,y_tosplit => (x_val, x_test) (y_val, y_test) \n",
        "x_val, x_test, y_val, y_test = train_test_split(x_tosplit, y_tosplit, test_size = 0.304, random_state = 1)\n",
        "#'One-hot' vectors for Y: emotion classification\n",
        "y_train_class = tf.keras.utils.to_categorical(y_train, 7, dtype = 'int8')\n",
        "y_val_class = tf.keras.utils.to_categorical(y_val, 7, dtype = 'int8')"
      ],
      "metadata": {
        "id": "CuF9M1mfOD7X"
      },
      "execution_count": 72,
      "outputs": []
    },
    {
      "cell_type": "code",
      "source": [
        ""
      ],
      "metadata": {
        "id": "zUxc6v1Fc_ru"
      },
      "execution_count": 72,
      "outputs": []
    },
    {
      "cell_type": "code",
      "source": [
        "# x_train, x_val, and x_test shape check.\n",
        "print(np.shape(x_train))\n",
        "print(np.shape(x_val))\n",
        "print(np.shape(x_test))"
      ],
      "metadata": {
        "colab": {
          "base_uri": "https://localhost:8080/"
        },
        "id": "od-D1YgBOGXs",
        "outputId": "05f97769-6e7c-448f-ca44-63114e2fe9da"
      },
      "execution_count": 73,
      "outputs": [
        {
          "output_type": "stream",
          "name": "stdout",
          "text": [
            "(1176, 448, 15)\n",
            "(116, 448, 15)\n",
            "(52, 448, 15)\n"
          ]
        }
      ]
    },
    {
      "cell_type": "code",
      "source": [
        "# Save x_test, y_test to JSON.\n",
        "\n",
        "x_test_path = processed_path + 'x_test_data.json'\n",
        "dump(obj = x_test, fp = x_test_path)\n",
        "\n",
        "y_test_path = processed_path + 'y_test_data.json'\n",
        "dump(obj = y_test, fp = y_test_path)"
      ],
      "metadata": {
        "colab": {
          "base_uri": "https://localhost:8080/",
          "height": 70
        },
        "id": "nTExHJVsOHQ5",
        "outputId": "c68600c1-2423-4d2a-a964-c277677a4fae"
      },
      "execution_count": 74,
      "outputs": [
        {
          "output_type": "execute_result",
          "data": {
            "text/plain": [
              "'{\"__ndarray__\": [[0], [2], [6], [5], [3], [3], [2], [4], [4], [3], [6], [2], [0], [5], [0], [5], [0], [0], [6], [3], [5], [3], [3], [3], [4], [2], [5], [5], [2], [1], [4], [2], [6], [3], [2], [4], [0], [0], [3], [4], [6], [1], [0], [3], [2], [0], [5], [2], [4], [5], [0], [5]], \"dtype\": \"int8\", \"shape\": [52, 1], \"Corder\": true}'"
            ],
            "application/vnd.google.colaboratory.intrinsic+json": {
              "type": "string"
            }
          },
          "metadata": {},
          "execution_count": 74
        }
      ]
    },
    {
      "cell_type": "code",
      "source": [
        "# Loading x_test, y_test json files, and converting to np.arrays\n",
        "\n",
        "x_test = load(processed_path + 'x_test_data.json')\n",
        "x_test = np.asarray(x_test).astype('float32')\n",
        "\n",
        "y_test = load(processed_path + 'y_test_data.json')\n",
        "y_test = np.asarray(y_test).astype('int8')\n",
        "\n",
        "y_test_class = tf.keras.utils.to_categorical(y_test, 7, dtype = 'int8')"
      ],
      "metadata": {
        "id": "kAFBRsmk5dzm"
      },
      "execution_count": 75,
      "outputs": []
    },
    {
      "cell_type": "code",
      "source": [
        "X.shape"
      ],
      "metadata": {
        "id": "15joCR4gu4r7",
        "colab": {
          "base_uri": "https://localhost:8080/"
        },
        "outputId": "6503ec92-9187-4aee-e6ca-e895be124a0c"
      },
      "execution_count": 76,
      "outputs": [
        {
          "output_type": "execute_result",
          "data": {
            "text/plain": [
              "(1344, 448, 15)"
            ]
          },
          "metadata": {},
          "execution_count": 76
        }
      ]
    },
    {
      "cell_type": "code",
      "source": [
        "X.shape[1:3]"
      ],
      "metadata": {
        "colab": {
          "base_uri": "https://localhost:8080/"
        },
        "id": "8MQhoPKjEzi4",
        "outputId": "92e8f711-7509-4d55-c207-f0b7a66fe461"
      },
      "execution_count": 77,
      "outputs": [
        {
          "output_type": "execute_result",
          "data": {
            "text/plain": [
              "(448, 15)"
            ]
          },
          "metadata": {},
          "execution_count": 77
        }
      ]
    },
    {
      "cell_type": "markdown",
      "source": [
        "# RNN Model"
      ],
      "metadata": {
        "id": "gnWVMbR6KixC"
      }
    },
    {
      "cell_type": "code",
      "source": [
        "tic"
      ],
      "metadata": {
        "colab": {
          "base_uri": "https://localhost:8080/"
        },
        "id": "7CHZWdfcN8oo",
        "outputId": "8f05447f-9052-4412-c48d-3ea057105570"
      },
      "execution_count": 81,
      "outputs": [
        {
          "output_type": "execute_result",
          "data": {
            "text/plain": [
              "4829.511644707"
            ]
          },
          "metadata": {},
          "execution_count": 81
        }
      ]
    },
    {
      "cell_type": "markdown",
      "source": [
        "## Define Model & Training"
      ],
      "metadata": {
        "id": "GJjJYnJQORJ8"
      }
    },
    {
      "cell_type": "code",
      "source": [
        "# Initializing the model\n",
        "\n",
        "model = Sequential()\n",
        "model.add(layers.LSTM(128, return_sequences = True, input_shape=(X.shape[1:3])))\n",
        "model.add(layers.LSTM(64))\n",
        "model.add(layers.Dense(7, activation = 'softmax'))\n",
        "print(model.summary())\n",
        "\n",
        "batch_size = 23\n",
        "\n",
        "# Callbacks functions\n",
        "\n",
        "#-> EearlyStopping\n",
        "es = EarlyStopping(monitor='val_loss', mode='min', verbose=1,\n",
        "                    patience=10, min_delta=0.0001)\n",
        "\n",
        "\n",
        "#-> Save the best weights\n",
        "mcp_save = callbacks.ModelCheckpoint(checkpoint_path, save_best_only=True,\n",
        "                           monitor='val_categorical_accuracy',\n",
        "                           mode='max')\n",
        "#-> Reduce learning rate after 100 epoches without improvement.\n",
        "rlrop = callbacks.ReduceLROnPlateau(monitor='val_categorical_accuracy', \n",
        "                                    factor=0.1, patience=20)\n",
        "                             \n",
        "# Compile & train   \n",
        "model.compile(loss='categorical_crossentropy', \n",
        "                optimizer='RMSProp', \n",
        "                metrics=['categorical_accuracy'])\n",
        "\n",
        "\n"
      ],
      "metadata": {
        "colab": {
          "base_uri": "https://localhost:8080/"
        },
        "id": "aD2adyVGOJs4",
        "outputId": "c6e53597-0ff3-4a91-c73f-50a31c88be07"
      },
      "execution_count": 82,
      "outputs": [
        {
          "output_type": "stream",
          "name": "stdout",
          "text": [
            "Model: \"sequential_2\"\n",
            "_________________________________________________________________\n",
            " Layer (type)                Output Shape              Param #   \n",
            "=================================================================\n",
            " lstm_4 (LSTM)               (None, 448, 128)          73728     \n",
            "                                                                 \n",
            " lstm_5 (LSTM)               (None, 64)                49408     \n",
            "                                                                 \n",
            " dense_2 (Dense)             (None, 7)                 455       \n",
            "                                                                 \n",
            "=================================================================\n",
            "Total params: 123,591\n",
            "Trainable params: 123,591\n",
            "Non-trainable params: 0\n",
            "_________________________________________________________________\n",
            "None\n"
          ]
        }
      ]
    },
    {
      "cell_type": "code",
      "source": [
        "history = model.fit(x_train, y_train_class, \n",
        "                      epochs=340, batch_size = batch_size, \n",
        "                      validation_data = (x_val, y_val_class), \n",
        "                      callbacks = [es, mcp_save, rlrop])\n",
        "toc = time.perf_counter()"
      ],
      "metadata": {
        "colab": {
          "base_uri": "https://localhost:8080/"
        },
        "id": "Da7Gc9x_izth",
        "outputId": "6678cc43-c135-4641-abc4-812ba728c053"
      },
      "execution_count": 83,
      "outputs": [
        {
          "output_type": "stream",
          "name": "stdout",
          "text": [
            "Epoch 1/340\n",
            "52/52 [==============================] - 57s 948ms/step - loss: 1.9707 - categorical_accuracy: 0.1412 - val_loss: 1.9710 - val_categorical_accuracy: 0.1121 - lr: 0.0010\n",
            "Epoch 2/340\n",
            "52/52 [==============================] - 55s 1s/step - loss: 1.9486 - categorical_accuracy: 0.1658 - val_loss: 1.9089 - val_categorical_accuracy: 0.2500 - lr: 0.0010\n",
            "Epoch 3/340\n",
            "52/52 [==============================] - 47s 913ms/step - loss: 1.9318 - categorical_accuracy: 0.1675 - val_loss: 1.9323 - val_categorical_accuracy: 0.1121 - lr: 0.0010\n",
            "Epoch 4/340\n",
            "52/52 [==============================] - 49s 935ms/step - loss: 1.9225 - categorical_accuracy: 0.1862 - val_loss: 1.9017 - val_categorical_accuracy: 0.2328 - lr: 0.0010\n",
            "Epoch 5/340\n",
            "52/52 [==============================] - 47s 909ms/step - loss: 1.9285 - categorical_accuracy: 0.1862 - val_loss: 1.9671 - val_categorical_accuracy: 0.1293 - lr: 0.0010\n",
            "Epoch 6/340\n",
            "52/52 [==============================] - 49s 934ms/step - loss: 1.9286 - categorical_accuracy: 0.1879 - val_loss: 1.9334 - val_categorical_accuracy: 0.1638 - lr: 0.0010\n",
            "Epoch 7/340\n",
            "52/52 [==============================] - 48s 918ms/step - loss: 1.9191 - categorical_accuracy: 0.1837 - val_loss: 1.9500 - val_categorical_accuracy: 0.1638 - lr: 0.0010\n",
            "Epoch 8/340\n",
            "52/52 [==============================] - 49s 940ms/step - loss: 1.9003 - categorical_accuracy: 0.2219 - val_loss: 2.0025 - val_categorical_accuracy: 0.1466 - lr: 0.0010\n",
            "Epoch 9/340\n",
            "52/52 [==============================] - 48s 920ms/step - loss: 1.8913 - categorical_accuracy: 0.2049 - val_loss: 1.9417 - val_categorical_accuracy: 0.2069 - lr: 0.0010\n",
            "Epoch 10/340\n",
            "52/52 [==============================] - 47s 901ms/step - loss: 1.8761 - categorical_accuracy: 0.2372 - val_loss: 1.9602 - val_categorical_accuracy: 0.1983 - lr: 0.0010\n",
            "Epoch 11/340\n",
            "52/52 [==============================] - 47s 910ms/step - loss: 1.8600 - categorical_accuracy: 0.2415 - val_loss: 1.8703 - val_categorical_accuracy: 0.2069 - lr: 0.0010\n",
            "Epoch 12/340\n",
            "52/52 [==============================] - 47s 911ms/step - loss: 1.8297 - categorical_accuracy: 0.2832 - val_loss: 1.9919 - val_categorical_accuracy: 0.1552 - lr: 0.0010\n",
            "Epoch 13/340\n",
            "52/52 [==============================] - 48s 915ms/step - loss: 1.8235 - categorical_accuracy: 0.2704 - val_loss: 1.9576 - val_categorical_accuracy: 0.1810 - lr: 0.0010\n",
            "Epoch 14/340\n",
            "52/52 [==============================] - 48s 916ms/step - loss: 1.8231 - categorical_accuracy: 0.2730 - val_loss: 1.8650 - val_categorical_accuracy: 0.2241 - lr: 0.0010\n",
            "Epoch 15/340\n",
            "52/52 [==============================] - 48s 924ms/step - loss: 1.8030 - categorical_accuracy: 0.2670 - val_loss: 1.8426 - val_categorical_accuracy: 0.2845 - lr: 0.0010\n",
            "Epoch 16/340\n",
            "52/52 [==============================] - 48s 920ms/step - loss: 1.7984 - categorical_accuracy: 0.2883 - val_loss: 1.8644 - val_categorical_accuracy: 0.2414 - lr: 0.0010\n",
            "Epoch 17/340\n",
            "52/52 [==============================] - 47s 913ms/step - loss: 1.8083 - categorical_accuracy: 0.2755 - val_loss: 1.8434 - val_categorical_accuracy: 0.2241 - lr: 0.0010\n",
            "Epoch 18/340\n",
            "52/52 [==============================] - 48s 924ms/step - loss: 1.7886 - categorical_accuracy: 0.2908 - val_loss: 1.7497 - val_categorical_accuracy: 0.3534 - lr: 0.0010\n",
            "Epoch 19/340\n",
            "52/52 [==============================] - 47s 913ms/step - loss: 1.7754 - categorical_accuracy: 0.2993 - val_loss: 1.8371 - val_categorical_accuracy: 0.2328 - lr: 0.0010\n",
            "Epoch 20/340\n",
            "52/52 [==============================] - 48s 928ms/step - loss: 1.7599 - categorical_accuracy: 0.2976 - val_loss: 1.7715 - val_categorical_accuracy: 0.2414 - lr: 0.0010\n",
            "Epoch 21/340\n",
            "52/52 [==============================] - 48s 925ms/step - loss: 1.7199 - categorical_accuracy: 0.2951 - val_loss: 1.9164 - val_categorical_accuracy: 0.1897 - lr: 0.0010\n",
            "Epoch 22/340\n",
            "52/52 [==============================] - 48s 922ms/step - loss: 1.6672 - categorical_accuracy: 0.3452 - val_loss: 1.8311 - val_categorical_accuracy: 0.2931 - lr: 0.0010\n",
            "Epoch 23/340\n",
            "52/52 [==============================] - 48s 919ms/step - loss: 1.6800 - categorical_accuracy: 0.3367 - val_loss: 1.8605 - val_categorical_accuracy: 0.2931 - lr: 0.0010\n",
            "Epoch 24/340\n",
            "52/52 [==============================] - 48s 917ms/step - loss: 1.6466 - categorical_accuracy: 0.3469 - val_loss: 1.8021 - val_categorical_accuracy: 0.3190 - lr: 0.0010\n",
            "Epoch 25/340\n",
            "52/52 [==============================] - 48s 915ms/step - loss: 1.6543 - categorical_accuracy: 0.3486 - val_loss: 1.9477 - val_categorical_accuracy: 0.2845 - lr: 0.0010\n",
            "Epoch 26/340\n",
            "52/52 [==============================] - 48s 920ms/step - loss: 1.6720 - categorical_accuracy: 0.3478 - val_loss: 1.8106 - val_categorical_accuracy: 0.2328 - lr: 0.0010\n",
            "Epoch 27/340\n",
            "52/52 [==============================] - 47s 910ms/step - loss: 1.6362 - categorical_accuracy: 0.3622 - val_loss: 2.0712 - val_categorical_accuracy: 0.2328 - lr: 0.0010\n",
            "Epoch 28/340\n",
            "52/52 [==============================] - 48s 921ms/step - loss: 1.6444 - categorical_accuracy: 0.3563 - val_loss: 1.8389 - val_categorical_accuracy: 0.2759 - lr: 0.0010\n",
            "Epoch 28: early stopping\n"
          ]
        }
      ]
    },
    {
      "cell_type": "code",
      "source": [
        ""
      ],
      "metadata": {
        "id": "3MekXCZHizyZ"
      },
      "execution_count": 83,
      "outputs": []
    },
    {
      "cell_type": "code",
      "source": [
        "print(f\"Running time: {(toc - tic)/60:0.4f} minutes\")"
      ],
      "metadata": {
        "id": "cHmSBRhVOELJ",
        "colab": {
          "base_uri": "https://localhost:8080/"
        },
        "outputId": "609f2298-9950-4b61-c1c4-eb61cbe8bf28"
      },
      "execution_count": 84,
      "outputs": [
        {
          "output_type": "stream",
          "name": "stdout",
          "text": [
            "Running time: 23.8539 minutes\n"
          ]
        }
      ]
    },
    {
      "cell_type": "markdown",
      "source": [
        "## Loading Model"
      ],
      "metadata": {
        "id": "jCQelzMAKixD"
      }
    },
    {
      "cell_type": "code",
      "source": [
        "# Define the best weights to the model.\\\n",
        "#model.load_weights(checkpoint_path)"
      ],
      "metadata": {
        "id": "gruZAW2wI-tO"
      },
      "execution_count": 85,
      "outputs": []
    },
    {
      "cell_type": "markdown",
      "source": [
        "# Evaluation"
      ],
      "metadata": {
        "id": "kDxTjEK0KixD"
      }
    },
    {
      "cell_type": "markdown",
      "source": [
        "## Save & Load model, weights"
      ],
      "metadata": {
        "id": "1YfguG0tPatV"
      }
    },
    {
      "cell_type": "code",
      "source": [
        "# Saving model & weights\n",
        "model_json = model.to_json()\n",
        "\n",
        "\n",
        "\n",
        "with open(saved_model_path, \"w\") as json_file:\n",
        "    json_file.write(model_json)\n",
        "    \n",
        "model.save_weights(saved_weights_path)\n",
        "print(\"Saved model to disk\")"
      ],
      "metadata": {
        "colab": {
          "base_uri": "https://localhost:8080/"
        },
        "id": "MsVoNhqmgGsK",
        "outputId": "291622df-3645-4b1b-c23d-00e64823113a"
      },
      "execution_count": 86,
      "outputs": [
        {
          "output_type": "stream",
          "name": "stdout",
          "text": [
            "Saved model to disk\n"
          ]
        }
      ]
    },
    {
      "cell_type": "code",
      "source": [
        "# Reading the model from JSON file\n",
        "#model_path = Ravdess + \"/model/\"\n",
        "#saved_model_path = model_path + 'model8723.json'\n",
        "#saved_weights_path = model_path + 'model8723_weights.h5'\n",
        "\n",
        "\n",
        "with open(saved_model_path , 'r') as json_file:\n",
        "    json_savedModel = json_file.read()\n",
        "    \n",
        "# Loading the model architecture, weights\n",
        "model = tf.keras.models.model_from_json(json_savedModel)\n",
        "model.load_weights(saved_weights_path)\n",
        "\n",
        "# Compiling the model with similar parameters as the original model.\n",
        "model.compile(loss='categorical_crossentropy', \n",
        "                optimizer='RMSProp', \n",
        "                metrics=['categorical_accuracy'])\n",
        "\n",
        "# Model's structure visualization\n",
        "tf.keras.utils.plot_model(model, to_file='model.png', show_shapes=True, show_layer_names=True)"
      ],
      "metadata": {
        "colab": {
          "base_uri": "https://localhost:8080/",
          "height": 422
        },
        "id": "y4OJGhLmgfX6",
        "outputId": "7d16ee31-c7f1-4264-cc45-b8a6ca0c96fd"
      },
      "execution_count": 87,
      "outputs": [
        {
          "output_type": "execute_result",
          "data": {
            "text/plain": [
              "<IPython.core.display.Image object>"
            ],
            "image/png": "[encoded data removed]"
          },
          "metadata": {},
          "execution_count": 87
        }
      ]
    },
    {
      "cell_type": "code",
      "source": [
        ""
      ],
      "metadata": {
        "id": "B_SW6eUAgvEj"
      },
      "execution_count": 87,
      "outputs": []
    },
    {
      "cell_type": "code",
      "source": [
        ""
      ],
      "metadata": {
        "id": "cCfkUXTYgzSB"
      },
      "execution_count": 87,
      "outputs": []
    },
    {
      "cell_type": "code",
      "source": [
        "model.save(saved_model_path_2)"
      ],
      "metadata": {
        "trusted": true,
        "id": "Z5Uzb_bGKixE"
      },
      "execution_count": 88,
      "outputs": []
    },
    {
      "cell_type": "markdown",
      "source": [
        "## Train (fit) Visualization"
      ],
      "metadata": {
        "id": "ATvBW0SPO-eq"
      }
    },
    {
      "cell_type": "code",
      "source": [
        "# Loss, Accuracy presentation\n",
        "\n",
        "# Plot history: Loss\n",
        "plt.plot(history.history['loss'], label='Loss (training data)')\n",
        "plt.plot(history.history['val_loss'], label='Loss (validation data)')\n",
        "plt.title('Loss for train and validation')\n",
        "plt.ylabel('Loss value')\n",
        "plt.xlabel('No. epoch')\n",
        "plt.legend(loc=\"upper left\")\n",
        "plt.show()\n",
        "\n",
        "#Plot history: Accuracy\n",
        "plt.plot(history.history['categorical_accuracy'], label='Acc (training data)')\n",
        "plt.plot(history.history['val_categorical_accuracy'], label='Acc (validation data)')\n",
        "plt.title('Model accuracy')\n",
        "plt.ylabel('Acc %')\n",
        "plt.xlabel('No. epoch')\n",
        "plt.legend(loc=\"upper left\")\n",
        "plt.show()"
      ],
      "metadata": {
        "colab": {
          "base_uri": "https://localhost:8080/",
          "height": 573
        },
        "id": "UjhUHhU_f4EY",
        "outputId": "b68a121d-55b4-4177-e0c7-0df068707c22"
      },
      "execution_count": 89,
      "outputs": [
        {
          "output_type": "display_data",
          "data": {
            "text/plain": [
              "<Figure size 432x288 with 1 Axes>"
            ],
            "image/png": "[encoded data removed]"
          },
          "metadata": {
            "needs_background": "light"
          }
        },
        {
          "output_type": "display_data",
          "data": {
            "text/plain": [
              "<Figure size 432x288 with 1 Axes>"
            ],
            "image/png": "[encoded data removed]"
          },
          "metadata": {
            "needs_background": "light"
          }
        }
      ]
    },
    {
      "cell_type": "markdown",
      "source": [
        "## Validation Set Evaluation"
      ],
      "metadata": {
        "id": "UZ3lFduxPQeB"
      }
    },
    {
      "cell_type": "markdown",
      "source": [
        "### Val Set Score"
      ],
      "metadata": {
        "id": "5YoYCa22PMGz"
      }
    },
    {
      "cell_type": "code",
      "source": [
        ""
      ],
      "metadata": {
        "id": "jQavrzbB_8fy"
      },
      "execution_count": 89,
      "outputs": []
    },
    {
      "cell_type": "code",
      "source": [
        "# Validation score\n",
        "loss,acc = model.evaluate(x_val, y_val_class, verbose=2)\n"
      ],
      "metadata": {
        "id": "X_KdTUyrf7-j",
        "colab": {
          "base_uri": "https://localhost:8080/"
        },
        "outputId": "8c4b2f59-5952-4e08-8512-3c5947b09c73"
      },
      "execution_count": 90,
      "outputs": [
        {
          "output_type": "stream",
          "name": "stdout",
          "text": [
            "4/4 - 3s - loss: 1.8389 - categorical_accuracy: 0.2759 - 3s/epoch - 731ms/step\n"
          ]
        }
      ]
    },
    {
      "cell_type": "code",
      "source": [
        ""
      ],
      "metadata": {
        "id": "09k_I9DM_2Q0"
      },
      "execution_count": 90,
      "outputs": []
    },
    {
      "cell_type": "markdown",
      "source": [
        "### Construct Predicted Labels based on Probability of each class"
      ],
      "metadata": {
        "id": "hz7nc15A_3hb"
      }
    },
    {
      "cell_type": "code",
      "source": [
        "y_val_class"
      ],
      "metadata": {
        "colab": {
          "base_uri": "https://localhost:8080/"
        },
        "id": "CFM1P2SZ_85N",
        "outputId": "aee1844a-a1cb-4baf-a52a-3aa4d5fe15bf"
      },
      "execution_count": 91,
      "outputs": [
        {
          "output_type": "execute_result",
          "data": {
            "text/plain": [
              "array([[1, 0, 0, 0, 0, 0, 0],\n",
              "       [0, 1, 0, 0, 0, 0, 0],\n",
              "       [0, 0, 0, 0, 0, 0, 1],\n",
              "       [0, 1, 0, 0, 0, 0, 0],\n",
              "       [0, 0, 0, 0, 0, 1, 0],\n",
              "       [0, 1, 0, 0, 0, 0, 0],\n",
              "       [0, 0, 0, 0, 1, 0, 0],\n",
              "       [0, 0, 0, 0, 0, 0, 1],\n",
              "       [0, 0, 0, 0, 0, 0, 1],\n",
              "       [0, 1, 0, 0, 0, 0, 0],\n",
              "       [0, 0, 1, 0, 0, 0, 0],\n",
              "       [0, 0, 0, 0, 1, 0, 0],\n",
              "       [0, 0, 0, 0, 0, 0, 1],\n",
              "       [0, 0, 0, 0, 0, 1, 0],\n",
              "       [0, 0, 0, 0, 0, 0, 1],\n",
              "       [0, 0, 0, 1, 0, 0, 0],\n",
              "       [0, 0, 1, 0, 0, 0, 0],\n",
              "       [0, 0, 1, 0, 0, 0, 0],\n",
              "       [1, 0, 0, 0, 0, 0, 0],\n",
              "       [0, 0, 0, 0, 0, 0, 1],\n",
              "       [0, 1, 0, 0, 0, 0, 0],\n",
              "       [0, 0, 0, 0, 0, 0, 1],\n",
              "       [0, 0, 0, 0, 0, 1, 0],\n",
              "       [1, 0, 0, 0, 0, 0, 0],\n",
              "       [0, 0, 0, 0, 1, 0, 0],\n",
              "       [0, 0, 0, 0, 0, 1, 0],\n",
              "       [1, 0, 0, 0, 0, 0, 0],\n",
              "       [0, 0, 0, 1, 0, 0, 0],\n",
              "       [0, 1, 0, 0, 0, 0, 0],\n",
              "       [0, 0, 0, 1, 0, 0, 0],\n",
              "       [0, 0, 0, 0, 0, 0, 1],\n",
              "       [0, 0, 0, 0, 0, 1, 0],\n",
              "       [1, 0, 0, 0, 0, 0, 0],\n",
              "       [0, 0, 0, 1, 0, 0, 0],\n",
              "       [1, 0, 0, 0, 0, 0, 0],\n",
              "       [0, 0, 0, 0, 0, 1, 0],\n",
              "       [0, 0, 1, 0, 0, 0, 0],\n",
              "       [0, 0, 0, 0, 0, 0, 1],\n",
              "       [0, 0, 1, 0, 0, 0, 0],\n",
              "       [0, 0, 0, 0, 1, 0, 0],\n",
              "       [0, 0, 0, 0, 1, 0, 0],\n",
              "       [0, 0, 0, 1, 0, 0, 0],\n",
              "       [0, 0, 0, 0, 0, 1, 0],\n",
              "       [0, 0, 0, 0, 1, 0, 0],\n",
              "       [0, 0, 1, 0, 0, 0, 0],\n",
              "       [0, 0, 0, 1, 0, 0, 0],\n",
              "       [0, 0, 1, 0, 0, 0, 0],\n",
              "       [0, 0, 0, 0, 1, 0, 0],\n",
              "       [0, 0, 0, 1, 0, 0, 0],\n",
              "       [0, 0, 1, 0, 0, 0, 0],\n",
              "       [0, 0, 0, 0, 0, 0, 1],\n",
              "       [0, 0, 0, 0, 0, 0, 1],\n",
              "       [0, 1, 0, 0, 0, 0, 0],\n",
              "       [0, 0, 0, 0, 0, 1, 0],\n",
              "       [1, 0, 0, 0, 0, 0, 0],\n",
              "       [0, 0, 0, 0, 1, 0, 0],\n",
              "       [0, 0, 1, 0, 0, 0, 0],\n",
              "       [0, 0, 0, 0, 1, 0, 0],\n",
              "       [0, 0, 0, 0, 0, 1, 0],\n",
              "       [0, 0, 0, 0, 0, 1, 0],\n",
              "       [0, 0, 1, 0, 0, 0, 0],\n",
              "       [0, 0, 1, 0, 0, 0, 0],\n",
              "       [0, 0, 0, 0, 0, 0, 1],\n",
              "       [0, 1, 0, 0, 0, 0, 0],\n",
              "       [0, 0, 0, 0, 0, 0, 1],\n",
              "       [0, 0, 0, 0, 1, 0, 0],\n",
              "       [0, 0, 0, 0, 1, 0, 0],\n",
              "       [0, 0, 0, 0, 0, 0, 1],\n",
              "       [0, 0, 1, 0, 0, 0, 0],\n",
              "       [1, 0, 0, 0, 0, 0, 0],\n",
              "       [0, 0, 0, 0, 0, 1, 0],\n",
              "       [1, 0, 0, 0, 0, 0, 0],\n",
              "       [0, 0, 0, 1, 0, 0, 0],\n",
              "       [0, 0, 1, 0, 0, 0, 0],\n",
              "       [0, 0, 0, 0, 0, 0, 1],\n",
              "       [0, 0, 0, 1, 0, 0, 0],\n",
              "       [0, 0, 0, 1, 0, 0, 0],\n",
              "       [0, 0, 0, 0, 0, 0, 1],\n",
              "       [0, 0, 0, 0, 0, 1, 0],\n",
              "       [0, 0, 0, 0, 0, 1, 0],\n",
              "       [0, 1, 0, 0, 0, 0, 0],\n",
              "       [0, 1, 0, 0, 0, 0, 0],\n",
              "       [0, 1, 0, 0, 0, 0, 0],\n",
              "       [0, 0, 0, 0, 0, 1, 0],\n",
              "       [0, 0, 0, 0, 0, 0, 1],\n",
              "       [0, 0, 0, 0, 0, 0, 1],\n",
              "       [0, 1, 0, 0, 0, 0, 0],\n",
              "       [0, 0, 1, 0, 0, 0, 0],\n",
              "       [1, 0, 0, 0, 0, 0, 0],\n",
              "       [0, 0, 0, 0, 0, 0, 1],\n",
              "       [0, 0, 0, 1, 0, 0, 0],\n",
              "       [0, 0, 0, 1, 0, 0, 0],\n",
              "       [0, 0, 0, 0, 0, 0, 1],\n",
              "       [0, 0, 0, 0, 0, 0, 1],\n",
              "       [0, 0, 1, 0, 0, 0, 0],\n",
              "       [0, 0, 0, 1, 0, 0, 0],\n",
              "       [1, 0, 0, 0, 0, 0, 0],\n",
              "       [0, 0, 0, 0, 0, 0, 1],\n",
              "       [0, 0, 0, 1, 0, 0, 0],\n",
              "       [0, 0, 1, 0, 0, 0, 0],\n",
              "       [0, 0, 0, 0, 0, 0, 1],\n",
              "       [1, 0, 0, 0, 0, 0, 0],\n",
              "       [1, 0, 0, 0, 0, 0, 0],\n",
              "       [0, 0, 0, 0, 0, 1, 0],\n",
              "       [0, 0, 0, 1, 0, 0, 0],\n",
              "       [0, 0, 0, 0, 0, 0, 1],\n",
              "       [0, 0, 0, 0, 0, 0, 1],\n",
              "       [0, 0, 0, 0, 1, 0, 0],\n",
              "       [0, 1, 0, 0, 0, 0, 0],\n",
              "       [0, 0, 0, 1, 0, 0, 0],\n",
              "       [0, 0, 0, 0, 0, 1, 0],\n",
              "       [0, 0, 0, 0, 0, 1, 0],\n",
              "       [0, 0, 0, 1, 0, 0, 0],\n",
              "       [0, 0, 0, 0, 1, 0, 0],\n",
              "       [0, 0, 0, 0, 1, 0, 0],\n",
              "       [0, 0, 1, 0, 0, 0, 0]], dtype=int8)"
            ]
          },
          "metadata": {},
          "execution_count": 91
        }
      ]
    },
    {
      "cell_type": "code",
      "source": [
        "np.argmax(y_val_class, axis=1)"
      ],
      "metadata": {
        "colab": {
          "base_uri": "https://localhost:8080/"
        },
        "id": "C9UHSeXbAASy",
        "outputId": "70a35499-dc36-4c49-e4cb-d89ea46878e8"
      },
      "execution_count": 92,
      "outputs": [
        {
          "output_type": "execute_result",
          "data": {
            "text/plain": [
              "array([0, 1, 6, 1, 5, 1, 4, 6, 6, 1, 2, 4, 6, 5, 6, 3, 2, 2, 0, 6, 1, 6,\n",
              "       5, 0, 4, 5, 0, 3, 1, 3, 6, 5, 0, 3, 0, 5, 2, 6, 2, 4, 4, 3, 5, 4,\n",
              "       2, 3, 2, 4, 3, 2, 6, 6, 1, 5, 0, 4, 2, 4, 5, 5, 2, 2, 6, 1, 6, 4,\n",
              "       4, 6, 2, 0, 5, 0, 3, 2, 6, 3, 3, 6, 5, 5, 1, 1, 1, 5, 6, 6, 1, 2,\n",
              "       0, 6, 3, 3, 6, 6, 2, 3, 0, 6, 3, 2, 6, 0, 0, 5, 3, 6, 6, 4, 1, 3,\n",
              "       5, 5, 3, 4, 4, 2])"
            ]
          },
          "metadata": {},
          "execution_count": 92
        }
      ]
    },
    {
      "cell_type": "code",
      "source": [
        "y_val_class = np.argmax(y_val_class, axis=1)\n",
        "predictions_val = model.predict(x_val)\n",
        "y_proba_val_class = predictions_val\n",
        "y_pred_val_class = np.argmax(predictions_val, axis=1)"
      ],
      "metadata": {
        "id": "urjydD-38JK7"
      },
      "execution_count": 93,
      "outputs": []
    },
    {
      "cell_type": "code",
      "source": [
        "predictions_val\n"
      ],
      "metadata": {
        "colab": {
          "base_uri": "https://localhost:8080/"
        },
        "id": "Zb7dGRs3AEJn",
        "outputId": "186781d7-e227-4a7f-a534-4cd18eae329f"
      },
      "execution_count": 94,
      "outputs": [
        {
          "output_type": "execute_result",
          "data": {
            "text/plain": [
              "array([[0.12925228, 0.22544794, 0.1394083 , 0.02442103, 0.28513947,\n",
              "        0.05952077, 0.13681029],\n",
              "       [0.00894064, 0.07732225, 0.05656806, 0.46640217, 0.06557158,\n",
              "        0.22231105, 0.10288424],\n",
              "       [0.00577196, 0.09761997, 0.04004664, 0.51963913, 0.08846302,\n",
              "        0.1316014 , 0.11685794],\n",
              "       [0.02040852, 0.05747191, 0.09135529, 0.2260705 , 0.04502047,\n",
              "        0.40677404, 0.15289927],\n",
              "       [0.00408252, 0.06852844, 0.03032917, 0.618679  , 0.05980092,\n",
              "        0.12651332, 0.09206662],\n",
              "       [0.01253996, 0.18782456, 0.07185014, 0.15670234, 0.22483519,\n",
              "        0.08614572, 0.26010206],\n",
              "       [0.03143587, 0.19441873, 0.07053295, 0.02716126, 0.5211848 ,\n",
              "        0.01680766, 0.13845876],\n",
              "       [0.02133104, 0.05957903, 0.09179918, 0.22891253, 0.04705245,\n",
              "        0.40122443, 0.15010132],\n",
              "       [0.00566994, 0.14249948, 0.06341809, 0.15043008, 0.35579652,\n",
              "        0.05074409, 0.23144181],\n",
              "       [0.3184034 , 0.11853617, 0.14994358, 0.00631928, 0.32095492,\n",
              "        0.02033986, 0.06550281],\n",
              "       [0.3622812 , 0.13830994, 0.18999717, 0.00985096, 0.15006256,\n",
              "        0.05982616, 0.08967203],\n",
              "       [0.02346552, 0.1804811 , 0.08983959, 0.15854694, 0.1593276 ,\n",
              "        0.13414836, 0.2541909 ],\n",
              "       [0.004379  , 0.07181972, 0.03412569, 0.5471706 , 0.06906895,\n",
              "        0.14655642, 0.12687956],\n",
              "       [0.14256541, 0.1790514 , 0.1642946 , 0.03921552, 0.17986375,\n",
              "        0.13083124, 0.1641781 ],\n",
              "       [0.01985211, 0.05741641, 0.08843604, 0.23677321, 0.04560045,\n",
              "        0.40201372, 0.1499081 ],\n",
              "       [0.00627518, 0.16645594, 0.07156432, 0.20969102, 0.33169407,\n",
              "        0.05478456, 0.15953489],\n",
              "       [0.0280716 , 0.07416896, 0.11934817, 0.14732058, 0.06182478,\n",
              "        0.24973318, 0.3195327 ],\n",
              "       [0.2112037 , 0.17022325, 0.20317845, 0.01863344, 0.1796263 ,\n",
              "        0.04790224, 0.16923262],\n",
              "       [0.34733057, 0.1484461 , 0.18682417, 0.01153268, 0.1519215 ,\n",
              "        0.06633385, 0.08761117],\n",
              "       [0.0228816 , 0.07062386, 0.09548381, 0.21577536, 0.06037472,\n",
              "        0.35614282, 0.17871778],\n",
              "       [0.14076747, 0.22784415, 0.15303776, 0.08054442, 0.10550521,\n",
              "        0.19710842, 0.09519257],\n",
              "       [0.00838754, 0.14102185, 0.05445572, 0.2914827 , 0.14588167,\n",
              "        0.1282924 , 0.2304781 ],\n",
              "       [0.00855939, 0.10207766, 0.06476846, 0.3661849 , 0.08294808,\n",
              "        0.19728681, 0.17817473],\n",
              "       [0.36646634, 0.13709278, 0.189327  , 0.00964918, 0.14961612,\n",
              "        0.05902648, 0.0888221 ],\n",
              "       [0.03848279, 0.3186861 , 0.10792398, 0.09867211, 0.26783627,\n",
              "        0.07130239, 0.09709638],\n",
              "       [0.1030492 , 0.19677503, 0.16163816, 0.04980712, 0.1486504 ,\n",
              "        0.13858645, 0.2014937 ],\n",
              "       [0.02144124, 0.0602775 , 0.09208844, 0.22408685, 0.04763562,\n",
              "        0.3988127 , 0.15565768],\n",
              "       [0.00698821, 0.12429279, 0.04917619, 0.338574  , 0.12866533,\n",
              "        0.13578735, 0.21651606],\n",
              "       [0.70588964, 0.05237809, 0.14898351, 0.00292982, 0.03818486,\n",
              "        0.02711132, 0.02452275],\n",
              "       [0.03340226, 0.25096607, 0.09542199, 0.06154981, 0.24944143,\n",
              "        0.05974223, 0.24947621],\n",
              "       [0.06340387, 0.07529064, 0.18889542, 0.0917786 , 0.05741885,\n",
              "        0.31828073, 0.20493187],\n",
              "       [0.01336256, 0.04331484, 0.06713203, 0.43272153, 0.02619263,\n",
              "        0.35675475, 0.06052179],\n",
              "       [0.11788975, 0.16089007, 0.1642732 , 0.05860409, 0.11755585,\n",
              "        0.20062082, 0.18016624],\n",
              "       [0.0061254 , 0.10870165, 0.04370383, 0.46123406, 0.10781855,\n",
              "        0.13172467, 0.14069186],\n",
              "       [0.04807145, 0.24862593, 0.11560471, 0.17155169, 0.13986929,\n",
              "        0.18188792, 0.09438904],\n",
              "       [0.01240077, 0.16303836, 0.06590034, 0.23953882, 0.15683554,\n",
              "        0.12811837, 0.23416777],\n",
              "       [0.03056645, 0.05604483, 0.11608533, 0.15197365, 0.03994861,\n",
              "        0.38615486, 0.21922624],\n",
              "       [0.0129167 , 0.19109243, 0.0772495 , 0.07904009, 0.40552387,\n",
              "        0.03687038, 0.19730707],\n",
              "       [0.12900385, 0.2296842 , 0.13727888, 0.02215695, 0.29206768,\n",
              "        0.04971112, 0.14009725],\n",
              "       [0.4032775 , 0.12666947, 0.2242466 , 0.01667463, 0.06345516,\n",
              "        0.10361044, 0.06206621],\n",
              "       [0.09626726, 0.18656145, 0.0923648 , 0.01381315, 0.5073573 ,\n",
              "        0.01598535, 0.08765066],\n",
              "       [0.03493366, 0.2573586 , 0.09891142, 0.06736543, 0.23382355,\n",
              "        0.06727332, 0.24033408],\n",
              "       [0.0067835 , 0.13194835, 0.05097533, 0.32002327, 0.16013451,\n",
              "        0.11781184, 0.21232317],\n",
              "       [0.04365988, 0.07793851, 0.1556835 , 0.10919587, 0.05458594,\n",
              "        0.2958467 , 0.26308957],\n",
              "       [0.00855972, 0.14105567, 0.05478138, 0.29911858, 0.14454472,\n",
              "        0.12968956, 0.22225043],\n",
              "       [0.010722  , 0.09359775, 0.06304296, 0.4881246 , 0.0732684 ,\n",
              "        0.19894421, 0.07230011],\n",
              "       [0.12961254, 0.22916722, 0.13703565, 0.02187939, 0.29694977,\n",
              "        0.04884177, 0.13651365],\n",
              "       [0.04537942, 0.25211498, 0.1132605 , 0.17551275, 0.14225326,\n",
              "        0.1769139 , 0.09456524],\n",
              "       [0.15380003, 0.17589225, 0.18715525, 0.03197218, 0.1363882 ,\n",
              "        0.12453675, 0.19025533],\n",
              "       [0.367197  , 0.13821238, 0.18529652, 0.01015185, 0.14850578,\n",
              "        0.06163636, 0.08900009],\n",
              "       [0.3096765 , 0.1245409 , 0.15215108, 0.00716253, 0.31815845,\n",
              "        0.0232974 , 0.06501319],\n",
              "       [0.18649292, 0.21319793, 0.15423875, 0.08462317, 0.07954177,\n",
              "        0.20205092, 0.07985447],\n",
              "       [0.254259  , 0.2105425 , 0.16466054, 0.03081623, 0.15000544,\n",
              "        0.11462512, 0.07509113],\n",
              "       [0.34638208, 0.14338264, 0.18848477, 0.01151091, 0.15144026,\n",
              "        0.06747887, 0.09132047],\n",
              "       [0.0427264 , 0.07574441, 0.14686452, 0.11422292, 0.05280224,\n",
              "        0.31618112, 0.25145847],\n",
              "       [0.3049216 , 0.12508771, 0.15223779, 0.00700625, 0.32363883,\n",
              "        0.02219581, 0.06491201],\n",
              "       [0.00941653, 0.17298193, 0.06911247, 0.17864332, 0.2723801 ,\n",
              "        0.07427306, 0.22319254],\n",
              "       [0.11052776, 0.20254862, 0.10608126, 0.01531139, 0.44055727,\n",
              "        0.02190468, 0.10306897],\n",
              "       [0.03602102, 0.2622109 , 0.10103144, 0.06966075, 0.2303194 ,\n",
              "        0.07001115, 0.23074533],\n",
              "       [0.00477287, 0.03203246, 0.03067082, 0.6917969 , 0.01886616,\n",
              "        0.1866299 , 0.03523082],\n",
              "       [0.01856497, 0.15036005, 0.08335489, 0.35946202, 0.10566792,\n",
              "        0.19651528, 0.08607479],\n",
              "       [0.15848115, 0.17521349, 0.1891768 , 0.02982193, 0.13830875,\n",
              "        0.11811477, 0.19088314],\n",
              "       [0.02007404, 0.06136147, 0.07827039, 0.4029291 , 0.03333381,\n",
              "        0.3432306 , 0.06080059],\n",
              "       [0.00417909, 0.07038065, 0.03093694, 0.6151339 , 0.06163801,\n",
              "        0.12578769, 0.09194376],\n",
              "       [0.03052549, 0.22483106, 0.08745716, 0.05561414, 0.35314977,\n",
              "        0.0431766 , 0.20524582],\n",
              "       [0.45770577, 0.06368349, 0.19267315, 0.00539049, 0.15812944,\n",
              "        0.02397906, 0.09843858],\n",
              "       [0.04170895, 0.23314707, 0.11106113, 0.19649787, 0.13884664,\n",
              "        0.18695489, 0.09178344],\n",
              "       [0.20079964, 0.16922282, 0.16427046, 0.01314099, 0.3079158 ,\n",
              "        0.03471472, 0.10993552],\n",
              "       [0.00862006, 0.1607765 , 0.06265121, 0.2237923 , 0.22645499,\n",
              "        0.09090409, 0.22680089],\n",
              "       [0.00945448, 0.09529827, 0.05643094, 0.340061  , 0.08892994,\n",
              "        0.19234875, 0.21747662],\n",
              "       [0.07220546, 0.18097205, 0.12592787, 0.17157951, 0.09180178,\n",
              "        0.2614522 , 0.09606112],\n",
              "       [0.4308284 , 0.08460209, 0.2603642 , 0.00705791, 0.08340641,\n",
              "        0.05025204, 0.08348889],\n",
              "       [0.00823748, 0.1654944 , 0.06145972, 0.30910507, 0.2525977 ,\n",
              "        0.07830261, 0.1248029 ],\n",
              "       [0.05304883, 0.2722955 , 0.12007026, 0.07635658, 0.19506583,\n",
              "        0.10243075, 0.18073224],\n",
              "       [0.02944445, 0.18636231, 0.06857161, 0.02805617, 0.5354379 ,\n",
              "        0.01673307, 0.13539451],\n",
              "       [0.03171176, 0.20664991, 0.10293593, 0.24594909, 0.12786832,\n",
              "        0.1941753 , 0.09070969],\n",
              "       [0.02342899, 0.06841893, 0.08433186, 0.366293  , 0.03749118,\n",
              "        0.3521674 , 0.06786864],\n",
              "       [0.10452329, 0.26902357, 0.13485327, 0.07579103, 0.22177163,\n",
              "        0.12405189, 0.06998534],\n",
              "       [0.27757418, 0.18969376, 0.15099508, 0.01731834, 0.1910504 ,\n",
              "        0.06595963, 0.10740867],\n",
              "       [0.0634434 , 0.30035666, 0.11303051, 0.10752773, 0.1807877 ,\n",
              "        0.115334  , 0.11952   ],\n",
              "       [0.04496582, 0.25102305, 0.11319315, 0.17679878, 0.14261605,\n",
              "        0.1768795 , 0.09452356],\n",
              "       [0.15148754, 0.1749418 , 0.18675981, 0.03241769, 0.13614511,\n",
              "        0.12564422, 0.19260386],\n",
              "       [0.06865206, 0.2291542 , 0.1335271 , 0.04525244, 0.19679849,\n",
              "        0.08032157, 0.24629405],\n",
              "       [0.01573895, 0.05887091, 0.07118014, 0.4460627 , 0.03314632,\n",
              "        0.31772527, 0.05727562],\n",
              "       [0.00530745, 0.09302518, 0.03750611, 0.5557856 , 0.08556164,\n",
              "        0.1217327 , 0.10108122],\n",
              "       [0.22057979, 0.16456342, 0.19195814, 0.02298685, 0.1455076 ,\n",
              "        0.10747668, 0.14692754],\n",
              "       [0.02409722, 0.22938393, 0.08801326, 0.07780906, 0.25672543,\n",
              "        0.06265759, 0.2613136 ],\n",
              "       [0.02966158, 0.2065931 , 0.07401685, 0.03258509, 0.47289523,\n",
              "        0.02117649, 0.16307162],\n",
              "       [0.36800584, 0.13520184, 0.17989093, 0.00895919, 0.17563993,\n",
              "        0.04901266, 0.08328952],\n",
              "       [0.08929183, 0.16335745, 0.08172254, 0.01164358, 0.57084733,\n",
              "        0.01136978, 0.07176746],\n",
              "       [0.00273996, 0.04449324, 0.02264666, 0.6958832 , 0.04034708,\n",
              "        0.11988849, 0.07400138],\n",
              "       [0.0026951 , 0.04216698, 0.02217677, 0.7042248 , 0.03706381,\n",
              "        0.12087068, 0.07080181],\n",
              "       [0.15032011, 0.18390875, 0.18517606, 0.02935332, 0.16500248,\n",
              "        0.10002506, 0.18621427],\n",
              "       [0.00604507, 0.10913094, 0.04542203, 0.36732063, 0.113173  ,\n",
              "        0.14404967, 0.21485856],\n",
              "       [0.09494084, 0.11554468, 0.13641532, 0.10781734, 0.09996429,\n",
              "        0.3092039 , 0.13611357],\n",
              "       [0.00725779, 0.12867074, 0.04995916, 0.32882714, 0.13239636,\n",
              "        0.13372195, 0.21916689],\n",
              "       [0.366642  , 0.13763908, 0.18831795, 0.00982214, 0.14911278,\n",
              "        0.05999523, 0.08847096],\n",
              "       [0.05219589, 0.24823508, 0.11843311, 0.16307452, 0.13826524,\n",
              "        0.18507433, 0.09472187],\n",
              "       [0.00273817, 0.03871646, 0.02186878, 0.7191392 , 0.03135754,\n",
              "        0.12255804, 0.06362182],\n",
              "       [0.0101534 , 0.06316438, 0.06480385, 0.51356447, 0.04265995,\n",
              "        0.25131893, 0.05433501],\n",
              "       [0.05984763, 0.18334597, 0.14774705, 0.05024204, 0.13898186,\n",
              "        0.07961349, 0.340222  ],\n",
              "       [0.7308106 , 0.04430508, 0.14127073, 0.00228601, 0.03598935,\n",
              "        0.02213817, 0.02320002],\n",
              "       [0.1413421 , 0.22784509, 0.15312912, 0.08012208, 0.10517309,\n",
              "        0.19701067, 0.09537788],\n",
              "       [0.02256416, 0.08688944, 0.09015764, 0.25083753, 0.07515898,\n",
              "        0.31692508, 0.1574672 ],\n",
              "       [0.00235236, 0.03006321, 0.0167825 , 0.79190725, 0.01865951,\n",
              "        0.09986197, 0.04037312],\n",
              "       [0.00818696, 0.15356484, 0.06290911, 0.20195454, 0.23614486,\n",
              "        0.08539478, 0.25184488],\n",
              "       [0.05925898, 0.24322674, 0.09770171, 0.0284974 , 0.46769223,\n",
              "        0.0260141 , 0.07760896],\n",
              "       [0.0453102 , 0.24972115, 0.11380152, 0.17656152, 0.1434975 ,\n",
              "        0.17749742, 0.09361061],\n",
              "       [0.28901035, 0.11012384, 0.30291048, 0.0135845 , 0.0846022 ,\n",
              "        0.07968864, 0.12008003],\n",
              "       [0.00346767, 0.05765689, 0.02674077, 0.65383637, 0.05088862,\n",
              "        0.12375161, 0.08365807],\n",
              "       [0.04714811, 0.0976041 , 0.10172093, 0.27059186, 0.05777177,\n",
              "        0.3570611 , 0.06810222],\n",
              "       [0.01715978, 0.06717735, 0.08092277, 0.26415646, 0.05444861,\n",
              "        0.34494078, 0.17119415],\n",
              "       [0.00539458, 0.13975322, 0.05947557, 0.19633234, 0.2854171 ,\n",
              "        0.0681148 , 0.24551235],\n",
              "       [0.10422653, 0.26897502, 0.13489357, 0.07540775, 0.22378811,\n",
              "        0.12293336, 0.06977566],\n",
              "       [0.00682977, 0.15352322, 0.0655665 , 0.19934405, 0.33592445,\n",
              "        0.06003195, 0.17878006],\n",
              "       [0.08413918, 0.25326717, 0.12000186, 0.04349924, 0.3902437 ,\n",
              "        0.05228418, 0.05656461]], dtype=float32)"
            ]
          },
          "metadata": {},
          "execution_count": 94
        }
      ]
    },
    {
      "cell_type": "code",
      "source": [
        "y_pred_val_class "
      ],
      "metadata": {
        "colab": {
          "base_uri": "https://localhost:8080/"
        },
        "id": "KxHa1Ss1AJo4",
        "outputId": "cb9b1cdf-4b76-4f84-b989-b5ae64c8ce9e"
      },
      "execution_count": 95,
      "outputs": [
        {
          "output_type": "execute_result",
          "data": {
            "text/plain": [
              "array([4, 3, 3, 5, 3, 6, 4, 5, 4, 4, 0, 6, 3, 4, 5, 4, 6, 0, 0, 5, 1, 3,\n",
              "       3, 0, 1, 6, 5, 3, 0, 1, 5, 3, 5, 3, 1, 3, 5, 4, 4, 0, 4, 1, 3, 5,\n",
              "       3, 3, 4, 1, 6, 0, 4, 1, 0, 0, 5, 4, 4, 4, 1, 3, 3, 6, 3, 3, 4, 0,\n",
              "       1, 4, 6, 3, 5, 0, 3, 1, 4, 3, 3, 1, 0, 1, 1, 6, 6, 3, 3, 0, 6, 4,\n",
              "       0, 4, 3, 3, 6, 3, 5, 3, 0, 1, 3, 3, 6, 0, 1, 5, 3, 6, 4, 1, 2, 3,\n",
              "       5, 5, 4, 1, 4, 4])"
            ]
          },
          "metadata": {},
          "execution_count": 95
        }
      ]
    },
    {
      "cell_type": "markdown",
      "source": [
        "### Val Set Confusion Matrix and Heatmap"
      ],
      "metadata": {
        "id": "d2ullxf9PUMd"
      }
    },
    {
      "cell_type": "code",
      "source": [
        "# Validation Confusion matrix\n",
        "cm=confusion_matrix(y_val_class, y_pred_val_class)\n",
        "\n",
        "index = ['calm', 'happy', 'sad', 'angry', 'fearful', 'disgust', 'surprised']  \n",
        "columns = ['calm', 'happy', 'sad', 'angry', 'fearful', 'disgust', 'surprised']  \n",
        " \n",
        "cm_df = pd.DataFrame(cm,index,columns)                      \n",
        "plt.figure(figsize=(12,8))\n",
        "ax = plt.axes()\n",
        "\n",
        "sns.heatmap(cm_df, ax = ax, cmap = 'PuBu', fmt=\"d\", annot=True)\n",
        "ax.set_ylabel('True emotion')\n",
        "ax.set_xlabel('Predicted emotion')"
      ],
      "metadata": {
        "colab": {
          "base_uri": "https://localhost:8080/",
          "height": 518
        },
        "id": "doLcg3CTf9bx",
        "outputId": "ea6cf055-ce92-4d6d-f391-9fbec1cdd53d"
      },
      "execution_count": 96,
      "outputs": [
        {
          "output_type": "execute_result",
          "data": {
            "text/plain": [
              "Text(0.5, 51.0, 'Predicted emotion')"
            ]
          },
          "metadata": {},
          "execution_count": 96
        },
        {
          "output_type": "display_data",
          "data": {
            "text/plain": [
              "<Figure size 864x576 with 2 Axes>"
            ],
            "image/png": "[encoded data removed]"
          },
          "metadata": {
            "needs_background": "light"
          }
        }
      ]
    },
    {
      "cell_type": "code",
      "source": [
        "# Confusion Matrix\n",
        "cm"
      ],
      "metadata": {
        "colab": {
          "base_uri": "https://localhost:8080/"
        },
        "id": "hIEG9Pia8Nfp",
        "outputId": "7cbd14ec-22e6-4e3d-8270-9114fce58893"
      },
      "execution_count": 97,
      "outputs": [
        {
          "output_type": "execute_result",
          "data": {
            "text/plain": [
              "array([[ 6,  2,  0,  1,  1,  3,  0],\n",
              "       [ 2,  2,  1,  2,  1,  1,  4],\n",
              "       [ 3,  1,  0,  3,  5,  2,  3],\n",
              "       [ 0,  2,  0, 12,  2,  0,  1],\n",
              "       [ 2,  5,  0,  0,  5,  1,  1],\n",
              "       [ 2,  2,  0,  7,  1,  4,  1],\n",
              "       [ 1,  3,  0,  6,  8,  4,  3]])"
            ]
          },
          "metadata": {},
          "execution_count": 97
        }
      ]
    },
    {
      "cell_type": "markdown",
      "source": [
        "### Validation Set Predicted emotions accuracy"
      ],
      "metadata": {
        "id": "kWjKgUdRPYH5"
      }
    },
    {
      "cell_type": "code",
      "source": [
        "# Validation set prediction accuracy rates\n",
        "\n",
        "values = cm.diagonal()\n",
        "row_sum = np.sum(cm,axis=1)\n",
        "acc = values / row_sum\n",
        "\n",
        "print('Validation set predicted emotions accuracy:')\n",
        "for e in range(0, len(values)):\n",
        "    print(index[e],':', f\"{(acc[e]):0.4f}\")"
      ],
      "metadata": {
        "colab": {
          "base_uri": "https://localhost:8080/"
        },
        "id": "MopdywY9f-mS",
        "outputId": "09c80008-28aa-4e81-ca41-34d734d6cc87"
      },
      "execution_count": 98,
      "outputs": [
        {
          "output_type": "stream",
          "name": "stdout",
          "text": [
            "Validation set predicted emotions accuracy:\n",
            "calm : 0.4615\n",
            "happy : 0.1538\n",
            "sad : 0.0000\n",
            "angry : 0.7059\n",
            "fearful : 0.3571\n",
            "disgust : 0.2353\n",
            "surprised : 0.1200\n"
          ]
        }
      ]
    },
    {
      "cell_type": "markdown",
      "source": [
        "### Precision, Recal, Fscore"
      ],
      "metadata": {
        "id": "DGSTy2228XRH"
      }
    },
    {
      "cell_type": "code",
      "source": [
        "# Validation set precision, recall, fscore\n",
        "\n",
        "precision_recall_fscore_support(y_val_class, y_pred_val_class, average='macro')\n"
      ],
      "metadata": {
        "colab": {
          "base_uri": "https://localhost:8080/"
        },
        "id": "rOwUkCG0gGpm",
        "outputId": "7dfd11f9-cf02-4218-f635-33c860e9471b"
      },
      "execution_count": 99,
      "outputs": [
        {
          "output_type": "execute_result",
          "data": {
            "text/plain": [
              "(0.2277958621144002, 0.2905291347308155, 0.24647020627056923, None)"
            ]
          },
          "metadata": {},
          "execution_count": 99
        }
      ]
    },
    {
      "cell_type": "code",
      "source": [
        "precision_recall_fscore_support(y_val_class, y_pred_val_class, average='weighted')"
      ],
      "metadata": {
        "colab": {
          "base_uri": "https://localhost:8080/"
        },
        "id": "OorFgXxDzy3o",
        "outputId": "27549cb7-25bb-4632-825c-1e4f08f30c28"
      },
      "execution_count": 100,
      "outputs": [
        {
          "output_type": "execute_result",
          "data": {
            "text/plain": [
              "(0.22699223525370582, 0.27586206896551724, 0.23787755071549427, None)"
            ]
          },
          "metadata": {},
          "execution_count": 100
        }
      ]
    },
    {
      "cell_type": "markdown",
      "source": [
        "## Test Set Evaluation"
      ],
      "metadata": {
        "id": "FiCwOjmPPgCn"
      }
    },
    {
      "cell_type": "markdown",
      "source": [
        "### Test Set Score\n",
        "\n"
      ],
      "metadata": {
        "id": "CWB7U5xDUSmF"
      }
    },
    {
      "cell_type": "code",
      "source": [
        "loss, acc = model.evaluate(x_test, y_test_class, verbose=2)"
      ],
      "metadata": {
        "id": "Y7NEHPM-gzml",
        "colab": {
          "base_uri": "https://localhost:8080/"
        },
        "outputId": "357255e6-1c81-42a5-a7ce-a62ebf082231"
      },
      "execution_count": 101,
      "outputs": [
        {
          "output_type": "stream",
          "name": "stdout",
          "text": [
            "2/2 - 0s - loss: 1.6031 - categorical_accuracy: 0.4423 - 451ms/epoch - 225ms/step\n"
          ]
        }
      ]
    },
    {
      "cell_type": "markdown",
      "source": [
        "### Construct Predicted Labels based on Probability of each class"
      ],
      "metadata": {
        "id": "gPwcFV9oAhGh"
      }
    },
    {
      "cell_type": "code",
      "source": [
        "y_test_class"
      ],
      "metadata": {
        "colab": {
          "base_uri": "https://localhost:8080/"
        },
        "id": "tjN7Eit7AiML",
        "outputId": "8d7dacef-17c2-4dbf-a923-5d0b62c937f5"
      },
      "execution_count": 102,
      "outputs": [
        {
          "output_type": "execute_result",
          "data": {
            "text/plain": [
              "array([[1, 0, 0, 0, 0, 0, 0],\n",
              "       [0, 0, 1, 0, 0, 0, 0],\n",
              "       [0, 0, 0, 0, 0, 0, 1],\n",
              "       [0, 0, 0, 0, 0, 1, 0],\n",
              "       [0, 0, 0, 1, 0, 0, 0],\n",
              "       [0, 0, 0, 1, 0, 0, 0],\n",
              "       [0, 0, 1, 0, 0, 0, 0],\n",
              "       [0, 0, 0, 0, 1, 0, 0],\n",
              "       [0, 0, 0, 0, 1, 0, 0],\n",
              "       [0, 0, 0, 1, 0, 0, 0],\n",
              "       [0, 0, 0, 0, 0, 0, 1],\n",
              "       [0, 0, 1, 0, 0, 0, 0],\n",
              "       [1, 0, 0, 0, 0, 0, 0],\n",
              "       [0, 0, 0, 0, 0, 1, 0],\n",
              "       [1, 0, 0, 0, 0, 0, 0],\n",
              "       [0, 0, 0, 0, 0, 1, 0],\n",
              "       [1, 0, 0, 0, 0, 0, 0],\n",
              "       [1, 0, 0, 0, 0, 0, 0],\n",
              "       [0, 0, 0, 0, 0, 0, 1],\n",
              "       [0, 0, 0, 1, 0, 0, 0],\n",
              "       [0, 0, 0, 0, 0, 1, 0],\n",
              "       [0, 0, 0, 1, 0, 0, 0],\n",
              "       [0, 0, 0, 1, 0, 0, 0],\n",
              "       [0, 0, 0, 1, 0, 0, 0],\n",
              "       [0, 0, 0, 0, 1, 0, 0],\n",
              "       [0, 0, 1, 0, 0, 0, 0],\n",
              "       [0, 0, 0, 0, 0, 1, 0],\n",
              "       [0, 0, 0, 0, 0, 1, 0],\n",
              "       [0, 0, 1, 0, 0, 0, 0],\n",
              "       [0, 1, 0, 0, 0, 0, 0],\n",
              "       [0, 0, 0, 0, 1, 0, 0],\n",
              "       [0, 0, 1, 0, 0, 0, 0],\n",
              "       [0, 0, 0, 0, 0, 0, 1],\n",
              "       [0, 0, 0, 1, 0, 0, 0],\n",
              "       [0, 0, 1, 0, 0, 0, 0],\n",
              "       [0, 0, 0, 0, 1, 0, 0],\n",
              "       [1, 0, 0, 0, 0, 0, 0],\n",
              "       [1, 0, 0, 0, 0, 0, 0],\n",
              "       [0, 0, 0, 1, 0, 0, 0],\n",
              "       [0, 0, 0, 0, 1, 0, 0],\n",
              "       [0, 0, 0, 0, 0, 0, 1],\n",
              "       [0, 1, 0, 0, 0, 0, 0],\n",
              "       [1, 0, 0, 0, 0, 0, 0],\n",
              "       [0, 0, 0, 1, 0, 0, 0],\n",
              "       [0, 0, 1, 0, 0, 0, 0],\n",
              "       [1, 0, 0, 0, 0, 0, 0],\n",
              "       [0, 0, 0, 0, 0, 1, 0],\n",
              "       [0, 0, 1, 0, 0, 0, 0],\n",
              "       [0, 0, 0, 0, 1, 0, 0],\n",
              "       [0, 0, 0, 0, 0, 1, 0],\n",
              "       [1, 0, 0, 0, 0, 0, 0],\n",
              "       [0, 0, 0, 0, 0, 1, 0]], dtype=int8)"
            ]
          },
          "metadata": {},
          "execution_count": 102
        }
      ]
    },
    {
      "cell_type": "code",
      "source": [
        " np.argmax(y_test_class, axis=1)"
      ],
      "metadata": {
        "colab": {
          "base_uri": "https://localhost:8080/"
        },
        "id": "2fcK-_HzAmc5",
        "outputId": "13dd5c16-5270-4651-fe20-ad3f9d62c334"
      },
      "execution_count": 103,
      "outputs": [
        {
          "output_type": "execute_result",
          "data": {
            "text/plain": [
              "array([0, 2, 6, 5, 3, 3, 2, 4, 4, 3, 6, 2, 0, 5, 0, 5, 0, 0, 6, 3, 5, 3,\n",
              "       3, 3, 4, 2, 5, 5, 2, 1, 4, 2, 6, 3, 2, 4, 0, 0, 3, 4, 6, 1, 0, 3,\n",
              "       2, 0, 5, 2, 4, 5, 0, 5])"
            ]
          },
          "metadata": {},
          "execution_count": 103
        }
      ]
    },
    {
      "cell_type": "code",
      "source": [
        "y_test_class = np.argmax(y_test_class, axis=1)\n",
        "predictions_test = model.predict(x_test)\n",
        "y_pred_test_class = np.argmax(predictions_test, axis=1)\n",
        "y_proba_test_class = predictions_test\n",
        "\n"
      ],
      "metadata": {
        "id": "uyXvoU2rAckI"
      },
      "execution_count": 104,
      "outputs": []
    },
    {
      "cell_type": "code",
      "source": [
        "predictions_test"
      ],
      "metadata": {
        "colab": {
          "base_uri": "https://localhost:8080/"
        },
        "id": "3BAOUaPwAtuY",
        "outputId": "050cad14-b640-4ff3-d7c0-cc362218c3bb"
      },
      "execution_count": 105,
      "outputs": [
        {
          "output_type": "execute_result",
          "data": {
            "text/plain": [
              "array([[0.49862877, 0.10612305, 0.16914816, 0.00702601, 0.10141182,\n",
              "        0.05285146, 0.06481074],\n",
              "       [0.16014448, 0.16236776, 0.19972439, 0.03369904, 0.11745483,\n",
              "        0.14009517, 0.18651444],\n",
              "       [0.01066395, 0.1613409 , 0.0609362 , 0.25989053, 0.15899786,\n",
              "        0.12358721, 0.22458339],\n",
              "       [0.04492865, 0.25354946, 0.11359753, 0.17406902, 0.14628564,\n",
              "        0.17325024, 0.09431943],\n",
              "       [0.00248328, 0.0329175 , 0.02097396, 0.7781739 , 0.0242585 ,\n",
              "        0.10113098, 0.04006191],\n",
              "       [0.00806128, 0.04830614, 0.05164465, 0.5239117 , 0.0396555 ,\n",
              "        0.2630595 , 0.06536126],\n",
              "       [0.5453969 , 0.09487832, 0.1943671 , 0.0068395 , 0.06363415,\n",
              "        0.05385374, 0.04103021],\n",
              "       [0.03302519, 0.08313721, 0.10968828, 0.16351989, 0.06381471,\n",
              "        0.35117775, 0.19563702],\n",
              "       [0.00592476, 0.10937056, 0.04538153, 0.36351755, 0.11720362,\n",
              "        0.1410902 , 0.2175118 ],\n",
              "       [0.01841839, 0.17675772, 0.07360366, 0.13894387, 0.26151815,\n",
              "        0.08411534, 0.24664295],\n",
              "       [0.15994723, 0.17656288, 0.18972792, 0.02917495, 0.13858527,\n",
              "        0.11556424, 0.19043757],\n",
              "       [0.1394151 , 0.22731093, 0.15366995, 0.08023594, 0.1089314 ,\n",
              "        0.19477944, 0.09565733],\n",
              "       [0.35864198, 0.13907138, 0.18822102, 0.00964609, 0.1607631 ,\n",
              "        0.05577014, 0.08788623],\n",
              "       [0.0261597 , 0.19279993, 0.0939139 , 0.12066453, 0.17217194,\n",
              "        0.11431481, 0.27997524],\n",
              "       [0.10008569, 0.19164   , 0.13820827, 0.1296553 , 0.09355123,\n",
              "        0.24954519, 0.09731437],\n",
              "       [0.04185186, 0.11300276, 0.11100508, 0.18179503, 0.08949867,\n",
              "        0.29717982, 0.16566688],\n",
              "       [0.6679723 , 0.04969807, 0.15821251, 0.00196487, 0.06782398,\n",
              "        0.01904346, 0.03528485],\n",
              "       [0.6502314 , 0.05533985, 0.16599004, 0.00240096, 0.06627016,\n",
              "        0.02309564, 0.03667185],\n",
              "       [0.00459144, 0.08307179, 0.03677214, 0.4985056 , 0.08183705,\n",
              "        0.14579281, 0.14942916],\n",
              "       [0.00333375, 0.05363417, 0.02754922, 0.6248956 , 0.04940133,\n",
              "        0.14086248, 0.10032357],\n",
              "       [0.6372962 , 0.05934232, 0.17194879, 0.00274228, 0.06462   ,\n",
              "        0.02630281, 0.03774756],\n",
              "       [0.00578964, 0.14290528, 0.06334804, 0.16970307, 0.34434253,\n",
              "        0.05523427, 0.21867721],\n",
              "       [0.00267898, 0.04072111, 0.02189415, 0.70864034, 0.03550589,\n",
              "        0.12145764, 0.06910188],\n",
              "       [0.00736517, 0.1582203 , 0.05775234, 0.34746706, 0.2485113 ,\n",
              "        0.07365587, 0.10702801],\n",
              "       [0.03894024, 0.23212282, 0.10939873, 0.20408203, 0.13788766,\n",
              "        0.18458343, 0.09298497],\n",
              "       [0.00875318, 0.14123565, 0.05378711, 0.36839333, 0.13191247,\n",
              "        0.13190712, 0.16401103],\n",
              "       [0.01968551, 0.05544498, 0.08965699, 0.2644536 , 0.04062554,\n",
              "        0.41115254, 0.11898085],\n",
              "       [0.0105    , 0.08899807, 0.05802486, 0.35736686, 0.07609019,\n",
              "        0.21303047, 0.19598955],\n",
              "       [0.01240925, 0.09518619, 0.07352759, 0.23448832, 0.0784684 ,\n",
              "        0.18733184, 0.31858838],\n",
              "       [0.03152293, 0.32248282, 0.10333228, 0.09094578, 0.31453606,\n",
              "        0.05225473, 0.08492529],\n",
              "       [0.16274077, 0.18522397, 0.17839773, 0.01973625, 0.23228529,\n",
              "        0.05572562, 0.16589038],\n",
              "       [0.48544124, 0.09539262, 0.22369868, 0.00774309, 0.06810924,\n",
              "        0.06177586, 0.05783935],\n",
              "       [0.02290763, 0.20865418, 0.08964776, 0.23255958, 0.14814332,\n",
              "        0.15573049, 0.14235702],\n",
              "       [0.00834902, 0.14157367, 0.05453858, 0.28327045, 0.14775355,\n",
              "        0.12683551, 0.23767927],\n",
              "       [0.34960225, 0.19259177, 0.15501449, 0.01704855, 0.16960129,\n",
              "        0.06542457, 0.05071711],\n",
              "       [0.10451412, 0.22546932, 0.20394468, 0.07858337, 0.11902041,\n",
              "        0.11077143, 0.15769656],\n",
              "       [0.6416748 , 0.05710043, 0.17293465, 0.00261967, 0.06117137,\n",
              "        0.02596415, 0.03853484],\n",
              "       [0.12917969, 0.22374819, 0.14937796, 0.08908799, 0.11240035,\n",
              "        0.19990325, 0.09630262],\n",
              "       [0.02107164, 0.05961793, 0.09135795, 0.22728273, 0.04700208,\n",
              "        0.40009204, 0.15357567],\n",
              "       [0.00956822, 0.19286352, 0.07143603, 0.23046027, 0.31871065,\n",
              "        0.06056658, 0.11639468],\n",
              "       [0.044453  , 0.24929395, 0.113319  , 0.17869511, 0.14287348,\n",
              "        0.17724487, 0.09412048],\n",
              "       [0.03375206, 0.2507755 , 0.09587368, 0.06515884, 0.2372991 ,\n",
              "        0.0647382 , 0.2524026 ],\n",
              "       [0.24635252, 0.16639313, 0.19720806, 0.01795725, 0.15059684,\n",
              "        0.08890055, 0.13259166],\n",
              "       [0.00246196, 0.03661337, 0.01738762, 0.77639234, 0.02062579,\n",
              "        0.09823061, 0.0482883 ],\n",
              "       [0.0081426 , 0.16199788, 0.07027481, 0.10061427, 0.40886387,\n",
              "        0.03855144, 0.21155512],\n",
              "       [0.01990446, 0.09582346, 0.08111285, 0.26408148, 0.06683886,\n",
              "        0.2401756 , 0.23206335],\n",
              "       [0.00747217, 0.12750715, 0.05074853, 0.32886162, 0.13078354,\n",
              "        0.13612841, 0.21849857],\n",
              "       [0.03326918, 0.2552422 , 0.0976472 , 0.07251217, 0.22942264,\n",
              "        0.0705412 , 0.24136552],\n",
              "       [0.32488018, 0.20321532, 0.15950708, 0.03103037, 0.102855  ,\n",
              "        0.12137157, 0.0571404 ],\n",
              "       [0.02606894, 0.06759731, 0.10140308, 0.20947513, 0.05018692,\n",
              "        0.3968545 , 0.14841405],\n",
              "       [0.2608388 , 0.21044959, 0.16675086, 0.03461358, 0.12965916,\n",
              "        0.12766685, 0.07002121],\n",
              "       [0.03730681, 0.07985418, 0.0959752 , 0.2712379 , 0.04944641,\n",
              "        0.3862004 , 0.07997914]], dtype=float32)"
            ]
          },
          "metadata": {},
          "execution_count": 105
        }
      ]
    },
    {
      "cell_type": "code",
      "source": [
        "y_pred_test_class "
      ],
      "metadata": {
        "colab": {
          "base_uri": "https://localhost:8080/"
        },
        "id": "ph-j4nBsAxjT",
        "outputId": "28e822b8-d12b-4eca-fd07-925d5d8c2ca5"
      },
      "execution_count": 106,
      "outputs": [
        {
          "output_type": "execute_result",
          "data": {
            "text/plain": [
              "array([0, 2, 3, 1, 3, 3, 0, 5, 3, 4, 6, 1, 0, 6, 5, 5, 0, 0, 3, 3, 0, 4,\n",
              "       3, 3, 1, 3, 5, 3, 6, 1, 4, 0, 3, 3, 0, 1, 0, 1, 5, 4, 1, 6, 0, 3,\n",
              "       4, 3, 3, 1, 0, 5, 0, 5])"
            ]
          },
          "metadata": {},
          "execution_count": 106
        }
      ]
    },
    {
      "cell_type": "markdown",
      "source": [
        "### Test Set Confusion Matrix and Heatmap"
      ],
      "metadata": {
        "id": "Epp2QpxsUVXH"
      }
    },
    {
      "cell_type": "code",
      "source": [
        "# Test set Confusion matrix\n",
        "\n",
        "cm=confusion_matrix(y_test_class, y_pred_test_class)\n",
        "\n",
        "index = ['calm', 'happy', 'sad', 'angry', 'fearful', 'disgust', 'surprised']  \n",
        "columns = ['calm', 'happy', 'sad', 'angry', 'fearful', 'disgust', 'surprised']  \n",
        " \n",
        "cm_df = pd.DataFrame(cm,index,columns)                      \n",
        "plt.figure(figsize=(12,8))\n",
        "ax = plt.axes()\n",
        "\n",
        "sns.heatmap(cm_df, ax = ax, cmap = 'BuGn', fmt=\"d\", annot=True)\n",
        "ax.set_ylabel('True emotion')\n",
        "ax.set_xlabel('Predicted emotion')"
      ],
      "metadata": {
        "colab": {
          "base_uri": "https://localhost:8080/",
          "height": 518
        },
        "id": "ukGrk_cagzyb",
        "outputId": "1019356f-009b-4f21-891b-60cd6297a004"
      },
      "execution_count": 107,
      "outputs": [
        {
          "output_type": "execute_result",
          "data": {
            "text/plain": [
              "Text(0.5, 51.0, 'Predicted emotion')"
            ]
          },
          "metadata": {},
          "execution_count": 107
        },
        {
          "output_type": "display_data",
          "data": {
            "text/plain": [
              "<Figure size 864x576 with 2 Axes>"
            ],
            "image/png": "[encoded data removed]"
          },
          "metadata": {
            "needs_background": "light"
          }
        }
      ]
    },
    {
      "cell_type": "code",
      "source": [
        "# Confusion Matrix\n",
        "cm"
      ],
      "metadata": {
        "colab": {
          "base_uri": "https://localhost:8080/"
        },
        "id": "9f51xwUE8haF",
        "outputId": "74d1ba3c-4601-49f0-9bb9-064f2968f06a"
      },
      "execution_count": 108,
      "outputs": [
        {
          "output_type": "execute_result",
          "data": {
            "text/plain": [
              "array([[7, 1, 0, 1, 0, 1, 0],\n",
              "       [0, 1, 0, 0, 0, 0, 1],\n",
              "       [3, 2, 1, 1, 1, 0, 1],\n",
              "       [0, 0, 0, 7, 2, 1, 0],\n",
              "       [1, 2, 0, 1, 2, 1, 0],\n",
              "       [1, 1, 0, 2, 0, 4, 1],\n",
              "       [0, 1, 0, 3, 0, 0, 1]])"
            ]
          },
          "metadata": {},
          "execution_count": 108
        }
      ]
    },
    {
      "cell_type": "markdown",
      "source": [
        "### Test Set Predicted emotions accuracy"
      ],
      "metadata": {
        "id": "zil3CkweUX0q"
      }
    },
    {
      "cell_type": "code",
      "source": [
        "# Test set prediction accuracy rates\n",
        "\n",
        "values = cm.diagonal()\n",
        "row_sum = np.sum(cm,axis=1)\n",
        "acc = values / row_sum\n",
        "\n",
        "print('Test set predicted emotions accuracy:')\n",
        "for e in range(0, len(values)):\n",
        "    print(index[e],':', f\"{(acc[e]):0.4f}\")"
      ],
      "metadata": {
        "colab": {
          "base_uri": "https://localhost:8080/"
        },
        "id": "t_ORyGGig090",
        "outputId": "c030c89d-dd26-4881-f62e-10003a5982f5"
      },
      "execution_count": 109,
      "outputs": [
        {
          "output_type": "stream",
          "name": "stdout",
          "text": [
            "Test set predicted emotions accuracy:\n",
            "calm : 0.7000\n",
            "happy : 0.5000\n",
            "sad : 0.1111\n",
            "angry : 0.7000\n",
            "fearful : 0.2857\n",
            "disgust : 0.4444\n",
            "surprised : 0.2000\n"
          ]
        }
      ]
    },
    {
      "cell_type": "markdown",
      "source": [
        "### Precision, Recal, Fscore"
      ],
      "metadata": {
        "id": "8Hzthv1t8kwd"
      }
    },
    {
      "cell_type": "code",
      "source": [
        "# Validation set precision, recall, fscore\n",
        "\n",
        "precision_recall_fscore_support(y_test_class, y_pred_test_class, average='macro')\n"
      ],
      "metadata": {
        "colab": {
          "base_uri": "https://localhost:8080/"
        },
        "id": "QnwWoVFnh33F",
        "outputId": "9eb3184d-c789-4d67-efb6-f2ebf4106dd6"
      },
      "execution_count": 110,
      "outputs": [
        {
          "output_type": "execute_result",
          "data": {
            "text/plain": [
              "(0.48520408163265305, 0.42018140589569164, 0.3788455988455989, None)"
            ]
          },
          "metadata": {},
          "execution_count": 110
        }
      ]
    },
    {
      "cell_type": "code",
      "source": [
        "precision_recall_fscore_support(y_test_class, y_pred_test_class, average='weighted')"
      ],
      "metadata": {
        "colab": {
          "base_uri": "https://localhost:8080/"
        },
        "id": "OlDhuPlqzwVB",
        "outputId": "b87f906f-a152-43f6-882e-3eca2303349b"
      },
      "execution_count": 111,
      "outputs": [
        {
          "output_type": "execute_result",
          "data": {
            "text/plain": [
              "(0.5565934065934066, 0.4423076923076923, 0.4251554001554002, None)"
            ]
          },
          "metadata": {},
          "execution_count": 111
        }
      ]
    },
    {
      "cell_type": "markdown",
      "source": [
        "### ROC AUC Score"
      ],
      "metadata": {
        "id": "sEuBd9IyLuiD"
      }
    },
    {
      "cell_type": "code",
      "source": [
        "ravdess_df = pd.read_csv (df_path)"
      ],
      "metadata": {
        "id": "8bb4OSmyTO6v"
      },
      "execution_count": 112,
      "outputs": []
    },
    {
      "cell_type": "code",
      "source": [
        "labels = [\"calm\", \"happy\", \"sad\", \"angry\", \"fear\", \"disgust\", \"suprised\"]"
      ],
      "metadata": {
        "id": "1leZ4JGVTfTp"
      },
      "execution_count": 113,
      "outputs": []
    },
    {
      "cell_type": "code",
      "source": [
        "y_test_adj = y_test.reshape(-1,)"
      ],
      "metadata": {
        "id": "MRm1ZwnxFStc"
      },
      "execution_count": 114,
      "outputs": []
    },
    {
      "cell_type": "code",
      "source": [
        "y_proba_test_class.shape"
      ],
      "metadata": {
        "colab": {
          "base_uri": "https://localhost:8080/"
        },
        "id": "O-IcYOABFjxB",
        "outputId": "0bb0225b-0eb0-4a85-c654-cea542f17706"
      },
      "execution_count": 115,
      "outputs": [
        {
          "output_type": "execute_result",
          "data": {
            "text/plain": [
              "(52, 7)"
            ]
          },
          "metadata": {},
          "execution_count": 115
        }
      ]
    },
    {
      "cell_type": "code",
      "source": [
        "y_test.shape"
      ],
      "metadata": {
        "colab": {
          "base_uri": "https://localhost:8080/"
        },
        "id": "9AaqUY3PIlMQ",
        "outputId": "be32699b-f1b8-43a3-8cfd-312077bb2445"
      },
      "execution_count": 116,
      "outputs": [
        {
          "output_type": "execute_result",
          "data": {
            "text/plain": [
              "(52, 1)"
            ]
          },
          "metadata": {},
          "execution_count": 116
        }
      ]
    },
    {
      "cell_type": "code",
      "source": [
        "y_test_adj"
      ],
      "metadata": {
        "colab": {
          "base_uri": "https://localhost:8080/"
        },
        "id": "7LgDudYTKInS",
        "outputId": "0e4a3fc7-a6b6-47e2-ef98-183cac501e99"
      },
      "execution_count": 117,
      "outputs": [
        {
          "output_type": "execute_result",
          "data": {
            "text/plain": [
              "array([0, 2, 6, 5, 3, 3, 2, 4, 4, 3, 6, 2, 0, 5, 0, 5, 0, 0, 6, 3, 5, 3,\n",
              "       3, 3, 4, 2, 5, 5, 2, 1, 4, 2, 6, 3, 2, 4, 0, 0, 3, 4, 6, 1, 0, 3,\n",
              "       2, 0, 5, 2, 4, 5, 0, 5], dtype=int8)"
            ]
          },
          "metadata": {},
          "execution_count": 117
        }
      ]
    },
    {
      "cell_type": "code",
      "source": [
        "\n",
        "\n",
        "macro_roc_auc_ovo = roc_auc_score(y_test_adj, y_proba_test_class, multi_class=\"ovo\", average=\"macro\")\n",
        "weighted_roc_auc_ovo = roc_auc_score(\n",
        "    y_test_adj, y_proba_test_class, multi_class=\"ovo\", average=\"weighted\"\n",
        ")\n",
        "macro_roc_auc_ovr = roc_auc_score(y_test_adj, y_proba_test_class, multi_class=\"ovr\", average=\"macro\")\n",
        "weighted_roc_auc_ovr = roc_auc_score(\n",
        "    y_test_adj, y_proba_test_class, multi_class=\"ovr\", average=\"weighted\"\n",
        ")\n"
      ],
      "metadata": {
        "id": "oMa4N8EhHlY9"
      },
      "execution_count": 118,
      "outputs": []
    },
    {
      "cell_type": "code",
      "source": [
        "print(\"One-vs-One ROC AUC scores:\\n{:.6f} (macro),\\n{:.6f} \" \"(weighted by prevalence)\\n\".format(macro_roc_auc_ovo, weighted_roc_auc_ovo))\n",
        "print(\"One-vs-Rest ROC AUC scores:\\n{:.6f} (macro),\\n{:.6f} \" \"(weighted by prevalence)\".format(macro_roc_auc_ovr, weighted_roc_auc_ovr))"
      ],
      "metadata": {
        "colab": {
          "base_uri": "https://localhost:8080/"
        },
        "id": "hhBLwtO_ICqL",
        "outputId": "b0ffa1f7-486c-4dd1-f668-0a3d789942ff"
      },
      "execution_count": 119,
      "outputs": [
        {
          "output_type": "stream",
          "name": "stdout",
          "text": [
            "One-vs-One ROC AUC scores:\n",
            "0.749812 (macro),\n",
            "0.753007 (weighted by prevalence)\n",
            "\n",
            "One-vs-Rest ROC AUC scores:\n",
            "0.761574 (macro),\n",
            "0.752480 (weighted by prevalence)\n"
          ]
        }
      ]
    }
  ]
}