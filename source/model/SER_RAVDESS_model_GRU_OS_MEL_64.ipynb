{
  "metadata": {
    "kernelspec": {
      "language": "python",
      "display_name": "Python 3",
      "name": "python3"
    },
    "language_info": {
      "pygments_lexer": "ipython3",
      "nbconvert_exporter": "python",
      "version": "3.6.4",
      "file_extension": ".py",
      "codemirror_mode": {
        "name": "ipython",
        "version": 3
      },
      "name": "python",
      "mimetype": "text/x-python"
    },
    "colab": {
      "name": "SER-RAVDESS-model-GRU-OS-MEL-64.ipynb",
      "provenance": [],
      "collapsed_sections": []
    }
  },
  "nbformat_minor": 0,
  "nbformat": 4,
  "cells": [
    {
      "cell_type": "markdown",
      "source": [
        "# Imports"
      ],
      "metadata": {
        "id": "anSyerIFN7qd"
      }
    },
    {
      "cell_type": "code",
      "source": [
        "# Importing Libraries"
      ],
      "metadata": {
        "id": "IMFSwIuvKiw2"
      },
      "execution_count": 1,
      "outputs": []
    },
    {
      "cell_type": "code",
      "source": [
        "!pip install json-tricks"
      ],
      "metadata": {
        "colab": {
          "base_uri": "https://localhost:8080/"
        },
        "id": "bBR8aNsmM2tR",
        "outputId": "1b94a439-3382-451c-fe0d-0ee87253963e"
      },
      "execution_count": 2,
      "outputs": [
        {
          "output_type": "stream",
          "name": "stdout",
          "text": [
            "Looking in indexes: https://pypi.org/simple, https://us-python.pkg.dev/colab-wheels/public/simple/\n",
            "Collecting json-tricks\n",
            "  Downloading json_tricks-3.15.5-py2.py3-none-any.whl (26 kB)\n",
            "Installing collected packages: json-tricks\n",
            "Successfully installed json-tricks-3.15.5\n"
          ]
        }
      ]
    },
    {
      "cell_type": "code",
      "source": [
        "import pandas as pd\n",
        "import numpy as np\n",
        "\n",
        "import os\n",
        "import sys\n",
        "\n",
        "import librosa\n",
        "import librosa.display\n",
        "#from pydub import AudioSegment, effects\n",
        "#import noisereduce as nr\n",
        "\n",
        "\n",
        "import seaborn as sns\n",
        "import matplotlib.pyplot as plt\n",
        "from IPython.display import Audio\n",
        "\n",
        "import tensorflow as tf\n",
        "import keras\n",
        "import sklearn\n",
        "\n",
        "\n",
        "from tensorflow.keras.models import Sequential, Model\n",
        "from tensorflow.keras.layers import Dense, LSTM, Flatten, Dropout, BatchNormalization\n",
        "from tensorflow.keras.callbacks import ModelCheckpoint, EarlyStopping, ReduceLROnPlateau\n",
        "from tensorflow.keras.optimizers import Adam, SGD\n",
        "from tensorflow.keras.utils import to_categorical, plot_model\n",
        "\n",
        "\n",
        "from keras.models import Sequential, model_from_json, load_model\n",
        "from keras import layers\n",
        "from keras import optimizers\n",
        "from keras import callbacks\n",
        "\n",
        "from sklearn.preprocessing import StandardScaler, OneHotEncoder, LabelEncoder\n",
        "from sklearn.metrics import confusion_matrix, classification_report, precision_recall_fscore_support, roc_auc_score\n",
        "from sklearn.model_selection import train_test_split, StratifiedShuffleSplit\n",
        "from sklearn.multiclass import OneVsRestClassifier\n",
        "\n",
        "\n",
        "from tqdm import tqdm\n",
        "\n",
        "\n",
        "from json_tricks import dump, load\n",
        "\n",
        "\n",
        "\n",
        "import warnings\n",
        "if not sys.warnoptions:\n",
        "    warnings.simplefilter(\"ignore\")\n",
        "warnings.filterwarnings(\"ignore\", category=DeprecationWarning) \n",
        "\n",
        "import time\n",
        "tic = time.perf_counter()\n",
        "\n",
        "\n",
        "from sklearn.preprocessing import MinMaxScaler\n"
      ],
      "metadata": {
        "id": "77IS8HxqFFCA"
      },
      "execution_count": 3,
      "outputs": []
    },
    {
      "cell_type": "code",
      "source": [
        ""
      ],
      "metadata": {
        "id": "gGYqBIk0FGm4"
      },
      "execution_count": 3,
      "outputs": []
    },
    {
      "cell_type": "markdown",
      "source": [
        "# Dataset"
      ],
      "metadata": {
        "id": "nyMzoZKKKiw6"
      }
    },
    {
      "cell_type": "code",
      "source": [
        "from google.colab import drive\n",
        "drive.mount('/content/drive')"
      ],
      "metadata": {
        "colab": {
          "base_uri": "https://localhost:8080/"
        },
        "id": "JFPDGXmwCBs_",
        "outputId": "72b63177-7e08-41e2-acac-0c49f92d3904"
      },
      "execution_count": 4,
      "outputs": [
        {
          "output_type": "stream",
          "name": "stdout",
          "text": [
            "Mounted at /content/drive\n"
          ]
        }
      ]
    },
    {
      "cell_type": "code",
      "source": [
        "#Crema = \"/content/drive/MyDrive/datasets/speech/CREMAD/sample/\"\n",
        "#Crema = \"/content/drive/MyDrive/datasets/speech/CREMAD/AudioWAV/\"\n",
        "Ravdess = \"/content/drive/MyDrive/datasets/speech/RAVDESS/data/Audio_Speech_Actors_01-24\"\n",
        "Ravdess_processed = \"/content/drive/MyDrive/datasets/speech/RAVDESS/processedData/onlySpeech/\"\n",
        "Ravdess_speech_sample = \"/content/drive/MyDrive/datasets/speech/RAVDESS/data/Audio_Speech_Actors_01-24/\"\n",
        "df_path = \"/content/drive/MyDrive/datasets/speech/RAVDESS/ravdess_df_onlySpeech.csv\"\n",
        "model_path = Ravdess + \"/model/\"\n",
        "\n",
        "checkpoint_path = model_path + \"best_weights-os-GRU-1.hdf5\"\n",
        "saved_model_path = model_path + 'model8723-os-GRU-1.json'\n",
        "\n",
        "saved_weights_path = model_path + 'model8723_weights-os-GRU-1.h5'\n",
        "saved_model_path_2 = model_path + 'Speech-Emotion-Recognition-Model-os-GRU-1.h5'"
      ],
      "metadata": {
        "execution": {
          "iopub.status.busy": "2021-06-21T09:35:38.093538Z",
          "iopub.execute_input": "2021-06-21T09:35:38.093869Z",
          "iopub.status.idle": "2021-06-21T09:35:38.097467Z",
          "shell.execute_reply.started": "2021-06-21T09:35:38.093838Z",
          "shell.execute_reply": "2021-06-21T09:35:38.096608Z"
        },
        "trusted": true,
        "id": "vR2GjHL4Kiw7"
      },
      "execution_count": 5,
      "outputs": []
    },
    {
      "cell_type": "code",
      "source": [
        ""
      ],
      "metadata": {
        "id": "J2T6JxzIF2Jq"
      },
      "execution_count": 5,
      "outputs": []
    },
    {
      "cell_type": "code",
      "source": [
        "##Hypter Parameters' Range\n",
        "params = {\n",
        "    \"batch_size\": 20,  # 20<16<10, 25 was a bust\n",
        "    \"epochs\": 300,\n",
        "    \"lr\": 0.00010000,\n",
        "    \"time_steps\": 60\n",
        "}\n",
        "#TIME_STEPS = params[\"time_steps\"]\n",
        "#BATCH_SIZE = params[\"batch_size\"]\n",
        "#iter_changes = \"dropout_layers_0.4_0.4\"\n"
      ],
      "metadata": {
        "id": "jnEd5_Vvy4ue"
      },
      "execution_count": 6,
      "outputs": []
    },
    {
      "cell_type": "code",
      "source": [
        ""
      ],
      "metadata": {
        "id": "dKXM0xT-N8uy"
      },
      "execution_count": 6,
      "outputs": []
    },
    {
      "cell_type": "markdown",
      "source": [
        "# Load Processed Files, Construct Train, Validation and Test Sets"
      ],
      "metadata": {
        "id": "fse_mTpaOGdQ"
      }
    },
    {
      "cell_type": "code",
      "source": [
        "\n",
        "processed_path = Ravdess_processed\n",
        "x_path = processed_path + \"X_features.json\" # FILE LOAD PATH\n",
        "y_path =  processed_path + \"Y_labels.json\" # FILE SAVE PATH\n",
        "#x_path = '/content/drive/MyDrive/datasets/speech/RAVDESS/processedData/X_features.json'\n",
        "\n",
        "# Load X,Y json files back into lists, convert to np.arrays\n",
        "\n",
        "X = load(x_path)\n",
        "X = np.asarray(X, dtype = 'float32')\n",
        "\n",
        "Y = load(y_path)\n",
        "Y = np.asarray(Y, dtype = 'int8')"
      ],
      "metadata": {
        "id": "101BpvWgN8xX"
      },
      "execution_count": 7,
      "outputs": []
    },
    {
      "cell_type": "code",
      "source": [
        "# Split to train, validation, and test sets.\n",
        "from sklearn.model_selection import train_test_split\n",
        "# 1st Split: X,Y => (x_train, x_tosplit) (y_train, y_tosplit)\n",
        "x_train, x_tosplit, y_train, y_tosplit = train_test_split(X, Y, test_size = 0.30, random_state = 1)\n",
        "# 2nd Split: x_tosplit,y_tosplit => (x_val, x_test) (y_val, y_test) \n",
        "x_val, x_test, y_val, y_test = train_test_split(x_tosplit, y_tosplit, test_size = 0.304, random_state = 1)\n",
        "#'One-hot' vectors for Y: emotion classification\n",
        "y_train_class = tf.keras.utils.to_categorical(y_train, 7, dtype = 'int8')\n",
        "y_val_class = tf.keras.utils.to_categorical(y_val, 7, dtype = 'int8')"
      ],
      "metadata": {
        "id": "CuF9M1mfOD7X"
      },
      "execution_count": 8,
      "outputs": []
    },
    {
      "cell_type": "code",
      "source": [
        "# Normalize using MinMaxScaler\n",
        "\n",
        "#scaler = MinMaxScaler()\n",
        "\n",
        "#X_train = scaler.fit_transform(x_train.reshape(-1, x_train.shape[-1])).reshape(x_train.shape)\n",
        "#X_Val = scaler.fit_transform(x_val.reshape(-1, x_val.shape[-1])).reshape(x_val.shape)\n",
        "#X_test = scaler.transform(x_test.reshape(-1, x_test.shape[-1])).reshape(x_test.shape)"
      ],
      "metadata": {
        "id": "zBs8Y2ZlWY_5"
      },
      "execution_count": 9,
      "outputs": []
    },
    {
      "cell_type": "code",
      "source": [
        "X_train = x_train\n",
        "X_val = x_val\n",
        "X_test = x_test"
      ],
      "metadata": {
        "id": "Acf0v-2jsdOx"
      },
      "execution_count": 10,
      "outputs": []
    },
    {
      "cell_type": "code",
      "source": [
        "# x_train, x_val, and x_test shape check.\n",
        "print(np.shape(X_train))\n",
        "print(np.shape(X_val))\n",
        "print(np.shape(X_test))"
      ],
      "metadata": {
        "colab": {
          "base_uri": "https://localhost:8080/"
        },
        "id": "od-D1YgBOGXs",
        "outputId": "0eac6acb-ac76-4bc9-9d3e-f37e4d93ab8d"
      },
      "execution_count": 11,
      "outputs": [
        {
          "output_type": "stream",
          "name": "stdout",
          "text": [
            "(940, 448, 153)\n",
            "(281, 448, 153)\n",
            "(123, 448, 153)\n"
          ]
        }
      ]
    },
    {
      "cell_type": "code",
      "source": [
        "# Save x_test, y_test to JSON.\n",
        "\n",
        "x_test_path = processed_path + 'x_test_data.json'\n",
        "dump(obj = X_test, fp = x_test_path)\n",
        "\n",
        "y_test_path = processed_path + 'y_test_data.json'\n",
        "dump(obj = y_test, fp = y_test_path)"
      ],
      "metadata": {
        "colab": {
          "base_uri": "https://localhost:8080/",
          "height": 105
        },
        "id": "nTExHJVsOHQ5",
        "outputId": "7ed6c5d8-086a-4857-e099-5438cb370901"
      },
      "execution_count": 12,
      "outputs": [
        {
          "output_type": "execute_result",
          "data": {
            "text/plain": [
              "'{\"__ndarray__\": [[6], [3], [5], [4], [0], [4], [5], [4], [3], [6], [3], [4], [0], [5], [3], [0], [5], [5], [2], [6], [6], [0], [0], [2], [5], [0], [5], [0], [4], [1], [3], [6], [6], [5], [4], [2], [5], [4], [4], [5], [6], [0], [1], [2], [1], [1], [6], [2], [6], [4], [5], [6], [1], [2], [5], [1], [1], [4], [4], [1], [6], [3], [4], [2], [2], [2], [4], [0], [3], [6], [5], [1], [2], [4], [3], [0], [3], [6], [2], [6], [0], [4], [1], [3], [6], [3], [6], [4], [3], [3], [2], [5], [4], [1], [0], [3], [2], [3], [1], [0], [2], [6], [5], [4], [4], [3], [3], [6], [4], [0], [3], [4], [6], [5], [3], [2], [3], [1], [6], [6], [1], [0], [6]], \"dtype\": \"int8\", \"shape\": [123, 1], \"Corder\": true}'"
            ],
            "application/vnd.google.colaboratory.intrinsic+json": {
              "type": "string"
            }
          },
          "metadata": {},
          "execution_count": 12
        }
      ]
    },
    {
      "cell_type": "code",
      "source": [
        "# Loading x_test, y_test json files, and converting to np.arrays\n",
        "\n",
        "X_test = load(processed_path + 'x_test_data.json')\n",
        "X_test = np.asarray(X_test).astype('float32')\n",
        "\n",
        "y_test = load(processed_path + 'y_test_data.json')\n",
        "y_test = np.asarray(y_test).astype('int8')\n",
        "\n",
        "y_test_class = tf.keras.utils.to_categorical(y_test, 7, dtype = 'int8')"
      ],
      "metadata": {
        "id": "kAFBRsmk5dzm"
      },
      "execution_count": 13,
      "outputs": []
    },
    {
      "cell_type": "code",
      "source": [
        "X.shape"
      ],
      "metadata": {
        "id": "15joCR4gu4r7",
        "colab": {
          "base_uri": "https://localhost:8080/"
        },
        "outputId": "b4ffe38f-45ce-49bd-f9f6-9ab2bad90ba4"
      },
      "execution_count": 14,
      "outputs": [
        {
          "output_type": "execute_result",
          "data": {
            "text/plain": [
              "(1344, 448, 153)"
            ]
          },
          "metadata": {},
          "execution_count": 14
        }
      ]
    },
    {
      "cell_type": "code",
      "source": [
        "X.shape[1:3]"
      ],
      "metadata": {
        "colab": {
          "base_uri": "https://localhost:8080/"
        },
        "id": "8MQhoPKjEzi4",
        "outputId": "4384a103-945b-4f47-b9df-6661cff1dae3"
      },
      "execution_count": 15,
      "outputs": [
        {
          "output_type": "execute_result",
          "data": {
            "text/plain": [
              "(448, 153)"
            ]
          },
          "metadata": {},
          "execution_count": 15
        }
      ]
    },
    {
      "cell_type": "code",
      "source": [
        "X_train.shape"
      ],
      "metadata": {
        "colab": {
          "base_uri": "https://localhost:8080/"
        },
        "id": "LxZyszASamnQ",
        "outputId": "3da195f3-2c5e-4cab-c2c9-cfc612a4d9b9"
      },
      "execution_count": 16,
      "outputs": [
        {
          "output_type": "execute_result",
          "data": {
            "text/plain": [
              "(940, 448, 153)"
            ]
          },
          "metadata": {},
          "execution_count": 16
        }
      ]
    },
    {
      "cell_type": "markdown",
      "source": [
        "# RNN Model"
      ],
      "metadata": {
        "id": "gnWVMbR6KixC"
      }
    },
    {
      "cell_type": "code",
      "source": [
        "tic"
      ],
      "metadata": {
        "colab": {
          "base_uri": "https://localhost:8080/"
        },
        "id": "7CHZWdfcN8oo",
        "outputId": "02f161e9-4546-4b83-f2ea-88b0d14d6ebd"
      },
      "execution_count": 17,
      "outputs": [
        {
          "output_type": "execute_result",
          "data": {
            "text/plain": [
              "51.799073588"
            ]
          },
          "metadata": {},
          "execution_count": 17
        }
      ]
    },
    {
      "cell_type": "markdown",
      "source": [
        "## Define Model & Training"
      ],
      "metadata": {
        "id": "GJjJYnJQORJ8"
      }
    },
    {
      "cell_type": "code",
      "source": [
        "# Initializing the model\n",
        "\n",
        "model = Sequential()\n",
        "model.add(layers.GRU(64, return_sequences = True, input_shape=(X.shape[1:3])))\n",
        "model.add(layers.GRU(64))\n",
        "model.add(Dropout(0.2))\n",
        "model.add(layers.Dense(7, activation = 'softmax'))\n",
        "print(model.summary())\n",
        "\n",
        "batch_size = 23\n",
        "\n",
        "# Callbacks functions\n",
        "\n",
        "#-> EearlyStopping\n",
        "es = EarlyStopping(monitor='val_loss', mode='min', verbose=1,\n",
        "                    patience=20, min_delta=0.0001)\n",
        "\n",
        "\n",
        "#-> Save the best weights\n",
        "mcp_save = callbacks.ModelCheckpoint(checkpoint_path, save_best_only=True,\n",
        "                           monitor='val_categorical_accuracy',\n",
        "                           mode='max')\n",
        "#-> Reduce learning rate after 100 epoches without improvement.\n",
        "rlrop = callbacks.ReduceLROnPlateau(monitor='val_categorical_accuracy', \n",
        "                                    factor=0.1, patience=20)\n",
        "                             \n",
        "# Compile & train   \n",
        "model.compile(loss='categorical_crossentropy', \n",
        "                optimizer='RMSProp', \n",
        "                metrics=['categorical_accuracy'])\n",
        "\n",
        "\n"
      ],
      "metadata": {
        "colab": {
          "base_uri": "https://localhost:8080/"
        },
        "id": "aD2adyVGOJs4",
        "outputId": "b0e35cd0-9381-4f8b-fd6d-eeb160253f16"
      },
      "execution_count": 18,
      "outputs": [
        {
          "output_type": "stream",
          "name": "stdout",
          "text": [
            "Model: \"sequential\"\n",
            "_________________________________________________________________\n",
            " Layer (type)                Output Shape              Param #   \n",
            "=================================================================\n",
            " gru (GRU)                   (None, 448, 64)           42048     \n",
            "                                                                 \n",
            " gru_1 (GRU)                 (None, 64)                24960     \n",
            "                                                                 \n",
            " dropout (Dropout)           (None, 64)                0         \n",
            "                                                                 \n",
            " dense (Dense)               (None, 7)                 455       \n",
            "                                                                 \n",
            "=================================================================\n",
            "Total params: 67,463\n",
            "Trainable params: 67,463\n",
            "Non-trainable params: 0\n",
            "_________________________________________________________________\n",
            "None\n"
          ]
        }
      ]
    },
    {
      "cell_type": "code",
      "source": [
        ""
      ],
      "metadata": {
        "id": "4DBF6kqx-OHZ"
      },
      "execution_count": 18,
      "outputs": []
    },
    {
      "cell_type": "code",
      "source": [
        "history = model.fit(X_train, y_train_class, \n",
        "                      epochs=340, batch_size = batch_size, \n",
        "                      validation_data = (X_val, y_val_class), \n",
        "                      callbacks = [es, mcp_save, rlrop])\n",
        "toc = time.perf_counter()"
      ],
      "metadata": {
        "colab": {
          "base_uri": "https://localhost:8080/"
        },
        "id": "Da7Gc9x_izth",
        "outputId": "c4cd0b03-2a16-4181-f008-8860d5a19467"
      },
      "execution_count": 19,
      "outputs": [
        {
          "output_type": "stream",
          "name": "stdout",
          "text": [
            "Epoch 1/340\n",
            "41/41 [==============================] - 23s 451ms/step - loss: 1.8518 - categorical_accuracy: 0.2553 - val_loss: 1.7840 - val_categorical_accuracy: 0.3025 - lr: 0.0010\n",
            "Epoch 2/340\n",
            "41/41 [==============================] - 17s 408ms/step - loss: 1.6802 - categorical_accuracy: 0.3543 - val_loss: 1.7010 - val_categorical_accuracy: 0.3274 - lr: 0.0010\n",
            "Epoch 3/340\n",
            "41/41 [==============================] - 17s 407ms/step - loss: 1.6115 - categorical_accuracy: 0.3638 - val_loss: 1.6499 - val_categorical_accuracy: 0.3737 - lr: 0.0010\n",
            "Epoch 4/340\n",
            "41/41 [==============================] - 17s 409ms/step - loss: 1.5291 - categorical_accuracy: 0.4032 - val_loss: 1.5963 - val_categorical_accuracy: 0.4021 - lr: 0.0010\n",
            "Epoch 5/340\n",
            "41/41 [==============================] - 17s 407ms/step - loss: 1.5180 - categorical_accuracy: 0.4202 - val_loss: 1.5907 - val_categorical_accuracy: 0.4199 - lr: 0.0010\n",
            "Epoch 6/340\n",
            "41/41 [==============================] - 16s 399ms/step - loss: 1.4430 - categorical_accuracy: 0.4500 - val_loss: 1.6564 - val_categorical_accuracy: 0.4057 - lr: 0.0010\n",
            "Epoch 7/340\n",
            "41/41 [==============================] - 16s 402ms/step - loss: 1.4400 - categorical_accuracy: 0.4415 - val_loss: 1.6216 - val_categorical_accuracy: 0.4021 - lr: 0.0010\n",
            "Epoch 8/340\n",
            "41/41 [==============================] - 16s 400ms/step - loss: 1.4132 - categorical_accuracy: 0.4574 - val_loss: 1.6148 - val_categorical_accuracy: 0.3665 - lr: 0.0010\n",
            "Epoch 9/340\n",
            "41/41 [==============================] - 16s 402ms/step - loss: 1.3993 - categorical_accuracy: 0.4489 - val_loss: 1.6270 - val_categorical_accuracy: 0.3879 - lr: 0.0010\n",
            "Epoch 10/340\n",
            "41/41 [==============================] - 16s 400ms/step - loss: 1.3641 - categorical_accuracy: 0.4862 - val_loss: 1.6724 - val_categorical_accuracy: 0.3772 - lr: 0.0010\n",
            "Epoch 11/340\n",
            "41/41 [==============================] - 17s 406ms/step - loss: 1.3631 - categorical_accuracy: 0.4809 - val_loss: 1.5845 - val_categorical_accuracy: 0.3915 - lr: 0.0010\n",
            "Epoch 12/340\n",
            "41/41 [==============================] - 17s 407ms/step - loss: 1.3566 - categorical_accuracy: 0.4755 - val_loss: 1.6691 - val_categorical_accuracy: 0.4057 - lr: 0.0010\n",
            "Epoch 13/340\n",
            "41/41 [==============================] - 18s 447ms/step - loss: 1.3404 - categorical_accuracy: 0.5043 - val_loss: 1.6346 - val_categorical_accuracy: 0.3879 - lr: 0.0010\n",
            "Epoch 14/340\n",
            "41/41 [==============================] - 17s 414ms/step - loss: 1.2922 - categorical_accuracy: 0.5106 - val_loss: 1.6376 - val_categorical_accuracy: 0.4199 - lr: 0.0010\n",
            "Epoch 15/340\n",
            "41/41 [==============================] - 17s 404ms/step - loss: 1.2807 - categorical_accuracy: 0.5106 - val_loss: 1.6582 - val_categorical_accuracy: 0.3843 - lr: 0.0010\n",
            "Epoch 16/340\n",
            "41/41 [==============================] - 17s 409ms/step - loss: 1.2629 - categorical_accuracy: 0.5319 - val_loss: 1.6586 - val_categorical_accuracy: 0.3915 - lr: 0.0010\n",
            "Epoch 17/340\n",
            "41/41 [==============================] - 17s 408ms/step - loss: 1.2081 - categorical_accuracy: 0.5713 - val_loss: 1.6311 - val_categorical_accuracy: 0.3986 - lr: 0.0010\n",
            "Epoch 18/340\n",
            "41/41 [==============================] - 17s 406ms/step - loss: 1.1877 - categorical_accuracy: 0.5617 - val_loss: 1.6688 - val_categorical_accuracy: 0.3950 - lr: 0.0010\n",
            "Epoch 19/340\n",
            "41/41 [==============================] - 17s 404ms/step - loss: 1.1712 - categorical_accuracy: 0.5638 - val_loss: 1.6169 - val_categorical_accuracy: 0.3950 - lr: 0.0010\n",
            "Epoch 20/340\n",
            "41/41 [==============================] - 17s 407ms/step - loss: 1.1661 - categorical_accuracy: 0.5447 - val_loss: 1.6304 - val_categorical_accuracy: 0.3879 - lr: 0.0010\n",
            "Epoch 21/340\n",
            "41/41 [==============================] - 17s 409ms/step - loss: 1.1469 - categorical_accuracy: 0.5734 - val_loss: 1.6446 - val_categorical_accuracy: 0.4057 - lr: 0.0010\n",
            "Epoch 22/340\n",
            "41/41 [==============================] - 17s 407ms/step - loss: 1.1072 - categorical_accuracy: 0.5819 - val_loss: 1.6571 - val_categorical_accuracy: 0.3950 - lr: 0.0010\n",
            "Epoch 23/340\n",
            "41/41 [==============================] - 17s 410ms/step - loss: 1.1125 - categorical_accuracy: 0.5670 - val_loss: 1.7193 - val_categorical_accuracy: 0.3986 - lr: 0.0010\n",
            "Epoch 24/340\n",
            "41/41 [==============================] - 17s 408ms/step - loss: 1.0847 - categorical_accuracy: 0.6074 - val_loss: 1.6920 - val_categorical_accuracy: 0.3915 - lr: 0.0010\n",
            "Epoch 25/340\n",
            "41/41 [==============================] - 17s 411ms/step - loss: 1.0446 - categorical_accuracy: 0.6096 - val_loss: 1.6938 - val_categorical_accuracy: 0.3808 - lr: 0.0010\n",
            "Epoch 26/340\n",
            "41/41 [==============================] - 17s 413ms/step - loss: 0.9673 - categorical_accuracy: 0.6521 - val_loss: 1.6706 - val_categorical_accuracy: 0.4377 - lr: 1.0000e-04\n",
            "Epoch 27/340\n",
            "41/41 [==============================] - 17s 413ms/step - loss: 0.9377 - categorical_accuracy: 0.6404 - val_loss: 1.6824 - val_categorical_accuracy: 0.4377 - lr: 1.0000e-04\n",
            "Epoch 28/340\n",
            "41/41 [==============================] - 17s 410ms/step - loss: 0.9153 - categorical_accuracy: 0.6649 - val_loss: 1.7016 - val_categorical_accuracy: 0.4306 - lr: 1.0000e-04\n",
            "Epoch 29/340\n",
            "41/41 [==============================] - 17s 413ms/step - loss: 0.8862 - categorical_accuracy: 0.6734 - val_loss: 1.7149 - val_categorical_accuracy: 0.4342 - lr: 1.0000e-04\n",
            "Epoch 30/340\n",
            "41/41 [==============================] - 17s 404ms/step - loss: 0.8806 - categorical_accuracy: 0.6840 - val_loss: 1.6977 - val_categorical_accuracy: 0.4377 - lr: 1.0000e-04\n",
            "Epoch 31/340\n",
            "41/41 [==============================] - 17s 406ms/step - loss: 0.8688 - categorical_accuracy: 0.6830 - val_loss: 1.7076 - val_categorical_accuracy: 0.4306 - lr: 1.0000e-04\n",
            "Epoch 31: early stopping\n"
          ]
        }
      ]
    },
    {
      "cell_type": "code",
      "source": [
        ""
      ],
      "metadata": {
        "id": "3MekXCZHizyZ"
      },
      "execution_count": 19,
      "outputs": []
    },
    {
      "cell_type": "code",
      "source": [
        "print(f\"Running time: {(toc - tic)/60:0.4f} minutes\")"
      ],
      "metadata": {
        "id": "cHmSBRhVOELJ",
        "colab": {
          "base_uri": "https://localhost:8080/"
        },
        "outputId": "0d40fa78-e56d-4aab-d1ad-ec974014f1c2"
      },
      "execution_count": 20,
      "outputs": [
        {
          "output_type": "stream",
          "name": "stdout",
          "text": [
            "Running time: 14.2228 minutes\n"
          ]
        }
      ]
    },
    {
      "cell_type": "markdown",
      "source": [
        "## Loading Model"
      ],
      "metadata": {
        "id": "jCQelzMAKixD"
      }
    },
    {
      "cell_type": "code",
      "source": [
        "# Define the best weights to the model.\\\n",
        "#model.load_weights(checkpoint_path)"
      ],
      "metadata": {
        "id": "gruZAW2wI-tO"
      },
      "execution_count": 21,
      "outputs": []
    },
    {
      "cell_type": "markdown",
      "source": [
        "# Evaluation"
      ],
      "metadata": {
        "id": "kDxTjEK0KixD"
      }
    },
    {
      "cell_type": "markdown",
      "source": [
        "## Save & Load model, weights"
      ],
      "metadata": {
        "id": "1YfguG0tPatV"
      }
    },
    {
      "cell_type": "code",
      "source": [
        "# Saving model & weights\n",
        "model_json = model.to_json()\n",
        "\n",
        "\n",
        "\n",
        "with open(saved_model_path, \"w\") as json_file:\n",
        "    json_file.write(model_json)\n",
        "    \n",
        "model.save_weights(saved_weights_path)\n",
        "print(\"Saved model to disk\")"
      ],
      "metadata": {
        "colab": {
          "base_uri": "https://localhost:8080/"
        },
        "id": "MsVoNhqmgGsK",
        "outputId": "b9625c17-1486-4201-de29-70958470fd3b"
      },
      "execution_count": 22,
      "outputs": [
        {
          "output_type": "stream",
          "name": "stdout",
          "text": [
            "Saved model to disk\n"
          ]
        }
      ]
    },
    {
      "cell_type": "code",
      "source": [
        "# Reading the model from JSON file\n",
        "#model_path = Ravdess + \"/model/\"\n",
        "#saved_model_path = model_path + 'model8723.json'\n",
        "#saved_weights_path = model_path + 'model8723_weights.h5'\n",
        "\n",
        "\n",
        "with open(saved_model_path , 'r') as json_file:\n",
        "    json_savedModel = json_file.read()\n",
        "    \n",
        "# Loading the model architecture, weights\n",
        "model = tf.keras.models.model_from_json(json_savedModel)\n",
        "model.load_weights(saved_weights_path)\n",
        "\n",
        "# Compiling the model with similar parameters as the original model.\n",
        "model.compile(loss='categorical_crossentropy', \n",
        "                optimizer='RMSProp', \n",
        "                metrics=['categorical_accuracy'])\n",
        "\n",
        "# Model's structure visualization\n",
        "tf.keras.utils.plot_model(model, to_file='model.png', show_shapes=True, show_layer_names=True)"
      ],
      "metadata": {
        "colab": {
          "base_uri": "https://localhost:8080/",
          "height": 533
        },
        "id": "y4OJGhLmgfX6",
        "outputId": "4206f0b1-4062-4318-d611-0ab70b555305"
      },
      "execution_count": 23,
      "outputs": [
        {
          "output_type": "execute_result",
          "data": {
            "text/plain": [
              "<IPython.core.display.Image object>"
            ],
            "image/png": "[encoded data removed]"
          },
          "metadata": {},
          "execution_count": 23
        }
      ]
    },
    {
      "cell_type": "code",
      "source": [
        ""
      ],
      "metadata": {
        "id": "B_SW6eUAgvEj"
      },
      "execution_count": 23,
      "outputs": []
    },
    {
      "cell_type": "code",
      "source": [
        ""
      ],
      "metadata": {
        "id": "cCfkUXTYgzSB"
      },
      "execution_count": 23,
      "outputs": []
    },
    {
      "cell_type": "code",
      "source": [
        "model.save(saved_model_path_2)"
      ],
      "metadata": {
        "trusted": true,
        "id": "Z5Uzb_bGKixE"
      },
      "execution_count": 24,
      "outputs": []
    },
    {
      "cell_type": "markdown",
      "source": [
        "## Train (fit) Visualization"
      ],
      "metadata": {
        "id": "ATvBW0SPO-eq"
      }
    },
    {
      "cell_type": "code",
      "source": [
        "# Loss, Accuracy presentation\n",
        "\n",
        "# Plot history: Loss\n",
        "plt.plot(history.history['loss'], label='Loss (training data)')\n",
        "plt.plot(history.history['val_loss'], label='Loss (validation data)')\n",
        "plt.title('Loss for train and validation')\n",
        "plt.ylabel('Loss value')\n",
        "plt.xlabel('No. epoch')\n",
        "plt.legend(loc=\"upper left\")\n",
        "plt.show()\n",
        "\n",
        "#Plot history: Accuracy\n",
        "plt.plot(history.history['categorical_accuracy'], label='Acc (training data)')\n",
        "plt.plot(history.history['val_categorical_accuracy'], label='Acc (validation data)')\n",
        "plt.title('Model accuracy')\n",
        "plt.ylabel('Acc %')\n",
        "plt.xlabel('No. epoch')\n",
        "plt.legend(loc=\"upper left\")\n",
        "plt.show()"
      ],
      "metadata": {
        "colab": {
          "base_uri": "https://localhost:8080/",
          "height": 573
        },
        "id": "UjhUHhU_f4EY",
        "outputId": "30131632-13ab-4d9c-fec0-83d36d7243cd"
      },
      "execution_count": 25,
      "outputs": [
        {
          "output_type": "display_data",
          "data": {
            "text/plain": [
              "<Figure size 432x288 with 1 Axes>"
            ],
            "image/png": "[encoded data removed]"
          },
          "metadata": {
            "needs_background": "light"
          }
        },
        {
          "output_type": "display_data",
          "data": {
            "text/plain": [
              "<Figure size 432x288 with 1 Axes>"
            ],
            "image/png": "[encoded data removed]"
          },
          "metadata": {
            "needs_background": "light"
          }
        }
      ]
    },
    {
      "cell_type": "markdown",
      "source": [
        "## Validation Set Evaluation"
      ],
      "metadata": {
        "id": "UZ3lFduxPQeB"
      }
    },
    {
      "cell_type": "markdown",
      "source": [
        "### Val Set Score"
      ],
      "metadata": {
        "id": "5YoYCa22PMGz"
      }
    },
    {
      "cell_type": "code",
      "source": [
        ""
      ],
      "metadata": {
        "id": "jQavrzbB_8fy"
      },
      "execution_count": 25,
      "outputs": []
    },
    {
      "cell_type": "code",
      "source": [
        "# Validation score\n",
        "loss,acc = model.evaluate(X_val, y_val_class, verbose=2)\n"
      ],
      "metadata": {
        "id": "X_KdTUyrf7-j",
        "colab": {
          "base_uri": "https://localhost:8080/"
        },
        "outputId": "fdb8aa5d-e500-4642-af62-7cc01c4e9323"
      },
      "execution_count": 26,
      "outputs": [
        {
          "output_type": "stream",
          "name": "stdout",
          "text": [
            "9/9 - 2s - loss: 1.7076 - categorical_accuracy: 0.4306 - 2s/epoch - 184ms/step\n"
          ]
        }
      ]
    },
    {
      "cell_type": "code",
      "source": [
        ""
      ],
      "metadata": {
        "id": "09k_I9DM_2Q0"
      },
      "execution_count": 26,
      "outputs": []
    },
    {
      "cell_type": "markdown",
      "source": [
        "### Construct Predicted Labels based on Probability of each class"
      ],
      "metadata": {
        "id": "hz7nc15A_3hb"
      }
    },
    {
      "cell_type": "code",
      "source": [
        "y_val_class"
      ],
      "metadata": {
        "colab": {
          "base_uri": "https://localhost:8080/"
        },
        "id": "CFM1P2SZ_85N",
        "outputId": "25c6b842-c76b-41b5-ac47-e00b3aa9646f"
      },
      "execution_count": 27,
      "outputs": [
        {
          "output_type": "execute_result",
          "data": {
            "text/plain": [
              "array([[0, 0, 0, ..., 0, 0, 1],\n",
              "       [0, 1, 0, ..., 0, 0, 0],\n",
              "       [0, 0, 0, ..., 0, 1, 0],\n",
              "       ...,\n",
              "       [0, 0, 0, ..., 0, 0, 1],\n",
              "       [0, 0, 0, ..., 0, 0, 1],\n",
              "       [0, 0, 1, ..., 0, 0, 0]], dtype=int8)"
            ]
          },
          "metadata": {},
          "execution_count": 27
        }
      ]
    },
    {
      "cell_type": "code",
      "source": [
        "np.argmax(y_val_class, axis=1)"
      ],
      "metadata": {
        "colab": {
          "base_uri": "https://localhost:8080/"
        },
        "id": "C9UHSeXbAASy",
        "outputId": "c8898a7b-d2c4-4818-8718-38ee47ae93b6"
      },
      "execution_count": 28,
      "outputs": [
        {
          "output_type": "execute_result",
          "data": {
            "text/plain": [
              "array([6, 1, 5, 3, 5, 5, 2, 5, 0, 4, 5, 1, 5, 5, 2, 1, 0, 1, 4, 5, 3, 6,\n",
              "       0, 2, 2, 4, 6, 5, 1, 4, 0, 5, 2, 3, 1, 6, 5, 2, 1, 0, 3, 4, 0, 5,\n",
              "       3, 3, 0, 6, 4, 6, 0, 3, 3, 3, 4, 5, 3, 2, 3, 6, 1, 0, 3, 2, 4, 4,\n",
              "       6, 2, 4, 0, 5, 5, 1, 2, 0, 5, 5, 3, 4, 6, 4, 2, 2, 3, 6, 0, 0, 3,\n",
              "       2, 5, 1, 4, 1, 0, 6, 3, 6, 1, 2, 6, 6, 2, 0, 5, 1, 5, 4, 0, 5, 2,\n",
              "       0, 5, 0, 6, 2, 3, 3, 2, 2, 2, 0, 1, 5, 2, 5, 3, 2, 0, 3, 3, 3, 2,\n",
              "       0, 3, 0, 6, 3, 3, 3, 1, 0, 3, 6, 5, 6, 4, 0, 2, 6, 2, 1, 1, 4, 6,\n",
              "       0, 2, 1, 1, 3, 0, 6, 6, 2, 0, 1, 5, 5, 4, 5, 5, 0, 2, 4, 4, 6, 4,\n",
              "       3, 6, 2, 3, 2, 3, 0, 1, 0, 3, 1, 5, 2, 1, 6, 0, 4, 1, 6, 2, 0, 0,\n",
              "       6, 0, 0, 2, 5, 5, 1, 2, 3, 2, 2, 2, 4, 3, 5, 3, 1, 0, 2, 0, 2, 4,\n",
              "       6, 1, 0, 6, 5, 6, 4, 0, 0, 4, 5, 3, 2, 6, 2, 6, 3, 5, 3, 1, 5, 6,\n",
              "       5, 1, 2, 1, 6, 0, 5, 3, 2, 1, 6, 3, 0, 1, 3, 6, 3, 2, 2, 4, 6, 4,\n",
              "       3, 2, 2, 5, 5, 4, 1, 3, 6, 5, 3, 0, 3, 4, 6, 6, 2])"
            ]
          },
          "metadata": {},
          "execution_count": 28
        }
      ]
    },
    {
      "cell_type": "code",
      "source": [
        "y_val_class = np.argmax(y_val_class, axis=1)\n",
        "predictions_val = model.predict(X_val)\n",
        "y_proba_val_class = predictions_val\n",
        "y_pred_val_class = np.argmax(predictions_val, axis=1)"
      ],
      "metadata": {
        "id": "urjydD-38JK7"
      },
      "execution_count": 29,
      "outputs": []
    },
    {
      "cell_type": "code",
      "source": [
        "predictions_val\n"
      ],
      "metadata": {
        "colab": {
          "base_uri": "https://localhost:8080/"
        },
        "id": "Zb7dGRs3AEJn",
        "outputId": "8955bbb1-7c2e-4f88-ec0a-f357a3a7c095"
      },
      "execution_count": 30,
      "outputs": [
        {
          "output_type": "execute_result",
          "data": {
            "text/plain": [
              "array([[0.01929187, 0.51562715, 0.06272751, ..., 0.08502255, 0.00541472,\n",
              "        0.30712104],\n",
              "       [0.01999489, 0.54268795, 0.02758514, ..., 0.13598888, 0.05209867,\n",
              "        0.19198062],\n",
              "       [0.17836528, 0.04680053, 0.39704815, ..., 0.2094883 , 0.02168234,\n",
              "        0.1462465 ],\n",
              "       ...,\n",
              "       [0.00567881, 0.03271857, 0.44569916, ..., 0.03561275, 0.05616299,\n",
              "        0.42291677],\n",
              "       [0.00086363, 0.72931045, 0.02439836, ..., 0.12164167, 0.0409249 ,\n",
              "        0.05041132],\n",
              "       [0.00857527, 0.10911749, 0.06506026, ..., 0.1998182 , 0.56511754,\n",
              "        0.01110217]], dtype=float32)"
            ]
          },
          "metadata": {},
          "execution_count": 30
        }
      ]
    },
    {
      "cell_type": "code",
      "source": [
        "y_pred_val_class "
      ],
      "metadata": {
        "colab": {
          "base_uri": "https://localhost:8080/"
        },
        "id": "KxHa1Ss1AJo4",
        "outputId": "6bd7f8fc-4092-44b7-e290-eb0dbe1046b0"
      },
      "execution_count": 31,
      "outputs": [
        {
          "output_type": "execute_result",
          "data": {
            "text/plain": [
              "array([1, 1, 2, 3, 5, 0, 1, 6, 0, 4, 1, 1, 5, 6, 2, 6, 5, 6, 5, 5, 3, 6,\n",
              "       0, 2, 6, 1, 3, 5, 1, 6, 0, 5, 6, 3, 3, 3, 6, 2, 6, 0, 1, 0, 2, 6,\n",
              "       3, 1, 5, 2, 4, 6, 4, 3, 3, 3, 0, 4, 6, 4, 3, 1, 1, 6, 3, 2, 5, 0,\n",
              "       6, 5, 4, 5, 5, 5, 6, 6, 0, 2, 5, 3, 6, 4, 6, 0, 0, 3, 5, 2, 0, 2,\n",
              "       0, 4, 4, 3, 1, 0, 1, 3, 6, 1, 4, 2, 4, 4, 6, 1, 3, 5, 2, 3, 3, 0,\n",
              "       2, 5, 4, 2, 2, 3, 1, 0, 6, 5, 5, 6, 5, 2, 0, 3, 2, 2, 4, 3, 6, 1,\n",
              "       1, 3, 4, 6, 4, 3, 3, 1, 5, 1, 6, 5, 1, 1, 0, 2, 1, 2, 2, 5, 1, 1,\n",
              "       0, 2, 3, 1, 3, 0, 4, 6, 0, 0, 2, 3, 1, 3, 6, 5, 0, 1, 4, 2, 4, 4,\n",
              "       3, 0, 2, 3, 4, 3, 6, 5, 2, 1, 4, 3, 5, 4, 6, 4, 4, 1, 6, 6, 0, 0,\n",
              "       3, 0, 2, 0, 5, 5, 1, 2, 5, 4, 0, 2, 4, 3, 5, 5, 2, 0, 4, 0, 3, 5,\n",
              "       3, 0, 2, 3, 5, 1, 2, 0, 2, 4, 6, 3, 1, 6, 5, 4, 3, 6, 3, 6, 5, 1,\n",
              "       0, 1, 2, 1, 6, 0, 5, 4, 6, 2, 1, 4, 0, 1, 6, 6, 3, 4, 1, 6, 2, 4,\n",
              "       5, 6, 5, 5, 6, 4, 1, 5, 6, 5, 3, 5, 3, 5, 2, 1, 5])"
            ]
          },
          "metadata": {},
          "execution_count": 31
        }
      ]
    },
    {
      "cell_type": "markdown",
      "source": [
        "### Val Set Confusion Matrix and Heatmap"
      ],
      "metadata": {
        "id": "d2ullxf9PUMd"
      }
    },
    {
      "cell_type": "code",
      "source": [
        "# Validation Confusion matrix\n",
        "cm=confusion_matrix(y_val_class, y_pred_val_class)\n",
        "\n",
        "index = ['calm', 'happy', 'sad', 'angry', 'fearful', 'disgust', 'surprised']  \n",
        "columns = ['calm', 'happy', 'sad', 'angry', 'fearful', 'disgust', 'surprised']  \n",
        " \n",
        "cm_df = pd.DataFrame(cm,index,columns)                      \n",
        "plt.figure(figsize=(12,8))\n",
        "ax = plt.axes()\n",
        "\n",
        "sns.heatmap(cm_df, ax = ax, cmap = 'PuBu', fmt=\"d\", annot=True)\n",
        "ax.set_ylabel('True emotion')\n",
        "ax.set_xlabel('Predicted emotion')"
      ],
      "metadata": {
        "colab": {
          "base_uri": "https://localhost:8080/",
          "height": 514
        },
        "id": "doLcg3CTf9bx",
        "outputId": "56f74428-44e2-43b7-d6fa-f4ed3ed0abfa"
      },
      "execution_count": 32,
      "outputs": [
        {
          "output_type": "execute_result",
          "data": {
            "text/plain": [
              "Text(0.5, 51.0, 'Predicted emotion')"
            ]
          },
          "metadata": {},
          "execution_count": 32
        },
        {
          "output_type": "display_data",
          "data": {
            "text/plain": [
              "<Figure size 864x576 with 2 Axes>"
            ],
            "image/png": "[encoded data removed]"
          },
          "metadata": {
            "needs_background": "light"
          }
        }
      ]
    },
    {
      "cell_type": "code",
      "source": [
        "# Confusion Matrix\n",
        "cm"
      ],
      "metadata": {
        "colab": {
          "base_uri": "https://localhost:8080/"
        },
        "id": "hIEG9Pia8Nfp",
        "outputId": "8193863d-d807-4b93-d6c7-b4ad742d75b1"
      },
      "execution_count": 33,
      "outputs": [
        {
          "output_type": "execute_result",
          "data": {
            "text/plain": [
              "array([[20,  1,  8,  1,  4,  6,  3],\n",
              "       [ 1, 14,  4,  3,  3,  2,  6],\n",
              "       [ 8,  5, 14,  1,  7,  6,  7],\n",
              "       [ 0,  5,  1, 29,  4,  4,  3],\n",
              "       [ 3,  3,  3,  2, 10,  4,  4],\n",
              "       [ 3,  3,  2,  3,  2, 21,  8],\n",
              "       [ 1, 10,  5,  5,  5,  1, 13]])"
            ]
          },
          "metadata": {},
          "execution_count": 33
        }
      ]
    },
    {
      "cell_type": "markdown",
      "source": [
        "### Validation Set Predicted emotions accuracy"
      ],
      "metadata": {
        "id": "kWjKgUdRPYH5"
      }
    },
    {
      "cell_type": "code",
      "source": [
        "# Validation set prediction accuracy rates\n",
        "\n",
        "values = cm.diagonal()\n",
        "row_sum = np.sum(cm,axis=1)\n",
        "acc = values / row_sum\n",
        "\n",
        "print('Validation set predicted emotions accuracy:')\n",
        "for e in range(0, len(values)):\n",
        "    print(index[e],':', f\"{(acc[e]):0.4f}\")"
      ],
      "metadata": {
        "colab": {
          "base_uri": "https://localhost:8080/"
        },
        "id": "MopdywY9f-mS",
        "outputId": "a0e17e66-7d6c-4084-ad02-8c22296653ba"
      },
      "execution_count": 34,
      "outputs": [
        {
          "output_type": "stream",
          "name": "stdout",
          "text": [
            "Validation set predicted emotions accuracy:\n",
            "calm : 0.4651\n",
            "happy : 0.4242\n",
            "sad : 0.2917\n",
            "angry : 0.6304\n",
            "fearful : 0.3448\n",
            "disgust : 0.5000\n",
            "surprised : 0.3250\n"
          ]
        }
      ]
    },
    {
      "cell_type": "markdown",
      "source": [
        "### Precision, Recal, Fscore"
      ],
      "metadata": {
        "id": "DGSTy2228XRH"
      }
    },
    {
      "cell_type": "code",
      "source": [
        "# Validation set precision, recall, fscore\n",
        "\n",
        "precision_recall_fscore_support(y_val_class, y_pred_val_class, average='macro')\n"
      ],
      "metadata": {
        "colab": {
          "base_uri": "https://localhost:8080/"
        },
        "id": "rOwUkCG0gGpm",
        "outputId": "5e1cebc3-dade-4c75-f699-ddcc70a8f879"
      },
      "execution_count": 35,
      "outputs": [
        {
          "output_type": "execute_result",
          "data": {
            "text/plain": [
              "(0.4275614023000783, 0.4258982483992072, 0.4241370862856887, None)"
            ]
          },
          "metadata": {},
          "execution_count": 35
        }
      ]
    },
    {
      "cell_type": "code",
      "source": [
        "precision_recall_fscore_support(y_val_class, y_pred_val_class, average='weighted')"
      ],
      "metadata": {
        "colab": {
          "base_uri": "https://localhost:8080/"
        },
        "id": "OorFgXxDzy3o",
        "outputId": "48a36597-d780-44cf-81c8-64f46fc46d06"
      },
      "execution_count": 36,
      "outputs": [
        {
          "output_type": "execute_result",
          "data": {
            "text/plain": [
              "(0.4405226911085777, 0.4306049822064057, 0.43298906698746115, None)"
            ]
          },
          "metadata": {},
          "execution_count": 36
        }
      ]
    },
    {
      "cell_type": "markdown",
      "source": [
        "## Test Set Evaluation"
      ],
      "metadata": {
        "id": "FiCwOjmPPgCn"
      }
    },
    {
      "cell_type": "markdown",
      "source": [
        "### Test Set Score\n",
        "\n"
      ],
      "metadata": {
        "id": "CWB7U5xDUSmF"
      }
    },
    {
      "cell_type": "code",
      "source": [
        "loss, acc = model.evaluate(X_test, y_test_class, verbose=2)"
      ],
      "metadata": {
        "id": "Y7NEHPM-gzml",
        "colab": {
          "base_uri": "https://localhost:8080/"
        },
        "outputId": "c15af839-d4e9-4893-d5e1-53a6516138c0"
      },
      "execution_count": 37,
      "outputs": [
        {
          "output_type": "stream",
          "name": "stdout",
          "text": [
            "4/4 - 0s - loss: 1.9201 - categorical_accuracy: 0.3171 - 358ms/epoch - 90ms/step\n"
          ]
        }
      ]
    },
    {
      "cell_type": "markdown",
      "source": [
        "### Construct Predicted Labels based on Probability of each class"
      ],
      "metadata": {
        "id": "gPwcFV9oAhGh"
      }
    },
    {
      "cell_type": "code",
      "source": [
        "y_test_class"
      ],
      "metadata": {
        "colab": {
          "base_uri": "https://localhost:8080/"
        },
        "id": "tjN7Eit7AiML",
        "outputId": "a5473168-0326-4ef3-a115-d42c4ba905a8"
      },
      "execution_count": 38,
      "outputs": [
        {
          "output_type": "execute_result",
          "data": {
            "text/plain": [
              "array([[0, 0, 0, 0, 0, 0, 1],\n",
              "       [0, 0, 0, 1, 0, 0, 0],\n",
              "       [0, 0, 0, 0, 0, 1, 0],\n",
              "       [0, 0, 0, 0, 1, 0, 0],\n",
              "       [1, 0, 0, 0, 0, 0, 0],\n",
              "       [0, 0, 0, 0, 1, 0, 0],\n",
              "       [0, 0, 0, 0, 0, 1, 0],\n",
              "       [0, 0, 0, 0, 1, 0, 0],\n",
              "       [0, 0, 0, 1, 0, 0, 0],\n",
              "       [0, 0, 0, 0, 0, 0, 1],\n",
              "       [0, 0, 0, 1, 0, 0, 0],\n",
              "       [0, 0, 0, 0, 1, 0, 0],\n",
              "       [1, 0, 0, 0, 0, 0, 0],\n",
              "       [0, 0, 0, 0, 0, 1, 0],\n",
              "       [0, 0, 0, 1, 0, 0, 0],\n",
              "       [1, 0, 0, 0, 0, 0, 0],\n",
              "       [0, 0, 0, 0, 0, 1, 0],\n",
              "       [0, 0, 0, 0, 0, 1, 0],\n",
              "       [0, 0, 1, 0, 0, 0, 0],\n",
              "       [0, 0, 0, 0, 0, 0, 1],\n",
              "       [0, 0, 0, 0, 0, 0, 1],\n",
              "       [1, 0, 0, 0, 0, 0, 0],\n",
              "       [1, 0, 0, 0, 0, 0, 0],\n",
              "       [0, 0, 1, 0, 0, 0, 0],\n",
              "       [0, 0, 0, 0, 0, 1, 0],\n",
              "       [1, 0, 0, 0, 0, 0, 0],\n",
              "       [0, 0, 0, 0, 0, 1, 0],\n",
              "       [1, 0, 0, 0, 0, 0, 0],\n",
              "       [0, 0, 0, 0, 1, 0, 0],\n",
              "       [0, 1, 0, 0, 0, 0, 0],\n",
              "       [0, 0, 0, 1, 0, 0, 0],\n",
              "       [0, 0, 0, 0, 0, 0, 1],\n",
              "       [0, 0, 0, 0, 0, 0, 1],\n",
              "       [0, 0, 0, 0, 0, 1, 0],\n",
              "       [0, 0, 0, 0, 1, 0, 0],\n",
              "       [0, 0, 1, 0, 0, 0, 0],\n",
              "       [0, 0, 0, 0, 0, 1, 0],\n",
              "       [0, 0, 0, 0, 1, 0, 0],\n",
              "       [0, 0, 0, 0, 1, 0, 0],\n",
              "       [0, 0, 0, 0, 0, 1, 0],\n",
              "       [0, 0, 0, 0, 0, 0, 1],\n",
              "       [1, 0, 0, 0, 0, 0, 0],\n",
              "       [0, 1, 0, 0, 0, 0, 0],\n",
              "       [0, 0, 1, 0, 0, 0, 0],\n",
              "       [0, 1, 0, 0, 0, 0, 0],\n",
              "       [0, 1, 0, 0, 0, 0, 0],\n",
              "       [0, 0, 0, 0, 0, 0, 1],\n",
              "       [0, 0, 1, 0, 0, 0, 0],\n",
              "       [0, 0, 0, 0, 0, 0, 1],\n",
              "       [0, 0, 0, 0, 1, 0, 0],\n",
              "       [0, 0, 0, 0, 0, 1, 0],\n",
              "       [0, 0, 0, 0, 0, 0, 1],\n",
              "       [0, 1, 0, 0, 0, 0, 0],\n",
              "       [0, 0, 1, 0, 0, 0, 0],\n",
              "       [0, 0, 0, 0, 0, 1, 0],\n",
              "       [0, 1, 0, 0, 0, 0, 0],\n",
              "       [0, 1, 0, 0, 0, 0, 0],\n",
              "       [0, 0, 0, 0, 1, 0, 0],\n",
              "       [0, 0, 0, 0, 1, 0, 0],\n",
              "       [0, 1, 0, 0, 0, 0, 0],\n",
              "       [0, 0, 0, 0, 0, 0, 1],\n",
              "       [0, 0, 0, 1, 0, 0, 0],\n",
              "       [0, 0, 0, 0, 1, 0, 0],\n",
              "       [0, 0, 1, 0, 0, 0, 0],\n",
              "       [0, 0, 1, 0, 0, 0, 0],\n",
              "       [0, 0, 1, 0, 0, 0, 0],\n",
              "       [0, 0, 0, 0, 1, 0, 0],\n",
              "       [1, 0, 0, 0, 0, 0, 0],\n",
              "       [0, 0, 0, 1, 0, 0, 0],\n",
              "       [0, 0, 0, 0, 0, 0, 1],\n",
              "       [0, 0, 0, 0, 0, 1, 0],\n",
              "       [0, 1, 0, 0, 0, 0, 0],\n",
              "       [0, 0, 1, 0, 0, 0, 0],\n",
              "       [0, 0, 0, 0, 1, 0, 0],\n",
              "       [0, 0, 0, 1, 0, 0, 0],\n",
              "       [1, 0, 0, 0, 0, 0, 0],\n",
              "       [0, 0, 0, 1, 0, 0, 0],\n",
              "       [0, 0, 0, 0, 0, 0, 1],\n",
              "       [0, 0, 1, 0, 0, 0, 0],\n",
              "       [0, 0, 0, 0, 0, 0, 1],\n",
              "       [1, 0, 0, 0, 0, 0, 0],\n",
              "       [0, 0, 0, 0, 1, 0, 0],\n",
              "       [0, 1, 0, 0, 0, 0, 0],\n",
              "       [0, 0, 0, 1, 0, 0, 0],\n",
              "       [0, 0, 0, 0, 0, 0, 1],\n",
              "       [0, 0, 0, 1, 0, 0, 0],\n",
              "       [0, 0, 0, 0, 0, 0, 1],\n",
              "       [0, 0, 0, 0, 1, 0, 0],\n",
              "       [0, 0, 0, 1, 0, 0, 0],\n",
              "       [0, 0, 0, 1, 0, 0, 0],\n",
              "       [0, 0, 1, 0, 0, 0, 0],\n",
              "       [0, 0, 0, 0, 0, 1, 0],\n",
              "       [0, 0, 0, 0, 1, 0, 0],\n",
              "       [0, 1, 0, 0, 0, 0, 0],\n",
              "       [1, 0, 0, 0, 0, 0, 0],\n",
              "       [0, 0, 0, 1, 0, 0, 0],\n",
              "       [0, 0, 1, 0, 0, 0, 0],\n",
              "       [0, 0, 0, 1, 0, 0, 0],\n",
              "       [0, 1, 0, 0, 0, 0, 0],\n",
              "       [1, 0, 0, 0, 0, 0, 0],\n",
              "       [0, 0, 1, 0, 0, 0, 0],\n",
              "       [0, 0, 0, 0, 0, 0, 1],\n",
              "       [0, 0, 0, 0, 0, 1, 0],\n",
              "       [0, 0, 0, 0, 1, 0, 0],\n",
              "       [0, 0, 0, 0, 1, 0, 0],\n",
              "       [0, 0, 0, 1, 0, 0, 0],\n",
              "       [0, 0, 0, 1, 0, 0, 0],\n",
              "       [0, 0, 0, 0, 0, 0, 1],\n",
              "       [0, 0, 0, 0, 1, 0, 0],\n",
              "       [1, 0, 0, 0, 0, 0, 0],\n",
              "       [0, 0, 0, 1, 0, 0, 0],\n",
              "       [0, 0, 0, 0, 1, 0, 0],\n",
              "       [0, 0, 0, 0, 0, 0, 1],\n",
              "       [0, 0, 0, 0, 0, 1, 0],\n",
              "       [0, 0, 0, 1, 0, 0, 0],\n",
              "       [0, 0, 1, 0, 0, 0, 0],\n",
              "       [0, 0, 0, 1, 0, 0, 0],\n",
              "       [0, 1, 0, 0, 0, 0, 0],\n",
              "       [0, 0, 0, 0, 0, 0, 1],\n",
              "       [0, 0, 0, 0, 0, 0, 1],\n",
              "       [0, 1, 0, 0, 0, 0, 0],\n",
              "       [1, 0, 0, 0, 0, 0, 0],\n",
              "       [0, 0, 0, 0, 0, 0, 1]], dtype=int8)"
            ]
          },
          "metadata": {},
          "execution_count": 38
        }
      ]
    },
    {
      "cell_type": "code",
      "source": [
        " np.argmax(y_test_class, axis=1)"
      ],
      "metadata": {
        "colab": {
          "base_uri": "https://localhost:8080/"
        },
        "id": "2fcK-_HzAmc5",
        "outputId": "9ac7bdda-149a-44ad-f2a3-104baca97e5a"
      },
      "execution_count": 39,
      "outputs": [
        {
          "output_type": "execute_result",
          "data": {
            "text/plain": [
              "array([6, 3, 5, 4, 0, 4, 5, 4, 3, 6, 3, 4, 0, 5, 3, 0, 5, 5, 2, 6, 6, 0,\n",
              "       0, 2, 5, 0, 5, 0, 4, 1, 3, 6, 6, 5, 4, 2, 5, 4, 4, 5, 6, 0, 1, 2,\n",
              "       1, 1, 6, 2, 6, 4, 5, 6, 1, 2, 5, 1, 1, 4, 4, 1, 6, 3, 4, 2, 2, 2,\n",
              "       4, 0, 3, 6, 5, 1, 2, 4, 3, 0, 3, 6, 2, 6, 0, 4, 1, 3, 6, 3, 6, 4,\n",
              "       3, 3, 2, 5, 4, 1, 0, 3, 2, 3, 1, 0, 2, 6, 5, 4, 4, 3, 3, 6, 4, 0,\n",
              "       3, 4, 6, 5, 3, 2, 3, 1, 6, 6, 1, 0, 6])"
            ]
          },
          "metadata": {},
          "execution_count": 39
        }
      ]
    },
    {
      "cell_type": "code",
      "source": [
        "y_test_class = np.argmax(y_test_class, axis=1)\n",
        "predictions_test = model.predict(X_test)\n",
        "y_pred_test_class = np.argmax(predictions_test, axis=1)\n",
        "y_proba_test_class = predictions_test\n",
        "\n"
      ],
      "metadata": {
        "id": "uyXvoU2rAckI"
      },
      "execution_count": 40,
      "outputs": []
    },
    {
      "cell_type": "code",
      "source": [
        "predictions_test"
      ],
      "metadata": {
        "colab": {
          "base_uri": "https://localhost:8080/"
        },
        "id": "3BAOUaPwAtuY",
        "outputId": "bb5889f3-6dd0-440e-80db-87e19ffd4280"
      },
      "execution_count": 41,
      "outputs": [
        {
          "output_type": "execute_result",
          "data": {
            "text/plain": [
              "array([[6.83862367e-04, 5.92807770e-01, 1.03637995e-02, 1.66119874e-01,\n",
              "        1.35078773e-01, 4.04302590e-02, 5.45156933e-02],\n",
              "       [1.49760881e-05, 3.03856400e-03, 5.20974281e-04, 9.74842310e-01,\n",
              "        1.67361938e-03, 1.90603361e-02, 8.49125092e-04],\n",
              "       [1.31710008e-01, 1.00342203e-02, 2.34870866e-01, 3.22000543e-03,\n",
              "        1.13143303e-01, 4.35887635e-01, 7.11339712e-02],\n",
              "       [4.28044284e-03, 4.22481075e-02, 2.53612638e-01, 8.23336281e-03,\n",
              "        1.86206885e-02, 1.28399385e-02, 6.60164833e-01],\n",
              "       [2.46114761e-01, 9.31357518e-02, 3.41161579e-01, 4.04752791e-03,\n",
              "        8.52163434e-02, 8.11905880e-03, 2.22204924e-01],\n",
              "       [6.60597011e-02, 1.63462907e-01, 4.47664671e-02, 3.78850877e-01,\n",
              "        1.63079977e-01, 8.32405314e-02, 1.00539468e-01],\n",
              "       [3.48598212e-01, 7.31512755e-02, 1.42258361e-01, 8.05870537e-03,\n",
              "        4.06188108e-02, 1.81089520e-01, 2.06225127e-01],\n",
              "       [1.63839925e-02, 5.76945674e-03, 2.71188557e-01, 1.31393358e-01,\n",
              "        2.48057675e-02, 5.09051800e-01, 4.14070450e-02],\n",
              "       [7.94839434e-05, 1.34069258e-02, 3.85450223e-03, 9.26733971e-01,\n",
              "        4.58875410e-02, 9.01398063e-03, 1.02354458e-03],\n",
              "       [4.54601366e-03, 3.79654467e-02, 4.06921431e-02, 5.69416702e-01,\n",
              "        8.98580160e-03, 6.86915070e-02, 2.69702405e-01],\n",
              "       [1.08764405e-04, 2.65782684e-01, 5.53009612e-03, 2.57754475e-01,\n",
              "        4.25729007e-01, 7.46131269e-03, 3.76337022e-02],\n",
              "       [1.02573380e-04, 1.39350429e-01, 2.66526807e-02, 1.37869522e-01,\n",
              "        6.49626493e-01, 1.20262885e-02, 3.43720652e-02],\n",
              "       [7.90015280e-01, 3.98815833e-02, 6.62574619e-02, 4.08732099e-04,\n",
              "        8.01891610e-02, 7.85516575e-03, 1.53927281e-02],\n",
              "       [4.48734267e-03, 4.71676327e-02, 5.21827221e-01, 5.71943186e-02,\n",
              "        1.06238239e-02, 2.79296696e-01, 7.94028863e-02],\n",
              "       [2.18287315e-02, 4.04586047e-02, 1.95178643e-01, 3.97027582e-02,\n",
              "        1.09457374e-02, 1.22802621e-02, 6.79605246e-01],\n",
              "       [4.71880913e-01, 3.07283141e-02, 2.63554394e-01, 5.18500281e-04,\n",
              "        1.65289864e-01, 1.22035975e-02, 5.58244847e-02],\n",
              "       [7.65167875e-03, 6.16659119e-04, 9.19969380e-03, 4.35747877e-02,\n",
              "        5.36891585e-03, 9.27736759e-01, 5.85142756e-03],\n",
              "       [5.32225356e-04, 5.02825566e-02, 2.08282261e-03, 6.42799616e-01,\n",
              "        2.35094521e-02, 2.72729337e-01, 8.06393195e-03],\n",
              "       [2.61347881e-03, 5.02742343e-02, 1.62278917e-02, 5.06186724e-01,\n",
              "        6.61024451e-03, 1.05347082e-01, 3.12740415e-01],\n",
              "       [3.75191122e-02, 1.07676305e-01, 6.71334505e-01, 1.33432646e-03,\n",
              "        9.60060209e-02, 2.11180411e-02, 6.50116205e-02],\n",
              "       [2.09912322e-02, 2.36630753e-01, 3.12517196e-01, 3.55076673e-03,\n",
              "        8.37322325e-02, 4.58304677e-03, 3.37994725e-01],\n",
              "       [5.99090636e-01, 1.14097938e-01, 1.91465825e-01, 1.61600579e-03,\n",
              "        3.63049097e-02, 2.98033794e-03, 5.44443205e-02],\n",
              "       [9.46092844e-01, 3.77539173e-03, 3.23960483e-02, 2.59306951e-04,\n",
              "        9.00381710e-03, 6.27319654e-03, 2.19934550e-03],\n",
              "       [1.39650423e-02, 6.12573802e-01, 2.00872626e-02, 3.74644226e-03,\n",
              "        1.22573361e-01, 1.13053964e-02, 2.15748638e-01],\n",
              "       [3.16599500e-03, 6.54711649e-02, 2.08740994e-01, 2.71530002e-01,\n",
              "        2.71053109e-02, 1.71713933e-01, 2.52272666e-01],\n",
              "       [8.37083280e-01, 7.84377567e-03, 8.48924667e-02, 9.35856311e-04,\n",
              "        1.32440878e-02, 1.40616409e-02, 4.19390276e-02],\n",
              "       [7.21928626e-02, 5.19590497e-01, 2.62275189e-02, 1.22082084e-02,\n",
              "        1.03812829e-01, 1.09790629e-02, 2.54989088e-01],\n",
              "       [9.40126836e-01, 1.84677052e-03, 2.64796894e-02, 2.33142724e-04,\n",
              "        4.97504929e-03, 2.10994817e-02, 5.23914490e-03],\n",
              "       [4.68437165e-01, 3.00632920e-02, 1.42396733e-01, 1.57327694e-03,\n",
              "        2.99246818e-01, 1.85471661e-02, 3.97353880e-02],\n",
              "       [5.94662223e-03, 1.94132313e-01, 3.07580587e-02, 5.87994084e-02,\n",
              "        5.96289970e-02, 3.77684414e-01, 2.73050219e-01],\n",
              "       [1.91596784e-02, 2.48596375e-03, 5.97986169e-02, 1.17508009e-01,\n",
              "        2.07593781e-03, 7.87127972e-01, 1.18438080e-02],\n",
              "       [3.87800410e-02, 3.93691182e-01, 5.82936220e-02, 8.24611634e-03,\n",
              "        5.51984459e-02, 4.83921543e-02, 3.97398382e-01],\n",
              "       [5.32450946e-03, 4.34053391e-01, 7.34846964e-02, 7.77355433e-02,\n",
              "        9.13125873e-02, 2.29241233e-02, 2.95165092e-01],\n",
              "       [2.61386461e-03, 3.53216022e-01, 7.20214192e-03, 2.10997403e-01,\n",
              "        1.23233162e-01, 1.75655618e-01, 1.27081811e-01],\n",
              "       [1.45998690e-03, 2.58208603e-01, 6.64829910e-02, 1.61372661e-03,\n",
              "        5.51073730e-01, 1.28152696e-02, 1.08345650e-01],\n",
              "       [1.38998516e-02, 1.11529185e-02, 6.36032581e-01, 1.38814617e-02,\n",
              "        1.96583942e-02, 2.02663913e-01, 1.02710865e-01],\n",
              "       [1.56481229e-02, 4.19466972e-01, 8.01013932e-02, 9.02818609e-03,\n",
              "        5.67096993e-02, 2.86902990e-02, 3.90355349e-01],\n",
              "       [2.15695589e-03, 1.62093535e-01, 3.49001139e-02, 1.80547133e-01,\n",
              "        1.15805164e-01, 2.61082053e-01, 2.43415058e-01],\n",
              "       [1.57292350e-03, 4.16929960e-01, 8.75847340e-02, 2.79211681e-02,\n",
              "        2.82934487e-01, 1.16920248e-02, 1.71364740e-01],\n",
              "       [9.64591745e-03, 5.54540241e-03, 1.98171750e-01, 1.44194484e-01,\n",
              "        1.95404012e-02, 5.55661261e-01, 6.72408044e-02],\n",
              "       [4.48464975e-03, 2.09815547e-01, 4.00188118e-02, 2.29373425e-02,\n",
              "        1.08218767e-01, 1.10728025e-01, 5.03796875e-01],\n",
              "       [1.03486232e-01, 4.84472103e-02, 3.02570432e-01, 1.16091102e-01,\n",
              "        4.96516898e-02, 2.99046844e-01, 8.07064250e-02],\n",
              "       [6.74826354e-02, 4.65703458e-02, 1.56006768e-01, 1.76153507e-03,\n",
              "        5.27936697e-01, 1.73468292e-01, 2.67737489e-02],\n",
              "       [1.12798926e-03, 7.89178722e-03, 1.12454398e-02, 4.77339119e-01,\n",
              "        5.72082447e-03, 4.76856947e-01, 1.98178254e-02],\n",
              "       [2.23020911e-01, 4.29918133e-02, 1.80527881e-01, 1.95337064e-03,\n",
              "        4.62885857e-01, 1.88416112e-02, 6.97785690e-02],\n",
              "       [3.44167987e-04, 5.49281001e-01, 9.52986069e-03, 4.36412394e-02,\n",
              "        3.56742740e-01, 7.89693836e-03, 3.25640254e-02],\n",
              "       [4.53208297e-01, 2.89960176e-01, 9.95325595e-02, 2.32146191e-03,\n",
              "        8.36725831e-02, 2.84087602e-02, 4.28962037e-02],\n",
              "       [2.38642897e-02, 3.83433849e-01, 1.04406327e-01, 6.43055281e-03,\n",
              "        1.65518925e-01, 1.46931671e-02, 3.01652849e-01],\n",
              "       [6.09280367e-04, 5.96462190e-03, 9.29219741e-03, 6.76654816e-01,\n",
              "        2.48856773e-03, 2.97495186e-01, 7.49532366e-03],\n",
              "       [3.11263138e-04, 2.99254030e-01, 6.47035837e-02, 1.98615286e-02,\n",
              "        5.92169523e-01, 9.94208548e-03, 1.37579907e-02],\n",
              "       [9.73920710e-03, 8.45665298e-03, 2.32275706e-02, 6.27412736e-01,\n",
              "        2.00768700e-03, 2.93699205e-01, 3.54569666e-02],\n",
              "       [7.03331688e-03, 1.84438169e-01, 6.52563944e-02, 1.60660595e-02,\n",
              "        1.27762035e-01, 8.96842256e-02, 5.09759843e-01],\n",
              "       [2.27240831e-01, 1.01413488e-01, 1.96375713e-01, 1.66090811e-03,\n",
              "        4.03048158e-01, 4.89653973e-03, 6.53643757e-02],\n",
              "       [6.21284321e-02, 5.37384152e-02, 2.14462787e-01, 1.02991965e-02,\n",
              "        4.00923610e-01, 5.90669885e-02, 1.99380592e-01],\n",
              "       [1.46181909e-02, 5.22883683e-02, 6.71447873e-01, 1.01569956e-02,\n",
              "        4.12269197e-02, 1.22250088e-01, 8.80114436e-02],\n",
              "       [9.08135027e-02, 1.85912717e-02, 7.53456533e-01, 3.69030022e-04,\n",
              "        7.25135058e-02, 4.57232073e-03, 5.96837997e-02],\n",
              "       [9.88253206e-03, 8.24936256e-02, 2.02349231e-01, 3.70443705e-03,\n",
              "        4.76830602e-02, 3.96467037e-02, 6.14240408e-01],\n",
              "       [3.85175556e-01, 1.07268073e-01, 7.20978677e-02, 1.02919573e-03,\n",
              "        2.20139563e-01, 1.79891795e-01, 3.43979709e-02],\n",
              "       [7.42599135e-03, 1.32096574e-01, 1.13925926e-01, 1.67290419e-02,\n",
              "        1.36718512e-01, 5.96301854e-02, 5.33473730e-01],\n",
              "       [4.82050236e-05, 2.67486442e-02, 6.45555183e-03, 9.07705545e-01,\n",
              "        3.88656259e-02, 1.23973181e-02, 7.77906133e-03],\n",
              "       [7.68618822e-01, 4.81458977e-02, 9.23262686e-02, 9.12479241e-04,\n",
              "        6.41357601e-02, 2.16593151e-03, 2.36947984e-02],\n",
              "       [2.16939370e-03, 3.44308396e-03, 1.79184470e-02, 3.01325992e-02,\n",
              "        1.44284675e-02, 9.08188760e-01, 2.37192418e-02],\n",
              "       [5.03054180e-04, 1.03357874e-01, 9.94822234e-02, 2.84249079e-03,\n",
              "        1.68417037e-01, 1.52775180e-02, 6.10119820e-01],\n",
              "       [1.64947629e-01, 1.26324911e-02, 4.92063850e-01, 5.44402748e-03,\n",
              "        7.52638355e-02, 1.27671033e-01, 1.21977136e-01],\n",
              "       [5.92239201e-03, 2.88769370e-03, 6.49429336e-02, 7.92856067e-02,\n",
              "        1.04348082e-02, 8.21162462e-01, 1.53641598e-02],\n",
              "       [2.69528776e-02, 1.66671708e-01, 3.58720690e-01, 7.75624358e-04,\n",
              "        1.10083841e-01, 1.34768412e-02, 3.23318422e-01],\n",
              "       [6.71366369e-03, 4.95608747e-01, 3.82840149e-02, 4.33356352e-02,\n",
              "        8.43285769e-02, 4.32142727e-02, 2.88515091e-01],\n",
              "       [8.62250924e-01, 1.41941337e-02, 8.21086317e-02, 2.15623784e-03,\n",
              "        2.56513581e-02, 2.00804602e-03, 1.16306832e-02],\n",
              "       [3.90085246e-04, 1.86124742e-02, 3.84795683e-04, 9.05061126e-01,\n",
              "        3.11161801e-02, 2.89046913e-02, 1.55306216e-02],\n",
              "       [2.18622037e-03, 2.46337913e-02, 9.34838783e-03, 2.40807578e-01,\n",
              "        6.31015562e-03, 7.03502476e-01, 1.32113434e-02],\n",
              "       [6.23003813e-04, 3.94524306e-01, 1.00699635e-02, 3.51690769e-01,\n",
              "        1.74634248e-01, 5.98193929e-02, 8.63829162e-03],\n",
              "       [1.87213707e-03, 4.93691891e-01, 8.75366013e-03, 1.86978281e-01,\n",
              "        1.09528430e-01, 2.51528453e-02, 1.74022660e-01],\n",
              "       [1.46030739e-01, 9.16384161e-03, 7.89215565e-02, 1.05584664e-02,\n",
              "        1.71578512e-01, 5.30439615e-01, 5.33071831e-02],\n",
              "       [2.19597816e-01, 4.25109407e-03, 6.95157766e-01, 5.08525467e-04,\n",
              "        3.57348770e-02, 1.97104346e-02, 2.50394586e-02],\n",
              "       [8.72744247e-04, 9.70460176e-02, 1.29808299e-02, 7.58186132e-02,\n",
              "        7.97074199e-01, 9.07974038e-03, 7.12791225e-03],\n",
              "       [9.64943618e-02, 4.24157798e-01, 1.54115021e-01, 1.11005092e-02,\n",
              "        7.36961290e-02, 5.07618301e-02, 1.89674303e-01],\n",
              "       [4.10839953e-02, 1.58511296e-01, 5.15084527e-02, 6.66187555e-02,\n",
              "        1.95218757e-01, 1.86123267e-01, 3.00935388e-01],\n",
              "       [6.03105233e-04, 1.72646865e-01, 4.10991125e-02, 1.99597739e-02,\n",
              "        6.54881597e-01, 1.52736381e-02, 9.55360234e-02],\n",
              "       [5.77106588e-02, 4.15834785e-02, 5.80065250e-01, 3.91004636e-04,\n",
              "        1.25152707e-01, 1.55608344e-03, 1.93540856e-01],\n",
              "       [3.73429828e-03, 2.45106816e-02, 2.07047090e-02, 1.65053625e-02,\n",
              "        5.46902679e-02, 8.37718844e-01, 4.21358421e-02],\n",
              "       [6.07295513e-01, 9.67040285e-02, 4.64987829e-02, 1.70504523e-03,\n",
              "        5.31678759e-02, 1.22370273e-02, 1.82391763e-01],\n",
              "       [7.45863557e-01, 1.45663274e-02, 1.22089192e-01, 2.49762350e-04,\n",
              "        9.24808979e-02, 4.37822053e-03, 2.03719940e-02],\n",
              "       [3.07072431e-01, 6.82634264e-02, 2.69538671e-01, 2.44631461e-04,\n",
              "        2.08587363e-01, 2.40035243e-02, 1.22290097e-01],\n",
              "       [2.30131933e-04, 5.27515531e-01, 3.67267337e-03, 3.46373558e-01,\n",
              "        8.67459700e-02, 2.65425052e-02, 8.91956780e-03],\n",
              "       [2.98365168e-02, 4.97345589e-02, 1.40717149e-01, 4.33548726e-03,\n",
              "        5.91350555e-01, 4.36181342e-03, 1.79663822e-01],\n",
              "       [1.97760950e-04, 6.44424632e-02, 3.82421305e-03, 7.88457155e-01,\n",
              "        1.05260059e-01, 3.49436738e-02, 2.87461979e-03],\n",
              "       [5.07659372e-03, 2.94506853e-03, 1.26617877e-02, 8.46401230e-03,\n",
              "        1.40771624e-02, 9.54717934e-01, 2.05750228e-03],\n",
              "       [4.42461933e-05, 6.52787322e-03, 5.07573248e-04, 9.68004942e-01,\n",
              "        7.23352935e-03, 1.19007267e-02, 5.78111131e-03],\n",
              "       [3.17881058e-05, 3.24150105e-03, 2.09128624e-03, 9.88696814e-01,\n",
              "        2.37718597e-03, 1.69480965e-03, 1.86662644e-03],\n",
              "       [5.53902462e-02, 6.97900401e-03, 2.38161966e-01, 3.40129524e-01,\n",
              "        3.04358210e-02, 2.83149809e-01, 4.57536951e-02],\n",
              "       [9.01016593e-01, 6.67443871e-03, 6.81832433e-02, 1.10807057e-04,\n",
              "        7.12024933e-03, 1.18828528e-02, 5.01168054e-03],\n",
              "       [5.79155087e-02, 5.46925426e-01, 5.09358384e-02, 2.73676571e-02,\n",
              "        1.53995126e-01, 4.42459844e-02, 1.18614577e-01],\n",
              "       [5.44948550e-03, 3.97978723e-01, 9.10201222e-02, 4.69930060e-02,\n",
              "        7.90663585e-02, 1.08509503e-01, 2.70982862e-01],\n",
              "       [1.28474389e-03, 1.79213628e-01, 5.46163954e-02, 2.65002400e-01,\n",
              "        3.42446476e-01, 1.07783057e-01, 4.96532582e-02],\n",
              "       [9.52817142e-01, 9.67236352e-04, 1.20013775e-02, 8.56898550e-04,\n",
              "        2.77362415e-03, 2.94915028e-02, 1.09225966e-03],\n",
              "       [1.31558003e-02, 2.59591658e-02, 5.04356856e-03, 7.57246375e-01,\n",
              "        4.63784905e-03, 1.70132577e-01, 2.38246955e-02],\n",
              "       [9.77441519e-02, 3.86144547e-03, 8.09332371e-01, 5.18355402e-04,\n",
              "        2.74108425e-02, 1.14301573e-02, 4.97025698e-02],\n",
              "       [3.86341053e-05, 2.03594401e-01, 1.32310623e-02, 4.92809713e-01,\n",
              "        2.47907847e-01, 5.31808054e-03, 3.71002853e-02],\n",
              "       [1.30429447e-01, 1.39826015e-01, 5.96458241e-02, 6.73797168e-03,\n",
              "        5.13071537e-01, 5.19366562e-02, 9.83525515e-02],\n",
              "       [3.55829149e-01, 5.83172822e-03, 2.14370146e-01, 7.12279510e-03,\n",
              "        6.89504519e-02, 3.37049395e-01, 1.08462963e-02],\n",
              "       [4.06616256e-02, 1.00616887e-02, 7.94527531e-02, 5.75604774e-02,\n",
              "        3.74057949e-01, 3.88468564e-01, 4.97369468e-02],\n",
              "       [7.85634816e-02, 4.13429402e-02, 3.37031573e-01, 7.60171970e-04,\n",
              "        1.80170923e-01, 2.01916061e-02, 3.41939270e-01],\n",
              "       [1.02800736e-03, 4.52066213e-03, 1.73381716e-02, 9.67109501e-02,\n",
              "        5.67778340e-03, 8.69225025e-01, 5.49936621e-03],\n",
              "       [3.04073142e-03, 2.33776033e-01, 3.03746965e-02, 6.31032661e-02,\n",
              "        2.45248079e-01, 5.76623529e-02, 3.66794854e-01],\n",
              "       [5.15742600e-01, 6.20693415e-02, 1.15094438e-01, 1.42790901e-03,\n",
              "        2.35522807e-01, 1.08850943e-02, 5.92578612e-02],\n",
              "       [4.60418910e-02, 1.52811989e-01, 3.75136472e-02, 1.26456141e-01,\n",
              "        7.82851800e-02, 4.58536893e-01, 1.00354277e-01],\n",
              "       [4.35479097e-02, 7.04435930e-02, 1.09266564e-01, 4.41041365e-02,\n",
              "        1.66815352e-02, 3.44305336e-02, 6.81525707e-01],\n",
              "       [3.92267853e-03, 1.59439057e-01, 5.11525385e-02, 2.10002273e-01,\n",
              "        8.01395699e-02, 3.71166945e-01, 1.24176987e-01],\n",
              "       [4.12987219e-03, 1.99018449e-01, 2.59948410e-02, 9.79133882e-03,\n",
              "        1.42469093e-01, 3.48355770e-02, 5.83760798e-01],\n",
              "       [1.76381809e-03, 2.05722824e-03, 1.12638101e-02, 2.53207795e-02,\n",
              "        3.62913939e-03, 9.52494562e-01, 3.47068720e-03],\n",
              "       [3.28798138e-04, 2.71867335e-01, 1.99039895e-02, 3.22892159e-01,\n",
              "        3.38669986e-01, 3.32098119e-02, 1.31279789e-02],\n",
              "       [4.87683387e-03, 1.85557634e-01, 1.02241635e-02, 5.12415528e-01,\n",
              "        1.68609887e-01, 8.32735524e-02, 3.50424163e-02],\n",
              "       [7.15490431e-03, 9.14263576e-02, 8.67942069e-03, 1.79623976e-01,\n",
              "        3.24834846e-02, 3.98488551e-01, 2.82143325e-01],\n",
              "       [3.83621931e-01, 2.80726086e-02, 3.69485527e-01, 2.07498879e-03,\n",
              "        4.18372825e-02, 1.25065938e-01, 4.98416498e-02],\n",
              "       [2.40335613e-02, 9.36373079e-04, 7.90792983e-03, 1.49088148e-02,\n",
              "        1.46168983e-02, 9.28831518e-01, 8.76485370e-03],\n",
              "       [1.23291798e-02, 1.06792904e-01, 3.02942753e-01, 1.45895872e-03,\n",
              "        1.70399755e-01, 1.64906215e-02, 3.89585853e-01],\n",
              "       [5.48573257e-03, 6.33359492e-01, 6.39153272e-03, 2.53960699e-01,\n",
              "        6.15603514e-02, 1.52979624e-02, 2.39442084e-02],\n",
              "       [1.47153800e-02, 3.80706158e-03, 1.07588992e-02, 1.11920498e-01,\n",
              "        7.67065361e-02, 7.32848465e-01, 4.92430590e-02],\n",
              "       [9.56846699e-02, 4.15493213e-02, 1.51379257e-01, 1.12812025e-02,\n",
              "        1.63412794e-01, 1.03835404e-01, 4.32857275e-01],\n",
              "       [8.13492015e-03, 4.51708645e-01, 1.35886008e-02, 2.44695857e-01,\n",
              "        5.27294055e-02, 1.00489408e-02, 2.19093636e-01],\n",
              "       [1.67687163e-02, 6.12110198e-01, 5.61127253e-02, 2.55912403e-03,\n",
              "        8.69039148e-02, 2.10851450e-02, 2.04460174e-01],\n",
              "       [9.56621766e-02, 7.59208202e-03, 2.99631953e-02, 2.36611202e-01,\n",
              "        1.37691926e-02, 5.34869075e-01, 8.15330446e-02],\n",
              "       [1.29066687e-03, 4.88797396e-01, 5.81187718e-02, 4.68937792e-02,\n",
              "        2.72747219e-01, 2.04701126e-02, 1.11682154e-01]], dtype=float32)"
            ]
          },
          "metadata": {},
          "execution_count": 41
        }
      ]
    },
    {
      "cell_type": "code",
      "source": [
        "y_pred_test_class "
      ],
      "metadata": {
        "colab": {
          "base_uri": "https://localhost:8080/"
        },
        "id": "ph-j4nBsAxjT",
        "outputId": "a103ea1d-a837-4350-f291-429afc51fafe"
      },
      "execution_count": 42,
      "outputs": [
        {
          "output_type": "execute_result",
          "data": {
            "text/plain": [
              "array([1, 3, 5, 6, 2, 3, 0, 5, 3, 3, 4, 4, 0, 2, 6, 0, 5, 3, 3, 2, 6, 0,\n",
              "       0, 1, 3, 0, 1, 0, 0, 5, 5, 6, 1, 1, 4, 2, 1, 5, 1, 5, 6, 2, 4, 3,\n",
              "       4, 1, 0, 1, 3, 4, 3, 6, 4, 4, 2, 2, 6, 0, 6, 3, 0, 5, 6, 2, 5, 2,\n",
              "       1, 0, 3, 5, 1, 1, 5, 2, 4, 1, 6, 4, 2, 5, 0, 0, 0, 1, 4, 3, 5, 3,\n",
              "       3, 3, 0, 1, 1, 4, 0, 3, 2, 3, 4, 0, 5, 6, 5, 6, 0, 5, 6, 5, 6, 5,\n",
              "       4, 3, 5, 0, 5, 6, 1, 5, 6, 1, 1, 5, 1])"
            ]
          },
          "metadata": {},
          "execution_count": 42
        }
      ]
    },
    {
      "cell_type": "markdown",
      "source": [
        "### Test Set Confusion Matrix and Heatmap"
      ],
      "metadata": {
        "id": "Epp2QpxsUVXH"
      }
    },
    {
      "cell_type": "code",
      "source": [
        "# Test set Confusion matrix\n",
        "\n",
        "cm=confusion_matrix(y_test_class, y_pred_test_class)\n",
        "\n",
        "index = ['calm', 'happy', 'sad', 'angry', 'fearful', 'disgust', 'surprised']  \n",
        "columns = ['calm', 'happy', 'sad', 'angry', 'fearful', 'disgust', 'surprised']  \n",
        " \n",
        "cm_df = pd.DataFrame(cm,index,columns)                      \n",
        "plt.figure(figsize=(12,8))\n",
        "ax = plt.axes()\n",
        "\n",
        "sns.heatmap(cm_df, ax = ax, cmap = 'BuGn', fmt=\"d\", annot=True)\n",
        "ax.set_ylabel('True emotion')\n",
        "ax.set_xlabel('Predicted emotion')"
      ],
      "metadata": {
        "colab": {
          "base_uri": "https://localhost:8080/",
          "height": 518
        },
        "id": "ukGrk_cagzyb",
        "outputId": "8fb83179-c6f7-4564-f235-ca336a782b71"
      },
      "execution_count": 43,
      "outputs": [
        {
          "output_type": "execute_result",
          "data": {
            "text/plain": [
              "Text(0.5, 51.0, 'Predicted emotion')"
            ]
          },
          "metadata": {},
          "execution_count": 43
        },
        {
          "output_type": "display_data",
          "data": {
            "text/plain": [
              "<Figure size 864x576 with 2 Axes>"
            ],
            "image/png": "[encoded data removed]"
          },
          "metadata": {
            "needs_background": "light"
          }
        }
      ]
    },
    {
      "cell_type": "code",
      "source": [
        "# Confusion Matrix\n",
        "cm"
      ],
      "metadata": {
        "colab": {
          "base_uri": "https://localhost:8080/"
        },
        "id": "9f51xwUE8haF",
        "outputId": "d63b6910-95a3-407a-bb98-fcdcb2e50d55"
      },
      "execution_count": 44,
      "outputs": [
        {
          "output_type": "execute_result",
          "data": {
            "text/plain": [
              "array([[10,  1,  2,  0,  0,  2,  0],\n",
              "       [ 1,  3,  1,  1,  5,  2,  1],\n",
              "       [ 1,  2,  5,  2,  1,  3,  1],\n",
              "       [ 0,  2,  0,  8,  3,  4,  3],\n",
              "       [ 4,  3,  1,  3,  3,  2,  5],\n",
              "       [ 2,  5,  2,  3,  0,  4,  0],\n",
              "       [ 2,  4,  1,  2,  2,  5,  6]])"
            ]
          },
          "metadata": {},
          "execution_count": 44
        }
      ]
    },
    {
      "cell_type": "markdown",
      "source": [
        "### Test Set Predicted emotions accuracy"
      ],
      "metadata": {
        "id": "zil3CkweUX0q"
      }
    },
    {
      "cell_type": "code",
      "source": [
        "# Test set prediction accuracy rates\n",
        "\n",
        "values = cm.diagonal()\n",
        "row_sum = np.sum(cm,axis=1)\n",
        "acc = values / row_sum\n",
        "\n",
        "print('Test set predicted emotions accuracy:')\n",
        "for e in range(0, len(values)):\n",
        "    print(index[e],':', f\"{(acc[e]):0.4f}\")"
      ],
      "metadata": {
        "colab": {
          "base_uri": "https://localhost:8080/"
        },
        "id": "t_ORyGGig090",
        "outputId": "f6c4be07-95ce-4293-867c-68374e06a8f4"
      },
      "execution_count": 45,
      "outputs": [
        {
          "output_type": "stream",
          "name": "stdout",
          "text": [
            "Test set predicted emotions accuracy:\n",
            "calm : 0.6667\n",
            "happy : 0.2143\n",
            "sad : 0.3333\n",
            "angry : 0.4000\n",
            "fearful : 0.1429\n",
            "disgust : 0.2500\n",
            "surprised : 0.2727\n"
          ]
        }
      ]
    },
    {
      "cell_type": "markdown",
      "source": [
        "### Precision, Recal, Fscore"
      ],
      "metadata": {
        "id": "8Hzthv1t8kwd"
      }
    },
    {
      "cell_type": "code",
      "source": [
        "# Validation set precision, recall, fscore\n",
        "\n",
        "precision_recall_fscore_support(y_test_class, y_pred_test_class, average='macro')\n"
      ],
      "metadata": {
        "colab": {
          "base_uri": "https://localhost:8080/"
        },
        "id": "QnwWoVFnh33F",
        "outputId": "6a11be2f-9b42-4235-aa99-e778d1a60c64"
      },
      "execution_count": 46,
      "outputs": [
        {
          "output_type": "execute_result",
          "data": {
            "text/plain": [
              "(0.32268902776421576, 0.32569573283858994, 0.31803861445612885, None)"
            ]
          },
          "metadata": {},
          "execution_count": 46
        }
      ]
    },
    {
      "cell_type": "code",
      "source": [
        "precision_recall_fscore_support(y_test_class, y_pred_test_class, average='weighted')"
      ],
      "metadata": {
        "colab": {
          "base_uri": "https://localhost:8080/"
        },
        "id": "OlDhuPlqzwVB",
        "outputId": "50069008-c1de-4ee0-87cc-180c5cbb599a"
      },
      "execution_count": 47,
      "outputs": [
        {
          "output_type": "execute_result",
          "data": {
            "text/plain": [
              "(0.3246353133387794, 0.3170731707317073, 0.31478447187878583, None)"
            ]
          },
          "metadata": {},
          "execution_count": 47
        }
      ]
    },
    {
      "cell_type": "markdown",
      "source": [
        "### ROC AUC Score"
      ],
      "metadata": {
        "id": "sEuBd9IyLuiD"
      }
    },
    {
      "cell_type": "code",
      "source": [
        "ravdess_df = pd.read_csv (df_path)"
      ],
      "metadata": {
        "id": "8bb4OSmyTO6v"
      },
      "execution_count": 48,
      "outputs": []
    },
    {
      "cell_type": "code",
      "source": [
        "labels = [\"calm\", \"happy\", \"sad\", \"angry\", \"fear\", \"disgust\", \"suprised\"]"
      ],
      "metadata": {
        "id": "1leZ4JGVTfTp"
      },
      "execution_count": 49,
      "outputs": []
    },
    {
      "cell_type": "code",
      "source": [
        "y_test_adj = y_test.reshape(-1,)"
      ],
      "metadata": {
        "id": "MRm1ZwnxFStc"
      },
      "execution_count": 50,
      "outputs": []
    },
    {
      "cell_type": "code",
      "source": [
        "y_proba_test_class.shape"
      ],
      "metadata": {
        "colab": {
          "base_uri": "https://localhost:8080/"
        },
        "id": "O-IcYOABFjxB",
        "outputId": "4c90a8d5-d6bc-4946-d508-901ce75141a5"
      },
      "execution_count": 51,
      "outputs": [
        {
          "output_type": "execute_result",
          "data": {
            "text/plain": [
              "(123, 7)"
            ]
          },
          "metadata": {},
          "execution_count": 51
        }
      ]
    },
    {
      "cell_type": "code",
      "source": [
        "y_test.shape"
      ],
      "metadata": {
        "colab": {
          "base_uri": "https://localhost:8080/"
        },
        "id": "9AaqUY3PIlMQ",
        "outputId": "01b3ce22-d4e9-4744-bfe1-56b1f09055fb"
      },
      "execution_count": 52,
      "outputs": [
        {
          "output_type": "execute_result",
          "data": {
            "text/plain": [
              "(123, 1)"
            ]
          },
          "metadata": {},
          "execution_count": 52
        }
      ]
    },
    {
      "cell_type": "code",
      "source": [
        "y_test_adj"
      ],
      "metadata": {
        "colab": {
          "base_uri": "https://localhost:8080/"
        },
        "id": "7LgDudYTKInS",
        "outputId": "64a19b74-5f94-441b-c750-7b5e4848f39b"
      },
      "execution_count": 53,
      "outputs": [
        {
          "output_type": "execute_result",
          "data": {
            "text/plain": [
              "array([6, 3, 5, 4, 0, 4, 5, 4, 3, 6, 3, 4, 0, 5, 3, 0, 5, 5, 2, 6, 6, 0,\n",
              "       0, 2, 5, 0, 5, 0, 4, 1, 3, 6, 6, 5, 4, 2, 5, 4, 4, 5, 6, 0, 1, 2,\n",
              "       1, 1, 6, 2, 6, 4, 5, 6, 1, 2, 5, 1, 1, 4, 4, 1, 6, 3, 4, 2, 2, 2,\n",
              "       4, 0, 3, 6, 5, 1, 2, 4, 3, 0, 3, 6, 2, 6, 0, 4, 1, 3, 6, 3, 6, 4,\n",
              "       3, 3, 2, 5, 4, 1, 0, 3, 2, 3, 1, 0, 2, 6, 5, 4, 4, 3, 3, 6, 4, 0,\n",
              "       3, 4, 6, 5, 3, 2, 3, 1, 6, 6, 1, 0, 6], dtype=int8)"
            ]
          },
          "metadata": {},
          "execution_count": 53
        }
      ]
    },
    {
      "cell_type": "code",
      "source": [
        "\n",
        "\n",
        "macro_roc_auc_ovo = roc_auc_score(y_test_adj, y_proba_test_class, multi_class=\"ovo\", average=\"macro\")\n",
        "weighted_roc_auc_ovo = roc_auc_score(\n",
        "    y_test_adj, y_proba_test_class, multi_class=\"ovo\", average=\"weighted\"\n",
        ")\n",
        "macro_roc_auc_ovr = roc_auc_score(y_test_adj, y_proba_test_class, multi_class=\"ovr\", average=\"macro\")\n",
        "weighted_roc_auc_ovr = roc_auc_score(\n",
        "    y_test_adj, y_proba_test_class, multi_class=\"ovr\", average=\"weighted\"\n",
        ")\n"
      ],
      "metadata": {
        "id": "oMa4N8EhHlY9"
      },
      "execution_count": 54,
      "outputs": []
    },
    {
      "cell_type": "code",
      "source": [
        "print(\"One-vs-One ROC AUC scores:\\n{:.6f} (macro),\\n{:.6f} \" \"(weighted by prevalence)\\n\".format(macro_roc_auc_ovo, weighted_roc_auc_ovo))\n",
        "print(\"One-vs-Rest ROC AUC scores:\\n{:.6f} (macro),\\n{:.6f} \" \"(weighted by prevalence)\".format(macro_roc_auc_ovr, weighted_roc_auc_ovr))"
      ],
      "metadata": {
        "colab": {
          "base_uri": "https://localhost:8080/"
        },
        "id": "hhBLwtO_ICqL",
        "outputId": "3fcc22cf-ad96-405a-c3dd-44ed4f4dd127"
      },
      "execution_count": 55,
      "outputs": [
        {
          "output_type": "stream",
          "name": "stdout",
          "text": [
            "One-vs-One ROC AUC scores:\n",
            "0.729631 (macro),\n",
            "0.728401 (weighted by prevalence)\n",
            "\n",
            "One-vs-Rest ROC AUC scores:\n",
            "0.728369 (macro),\n",
            "0.727201 (weighted by prevalence)\n"
          ]
        }
      ]
    }
  ]
}