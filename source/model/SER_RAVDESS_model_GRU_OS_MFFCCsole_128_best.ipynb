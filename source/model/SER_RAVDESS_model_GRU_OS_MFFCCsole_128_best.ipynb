{
  "metadata": {
    "kernelspec": {
      "language": "python",
      "display_name": "Python 3",
      "name": "python3"
    },
    "language_info": {
      "pygments_lexer": "ipython3",
      "nbconvert_exporter": "python",
      "version": "3.6.4",
      "file_extension": ".py",
      "codemirror_mode": {
        "name": "ipython",
        "version": 3
      },
      "name": "python",
      "mimetype": "text/x-python"
    },
    "colab": {
      "name": "SER-RAVDESS-model-GRU-OS-MFFCCsole-128-test.ipynb",
      "provenance": [],
      "collapsed_sections": []
    }
  },
  "nbformat_minor": 0,
  "nbformat": 4,
  "cells": [
    {
      "cell_type": "markdown",
      "source": [
        "# Imports"
      ],
      "metadata": {
        "id": "anSyerIFN7qd"
      }
    },
    {
      "cell_type": "code",
      "source": [
        "# Importing Libraries"
      ],
      "metadata": {
        "id": "IMFSwIuvKiw2"
      },
      "execution_count": 2,
      "outputs": []
    },
    {
      "cell_type": "code",
      "source": [
        "!pip install json-tricks"
      ],
      "metadata": {
        "colab": {
          "base_uri": "https://localhost:8080/"
        },
        "id": "bBR8aNsmM2tR",
        "outputId": "fbb7e49d-10c0-40ea-e853-47eeb48ada66"
      },
      "execution_count": 3,
      "outputs": [
        {
          "output_type": "stream",
          "name": "stdout",
          "text": [
            "Looking in indexes: https://pypi.org/simple, https://us-python.pkg.dev/colab-wheels/public/simple/\n",
            "Collecting json-tricks\n",
            "  Downloading json_tricks-3.15.5-py2.py3-none-any.whl (26 kB)\n",
            "Installing collected packages: json-tricks\n",
            "Successfully installed json-tricks-3.15.5\n"
          ]
        }
      ]
    },
    {
      "cell_type": "code",
      "source": [
        "import pandas as pd\n",
        "import numpy as np\n",
        "\n",
        "import os\n",
        "import sys\n",
        "\n",
        "import librosa\n",
        "import librosa.display\n",
        "#from pydub import AudioSegment, effects\n",
        "#import noisereduce as nr\n",
        "\n",
        "\n",
        "import seaborn as sns\n",
        "import matplotlib.pyplot as plt\n",
        "from IPython.display import Audio\n",
        "\n",
        "import tensorflow as tf\n",
        "import keras\n",
        "import sklearn\n",
        "\n",
        "\n",
        "from tensorflow.keras.models import Sequential, Model\n",
        "from tensorflow.keras.layers import Dense, LSTM, Flatten, Dropout, BatchNormalization\n",
        "from tensorflow.keras.callbacks import ModelCheckpoint, EarlyStopping, ReduceLROnPlateau\n",
        "from tensorflow.keras.optimizers import Adam, SGD\n",
        "from tensorflow.keras.utils import to_categorical, plot_model\n",
        "\n",
        "\n",
        "from keras.models import Sequential, model_from_json, load_model\n",
        "from keras import layers\n",
        "from keras import optimizers\n",
        "from keras import callbacks\n",
        "\n",
        "from sklearn.preprocessing import StandardScaler, OneHotEncoder, LabelEncoder\n",
        "from sklearn.metrics import confusion_matrix, classification_report, precision_recall_fscore_support, roc_auc_score\n",
        "from sklearn.model_selection import train_test_split, StratifiedShuffleSplit\n",
        "from sklearn.multiclass import OneVsRestClassifier\n",
        "\n",
        "\n",
        "from tqdm import tqdm\n",
        "\n",
        "\n",
        "from json_tricks import dump, load\n",
        "\n",
        "\n",
        "\n",
        "import warnings\n",
        "if not sys.warnoptions:\n",
        "    warnings.simplefilter(\"ignore\")\n",
        "warnings.filterwarnings(\"ignore\", category=DeprecationWarning) \n",
        "\n",
        "import time\n",
        "tic = time.perf_counter()\n",
        "\n",
        "\n",
        "from sklearn.preprocessing import MinMaxScaler\n"
      ],
      "metadata": {
        "id": "77IS8HxqFFCA"
      },
      "execution_count": 4,
      "outputs": []
    },
    {
      "cell_type": "code",
      "source": [
        ""
      ],
      "metadata": {
        "id": "gGYqBIk0FGm4"
      },
      "execution_count": 4,
      "outputs": []
    },
    {
      "cell_type": "markdown",
      "source": [
        "# Dataset"
      ],
      "metadata": {
        "id": "nyMzoZKKKiw6"
      }
    },
    {
      "cell_type": "code",
      "source": [
        "from google.colab import drive\n",
        "drive.mount('/content/drive')"
      ],
      "metadata": {
        "colab": {
          "base_uri": "https://localhost:8080/"
        },
        "id": "JFPDGXmwCBs_",
        "outputId": "2d9c04c0-928b-4981-c5c3-e09dd9e44cf7"
      },
      "execution_count": 5,
      "outputs": [
        {
          "output_type": "stream",
          "name": "stdout",
          "text": [
            "Mounted at /content/drive\n"
          ]
        }
      ]
    },
    {
      "cell_type": "code",
      "source": [
        "#Crema = \"/content/drive/MyDrive/datasets/speech/CREMAD/sample/\"\n",
        "#Crema = \"/content/drive/MyDrive/datasets/speech/CREMAD/AudioWAV/\"\n",
        "Ravdess = \"/content/drive/MyDrive/datasets/speech/RAVDESS/data/Audio_Speech_Actors_01-24\"\n",
        "Ravdess_processed = \"/content/drive/MyDrive/datasets/speech/RAVDESS/processedData/onlySpeech/\"\n",
        "Ravdess_speech_sample = \"/content/drive/MyDrive/datasets/speech/RAVDESS/data/Audio_Speech_Actors_01-24/\"\n",
        "df_path = \"/content/drive/MyDrive/datasets/speech/RAVDESS/ravdess_df_onlySpeech.csv\"\n",
        "model_path = Ravdess + \"/model/\"\n",
        "\n",
        "checkpoint_path = model_path + \"best_weights-os-GRU-1.hdf5\"\n",
        "saved_model_path = model_path + 'model8723-os-GRU-1.json'\n",
        "\n",
        "saved_weights_path = model_path + 'model8723_weights-os-GRU-1.h5'\n",
        "saved_model_path_2 = model_path + 'Speech-Emotion-Recognition-Model-os-GRU-1.h5'"
      ],
      "metadata": {
        "execution": {
          "iopub.status.busy": "2021-06-21T09:35:38.093538Z",
          "iopub.execute_input": "2021-06-21T09:35:38.093869Z",
          "iopub.status.idle": "2021-06-21T09:35:38.097467Z",
          "shell.execute_reply.started": "2021-06-21T09:35:38.093838Z",
          "shell.execute_reply": "2021-06-21T09:35:38.096608Z"
        },
        "trusted": true,
        "id": "vR2GjHL4Kiw7"
      },
      "execution_count": 6,
      "outputs": []
    },
    {
      "cell_type": "code",
      "source": [
        ""
      ],
      "metadata": {
        "id": "J2T6JxzIF2Jq"
      },
      "execution_count": 6,
      "outputs": []
    },
    {
      "cell_type": "code",
      "source": [
        "##Hypter Parameters' Range\n",
        "params = {\n",
        "    \"batch_size\": 20,  # 20<16<10, 25 was a bust\n",
        "    \"epochs\": 300,\n",
        "    \"lr\": 0.00010000,\n",
        "    \"time_steps\": 60\n",
        "}\n",
        "#TIME_STEPS = params[\"time_steps\"]\n",
        "#BATCH_SIZE = params[\"batch_size\"]\n",
        "#iter_changes = \"dropout_layers_0.4_0.4\"\n"
      ],
      "metadata": {
        "id": "jnEd5_Vvy4ue"
      },
      "execution_count": 7,
      "outputs": []
    },
    {
      "cell_type": "code",
      "source": [
        ""
      ],
      "metadata": {
        "id": "dKXM0xT-N8uy"
      },
      "execution_count": 7,
      "outputs": []
    },
    {
      "cell_type": "markdown",
      "source": [
        "# Load Processed Files, Construct Train, Validation and Test Sets"
      ],
      "metadata": {
        "id": "fse_mTpaOGdQ"
      }
    },
    {
      "cell_type": "code",
      "source": [
        "\n",
        "processed_path = Ravdess_processed\n",
        "x_path = processed_path + \"X_features_MFCC.json\" # FILE LOAD PATH\n",
        "y_path =  processed_path + \"Y_labels.json\" # FILE SAVE PATH\n",
        "#x_path = '/content/drive/MyDrive/datasets/speech/RAVDESS/processedData/X_features.json'\n",
        "\n",
        "# Load X,Y json files back into lists, convert to np.arrays\n",
        "\n",
        "X = load(x_path)\n",
        "X = np.asarray(X, dtype = 'float32')\n",
        "\n",
        "Y = load(y_path)\n",
        "Y = np.asarray(Y, dtype = 'int8')"
      ],
      "metadata": {
        "id": "101BpvWgN8xX"
      },
      "execution_count": 8,
      "outputs": []
    },
    {
      "cell_type": "code",
      "source": [
        "# Split to train, validation, and test sets.\n",
        "from sklearn.model_selection import train_test_split\n",
        "# 1st Split: X,Y => (x_train, x_tosplit) (y_train, y_tosplit)\n",
        "x_train, x_tosplit, y_train, y_tosplit = train_test_split(X, Y, test_size = 0.30, random_state = 1)\n",
        "# 2nd Split: x_tosplit,y_tosplit => (x_val, x_test) (y_val, y_test) \n",
        "x_val, x_test, y_val, y_test = train_test_split(x_tosplit, y_tosplit, test_size = 0.304, random_state = 1)\n",
        "#'One-hot' vectors for Y: emotion classification\n",
        "y_train_class = tf.keras.utils.to_categorical(y_train, 7, dtype = 'int8')\n",
        "y_val_class = tf.keras.utils.to_categorical(y_val, 7, dtype = 'int8')"
      ],
      "metadata": {
        "id": "CuF9M1mfOD7X"
      },
      "execution_count": 9,
      "outputs": []
    },
    {
      "cell_type": "code",
      "source": [
        "# Normalize using MinMaxScaler\n",
        "\n",
        "#scaler = MinMaxScaler()\n",
        "\n",
        "#X_train = scaler.fit_transform(x_train.reshape(-1, x_train.shape[-1])).reshape(x_train.shape)\n",
        "#X_Val = scaler.fit_transform(x_val.reshape(-1, x_val.shape[-1])).reshape(x_val.shape)\n",
        "#X_test = scaler.transform(x_test.reshape(-1, x_test.shape[-1])).reshape(x_test.shape)"
      ],
      "metadata": {
        "id": "zBs8Y2ZlWY_5"
      },
      "execution_count": 10,
      "outputs": []
    },
    {
      "cell_type": "code",
      "source": [
        "X_train = x_train\n",
        "X_val = x_val\n",
        "X_test = x_test"
      ],
      "metadata": {
        "id": "Acf0v-2jsdOx"
      },
      "execution_count": 11,
      "outputs": []
    },
    {
      "cell_type": "code",
      "source": [
        "# x_train, x_val, and x_test shape check.\n",
        "print(np.shape(X_train))\n",
        "print(np.shape(X_val))\n",
        "print(np.shape(X_test))"
      ],
      "metadata": {
        "colab": {
          "base_uri": "https://localhost:8080/"
        },
        "id": "od-D1YgBOGXs",
        "outputId": "2b97db76-e92d-47ab-f50d-f91251116a38"
      },
      "execution_count": 12,
      "outputs": [
        {
          "output_type": "stream",
          "name": "stdout",
          "text": [
            "(940, 448, 13)\n",
            "(281, 448, 13)\n",
            "(123, 448, 13)\n"
          ]
        }
      ]
    },
    {
      "cell_type": "code",
      "source": [
        "# Save x_test, y_test to JSON.\n",
        "\n",
        "x_test_path = processed_path + 'x_test_data.json'\n",
        "dump(obj = X_test, fp = x_test_path)\n",
        "\n",
        "y_test_path = processed_path + 'y_test_data.json'\n",
        "dump(obj = y_test, fp = y_test_path)"
      ],
      "metadata": {
        "colab": {
          "base_uri": "https://localhost:8080/",
          "height": 105
        },
        "id": "nTExHJVsOHQ5",
        "outputId": "e7d6a1c9-68b6-4808-ffbb-6e23725dfeb8"
      },
      "execution_count": 13,
      "outputs": [
        {
          "output_type": "execute_result",
          "data": {
            "text/plain": [
              "'{\"__ndarray__\": [[6], [3], [5], [4], [0], [4], [5], [4], [3], [6], [3], [4], [0], [5], [3], [0], [5], [5], [2], [6], [6], [0], [0], [2], [5], [0], [5], [0], [4], [1], [3], [6], [6], [5], [4], [2], [5], [4], [4], [5], [6], [0], [1], [2], [1], [1], [6], [2], [6], [4], [5], [6], [1], [2], [5], [1], [1], [4], [4], [1], [6], [3], [4], [2], [2], [2], [4], [0], [3], [6], [5], [1], [2], [4], [3], [0], [3], [6], [2], [6], [0], [4], [1], [3], [6], [3], [6], [4], [3], [3], [2], [5], [4], [1], [0], [3], [2], [3], [1], [0], [2], [6], [5], [4], [4], [3], [3], [6], [4], [0], [3], [4], [6], [5], [3], [2], [3], [1], [6], [6], [1], [0], [6]], \"dtype\": \"int8\", \"shape\": [123, 1], \"Corder\": true}'"
            ],
            "application/vnd.google.colaboratory.intrinsic+json": {
              "type": "string"
            }
          },
          "metadata": {},
          "execution_count": 13
        }
      ]
    },
    {
      "cell_type": "code",
      "source": [
        "# Loading x_test, y_test json files, and converting to np.arrays\n",
        "\n",
        "X_test = load(processed_path + 'x_test_data.json')\n",
        "X_test = np.asarray(X_test).astype('float32')\n",
        "\n",
        "y_test = load(processed_path + 'y_test_data.json')\n",
        "y_test = np.asarray(y_test).astype('int8')\n",
        "\n",
        "y_test_class = tf.keras.utils.to_categorical(y_test, 7, dtype = 'int8')"
      ],
      "metadata": {
        "id": "kAFBRsmk5dzm"
      },
      "execution_count": 14,
      "outputs": []
    },
    {
      "cell_type": "code",
      "source": [
        "X.shape"
      ],
      "metadata": {
        "id": "15joCR4gu4r7",
        "colab": {
          "base_uri": "https://localhost:8080/"
        },
        "outputId": "5c595831-e39a-4f81-a698-996adf29e259"
      },
      "execution_count": 15,
      "outputs": [
        {
          "output_type": "execute_result",
          "data": {
            "text/plain": [
              "(1344, 448, 13)"
            ]
          },
          "metadata": {},
          "execution_count": 15
        }
      ]
    },
    {
      "cell_type": "code",
      "source": [
        "X.shape[1:3]"
      ],
      "metadata": {
        "colab": {
          "base_uri": "https://localhost:8080/"
        },
        "id": "8MQhoPKjEzi4",
        "outputId": "23735fb1-8777-4cd6-a537-dd0aeae13efe"
      },
      "execution_count": 16,
      "outputs": [
        {
          "output_type": "execute_result",
          "data": {
            "text/plain": [
              "(448, 13)"
            ]
          },
          "metadata": {},
          "execution_count": 16
        }
      ]
    },
    {
      "cell_type": "code",
      "source": [
        "X_train.shape"
      ],
      "metadata": {
        "colab": {
          "base_uri": "https://localhost:8080/"
        },
        "id": "LxZyszASamnQ",
        "outputId": "2493d109-8211-46bb-c1d9-4feb3e5bc68f"
      },
      "execution_count": 17,
      "outputs": [
        {
          "output_type": "execute_result",
          "data": {
            "text/plain": [
              "(940, 448, 13)"
            ]
          },
          "metadata": {},
          "execution_count": 17
        }
      ]
    },
    {
      "cell_type": "markdown",
      "source": [
        "# RNN Model"
      ],
      "metadata": {
        "id": "gnWVMbR6KixC"
      }
    },
    {
      "cell_type": "code",
      "source": [
        "tic"
      ],
      "metadata": {
        "colab": {
          "base_uri": "https://localhost:8080/"
        },
        "id": "7CHZWdfcN8oo",
        "outputId": "260a88f2-6f29-4db9-f5f7-768fdde7f268"
      },
      "execution_count": 18,
      "outputs": [
        {
          "output_type": "execute_result",
          "data": {
            "text/plain": [
              "3295.086291001"
            ]
          },
          "metadata": {},
          "execution_count": 18
        }
      ]
    },
    {
      "cell_type": "markdown",
      "source": [
        "## Define Model & Training"
      ],
      "metadata": {
        "id": "GJjJYnJQORJ8"
      }
    },
    {
      "cell_type": "code",
      "source": [
        "# Initializing the model\n",
        "\n",
        "model = Sequential()\n",
        "model.add(layers.GRU(128, return_sequences = True, input_shape=(X.shape[1:3])))\n",
        "model.add(layers.GRU(64))\n",
        "\n",
        "model.add(layers.Dense(7, activation = 'softmax'))\n",
        "print(model.summary())\n",
        "\n",
        "batch_size = 23\n",
        "\n",
        "# Callbacks functions\n",
        "\n",
        "#-> EearlyStopping\n",
        "es = EarlyStopping(monitor='val_loss', mode='min', verbose=1,\n",
        "                    patience=20, min_delta=0.0001)\n",
        "\n",
        "\n",
        "#-> Save the best weights\n",
        "mcp_save = callbacks.ModelCheckpoint(checkpoint_path, save_best_only=True,\n",
        "                           monitor='val_categorical_accuracy',\n",
        "                           mode='max')\n",
        "#-> Reduce learning rate after 100 epoches without improvement.\n",
        "rlrop = callbacks.ReduceLROnPlateau(monitor='val_categorical_accuracy', \n",
        "                                    factor=0.1, patience=20)\n",
        "                             \n",
        "# Compile & train   \n",
        "model.compile(loss='categorical_crossentropy', \n",
        "                optimizer='RMSProp', \n",
        "                metrics=['categorical_accuracy'])\n",
        "\n",
        "\n"
      ],
      "metadata": {
        "colab": {
          "base_uri": "https://localhost:8080/"
        },
        "id": "aD2adyVGOJs4",
        "outputId": "fe3ddbef-dde8-4fb3-b1b1-1559188ca918"
      },
      "execution_count": 19,
      "outputs": [
        {
          "output_type": "stream",
          "name": "stdout",
          "text": [
            "Model: \"sequential\"\n",
            "_________________________________________________________________\n",
            " Layer (type)                Output Shape              Param #   \n",
            "=================================================================\n",
            " gru (GRU)                   (None, 448, 128)          54912     \n",
            "                                                                 \n",
            " gru_1 (GRU)                 (None, 64)                37248     \n",
            "                                                                 \n",
            " dense (Dense)               (None, 7)                 455       \n",
            "                                                                 \n",
            "=================================================================\n",
            "Total params: 92,615\n",
            "Trainable params: 92,615\n",
            "Non-trainable params: 0\n",
            "_________________________________________________________________\n",
            "None\n"
          ]
        }
      ]
    },
    {
      "cell_type": "code",
      "source": [
        ""
      ],
      "metadata": {
        "id": "4DBF6kqx-OHZ"
      },
      "execution_count": 19,
      "outputs": []
    },
    {
      "cell_type": "code",
      "source": [
        "history = model.fit(X_train, y_train_class, \n",
        "                      epochs=340, batch_size = batch_size, \n",
        "                      validation_data = (X_val, y_val_class), \n",
        "                      callbacks = [es, mcp_save, rlrop])\n",
        "toc = time.perf_counter()"
      ],
      "metadata": {
        "colab": {
          "base_uri": "https://localhost:8080/"
        },
        "id": "Da7Gc9x_izth",
        "outputId": "fc71233a-f854-412a-a6fb-7192e91e8271"
      },
      "execution_count": 20,
      "outputs": [
        {
          "output_type": "stream",
          "name": "stdout",
          "text": [
            "Epoch 1/340\n",
            "41/41 [==============================] - 28s 575ms/step - loss: 1.9458 - categorical_accuracy: 0.1809 - val_loss: 1.8600 - val_categorical_accuracy: 0.2242 - lr: 0.0010\n",
            "Epoch 2/340\n",
            "41/41 [==============================] - 23s 568ms/step - loss: 1.7515 - categorical_accuracy: 0.3096 - val_loss: 1.7208 - val_categorical_accuracy: 0.2527 - lr: 0.0010\n",
            "Epoch 3/340\n",
            "41/41 [==============================] - 22s 549ms/step - loss: 1.6349 - categorical_accuracy: 0.3617 - val_loss: 1.6767 - val_categorical_accuracy: 0.3488 - lr: 0.0010\n",
            "Epoch 4/340\n",
            "41/41 [==============================] - 22s 547ms/step - loss: 1.5638 - categorical_accuracy: 0.4043 - val_loss: 1.6227 - val_categorical_accuracy: 0.3488 - lr: 0.0010\n",
            "Epoch 5/340\n",
            "41/41 [==============================] - 22s 548ms/step - loss: 1.5037 - categorical_accuracy: 0.4277 - val_loss: 1.5300 - val_categorical_accuracy: 0.4377 - lr: 0.0010\n",
            "Epoch 6/340\n",
            "41/41 [==============================] - 22s 545ms/step - loss: 1.4742 - categorical_accuracy: 0.4468 - val_loss: 1.5232 - val_categorical_accuracy: 0.4199 - lr: 0.0010\n",
            "Epoch 7/340\n",
            "41/41 [==============================] - 23s 567ms/step - loss: 1.3995 - categorical_accuracy: 0.4681 - val_loss: 1.6385 - val_categorical_accuracy: 0.3701 - lr: 0.0010\n",
            "Epoch 8/340\n",
            "41/41 [==============================] - 22s 547ms/step - loss: 1.3615 - categorical_accuracy: 0.4798 - val_loss: 1.5747 - val_categorical_accuracy: 0.3737 - lr: 0.0010\n",
            "Epoch 9/340\n",
            "41/41 [==============================] - 23s 554ms/step - loss: 1.3253 - categorical_accuracy: 0.5000 - val_loss: 1.4883 - val_categorical_accuracy: 0.4555 - lr: 0.0010\n",
            "Epoch 10/340\n",
            "41/41 [==============================] - 22s 546ms/step - loss: 1.2712 - categorical_accuracy: 0.5170 - val_loss: 1.4629 - val_categorical_accuracy: 0.4555 - lr: 0.0010\n",
            "Epoch 11/340\n",
            "41/41 [==============================] - 22s 542ms/step - loss: 1.2721 - categorical_accuracy: 0.5287 - val_loss: 1.4114 - val_categorical_accuracy: 0.4448 - lr: 0.0010\n",
            "Epoch 12/340\n",
            "41/41 [==============================] - 23s 564ms/step - loss: 1.1995 - categorical_accuracy: 0.5553 - val_loss: 1.5006 - val_categorical_accuracy: 0.4591 - lr: 0.0010\n",
            "Epoch 13/340\n",
            "41/41 [==============================] - 22s 549ms/step - loss: 1.1946 - categorical_accuracy: 0.5468 - val_loss: 1.4386 - val_categorical_accuracy: 0.4769 - lr: 0.0010\n",
            "Epoch 14/340\n",
            "41/41 [==============================] - 22s 539ms/step - loss: 1.1587 - categorical_accuracy: 0.5681 - val_loss: 1.4510 - val_categorical_accuracy: 0.4306 - lr: 0.0010\n",
            "Epoch 15/340\n",
            "41/41 [==============================] - 22s 547ms/step - loss: 1.1018 - categorical_accuracy: 0.5894 - val_loss: 1.3747 - val_categorical_accuracy: 0.4662 - lr: 0.0010\n",
            "Epoch 16/340\n",
            "41/41 [==============================] - 22s 545ms/step - loss: 1.0616 - categorical_accuracy: 0.6106 - val_loss: 1.4171 - val_categorical_accuracy: 0.4804 - lr: 0.0010\n",
            "Epoch 17/340\n",
            "41/41 [==============================] - 22s 544ms/step - loss: 1.0512 - categorical_accuracy: 0.6202 - val_loss: 1.5011 - val_categorical_accuracy: 0.4484 - lr: 0.0010\n",
            "Epoch 18/340\n",
            "41/41 [==============================] - 23s 551ms/step - loss: 0.9614 - categorical_accuracy: 0.6553 - val_loss: 1.4365 - val_categorical_accuracy: 0.4911 - lr: 0.0010\n",
            "Epoch 19/340\n",
            "41/41 [==============================] - 23s 551ms/step - loss: 0.9436 - categorical_accuracy: 0.6543 - val_loss: 1.3758 - val_categorical_accuracy: 0.5231 - lr: 0.0010\n",
            "Epoch 20/340\n",
            "41/41 [==============================] - 22s 546ms/step - loss: 0.9238 - categorical_accuracy: 0.6596 - val_loss: 1.3478 - val_categorical_accuracy: 0.4911 - lr: 0.0010\n",
            "Epoch 21/340\n",
            "41/41 [==============================] - 22s 542ms/step - loss: 0.8987 - categorical_accuracy: 0.6638 - val_loss: 1.4536 - val_categorical_accuracy: 0.4804 - lr: 0.0010\n",
            "Epoch 22/340\n",
            "41/41 [==============================] - 22s 538ms/step - loss: 0.8701 - categorical_accuracy: 0.6681 - val_loss: 1.5674 - val_categorical_accuracy: 0.4947 - lr: 0.0010\n",
            "Epoch 23/340\n",
            "41/41 [==============================] - 22s 545ms/step - loss: 0.8044 - categorical_accuracy: 0.6968 - val_loss: 1.4134 - val_categorical_accuracy: 0.4911 - lr: 0.0010\n",
            "Epoch 24/340\n",
            "41/41 [==============================] - 22s 543ms/step - loss: 0.8122 - categorical_accuracy: 0.6957 - val_loss: 1.3643 - val_categorical_accuracy: 0.4875 - lr: 0.0010\n",
            "Epoch 25/340\n",
            "41/41 [==============================] - 23s 548ms/step - loss: 0.7614 - categorical_accuracy: 0.7309 - val_loss: 1.2437 - val_categorical_accuracy: 0.5516 - lr: 0.0010\n",
            "Epoch 26/340\n",
            "41/41 [==============================] - 22s 542ms/step - loss: 0.7558 - categorical_accuracy: 0.7351 - val_loss: 1.3514 - val_categorical_accuracy: 0.5231 - lr: 0.0010\n",
            "Epoch 27/340\n",
            "41/41 [==============================] - 22s 546ms/step - loss: 0.6968 - categorical_accuracy: 0.7489 - val_loss: 1.4099 - val_categorical_accuracy: 0.4911 - lr: 0.0010\n",
            "Epoch 28/340\n",
            "41/41 [==============================] - 22s 549ms/step - loss: 0.6831 - categorical_accuracy: 0.7585 - val_loss: 1.5118 - val_categorical_accuracy: 0.5053 - lr: 0.0010\n",
            "Epoch 29/340\n",
            "41/41 [==============================] - 22s 543ms/step - loss: 0.6844 - categorical_accuracy: 0.7362 - val_loss: 1.2787 - val_categorical_accuracy: 0.5694 - lr: 0.0010\n",
            "Epoch 30/340\n",
            "41/41 [==============================] - 22s 547ms/step - loss: 0.6654 - categorical_accuracy: 0.7521 - val_loss: 1.4787 - val_categorical_accuracy: 0.5089 - lr: 0.0010\n",
            "Epoch 31/340\n",
            "41/41 [==============================] - 23s 548ms/step - loss: 0.6195 - categorical_accuracy: 0.7777 - val_loss: 1.6004 - val_categorical_accuracy: 0.5018 - lr: 0.0010\n",
            "Epoch 32/340\n",
            "41/41 [==============================] - 22s 542ms/step - loss: 0.6061 - categorical_accuracy: 0.7777 - val_loss: 1.4182 - val_categorical_accuracy: 0.5125 - lr: 0.0010\n",
            "Epoch 33/340\n",
            "41/41 [==============================] - 22s 539ms/step - loss: 0.5804 - categorical_accuracy: 0.7755 - val_loss: 1.3655 - val_categorical_accuracy: 0.5480 - lr: 0.0010\n",
            "Epoch 34/340\n",
            "41/41 [==============================] - 22s 544ms/step - loss: 0.5779 - categorical_accuracy: 0.7894 - val_loss: 1.4202 - val_categorical_accuracy: 0.5231 - lr: 0.0010\n",
            "Epoch 35/340\n",
            "41/41 [==============================] - 22s 541ms/step - loss: 0.5414 - categorical_accuracy: 0.7968 - val_loss: 1.3474 - val_categorical_accuracy: 0.5516 - lr: 0.0010\n",
            "Epoch 36/340\n",
            "41/41 [==============================] - 22s 542ms/step - loss: 0.5235 - categorical_accuracy: 0.8128 - val_loss: 1.3962 - val_categorical_accuracy: 0.5480 - lr: 0.0010\n",
            "Epoch 37/340\n",
            "41/41 [==============================] - 22s 541ms/step - loss: 0.5140 - categorical_accuracy: 0.8181 - val_loss: 1.3969 - val_categorical_accuracy: 0.5516 - lr: 0.0010\n",
            "Epoch 38/340\n",
            "41/41 [==============================] - 22s 548ms/step - loss: 0.4666 - categorical_accuracy: 0.8362 - val_loss: 1.3795 - val_categorical_accuracy: 0.5694 - lr: 0.0010\n",
            "Epoch 39/340\n",
            "41/41 [==============================] - 22s 548ms/step - loss: 0.4696 - categorical_accuracy: 0.8362 - val_loss: 1.5862 - val_categorical_accuracy: 0.5196 - lr: 0.0010\n",
            "Epoch 40/340\n",
            "41/41 [==============================] - 22s 541ms/step - loss: 0.4340 - categorical_accuracy: 0.8436 - val_loss: 1.6092 - val_categorical_accuracy: 0.5302 - lr: 0.0010\n",
            "Epoch 41/340\n",
            "41/41 [==============================] - 22s 536ms/step - loss: 0.4421 - categorical_accuracy: 0.8468 - val_loss: 1.5372 - val_categorical_accuracy: 0.5587 - lr: 0.0010\n",
            "Epoch 42/340\n",
            "41/41 [==============================] - 22s 542ms/step - loss: 0.3988 - categorical_accuracy: 0.8596 - val_loss: 1.6372 - val_categorical_accuracy: 0.5552 - lr: 0.0010\n",
            "Epoch 43/340\n",
            "41/41 [==============================] - 22s 547ms/step - loss: 0.3742 - categorical_accuracy: 0.8734 - val_loss: 1.4469 - val_categorical_accuracy: 0.5872 - lr: 0.0010\n",
            "Epoch 44/340\n",
            "41/41 [==============================] - 22s 544ms/step - loss: 0.3651 - categorical_accuracy: 0.8851 - val_loss: 1.7811 - val_categorical_accuracy: 0.5125 - lr: 0.0010\n",
            "Epoch 45/340\n",
            "41/41 [==============================] - 23s 552ms/step - loss: 0.3803 - categorical_accuracy: 0.8681 - val_loss: 1.3628 - val_categorical_accuracy: 0.6014 - lr: 0.0010\n",
            "Epoch 45: early stopping\n"
          ]
        }
      ]
    },
    {
      "cell_type": "code",
      "source": [
        ""
      ],
      "metadata": {
        "id": "3MekXCZHizyZ"
      },
      "execution_count": 20,
      "outputs": []
    },
    {
      "cell_type": "code",
      "source": [
        "print(f\"Running time: {(toc - tic)/60:0.4f} minutes\")"
      ],
      "metadata": {
        "id": "cHmSBRhVOELJ",
        "colab": {
          "base_uri": "https://localhost:8080/"
        },
        "outputId": "07175c82-4434-42d0-a675-07608b70e592"
      },
      "execution_count": 21,
      "outputs": [
        {
          "output_type": "stream",
          "name": "stdout",
          "text": [
            "Running time: 18.1746 minutes\n"
          ]
        }
      ]
    },
    {
      "cell_type": "markdown",
      "source": [
        "## Loading Model"
      ],
      "metadata": {
        "id": "jCQelzMAKixD"
      }
    },
    {
      "cell_type": "code",
      "source": [
        "# Define the best weights to the model.\\\n",
        "#model.load_weights(checkpoint_path)"
      ],
      "metadata": {
        "id": "gruZAW2wI-tO"
      },
      "execution_count": 22,
      "outputs": []
    },
    {
      "cell_type": "markdown",
      "source": [
        "# Evaluation"
      ],
      "metadata": {
        "id": "kDxTjEK0KixD"
      }
    },
    {
      "cell_type": "markdown",
      "source": [
        "## Save & Load model, weights"
      ],
      "metadata": {
        "id": "1YfguG0tPatV"
      }
    },
    {
      "cell_type": "code",
      "source": [
        "# Saving model & weights\n",
        "model_json = model.to_json()\n",
        "\n",
        "\n",
        "\n",
        "with open(saved_model_path, \"w\") as json_file:\n",
        "    json_file.write(model_json)\n",
        "    \n",
        "model.save_weights(saved_weights_path)\n",
        "print(\"Saved model to disk\")"
      ],
      "metadata": {
        "colab": {
          "base_uri": "https://localhost:8080/"
        },
        "id": "MsVoNhqmgGsK",
        "outputId": "b8b3e622-ff98-44d3-ec00-62b877071b03"
      },
      "execution_count": 23,
      "outputs": [
        {
          "output_type": "stream",
          "name": "stdout",
          "text": [
            "Saved model to disk\n"
          ]
        }
      ]
    },
    {
      "cell_type": "code",
      "source": [
        "# Reading the model from JSON file\n",
        "#model_path = Ravdess + \"/model/\"\n",
        "#saved_model_path = model_path + 'model8723.json'\n",
        "#saved_weights_path = model_path + 'model8723_weights.h5'\n",
        "\n",
        "\n",
        "with open(saved_model_path , 'r') as json_file:\n",
        "    json_savedModel = json_file.read()\n",
        "    \n",
        "# Loading the model architecture, weights\n",
        "model = tf.keras.models.model_from_json(json_savedModel)\n",
        "model.load_weights(saved_weights_path)\n",
        "\n",
        "# Compiling the model with similar parameters as the original model.\n",
        "model.compile(loss='categorical_crossentropy', \n",
        "                optimizer='RMSProp', \n",
        "                metrics=['categorical_accuracy'])\n",
        "\n",
        "# Model's structure visualization\n",
        "tf.keras.utils.plot_model(model, to_file='model.png', show_shapes=True, show_layer_names=True)"
      ],
      "metadata": {
        "colab": {
          "base_uri": "https://localhost:8080/",
          "height": 422
        },
        "id": "y4OJGhLmgfX6",
        "outputId": "eceee8d2-7c34-4a29-98b9-eb156a6fe684"
      },
      "execution_count": 24,
      "outputs": [
        {
          "output_type": "execute_result",
          "data": {
            "text/plain": [
              "<IPython.core.display.Image object>"
            ],
            "image/png": "[encoded data removed]"
          },
          "metadata": {},
          "execution_count": 24
        }
      ]
    },
    {
      "cell_type": "code",
      "source": [
        ""
      ],
      "metadata": {
        "id": "B_SW6eUAgvEj"
      },
      "execution_count": 24,
      "outputs": []
    },
    {
      "cell_type": "code",
      "source": [
        ""
      ],
      "metadata": {
        "id": "cCfkUXTYgzSB"
      },
      "execution_count": 24,
      "outputs": []
    },
    {
      "cell_type": "code",
      "source": [
        "model.save(saved_model_path_2)"
      ],
      "metadata": {
        "trusted": true,
        "id": "Z5Uzb_bGKixE"
      },
      "execution_count": 25,
      "outputs": []
    },
    {
      "cell_type": "markdown",
      "source": [
        "## Train (fit) Visualization"
      ],
      "metadata": {
        "id": "ATvBW0SPO-eq"
      }
    },
    {
      "cell_type": "code",
      "source": [
        "# Loss, Accuracy presentation\n",
        "\n",
        "# Plot history: Loss\n",
        "plt.plot(history.history['loss'], label='Loss (training data)')\n",
        "plt.plot(history.history['val_loss'], label='Loss (validation data)')\n",
        "plt.title('Loss for train and validation')\n",
        "plt.ylabel('Loss value')\n",
        "plt.xlabel('No. epoch')\n",
        "plt.legend(loc=\"upper left\")\n",
        "plt.show()\n",
        "\n",
        "#Plot history: Accuracy\n",
        "plt.plot(history.history['categorical_accuracy'], label='Acc (training data)')\n",
        "plt.plot(history.history['val_categorical_accuracy'], label='Acc (validation data)')\n",
        "plt.title('Model accuracy')\n",
        "plt.ylabel('Acc %')\n",
        "plt.xlabel('No. epoch')\n",
        "plt.legend(loc=\"upper left\")\n",
        "plt.show()"
      ],
      "metadata": {
        "colab": {
          "base_uri": "https://localhost:8080/",
          "height": 573
        },
        "id": "UjhUHhU_f4EY",
        "outputId": "58da3f9e-e627-4e91-c40b-6a91b6e07602"
      },
      "execution_count": 26,
      "outputs": [
        {
          "output_type": "display_data",
          "data": {
            "text/plain": [
              "<Figure size 432x288 with 1 Axes>"
            ],
            "image/png": "[encoded data removed]"
          },
          "metadata": {
            "needs_background": "light"
          }
        },
        {
          "output_type": "display_data",
          "data": {
            "text/plain": [
              "<Figure size 432x288 with 1 Axes>"
            ],
            "image/png": "[encoded data removed]"
          },
          "metadata": {
            "needs_background": "light"
          }
        }
      ]
    },
    {
      "cell_type": "markdown",
      "source": [
        "## Validation Set Evaluation"
      ],
      "metadata": {
        "id": "UZ3lFduxPQeB"
      }
    },
    {
      "cell_type": "markdown",
      "source": [
        "### Val Set Score"
      ],
      "metadata": {
        "id": "5YoYCa22PMGz"
      }
    },
    {
      "cell_type": "code",
      "source": [
        ""
      ],
      "metadata": {
        "id": "jQavrzbB_8fy"
      },
      "execution_count": 26,
      "outputs": []
    },
    {
      "cell_type": "code",
      "source": [
        "# Validation score\n",
        "loss,acc = model.evaluate(X_val, y_val_class, verbose=2)\n"
      ],
      "metadata": {
        "id": "X_KdTUyrf7-j",
        "colab": {
          "base_uri": "https://localhost:8080/"
        },
        "outputId": "c58b2b92-c296-4fa2-b19f-1e37ef61a8cb"
      },
      "execution_count": 27,
      "outputs": [
        {
          "output_type": "stream",
          "name": "stdout",
          "text": [
            "9/9 - 2s - loss: 1.3628 - categorical_accuracy: 0.6014 - 2s/epoch - 217ms/step\n"
          ]
        }
      ]
    },
    {
      "cell_type": "code",
      "source": [
        ""
      ],
      "metadata": {
        "id": "09k_I9DM_2Q0"
      },
      "execution_count": 27,
      "outputs": []
    },
    {
      "cell_type": "markdown",
      "source": [
        "### Construct Predicted Labels based on Probability of each class"
      ],
      "metadata": {
        "id": "hz7nc15A_3hb"
      }
    },
    {
      "cell_type": "code",
      "source": [
        "y_val_class"
      ],
      "metadata": {
        "colab": {
          "base_uri": "https://localhost:8080/"
        },
        "id": "CFM1P2SZ_85N",
        "outputId": "2ff271c0-e573-42cf-cd43-bf7628d3aa49"
      },
      "execution_count": 28,
      "outputs": [
        {
          "output_type": "execute_result",
          "data": {
            "text/plain": [
              "array([[0, 0, 0, ..., 0, 0, 1],\n",
              "       [0, 1, 0, ..., 0, 0, 0],\n",
              "       [0, 0, 0, ..., 0, 1, 0],\n",
              "       ...,\n",
              "       [0, 0, 0, ..., 0, 0, 1],\n",
              "       [0, 0, 0, ..., 0, 0, 1],\n",
              "       [0, 0, 1, ..., 0, 0, 0]], dtype=int8)"
            ]
          },
          "metadata": {},
          "execution_count": 28
        }
      ]
    },
    {
      "cell_type": "code",
      "source": [
        "np.argmax(y_val_class, axis=1)"
      ],
      "metadata": {
        "colab": {
          "base_uri": "https://localhost:8080/"
        },
        "id": "C9UHSeXbAASy",
        "outputId": "35f416a6-167f-430c-e65b-c66cbf1fc383"
      },
      "execution_count": 29,
      "outputs": [
        {
          "output_type": "execute_result",
          "data": {
            "text/plain": [
              "array([6, 1, 5, 3, 5, 5, 2, 5, 0, 4, 5, 1, 5, 5, 2, 1, 0, 1, 4, 5, 3, 6,\n",
              "       0, 2, 2, 4, 6, 5, 1, 4, 0, 5, 2, 3, 1, 6, 5, 2, 1, 0, 3, 4, 0, 5,\n",
              "       3, 3, 0, 6, 4, 6, 0, 3, 3, 3, 4, 5, 3, 2, 3, 6, 1, 0, 3, 2, 4, 4,\n",
              "       6, 2, 4, 0, 5, 5, 1, 2, 0, 5, 5, 3, 4, 6, 4, 2, 2, 3, 6, 0, 0, 3,\n",
              "       2, 5, 1, 4, 1, 0, 6, 3, 6, 1, 2, 6, 6, 2, 0, 5, 1, 5, 4, 0, 5, 2,\n",
              "       0, 5, 0, 6, 2, 3, 3, 2, 2, 2, 0, 1, 5, 2, 5, 3, 2, 0, 3, 3, 3, 2,\n",
              "       0, 3, 0, 6, 3, 3, 3, 1, 0, 3, 6, 5, 6, 4, 0, 2, 6, 2, 1, 1, 4, 6,\n",
              "       0, 2, 1, 1, 3, 0, 6, 6, 2, 0, 1, 5, 5, 4, 5, 5, 0, 2, 4, 4, 6, 4,\n",
              "       3, 6, 2, 3, 2, 3, 0, 1, 0, 3, 1, 5, 2, 1, 6, 0, 4, 1, 6, 2, 0, 0,\n",
              "       6, 0, 0, 2, 5, 5, 1, 2, 3, 2, 2, 2, 4, 3, 5, 3, 1, 0, 2, 0, 2, 4,\n",
              "       6, 1, 0, 6, 5, 6, 4, 0, 0, 4, 5, 3, 2, 6, 2, 6, 3, 5, 3, 1, 5, 6,\n",
              "       5, 1, 2, 1, 6, 0, 5, 3, 2, 1, 6, 3, 0, 1, 3, 6, 3, 2, 2, 4, 6, 4,\n",
              "       3, 2, 2, 5, 5, 4, 1, 3, 6, 5, 3, 0, 3, 4, 6, 6, 2])"
            ]
          },
          "metadata": {},
          "execution_count": 29
        }
      ]
    },
    {
      "cell_type": "code",
      "source": [
        "y_val_class = np.argmax(y_val_class, axis=1)\n",
        "predictions_val = model.predict(X_val)\n",
        "y_proba_val_class = predictions_val\n",
        "y_pred_val_class = np.argmax(predictions_val, axis=1)"
      ],
      "metadata": {
        "id": "urjydD-38JK7"
      },
      "execution_count": 30,
      "outputs": []
    },
    {
      "cell_type": "code",
      "source": [
        "predictions_val\n"
      ],
      "metadata": {
        "colab": {
          "base_uri": "https://localhost:8080/"
        },
        "id": "Zb7dGRs3AEJn",
        "outputId": "ce0aa23f-e1cb-4afe-ece3-8343834d32d0"
      },
      "execution_count": 31,
      "outputs": [
        {
          "output_type": "execute_result",
          "data": {
            "text/plain": [
              "array([[1.53274566e-04, 1.74841005e-02, 4.41978360e-03, ...,\n",
              "        1.35973876e-03, 1.51350745e-03, 9.71631765e-01],\n",
              "       [9.04045082e-05, 8.99820089e-01, 9.33567062e-03, ...,\n",
              "        9.05723125e-03, 7.33729859e-04, 7.90523514e-02],\n",
              "       [1.16695526e-04, 1.58556650e-05, 4.83961281e-04, ...,\n",
              "        2.82220251e-04, 9.94759142e-01, 4.03793674e-04],\n",
              "       ...,\n",
              "       [1.11020431e-02, 3.77433817e-03, 6.23878315e-02, ...,\n",
              "        7.43307471e-02, 6.18636727e-01, 2.05979884e-01],\n",
              "       [1.61527874e-04, 6.22371072e-03, 3.36674508e-03, ...,\n",
              "        8.37819815e-01, 6.02567859e-04, 1.14985868e-01],\n",
              "       [6.33573145e-05, 1.18192993e-02, 7.18998611e-01, ...,\n",
              "        2.65570700e-01, 1.96117815e-03, 7.01370765e-04]], dtype=float32)"
            ]
          },
          "metadata": {},
          "execution_count": 31
        }
      ]
    },
    {
      "cell_type": "code",
      "source": [
        "y_pred_val_class "
      ],
      "metadata": {
        "colab": {
          "base_uri": "https://localhost:8080/"
        },
        "id": "KxHa1Ss1AJo4",
        "outputId": "0b7f132b-d2e0-4ffa-cd2c-6c2261b895b2"
      },
      "execution_count": 32,
      "outputs": [
        {
          "output_type": "execute_result",
          "data": {
            "text/plain": [
              "array([6, 1, 5, 3, 5, 2, 4, 5, 0, 4, 5, 1, 5, 5, 4, 6, 0, 1, 4, 5, 3, 1,\n",
              "       2, 0, 2, 3, 3, 5, 1, 4, 0, 5, 2, 3, 2, 1, 5, 2, 1, 1, 3, 5, 1, 5,\n",
              "       3, 4, 2, 6, 4, 1, 0, 3, 3, 3, 2, 5, 6, 2, 3, 2, 1, 0, 3, 2, 4, 0,\n",
              "       6, 2, 4, 0, 5, 5, 1, 5, 2, 3, 5, 3, 3, 1, 4, 0, 4, 3, 3, 0, 2, 4,\n",
              "       2, 5, 4, 6, 2, 0, 6, 3, 6, 3, 1, 2, 2, 6, 0, 5, 5, 5, 4, 2, 3, 2,\n",
              "       2, 5, 0, 5, 2, 3, 3, 0, 2, 5, 0, 1, 5, 2, 5, 3, 0, 0, 2, 2, 5, 5,\n",
              "       2, 3, 2, 4, 3, 3, 3, 6, 0, 2, 6, 5, 3, 0, 0, 3, 6, 2, 1, 1, 2, 6,\n",
              "       0, 0, 2, 5, 3, 2, 6, 6, 2, 1, 6, 5, 2, 4, 2, 5, 2, 2, 4, 3, 3, 2,\n",
              "       3, 1, 3, 3, 0, 3, 0, 1, 0, 3, 1, 5, 6, 5, 1, 2, 3, 1, 6, 2, 0, 0,\n",
              "       6, 0, 0, 0, 3, 5, 1, 6, 3, 2, 5, 3, 1, 3, 5, 3, 1, 0, 4, 0, 2, 4,\n",
              "       6, 1, 0, 6, 5, 6, 4, 0, 5, 1, 5, 3, 2, 2, 2, 6, 4, 5, 3, 1, 3, 2,\n",
              "       2, 1, 2, 0, 2, 2, 5, 3, 2, 6, 2, 4, 0, 3, 6, 4, 3, 2, 2, 1, 6, 4,\n",
              "       3, 4, 2, 5, 5, 4, 4, 5, 5, 5, 3, 2, 4, 4, 5, 4, 2])"
            ]
          },
          "metadata": {},
          "execution_count": 32
        }
      ]
    },
    {
      "cell_type": "markdown",
      "source": [
        "### Val Set Confusion Matrix and Heatmap"
      ],
      "metadata": {
        "id": "d2ullxf9PUMd"
      }
    },
    {
      "cell_type": "code",
      "source": [
        "# Validation Confusion matrix\n",
        "cm=confusion_matrix(y_val_class, y_pred_val_class)\n",
        "\n",
        "index = ['calm', 'happy', 'sad', 'angry', 'fearful', 'disgust', 'surprised']  \n",
        "columns = ['calm', 'happy', 'sad', 'angry', 'fearful', 'disgust', 'surprised']  \n",
        " \n",
        "cm_df = pd.DataFrame(cm,index,columns)                      \n",
        "plt.figure(figsize=(12,8))\n",
        "ax = plt.axes()\n",
        "\n",
        "sns.heatmap(cm_df, ax = ax, cmap = 'PuBu', fmt=\"d\", annot=True)\n",
        "ax.set_ylabel('True emotion')\n",
        "ax.set_xlabel('Predicted emotion')"
      ],
      "metadata": {
        "colab": {
          "base_uri": "https://localhost:8080/",
          "height": 514
        },
        "id": "doLcg3CTf9bx",
        "outputId": "97dd92ee-85b3-418e-89e1-449cf9da2374"
      },
      "execution_count": 33,
      "outputs": [
        {
          "output_type": "execute_result",
          "data": {
            "text/plain": [
              "Text(0.5, 51.0, 'Predicted emotion')"
            ]
          },
          "metadata": {},
          "execution_count": 33
        },
        {
          "output_type": "display_data",
          "data": {
            "text/plain": [
              "<Figure size 864x576 with 2 Axes>"
            ],
            "image/png": "[encoded data removed]"
          },
          "metadata": {
            "needs_background": "light"
          }
        }
      ]
    },
    {
      "cell_type": "code",
      "source": [
        "# Confusion Matrix\n",
        "cm"
      ],
      "metadata": {
        "colab": {
          "base_uri": "https://localhost:8080/"
        },
        "id": "hIEG9Pia8Nfp",
        "outputId": "6071b1ff-cb4d-4c3a-db8b-9ff299b98a5c"
      },
      "execution_count": 34,
      "outputs": [
        {
          "output_type": "execute_result",
          "data": {
            "text/plain": [
              "array([[26,  3, 13,  0,  0,  1,  0],\n",
              "       [ 1, 18,  3,  2,  2,  3,  4],\n",
              "       [ 7,  1, 25,  3,  5,  4,  3],\n",
              "       [ 0,  0,  3, 34,  5,  2,  2],\n",
              "       [ 2,  3,  3,  4, 15,  1,  1],\n",
              "       [ 0,  0,  4,  4,  0, 34,  0],\n",
              "       [ 0,  6,  7,  4,  3,  3, 17]])"
            ]
          },
          "metadata": {},
          "execution_count": 34
        }
      ]
    },
    {
      "cell_type": "markdown",
      "source": [
        "### Validation Set Predicted emotions accuracy"
      ],
      "metadata": {
        "id": "kWjKgUdRPYH5"
      }
    },
    {
      "cell_type": "code",
      "source": [
        "# Validation set prediction accuracy rates\n",
        "\n",
        "values = cm.diagonal()\n",
        "row_sum = np.sum(cm,axis=1)\n",
        "acc = values / row_sum\n",
        "\n",
        "print('Validation set predicted emotions accuracy:')\n",
        "for e in range(0, len(values)):\n",
        "    print(index[e],':', f\"{(acc[e]):0.4f}\")"
      ],
      "metadata": {
        "colab": {
          "base_uri": "https://localhost:8080/"
        },
        "id": "MopdywY9f-mS",
        "outputId": "5d95d820-f7fb-4fed-b88e-b93590491470"
      },
      "execution_count": 35,
      "outputs": [
        {
          "output_type": "stream",
          "name": "stdout",
          "text": [
            "Validation set predicted emotions accuracy:\n",
            "calm : 0.6047\n",
            "happy : 0.5455\n",
            "sad : 0.5208\n",
            "angry : 0.7391\n",
            "fearful : 0.5172\n",
            "disgust : 0.8095\n",
            "surprised : 0.4250\n"
          ]
        }
      ]
    },
    {
      "cell_type": "markdown",
      "source": [
        "### Precision, Recal, Fscore"
      ],
      "metadata": {
        "id": "DGSTy2228XRH"
      }
    },
    {
      "cell_type": "code",
      "source": [
        "# Validation set precision, recall, fscore\n",
        "\n",
        "precision_recall_fscore_support(y_val_class, y_pred_val_class, average='macro')\n"
      ],
      "metadata": {
        "colab": {
          "base_uri": "https://localhost:8080/"
        },
        "id": "rOwUkCG0gGpm",
        "outputId": "7ad5c822-4b01-4f38-a785-35914adbbdc6"
      },
      "execution_count": 36,
      "outputs": [
        {
          "output_type": "execute_result",
          "data": {
            "text/plain": [
              "(0.6055044994143993, 0.59454780931362, 0.5949928153625387, None)"
            ]
          },
          "metadata": {},
          "execution_count": 36
        }
      ]
    },
    {
      "cell_type": "code",
      "source": [
        "precision_recall_fscore_support(y_val_class, y_pred_val_class, average='weighted')"
      ],
      "metadata": {
        "colab": {
          "base_uri": "https://localhost:8080/"
        },
        "id": "OorFgXxDzy3o",
        "outputId": "28c7af1c-c34e-47f9-af99-5e29266a2ded"
      },
      "execution_count": 37,
      "outputs": [
        {
          "output_type": "execute_result",
          "data": {
            "text/plain": [
              "(0.6085706508982272, 0.6014234875444839, 0.5997609718527167, None)"
            ]
          },
          "metadata": {},
          "execution_count": 37
        }
      ]
    },
    {
      "cell_type": "markdown",
      "source": [
        "## Test Set Evaluation"
      ],
      "metadata": {
        "id": "FiCwOjmPPgCn"
      }
    },
    {
      "cell_type": "code",
      "source": [
        ""
      ],
      "metadata": {
        "id": "mUZLaThTeocQ"
      },
      "execution_count": 37,
      "outputs": []
    },
    {
      "cell_type": "markdown",
      "source": [
        "### Test Set Score\n",
        "\n"
      ],
      "metadata": {
        "id": "CWB7U5xDUSmF"
      }
    },
    {
      "cell_type": "code",
      "source": [
        "loss, acc = model.evaluate(X_test, y_test_class, verbose=2)"
      ],
      "metadata": {
        "id": "Y7NEHPM-gzml",
        "colab": {
          "base_uri": "https://localhost:8080/"
        },
        "outputId": "fd82c4f5-e591-4de3-9a26-42987b8a8350"
      },
      "execution_count": 38,
      "outputs": [
        {
          "output_type": "stream",
          "name": "stdout",
          "text": [
            "4/4 - 1s - loss: 1.3932 - categorical_accuracy: 0.6098 - 537ms/epoch - 134ms/step\n"
          ]
        }
      ]
    },
    {
      "cell_type": "markdown",
      "source": [
        "### Construct Predicted Labels based on Probability of each class"
      ],
      "metadata": {
        "id": "gPwcFV9oAhGh"
      }
    },
    {
      "cell_type": "code",
      "source": [
        "y_test_class"
      ],
      "metadata": {
        "colab": {
          "base_uri": "https://localhost:8080/"
        },
        "id": "tjN7Eit7AiML",
        "outputId": "e0527279-f5cb-4de5-87a3-5d64f0e64e49"
      },
      "execution_count": 39,
      "outputs": [
        {
          "output_type": "execute_result",
          "data": {
            "text/plain": [
              "array([[0, 0, 0, 0, 0, 0, 1],\n",
              "       [0, 0, 0, 1, 0, 0, 0],\n",
              "       [0, 0, 0, 0, 0, 1, 0],\n",
              "       [0, 0, 0, 0, 1, 0, 0],\n",
              "       [1, 0, 0, 0, 0, 0, 0],\n",
              "       [0, 0, 0, 0, 1, 0, 0],\n",
              "       [0, 0, 0, 0, 0, 1, 0],\n",
              "       [0, 0, 0, 0, 1, 0, 0],\n",
              "       [0, 0, 0, 1, 0, 0, 0],\n",
              "       [0, 0, 0, 0, 0, 0, 1],\n",
              "       [0, 0, 0, 1, 0, 0, 0],\n",
              "       [0, 0, 0, 0, 1, 0, 0],\n",
              "       [1, 0, 0, 0, 0, 0, 0],\n",
              "       [0, 0, 0, 0, 0, 1, 0],\n",
              "       [0, 0, 0, 1, 0, 0, 0],\n",
              "       [1, 0, 0, 0, 0, 0, 0],\n",
              "       [0, 0, 0, 0, 0, 1, 0],\n",
              "       [0, 0, 0, 0, 0, 1, 0],\n",
              "       [0, 0, 1, 0, 0, 0, 0],\n",
              "       [0, 0, 0, 0, 0, 0, 1],\n",
              "       [0, 0, 0, 0, 0, 0, 1],\n",
              "       [1, 0, 0, 0, 0, 0, 0],\n",
              "       [1, 0, 0, 0, 0, 0, 0],\n",
              "       [0, 0, 1, 0, 0, 0, 0],\n",
              "       [0, 0, 0, 0, 0, 1, 0],\n",
              "       [1, 0, 0, 0, 0, 0, 0],\n",
              "       [0, 0, 0, 0, 0, 1, 0],\n",
              "       [1, 0, 0, 0, 0, 0, 0],\n",
              "       [0, 0, 0, 0, 1, 0, 0],\n",
              "       [0, 1, 0, 0, 0, 0, 0],\n",
              "       [0, 0, 0, 1, 0, 0, 0],\n",
              "       [0, 0, 0, 0, 0, 0, 1],\n",
              "       [0, 0, 0, 0, 0, 0, 1],\n",
              "       [0, 0, 0, 0, 0, 1, 0],\n",
              "       [0, 0, 0, 0, 1, 0, 0],\n",
              "       [0, 0, 1, 0, 0, 0, 0],\n",
              "       [0, 0, 0, 0, 0, 1, 0],\n",
              "       [0, 0, 0, 0, 1, 0, 0],\n",
              "       [0, 0, 0, 0, 1, 0, 0],\n",
              "       [0, 0, 0, 0, 0, 1, 0],\n",
              "       [0, 0, 0, 0, 0, 0, 1],\n",
              "       [1, 0, 0, 0, 0, 0, 0],\n",
              "       [0, 1, 0, 0, 0, 0, 0],\n",
              "       [0, 0, 1, 0, 0, 0, 0],\n",
              "       [0, 1, 0, 0, 0, 0, 0],\n",
              "       [0, 1, 0, 0, 0, 0, 0],\n",
              "       [0, 0, 0, 0, 0, 0, 1],\n",
              "       [0, 0, 1, 0, 0, 0, 0],\n",
              "       [0, 0, 0, 0, 0, 0, 1],\n",
              "       [0, 0, 0, 0, 1, 0, 0],\n",
              "       [0, 0, 0, 0, 0, 1, 0],\n",
              "       [0, 0, 0, 0, 0, 0, 1],\n",
              "       [0, 1, 0, 0, 0, 0, 0],\n",
              "       [0, 0, 1, 0, 0, 0, 0],\n",
              "       [0, 0, 0, 0, 0, 1, 0],\n",
              "       [0, 1, 0, 0, 0, 0, 0],\n",
              "       [0, 1, 0, 0, 0, 0, 0],\n",
              "       [0, 0, 0, 0, 1, 0, 0],\n",
              "       [0, 0, 0, 0, 1, 0, 0],\n",
              "       [0, 1, 0, 0, 0, 0, 0],\n",
              "       [0, 0, 0, 0, 0, 0, 1],\n",
              "       [0, 0, 0, 1, 0, 0, 0],\n",
              "       [0, 0, 0, 0, 1, 0, 0],\n",
              "       [0, 0, 1, 0, 0, 0, 0],\n",
              "       [0, 0, 1, 0, 0, 0, 0],\n",
              "       [0, 0, 1, 0, 0, 0, 0],\n",
              "       [0, 0, 0, 0, 1, 0, 0],\n",
              "       [1, 0, 0, 0, 0, 0, 0],\n",
              "       [0, 0, 0, 1, 0, 0, 0],\n",
              "       [0, 0, 0, 0, 0, 0, 1],\n",
              "       [0, 0, 0, 0, 0, 1, 0],\n",
              "       [0, 1, 0, 0, 0, 0, 0],\n",
              "       [0, 0, 1, 0, 0, 0, 0],\n",
              "       [0, 0, 0, 0, 1, 0, 0],\n",
              "       [0, 0, 0, 1, 0, 0, 0],\n",
              "       [1, 0, 0, 0, 0, 0, 0],\n",
              "       [0, 0, 0, 1, 0, 0, 0],\n",
              "       [0, 0, 0, 0, 0, 0, 1],\n",
              "       [0, 0, 1, 0, 0, 0, 0],\n",
              "       [0, 0, 0, 0, 0, 0, 1],\n",
              "       [1, 0, 0, 0, 0, 0, 0],\n",
              "       [0, 0, 0, 0, 1, 0, 0],\n",
              "       [0, 1, 0, 0, 0, 0, 0],\n",
              "       [0, 0, 0, 1, 0, 0, 0],\n",
              "       [0, 0, 0, 0, 0, 0, 1],\n",
              "       [0, 0, 0, 1, 0, 0, 0],\n",
              "       [0, 0, 0, 0, 0, 0, 1],\n",
              "       [0, 0, 0, 0, 1, 0, 0],\n",
              "       [0, 0, 0, 1, 0, 0, 0],\n",
              "       [0, 0, 0, 1, 0, 0, 0],\n",
              "       [0, 0, 1, 0, 0, 0, 0],\n",
              "       [0, 0, 0, 0, 0, 1, 0],\n",
              "       [0, 0, 0, 0, 1, 0, 0],\n",
              "       [0, 1, 0, 0, 0, 0, 0],\n",
              "       [1, 0, 0, 0, 0, 0, 0],\n",
              "       [0, 0, 0, 1, 0, 0, 0],\n",
              "       [0, 0, 1, 0, 0, 0, 0],\n",
              "       [0, 0, 0, 1, 0, 0, 0],\n",
              "       [0, 1, 0, 0, 0, 0, 0],\n",
              "       [1, 0, 0, 0, 0, 0, 0],\n",
              "       [0, 0, 1, 0, 0, 0, 0],\n",
              "       [0, 0, 0, 0, 0, 0, 1],\n",
              "       [0, 0, 0, 0, 0, 1, 0],\n",
              "       [0, 0, 0, 0, 1, 0, 0],\n",
              "       [0, 0, 0, 0, 1, 0, 0],\n",
              "       [0, 0, 0, 1, 0, 0, 0],\n",
              "       [0, 0, 0, 1, 0, 0, 0],\n",
              "       [0, 0, 0, 0, 0, 0, 1],\n",
              "       [0, 0, 0, 0, 1, 0, 0],\n",
              "       [1, 0, 0, 0, 0, 0, 0],\n",
              "       [0, 0, 0, 1, 0, 0, 0],\n",
              "       [0, 0, 0, 0, 1, 0, 0],\n",
              "       [0, 0, 0, 0, 0, 0, 1],\n",
              "       [0, 0, 0, 0, 0, 1, 0],\n",
              "       [0, 0, 0, 1, 0, 0, 0],\n",
              "       [0, 0, 1, 0, 0, 0, 0],\n",
              "       [0, 0, 0, 1, 0, 0, 0],\n",
              "       [0, 1, 0, 0, 0, 0, 0],\n",
              "       [0, 0, 0, 0, 0, 0, 1],\n",
              "       [0, 0, 0, 0, 0, 0, 1],\n",
              "       [0, 1, 0, 0, 0, 0, 0],\n",
              "       [1, 0, 0, 0, 0, 0, 0],\n",
              "       [0, 0, 0, 0, 0, 0, 1]], dtype=int8)"
            ]
          },
          "metadata": {},
          "execution_count": 39
        }
      ]
    },
    {
      "cell_type": "code",
      "source": [
        " np.argmax(y_test_class, axis=1)"
      ],
      "metadata": {
        "colab": {
          "base_uri": "https://localhost:8080/"
        },
        "id": "2fcK-_HzAmc5",
        "outputId": "5dcde219-2ebe-42a7-a303-43cc59f2e48e"
      },
      "execution_count": 40,
      "outputs": [
        {
          "output_type": "execute_result",
          "data": {
            "text/plain": [
              "array([6, 3, 5, 4, 0, 4, 5, 4, 3, 6, 3, 4, 0, 5, 3, 0, 5, 5, 2, 6, 6, 0,\n",
              "       0, 2, 5, 0, 5, 0, 4, 1, 3, 6, 6, 5, 4, 2, 5, 4, 4, 5, 6, 0, 1, 2,\n",
              "       1, 1, 6, 2, 6, 4, 5, 6, 1, 2, 5, 1, 1, 4, 4, 1, 6, 3, 4, 2, 2, 2,\n",
              "       4, 0, 3, 6, 5, 1, 2, 4, 3, 0, 3, 6, 2, 6, 0, 4, 1, 3, 6, 3, 6, 4,\n",
              "       3, 3, 2, 5, 4, 1, 0, 3, 2, 3, 1, 0, 2, 6, 5, 4, 4, 3, 3, 6, 4, 0,\n",
              "       3, 4, 6, 5, 3, 2, 3, 1, 6, 6, 1, 0, 6])"
            ]
          },
          "metadata": {},
          "execution_count": 40
        }
      ]
    },
    {
      "cell_type": "code",
      "source": [
        "y_test_class = np.argmax(y_test_class, axis=1)\n",
        "predictions_test = model.predict(X_test)\n",
        "y_pred_test_class = np.argmax(predictions_test, axis=1)\n",
        "y_proba_test_class = predictions_test\n",
        "\n"
      ],
      "metadata": {
        "id": "uyXvoU2rAckI"
      },
      "execution_count": 41,
      "outputs": []
    },
    {
      "cell_type": "code",
      "source": [
        "predictions_test"
      ],
      "metadata": {
        "colab": {
          "base_uri": "https://localhost:8080/"
        },
        "id": "3BAOUaPwAtuY",
        "outputId": "1ab061a1-8444-4341-95ef-dcccdccc77d5"
      },
      "execution_count": 42,
      "outputs": [
        {
          "output_type": "execute_result",
          "data": {
            "text/plain": [
              "array([[5.71530778e-03, 1.19190209e-01, 1.00737028e-01, 4.65179980e-01,\n",
              "        7.41513167e-03, 1.29873708e-01, 1.71888724e-01],\n",
              "       [4.32723027e-05, 1.69022139e-02, 4.15372709e-03, 7.12735176e-01,\n",
              "        2.54875600e-01, 9.83744278e-04, 1.03063118e-02],\n",
              "       [4.70874220e-05, 1.00799056e-03, 3.47970257e-04, 9.83149171e-01,\n",
              "        9.54355928e-05, 9.62757785e-03, 5.72487433e-03],\n",
              "       [4.30834480e-05, 1.56919332e-03, 3.82337370e-04, 3.29698250e-03,\n",
              "        8.96052271e-02, 9.50974500e-05, 9.05008137e-01],\n",
              "       [3.73784572e-01, 5.86727202e-01, 1.15201687e-02, 1.58078820e-02,\n",
              "        8.13218358e-05, 7.47702317e-03, 4.60188510e-03],\n",
              "       [5.14130406e-05, 5.46443835e-03, 4.12850315e-03, 9.70527411e-01,\n",
              "        5.97180892e-03, 3.05486401e-03, 1.08015416e-02],\n",
              "       [7.27511384e-03, 1.04978957e-04, 6.57694135e-03, 8.23135953e-03,\n",
              "        4.87062352e-04, 9.77185488e-01, 1.38981050e-04],\n",
              "       [3.15542042e-01, 5.17895594e-02, 3.95435154e-01, 4.48027533e-03,\n",
              "        2.03589588e-01, 1.59058743e-03, 2.75727622e-02],\n",
              "       [2.14526262e-05, 1.29565680e-02, 1.35069741e-02, 7.13745415e-01,\n",
              "        4.19165008e-02, 1.98321104e-01, 1.95319317e-02],\n",
              "       [1.06719026e-05, 2.85583927e-04, 5.86769194e-04, 2.80576319e-01,\n",
              "        2.36578402e-03, 1.13554597e-02, 7.04819441e-01],\n",
              "       [3.06733527e-05, 5.86624304e-03, 4.15874599e-03, 9.20147657e-01,\n",
              "        3.52643840e-02, 2.74159126e-02, 7.11632986e-03],\n",
              "       [1.53912879e-05, 2.73736697e-02, 6.94149211e-02, 6.15497679e-03,\n",
              "        8.87092173e-01, 1.18290109e-03, 8.76585767e-03],\n",
              "       [2.41401911e-01, 1.57251675e-03, 7.41935372e-01, 6.50481088e-05,\n",
              "        1.39262751e-02, 1.06919161e-03, 2.96184426e-05],\n",
              "       [8.54931248e-04, 1.38964315e-04, 4.47385423e-02, 2.04235874e-03,\n",
              "        1.75097575e-05, 9.51717257e-01, 4.90456936e-04],\n",
              "       [7.26064172e-05, 4.89032781e-03, 5.39087296e-01, 5.76618239e-02,\n",
              "        2.68663079e-01, 9.13013071e-02, 3.83235700e-02],\n",
              "       [9.95931566e-01, 3.55114054e-04, 3.54220066e-03, 3.19491555e-05,\n",
              "        8.50317447e-05, 4.45809274e-05, 9.58784585e-06],\n",
              "       [1.72035725e-04, 2.39239726e-03, 5.90626121e-01, 1.03871949e-01,\n",
              "        7.94366188e-03, 2.04927161e-01, 9.00667161e-02],\n",
              "       [8.21712310e-05, 1.92433794e-03, 1.69811700e-03, 2.35537454e-01,\n",
              "        9.47949663e-03, 7.11443484e-01, 3.98350023e-02],\n",
              "       [2.74468330e-05, 1.94748029e-01, 7.56782770e-01, 1.04769357e-02,\n",
              "        1.92616787e-02, 8.65854509e-03, 1.00446194e-02],\n",
              "       [2.34328018e-05, 2.61017564e-03, 2.91570043e-03, 6.50075870e-03,\n",
              "        1.41115814e-01, 2.16849381e-03, 8.44665706e-01],\n",
              "       [4.65311762e-03, 1.16161250e-01, 2.16834736e-03, 1.45687547e-04,\n",
              "        4.53398041e-02, 4.40904951e-05, 8.31487656e-01],\n",
              "       [9.79792714e-01, 1.97871937e-03, 1.55953327e-02, 1.39111980e-05,\n",
              "        2.55962880e-03, 2.38538487e-05, 3.59071819e-05],\n",
              "       [9.96881008e-01, 9.42283659e-05, 2.85120774e-03, 1.30469089e-05,\n",
              "        1.32908142e-04, 1.85225235e-05, 9.16124645e-06],\n",
              "       [1.40916780e-02, 9.33171890e-04, 9.74213302e-01, 1.90354811e-04,\n",
              "        7.48942839e-03, 2.53373873e-03, 5.48305688e-04],\n",
              "       [4.73558874e-04, 1.87210529e-03, 3.65381122e-01, 1.83913752e-01,\n",
              "        1.20342080e-03, 4.42246050e-01, 4.90986509e-03],\n",
              "       [9.28892791e-02, 1.02603994e-03, 8.51522446e-01, 6.65364845e-04,\n",
              "        4.51883078e-02, 8.49936251e-03, 2.09168371e-04],\n",
              "       [3.27609340e-03, 1.61790643e-02, 2.84346610e-01, 1.21006377e-01,\n",
              "        2.56390311e-03, 5.70283830e-01, 2.34417710e-03],\n",
              "       [8.55177402e-01, 1.30348175e-03, 1.35163650e-01, 4.48332197e-04,\n",
              "        9.49050955e-05, 7.63069140e-03, 1.81435986e-04],\n",
              "       [9.61324155e-01, 8.02912691e-04, 3.68037932e-02, 4.86370373e-05,\n",
              "        7.97310786e-04, 1.10764813e-04, 1.12479698e-04],\n",
              "       [5.39997127e-04, 7.55506814e-01, 1.31579321e-02, 3.92906647e-03,\n",
              "        2.18982881e-04, 1.24465651e-03, 2.25402579e-01],\n",
              "       [2.05007702e-04, 7.65296936e-05, 1.21813267e-03, 1.24132745e-01,\n",
              "        6.06297035e-05, 8.74075830e-01, 2.31073442e-04],\n",
              "       [1.00082529e-04, 2.44634241e-01, 3.82859679e-03, 2.76238169e-03,\n",
              "        9.15921386e-03, 3.76865559e-04, 7.39138603e-01],\n",
              "       [4.77195717e-05, 8.99615705e-01, 2.26299167e-02, 4.27754875e-03,\n",
              "        2.24661045e-02, 3.81790247e-04, 5.05811758e-02],\n",
              "       [7.33001914e-04, 2.52361838e-02, 1.07152537e-02, 7.06136599e-02,\n",
              "        5.42780850e-04, 7.15261340e-01, 1.76897839e-01],\n",
              "       [2.63959028e-05, 1.71435846e-03, 6.89932052e-03, 1.90492356e-04,\n",
              "        9.90335107e-01, 1.63451885e-04, 6.70806796e-04],\n",
              "       [9.93941352e-03, 3.99194629e-04, 2.29718201e-02, 4.01715795e-03,\n",
              "        7.53607950e-04, 9.58086848e-01, 3.83190322e-03],\n",
              "       [7.70914310e-04, 1.18005462e-03, 5.72066158e-02, 1.34540023e-02,\n",
              "        1.91705069e-04, 9.24174905e-01, 3.02182604e-03],\n",
              "       [2.55334104e-04, 5.03674382e-03, 1.68623656e-01, 4.37572777e-01,\n",
              "        2.17239987e-02, 3.62382889e-01, 4.40461654e-03],\n",
              "       [1.65096950e-04, 3.08157559e-02, 4.99653697e-01, 8.37165043e-02,\n",
              "        3.31426203e-01, 5.22549301e-02, 1.96783454e-03],\n",
              "       [1.27224106e-04, 3.67197390e-05, 1.17362896e-03, 9.62609053e-02,\n",
              "        1.54212292e-04, 9.01878893e-01, 3.68422479e-04],\n",
              "       [1.38854771e-03, 2.12538261e-02, 9.11185205e-01, 3.22825601e-03,\n",
              "        3.02962330e-03, 1.93949696e-02, 4.05194834e-02],\n",
              "       [9.98022795e-01, 2.37399698e-04, 1.10151712e-03, 2.96392827e-05,\n",
              "        5.61862078e-04, 1.75257428e-05, 2.92844197e-05],\n",
              "       [9.92824789e-04, 2.01347381e-01, 7.75502861e-01, 6.28902018e-03,\n",
              "        7.33473338e-03, 6.21610973e-03, 2.31708027e-03],\n",
              "       [4.25751896e-05, 4.62507494e-02, 1.38649330e-01, 9.32403561e-03,\n",
              "        8.03316176e-01, 9.30794980e-04, 1.48635113e-03],\n",
              "       [2.88706098e-04, 9.58984554e-01, 1.48319732e-02, 1.97828468e-03,\n",
              "        6.70811301e-03, 1.43690140e-03, 1.57715399e-02],\n",
              "       [9.75190720e-04, 9.41310704e-01, 1.24165295e-02, 6.23190892e-04,\n",
              "        3.47835198e-03, 2.36202628e-04, 4.09598015e-02],\n",
              "       [8.20668135e-03, 7.65484292e-03, 1.04718544e-01, 1.44418576e-04,\n",
              "        8.48013163e-01, 9.38595040e-05, 3.11686024e-02],\n",
              "       [1.84050354e-03, 1.03908393e-03, 9.88203585e-01, 9.45145381e-04,\n",
              "        5.77416457e-03, 9.64588486e-04, 1.23306469e-03],\n",
              "       [9.66879725e-06, 2.97124730e-04, 7.69964754e-05, 9.92893159e-01,\n",
              "        8.05133604e-05, 8.08109879e-04, 5.83438529e-03],\n",
              "       [1.98915295e-04, 3.79727781e-03, 5.25779882e-03, 5.46318479e-05,\n",
              "        9.89927053e-01, 2.32478153e-04, 5.31806087e-04],\n",
              "       [6.42400846e-05, 6.63766059e-06, 4.18672746e-04, 1.86199881e-03,\n",
              "        9.87690873e-06, 9.97603834e-01, 3.46676206e-05],\n",
              "       [1.17760850e-03, 9.87379462e-04, 3.26916715e-03, 9.74264264e-01,\n",
              "        3.89168621e-03, 7.88035337e-03, 8.52964446e-03],\n",
              "       [7.32501096e-04, 6.97816551e-01, 3.11406348e-02, 1.36894977e-03,\n",
              "        5.17400205e-02, 4.38101473e-04, 2.16763228e-01],\n",
              "       [1.59930217e-03, 9.89905326e-04, 7.83489704e-01, 1.38225115e-03,\n",
              "        2.08391666e-01, 3.43338237e-03, 7.13880756e-04],\n",
              "       [4.21662815e-03, 4.68266517e-04, 4.13920224e-01, 2.83386908e-03,\n",
              "        7.19162344e-04, 5.75726449e-01, 2.11545778e-03],\n",
              "       [6.20575488e-01, 2.81663164e-02, 3.18868935e-01, 8.84042529e-04,\n",
              "        2.86569409e-02, 7.94963969e-04, 2.05331412e-03],\n",
              "       [1.06936283e-02, 8.61110985e-02, 8.80152106e-01, 5.92618948e-03,\n",
              "        7.13649625e-03, 7.84705579e-03, 2.13350542e-03],\n",
              "       [7.66260684e-01, 1.82976574e-03, 2.26757929e-01, 3.71832211e-05,\n",
              "        4.52525122e-03, 4.92921856e-04, 9.63310304e-05],\n",
              "       [1.78515608e-03, 2.63226241e-01, 8.00110549e-02, 1.94810505e-04,\n",
              "        6.52813613e-01, 4.75129258e-04, 1.49397657e-03],\n",
              "       [3.73654708e-04, 5.72662473e-01, 3.20783526e-01, 2.86916853e-03,\n",
              "        2.15959158e-02, 8.96050187e-04, 8.08192492e-02],\n",
              "       [6.04165196e-01, 4.27823626e-02, 2.52411902e-01, 2.80126017e-02,\n",
              "        6.02432080e-02, 7.53991026e-03, 4.84482618e-03],\n",
              "       [1.28486165e-04, 2.01810428e-04, 3.13023222e-04, 9.75770593e-01,\n",
              "        9.46494474e-05, 2.19446961e-02, 1.54667406e-03],\n",
              "       [1.78826228e-03, 1.23355061e-01, 7.63167977e-01, 2.87459092e-03,\n",
              "        3.07789799e-02, 1.56408790e-02, 6.23942576e-02],\n",
              "       [1.13695678e-04, 1.52767042e-03, 9.90461648e-01, 4.62908560e-04,\n",
              "        6.38308644e-04, 5.99453645e-03, 8.01186252e-04],\n",
              "       [1.12755541e-02, 9.08527174e-04, 6.92952331e-03, 1.03241600e-01,\n",
              "        1.50081993e-04, 8.75545025e-01, 1.94964709e-03],\n",
              "       [2.95338075e-04, 1.04232307e-03, 9.81316924e-01, 1.72302208e-03,\n",
              "        2.23310571e-03, 1.31540131e-02, 2.35240717e-04],\n",
              "       [1.57077258e-04, 8.58547632e-03, 2.49933004e-02, 1.71021707e-02,\n",
              "        9.24477577e-01, 2.79138476e-04, 2.44052298e-02],\n",
              "       [6.87447190e-01, 7.46893522e-04, 2.97495008e-01, 4.89421771e-04,\n",
              "        2.74424371e-03, 1.10356500e-02, 4.16057665e-05],\n",
              "       [1.33193651e-04, 7.82661512e-03, 3.07036906e-01, 4.04176235e-01,\n",
              "        2.42677346e-01, 3.59210335e-02, 2.22877390e-03],\n",
              "       [3.51585768e-05, 7.48372152e-02, 1.88102853e-02, 2.24930048e-02,\n",
              "        1.60594253e-04, 1.11055057e-02, 8.72558236e-01],\n",
              "       [4.69025187e-02, 2.82551683e-02, 2.98326433e-01, 1.01385647e-02,\n",
              "        5.98109186e-01, 1.68039072e-02, 1.46421918e-03],\n",
              "       [2.52975035e-04, 3.69083762e-01, 3.68007016e-03, 1.54934742e-03,\n",
              "        1.57662283e-03, 4.33236099e-04, 6.23424053e-01],\n",
              "       [2.44366810e-01, 9.70767054e-04, 4.70544100e-01, 2.85692979e-03,\n",
              "        1.81712362e-03, 2.77736366e-01, 1.70794153e-03],\n",
              "       [3.59250698e-03, 4.35011275e-03, 6.82398617e-01, 1.00951130e-03,\n",
              "        1.76496848e-01, 5.94473351e-03, 1.26207694e-01],\n",
              "       [4.47964121e-05, 1.41676858e-01, 1.01669110e-01, 1.36091650e-01,\n",
              "        5.94954967e-01, 1.69898868e-02, 8.57274979e-03],\n",
              "       [2.58085132e-02, 9.08579886e-01, 3.17718796e-02, 1.11372923e-04,\n",
              "        1.98477623e-03, 2.20894522e-04, 3.15228179e-02],\n",
              "       [5.88994799e-03, 6.01640761e-01, 1.29196346e-01, 1.64691079e-02,\n",
              "        6.27635280e-04, 1.60702631e-01, 8.54735374e-02],\n",
              "       [9.18359801e-05, 4.29579942e-03, 3.96398798e-04, 6.20242354e-05,\n",
              "        5.39161731e-03, 1.06355677e-04, 9.89655972e-01],\n",
              "       [3.85046035e-01, 1.34607370e-03, 6.01973057e-01, 1.30542181e-03,\n",
              "        8.25216412e-04, 9.42473486e-03, 7.94892403e-05],\n",
              "       [2.12833897e-04, 2.19997135e-03, 5.53209626e-04, 1.33795431e-03,\n",
              "        9.12756380e-03, 4.90288134e-04, 9.86078262e-01],\n",
              "       [9.98614669e-01, 8.97735881e-05, 1.12840324e-03, 4.47684579e-06,\n",
              "        1.49380619e-04, 6.52726021e-06, 6.64342951e-06],\n",
              "       [1.49816216e-04, 1.93462279e-02, 5.23066614e-03, 2.35006749e-03,\n",
              "        9.65691745e-01, 9.36469733e-05, 7.13784713e-03],\n",
              "       [3.86643980e-04, 5.20559609e-01, 1.90321461e-03, 1.59470655e-03,\n",
              "        3.65357235e-04, 8.30382691e-04, 4.74359959e-01],\n",
              "       [2.71782028e-05, 1.98342696e-01, 1.20010870e-02, 1.59608528e-01,\n",
              "        5.75358212e-01, 4.22547659e-04, 5.42396903e-02],\n",
              "       [2.00210465e-03, 2.51891743e-02, 3.12162185e-04, 9.24272120e-01,\n",
              "        1.81134697e-03, 2.33737901e-02, 2.30392218e-02],\n",
              "       [8.88947325e-05, 1.15579413e-03, 4.58924137e-02, 7.84632470e-03,\n",
              "        9.41483557e-01, 3.33265925e-04, 3.19978176e-03],\n",
              "       [5.39474349e-05, 3.39004793e-03, 6.14426797e-03, 1.41410343e-02,\n",
              "        3.53785992e-01, 9.07769601e-04, 6.21577024e-01],\n",
              "       [1.72045202e-05, 1.06852769e-03, 4.69911005e-03, 1.10207479e-02,\n",
              "        9.78106916e-01, 1.58787545e-04, 4.92871506e-03],\n",
              "       [8.28051270e-05, 3.96092539e-04, 2.70800595e-03, 8.73842895e-01,\n",
              "        2.10319646e-04, 1.10888839e-01, 1.18709970e-02],\n",
              "       [1.51555077e-03, 9.55965777e-04, 1.35052949e-01, 6.28367722e-01,\n",
              "        2.85068862e-02, 1.89809576e-01, 1.57913286e-02],\n",
              "       [1.04477741e-02, 2.42147944e-03, 6.86981142e-01, 1.66813564e-02,\n",
              "        1.37196053e-02, 2.68356293e-01, 1.39227742e-03],\n",
              "       [3.23909186e-02, 4.12572501e-03, 5.21682322e-01, 5.63363964e-03,\n",
              "        1.74833031e-03, 4.32141960e-01, 2.27710162e-03],\n",
              "       [2.97481256e-05, 4.30475548e-03, 9.76667643e-01, 9.11661831e-04,\n",
              "        1.53933056e-02, 9.93521069e-04, 1.69953739e-03],\n",
              "       [1.92736574e-02, 5.13966903e-02, 5.34186244e-01, 4.12471918e-03,\n",
              "        3.51665229e-01, 3.38160656e-02, 5.53720398e-03],\n",
              "       [9.77181435e-01, 7.10714259e-04, 2.17213444e-02, 3.56690434e-05,\n",
              "        1.46301521e-04, 1.77699243e-04, 2.69191969e-05],\n",
              "       [1.24553007e-05, 9.86044106e-05, 3.36413395e-05, 9.85542178e-01,\n",
              "        3.60461745e-05, 7.08959578e-03, 7.18747731e-03],\n",
              "       [3.63813643e-03, 3.30697891e-04, 9.42364037e-01, 2.63104506e-04,\n",
              "        2.85055744e-03, 4.87157628e-02, 1.83772563e-03],\n",
              "       [1.57367595e-05, 7.69921928e-04, 1.03824888e-04, 9.94248748e-01,\n",
              "        4.57118658e-05, 4.15051309e-03, 6.65507629e-04],\n",
              "       [3.20078398e-05, 7.07937917e-03, 5.43878041e-03, 8.75545382e-01,\n",
              "        1.93741487e-03, 9.90129858e-02, 1.09542059e-02],\n",
              "       [9.83417571e-01, 9.33453921e-05, 7.24848313e-03, 3.21614818e-04,\n",
              "        6.97068172e-03, 1.83407601e-03, 1.14344621e-04],\n",
              "       [1.45948795e-03, 3.77216865e-03, 9.43280637e-01, 2.79078609e-04,\n",
              "        4.84577529e-02, 2.10546725e-03, 6.45424763e-04],\n",
              "       [7.29669631e-02, 1.27785013e-03, 1.59149200e-01, 2.13944856e-02,\n",
              "        4.98658512e-03, 7.23674655e-01, 1.65502112e-02],\n",
              "       [7.76858578e-05, 4.15146678e-06, 5.66839240e-04, 2.70465529e-03,\n",
              "        1.66434565e-05, 9.96590614e-01, 3.94977797e-05],\n",
              "       [1.73847720e-01, 5.64692497e-01, 1.57218426e-01, 1.77347066e-03,\n",
              "        5.76613136e-02, 2.31698592e-04, 4.45748903e-02],\n",
              "       [9.11775860e-04, 2.84610745e-02, 3.84558085e-03, 5.95080608e-04,\n",
              "        9.58400011e-01, 3.02270870e-04, 7.48416968e-03],\n",
              "       [4.39209871e-05, 1.26916515e-02, 1.64389834e-02, 8.64452779e-01,\n",
              "        2.84719426e-04, 6.71344772e-02, 3.89534794e-02],\n",
              "       [3.38151073e-03, 3.04500863e-04, 9.44796085e-01, 2.55540898e-03,\n",
              "        1.79153786e-03, 4.67425697e-02, 4.28354862e-04],\n",
              "       [6.60303413e-05, 4.48479839e-02, 1.54544011e-01, 2.41039008e-01,\n",
              "        3.21939886e-02, 2.96713226e-02, 4.97637630e-01],\n",
              "       [5.89152565e-04, 1.38433287e-02, 2.17622310e-01, 1.62628666e-03,\n",
              "        4.14282531e-01, 3.52153555e-03, 3.48514855e-01],\n",
              "       [9.38402593e-01, 9.82192717e-03, 5.00062369e-02, 1.92563020e-05,\n",
              "        1.51589350e-03, 5.54482867e-05, 1.78591290e-04],\n",
              "       [1.38912228e-05, 1.03980200e-02, 7.68081052e-04, 9.07672167e-01,\n",
              "        1.57914218e-02, 7.82522000e-03, 5.75312115e-02],\n",
              "       [5.27190685e-04, 3.94013850e-03, 8.76257487e-04, 9.77798879e-01,\n",
              "        1.35547714e-02, 1.26628194e-03, 2.03651772e-03],\n",
              "       [1.07592925e-04, 7.56028950e-01, 6.10839389e-02, 4.09553992e-04,\n",
              "        9.08403471e-03, 4.93686995e-04, 1.72792181e-01],\n",
              "       [4.42288583e-04, 9.08850285e-04, 3.64459939e-02, 4.08342667e-03,\n",
              "        1.00724821e-04, 9.56237197e-01, 1.78146129e-03],\n",
              "       [1.05762826e-02, 2.56084113e-05, 8.20117304e-04, 2.61780303e-02,\n",
              "        5.79073057e-05, 9.62134719e-01, 2.07401536e-04],\n",
              "       [5.05732896e-04, 7.40071237e-02, 5.82576215e-01, 1.88948214e-01,\n",
              "        4.17829491e-02, 1.16547523e-02, 1.00525029e-01],\n",
              "       [1.34747976e-03, 4.21056636e-02, 5.15712313e-02, 6.17781997e-01,\n",
              "        4.73688990e-02, 2.06401318e-01, 3.34233828e-02],\n",
              "       [2.27888227e-02, 1.64467588e-01, 1.77122038e-02, 3.67168009e-01,\n",
              "        6.49773807e-04, 4.00362730e-01, 2.68509388e-02],\n",
              "       [9.13637850e-05, 8.75600090e-04, 5.57338644e-04, 7.27594495e-02,\n",
              "        5.76103060e-03, 1.07571315e-02, 9.09198105e-01],\n",
              "       [4.30448890e-05, 2.00906768e-02, 2.27129785e-03, 1.72820734e-03,\n",
              "        8.54841843e-02, 1.39835945e-04, 8.90242755e-01],\n",
              "       [4.15910501e-04, 7.56842315e-01, 3.20426859e-02, 2.71032914e-03,\n",
              "        1.10801738e-02, 2.61068490e-04, 1.96647525e-01],\n",
              "       [9.82396603e-01, 2.13207837e-04, 1.66276302e-02, 4.61377567e-05,\n",
              "        5.59980399e-04, 1.16346477e-04, 4.00343633e-05],\n",
              "       [5.98619918e-05, 1.40713342e-02, 3.37165897e-04, 5.86017377e-05,\n",
              "        1.29242493e-02, 2.39555884e-05, 9.72524822e-01]], dtype=float32)"
            ]
          },
          "metadata": {},
          "execution_count": 42
        }
      ]
    },
    {
      "cell_type": "code",
      "source": [
        "y_pred_test_class "
      ],
      "metadata": {
        "colab": {
          "base_uri": "https://localhost:8080/"
        },
        "id": "ph-j4nBsAxjT",
        "outputId": "1b26c313-301f-45a4-8b60-d7b7f084ceb3"
      },
      "execution_count": 43,
      "outputs": [
        {
          "output_type": "execute_result",
          "data": {
            "text/plain": [
              "array([3, 3, 3, 6, 1, 3, 5, 2, 3, 6, 3, 4, 2, 5, 2, 0, 2, 5, 2, 6, 6, 0,\n",
              "       0, 2, 5, 2, 5, 0, 0, 1, 5, 6, 1, 5, 4, 5, 5, 3, 2, 5, 2, 0, 2, 4,\n",
              "       1, 1, 4, 2, 3, 4, 5, 3, 1, 2, 5, 0, 2, 0, 4, 1, 0, 3, 2, 2, 5, 2,\n",
              "       4, 0, 3, 6, 4, 6, 2, 2, 4, 1, 1, 6, 2, 6, 0, 4, 1, 4, 3, 4, 6, 4,\n",
              "       3, 3, 2, 2, 2, 2, 0, 3, 2, 3, 3, 0, 2, 5, 5, 1, 4, 3, 2, 6, 4, 0,\n",
              "       3, 3, 1, 5, 5, 2, 3, 5, 6, 6, 1, 0, 6])"
            ]
          },
          "metadata": {},
          "execution_count": 43
        }
      ]
    },
    {
      "cell_type": "markdown",
      "source": [
        "### Test Set Confusion Matrix and Heatmap"
      ],
      "metadata": {
        "id": "Epp2QpxsUVXH"
      }
    },
    {
      "cell_type": "code",
      "source": [
        "# Test set Confusion matrix\n",
        "\n",
        "cm=confusion_matrix(y_test_class, y_pred_test_class)\n",
        "\n",
        "index = ['calm', 'happy', 'sad', 'angry', 'fearful', 'disgust', 'surprised']  \n",
        "columns = ['calm', 'happy', 'sad', 'angry', 'fearful', 'disgust', 'surprised']  \n",
        " \n",
        "cm_df = pd.DataFrame(cm,index,columns)                      \n",
        "plt.figure(figsize=(12,8))\n",
        "ax = plt.axes()\n",
        "\n",
        "sns.heatmap(cm_df, ax = ax, cmap = 'BuGn', fmt=\"d\", annot=True)\n",
        "ax.set_ylabel('True emotion')\n",
        "ax.set_xlabel('Predicted emotion')"
      ],
      "metadata": {
        "colab": {
          "base_uri": "https://localhost:8080/",
          "height": 518
        },
        "id": "ukGrk_cagzyb",
        "outputId": "3cbcbe21-f404-486a-b473-baff9f4ecc46"
      },
      "execution_count": 44,
      "outputs": [
        {
          "output_type": "execute_result",
          "data": {
            "text/plain": [
              "Text(0.5, 51.0, 'Predicted emotion')"
            ]
          },
          "metadata": {},
          "execution_count": 44
        },
        {
          "output_type": "display_data",
          "data": {
            "text/plain": [
              "<Figure size 864x576 with 2 Axes>"
            ],
            "image/png": "[encoded data removed]"
          },
          "metadata": {
            "needs_background": "light"
          }
        }
      ]
    },
    {
      "cell_type": "code",
      "source": [
        "# Confusion Matrix\n",
        "cm"
      ],
      "metadata": {
        "colab": {
          "base_uri": "https://localhost:8080/"
        },
        "id": "9f51xwUE8haF",
        "outputId": "97a14214-11f5-4af3-aafd-604384f71fb5"
      },
      "execution_count": 45,
      "outputs": [
        {
          "output_type": "execute_result",
          "data": {
            "text/plain": [
              "array([[11,  2,  2,  0,  0,  0,  0],\n",
              "       [ 1,  7,  3,  1,  0,  1,  1],\n",
              "       [ 0,  0, 12,  0,  1,  2,  0],\n",
              "       [ 0,  1,  2, 12,  3,  2,  0],\n",
              "       [ 2,  1,  5,  3,  9,  0,  1],\n",
              "       [ 0,  0,  2,  1,  1, 12,  0],\n",
              "       [ 1,  2,  1,  4,  1,  1, 12]])"
            ]
          },
          "metadata": {},
          "execution_count": 45
        }
      ]
    },
    {
      "cell_type": "markdown",
      "source": [
        "### Test Set Predicted emotions accuracy"
      ],
      "metadata": {
        "id": "zil3CkweUX0q"
      }
    },
    {
      "cell_type": "code",
      "source": [
        "# Test set prediction accuracy rates\n",
        "\n",
        "values = cm.diagonal()\n",
        "row_sum = np.sum(cm,axis=1)\n",
        "acc = values / row_sum\n",
        "\n",
        "print('Test set predicted emotions accuracy:')\n",
        "for e in range(0, len(values)):\n",
        "    print(index[e],':', f\"{(acc[e]):0.4f}\")"
      ],
      "metadata": {
        "colab": {
          "base_uri": "https://localhost:8080/"
        },
        "id": "t_ORyGGig090",
        "outputId": "bc8a752c-0264-4395-98d6-57ce99d8b8ca"
      },
      "execution_count": 46,
      "outputs": [
        {
          "output_type": "stream",
          "name": "stdout",
          "text": [
            "Test set predicted emotions accuracy:\n",
            "calm : 0.7333\n",
            "happy : 0.5000\n",
            "sad : 0.8000\n",
            "angry : 0.6000\n",
            "fearful : 0.4286\n",
            "disgust : 0.7500\n",
            "surprised : 0.5455\n"
          ]
        }
      ]
    },
    {
      "cell_type": "markdown",
      "source": [
        "### Precision, Recal, Fscore"
      ],
      "metadata": {
        "id": "8Hzthv1t8kwd"
      }
    },
    {
      "cell_type": "code",
      "source": [
        "# Validation set precision, recall, fscore\n",
        "\n",
        "precision_recall_fscore_support(y_test_class, y_pred_test_class, average='macro')\n"
      ],
      "metadata": {
        "colab": {
          "base_uri": "https://localhost:8080/"
        },
        "id": "QnwWoVFnh33F",
        "outputId": "1feb5ebf-06ac-43e8-ecde-64a83ce1173e"
      },
      "execution_count": 47,
      "outputs": [
        {
          "output_type": "execute_result",
          "data": {
            "text/plain": [
              "(0.6302110587824873, 0.6224799010513296, 0.6115993280781148, None)"
            ]
          },
          "metadata": {},
          "execution_count": 47
        }
      ]
    },
    {
      "cell_type": "code",
      "source": [
        "precision_recall_fscore_support(y_test_class, y_pred_test_class, average='weighted')"
      ],
      "metadata": {
        "colab": {
          "base_uri": "https://localhost:8080/"
        },
        "id": "OlDhuPlqzwVB",
        "outputId": "dcf56a3b-0f10-47ce-9d3b-f06932b02095"
      },
      "execution_count": 48,
      "outputs": [
        {
          "output_type": "execute_result",
          "data": {
            "text/plain": [
              "(0.6403049525000745, 0.6097560975609756, 0.6097462538014964, None)"
            ]
          },
          "metadata": {},
          "execution_count": 48
        }
      ]
    },
    {
      "cell_type": "markdown",
      "source": [
        "### ROC AUC Score"
      ],
      "metadata": {
        "id": "sEuBd9IyLuiD"
      }
    },
    {
      "cell_type": "code",
      "source": [
        "ravdess_df = pd.read_csv (df_path)"
      ],
      "metadata": {
        "id": "8bb4OSmyTO6v"
      },
      "execution_count": 49,
      "outputs": []
    },
    {
      "cell_type": "code",
      "source": [
        "labels = [\"calm\", \"happy\", \"sad\", \"angry\", \"fear\", \"disgust\", \"suprised\"]"
      ],
      "metadata": {
        "id": "1leZ4JGVTfTp"
      },
      "execution_count": 50,
      "outputs": []
    },
    {
      "cell_type": "code",
      "source": [
        "y_test_adj = y_test.reshape(-1,)"
      ],
      "metadata": {
        "id": "MRm1ZwnxFStc"
      },
      "execution_count": 51,
      "outputs": []
    },
    {
      "cell_type": "code",
      "source": [
        "y_proba_test_class.shape"
      ],
      "metadata": {
        "colab": {
          "base_uri": "https://localhost:8080/"
        },
        "id": "O-IcYOABFjxB",
        "outputId": "c4aac5cf-502f-429f-8f1a-d21acb4b0c59"
      },
      "execution_count": 52,
      "outputs": [
        {
          "output_type": "execute_result",
          "data": {
            "text/plain": [
              "(123, 7)"
            ]
          },
          "metadata": {},
          "execution_count": 52
        }
      ]
    },
    {
      "cell_type": "code",
      "source": [
        "y_test.shape"
      ],
      "metadata": {
        "colab": {
          "base_uri": "https://localhost:8080/"
        },
        "id": "9AaqUY3PIlMQ",
        "outputId": "79592950-8ae2-4e4e-bc05-4d473cd3ba10"
      },
      "execution_count": 53,
      "outputs": [
        {
          "output_type": "execute_result",
          "data": {
            "text/plain": [
              "(123, 1)"
            ]
          },
          "metadata": {},
          "execution_count": 53
        }
      ]
    },
    {
      "cell_type": "code",
      "source": [
        "y_test_adj"
      ],
      "metadata": {
        "colab": {
          "base_uri": "https://localhost:8080/"
        },
        "id": "7LgDudYTKInS",
        "outputId": "ff1f524c-bb8e-43db-8c13-a4067cf8c2b3"
      },
      "execution_count": 54,
      "outputs": [
        {
          "output_type": "execute_result",
          "data": {
            "text/plain": [
              "array([6, 3, 5, 4, 0, 4, 5, 4, 3, 6, 3, 4, 0, 5, 3, 0, 5, 5, 2, 6, 6, 0,\n",
              "       0, 2, 5, 0, 5, 0, 4, 1, 3, 6, 6, 5, 4, 2, 5, 4, 4, 5, 6, 0, 1, 2,\n",
              "       1, 1, 6, 2, 6, 4, 5, 6, 1, 2, 5, 1, 1, 4, 4, 1, 6, 3, 4, 2, 2, 2,\n",
              "       4, 0, 3, 6, 5, 1, 2, 4, 3, 0, 3, 6, 2, 6, 0, 4, 1, 3, 6, 3, 6, 4,\n",
              "       3, 3, 2, 5, 4, 1, 0, 3, 2, 3, 1, 0, 2, 6, 5, 4, 4, 3, 3, 6, 4, 0,\n",
              "       3, 4, 6, 5, 3, 2, 3, 1, 6, 6, 1, 0, 6], dtype=int8)"
            ]
          },
          "metadata": {},
          "execution_count": 54
        }
      ]
    },
    {
      "cell_type": "code",
      "source": [
        "\n",
        "\n",
        "macro_roc_auc_ovo = roc_auc_score(y_test_adj, y_proba_test_class, multi_class=\"ovo\", average=\"macro\")\n",
        "weighted_roc_auc_ovo = roc_auc_score(\n",
        "    y_test_adj, y_proba_test_class, multi_class=\"ovo\", average=\"weighted\"\n",
        ")\n",
        "macro_roc_auc_ovr = roc_auc_score(y_test_adj, y_proba_test_class, multi_class=\"ovr\", average=\"macro\")\n",
        "weighted_roc_auc_ovr = roc_auc_score(\n",
        "    y_test_adj, y_proba_test_class, multi_class=\"ovr\", average=\"weighted\"\n",
        ")\n"
      ],
      "metadata": {
        "id": "oMa4N8EhHlY9"
      },
      "execution_count": 55,
      "outputs": []
    },
    {
      "cell_type": "code",
      "source": [
        "print(\"One-vs-One ROC AUC scores:\\n{:.6f} (macro),\\n{:.6f} \" \"(weighted by prevalence)\\n\".format(macro_roc_auc_ovo, weighted_roc_auc_ovo))\n",
        "print(\"One-vs-Rest ROC AUC scores:\\n{:.6f} (macro),\\n{:.6f} \" \"(weighted by prevalence)\".format(macro_roc_auc_ovr, weighted_roc_auc_ovr))"
      ],
      "metadata": {
        "colab": {
          "base_uri": "https://localhost:8080/"
        },
        "id": "hhBLwtO_ICqL",
        "outputId": "9a7dee5e-ac8a-4735-fee0-5dc4d6fdc7c6"
      },
      "execution_count": 56,
      "outputs": [
        {
          "output_type": "stream",
          "name": "stdout",
          "text": [
            "One-vs-One ROC AUC scores:\n",
            "0.901213 (macro),\n",
            "0.897837 (weighted by prevalence)\n",
            "\n",
            "One-vs-Rest ROC AUC scores:\n",
            "0.898034 (macro),\n",
            "0.893317 (weighted by prevalence)\n"
          ]
        }
      ]
    }
  ]
}