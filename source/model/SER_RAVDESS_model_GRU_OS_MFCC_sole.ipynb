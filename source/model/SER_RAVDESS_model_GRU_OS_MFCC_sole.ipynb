{
  "metadata": {
    "kernelspec": {
      "language": "python",
      "display_name": "Python 3",
      "name": "python3"
    },
    "language_info": {
      "pygments_lexer": "ipython3",
      "nbconvert_exporter": "python",
      "version": "3.6.4",
      "file_extension": ".py",
      "codemirror_mode": {
        "name": "ipython",
        "version": 3
      },
      "name": "python",
      "mimetype": "text/x-python"
    },
    "colab": {
      "name": "SER-RAVDESS-model-GRU-OS-MFCC-sole.ipynb",
      "provenance": [],
      "collapsed_sections": []
    }
  },
  "nbformat_minor": 0,
  "nbformat": 4,
  "cells": [
    {
      "cell_type": "markdown",
      "source": [
        "# Imports"
      ],
      "metadata": {
        "id": "anSyerIFN7qd"
      }
    },
    {
      "cell_type": "code",
      "source": [
        "# Importing Libraries"
      ],
      "metadata": {
        "id": "IMFSwIuvKiw2"
      },
      "execution_count": 55,
      "outputs": []
    },
    {
      "cell_type": "code",
      "source": [
        "!pip install json-tricks"
      ],
      "metadata": {
        "colab": {
          "base_uri": "https://localhost:8080/"
        },
        "id": "bBR8aNsmM2tR",
        "outputId": "9eb0ae64-aac0-4dad-9174-9c76fbb29ab9"
      },
      "execution_count": 56,
      "outputs": [
        {
          "output_type": "stream",
          "name": "stdout",
          "text": [
            "Looking in indexes: https://pypi.org/simple, https://us-python.pkg.dev/colab-wheels/public/simple/\n",
            "Requirement already satisfied: json-tricks in /usr/local/lib/python3.7/dist-packages (3.15.5)\n"
          ]
        }
      ]
    },
    {
      "cell_type": "code",
      "source": [
        "import pandas as pd\n",
        "import numpy as np\n",
        "\n",
        "import os\n",
        "import sys\n",
        "\n",
        "import librosa\n",
        "import librosa.display\n",
        "#from pydub import AudioSegment, effects\n",
        "#import noisereduce as nr\n",
        "\n",
        "\n",
        "import seaborn as sns\n",
        "import matplotlib.pyplot as plt\n",
        "from IPython.display import Audio\n",
        "\n",
        "import tensorflow as tf\n",
        "import keras\n",
        "import sklearn\n",
        "\n",
        "\n",
        "from tensorflow.keras.models import Sequential, Model\n",
        "from tensorflow.keras.layers import Dense, LSTM, Flatten, Dropout, BatchNormalization\n",
        "from tensorflow.keras.callbacks import ModelCheckpoint, EarlyStopping, ReduceLROnPlateau\n",
        "from tensorflow.keras.optimizers import Adam, SGD\n",
        "from tensorflow.keras.utils import to_categorical, plot_model\n",
        "\n",
        "\n",
        "from keras.models import Sequential, model_from_json, load_model\n",
        "from keras import layers\n",
        "from keras import optimizers\n",
        "from keras import callbacks\n",
        "\n",
        "from sklearn.preprocessing import StandardScaler, OneHotEncoder, LabelEncoder\n",
        "from sklearn.metrics import confusion_matrix, classification_report, precision_recall_fscore_support, roc_auc_score\n",
        "from sklearn.model_selection import train_test_split, StratifiedShuffleSplit\n",
        "from sklearn.multiclass import OneVsRestClassifier\n",
        "\n",
        "\n",
        "from tqdm import tqdm\n",
        "\n",
        "\n",
        "from json_tricks import dump, load\n",
        "\n",
        "\n",
        "\n",
        "import warnings\n",
        "if not sys.warnoptions:\n",
        "    warnings.simplefilter(\"ignore\")\n",
        "warnings.filterwarnings(\"ignore\", category=DeprecationWarning) \n",
        "\n",
        "import time\n",
        "tic = time.perf_counter()\n",
        "\n",
        "\n",
        "from sklearn.preprocessing import MinMaxScaler\n"
      ],
      "metadata": {
        "id": "77IS8HxqFFCA"
      },
      "execution_count": 57,
      "outputs": []
    },
    {
      "cell_type": "code",
      "source": [
        ""
      ],
      "metadata": {
        "id": "gGYqBIk0FGm4"
      },
      "execution_count": 57,
      "outputs": []
    },
    {
      "cell_type": "markdown",
      "source": [
        "# Dataset"
      ],
      "metadata": {
        "id": "nyMzoZKKKiw6"
      }
    },
    {
      "cell_type": "code",
      "source": [
        "from google.colab import drive\n",
        "drive.mount('/content/drive')"
      ],
      "metadata": {
        "colab": {
          "base_uri": "https://localhost:8080/"
        },
        "id": "JFPDGXmwCBs_",
        "outputId": "77b48662-0f2e-46e5-a94f-f97e824968ff"
      },
      "execution_count": 58,
      "outputs": [
        {
          "output_type": "stream",
          "name": "stdout",
          "text": [
            "Drive already mounted at /content/drive; to attempt to forcibly remount, call drive.mount(\"/content/drive\", force_remount=True).\n"
          ]
        }
      ]
    },
    {
      "cell_type": "code",
      "source": [
        "#Crema = \"/content/drive/MyDrive/datasets/speech/CREMAD/sample/\"\n",
        "#Crema = \"/content/drive/MyDrive/datasets/speech/CREMAD/AudioWAV/\"\n",
        "Ravdess = \"/content/drive/MyDrive/datasets/speech/RAVDESS/data/Audio_Speech_Actors_01-24\"\n",
        "Ravdess_processed = \"/content/drive/MyDrive/datasets/speech/RAVDESS/processedData/onlySpeech/\"\n",
        "Ravdess_speech_sample = \"/content/drive/MyDrive/datasets/speech/RAVDESS/data/Audio_Speech_Actors_01-24/\"\n",
        "df_path = \"/content/drive/MyDrive/datasets/speech/RAVDESS/ravdess_df_onlySpeech.csv\"\n",
        "model_path = Ravdess + \"/model/\"\n",
        "\n",
        "checkpoint_path = model_path + \"best_weights-os-GRU-1.hdf5\"\n",
        "saved_model_path = model_path + 'model8723-os-GRU-1.json'\n",
        "\n",
        "saved_weights_path = model_path + 'model8723_weights-os-GRU-1.h5'\n",
        "saved_model_path_2 = model_path + 'Speech-Emotion-Recognition-Model-os-GRU-1.h5'"
      ],
      "metadata": {
        "execution": {
          "iopub.status.busy": "2021-06-21T09:35:38.093538Z",
          "iopub.execute_input": "2021-06-21T09:35:38.093869Z",
          "iopub.status.idle": "2021-06-21T09:35:38.097467Z",
          "shell.execute_reply.started": "2021-06-21T09:35:38.093838Z",
          "shell.execute_reply": "2021-06-21T09:35:38.096608Z"
        },
        "trusted": true,
        "id": "vR2GjHL4Kiw7"
      },
      "execution_count": 59,
      "outputs": []
    },
    {
      "cell_type": "code",
      "source": [
        ""
      ],
      "metadata": {
        "id": "J2T6JxzIF2Jq"
      },
      "execution_count": 59,
      "outputs": []
    },
    {
      "cell_type": "code",
      "source": [
        "##Hypter Parameters' Range\n",
        "params = {\n",
        "    \"batch_size\": 20,  # 20<16<10, 25 was a bust\n",
        "    \"epochs\": 300,\n",
        "    \"lr\": 0.00010000,\n",
        "    \"time_steps\": 60\n",
        "}\n",
        "#TIME_STEPS = params[\"time_steps\"]\n",
        "#BATCH_SIZE = params[\"batch_size\"]\n",
        "#iter_changes = \"dropout_layers_0.4_0.4\"\n"
      ],
      "metadata": {
        "id": "jnEd5_Vvy4ue"
      },
      "execution_count": 60,
      "outputs": []
    },
    {
      "cell_type": "code",
      "source": [
        ""
      ],
      "metadata": {
        "id": "dKXM0xT-N8uy"
      },
      "execution_count": 60,
      "outputs": []
    },
    {
      "cell_type": "markdown",
      "source": [
        "# Load Processed Files, Construct Train, Validation and Test Sets"
      ],
      "metadata": {
        "id": "fse_mTpaOGdQ"
      }
    },
    {
      "cell_type": "code",
      "source": [
        "\n",
        "processed_path = Ravdess_processed\n",
        "x_path = processed_path + \"X_features.json\" # FILE LOAD PATH\n",
        "y_path =  processed_path + \"Y_labels.json\" # FILE SAVE PATH\n",
        "#x_path = '/content/drive/MyDrive/datasets/speech/RAVDESS/processedData/X_features.json'\n",
        "\n",
        "# Load X,Y json files back into lists, convert to np.arrays\n",
        "\n",
        "X = load(x_path)\n",
        "X = np.asarray(X, dtype = 'float32')\n",
        "\n",
        "Y = load(y_path)\n",
        "Y = np.asarray(Y, dtype = 'int8')"
      ],
      "metadata": {
        "id": "101BpvWgN8xX"
      },
      "execution_count": 61,
      "outputs": []
    },
    {
      "cell_type": "code",
      "source": [
        "# Split to train, validation, and test sets.\n",
        "from sklearn.model_selection import train_test_split\n",
        "# 1st Split: X,Y => (x_train, x_tosplit) (y_train, y_tosplit)\n",
        "x_train, x_tosplit, y_train, y_tosplit = train_test_split(X, Y, test_size = 0.30, random_state = 1)\n",
        "# 2nd Split: x_tosplit,y_tosplit => (x_val, x_test) (y_val, y_test) \n",
        "x_val, x_test, y_val, y_test = train_test_split(x_tosplit, y_tosplit, test_size = 0.304, random_state = 1)\n",
        "#'One-hot' vectors for Y: emotion classification\n",
        "y_train_class = tf.keras.utils.to_categorical(y_train, 7, dtype = 'int8')\n",
        "y_val_class = tf.keras.utils.to_categorical(y_val, 7, dtype = 'int8')"
      ],
      "metadata": {
        "id": "CuF9M1mfOD7X"
      },
      "execution_count": 62,
      "outputs": []
    },
    {
      "cell_type": "code",
      "source": [
        "# Normalize using MinMaxScaler\n",
        "\n",
        "#scaler = MinMaxScaler()\n",
        "\n",
        "#X_train = scaler.fit_transform(x_train.reshape(-1, x_train.shape[-1])).reshape(x_train.shape)\n",
        "#X_Val = scaler.fit_transform(x_val.reshape(-1, x_val.shape[-1])).reshape(x_val.shape)\n",
        "#X_test = scaler.transform(x_test.reshape(-1, x_test.shape[-1])).reshape(x_test.shape)"
      ],
      "metadata": {
        "id": "zBs8Y2ZlWY_5"
      },
      "execution_count": 63,
      "outputs": []
    },
    {
      "cell_type": "code",
      "source": [
        "X_train = x_train\n",
        "X_val = x_val\n",
        "X_test = x_test"
      ],
      "metadata": {
        "id": "foaazvOhp4Bz"
      },
      "execution_count": 64,
      "outputs": []
    },
    {
      "cell_type": "code",
      "source": [
        "# x_train, x_val, and x_test shape check.\n",
        "print(np.shape(X_train))\n",
        "print(np.shape(X_val))\n",
        "print(np.shape(X_test))"
      ],
      "metadata": {
        "colab": {
          "base_uri": "https://localhost:8080/"
        },
        "id": "od-D1YgBOGXs",
        "outputId": "4b2b2b33-bf84-4747-ada7-f4ca7c327b42"
      },
      "execution_count": 65,
      "outputs": [
        {
          "output_type": "stream",
          "name": "stdout",
          "text": [
            "(940, 448, 13)\n",
            "(281, 448, 13)\n",
            "(123, 448, 13)\n"
          ]
        }
      ]
    },
    {
      "cell_type": "code",
      "source": [
        "# Save x_test, y_test to JSON.\n",
        "\n",
        "x_test_path = processed_path + 'x_test_data.json'\n",
        "dump(obj = X_test, fp = x_test_path)\n",
        "\n",
        "y_test_path = processed_path + 'y_test_data.json'\n",
        "dump(obj = y_test, fp = y_test_path)"
      ],
      "metadata": {
        "colab": {
          "base_uri": "https://localhost:8080/",
          "height": 105
        },
        "id": "nTExHJVsOHQ5",
        "outputId": "5c04b8a6-7a0f-4ad5-d7cd-6e584f9beb7a"
      },
      "execution_count": 66,
      "outputs": [
        {
          "output_type": "execute_result",
          "data": {
            "text/plain": [
              "'{\"__ndarray__\": [[6], [3], [5], [4], [0], [4], [5], [4], [3], [6], [3], [4], [0], [5], [3], [0], [5], [5], [2], [6], [6], [0], [0], [2], [5], [0], [5], [0], [4], [1], [3], [6], [6], [5], [4], [2], [5], [4], [4], [5], [6], [0], [1], [2], [1], [1], [6], [2], [6], [4], [5], [6], [1], [2], [5], [1], [1], [4], [4], [1], [6], [3], [4], [2], [2], [2], [4], [0], [3], [6], [5], [1], [2], [4], [3], [0], [3], [6], [2], [6], [0], [4], [1], [3], [6], [3], [6], [4], [3], [3], [2], [5], [4], [1], [0], [3], [2], [3], [1], [0], [2], [6], [5], [4], [4], [3], [3], [6], [4], [0], [3], [4], [6], [5], [3], [2], [3], [1], [6], [6], [1], [0], [6]], \"dtype\": \"int8\", \"shape\": [123, 1], \"Corder\": true}'"
            ],
            "application/vnd.google.colaboratory.intrinsic+json": {
              "type": "string"
            }
          },
          "metadata": {},
          "execution_count": 66
        }
      ]
    },
    {
      "cell_type": "code",
      "source": [
        "# Loading x_test, y_test json files, and converting to np.arrays\n",
        "\n",
        "X_test = load(processed_path + 'x_test_data.json')\n",
        "X_test = np.asarray(X_test).astype('float32')\n",
        "\n",
        "y_test = load(processed_path + 'y_test_data.json')\n",
        "y_test = np.asarray(y_test).astype('int8')\n",
        "\n",
        "y_test_class = tf.keras.utils.to_categorical(y_test, 7, dtype = 'int8')"
      ],
      "metadata": {
        "id": "kAFBRsmk5dzm"
      },
      "execution_count": 67,
      "outputs": []
    },
    {
      "cell_type": "code",
      "source": [
        "X.shape"
      ],
      "metadata": {
        "id": "15joCR4gu4r7",
        "colab": {
          "base_uri": "https://localhost:8080/"
        },
        "outputId": "4d33040e-bdd9-4eee-e021-ed77f828d4a7"
      },
      "execution_count": 68,
      "outputs": [
        {
          "output_type": "execute_result",
          "data": {
            "text/plain": [
              "(1344, 448, 13)"
            ]
          },
          "metadata": {},
          "execution_count": 68
        }
      ]
    },
    {
      "cell_type": "code",
      "source": [
        "X.shape[1:3]"
      ],
      "metadata": {
        "colab": {
          "base_uri": "https://localhost:8080/"
        },
        "id": "8MQhoPKjEzi4",
        "outputId": "f74f5b82-2b48-46f6-f77d-3a708b999c0c"
      },
      "execution_count": 69,
      "outputs": [
        {
          "output_type": "execute_result",
          "data": {
            "text/plain": [
              "(448, 13)"
            ]
          },
          "metadata": {},
          "execution_count": 69
        }
      ]
    },
    {
      "cell_type": "code",
      "source": [
        "X_train.shape"
      ],
      "metadata": {
        "colab": {
          "base_uri": "https://localhost:8080/"
        },
        "id": "LxZyszASamnQ",
        "outputId": "d8b9dd33-a707-48c2-e3d3-f154d4731c61"
      },
      "execution_count": 70,
      "outputs": [
        {
          "output_type": "execute_result",
          "data": {
            "text/plain": [
              "(940, 448, 13)"
            ]
          },
          "metadata": {},
          "execution_count": 70
        }
      ]
    },
    {
      "cell_type": "markdown",
      "source": [
        "# RNN Model"
      ],
      "metadata": {
        "id": "gnWVMbR6KixC"
      }
    },
    {
      "cell_type": "code",
      "source": [
        "tic"
      ],
      "metadata": {
        "colab": {
          "base_uri": "https://localhost:8080/"
        },
        "id": "7CHZWdfcN8oo",
        "outputId": "cb46cd6a-6a6d-4313-e2c1-60cf31eb7049"
      },
      "execution_count": 71,
      "outputs": [
        {
          "output_type": "execute_result",
          "data": {
            "text/plain": [
              "1128.716355991"
            ]
          },
          "metadata": {},
          "execution_count": 71
        }
      ]
    },
    {
      "cell_type": "markdown",
      "source": [
        "## Define Model & Training"
      ],
      "metadata": {
        "id": "GJjJYnJQORJ8"
      }
    },
    {
      "cell_type": "code",
      "source": [
        "# Initializing the model\n",
        "\n",
        "model = Sequential()\n",
        "model.add(layers.GRU(64, return_sequences = True, input_shape=(X.shape[1:3])))\n",
        "model.add(layers.GRU(64))\n",
        "model.add(Dropout(0.2))\n",
        "model.add(layers.Dense(7, activation = 'softmax'))\n",
        "print(model.summary())\n",
        "\n",
        "batch_size = 23\n",
        "\n",
        "# Callbacks functions\n",
        "\n",
        "#-> EearlyStopping\n",
        "es = EarlyStopping(monitor='val_loss', mode='min', verbose=1,\n",
        "                    patience=20, min_delta=0.0001)\n",
        "\n",
        "\n",
        "#-> Save the best weights\n",
        "mcp_save = callbacks.ModelCheckpoint(checkpoint_path, save_best_only=True,\n",
        "                           monitor='val_categorical_accuracy',\n",
        "                           mode='max')\n",
        "#-> Reduce learning rate after 100 epoches without improvement.\n",
        "rlrop = callbacks.ReduceLROnPlateau(monitor='val_categorical_accuracy', \n",
        "                                    factor=0.1, patience=20)\n",
        "                             \n",
        "# Compile & train   \n",
        "model.compile(loss='categorical_crossentropy', \n",
        "                optimizer='RMSProp', \n",
        "                metrics=['categorical_accuracy'])\n",
        "\n",
        "\n"
      ],
      "metadata": {
        "colab": {
          "base_uri": "https://localhost:8080/"
        },
        "id": "aD2adyVGOJs4",
        "outputId": "64d74c33-52e3-49f2-be85-83d9fa3eaa59"
      },
      "execution_count": 72,
      "outputs": [
        {
          "output_type": "stream",
          "name": "stdout",
          "text": [
            "Model: \"sequential_1\"\n",
            "_________________________________________________________________\n",
            " Layer (type)                Output Shape              Param #   \n",
            "=================================================================\n",
            " gru_2 (GRU)                 (None, 448, 64)           15168     \n",
            "                                                                 \n",
            " gru_3 (GRU)                 (None, 64)                24960     \n",
            "                                                                 \n",
            " dropout_1 (Dropout)         (None, 64)                0         \n",
            "                                                                 \n",
            " dense_1 (Dense)             (None, 7)                 455       \n",
            "                                                                 \n",
            "=================================================================\n",
            "Total params: 40,583\n",
            "Trainable params: 40,583\n",
            "Non-trainable params: 0\n",
            "_________________________________________________________________\n",
            "None\n"
          ]
        }
      ]
    },
    {
      "cell_type": "code",
      "source": [
        ""
      ],
      "metadata": {
        "id": "4DBF6kqx-OHZ"
      },
      "execution_count": 72,
      "outputs": []
    },
    {
      "cell_type": "code",
      "source": [
        "history = model.fit(X_train, y_train_class, \n",
        "                      epochs=340, batch_size = batch_size, \n",
        "                      validation_data = (X_val, y_val_class), \n",
        "                      callbacks = [es, mcp_save, rlrop])\n",
        "toc = time.perf_counter()"
      ],
      "metadata": {
        "colab": {
          "base_uri": "https://localhost:8080/"
        },
        "id": "Da7Gc9x_izth",
        "outputId": "f5cdac5e-ec5d-4e42-aedc-252d593799cd"
      },
      "execution_count": 73,
      "outputs": [
        {
          "output_type": "stream",
          "name": "stdout",
          "text": [
            "Epoch 1/340\n",
            "41/41 [==============================] - 19s 384ms/step - loss: 2.0176 - categorical_accuracy: 0.1500 - val_loss: 1.9183 - val_categorical_accuracy: 0.1779 - lr: 0.0010\n",
            "Epoch 2/340\n",
            "41/41 [==============================] - 15s 364ms/step - loss: 1.9566 - categorical_accuracy: 0.1862 - val_loss: 1.8319 - val_categorical_accuracy: 0.3238 - lr: 0.0010\n",
            "Epoch 3/340\n",
            "41/41 [==============================] - 15s 358ms/step - loss: 1.8590 - categorical_accuracy: 0.2351 - val_loss: 1.8246 - val_categorical_accuracy: 0.2527 - lr: 0.0010\n",
            "Epoch 4/340\n",
            "41/41 [==============================] - 15s 357ms/step - loss: 1.7828 - categorical_accuracy: 0.2809 - val_loss: 1.7466 - val_categorical_accuracy: 0.2811 - lr: 0.0010\n",
            "Epoch 5/340\n",
            "41/41 [==============================] - 15s 357ms/step - loss: 1.7384 - categorical_accuracy: 0.3117 - val_loss: 1.7311 - val_categorical_accuracy: 0.2633 - lr: 0.0010\n",
            "Epoch 6/340\n",
            "41/41 [==============================] - 15s 374ms/step - loss: 1.6861 - categorical_accuracy: 0.3457 - val_loss: 1.7029 - val_categorical_accuracy: 0.2954 - lr: 0.0010\n",
            "Epoch 7/340\n",
            "41/41 [==============================] - 15s 361ms/step - loss: 1.6538 - categorical_accuracy: 0.3606 - val_loss: 1.6242 - val_categorical_accuracy: 0.3488 - lr: 0.0010\n",
            "Epoch 8/340\n",
            "41/41 [==============================] - 15s 360ms/step - loss: 1.5825 - categorical_accuracy: 0.3862 - val_loss: 1.7329 - val_categorical_accuracy: 0.3238 - lr: 0.0010\n",
            "Epoch 9/340\n",
            "41/41 [==============================] - 15s 359ms/step - loss: 1.5805 - categorical_accuracy: 0.3798 - val_loss: 1.7763 - val_categorical_accuracy: 0.3345 - lr: 0.0010\n",
            "Epoch 10/340\n",
            "41/41 [==============================] - 15s 358ms/step - loss: 1.5497 - categorical_accuracy: 0.4011 - val_loss: 1.6747 - val_categorical_accuracy: 0.3381 - lr: 0.0010\n",
            "Epoch 11/340\n",
            "41/41 [==============================] - 15s 365ms/step - loss: 1.5504 - categorical_accuracy: 0.3915 - val_loss: 1.6079 - val_categorical_accuracy: 0.3559 - lr: 0.0010\n",
            "Epoch 12/340\n",
            "41/41 [==============================] - 15s 363ms/step - loss: 1.5326 - categorical_accuracy: 0.4053 - val_loss: 1.6397 - val_categorical_accuracy: 0.3737 - lr: 0.0010\n",
            "Epoch 13/340\n",
            "41/41 [==============================] - 15s 376ms/step - loss: 1.5253 - categorical_accuracy: 0.4074 - val_loss: 1.6382 - val_categorical_accuracy: 0.3630 - lr: 0.0010\n",
            "Epoch 14/340\n",
            "41/41 [==============================] - 15s 364ms/step - loss: 1.5114 - categorical_accuracy: 0.4191 - val_loss: 1.6336 - val_categorical_accuracy: 0.3808 - lr: 0.0010\n",
            "Epoch 15/340\n",
            "41/41 [==============================] - 15s 358ms/step - loss: 1.4846 - categorical_accuracy: 0.4117 - val_loss: 1.5884 - val_categorical_accuracy: 0.3808 - lr: 0.0010\n",
            "Epoch 16/340\n",
            "41/41 [==============================] - 15s 364ms/step - loss: 1.4731 - categorical_accuracy: 0.4426 - val_loss: 1.5971 - val_categorical_accuracy: 0.3843 - lr: 0.0010\n",
            "Epoch 17/340\n",
            "41/41 [==============================] - 15s 366ms/step - loss: 1.4720 - categorical_accuracy: 0.4309 - val_loss: 1.6360 - val_categorical_accuracy: 0.3879 - lr: 0.0010\n",
            "Epoch 18/340\n",
            "41/41 [==============================] - 15s 367ms/step - loss: 1.4404 - categorical_accuracy: 0.4532 - val_loss: 1.6400 - val_categorical_accuracy: 0.4164 - lr: 0.0010\n",
            "Epoch 19/340\n",
            "41/41 [==============================] - 15s 360ms/step - loss: 1.4461 - categorical_accuracy: 0.4415 - val_loss: 1.5730 - val_categorical_accuracy: 0.4093 - lr: 0.0010\n",
            "Epoch 20/340\n",
            "41/41 [==============================] - 15s 376ms/step - loss: 1.4348 - categorical_accuracy: 0.4585 - val_loss: 1.6128 - val_categorical_accuracy: 0.3701 - lr: 0.0010\n",
            "Epoch 21/340\n",
            "41/41 [==============================] - 15s 358ms/step - loss: 1.4148 - categorical_accuracy: 0.4532 - val_loss: 1.6650 - val_categorical_accuracy: 0.3701 - lr: 0.0010\n",
            "Epoch 22/340\n",
            "41/41 [==============================] - 15s 360ms/step - loss: 1.4100 - categorical_accuracy: 0.4628 - val_loss: 1.5607 - val_categorical_accuracy: 0.3915 - lr: 0.0010\n",
            "Epoch 23/340\n",
            "41/41 [==============================] - 15s 356ms/step - loss: 1.4130 - categorical_accuracy: 0.4723 - val_loss: 1.6004 - val_categorical_accuracy: 0.4128 - lr: 0.0010\n",
            "Epoch 24/340\n",
            "41/41 [==============================] - 15s 357ms/step - loss: 1.3976 - categorical_accuracy: 0.4691 - val_loss: 1.6748 - val_categorical_accuracy: 0.3950 - lr: 0.0010\n",
            "Epoch 25/340\n",
            "41/41 [==============================] - 15s 358ms/step - loss: 1.3793 - categorical_accuracy: 0.4777 - val_loss: 1.6029 - val_categorical_accuracy: 0.4164 - lr: 0.0010\n",
            "Epoch 26/340\n",
            "41/41 [==============================] - 15s 357ms/step - loss: 1.3853 - categorical_accuracy: 0.4670 - val_loss: 1.6725 - val_categorical_accuracy: 0.3808 - lr: 0.0010\n",
            "Epoch 27/340\n",
            "41/41 [==============================] - 15s 356ms/step - loss: 1.3584 - categorical_accuracy: 0.4862 - val_loss: 1.6742 - val_categorical_accuracy: 0.3452 - lr: 0.0010\n",
            "Epoch 28/340\n",
            "41/41 [==============================] - 15s 361ms/step - loss: 1.3583 - categorical_accuracy: 0.4755 - val_loss: 1.7327 - val_categorical_accuracy: 0.3701 - lr: 0.0010\n",
            "Epoch 29/340\n",
            "41/41 [==============================] - 15s 361ms/step - loss: 1.3502 - categorical_accuracy: 0.4660 - val_loss: 1.6294 - val_categorical_accuracy: 0.4021 - lr: 0.0010\n",
            "Epoch 30/340\n",
            "41/41 [==============================] - 15s 359ms/step - loss: 1.3385 - categorical_accuracy: 0.4830 - val_loss: 1.6076 - val_categorical_accuracy: 0.3915 - lr: 0.0010\n",
            "Epoch 31/340\n",
            "41/41 [==============================] - 15s 357ms/step - loss: 1.3205 - categorical_accuracy: 0.5011 - val_loss: 1.5638 - val_categorical_accuracy: 0.3772 - lr: 0.0010\n",
            "Epoch 32/340\n",
            "41/41 [==============================] - 15s 365ms/step - loss: 1.3190 - categorical_accuracy: 0.5064 - val_loss: 1.5374 - val_categorical_accuracy: 0.4342 - lr: 0.0010\n",
            "Epoch 33/340\n",
            "41/41 [==============================] - 15s 357ms/step - loss: 1.2810 - categorical_accuracy: 0.5202 - val_loss: 1.5614 - val_categorical_accuracy: 0.4128 - lr: 0.0010\n",
            "Epoch 34/340\n",
            "41/41 [==============================] - 15s 358ms/step - loss: 1.2540 - categorical_accuracy: 0.5245 - val_loss: 1.5712 - val_categorical_accuracy: 0.4093 - lr: 0.0010\n",
            "Epoch 35/340\n",
            "41/41 [==============================] - 15s 363ms/step - loss: 1.2334 - categorical_accuracy: 0.5287 - val_loss: 1.6161 - val_categorical_accuracy: 0.3665 - lr: 0.0010\n",
            "Epoch 36/340\n",
            "41/41 [==============================] - 20s 490ms/step - loss: 1.2586 - categorical_accuracy: 0.5213 - val_loss: 1.5387 - val_categorical_accuracy: 0.4057 - lr: 0.0010\n",
            "Epoch 37/340\n",
            "41/41 [==============================] - 15s 359ms/step - loss: 1.1988 - categorical_accuracy: 0.5543 - val_loss: 1.6320 - val_categorical_accuracy: 0.4199 - lr: 0.0010\n",
            "Epoch 38/340\n",
            "41/41 [==============================] - 21s 515ms/step - loss: 1.1773 - categorical_accuracy: 0.5574 - val_loss: 1.5084 - val_categorical_accuracy: 0.4306 - lr: 0.0010\n",
            "Epoch 39/340\n",
            "41/41 [==============================] - 15s 363ms/step - loss: 1.1775 - categorical_accuracy: 0.5702 - val_loss: 1.4989 - val_categorical_accuracy: 0.4520 - lr: 0.0010\n",
            "Epoch 40/340\n",
            "41/41 [==============================] - 15s 359ms/step - loss: 1.1429 - categorical_accuracy: 0.5702 - val_loss: 1.6639 - val_categorical_accuracy: 0.4235 - lr: 0.0010\n",
            "Epoch 41/340\n",
            "41/41 [==============================] - 15s 376ms/step - loss: 1.1463 - categorical_accuracy: 0.5755 - val_loss: 1.5057 - val_categorical_accuracy: 0.4413 - lr: 0.0010\n",
            "Epoch 42/340\n",
            "41/41 [==============================] - 15s 364ms/step - loss: 1.1202 - categorical_accuracy: 0.5702 - val_loss: 1.4329 - val_categorical_accuracy: 0.4947 - lr: 0.0010\n",
            "Epoch 43/340\n",
            "41/41 [==============================] - 15s 356ms/step - loss: 1.1123 - categorical_accuracy: 0.5798 - val_loss: 1.5844 - val_categorical_accuracy: 0.4235 - lr: 0.0010\n",
            "Epoch 44/340\n",
            "41/41 [==============================] - 15s 358ms/step - loss: 1.0817 - categorical_accuracy: 0.5915 - val_loss: 1.6401 - val_categorical_accuracy: 0.4448 - lr: 0.0010\n",
            "Epoch 45/340\n",
            "41/41 [==============================] - 15s 363ms/step - loss: 1.0663 - categorical_accuracy: 0.5755 - val_loss: 1.4477 - val_categorical_accuracy: 0.4982 - lr: 0.0010\n",
            "Epoch 46/340\n",
            "41/41 [==============================] - 15s 358ms/step - loss: 1.0239 - categorical_accuracy: 0.5894 - val_loss: 1.5769 - val_categorical_accuracy: 0.4093 - lr: 0.0010\n",
            "Epoch 47/340\n",
            "41/41 [==============================] - 15s 355ms/step - loss: 1.0560 - categorical_accuracy: 0.6191 - val_loss: 1.6619 - val_categorical_accuracy: 0.3986 - lr: 0.0010\n",
            "Epoch 48/340\n",
            "41/41 [==============================] - 15s 355ms/step - loss: 0.9987 - categorical_accuracy: 0.6255 - val_loss: 1.4669 - val_categorical_accuracy: 0.4769 - lr: 0.0010\n",
            "Epoch 49/340\n",
            "41/41 [==============================] - 15s 356ms/step - loss: 0.9998 - categorical_accuracy: 0.6298 - val_loss: 1.6096 - val_categorical_accuracy: 0.4235 - lr: 0.0010\n",
            "Epoch 50/340\n",
            "41/41 [==============================] - 15s 357ms/step - loss: 0.9700 - categorical_accuracy: 0.6362 - val_loss: 1.4768 - val_categorical_accuracy: 0.4591 - lr: 0.0010\n",
            "Epoch 51/340\n",
            "41/41 [==============================] - 15s 357ms/step - loss: 0.9648 - categorical_accuracy: 0.6479 - val_loss: 1.5417 - val_categorical_accuracy: 0.4128 - lr: 0.0010\n",
            "Epoch 52/340\n",
            "41/41 [==============================] - 15s 361ms/step - loss: 0.9642 - categorical_accuracy: 0.6319 - val_loss: 1.4617 - val_categorical_accuracy: 0.4698 - lr: 0.0010\n",
            "Epoch 53/340\n",
            "41/41 [==============================] - 15s 360ms/step - loss: 0.9252 - categorical_accuracy: 0.6564 - val_loss: 1.5101 - val_categorical_accuracy: 0.4591 - lr: 0.0010\n",
            "Epoch 54/340\n",
            "41/41 [==============================] - 15s 358ms/step - loss: 0.9293 - categorical_accuracy: 0.6628 - val_loss: 1.5974 - val_categorical_accuracy: 0.4377 - lr: 0.0010\n",
            "Epoch 55/340\n",
            "41/41 [==============================] - 15s 359ms/step - loss: 0.9247 - categorical_accuracy: 0.6553 - val_loss: 1.5187 - val_categorical_accuracy: 0.4733 - lr: 0.0010\n",
            "Epoch 56/340\n",
            "41/41 [==============================] - 15s 359ms/step - loss: 0.9184 - categorical_accuracy: 0.6638 - val_loss: 1.4810 - val_categorical_accuracy: 0.4982 - lr: 0.0010\n",
            "Epoch 57/340\n",
            "41/41 [==============================] - 15s 359ms/step - loss: 0.9029 - categorical_accuracy: 0.6596 - val_loss: 1.5501 - val_categorical_accuracy: 0.4840 - lr: 0.0010\n",
            "Epoch 58/340\n",
            "41/41 [==============================] - 15s 363ms/step - loss: 0.8643 - categorical_accuracy: 0.6638 - val_loss: 1.6473 - val_categorical_accuracy: 0.4804 - lr: 0.0010\n",
            "Epoch 59/340\n",
            "41/41 [==============================] - 15s 361ms/step - loss: 0.8994 - categorical_accuracy: 0.6851 - val_loss: 1.4291 - val_categorical_accuracy: 0.4698 - lr: 0.0010\n",
            "Epoch 60/340\n",
            "41/41 [==============================] - 15s 360ms/step - loss: 0.8475 - categorical_accuracy: 0.6649 - val_loss: 1.5663 - val_categorical_accuracy: 0.4626 - lr: 0.0010\n",
            "Epoch 61/340\n",
            "41/41 [==============================] - 15s 367ms/step - loss: 0.8690 - categorical_accuracy: 0.6723 - val_loss: 1.4224 - val_categorical_accuracy: 0.5018 - lr: 0.0010\n",
            "Epoch 62/340\n",
            "41/41 [==============================] - 15s 370ms/step - loss: 0.8160 - categorical_accuracy: 0.6989 - val_loss: 1.4393 - val_categorical_accuracy: 0.5018 - lr: 0.0010\n",
            "Epoch 63/340\n",
            "41/41 [==============================] - 19s 469ms/step - loss: 0.8063 - categorical_accuracy: 0.7074 - val_loss: 1.5225 - val_categorical_accuracy: 0.4626 - lr: 0.0010\n",
            "Epoch 64/340\n",
            "41/41 [==============================] - 15s 366ms/step - loss: 0.8085 - categorical_accuracy: 0.7160 - val_loss: 1.4683 - val_categorical_accuracy: 0.5089 - lr: 0.0010\n",
            "Epoch 65/340\n",
            "41/41 [==============================] - 15s 360ms/step - loss: 0.7756 - categorical_accuracy: 0.7287 - val_loss: 1.4792 - val_categorical_accuracy: 0.4947 - lr: 0.0010\n",
            "Epoch 66/340\n",
            "41/41 [==============================] - 15s 361ms/step - loss: 0.7911 - categorical_accuracy: 0.6862 - val_loss: 1.6566 - val_categorical_accuracy: 0.4520 - lr: 0.0010\n",
            "Epoch 67/340\n",
            "41/41 [==============================] - 15s 361ms/step - loss: 0.7415 - categorical_accuracy: 0.7298 - val_loss: 1.4458 - val_categorical_accuracy: 0.5053 - lr: 0.0010\n",
            "Epoch 68/340\n",
            "41/41 [==============================] - 15s 363ms/step - loss: 0.7714 - categorical_accuracy: 0.7170 - val_loss: 1.5489 - val_categorical_accuracy: 0.5018 - lr: 0.0010\n",
            "Epoch 69/340\n",
            "41/41 [==============================] - 15s 363ms/step - loss: 0.7214 - categorical_accuracy: 0.7138 - val_loss: 1.6308 - val_categorical_accuracy: 0.4733 - lr: 0.0010\n",
            "Epoch 70/340\n",
            "41/41 [==============================] - 16s 380ms/step - loss: 0.7530 - categorical_accuracy: 0.7245 - val_loss: 1.5427 - val_categorical_accuracy: 0.4804 - lr: 0.0010\n",
            "Epoch 71/340\n",
            "41/41 [==============================] - 15s 362ms/step - loss: 0.7175 - categorical_accuracy: 0.7309 - val_loss: 1.5603 - val_categorical_accuracy: 0.5018 - lr: 0.0010\n",
            "Epoch 72/340\n",
            "41/41 [==============================] - 15s 360ms/step - loss: 0.6794 - categorical_accuracy: 0.7436 - val_loss: 1.5306 - val_categorical_accuracy: 0.5089 - lr: 0.0010\n",
            "Epoch 73/340\n",
            "41/41 [==============================] - 15s 359ms/step - loss: 0.6746 - categorical_accuracy: 0.7404 - val_loss: 1.8432 - val_categorical_accuracy: 0.4448 - lr: 0.0010\n",
            "Epoch 74/340\n",
            "41/41 [==============================] - 15s 365ms/step - loss: 0.6463 - categorical_accuracy: 0.7500 - val_loss: 1.4850 - val_categorical_accuracy: 0.5374 - lr: 0.0010\n",
            "Epoch 75/340\n",
            "41/41 [==============================] - 15s 359ms/step - loss: 0.6736 - categorical_accuracy: 0.7404 - val_loss: 1.7184 - val_categorical_accuracy: 0.4840 - lr: 0.0010\n",
            "Epoch 76/340\n",
            "41/41 [==============================] - 15s 359ms/step - loss: 0.6371 - categorical_accuracy: 0.7734 - val_loss: 1.5023 - val_categorical_accuracy: 0.5160 - lr: 0.0010\n",
            "Epoch 77/340\n",
            "41/41 [==============================] - 15s 376ms/step - loss: 0.6042 - categorical_accuracy: 0.7766 - val_loss: 1.4948 - val_categorical_accuracy: 0.5160 - lr: 0.0010\n",
            "Epoch 78/340\n",
            "41/41 [==============================] - 15s 365ms/step - loss: 0.6461 - categorical_accuracy: 0.7532 - val_loss: 1.4150 - val_categorical_accuracy: 0.5836 - lr: 0.0010\n",
            "Epoch 79/340\n",
            "41/41 [==============================] - 15s 362ms/step - loss: 0.5487 - categorical_accuracy: 0.7798 - val_loss: 1.5468 - val_categorical_accuracy: 0.5302 - lr: 0.0010\n",
            "Epoch 80/340\n",
            "41/41 [==============================] - 15s 361ms/step - loss: 0.5886 - categorical_accuracy: 0.7840 - val_loss: 1.7002 - val_categorical_accuracy: 0.4448 - lr: 0.0010\n",
            "Epoch 81/340\n",
            "41/41 [==============================] - 15s 360ms/step - loss: 0.5735 - categorical_accuracy: 0.7989 - val_loss: 1.4846 - val_categorical_accuracy: 0.5409 - lr: 0.0010\n",
            "Epoch 82/340\n",
            "41/41 [==============================] - 15s 361ms/step - loss: 0.5673 - categorical_accuracy: 0.7894 - val_loss: 1.6928 - val_categorical_accuracy: 0.5053 - lr: 0.0010\n",
            "Epoch 83/340\n",
            "41/41 [==============================] - 15s 359ms/step - loss: 0.5397 - categorical_accuracy: 0.8021 - val_loss: 1.5129 - val_categorical_accuracy: 0.5125 - lr: 0.0010\n",
            "Epoch 84/340\n",
            "41/41 [==============================] - 15s 358ms/step - loss: 0.5401 - categorical_accuracy: 0.8106 - val_loss: 1.5123 - val_categorical_accuracy: 0.5302 - lr: 0.0010\n",
            "Epoch 85/340\n",
            "41/41 [==============================] - 15s 360ms/step - loss: 0.4867 - categorical_accuracy: 0.8383 - val_loss: 1.7509 - val_categorical_accuracy: 0.4662 - lr: 0.0010\n",
            "Epoch 86/340\n",
            "41/41 [==============================] - 15s 357ms/step - loss: 0.4914 - categorical_accuracy: 0.8149 - val_loss: 1.7093 - val_categorical_accuracy: 0.4555 - lr: 0.0010\n",
            "Epoch 87/340\n",
            "41/41 [==============================] - 15s 359ms/step - loss: 0.4696 - categorical_accuracy: 0.8351 - val_loss: 1.9221 - val_categorical_accuracy: 0.4733 - lr: 0.0010\n",
            "Epoch 88/340\n",
            "41/41 [==============================] - 15s 358ms/step - loss: 0.5214 - categorical_accuracy: 0.8181 - val_loss: 1.6673 - val_categorical_accuracy: 0.5409 - lr: 0.0010\n",
            "Epoch 89/340\n",
            "41/41 [==============================] - 15s 358ms/step - loss: 0.4710 - categorical_accuracy: 0.8330 - val_loss: 1.6020 - val_categorical_accuracy: 0.5089 - lr: 0.0010\n",
            "Epoch 90/340\n",
            "41/41 [==============================] - 15s 361ms/step - loss: 0.4569 - categorical_accuracy: 0.8287 - val_loss: 1.7043 - val_categorical_accuracy: 0.5231 - lr: 0.0010\n",
            "Epoch 91/340\n",
            "41/41 [==============================] - 15s 359ms/step - loss: 0.5096 - categorical_accuracy: 0.8117 - val_loss: 1.6387 - val_categorical_accuracy: 0.5196 - lr: 0.0010\n",
            "Epoch 92/340\n",
            "41/41 [==============================] - 15s 357ms/step - loss: 0.4080 - categorical_accuracy: 0.8564 - val_loss: 1.9215 - val_categorical_accuracy: 0.4769 - lr: 0.0010\n",
            "Epoch 93/340\n",
            "41/41 [==============================] - 15s 359ms/step - loss: 0.4284 - categorical_accuracy: 0.8404 - val_loss: 1.8830 - val_categorical_accuracy: 0.4698 - lr: 0.0010\n",
            "Epoch 94/340\n",
            "41/41 [==============================] - 15s 357ms/step - loss: 0.4135 - categorical_accuracy: 0.8500 - val_loss: 1.6545 - val_categorical_accuracy: 0.5267 - lr: 0.0010\n",
            "Epoch 95/340\n",
            "41/41 [==============================] - 15s 357ms/step - loss: 0.3763 - categorical_accuracy: 0.8691 - val_loss: 1.6310 - val_categorical_accuracy: 0.5267 - lr: 0.0010\n",
            "Epoch 96/340\n",
            "41/41 [==============================] - 15s 360ms/step - loss: 0.4197 - categorical_accuracy: 0.8691 - val_loss: 1.6571 - val_categorical_accuracy: 0.5231 - lr: 0.0010\n",
            "Epoch 97/340\n",
            "41/41 [==============================] - 15s 360ms/step - loss: 0.3889 - categorical_accuracy: 0.8596 - val_loss: 1.9102 - val_categorical_accuracy: 0.5125 - lr: 0.0010\n",
            "Epoch 98/340\n",
            "41/41 [==============================] - 15s 359ms/step - loss: 0.3687 - categorical_accuracy: 0.8745 - val_loss: 1.9641 - val_categorical_accuracy: 0.4947 - lr: 0.0010\n",
            "Epoch 98: early stopping\n"
          ]
        }
      ]
    },
    {
      "cell_type": "code",
      "source": [
        ""
      ],
      "metadata": {
        "id": "3MekXCZHizyZ"
      },
      "execution_count": 73,
      "outputs": []
    },
    {
      "cell_type": "code",
      "source": [
        "print(f\"Running time: {(toc - tic)/60:0.4f} minutes\")"
      ],
      "metadata": {
        "id": "cHmSBRhVOELJ",
        "colab": {
          "base_uri": "https://localhost:8080/"
        },
        "outputId": "c57112ba-82ec-458f-f940-a94107e5c619"
      },
      "execution_count": 74,
      "outputs": [
        {
          "output_type": "stream",
          "name": "stdout",
          "text": [
            "Running time: 25.1822 minutes\n"
          ]
        }
      ]
    },
    {
      "cell_type": "markdown",
      "source": [
        "## Loading Model"
      ],
      "metadata": {
        "id": "jCQelzMAKixD"
      }
    },
    {
      "cell_type": "code",
      "source": [
        "# Define the best weights to the model.\\\n",
        "#model.load_weights(checkpoint_path)"
      ],
      "metadata": {
        "id": "gruZAW2wI-tO"
      },
      "execution_count": 75,
      "outputs": []
    },
    {
      "cell_type": "markdown",
      "source": [
        "# Evaluation"
      ],
      "metadata": {
        "id": "kDxTjEK0KixD"
      }
    },
    {
      "cell_type": "markdown",
      "source": [
        "## Save & Load model, weights"
      ],
      "metadata": {
        "id": "1YfguG0tPatV"
      }
    },
    {
      "cell_type": "code",
      "source": [
        "# Saving model & weights\n",
        "model_json = model.to_json()\n",
        "\n",
        "\n",
        "\n",
        "with open(saved_model_path, \"w\") as json_file:\n",
        "    json_file.write(model_json)\n",
        "    \n",
        "model.save_weights(saved_weights_path)\n",
        "print(\"Saved model to disk\")"
      ],
      "metadata": {
        "colab": {
          "base_uri": "https://localhost:8080/"
        },
        "id": "MsVoNhqmgGsK",
        "outputId": "c007ae57-2b10-4be9-d598-849a58b779c1"
      },
      "execution_count": 76,
      "outputs": [
        {
          "output_type": "stream",
          "name": "stdout",
          "text": [
            "Saved model to disk\n"
          ]
        }
      ]
    },
    {
      "cell_type": "code",
      "source": [
        "# Reading the model from JSON file\n",
        "#model_path = Ravdess + \"/model/\"\n",
        "#saved_model_path = model_path + 'model8723.json'\n",
        "#saved_weights_path = model_path + 'model8723_weights.h5'\n",
        "\n",
        "\n",
        "with open(saved_model_path , 'r') as json_file:\n",
        "    json_savedModel = json_file.read()\n",
        "    \n",
        "# Loading the model architecture, weights\n",
        "model = tf.keras.models.model_from_json(json_savedModel)\n",
        "model.load_weights(saved_weights_path)\n",
        "\n",
        "# Compiling the model with similar parameters as the original model.\n",
        "model.compile(loss='categorical_crossentropy', \n",
        "                optimizer='RMSProp', \n",
        "                metrics=['categorical_accuracy'])\n",
        "\n",
        "# Model's structure visualization\n",
        "tf.keras.utils.plot_model(model, to_file='model.png', show_shapes=True, show_layer_names=True)"
      ],
      "metadata": {
        "colab": {
          "base_uri": "https://localhost:8080/",
          "height": 533
        },
        "id": "y4OJGhLmgfX6",
        "outputId": "04d869fc-ff92-4e59-894d-2bfc704c75e9"
      },
      "execution_count": 77,
      "outputs": [
        {
          "output_type": "execute_result",
          "data": {
            "text/plain": [
              "<IPython.core.display.Image object>"
            ],
            "image/png": "[encoded data removed]"
          },
          "metadata": {},
          "execution_count": 77
        }
      ]
    },
    {
      "cell_type": "code",
      "source": [
        ""
      ],
      "metadata": {
        "id": "B_SW6eUAgvEj"
      },
      "execution_count": 77,
      "outputs": []
    },
    {
      "cell_type": "code",
      "source": [
        ""
      ],
      "metadata": {
        "id": "cCfkUXTYgzSB"
      },
      "execution_count": 77,
      "outputs": []
    },
    {
      "cell_type": "code",
      "source": [
        "#model.save(saved_model_path_2)"
      ],
      "metadata": {
        "trusted": true,
        "id": "Z5Uzb_bGKixE"
      },
      "execution_count": 78,
      "outputs": []
    },
    {
      "cell_type": "markdown",
      "source": [
        "## Train (fit) Visualization"
      ],
      "metadata": {
        "id": "ATvBW0SPO-eq"
      }
    },
    {
      "cell_type": "code",
      "source": [
        "# Loss, Accuracy presentation\n",
        "\n",
        "# Plot history: Loss\n",
        "plt.plot(history.history['loss'], label='Loss (training data)')\n",
        "plt.plot(history.history['val_loss'], label='Loss (validation data)')\n",
        "plt.title('Loss for train and validation')\n",
        "plt.ylabel('Loss value')\n",
        "plt.xlabel('No. epoch')\n",
        "plt.legend(loc=\"upper left\")\n",
        "plt.show()\n",
        "\n",
        "#Plot history: Accuracy\n",
        "plt.plot(history.history['categorical_accuracy'], label='Acc (training data)')\n",
        "plt.plot(history.history['val_categorical_accuracy'], label='Acc (validation data)')\n",
        "plt.title('Model accuracy')\n",
        "plt.ylabel('Acc %')\n",
        "plt.xlabel('No. epoch')\n",
        "plt.legend(loc=\"upper left\")\n",
        "plt.show()"
      ],
      "metadata": {
        "colab": {
          "base_uri": "https://localhost:8080/",
          "height": 573
        },
        "id": "UjhUHhU_f4EY",
        "outputId": "039da134-375d-4e6d-bd3f-c57121c641d0"
      },
      "execution_count": 79,
      "outputs": [
        {
          "output_type": "display_data",
          "data": {
            "text/plain": [
              "<Figure size 432x288 with 1 Axes>"
            ],
            "image/png": "[encoded data removed]"
          },
          "metadata": {
            "needs_background": "light"
          }
        },
        {
          "output_type": "display_data",
          "data": {
            "text/plain": [
              "<Figure size 432x288 with 1 Axes>"
            ],
            "image/png": "[encoded data removed]"
          },
          "metadata": {
            "needs_background": "light"
          }
        }
      ]
    },
    {
      "cell_type": "markdown",
      "source": [
        "## Validation Set Evaluation"
      ],
      "metadata": {
        "id": "UZ3lFduxPQeB"
      }
    },
    {
      "cell_type": "markdown",
      "source": [
        "### Val Set Score"
      ],
      "metadata": {
        "id": "5YoYCa22PMGz"
      }
    },
    {
      "cell_type": "code",
      "source": [
        ""
      ],
      "metadata": {
        "id": "jQavrzbB_8fy"
      },
      "execution_count": 79,
      "outputs": []
    },
    {
      "cell_type": "code",
      "source": [
        "# Validation score\n",
        "loss,acc = model.evaluate(X_val, y_val_class, verbose=2)\n"
      ],
      "metadata": {
        "id": "X_KdTUyrf7-j",
        "colab": {
          "base_uri": "https://localhost:8080/"
        },
        "outputId": "02c368a6-2034-464d-b283-ffbab0af56b8"
      },
      "execution_count": 80,
      "outputs": [
        {
          "output_type": "stream",
          "name": "stdout",
          "text": [
            "9/9 - 2s - loss: 1.9641 - categorical_accuracy: 0.4947 - 2s/epoch - 220ms/step\n"
          ]
        }
      ]
    },
    {
      "cell_type": "code",
      "source": [
        ""
      ],
      "metadata": {
        "id": "09k_I9DM_2Q0"
      },
      "execution_count": 80,
      "outputs": []
    },
    {
      "cell_type": "markdown",
      "source": [
        "### Construct Predicted Labels based on Probability of each class"
      ],
      "metadata": {
        "id": "hz7nc15A_3hb"
      }
    },
    {
      "cell_type": "code",
      "source": [
        "y_val_class"
      ],
      "metadata": {
        "colab": {
          "base_uri": "https://localhost:8080/"
        },
        "id": "CFM1P2SZ_85N",
        "outputId": "f9ac2022-fe01-4200-c2a3-1654cd5b67fc"
      },
      "execution_count": 81,
      "outputs": [
        {
          "output_type": "execute_result",
          "data": {
            "text/plain": [
              "array([[0, 0, 0, ..., 0, 0, 1],\n",
              "       [0, 1, 0, ..., 0, 0, 0],\n",
              "       [0, 0, 0, ..., 0, 1, 0],\n",
              "       ...,\n",
              "       [0, 0, 0, ..., 0, 0, 1],\n",
              "       [0, 0, 0, ..., 0, 0, 1],\n",
              "       [0, 0, 1, ..., 0, 0, 0]], dtype=int8)"
            ]
          },
          "metadata": {},
          "execution_count": 81
        }
      ]
    },
    {
      "cell_type": "code",
      "source": [
        "np.argmax(y_val_class, axis=1)"
      ],
      "metadata": {
        "colab": {
          "base_uri": "https://localhost:8080/"
        },
        "id": "C9UHSeXbAASy",
        "outputId": "5b4b3592-e1b3-4e37-a4f9-253ad857d496"
      },
      "execution_count": 82,
      "outputs": [
        {
          "output_type": "execute_result",
          "data": {
            "text/plain": [
              "array([6, 1, 5, 3, 5, 5, 2, 5, 0, 4, 5, 1, 5, 5, 2, 1, 0, 1, 4, 5, 3, 6,\n",
              "       0, 2, 2, 4, 6, 5, 1, 4, 0, 5, 2, 3, 1, 6, 5, 2, 1, 0, 3, 4, 0, 5,\n",
              "       3, 3, 0, 6, 4, 6, 0, 3, 3, 3, 4, 5, 3, 2, 3, 6, 1, 0, 3, 2, 4, 4,\n",
              "       6, 2, 4, 0, 5, 5, 1, 2, 0, 5, 5, 3, 4, 6, 4, 2, 2, 3, 6, 0, 0, 3,\n",
              "       2, 5, 1, 4, 1, 0, 6, 3, 6, 1, 2, 6, 6, 2, 0, 5, 1, 5, 4, 0, 5, 2,\n",
              "       0, 5, 0, 6, 2, 3, 3, 2, 2, 2, 0, 1, 5, 2, 5, 3, 2, 0, 3, 3, 3, 2,\n",
              "       0, 3, 0, 6, 3, 3, 3, 1, 0, 3, 6, 5, 6, 4, 0, 2, 6, 2, 1, 1, 4, 6,\n",
              "       0, 2, 1, 1, 3, 0, 6, 6, 2, 0, 1, 5, 5, 4, 5, 5, 0, 2, 4, 4, 6, 4,\n",
              "       3, 6, 2, 3, 2, 3, 0, 1, 0, 3, 1, 5, 2, 1, 6, 0, 4, 1, 6, 2, 0, 0,\n",
              "       6, 0, 0, 2, 5, 5, 1, 2, 3, 2, 2, 2, 4, 3, 5, 3, 1, 0, 2, 0, 2, 4,\n",
              "       6, 1, 0, 6, 5, 6, 4, 0, 0, 4, 5, 3, 2, 6, 2, 6, 3, 5, 3, 1, 5, 6,\n",
              "       5, 1, 2, 1, 6, 0, 5, 3, 2, 1, 6, 3, 0, 1, 3, 6, 3, 2, 2, 4, 6, 4,\n",
              "       3, 2, 2, 5, 5, 4, 1, 3, 6, 5, 3, 0, 3, 4, 6, 6, 2])"
            ]
          },
          "metadata": {},
          "execution_count": 82
        }
      ]
    },
    {
      "cell_type": "code",
      "source": [
        "y_val_class = np.argmax(y_val_class, axis=1)\n",
        "predictions_val = model.predict(X_val)\n",
        "y_proba_val_class = predictions_val\n",
        "y_pred_val_class = np.argmax(predictions_val, axis=1)"
      ],
      "metadata": {
        "id": "urjydD-38JK7"
      },
      "execution_count": 83,
      "outputs": []
    },
    {
      "cell_type": "code",
      "source": [
        "predictions_val\n"
      ],
      "metadata": {
        "colab": {
          "base_uri": "https://localhost:8080/"
        },
        "id": "Zb7dGRs3AEJn",
        "outputId": "e0161086-d4b0-4a83-8efc-8cc1bb5d9a88"
      },
      "execution_count": 84,
      "outputs": [
        {
          "output_type": "execute_result",
          "data": {
            "text/plain": [
              "array([[4.7505284e-03, 1.5248845e-03, 4.9603056e-02, ..., 4.1387269e-01,\n",
              "        2.5284696e-02, 5.0341421e-01],\n",
              "       [2.0769166e-02, 6.7676574e-02, 6.3195527e-02, ..., 8.0920738e-01,\n",
              "        1.0614749e-02, 2.8354695e-02],\n",
              "       [9.8345822e-07, 8.9996702e-06, 6.2608550e-04, ..., 5.6992933e-05,\n",
              "        9.9834454e-01, 2.3856328e-04],\n",
              "       ...,\n",
              "       [1.8141029e-04, 5.4771284e-04, 3.8538326e-04, ..., 2.4316171e-02,\n",
              "        1.1253837e-02, 9.6274823e-01],\n",
              "       [4.3267442e-04, 6.1980295e-01, 9.9945012e-03, ..., 3.6118874e-01,\n",
              "        1.6933363e-03, 5.9984163e-03],\n",
              "       [8.8131028e-06, 3.0694637e-02, 8.9714837e-01, ..., 2.2356847e-02,\n",
              "        3.2297038e-02, 1.1039590e-03]], dtype=float32)"
            ]
          },
          "metadata": {},
          "execution_count": 84
        }
      ]
    },
    {
      "cell_type": "code",
      "source": [
        "y_pred_val_class "
      ],
      "metadata": {
        "colab": {
          "base_uri": "https://localhost:8080/"
        },
        "id": "KxHa1Ss1AJo4",
        "outputId": "d488d0dd-8b07-41cf-907d-a10ef334d64a"
      },
      "execution_count": 85,
      "outputs": [
        {
          "output_type": "execute_result",
          "data": {
            "text/plain": [
              "array([6, 4, 5, 5, 5, 4, 6, 5, 1, 4, 3, 4, 5, 2, 6, 6, 0, 1, 4, 3, 3, 2,\n",
              "       0, 0, 1, 4, 3, 5, 1, 6, 0, 4, 4, 3, 3, 6, 5, 6, 4, 2, 5, 2, 5, 3,\n",
              "       3, 3, 0, 3, 4, 1, 4, 3, 3, 3, 2, 5, 5, 6, 3, 6, 4, 0, 3, 0, 6, 0,\n",
              "       2, 6, 4, 0, 5, 2, 2, 2, 6, 5, 5, 3, 6, 4, 6, 2, 0, 3, 6, 0, 2, 4,\n",
              "       4, 5, 4, 6, 4, 0, 1, 5, 6, 4, 4, 2, 2, 1, 0, 5, 3, 6, 4, 0, 5, 4,\n",
              "       6, 2, 2, 0, 6, 3, 3, 4, 2, 5, 2, 1, 5, 5, 5, 3, 2, 0, 5, 3, 5, 5,\n",
              "       0, 3, 0, 4, 5, 3, 3, 5, 0, 3, 6, 0, 1, 4, 5, 5, 6, 5, 1, 5, 4, 6,\n",
              "       2, 2, 1, 5, 3, 6, 2, 6, 2, 0, 2, 5, 2, 4, 5, 5, 1, 4, 4, 5, 4, 5,\n",
              "       3, 6, 2, 4, 0, 5, 4, 0, 0, 5, 4, 4, 2, 4, 1, 0, 4, 6, 6, 0, 0, 3,\n",
              "       6, 0, 6, 0, 5, 5, 6, 6, 5, 2, 5, 5, 4, 4, 5, 3, 0, 0, 4, 0, 2, 4,\n",
              "       4, 0, 0, 6, 5, 6, 4, 0, 4, 4, 5, 4, 4, 6, 0, 6, 3, 5, 3, 1, 5, 4,\n",
              "       6, 4, 6, 4, 6, 0, 5, 3, 2, 6, 6, 4, 0, 2, 4, 4, 3, 4, 2, 6, 6, 4,\n",
              "       5, 2, 5, 0, 5, 4, 0, 5, 5, 5, 3, 0, 4, 4, 6, 1, 2])"
            ]
          },
          "metadata": {},
          "execution_count": 85
        }
      ]
    },
    {
      "cell_type": "markdown",
      "source": [
        "### Val Set Confusion Matrix and Heatmap"
      ],
      "metadata": {
        "id": "d2ullxf9PUMd"
      }
    },
    {
      "cell_type": "code",
      "source": [
        "# Validation Confusion matrix\n",
        "cm=confusion_matrix(y_val_class, y_pred_val_class)\n",
        "\n",
        "index = ['calm', 'happy', 'sad', 'angry', 'fearful', 'disgust', 'surprised']  \n",
        "columns = ['calm', 'happy', 'sad', 'angry', 'fearful', 'disgust', 'surprised']  \n",
        " \n",
        "cm_df = pd.DataFrame(cm,index,columns)                      \n",
        "plt.figure(figsize=(12,8))\n",
        "ax = plt.axes()\n",
        "\n",
        "sns.heatmap(cm_df, ax = ax, cmap = 'PuBu', fmt=\"d\", annot=True)\n",
        "ax.set_ylabel('True emotion')\n",
        "ax.set_xlabel('Predicted emotion')"
      ],
      "metadata": {
        "colab": {
          "base_uri": "https://localhost:8080/",
          "height": 514
        },
        "id": "doLcg3CTf9bx",
        "outputId": "da9ba84e-5e97-4065-cf83-d1b3fa5a5a72"
      },
      "execution_count": 86,
      "outputs": [
        {
          "output_type": "execute_result",
          "data": {
            "text/plain": [
              "Text(0.5, 51.0, 'Predicted emotion')"
            ]
          },
          "metadata": {},
          "execution_count": 86
        },
        {
          "output_type": "display_data",
          "data": {
            "text/plain": [
              "<Figure size 864x576 with 2 Axes>"
            ],
            "image/png": "[encoded data removed]"
          },
          "metadata": {
            "needs_background": "light"
          }
        }
      ]
    },
    {
      "cell_type": "code",
      "source": [
        "# Confusion Matrix\n",
        "cm"
      ],
      "metadata": {
        "colab": {
          "base_uri": "https://localhost:8080/"
        },
        "id": "hIEG9Pia8Nfp",
        "outputId": "e54403c4-dd1d-48b2-a883-c72e48fd92ef"
      },
      "execution_count": 87,
      "outputs": [
        {
          "output_type": "execute_result",
          "data": {
            "text/plain": [
              "array([[26,  2,  5,  1,  3,  2,  4],\n",
              "       [ 4,  6,  3,  2, 11,  3,  4],\n",
              "       [ 7,  2, 14,  0,  9,  8,  8],\n",
              "       [ 0,  0,  0, 27,  7, 12,  0],\n",
              "       [ 1,  0,  2,  0, 18,  2,  6],\n",
              "       [ 2,  0,  4,  3,  3, 28,  2],\n",
              "       [ 1,  5,  5,  2,  6,  1, 20]])"
            ]
          },
          "metadata": {},
          "execution_count": 87
        }
      ]
    },
    {
      "cell_type": "markdown",
      "source": [
        "### Validation Set Predicted emotions accuracy"
      ],
      "metadata": {
        "id": "kWjKgUdRPYH5"
      }
    },
    {
      "cell_type": "code",
      "source": [
        "# Validation set prediction accuracy rates\n",
        "\n",
        "values = cm.diagonal()\n",
        "row_sum = np.sum(cm,axis=1)\n",
        "acc = values / row_sum\n",
        "\n",
        "print('Validation set predicted emotions accuracy:')\n",
        "for e in range(0, len(values)):\n",
        "    print(index[e],':', f\"{(acc[e]):0.4f}\")"
      ],
      "metadata": {
        "colab": {
          "base_uri": "https://localhost:8080/"
        },
        "id": "MopdywY9f-mS",
        "outputId": "1b78b629-db78-4db0-9ca6-655b37541eca"
      },
      "execution_count": 88,
      "outputs": [
        {
          "output_type": "stream",
          "name": "stdout",
          "text": [
            "Validation set predicted emotions accuracy:\n",
            "calm : 0.6047\n",
            "happy : 0.1818\n",
            "sad : 0.2917\n",
            "angry : 0.5870\n",
            "fearful : 0.6207\n",
            "disgust : 0.6667\n",
            "surprised : 0.5000\n"
          ]
        }
      ]
    },
    {
      "cell_type": "markdown",
      "source": [
        "### Precision, Recal, Fscore"
      ],
      "metadata": {
        "id": "DGSTy2228XRH"
      }
    },
    {
      "cell_type": "code",
      "source": [
        "# Validation set precision, recall, fscore\n",
        "\n",
        "precision_recall_fscore_support(y_val_class, y_pred_val_class, average='macro')\n"
      ],
      "metadata": {
        "colab": {
          "base_uri": "https://localhost:8080/"
        },
        "id": "rOwUkCG0gGpm",
        "outputId": "703340c8-54d6-4784-913d-3f7f73a7a491"
      },
      "execution_count": 89,
      "outputs": [
        {
          "output_type": "execute_result",
          "data": {
            "text/plain": [
              "(0.5000217521948679, 0.49320697926482243, 0.478230999548829, None)"
            ]
          },
          "metadata": {},
          "execution_count": 89
        }
      ]
    },
    {
      "cell_type": "code",
      "source": [
        "precision_recall_fscore_support(y_val_class, y_pred_val_class, average='weighted')"
      ],
      "metadata": {
        "colab": {
          "base_uri": "https://localhost:8080/"
        },
        "id": "OorFgXxDzy3o",
        "outputId": "3947de65-cfcf-4d02-d792-7648de8ba491"
      },
      "execution_count": 90,
      "outputs": [
        {
          "output_type": "execute_result",
          "data": {
            "text/plain": [
              "(0.5147948621029814, 0.49466192170818507, 0.4886671203190279, None)"
            ]
          },
          "metadata": {},
          "execution_count": 90
        }
      ]
    },
    {
      "cell_type": "markdown",
      "source": [
        "## Test Set Evaluation"
      ],
      "metadata": {
        "id": "FiCwOjmPPgCn"
      }
    },
    {
      "cell_type": "markdown",
      "source": [
        "### Test Set Score\n",
        "\n"
      ],
      "metadata": {
        "id": "CWB7U5xDUSmF"
      }
    },
    {
      "cell_type": "code",
      "source": [
        "loss, acc = model.evaluate(X_test, y_test_class, verbose=2)"
      ],
      "metadata": {
        "id": "Y7NEHPM-gzml",
        "colab": {
          "base_uri": "https://localhost:8080/"
        },
        "outputId": "f070ed85-0fef-4950-b211-11fe11657165"
      },
      "execution_count": 91,
      "outputs": [
        {
          "output_type": "stream",
          "name": "stdout",
          "text": [
            "4/4 - 0s - loss: 1.9127 - categorical_accuracy: 0.5366 - 312ms/epoch - 78ms/step\n"
          ]
        }
      ]
    },
    {
      "cell_type": "markdown",
      "source": [
        "### Construct Predicted Labels based on Probability of each class"
      ],
      "metadata": {
        "id": "gPwcFV9oAhGh"
      }
    },
    {
      "cell_type": "code",
      "source": [
        "y_test_class"
      ],
      "metadata": {
        "colab": {
          "base_uri": "https://localhost:8080/"
        },
        "id": "tjN7Eit7AiML",
        "outputId": "ba655bff-0890-4c58-8ebd-a6d9fc76bcdf"
      },
      "execution_count": 92,
      "outputs": [
        {
          "output_type": "execute_result",
          "data": {
            "text/plain": [
              "array([[0, 0, 0, 0, 0, 0, 1],\n",
              "       [0, 0, 0, 1, 0, 0, 0],\n",
              "       [0, 0, 0, 0, 0, 1, 0],\n",
              "       [0, 0, 0, 0, 1, 0, 0],\n",
              "       [1, 0, 0, 0, 0, 0, 0],\n",
              "       [0, 0, 0, 0, 1, 0, 0],\n",
              "       [0, 0, 0, 0, 0, 1, 0],\n",
              "       [0, 0, 0, 0, 1, 0, 0],\n",
              "       [0, 0, 0, 1, 0, 0, 0],\n",
              "       [0, 0, 0, 0, 0, 0, 1],\n",
              "       [0, 0, 0, 1, 0, 0, 0],\n",
              "       [0, 0, 0, 0, 1, 0, 0],\n",
              "       [1, 0, 0, 0, 0, 0, 0],\n",
              "       [0, 0, 0, 0, 0, 1, 0],\n",
              "       [0, 0, 0, 1, 0, 0, 0],\n",
              "       [1, 0, 0, 0, 0, 0, 0],\n",
              "       [0, 0, 0, 0, 0, 1, 0],\n",
              "       [0, 0, 0, 0, 0, 1, 0],\n",
              "       [0, 0, 1, 0, 0, 0, 0],\n",
              "       [0, 0, 0, 0, 0, 0, 1],\n",
              "       [0, 0, 0, 0, 0, 0, 1],\n",
              "       [1, 0, 0, 0, 0, 0, 0],\n",
              "       [1, 0, 0, 0, 0, 0, 0],\n",
              "       [0, 0, 1, 0, 0, 0, 0],\n",
              "       [0, 0, 0, 0, 0, 1, 0],\n",
              "       [1, 0, 0, 0, 0, 0, 0],\n",
              "       [0, 0, 0, 0, 0, 1, 0],\n",
              "       [1, 0, 0, 0, 0, 0, 0],\n",
              "       [0, 0, 0, 0, 1, 0, 0],\n",
              "       [0, 1, 0, 0, 0, 0, 0],\n",
              "       [0, 0, 0, 1, 0, 0, 0],\n",
              "       [0, 0, 0, 0, 0, 0, 1],\n",
              "       [0, 0, 0, 0, 0, 0, 1],\n",
              "       [0, 0, 0, 0, 0, 1, 0],\n",
              "       [0, 0, 0, 0, 1, 0, 0],\n",
              "       [0, 0, 1, 0, 0, 0, 0],\n",
              "       [0, 0, 0, 0, 0, 1, 0],\n",
              "       [0, 0, 0, 0, 1, 0, 0],\n",
              "       [0, 0, 0, 0, 1, 0, 0],\n",
              "       [0, 0, 0, 0, 0, 1, 0],\n",
              "       [0, 0, 0, 0, 0, 0, 1],\n",
              "       [1, 0, 0, 0, 0, 0, 0],\n",
              "       [0, 1, 0, 0, 0, 0, 0],\n",
              "       [0, 0, 1, 0, 0, 0, 0],\n",
              "       [0, 1, 0, 0, 0, 0, 0],\n",
              "       [0, 1, 0, 0, 0, 0, 0],\n",
              "       [0, 0, 0, 0, 0, 0, 1],\n",
              "       [0, 0, 1, 0, 0, 0, 0],\n",
              "       [0, 0, 0, 0, 0, 0, 1],\n",
              "       [0, 0, 0, 0, 1, 0, 0],\n",
              "       [0, 0, 0, 0, 0, 1, 0],\n",
              "       [0, 0, 0, 0, 0, 0, 1],\n",
              "       [0, 1, 0, 0, 0, 0, 0],\n",
              "       [0, 0, 1, 0, 0, 0, 0],\n",
              "       [0, 0, 0, 0, 0, 1, 0],\n",
              "       [0, 1, 0, 0, 0, 0, 0],\n",
              "       [0, 1, 0, 0, 0, 0, 0],\n",
              "       [0, 0, 0, 0, 1, 0, 0],\n",
              "       [0, 0, 0, 0, 1, 0, 0],\n",
              "       [0, 1, 0, 0, 0, 0, 0],\n",
              "       [0, 0, 0, 0, 0, 0, 1],\n",
              "       [0, 0, 0, 1, 0, 0, 0],\n",
              "       [0, 0, 0, 0, 1, 0, 0],\n",
              "       [0, 0, 1, 0, 0, 0, 0],\n",
              "       [0, 0, 1, 0, 0, 0, 0],\n",
              "       [0, 0, 1, 0, 0, 0, 0],\n",
              "       [0, 0, 0, 0, 1, 0, 0],\n",
              "       [1, 0, 0, 0, 0, 0, 0],\n",
              "       [0, 0, 0, 1, 0, 0, 0],\n",
              "       [0, 0, 0, 0, 0, 0, 1],\n",
              "       [0, 0, 0, 0, 0, 1, 0],\n",
              "       [0, 1, 0, 0, 0, 0, 0],\n",
              "       [0, 0, 1, 0, 0, 0, 0],\n",
              "       [0, 0, 0, 0, 1, 0, 0],\n",
              "       [0, 0, 0, 1, 0, 0, 0],\n",
              "       [1, 0, 0, 0, 0, 0, 0],\n",
              "       [0, 0, 0, 1, 0, 0, 0],\n",
              "       [0, 0, 0, 0, 0, 0, 1],\n",
              "       [0, 0, 1, 0, 0, 0, 0],\n",
              "       [0, 0, 0, 0, 0, 0, 1],\n",
              "       [1, 0, 0, 0, 0, 0, 0],\n",
              "       [0, 0, 0, 0, 1, 0, 0],\n",
              "       [0, 1, 0, 0, 0, 0, 0],\n",
              "       [0, 0, 0, 1, 0, 0, 0],\n",
              "       [0, 0, 0, 0, 0, 0, 1],\n",
              "       [0, 0, 0, 1, 0, 0, 0],\n",
              "       [0, 0, 0, 0, 0, 0, 1],\n",
              "       [0, 0, 0, 0, 1, 0, 0],\n",
              "       [0, 0, 0, 1, 0, 0, 0],\n",
              "       [0, 0, 0, 1, 0, 0, 0],\n",
              "       [0, 0, 1, 0, 0, 0, 0],\n",
              "       [0, 0, 0, 0, 0, 1, 0],\n",
              "       [0, 0, 0, 0, 1, 0, 0],\n",
              "       [0, 1, 0, 0, 0, 0, 0],\n",
              "       [1, 0, 0, 0, 0, 0, 0],\n",
              "       [0, 0, 0, 1, 0, 0, 0],\n",
              "       [0, 0, 1, 0, 0, 0, 0],\n",
              "       [0, 0, 0, 1, 0, 0, 0],\n",
              "       [0, 1, 0, 0, 0, 0, 0],\n",
              "       [1, 0, 0, 0, 0, 0, 0],\n",
              "       [0, 0, 1, 0, 0, 0, 0],\n",
              "       [0, 0, 0, 0, 0, 0, 1],\n",
              "       [0, 0, 0, 0, 0, 1, 0],\n",
              "       [0, 0, 0, 0, 1, 0, 0],\n",
              "       [0, 0, 0, 0, 1, 0, 0],\n",
              "       [0, 0, 0, 1, 0, 0, 0],\n",
              "       [0, 0, 0, 1, 0, 0, 0],\n",
              "       [0, 0, 0, 0, 0, 0, 1],\n",
              "       [0, 0, 0, 0, 1, 0, 0],\n",
              "       [1, 0, 0, 0, 0, 0, 0],\n",
              "       [0, 0, 0, 1, 0, 0, 0],\n",
              "       [0, 0, 0, 0, 1, 0, 0],\n",
              "       [0, 0, 0, 0, 0, 0, 1],\n",
              "       [0, 0, 0, 0, 0, 1, 0],\n",
              "       [0, 0, 0, 1, 0, 0, 0],\n",
              "       [0, 0, 1, 0, 0, 0, 0],\n",
              "       [0, 0, 0, 1, 0, 0, 0],\n",
              "       [0, 1, 0, 0, 0, 0, 0],\n",
              "       [0, 0, 0, 0, 0, 0, 1],\n",
              "       [0, 0, 0, 0, 0, 0, 1],\n",
              "       [0, 1, 0, 0, 0, 0, 0],\n",
              "       [1, 0, 0, 0, 0, 0, 0],\n",
              "       [0, 0, 0, 0, 0, 0, 1]], dtype=int8)"
            ]
          },
          "metadata": {},
          "execution_count": 92
        }
      ]
    },
    {
      "cell_type": "code",
      "source": [
        " np.argmax(y_test_class, axis=1)"
      ],
      "metadata": {
        "colab": {
          "base_uri": "https://localhost:8080/"
        },
        "id": "2fcK-_HzAmc5",
        "outputId": "326d5e25-ae4c-44db-a3a9-2b50006b6ca6"
      },
      "execution_count": 93,
      "outputs": [
        {
          "output_type": "execute_result",
          "data": {
            "text/plain": [
              "array([6, 3, 5, 4, 0, 4, 5, 4, 3, 6, 3, 4, 0, 5, 3, 0, 5, 5, 2, 6, 6, 0,\n",
              "       0, 2, 5, 0, 5, 0, 4, 1, 3, 6, 6, 5, 4, 2, 5, 4, 4, 5, 6, 0, 1, 2,\n",
              "       1, 1, 6, 2, 6, 4, 5, 6, 1, 2, 5, 1, 1, 4, 4, 1, 6, 3, 4, 2, 2, 2,\n",
              "       4, 0, 3, 6, 5, 1, 2, 4, 3, 0, 3, 6, 2, 6, 0, 4, 1, 3, 6, 3, 6, 4,\n",
              "       3, 3, 2, 5, 4, 1, 0, 3, 2, 3, 1, 0, 2, 6, 5, 4, 4, 3, 3, 6, 4, 0,\n",
              "       3, 4, 6, 5, 3, 2, 3, 1, 6, 6, 1, 0, 6])"
            ]
          },
          "metadata": {},
          "execution_count": 93
        }
      ]
    },
    {
      "cell_type": "code",
      "source": [
        "y_test_class = np.argmax(y_test_class, axis=1)\n",
        "predictions_test = model.predict(X_test)\n",
        "y_pred_test_class = np.argmax(predictions_test, axis=1)\n",
        "y_proba_test_class = predictions_test\n",
        "\n"
      ],
      "metadata": {
        "id": "uyXvoU2rAckI"
      },
      "execution_count": 94,
      "outputs": []
    },
    {
      "cell_type": "code",
      "source": [
        "predictions_test"
      ],
      "metadata": {
        "colab": {
          "base_uri": "https://localhost:8080/"
        },
        "id": "3BAOUaPwAtuY",
        "outputId": "4d8dd98d-1b78-4a96-b5c3-e1dec4550b19"
      },
      "execution_count": 95,
      "outputs": [
        {
          "output_type": "execute_result",
          "data": {
            "text/plain": [
              "array([[3.65810047e-05, 6.90736691e-04, 2.59070862e-02, 1.73038989e-01,\n",
              "        1.82257295e-02, 7.65213788e-01, 1.68869868e-02],\n",
              "       [3.47259738e-05, 1.35605857e-02, 3.84774767e-02, 3.71249348e-01,\n",
              "        5.33620179e-01, 4.16508503e-02, 1.40691246e-03],\n",
              "       [1.07257947e-05, 5.70995107e-05, 3.16522783e-03, 6.36984259e-02,\n",
              "        1.55575777e-04, 9.22288954e-01, 1.06240232e-02],\n",
              "       [5.30755206e-05, 2.76683085e-03, 1.46182103e-03, 1.39016163e-04,\n",
              "        2.22544476e-01, 4.41243785e-04, 7.72593498e-01],\n",
              "       [9.10333574e-01, 6.63892701e-02, 9.24933329e-03, 2.68193800e-03,\n",
              "        6.47768518e-03, 1.01921796e-04, 4.76627517e-03],\n",
              "       [1.14077102e-05, 3.81715083e-03, 3.76764266e-03, 9.28017676e-01,\n",
              "        6.71364460e-03, 5.69264479e-02, 7.46032340e-04],\n",
              "       [6.90885236e-06, 1.07355205e-04, 5.24375914e-03, 1.99455470e-02,\n",
              "        5.44616312e-04, 9.73155260e-01, 9.96515038e-04],\n",
              "       [6.27400028e-03, 1.92788569e-03, 2.97558773e-02, 8.62494171e-01,\n",
              "        4.93789883e-03, 5.21453544e-02, 4.24647667e-02],\n",
              "       [4.07330190e-05, 7.59962830e-04, 9.48266301e-04, 7.70233618e-03,\n",
              "        9.12906945e-01, 9.43043735e-03, 6.82113022e-02],\n",
              "       [2.35095376e-05, 9.15398647e-04, 1.34309093e-02, 1.74239427e-01,\n",
              "        6.38795644e-02, 6.44910395e-01, 1.02600798e-01],\n",
              "       [7.26926592e-05, 2.57953419e-03, 3.87522648e-03, 8.61501575e-01,\n",
              "        1.17445901e-01, 1.28493728e-02, 1.67575350e-03],\n",
              "       [6.16462376e-06, 8.50807037e-03, 4.35022404e-03, 9.58149671e-04,\n",
              "        9.81771469e-01, 1.04069372e-03, 3.36521701e-03],\n",
              "       [9.72062051e-01, 2.76330765e-03, 1.34244114e-02, 5.03250514e-04,\n",
              "        1.00597143e-02, 1.00150013e-04, 1.08703878e-03],\n",
              "       [3.08524177e-04, 1.01929030e-03, 8.74437034e-01, 9.12145770e-04,\n",
              "        8.15412030e-03, 7.77240843e-02, 3.74448076e-02],\n",
              "       [4.10675493e-05, 4.23905347e-03, 1.31640270e-01, 4.27157758e-03,\n",
              "        1.63708758e-02, 3.16276222e-01, 5.27160943e-01],\n",
              "       [9.97230828e-01, 9.74683324e-04, 1.29126653e-03, 6.73630348e-05,\n",
              "        3.89025576e-04, 5.42691623e-06, 4.13869384e-05],\n",
              "       [2.98682107e-06, 2.17286433e-05, 2.93132151e-03, 2.33233068e-03,\n",
              "        4.10794106e-04, 9.93769228e-01, 5.31551545e-04],\n",
              "       [2.22498202e-05, 3.71567185e-05, 2.48622405e-03, 5.69774546e-02,\n",
              "        2.01827148e-03, 9.02184963e-01, 3.62736247e-02],\n",
              "       [1.24016869e-05, 2.49443222e-02, 4.72014368e-01, 7.49241794e-03,\n",
              "        3.11049193e-01, 1.02554530e-01, 8.19327757e-02],\n",
              "       [3.35933582e-05, 5.89580415e-03, 1.73186779e-03, 7.58535811e-04,\n",
              "        5.17049372e-01, 1.62724266e-03, 4.72903639e-01],\n",
              "       [1.43413097e-01, 6.88279141e-03, 2.63868645e-02, 1.87967133e-04,\n",
              "        8.09732914e-01, 8.11931619e-04, 1.25844534e-02],\n",
              "       [9.98922229e-01, 5.70590724e-04, 8.77895363e-05, 6.04051456e-05,\n",
              "        3.10989009e-04, 3.14374392e-06, 4.49204708e-05],\n",
              "       [9.99289989e-01, 8.45595641e-05, 3.52844829e-04, 7.55486399e-05,\n",
              "        1.61196556e-04, 7.62013542e-06, 2.81829853e-05],\n",
              "       [6.33887872e-02, 8.70145857e-02, 5.40178895e-01, 2.53282633e-04,\n",
              "        3.00421208e-01, 2.37936573e-03, 6.36392180e-03],\n",
              "       [9.74771319e-06, 8.58123589e-04, 1.32830106e-02, 6.72401786e-01,\n",
              "        1.55742106e-03, 3.03657621e-01, 8.23227316e-03],\n",
              "       [9.63221252e-01, 4.77996003e-03, 2.20957045e-02, 1.59473813e-04,\n",
              "        9.16875247e-03, 3.64022882e-04, 2.10799568e-04],\n",
              "       [2.30520905e-04, 6.99686306e-03, 5.86652849e-03, 6.74943566e-01,\n",
              "        1.75110283e-04, 3.01345915e-01, 1.04415892e-02],\n",
              "       [7.31618822e-01, 2.46997899e-03, 2.23201305e-01, 1.44913222e-03,\n",
              "        2.79149543e-02, 1.14306342e-02, 1.91512727e-03],\n",
              "       [1.09562268e-02, 7.26968562e-03, 7.08959103e-02, 3.05152789e-04,\n",
              "        8.63530397e-01, 5.26832510e-03, 4.17743511e-02],\n",
              "       [7.05269340e-04, 6.43099323e-02, 6.58002734e-01, 6.91450783e-04,\n",
              "        2.54463375e-01, 5.46945538e-03, 1.63577441e-02],\n",
              "       [3.52347633e-05, 1.70655345e-04, 1.12074835e-03, 6.18576072e-02,\n",
              "        5.06723882e-05, 9.36466336e-01, 2.98789993e-04],\n",
              "       [4.26989282e-05, 9.31649879e-02, 3.97726707e-03, 2.91213481e-04,\n",
              "        1.26916736e-01, 1.85959216e-04, 7.75421143e-01],\n",
              "       [4.05748142e-05, 1.15084713e-02, 3.55541706e-01, 2.98520521e-04,\n",
              "        8.22938904e-02, 3.44021693e-02, 5.15914619e-01],\n",
              "       [2.05980214e-05, 2.44915340e-04, 1.42718954e-02, 2.41105608e-03,\n",
              "        6.79982768e-04, 9.73015606e-01, 9.35591757e-03],\n",
              "       [1.93523683e-05, 2.04530475e-03, 3.37245385e-03, 1.13846757e-03,\n",
              "        9.88314509e-01, 2.12016143e-03, 2.98976828e-03],\n",
              "       [2.89958604e-02, 3.88457393e-03, 7.79793859e-01, 3.82644334e-03,\n",
              "        1.02255531e-02, 1.49592817e-01, 2.36809887e-02],\n",
              "       [2.03991731e-05, 2.02539191e-02, 6.60429767e-04, 2.41795744e-04,\n",
              "        1.58644852e-03, 1.85636090e-04, 9.77051318e-01],\n",
              "       [1.15647053e-05, 8.88052024e-03, 1.97796732e-01, 3.82093899e-02,\n",
              "        5.56790717e-02, 6.82882428e-01, 1.65402684e-02],\n",
              "       [6.93899172e-04, 7.61617033e-04, 1.48431407e-02, 7.02382950e-03,\n",
              "        6.77625954e-01, 2.93209385e-02, 2.69730538e-01],\n",
              "       [1.63797722e-06, 5.56193590e-05, 1.54032523e-03, 7.68542942e-03,\n",
              "        4.13223723e-04, 9.89096105e-01, 1.20764831e-03],\n",
              "       [5.80306514e-05, 2.32542619e-01, 3.11592268e-03, 1.15736068e-04,\n",
              "        3.13128643e-02, 4.59960138e-04, 7.32394874e-01],\n",
              "       [9.93013918e-01, 9.92545625e-04, 1.62235973e-03, 8.35979416e-04,\n",
              "        2.25347956e-03, 2.21469614e-04, 1.06019294e-03],\n",
              "       [1.84350880e-04, 9.95063007e-01, 1.92213489e-03, 8.40666471e-04,\n",
              "        1.76665804e-03, 6.29773558e-06, 2.16964821e-04],\n",
              "       [2.19509348e-05, 1.86278746e-02, 7.09813163e-02, 9.44238994e-03,\n",
              "        8.15935671e-01, 1.83676071e-02, 6.66230917e-02],\n",
              "       [1.14344293e-03, 3.77463968e-03, 2.53976882e-01, 6.81160818e-05,\n",
              "        6.87622488e-01, 1.03263687e-02, 4.30880077e-02],\n",
              "       [5.54610156e-02, 4.10973787e-01, 1.20272748e-01, 3.89784953e-04,\n",
              "        4.02055413e-01, 6.45329070e-04, 1.02019189e-02],\n",
              "       [2.19316361e-03, 1.38063505e-01, 8.98782071e-03, 3.46147543e-04,\n",
              "        2.72620231e-01, 3.41002102e-04, 5.77448189e-01],\n",
              "       [1.60454086e-03, 1.97162535e-02, 1.98590353e-01, 2.71111858e-05,\n",
              "        6.39930844e-01, 5.06143877e-03, 1.35069534e-01],\n",
              "       [8.18313420e-05, 2.14753891e-04, 2.42629610e-02, 2.47564279e-02,\n",
              "        3.20734835e-04, 9.48829472e-01, 1.53382937e-03],\n",
              "       [3.17261765e-05, 6.10933900e-02, 3.17164371e-03, 1.31564317e-04,\n",
              "        9.10587132e-01, 3.20780760e-04, 2.46638358e-02],\n",
              "       [4.72720239e-05, 1.72898537e-04, 2.67433468e-03, 2.05265284e-02,\n",
              "        4.91137980e-05, 9.75811660e-01, 7.18153431e-04],\n",
              "       [3.39634804e-04, 5.72438957e-03, 3.33071896e-03, 8.23578518e-03,\n",
              "        2.48994529e-02, 1.58326793e-02, 9.41637337e-01],\n",
              "       [2.95703281e-02, 8.84401705e-03, 1.68350413e-01, 3.21940295e-02,\n",
              "        4.37126189e-01, 1.48804430e-02, 3.09034616e-01],\n",
              "       [2.64297909e-04, 2.26306822e-02, 1.33185551e-01, 7.66559271e-03,\n",
              "        7.15164244e-01, 4.81482968e-02, 7.29413927e-02],\n",
              "       [6.75934483e-04, 4.10854846e-04, 3.55782866e-01, 3.94459395e-03,\n",
              "        4.41693515e-03, 6.18228137e-01, 1.65406596e-02],\n",
              "       [9.77187097e-01, 7.41516240e-04, 1.43044256e-02, 4.85573662e-04,\n",
              "        6.71910634e-03, 2.36630309e-04, 3.25636414e-04],\n",
              "       [1.41949028e-01, 2.10901303e-03, 2.99357593e-01, 3.46924993e-04,\n",
              "        5.38990319e-01, 1.13154426e-02, 5.93153434e-03],\n",
              "       [9.96107399e-01, 6.56404649e-04, 6.43202045e-04, 6.63275277e-05,\n",
              "        2.35417089e-03, 6.34257913e-06, 1.66067053e-04],\n",
              "       [2.11848783e-05, 1.93862501e-03, 5.30031556e-03, 4.06571664e-04,\n",
              "        9.91203427e-01, 2.06798781e-04, 9.23116633e-04],\n",
              "       [2.07060057e-05, 4.77641597e-02, 9.23881650e-01, 6.81917230e-03,\n",
              "        1.20576257e-02, 1.34448532e-03, 8.11223686e-03],\n",
              "       [9.96726513e-01, 3.06469534e-04, 1.36847002e-03, 4.02500416e-04,\n",
              "        1.07833208e-03, 1.07946944e-05, 1.06974745e-04],\n",
              "       [6.84143242e-06, 2.91654025e-04, 1.75812154e-03, 2.69734859e-02,\n",
              "        8.97144928e-05, 9.68952119e-01, 1.92806858e-03],\n",
              "       [5.08158228e-05, 1.83871593e-02, 4.80887759e-03, 1.90552892e-04,\n",
              "        5.72687015e-03, 2.56130035e-04, 9.70579624e-01],\n",
              "       [5.61755201e-07, 4.18751733e-05, 1.63704378e-03, 1.11672457e-03,\n",
              "        1.67369770e-04, 9.96499300e-01, 5.37075743e-04],\n",
              "       [2.58611068e-02, 3.23772128e-03, 1.39321275e-02, 8.46668612e-04,\n",
              "        8.85418653e-01, 6.83073187e-03, 6.38729483e-02],\n",
              "       [5.51432131e-05, 8.96317046e-03, 1.37035651e-02, 9.67267632e-01,\n",
              "        2.88655196e-04, 9.48476605e-03, 2.37162676e-04],\n",
              "       [3.45760986e-04, 5.25283581e-03, 3.93199064e-02, 9.64915496e-04,\n",
              "        8.56890023e-01, 2.45622313e-03, 9.47703645e-02],\n",
              "       [9.85362172e-01, 6.47009874e-04, 1.22071737e-02, 2.21415306e-04,\n",
              "        7.97955319e-04, 1.34134272e-04, 6.30144437e-04],\n",
              "       [8.93534707e-06, 2.10302020e-03, 6.20980887e-03, 1.82783452e-03,\n",
              "        9.88584638e-01, 8.30167381e-04, 4.35742637e-04],\n",
              "       [3.87751861e-05, 2.95543037e-02, 2.64505390e-03, 6.79875666e-04,\n",
              "        8.38863722e-04, 7.73886102e-04, 9.65469241e-01],\n",
              "       [1.17773819e-03, 9.81298745e-01, 3.01048276e-03, 1.26337307e-03,\n",
              "        5.95792569e-03, 3.49233414e-05, 7.25677144e-03],\n",
              "       [3.29549919e-04, 2.02027205e-02, 9.58675984e-03, 2.05037111e-04,\n",
              "        9.60328221e-01, 4.18095011e-03, 5.16678113e-03],\n",
              "       [1.03361765e-03, 2.07645190e-03, 3.97562981e-02, 1.29187002e-03,\n",
              "        2.63942659e-01, 8.10725465e-02, 6.10826612e-01],\n",
              "       [1.41005206e-04, 1.08102488e-03, 6.14228938e-03, 1.11664517e-03,\n",
              "        2.58983344e-01, 7.30916252e-03, 7.25226521e-01],\n",
              "       [6.46293192e-05, 4.73284628e-03, 4.55519930e-03, 8.18763375e-01,\n",
              "        1.08163379e-01, 6.17769547e-02, 1.94371177e-03],\n",
              "       [3.77116376e-03, 3.05678919e-02, 5.75204968e-01, 1.15424290e-03,\n",
              "        5.80520220e-02, 2.61749476e-01, 6.95002824e-02],\n",
              "       [1.83007032e-05, 1.08306343e-03, 3.09785139e-02, 3.18698436e-02,\n",
              "        3.62137333e-04, 9.21461225e-01, 1.42268687e-02],\n",
              "       [1.82584390e-05, 6.42497931e-03, 7.92054518e-04, 3.53566829e-05,\n",
              "        8.01624544e-03, 8.55289618e-05, 9.84627664e-01],\n",
              "       [5.03907027e-03, 2.34531164e-02, 9.34522033e-01, 2.38126784e-04,\n",
              "        1.12698311e-02, 4.29821853e-03, 2.11796295e-02],\n",
              "       [9.52016635e-05, 1.00477517e-03, 1.23952003e-02, 4.73674620e-03,\n",
              "        1.38191089e-01, 1.65007949e-01, 6.78569078e-01],\n",
              "       [9.91662502e-01, 2.58181273e-04, 5.71273267e-03, 3.30926647e-04,\n",
              "        1.68224215e-03, 1.04691288e-04, 2.48782337e-04],\n",
              "       [4.62840125e-03, 1.22867234e-01, 3.88555452e-02, 1.00028577e-04,\n",
              "        6.35702789e-01, 1.55723724e-03, 1.96288824e-01],\n",
              "       [7.24360696e-04, 5.38618624e-01, 5.09940693e-03, 4.58277005e-04,\n",
              "        1.73886865e-03, 1.04260602e-04, 4.53256190e-01],\n",
              "       [2.34649124e-05, 1.62626952e-02, 2.01158095e-02, 8.66663635e-01,\n",
              "        9.14944112e-02, 4.89635766e-03, 5.43677423e-04],\n",
              "       [1.89843751e-03, 1.06258048e-02, 7.63712287e-01, 4.48171661e-04,\n",
              "        1.88081294e-01, 2.80702021e-02, 7.16379471e-03],\n",
              "       [4.64117853e-03, 1.63833983e-03, 1.18934400e-02, 5.70770130e-02,\n",
              "        1.30293578e-01, 1.43041695e-02, 7.80152321e-01],\n",
              "       [4.37092422e-05, 1.16629642e-03, 3.68258148e-03, 3.80052661e-04,\n",
              "        9.80153799e-01, 2.42072460e-03, 1.21527696e-02],\n",
              "       [1.03278689e-05, 6.89063547e-03, 1.10087842e-02, 2.00158567e-03,\n",
              "        9.77089882e-01, 5.99428604e-04, 2.39933166e-03],\n",
              "       [2.54576316e-05, 2.87451758e-03, 1.48667041e-02, 3.99893790e-01,\n",
              "        2.04050675e-01, 2.68106580e-01, 1.10182285e-01],\n",
              "       [1.30843022e-04, 7.90360209e-04, 1.44523829e-01, 6.61700740e-02,\n",
              "        9.98570397e-02, 5.89011014e-01, 9.95168909e-02],\n",
              "       [1.50322048e-02, 7.57619692e-03, 7.22787261e-01, 1.58688621e-04,\n",
              "        2.45217279e-01, 4.38498845e-03, 4.84335888e-03],\n",
              "       [6.50277827e-04, 1.38181134e-03, 2.27388546e-01, 1.56403836e-02,\n",
              "        2.35112943e-02, 1.43572003e-01, 5.87855697e-01],\n",
              "       [9.32011462e-05, 7.26915663e-03, 1.77005187e-01, 1.23212375e-02,\n",
              "        3.67261581e-02, 7.07370102e-01, 5.92149310e-02],\n",
              "       [9.12504911e-05, 2.32286453e-02, 5.55336801e-03, 1.09546345e-04,\n",
              "        9.29928601e-01, 3.21136351e-04, 4.07674238e-02],\n",
              "       [8.01344872e-01, 2.17426084e-02, 1.65110305e-01, 3.81010293e-04,\n",
              "        9.88267455e-03, 6.72996917e-04, 8.65638081e-04],\n",
              "       [4.75007728e-05, 1.39403652e-04, 3.73767776e-04, 9.92818773e-01,\n",
              "        5.48579446e-05, 6.13060035e-03, 4.35102091e-04],\n",
              "       [4.78230834e-01, 6.15117280e-03, 3.59480351e-01, 1.34982495e-03,\n",
              "        1.21344745e-01, 7.33071892e-03, 2.61123702e-02],\n",
              "       [6.66424457e-05, 1.13923149e-03, 2.50719395e-03, 8.38169813e-01,\n",
              "        3.13226396e-04, 1.57410711e-01, 3.93219700e-04],\n",
              "       [1.10058181e-05, 9.22148488e-03, 6.81821406e-02, 1.48501396e-01,\n",
              "        7.38538569e-03, 7.63963997e-01, 2.73462874e-03],\n",
              "       [9.96246159e-01, 7.83008654e-05, 1.80880073e-03, 1.99363727e-04,\n",
              "        1.48817129e-03, 6.52064409e-05, 1.14033188e-04],\n",
              "       [8.00730370e-04, 1.75771248e-02, 2.01763868e-01, 1.83819939e-05,\n",
              "        7.45528758e-01, 2.53633899e-03, 3.17748338e-02],\n",
              "       [6.19092898e-05, 4.67863225e-04, 2.15215632e-03, 8.22245318e-04,\n",
              "        9.37571004e-03, 8.22233967e-03, 9.78897810e-01],\n",
              "       [7.62770787e-06, 1.04428555e-05, 1.01536757e-03, 3.84460762e-03,\n",
              "        2.09929567e-05, 9.94848788e-01, 2.52078316e-04],\n",
              "       [1.59662415e-03, 2.92047299e-03, 7.86203332e-03, 7.07098006e-05,\n",
              "        9.34390128e-01, 4.18190262e-04, 5.27418368e-02],\n",
              "       [2.12249055e-04, 9.00409592e-04, 7.17501214e-04, 1.37331418e-03,\n",
              "        5.83002344e-03, 5.88089752e-04, 9.90378380e-01],\n",
              "       [1.19048119e-01, 8.22690278e-02, 6.60444856e-01, 1.30845020e-02,\n",
              "        1.81353446e-02, 1.55724725e-02, 9.14456919e-02],\n",
              "       [1.89357495e-04, 1.49977510e-04, 1.05552049e-03, 9.47135746e-01,\n",
              "        1.74273038e-04, 4.76416126e-02, 3.65346321e-03],\n",
              "       [1.15413633e-04, 5.23838773e-03, 1.09468147e-01, 2.55982362e-04,\n",
              "        1.74741656e-01, 2.34524440e-03, 7.07835197e-01],\n",
              "       [3.40692277e-05, 9.90298018e-02, 1.73565894e-02, 1.29174045e-03,\n",
              "        8.77246678e-01, 8.55882245e-04, 4.18535667e-03],\n",
              "       [9.96105075e-01, 1.91048894e-03, 7.06690538e-04, 1.66917569e-04,\n",
              "        1.04610261e-03, 5.22802429e-06, 5.94745870e-05],\n",
              "       [7.72418498e-05, 3.15578911e-03, 8.26346967e-03, 2.44972110e-01,\n",
              "        6.99817359e-01, 4.04167101e-02, 3.29730567e-03],\n",
              "       [1.39454251e-05, 2.80638784e-02, 3.74717176e-01, 1.80650956e-03,\n",
              "        5.89558363e-01, 2.53661885e-03, 3.30346916e-03],\n",
              "       [7.42333767e-04, 7.29192138e-01, 1.89514272e-02, 1.68515323e-03,\n",
              "        1.37284741e-01, 2.11596809e-04, 1.11932598e-01],\n",
              "       [1.25653742e-05, 1.77054571e-05, 5.20024728e-03, 6.17171929e-04,\n",
              "        1.32270332e-04, 9.93078768e-01, 9.41248960e-04],\n",
              "       [4.26681014e-03, 4.36496513e-04, 1.88641145e-03, 7.24655628e-01,\n",
              "        4.34038928e-04, 2.50770658e-01, 1.75499246e-02],\n",
              "       [4.35827853e-04, 4.73474190e-02, 8.60209286e-01, 1.56525373e-02,\n",
              "        1.74453966e-02, 2.26631807e-03, 5.66431396e-02],\n",
              "       [4.81154391e-04, 1.25934358e-03, 2.36336123e-02, 1.99914977e-01,\n",
              "        1.09247155e-02, 5.65151393e-01, 1.98634803e-01],\n",
              "       [9.95018244e-01, 1.43325329e-03, 2.61570746e-03, 3.05865222e-04,\n",
              "        5.10552607e-04, 2.95771188e-05, 8.68647767e-05],\n",
              "       [7.85543089e-05, 7.24097656e-04, 7.04639964e-03, 4.94135404e-03,\n",
              "        3.77960742e-01, 1.23907782e-01, 4.85341072e-01],\n",
              "       [9.41854436e-04, 1.31559453e-03, 8.74193758e-03, 4.22211504e-03,\n",
              "        1.88734442e-01, 9.40167345e-03, 7.86642373e-01],\n",
              "       [5.43677124e-05, 8.10328484e-01, 2.55279709e-02, 2.03380318e-04,\n",
              "        1.02067627e-01, 5.19844121e-04, 6.12983964e-02],\n",
              "       [9.96925294e-01, 7.06217950e-04, 1.42839039e-03, 1.15470997e-04,\n",
              "        7.49500119e-04, 1.04208930e-05, 6.46283006e-05],\n",
              "       [7.00715813e-04, 1.79845933e-02, 6.38102973e-03, 9.47158769e-05,\n",
              "        4.88320619e-01, 6.58784644e-04, 4.85859454e-01]], dtype=float32)"
            ]
          },
          "metadata": {},
          "execution_count": 95
        }
      ]
    },
    {
      "cell_type": "code",
      "source": [
        "y_pred_test_class "
      ],
      "metadata": {
        "colab": {
          "base_uri": "https://localhost:8080/"
        },
        "id": "ph-j4nBsAxjT",
        "outputId": "0a44eef3-9a2f-4528-ea84-a6f6de1f67db"
      },
      "execution_count": 96,
      "outputs": [
        {
          "output_type": "execute_result",
          "data": {
            "text/plain": [
              "array([5, 4, 5, 6, 0, 3, 5, 3, 4, 5, 3, 4, 0, 2, 6, 0, 5, 5, 2, 4, 4, 0,\n",
              "       0, 2, 3, 0, 3, 0, 4, 2, 5, 6, 6, 5, 4, 2, 6, 5, 4, 5, 6, 0, 1, 4,\n",
              "       4, 1, 6, 4, 5, 4, 5, 6, 4, 4, 5, 0, 4, 0, 4, 2, 0, 5, 6, 5, 4, 3,\n",
              "       4, 0, 4, 6, 1, 4, 6, 6, 3, 2, 5, 6, 2, 6, 0, 4, 1, 3, 2, 6, 4, 4,\n",
              "       3, 5, 2, 6, 5, 4, 0, 3, 0, 3, 5, 0, 4, 6, 5, 4, 6, 2, 3, 6, 4, 0,\n",
              "       4, 4, 1, 5, 3, 2, 5, 0, 6, 6, 1, 0, 4])"
            ]
          },
          "metadata": {},
          "execution_count": 96
        }
      ]
    },
    {
      "cell_type": "markdown",
      "source": [
        "### Test Set Confusion Matrix and Heatmap"
      ],
      "metadata": {
        "id": "Epp2QpxsUVXH"
      }
    },
    {
      "cell_type": "code",
      "source": [
        "# Test set Confusion matrix\n",
        "\n",
        "cm=confusion_matrix(y_test_class, y_pred_test_class)\n",
        "\n",
        "index = ['calm', 'happy', 'sad', 'angry', 'fearful', 'disgust', 'surprised']  \n",
        "columns = ['calm', 'happy', 'sad', 'angry', 'fearful', 'disgust', 'surprised']  \n",
        " \n",
        "cm_df = pd.DataFrame(cm,index,columns)                      \n",
        "plt.figure(figsize=(12,8))\n",
        "ax = plt.axes()\n",
        "\n",
        "sns.heatmap(cm_df, ax = ax, cmap = 'BuGn', fmt=\"d\", annot=True)\n",
        "ax.set_ylabel('True emotion')\n",
        "ax.set_xlabel('Predicted emotion')"
      ],
      "metadata": {
        "colab": {
          "base_uri": "https://localhost:8080/",
          "height": 518
        },
        "id": "ukGrk_cagzyb",
        "outputId": "fbea1bdf-254f-4e3e-dc16-ba5393a41a49"
      },
      "execution_count": 97,
      "outputs": [
        {
          "output_type": "execute_result",
          "data": {
            "text/plain": [
              "Text(0.5, 51.0, 'Predicted emotion')"
            ]
          },
          "metadata": {},
          "execution_count": 97
        },
        {
          "output_type": "display_data",
          "data": {
            "text/plain": [
              "<Figure size 864x576 with 2 Axes>"
            ],
            "image/png": "[encoded data removed]"
          },
          "metadata": {
            "needs_background": "light"
          }
        }
      ]
    },
    {
      "cell_type": "code",
      "source": [
        "# Confusion Matrix\n",
        "cm"
      ],
      "metadata": {
        "colab": {
          "base_uri": "https://localhost:8080/"
        },
        "id": "9f51xwUE8haF",
        "outputId": "4ce47d80-c825-45a5-e39c-45aafaca83e5"
      },
      "execution_count": 98,
      "outputs": [
        {
          "output_type": "execute_result",
          "data": {
            "text/plain": [
              "array([[14,  0,  1,  0,  0,  0,  0],\n",
              "       [ 2,  4,  2,  0,  5,  1,  0],\n",
              "       [ 1,  0,  6,  1,  5,  1,  1],\n",
              "       [ 0,  0,  1,  8,  4,  5,  2],\n",
              "       [ 1,  0,  0,  2, 12,  2,  4],\n",
              "       [ 0,  1,  1,  2,  0, 10,  2],\n",
              "       [ 1,  1,  1,  0,  4,  3, 12]])"
            ]
          },
          "metadata": {},
          "execution_count": 98
        }
      ]
    },
    {
      "cell_type": "markdown",
      "source": [
        "### Test Set Predicted emotions accuracy"
      ],
      "metadata": {
        "id": "zil3CkweUX0q"
      }
    },
    {
      "cell_type": "code",
      "source": [
        "# Test set prediction accuracy rates\n",
        "\n",
        "values = cm.diagonal()\n",
        "row_sum = np.sum(cm,axis=1)\n",
        "acc = values / row_sum\n",
        "\n",
        "print('Test set predicted emotions accuracy:')\n",
        "for e in range(0, len(values)):\n",
        "    print(index[e],':', f\"{(acc[e]):0.4f}\")"
      ],
      "metadata": {
        "colab": {
          "base_uri": "https://localhost:8080/"
        },
        "id": "t_ORyGGig090",
        "outputId": "6df30d32-58ff-48be-d4c7-9437c83bbda8"
      },
      "execution_count": 99,
      "outputs": [
        {
          "output_type": "stream",
          "name": "stdout",
          "text": [
            "Test set predicted emotions accuracy:\n",
            "calm : 0.9333\n",
            "happy : 0.2857\n",
            "sad : 0.4000\n",
            "angry : 0.4000\n",
            "fearful : 0.5714\n",
            "disgust : 0.6250\n",
            "surprised : 0.5455\n"
          ]
        }
      ]
    },
    {
      "cell_type": "markdown",
      "source": [
        "### Precision, Recal, Fscore"
      ],
      "metadata": {
        "id": "8Hzthv1t8kwd"
      }
    },
    {
      "cell_type": "code",
      "source": [
        "# Validation set precision, recall, fscore\n",
        "\n",
        "precision_recall_fscore_support(y_test_class, y_pred_test_class, average='macro')\n"
      ],
      "metadata": {
        "colab": {
          "base_uri": "https://localhost:8080/"
        },
        "id": "QnwWoVFnh33F",
        "outputId": "c4676d38-9596-4513-d410-82a0da211a1a"
      },
      "execution_count": 100,
      "outputs": [
        {
          "output_type": "execute_result",
          "data": {
            "text/plain": [
              "(0.563552487612638, 0.5372758194186765, 0.5296951286727368, None)"
            ]
          },
          "metadata": {},
          "execution_count": 100
        }
      ]
    },
    {
      "cell_type": "code",
      "source": [
        "precision_recall_fscore_support(y_test_class, y_pred_test_class, average='weighted')"
      ],
      "metadata": {
        "colab": {
          "base_uri": "https://localhost:8080/"
        },
        "id": "OlDhuPlqzwVB",
        "outputId": "80478a09-afcd-48f3-bd83-9cae39c54ade"
      },
      "execution_count": 101,
      "outputs": [
        {
          "output_type": "execute_result",
          "data": {
            "text/plain": [
              "(0.5564049842612101, 0.5365853658536586, 0.527634576262636, None)"
            ]
          },
          "metadata": {},
          "execution_count": 101
        }
      ]
    },
    {
      "cell_type": "markdown",
      "source": [
        "### ROC AUC Score"
      ],
      "metadata": {
        "id": "sEuBd9IyLuiD"
      }
    },
    {
      "cell_type": "code",
      "source": [
        "ravdess_df = pd.read_csv (df_path)"
      ],
      "metadata": {
        "id": "8bb4OSmyTO6v"
      },
      "execution_count": 102,
      "outputs": []
    },
    {
      "cell_type": "code",
      "source": [
        "labels = [\"calm\", \"happy\", \"sad\", \"angry\", \"fear\", \"disgust\", \"suprised\"]"
      ],
      "metadata": {
        "id": "1leZ4JGVTfTp"
      },
      "execution_count": 103,
      "outputs": []
    },
    {
      "cell_type": "code",
      "source": [
        "y_test_adj = y_test.reshape(-1,)"
      ],
      "metadata": {
        "id": "MRm1ZwnxFStc"
      },
      "execution_count": 104,
      "outputs": []
    },
    {
      "cell_type": "code",
      "source": [
        "y_proba_test_class.shape"
      ],
      "metadata": {
        "colab": {
          "base_uri": "https://localhost:8080/"
        },
        "id": "O-IcYOABFjxB",
        "outputId": "a44da4a0-a236-41e9-8441-d352ec8793e6"
      },
      "execution_count": 105,
      "outputs": [
        {
          "output_type": "execute_result",
          "data": {
            "text/plain": [
              "(123, 7)"
            ]
          },
          "metadata": {},
          "execution_count": 105
        }
      ]
    },
    {
      "cell_type": "code",
      "source": [
        "y_test.shape"
      ],
      "metadata": {
        "colab": {
          "base_uri": "https://localhost:8080/"
        },
        "id": "9AaqUY3PIlMQ",
        "outputId": "581ed998-d220-42ed-92cc-e644f04871af"
      },
      "execution_count": 106,
      "outputs": [
        {
          "output_type": "execute_result",
          "data": {
            "text/plain": [
              "(123, 1)"
            ]
          },
          "metadata": {},
          "execution_count": 106
        }
      ]
    },
    {
      "cell_type": "code",
      "source": [
        "y_test_adj"
      ],
      "metadata": {
        "colab": {
          "base_uri": "https://localhost:8080/"
        },
        "id": "7LgDudYTKInS",
        "outputId": "425a5dc0-bb57-4211-dc40-92ccaf3a5340"
      },
      "execution_count": 107,
      "outputs": [
        {
          "output_type": "execute_result",
          "data": {
            "text/plain": [
              "array([6, 3, 5, 4, 0, 4, 5, 4, 3, 6, 3, 4, 0, 5, 3, 0, 5, 5, 2, 6, 6, 0,\n",
              "       0, 2, 5, 0, 5, 0, 4, 1, 3, 6, 6, 5, 4, 2, 5, 4, 4, 5, 6, 0, 1, 2,\n",
              "       1, 1, 6, 2, 6, 4, 5, 6, 1, 2, 5, 1, 1, 4, 4, 1, 6, 3, 4, 2, 2, 2,\n",
              "       4, 0, 3, 6, 5, 1, 2, 4, 3, 0, 3, 6, 2, 6, 0, 4, 1, 3, 6, 3, 6, 4,\n",
              "       3, 3, 2, 5, 4, 1, 0, 3, 2, 3, 1, 0, 2, 6, 5, 4, 4, 3, 3, 6, 4, 0,\n",
              "       3, 4, 6, 5, 3, 2, 3, 1, 6, 6, 1, 0, 6], dtype=int8)"
            ]
          },
          "metadata": {},
          "execution_count": 107
        }
      ]
    },
    {
      "cell_type": "code",
      "source": [
        "\n",
        "\n",
        "macro_roc_auc_ovo = roc_auc_score(y_test_adj, y_proba_test_class, multi_class=\"ovo\", average=\"macro\")\n",
        "weighted_roc_auc_ovo = roc_auc_score(\n",
        "    y_test_adj, y_proba_test_class, multi_class=\"ovo\", average=\"weighted\"\n",
        ")\n",
        "macro_roc_auc_ovr = roc_auc_score(y_test_adj, y_proba_test_class, multi_class=\"ovr\", average=\"macro\")\n",
        "weighted_roc_auc_ovr = roc_auc_score(\n",
        "    y_test_adj, y_proba_test_class, multi_class=\"ovr\", average=\"weighted\"\n",
        ")\n"
      ],
      "metadata": {
        "id": "oMa4N8EhHlY9"
      },
      "execution_count": 108,
      "outputs": []
    },
    {
      "cell_type": "code",
      "source": [
        "print(\"One-vs-One ROC AUC scores:\\n{:.6f} (macro),\\n{:.6f} \" \"(weighted by prevalence)\\n\".format(macro_roc_auc_ovo, weighted_roc_auc_ovo))\n",
        "print(\"One-vs-Rest ROC AUC scores:\\n{:.6f} (macro),\\n{:.6f} \" \"(weighted by prevalence)\".format(macro_roc_auc_ovr, weighted_roc_auc_ovr))"
      ],
      "metadata": {
        "colab": {
          "base_uri": "https://localhost:8080/"
        },
        "id": "hhBLwtO_ICqL",
        "outputId": "de24f9f2-7932-4639-b393-8c8680ffbc47"
      },
      "execution_count": 109,
      "outputs": [
        {
          "output_type": "stream",
          "name": "stdout",
          "text": [
            "One-vs-One ROC AUC scores:\n",
            "0.836044 (macro),\n",
            "0.834476 (weighted by prevalence)\n",
            "\n",
            "One-vs-Rest ROC AUC scores:\n",
            "0.834488 (macro),\n",
            "0.832079 (weighted by prevalence)\n"
          ]
        }
      ]
    }
  ]
}