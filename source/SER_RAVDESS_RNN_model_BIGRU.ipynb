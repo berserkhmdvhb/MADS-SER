{
  "metadata": {
    "kernelspec": {
      "language": "python",
      "display_name": "Python 3",
      "name": "python3"
    },
    "language_info": {
      "pygments_lexer": "ipython3",
      "nbconvert_exporter": "python",
      "version": "3.6.4",
      "file_extension": ".py",
      "codemirror_mode": {
        "name": "ipython",
        "version": 3
      },
      "name": "python",
      "mimetype": "text/x-python"
    },
    "colab": {
      "name": "SER-RAVDESS-RNN-model-BIGRU.ipynb",
      "provenance": [],
      "collapsed_sections": [
        "anSyerIFN7qd",
        "nyMzoZKKKiw6",
        "1YfguG0tPatV",
        "ATvBW0SPO-eq",
        "5YoYCa22PMGz",
        "hz7nc15A_3hb",
        "d2ullxf9PUMd",
        "kWjKgUdRPYH5",
        "DGSTy2228XRH",
        "CWB7U5xDUSmF",
        "gPwcFV9oAhGh",
        "Epp2QpxsUVXH",
        "zil3CkweUX0q",
        "8Hzthv1t8kwd"
      ]
    }
  },
  "nbformat_minor": 0,
  "nbformat": 4,
  "cells": [
    {
      "cell_type": "markdown",
      "source": [
        "# Imports"
      ],
      "metadata": {
        "id": "anSyerIFN7qd"
      }
    },
    {
      "cell_type": "code",
      "source": [
        "# Importing Libraries"
      ],
      "metadata": {
        "id": "IMFSwIuvKiw2"
      },
      "execution_count": 1,
      "outputs": []
    },
    {
      "cell_type": "code",
      "source": [
        "!pip install json-tricks"
      ],
      "metadata": {
        "colab": {
          "base_uri": "https://localhost:8080/"
        },
        "id": "bBR8aNsmM2tR",
        "outputId": "be40401f-c00c-4a3e-8963-c2145a3bb37c"
      },
      "execution_count": 2,
      "outputs": [
        {
          "output_type": "stream",
          "name": "stdout",
          "text": [
            "Collecting json-tricks\n",
            "  Downloading json_tricks-3.15.5-py2.py3-none-any.whl (26 kB)\n",
            "Installing collected packages: json-tricks\n",
            "Successfully installed json-tricks-3.15.5\n"
          ]
        }
      ]
    },
    {
      "cell_type": "code",
      "source": [
        "import pandas as pd\n",
        "import numpy as np\n",
        "\n",
        "import os\n",
        "import sys\n",
        "\n",
        "import librosa\n",
        "import librosa.display\n",
        "#from pydub import AudioSegment, effects\n",
        "#import noisereduce as nr\n",
        "\n",
        "\n",
        "import seaborn as sns\n",
        "import matplotlib.pyplot as plt\n",
        "from IPython.display import Audio\n",
        "\n",
        "import tensorflow as tf\n",
        "import keras\n",
        "import sklearn\n",
        "\n",
        "\n",
        "from tensorflow.keras.models import Sequential, Model\n",
        "from tensorflow.keras.layers import Dense, LSTM, Flatten, Dropout, BatchNormalization\n",
        "from tensorflow.keras.callbacks import ModelCheckpoint, EarlyStopping, ReduceLROnPlateau\n",
        "from tensorflow.keras.optimizers import Adam, SGD\n",
        "from tensorflow.keras.utils import to_categorical, plot_model\n",
        "\n",
        "\n",
        "from keras.models import Sequential, model_from_json, load_model\n",
        "from keras import layers\n",
        "from keras import optimizers\n",
        "from keras import callbacks\n",
        "\n",
        "from sklearn.preprocessing import StandardScaler, OneHotEncoder, LabelEncoder\n",
        "from sklearn.metrics import confusion_matrix, classification_report, precision_recall_fscore_support, roc_auc_score\n",
        "from sklearn.model_selection import train_test_split, StratifiedShuffleSplit\n",
        "from sklearn.multiclass import OneVsRestClassifier\n",
        "\n",
        "\n",
        "from tqdm import tqdm\n",
        "\n",
        "\n",
        "from json_tricks import dump, load\n",
        "\n",
        "\n",
        "\n",
        "import warnings\n",
        "if not sys.warnoptions:\n",
        "    warnings.simplefilter(\"ignore\")\n",
        "warnings.filterwarnings(\"ignore\", category=DeprecationWarning) \n",
        "\n",
        "import time\n",
        "tic = time.perf_counter()\n",
        "\n"
      ],
      "metadata": {
        "id": "77IS8HxqFFCA"
      },
      "execution_count": 3,
      "outputs": []
    },
    {
      "cell_type": "code",
      "source": [
        ""
      ],
      "metadata": {
        "id": "gGYqBIk0FGm4"
      },
      "execution_count": 3,
      "outputs": []
    },
    {
      "cell_type": "markdown",
      "source": [
        "# Dataset"
      ],
      "metadata": {
        "id": "nyMzoZKKKiw6"
      }
    },
    {
      "cell_type": "code",
      "source": [
        "from google.colab import drive\n",
        "drive.mount('/content/drive')"
      ],
      "metadata": {
        "colab": {
          "base_uri": "https://localhost:8080/"
        },
        "id": "JFPDGXmwCBs_",
        "outputId": "64d3b2e5-f75e-404c-afd3-043efe9b58db"
      },
      "execution_count": 4,
      "outputs": [
        {
          "output_type": "stream",
          "name": "stdout",
          "text": [
            "Mounted at /content/drive\n"
          ]
        }
      ]
    },
    {
      "cell_type": "code",
      "source": [
        "#Crema = \"/content/drive/MyDrive/datasets/speech/CREMAD/sample/\"\n",
        "#Crema = \"/content/drive/MyDrive/datasets/speech/CREMAD/AudioWAV/\"\n",
        "Ravdess = \"/content/drive/MyDrive/datasets/speech/RAVDESS/data\"\n",
        "Ravdess_processed = \"/content/drive/MyDrive/datasets/speech/RAVDESS/processedData/\"\n",
        "Ravdess_speech_sample = \"/content/drive/MyDrive/datasets/speech/RAVDESS/data/Audio_Speech_Actors_01-24/\"\n",
        "df_path = \"/content/drive/MyDrive/datasets/speech/RAVDESS/ravdess_df.csv\"\n",
        "model_path = Ravdess + \"/model/\"\n",
        "\n",
        "checkpoint_path = model_path + \"best_weights-8.hdf5\"\n",
        "saved_model_path = model_path + 'model8723-6.json'\n",
        "\n",
        "saved_weights_path = model_path + 'model8723_weights-8.h5'\n",
        "saved_model_path_2 = model_path + 'Speech-Emotion-Recognition-Model-RNN-6.h5'"
      ],
      "metadata": {
        "execution": {
          "iopub.status.busy": "2021-06-21T09:35:38.093538Z",
          "iopub.execute_input": "2021-06-21T09:35:38.093869Z",
          "iopub.status.idle": "2021-06-21T09:35:38.097467Z",
          "shell.execute_reply.started": "2021-06-21T09:35:38.093838Z",
          "shell.execute_reply": "2021-06-21T09:35:38.096608Z"
        },
        "trusted": true,
        "id": "vR2GjHL4Kiw7"
      },
      "execution_count": 5,
      "outputs": []
    },
    {
      "cell_type": "code",
      "source": [
        ""
      ],
      "metadata": {
        "id": "J2T6JxzIF2Jq"
      },
      "execution_count": 5,
      "outputs": []
    },
    {
      "cell_type": "code",
      "source": [
        "##Hypter Parameters' Range\n",
        "params = {\n",
        "    \"batch_size\": 20,  # 20<16<10, 25 was a bust\n",
        "    \"epochs\": 300,\n",
        "    \"lr\": 0.00010000,\n",
        "    \"time_steps\": 60\n",
        "}\n",
        "#TIME_STEPS = params[\"time_steps\"]\n",
        "#BATCH_SIZE = params[\"batch_size\"]\n",
        "#iter_changes = \"dropout_layers_0.4_0.4\"\n"
      ],
      "metadata": {
        "id": "jnEd5_Vvy4ue"
      },
      "execution_count": 6,
      "outputs": []
    },
    {
      "cell_type": "code",
      "source": [
        ""
      ],
      "metadata": {
        "id": "dKXM0xT-N8uy"
      },
      "execution_count": 6,
      "outputs": []
    },
    {
      "cell_type": "markdown",
      "source": [
        "# Load Processed Files, Construct Train, Validation and Test Sets"
      ],
      "metadata": {
        "id": "fse_mTpaOGdQ"
      }
    },
    {
      "cell_type": "code",
      "source": [
        "\n",
        "processed_path = Ravdess_processed\n",
        "x_path = processed_path + \"X_features.json\" # FILE LOAD PATH\n",
        "y_path =  processed_path + \"Y_labels.json\" # FILE SAVE PATH\n",
        "#x_path = '/content/drive/MyDrive/datasets/speech/RAVDESS/processedData/X_features.json'\n",
        "\n",
        "# Load X,Y json files back into lists, convert to np.arrays\n",
        "\n",
        "X = load(x_path)\n",
        "X = np.asarray(X, dtype = 'float32')\n",
        "\n",
        "Y = load(y_path)\n",
        "Y = np.asarray(Y, dtype = 'int8')"
      ],
      "metadata": {
        "id": "101BpvWgN8xX"
      },
      "execution_count": 7,
      "outputs": []
    },
    {
      "cell_type": "code",
      "source": [
        "# Split to train, validation, and test sets.\n",
        "from sklearn.model_selection import train_test_split\n",
        "# 1st Split: X,Y => (x_train, x_tosplit) (y_train, y_tosplit)\n",
        "x_train, x_tosplit, y_train, y_tosplit = train_test_split(X, Y, test_size = 0.125, random_state = 1)\n",
        "# 2nd Split: x_tosplit,y_tosplit => (x_val, x_test) (y_val, y_test) \n",
        "x_val, x_test, y_val, y_test = train_test_split(x_tosplit, y_tosplit, test_size = 0.304, random_state = 1)\n",
        "#'One-hot' vectors for Y: emotion classification\n",
        "y_train_class = tf.keras.utils.to_categorical(y_train, 8, dtype = 'int8')\n",
        "y_val_class = tf.keras.utils.to_categorical(y_val, 8, dtype = 'int8')"
      ],
      "metadata": {
        "id": "CuF9M1mfOD7X"
      },
      "execution_count": 8,
      "outputs": []
    },
    {
      "cell_type": "code",
      "source": [
        "# x_train, x_val, and x_test shape check.\n",
        "print(np.shape(x_train))\n",
        "print(np.shape(x_val))\n",
        "print(np.shape(x_test))"
      ],
      "metadata": {
        "colab": {
          "base_uri": "https://localhost:8080/"
        },
        "id": "od-D1YgBOGXs",
        "outputId": "e98c73ab-363d-4d0a-e4a2-0a1aca48b68a"
      },
      "execution_count": 9,
      "outputs": [
        {
          "output_type": "stream",
          "name": "stdout",
          "text": [
            "(2145, 523, 15)\n",
            "(213, 523, 15)\n",
            "(94, 523, 15)\n"
          ]
        }
      ]
    },
    {
      "cell_type": "code",
      "source": [
        "# Save x_test, y_test to JSON.\n",
        "\n",
        "x_test_path = processed_path + 'x_test_data.json'\n",
        "dump(obj = x_test, fp = x_test_path)\n",
        "\n",
        "y_test_path = processed_path + 'y_test_data.json'\n",
        "dump(obj = y_test, fp = y_test_path)"
      ],
      "metadata": {
        "colab": {
          "base_uri": "https://localhost:8080/",
          "height": 88
        },
        "id": "nTExHJVsOHQ5",
        "outputId": "1c1f30fb-f857-425a-b202-542ca865ddeb"
      },
      "execution_count": 10,
      "outputs": [
        {
          "output_type": "execute_result",
          "data": {
            "text/plain": [
              "'{\"__ndarray__\": [[2], [2], [2], [0], [4], [6], [2], [0], [5], [0], [3], [5], [4], [1], [6], [4], [3], [5], [4], [5], [7], [1], [7], [1], [2], [5], [4], [5], [4], [1], [2], [1], [3], [3], [3], [3], [3], [3], [5], [1], [5], [2], [1], [6], [2], [1], [3], [6], [1], [5], [6], [7], [4], [2], [6], [4], [4], [5], [4], [4], [2], [3], [1], [7], [7], [1], [6], [4], [3], [7], [6], [2], [4], [6], [1], [0], [1], [2], [4], [5], [4], [3], [1], [4], [3], [6], [7], [7], [5], [7], [1], [2], [1], [4]], \"dtype\": \"int8\", \"shape\": [94, 1], \"Corder\": true}'"
            ],
            "application/vnd.google.colaboratory.intrinsic+json": {
              "type": "string"
            }
          },
          "metadata": {},
          "execution_count": 10
        }
      ]
    },
    {
      "cell_type": "code",
      "source": [
        "# Loading x_test, y_test json files, and converting to np.arrays\n",
        "\n",
        "x_test = load(processed_path + 'x_test_data.json')\n",
        "x_test = np.asarray(x_test).astype('float32')\n",
        "\n",
        "y_test = load(processed_path + 'y_test_data.json')\n",
        "y_test = np.asarray(y_test).astype('int8')\n",
        "\n",
        "y_test_class = tf.keras.utils.to_categorical(y_test, 8, dtype = 'int8')"
      ],
      "metadata": {
        "id": "kAFBRsmk5dzm"
      },
      "execution_count": 11,
      "outputs": []
    },
    {
      "cell_type": "code",
      "source": [
        "X.shape"
      ],
      "metadata": {
        "id": "15joCR4gu4r7",
        "colab": {
          "base_uri": "https://localhost:8080/"
        },
        "outputId": "c7849b76-e4ae-4596-d379-145a4778750a"
      },
      "execution_count": 12,
      "outputs": [
        {
          "output_type": "execute_result",
          "data": {
            "text/plain": [
              "(2452, 523, 15)"
            ]
          },
          "metadata": {},
          "execution_count": 12
        }
      ]
    },
    {
      "cell_type": "code",
      "source": [
        "X.shape[1:3]"
      ],
      "metadata": {
        "colab": {
          "base_uri": "https://localhost:8080/"
        },
        "id": "8MQhoPKjEzi4",
        "outputId": "29b40e67-69df-4296-e091-6de1c1806d6e"
      },
      "execution_count": 13,
      "outputs": [
        {
          "output_type": "execute_result",
          "data": {
            "text/plain": [
              "(523, 15)"
            ]
          },
          "metadata": {},
          "execution_count": 13
        }
      ]
    },
    {
      "cell_type": "markdown",
      "source": [
        "# RNN Model"
      ],
      "metadata": {
        "id": "gnWVMbR6KixC"
      }
    },
    {
      "cell_type": "code",
      "source": [
        "tic"
      ],
      "metadata": {
        "colab": {
          "base_uri": "https://localhost:8080/"
        },
        "id": "7CHZWdfcN8oo",
        "outputId": "06b38859-fbba-4bda-f188-b46d9ec17242"
      },
      "execution_count": 14,
      "outputs": [
        {
          "output_type": "execute_result",
          "data": {
            "text/plain": [
              "79.216274253"
            ]
          },
          "metadata": {},
          "execution_count": 14
        }
      ]
    },
    {
      "cell_type": "markdown",
      "source": [
        "## Define Model & Training"
      ],
      "metadata": {
        "id": "GJjJYnJQORJ8"
      }
    },
    {
      "cell_type": "code",
      "source": [
        "X.shape"
      ],
      "metadata": {
        "colab": {
          "base_uri": "https://localhost:8080/"
        },
        "id": "Mp44ii28CiPt",
        "outputId": "6db47094-c8c9-48d5-b606-7b3c58733bdb"
      },
      "execution_count": 27,
      "outputs": [
        {
          "output_type": "execute_result",
          "data": {
            "text/plain": [
              "(2452, 523, 15)"
            ]
          },
          "metadata": {},
          "execution_count": 27
        }
      ]
    },
    {
      "cell_type": "code",
      "source": [
        "max_features = 2452\n",
        "embed_dim = 256"
      ],
      "metadata": {
        "id": "ALafROv3DmHV"
      },
      "execution_count": 42,
      "outputs": []
    },
    {
      "cell_type": "code",
      "source": [
        ""
      ],
      "metadata": {
        "id": "tySHfGDlBFWz"
      },
      "execution_count": 42,
      "outputs": []
    },
    {
      "cell_type": "code",
      "source": [
        "# Initializing the model\n",
        "\n",
        "model = Sequential()\n",
        "model.add(layers.Bidirectional(layers.GRU(128, return_sequences = True), input_shape=(X.shape[1:3])))\n",
        "model.add(layers.Bidirectional(layers.GRU((64))))\n",
        "model.add(layers.Dense(8, activation = 'softmax'))\n",
        "print(model.summary())\n",
        "\n",
        "batch_size = 23\n",
        "\n",
        "# Callbacks functions\n",
        "\n",
        "#-> EearlyStopping\n",
        "es = EarlyStopping(monitor='val_loss', mode='min', verbose=1,\n",
        "                    patience=10, min_delta=0.0001)\n",
        "\n",
        "\n",
        "#-> Save the best weights\n",
        "mcp_save = callbacks.ModelCheckpoint(checkpoint_path, save_best_only=True,\n",
        "                           monitor='val_categorical_accuracy',\n",
        "                           mode='max')\n",
        "#-> Reduce learning rate after 100 epoches without improvement.\n",
        "rlrop = callbacks.ReduceLROnPlateau(monitor='val_categorical_accuracy', \n",
        "                                    factor=0.1, patience=20)\n",
        "                             \n",
        "# Compile & train   \n",
        "model.compile(loss='categorical_crossentropy', \n",
        "                optimizer='RMSProp', \n",
        "                metrics=['categorical_accuracy'])\n",
        "\n",
        "\n"
      ],
      "metadata": {
        "colab": {
          "base_uri": "https://localhost:8080/"
        },
        "id": "aD2adyVGOJs4",
        "outputId": "226ad660-0d09-4270-9006-daf41bcf66e4"
      },
      "execution_count": 50,
      "outputs": [
        {
          "output_type": "stream",
          "name": "stdout",
          "text": [
            "Model: \"sequential_19\"\n",
            "_________________________________________________________________\n",
            " Layer (type)                Output Shape              Param #   \n",
            "=================================================================\n",
            " bidirectional_25 (Bidirecti  (None, 523, 256)         111360    \n",
            " onal)                                                           \n",
            "                                                                 \n",
            " bidirectional_26 (Bidirecti  (None, 128)              123648    \n",
            " onal)                                                           \n",
            "                                                                 \n",
            " dense_13 (Dense)            (None, 8)                 1032      \n",
            "                                                                 \n",
            "=================================================================\n",
            "Total params: 236,040\n",
            "Trainable params: 236,040\n",
            "Non-trainable params: 0\n",
            "_________________________________________________________________\n",
            "None\n"
          ]
        }
      ]
    },
    {
      "cell_type": "code",
      "source": [
        ""
      ],
      "metadata": {
        "id": "4DBF6kqx-OHZ"
      },
      "execution_count": 47,
      "outputs": []
    },
    {
      "cell_type": "code",
      "source": [
        "history = model.fit(x_train, y_train_class, \n",
        "                      epochs=340, batch_size = batch_size, \n",
        "                      validation_data = (x_val, y_val_class), \n",
        "                      callbacks = [es, mcp_save, rlrop])\n",
        "toc = time.perf_counter()"
      ],
      "metadata": {
        "colab": {
          "base_uri": "https://localhost:8080/"
        },
        "id": "Da7Gc9x_izth",
        "outputId": "157907c5-dc77-4519-bedd-02ead64daea7"
      },
      "execution_count": 51,
      "outputs": [
        {
          "output_type": "stream",
          "name": "stdout",
          "text": [
            "Epoch 1/340\n",
            "94/94 [==============================] - 135s 1s/step - loss: 2.0836 - categorical_accuracy: 0.1832 - val_loss: 2.0518 - val_categorical_accuracy: 0.1925 - lr: 0.0010\n",
            "Epoch 2/340\n",
            "94/94 [==============================] - 124s 1s/step - loss: 1.9154 - categorical_accuracy: 0.2620 - val_loss: 2.0470 - val_categorical_accuracy: 0.1784 - lr: 0.0010\n",
            "Epoch 3/340\n",
            "94/94 [==============================] - 125s 1s/step - loss: 1.8093 - categorical_accuracy: 0.3114 - val_loss: 1.9442 - val_categorical_accuracy: 0.2535 - lr: 0.0010\n",
            "Epoch 4/340\n",
            "94/94 [==============================] - 125s 1s/step - loss: 1.7298 - categorical_accuracy: 0.3557 - val_loss: 1.7901 - val_categorical_accuracy: 0.2911 - lr: 0.0010\n",
            "Epoch 5/340\n",
            "94/94 [==============================] - 125s 1s/step - loss: 1.6387 - categorical_accuracy: 0.3739 - val_loss: 1.7001 - val_categorical_accuracy: 0.3615 - lr: 0.0010\n",
            "Epoch 6/340\n",
            "94/94 [==============================] - 124s 1s/step - loss: 1.5836 - categorical_accuracy: 0.4075 - val_loss: 1.9651 - val_categorical_accuracy: 0.3052 - lr: 0.0010\n",
            "Epoch 7/340\n",
            "94/94 [==============================] - 124s 1s/step - loss: 1.5311 - categorical_accuracy: 0.4303 - val_loss: 1.7590 - val_categorical_accuracy: 0.3991 - lr: 0.0010\n",
            "Epoch 8/340\n",
            "94/94 [==============================] - 124s 1s/step - loss: 1.4738 - categorical_accuracy: 0.4629 - val_loss: 1.7516 - val_categorical_accuracy: 0.4038 - lr: 0.0010\n",
            "Epoch 9/340\n",
            "94/94 [==============================] - 124s 1s/step - loss: 1.4344 - categorical_accuracy: 0.4671 - val_loss: 2.8858 - val_categorical_accuracy: 0.2066 - lr: 0.0010\n",
            "Epoch 10/340\n",
            "94/94 [==============================] - 123s 1s/step - loss: 1.3729 - categorical_accuracy: 0.5035 - val_loss: 1.8837 - val_categorical_accuracy: 0.3146 - lr: 0.0010\n",
            "Epoch 11/340\n",
            "94/94 [==============================] - 125s 1s/step - loss: 1.3272 - categorical_accuracy: 0.5179 - val_loss: 1.5972 - val_categorical_accuracy: 0.4085 - lr: 0.0010\n",
            "Epoch 12/340\n",
            "94/94 [==============================] - 124s 1s/step - loss: 1.3024 - categorical_accuracy: 0.5347 - val_loss: 1.9653 - val_categorical_accuracy: 0.3568 - lr: 0.0010\n",
            "Epoch 13/340\n",
            "94/94 [==============================] - 124s 1s/step - loss: 1.2625 - categorical_accuracy: 0.5473 - val_loss: 1.5066 - val_categorical_accuracy: 0.4648 - lr: 0.0010\n",
            "Epoch 14/340\n",
            "94/94 [==============================] - 124s 1s/step - loss: 1.2213 - categorical_accuracy: 0.5557 - val_loss: 1.6912 - val_categorical_accuracy: 0.4131 - lr: 0.0010\n",
            "Epoch 15/340\n",
            "94/94 [==============================] - 125s 1s/step - loss: 1.1941 - categorical_accuracy: 0.5692 - val_loss: 1.4683 - val_categorical_accuracy: 0.4789 - lr: 0.0010\n",
            "Epoch 16/340\n",
            "94/94 [==============================] - 124s 1s/step - loss: 1.1392 - categorical_accuracy: 0.5818 - val_loss: 1.6236 - val_categorical_accuracy: 0.4413 - lr: 0.0010\n",
            "Epoch 17/340\n",
            "94/94 [==============================] - 124s 1s/step - loss: 1.0944 - categorical_accuracy: 0.5958 - val_loss: 1.4383 - val_categorical_accuracy: 0.4601 - lr: 0.0010\n",
            "Epoch 18/340\n",
            "94/94 [==============================] - 124s 1s/step - loss: 1.0841 - categorical_accuracy: 0.6019 - val_loss: 1.4675 - val_categorical_accuracy: 0.4789 - lr: 0.0010\n",
            "Epoch 19/340\n",
            "94/94 [==============================] - 123s 1s/step - loss: 1.0650 - categorical_accuracy: 0.6107 - val_loss: 1.7854 - val_categorical_accuracy: 0.4038 - lr: 0.0010\n",
            "Epoch 20/340\n",
            "94/94 [==============================] - 124s 1s/step - loss: 1.0059 - categorical_accuracy: 0.6326 - val_loss: 1.5112 - val_categorical_accuracy: 0.4695 - lr: 0.0010\n",
            "Epoch 21/340\n",
            "94/94 [==============================] - 124s 1s/step - loss: 0.9711 - categorical_accuracy: 0.6513 - val_loss: 1.5810 - val_categorical_accuracy: 0.4131 - lr: 0.0010\n",
            "Epoch 22/340\n",
            "94/94 [==============================] - 124s 1s/step - loss: 0.9881 - categorical_accuracy: 0.6401 - val_loss: 1.4944 - val_categorical_accuracy: 0.4695 - lr: 0.0010\n",
            "Epoch 23/340\n",
            "94/94 [==============================] - 124s 1s/step - loss: 0.9241 - categorical_accuracy: 0.6513 - val_loss: 1.7016 - val_categorical_accuracy: 0.4366 - lr: 0.0010\n",
            "Epoch 24/340\n",
            "94/94 [==============================] - 124s 1s/step - loss: 0.8990 - categorical_accuracy: 0.6765 - val_loss: 1.4999 - val_categorical_accuracy: 0.5023 - lr: 0.0010\n",
            "Epoch 25/340\n",
            "94/94 [==============================] - 124s 1s/step - loss: 0.8603 - categorical_accuracy: 0.6821 - val_loss: 1.5211 - val_categorical_accuracy: 0.4742 - lr: 0.0010\n",
            "Epoch 26/340\n",
            "94/94 [==============================] - 124s 1s/step - loss: 0.8628 - categorical_accuracy: 0.6951 - val_loss: 1.5084 - val_categorical_accuracy: 0.4789 - lr: 0.0010\n",
            "Epoch 27/340\n",
            "94/94 [==============================] - 124s 1s/step - loss: 0.8236 - categorical_accuracy: 0.7049 - val_loss: 1.5685 - val_categorical_accuracy: 0.4789 - lr: 0.0010\n",
            "Epoch 27: early stopping\n"
          ]
        }
      ]
    },
    {
      "cell_type": "code",
      "source": [
        ""
      ],
      "metadata": {
        "id": "3MekXCZHizyZ"
      },
      "execution_count": 51,
      "outputs": []
    },
    {
      "cell_type": "code",
      "source": [
        "print(f\"Running time: {(toc - tic)/60:0.4f} minutes\")"
      ],
      "metadata": {
        "id": "cHmSBRhVOELJ",
        "colab": {
          "base_uri": "https://localhost:8080/"
        },
        "outputId": "544e5664-048d-45ea-be45-cc4e99dee6ea"
      },
      "execution_count": 52,
      "outputs": [
        {
          "output_type": "stream",
          "name": "stdout",
          "text": [
            "Running time: 92.4078 minutes\n"
          ]
        }
      ]
    },
    {
      "cell_type": "markdown",
      "source": [
        "## Loading Model"
      ],
      "metadata": {
        "id": "jCQelzMAKixD"
      }
    },
    {
      "cell_type": "code",
      "source": [
        "# Define the best weights to the model.\\\n",
        "#model.load_weights(checkpoint_path)"
      ],
      "metadata": {
        "id": "gruZAW2wI-tO"
      },
      "execution_count": 53,
      "outputs": []
    },
    {
      "cell_type": "markdown",
      "source": [
        "# Evaluation"
      ],
      "metadata": {
        "id": "kDxTjEK0KixD"
      }
    },
    {
      "cell_type": "markdown",
      "source": [
        "## Save & Load model, weights"
      ],
      "metadata": {
        "id": "1YfguG0tPatV"
      }
    },
    {
      "cell_type": "code",
      "source": [
        "# Saving model & weights\n",
        "model_path = Ravdess + \"/model/\"\n",
        "model_json = model.to_json()\n",
        "\n",
        "\n",
        "\n",
        "with open(saved_model_path, \"w\") as json_file:\n",
        "    json_file.write(model_json)\n",
        "    \n",
        "model.save_weights(saved_weights_path)\n",
        "print(\"Saved model to disk\")"
      ],
      "metadata": {
        "id": "MsVoNhqmgGsK",
        "colab": {
          "base_uri": "https://localhost:8080/"
        },
        "outputId": "f09c5a8d-56e2-452a-8ff3-1af2d72437cc"
      },
      "execution_count": 54,
      "outputs": [
        {
          "output_type": "stream",
          "name": "stdout",
          "text": [
            "Saved model to disk\n"
          ]
        }
      ]
    },
    {
      "cell_type": "code",
      "source": [
        "# Reading the model from JSON file\n",
        "#model_path = Ravdess + \"/model/\"\n",
        "#saved_model_path = model_path + 'model8723.json'\n",
        "#saved_weights_path = model_path + 'model8723_weights.h5'\n",
        "\n",
        "\n",
        "with open(saved_model_path , 'r') as json_file:\n",
        "    json_savedModel = json_file.read()\n",
        "    \n",
        "# Loading the model architecture, weights\n",
        "model = tf.keras.models.model_from_json(json_savedModel)\n",
        "model.load_weights(saved_weights_path)\n",
        "\n",
        "# Compiling the model with similar parameters as the original model.\n",
        "model.compile(loss='categorical_crossentropy', \n",
        "                optimizer='RMSProp', \n",
        "                metrics=['categorical_accuracy'])\n",
        "\n",
        "# Model's structure visualization\n",
        "tf.keras.utils.plot_model(model, to_file='model.png', show_shapes=True, show_layer_names=True)"
      ],
      "metadata": {
        "id": "y4OJGhLmgfX6",
        "colab": {
          "base_uri": "https://localhost:8080/",
          "height": 0
        },
        "outputId": "8230ed09-eb8d-4653-fe47-aebecf0e8508"
      },
      "execution_count": 55,
      "outputs": [
        {
          "output_type": "execute_result",
          "data": {
            "text/plain": [
              "<IPython.core.display.Image object>"
            ],
            "image/png": "[encoded data removed]"
          },
          "metadata": {},
          "execution_count": 55
        }
      ]
    },
    {
      "cell_type": "code",
      "source": [
        ""
      ],
      "metadata": {
        "id": "B_SW6eUAgvEj"
      },
      "execution_count": 55,
      "outputs": []
    },
    {
      "cell_type": "code",
      "source": [
        ""
      ],
      "metadata": {
        "id": "cCfkUXTYgzSB"
      },
      "execution_count": 55,
      "outputs": []
    },
    {
      "cell_type": "code",
      "source": [
        "model.save(saved_model_path_2)"
      ],
      "metadata": {
        "trusted": true,
        "id": "Z5Uzb_bGKixE"
      },
      "execution_count": 56,
      "outputs": []
    },
    {
      "cell_type": "markdown",
      "source": [
        "## Train (fit) Visualization"
      ],
      "metadata": {
        "id": "ATvBW0SPO-eq"
      }
    },
    {
      "cell_type": "code",
      "source": [
        "# Loss, Accuracy presentation\n",
        "\n",
        "# Plot history: Loss\n",
        "plt.plot(history.history['loss'], label='Loss (training data)')\n",
        "plt.plot(history.history['val_loss'], label='Loss (validation data)')\n",
        "plt.title('Loss for train and validation')\n",
        "plt.ylabel('Loss value')\n",
        "plt.xlabel('No. epoch')\n",
        "plt.legend(loc=\"upper left\")\n",
        "plt.show()\n",
        "\n",
        "#Plot history: Accuracy\n",
        "plt.plot(history.history['categorical_accuracy'], label='Acc (training data)')\n",
        "plt.plot(history.history['val_categorical_accuracy'], label='Acc (validation data)')\n",
        "plt.title('Model accuracy')\n",
        "plt.ylabel('Acc %')\n",
        "plt.xlabel('No. epoch')\n",
        "plt.legend(loc=\"upper left\")\n",
        "plt.show()"
      ],
      "metadata": {
        "id": "UjhUHhU_f4EY",
        "colab": {
          "base_uri": "https://localhost:8080/",
          "height": 573
        },
        "outputId": "f27ca878-44f5-483e-c375-52ac9149d6f4"
      },
      "execution_count": 57,
      "outputs": [
        {
          "output_type": "display_data",
          "data": {
            "text/plain": [
              "<Figure size 432x288 with 1 Axes>"
            ],
            "image/png": "[encoded data removed]"
          },
          "metadata": {
            "needs_background": "light"
          }
        },
        {
          "output_type": "display_data",
          "data": {
            "text/plain": [
              "<Figure size 432x288 with 1 Axes>"
            ],
            "image/png": "[encoded data removed]"
          },
          "metadata": {
            "needs_background": "light"
          }
        }
      ]
    },
    {
      "cell_type": "markdown",
      "source": [
        "## Validation Set Evaluation"
      ],
      "metadata": {
        "id": "UZ3lFduxPQeB"
      }
    },
    {
      "cell_type": "markdown",
      "source": [
        "### Val Set Score"
      ],
      "metadata": {
        "id": "5YoYCa22PMGz"
      }
    },
    {
      "cell_type": "code",
      "source": [
        ""
      ],
      "metadata": {
        "id": "jQavrzbB_8fy"
      },
      "execution_count": 57,
      "outputs": []
    },
    {
      "cell_type": "code",
      "source": [
        "# Validation score\n",
        "loss,acc = model.evaluate(x_val, y_val_class, verbose=2)\n"
      ],
      "metadata": {
        "id": "X_KdTUyrf7-j",
        "colab": {
          "base_uri": "https://localhost:8080/"
        },
        "outputId": "2844da49-990d-4bac-97cb-a496eb2680fb"
      },
      "execution_count": 58,
      "outputs": [
        {
          "output_type": "stream",
          "name": "stdout",
          "text": [
            "7/7 - 4s - loss: 1.5685 - categorical_accuracy: 0.4789 - 4s/epoch - 509ms/step\n"
          ]
        }
      ]
    },
    {
      "cell_type": "code",
      "source": [
        ""
      ],
      "metadata": {
        "id": "09k_I9DM_2Q0"
      },
      "execution_count": 58,
      "outputs": []
    },
    {
      "cell_type": "markdown",
      "source": [
        "### Construct Predicted Labels based on Probability of each class"
      ],
      "metadata": {
        "id": "hz7nc15A_3hb"
      }
    },
    {
      "cell_type": "code",
      "source": [
        "y_val_class"
      ],
      "metadata": {
        "id": "CFM1P2SZ_85N",
        "colab": {
          "base_uri": "https://localhost:8080/"
        },
        "outputId": "93fd5b62-cce2-499b-99cb-f485e3a6de2d"
      },
      "execution_count": 59,
      "outputs": [
        {
          "output_type": "execute_result",
          "data": {
            "text/plain": [
              "array([[0, 0, 0, ..., 1, 0, 0],\n",
              "       [0, 0, 0, ..., 1, 0, 0],\n",
              "       [0, 0, 1, ..., 0, 0, 0],\n",
              "       ...,\n",
              "       [1, 0, 0, ..., 0, 0, 0],\n",
              "       [0, 0, 1, ..., 0, 0, 0],\n",
              "       [0, 0, 0, ..., 0, 0, 0]], dtype=int8)"
            ]
          },
          "metadata": {},
          "execution_count": 59
        }
      ]
    },
    {
      "cell_type": "code",
      "source": [
        "np.argmax(y_val_class, axis=1)"
      ],
      "metadata": {
        "id": "C9UHSeXbAASy",
        "colab": {
          "base_uri": "https://localhost:8080/"
        },
        "outputId": "6a86b7a5-9c15-4592-e401-490ecd44cf46"
      },
      "execution_count": 60,
      "outputs": [
        {
          "output_type": "execute_result",
          "data": {
            "text/plain": [
              "array([5, 5, 2, 4, 4, 5, 3, 5, 1, 7, 1, 6, 1, 0, 3, 5, 4, 5, 0, 4, 4, 7,\n",
              "       3, 5, 5, 3, 4, 7, 6, 3, 1, 4, 1, 4, 3, 4, 5, 0, 1, 3, 3, 6, 2, 3,\n",
              "       3, 4, 3, 4, 5, 1, 2, 2, 2, 3, 1, 3, 5, 3, 5, 6, 2, 1, 5, 0, 3, 2,\n",
              "       1, 7, 3, 2, 0, 5, 1, 5, 2, 1, 7, 7, 3, 4, 0, 5, 4, 3, 0, 6, 5, 2,\n",
              "       2, 7, 3, 1, 1, 2, 4, 4, 1, 5, 6, 3, 2, 2, 2, 4, 5, 7, 5, 6, 1, 4,\n",
              "       2, 2, 6, 1, 2, 3, 2, 3, 4, 4, 6, 4, 5, 4, 6, 0, 5, 7, 2, 7, 0, 2,\n",
              "       7, 1, 4, 4, 1, 1, 1, 2, 5, 3, 2, 2, 0, 6, 4, 6, 1, 4, 7, 2, 3, 2,\n",
              "       3, 2, 4, 2, 4, 6, 5, 2, 4, 4, 4, 7, 4, 2, 4, 3, 6, 3, 0, 5, 3, 0,\n",
              "       1, 1, 4, 4, 2, 5, 2, 7, 5, 4, 3, 4, 0, 5, 4, 2, 6, 2, 2, 3, 2, 3,\n",
              "       5, 6, 3, 2, 4, 6, 2, 5, 3, 0, 2, 4, 0, 2, 4])"
            ]
          },
          "metadata": {},
          "execution_count": 60
        }
      ]
    },
    {
      "cell_type": "code",
      "source": [
        "y_val_class = np.argmax(y_val_class, axis=1)\n",
        "predictions_val = model.predict(x_val)\n",
        "y_proba_val_class = predictions_val\n",
        "y_pred_val_class = np.argmax(predictions_val, axis=1)"
      ],
      "metadata": {
        "id": "urjydD-38JK7"
      },
      "execution_count": 61,
      "outputs": []
    },
    {
      "cell_type": "code",
      "source": [
        "predictions_val\n"
      ],
      "metadata": {
        "id": "Zb7dGRs3AEJn",
        "colab": {
          "base_uri": "https://localhost:8080/"
        },
        "outputId": "dae4a66b-eeb0-49a4-973f-36741e4e1f1b"
      },
      "execution_count": 62,
      "outputs": [
        {
          "output_type": "execute_result",
          "data": {
            "text/plain": [
              "array([[4.53260839e-02, 3.16921063e-03, 8.87846127e-02, ...,\n",
              "        3.58349551e-03, 4.46024205e-05, 5.66412520e-04],\n",
              "       [4.09701234e-03, 2.11080849e-01, 2.67578964e-03, ...,\n",
              "        9.33138207e-02, 2.27720782e-04, 6.90139641e-05],\n",
              "       [5.20228982e-01, 2.84396231e-01, 1.67922705e-01, ...,\n",
              "        1.41797564e-03, 1.00376834e-04, 7.20557757e-04],\n",
              "       ...,\n",
              "       [1.51192486e-01, 1.13893211e-01, 3.11814584e-02, ...,\n",
              "        2.32143439e-02, 7.48676956e-02, 1.66013092e-01],\n",
              "       [9.56568867e-03, 1.33300945e-01, 7.55333304e-01, ...,\n",
              "        2.16143928e-03, 1.95525805e-04, 1.10812334e-03],\n",
              "       [1.01743257e-02, 1.02083967e-03, 1.58789214e-02, ...,\n",
              "        1.18166823e-02, 2.00138777e-03, 2.62112799e-03]], dtype=float32)"
            ]
          },
          "metadata": {},
          "execution_count": 62
        }
      ]
    },
    {
      "cell_type": "code",
      "source": [
        "y_pred_val_class "
      ],
      "metadata": {
        "id": "KxHa1Ss1AJo4",
        "colab": {
          "base_uri": "https://localhost:8080/"
        },
        "outputId": "d3008ada-7cdd-44b3-b302-44c0bdf8d423"
      },
      "execution_count": 63,
      "outputs": [
        {
          "output_type": "execute_result",
          "data": {
            "text/plain": [
              "array([4, 3, 0, 4, 4, 1, 2, 3, 1, 6, 3, 4, 1, 3, 3, 6, 1, 3, 2, 4, 4, 4,\n",
              "       1, 1, 5, 4, 4, 7, 1, 7, 4, 4, 1, 4, 1, 4, 1, 3, 1, 1, 3, 6, 2, 1,\n",
              "       1, 4, 3, 4, 2, 1, 2, 1, 4, 3, 1, 3, 4, 1, 4, 6, 1, 1, 7, 1, 3, 4,\n",
              "       1, 4, 3, 4, 2, 5, 1, 4, 1, 1, 5, 7, 4, 1, 1, 4, 0, 1, 0, 1, 2, 2,\n",
              "       2, 5, 2, 3, 1, 2, 4, 4, 1, 1, 6, 0, 1, 2, 2, 4, 4, 1, 5, 6, 1, 1,\n",
              "       5, 1, 6, 3, 2, 3, 2, 1, 4, 4, 6, 4, 6, 4, 4, 1, 5, 0, 1, 1, 1, 5,\n",
              "       3, 3, 4, 4, 1, 1, 1, 2, 3, 1, 2, 2, 1, 6, 2, 3, 1, 4, 2, 1, 3, 1,\n",
              "       1, 2, 6, 2, 4, 6, 2, 2, 4, 4, 4, 2, 4, 4, 4, 1, 4, 1, 1, 3, 3, 7,\n",
              "       1, 1, 4, 4, 2, 0, 2, 7, 3, 4, 4, 4, 1, 1, 4, 1, 1, 2, 2, 1, 1, 1,\n",
              "       1, 6, 1, 2, 4, 4, 3, 1, 4, 0, 1, 4, 3, 2, 4])"
            ]
          },
          "metadata": {},
          "execution_count": 63
        }
      ]
    },
    {
      "cell_type": "markdown",
      "source": [
        "### Val Set Confusion Matrix and Heatmap"
      ],
      "metadata": {
        "id": "d2ullxf9PUMd"
      }
    },
    {
      "cell_type": "code",
      "source": [
        "# Validation Confusion matrix\n",
        "cm=confusion_matrix(y_val_class, y_pred_val_class)\n",
        "\n",
        "index = ['neutral', 'calm', 'happy', 'sad', 'angry', 'fearful', 'disgust', 'surprised']  \n",
        "columns = ['neutral', 'calm', 'happy', 'sad', 'angry', 'fearful', 'disgust', 'surprised']  \n",
        " \n",
        "cm_df = pd.DataFrame(cm,index,columns)                      \n",
        "plt.figure(figsize=(12,8))\n",
        "ax = plt.axes()\n",
        "\n",
        "sns.heatmap(cm_df, ax = ax, cmap = 'PuBu', fmt=\"d\", annot=True)\n",
        "ax.set_ylabel('True emotion')\n",
        "ax.set_xlabel('Predicted emotion')"
      ],
      "metadata": {
        "id": "doLcg3CTf9bx",
        "colab": {
          "base_uri": "https://localhost:8080/",
          "height": 0
        },
        "outputId": "6e01d088-ffc6-4742-b04d-777012942c67"
      },
      "execution_count": 64,
      "outputs": [
        {
          "output_type": "execute_result",
          "data": {
            "text/plain": [
              "Text(0.5, 51.0, 'Predicted emotion')"
            ]
          },
          "metadata": {},
          "execution_count": 64
        },
        {
          "output_type": "display_data",
          "data": {
            "text/plain": [
              "<Figure size 864x576 with 2 Axes>"
            ],
            "image/png": "[encoded data removed]"
          },
          "metadata": {
            "needs_background": "light"
          }
        }
      ]
    },
    {
      "cell_type": "code",
      "source": [
        "# Confusion Matrix\n",
        "cm"
      ],
      "metadata": {
        "id": "hIEG9Pia8Nfp",
        "colab": {
          "base_uri": "https://localhost:8080/"
        },
        "outputId": "9a7618c0-45c1-4c77-a001-716bf9f1eddf"
      },
      "execution_count": 65,
      "outputs": [
        {
          "output_type": "execute_result",
          "data": {
            "text/plain": [
              "array([[ 2,  7,  2,  3,  0,  0,  0,  1],\n",
              "       [ 0, 19,  0,  4,  1,  0,  0,  0],\n",
              "       [ 1, 11, 21,  1,  4,  2,  0,  0],\n",
              "       [ 1, 15,  2, 10,  4,  0,  0,  1],\n",
              "       [ 1,  3,  1,  0, 34,  0,  1,  0],\n",
              "       [ 1,  7,  3,  6,  6,  4,  2,  1],\n",
              "       [ 0,  3,  0,  1,  4,  0,  9,  0],\n",
              "       [ 1,  2,  2,  1,  2,  2,  1,  3]])"
            ]
          },
          "metadata": {},
          "execution_count": 65
        }
      ]
    },
    {
      "cell_type": "markdown",
      "source": [
        "### Validation Set Predicted emotions accuracy"
      ],
      "metadata": {
        "id": "kWjKgUdRPYH5"
      }
    },
    {
      "cell_type": "code",
      "source": [
        "# Validation set prediction accuracy rates\n",
        "\n",
        "values = cm.diagonal()\n",
        "row_sum = np.sum(cm,axis=1)\n",
        "acc = values / row_sum\n",
        "\n",
        "print('Validation set predicted emotions accuracy:')\n",
        "for e in range(0, len(values)):\n",
        "    print(index[e],':', f\"{(acc[e]):0.4f}\")"
      ],
      "metadata": {
        "id": "MopdywY9f-mS",
        "colab": {
          "base_uri": "https://localhost:8080/"
        },
        "outputId": "1303f554-7d8d-4ef4-efa7-ce0757829f97"
      },
      "execution_count": 66,
      "outputs": [
        {
          "output_type": "stream",
          "name": "stdout",
          "text": [
            "Validation set predicted emotions accuracy:\n",
            "neutral : 0.1333\n",
            "calm : 0.7917\n",
            "happy : 0.5250\n",
            "sad : 0.3030\n",
            "angry : 0.8500\n",
            "fearful : 0.1333\n",
            "disgust : 0.5294\n",
            "surprised : 0.2143\n"
          ]
        }
      ]
    },
    {
      "cell_type": "markdown",
      "source": [
        "### Precision, Recal, Fscore"
      ],
      "metadata": {
        "id": "DGSTy2228XRH"
      }
    },
    {
      "cell_type": "code",
      "source": [
        "# Validation set precision, recall, fscore\n",
        "\n",
        "precision_recall_fscore_support(y_val_class, y_pred_val_class, average='macro')\n"
      ],
      "metadata": {
        "id": "rOwUkCG0gGpm",
        "colab": {
          "base_uri": "https://localhost:8080/"
        },
        "outputId": "80a73bae-7eca-4130-c9d0-f0190a464113"
      },
      "execution_count": 67,
      "outputs": [
        {
          "output_type": "execute_result",
          "data": {
            "text/plain": [
              "(0.4927275781512662, 0.4350076394194041, 0.4195310919370486, None)"
            ]
          },
          "metadata": {},
          "execution_count": 67
        }
      ]
    },
    {
      "cell_type": "code",
      "source": [
        "precision_recall_fscore_support(y_val_class, y_pred_val_class, average='weighted')"
      ],
      "metadata": {
        "id": "OorFgXxDzy3o",
        "colab": {
          "base_uri": "https://localhost:8080/"
        },
        "outputId": "62aca997-561e-4747-af20-9edb316756fa"
      },
      "execution_count": 68,
      "outputs": [
        {
          "output_type": "execute_result",
          "data": {
            "text/plain": [
              "(0.513508309001538, 0.4788732394366197, 0.4551409937993211, None)"
            ]
          },
          "metadata": {},
          "execution_count": 68
        }
      ]
    },
    {
      "cell_type": "markdown",
      "source": [
        "## Test Set Evaluation"
      ],
      "metadata": {
        "id": "FiCwOjmPPgCn"
      }
    },
    {
      "cell_type": "markdown",
      "source": [
        "### Test Set Score\n",
        "\n"
      ],
      "metadata": {
        "id": "CWB7U5xDUSmF"
      }
    },
    {
      "cell_type": "code",
      "source": [
        "loss, acc = model.evaluate(x_test, y_test_class, verbose=2)"
      ],
      "metadata": {
        "id": "Y7NEHPM-gzml",
        "colab": {
          "base_uri": "https://localhost:8080/"
        },
        "outputId": "b064bc31-e26c-4f6c-edb5-91fca8cbabaa"
      },
      "execution_count": 69,
      "outputs": [
        {
          "output_type": "stream",
          "name": "stdout",
          "text": [
            "3/3 - 1s - loss: 1.3678 - categorical_accuracy: 0.5106 - 895ms/epoch - 298ms/step\n"
          ]
        }
      ]
    },
    {
      "cell_type": "markdown",
      "source": [
        "### Construct Predicted Labels based on Probability of each class"
      ],
      "metadata": {
        "id": "gPwcFV9oAhGh"
      }
    },
    {
      "cell_type": "code",
      "source": [
        "y_test_class"
      ],
      "metadata": {
        "id": "tjN7Eit7AiML",
        "colab": {
          "base_uri": "https://localhost:8080/"
        },
        "outputId": "27cb7afa-e0d9-4b85-a882-29ec0518396d"
      },
      "execution_count": 70,
      "outputs": [
        {
          "output_type": "execute_result",
          "data": {
            "text/plain": [
              "array([[0, 0, 1, 0, 0, 0, 0, 0],\n",
              "       [0, 0, 1, 0, 0, 0, 0, 0],\n",
              "       [0, 0, 1, 0, 0, 0, 0, 0],\n",
              "       [1, 0, 0, 0, 0, 0, 0, 0],\n",
              "       [0, 0, 0, 0, 1, 0, 0, 0],\n",
              "       [0, 0, 0, 0, 0, 0, 1, 0],\n",
              "       [0, 0, 1, 0, 0, 0, 0, 0],\n",
              "       [1, 0, 0, 0, 0, 0, 0, 0],\n",
              "       [0, 0, 0, 0, 0, 1, 0, 0],\n",
              "       [1, 0, 0, 0, 0, 0, 0, 0],\n",
              "       [0, 0, 0, 1, 0, 0, 0, 0],\n",
              "       [0, 0, 0, 0, 0, 1, 0, 0],\n",
              "       [0, 0, 0, 0, 1, 0, 0, 0],\n",
              "       [0, 1, 0, 0, 0, 0, 0, 0],\n",
              "       [0, 0, 0, 0, 0, 0, 1, 0],\n",
              "       [0, 0, 0, 0, 1, 0, 0, 0],\n",
              "       [0, 0, 0, 1, 0, 0, 0, 0],\n",
              "       [0, 0, 0, 0, 0, 1, 0, 0],\n",
              "       [0, 0, 0, 0, 1, 0, 0, 0],\n",
              "       [0, 0, 0, 0, 0, 1, 0, 0],\n",
              "       [0, 0, 0, 0, 0, 0, 0, 1],\n",
              "       [0, 1, 0, 0, 0, 0, 0, 0],\n",
              "       [0, 0, 0, 0, 0, 0, 0, 1],\n",
              "       [0, 1, 0, 0, 0, 0, 0, 0],\n",
              "       [0, 0, 1, 0, 0, 0, 0, 0],\n",
              "       [0, 0, 0, 0, 0, 1, 0, 0],\n",
              "       [0, 0, 0, 0, 1, 0, 0, 0],\n",
              "       [0, 0, 0, 0, 0, 1, 0, 0],\n",
              "       [0, 0, 0, 0, 1, 0, 0, 0],\n",
              "       [0, 1, 0, 0, 0, 0, 0, 0],\n",
              "       [0, 0, 1, 0, 0, 0, 0, 0],\n",
              "       [0, 1, 0, 0, 0, 0, 0, 0],\n",
              "       [0, 0, 0, 1, 0, 0, 0, 0],\n",
              "       [0, 0, 0, 1, 0, 0, 0, 0],\n",
              "       [0, 0, 0, 1, 0, 0, 0, 0],\n",
              "       [0, 0, 0, 1, 0, 0, 0, 0],\n",
              "       [0, 0, 0, 1, 0, 0, 0, 0],\n",
              "       [0, 0, 0, 1, 0, 0, 0, 0],\n",
              "       [0, 0, 0, 0, 0, 1, 0, 0],\n",
              "       [0, 1, 0, 0, 0, 0, 0, 0],\n",
              "       [0, 0, 0, 0, 0, 1, 0, 0],\n",
              "       [0, 0, 1, 0, 0, 0, 0, 0],\n",
              "       [0, 1, 0, 0, 0, 0, 0, 0],\n",
              "       [0, 0, 0, 0, 0, 0, 1, 0],\n",
              "       [0, 0, 1, 0, 0, 0, 0, 0],\n",
              "       [0, 1, 0, 0, 0, 0, 0, 0],\n",
              "       [0, 0, 0, 1, 0, 0, 0, 0],\n",
              "       [0, 0, 0, 0, 0, 0, 1, 0],\n",
              "       [0, 1, 0, 0, 0, 0, 0, 0],\n",
              "       [0, 0, 0, 0, 0, 1, 0, 0],\n",
              "       [0, 0, 0, 0, 0, 0, 1, 0],\n",
              "       [0, 0, 0, 0, 0, 0, 0, 1],\n",
              "       [0, 0, 0, 0, 1, 0, 0, 0],\n",
              "       [0, 0, 1, 0, 0, 0, 0, 0],\n",
              "       [0, 0, 0, 0, 0, 0, 1, 0],\n",
              "       [0, 0, 0, 0, 1, 0, 0, 0],\n",
              "       [0, 0, 0, 0, 1, 0, 0, 0],\n",
              "       [0, 0, 0, 0, 0, 1, 0, 0],\n",
              "       [0, 0, 0, 0, 1, 0, 0, 0],\n",
              "       [0, 0, 0, 0, 1, 0, 0, 0],\n",
              "       [0, 0, 1, 0, 0, 0, 0, 0],\n",
              "       [0, 0, 0, 1, 0, 0, 0, 0],\n",
              "       [0, 1, 0, 0, 0, 0, 0, 0],\n",
              "       [0, 0, 0, 0, 0, 0, 0, 1],\n",
              "       [0, 0, 0, 0, 0, 0, 0, 1],\n",
              "       [0, 1, 0, 0, 0, 0, 0, 0],\n",
              "       [0, 0, 0, 0, 0, 0, 1, 0],\n",
              "       [0, 0, 0, 0, 1, 0, 0, 0],\n",
              "       [0, 0, 0, 1, 0, 0, 0, 0],\n",
              "       [0, 0, 0, 0, 0, 0, 0, 1],\n",
              "       [0, 0, 0, 0, 0, 0, 1, 0],\n",
              "       [0, 0, 1, 0, 0, 0, 0, 0],\n",
              "       [0, 0, 0, 0, 1, 0, 0, 0],\n",
              "       [0, 0, 0, 0, 0, 0, 1, 0],\n",
              "       [0, 1, 0, 0, 0, 0, 0, 0],\n",
              "       [1, 0, 0, 0, 0, 0, 0, 0],\n",
              "       [0, 1, 0, 0, 0, 0, 0, 0],\n",
              "       [0, 0, 1, 0, 0, 0, 0, 0],\n",
              "       [0, 0, 0, 0, 1, 0, 0, 0],\n",
              "       [0, 0, 0, 0, 0, 1, 0, 0],\n",
              "       [0, 0, 0, 0, 1, 0, 0, 0],\n",
              "       [0, 0, 0, 1, 0, 0, 0, 0],\n",
              "       [0, 1, 0, 0, 0, 0, 0, 0],\n",
              "       [0, 0, 0, 0, 1, 0, 0, 0],\n",
              "       [0, 0, 0, 1, 0, 0, 0, 0],\n",
              "       [0, 0, 0, 0, 0, 0, 1, 0],\n",
              "       [0, 0, 0, 0, 0, 0, 0, 1],\n",
              "       [0, 0, 0, 0, 0, 0, 0, 1],\n",
              "       [0, 0, 0, 0, 0, 1, 0, 0],\n",
              "       [0, 0, 0, 0, 0, 0, 0, 1],\n",
              "       [0, 1, 0, 0, 0, 0, 0, 0],\n",
              "       [0, 0, 1, 0, 0, 0, 0, 0],\n",
              "       [0, 1, 0, 0, 0, 0, 0, 0],\n",
              "       [0, 0, 0, 0, 1, 0, 0, 0]], dtype=int8)"
            ]
          },
          "metadata": {},
          "execution_count": 70
        }
      ]
    },
    {
      "cell_type": "code",
      "source": [
        " np.argmax(y_test_class, axis=1)"
      ],
      "metadata": {
        "id": "2fcK-_HzAmc5",
        "colab": {
          "base_uri": "https://localhost:8080/"
        },
        "outputId": "255ac421-8d3c-4370-ff39-886673da495b"
      },
      "execution_count": 71,
      "outputs": [
        {
          "output_type": "execute_result",
          "data": {
            "text/plain": [
              "array([2, 2, 2, 0, 4, 6, 2, 0, 5, 0, 3, 5, 4, 1, 6, 4, 3, 5, 4, 5, 7, 1,\n",
              "       7, 1, 2, 5, 4, 5, 4, 1, 2, 1, 3, 3, 3, 3, 3, 3, 5, 1, 5, 2, 1, 6,\n",
              "       2, 1, 3, 6, 1, 5, 6, 7, 4, 2, 6, 4, 4, 5, 4, 4, 2, 3, 1, 7, 7, 1,\n",
              "       6, 4, 3, 7, 6, 2, 4, 6, 1, 0, 1, 2, 4, 5, 4, 3, 1, 4, 3, 6, 7, 7,\n",
              "       5, 7, 1, 2, 1, 4])"
            ]
          },
          "metadata": {},
          "execution_count": 71
        }
      ]
    },
    {
      "cell_type": "code",
      "source": [
        "y_test_class = np.argmax(y_test_class, axis=1)\n",
        "predictions_test = model.predict(x_test)\n",
        "y_pred_test_class = np.argmax(predictions_test, axis=1)\n",
        "y_proba_test_class = predictions_test\n",
        "\n"
      ],
      "metadata": {
        "id": "uyXvoU2rAckI"
      },
      "execution_count": 72,
      "outputs": []
    },
    {
      "cell_type": "code",
      "source": [
        "predictions_test"
      ],
      "metadata": {
        "id": "3BAOUaPwAtuY"
      },
      "execution_count": null,
      "outputs": []
    },
    {
      "cell_type": "code",
      "source": [
        "y_pred_test_class "
      ],
      "metadata": {
        "id": "ph-j4nBsAxjT",
        "colab": {
          "base_uri": "https://localhost:8080/"
        },
        "outputId": "c8f8a47a-b12f-47bf-a538-ababad140945"
      },
      "execution_count": 74,
      "outputs": [
        {
          "output_type": "execute_result",
          "data": {
            "text/plain": [
              "array([1, 0, 4, 2, 4, 6, 4, 0, 3, 1, 1, 4, 4, 1, 6, 4, 2, 3, 2, 2, 7, 1,\n",
              "       3, 1, 2, 5, 4, 3, 4, 3, 1, 1, 0, 3, 3, 1, 3, 3, 4, 1, 1, 2, 1, 6,\n",
              "       2, 1, 1, 4, 1, 2, 6, 4, 4, 2, 4, 4, 4, 1, 4, 4, 0, 3, 1, 5, 1, 1,\n",
              "       4, 1, 1, 4, 4, 4, 4, 4, 1, 1, 1, 1, 4, 2, 4, 3, 1, 4, 1, 3, 4, 2,\n",
              "       2, 5, 1, 2, 1, 4])"
            ]
          },
          "metadata": {},
          "execution_count": 74
        }
      ]
    },
    {
      "cell_type": "markdown",
      "source": [
        "### Test Set Confusion Matrix and Heatmap"
      ],
      "metadata": {
        "id": "Epp2QpxsUVXH"
      }
    },
    {
      "cell_type": "code",
      "source": [
        "# Test set Confusion matrix\n",
        "\n",
        "cm=confusion_matrix(y_test_class, y_pred_test_class)\n",
        "\n",
        "index = ['neutral', 'calm', 'happy', 'sad', 'angry', 'fearful', 'disgust', 'surprised']  \n",
        "columns = ['neutral', 'calm', 'happy', 'sad', 'angry', 'fearful', 'disgust', 'surprised']  \n",
        " \n",
        "cm_df = pd.DataFrame(cm,index,columns)                      \n",
        "plt.figure(figsize=(12,8))\n",
        "ax = plt.axes()\n",
        "\n",
        "sns.heatmap(cm_df, ax = ax, cmap = 'BuGn', fmt=\"d\", annot=True)\n",
        "ax.set_ylabel('True emotion')\n",
        "ax.set_xlabel('Predicted emotion')"
      ],
      "metadata": {
        "id": "ukGrk_cagzyb",
        "colab": {
          "base_uri": "https://localhost:8080/",
          "height": 0
        },
        "outputId": "271bce1c-250d-419b-c4b7-27a92bf2ca18"
      },
      "execution_count": 75,
      "outputs": [
        {
          "output_type": "execute_result",
          "data": {
            "text/plain": [
              "Text(0.5, 51.0, 'Predicted emotion')"
            ]
          },
          "metadata": {},
          "execution_count": 75
        },
        {
          "output_type": "display_data",
          "data": {
            "text/plain": [
              "<Figure size 864x576 with 2 Axes>"
            ],
            "image/png": "[encoded data removed]"
          },
          "metadata": {
            "needs_background": "light"
          }
        }
      ]
    },
    {
      "cell_type": "code",
      "source": [
        "# Confusion Matrix\n",
        "cm"
      ],
      "metadata": {
        "id": "9f51xwUE8haF",
        "colab": {
          "base_uri": "https://localhost:8080/"
        },
        "outputId": "756e3183-39c3-4ef1-c0e0-521c9275142b"
      },
      "execution_count": 76,
      "outputs": [
        {
          "output_type": "execute_result",
          "data": {
            "text/plain": [
              "array([[ 1,  2,  1,  0,  0,  0,  0,  0],\n",
              "       [ 0, 15,  0,  1,  0,  0,  0,  0],\n",
              "       [ 2,  3,  5,  0,  3,  0,  0,  0],\n",
              "       [ 1,  5,  1,  6,  0,  0,  0,  0],\n",
              "       [ 0,  1,  1,  0, 15,  0,  0,  0],\n",
              "       [ 0,  2,  4,  3,  2,  1,  0,  0],\n",
              "       [ 0,  0,  0,  1,  5,  0,  4,  0],\n",
              "       [ 0,  1,  1,  1,  3,  2,  0,  1]])"
            ]
          },
          "metadata": {},
          "execution_count": 76
        }
      ]
    },
    {
      "cell_type": "markdown",
      "source": [
        "### Test Set Predicted emotions accuracy"
      ],
      "metadata": {
        "id": "zil3CkweUX0q"
      }
    },
    {
      "cell_type": "code",
      "source": [
        "# Test set prediction accuracy rates\n",
        "\n",
        "values = cm.diagonal()\n",
        "row_sum = np.sum(cm,axis=1)\n",
        "acc = values / row_sum\n",
        "\n",
        "print('Test set predicted emotions accuracy:')\n",
        "for e in range(0, len(values)):\n",
        "    print(index[e],':', f\"{(acc[e]):0.4f}\")"
      ],
      "metadata": {
        "id": "t_ORyGGig090",
        "colab": {
          "base_uri": "https://localhost:8080/"
        },
        "outputId": "d69350f5-75d6-48c9-b8dd-967f26bea751"
      },
      "execution_count": 77,
      "outputs": [
        {
          "output_type": "stream",
          "name": "stdout",
          "text": [
            "Test set predicted emotions accuracy:\n",
            "neutral : 0.2500\n",
            "calm : 0.9375\n",
            "happy : 0.3846\n",
            "sad : 0.4615\n",
            "angry : 0.8824\n",
            "fearful : 0.0833\n",
            "disgust : 0.4000\n",
            "surprised : 0.1111\n"
          ]
        }
      ]
    },
    {
      "cell_type": "markdown",
      "source": [
        "### Precision, Recal, Fscore"
      ],
      "metadata": {
        "id": "8Hzthv1t8kwd"
      }
    },
    {
      "cell_type": "code",
      "source": [
        "# Validation set precision, recall, fscore\n",
        "\n",
        "precision_recall_fscore_support(y_test_class, y_pred_test_class, average='macro')\n"
      ],
      "metadata": {
        "id": "QnwWoVFnh33F",
        "colab": {
          "base_uri": "https://localhost:8080/"
        },
        "outputId": "3135f78e-69fe-4f17-fa44-cc73190699d2"
      },
      "execution_count": 78,
      "outputs": [
        {
          "output_type": "execute_result",
          "data": {
            "text/plain": [
              "(0.5651130478716686, 0.43880640397184517, 0.4190888278388279, None)"
            ]
          },
          "metadata": {},
          "execution_count": 78
        }
      ]
    },
    {
      "cell_type": "code",
      "source": [
        "precision_recall_fscore_support(y_test_class, y_pred_test_class, average='weighted')"
      ],
      "metadata": {
        "id": "OlDhuPlqzwVB",
        "colab": {
          "base_uri": "https://localhost:8080/"
        },
        "outputId": "1e83a540-7220-42be-dda5-e1661eb89e04"
      },
      "execution_count": 79,
      "outputs": [
        {
          "output_type": "execute_result",
          "data": {
            "text/plain": [
              "(0.562585158788387, 0.5106382978723404, 0.4612158054711246, None)"
            ]
          },
          "metadata": {},
          "execution_count": 79
        }
      ]
    },
    {
      "cell_type": "markdown",
      "source": [
        "### ROC AUC Score"
      ],
      "metadata": {
        "id": "sEuBd9IyLuiD"
      }
    },
    {
      "cell_type": "code",
      "source": [
        "ravdess_df = pd.read_csv (df_path)"
      ],
      "metadata": {
        "id": "8bb4OSmyTO6v"
      },
      "execution_count": 80,
      "outputs": []
    },
    {
      "cell_type": "code",
      "source": [
        "labels = [\"neutral\", \"calm\", \"happy\", \"sad\", \"angry\", \"fear\", \"disgust\", \"suprised\"]"
      ],
      "metadata": {
        "id": "1leZ4JGVTfTp"
      },
      "execution_count": 81,
      "outputs": []
    },
    {
      "cell_type": "code",
      "source": [
        "y_test_adj = y_test.reshape(-1,)"
      ],
      "metadata": {
        "id": "MRm1ZwnxFStc"
      },
      "execution_count": 82,
      "outputs": []
    },
    {
      "cell_type": "code",
      "source": [
        "y_proba_test_class.shape"
      ],
      "metadata": {
        "id": "O-IcYOABFjxB",
        "colab": {
          "base_uri": "https://localhost:8080/"
        },
        "outputId": "ca59205f-adc4-40e7-d681-60bc578c30b7"
      },
      "execution_count": 83,
      "outputs": [
        {
          "output_type": "execute_result",
          "data": {
            "text/plain": [
              "(94, 8)"
            ]
          },
          "metadata": {},
          "execution_count": 83
        }
      ]
    },
    {
      "cell_type": "code",
      "source": [
        "y_test.shape"
      ],
      "metadata": {
        "id": "9AaqUY3PIlMQ",
        "colab": {
          "base_uri": "https://localhost:8080/"
        },
        "outputId": "38cb3f60-95b4-4582-8595-87285e95ecf6"
      },
      "execution_count": 84,
      "outputs": [
        {
          "output_type": "execute_result",
          "data": {
            "text/plain": [
              "(94, 1)"
            ]
          },
          "metadata": {},
          "execution_count": 84
        }
      ]
    },
    {
      "cell_type": "code",
      "source": [
        "y_test_adj"
      ],
      "metadata": {
        "id": "7LgDudYTKInS",
        "colab": {
          "base_uri": "https://localhost:8080/"
        },
        "outputId": "2b801b90-b211-4348-9f14-49aaec5863b6"
      },
      "execution_count": 85,
      "outputs": [
        {
          "output_type": "execute_result",
          "data": {
            "text/plain": [
              "array([2, 2, 2, 0, 4, 6, 2, 0, 5, 0, 3, 5, 4, 1, 6, 4, 3, 5, 4, 5, 7, 1,\n",
              "       7, 1, 2, 5, 4, 5, 4, 1, 2, 1, 3, 3, 3, 3, 3, 3, 5, 1, 5, 2, 1, 6,\n",
              "       2, 1, 3, 6, 1, 5, 6, 7, 4, 2, 6, 4, 4, 5, 4, 4, 2, 3, 1, 7, 7, 1,\n",
              "       6, 4, 3, 7, 6, 2, 4, 6, 1, 0, 1, 2, 4, 5, 4, 3, 1, 4, 3, 6, 7, 7,\n",
              "       5, 7, 1, 2, 1, 4], dtype=int8)"
            ]
          },
          "metadata": {},
          "execution_count": 85
        }
      ]
    },
    {
      "cell_type": "code",
      "source": [
        "\n",
        "\n",
        "macro_roc_auc_ovo = roc_auc_score(y_test_adj, y_proba_test_class, multi_class=\"ovo\", average=\"macro\")\n",
        "weighted_roc_auc_ovo = roc_auc_score(\n",
        "    y_test_adj, y_proba_test_class, multi_class=\"ovo\", average=\"weighted\"\n",
        ")\n",
        "macro_roc_auc_ovr = roc_auc_score(y_test_adj, y_proba_test_class, multi_class=\"ovr\", average=\"macro\")\n",
        "weighted_roc_auc_ovr = roc_auc_score(\n",
        "    y_test_adj, y_proba_test_class, multi_class=\"ovr\", average=\"weighted\"\n",
        ")\n"
      ],
      "metadata": {
        "id": "oMa4N8EhHlY9"
      },
      "execution_count": 86,
      "outputs": []
    },
    {
      "cell_type": "code",
      "source": [
        "print(\"One-vs-One ROC AUC scores:\\n{:.6f} (macro),\\n{:.6f} \" \"(weighted by prevalence)\\n\".format(macro_roc_auc_ovo, weighted_roc_auc_ovo))\n",
        "print(\"One-vs-Rest ROC AUC scores:\\n{:.6f} (macro),\\n{:.6f} \" \"(weighted by prevalence)\".format(macro_roc_auc_ovr, weighted_roc_auc_ovr))"
      ],
      "metadata": {
        "id": "hhBLwtO_ICqL",
        "colab": {
          "base_uri": "https://localhost:8080/"
        },
        "outputId": "0697bfb3-2f7e-4b8b-bc7e-1ced62121489"
      },
      "execution_count": 87,
      "outputs": [
        {
          "output_type": "stream",
          "name": "stdout",
          "text": [
            "One-vs-One ROC AUC scores:\n",
            "0.875947 (macro),\n",
            "0.879590 (weighted by prevalence)\n",
            "\n",
            "One-vs-Rest ROC AUC scores:\n",
            "0.883871 (macro),\n",
            "0.884707 (weighted by prevalence)\n",
            "One-vs-One ROC AUC scores:\n",
            "0.875947 (macro),\n",
            "0.879590 (weighted by prevalence)\n",
            "\n",
            "One-vs-Rest ROC AUC scores:\n",
            "0.883871 (macro),\n",
            "0.884707 (weighted by prevalence)\n"
          ]
        }
      ]
    }
  ]
}