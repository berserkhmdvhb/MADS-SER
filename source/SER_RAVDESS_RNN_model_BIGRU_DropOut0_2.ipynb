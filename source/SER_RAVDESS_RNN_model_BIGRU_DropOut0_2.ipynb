{
  "cells": [
    {
      "cell_type": "markdown",
      "metadata": {
        "id": "anSyerIFN7qd"
      },
      "source": [
        "# Imports"
      ]
    },
    {
      "cell_type": "code",
      "execution_count": 55,
      "metadata": {
        "id": "IMFSwIuvKiw2"
      },
      "outputs": [],
      "source": [
        "# Importing Libraries"
      ]
    },
    {
      "cell_type": "code",
      "execution_count": 56,
      "metadata": {
        "colab": {
          "base_uri": "https://localhost:8080/"
        },
        "id": "bBR8aNsmM2tR",
        "outputId": "60de6384-ecb8-44bd-db84-06478f8fa56d"
      },
      "outputs": [
        {
          "output_type": "stream",
          "name": "stdout",
          "text": [
            "Requirement already satisfied: json-tricks in /usr/local/lib/python3.7/dist-packages (3.15.5)\n"
          ]
        }
      ],
      "source": [
        "!pip install json-tricks"
      ]
    },
    {
      "cell_type": "code",
      "execution_count": 57,
      "metadata": {
        "id": "77IS8HxqFFCA"
      },
      "outputs": [],
      "source": [
        "import pandas as pd\n",
        "import numpy as np\n",
        "\n",
        "import os\n",
        "import sys\n",
        "\n",
        "import librosa\n",
        "import librosa.display\n",
        "#from pydub import AudioSegment, effects\n",
        "#import noisereduce as nr\n",
        "\n",
        "\n",
        "import seaborn as sns\n",
        "import matplotlib.pyplot as plt\n",
        "from IPython.display import Audio\n",
        "\n",
        "import tensorflow as tf\n",
        "import keras\n",
        "import sklearn\n",
        "\n",
        "\n",
        "from tensorflow.keras.models import Sequential, Model\n",
        "from tensorflow.keras.layers import Dense, LSTM, Flatten, Dropout, BatchNormalization\n",
        "from tensorflow.keras.callbacks import ModelCheckpoint, EarlyStopping, ReduceLROnPlateau\n",
        "from tensorflow.keras.optimizers import Adam, SGD\n",
        "from tensorflow.keras.utils import to_categorical, plot_model\n",
        "\n",
        "\n",
        "from keras.models import Sequential, model_from_json, load_model\n",
        "from keras import layers\n",
        "from keras import optimizers\n",
        "from keras import callbacks\n",
        "\n",
        "from sklearn.preprocessing import StandardScaler, OneHotEncoder, LabelEncoder\n",
        "from sklearn.metrics import confusion_matrix, classification_report, precision_recall_fscore_support, roc_auc_score\n",
        "from sklearn.model_selection import train_test_split, StratifiedShuffleSplit\n",
        "from sklearn.multiclass import OneVsRestClassifier\n",
        "\n",
        "\n",
        "from tqdm import tqdm\n",
        "\n",
        "\n",
        "from json_tricks import dump, load\n",
        "\n",
        "\n",
        "\n",
        "import warnings\n",
        "if not sys.warnoptions:\n",
        "    warnings.simplefilter(\"ignore\")\n",
        "warnings.filterwarnings(\"ignore\", category=DeprecationWarning) \n",
        "\n",
        "import time\n",
        "tic = time.perf_counter()\n",
        "\n"
      ]
    },
    {
      "cell_type": "code",
      "execution_count": 57,
      "metadata": {
        "id": "gGYqBIk0FGm4"
      },
      "outputs": [],
      "source": [
        ""
      ]
    },
    {
      "cell_type": "markdown",
      "metadata": {
        "id": "nyMzoZKKKiw6"
      },
      "source": [
        "# Dataset"
      ]
    },
    {
      "cell_type": "code",
      "execution_count": 58,
      "metadata": {
        "colab": {
          "base_uri": "https://localhost:8080/"
        },
        "id": "JFPDGXmwCBs_",
        "outputId": "2afe59f5-20d7-4a0d-8668-09a98f154cb2"
      },
      "outputs": [
        {
          "output_type": "stream",
          "name": "stdout",
          "text": [
            "Drive already mounted at /content/drive; to attempt to forcibly remount, call drive.mount(\"/content/drive\", force_remount=True).\n"
          ]
        }
      ],
      "source": [
        "from google.colab import drive\n",
        "drive.mount('/content/drive')"
      ]
    },
    {
      "cell_type": "code",
      "execution_count": 59,
      "metadata": {
        "id": "vR2GjHL4Kiw7"
      },
      "outputs": [],
      "source": [
        "#Crema = \"/content/drive/MyDrive/datasets/speech/CREMAD/sample/\"\n",
        "#Crema = \"/content/drive/MyDrive/datasets/speech/CREMAD/AudioWAV/\"\n",
        "Ravdess = \"/content/drive/MyDrive/datasets/speech/RAVDESS/data\"\n",
        "Ravdess_processed = \"/content/drive/MyDrive/datasets/speech/RAVDESS/processedData/\"\n",
        "Ravdess_speech_sample = \"/content/drive/MyDrive/datasets/speech/RAVDESS/data/Audio_Speech_Actors_01-24/\"\n",
        "df_path = \"/content/drive/MyDrive/datasets/speech/RAVDESS/ravdess_df.csv\"\n",
        "model_path = Ravdess + \"/model/\"\n",
        "\n",
        "checkpoint_path = model_path + \"best_weights-8.hdf5\"\n",
        "saved_model_path = model_path + 'model8723-6.json'\n",
        "\n",
        "saved_weights_path = model_path + 'model8723_weights-8.h5'\n",
        "saved_model_path_2 = model_path + 'Speech-Emotion-Recognition-Model-RNN-6.h5'"
      ]
    },
    {
      "cell_type": "code",
      "execution_count": 59,
      "metadata": {
        "id": "J2T6JxzIF2Jq"
      },
      "outputs": [],
      "source": [
        ""
      ]
    },
    {
      "cell_type": "code",
      "execution_count": 60,
      "metadata": {
        "id": "jnEd5_Vvy4ue"
      },
      "outputs": [],
      "source": [
        "##Hypter Parameters' Range\n",
        "params = {\n",
        "    \"batch_size\": 20,  # 20<16<10, 25 was a bust\n",
        "    \"epochs\": 300,\n",
        "    \"lr\": 0.00010000,\n",
        "    \"time_steps\": 60\n",
        "}\n",
        "#TIME_STEPS = params[\"time_steps\"]\n",
        "#BATCH_SIZE = params[\"batch_size\"]\n",
        "#iter_changes = \"dropout_layers_0.4_0.4\"\n"
      ]
    },
    {
      "cell_type": "code",
      "execution_count": 60,
      "metadata": {
        "id": "dKXM0xT-N8uy"
      },
      "outputs": [],
      "source": [
        ""
      ]
    },
    {
      "cell_type": "markdown",
      "metadata": {
        "id": "fse_mTpaOGdQ"
      },
      "source": [
        "# Load Processed Files, Construct Train, Validation and Test Sets"
      ]
    },
    {
      "cell_type": "code",
      "execution_count": 61,
      "metadata": {
        "id": "101BpvWgN8xX"
      },
      "outputs": [],
      "source": [
        "\n",
        "processed_path = Ravdess_processed\n",
        "x_path = processed_path + \"X_features.json\" # FILE LOAD PATH\n",
        "y_path =  processed_path + \"Y_labels.json\" # FILE SAVE PATH\n",
        "#x_path = '/content/drive/MyDrive/datasets/speech/RAVDESS/processedData/X_features.json'\n",
        "\n",
        "# Load X,Y json files back into lists, convert to np.arrays\n",
        "\n",
        "X = load(x_path)\n",
        "X = np.asarray(X, dtype = 'float32')\n",
        "\n",
        "Y = load(y_path)\n",
        "Y = np.asarray(Y, dtype = 'int8')"
      ]
    },
    {
      "cell_type": "code",
      "execution_count": 62,
      "metadata": {
        "id": "CuF9M1mfOD7X"
      },
      "outputs": [],
      "source": [
        "# Split to train, validation, and test sets.\n",
        "from sklearn.model_selection import train_test_split\n",
        "# 1st Split: X,Y => (x_train, x_tosplit) (y_train, y_tosplit)\n",
        "x_train, x_tosplit, y_train, y_tosplit = train_test_split(X, Y, test_size = 0.125, random_state = 1)\n",
        "# 2nd Split: x_tosplit,y_tosplit => (x_val, x_test) (y_val, y_test) \n",
        "x_val, x_test, y_val, y_test = train_test_split(x_tosplit, y_tosplit, test_size = 0.304, random_state = 1)\n",
        "#'One-hot' vectors for Y: emotion classification\n",
        "y_train_class = tf.keras.utils.to_categorical(y_train, 8, dtype = 'int8')\n",
        "y_val_class = tf.keras.utils.to_categorical(y_val, 8, dtype = 'int8')"
      ]
    },
    {
      "cell_type": "code",
      "execution_count": 63,
      "metadata": {
        "colab": {
          "base_uri": "https://localhost:8080/"
        },
        "id": "od-D1YgBOGXs",
        "outputId": "ec70da1e-970f-403e-afc7-1865be031202"
      },
      "outputs": [
        {
          "output_type": "stream",
          "name": "stdout",
          "text": [
            "(2145, 523, 15)\n",
            "(213, 523, 15)\n",
            "(94, 523, 15)\n"
          ]
        }
      ],
      "source": [
        "# x_train, x_val, and x_test shape check.\n",
        "print(np.shape(x_train))\n",
        "print(np.shape(x_val))\n",
        "print(np.shape(x_test))"
      ]
    },
    {
      "cell_type": "code",
      "execution_count": 64,
      "metadata": {
        "colab": {
          "base_uri": "https://localhost:8080/",
          "height": 88
        },
        "id": "nTExHJVsOHQ5",
        "outputId": "28cdbfdc-00d9-49b6-8475-3f104f68e1ac"
      },
      "outputs": [
        {
          "output_type": "execute_result",
          "data": {
            "text/plain": [
              "'{\"__ndarray__\": [[2], [2], [2], [0], [4], [6], [2], [0], [5], [0], [3], [5], [4], [1], [6], [4], [3], [5], [4], [5], [7], [1], [7], [1], [2], [5], [4], [5], [4], [1], [2], [1], [3], [3], [3], [3], [3], [3], [5], [1], [5], [2], [1], [6], [2], [1], [3], [6], [1], [5], [6], [7], [4], [2], [6], [4], [4], [5], [4], [4], [2], [3], [1], [7], [7], [1], [6], [4], [3], [7], [6], [2], [4], [6], [1], [0], [1], [2], [4], [5], [4], [3], [1], [4], [3], [6], [7], [7], [5], [7], [1], [2], [1], [4]], \"dtype\": \"int8\", \"shape\": [94, 1], \"Corder\": true}'"
            ],
            "application/vnd.google.colaboratory.intrinsic+json": {
              "type": "string"
            }
          },
          "metadata": {},
          "execution_count": 64
        }
      ],
      "source": [
        "# Save x_test, y_test to JSON.\n",
        "\n",
        "x_test_path = processed_path + 'x_test_data.json'\n",
        "dump(obj = x_test, fp = x_test_path)\n",
        "\n",
        "y_test_path = processed_path + 'y_test_data.json'\n",
        "dump(obj = y_test, fp = y_test_path)"
      ]
    },
    {
      "cell_type": "code",
      "execution_count": 65,
      "metadata": {
        "id": "kAFBRsmk5dzm"
      },
      "outputs": [],
      "source": [
        "# Loading x_test, y_test json files, and converting to np.arrays\n",
        "\n",
        "x_test = load(processed_path + 'x_test_data.json')\n",
        "x_test = np.asarray(x_test).astype('float32')\n",
        "\n",
        "y_test = load(processed_path + 'y_test_data.json')\n",
        "y_test = np.asarray(y_test).astype('int8')\n",
        "\n",
        "y_test_class = tf.keras.utils.to_categorical(y_test, 8, dtype = 'int8')"
      ]
    },
    {
      "cell_type": "code",
      "execution_count": 66,
      "metadata": {
        "colab": {
          "base_uri": "https://localhost:8080/"
        },
        "id": "15joCR4gu4r7",
        "outputId": "c663f122-fe3e-43aa-da16-c8cd23e742bd"
      },
      "outputs": [
        {
          "output_type": "execute_result",
          "data": {
            "text/plain": [
              "(2452, 523, 15)"
            ]
          },
          "metadata": {},
          "execution_count": 66
        }
      ],
      "source": [
        "X.shape"
      ]
    },
    {
      "cell_type": "code",
      "execution_count": 67,
      "metadata": {
        "colab": {
          "base_uri": "https://localhost:8080/"
        },
        "id": "8MQhoPKjEzi4",
        "outputId": "ec6ba7a6-4742-40b9-c2a6-5d7cff3e0dc4"
      },
      "outputs": [
        {
          "output_type": "execute_result",
          "data": {
            "text/plain": [
              "(523, 15)"
            ]
          },
          "metadata": {},
          "execution_count": 67
        }
      ],
      "source": [
        "X.shape[1:3]"
      ]
    },
    {
      "cell_type": "markdown",
      "metadata": {
        "id": "gnWVMbR6KixC"
      },
      "source": [
        "# RNN Model"
      ]
    },
    {
      "cell_type": "code",
      "execution_count": 68,
      "metadata": {
        "colab": {
          "base_uri": "https://localhost:8080/"
        },
        "id": "7CHZWdfcN8oo",
        "outputId": "c2887021-1735-4e5a-c529-be126621ba6d"
      },
      "outputs": [
        {
          "output_type": "execute_result",
          "data": {
            "text/plain": [
              "5544.341838058"
            ]
          },
          "metadata": {},
          "execution_count": 68
        }
      ],
      "source": [
        "tic"
      ]
    },
    {
      "cell_type": "markdown",
      "metadata": {
        "id": "GJjJYnJQORJ8"
      },
      "source": [
        "## Define Model & Training"
      ]
    },
    {
      "cell_type": "code",
      "execution_count": 69,
      "metadata": {
        "colab": {
          "base_uri": "https://localhost:8080/"
        },
        "id": "Mp44ii28CiPt",
        "outputId": "828e16ef-d170-4d74-d83a-40f0437e31a9"
      },
      "outputs": [
        {
          "output_type": "execute_result",
          "data": {
            "text/plain": [
              "(2452, 523, 15)"
            ]
          },
          "metadata": {},
          "execution_count": 69
        }
      ],
      "source": [
        "X.shape"
      ]
    },
    {
      "cell_type": "code",
      "execution_count": 70,
      "metadata": {
        "id": "ALafROv3DmHV"
      },
      "outputs": [],
      "source": [
        "max_features = 2452\n",
        "embed_dim = 256"
      ]
    },
    {
      "cell_type": "code",
      "execution_count": 70,
      "metadata": {
        "id": "tySHfGDlBFWz"
      },
      "outputs": [],
      "source": [
        ""
      ]
    },
    {
      "cell_type": "code",
      "execution_count": 71,
      "metadata": {
        "colab": {
          "base_uri": "https://localhost:8080/"
        },
        "id": "aD2adyVGOJs4",
        "outputId": "e5e3e2d0-ea05-43d9-e210-82a2cddfef44"
      },
      "outputs": [
        {
          "output_type": "stream",
          "name": "stdout",
          "text": [
            "Model: \"sequential_1\"\n",
            "_________________________________________________________________\n",
            " Layer (type)                Output Shape              Param #   \n",
            "=================================================================\n",
            " bidirectional_2 (Bidirectio  (None, 523, 256)         111360    \n",
            " nal)                                                            \n",
            "                                                                 \n",
            " bidirectional_3 (Bidirectio  (None, 128)              123648    \n",
            " nal)                                                            \n",
            "                                                                 \n",
            " dropout_1 (Dropout)         (None, 128)               0         \n",
            "                                                                 \n",
            " dense_1 (Dense)             (None, 8)                 1032      \n",
            "                                                                 \n",
            "=================================================================\n",
            "Total params: 236,040\n",
            "Trainable params: 236,040\n",
            "Non-trainable params: 0\n",
            "_________________________________________________________________\n",
            "None\n"
          ]
        }
      ],
      "source": [
        "# Initializing the model\n",
        "\n",
        "model = Sequential()\n",
        "model.add(layers.Bidirectional(layers.GRU(128, return_sequences = True), input_shape=(X.shape[1:3])))\n",
        "model.add(layers.Bidirectional(layers.GRU((64))))\n",
        "model.add(Dropout(0.2))\n",
        "model.add(layers.Dense(8, activation = 'softmax'))\n",
        "print(model.summary())\n",
        "\n",
        "batch_size = 23\n",
        "\n",
        "# Callbacks functions\n",
        "\n",
        "#-> EearlyStopping\n",
        "es = EarlyStopping(monitor='val_loss', mode='min', verbose=1,\n",
        "                    patience=10, min_delta=0.0001)\n",
        "\n",
        "\n",
        "#-> Save the best weights\n",
        "mcp_save = callbacks.ModelCheckpoint(checkpoint_path, save_best_only=True,\n",
        "                           monitor='val_categorical_accuracy',\n",
        "                           mode='max')\n",
        "#-> Reduce learning rate after 100 epoches without improvement.\n",
        "rlrop = callbacks.ReduceLROnPlateau(monitor='val_categorical_accuracy', \n",
        "                                    factor=0.1, patience=20)\n",
        "                             \n",
        "# Compile & train   \n",
        "model.compile(loss='categorical_crossentropy', \n",
        "                optimizer='RMSProp', \n",
        "                metrics=['categorical_accuracy'])\n",
        "\n",
        "\n"
      ]
    },
    {
      "cell_type": "code",
      "execution_count": 71,
      "metadata": {
        "id": "4DBF6kqx-OHZ"
      },
      "outputs": [],
      "source": [
        ""
      ]
    },
    {
      "cell_type": "code",
      "execution_count": 18,
      "metadata": {
        "colab": {
          "base_uri": "https://localhost:8080/"
        },
        "id": "Da7Gc9x_izth",
        "outputId": "764f0567-5659-4cbf-dac3-a61258a52889"
      },
      "outputs": [
        {
          "output_type": "stream",
          "name": "stdout",
          "text": [
            "Epoch 1/340\n",
            "94/94 [==============================] - 149s 2s/step - loss: 2.1588 - categorical_accuracy: 0.1739 - val_loss: 2.1753 - val_categorical_accuracy: 0.1455 - lr: 0.0010\n",
            "Epoch 2/340\n",
            "94/94 [==============================] - 140s 1s/step - loss: 1.9760 - categorical_accuracy: 0.2466 - val_loss: 1.9303 - val_categorical_accuracy: 0.2394 - lr: 0.0010\n",
            "Epoch 3/340\n",
            "94/94 [==============================] - 141s 2s/step - loss: 1.8930 - categorical_accuracy: 0.2834 - val_loss: 1.9475 - val_categorical_accuracy: 0.2441 - lr: 0.0010\n",
            "Epoch 4/340\n",
            "94/94 [==============================] - 147s 2s/step - loss: 1.7752 - categorical_accuracy: 0.3259 - val_loss: 2.2569 - val_categorical_accuracy: 0.2160 - lr: 0.0010\n",
            "Epoch 5/340\n",
            "94/94 [==============================] - 146s 2s/step - loss: 1.7000 - categorical_accuracy: 0.3436 - val_loss: 2.2580 - val_categorical_accuracy: 0.1925 - lr: 0.0010\n",
            "Epoch 6/340\n",
            "94/94 [==============================] - 141s 1s/step - loss: 1.6319 - categorical_accuracy: 0.3772 - val_loss: 1.7189 - val_categorical_accuracy: 0.2911 - lr: 0.0010\n",
            "Epoch 7/340\n",
            "94/94 [==============================] - 140s 1s/step - loss: 1.5569 - categorical_accuracy: 0.4117 - val_loss: 1.6411 - val_categorical_accuracy: 0.4131 - lr: 0.0010\n",
            "Epoch 8/340\n",
            "94/94 [==============================] - 139s 1s/step - loss: 1.5009 - categorical_accuracy: 0.4401 - val_loss: 1.5101 - val_categorical_accuracy: 0.4554 - lr: 0.0010\n",
            "Epoch 9/340\n",
            "94/94 [==============================] - 139s 1s/step - loss: 1.4605 - categorical_accuracy: 0.4573 - val_loss: 1.7946 - val_categorical_accuracy: 0.3052 - lr: 0.0010\n",
            "Epoch 10/340\n",
            "94/94 [==============================] - 140s 1s/step - loss: 1.4235 - categorical_accuracy: 0.4751 - val_loss: 1.5577 - val_categorical_accuracy: 0.3991 - lr: 0.0010\n",
            "Epoch 11/340\n",
            "94/94 [==============================] - 141s 2s/step - loss: 1.3697 - categorical_accuracy: 0.4951 - val_loss: 1.3861 - val_categorical_accuracy: 0.5023 - lr: 0.0010\n",
            "Epoch 12/340\n",
            "94/94 [==============================] - 140s 1s/step - loss: 1.3327 - categorical_accuracy: 0.5119 - val_loss: 1.4243 - val_categorical_accuracy: 0.4507 - lr: 0.0010\n",
            "Epoch 13/340\n",
            "94/94 [==============================] - 137s 1s/step - loss: 1.2969 - categorical_accuracy: 0.5249 - val_loss: 1.5884 - val_categorical_accuracy: 0.3850 - lr: 0.0010\n",
            "Epoch 14/340\n",
            "94/94 [==============================] - 136s 1s/step - loss: 1.2583 - categorical_accuracy: 0.5380 - val_loss: 1.3950 - val_categorical_accuracy: 0.5023 - lr: 0.0010\n",
            "Epoch 15/340\n",
            "94/94 [==============================] - 136s 1s/step - loss: 1.2532 - categorical_accuracy: 0.5455 - val_loss: 1.5955 - val_categorical_accuracy: 0.4038 - lr: 0.0010\n",
            "Epoch 16/340\n",
            "94/94 [==============================] - 137s 1s/step - loss: 1.2142 - categorical_accuracy: 0.5585 - val_loss: 1.5555 - val_categorical_accuracy: 0.4460 - lr: 0.0010\n",
            "Epoch 17/340\n",
            "94/94 [==============================] - 136s 1s/step - loss: 1.1610 - categorical_accuracy: 0.5720 - val_loss: 1.5921 - val_categorical_accuracy: 0.4178 - lr: 0.0010\n",
            "Epoch 18/340\n",
            "94/94 [==============================] - 137s 1s/step - loss: 1.1524 - categorical_accuracy: 0.5725 - val_loss: 1.4995 - val_categorical_accuracy: 0.4836 - lr: 0.0010\n",
            "Epoch 19/340\n",
            "94/94 [==============================] - 136s 1s/step - loss: 1.1051 - categorical_accuracy: 0.5977 - val_loss: 1.6189 - val_categorical_accuracy: 0.4319 - lr: 0.0010\n",
            "Epoch 20/340\n",
            "94/94 [==============================] - 138s 1s/step - loss: 1.0759 - categorical_accuracy: 0.6098 - val_loss: 1.4179 - val_categorical_accuracy: 0.5023 - lr: 0.0010\n",
            "Epoch 21/340\n",
            "94/94 [==============================] - 137s 1s/step - loss: 1.0535 - categorical_accuracy: 0.6028 - val_loss: 1.3324 - val_categorical_accuracy: 0.5352 - lr: 0.0010\n",
            "Epoch 22/340\n",
            "94/94 [==============================] - 136s 1s/step - loss: 1.0114 - categorical_accuracy: 0.6266 - val_loss: 1.3288 - val_categorical_accuracy: 0.5164 - lr: 0.0010\n",
            "Epoch 23/340\n",
            "94/94 [==============================] - 137s 1s/step - loss: 1.0016 - categorical_accuracy: 0.6252 - val_loss: 1.3202 - val_categorical_accuracy: 0.4977 - lr: 0.0010\n",
            "Epoch 24/340\n",
            "94/94 [==============================] - 138s 1s/step - loss: 0.9659 - categorical_accuracy: 0.6541 - val_loss: 1.3721 - val_categorical_accuracy: 0.5070 - lr: 0.0010\n",
            "Epoch 25/340\n",
            "94/94 [==============================] - 139s 1s/step - loss: 0.9282 - categorical_accuracy: 0.6662 - val_loss: 1.7312 - val_categorical_accuracy: 0.4225 - lr: 0.0010\n",
            "Epoch 26/340\n",
            "94/94 [==============================] - 140s 1s/step - loss: 0.9125 - categorical_accuracy: 0.6611 - val_loss: 1.4371 - val_categorical_accuracy: 0.5399 - lr: 0.0010\n",
            "Epoch 27/340\n",
            "94/94 [==============================] - 139s 1s/step - loss: 0.8787 - categorical_accuracy: 0.6853 - val_loss: 1.2863 - val_categorical_accuracy: 0.5587 - lr: 0.0010\n",
            "Epoch 28/340\n",
            "94/94 [==============================] - 138s 1s/step - loss: 0.8714 - categorical_accuracy: 0.6970 - val_loss: 2.1117 - val_categorical_accuracy: 0.3474 - lr: 0.0010\n",
            "Epoch 29/340\n",
            "94/94 [==============================] - 140s 1s/step - loss: 0.8367 - categorical_accuracy: 0.6942 - val_loss: 1.4195 - val_categorical_accuracy: 0.5164 - lr: 0.0010\n",
            "Epoch 30/340\n",
            "94/94 [==============================] - 140s 1s/step - loss: 0.8038 - categorical_accuracy: 0.7021 - val_loss: 1.3015 - val_categorical_accuracy: 0.5634 - lr: 0.0010\n",
            "Epoch 31/340\n",
            "94/94 [==============================] - 151s 2s/step - loss: 0.7915 - categorical_accuracy: 0.7170 - val_loss: 1.3923 - val_categorical_accuracy: 0.5540 - lr: 0.0010\n",
            "Epoch 32/340\n",
            "94/94 [==============================] - 144s 2s/step - loss: 0.7673 - categorical_accuracy: 0.7133 - val_loss: 1.8089 - val_categorical_accuracy: 0.4131 - lr: 0.0010\n",
            "Epoch 33/340\n",
            "94/94 [==============================] - 142s 2s/step - loss: 0.7629 - categorical_accuracy: 0.7175 - val_loss: 1.4512 - val_categorical_accuracy: 0.4648 - lr: 0.0010\n",
            "Epoch 34/340\n",
            "94/94 [==============================] - 141s 2s/step - loss: 0.7777 - categorical_accuracy: 0.7096 - val_loss: 1.5917 - val_categorical_accuracy: 0.5399 - lr: 0.0010\n",
            "Epoch 35/340\n",
            "94/94 [==============================] - 141s 2s/step - loss: 0.7250 - categorical_accuracy: 0.7389 - val_loss: 1.6080 - val_categorical_accuracy: 0.4742 - lr: 0.0010\n",
            "Epoch 36/340\n",
            "94/94 [==============================] - 136s 1s/step - loss: 0.6998 - categorical_accuracy: 0.7403 - val_loss: 1.4955 - val_categorical_accuracy: 0.4883 - lr: 0.0010\n",
            "Epoch 37/340\n",
            "94/94 [==============================] - 137s 1s/step - loss: 0.6675 - categorical_accuracy: 0.7571 - val_loss: 1.6080 - val_categorical_accuracy: 0.5164 - lr: 0.0010\n",
            "Epoch 37: early stopping\n"
          ]
        }
      ],
      "source": [
        "history = model.fit(x_train, y_train_class, \n",
        "                      epochs=340, batch_size = batch_size, \n",
        "                      validation_data = (x_val, y_val_class), \n",
        "                      callbacks = [es, mcp_save, rlrop])\n",
        "toc = time.perf_counter()"
      ]
    },
    {
      "cell_type": "code",
      "execution_count": 18,
      "metadata": {
        "id": "3MekXCZHizyZ"
      },
      "outputs": [],
      "source": [
        ""
      ]
    },
    {
      "cell_type": "code",
      "execution_count": 19,
      "metadata": {
        "id": "cHmSBRhVOELJ",
        "colab": {
          "base_uri": "https://localhost:8080/"
        },
        "outputId": "a3793212-1452-42dc-f16b-b3c3a9f5f2f7"
      },
      "outputs": [
        {
          "output_type": "stream",
          "name": "stdout",
          "text": [
            "Running time: 87.5147 minutes\n"
          ]
        }
      ],
      "source": [
        "print(f\"Running time: {(toc - tic)/60:0.4f} minutes\")"
      ]
    },
    {
      "cell_type": "markdown",
      "metadata": {
        "id": "jCQelzMAKixD"
      },
      "source": [
        "## Loading Model"
      ]
    },
    {
      "cell_type": "code",
      "execution_count": 20,
      "metadata": {
        "id": "gruZAW2wI-tO"
      },
      "outputs": [],
      "source": [
        "# Define the best weights to the model.\\\n",
        "#model.load_weights(checkpoint_path)"
      ]
    },
    {
      "cell_type": "markdown",
      "metadata": {
        "id": "kDxTjEK0KixD"
      },
      "source": [
        "# Evaluation"
      ]
    },
    {
      "cell_type": "markdown",
      "metadata": {
        "id": "1YfguG0tPatV"
      },
      "source": [
        "## Save & Load model, weights"
      ]
    },
    {
      "cell_type": "code",
      "execution_count": 21,
      "metadata": {
        "id": "MsVoNhqmgGsK",
        "colab": {
          "base_uri": "https://localhost:8080/"
        },
        "outputId": "cb69f6a2-345a-4b36-e931-19f7d2a3c231"
      },
      "outputs": [
        {
          "output_type": "stream",
          "name": "stdout",
          "text": [
            "Saved model to disk\n"
          ]
        }
      ],
      "source": [
        "# Saving model & weights\n",
        "model_path = Ravdess + \"/model/\"\n",
        "model_json = model.to_json()\n",
        "\n",
        "\n",
        "\n",
        "with open(saved_model_path, \"w\") as json_file:\n",
        "    json_file.write(model_json)\n",
        "    \n",
        "model.save_weights(saved_weights_path)\n",
        "print(\"Saved model to disk\")"
      ]
    },
    {
      "cell_type": "code",
      "execution_count": 22,
      "metadata": {
        "id": "y4OJGhLmgfX6",
        "colab": {
          "base_uri": "https://localhost:8080/",
          "height": 0
        },
        "outputId": "e144cba2-ff59-4715-d2b8-83410fb896e4"
      },
      "outputs": [
        {
          "output_type": "execute_result",
          "data": {
            "text/plain": [
              "<IPython.core.display.Image object>"
            ],
            "image/png": "[encoded data removed]"
          },
          "metadata": {},
          "execution_count": 22
        }
      ],
      "source": [
        "# Reading the model from JSON file\n",
        "#model_path = Ravdess + \"/model/\"\n",
        "#saved_model_path = model_path + 'model8723.json'\n",
        "#saved_weights_path = model_path + 'model8723_weights.h5'\n",
        "\n",
        "\n",
        "with open(saved_model_path , 'r') as json_file:\n",
        "    json_savedModel = json_file.read()\n",
        "    \n",
        "# Loading the model architecture, weights\n",
        "model = tf.keras.models.model_from_json(json_savedModel)\n",
        "model.load_weights(saved_weights_path)\n",
        "\n",
        "# Compiling the model with similar parameters as the original model.\n",
        "model.compile(loss='categorical_crossentropy', \n",
        "                optimizer='RMSProp', \n",
        "                metrics=['categorical_accuracy'])\n",
        "\n",
        "# Model's structure visualization\n",
        "tf.keras.utils.plot_model(model, to_file='model.png', show_shapes=True, show_layer_names=True)"
      ]
    },
    {
      "cell_type": "code",
      "execution_count": 22,
      "metadata": {
        "id": "B_SW6eUAgvEj"
      },
      "outputs": [],
      "source": [
        ""
      ]
    },
    {
      "cell_type": "code",
      "execution_count": 22,
      "metadata": {
        "id": "cCfkUXTYgzSB"
      },
      "outputs": [],
      "source": [
        ""
      ]
    },
    {
      "cell_type": "code",
      "execution_count": 23,
      "metadata": {
        "id": "Z5Uzb_bGKixE"
      },
      "outputs": [],
      "source": [
        "model.save(saved_model_path_2)"
      ]
    },
    {
      "cell_type": "markdown",
      "metadata": {
        "id": "ATvBW0SPO-eq"
      },
      "source": [
        "## Train (fit) Visualization"
      ]
    },
    {
      "cell_type": "code",
      "execution_count": 24,
      "metadata": {
        "id": "UjhUHhU_f4EY",
        "colab": {
          "base_uri": "https://localhost:8080/",
          "height": 573
        },
        "outputId": "fca596a4-879a-4a83-886c-d43c44ea3ef6"
      },
      "outputs": [
        {
          "output_type": "display_data",
          "data": {
            "text/plain": [
              "<Figure size 432x288 with 1 Axes>"
            ],
            "image/png": "[encoded data removed]"
          },
          "metadata": {
            "needs_background": "light"
          }
        },
        {
          "output_type": "display_data",
          "data": {
            "text/plain": [
              "<Figure size 432x288 with 1 Axes>"
            ],
            "image/png": "[encoded data removed]"
          },
          "metadata": {
            "needs_background": "light"
          }
        }
      ],
      "source": [
        "# Loss, Accuracy presentation\n",
        "\n",
        "# Plot history: Loss\n",
        "plt.plot(history.history['loss'], label='Loss (training data)')\n",
        "plt.plot(history.history['val_loss'], label='Loss (validation data)')\n",
        "plt.title('Loss for train and validation')\n",
        "plt.ylabel('Loss value')\n",
        "plt.xlabel('No. epoch')\n",
        "plt.legend(loc=\"upper left\")\n",
        "plt.show()\n",
        "\n",
        "#Plot history: Accuracy\n",
        "plt.plot(history.history['categorical_accuracy'], label='Acc (training data)')\n",
        "plt.plot(history.history['val_categorical_accuracy'], label='Acc (validation data)')\n",
        "plt.title('Model accuracy')\n",
        "plt.ylabel('Acc %')\n",
        "plt.xlabel('No. epoch')\n",
        "plt.legend(loc=\"upper left\")\n",
        "plt.show()"
      ]
    },
    {
      "cell_type": "markdown",
      "metadata": {
        "id": "UZ3lFduxPQeB"
      },
      "source": [
        "## Validation Set Evaluation"
      ]
    },
    {
      "cell_type": "markdown",
      "metadata": {
        "id": "5YoYCa22PMGz"
      },
      "source": [
        "### Val Set Score"
      ]
    },
    {
      "cell_type": "code",
      "execution_count": 24,
      "metadata": {
        "id": "jQavrzbB_8fy"
      },
      "outputs": [],
      "source": [
        ""
      ]
    },
    {
      "cell_type": "code",
      "execution_count": 25,
      "metadata": {
        "id": "X_KdTUyrf7-j",
        "colab": {
          "base_uri": "https://localhost:8080/"
        },
        "outputId": "79837ee9-5dda-4757-ed83-f014d626bd71"
      },
      "outputs": [
        {
          "output_type": "stream",
          "name": "stdout",
          "text": [
            "7/7 - 4s - loss: 1.6080 - categorical_accuracy: 0.5164 - 4s/epoch - 544ms/step\n"
          ]
        }
      ],
      "source": [
        "# Validation score\n",
        "loss,acc = model.evaluate(x_val, y_val_class, verbose=2)\n"
      ]
    },
    {
      "cell_type": "code",
      "execution_count": 25,
      "metadata": {
        "id": "09k_I9DM_2Q0"
      },
      "outputs": [],
      "source": [
        ""
      ]
    },
    {
      "cell_type": "markdown",
      "metadata": {
        "id": "hz7nc15A_3hb"
      },
      "source": [
        "### Construct Predicted Labels based on Probability of each class"
      ]
    },
    {
      "cell_type": "code",
      "execution_count": 26,
      "metadata": {
        "id": "CFM1P2SZ_85N",
        "colab": {
          "base_uri": "https://localhost:8080/"
        },
        "outputId": "bdfbf526-c6d8-4912-c180-69d10be1d71f"
      },
      "outputs": [
        {
          "output_type": "execute_result",
          "data": {
            "text/plain": [
              "array([[0, 0, 0, ..., 1, 0, 0],\n",
              "       [0, 0, 0, ..., 1, 0, 0],\n",
              "       [0, 0, 1, ..., 0, 0, 0],\n",
              "       ...,\n",
              "       [1, 0, 0, ..., 0, 0, 0],\n",
              "       [0, 0, 1, ..., 0, 0, 0],\n",
              "       [0, 0, 0, ..., 0, 0, 0]], dtype=int8)"
            ]
          },
          "metadata": {},
          "execution_count": 26
        }
      ],
      "source": [
        "y_val_class"
      ]
    },
    {
      "cell_type": "code",
      "execution_count": 27,
      "metadata": {
        "id": "C9UHSeXbAASy",
        "colab": {
          "base_uri": "https://localhost:8080/"
        },
        "outputId": "43d7ba04-24bb-4b19-9df6-1e6aa394c2b0"
      },
      "outputs": [
        {
          "output_type": "execute_result",
          "data": {
            "text/plain": [
              "array([5, 5, 2, 4, 4, 5, 3, 5, 1, 7, 1, 6, 1, 0, 3, 5, 4, 5, 0, 4, 4, 7,\n",
              "       3, 5, 5, 3, 4, 7, 6, 3, 1, 4, 1, 4, 3, 4, 5, 0, 1, 3, 3, 6, 2, 3,\n",
              "       3, 4, 3, 4, 5, 1, 2, 2, 2, 3, 1, 3, 5, 3, 5, 6, 2, 1, 5, 0, 3, 2,\n",
              "       1, 7, 3, 2, 0, 5, 1, 5, 2, 1, 7, 7, 3, 4, 0, 5, 4, 3, 0, 6, 5, 2,\n",
              "       2, 7, 3, 1, 1, 2, 4, 4, 1, 5, 6, 3, 2, 2, 2, 4, 5, 7, 5, 6, 1, 4,\n",
              "       2, 2, 6, 1, 2, 3, 2, 3, 4, 4, 6, 4, 5, 4, 6, 0, 5, 7, 2, 7, 0, 2,\n",
              "       7, 1, 4, 4, 1, 1, 1, 2, 5, 3, 2, 2, 0, 6, 4, 6, 1, 4, 7, 2, 3, 2,\n",
              "       3, 2, 4, 2, 4, 6, 5, 2, 4, 4, 4, 7, 4, 2, 4, 3, 6, 3, 0, 5, 3, 0,\n",
              "       1, 1, 4, 4, 2, 5, 2, 7, 5, 4, 3, 4, 0, 5, 4, 2, 6, 2, 2, 3, 2, 3,\n",
              "       5, 6, 3, 2, 4, 6, 2, 5, 3, 0, 2, 4, 0, 2, 4])"
            ]
          },
          "metadata": {},
          "execution_count": 27
        }
      ],
      "source": [
        "np.argmax(y_val_class, axis=1)"
      ]
    },
    {
      "cell_type": "code",
      "execution_count": 28,
      "metadata": {
        "id": "urjydD-38JK7"
      },
      "outputs": [],
      "source": [
        "y_val_class = np.argmax(y_val_class, axis=1)\n",
        "predictions_val = model.predict(x_val)\n",
        "y_proba_val_class = predictions_val\n",
        "y_pred_val_class = np.argmax(predictions_val, axis=1)"
      ]
    },
    {
      "cell_type": "code",
      "execution_count": 29,
      "metadata": {
        "id": "Zb7dGRs3AEJn",
        "colab": {
          "base_uri": "https://localhost:8080/"
        },
        "outputId": "2305fcf8-f3c3-4588-a070-45f6258fc36b"
      },
      "outputs": [
        {
          "output_type": "execute_result",
          "data": {
            "text/plain": [
              "array([[2.6975387e-05, 2.3231460e-06, 5.8402969e-05, ..., 3.7134497e-04,\n",
              "        7.6596771e-06, 8.0553473e-06],\n",
              "       [7.0704401e-02, 1.2125811e-02, 2.5346284e-03, ..., 5.3804767e-01,\n",
              "        2.1795607e-04, 3.3720871e-03],\n",
              "       [1.0743763e-01, 7.8723300e-04, 1.1321990e-01, ..., 4.6401173e-01,\n",
              "        1.5621106e-04, 2.3100782e-02],\n",
              "       ...,\n",
              "       [5.1563844e-02, 7.2319568e-03, 2.3051292e-02, ..., 3.3759749e-03,\n",
              "        2.6735577e-03, 8.9899021e-01],\n",
              "       [1.0389904e-03, 1.0428820e-03, 5.4578889e-02, ..., 2.6256144e-03,\n",
              "        1.1637807e-03, 2.1290572e-03],\n",
              "       [3.9095604e-03, 7.8479679e-06, 1.1407782e-04, ..., 2.3138817e-01,\n",
              "        3.6135479e-03, 8.5398555e-03]], dtype=float32)"
            ]
          },
          "metadata": {},
          "execution_count": 29
        }
      ],
      "source": [
        "predictions_val\n"
      ]
    },
    {
      "cell_type": "code",
      "execution_count": 30,
      "metadata": {
        "id": "KxHa1Ss1AJo4",
        "colab": {
          "base_uri": "https://localhost:8080/"
        },
        "outputId": "d7bd23b7-e330-4abe-ab1d-ed2f27a5783f"
      },
      "outputs": [
        {
          "output_type": "execute_result",
          "data": {
            "text/plain": [
              "array([4, 5, 5, 4, 4, 3, 5, 5, 1, 7, 5, 5, 1, 0, 6, 3, 7, 6, 7, 4, 4, 4,\n",
              "       1, 5, 5, 6, 4, 7, 7, 5, 1, 7, 5, 4, 1, 4, 1, 7, 1, 3, 0, 6, 5, 0,\n",
              "       5, 4, 3, 4, 1, 0, 2, 1, 3, 3, 1, 6, 4, 0, 5, 6, 2, 1, 7, 1, 3, 4,\n",
              "       1, 7, 5, 5, 2, 5, 4, 5, 0, 1, 7, 7, 5, 4, 7, 7, 7, 1, 0, 5, 5, 7,\n",
              "       4, 7, 4, 5, 1, 5, 4, 4, 1, 5, 5, 7, 7, 2, 5, 4, 6, 7, 5, 4, 1, 4,\n",
              "       5, 2, 4, 0, 4, 3, 0, 4, 4, 4, 6, 4, 7, 4, 6, 7, 5, 7, 7, 1, 0, 5,\n",
              "       7, 1, 4, 4, 1, 3, 1, 2, 5, 0, 2, 7, 4, 6, 0, 6, 0, 4, 7, 7, 7, 1,\n",
              "       1, 0, 4, 7, 4, 6, 5, 2, 4, 4, 4, 7, 4, 7, 4, 0, 6, 1, 0, 5, 1, 7,\n",
              "       1, 1, 4, 4, 7, 7, 2, 7, 5, 4, 7, 4, 0, 7, 4, 2, 6, 7, 4, 1, 1, 1,\n",
              "       5, 4, 2, 7, 4, 4, 4, 5, 4, 0, 7, 4, 7, 4, 4])"
            ]
          },
          "metadata": {},
          "execution_count": 30
        }
      ],
      "source": [
        "y_pred_val_class "
      ]
    },
    {
      "cell_type": "markdown",
      "metadata": {
        "id": "d2ullxf9PUMd"
      },
      "source": [
        "### Val Set Confusion Matrix and Heatmap"
      ]
    },
    {
      "cell_type": "code",
      "execution_count": 31,
      "metadata": {
        "id": "doLcg3CTf9bx",
        "colab": {
          "base_uri": "https://localhost:8080/",
          "height": 0
        },
        "outputId": "2c17ba73-0cab-41d8-930a-150bcd219e61"
      },
      "outputs": [
        {
          "output_type": "execute_result",
          "data": {
            "text/plain": [
              "Text(0.5, 51.0, 'Predicted emotion')"
            ]
          },
          "metadata": {},
          "execution_count": 31
        },
        {
          "output_type": "display_data",
          "data": {
            "text/plain": [
              "<Figure size 864x576 with 2 Axes>"
            ],
            "image/png": "[encoded data removed]"
          },
          "metadata": {
            "needs_background": "light"
          }
        }
      ],
      "source": [
        "# Validation Confusion matrix\n",
        "cm=confusion_matrix(y_val_class, y_pred_val_class)\n",
        "\n",
        "index = ['neutral', 'calm', 'happy', 'sad', 'angry', 'fearful', 'disgust', 'surprised']  \n",
        "columns = ['neutral', 'calm', 'happy', 'sad', 'angry', 'fearful', 'disgust', 'surprised']  \n",
        " \n",
        "cm_df = pd.DataFrame(cm,index,columns)                      \n",
        "plt.figure(figsize=(12,8))\n",
        "ax = plt.axes()\n",
        "\n",
        "sns.heatmap(cm_df, ax = ax, cmap = 'PuBu', fmt=\"d\", annot=True)\n",
        "ax.set_ylabel('True emotion')\n",
        "ax.set_xlabel('Predicted emotion')"
      ]
    },
    {
      "cell_type": "code",
      "execution_count": 32,
      "metadata": {
        "id": "hIEG9Pia8Nfp",
        "colab": {
          "base_uri": "https://localhost:8080/"
        },
        "outputId": "2a95ca16-180a-4029-d89b-2bada87033c8"
      },
      "outputs": [
        {
          "output_type": "execute_result",
          "data": {
            "text/plain": [
              "array([[ 6,  1,  1,  0,  1,  0,  0,  6],\n",
              "       [ 3, 16,  0,  1,  1,  3,  0,  0],\n",
              "       [ 3,  3,  9,  1,  6,  7,  0, 11],\n",
              "       [ 5,  8,  1,  5,  3,  5,  3,  3],\n",
              "       [ 1,  0,  0,  0, 36,  0,  0,  3],\n",
              "       [ 0,  2,  0,  2,  2, 17,  2,  5],\n",
              "       [ 0,  0,  0,  0,  4,  3,  9,  1],\n",
              "       [ 0,  1,  0,  0,  1,  0,  0, 12]])"
            ]
          },
          "metadata": {},
          "execution_count": 32
        }
      ],
      "source": [
        "# Confusion Matrix\n",
        "cm"
      ]
    },
    {
      "cell_type": "markdown",
      "metadata": {
        "id": "kWjKgUdRPYH5"
      },
      "source": [
        "### Validation Set Predicted emotions accuracy"
      ]
    },
    {
      "cell_type": "code",
      "execution_count": 33,
      "metadata": {
        "id": "MopdywY9f-mS",
        "colab": {
          "base_uri": "https://localhost:8080/"
        },
        "outputId": "1ab694e3-c435-4362-fb91-544ccb759811"
      },
      "outputs": [
        {
          "output_type": "stream",
          "name": "stdout",
          "text": [
            "Validation set predicted emotions accuracy:\n",
            "neutral : 0.4000\n",
            "calm : 0.6667\n",
            "happy : 0.2250\n",
            "sad : 0.1515\n",
            "angry : 0.9000\n",
            "fearful : 0.5667\n",
            "disgust : 0.5294\n",
            "surprised : 0.8571\n"
          ]
        }
      ],
      "source": [
        "# Validation set prediction accuracy rates\n",
        "\n",
        "values = cm.diagonal()\n",
        "row_sum = np.sum(cm,axis=1)\n",
        "acc = values / row_sum\n",
        "\n",
        "print('Validation set predicted emotions accuracy:')\n",
        "for e in range(0, len(values)):\n",
        "    print(index[e],':', f\"{(acc[e]):0.4f}\")"
      ]
    },
    {
      "cell_type": "markdown",
      "metadata": {
        "id": "DGSTy2228XRH"
      },
      "source": [
        "### Precision, Recal, Fscore"
      ]
    },
    {
      "cell_type": "code",
      "execution_count": 34,
      "metadata": {
        "id": "rOwUkCG0gGpm",
        "colab": {
          "base_uri": "https://localhost:8080/"
        },
        "outputId": "774445e9-d242-4702-ce41-4f16961193fa"
      },
      "outputs": [
        {
          "output_type": "execute_result",
          "data": {
            "text/plain": [
              "(0.5388900951745169, 0.537050388337153, 0.4803167659449706, None)"
            ]
          },
          "metadata": {},
          "execution_count": 34
        }
      ],
      "source": [
        "# Validation set precision, recall, fscore\n",
        "\n",
        "precision_recall_fscore_support(y_val_class, y_pred_val_class, average='macro')\n"
      ]
    },
    {
      "cell_type": "code",
      "execution_count": 35,
      "metadata": {
        "id": "OorFgXxDzy3o",
        "colab": {
          "base_uri": "https://localhost:8080/"
        },
        "outputId": "4d83baa2-b0cd-4eed-ef59-4099418da789"
      },
      "outputs": [
        {
          "output_type": "execute_result",
          "data": {
            "text/plain": [
              "(0.5855020210191363, 0.5164319248826291, 0.4868715302808578, None)"
            ]
          },
          "metadata": {},
          "execution_count": 35
        }
      ],
      "source": [
        "precision_recall_fscore_support(y_val_class, y_pred_val_class, average='weighted')"
      ]
    },
    {
      "cell_type": "markdown",
      "metadata": {
        "id": "FiCwOjmPPgCn"
      },
      "source": [
        "## Test Set Evaluation"
      ]
    },
    {
      "cell_type": "markdown",
      "metadata": {
        "id": "CWB7U5xDUSmF"
      },
      "source": [
        "### Test Set Score\n",
        "\n"
      ]
    },
    {
      "cell_type": "code",
      "execution_count": 36,
      "metadata": {
        "id": "Y7NEHPM-gzml",
        "colab": {
          "base_uri": "https://localhost:8080/"
        },
        "outputId": "4d6091df-c747-4019-d685-b3b6c46ddee5"
      },
      "outputs": [
        {
          "output_type": "stream",
          "name": "stdout",
          "text": [
            "3/3 - 1s - loss: 1.5444 - categorical_accuracy: 0.5213 - 966ms/epoch - 322ms/step\n"
          ]
        }
      ],
      "source": [
        "loss, acc = model.evaluate(x_test, y_test_class, verbose=2)"
      ]
    },
    {
      "cell_type": "markdown",
      "metadata": {
        "id": "gPwcFV9oAhGh"
      },
      "source": [
        "### Construct Predicted Labels based on Probability of each class"
      ]
    },
    {
      "cell_type": "code",
      "execution_count": 37,
      "metadata": {
        "id": "tjN7Eit7AiML",
        "colab": {
          "base_uri": "https://localhost:8080/"
        },
        "outputId": "e5d5bb5e-3877-4b7a-99ed-70836a120c7f"
      },
      "outputs": [
        {
          "output_type": "execute_result",
          "data": {
            "text/plain": [
              "array([[0, 0, 1, 0, 0, 0, 0, 0],\n",
              "       [0, 0, 1, 0, 0, 0, 0, 0],\n",
              "       [0, 0, 1, 0, 0, 0, 0, 0],\n",
              "       [1, 0, 0, 0, 0, 0, 0, 0],\n",
              "       [0, 0, 0, 0, 1, 0, 0, 0],\n",
              "       [0, 0, 0, 0, 0, 0, 1, 0],\n",
              "       [0, 0, 1, 0, 0, 0, 0, 0],\n",
              "       [1, 0, 0, 0, 0, 0, 0, 0],\n",
              "       [0, 0, 0, 0, 0, 1, 0, 0],\n",
              "       [1, 0, 0, 0, 0, 0, 0, 0],\n",
              "       [0, 0, 0, 1, 0, 0, 0, 0],\n",
              "       [0, 0, 0, 0, 0, 1, 0, 0],\n",
              "       [0, 0, 0, 0, 1, 0, 0, 0],\n",
              "       [0, 1, 0, 0, 0, 0, 0, 0],\n",
              "       [0, 0, 0, 0, 0, 0, 1, 0],\n",
              "       [0, 0, 0, 0, 1, 0, 0, 0],\n",
              "       [0, 0, 0, 1, 0, 0, 0, 0],\n",
              "       [0, 0, 0, 0, 0, 1, 0, 0],\n",
              "       [0, 0, 0, 0, 1, 0, 0, 0],\n",
              "       [0, 0, 0, 0, 0, 1, 0, 0],\n",
              "       [0, 0, 0, 0, 0, 0, 0, 1],\n",
              "       [0, 1, 0, 0, 0, 0, 0, 0],\n",
              "       [0, 0, 0, 0, 0, 0, 0, 1],\n",
              "       [0, 1, 0, 0, 0, 0, 0, 0],\n",
              "       [0, 0, 1, 0, 0, 0, 0, 0],\n",
              "       [0, 0, 0, 0, 0, 1, 0, 0],\n",
              "       [0, 0, 0, 0, 1, 0, 0, 0],\n",
              "       [0, 0, 0, 0, 0, 1, 0, 0],\n",
              "       [0, 0, 0, 0, 1, 0, 0, 0],\n",
              "       [0, 1, 0, 0, 0, 0, 0, 0],\n",
              "       [0, 0, 1, 0, 0, 0, 0, 0],\n",
              "       [0, 1, 0, 0, 0, 0, 0, 0],\n",
              "       [0, 0, 0, 1, 0, 0, 0, 0],\n",
              "       [0, 0, 0, 1, 0, 0, 0, 0],\n",
              "       [0, 0, 0, 1, 0, 0, 0, 0],\n",
              "       [0, 0, 0, 1, 0, 0, 0, 0],\n",
              "       [0, 0, 0, 1, 0, 0, 0, 0],\n",
              "       [0, 0, 0, 1, 0, 0, 0, 0],\n",
              "       [0, 0, 0, 0, 0, 1, 0, 0],\n",
              "       [0, 1, 0, 0, 0, 0, 0, 0],\n",
              "       [0, 0, 0, 0, 0, 1, 0, 0],\n",
              "       [0, 0, 1, 0, 0, 0, 0, 0],\n",
              "       [0, 1, 0, 0, 0, 0, 0, 0],\n",
              "       [0, 0, 0, 0, 0, 0, 1, 0],\n",
              "       [0, 0, 1, 0, 0, 0, 0, 0],\n",
              "       [0, 1, 0, 0, 0, 0, 0, 0],\n",
              "       [0, 0, 0, 1, 0, 0, 0, 0],\n",
              "       [0, 0, 0, 0, 0, 0, 1, 0],\n",
              "       [0, 1, 0, 0, 0, 0, 0, 0],\n",
              "       [0, 0, 0, 0, 0, 1, 0, 0],\n",
              "       [0, 0, 0, 0, 0, 0, 1, 0],\n",
              "       [0, 0, 0, 0, 0, 0, 0, 1],\n",
              "       [0, 0, 0, 0, 1, 0, 0, 0],\n",
              "       [0, 0, 1, 0, 0, 0, 0, 0],\n",
              "       [0, 0, 0, 0, 0, 0, 1, 0],\n",
              "       [0, 0, 0, 0, 1, 0, 0, 0],\n",
              "       [0, 0, 0, 0, 1, 0, 0, 0],\n",
              "       [0, 0, 0, 0, 0, 1, 0, 0],\n",
              "       [0, 0, 0, 0, 1, 0, 0, 0],\n",
              "       [0, 0, 0, 0, 1, 0, 0, 0],\n",
              "       [0, 0, 1, 0, 0, 0, 0, 0],\n",
              "       [0, 0, 0, 1, 0, 0, 0, 0],\n",
              "       [0, 1, 0, 0, 0, 0, 0, 0],\n",
              "       [0, 0, 0, 0, 0, 0, 0, 1],\n",
              "       [0, 0, 0, 0, 0, 0, 0, 1],\n",
              "       [0, 1, 0, 0, 0, 0, 0, 0],\n",
              "       [0, 0, 0, 0, 0, 0, 1, 0],\n",
              "       [0, 0, 0, 0, 1, 0, 0, 0],\n",
              "       [0, 0, 0, 1, 0, 0, 0, 0],\n",
              "       [0, 0, 0, 0, 0, 0, 0, 1],\n",
              "       [0, 0, 0, 0, 0, 0, 1, 0],\n",
              "       [0, 0, 1, 0, 0, 0, 0, 0],\n",
              "       [0, 0, 0, 0, 1, 0, 0, 0],\n",
              "       [0, 0, 0, 0, 0, 0, 1, 0],\n",
              "       [0, 1, 0, 0, 0, 0, 0, 0],\n",
              "       [1, 0, 0, 0, 0, 0, 0, 0],\n",
              "       [0, 1, 0, 0, 0, 0, 0, 0],\n",
              "       [0, 0, 1, 0, 0, 0, 0, 0],\n",
              "       [0, 0, 0, 0, 1, 0, 0, 0],\n",
              "       [0, 0, 0, 0, 0, 1, 0, 0],\n",
              "       [0, 0, 0, 0, 1, 0, 0, 0],\n",
              "       [0, 0, 0, 1, 0, 0, 0, 0],\n",
              "       [0, 1, 0, 0, 0, 0, 0, 0],\n",
              "       [0, 0, 0, 0, 1, 0, 0, 0],\n",
              "       [0, 0, 0, 1, 0, 0, 0, 0],\n",
              "       [0, 0, 0, 0, 0, 0, 1, 0],\n",
              "       [0, 0, 0, 0, 0, 0, 0, 1],\n",
              "       [0, 0, 0, 0, 0, 0, 0, 1],\n",
              "       [0, 0, 0, 0, 0, 1, 0, 0],\n",
              "       [0, 0, 0, 0, 0, 0, 0, 1],\n",
              "       [0, 1, 0, 0, 0, 0, 0, 0],\n",
              "       [0, 0, 1, 0, 0, 0, 0, 0],\n",
              "       [0, 1, 0, 0, 0, 0, 0, 0],\n",
              "       [0, 0, 0, 0, 1, 0, 0, 0]], dtype=int8)"
            ]
          },
          "metadata": {},
          "execution_count": 37
        }
      ],
      "source": [
        "y_test_class"
      ]
    },
    {
      "cell_type": "code",
      "execution_count": 38,
      "metadata": {
        "id": "2fcK-_HzAmc5",
        "colab": {
          "base_uri": "https://localhost:8080/"
        },
        "outputId": "4535b2ae-7aab-465c-f752-2d5758d1127c"
      },
      "outputs": [
        {
          "output_type": "execute_result",
          "data": {
            "text/plain": [
              "array([2, 2, 2, 0, 4, 6, 2, 0, 5, 0, 3, 5, 4, 1, 6, 4, 3, 5, 4, 5, 7, 1,\n",
              "       7, 1, 2, 5, 4, 5, 4, 1, 2, 1, 3, 3, 3, 3, 3, 3, 5, 1, 5, 2, 1, 6,\n",
              "       2, 1, 3, 6, 1, 5, 6, 7, 4, 2, 6, 4, 4, 5, 4, 4, 2, 3, 1, 7, 7, 1,\n",
              "       6, 4, 3, 7, 6, 2, 4, 6, 1, 0, 1, 2, 4, 5, 4, 3, 1, 4, 3, 6, 7, 7,\n",
              "       5, 7, 1, 2, 1, 4])"
            ]
          },
          "metadata": {},
          "execution_count": 38
        }
      ],
      "source": [
        " np.argmax(y_test_class, axis=1)"
      ]
    },
    {
      "cell_type": "code",
      "execution_count": 39,
      "metadata": {
        "id": "uyXvoU2rAckI"
      },
      "outputs": [],
      "source": [
        "y_test_class = np.argmax(y_test_class, axis=1)\n",
        "predictions_test = model.predict(x_test)\n",
        "y_pred_test_class = np.argmax(predictions_test, axis=1)\n",
        "y_proba_test_class = predictions_test\n",
        "\n"
      ]
    },
    {
      "cell_type": "code",
      "execution_count": 40,
      "metadata": {
        "id": "3BAOUaPwAtuY",
        "colab": {
          "base_uri": "https://localhost:8080/"
        },
        "outputId": "0eac7fbf-3c5f-41cc-b6cb-75841c0f3ecb"
      },
      "outputs": [
        {
          "output_type": "execute_result",
          "data": {
            "text/plain": [
              "array([[2.92385072e-01, 5.41803777e-01, 6.05517346e-03, 2.90194787e-02,\n",
              "        3.80736747e-05, 8.27944465e-03, 1.71045365e-03, 1.20708577e-01],\n",
              "       [2.01996088e-01, 2.48533301e-02, 1.05484009e-01, 1.46060949e-03,\n",
              "        1.19232049e-03, 6.06278284e-03, 3.32234456e-04, 6.58618689e-01],\n",
              "       [6.35464152e-04, 4.26588776e-05, 9.53886099e-03, 2.82413966e-04,\n",
              "        8.45934868e-01, 4.77513075e-02, 6.07715640e-03, 8.97373110e-02],\n",
              "       [1.34780630e-01, 2.80572139e-02, 5.28364256e-03, 2.05997359e-02,\n",
              "        2.72464211e-04, 7.39812478e-02, 6.22762693e-03, 7.30797470e-01],\n",
              "       [7.33631823e-05, 4.19077805e-05, 2.40304344e-03, 3.51785478e-04,\n",
              "        2.32078657e-02, 9.08989739e-03, 8.14704746e-02, 8.83361578e-01],\n",
              "       [1.30492175e-04, 3.00720916e-04, 1.13876094e-05, 3.01886275e-02,\n",
              "        3.80937196e-02, 2.49373943e-01, 6.56064570e-01, 2.58366261e-02],\n",
              "       [6.93160594e-02, 9.15626287e-01, 4.57846513e-03, 5.83117222e-03,\n",
              "        3.32017359e-03, 8.17741966e-04, 4.18616371e-04, 9.14702832e-05],\n",
              "       [6.60532951e-01, 1.13987386e-01, 1.97042665e-03, 9.09993872e-02,\n",
              "        2.42456552e-02, 1.04730889e-01, 2.53682374e-04, 3.27955792e-03],\n",
              "       [5.08645829e-03, 5.56684681e-05, 1.91598875e-03, 8.20952281e-03,\n",
              "        4.22914177e-02, 6.91867828e-01, 7.34862080e-03, 2.43224531e-01],\n",
              "       [5.28956354e-01, 2.54876435e-01, 2.90491548e-03, 1.08544767e-01,\n",
              "        8.23227747e-04, 8.04271251e-02, 2.15078384e-04, 2.32521817e-02],\n",
              "       [6.38782680e-01, 8.80999770e-03, 6.74557686e-03, 1.71512485e-01,\n",
              "        3.73674184e-03, 1.66157186e-01, 4.90840757e-04, 3.76440305e-03],\n",
              "       [3.55289108e-03, 2.68664735e-04, 2.16759159e-03, 4.33143135e-03,\n",
              "        9.54037011e-01, 3.07904743e-02, 2.38306308e-03, 2.46875640e-03],\n",
              "       [1.76979341e-02, 6.50754839e-04, 6.31325645e-04, 1.56376556e-01,\n",
              "        7.61181474e-01, 5.68577461e-02, 2.47517088e-03, 4.12911270e-03],\n",
              "       [1.05346873e-01, 2.50344872e-01, 6.75704936e-03, 4.69293267e-01,\n",
              "        5.87537000e-03, 6.02418296e-02, 7.32291043e-02, 2.89115869e-02],\n",
              "       [6.61013910e-05, 4.71313251e-05, 6.64068602e-06, 2.02009245e-03,\n",
              "        1.39067778e-02, 1.14516020e-02, 9.70638573e-01, 1.86304841e-03],\n",
              "       [2.03889882e-04, 2.86463234e-07, 1.36648057e-04, 6.44994871e-05,\n",
              "        9.87832308e-01, 2.55308277e-03, 5.95187070e-04, 8.61411635e-03],\n",
              "       [3.15421402e-01, 7.93019161e-02, 8.22094306e-02, 3.27998817e-01,\n",
              "        6.21357933e-02, 1.23973235e-01, 3.06123984e-04, 8.65327474e-03],\n",
              "       [1.24948183e-02, 7.13685295e-03, 3.10201489e-04, 5.92482388e-01,\n",
              "        1.23758730e-03, 3.85554314e-01, 2.01566494e-04, 5.82274399e-04],\n",
              "       [1.51964044e-02, 1.42453592e-02, 7.67197311e-02, 7.45406142e-03,\n",
              "        8.79061043e-01, 3.11171124e-03, 6.41863968e-04, 3.56974197e-03],\n",
              "       [6.10584905e-03, 3.05323163e-03, 4.79223669e-01, 1.72510557e-03,\n",
              "        9.10948962e-03, 7.74229392e-02, 3.60428775e-03, 4.19755459e-01],\n",
              "       [5.59580454e-04, 2.38078777e-04, 9.92664043e-03, 3.00035421e-02,\n",
              "        2.71219730e-01, 2.46199712e-01, 7.99108967e-02, 3.61941844e-01],\n",
              "       [3.02014984e-02, 9.01946068e-01, 1.24284392e-03, 4.31162231e-02,\n",
              "        1.06348612e-04, 2.30845436e-02, 2.05116288e-04, 9.73533752e-05],\n",
              "       [2.98710633e-03, 1.05245854e-04, 1.23143196e-03, 2.39968114e-02,\n",
              "        5.88220246e-02, 5.27915880e-02, 8.37056711e-02, 7.76360095e-01],\n",
              "       [2.09365487e-02, 1.23258652e-02, 2.56006300e-01, 6.26800302e-03,\n",
              "        5.93729079e-01, 1.05871536e-01, 1.73500972e-03, 3.12765804e-03],\n",
              "       [3.98247270e-03, 4.24747244e-02, 8.30465198e-01, 7.67364260e-03,\n",
              "        1.09009080e-01, 2.93388381e-03, 5.62621106e-04, 2.89832475e-03],\n",
              "       [7.08369014e-04, 3.30677285e-05, 2.19253055e-03, 1.76154287e-03,\n",
              "        4.67145443e-02, 8.96359086e-01, 9.08940751e-03, 4.31415290e-02],\n",
              "       [6.33747142e-04, 5.98485276e-05, 2.05913559e-03, 7.74423301e-04,\n",
              "        9.87823009e-01, 8.16542190e-03, 3.38606296e-05, 4.50473832e-04],\n",
              "       [1.41618319e-03, 3.41936899e-03, 5.87818138e-02, 7.15103820e-02,\n",
              "        1.26193687e-01, 7.23737538e-01, 8.61531682e-03, 6.32572733e-03],\n",
              "       [1.78548843e-02, 5.62851410e-03, 1.47615492e-01, 1.26371812e-02,\n",
              "        6.80107236e-01, 1.18373409e-01, 1.22520141e-03, 1.65581405e-02],\n",
              "       [8.07524659e-03, 2.02208504e-01, 7.97775050e-04, 7.83544660e-01,\n",
              "        1.93336385e-03, 1.56928319e-03, 1.31032383e-03, 5.60937508e-04],\n",
              "       [3.58632207e-02, 1.01966754e-01, 3.80496055e-01, 2.07252726e-02,\n",
              "        4.46976632e-01, 8.68238322e-03, 6.27909030e-04, 4.66179987e-03],\n",
              "       [7.83934146e-02, 1.93783417e-01, 1.35176480e-02, 5.02870865e-02,\n",
              "        5.61650842e-03, 7.00518638e-02, 1.70519482e-02, 5.71298122e-01],\n",
              "       [6.23707511e-02, 8.72498553e-04, 1.76602555e-03, 6.64259680e-03,\n",
              "        8.24060813e-02, 5.89409411e-01, 9.87262744e-03, 2.46660039e-01],\n",
              "       [4.50990260e-01, 1.08384259e-01, 7.83853419e-03, 1.79735988e-01,\n",
              "        9.72961192e-04, 1.82347819e-01, 2.69734231e-03, 6.70329183e-02],\n",
              "       [1.91293817e-04, 1.66765449e-03, 7.05166967e-05, 6.40035570e-02,\n",
              "        1.62639096e-02, 2.04920307e-01, 7.01845348e-01, 1.10373804e-02],\n",
              "       [8.19387585e-02, 5.22753775e-01, 1.04430877e-03, 3.85715723e-01,\n",
              "        3.34473531e-04, 5.24751469e-03, 1.19910612e-04, 2.84552039e-03],\n",
              "       [4.63239521e-01, 3.05232465e-01, 2.25226469e-02, 2.25555734e-03,\n",
              "        4.15571034e-04, 1.15193063e-02, 2.09258194e-03, 1.92722410e-01],\n",
              "       [2.23790612e-02, 1.00986678e-02, 7.90477556e-04, 4.92723733e-01,\n",
              "        5.97881936e-02, 4.06526566e-01, 5.66512300e-03, 2.02813465e-03],\n",
              "       [8.72609578e-03, 5.64687944e-04, 2.30697185e-01, 8.67926609e-03,\n",
              "        6.16475463e-01, 1.22438893e-01, 2.81267770e-04, 1.21370926e-02],\n",
              "       [3.02725583e-01, 6.69115007e-01, 3.26713198e-03, 7.84110185e-03,\n",
              "        2.87026138e-04, 2.70192744e-03, 8.19331035e-04, 1.32428752e-02],\n",
              "       [4.37051691e-02, 8.49414431e-03, 1.24385789e-01, 2.38963193e-03,\n",
              "        4.74720597e-02, 2.16036379e-01, 3.49993892e-02, 5.22517383e-01],\n",
              "       [3.29463917e-04, 5.88001822e-05, 2.89520845e-02, 5.67232273e-05,\n",
              "        1.70336838e-03, 1.55610153e-02, 1.11084385e-02, 9.42230165e-01],\n",
              "       [2.22458560e-02, 6.50857449e-01, 4.63365205e-03, 1.28746286e-01,\n",
              "        3.76304961e-04, 3.57003859e-03, 1.46932617e-01, 4.26377729e-02],\n",
              "       [1.44958147e-03, 5.68355713e-03, 6.80507869e-02, 1.56361645e-03,\n",
              "        1.08148344e-02, 3.83988954e-02, 1.96002796e-01, 6.78035855e-01],\n",
              "       [2.22778365e-01, 1.25579685e-01, 4.65901673e-01, 1.97850959e-03,\n",
              "        4.75287205e-03, 1.84723511e-02, 6.15289086e-04, 1.59921259e-01],\n",
              "       [4.14871961e-01, 4.10425663e-01, 1.55182600e-01, 1.15665998e-02,\n",
              "        2.89711263e-03, 4.55127005e-03, 1.39581234e-05, 4.90867707e-04],\n",
              "       [5.48086882e-01, 6.25011474e-02, 8.83416981e-02, 9.91792884e-03,\n",
              "        1.73056442e-02, 5.02568856e-02, 9.98569303e-04, 2.22591221e-01],\n",
              "       [9.70675683e-05, 3.57403519e-06, 1.22199772e-05, 2.31158268e-03,\n",
              "        9.23148513e-01, 4.37083468e-03, 5.92992790e-02, 1.07569704e-02],\n",
              "       [5.76270334e-02, 9.25220490e-01, 1.08223604e-02, 1.59494302e-04,\n",
              "        3.97216263e-06, 8.93210527e-05, 2.95805094e-05, 6.04770286e-03],\n",
              "       [4.61643748e-02, 1.66874658e-02, 9.65273101e-03, 3.75423431e-02,\n",
              "        1.28192157e-02, 6.23317435e-02, 2.04863325e-01, 6.09938800e-01],\n",
              "       [8.48504715e-03, 1.28417765e-03, 5.80881373e-04, 6.46086968e-03,\n",
              "        5.74774295e-03, 8.01639616e-01, 3.95515375e-02, 1.36250108e-01],\n",
              "       [9.69731808e-02, 1.41593177e-04, 1.86593775e-02, 1.06060889e-03,\n",
              "        3.06304134e-02, 1.60465375e-01, 2.88451463e-03, 6.89184844e-01],\n",
              "       [4.80721444e-02, 1.38234049e-02, 4.69567001e-01, 3.25993029e-03,\n",
              "        3.80753309e-01, 7.32564181e-02, 3.94041941e-04, 1.08738076e-02],\n",
              "       [4.50804643e-03, 5.40313637e-03, 5.28046787e-01, 2.52613612e-03,\n",
              "        1.59564555e-01, 2.25994308e-02, 1.60981510e-02, 2.61253774e-01],\n",
              "       [1.32317643e-03, 2.17649527e-03, 4.78249267e-02, 4.30264212e-02,\n",
              "        1.06569104e-01, 3.17758583e-02, 5.66325903e-01, 2.00978100e-01],\n",
              "       [2.81417451e-04, 2.46766558e-06, 9.20998980e-04, 9.41831095e-04,\n",
              "        7.39486933e-01, 6.32959604e-02, 7.41448626e-03, 1.87656030e-01],\n",
              "       [1.44527489e-02, 4.31312219e-04, 6.70553837e-03, 1.04264617e-02,\n",
              "        5.08362472e-01, 3.72342050e-01, 4.31403145e-02, 4.41391580e-02],\n",
              "       [9.85615700e-02, 1.25977904e-01, 2.21244395e-02, 9.80271026e-03,\n",
              "        7.32844591e-01, 6.83215866e-03, 1.51888747e-03, 2.33769231e-03],\n",
              "       [2.05152221e-02, 9.22878738e-03, 3.67222130e-01, 4.99950629e-03,\n",
              "        5.66395402e-01, 1.94336497e-03, 3.46454326e-03, 2.62310617e-02],\n",
              "       [4.60746778e-05, 1.35015498e-05, 7.81768747e-03, 1.92976661e-03,\n",
              "        8.46190512e-01, 3.86536643e-02, 1.45427212e-02, 9.08060446e-02],\n",
              "       [6.83209002e-02, 2.15326529e-02, 7.94658512e-02, 2.55192234e-03,\n",
              "        2.47521908e-03, 6.11139555e-03, 1.35514848e-02, 8.05990636e-01],\n",
              "       [5.12295403e-03, 8.13092291e-01, 1.24535657e-01, 2.93826498e-02,\n",
              "        5.41841844e-03, 1.65199628e-03, 1.66218933e-02, 4.17410349e-03],\n",
              "       [1.46640956e-01, 8.47595513e-01, 1.93072774e-03, 2.44502979e-03,\n",
              "        6.06595131e-06, 8.35540472e-04, 1.47418295e-05, 5.31479309e-04],\n",
              "       [1.90149061e-03, 8.60629429e-04, 1.40986294e-02, 1.24076754e-02,\n",
              "        4.06507775e-02, 1.44217655e-01, 2.46885732e-01, 5.38977444e-01],\n",
              "       [3.21428515e-02, 9.62519459e-03, 1.74346147e-03, 1.53610021e-01,\n",
              "        1.12842843e-02, 4.98644114e-01, 2.23587733e-02, 2.70591289e-01],\n",
              "       [1.05563793e-02, 9.49160039e-01, 3.14282402e-02, 5.60409902e-03,\n",
              "        1.58913387e-03, 1.34310406e-03, 5.50124314e-05, 2.64071510e-04],\n",
              "       [6.51237278e-05, 2.48621800e-05, 2.94803958e-05, 9.45124135e-04,\n",
              "        9.45558786e-01, 9.02310945e-03, 4.41339351e-02, 2.19557114e-04],\n",
              "       [1.55271171e-03, 7.23778154e-04, 6.20724677e-05, 6.13333024e-02,\n",
              "        6.06350243e-01, 2.89229304e-02, 2.83032060e-01, 1.80229060e-02],\n",
              "       [2.41865456e-01, 4.62169535e-02, 5.95243275e-02, 5.47447838e-02,\n",
              "        7.77829289e-02, 5.16757369e-01, 6.86388084e-05, 3.03954328e-03],\n",
              "       [2.23030467e-04, 3.18250886e-06, 8.17470369e-04, 1.38218893e-04,\n",
              "        5.49996831e-03, 3.76482750e-03, 3.90517688e-03, 9.85648155e-01],\n",
              "       [7.31766969e-03, 7.36215734e-04, 2.21855866e-04, 1.51551709e-01,\n",
              "        6.59645200e-02, 2.22440399e-02, 7.41186261e-01, 1.07777957e-02],\n",
              "       [1.69410976e-03, 2.27388184e-04, 3.92077072e-03, 3.39955068e-03,\n",
              "        1.04005449e-01, 8.26693833e-01, 1.63252291e-03, 5.84264584e-02],\n",
              "       [3.22234817e-03, 6.98902659e-05, 1.23779406e-03, 1.46389578e-03,\n",
              "        5.24905622e-01, 3.68302912e-02, 2.59688068e-02, 4.06301290e-01],\n",
              "       [8.71026987e-06, 3.12231236e-07, 7.05742559e-06, 3.58781166e-04,\n",
              "        9.75962460e-01, 9.99656133e-03, 8.77029821e-03, 4.89581656e-03],\n",
              "       [2.87523791e-02, 9.31899011e-01, 2.25117747e-02, 1.48002207e-02,\n",
              "        7.01802564e-05, 8.13364924e-04, 1.66171565e-04, 9.86889238e-04],\n",
              "       [1.71706110e-01, 5.53967198e-03, 6.75808415e-02, 1.91839796e-03,\n",
              "        6.60894252e-03, 7.77529366e-03, 4.64454293e-03, 7.34226167e-01],\n",
              "       [3.59861523e-01, 4.62476820e-01, 9.23689380e-02, 4.02379334e-02,\n",
              "        1.48166344e-03, 1.13102272e-02, 6.17638580e-04, 3.16452160e-02],\n",
              "       [2.22643800e-02, 2.74075224e-04, 1.08339069e-02, 2.01935656e-02,\n",
              "        1.98136270e-01, 3.56430143e-01, 1.51501372e-02, 3.76717478e-01],\n",
              "       [2.34114555e-06, 8.81778064e-08, 3.34840843e-05, 1.91581330e-05,\n",
              "        9.97007310e-01, 1.99086405e-03, 8.16086831e-05, 8.65179172e-04],\n",
              "       [9.44367982e-03, 6.50370668e-04, 3.89184366e-04, 1.18126823e-02,\n",
              "        2.36798644e-01, 5.84677815e-01, 5.85861923e-03, 1.50368974e-01],\n",
              "       [1.66997197e-05, 5.57865542e-06, 3.23468191e-03, 4.97030960e-05,\n",
              "        9.95762825e-01, 3.90318892e-04, 1.44222839e-04, 3.95893323e-04],\n",
              "       [1.25086950e-02, 3.05673350e-02, 5.08918485e-04, 7.77301669e-01,\n",
              "        4.56896698e-04, 1.72075734e-01, 3.24424542e-03, 3.33648873e-03],\n",
              "       [2.50409637e-02, 9.65650737e-01, 4.15383372e-03, 3.02785309e-03,\n",
              "        8.10064492e-04, 1.06955552e-03, 7.52228807e-05, 1.71734267e-04],\n",
              "       [3.37664882e-04, 8.80729294e-06, 1.26138795e-03, 7.04756181e-04,\n",
              "        9.94641662e-01, 2.93981866e-03, 6.49872482e-06, 9.94014772e-05],\n",
              "       [6.05626166e-01, 3.58000606e-01, 1.15401065e-03, 2.86482014e-02,\n",
              "        2.07722096e-05, 1.49335581e-04, 2.27465716e-04, 6.17340486e-03],\n",
              "       [4.94107313e-04, 1.33024796e-03, 5.96141908e-04, 8.35100131e-04,\n",
              "        4.66594356e-04, 4.79485886e-03, 3.38607371e-01, 6.52875483e-01],\n",
              "       [3.33151333e-02, 7.08751089e-04, 3.02947155e-04, 3.82499397e-02,\n",
              "        5.77670075e-02, 7.58164346e-01, 4.47575562e-03, 1.07016012e-01],\n",
              "       [6.35451754e-04, 6.89532681e-05, 9.09838709e-04, 2.65814085e-03,\n",
              "        2.08323933e-02, 1.95022617e-02, 7.39876330e-02, 8.81405354e-01],\n",
              "       [9.30336595e-04, 4.40545045e-05, 1.01067487e-03, 4.03347425e-03,\n",
              "        4.00593458e-03, 7.33970523e-01, 1.25068408e-02, 2.43498057e-01],\n",
              "       [1.49455143e-03, 2.06435710e-04, 4.59255800e-02, 6.49877184e-04,\n",
              "        1.39677722e-03, 4.19903100e-02, 2.17748759e-03, 9.06158984e-01],\n",
              "       [1.61505863e-01, 3.38115215e-01, 4.72239591e-03, 2.11199090e-01,\n",
              "        1.47038698e-01, 1.35282710e-01, 1.87184941e-03, 2.64151226e-04],\n",
              "       [7.79718801e-04, 1.08447493e-04, 1.89981207e-01, 1.97171903e-04,\n",
              "        3.30525148e-03, 1.96504053e-02, 1.15221730e-02, 7.74455667e-01],\n",
              "       [6.81083323e-03, 1.24211460e-01, 4.64263139e-03, 8.97733867e-02,\n",
              "        2.90280860e-03, 2.38061637e-01, 4.84615833e-01, 4.89814430e-02],\n",
              "       [2.13989435e-04, 5.26435997e-07, 3.01261480e-05, 1.98655747e-04,\n",
              "        9.73275483e-01, 2.45000012e-02, 1.38786723e-04, 1.64238352e-03]],\n",
              "      dtype=float32)"
            ]
          },
          "metadata": {},
          "execution_count": 40
        }
      ],
      "source": [
        "predictions_test"
      ]
    },
    {
      "cell_type": "code",
      "execution_count": 41,
      "metadata": {
        "id": "ph-j4nBsAxjT",
        "colab": {
          "base_uri": "https://localhost:8080/"
        },
        "outputId": "10656887-e889-467f-8ba3-ec3d7502d6e6"
      },
      "outputs": [
        {
          "output_type": "execute_result",
          "data": {
            "text/plain": [
              "array([1, 7, 4, 7, 7, 6, 1, 0, 5, 0, 0, 4, 4, 3, 6, 4, 3, 3, 4, 2, 7, 1,\n",
              "       7, 4, 2, 5, 4, 5, 4, 3, 4, 7, 5, 0, 6, 1, 0, 3, 4, 1, 7, 7, 1, 7,\n",
              "       2, 0, 0, 4, 1, 7, 5, 7, 2, 2, 6, 4, 4, 4, 4, 4, 7, 1, 1, 7, 5, 1,\n",
              "       4, 4, 5, 7, 6, 5, 4, 4, 1, 7, 1, 7, 4, 5, 4, 3, 1, 4, 0, 7, 5, 7,\n",
              "       5, 7, 1, 7, 6, 4])"
            ]
          },
          "metadata": {},
          "execution_count": 41
        }
      ],
      "source": [
        "y_pred_test_class "
      ]
    },
    {
      "cell_type": "markdown",
      "metadata": {
        "id": "Epp2QpxsUVXH"
      },
      "source": [
        "### Test Set Confusion Matrix and Heatmap"
      ]
    },
    {
      "cell_type": "code",
      "execution_count": 42,
      "metadata": {
        "id": "ukGrk_cagzyb",
        "colab": {
          "base_uri": "https://localhost:8080/",
          "height": 0
        },
        "outputId": "0c46d4a2-3210-4d77-f2b3-475b5cdd5c26"
      },
      "outputs": [
        {
          "output_type": "execute_result",
          "data": {
            "text/plain": [
              "Text(0.5, 51.0, 'Predicted emotion')"
            ]
          },
          "metadata": {},
          "execution_count": 42
        },
        {
          "output_type": "display_data",
          "data": {
            "text/plain": [
              "<Figure size 864x576 with 2 Axes>"
            ],
            "image/png": "[encoded data removed]"
          },
          "metadata": {
            "needs_background": "light"
          }
        }
      ],
      "source": [
        "# Test set Confusion matrix\n",
        "\n",
        "cm=confusion_matrix(y_test_class, y_pred_test_class)\n",
        "\n",
        "index = ['neutral', 'calm', 'happy', 'sad', 'angry', 'fearful', 'disgust', 'surprised']  \n",
        "columns = ['neutral', 'calm', 'happy', 'sad', 'angry', 'fearful', 'disgust', 'surprised']  \n",
        " \n",
        "cm_df = pd.DataFrame(cm,index,columns)                      \n",
        "plt.figure(figsize=(12,8))\n",
        "ax = plt.axes()\n",
        "\n",
        "sns.heatmap(cm_df, ax = ax, cmap = 'BuGn', fmt=\"d\", annot=True)\n",
        "ax.set_ylabel('True emotion')\n",
        "ax.set_xlabel('Predicted emotion')"
      ]
    },
    {
      "cell_type": "code",
      "execution_count": 43,
      "metadata": {
        "id": "9f51xwUE8haF",
        "colab": {
          "base_uri": "https://localhost:8080/"
        },
        "outputId": "dfe9f104-ade5-4338-b03d-08c273f2d405"
      },
      "outputs": [
        {
          "output_type": "execute_result",
          "data": {
            "text/plain": [
              "array([[ 2,  0,  0,  0,  0,  0,  0,  2],\n",
              "       [ 1, 10,  0,  2,  1,  0,  1,  1],\n",
              "       [ 0,  2,  3,  0,  2,  1,  0,  5],\n",
              "       [ 5,  2,  0,  3,  0,  2,  1,  0],\n",
              "       [ 0,  0,  1,  0, 15,  0,  0,  1],\n",
              "       [ 0,  0,  1,  1,  3,  5,  0,  2],\n",
              "       [ 0,  0,  0,  0,  3,  1,  4,  2],\n",
              "       [ 0,  0,  0,  0,  0,  2,  0,  7]])"
            ]
          },
          "metadata": {},
          "execution_count": 43
        }
      ],
      "source": [
        "# Confusion Matrix\n",
        "cm"
      ]
    },
    {
      "cell_type": "markdown",
      "metadata": {
        "id": "zil3CkweUX0q"
      },
      "source": [
        "### Test Set Predicted emotions accuracy"
      ]
    },
    {
      "cell_type": "code",
      "execution_count": 44,
      "metadata": {
        "id": "t_ORyGGig090",
        "colab": {
          "base_uri": "https://localhost:8080/"
        },
        "outputId": "d81c4446-3f80-4ad2-83a7-0f23033bfe85"
      },
      "outputs": [
        {
          "output_type": "stream",
          "name": "stdout",
          "text": [
            "Test set predicted emotions accuracy:\n",
            "neutral : 0.5000\n",
            "calm : 0.6250\n",
            "happy : 0.2308\n",
            "sad : 0.2308\n",
            "angry : 0.8824\n",
            "fearful : 0.4167\n",
            "disgust : 0.4000\n",
            "surprised : 0.7778\n"
          ]
        }
      ],
      "source": [
        "# Test set prediction accuracy rates\n",
        "\n",
        "values = cm.diagonal()\n",
        "row_sum = np.sum(cm,axis=1)\n",
        "acc = values / row_sum\n",
        "\n",
        "print('Test set predicted emotions accuracy:')\n",
        "for e in range(0, len(values)):\n",
        "    print(index[e],':', f\"{(acc[e]):0.4f}\")"
      ]
    },
    {
      "cell_type": "markdown",
      "metadata": {
        "id": "8Hzthv1t8kwd"
      },
      "source": [
        "### Precision, Recal, Fscore"
      ]
    },
    {
      "cell_type": "code",
      "execution_count": 45,
      "metadata": {
        "id": "QnwWoVFnh33F",
        "colab": {
          "base_uri": "https://localhost:8080/"
        },
        "outputId": "60fcb727-0964-41e5-ffe4-82bde47a69a7"
      },
      "outputs": [
        {
          "output_type": "execute_result",
          "data": {
            "text/plain": [
              "(0.5200622294372295, 0.5079169808949221, 0.47479641918450277, None)"
            ]
          },
          "metadata": {},
          "execution_count": 45
        }
      ],
      "source": [
        "# Validation set precision, recall, fscore\n",
        "\n",
        "precision_recall_fscore_support(y_test_class, y_pred_test_class, average='macro')\n"
      ]
    },
    {
      "cell_type": "code",
      "execution_count": 46,
      "metadata": {
        "id": "OlDhuPlqzwVB",
        "colab": {
          "base_uri": "https://localhost:8080/"
        },
        "outputId": "9dffe854-e340-4abd-cb81-cde10b952d30"
      },
      "outputs": [
        {
          "output_type": "execute_result",
          "data": {
            "text/plain": [
              "(0.5598381228700376, 0.5212765957446809, 0.5046791465109223, None)"
            ]
          },
          "metadata": {},
          "execution_count": 46
        }
      ],
      "source": [
        "precision_recall_fscore_support(y_test_class, y_pred_test_class, average='weighted')"
      ]
    },
    {
      "cell_type": "markdown",
      "metadata": {
        "id": "sEuBd9IyLuiD"
      },
      "source": [
        "### ROC AUC Score"
      ]
    },
    {
      "cell_type": "code",
      "execution_count": 47,
      "metadata": {
        "id": "8bb4OSmyTO6v"
      },
      "outputs": [],
      "source": [
        "ravdess_df = pd.read_csv (df_path)"
      ]
    },
    {
      "cell_type": "code",
      "execution_count": 48,
      "metadata": {
        "id": "1leZ4JGVTfTp"
      },
      "outputs": [],
      "source": [
        "labels = [\"neutral\", \"calm\", \"happy\", \"sad\", \"angry\", \"fear\", \"disgust\", \"suprised\"]"
      ]
    },
    {
      "cell_type": "code",
      "execution_count": 49,
      "metadata": {
        "id": "MRm1ZwnxFStc"
      },
      "outputs": [],
      "source": [
        "y_test_adj = y_test.reshape(-1,)"
      ]
    },
    {
      "cell_type": "code",
      "execution_count": 50,
      "metadata": {
        "id": "O-IcYOABFjxB",
        "colab": {
          "base_uri": "https://localhost:8080/"
        },
        "outputId": "75b17480-18ba-49ec-980a-83466978af02"
      },
      "outputs": [
        {
          "output_type": "execute_result",
          "data": {
            "text/plain": [
              "(94, 8)"
            ]
          },
          "metadata": {},
          "execution_count": 50
        }
      ],
      "source": [
        "y_proba_test_class.shape"
      ]
    },
    {
      "cell_type": "code",
      "execution_count": 51,
      "metadata": {
        "id": "9AaqUY3PIlMQ",
        "colab": {
          "base_uri": "https://localhost:8080/"
        },
        "outputId": "412f5da8-2207-4ccb-8077-7dcad57d081a"
      },
      "outputs": [
        {
          "output_type": "execute_result",
          "data": {
            "text/plain": [
              "(94, 1)"
            ]
          },
          "metadata": {},
          "execution_count": 51
        }
      ],
      "source": [
        "y_test.shape"
      ]
    },
    {
      "cell_type": "code",
      "execution_count": 52,
      "metadata": {
        "id": "7LgDudYTKInS",
        "colab": {
          "base_uri": "https://localhost:8080/"
        },
        "outputId": "73c28002-405f-4602-f3fd-966e28883480"
      },
      "outputs": [
        {
          "output_type": "execute_result",
          "data": {
            "text/plain": [
              "array([2, 2, 2, 0, 4, 6, 2, 0, 5, 0, 3, 5, 4, 1, 6, 4, 3, 5, 4, 5, 7, 1,\n",
              "       7, 1, 2, 5, 4, 5, 4, 1, 2, 1, 3, 3, 3, 3, 3, 3, 5, 1, 5, 2, 1, 6,\n",
              "       2, 1, 3, 6, 1, 5, 6, 7, 4, 2, 6, 4, 4, 5, 4, 4, 2, 3, 1, 7, 7, 1,\n",
              "       6, 4, 3, 7, 6, 2, 4, 6, 1, 0, 1, 2, 4, 5, 4, 3, 1, 4, 3, 6, 7, 7,\n",
              "       5, 7, 1, 2, 1, 4], dtype=int8)"
            ]
          },
          "metadata": {},
          "execution_count": 52
        }
      ],
      "source": [
        "y_test_adj"
      ]
    },
    {
      "cell_type": "code",
      "execution_count": 53,
      "metadata": {
        "id": "oMa4N8EhHlY9"
      },
      "outputs": [],
      "source": [
        "\n",
        "\n",
        "macro_roc_auc_ovo = roc_auc_score(y_test_adj, y_proba_test_class, multi_class=\"ovo\", average=\"macro\")\n",
        "weighted_roc_auc_ovo = roc_auc_score(\n",
        "    y_test_adj, y_proba_test_class, multi_class=\"ovo\", average=\"weighted\"\n",
        ")\n",
        "macro_roc_auc_ovr = roc_auc_score(y_test_adj, y_proba_test_class, multi_class=\"ovr\", average=\"macro\")\n",
        "weighted_roc_auc_ovr = roc_auc_score(\n",
        "    y_test_adj, y_proba_test_class, multi_class=\"ovr\", average=\"weighted\"\n",
        ")\n"
      ]
    },
    {
      "cell_type": "code",
      "execution_count": 54,
      "metadata": {
        "id": "hhBLwtO_ICqL",
        "colab": {
          "base_uri": "https://localhost:8080/"
        },
        "outputId": "e7ee60b0-8574-4ccb-ac81-6a927ec380f3"
      },
      "outputs": [
        {
          "output_type": "stream",
          "name": "stdout",
          "text": [
            "One-vs-One ROC AUC scores:\n",
            "0.869502 (macro),\n",
            "0.871192 (weighted by prevalence)\n",
            "\n",
            "One-vs-Rest ROC AUC scores:\n",
            "0.873691 (macro),\n",
            "0.872728 (weighted by prevalence)\n"
          ]
        }
      ],
      "source": [
        "print(\"One-vs-One ROC AUC scores:\\n{:.6f} (macro),\\n{:.6f} \" \"(weighted by prevalence)\\n\".format(macro_roc_auc_ovo, weighted_roc_auc_ovo))\n",
        "print(\"One-vs-Rest ROC AUC scores:\\n{:.6f} (macro),\\n{:.6f} \" \"(weighted by prevalence)\".format(macro_roc_auc_ovr, weighted_roc_auc_ovr))"
      ]
    }
  ],
  "metadata": {
    "colab": {
      "collapsed_sections": [
        "anSyerIFN7qd",
        "nyMzoZKKKiw6",
        "1YfguG0tPatV",
        "ATvBW0SPO-eq",
        "5YoYCa22PMGz",
        "hz7nc15A_3hb",
        "d2ullxf9PUMd",
        "kWjKgUdRPYH5",
        "DGSTy2228XRH",
        "CWB7U5xDUSmF",
        "gPwcFV9oAhGh",
        "Epp2QpxsUVXH",
        "zil3CkweUX0q",
        "8Hzthv1t8kwd"
      ],
      "name": "SER-RAVDESS-RNN-model-BIGRU-DropOut0.2.ipynb",
      "provenance": []
    },
    "kernelspec": {
      "display_name": "Python 3",
      "language": "python",
      "name": "python3"
    },
    "language_info": {
      "codemirror_mode": {
        "name": "ipython",
        "version": 3
      },
      "file_extension": ".py",
      "mimetype": "text/x-python",
      "name": "python",
      "nbconvert_exporter": "python",
      "pygments_lexer": "ipython3",
      "version": "3.6.4"
    }
  },
  "nbformat": 4,
  "nbformat_minor": 0
}