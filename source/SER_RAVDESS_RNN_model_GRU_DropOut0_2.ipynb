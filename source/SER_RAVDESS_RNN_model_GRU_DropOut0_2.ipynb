{
  "metadata": {
    "kernelspec": {
      "language": "python",
      "display_name": "Python 3",
      "name": "python3"
    },
    "language_info": {
      "pygments_lexer": "ipython3",
      "nbconvert_exporter": "python",
      "version": "3.6.4",
      "file_extension": ".py",
      "codemirror_mode": {
        "name": "ipython",
        "version": 3
      },
      "name": "python",
      "mimetype": "text/x-python"
    },
    "colab": {
      "name": "SER-RAVDESS-RNN-model-GRU-DropOut0.2.ipynb",
      "provenance": [],
      "collapsed_sections": [
        "anSyerIFN7qd",
        "nyMzoZKKKiw6",
        "1YfguG0tPatV",
        "ATvBW0SPO-eq",
        "5YoYCa22PMGz",
        "hz7nc15A_3hb",
        "d2ullxf9PUMd",
        "kWjKgUdRPYH5",
        "DGSTy2228XRH",
        "CWB7U5xDUSmF",
        "gPwcFV9oAhGh",
        "Epp2QpxsUVXH",
        "zil3CkweUX0q",
        "8Hzthv1t8kwd"
      ]
    }
  },
  "nbformat_minor": 0,
  "nbformat": 4,
  "cells": [
    {
      "cell_type": "markdown",
      "source": [
        "# Imports"
      ],
      "metadata": {
        "id": "anSyerIFN7qd"
      }
    },
    {
      "cell_type": "code",
      "source": [
        "# Importing Libraries"
      ],
      "metadata": {
        "id": "IMFSwIuvKiw2"
      },
      "execution_count": 53,
      "outputs": []
    },
    {
      "cell_type": "code",
      "source": [
        "!pip install json-tricks"
      ],
      "metadata": {
        "colab": {
          "base_uri": "https://localhost:8080/"
        },
        "id": "bBR8aNsmM2tR",
        "outputId": "f2266aca-f0f5-4192-cd87-9730e7000d46"
      },
      "execution_count": 54,
      "outputs": [
        {
          "output_type": "stream",
          "name": "stdout",
          "text": [
            "Requirement already satisfied: json-tricks in /usr/local/lib/python3.7/dist-packages (3.15.5)\n"
          ]
        }
      ]
    },
    {
      "cell_type": "code",
      "source": [
        "import pandas as pd\n",
        "import numpy as np\n",
        "\n",
        "import os\n",
        "import sys\n",
        "\n",
        "import librosa\n",
        "import librosa.display\n",
        "#from pydub import AudioSegment, effects\n",
        "#import noisereduce as nr\n",
        "\n",
        "\n",
        "import seaborn as sns\n",
        "import matplotlib.pyplot as plt\n",
        "from IPython.display import Audio\n",
        "\n",
        "import tensorflow as tf\n",
        "import keras\n",
        "import sklearn\n",
        "\n",
        "\n",
        "from tensorflow.keras.models import Sequential, Model\n",
        "from tensorflow.keras.layers import Dense, LSTM, Flatten, Dropout, BatchNormalization\n",
        "from tensorflow.keras.callbacks import ModelCheckpoint, EarlyStopping, ReduceLROnPlateau\n",
        "from tensorflow.keras.optimizers import Adam, SGD\n",
        "from tensorflow.keras.utils import to_categorical, plot_model\n",
        "\n",
        "\n",
        "from keras.models import Sequential, model_from_json, load_model\n",
        "from keras import layers\n",
        "from keras import optimizers\n",
        "from keras import callbacks\n",
        "\n",
        "from sklearn.preprocessing import StandardScaler, OneHotEncoder, LabelEncoder\n",
        "from sklearn.metrics import confusion_matrix, classification_report, precision_recall_fscore_support, roc_auc_score\n",
        "from sklearn.model_selection import train_test_split, StratifiedShuffleSplit\n",
        "from sklearn.multiclass import OneVsRestClassifier\n",
        "\n",
        "\n",
        "from tqdm import tqdm\n",
        "\n",
        "\n",
        "from json_tricks import dump, load\n",
        "\n",
        "\n",
        "\n",
        "import warnings\n",
        "if not sys.warnoptions:\n",
        "    warnings.simplefilter(\"ignore\")\n",
        "warnings.filterwarnings(\"ignore\", category=DeprecationWarning) \n",
        "\n",
        "import time\n",
        "tic = time.perf_counter()\n",
        "\n"
      ],
      "metadata": {
        "id": "77IS8HxqFFCA"
      },
      "execution_count": 55,
      "outputs": []
    },
    {
      "cell_type": "code",
      "source": [
        ""
      ],
      "metadata": {
        "id": "gGYqBIk0FGm4"
      },
      "execution_count": 55,
      "outputs": []
    },
    {
      "cell_type": "markdown",
      "source": [
        "# Dataset"
      ],
      "metadata": {
        "id": "nyMzoZKKKiw6"
      }
    },
    {
      "cell_type": "code",
      "source": [
        "from google.colab import drive\n",
        "drive.mount('/content/drive')"
      ],
      "metadata": {
        "id": "JFPDGXmwCBs_",
        "colab": {
          "base_uri": "https://localhost:8080/"
        },
        "outputId": "1111f3fb-8b8e-44b4-940d-cbb316ffe5f4"
      },
      "execution_count": 56,
      "outputs": [
        {
          "output_type": "stream",
          "name": "stdout",
          "text": [
            "Drive already mounted at /content/drive; to attempt to forcibly remount, call drive.mount(\"/content/drive\", force_remount=True).\n"
          ]
        }
      ]
    },
    {
      "cell_type": "code",
      "source": [
        "#Crema = \"/content/drive/MyDrive/datasets/speech/CREMAD/sample/\"\n",
        "#Crema = \"/content/drive/MyDrive/datasets/speech/CREMAD/AudioWAV/\"\n",
        "Ravdess = \"/content/drive/MyDrive/datasets/speech/RAVDESS/data\"\n",
        "Ravdess_processed = \"/content/drive/MyDrive/datasets/speech/RAVDESS/processedData/\"\n",
        "Ravdess_speech_sample = \"/content/drive/MyDrive/datasets/speech/RAVDESS/data/Audio_Speech_Actors_01-24/\"\n",
        "df_path = \"/content/drive/MyDrive/datasets/speech/RAVDESS/ravdess_df.csv\"\n",
        "model_path = Ravdess + \"/model/\"\n",
        "\n",
        "checkpoint_path = model_path + \"best_weights-8.hdf5\"\n",
        "saved_model_path = model_path + 'model8723-6.json'\n",
        "\n",
        "saved_weights_path = model_path + 'model8723_weights-8.h5'\n",
        "saved_model_path_2 = model_path + 'Speech-Emotion-Recognition-Model-RNN-6.h5'"
      ],
      "metadata": {
        "execution": {
          "iopub.status.busy": "2021-06-21T09:35:38.093538Z",
          "iopub.execute_input": "2021-06-21T09:35:38.093869Z",
          "iopub.status.idle": "2021-06-21T09:35:38.097467Z",
          "shell.execute_reply.started": "2021-06-21T09:35:38.093838Z",
          "shell.execute_reply": "2021-06-21T09:35:38.096608Z"
        },
        "trusted": true,
        "id": "vR2GjHL4Kiw7"
      },
      "execution_count": 57,
      "outputs": []
    },
    {
      "cell_type": "code",
      "source": [
        ""
      ],
      "metadata": {
        "id": "J2T6JxzIF2Jq"
      },
      "execution_count": 57,
      "outputs": []
    },
    {
      "cell_type": "code",
      "source": [
        "##Hypter Parameters' Range\n",
        "params = {\n",
        "    \"batch_size\": 20,  # 20<16<10, 25 was a bust\n",
        "    \"epochs\": 300,\n",
        "    \"lr\": 0.00010000,\n",
        "    \"time_steps\": 60\n",
        "}\n",
        "#TIME_STEPS = params[\"time_steps\"]\n",
        "#BATCH_SIZE = params[\"batch_size\"]\n",
        "#iter_changes = \"dropout_layers_0.4_0.4\"\n"
      ],
      "metadata": {
        "id": "jnEd5_Vvy4ue"
      },
      "execution_count": 58,
      "outputs": []
    },
    {
      "cell_type": "code",
      "source": [
        ""
      ],
      "metadata": {
        "id": "dKXM0xT-N8uy"
      },
      "execution_count": 58,
      "outputs": []
    },
    {
      "cell_type": "markdown",
      "source": [
        "# Load Processed Files, Construct Train, Validation and Test Sets"
      ],
      "metadata": {
        "id": "fse_mTpaOGdQ"
      }
    },
    {
      "cell_type": "code",
      "source": [
        "\n",
        "processed_path = Ravdess_processed\n",
        "x_path = processed_path + \"X_features.json\" # FILE LOAD PATH\n",
        "y_path =  processed_path + \"Y_labels.json\" # FILE SAVE PATH\n",
        "#x_path = '/content/drive/MyDrive/datasets/speech/RAVDESS/processedData/X_features.json'\n",
        "\n",
        "# Load X,Y json files back into lists, convert to np.arrays\n",
        "\n",
        "X = load(x_path)\n",
        "X = np.asarray(X, dtype = 'float32')\n",
        "\n",
        "Y = load(y_path)\n",
        "Y = np.asarray(Y, dtype = 'int8')"
      ],
      "metadata": {
        "id": "101BpvWgN8xX"
      },
      "execution_count": 59,
      "outputs": []
    },
    {
      "cell_type": "code",
      "source": [
        "# Split to train, validation, and test sets.\n",
        "from sklearn.model_selection import train_test_split\n",
        "# 1st Split: X,Y => (x_train, x_tosplit) (y_train, y_tosplit)\n",
        "x_train, x_tosplit, y_train, y_tosplit = train_test_split(X, Y, test_size = 0.125, random_state = 1)\n",
        "# 2nd Split: x_tosplit,y_tosplit => (x_val, x_test) (y_val, y_test) \n",
        "x_val, x_test, y_val, y_test = train_test_split(x_tosplit, y_tosplit, test_size = 0.304, random_state = 1)\n",
        "#'One-hot' vectors for Y: emotion classification\n",
        "y_train_class = tf.keras.utils.to_categorical(y_train, 8, dtype = 'int8')\n",
        "y_val_class = tf.keras.utils.to_categorical(y_val, 8, dtype = 'int8')"
      ],
      "metadata": {
        "id": "CuF9M1mfOD7X"
      },
      "execution_count": 60,
      "outputs": []
    },
    {
      "cell_type": "code",
      "source": [
        "# x_train, x_val, and x_test shape check.\n",
        "print(np.shape(x_train))\n",
        "print(np.shape(x_val))\n",
        "print(np.shape(x_test))"
      ],
      "metadata": {
        "id": "od-D1YgBOGXs",
        "colab": {
          "base_uri": "https://localhost:8080/"
        },
        "outputId": "5a8e191b-37e7-44e1-9fc8-0d4c80f8db79"
      },
      "execution_count": 61,
      "outputs": [
        {
          "output_type": "stream",
          "name": "stdout",
          "text": [
            "(2145, 523, 15)\n",
            "(213, 523, 15)\n",
            "(94, 523, 15)\n"
          ]
        }
      ]
    },
    {
      "cell_type": "code",
      "source": [
        "# Save x_test, y_test to JSON.\n",
        "\n",
        "x_test_path = processed_path + 'x_test_data.json'\n",
        "dump(obj = x_test, fp = x_test_path)\n",
        "\n",
        "y_test_path = processed_path + 'y_test_data.json'\n",
        "dump(obj = y_test, fp = y_test_path)"
      ],
      "metadata": {
        "id": "nTExHJVsOHQ5",
        "colab": {
          "base_uri": "https://localhost:8080/",
          "height": 88
        },
        "outputId": "e3f5639a-8da7-4b30-df30-7c3d07032ebb"
      },
      "execution_count": 62,
      "outputs": [
        {
          "output_type": "execute_result",
          "data": {
            "text/plain": [
              "'{\"__ndarray__\": [[2], [2], [2], [0], [4], [6], [2], [0], [5], [0], [3], [5], [4], [1], [6], [4], [3], [5], [4], [5], [7], [1], [7], [1], [2], [5], [4], [5], [4], [1], [2], [1], [3], [3], [3], [3], [3], [3], [5], [1], [5], [2], [1], [6], [2], [1], [3], [6], [1], [5], [6], [7], [4], [2], [6], [4], [4], [5], [4], [4], [2], [3], [1], [7], [7], [1], [6], [4], [3], [7], [6], [2], [4], [6], [1], [0], [1], [2], [4], [5], [4], [3], [1], [4], [3], [6], [7], [7], [5], [7], [1], [2], [1], [4]], \"dtype\": \"int8\", \"shape\": [94, 1], \"Corder\": true}'"
            ],
            "application/vnd.google.colaboratory.intrinsic+json": {
              "type": "string"
            }
          },
          "metadata": {},
          "execution_count": 62
        }
      ]
    },
    {
      "cell_type": "code",
      "source": [
        "# Loading x_test, y_test json files, and converting to np.arrays\n",
        "\n",
        "x_test = load(processed_path + 'x_test_data.json')\n",
        "x_test = np.asarray(x_test).astype('float32')\n",
        "\n",
        "y_test = load(processed_path + 'y_test_data.json')\n",
        "y_test = np.asarray(y_test).astype('int8')\n",
        "\n",
        "y_test_class = tf.keras.utils.to_categorical(y_test, 8, dtype = 'int8')"
      ],
      "metadata": {
        "id": "kAFBRsmk5dzm"
      },
      "execution_count": 63,
      "outputs": []
    },
    {
      "cell_type": "code",
      "source": [
        "X.shape"
      ],
      "metadata": {
        "id": "15joCR4gu4r7",
        "colab": {
          "base_uri": "https://localhost:8080/"
        },
        "outputId": "1715780a-54a5-4ea8-eff2-d07f9fe3c601"
      },
      "execution_count": 64,
      "outputs": [
        {
          "output_type": "execute_result",
          "data": {
            "text/plain": [
              "(2452, 523, 15)"
            ]
          },
          "metadata": {},
          "execution_count": 64
        }
      ]
    },
    {
      "cell_type": "code",
      "source": [
        "X.shape[1:3]"
      ],
      "metadata": {
        "id": "8MQhoPKjEzi4",
        "colab": {
          "base_uri": "https://localhost:8080/"
        },
        "outputId": "04fc009d-cf41-4b35-dd60-1b028faa77a1"
      },
      "execution_count": 65,
      "outputs": [
        {
          "output_type": "execute_result",
          "data": {
            "text/plain": [
              "(523, 15)"
            ]
          },
          "metadata": {},
          "execution_count": 65
        }
      ]
    },
    {
      "cell_type": "markdown",
      "source": [
        "# RNN Model"
      ],
      "metadata": {
        "id": "gnWVMbR6KixC"
      }
    },
    {
      "cell_type": "code",
      "source": [
        "tic"
      ],
      "metadata": {
        "id": "7CHZWdfcN8oo",
        "colab": {
          "base_uri": "https://localhost:8080/"
        },
        "outputId": "ce22f84e-baaa-45a2-991f-e25b7f540056"
      },
      "execution_count": 66,
      "outputs": [
        {
          "output_type": "execute_result",
          "data": {
            "text/plain": [
              "4653.666020164"
            ]
          },
          "metadata": {},
          "execution_count": 66
        }
      ]
    },
    {
      "cell_type": "markdown",
      "source": [
        "## Define Model & Training"
      ],
      "metadata": {
        "id": "GJjJYnJQORJ8"
      }
    },
    {
      "cell_type": "code",
      "source": [
        "# Initializing the model\n",
        "\n",
        "model = Sequential()\n",
        "model.add(layers.GRU(128, return_sequences = True, input_shape=(X.shape[1:3])))\n",
        "model.add(layers.GRU(64))\n",
        "model.add(Dropout(0.2))\n",
        "model.add(layers.Dense(8, activation = 'softmax'))\n",
        "print(model.summary())\n",
        "\n",
        "batch_size = 23\n",
        "\n",
        "# Callbacks functions\n",
        "\n",
        "#-> EearlyStopping\n",
        "es = EarlyStopping(monitor='val_loss', mode='min', verbose=1,\n",
        "                    patience=10, min_delta=0.0001)\n",
        "\n",
        "\n",
        "#-> Save the best weights\n",
        "mcp_save = callbacks.ModelCheckpoint(checkpoint_path, save_best_only=True,\n",
        "                           monitor='val_categorical_accuracy',\n",
        "                           mode='max')\n",
        "#-> Reduce learning rate after 100 epoches without improvement.\n",
        "rlrop = callbacks.ReduceLROnPlateau(monitor='val_categorical_accuracy', \n",
        "                                    factor=0.1, patience=20)\n",
        "                             \n",
        "# Compile & train   \n",
        "model.compile(loss='categorical_crossentropy', \n",
        "                optimizer='RMSProp', \n",
        "                metrics=['categorical_accuracy'])\n",
        "\n",
        "\n"
      ],
      "metadata": {
        "id": "aD2adyVGOJs4",
        "colab": {
          "base_uri": "https://localhost:8080/"
        },
        "outputId": "6dc818f1-bc98-4bdc-c7ca-baf9f09fc97d"
      },
      "execution_count": 67,
      "outputs": [
        {
          "output_type": "stream",
          "name": "stdout",
          "text": [
            "Model: \"sequential_1\"\n",
            "_________________________________________________________________\n",
            " Layer (type)                Output Shape              Param #   \n",
            "=================================================================\n",
            " gru_2 (GRU)                 (None, 523, 128)          55680     \n",
            "                                                                 \n",
            " gru_3 (GRU)                 (None, 64)                37248     \n",
            "                                                                 \n",
            " dropout_1 (Dropout)         (None, 64)                0         \n",
            "                                                                 \n",
            " dense_1 (Dense)             (None, 8)                 520       \n",
            "                                                                 \n",
            "=================================================================\n",
            "Total params: 93,448\n",
            "Trainable params: 93,448\n",
            "Non-trainable params: 0\n",
            "_________________________________________________________________\n",
            "None\n"
          ]
        }
      ]
    },
    {
      "cell_type": "code",
      "source": [
        ""
      ],
      "metadata": {
        "id": "4DBF6kqx-OHZ"
      },
      "execution_count": 67,
      "outputs": []
    },
    {
      "cell_type": "code",
      "source": [
        "history = model.fit(x_train, y_train_class, \n",
        "                      epochs=340, batch_size = batch_size, \n",
        "                      validation_data = (x_val, y_val_class), \n",
        "                      callbacks = [es, mcp_save, rlrop])\n",
        "toc = time.perf_counter()"
      ],
      "metadata": {
        "id": "Da7Gc9x_izth",
        "colab": {
          "base_uri": "https://localhost:8080/"
        },
        "outputId": "61411b1f-afb6-458a-9d72-8a1dc46ce8e3"
      },
      "execution_count": 68,
      "outputs": [
        {
          "output_type": "stream",
          "name": "stdout",
          "text": [
            "Epoch 1/340\n",
            "94/94 [==============================] - 49s 486ms/step - loss: 2.0785 - categorical_accuracy: 0.2126 - val_loss: 1.9877 - val_categorical_accuracy: 0.1831 - lr: 0.0010\n",
            "Epoch 2/340\n",
            "94/94 [==============================] - 45s 480ms/step - loss: 1.9835 - categorical_accuracy: 0.2312 - val_loss: 1.9424 - val_categorical_accuracy: 0.2347 - lr: 0.0010\n",
            "Epoch 3/340\n",
            "94/94 [==============================] - 45s 478ms/step - loss: 1.9348 - categorical_accuracy: 0.2643 - val_loss: 1.9142 - val_categorical_accuracy: 0.2911 - lr: 0.0010\n",
            "Epoch 4/340\n",
            "94/94 [==============================] - 45s 480ms/step - loss: 1.9073 - categorical_accuracy: 0.2872 - val_loss: 1.8764 - val_categorical_accuracy: 0.2582 - lr: 0.0010\n",
            "Epoch 5/340\n",
            "94/94 [==============================] - 45s 476ms/step - loss: 1.8681 - categorical_accuracy: 0.3082 - val_loss: 1.8997 - val_categorical_accuracy: 0.2723 - lr: 0.0010\n",
            "Epoch 6/340\n",
            "94/94 [==============================] - 46s 485ms/step - loss: 1.8400 - categorical_accuracy: 0.2923 - val_loss: 1.7519 - val_categorical_accuracy: 0.3380 - lr: 0.0010\n",
            "Epoch 7/340\n",
            "94/94 [==============================] - 45s 479ms/step - loss: 1.8108 - categorical_accuracy: 0.3100 - val_loss: 1.7513 - val_categorical_accuracy: 0.3568 - lr: 0.0010\n",
            "Epoch 8/340\n",
            "94/94 [==============================] - 45s 474ms/step - loss: 1.7745 - categorical_accuracy: 0.3385 - val_loss: 1.8244 - val_categorical_accuracy: 0.3099 - lr: 0.0010\n",
            "Epoch 9/340\n",
            "94/94 [==============================] - 44s 471ms/step - loss: 1.7388 - categorical_accuracy: 0.3375 - val_loss: 1.8935 - val_categorical_accuracy: 0.2958 - lr: 0.0010\n",
            "Epoch 10/340\n",
            "94/94 [==============================] - 45s 476ms/step - loss: 1.6924 - categorical_accuracy: 0.3646 - val_loss: 1.7380 - val_categorical_accuracy: 0.3427 - lr: 0.0010\n",
            "Epoch 11/340\n",
            "94/94 [==============================] - 45s 474ms/step - loss: 1.6434 - categorical_accuracy: 0.3818 - val_loss: 1.6703 - val_categorical_accuracy: 0.3286 - lr: 0.0010\n",
            "Epoch 12/340\n",
            "94/94 [==============================] - 45s 475ms/step - loss: 1.5913 - categorical_accuracy: 0.4075 - val_loss: 1.6401 - val_categorical_accuracy: 0.3521 - lr: 0.0010\n",
            "Epoch 13/340\n",
            "94/94 [==============================] - 45s 482ms/step - loss: 1.5412 - categorical_accuracy: 0.4247 - val_loss: 1.7035 - val_categorical_accuracy: 0.3803 - lr: 0.0010\n",
            "Epoch 14/340\n",
            "94/94 [==============================] - 47s 505ms/step - loss: 1.5360 - categorical_accuracy: 0.4284 - val_loss: 1.9016 - val_categorical_accuracy: 0.3286 - lr: 0.0010\n",
            "Epoch 15/340\n",
            "94/94 [==============================] - 46s 486ms/step - loss: 1.5399 - categorical_accuracy: 0.4089 - val_loss: 1.5808 - val_categorical_accuracy: 0.4085 - lr: 0.0010\n",
            "Epoch 16/340\n",
            "94/94 [==============================] - 46s 486ms/step - loss: 1.4580 - categorical_accuracy: 0.4480 - val_loss: 1.5853 - val_categorical_accuracy: 0.4272 - lr: 0.0010\n",
            "Epoch 17/340\n",
            "94/94 [==============================] - 45s 480ms/step - loss: 1.4350 - categorical_accuracy: 0.4615 - val_loss: 1.5399 - val_categorical_accuracy: 0.3897 - lr: 0.0010\n",
            "Epoch 18/340\n",
            "94/94 [==============================] - 45s 482ms/step - loss: 1.4174 - categorical_accuracy: 0.4592 - val_loss: 1.4973 - val_categorical_accuracy: 0.4272 - lr: 0.0010\n",
            "Epoch 19/340\n",
            "94/94 [==============================] - 45s 482ms/step - loss: 1.3706 - categorical_accuracy: 0.4830 - val_loss: 1.6785 - val_categorical_accuracy: 0.3897 - lr: 0.0010\n",
            "Epoch 20/340\n",
            "94/94 [==============================] - 46s 487ms/step - loss: 1.3377 - categorical_accuracy: 0.5049 - val_loss: 1.5579 - val_categorical_accuracy: 0.4366 - lr: 0.0010\n",
            "Epoch 21/340\n",
            "94/94 [==============================] - 46s 487ms/step - loss: 1.3163 - categorical_accuracy: 0.5068 - val_loss: 1.5478 - val_categorical_accuracy: 0.4554 - lr: 0.0010\n",
            "Epoch 22/340\n",
            "94/94 [==============================] - 46s 486ms/step - loss: 1.2870 - categorical_accuracy: 0.5263 - val_loss: 1.3855 - val_categorical_accuracy: 0.4601 - lr: 0.0010\n",
            "Epoch 23/340\n",
            "94/94 [==============================] - 45s 481ms/step - loss: 1.2622 - categorical_accuracy: 0.5226 - val_loss: 1.8179 - val_categorical_accuracy: 0.3615 - lr: 0.0010\n",
            "Epoch 24/340\n",
            "94/94 [==============================] - 45s 483ms/step - loss: 1.2678 - categorical_accuracy: 0.5226 - val_loss: 1.4156 - val_categorical_accuracy: 0.5023 - lr: 0.0010\n",
            "Epoch 25/340\n",
            "94/94 [==============================] - 45s 477ms/step - loss: 1.2498 - categorical_accuracy: 0.5249 - val_loss: 1.4163 - val_categorical_accuracy: 0.4930 - lr: 0.0010\n",
            "Epoch 26/340\n",
            "94/94 [==============================] - 46s 485ms/step - loss: 1.2081 - categorical_accuracy: 0.5450 - val_loss: 1.3486 - val_categorical_accuracy: 0.5305 - lr: 0.0010\n",
            "Epoch 27/340\n",
            "94/94 [==============================] - 45s 479ms/step - loss: 1.2012 - categorical_accuracy: 0.5501 - val_loss: 1.5199 - val_categorical_accuracy: 0.4085 - lr: 0.0010\n",
            "Epoch 28/340\n",
            "94/94 [==============================] - 45s 478ms/step - loss: 1.1348 - categorical_accuracy: 0.5776 - val_loss: 1.3943 - val_categorical_accuracy: 0.4648 - lr: 0.0010\n",
            "Epoch 29/340\n",
            "94/94 [==============================] - 45s 479ms/step - loss: 1.1123 - categorical_accuracy: 0.5883 - val_loss: 1.4019 - val_categorical_accuracy: 0.4648 - lr: 0.0010\n",
            "Epoch 30/340\n",
            "94/94 [==============================] - 45s 477ms/step - loss: 1.1361 - categorical_accuracy: 0.5865 - val_loss: 1.3329 - val_categorical_accuracy: 0.5023 - lr: 0.0010\n",
            "Epoch 31/340\n",
            "94/94 [==============================] - 45s 478ms/step - loss: 1.1115 - categorical_accuracy: 0.5916 - val_loss: 1.5477 - val_categorical_accuracy: 0.4085 - lr: 0.0010\n",
            "Epoch 32/340\n",
            "94/94 [==============================] - 45s 479ms/step - loss: 1.0981 - categorical_accuracy: 0.6000 - val_loss: 1.3791 - val_categorical_accuracy: 0.5117 - lr: 0.0010\n",
            "Epoch 33/340\n",
            "94/94 [==============================] - 45s 479ms/step - loss: 1.0693 - categorical_accuracy: 0.5963 - val_loss: 1.4096 - val_categorical_accuracy: 0.4789 - lr: 0.0010\n",
            "Epoch 34/340\n",
            "94/94 [==============================] - 45s 482ms/step - loss: 1.0588 - categorical_accuracy: 0.6135 - val_loss: 1.5434 - val_categorical_accuracy: 0.4836 - lr: 0.0010\n",
            "Epoch 35/340\n",
            "94/94 [==============================] - 45s 479ms/step - loss: 1.0195 - categorical_accuracy: 0.6159 - val_loss: 1.5132 - val_categorical_accuracy: 0.4836 - lr: 0.0010\n",
            "Epoch 36/340\n",
            "94/94 [==============================] - 45s 480ms/step - loss: 1.0288 - categorical_accuracy: 0.6098 - val_loss: 1.4599 - val_categorical_accuracy: 0.4836 - lr: 0.0010\n",
            "Epoch 37/340\n",
            "94/94 [==============================] - 45s 478ms/step - loss: 0.9973 - categorical_accuracy: 0.6242 - val_loss: 1.4376 - val_categorical_accuracy: 0.4977 - lr: 0.0010\n",
            "Epoch 38/340\n",
            "94/94 [==============================] - 45s 482ms/step - loss: 0.9814 - categorical_accuracy: 0.6210 - val_loss: 1.4448 - val_categorical_accuracy: 0.4930 - lr: 0.0010\n",
            "Epoch 39/340\n",
            "94/94 [==============================] - 45s 480ms/step - loss: 0.9644 - categorical_accuracy: 0.6443 - val_loss: 1.5183 - val_categorical_accuracy: 0.4225 - lr: 0.0010\n",
            "Epoch 40/340\n",
            "94/94 [==============================] - 45s 477ms/step - loss: 0.9629 - categorical_accuracy: 0.6485 - val_loss: 1.7019 - val_categorical_accuracy: 0.4085 - lr: 0.0010\n",
            "Epoch 40: early stopping\n"
          ]
        }
      ]
    },
    {
      "cell_type": "code",
      "source": [
        ""
      ],
      "metadata": {
        "id": "3MekXCZHizyZ"
      },
      "execution_count": 68,
      "outputs": []
    },
    {
      "cell_type": "code",
      "source": [
        "print(f\"Running time: {(toc - tic)/60:0.4f} minutes\")"
      ],
      "metadata": {
        "id": "cHmSBRhVOELJ",
        "colab": {
          "base_uri": "https://localhost:8080/"
        },
        "outputId": "5b115144-4d57-450b-e6b4-78493859faea"
      },
      "execution_count": 69,
      "outputs": [
        {
          "output_type": "stream",
          "name": "stdout",
          "text": [
            "Running time: 31.1893 minutes\n"
          ]
        }
      ]
    },
    {
      "cell_type": "markdown",
      "source": [
        "## Loading Model"
      ],
      "metadata": {
        "id": "jCQelzMAKixD"
      }
    },
    {
      "cell_type": "code",
      "source": [
        "# Define the best weights to the model.\\\n",
        "#model.load_weights(checkpoint_path)"
      ],
      "metadata": {
        "id": "gruZAW2wI-tO"
      },
      "execution_count": 70,
      "outputs": []
    },
    {
      "cell_type": "markdown",
      "source": [
        "# Evaluation"
      ],
      "metadata": {
        "id": "kDxTjEK0KixD"
      }
    },
    {
      "cell_type": "markdown",
      "source": [
        "## Save & Load model, weights"
      ],
      "metadata": {
        "id": "1YfguG0tPatV"
      }
    },
    {
      "cell_type": "code",
      "source": [
        "# Saving model & weights\n",
        "model_path = Ravdess + \"/model/\"\n",
        "model_json = model.to_json()\n",
        "\n",
        "\n",
        "\n",
        "with open(saved_model_path, \"w\") as json_file:\n",
        "    json_file.write(model_json)\n",
        "    \n",
        "model.save_weights(saved_weights_path)\n",
        "print(\"Saved model to disk\")"
      ],
      "metadata": {
        "id": "MsVoNhqmgGsK",
        "colab": {
          "base_uri": "https://localhost:8080/"
        },
        "outputId": "61acf284-8b7c-40c4-84ce-037d48a899e0"
      },
      "execution_count": 71,
      "outputs": [
        {
          "output_type": "stream",
          "name": "stdout",
          "text": [
            "Saved model to disk\n"
          ]
        }
      ]
    },
    {
      "cell_type": "code",
      "source": [
        "# Reading the model from JSON file\n",
        "#model_path = Ravdess + \"/model/\"\n",
        "#saved_model_path = model_path + 'model8723.json'\n",
        "#saved_weights_path = model_path + 'model8723_weights.h5'\n",
        "\n",
        "\n",
        "with open(saved_model_path , 'r') as json_file:\n",
        "    json_savedModel = json_file.read()\n",
        "    \n",
        "# Loading the model architecture, weights\n",
        "model = tf.keras.models.model_from_json(json_savedModel)\n",
        "model.load_weights(saved_weights_path)\n",
        "\n",
        "# Compiling the model with similar parameters as the original model.\n",
        "model.compile(loss='categorical_crossentropy', \n",
        "                optimizer='RMSProp', \n",
        "                metrics=['categorical_accuracy'])\n",
        "\n",
        "# Model's structure visualization\n",
        "tf.keras.utils.plot_model(model, to_file='model.png', show_shapes=True, show_layer_names=True)"
      ],
      "metadata": {
        "id": "y4OJGhLmgfX6",
        "colab": {
          "base_uri": "https://localhost:8080/",
          "height": 0
        },
        "outputId": "6064f7af-4d25-40ec-ea4a-204123dbb0d4"
      },
      "execution_count": 72,
      "outputs": [
        {
          "output_type": "execute_result",
          "data": {
            "text/plain": [
              "<IPython.core.display.Image object>"
            ],
            "image/png": "[encoded data removed]"
          },
          "metadata": {},
          "execution_count": 72
        }
      ]
    },
    {
      "cell_type": "code",
      "source": [
        ""
      ],
      "metadata": {
        "id": "B_SW6eUAgvEj"
      },
      "execution_count": 72,
      "outputs": []
    },
    {
      "cell_type": "code",
      "source": [
        ""
      ],
      "metadata": {
        "id": "cCfkUXTYgzSB"
      },
      "execution_count": 72,
      "outputs": []
    },
    {
      "cell_type": "code",
      "source": [
        "model.save(saved_model_path_2)"
      ],
      "metadata": {
        "trusted": true,
        "id": "Z5Uzb_bGKixE"
      },
      "execution_count": 73,
      "outputs": []
    },
    {
      "cell_type": "markdown",
      "source": [
        "## Train (fit) Visualization"
      ],
      "metadata": {
        "id": "ATvBW0SPO-eq"
      }
    },
    {
      "cell_type": "code",
      "source": [
        "# Loss, Accuracy presentation\n",
        "\n",
        "# Plot history: Loss\n",
        "plt.plot(history.history['loss'], label='Loss (training data)')\n",
        "plt.plot(history.history['val_loss'], label='Loss (validation data)')\n",
        "plt.title('Loss for train and validation')\n",
        "plt.ylabel('Loss value')\n",
        "plt.xlabel('No. epoch')\n",
        "plt.legend(loc=\"upper left\")\n",
        "plt.show()\n",
        "\n",
        "#Plot history: Accuracy\n",
        "plt.plot(history.history['categorical_accuracy'], label='Acc (training data)')\n",
        "plt.plot(history.history['val_categorical_accuracy'], label='Acc (validation data)')\n",
        "plt.title('Model accuracy')\n",
        "plt.ylabel('Acc %')\n",
        "plt.xlabel('No. epoch')\n",
        "plt.legend(loc=\"upper left\")\n",
        "plt.show()"
      ],
      "metadata": {
        "id": "UjhUHhU_f4EY",
        "colab": {
          "base_uri": "https://localhost:8080/",
          "height": 0
        },
        "outputId": "9b8d093f-d0b3-41d7-aa4c-65fe87753fa3"
      },
      "execution_count": 74,
      "outputs": [
        {
          "output_type": "display_data",
          "data": {
            "text/plain": [
              "<Figure size 432x288 with 1 Axes>"
            ],
            "image/png": "[encoded data removed]"
          },
          "metadata": {
            "needs_background": "light"
          }
        },
        {
          "output_type": "display_data",
          "data": {
            "text/plain": [
              "<Figure size 432x288 with 1 Axes>"
            ],
            "image/png": "[encoded data removed]"
          },
          "metadata": {
            "needs_background": "light"
          }
        }
      ]
    },
    {
      "cell_type": "markdown",
      "source": [
        "## Validation Set Evaluation"
      ],
      "metadata": {
        "id": "UZ3lFduxPQeB"
      }
    },
    {
      "cell_type": "markdown",
      "source": [
        "### Val Set Score"
      ],
      "metadata": {
        "id": "5YoYCa22PMGz"
      }
    },
    {
      "cell_type": "code",
      "source": [
        ""
      ],
      "metadata": {
        "id": "jQavrzbB_8fy"
      },
      "execution_count": 74,
      "outputs": []
    },
    {
      "cell_type": "code",
      "source": [
        "# Validation score\n",
        "loss,acc = model.evaluate(x_val, y_val_class, verbose=2)\n"
      ],
      "metadata": {
        "id": "X_KdTUyrf7-j",
        "colab": {
          "base_uri": "https://localhost:8080/"
        },
        "outputId": "12bfcd9e-642f-4d7f-990f-cf3f03f359ab"
      },
      "execution_count": 75,
      "outputs": [
        {
          "output_type": "stream",
          "name": "stdout",
          "text": [
            "7/7 - 2s - loss: 1.7019 - categorical_accuracy: 0.4085 - 2s/epoch - 234ms/step\n"
          ]
        }
      ]
    },
    {
      "cell_type": "code",
      "source": [
        ""
      ],
      "metadata": {
        "id": "09k_I9DM_2Q0"
      },
      "execution_count": 75,
      "outputs": []
    },
    {
      "cell_type": "markdown",
      "source": [
        "### Construct Predicted Labels based on Probability of each class"
      ],
      "metadata": {
        "id": "hz7nc15A_3hb"
      }
    },
    {
      "cell_type": "code",
      "source": [
        "y_val_class"
      ],
      "metadata": {
        "id": "CFM1P2SZ_85N",
        "colab": {
          "base_uri": "https://localhost:8080/"
        },
        "outputId": "da9a12b0-ff0c-419c-e1c3-5ddf3897d99e"
      },
      "execution_count": 76,
      "outputs": [
        {
          "output_type": "execute_result",
          "data": {
            "text/plain": [
              "array([[0, 0, 0, ..., 1, 0, 0],\n",
              "       [0, 0, 0, ..., 1, 0, 0],\n",
              "       [0, 0, 1, ..., 0, 0, 0],\n",
              "       ...,\n",
              "       [1, 0, 0, ..., 0, 0, 0],\n",
              "       [0, 0, 1, ..., 0, 0, 0],\n",
              "       [0, 0, 0, ..., 0, 0, 0]], dtype=int8)"
            ]
          },
          "metadata": {},
          "execution_count": 76
        }
      ]
    },
    {
      "cell_type": "code",
      "source": [
        "np.argmax(y_val_class, axis=1)"
      ],
      "metadata": {
        "id": "C9UHSeXbAASy",
        "colab": {
          "base_uri": "https://localhost:8080/"
        },
        "outputId": "236d2ab4-887e-4533-a9e2-aa05b1e467b1"
      },
      "execution_count": 77,
      "outputs": [
        {
          "output_type": "execute_result",
          "data": {
            "text/plain": [
              "array([5, 5, 2, 4, 4, 5, 3, 5, 1, 7, 1, 6, 1, 0, 3, 5, 4, 5, 0, 4, 4, 7,\n",
              "       3, 5, 5, 3, 4, 7, 6, 3, 1, 4, 1, 4, 3, 4, 5, 0, 1, 3, 3, 6, 2, 3,\n",
              "       3, 4, 3, 4, 5, 1, 2, 2, 2, 3, 1, 3, 5, 3, 5, 6, 2, 1, 5, 0, 3, 2,\n",
              "       1, 7, 3, 2, 0, 5, 1, 5, 2, 1, 7, 7, 3, 4, 0, 5, 4, 3, 0, 6, 5, 2,\n",
              "       2, 7, 3, 1, 1, 2, 4, 4, 1, 5, 6, 3, 2, 2, 2, 4, 5, 7, 5, 6, 1, 4,\n",
              "       2, 2, 6, 1, 2, 3, 2, 3, 4, 4, 6, 4, 5, 4, 6, 0, 5, 7, 2, 7, 0, 2,\n",
              "       7, 1, 4, 4, 1, 1, 1, 2, 5, 3, 2, 2, 0, 6, 4, 6, 1, 4, 7, 2, 3, 2,\n",
              "       3, 2, 4, 2, 4, 6, 5, 2, 4, 4, 4, 7, 4, 2, 4, 3, 6, 3, 0, 5, 3, 0,\n",
              "       1, 1, 4, 4, 2, 5, 2, 7, 5, 4, 3, 4, 0, 5, 4, 2, 6, 2, 2, 3, 2, 3,\n",
              "       5, 6, 3, 2, 4, 6, 2, 5, 3, 0, 2, 4, 0, 2, 4])"
            ]
          },
          "metadata": {},
          "execution_count": 77
        }
      ]
    },
    {
      "cell_type": "code",
      "source": [
        "y_val_class = np.argmax(y_val_class, axis=1)\n",
        "predictions_val = model.predict(x_val)\n",
        "y_proba_val_class = predictions_val\n",
        "y_pred_val_class = np.argmax(predictions_val, axis=1)"
      ],
      "metadata": {
        "id": "urjydD-38JK7"
      },
      "execution_count": 78,
      "outputs": []
    },
    {
      "cell_type": "code",
      "source": [
        "predictions_val\n"
      ],
      "metadata": {
        "id": "Zb7dGRs3AEJn",
        "colab": {
          "base_uri": "https://localhost:8080/"
        },
        "outputId": "3a66c41c-8440-4548-b783-72b350d50f44"
      },
      "execution_count": 79,
      "outputs": [
        {
          "output_type": "execute_result",
          "data": {
            "text/plain": [
              "array([[5.6307070e-02, 2.6793016e-02, 1.4994079e-02, ..., 6.7076609e-02,\n",
              "        5.3192107e-03, 9.1283984e-04],\n",
              "       [8.7390393e-03, 5.2430939e-02, 6.6888500e-03, ..., 1.5068627e-02,\n",
              "        1.4269281e-03, 1.7722708e-04],\n",
              "       [3.2222518e-01, 8.3718680e-02, 4.7451735e-01, ..., 8.3063608e-03,\n",
              "        2.8052821e-04, 3.3503200e-03],\n",
              "       ...,\n",
              "       [1.7676580e-01, 1.5103892e-02, 2.6442213e-02, ..., 1.5380117e-02,\n",
              "        3.5127231e-01, 7.6750025e-02],\n",
              "       [3.8501721e-02, 9.3697011e-02, 6.4781761e-01, ..., 1.3052893e-02,\n",
              "        3.6989196e-04, 7.3777669e-04],\n",
              "       [4.2595368e-02, 6.2176347e-02, 2.1623215e-02, ..., 4.4213749e-02,\n",
              "        2.0287286e-01, 8.0225663e-03]], dtype=float32)"
            ]
          },
          "metadata": {},
          "execution_count": 79
        }
      ]
    },
    {
      "cell_type": "code",
      "source": [
        "y_pred_val_class "
      ],
      "metadata": {
        "id": "KxHa1Ss1AJo4",
        "colab": {
          "base_uri": "https://localhost:8080/"
        },
        "outputId": "d4e54fd4-ae27-4081-c7e3-f1ff15724c98"
      },
      "execution_count": 80,
      "outputs": [
        {
          "output_type": "execute_result",
          "data": {
            "text/plain": [
              "array([3, 3, 2, 3, 4, 3, 3, 3, 1, 6, 3, 6, 3, 3, 3, 6, 6, 3, 0, 4, 3, 7,\n",
              "       3, 3, 5, 6, 2, 6, 7, 6, 0, 7, 3, 4, 1, 3, 1, 0, 3, 3, 3, 6, 3, 6,\n",
              "       3, 4, 3, 2, 3, 0, 3, 1, 1, 3, 1, 6, 4, 1, 5, 6, 3, 1, 7, 1, 3, 2,\n",
              "       1, 7, 3, 2, 3, 6, 1, 3, 3, 1, 5, 6, 3, 3, 1, 6, 6, 0, 0, 3, 3, 3,\n",
              "       2, 3, 3, 3, 1, 2, 4, 6, 1, 1, 6, 3, 1, 2, 3, 4, 3, 2, 6, 3, 3, 3,\n",
              "       2, 3, 6, 1, 1, 3, 1, 3, 3, 2, 6, 4, 4, 4, 3, 0, 5, 3, 3, 3, 0, 3,\n",
              "       6, 3, 4, 4, 1, 3, 1, 1, 6, 3, 3, 2, 3, 6, 3, 6, 1, 0, 7, 3, 6, 1,\n",
              "       3, 7, 1, 2, 3, 6, 3, 3, 4, 4, 6, 2, 4, 3, 4, 1, 6, 2, 1, 3, 3, 2,\n",
              "       3, 1, 4, 3, 0, 7, 2, 6, 3, 2, 3, 3, 3, 7, 4, 1, 6, 7, 3, 1, 1, 3,\n",
              "       2, 6, 1, 3, 4, 6, 3, 6, 3, 3, 0, 6, 6, 2, 4])"
            ]
          },
          "metadata": {},
          "execution_count": 80
        }
      ]
    },
    {
      "cell_type": "markdown",
      "source": [
        "### Val Set Confusion Matrix and Heatmap"
      ],
      "metadata": {
        "id": "d2ullxf9PUMd"
      }
    },
    {
      "cell_type": "code",
      "source": [
        "# Validation Confusion matrix\n",
        "cm=confusion_matrix(y_val_class, y_pred_val_class)\n",
        "\n",
        "index = ['neutral', 'calm', 'happy', 'sad', 'angry', 'fearful', 'disgust', 'surprised']  \n",
        "columns = ['neutral', 'calm', 'happy', 'sad', 'angry', 'fearful', 'disgust', 'surprised']  \n",
        " \n",
        "cm_df = pd.DataFrame(cm,index,columns)                      \n",
        "plt.figure(figsize=(12,8))\n",
        "ax = plt.axes()\n",
        "\n",
        "sns.heatmap(cm_df, ax = ax, cmap = 'PuBu', fmt=\"d\", annot=True)\n",
        "ax.set_ylabel('True emotion')\n",
        "ax.set_xlabel('Predicted emotion')"
      ],
      "metadata": {
        "id": "doLcg3CTf9bx",
        "colab": {
          "base_uri": "https://localhost:8080/",
          "height": 0
        },
        "outputId": "2a144cb0-524b-434e-8ce2-5f9016117a48"
      },
      "execution_count": 81,
      "outputs": [
        {
          "output_type": "execute_result",
          "data": {
            "text/plain": [
              "Text(0.5, 51.0, 'Predicted emotion')"
            ]
          },
          "metadata": {},
          "execution_count": 81
        },
        {
          "output_type": "display_data",
          "data": {
            "text/plain": [
              "<Figure size 864x576 with 2 Axes>"
            ],
            "image/png": "[encoded data removed]"
          },
          "metadata": {
            "needs_background": "light"
          }
        }
      ]
    },
    {
      "cell_type": "code",
      "source": [
        "# Confusion Matrix\n",
        "cm"
      ],
      "metadata": {
        "id": "hIEG9Pia8Nfp",
        "colab": {
          "base_uri": "https://localhost:8080/"
        },
        "outputId": "0da2d234-ad4a-45bc-b067-078a871b56f9"
      },
      "execution_count": 82,
      "outputs": [
        {
          "output_type": "execute_result",
          "data": {
            "text/plain": [
              "array([[ 5,  3,  1,  5,  0,  0,  1,  0],\n",
              "       [ 2, 13,  0,  9,  0,  0,  0,  0],\n",
              "       [ 2,  9, 11, 16,  0,  0,  0,  2],\n",
              "       [ 1,  5,  1, 21,  0,  0,  5,  0],\n",
              "       [ 1,  1,  4, 10, 18,  0,  5,  1],\n",
              "       [ 0,  2,  1, 13,  2,  3,  6,  3],\n",
              "       [ 0,  0,  0,  3,  0,  0, 13,  1],\n",
              "       [ 0,  0,  2,  3,  0,  1,  5,  3]])"
            ]
          },
          "metadata": {},
          "execution_count": 82
        }
      ]
    },
    {
      "cell_type": "markdown",
      "source": [
        "### Validation Set Predicted emotions accuracy"
      ],
      "metadata": {
        "id": "kWjKgUdRPYH5"
      }
    },
    {
      "cell_type": "code",
      "source": [
        "# Validation set prediction accuracy rates\n",
        "\n",
        "values = cm.diagonal()\n",
        "row_sum = np.sum(cm,axis=1)\n",
        "acc = values / row_sum\n",
        "\n",
        "print('Validation set predicted emotions accuracy:')\n",
        "for e in range(0, len(values)):\n",
        "    print(index[e],':', f\"{(acc[e]):0.4f}\")"
      ],
      "metadata": {
        "id": "MopdywY9f-mS",
        "colab": {
          "base_uri": "https://localhost:8080/"
        },
        "outputId": "89a1801b-020b-4a0b-daec-1f9becb4ef75"
      },
      "execution_count": 83,
      "outputs": [
        {
          "output_type": "stream",
          "name": "stdout",
          "text": [
            "Validation set predicted emotions accuracy:\n",
            "neutral : 0.3333\n",
            "calm : 0.5417\n",
            "happy : 0.2750\n",
            "sad : 0.6364\n",
            "angry : 0.4500\n",
            "fearful : 0.1000\n",
            "disgust : 0.7647\n",
            "surprised : 0.2143\n"
          ]
        }
      ]
    },
    {
      "cell_type": "markdown",
      "source": [
        "### Precision, Recal, Fscore"
      ],
      "metadata": {
        "id": "DGSTy2228XRH"
      }
    },
    {
      "cell_type": "code",
      "source": [
        "# Validation set precision, recall, fscore\n",
        "\n",
        "precision_recall_fscore_support(y_val_class, y_pred_val_class, average='macro')\n"
      ],
      "metadata": {
        "id": "rOwUkCG0gGpm",
        "colab": {
          "base_uri": "https://localhost:8080/"
        },
        "outputId": "074662b9-8e81-48a6-cae9-1f0b02dd7026"
      },
      "execution_count": 84,
      "outputs": [
        {
          "output_type": "execute_result",
          "data": {
            "text/plain": [
              "(0.4978016774891775, 0.41441940412528644, 0.3881968007904677, None)"
            ]
          },
          "metadata": {},
          "execution_count": 84
        }
      ]
    },
    {
      "cell_type": "code",
      "source": [
        "precision_recall_fscore_support(y_val_class, y_pred_val_class, average='weighted')"
      ],
      "metadata": {
        "id": "OorFgXxDzy3o",
        "colab": {
          "base_uri": "https://localhost:8080/"
        },
        "outputId": "850e1188-a76d-4563-ac4a-f0f7b165287f"
      },
      "execution_count": 85,
      "outputs": [
        {
          "output_type": "execute_result",
          "data": {
            "text/plain": [
              "(0.5443639107371502, 0.4084507042253521, 0.3987928179796836, None)"
            ]
          },
          "metadata": {},
          "execution_count": 85
        }
      ]
    },
    {
      "cell_type": "markdown",
      "source": [
        "## Test Set Evaluation"
      ],
      "metadata": {
        "id": "FiCwOjmPPgCn"
      }
    },
    {
      "cell_type": "markdown",
      "source": [
        "### Test Set Score\n",
        "\n"
      ],
      "metadata": {
        "id": "CWB7U5xDUSmF"
      }
    },
    {
      "cell_type": "code",
      "source": [
        "loss, acc = model.evaluate(x_test, y_test_class, verbose=2)"
      ],
      "metadata": {
        "id": "Y7NEHPM-gzml",
        "colab": {
          "base_uri": "https://localhost:8080/"
        },
        "outputId": "7769ed70-5100-40f0-edc1-27983d4d1be3"
      },
      "execution_count": 86,
      "outputs": [
        {
          "output_type": "stream",
          "name": "stdout",
          "text": [
            "3/3 - 0s - loss: 1.6506 - categorical_accuracy: 0.4149 - 387ms/epoch - 129ms/step\n"
          ]
        }
      ]
    },
    {
      "cell_type": "markdown",
      "source": [
        "### Construct Predicted Labels based on Probability of each class"
      ],
      "metadata": {
        "id": "gPwcFV9oAhGh"
      }
    },
    {
      "cell_type": "code",
      "source": [
        "y_test_class"
      ],
      "metadata": {
        "id": "tjN7Eit7AiML",
        "colab": {
          "base_uri": "https://localhost:8080/"
        },
        "outputId": "4b40461e-39b6-4f23-aa59-14c7f2974248"
      },
      "execution_count": 87,
      "outputs": [
        {
          "output_type": "execute_result",
          "data": {
            "text/plain": [
              "array([[0, 0, 1, 0, 0, 0, 0, 0],\n",
              "       [0, 0, 1, 0, 0, 0, 0, 0],\n",
              "       [0, 0, 1, 0, 0, 0, 0, 0],\n",
              "       [1, 0, 0, 0, 0, 0, 0, 0],\n",
              "       [0, 0, 0, 0, 1, 0, 0, 0],\n",
              "       [0, 0, 0, 0, 0, 0, 1, 0],\n",
              "       [0, 0, 1, 0, 0, 0, 0, 0],\n",
              "       [1, 0, 0, 0, 0, 0, 0, 0],\n",
              "       [0, 0, 0, 0, 0, 1, 0, 0],\n",
              "       [1, 0, 0, 0, 0, 0, 0, 0],\n",
              "       [0, 0, 0, 1, 0, 0, 0, 0],\n",
              "       [0, 0, 0, 0, 0, 1, 0, 0],\n",
              "       [0, 0, 0, 0, 1, 0, 0, 0],\n",
              "       [0, 1, 0, 0, 0, 0, 0, 0],\n",
              "       [0, 0, 0, 0, 0, 0, 1, 0],\n",
              "       [0, 0, 0, 0, 1, 0, 0, 0],\n",
              "       [0, 0, 0, 1, 0, 0, 0, 0],\n",
              "       [0, 0, 0, 0, 0, 1, 0, 0],\n",
              "       [0, 0, 0, 0, 1, 0, 0, 0],\n",
              "       [0, 0, 0, 0, 0, 1, 0, 0],\n",
              "       [0, 0, 0, 0, 0, 0, 0, 1],\n",
              "       [0, 1, 0, 0, 0, 0, 0, 0],\n",
              "       [0, 0, 0, 0, 0, 0, 0, 1],\n",
              "       [0, 1, 0, 0, 0, 0, 0, 0],\n",
              "       [0, 0, 1, 0, 0, 0, 0, 0],\n",
              "       [0, 0, 0, 0, 0, 1, 0, 0],\n",
              "       [0, 0, 0, 0, 1, 0, 0, 0],\n",
              "       [0, 0, 0, 0, 0, 1, 0, 0],\n",
              "       [0, 0, 0, 0, 1, 0, 0, 0],\n",
              "       [0, 1, 0, 0, 0, 0, 0, 0],\n",
              "       [0, 0, 1, 0, 0, 0, 0, 0],\n",
              "       [0, 1, 0, 0, 0, 0, 0, 0],\n",
              "       [0, 0, 0, 1, 0, 0, 0, 0],\n",
              "       [0, 0, 0, 1, 0, 0, 0, 0],\n",
              "       [0, 0, 0, 1, 0, 0, 0, 0],\n",
              "       [0, 0, 0, 1, 0, 0, 0, 0],\n",
              "       [0, 0, 0, 1, 0, 0, 0, 0],\n",
              "       [0, 0, 0, 1, 0, 0, 0, 0],\n",
              "       [0, 0, 0, 0, 0, 1, 0, 0],\n",
              "       [0, 1, 0, 0, 0, 0, 0, 0],\n",
              "       [0, 0, 0, 0, 0, 1, 0, 0],\n",
              "       [0, 0, 1, 0, 0, 0, 0, 0],\n",
              "       [0, 1, 0, 0, 0, 0, 0, 0],\n",
              "       [0, 0, 0, 0, 0, 0, 1, 0],\n",
              "       [0, 0, 1, 0, 0, 0, 0, 0],\n",
              "       [0, 1, 0, 0, 0, 0, 0, 0],\n",
              "       [0, 0, 0, 1, 0, 0, 0, 0],\n",
              "       [0, 0, 0, 0, 0, 0, 1, 0],\n",
              "       [0, 1, 0, 0, 0, 0, 0, 0],\n",
              "       [0, 0, 0, 0, 0, 1, 0, 0],\n",
              "       [0, 0, 0, 0, 0, 0, 1, 0],\n",
              "       [0, 0, 0, 0, 0, 0, 0, 1],\n",
              "       [0, 0, 0, 0, 1, 0, 0, 0],\n",
              "       [0, 0, 1, 0, 0, 0, 0, 0],\n",
              "       [0, 0, 0, 0, 0, 0, 1, 0],\n",
              "       [0, 0, 0, 0, 1, 0, 0, 0],\n",
              "       [0, 0, 0, 0, 1, 0, 0, 0],\n",
              "       [0, 0, 0, 0, 0, 1, 0, 0],\n",
              "       [0, 0, 0, 0, 1, 0, 0, 0],\n",
              "       [0, 0, 0, 0, 1, 0, 0, 0],\n",
              "       [0, 0, 1, 0, 0, 0, 0, 0],\n",
              "       [0, 0, 0, 1, 0, 0, 0, 0],\n",
              "       [0, 1, 0, 0, 0, 0, 0, 0],\n",
              "       [0, 0, 0, 0, 0, 0, 0, 1],\n",
              "       [0, 0, 0, 0, 0, 0, 0, 1],\n",
              "       [0, 1, 0, 0, 0, 0, 0, 0],\n",
              "       [0, 0, 0, 0, 0, 0, 1, 0],\n",
              "       [0, 0, 0, 0, 1, 0, 0, 0],\n",
              "       [0, 0, 0, 1, 0, 0, 0, 0],\n",
              "       [0, 0, 0, 0, 0, 0, 0, 1],\n",
              "       [0, 0, 0, 0, 0, 0, 1, 0],\n",
              "       [0, 0, 1, 0, 0, 0, 0, 0],\n",
              "       [0, 0, 0, 0, 1, 0, 0, 0],\n",
              "       [0, 0, 0, 0, 0, 0, 1, 0],\n",
              "       [0, 1, 0, 0, 0, 0, 0, 0],\n",
              "       [1, 0, 0, 0, 0, 0, 0, 0],\n",
              "       [0, 1, 0, 0, 0, 0, 0, 0],\n",
              "       [0, 0, 1, 0, 0, 0, 0, 0],\n",
              "       [0, 0, 0, 0, 1, 0, 0, 0],\n",
              "       [0, 0, 0, 0, 0, 1, 0, 0],\n",
              "       [0, 0, 0, 0, 1, 0, 0, 0],\n",
              "       [0, 0, 0, 1, 0, 0, 0, 0],\n",
              "       [0, 1, 0, 0, 0, 0, 0, 0],\n",
              "       [0, 0, 0, 0, 1, 0, 0, 0],\n",
              "       [0, 0, 0, 1, 0, 0, 0, 0],\n",
              "       [0, 0, 0, 0, 0, 0, 1, 0],\n",
              "       [0, 0, 0, 0, 0, 0, 0, 1],\n",
              "       [0, 0, 0, 0, 0, 0, 0, 1],\n",
              "       [0, 0, 0, 0, 0, 1, 0, 0],\n",
              "       [0, 0, 0, 0, 0, 0, 0, 1],\n",
              "       [0, 1, 0, 0, 0, 0, 0, 0],\n",
              "       [0, 0, 1, 0, 0, 0, 0, 0],\n",
              "       [0, 1, 0, 0, 0, 0, 0, 0],\n",
              "       [0, 0, 0, 0, 1, 0, 0, 0]], dtype=int8)"
            ]
          },
          "metadata": {},
          "execution_count": 87
        }
      ]
    },
    {
      "cell_type": "code",
      "source": [
        " np.argmax(y_test_class, axis=1)"
      ],
      "metadata": {
        "id": "2fcK-_HzAmc5",
        "colab": {
          "base_uri": "https://localhost:8080/"
        },
        "outputId": "dba15275-24ea-4b0c-a051-790b87397f98"
      },
      "execution_count": 88,
      "outputs": [
        {
          "output_type": "execute_result",
          "data": {
            "text/plain": [
              "array([2, 2, 2, 0, 4, 6, 2, 0, 5, 0, 3, 5, 4, 1, 6, 4, 3, 5, 4, 5, 7, 1,\n",
              "       7, 1, 2, 5, 4, 5, 4, 1, 2, 1, 3, 3, 3, 3, 3, 3, 5, 1, 5, 2, 1, 6,\n",
              "       2, 1, 3, 6, 1, 5, 6, 7, 4, 2, 6, 4, 4, 5, 4, 4, 2, 3, 1, 7, 7, 1,\n",
              "       6, 4, 3, 7, 6, 2, 4, 6, 1, 0, 1, 2, 4, 5, 4, 3, 1, 4, 3, 6, 7, 7,\n",
              "       5, 7, 1, 2, 1, 4])"
            ]
          },
          "metadata": {},
          "execution_count": 88
        }
      ]
    },
    {
      "cell_type": "code",
      "source": [
        "y_test_class = np.argmax(y_test_class, axis=1)\n",
        "predictions_test = model.predict(x_test)\n",
        "y_pred_test_class = np.argmax(predictions_test, axis=1)\n",
        "y_proba_test_class = predictions_test\n",
        "\n"
      ],
      "metadata": {
        "id": "uyXvoU2rAckI"
      },
      "execution_count": 89,
      "outputs": []
    },
    {
      "cell_type": "code",
      "source": [
        "predictions_test"
      ],
      "metadata": {
        "id": "3BAOUaPwAtuY",
        "colab": {
          "base_uri": "https://localhost:8080/"
        },
        "outputId": "45c308c6-adb1-4877-f184-0b5f6c39c1d3"
      },
      "execution_count": 90,
      "outputs": [
        {
          "output_type": "execute_result",
          "data": {
            "text/plain": [
              "array([[5.09867311e-01, 1.28835991e-01, 3.76138873e-02, 2.99379498e-01,\n",
              "        7.93488754e-04, 6.70138886e-03, 2.78128637e-03, 1.40271289e-02],\n",
              "       [2.51229763e-01, 5.79915345e-01, 5.55342883e-02, 1.09620497e-01,\n",
              "        5.36011066e-04, 2.25098408e-03, 8.57873747e-05, 8.27302982e-04],\n",
              "       [1.83106601e-01, 5.20897247e-02, 3.19950700e-01, 3.86756361e-01,\n",
              "        2.91477554e-02, 1.66423824e-02, 6.86928397e-03, 5.43715619e-03],\n",
              "       [2.48595357e-01, 4.88740563e-01, 2.49887202e-02, 2.09491089e-01,\n",
              "        1.65731006e-03, 1.52279660e-02, 5.00422809e-03, 6.29484747e-03],\n",
              "       [1.94216915e-03, 4.79676455e-05, 2.39562206e-02, 6.11967593e-03,\n",
              "        1.43206686e-01, 5.91570400e-02, 1.64887290e-02, 7.49081492e-01],\n",
              "       [2.61149090e-03, 8.43711197e-02, 3.73031083e-03, 1.71403021e-01,\n",
              "        1.80704538e-02, 5.29813301e-03, 7.13450193e-01, 1.06534956e-03],\n",
              "       [2.73205917e-02, 4.80408929e-02, 8.84324219e-03, 8.00176978e-01,\n",
              "        4.28293832e-03, 6.76818565e-02, 4.00229581e-02, 3.63046909e-03],\n",
              "       [2.12808520e-01, 2.33348146e-01, 1.88779421e-02, 5.14421463e-01,\n",
              "        5.41621994e-04, 1.90248657e-02, 3.12140357e-04, 6.65247149e-04],\n",
              "       [8.42870970e-04, 1.83908240e-04, 9.12086852e-03, 1.01015829e-02,\n",
              "        7.44216703e-03, 1.27603754e-01, 3.53938974e-02, 8.09310913e-01],\n",
              "       [9.75866467e-02, 7.90574014e-01, 2.43500173e-02, 8.32137614e-02,\n",
              "        7.37666211e-04, 2.99605215e-03, 2.63374648e-04, 2.78536638e-04],\n",
              "       [3.69730294e-01, 2.11379379e-01, 4.25715074e-02, 3.66277963e-01,\n",
              "        4.85418306e-04, 8.14670045e-03, 2.97903141e-04, 1.11083640e-03],\n",
              "       [3.16219926e-02, 1.66521203e-02, 2.54167709e-02, 6.97289944e-01,\n",
              "        7.19509870e-02, 1.51665911e-01, 3.38391517e-03, 2.01832876e-03],\n",
              "       [1.64453276e-02, 8.07030406e-03, 3.57255270e-03, 1.97017357e-01,\n",
              "        3.36073965e-01, 6.17399812e-03, 4.22853738e-01, 9.79275256e-03],\n",
              "       [1.11875109e-01, 2.89960563e-01, 1.06566688e-02, 5.36157846e-01,\n",
              "        5.54657192e-04, 1.63552128e-02, 3.09532285e-02, 3.48675996e-03],\n",
              "       [9.46451692e-05, 5.45888615e-04, 4.61499549e-05, 1.88971162e-02,\n",
              "        2.82946718e-03, 8.69377574e-04, 9.75966513e-01, 7.50829582e-04],\n",
              "       [2.22904864e-03, 1.35428912e-04, 1.79791416e-03, 1.43136829e-02,\n",
              "        5.29480577e-01, 7.88223871e-04, 4.42061216e-01, 9.19397082e-03],\n",
              "       [1.02511503e-01, 2.42721941e-02, 1.11212790e-01, 6.20538473e-01,\n",
              "        5.44449762e-02, 8.25845003e-02, 1.53137709e-03, 2.90416041e-03],\n",
              "       [2.54068188e-02, 7.65092969e-02, 4.22129929e-02, 8.18157971e-01,\n",
              "        1.79965736e-03, 3.45298350e-02, 6.06549671e-04, 7.76881992e-04],\n",
              "       [3.58637199e-02, 1.99339390e-01, 1.72342286e-01, 5.10081947e-01,\n",
              "        3.97847928e-02, 3.61680090e-02, 4.54389397e-03, 1.87593000e-03],\n",
              "       [2.63820738e-02, 7.85550009e-03, 4.28397447e-01, 2.22722471e-01,\n",
              "        4.33815718e-02, 2.63937682e-01, 5.26760239e-04, 6.79639122e-03],\n",
              "       [4.61084815e-03, 9.84894671e-03, 1.15252251e-03, 2.28437304e-01,\n",
              "        1.59201603e-02, 9.94993467e-03, 7.22255766e-01, 7.82451313e-03],\n",
              "       [8.09577014e-03, 5.04850328e-01, 8.51895567e-03, 4.62531954e-01,\n",
              "        4.26827319e-04, 1.39632961e-02, 1.46823796e-03, 1.44616162e-04],\n",
              "       [1.04202248e-01, 9.63992905e-03, 1.59451813e-02, 1.44573733e-01,\n",
              "        1.10015877e-01, 2.70067696e-02, 2.83291340e-01, 3.05324972e-01],\n",
              "       [1.04865506e-01, 5.29169381e-01, 1.67198051e-02, 3.44031483e-01,\n",
              "        1.39975760e-04, 4.78698127e-03, 8.34848761e-05, 2.03339630e-04],\n",
              "       [1.08309463e-02, 1.26691451e-02, 9.19455111e-01, 2.62947436e-02,\n",
              "        1.39355417e-02, 1.44247031e-02, 1.05449371e-03, 1.33534230e-03],\n",
              "       [4.16125432e-02, 1.76867455e-01, 7.58312643e-03, 7.02207685e-01,\n",
              "        4.88388119e-04, 3.95983942e-02, 2.35428400e-02, 8.09958298e-03],\n",
              "       [1.19140632e-02, 2.46907249e-02, 1.06225386e-01, 6.54440403e-01,\n",
              "        1.26972213e-01, 7.24047720e-02, 2.74830940e-03, 6.04104192e-04],\n",
              "       [6.72986582e-02, 1.05226569e-01, 2.42561102e-01, 5.18530905e-01,\n",
              "        4.10571061e-02, 2.29824521e-02, 1.64277863e-03, 7.00430071e-04],\n",
              "       [4.95859012e-02, 1.02197997e-01, 8.93021747e-02, 5.03423333e-01,\n",
              "        2.18775511e-01, 2.16539595e-02, 1.26315253e-02, 2.42960197e-03],\n",
              "       [6.58371439e-03, 6.39682651e-01, 1.67820195e-03, 3.34823906e-01,\n",
              "        2.76813837e-04, 1.79462717e-03, 1.49264373e-02, 2.33760235e-04],\n",
              "       [5.68146892e-02, 1.63407773e-01, 6.62268937e-01, 1.02156401e-01,\n",
              "        5.93391620e-03, 7.63856154e-03, 5.22258633e-04, 1.25754182e-03],\n",
              "       [8.16444978e-02, 7.27974057e-01, 1.09904051e-01, 7.34951496e-02,\n",
              "        3.81305261e-04, 5.94464876e-03, 9.22362888e-05, 5.64091315e-04],\n",
              "       [2.33419798e-03, 2.68450938e-03, 1.10125297e-03, 6.15393929e-02,\n",
              "        1.00857019e-02, 1.97455604e-02, 8.92026484e-01, 1.04829213e-02],\n",
              "       [3.47024538e-02, 2.98479974e-01, 2.33088825e-02, 6.22492373e-01,\n",
              "        1.17816695e-03, 1.78681053e-02, 1.49864145e-03, 4.71253501e-04],\n",
              "       [2.22372819e-05, 1.04706583e-03, 1.02958482e-04, 1.97772011e-02,\n",
              "        3.37723264e-04, 6.39100885e-03, 9.71040130e-01, 1.28161896e-03],\n",
              "       [3.69756445e-02, 4.35626477e-01, 7.97279086e-03, 5.15484512e-01,\n",
              "        9.35491917e-05, 3.12846247e-03, 3.68127774e-04, 3.50420451e-04],\n",
              "       [3.49767394e-02, 5.17534949e-02, 8.14104918e-03, 8.84232461e-01,\n",
              "        5.53843740e-04, 1.59863047e-02, 2.84813065e-03, 1.50804245e-03],\n",
              "       [3.44271585e-02, 1.56597972e-01, 5.49416011e-03, 7.81101823e-01,\n",
              "        1.23855192e-04, 2.15260722e-02, 3.41942883e-04, 3.86981847e-04],\n",
              "       [5.74663132e-02, 2.21944060e-02, 4.30471301e-02, 7.34392583e-01,\n",
              "        8.79733544e-03, 1.32195026e-01, 5.47199626e-04, 1.35999196e-03],\n",
              "       [9.06051248e-02, 8.24204683e-01, 6.30523730e-03, 7.63306022e-02,\n",
              "        1.44444668e-04, 1.54381339e-03, 4.34702815e-04, 4.31277178e-04],\n",
              "       [1.74952541e-02, 7.22052634e-01, 1.29641723e-02, 1.99717700e-01,\n",
              "        1.40121396e-04, 3.89699861e-02, 6.55166851e-03, 2.10842816e-03],\n",
              "       [8.46008211e-03, 6.58200181e-04, 2.25011200e-01, 2.29224041e-02,\n",
              "        6.78884890e-03, 1.32707387e-01, 4.84124292e-03, 5.98610699e-01],\n",
              "       [5.60724642e-03, 2.34741539e-01, 1.80015410e-03, 7.16280341e-01,\n",
              "        6.41368446e-04, 9.21628345e-03, 3.02995909e-02, 1.41350843e-03],\n",
              "       [4.73226901e-05, 1.37599447e-04, 7.71208142e-05, 2.97934655e-03,\n",
              "        4.53274371e-03, 1.87280832e-03, 9.88870263e-01, 1.48284924e-03],\n",
              "       [3.60028684e-01, 4.60054800e-02, 1.21049859e-01, 8.93858969e-02,\n",
              "        6.29404141e-03, 2.28310581e-02, 7.27986405e-03, 3.47125024e-01],\n",
              "       [8.58987570e-02, 5.65721869e-01, 9.38218553e-03, 3.30525011e-01,\n",
              "        3.17197642e-04, 7.62860430e-03, 3.24706576e-04, 2.01636823e-04],\n",
              "       [4.58826929e-01, 1.31840900e-01, 8.59620422e-02, 2.39156842e-01,\n",
              "        1.45172386e-03, 1.98473260e-02, 1.65841088e-03, 6.12558797e-02],\n",
              "       [1.15470735e-04, 2.94908295e-05, 5.27434786e-05, 1.38332043e-03,\n",
              "        4.36429083e-02, 2.93629593e-04, 9.51625347e-01, 2.85708881e-03],\n",
              "       [6.15194552e-02, 9.01686430e-01, 1.49025200e-02, 1.78630054e-02,\n",
              "        7.80591654e-05, 2.85019516e-03, 4.59008239e-04, 6.41281717e-04],\n",
              "       [5.06427102e-02, 5.85329160e-03, 3.93430024e-01, 3.41567308e-01,\n",
              "        1.63608696e-02, 7.36032054e-02, 8.19640420e-03, 1.10346124e-01],\n",
              "       [5.35629038e-03, 3.80421728e-02, 2.43620705e-02, 4.90692824e-01,\n",
              "        3.24770575e-03, 1.58163190e-01, 2.54972368e-01, 2.51634605e-02],\n",
              "       [6.60849130e-03, 7.06706604e-04, 2.06966768e-03, 4.63660844e-02,\n",
              "        2.75333524e-02, 3.06383567e-03, 8.51192176e-01, 6.24597147e-02],\n",
              "       [3.78985219e-02, 2.62679681e-02, 7.12678492e-01, 8.48840475e-02,\n",
              "        1.21629141e-01, 1.47753879e-02, 8.05713818e-04, 1.06064952e-03],\n",
              "       [1.48829259e-02, 4.82902408e-01, 2.61140615e-01, 1.87589183e-01,\n",
              "        3.64485686e-03, 3.45320478e-02, 1.11338077e-02, 4.17405739e-03],\n",
              "       [9.63095855e-03, 1.01970509e-02, 3.46577284e-03, 4.42599356e-01,\n",
              "        4.15926473e-03, 6.63256506e-03, 4.99107480e-01, 2.42076423e-02],\n",
              "       [1.60202608e-02, 2.25082263e-02, 2.50417348e-02, 3.52419376e-01,\n",
              "        1.00765362e-01, 4.52509373e-02, 2.43368939e-01, 1.94625184e-01],\n",
              "       [1.83424552e-03, 1.20179756e-02, 1.43908639e-03, 3.08274955e-01,\n",
              "        3.31110433e-02, 2.11914890e-02, 6.20361388e-01, 1.76974025e-03],\n",
              "       [1.21423062e-02, 1.21002667e-01, 2.75148288e-03, 8.40557039e-01,\n",
              "        3.01753113e-04, 4.42317687e-03, 1.83189642e-02, 5.02569717e-04],\n",
              "       [3.85079607e-02, 4.51173121e-03, 1.05315223e-01, 2.62853563e-01,\n",
              "        5.32311976e-01, 5.17382696e-02, 1.64862140e-03, 3.11265350e-03],\n",
              "       [2.00614566e-03, 1.33886555e-04, 5.38021848e-02, 2.93154288e-02,\n",
              "        5.07585168e-01, 3.63045305e-01, 9.72892344e-03, 3.43829468e-02],\n",
              "       [2.02588588e-02, 2.17169011e-03, 2.04149336e-02, 2.21397638e-01,\n",
              "        3.96290123e-02, 5.34456484e-02, 4.43675458e-01, 1.99006736e-01],\n",
              "       [8.17187037e-03, 3.68753403e-01, 4.34549805e-03, 3.88103306e-01,\n",
              "        4.21043951e-03, 9.34079196e-03, 2.15091377e-01, 1.98324351e-03],\n",
              "       [5.12799509e-02, 9.00514066e-01, 6.29967544e-03, 3.60745080e-02,\n",
              "        2.36431097e-05, 3.98210203e-03, 7.60494149e-04, 1.06553617e-03],\n",
              "       [7.42605829e-04, 3.09537165e-03, 9.83987120e-04, 5.16429134e-02,\n",
              "        7.45941885e-03, 1.31411469e-02, 9.12778616e-01, 1.01559982e-02],\n",
              "       [2.50780135e-01, 3.35182697e-02, 8.49220082e-02, 2.95462906e-01,\n",
              "        3.89762083e-03, 3.67689282e-02, 1.36316335e-02, 2.81018436e-01],\n",
              "       [7.92314783e-02, 6.98041081e-01, 5.77582605e-02, 1.57810062e-01,\n",
              "        1.06142508e-03, 5.19828824e-03, 3.56976292e-04, 5.42409369e-04],\n",
              "       [4.62268683e-04, 3.46965296e-03, 3.63356870e-04, 2.50311177e-02,\n",
              "        7.34167686e-03, 1.92330754e-03, 9.54028666e-01, 7.37991743e-03],\n",
              "       [1.05111289e-03, 2.19311696e-02, 3.72556620e-04, 3.53282839e-02,\n",
              "        4.86977538e-03, 6.74609048e-03, 9.24589574e-01, 5.11149084e-03],\n",
              "       [1.67386029e-02, 4.23909634e-01, 3.83071718e-03, 5.33877671e-01,\n",
              "        2.30315432e-04, 2.02299356e-02, 9.69186192e-04, 2.13986714e-04],\n",
              "       [1.47670265e-02, 3.88307206e-04, 1.17761247e-01, 9.35880989e-02,\n",
              "        5.39175458e-02, 5.38644306e-02, 1.22795157e-01, 5.42918146e-01],\n",
              "       [2.93441513e-03, 2.17288211e-02, 5.40244451e-04, 2.15641230e-01,\n",
              "        1.70124078e-03, 2.59831501e-03, 7.50011206e-01, 4.84466460e-03],\n",
              "       [4.34055403e-02, 1.35631055e-01, 7.26100579e-02, 5.35955846e-01,\n",
              "        4.12908122e-02, 1.39319927e-01, 2.64438000e-02, 5.34291146e-03],\n",
              "       [1.12417925e-04, 4.90500643e-05, 5.25976764e-04, 2.18252395e-03,\n",
              "        6.86332732e-02, 9.22743347e-04, 9.16013300e-01, 1.15607232e-02],\n",
              "       [3.06147849e-04, 2.29155339e-04, 1.20221826e-04, 1.28532061e-03,\n",
              "        6.51357695e-02, 2.41781338e-04, 9.29777920e-01, 2.90356972e-03],\n",
              "       [1.80749148e-02, 2.95326352e-01, 3.63014406e-03, 6.75508499e-01,\n",
              "        2.28392892e-04, 5.28455712e-03, 1.79902348e-03, 1.48127161e-04],\n",
              "       [2.28093445e-01, 9.20274332e-02, 4.98287022e-01, 3.52457985e-02,\n",
              "        8.75933561e-03, 3.75023577e-03, 4.19132188e-02, 9.19235349e-02],\n",
              "       [2.76520457e-02, 5.46658278e-01, 5.12080267e-02, 3.59387964e-01,\n",
              "        3.37737438e-04, 1.38651142e-02, 5.19260648e-04, 3.71562433e-04],\n",
              "       [2.41051927e-01, 1.54858172e-01, 1.63049195e-02, 2.06832543e-01,\n",
              "        3.44693325e-02, 1.89636380e-03, 3.31637889e-01, 1.29488921e-02],\n",
              "       [2.40982801e-04, 3.88145636e-05, 5.80440217e-04, 1.87494997e-02,\n",
              "        3.36290926e-01, 3.72355152e-03, 6.30827010e-01, 9.54868644e-03],\n",
              "       [3.84682964e-04, 5.74639766e-03, 6.89576555e-04, 1.68751433e-01,\n",
              "        3.68624437e-03, 7.88411964e-03, 8.09453607e-01, 3.40399309e-03],\n",
              "       [1.45830796e-03, 2.70302175e-03, 5.01546822e-03, 1.09428234e-01,\n",
              "        8.43385994e-01, 1.18961781e-02, 2.52755638e-02, 8.37244093e-04],\n",
              "       [4.29550782e-02, 1.69067502e-01, 2.79838648e-02, 7.29825735e-01,\n",
              "        2.42587854e-03, 2.69134808e-02, 5.54373953e-04, 2.74113292e-04],\n",
              "       [2.34103240e-02, 5.74638724e-01, 3.78221669e-03, 3.77608269e-01,\n",
              "        7.28019979e-04, 5.28850360e-03, 1.42364316e-02, 3.07581766e-04],\n",
              "       [2.96395957e-01, 8.54340270e-02, 3.73642482e-02, 5.35413802e-01,\n",
              "        1.18966317e-02, 6.95562921e-03, 2.37462930e-02, 2.79340986e-03],\n",
              "       [8.31092224e-02, 2.26407066e-01, 5.71631826e-03, 5.90389669e-01,\n",
              "        8.69351905e-04, 2.12368704e-02, 6.24225624e-02, 9.84888244e-03],\n",
              "       [1.11991467e-04, 5.21500013e-04, 1.33952664e-04, 3.30862701e-02,\n",
              "        1.86014408e-03, 5.26297186e-03, 9.56272721e-01, 2.75047193e-03],\n",
              "       [5.68642393e-02, 6.87835515e-02, 4.67473529e-02, 4.15095448e-01,\n",
              "        5.86060388e-03, 2.21217200e-01, 4.49033901e-02, 1.40528202e-01],\n",
              "       [2.06744953e-04, 9.70565452e-05, 2.59664201e-04, 1.11502782e-02,\n",
              "        1.30035952e-02, 4.68798215e-03, 9.57369030e-01, 1.32257100e-02],\n",
              "       [1.14382142e-02, 1.56047218e-03, 5.35750017e-02, 4.73610967e-01,\n",
              "        3.69709469e-02, 3.82041097e-01, 1.08602429e-02, 2.99430415e-02],\n",
              "       [2.46473894e-01, 1.47914454e-01, 4.21989292e-01, 6.13435805e-02,\n",
              "        1.12997240e-03, 1.91728752e-02, 3.90272937e-03, 9.80731845e-02],\n",
              "       [4.52374108e-03, 2.52801716e-01, 1.87979848e-03, 7.25312233e-01,\n",
              "        5.38794789e-04, 9.00344271e-03, 5.85371535e-03, 8.65728725e-05],\n",
              "       [2.16926187e-02, 2.48128548e-03, 1.54169455e-01, 3.22407007e-01,\n",
              "        3.90752554e-02, 4.45823938e-01, 1.82246370e-03, 1.25279566e-02],\n",
              "       [6.98310276e-03, 9.24238741e-01, 5.17806364e-03, 6.18158765e-02,\n",
              "        5.03243646e-05, 1.50002155e-03, 1.95286440e-04, 3.85327039e-05],\n",
              "       [1.49752281e-03, 4.09520813e-04, 2.56318017e-03, 5.16924709e-02,\n",
              "        9.21161413e-01, 1.24879833e-02, 9.44226794e-03, 7.45671219e-04]],\n",
              "      dtype=float32)"
            ]
          },
          "metadata": {},
          "execution_count": 90
        }
      ]
    },
    {
      "cell_type": "code",
      "source": [
        "y_pred_test_class "
      ],
      "metadata": {
        "id": "ph-j4nBsAxjT",
        "colab": {
          "base_uri": "https://localhost:8080/"
        },
        "outputId": "604813c6-46c9-43dd-ed0d-224135552867"
      },
      "execution_count": 91,
      "outputs": [
        {
          "output_type": "execute_result",
          "data": {
            "text/plain": [
              "array([0, 1, 3, 1, 7, 6, 3, 3, 7, 1, 0, 3, 6, 3, 6, 4, 3, 3, 3, 2, 6, 1,\n",
              "       7, 1, 2, 3, 3, 3, 3, 1, 2, 1, 6, 3, 6, 3, 3, 3, 3, 1, 1, 7, 3, 6,\n",
              "       0, 1, 0, 6, 1, 2, 3, 6, 2, 1, 6, 3, 6, 3, 4, 4, 6, 3, 1, 6, 3, 1,\n",
              "       6, 6, 3, 7, 6, 3, 6, 6, 3, 2, 1, 6, 6, 6, 4, 3, 1, 3, 3, 6, 3, 6,\n",
              "       3, 2, 3, 5, 1, 4])"
            ]
          },
          "metadata": {},
          "execution_count": 91
        }
      ]
    },
    {
      "cell_type": "markdown",
      "source": [
        "### Test Set Confusion Matrix and Heatmap"
      ],
      "metadata": {
        "id": "Epp2QpxsUVXH"
      }
    },
    {
      "cell_type": "code",
      "source": [
        "# Test set Confusion matrix\n",
        "\n",
        "cm=confusion_matrix(y_test_class, y_pred_test_class)\n",
        "\n",
        "index = ['neutral', 'calm', 'happy', 'sad', 'angry', 'fearful', 'disgust', 'surprised']  \n",
        "columns = ['neutral', 'calm', 'happy', 'sad', 'angry', 'fearful', 'disgust', 'surprised']  \n",
        " \n",
        "cm_df = pd.DataFrame(cm,index,columns)                      \n",
        "plt.figure(figsize=(12,8))\n",
        "ax = plt.axes()\n",
        "\n",
        "sns.heatmap(cm_df, ax = ax, cmap = 'BuGn', fmt=\"d\", annot=True)\n",
        "ax.set_ylabel('True emotion')\n",
        "ax.set_xlabel('Predicted emotion')"
      ],
      "metadata": {
        "id": "ukGrk_cagzyb",
        "colab": {
          "base_uri": "https://localhost:8080/",
          "height": 0
        },
        "outputId": "47ec9efd-ff63-4c56-f0b6-86a53ad1c97e"
      },
      "execution_count": 92,
      "outputs": [
        {
          "output_type": "execute_result",
          "data": {
            "text/plain": [
              "Text(0.5, 51.0, 'Predicted emotion')"
            ]
          },
          "metadata": {},
          "execution_count": 92
        },
        {
          "output_type": "display_data",
          "data": {
            "text/plain": [
              "<Figure size 864x576 with 2 Axes>"
            ],
            "image/png": "[encoded data removed]"
          },
          "metadata": {
            "needs_background": "light"
          }
        }
      ]
    },
    {
      "cell_type": "code",
      "source": [
        "# Confusion Matrix\n",
        "cm"
      ],
      "metadata": {
        "id": "9f51xwUE8haF",
        "colab": {
          "base_uri": "https://localhost:8080/"
        },
        "outputId": "04f77f16-e4c0-4bcf-9740-a47043fb9c6d"
      },
      "execution_count": 93,
      "outputs": [
        {
          "output_type": "execute_result",
          "data": {
            "text/plain": [
              "array([[ 0,  2,  1,  1,  0,  0,  0,  0],\n",
              "       [ 0, 12,  0,  4,  0,  0,  0,  0],\n",
              "       [ 2,  2,  2,  3,  0,  1,  2,  1],\n",
              "       [ 2,  0,  0,  9,  0,  0,  2,  0],\n",
              "       [ 0,  0,  1,  5,  5,  0,  5,  1],\n",
              "       [ 0,  1,  2,  7,  0,  0,  1,  1],\n",
              "       [ 0,  0,  0,  1,  0,  0,  9,  0],\n",
              "       [ 0,  0,  1,  2,  0,  0,  4,  2]])"
            ]
          },
          "metadata": {},
          "execution_count": 93
        }
      ]
    },
    {
      "cell_type": "markdown",
      "source": [
        "### Test Set Predicted emotions accuracy"
      ],
      "metadata": {
        "id": "zil3CkweUX0q"
      }
    },
    {
      "cell_type": "code",
      "source": [
        "# Test set prediction accuracy rates\n",
        "\n",
        "values = cm.diagonal()\n",
        "row_sum = np.sum(cm,axis=1)\n",
        "acc = values / row_sum\n",
        "\n",
        "print('Test set predicted emotions accuracy:')\n",
        "for e in range(0, len(values)):\n",
        "    print(index[e],':', f\"{(acc[e]):0.4f}\")"
      ],
      "metadata": {
        "id": "t_ORyGGig090",
        "colab": {
          "base_uri": "https://localhost:8080/"
        },
        "outputId": "62fe9971-bd02-454d-ea9b-9edded370cb0"
      },
      "execution_count": 94,
      "outputs": [
        {
          "output_type": "stream",
          "name": "stdout",
          "text": [
            "Test set predicted emotions accuracy:\n",
            "neutral : 0.0000\n",
            "calm : 0.7500\n",
            "happy : 0.1538\n",
            "sad : 0.6923\n",
            "angry : 0.2941\n",
            "fearful : 0.0000\n",
            "disgust : 0.9000\n",
            "surprised : 0.2222\n"
          ]
        }
      ]
    },
    {
      "cell_type": "markdown",
      "source": [
        "### Precision, Recal, Fscore"
      ],
      "metadata": {
        "id": "8Hzthv1t8kwd"
      }
    },
    {
      "cell_type": "code",
      "source": [
        "# Validation set precision, recall, fscore\n",
        "\n",
        "precision_recall_fscore_support(y_test_class, y_pred_test_class, average='macro')\n"
      ],
      "metadata": {
        "id": "QnwWoVFnh33F",
        "colab": {
          "base_uri": "https://localhost:8080/"
        },
        "outputId": "88a2e3e0-f287-461b-b429-945cb6f96ddf"
      },
      "execution_count": 95,
      "outputs": [
        {
          "output_type": "execute_result",
          "data": {
            "text/plain": [
              "(0.3830188733101937, 0.3765617144293615, 0.3266233766233766, None)"
            ]
          },
          "metadata": {},
          "execution_count": 95
        }
      ]
    },
    {
      "cell_type": "code",
      "source": [
        "precision_recall_fscore_support(y_test_class, y_pred_test_class, average='weighted')"
      ],
      "metadata": {
        "id": "OlDhuPlqzwVB",
        "colab": {
          "base_uri": "https://localhost:8080/"
        },
        "outputId": "a28e6bb5-2d76-4f0a-e034-54b833f86417"
      },
      "execution_count": 96,
      "outputs": [
        {
          "output_type": "execute_result",
          "data": {
            "text/plain": [
              "(0.4593372004213341, 0.4148936170212766, 0.3743575573362808, None)"
            ]
          },
          "metadata": {},
          "execution_count": 96
        }
      ]
    },
    {
      "cell_type": "markdown",
      "source": [
        "### ROC AUC Score"
      ],
      "metadata": {
        "id": "sEuBd9IyLuiD"
      }
    },
    {
      "cell_type": "code",
      "source": [
        "ravdess_df = pd.read_csv (df_path)"
      ],
      "metadata": {
        "id": "8bb4OSmyTO6v"
      },
      "execution_count": 97,
      "outputs": []
    },
    {
      "cell_type": "code",
      "source": [
        "labels = [\"neutral\", \"calm\", \"happy\", \"sad\", \"angry\", \"fear\", \"disgust\", \"suprised\"]"
      ],
      "metadata": {
        "id": "1leZ4JGVTfTp"
      },
      "execution_count": 98,
      "outputs": []
    },
    {
      "cell_type": "code",
      "source": [
        "y_test_adj = y_test.reshape(-1,)"
      ],
      "metadata": {
        "id": "MRm1ZwnxFStc"
      },
      "execution_count": 99,
      "outputs": []
    },
    {
      "cell_type": "code",
      "source": [
        "y_proba_test_class.shape"
      ],
      "metadata": {
        "id": "O-IcYOABFjxB",
        "colab": {
          "base_uri": "https://localhost:8080/"
        },
        "outputId": "5b795a9d-5def-4545-8acf-e14c8ab78fd9"
      },
      "execution_count": 100,
      "outputs": [
        {
          "output_type": "execute_result",
          "data": {
            "text/plain": [
              "(94, 8)"
            ]
          },
          "metadata": {},
          "execution_count": 100
        }
      ]
    },
    {
      "cell_type": "code",
      "source": [
        "y_test.shape"
      ],
      "metadata": {
        "id": "9AaqUY3PIlMQ",
        "colab": {
          "base_uri": "https://localhost:8080/"
        },
        "outputId": "5c9f3ae0-d4de-4c8c-f43c-2b39613a1db9"
      },
      "execution_count": 101,
      "outputs": [
        {
          "output_type": "execute_result",
          "data": {
            "text/plain": [
              "(94, 1)"
            ]
          },
          "metadata": {},
          "execution_count": 101
        }
      ]
    },
    {
      "cell_type": "code",
      "source": [
        "y_test_adj"
      ],
      "metadata": {
        "id": "7LgDudYTKInS",
        "colab": {
          "base_uri": "https://localhost:8080/"
        },
        "outputId": "5981d085-35a2-42bc-f16b-d6995e0b70ce"
      },
      "execution_count": 102,
      "outputs": [
        {
          "output_type": "execute_result",
          "data": {
            "text/plain": [
              "array([2, 2, 2, 0, 4, 6, 2, 0, 5, 0, 3, 5, 4, 1, 6, 4, 3, 5, 4, 5, 7, 1,\n",
              "       7, 1, 2, 5, 4, 5, 4, 1, 2, 1, 3, 3, 3, 3, 3, 3, 5, 1, 5, 2, 1, 6,\n",
              "       2, 1, 3, 6, 1, 5, 6, 7, 4, 2, 6, 4, 4, 5, 4, 4, 2, 3, 1, 7, 7, 1,\n",
              "       6, 4, 3, 7, 6, 2, 4, 6, 1, 0, 1, 2, 4, 5, 4, 3, 1, 4, 3, 6, 7, 7,\n",
              "       5, 7, 1, 2, 1, 4], dtype=int8)"
            ]
          },
          "metadata": {},
          "execution_count": 102
        }
      ]
    },
    {
      "cell_type": "code",
      "source": [
        "\n",
        "\n",
        "macro_roc_auc_ovo = roc_auc_score(y_test_adj, y_proba_test_class, multi_class=\"ovo\", average=\"macro\")\n",
        "weighted_roc_auc_ovo = roc_auc_score(\n",
        "    y_test_adj, y_proba_test_class, multi_class=\"ovo\", average=\"weighted\"\n",
        ")\n",
        "macro_roc_auc_ovr = roc_auc_score(y_test_adj, y_proba_test_class, multi_class=\"ovr\", average=\"macro\")\n",
        "weighted_roc_auc_ovr = roc_auc_score(\n",
        "    y_test_adj, y_proba_test_class, multi_class=\"ovr\", average=\"weighted\"\n",
        ")\n"
      ],
      "metadata": {
        "id": "oMa4N8EhHlY9"
      },
      "execution_count": 103,
      "outputs": []
    },
    {
      "cell_type": "code",
      "source": [
        "print(\"One-vs-One ROC AUC scores:\\n{:.6f} (macro),\\n{:.6f} \" \"(weighted by prevalence)\\n\".format(macro_roc_auc_ovo, weighted_roc_auc_ovo))\n",
        "print(\"One-vs-Rest ROC AUC scores:\\n{:.6f} (macro),\\n{:.6f} \" \"(weighted by prevalence)\".format(macro_roc_auc_ovr, weighted_roc_auc_ovr))"
      ],
      "metadata": {
        "id": "hhBLwtO_ICqL",
        "colab": {
          "base_uri": "https://localhost:8080/"
        },
        "outputId": "14e1c0a5-f09f-459e-beeb-d57fcc7d3b02"
      },
      "execution_count": 104,
      "outputs": [
        {
          "output_type": "stream",
          "name": "stdout",
          "text": [
            "One-vs-One ROC AUC scores:\n",
            "0.868750 (macro),\n",
            "0.870654 (weighted by prevalence)\n",
            "\n",
            "One-vs-Rest ROC AUC scores:\n",
            "0.871500 (macro),\n",
            "0.873288 (weighted by prevalence)\n"
          ]
        }
      ]
    }
  ]
}