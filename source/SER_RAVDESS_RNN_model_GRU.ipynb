{
  "metadata": {
    "kernelspec": {
      "language": "python",
      "display_name": "Python 3",
      "name": "python3"
    },
    "language_info": {
      "pygments_lexer": "ipython3",
      "nbconvert_exporter": "python",
      "version": "3.6.4",
      "file_extension": ".py",
      "codemirror_mode": {
        "name": "ipython",
        "version": 3
      },
      "name": "python",
      "mimetype": "text/x-python"
    },
    "colab": {
      "name": "SER-RAVDESS-RNN-model-GRU.ipynb",
      "provenance": [],
      "collapsed_sections": [
        "anSyerIFN7qd",
        "nyMzoZKKKiw6",
        "1YfguG0tPatV",
        "ATvBW0SPO-eq",
        "5YoYCa22PMGz",
        "hz7nc15A_3hb",
        "d2ullxf9PUMd",
        "kWjKgUdRPYH5",
        "DGSTy2228XRH",
        "CWB7U5xDUSmF",
        "gPwcFV9oAhGh",
        "Epp2QpxsUVXH",
        "zil3CkweUX0q",
        "8Hzthv1t8kwd"
      ]
    }
  },
  "nbformat_minor": 0,
  "nbformat": 4,
  "cells": [
    {
      "cell_type": "markdown",
      "source": [
        "# Imports"
      ],
      "metadata": {
        "id": "anSyerIFN7qd"
      }
    },
    {
      "cell_type": "code",
      "source": [
        "# Importing Libraries"
      ],
      "metadata": {
        "id": "IMFSwIuvKiw2"
      },
      "execution_count": 1,
      "outputs": []
    },
    {
      "cell_type": "code",
      "source": [
        "!pip install json-tricks"
      ],
      "metadata": {
        "colab": {
          "base_uri": "https://localhost:8080/"
        },
        "id": "bBR8aNsmM2tR",
        "outputId": "26b84bcb-0ce0-481e-9b63-25f7689a5c57"
      },
      "execution_count": 2,
      "outputs": [
        {
          "output_type": "stream",
          "name": "stdout",
          "text": [
            "Collecting json-tricks\n",
            "  Downloading json_tricks-3.15.5-py2.py3-none-any.whl (26 kB)\n",
            "Installing collected packages: json-tricks\n",
            "Successfully installed json-tricks-3.15.5\n"
          ]
        }
      ]
    },
    {
      "cell_type": "code",
      "source": [
        "import pandas as pd\n",
        "import numpy as np\n",
        "\n",
        "import os\n",
        "import sys\n",
        "\n",
        "import librosa\n",
        "import librosa.display\n",
        "#from pydub import AudioSegment, effects\n",
        "#import noisereduce as nr\n",
        "\n",
        "\n",
        "import seaborn as sns\n",
        "import matplotlib.pyplot as plt\n",
        "from IPython.display import Audio\n",
        "\n",
        "import tensorflow as tf\n",
        "import keras\n",
        "import sklearn\n",
        "\n",
        "\n",
        "from tensorflow.keras.models import Sequential, Model\n",
        "from tensorflow.keras.layers import Dense, LSTM, Flatten, Dropout, BatchNormalization\n",
        "from tensorflow.keras.callbacks import ModelCheckpoint, EarlyStopping, ReduceLROnPlateau\n",
        "from tensorflow.keras.optimizers import Adam, SGD\n",
        "from tensorflow.keras.utils import to_categorical, plot_model\n",
        "\n",
        "\n",
        "from keras.models import Sequential, model_from_json, load_model\n",
        "from keras import layers\n",
        "from keras import optimizers\n",
        "from keras import callbacks\n",
        "\n",
        "from sklearn.preprocessing import StandardScaler, OneHotEncoder, LabelEncoder\n",
        "from sklearn.metrics import confusion_matrix, classification_report, precision_recall_fscore_support, roc_auc_score\n",
        "from sklearn.model_selection import train_test_split, StratifiedShuffleSplit\n",
        "from sklearn.multiclass import OneVsRestClassifier\n",
        "\n",
        "\n",
        "from tqdm import tqdm\n",
        "\n",
        "\n",
        "from json_tricks import dump, load\n",
        "\n",
        "\n",
        "\n",
        "import warnings\n",
        "if not sys.warnoptions:\n",
        "    warnings.simplefilter(\"ignore\")\n",
        "warnings.filterwarnings(\"ignore\", category=DeprecationWarning) \n",
        "\n",
        "import time\n",
        "tic = time.perf_counter()\n",
        "\n"
      ],
      "metadata": {
        "id": "77IS8HxqFFCA"
      },
      "execution_count": 3,
      "outputs": []
    },
    {
      "cell_type": "code",
      "source": [
        ""
      ],
      "metadata": {
        "id": "gGYqBIk0FGm4"
      },
      "execution_count": 3,
      "outputs": []
    },
    {
      "cell_type": "markdown",
      "source": [
        "# Dataset"
      ],
      "metadata": {
        "id": "nyMzoZKKKiw6"
      }
    },
    {
      "cell_type": "code",
      "source": [
        "from google.colab import drive\n",
        "drive.mount('/content/drive')"
      ],
      "metadata": {
        "colab": {
          "base_uri": "https://localhost:8080/"
        },
        "id": "JFPDGXmwCBs_",
        "outputId": "7e6434f5-c273-421e-cd8d-cb3dafa24aeb"
      },
      "execution_count": 4,
      "outputs": [
        {
          "output_type": "stream",
          "name": "stdout",
          "text": [
            "Mounted at /content/drive\n"
          ]
        }
      ]
    },
    {
      "cell_type": "code",
      "source": [
        "#Crema = \"/content/drive/MyDrive/datasets/speech/CREMAD/sample/\"\n",
        "#Crema = \"/content/drive/MyDrive/datasets/speech/CREMAD/AudioWAV/\"\n",
        "Ravdess = \"/content/drive/MyDrive/datasets/speech/RAVDESS/data\"\n",
        "Ravdess_processed = \"/content/drive/MyDrive/datasets/speech/RAVDESS/processedData/\"\n",
        "Ravdess_speech_sample = \"/content/drive/MyDrive/datasets/speech/RAVDESS/data/Audio_Speech_Actors_01-24/\"\n",
        "df_path = \"/content/drive/MyDrive/datasets/speech/RAVDESS/ravdess_df.csv\"\n",
        "model_path = Ravdess + \"/model/\"\n",
        "\n",
        "checkpoint_path = model_path + \"best_weights-8.hdf5\"\n",
        "saved_model_path = model_path + 'model8723-6.json'\n",
        "\n",
        "saved_weights_path = model_path + 'model8723_weights-8.h5'\n",
        "saved_model_path_2 = model_path + 'Speech-Emotion-Recognition-Model-RNN-6.h5'"
      ],
      "metadata": {
        "execution": {
          "iopub.status.busy": "2021-06-21T09:35:38.093538Z",
          "iopub.execute_input": "2021-06-21T09:35:38.093869Z",
          "iopub.status.idle": "2021-06-21T09:35:38.097467Z",
          "shell.execute_reply.started": "2021-06-21T09:35:38.093838Z",
          "shell.execute_reply": "2021-06-21T09:35:38.096608Z"
        },
        "trusted": true,
        "id": "vR2GjHL4Kiw7"
      },
      "execution_count": 5,
      "outputs": []
    },
    {
      "cell_type": "code",
      "source": [
        ""
      ],
      "metadata": {
        "id": "J2T6JxzIF2Jq"
      },
      "execution_count": 5,
      "outputs": []
    },
    {
      "cell_type": "code",
      "source": [
        "##Hypter Parameters' Range\n",
        "params = {\n",
        "    \"batch_size\": 20,  # 20<16<10, 25 was a bust\n",
        "    \"epochs\": 300,\n",
        "    \"lr\": 0.00010000,\n",
        "    \"time_steps\": 60\n",
        "}\n",
        "#TIME_STEPS = params[\"time_steps\"]\n",
        "#BATCH_SIZE = params[\"batch_size\"]\n",
        "#iter_changes = \"dropout_layers_0.4_0.4\"\n"
      ],
      "metadata": {
        "id": "jnEd5_Vvy4ue"
      },
      "execution_count": 6,
      "outputs": []
    },
    {
      "cell_type": "code",
      "source": [
        ""
      ],
      "metadata": {
        "id": "dKXM0xT-N8uy"
      },
      "execution_count": 6,
      "outputs": []
    },
    {
      "cell_type": "markdown",
      "source": [
        "# Load Processed Files, Construct Train, Validation and Test Sets"
      ],
      "metadata": {
        "id": "fse_mTpaOGdQ"
      }
    },
    {
      "cell_type": "code",
      "source": [
        "\n",
        "processed_path = Ravdess_processed\n",
        "x_path = processed_path + \"X_features.json\" # FILE LOAD PATH\n",
        "y_path =  processed_path + \"Y_labels.json\" # FILE SAVE PATH\n",
        "#x_path = '/content/drive/MyDrive/datasets/speech/RAVDESS/processedData/X_features.json'\n",
        "\n",
        "# Load X,Y json files back into lists, convert to np.arrays\n",
        "\n",
        "X = load(x_path)\n",
        "X = np.asarray(X, dtype = 'float32')\n",
        "\n",
        "Y = load(y_path)\n",
        "Y = np.asarray(Y, dtype = 'int8')"
      ],
      "metadata": {
        "id": "101BpvWgN8xX"
      },
      "execution_count": 7,
      "outputs": []
    },
    {
      "cell_type": "code",
      "source": [
        "# Split to train, validation, and test sets.\n",
        "from sklearn.model_selection import train_test_split\n",
        "# 1st Split: X,Y => (x_train, x_tosplit) (y_train, y_tosplit)\n",
        "x_train, x_tosplit, y_train, y_tosplit = train_test_split(X, Y, test_size = 0.125, random_state = 1)\n",
        "# 2nd Split: x_tosplit,y_tosplit => (x_val, x_test) (y_val, y_test) \n",
        "x_val, x_test, y_val, y_test = train_test_split(x_tosplit, y_tosplit, test_size = 0.304, random_state = 1)\n",
        "#'One-hot' vectors for Y: emotion classification\n",
        "y_train_class = tf.keras.utils.to_categorical(y_train, 8, dtype = 'int8')\n",
        "y_val_class = tf.keras.utils.to_categorical(y_val, 8, dtype = 'int8')"
      ],
      "metadata": {
        "id": "CuF9M1mfOD7X"
      },
      "execution_count": 8,
      "outputs": []
    },
    {
      "cell_type": "code",
      "source": [
        "# x_train, x_val, and x_test shape check.\n",
        "print(np.shape(x_train))\n",
        "print(np.shape(x_val))\n",
        "print(np.shape(x_test))"
      ],
      "metadata": {
        "colab": {
          "base_uri": "https://localhost:8080/"
        },
        "id": "od-D1YgBOGXs",
        "outputId": "91c8754f-05b1-4d8f-aac5-9409070f6238"
      },
      "execution_count": 9,
      "outputs": [
        {
          "output_type": "stream",
          "name": "stdout",
          "text": [
            "(2145, 523, 15)\n",
            "(213, 523, 15)\n",
            "(94, 523, 15)\n"
          ]
        }
      ]
    },
    {
      "cell_type": "code",
      "source": [
        "# Save x_test, y_test to JSON.\n",
        "\n",
        "x_test_path = processed_path + 'x_test_data.json'\n",
        "dump(obj = x_test, fp = x_test_path)\n",
        "\n",
        "y_test_path = processed_path + 'y_test_data.json'\n",
        "dump(obj = y_test, fp = y_test_path)"
      ],
      "metadata": {
        "colab": {
          "base_uri": "https://localhost:8080/",
          "height": 88
        },
        "id": "nTExHJVsOHQ5",
        "outputId": "857e6133-0cca-4ef0-bfa1-1b253dc1659a"
      },
      "execution_count": 10,
      "outputs": [
        {
          "output_type": "execute_result",
          "data": {
            "text/plain": [
              "'{\"__ndarray__\": [[2], [2], [2], [0], [4], [6], [2], [0], [5], [0], [3], [5], [4], [1], [6], [4], [3], [5], [4], [5], [7], [1], [7], [1], [2], [5], [4], [5], [4], [1], [2], [1], [3], [3], [3], [3], [3], [3], [5], [1], [5], [2], [1], [6], [2], [1], [3], [6], [1], [5], [6], [7], [4], [2], [6], [4], [4], [5], [4], [4], [2], [3], [1], [7], [7], [1], [6], [4], [3], [7], [6], [2], [4], [6], [1], [0], [1], [2], [4], [5], [4], [3], [1], [4], [3], [6], [7], [7], [5], [7], [1], [2], [1], [4]], \"dtype\": \"int8\", \"shape\": [94, 1], \"Corder\": true}'"
            ],
            "application/vnd.google.colaboratory.intrinsic+json": {
              "type": "string"
            }
          },
          "metadata": {},
          "execution_count": 10
        }
      ]
    },
    {
      "cell_type": "code",
      "source": [
        "# Loading x_test, y_test json files, and converting to np.arrays\n",
        "\n",
        "x_test = load(processed_path + 'x_test_data.json')\n",
        "x_test = np.asarray(x_test).astype('float32')\n",
        "\n",
        "y_test = load(processed_path + 'y_test_data.json')\n",
        "y_test = np.asarray(y_test).astype('int8')\n",
        "\n",
        "y_test_class = tf.keras.utils.to_categorical(y_test, 8, dtype = 'int8')"
      ],
      "metadata": {
        "id": "kAFBRsmk5dzm"
      },
      "execution_count": 11,
      "outputs": []
    },
    {
      "cell_type": "code",
      "source": [
        "X.shape"
      ],
      "metadata": {
        "id": "15joCR4gu4r7",
        "colab": {
          "base_uri": "https://localhost:8080/"
        },
        "outputId": "e1f35ff7-065e-4404-cc8f-ab46fc01c1b3"
      },
      "execution_count": 12,
      "outputs": [
        {
          "output_type": "execute_result",
          "data": {
            "text/plain": [
              "(2452, 523, 15)"
            ]
          },
          "metadata": {},
          "execution_count": 12
        }
      ]
    },
    {
      "cell_type": "code",
      "source": [
        "X.shape[1:3]"
      ],
      "metadata": {
        "colab": {
          "base_uri": "https://localhost:8080/"
        },
        "id": "8MQhoPKjEzi4",
        "outputId": "dfdb462b-57e7-472f-ee34-9decbcbb3db9"
      },
      "execution_count": 13,
      "outputs": [
        {
          "output_type": "execute_result",
          "data": {
            "text/plain": [
              "(523, 15)"
            ]
          },
          "metadata": {},
          "execution_count": 13
        }
      ]
    },
    {
      "cell_type": "markdown",
      "source": [
        "# RNN Model"
      ],
      "metadata": {
        "id": "gnWVMbR6KixC"
      }
    },
    {
      "cell_type": "code",
      "source": [
        "tic"
      ],
      "metadata": {
        "colab": {
          "base_uri": "https://localhost:8080/"
        },
        "id": "7CHZWdfcN8oo",
        "outputId": "24c4e6e6-aaf3-4013-b351-b885ee4155e2"
      },
      "execution_count": 14,
      "outputs": [
        {
          "output_type": "execute_result",
          "data": {
            "text/plain": [
              "61.53492106"
            ]
          },
          "metadata": {},
          "execution_count": 14
        }
      ]
    },
    {
      "cell_type": "markdown",
      "source": [
        "## Define Model & Training"
      ],
      "metadata": {
        "id": "GJjJYnJQORJ8"
      }
    },
    {
      "cell_type": "code",
      "source": [
        "# Initializing the model\n",
        "\n",
        "model = Sequential()\n",
        "model.add(layers.GRU(128, return_sequences = True, input_shape=(X.shape[1:3])))\n",
        "model.add(layers.GRU(64))\n",
        "model.add(layers.Dense(8, activation = 'softmax'))\n",
        "print(model.summary())\n",
        "\n",
        "batch_size = 23\n",
        "\n",
        "# Callbacks functions\n",
        "\n",
        "#-> EearlyStopping\n",
        "es = EarlyStopping(monitor='val_loss', mode='min', verbose=1,\n",
        "                    patience=10, min_delta=0.0001)\n",
        "\n",
        "\n",
        "#-> Save the best weights\n",
        "mcp_save = callbacks.ModelCheckpoint(checkpoint_path, save_best_only=True,\n",
        "                           monitor='val_categorical_accuracy',\n",
        "                           mode='max')\n",
        "#-> Reduce learning rate after 100 epoches without improvement.\n",
        "rlrop = callbacks.ReduceLROnPlateau(monitor='val_categorical_accuracy', \n",
        "                                    factor=0.1, patience=20)\n",
        "                             \n",
        "# Compile & train   \n",
        "model.compile(loss='categorical_crossentropy', \n",
        "                optimizer='RMSProp', \n",
        "                metrics=['categorical_accuracy'])\n",
        "\n",
        "\n"
      ],
      "metadata": {
        "colab": {
          "base_uri": "https://localhost:8080/"
        },
        "id": "aD2adyVGOJs4",
        "outputId": "e7407a4b-0fe9-4fdc-9ad3-d017e76df46c"
      },
      "execution_count": 15,
      "outputs": [
        {
          "output_type": "stream",
          "name": "stdout",
          "text": [
            "Model: \"sequential\"\n",
            "_________________________________________________________________\n",
            " Layer (type)                Output Shape              Param #   \n",
            "=================================================================\n",
            " gru (GRU)                   (None, 523, 128)          55680     \n",
            "                                                                 \n",
            " gru_1 (GRU)                 (None, 64)                37248     \n",
            "                                                                 \n",
            " dense (Dense)               (None, 8)                 520       \n",
            "                                                                 \n",
            "=================================================================\n",
            "Total params: 93,448\n",
            "Trainable params: 93,448\n",
            "Non-trainable params: 0\n",
            "_________________________________________________________________\n",
            "None\n"
          ]
        }
      ]
    },
    {
      "cell_type": "code",
      "source": [
        ""
      ],
      "metadata": {
        "id": "4DBF6kqx-OHZ"
      },
      "execution_count": 15,
      "outputs": []
    },
    {
      "cell_type": "code",
      "source": [
        "history = model.fit(x_train, y_train_class, \n",
        "                      epochs=340, batch_size = batch_size, \n",
        "                      validation_data = (x_val, y_val_class), \n",
        "                      callbacks = [es, mcp_save, rlrop])\n",
        "toc = time.perf_counter()"
      ],
      "metadata": {
        "colab": {
          "base_uri": "https://localhost:8080/"
        },
        "id": "Da7Gc9x_izth",
        "outputId": "e054fea4-8b44-4157-fddb-33b557e70a14"
      },
      "execution_count": 16,
      "outputs": [
        {
          "output_type": "stream",
          "name": "stdout",
          "text": [
            "Epoch 1/340\n",
            "94/94 [==============================] - 70s 688ms/step - loss: 2.0626 - categorical_accuracy: 0.1804 - val_loss: 2.1174 - val_categorical_accuracy: 0.1878 - lr: 0.0010\n",
            "Epoch 2/340\n",
            "94/94 [==============================] - 65s 688ms/step - loss: 2.0000 - categorical_accuracy: 0.1967 - val_loss: 2.0672 - val_categorical_accuracy: 0.2113 - lr: 0.0010\n",
            "Epoch 3/340\n",
            "94/94 [==============================] - 68s 726ms/step - loss: 1.9123 - categorical_accuracy: 0.2671 - val_loss: 1.9409 - val_categorical_accuracy: 0.2817 - lr: 0.0010\n",
            "Epoch 4/340\n",
            "94/94 [==============================] - 65s 692ms/step - loss: 1.8184 - categorical_accuracy: 0.3291 - val_loss: 1.8774 - val_categorical_accuracy: 0.2582 - lr: 0.0010\n",
            "Epoch 5/340\n",
            "94/94 [==============================] - 65s 688ms/step - loss: 1.7241 - categorical_accuracy: 0.3450 - val_loss: 1.7375 - val_categorical_accuracy: 0.3333 - lr: 0.0010\n",
            "Epoch 6/340\n",
            "94/94 [==============================] - 64s 679ms/step - loss: 1.6552 - categorical_accuracy: 0.3800 - val_loss: 1.8381 - val_categorical_accuracy: 0.2911 - lr: 0.0010\n",
            "Epoch 7/340\n",
            "94/94 [==============================] - 64s 677ms/step - loss: 1.6039 - categorical_accuracy: 0.3944 - val_loss: 1.6529 - val_categorical_accuracy: 0.4319 - lr: 0.0010\n",
            "Epoch 8/340\n",
            "94/94 [==============================] - 64s 677ms/step - loss: 1.5766 - categorical_accuracy: 0.4075 - val_loss: 1.6375 - val_categorical_accuracy: 0.3756 - lr: 0.0010\n",
            "Epoch 9/340\n",
            "94/94 [==============================] - 66s 701ms/step - loss: 1.5202 - categorical_accuracy: 0.4312 - val_loss: 1.6072 - val_categorical_accuracy: 0.4225 - lr: 0.0010\n",
            "Epoch 10/340\n",
            "94/94 [==============================] - 64s 679ms/step - loss: 1.5047 - categorical_accuracy: 0.4392 - val_loss: 1.6792 - val_categorical_accuracy: 0.3709 - lr: 0.0010\n",
            "Epoch 11/340\n",
            "94/94 [==============================] - 64s 678ms/step - loss: 1.4691 - categorical_accuracy: 0.4448 - val_loss: 1.6103 - val_categorical_accuracy: 0.4131 - lr: 0.0010\n",
            "Epoch 12/340\n",
            "94/94 [==============================] - 64s 678ms/step - loss: 1.4615 - categorical_accuracy: 0.4485 - val_loss: 1.5673 - val_categorical_accuracy: 0.4038 - lr: 0.0010\n",
            "Epoch 13/340\n",
            "94/94 [==============================] - 64s 679ms/step - loss: 1.4061 - categorical_accuracy: 0.4695 - val_loss: 1.7024 - val_categorical_accuracy: 0.3662 - lr: 0.0010\n",
            "Epoch 14/340\n",
            "94/94 [==============================] - 64s 677ms/step - loss: 1.3705 - categorical_accuracy: 0.4872 - val_loss: 1.5936 - val_categorical_accuracy: 0.4085 - lr: 0.0010\n",
            "Epoch 15/340\n",
            "94/94 [==============================] - 64s 684ms/step - loss: 1.3694 - categorical_accuracy: 0.4993 - val_loss: 1.5039 - val_categorical_accuracy: 0.4366 - lr: 0.0010\n",
            "Epoch 16/340\n",
            "94/94 [==============================] - 64s 684ms/step - loss: 1.3252 - categorical_accuracy: 0.5007 - val_loss: 1.3880 - val_categorical_accuracy: 0.4742 - lr: 0.0010\n",
            "Epoch 17/340\n",
            "94/94 [==============================] - 64s 678ms/step - loss: 1.2851 - categorical_accuracy: 0.5217 - val_loss: 1.7234 - val_categorical_accuracy: 0.3991 - lr: 0.0010\n",
            "Epoch 18/340\n",
            "94/94 [==============================] - 64s 682ms/step - loss: 1.2706 - categorical_accuracy: 0.5310 - val_loss: 1.7539 - val_categorical_accuracy: 0.3944 - lr: 0.0010\n",
            "Epoch 19/340\n",
            "94/94 [==============================] - 64s 681ms/step - loss: 1.2382 - categorical_accuracy: 0.5408 - val_loss: 1.9066 - val_categorical_accuracy: 0.2911 - lr: 0.0010\n",
            "Epoch 20/340\n",
            "94/94 [==============================] - 64s 682ms/step - loss: 1.1852 - categorical_accuracy: 0.5636 - val_loss: 1.3687 - val_categorical_accuracy: 0.4789 - lr: 0.0010\n",
            "Epoch 21/340\n",
            "94/94 [==============================] - 64s 685ms/step - loss: 1.1700 - categorical_accuracy: 0.5552 - val_loss: 1.4458 - val_categorical_accuracy: 0.5117 - lr: 0.0010\n",
            "Epoch 22/340\n",
            "94/94 [==============================] - 65s 688ms/step - loss: 1.1229 - categorical_accuracy: 0.5753 - val_loss: 1.5967 - val_categorical_accuracy: 0.4038 - lr: 0.0010\n",
            "Epoch 23/340\n",
            "94/94 [==============================] - 64s 677ms/step - loss: 1.1350 - categorical_accuracy: 0.5753 - val_loss: 1.4590 - val_categorical_accuracy: 0.4742 - lr: 0.0010\n",
            "Epoch 24/340\n",
            "94/94 [==============================] - 64s 681ms/step - loss: 1.0944 - categorical_accuracy: 0.5893 - val_loss: 1.4498 - val_categorical_accuracy: 0.5070 - lr: 0.0010\n",
            "Epoch 25/340\n",
            "94/94 [==============================] - 64s 682ms/step - loss: 1.0716 - categorical_accuracy: 0.5977 - val_loss: 1.4274 - val_categorical_accuracy: 0.4554 - lr: 0.0010\n",
            "Epoch 26/340\n",
            "94/94 [==============================] - 64s 684ms/step - loss: 1.0445 - categorical_accuracy: 0.6131 - val_loss: 1.4418 - val_categorical_accuracy: 0.4836 - lr: 0.0010\n",
            "Epoch 27/340\n",
            "94/94 [==============================] - 64s 677ms/step - loss: 1.0220 - categorical_accuracy: 0.6177 - val_loss: 1.4317 - val_categorical_accuracy: 0.4883 - lr: 0.0010\n",
            "Epoch 28/340\n",
            "94/94 [==============================] - 64s 683ms/step - loss: 1.0249 - categorical_accuracy: 0.6308 - val_loss: 1.3659 - val_categorical_accuracy: 0.5305 - lr: 0.0010\n",
            "Epoch 29/340\n",
            "94/94 [==============================] - 64s 681ms/step - loss: 1.0017 - categorical_accuracy: 0.6252 - val_loss: 1.4178 - val_categorical_accuracy: 0.4695 - lr: 0.0010\n",
            "Epoch 30/340\n",
            "94/94 [==============================] - 64s 684ms/step - loss: 0.9659 - categorical_accuracy: 0.6340 - val_loss: 1.6014 - val_categorical_accuracy: 0.4836 - lr: 0.0010\n",
            "Epoch 31/340\n",
            "94/94 [==============================] - 64s 680ms/step - loss: 0.9488 - categorical_accuracy: 0.6443 - val_loss: 1.3781 - val_categorical_accuracy: 0.4836 - lr: 0.0010\n",
            "Epoch 32/340\n",
            "94/94 [==============================] - 63s 674ms/step - loss: 0.9295 - categorical_accuracy: 0.6639 - val_loss: 1.8430 - val_categorical_accuracy: 0.3756 - lr: 0.0010\n",
            "Epoch 33/340\n",
            "94/94 [==============================] - 64s 680ms/step - loss: 0.9091 - categorical_accuracy: 0.6639 - val_loss: 1.5009 - val_categorical_accuracy: 0.4601 - lr: 0.0010\n",
            "Epoch 34/340\n",
            "94/94 [==============================] - 64s 684ms/step - loss: 0.8733 - categorical_accuracy: 0.6732 - val_loss: 1.3449 - val_categorical_accuracy: 0.5164 - lr: 0.0010\n",
            "Epoch 35/340\n",
            "94/94 [==============================] - 64s 684ms/step - loss: 0.8521 - categorical_accuracy: 0.6900 - val_loss: 1.3170 - val_categorical_accuracy: 0.5258 - lr: 0.0010\n",
            "Epoch 36/340\n",
            "94/94 [==============================] - 64s 681ms/step - loss: 0.8363 - categorical_accuracy: 0.6932 - val_loss: 1.4161 - val_categorical_accuracy: 0.5117 - lr: 0.0010\n",
            "Epoch 37/340\n",
            "94/94 [==============================] - 65s 686ms/step - loss: 0.8048 - categorical_accuracy: 0.7091 - val_loss: 1.4710 - val_categorical_accuracy: 0.4695 - lr: 0.0010\n",
            "Epoch 38/340\n",
            "94/94 [==============================] - 63s 675ms/step - loss: 0.8197 - categorical_accuracy: 0.6974 - val_loss: 1.4914 - val_categorical_accuracy: 0.5211 - lr: 0.0010\n",
            "Epoch 39/340\n",
            "94/94 [==============================] - 64s 681ms/step - loss: 0.7919 - categorical_accuracy: 0.7012 - val_loss: 1.3732 - val_categorical_accuracy: 0.4836 - lr: 0.0010\n",
            "Epoch 40/340\n",
            "94/94 [==============================] - 64s 686ms/step - loss: 0.7350 - categorical_accuracy: 0.7301 - val_loss: 1.2793 - val_categorical_accuracy: 0.5399 - lr: 0.0010\n",
            "Epoch 41/340\n",
            "94/94 [==============================] - 65s 688ms/step - loss: 0.7335 - categorical_accuracy: 0.7343 - val_loss: 1.3529 - val_categorical_accuracy: 0.5258 - lr: 0.0010\n",
            "Epoch 42/340\n",
            "94/94 [==============================] - 65s 689ms/step - loss: 0.7113 - categorical_accuracy: 0.7371 - val_loss: 1.4575 - val_categorical_accuracy: 0.5070 - lr: 0.0010\n",
            "Epoch 43/340\n",
            "94/94 [==============================] - 65s 692ms/step - loss: 0.6949 - categorical_accuracy: 0.7524 - val_loss: 1.3124 - val_categorical_accuracy: 0.5446 - lr: 0.0010\n",
            "Epoch 44/340\n",
            "94/94 [==============================] - 65s 688ms/step - loss: 0.7099 - categorical_accuracy: 0.7329 - val_loss: 1.3309 - val_categorical_accuracy: 0.5446 - lr: 0.0010\n",
            "Epoch 45/340\n",
            "94/94 [==============================] - 64s 686ms/step - loss: 0.6831 - categorical_accuracy: 0.7441 - val_loss: 1.7381 - val_categorical_accuracy: 0.4836 - lr: 0.0010\n",
            "Epoch 46/340\n",
            "94/94 [==============================] - 64s 683ms/step - loss: 0.6553 - categorical_accuracy: 0.7622 - val_loss: 1.4411 - val_categorical_accuracy: 0.5211 - lr: 0.0010\n",
            "Epoch 47/340\n",
            "94/94 [==============================] - 64s 683ms/step - loss: 0.6320 - categorical_accuracy: 0.7800 - val_loss: 1.3224 - val_categorical_accuracy: 0.5399 - lr: 0.0010\n",
            "Epoch 48/340\n",
            "94/94 [==============================] - 64s 678ms/step - loss: 0.6140 - categorical_accuracy: 0.7730 - val_loss: 1.6581 - val_categorical_accuracy: 0.5258 - lr: 0.0010\n",
            "Epoch 49/340\n",
            "94/94 [==============================] - 64s 682ms/step - loss: 0.6054 - categorical_accuracy: 0.7832 - val_loss: 1.3055 - val_categorical_accuracy: 0.5540 - lr: 0.0010\n",
            "Epoch 50/340\n",
            "94/94 [==============================] - 64s 676ms/step - loss: 0.5823 - categorical_accuracy: 0.7879 - val_loss: 1.4885 - val_categorical_accuracy: 0.5305 - lr: 0.0010\n",
            "Epoch 50: early stopping\n"
          ]
        }
      ]
    },
    {
      "cell_type": "code",
      "source": [
        ""
      ],
      "metadata": {
        "id": "3MekXCZHizyZ"
      },
      "execution_count": 16,
      "outputs": []
    },
    {
      "cell_type": "code",
      "source": [
        "print(f\"Running time: {(toc - tic)/60:0.4f} minutes\")"
      ],
      "metadata": {
        "id": "cHmSBRhVOELJ",
        "colab": {
          "base_uri": "https://localhost:8080/"
        },
        "outputId": "ed9dc2f2-d90c-4b59-f0e6-e8afaf0cc35b"
      },
      "execution_count": 17,
      "outputs": [
        {
          "output_type": "stream",
          "name": "stdout",
          "text": [
            "Running time: 55.7133 minutes\n"
          ]
        }
      ]
    },
    {
      "cell_type": "markdown",
      "source": [
        "## Loading Model"
      ],
      "metadata": {
        "id": "jCQelzMAKixD"
      }
    },
    {
      "cell_type": "code",
      "source": [
        "# Define the best weights to the model.\\\n",
        "#model.load_weights(checkpoint_path)"
      ],
      "metadata": {
        "id": "gruZAW2wI-tO"
      },
      "execution_count": 18,
      "outputs": []
    },
    {
      "cell_type": "markdown",
      "source": [
        "# Evaluation"
      ],
      "metadata": {
        "id": "kDxTjEK0KixD"
      }
    },
    {
      "cell_type": "markdown",
      "source": [
        "## Save & Load model, weights"
      ],
      "metadata": {
        "id": "1YfguG0tPatV"
      }
    },
    {
      "cell_type": "code",
      "source": [
        "# Saving model & weights\n",
        "model_path = Ravdess + \"/model/\"\n",
        "model_json = model.to_json()\n",
        "\n",
        "\n",
        "\n",
        "with open(saved_model_path, \"w\") as json_file:\n",
        "    json_file.write(model_json)\n",
        "    \n",
        "model.save_weights(saved_weights_path)\n",
        "print(\"Saved model to disk\")"
      ],
      "metadata": {
        "colab": {
          "base_uri": "https://localhost:8080/"
        },
        "id": "MsVoNhqmgGsK",
        "outputId": "9eb1c8e1-2f87-472f-cd99-d8a1f819d18f"
      },
      "execution_count": 19,
      "outputs": [
        {
          "output_type": "stream",
          "name": "stdout",
          "text": [
            "Saved model to disk\n"
          ]
        }
      ]
    },
    {
      "cell_type": "code",
      "source": [
        "# Reading the model from JSON file\n",
        "#model_path = Ravdess + \"/model/\"\n",
        "#saved_model_path = model_path + 'model8723.json'\n",
        "#saved_weights_path = model_path + 'model8723_weights.h5'\n",
        "\n",
        "\n",
        "with open(saved_model_path , 'r') as json_file:\n",
        "    json_savedModel = json_file.read()\n",
        "    \n",
        "# Loading the model architecture, weights\n",
        "model = tf.keras.models.model_from_json(json_savedModel)\n",
        "model.load_weights(saved_weights_path)\n",
        "\n",
        "# Compiling the model with similar parameters as the original model.\n",
        "model.compile(loss='categorical_crossentropy', \n",
        "                optimizer='RMSProp', \n",
        "                metrics=['categorical_accuracy'])\n",
        "\n",
        "# Model's structure visualization\n",
        "tf.keras.utils.plot_model(model, to_file='model.png', show_shapes=True, show_layer_names=True)"
      ],
      "metadata": {
        "colab": {
          "base_uri": "https://localhost:8080/",
          "height": 0
        },
        "id": "y4OJGhLmgfX6",
        "outputId": "9d0771fd-8280-4cca-c9d8-940d24ffd694"
      },
      "execution_count": 20,
      "outputs": [
        {
          "output_type": "execute_result",
          "data": {
            "text/plain": [
              "<IPython.core.display.Image object>"
            ],
            "image/png": "[encoded data removed]"
          },
          "metadata": {},
          "execution_count": 20
        }
      ]
    },
    {
      "cell_type": "code",
      "source": [
        ""
      ],
      "metadata": {
        "id": "B_SW6eUAgvEj"
      },
      "execution_count": 20,
      "outputs": []
    },
    {
      "cell_type": "code",
      "source": [
        ""
      ],
      "metadata": {
        "id": "cCfkUXTYgzSB"
      },
      "execution_count": 20,
      "outputs": []
    },
    {
      "cell_type": "code",
      "source": [
        "model.save(saved_model_path_2)"
      ],
      "metadata": {
        "trusted": true,
        "id": "Z5Uzb_bGKixE"
      },
      "execution_count": 21,
      "outputs": []
    },
    {
      "cell_type": "markdown",
      "source": [
        "## Train (fit) Visualization"
      ],
      "metadata": {
        "id": "ATvBW0SPO-eq"
      }
    },
    {
      "cell_type": "code",
      "source": [
        "# Loss, Accuracy presentation\n",
        "\n",
        "# Plot history: Loss\n",
        "plt.plot(history.history['loss'], label='Loss (training data)')\n",
        "plt.plot(history.history['val_loss'], label='Loss (validation data)')\n",
        "plt.title('Loss for train and validation')\n",
        "plt.ylabel('Loss value')\n",
        "plt.xlabel('No. epoch')\n",
        "plt.legend(loc=\"upper left\")\n",
        "plt.show()\n",
        "\n",
        "#Plot history: Accuracy\n",
        "plt.plot(history.history['categorical_accuracy'], label='Acc (training data)')\n",
        "plt.plot(history.history['val_categorical_accuracy'], label='Acc (validation data)')\n",
        "plt.title('Model accuracy')\n",
        "plt.ylabel('Acc %')\n",
        "plt.xlabel('No. epoch')\n",
        "plt.legend(loc=\"upper left\")\n",
        "plt.show()"
      ],
      "metadata": {
        "colab": {
          "base_uri": "https://localhost:8080/",
          "height": 573
        },
        "id": "UjhUHhU_f4EY",
        "outputId": "2a526846-b0dc-4c3d-8513-a9c3ecea2f88"
      },
      "execution_count": 22,
      "outputs": [
        {
          "output_type": "display_data",
          "data": {
            "text/plain": [
              "<Figure size 432x288 with 1 Axes>"
            ],
            "image/png": "[encoded data removed]"
          },
          "metadata": {
            "needs_background": "light"
          }
        },
        {
          "output_type": "display_data",
          "data": {
            "text/plain": [
              "<Figure size 432x288 with 1 Axes>"
            ],
            "image/png": "[encoded data removed]"
          },
          "metadata": {
            "needs_background": "light"
          }
        }
      ]
    },
    {
      "cell_type": "markdown",
      "source": [
        "## Validation Set Evaluation"
      ],
      "metadata": {
        "id": "UZ3lFduxPQeB"
      }
    },
    {
      "cell_type": "markdown",
      "source": [
        "### Val Set Score"
      ],
      "metadata": {
        "id": "5YoYCa22PMGz"
      }
    },
    {
      "cell_type": "code",
      "source": [
        ""
      ],
      "metadata": {
        "id": "jQavrzbB_8fy"
      },
      "execution_count": 22,
      "outputs": []
    },
    {
      "cell_type": "code",
      "source": [
        "# Validation score\n",
        "loss,acc = model.evaluate(x_val, y_val_class, verbose=2)\n"
      ],
      "metadata": {
        "id": "X_KdTUyrf7-j",
        "colab": {
          "base_uri": "https://localhost:8080/"
        },
        "outputId": "a0fa6501-03fd-4083-df69-9dd34f21b3fb"
      },
      "execution_count": 23,
      "outputs": [
        {
          "output_type": "stream",
          "name": "stdout",
          "text": [
            "7/7 - 2s - loss: 1.4885 - categorical_accuracy: 0.5305 - 2s/epoch - 292ms/step\n"
          ]
        }
      ]
    },
    {
      "cell_type": "code",
      "source": [
        ""
      ],
      "metadata": {
        "id": "09k_I9DM_2Q0"
      },
      "execution_count": 23,
      "outputs": []
    },
    {
      "cell_type": "markdown",
      "source": [
        "### Construct Predicted Labels based on Probability of each class"
      ],
      "metadata": {
        "id": "hz7nc15A_3hb"
      }
    },
    {
      "cell_type": "code",
      "source": [
        "y_val_class"
      ],
      "metadata": {
        "colab": {
          "base_uri": "https://localhost:8080/"
        },
        "id": "CFM1P2SZ_85N",
        "outputId": "1086deba-bc6a-4fe9-8b2c-284aaee319de"
      },
      "execution_count": 24,
      "outputs": [
        {
          "output_type": "execute_result",
          "data": {
            "text/plain": [
              "array([[0, 0, 0, ..., 1, 0, 0],\n",
              "       [0, 0, 0, ..., 1, 0, 0],\n",
              "       [0, 0, 1, ..., 0, 0, 0],\n",
              "       ...,\n",
              "       [1, 0, 0, ..., 0, 0, 0],\n",
              "       [0, 0, 1, ..., 0, 0, 0],\n",
              "       [0, 0, 0, ..., 0, 0, 0]], dtype=int8)"
            ]
          },
          "metadata": {},
          "execution_count": 24
        }
      ]
    },
    {
      "cell_type": "code",
      "source": [
        "np.argmax(y_val_class, axis=1)"
      ],
      "metadata": {
        "colab": {
          "base_uri": "https://localhost:8080/"
        },
        "id": "C9UHSeXbAASy",
        "outputId": "1f4baae3-0b0e-4e96-a65c-f871aec5959a"
      },
      "execution_count": 25,
      "outputs": [
        {
          "output_type": "execute_result",
          "data": {
            "text/plain": [
              "array([5, 5, 2, 4, 4, 5, 3, 5, 1, 7, 1, 6, 1, 0, 3, 5, 4, 5, 0, 4, 4, 7,\n",
              "       3, 5, 5, 3, 4, 7, 6, 3, 1, 4, 1, 4, 3, 4, 5, 0, 1, 3, 3, 6, 2, 3,\n",
              "       3, 4, 3, 4, 5, 1, 2, 2, 2, 3, 1, 3, 5, 3, 5, 6, 2, 1, 5, 0, 3, 2,\n",
              "       1, 7, 3, 2, 0, 5, 1, 5, 2, 1, 7, 7, 3, 4, 0, 5, 4, 3, 0, 6, 5, 2,\n",
              "       2, 7, 3, 1, 1, 2, 4, 4, 1, 5, 6, 3, 2, 2, 2, 4, 5, 7, 5, 6, 1, 4,\n",
              "       2, 2, 6, 1, 2, 3, 2, 3, 4, 4, 6, 4, 5, 4, 6, 0, 5, 7, 2, 7, 0, 2,\n",
              "       7, 1, 4, 4, 1, 1, 1, 2, 5, 3, 2, 2, 0, 6, 4, 6, 1, 4, 7, 2, 3, 2,\n",
              "       3, 2, 4, 2, 4, 6, 5, 2, 4, 4, 4, 7, 4, 2, 4, 3, 6, 3, 0, 5, 3, 0,\n",
              "       1, 1, 4, 4, 2, 5, 2, 7, 5, 4, 3, 4, 0, 5, 4, 2, 6, 2, 2, 3, 2, 3,\n",
              "       5, 6, 3, 2, 4, 6, 2, 5, 3, 0, 2, 4, 0, 2, 4])"
            ]
          },
          "metadata": {},
          "execution_count": 25
        }
      ]
    },
    {
      "cell_type": "code",
      "source": [
        "y_val_class = np.argmax(y_val_class, axis=1)\n",
        "predictions_val = model.predict(x_val)\n",
        "y_proba_val_class = predictions_val\n",
        "y_pred_val_class = np.argmax(predictions_val, axis=1)"
      ],
      "metadata": {
        "id": "urjydD-38JK7"
      },
      "execution_count": 26,
      "outputs": []
    },
    {
      "cell_type": "code",
      "source": [
        "predictions_val\n"
      ],
      "metadata": {
        "colab": {
          "base_uri": "https://localhost:8080/"
        },
        "id": "Zb7dGRs3AEJn",
        "outputId": "082545f6-1177-495c-ad27-5f49c67d5009"
      },
      "execution_count": 27,
      "outputs": [
        {
          "output_type": "execute_result",
          "data": {
            "text/plain": [
              "array([[2.0925263e-01, 9.2865117e-03, 3.7164977e-01, ..., 5.1191926e-02,\n",
              "        2.6906418e-04, 2.3462893e-03],\n",
              "       [3.4103712e-01, 4.5492672e-03, 3.2884467e-01, ..., 1.3304190e-01,\n",
              "        6.9172362e-05, 1.0370548e-03],\n",
              "       [1.1046283e-02, 2.8292037e-04, 9.2654932e-01, ..., 8.8446483e-04,\n",
              "        1.9409150e-04, 4.1793734e-02],\n",
              "       ...,\n",
              "       [4.6080571e-02, 2.0585837e-02, 7.4065812e-02, ..., 1.0508231e-01,\n",
              "        2.4155198e-01, 3.0732496e-02],\n",
              "       [8.0634085e-03, 3.0605434e-04, 9.8436350e-01, ..., 6.4954604e-04,\n",
              "        6.2822568e-05, 1.8898110e-03],\n",
              "       [8.2500104e-04, 8.1638701e-04, 3.1911564e-01, ..., 1.2394207e-02,\n",
              "        1.2102163e-02, 6.7096264e-03]], dtype=float32)"
            ]
          },
          "metadata": {},
          "execution_count": 27
        }
      ]
    },
    {
      "cell_type": "code",
      "source": [
        "y_pred_val_class "
      ],
      "metadata": {
        "colab": {
          "base_uri": "https://localhost:8080/"
        },
        "id": "KxHa1Ss1AJo4",
        "outputId": "a1e2114b-24fe-43fa-ab81-9d60538b5943"
      },
      "execution_count": 28,
      "outputs": [
        {
          "output_type": "execute_result",
          "data": {
            "text/plain": [
              "array([2, 0, 2, 2, 4, 0, 5, 3, 1, 7, 3, 6, 1, 3, 5, 6, 1, 6, 0, 4, 4, 4,\n",
              "       3, 5, 5, 4, 4, 2, 2, 7, 6, 7, 2, 4, 3, 4, 1, 0, 3, 5, 0, 6, 0, 3,\n",
              "       3, 4, 6, 4, 3, 0, 2, 7, 1, 5, 1, 4, 7, 2, 6, 6, 2, 1, 7, 3, 3, 2,\n",
              "       1, 7, 5, 2, 6, 5, 2, 5, 2, 6, 7, 7, 4, 2, 0, 4, 7, 2, 0, 7, 7, 5,\n",
              "       2, 2, 7, 0, 1, 2, 4, 4, 1, 2, 6, 3, 7, 2, 2, 4, 5, 2, 5, 2, 3, 2,\n",
              "       2, 2, 6, 1, 2, 3, 2, 3, 4, 4, 6, 4, 2, 4, 7, 0, 5, 7, 2, 7, 2, 4,\n",
              "       7, 3, 4, 4, 1, 5, 1, 2, 7, 1, 4, 2, 7, 6, 2, 6, 3, 4, 7, 0, 5, 0,\n",
              "       6, 7, 1, 2, 2, 6, 6, 2, 4, 4, 4, 2, 4, 7, 4, 1, 6, 2, 6, 6, 0, 2,\n",
              "       0, 3, 4, 4, 2, 7, 4, 7, 5, 4, 2, 4, 2, 0, 4, 2, 6, 2, 2, 5, 2, 7,\n",
              "       4, 6, 2, 2, 4, 6, 2, 6, 3, 0, 7, 4, 4, 2, 4])"
            ]
          },
          "metadata": {},
          "execution_count": 28
        }
      ]
    },
    {
      "cell_type": "markdown",
      "source": [
        "### Val Set Confusion Matrix and Heatmap"
      ],
      "metadata": {
        "id": "d2ullxf9PUMd"
      }
    },
    {
      "cell_type": "code",
      "source": [
        "# Validation Confusion matrix\n",
        "cm=confusion_matrix(y_val_class, y_pred_val_class)\n",
        "\n",
        "index = ['neutral', 'calm', 'happy', 'sad', 'angry', 'fearful', 'disgust', 'surprised']  \n",
        "columns = ['neutral', 'calm', 'happy', 'sad', 'angry', 'fearful', 'disgust', 'surprised']  \n",
        " \n",
        "cm_df = pd.DataFrame(cm,index,columns)                      \n",
        "plt.figure(figsize=(12,8))\n",
        "ax = plt.axes()\n",
        "\n",
        "sns.heatmap(cm_df, ax = ax, cmap = 'PuBu', fmt=\"d\", annot=True)\n",
        "ax.set_ylabel('True emotion')\n",
        "ax.set_xlabel('Predicted emotion')"
      ],
      "metadata": {
        "colab": {
          "base_uri": "https://localhost:8080/",
          "height": 0
        },
        "id": "doLcg3CTf9bx",
        "outputId": "7eb1e281-d4e2-45c9-e135-a068eacaf08b"
      },
      "execution_count": 29,
      "outputs": [
        {
          "output_type": "execute_result",
          "data": {
            "text/plain": [
              "Text(0.5, 51.0, 'Predicted emotion')"
            ]
          },
          "metadata": {},
          "execution_count": 29
        },
        {
          "output_type": "display_data",
          "data": {
            "text/plain": [
              "<Figure size 864x576 with 2 Axes>"
            ],
            "image/png": "[encoded data removed]"
          },
          "metadata": {
            "needs_background": "light"
          }
        }
      ]
    },
    {
      "cell_type": "code",
      "source": [
        "# Confusion Matrix\n",
        "cm"
      ],
      "metadata": {
        "colab": {
          "base_uri": "https://localhost:8080/"
        },
        "id": "hIEG9Pia8Nfp",
        "outputId": "206c0510-921b-4a1f-e13a-85c875f1c70f"
      },
      "execution_count": 30,
      "outputs": [
        {
          "output_type": "execute_result",
          "data": {
            "text/plain": [
              "array([[ 6,  0,  3,  2,  1,  0,  2,  1],\n",
              "       [ 3, 10,  2,  6,  0,  1,  2,  0],\n",
              "       [ 3,  1, 27,  0,  3,  1,  0,  5],\n",
              "       [ 2,  2,  5,  9,  3,  7,  2,  3],\n",
              "       [ 0,  2,  5,  0, 31,  0,  0,  2],\n",
              "       [ 3,  1,  3,  2,  2,  8,  6,  5],\n",
              "       [ 0,  0,  2,  0,  0,  0, 13,  2],\n",
              "       [ 0,  0,  4,  0,  1,  0,  0,  9]])"
            ]
          },
          "metadata": {},
          "execution_count": 30
        }
      ]
    },
    {
      "cell_type": "markdown",
      "source": [
        "### Validation Set Predicted emotions accuracy"
      ],
      "metadata": {
        "id": "kWjKgUdRPYH5"
      }
    },
    {
      "cell_type": "code",
      "source": [
        "# Validation set prediction accuracy rates\n",
        "\n",
        "values = cm.diagonal()\n",
        "row_sum = np.sum(cm,axis=1)\n",
        "acc = values / row_sum\n",
        "\n",
        "print('Validation set predicted emotions accuracy:')\n",
        "for e in range(0, len(values)):\n",
        "    print(index[e],':', f\"{(acc[e]):0.4f}\")"
      ],
      "metadata": {
        "colab": {
          "base_uri": "https://localhost:8080/"
        },
        "id": "MopdywY9f-mS",
        "outputId": "73b32387-4549-4d73-f9ca-f660c8ff0ace"
      },
      "execution_count": 31,
      "outputs": [
        {
          "output_type": "stream",
          "name": "stdout",
          "text": [
            "Validation set predicted emotions accuracy:\n",
            "neutral : 0.4000\n",
            "calm : 0.4167\n",
            "happy : 0.6750\n",
            "sad : 0.2727\n",
            "angry : 0.7750\n",
            "fearful : 0.2667\n",
            "disgust : 0.7647\n",
            "surprised : 0.6429\n"
          ]
        }
      ]
    },
    {
      "cell_type": "markdown",
      "source": [
        "### Precision, Recal, Fscore"
      ],
      "metadata": {
        "id": "DGSTy2228XRH"
      }
    },
    {
      "cell_type": "code",
      "source": [
        "# Validation set precision, recall, fscore\n",
        "\n",
        "precision_recall_fscore_support(y_val_class, y_pred_val_class, average='macro')\n"
      ],
      "metadata": {
        "colab": {
          "base_uri": "https://localhost:8080/"
        },
        "id": "rOwUkCG0gGpm",
        "outputId": "a7d8e8be-317b-4824-eb38-dd07ba2cb678"
      },
      "execution_count": 32,
      "outputs": [
        {
          "output_type": "execute_result",
          "data": {
            "text/plain": [
              "(0.5076320351632309, 0.5267029539088363, 0.49731125994153585, None)"
            ]
          },
          "metadata": {},
          "execution_count": 32
        }
      ]
    },
    {
      "cell_type": "code",
      "source": [
        "precision_recall_fscore_support(y_val_class, y_pred_val_class, average='weighted')"
      ],
      "metadata": {
        "colab": {
          "base_uri": "https://localhost:8080/"
        },
        "id": "OorFgXxDzy3o",
        "outputId": "96c130de-0ce3-47c4-ab87-f5fe122af383"
      },
      "execution_count": 33,
      "outputs": [
        {
          "output_type": "execute_result",
          "data": {
            "text/plain": [
              "(0.5397670579679676, 0.5305164319248826, 0.5177678007259574, None)"
            ]
          },
          "metadata": {},
          "execution_count": 33
        }
      ]
    },
    {
      "cell_type": "markdown",
      "source": [
        "## Test Set Evaluation"
      ],
      "metadata": {
        "id": "FiCwOjmPPgCn"
      }
    },
    {
      "cell_type": "markdown",
      "source": [
        "### Test Set Score\n",
        "\n"
      ],
      "metadata": {
        "id": "CWB7U5xDUSmF"
      }
    },
    {
      "cell_type": "code",
      "source": [
        "loss, acc = model.evaluate(x_test, y_test_class, verbose=2)"
      ],
      "metadata": {
        "id": "Y7NEHPM-gzml",
        "colab": {
          "base_uri": "https://localhost:8080/"
        },
        "outputId": "3f90f77e-f2d6-4998-b1f0-87448d58efe5"
      },
      "execution_count": 34,
      "outputs": [
        {
          "output_type": "stream",
          "name": "stdout",
          "text": [
            "3/3 - 0s - loss: 1.4587 - categorical_accuracy: 0.5213 - 492ms/epoch - 164ms/step\n"
          ]
        }
      ]
    },
    {
      "cell_type": "markdown",
      "source": [
        "### Construct Predicted Labels based on Probability of each class"
      ],
      "metadata": {
        "id": "gPwcFV9oAhGh"
      }
    },
    {
      "cell_type": "code",
      "source": [
        "y_test_class"
      ],
      "metadata": {
        "colab": {
          "base_uri": "https://localhost:8080/"
        },
        "id": "tjN7Eit7AiML",
        "outputId": "5d41bd83-d907-4215-feee-170e7c49ce5e"
      },
      "execution_count": 35,
      "outputs": [
        {
          "output_type": "execute_result",
          "data": {
            "text/plain": [
              "array([[0, 0, 1, 0, 0, 0, 0, 0],\n",
              "       [0, 0, 1, 0, 0, 0, 0, 0],\n",
              "       [0, 0, 1, 0, 0, 0, 0, 0],\n",
              "       [1, 0, 0, 0, 0, 0, 0, 0],\n",
              "       [0, 0, 0, 0, 1, 0, 0, 0],\n",
              "       [0, 0, 0, 0, 0, 0, 1, 0],\n",
              "       [0, 0, 1, 0, 0, 0, 0, 0],\n",
              "       [1, 0, 0, 0, 0, 0, 0, 0],\n",
              "       [0, 0, 0, 0, 0, 1, 0, 0],\n",
              "       [1, 0, 0, 0, 0, 0, 0, 0],\n",
              "       [0, 0, 0, 1, 0, 0, 0, 0],\n",
              "       [0, 0, 0, 0, 0, 1, 0, 0],\n",
              "       [0, 0, 0, 0, 1, 0, 0, 0],\n",
              "       [0, 1, 0, 0, 0, 0, 0, 0],\n",
              "       [0, 0, 0, 0, 0, 0, 1, 0],\n",
              "       [0, 0, 0, 0, 1, 0, 0, 0],\n",
              "       [0, 0, 0, 1, 0, 0, 0, 0],\n",
              "       [0, 0, 0, 0, 0, 1, 0, 0],\n",
              "       [0, 0, 0, 0, 1, 0, 0, 0],\n",
              "       [0, 0, 0, 0, 0, 1, 0, 0],\n",
              "       [0, 0, 0, 0, 0, 0, 0, 1],\n",
              "       [0, 1, 0, 0, 0, 0, 0, 0],\n",
              "       [0, 0, 0, 0, 0, 0, 0, 1],\n",
              "       [0, 1, 0, 0, 0, 0, 0, 0],\n",
              "       [0, 0, 1, 0, 0, 0, 0, 0],\n",
              "       [0, 0, 0, 0, 0, 1, 0, 0],\n",
              "       [0, 0, 0, 0, 1, 0, 0, 0],\n",
              "       [0, 0, 0, 0, 0, 1, 0, 0],\n",
              "       [0, 0, 0, 0, 1, 0, 0, 0],\n",
              "       [0, 1, 0, 0, 0, 0, 0, 0],\n",
              "       [0, 0, 1, 0, 0, 0, 0, 0],\n",
              "       [0, 1, 0, 0, 0, 0, 0, 0],\n",
              "       [0, 0, 0, 1, 0, 0, 0, 0],\n",
              "       [0, 0, 0, 1, 0, 0, 0, 0],\n",
              "       [0, 0, 0, 1, 0, 0, 0, 0],\n",
              "       [0, 0, 0, 1, 0, 0, 0, 0],\n",
              "       [0, 0, 0, 1, 0, 0, 0, 0],\n",
              "       [0, 0, 0, 1, 0, 0, 0, 0],\n",
              "       [0, 0, 0, 0, 0, 1, 0, 0],\n",
              "       [0, 1, 0, 0, 0, 0, 0, 0],\n",
              "       [0, 0, 0, 0, 0, 1, 0, 0],\n",
              "       [0, 0, 1, 0, 0, 0, 0, 0],\n",
              "       [0, 1, 0, 0, 0, 0, 0, 0],\n",
              "       [0, 0, 0, 0, 0, 0, 1, 0],\n",
              "       [0, 0, 1, 0, 0, 0, 0, 0],\n",
              "       [0, 1, 0, 0, 0, 0, 0, 0],\n",
              "       [0, 0, 0, 1, 0, 0, 0, 0],\n",
              "       [0, 0, 0, 0, 0, 0, 1, 0],\n",
              "       [0, 1, 0, 0, 0, 0, 0, 0],\n",
              "       [0, 0, 0, 0, 0, 1, 0, 0],\n",
              "       [0, 0, 0, 0, 0, 0, 1, 0],\n",
              "       [0, 0, 0, 0, 0, 0, 0, 1],\n",
              "       [0, 0, 0, 0, 1, 0, 0, 0],\n",
              "       [0, 0, 1, 0, 0, 0, 0, 0],\n",
              "       [0, 0, 0, 0, 0, 0, 1, 0],\n",
              "       [0, 0, 0, 0, 1, 0, 0, 0],\n",
              "       [0, 0, 0, 0, 1, 0, 0, 0],\n",
              "       [0, 0, 0, 0, 0, 1, 0, 0],\n",
              "       [0, 0, 0, 0, 1, 0, 0, 0],\n",
              "       [0, 0, 0, 0, 1, 0, 0, 0],\n",
              "       [0, 0, 1, 0, 0, 0, 0, 0],\n",
              "       [0, 0, 0, 1, 0, 0, 0, 0],\n",
              "       [0, 1, 0, 0, 0, 0, 0, 0],\n",
              "       [0, 0, 0, 0, 0, 0, 0, 1],\n",
              "       [0, 0, 0, 0, 0, 0, 0, 1],\n",
              "       [0, 1, 0, 0, 0, 0, 0, 0],\n",
              "       [0, 0, 0, 0, 0, 0, 1, 0],\n",
              "       [0, 0, 0, 0, 1, 0, 0, 0],\n",
              "       [0, 0, 0, 1, 0, 0, 0, 0],\n",
              "       [0, 0, 0, 0, 0, 0, 0, 1],\n",
              "       [0, 0, 0, 0, 0, 0, 1, 0],\n",
              "       [0, 0, 1, 0, 0, 0, 0, 0],\n",
              "       [0, 0, 0, 0, 1, 0, 0, 0],\n",
              "       [0, 0, 0, 0, 0, 0, 1, 0],\n",
              "       [0, 1, 0, 0, 0, 0, 0, 0],\n",
              "       [1, 0, 0, 0, 0, 0, 0, 0],\n",
              "       [0, 1, 0, 0, 0, 0, 0, 0],\n",
              "       [0, 0, 1, 0, 0, 0, 0, 0],\n",
              "       [0, 0, 0, 0, 1, 0, 0, 0],\n",
              "       [0, 0, 0, 0, 0, 1, 0, 0],\n",
              "       [0, 0, 0, 0, 1, 0, 0, 0],\n",
              "       [0, 0, 0, 1, 0, 0, 0, 0],\n",
              "       [0, 1, 0, 0, 0, 0, 0, 0],\n",
              "       [0, 0, 0, 0, 1, 0, 0, 0],\n",
              "       [0, 0, 0, 1, 0, 0, 0, 0],\n",
              "       [0, 0, 0, 0, 0, 0, 1, 0],\n",
              "       [0, 0, 0, 0, 0, 0, 0, 1],\n",
              "       [0, 0, 0, 0, 0, 0, 0, 1],\n",
              "       [0, 0, 0, 0, 0, 1, 0, 0],\n",
              "       [0, 0, 0, 0, 0, 0, 0, 1],\n",
              "       [0, 1, 0, 0, 0, 0, 0, 0],\n",
              "       [0, 0, 1, 0, 0, 0, 0, 0],\n",
              "       [0, 1, 0, 0, 0, 0, 0, 0],\n",
              "       [0, 0, 0, 0, 1, 0, 0, 0]], dtype=int8)"
            ]
          },
          "metadata": {},
          "execution_count": 35
        }
      ]
    },
    {
      "cell_type": "code",
      "source": [
        " np.argmax(y_test_class, axis=1)"
      ],
      "metadata": {
        "colab": {
          "base_uri": "https://localhost:8080/"
        },
        "id": "2fcK-_HzAmc5",
        "outputId": "d887e1ca-8d4b-4eed-8a17-99419bd0005e"
      },
      "execution_count": 36,
      "outputs": [
        {
          "output_type": "execute_result",
          "data": {
            "text/plain": [
              "array([2, 2, 2, 0, 4, 6, 2, 0, 5, 0, 3, 5, 4, 1, 6, 4, 3, 5, 4, 5, 7, 1,\n",
              "       7, 1, 2, 5, 4, 5, 4, 1, 2, 1, 3, 3, 3, 3, 3, 3, 5, 1, 5, 2, 1, 6,\n",
              "       2, 1, 3, 6, 1, 5, 6, 7, 4, 2, 6, 4, 4, 5, 4, 4, 2, 3, 1, 7, 7, 1,\n",
              "       6, 4, 3, 7, 6, 2, 4, 6, 1, 0, 1, 2, 4, 5, 4, 3, 1, 4, 3, 6, 7, 7,\n",
              "       5, 7, 1, 2, 1, 4])"
            ]
          },
          "metadata": {},
          "execution_count": 36
        }
      ]
    },
    {
      "cell_type": "code",
      "source": [
        "y_test_class = np.argmax(y_test_class, axis=1)\n",
        "predictions_test = model.predict(x_test)\n",
        "y_pred_test_class = np.argmax(predictions_test, axis=1)\n",
        "y_proba_test_class = predictions_test\n",
        "\n"
      ],
      "metadata": {
        "id": "uyXvoU2rAckI"
      },
      "execution_count": 37,
      "outputs": []
    },
    {
      "cell_type": "code",
      "source": [
        "predictions_test"
      ],
      "metadata": {
        "colab": {
          "base_uri": "https://localhost:8080/"
        },
        "id": "3BAOUaPwAtuY",
        "outputId": "7dbee5b9-5872-444b-e1ba-9b23cc6994dc"
      },
      "execution_count": 38,
      "outputs": [
        {
          "output_type": "execute_result",
          "data": {
            "text/plain": [
              "array([[6.58356905e-01, 1.15105674e-01, 1.34180620e-01, 5.34581020e-02,\n",
              "        3.21964500e-04, 1.57060996e-02, 2.71015422e-04, 2.25996170e-02],\n",
              "       [6.39760271e-02, 1.55808851e-01, 7.68745780e-01, 9.18146875e-03,\n",
              "        1.48418068e-04, 1.86738861e-03, 7.66825451e-06, 2.64427887e-04],\n",
              "       [7.31881300e-04, 1.67908613e-04, 8.74792278e-01, 3.17169761e-04,\n",
              "        1.02706842e-01, 7.26191979e-03, 5.31648402e-04, 1.34904599e-02],\n",
              "       [7.01427639e-01, 1.49137616e-01, 4.66642529e-03, 1.27491549e-01,\n",
              "        1.08912260e-04, 1.31973512e-02, 2.75434257e-04, 3.69510427e-03],\n",
              "       [2.02752184e-04, 5.66071640e-06, 1.48022905e-01, 5.15061081e-04,\n",
              "        6.99435696e-02, 1.23690497e-02, 4.06754622e-03, 7.64873505e-01],\n",
              "       [9.56249598e-04, 2.34365300e-03, 6.32667616e-02, 1.42012080e-02,\n",
              "        2.25756615e-01, 4.43136878e-03, 6.14329696e-01, 7.47144669e-02],\n",
              "       [3.24961788e-04, 3.41657200e-04, 5.38343564e-02, 4.27882373e-02,\n",
              "        5.10892309e-02, 8.40220213e-01, 9.93439835e-03, 1.46694086e-03],\n",
              "       [2.28138834e-01, 1.06544970e-02, 3.27188559e-02, 6.33954227e-01,\n",
              "        6.75436947e-03, 8.20021853e-02, 1.11957523e-03, 4.65753535e-03],\n",
              "       [1.08505483e-03, 1.49899599e-04, 6.42905943e-03, 5.67590632e-03,\n",
              "        3.09189619e-03, 7.39846528e-01, 8.09846562e-04, 2.42911771e-01],\n",
              "       [2.13921726e-01, 5.51107705e-01, 2.09818617e-01, 1.35876974e-02,\n",
              "        4.92925476e-03, 5.84487664e-03, 2.54882943e-05, 7.64614961e-04],\n",
              "       [4.39846873e-01, 7.94870332e-02, 3.03097486e-01, 1.45697147e-01,\n",
              "        3.68049787e-03, 2.80415751e-02, 1.59713745e-05, 1.33495792e-04],\n",
              "       [2.08123922e-04, 1.29854843e-05, 6.90838695e-02, 2.34021759e-03,\n",
              "        9.15162563e-01, 7.81338289e-03, 1.35466980e-03, 4.02415264e-03],\n",
              "       [1.76817155e-03, 8.65114853e-04, 1.62042528e-02, 1.20940562e-02,\n",
              "        3.10754538e-01, 1.68919345e-04, 6.29904211e-01, 2.82407682e-02],\n",
              "       [4.72490080e-02, 3.25223804e-01, 1.72656011e-02, 5.40377080e-01,\n",
              "        3.74414463e-04, 5.89089990e-02, 6.03856938e-03, 4.56252415e-03],\n",
              "       [1.25899460e-05, 7.30552856e-05, 4.42326476e-04, 1.09243405e-03,\n",
              "        7.13571813e-03, 6.80423691e-05, 9.90523517e-01, 6.52325514e-04],\n",
              "       [2.77309940e-04, 1.82593049e-05, 5.61346523e-02, 3.59905744e-03,\n",
              "        8.77175093e-01, 5.45712828e-04, 5.90922497e-02, 3.15765548e-03],\n",
              "       [7.23749101e-02, 8.62666173e-04, 8.24358761e-01, 1.97957158e-02,\n",
              "        1.17668109e-02, 3.82223539e-02, 2.87987525e-04, 3.23307626e-02],\n",
              "       [1.69247165e-02, 8.08644760e-03, 2.10078076e-01, 1.57530919e-01,\n",
              "        1.50178699e-02, 5.90987325e-01, 1.37729294e-04, 1.23686786e-03],\n",
              "       [6.88964617e-04, 1.92324042e-05, 2.34631971e-01, 6.56302727e-04,\n",
              "        1.99287489e-01, 2.02674754e-02, 3.11447494e-03, 5.41334152e-01],\n",
              "       [2.99759991e-02, 4.66207182e-03, 8.91266286e-01, 4.32355748e-03,\n",
              "        8.55735911e-04, 1.14664633e-03, 5.24807780e-04, 6.72449544e-02],\n",
              "       [5.13565901e-04, 5.44155664e-05, 3.65454294e-02, 4.83876414e-04,\n",
              "        1.32634223e-01, 1.52820151e-03, 1.47586823e-01, 6.80653453e-01],\n",
              "       [5.69376163e-03, 1.31538734e-02, 9.53771710e-01, 1.09925065e-02,\n",
              "        1.26694841e-03, 1.37223387e-02, 3.95172799e-04, 1.00366049e-03],\n",
              "       [8.26267642e-04, 2.09862683e-05, 5.55777224e-03, 1.31981866e-03,\n",
              "        4.81653251e-02, 6.47974899e-03, 2.82883877e-03, 9.34801102e-01],\n",
              "       [1.52369842e-01, 7.78644234e-02, 7.59118319e-01, 6.75046956e-03,\n",
              "        2.86291586e-04, 2.55319104e-03, 5.27829252e-06, 1.05218135e-03],\n",
              "       [1.50631662e-04, 2.91602773e-04, 5.44594824e-01, 1.42399047e-03,\n",
              "        4.02638316e-01, 5.75148594e-03, 4.05525640e-02, 4.59659239e-03],\n",
              "       [3.33107379e-03, 7.59714283e-04, 1.42764106e-01, 1.31197900e-01,\n",
              "        9.14264005e-03, 6.98242664e-01, 6.72544120e-03, 7.83650484e-03],\n",
              "       [3.20959633e-04, 1.76152098e-05, 2.06266213e-02, 2.51902104e-03,\n",
              "        9.12042439e-01, 3.37711815e-03, 4.46088333e-03, 5.66353090e-02],\n",
              "       [1.09616211e-02, 7.80258619e-04, 9.40560162e-01, 1.38773704e-02,\n",
              "        1.48086427e-02, 1.88845750e-02, 5.61163979e-05, 7.12507463e-05],\n",
              "       [2.74225109e-04, 4.67382168e-04, 1.58680350e-01, 9.29335970e-03,\n",
              "        7.69622684e-01, 5.21758862e-04, 5.98542616e-02, 1.28598453e-03],\n",
              "       [1.40760338e-03, 9.66849208e-01, 2.57120730e-04, 3.08447517e-02,\n",
              "        2.53560029e-05, 5.82601315e-05, 5.56354295e-04, 1.41103931e-06],\n",
              "       [2.26736558e-03, 1.13205402e-04, 9.62291420e-01, 1.49467553e-03,\n",
              "        2.61060661e-03, 2.47067697e-02, 2.04232958e-04, 6.31177286e-03],\n",
              "       [8.77834484e-02, 1.52982920e-01, 2.42985129e-01, 9.92615297e-02,\n",
              "        5.48439380e-03, 1.23878844e-01, 8.08449695e-04, 2.86815286e-01],\n",
              "       [1.32723211e-03, 2.43134191e-03, 3.35362367e-02, 8.47653449e-02,\n",
              "        7.90253878e-02, 2.87611872e-01, 4.92412060e-01, 1.88904312e-02],\n",
              "       [5.22496225e-03, 2.51569241e-01, 9.65320393e-02, 3.51613164e-01,\n",
              "        1.26729729e-02, 2.34629074e-03, 2.76508868e-01, 3.53252841e-03],\n",
              "       [2.00657989e-04, 8.00446980e-03, 2.41831061e-03, 6.53215468e-01,\n",
              "        1.74194179e-03, 2.43224382e-01, 8.81366134e-02, 3.05824121e-03],\n",
              "       [4.31838855e-02, 3.87746021e-02, 1.34117873e-02, 8.82656276e-01,\n",
              "        2.16791686e-03, 1.53353401e-02, 1.56397792e-03, 2.90625473e-03],\n",
              "       [1.28929421e-01, 7.91309714e-01, 5.34264231e-03, 7.00194240e-02,\n",
              "        8.79365834e-05, 1.55931979e-03, 2.40086881e-03, 3.50714312e-04],\n",
              "       [4.39330861e-02, 9.69818607e-03, 1.72041240e-03, 9.23310280e-01,\n",
              "        1.11764600e-03, 2.00834647e-02, 8.95840494e-05, 4.73011678e-05],\n",
              "       [2.42663529e-02, 8.54654703e-03, 9.29117084e-01, 8.98663420e-03,\n",
              "        3.25161126e-03, 2.54610591e-02, 1.70795847e-05, 3.53642681e-04],\n",
              "       [1.29290953e-01, 7.77849317e-01, 8.36030766e-02, 7.17485510e-03,\n",
              "        1.99437854e-04, 1.41364359e-03, 1.73659973e-05, 4.51413071e-04],\n",
              "       [5.42216003e-04, 8.93803313e-03, 1.64662506e-02, 1.50132254e-01,\n",
              "        4.84150834e-03, 2.79605150e-01, 4.34896350e-01, 1.04578234e-01],\n",
              "       [2.78911873e-04, 1.77609734e-04, 2.17933819e-01, 5.73735670e-05,\n",
              "        9.61205456e-04, 8.76426988e-04, 2.07503070e-03, 7.77639627e-01],\n",
              "       [8.82089138e-04, 1.31823450e-01, 1.82527420e-03, 1.19155295e-01,\n",
              "        2.80655711e-03, 1.41343183e-03, 7.36805141e-01, 5.28876390e-03],\n",
              "       [3.56390228e-06, 2.69888609e-04, 7.14133785e-05, 1.90454128e-03,\n",
              "        1.21433325e-02, 3.22310789e-03, 9.82185185e-01, 1.98916299e-04],\n",
              "       [1.02010489e-01, 1.97924562e-02, 3.66921484e-01, 6.97835907e-03,\n",
              "        5.11095452e-04, 2.46942043e-03, 4.60075820e-03, 4.96715873e-01],\n",
              "       [1.77351013e-02, 1.83711257e-02, 9.55423534e-01, 2.95821461e-03,\n",
              "        3.80450068e-03, 1.50158058e-03, 3.21247753e-05, 1.73873210e-04],\n",
              "       [1.73219875e-01, 3.01432814e-02, 1.16556427e-02, 5.04545927e-01,\n",
              "        7.43224984e-04, 2.75097221e-01, 7.25009129e-04, 3.86968860e-03],\n",
              "       [2.22984386e-06, 5.09932506e-05, 4.03219427e-04, 1.90284359e-03,\n",
              "        1.24004513e-01, 2.94931728e-04, 8.73131275e-01, 2.09894002e-04],\n",
              "       [1.86405987e-01, 3.06714028e-01, 2.02013969e-01, 2.13690311e-01,\n",
              "        1.89712888e-03, 3.24278958e-02, 3.13456319e-02, 2.55049597e-02],\n",
              "       [2.04196647e-02, 4.92670515e-04, 7.82537341e-01, 3.94797809e-02,\n",
              "        1.10498564e-02, 1.58378743e-02, 3.13748084e-02, 9.88079682e-02],\n",
              "       [3.20052757e-04, 1.46177277e-04, 8.18296850e-01, 3.94401373e-03,\n",
              "        2.33552996e-02, 1.23679258e-01, 5.80334291e-03, 2.44550630e-02],\n",
              "       [5.56464819e-03, 8.69886790e-05, 5.32428883e-02, 1.76333003e-02,\n",
              "        1.63726080e-02, 1.43709872e-02, 1.29494714e-02, 8.79779160e-01],\n",
              "       [1.39875250e-04, 1.11390524e-04, 2.62215864e-02, 1.99210690e-03,\n",
              "        9.66479063e-01, 3.97033105e-03, 1.03630871e-03, 4.94324959e-05],\n",
              "       [1.55217433e-02, 3.46651301e-02, 9.38328803e-01, 1.85416953e-03,\n",
              "        4.25472826e-04, 1.28188916e-03, 1.25443342e-03, 6.66835159e-03],\n",
              "       [8.87687434e-04, 1.22073383e-04, 8.31838906e-01, 7.69120129e-03,\n",
              "        1.10050060e-01, 3.02575558e-04, 3.56593914e-02, 1.34480773e-02],\n",
              "       [1.65098991e-05, 5.17725039e-06, 1.93338282e-03, 6.51618117e-04,\n",
              "        9.95173275e-01, 1.32957858e-03, 7.97082845e-04, 9.34057025e-05],\n",
              "       [2.48707347e-05, 2.79727479e-04, 5.73319336e-03, 2.48961989e-03,\n",
              "        2.63154656e-01, 1.22085894e-02, 7.14597762e-01, 1.51156168e-03],\n",
              "       [4.07118583e-03, 9.26217251e-03, 8.96009058e-03, 9.61947799e-01,\n",
              "        1.57435751e-03, 1.24307517e-02, 1.74423854e-03, 9.39161055e-06],\n",
              "       [4.17121832e-04, 3.31261981e-05, 8.29487324e-01, 3.97145515e-03,\n",
              "        1.38436884e-01, 1.25930039e-02, 3.72220273e-03, 1.13387853e-02],\n",
              "       [7.16764771e-05, 6.78400829e-06, 2.83652563e-02, 9.32892843e-04,\n",
              "        9.48485732e-01, 1.55064641e-02, 2.09219614e-03, 4.53896634e-03],\n",
              "       [2.62388989e-04, 8.44827882e-05, 4.34044868e-01, 3.17724393e-04,\n",
              "        3.44885774e-02, 7.05673872e-03, 3.48559916e-02, 4.88889247e-01],\n",
              "       [1.86718684e-02, 8.61066222e-01, 1.71557702e-02, 9.43284035e-02,\n",
              "        6.58252102e-05, 4.36796574e-03, 4.09277156e-03, 2.51125341e-04],\n",
              "       [4.56578135e-02, 9.19777572e-01, 4.39876830e-03, 2.76095755e-02,\n",
              "        6.90074557e-06, 2.44045421e-03, 4.95741915e-05, 5.92833276e-05],\n",
              "       [1.20642353e-05, 1.79629526e-04, 8.00252985e-03, 5.73038356e-04,\n",
              "        1.87874176e-02, 2.74501294e-02, 1.23979874e-01, 8.21015358e-01],\n",
              "       [1.32937403e-02, 2.73591536e-03, 4.72882278e-02, 1.53587200e-03,\n",
              "        5.15640364e-04, 5.42454142e-03, 3.15187033e-03, 9.26054180e-01],\n",
              "       [3.47235682e-03, 6.64681017e-01, 1.05799004e-01, 9.18233171e-02,\n",
              "        4.82136384e-02, 7.37226084e-02, 1.16988039e-02, 5.89276082e-04],\n",
              "       [9.63333969e-06, 1.24570029e-03, 1.12068234e-03, 4.81573818e-03,\n",
              "        1.69298938e-03, 3.68036970e-04, 9.90382016e-01, 3.65329121e-04],\n",
              "       [1.25520046e-05, 2.75697850e-04, 1.78769627e-03, 1.36146427e-03,\n",
              "        6.15008622e-02, 1.52657623e-03, 9.26945984e-01, 6.58916077e-03],\n",
              "       [1.78139526e-02, 3.33524525e-01, 8.94611178e-04, 5.56402206e-01,\n",
              "        4.75285109e-03, 8.45394731e-02, 1.56042154e-03, 5.11994702e-04],\n",
              "       [1.68552724e-04, 2.92819004e-06, 2.35140055e-01, 7.66318582e-04,\n",
              "        7.71416500e-02, 3.19160968e-02, 8.32554791e-03, 6.46538854e-01],\n",
              "       [1.47873534e-05, 1.45266516e-04, 4.67674632e-04, 1.46289531e-03,\n",
              "        1.51497619e-02, 5.23756782e-04, 9.79718089e-01, 2.51773116e-03],\n",
              "       [9.89274122e-03, 2.53369391e-04, 6.77822471e-01, 1.39672393e-02,\n",
              "        8.86313766e-02, 1.73250496e-01, 8.76604172e-04, 3.53056677e-02],\n",
              "       [1.02917409e-04, 6.76011769e-05, 1.59870200e-02, 5.44436683e-04,\n",
              "        9.36058015e-02, 1.32710207e-03, 7.07969368e-01, 1.80395737e-01],\n",
              "       [7.53264540e-05, 3.80089390e-04, 3.07604158e-03, 2.91520683e-03,\n",
              "        3.26073378e-01, 5.86653652e-04, 6.64815784e-01, 2.07751058e-03],\n",
              "       [2.88557727e-03, 7.70709366e-02, 1.68239683e-04, 9.17335451e-01,\n",
              "        4.70053856e-05, 2.31644278e-03, 1.70592713e-04, 5.66892868e-06],\n",
              "       [9.37307486e-04, 2.81627144e-04, 9.49821651e-01, 4.35260619e-04,\n",
              "        2.82979477e-02, 2.74850463e-04, 8.31278507e-03, 1.16385845e-02],\n",
              "       [4.50178720e-02, 4.36075777e-02, 8.35283637e-01, 7.59774959e-03,\n",
              "        2.96772551e-03, 1.36030687e-03, 5.07045630e-03, 5.90946712e-02],\n",
              "       [5.16065804e-04, 7.70625076e-04, 1.84174076e-01, 3.80681548e-03,\n",
              "        3.45939726e-01, 4.82737174e-04, 4.53059316e-01, 1.12506393e-02],\n",
              "       [1.05913932e-06, 2.60920970e-05, 1.89389990e-04, 1.30620715e-03,\n",
              "        1.06711097e-01, 6.58708217e-04, 8.89778733e-01, 1.32868707e-03],\n",
              "       [2.59484840e-03, 1.07503645e-02, 3.81010445e-03, 8.76744568e-01,\n",
              "        6.73376024e-03, 4.54322994e-02, 4.80797812e-02, 5.85421827e-03],\n",
              "       [3.32059390e-05, 1.33160183e-05, 4.68010083e-03, 7.48293533e-04,\n",
              "        9.82328594e-01, 9.76142546e-05, 1.18947374e-02, 2.04048716e-04],\n",
              "       [2.08828300e-02, 2.39892602e-02, 3.04626171e-02, 7.92443156e-01,\n",
              "        3.00280228e-02, 1.01953030e-01, 1.77355425e-04, 6.37285993e-05],\n",
              "       [2.34648515e-03, 8.87975037e-01, 2.15197075e-02, 3.04081626e-02,\n",
              "        2.02205926e-02, 8.73739773e-04, 3.64264697e-02, 2.29817655e-04],\n",
              "       [6.83471899e-06, 3.60014974e-06, 6.70963549e-04, 8.37396539e-04,\n",
              "        9.96176720e-01, 1.71744463e-03, 5.65071299e-04, 2.19216145e-05],\n",
              "       [8.78747582e-01, 5.50232977e-02, 7.67797511e-03, 4.66405302e-02,\n",
              "        1.13632734e-04, 1.14377216e-03, 6.26614725e-04, 1.00265862e-02],\n",
              "       [4.53456124e-07, 5.88558360e-05, 7.87279205e-05, 1.07404543e-03,\n",
              "        1.73034042e-03, 9.45951324e-05, 9.96722639e-01, 2.40288384e-04],\n",
              "       [1.62458885e-03, 1.99722577e-04, 2.76645757e-02, 1.17211659e-02,\n",
              "        3.26285278e-03, 8.77858460e-01, 9.24136897e-04, 7.67444670e-02],\n",
              "       [1.18617754e-04, 3.79285339e-05, 9.76449996e-03, 5.78851730e-04,\n",
              "        2.84553021e-01, 2.06170208e-03, 1.01674348e-01, 6.01211011e-01],\n",
              "       [7.81794544e-04, 1.58476236e-04, 8.33687603e-01, 1.52726742e-02,\n",
              "        4.07640673e-02, 8.12921822e-02, 3.63280065e-03, 2.44104601e-02],\n",
              "       [5.89656702e-04, 1.72014843e-04, 9.68247294e-01, 6.25034736e-05,\n",
              "        2.17087436e-04, 3.94200149e-04, 1.52613982e-04, 3.01647298e-02],\n",
              "       [3.66352708e-03, 2.71951944e-01, 5.20946225e-03, 7.08223045e-01,\n",
              "        1.09656481e-03, 6.44397130e-03, 3.37478984e-03, 3.66997483e-05],\n",
              "       [7.59552757e-04, 1.77972142e-05, 9.87656593e-01, 9.16836201e-04,\n",
              "        8.34491162e-04, 9.51931986e-04, 3.76476295e-04, 8.48630629e-03],\n",
              "       [2.59892578e-04, 9.88027453e-01, 4.12402500e-04, 1.04830144e-02,\n",
              "        8.47124738e-06, 4.41293705e-05, 7.59999617e-04, 4.59945977e-06],\n",
              "       [2.67563551e-03, 4.10145367e-05, 1.58882782e-01, 1.19641144e-02,\n",
              "        5.20754337e-01, 2.71401197e-01, 1.29788299e-03, 3.29830460e-02]],\n",
              "      dtype=float32)"
            ]
          },
          "metadata": {},
          "execution_count": 38
        }
      ]
    },
    {
      "cell_type": "code",
      "source": [
        "y_pred_test_class "
      ],
      "metadata": {
        "colab": {
          "base_uri": "https://localhost:8080/"
        },
        "id": "ph-j4nBsAxjT",
        "outputId": "f3d626bb-5c43-4ada-f0e7-86886b07cf3f"
      },
      "execution_count": 39,
      "outputs": [
        {
          "output_type": "execute_result",
          "data": {
            "text/plain": [
              "array([0, 2, 2, 0, 7, 6, 5, 3, 5, 1, 0, 4, 6, 3, 6, 4, 2, 5, 7, 2, 7, 2,\n",
              "       7, 2, 2, 5, 4, 2, 4, 1, 2, 7, 6, 3, 3, 3, 1, 3, 2, 1, 6, 7, 6, 6,\n",
              "       7, 2, 3, 6, 1, 2, 2, 7, 4, 2, 2, 4, 6, 3, 2, 4, 7, 1, 1, 7, 7, 1,\n",
              "       6, 6, 3, 7, 6, 2, 6, 6, 3, 2, 2, 6, 6, 3, 4, 3, 1, 4, 0, 6, 5, 7,\n",
              "       2, 2, 3, 2, 1, 4])"
            ]
          },
          "metadata": {},
          "execution_count": 39
        }
      ]
    },
    {
      "cell_type": "markdown",
      "source": [
        "### Test Set Confusion Matrix and Heatmap"
      ],
      "metadata": {
        "id": "Epp2QpxsUVXH"
      }
    },
    {
      "cell_type": "code",
      "source": [
        "# Test set Confusion matrix\n",
        "\n",
        "cm=confusion_matrix(y_test_class, y_pred_test_class)\n",
        "\n",
        "index = ['neutral', 'calm', 'happy', 'sad', 'angry', 'fearful', 'disgust', 'surprised']  \n",
        "columns = ['neutral', 'calm', 'happy', 'sad', 'angry', 'fearful', 'disgust', 'surprised']  \n",
        " \n",
        "cm_df = pd.DataFrame(cm,index,columns)                      \n",
        "plt.figure(figsize=(12,8))\n",
        "ax = plt.axes()\n",
        "\n",
        "sns.heatmap(cm_df, ax = ax, cmap = 'BuGn', fmt=\"d\", annot=True)\n",
        "ax.set_ylabel('True emotion')\n",
        "ax.set_xlabel('Predicted emotion')"
      ],
      "metadata": {
        "colab": {
          "base_uri": "https://localhost:8080/",
          "height": 0
        },
        "id": "ukGrk_cagzyb",
        "outputId": "bffaf8ea-22e6-41e2-d3a1-01acb809cad6"
      },
      "execution_count": 40,
      "outputs": [
        {
          "output_type": "execute_result",
          "data": {
            "text/plain": [
              "Text(0.5, 51.0, 'Predicted emotion')"
            ]
          },
          "metadata": {},
          "execution_count": 40
        },
        {
          "output_type": "display_data",
          "data": {
            "text/plain": [
              "<Figure size 864x576 with 2 Axes>"
            ],
            "image/png": "[encoded data removed]"
          },
          "metadata": {
            "needs_background": "light"
          }
        }
      ]
    },
    {
      "cell_type": "code",
      "source": [
        "# Confusion Matrix\n",
        "cm"
      ],
      "metadata": {
        "colab": {
          "base_uri": "https://localhost:8080/"
        },
        "id": "9f51xwUE8haF",
        "outputId": "608c044f-b724-4fc8-e021-9530574e2803"
      },
      "execution_count": 41,
      "outputs": [
        {
          "output_type": "execute_result",
          "data": {
            "text/plain": [
              "array([[1, 1, 1, 1, 0, 0, 0, 0],\n",
              "       [0, 7, 4, 3, 0, 0, 1, 1],\n",
              "       [1, 0, 7, 0, 0, 1, 1, 3],\n",
              "       [2, 2, 1, 7, 0, 0, 1, 0],\n",
              "       [0, 0, 1, 0, 9, 0, 5, 2],\n",
              "       [0, 0, 5, 2, 1, 3, 1, 0],\n",
              "       [0, 0, 2, 0, 0, 0, 8, 0],\n",
              "       [0, 0, 1, 0, 0, 1, 0, 7]])"
            ]
          },
          "metadata": {},
          "execution_count": 41
        }
      ]
    },
    {
      "cell_type": "markdown",
      "source": [
        "### Test Set Predicted emotions accuracy"
      ],
      "metadata": {
        "id": "zil3CkweUX0q"
      }
    },
    {
      "cell_type": "code",
      "source": [
        "# Test set prediction accuracy rates\n",
        "\n",
        "values = cm.diagonal()\n",
        "row_sum = np.sum(cm,axis=1)\n",
        "acc = values / row_sum\n",
        "\n",
        "print('Test set predicted emotions accuracy:')\n",
        "for e in range(0, len(values)):\n",
        "    print(index[e],':', f\"{(acc[e]):0.4f}\")"
      ],
      "metadata": {
        "colab": {
          "base_uri": "https://localhost:8080/"
        },
        "id": "t_ORyGGig090",
        "outputId": "cc091314-feb3-4e20-8fa3-8a11a1aac39c"
      },
      "execution_count": 42,
      "outputs": [
        {
          "output_type": "stream",
          "name": "stdout",
          "text": [
            "Test set predicted emotions accuracy:\n",
            "neutral : 0.2500\n",
            "calm : 0.4375\n",
            "happy : 0.5385\n",
            "sad : 0.5385\n",
            "angry : 0.5294\n",
            "fearful : 0.2500\n",
            "disgust : 0.8000\n",
            "surprised : 0.7778\n"
          ]
        }
      ]
    },
    {
      "cell_type": "markdown",
      "source": [
        "### Precision, Recal, Fscore"
      ],
      "metadata": {
        "id": "8Hzthv1t8kwd"
      }
    },
    {
      "cell_type": "code",
      "source": [
        "# Validation set precision, recall, fscore\n",
        "\n",
        "precision_recall_fscore_support(y_test_class, y_pred_test_class, average='macro')\n"
      ],
      "metadata": {
        "colab": {
          "base_uri": "https://localhost:8080/"
        },
        "id": "QnwWoVFnh33F",
        "outputId": "be6e6eb2-563e-44f1-950c-158406dd10eb"
      },
      "execution_count": 43,
      "outputs": [
        {
          "output_type": "execute_result",
          "data": {
            "text/plain": [
              "(0.5394616412998766, 0.5152015774258422, 0.49693589362707014, None)"
            ]
          },
          "metadata": {},
          "execution_count": 43
        }
      ]
    },
    {
      "cell_type": "code",
      "source": [
        "precision_recall_fscore_support(y_test_class, y_pred_test_class, average='weighted')"
      ],
      "metadata": {
        "colab": {
          "base_uri": "https://localhost:8080/"
        },
        "id": "OlDhuPlqzwVB",
        "outputId": "9082f524-cc7d-4ac5-abd1-c7fb2966c3a1"
      },
      "execution_count": 44,
      "outputs": [
        {
          "output_type": "execute_result",
          "data": {
            "text/plain": [
              "(0.5892382961219006, 0.5212765957446809, 0.5216724544634432, None)"
            ]
          },
          "metadata": {},
          "execution_count": 44
        }
      ]
    },
    {
      "cell_type": "markdown",
      "source": [
        "### ROC AUC Score"
      ],
      "metadata": {
        "id": "sEuBd9IyLuiD"
      }
    },
    {
      "cell_type": "code",
      "source": [
        "ravdess_df = pd.read_csv (df_path)"
      ],
      "metadata": {
        "id": "8bb4OSmyTO6v"
      },
      "execution_count": 45,
      "outputs": []
    },
    {
      "cell_type": "code",
      "source": [
        "labels = [\"neutral\", \"calm\", \"happy\", \"sad\", \"angry\", \"fear\", \"disgust\", \"suprised\"]"
      ],
      "metadata": {
        "id": "1leZ4JGVTfTp"
      },
      "execution_count": 46,
      "outputs": []
    },
    {
      "cell_type": "code",
      "source": [
        "y_test_adj = y_test.reshape(-1,)"
      ],
      "metadata": {
        "id": "MRm1ZwnxFStc"
      },
      "execution_count": 47,
      "outputs": []
    },
    {
      "cell_type": "code",
      "source": [
        "y_proba_test_class.shape"
      ],
      "metadata": {
        "colab": {
          "base_uri": "https://localhost:8080/"
        },
        "id": "O-IcYOABFjxB",
        "outputId": "4d7e5008-af40-4994-87ba-99b28aa58de4"
      },
      "execution_count": 48,
      "outputs": [
        {
          "output_type": "execute_result",
          "data": {
            "text/plain": [
              "(94, 8)"
            ]
          },
          "metadata": {},
          "execution_count": 48
        }
      ]
    },
    {
      "cell_type": "code",
      "source": [
        "y_test.shape"
      ],
      "metadata": {
        "colab": {
          "base_uri": "https://localhost:8080/"
        },
        "id": "9AaqUY3PIlMQ",
        "outputId": "d6bbe613-8cfe-4e8d-e4a7-b50c7a0c8a5c"
      },
      "execution_count": 49,
      "outputs": [
        {
          "output_type": "execute_result",
          "data": {
            "text/plain": [
              "(94, 1)"
            ]
          },
          "metadata": {},
          "execution_count": 49
        }
      ]
    },
    {
      "cell_type": "code",
      "source": [
        "y_test_adj"
      ],
      "metadata": {
        "colab": {
          "base_uri": "https://localhost:8080/"
        },
        "id": "7LgDudYTKInS",
        "outputId": "70d969dd-be4d-4a37-e8e2-b8358cfe3214"
      },
      "execution_count": 50,
      "outputs": [
        {
          "output_type": "execute_result",
          "data": {
            "text/plain": [
              "array([2, 2, 2, 0, 4, 6, 2, 0, 5, 0, 3, 5, 4, 1, 6, 4, 3, 5, 4, 5, 7, 1,\n",
              "       7, 1, 2, 5, 4, 5, 4, 1, 2, 1, 3, 3, 3, 3, 3, 3, 5, 1, 5, 2, 1, 6,\n",
              "       2, 1, 3, 6, 1, 5, 6, 7, 4, 2, 6, 4, 4, 5, 4, 4, 2, 3, 1, 7, 7, 1,\n",
              "       6, 4, 3, 7, 6, 2, 4, 6, 1, 0, 1, 2, 4, 5, 4, 3, 1, 4, 3, 6, 7, 7,\n",
              "       5, 7, 1, 2, 1, 4], dtype=int8)"
            ]
          },
          "metadata": {},
          "execution_count": 50
        }
      ]
    },
    {
      "cell_type": "code",
      "source": [
        "\n",
        "\n",
        "macro_roc_auc_ovo = roc_auc_score(y_test_adj, y_proba_test_class, multi_class=\"ovo\", average=\"macro\")\n",
        "weighted_roc_auc_ovo = roc_auc_score(\n",
        "    y_test_adj, y_proba_test_class, multi_class=\"ovo\", average=\"weighted\"\n",
        ")\n",
        "macro_roc_auc_ovr = roc_auc_score(y_test_adj, y_proba_test_class, multi_class=\"ovr\", average=\"macro\")\n",
        "weighted_roc_auc_ovr = roc_auc_score(\n",
        "    y_test_adj, y_proba_test_class, multi_class=\"ovr\", average=\"weighted\"\n",
        ")\n"
      ],
      "metadata": {
        "id": "oMa4N8EhHlY9"
      },
      "execution_count": 51,
      "outputs": []
    },
    {
      "cell_type": "code",
      "source": [
        "print(\"One-vs-One ROC AUC scores:\\n{:.6f} (macro),\\n{:.6f} \" \"(weighted by prevalence)\\n\".format(macro_roc_auc_ovo, weighted_roc_auc_ovo))\n",
        "print(\"One-vs-Rest ROC AUC scores:\\n{:.6f} (macro),\\n{:.6f} \" \"(weighted by prevalence)\".format(macro_roc_auc_ovr, weighted_roc_auc_ovr))"
      ],
      "metadata": {
        "colab": {
          "base_uri": "https://localhost:8080/"
        },
        "id": "hhBLwtO_ICqL",
        "outputId": "4d76577b-5741-4ed1-a2d6-514881987eb5"
      },
      "execution_count": 52,
      "outputs": [
        {
          "output_type": "stream",
          "name": "stdout",
          "text": [
            "One-vs-One ROC AUC scores:\n",
            "0.885087 (macro),\n",
            "0.887712 (weighted by prevalence)\n",
            "\n",
            "One-vs-Rest ROC AUC scores:\n",
            "0.888038 (macro),\n",
            "0.892547 (weighted by prevalence)\n"
          ]
        }
      ]
    }
  ]
}