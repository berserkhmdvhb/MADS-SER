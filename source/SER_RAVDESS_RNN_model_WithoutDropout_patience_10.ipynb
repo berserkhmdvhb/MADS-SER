{
  "metadata": {
    "kernelspec": {
      "language": "python",
      "display_name": "Python 3",
      "name": "python3"
    },
    "language_info": {
      "pygments_lexer": "ipython3",
      "nbconvert_exporter": "python",
      "version": "3.6.4",
      "file_extension": ".py",
      "codemirror_mode": {
        "name": "ipython",
        "version": 3
      },
      "name": "python",
      "mimetype": "text/x-python"
    },
    "colab": {
      "name": "SER-RAVDESS-RNN-model-WithoutDropout-patience:10.ipynb",
      "provenance": [],
      "collapsed_sections": [
        "anSyerIFN7qd",
        "nyMzoZKKKiw6",
        "1YfguG0tPatV",
        "hz7nc15A_3hb",
        "d2ullxf9PUMd",
        "kWjKgUdRPYH5",
        "DGSTy2228XRH",
        "gPwcFV9oAhGh",
        "Epp2QpxsUVXH",
        "8Hzthv1t8kwd"
      ]
    }
  },
  "nbformat_minor": 0,
  "nbformat": 4,
  "cells": [
    {
      "cell_type": "markdown",
      "source": [
        "# Imports"
      ],
      "metadata": {
        "id": "anSyerIFN7qd"
      }
    },
    {
      "cell_type": "code",
      "source": [
        "# Importing Libraries"
      ],
      "metadata": {
        "id": "IMFSwIuvKiw2"
      },
      "execution_count": 1,
      "outputs": []
    },
    {
      "cell_type": "code",
      "source": [
        "!pip install json-tricks"
      ],
      "metadata": {
        "colab": {
          "base_uri": "https://localhost:8080/"
        },
        "id": "bBR8aNsmM2tR",
        "outputId": "e448f6f5-10ae-4d5e-ca34-a8e7afa148b9"
      },
      "execution_count": 2,
      "outputs": [
        {
          "output_type": "stream",
          "name": "stdout",
          "text": [
            "Collecting json-tricks\n",
            "  Downloading json_tricks-3.15.5-py2.py3-none-any.whl (26 kB)\n",
            "Installing collected packages: json-tricks\n",
            "Successfully installed json-tricks-3.15.5\n"
          ]
        }
      ]
    },
    {
      "cell_type": "code",
      "source": [
        "import pandas as pd\n",
        "import numpy as np\n",
        "\n",
        "import os\n",
        "import sys\n",
        "\n",
        "import librosa\n",
        "import librosa.display\n",
        "#from pydub import AudioSegment, effects\n",
        "#import noisereduce as nr\n",
        "\n",
        "\n",
        "import seaborn as sns\n",
        "import matplotlib.pyplot as plt\n",
        "from IPython.display import Audio\n",
        "\n",
        "import tensorflow as tf\n",
        "import keras\n",
        "import sklearn\n",
        "\n",
        "\n",
        "from tensorflow.keras.models import Sequential, Model\n",
        "from tensorflow.keras.layers import Dense, LSTM, Flatten, Dropout, BatchNormalization\n",
        "from tensorflow.keras.callbacks import ModelCheckpoint, EarlyStopping, ReduceLROnPlateau\n",
        "from tensorflow.keras.optimizers import Adam, SGD\n",
        "from tensorflow.keras.utils import to_categorical, plot_model\n",
        "\n",
        "\n",
        "from keras.models import Sequential, model_from_json, load_model\n",
        "from keras import layers\n",
        "from keras import optimizers\n",
        "from keras import callbacks\n",
        "\n",
        "from sklearn.preprocessing import StandardScaler, OneHotEncoder, LabelEncoder\n",
        "from sklearn.metrics import confusion_matrix, classification_report, precision_recall_fscore_support, roc_auc_score\n",
        "from sklearn.model_selection import train_test_split, StratifiedShuffleSplit\n",
        "from sklearn.multiclass import OneVsRestClassifier\n",
        "\n",
        "\n",
        "from tqdm import tqdm\n",
        "\n",
        "\n",
        "from json_tricks import dump, load\n",
        "\n",
        "\n",
        "\n",
        "import warnings\n",
        "if not sys.warnoptions:\n",
        "    warnings.simplefilter(\"ignore\")\n",
        "warnings.filterwarnings(\"ignore\", category=DeprecationWarning) \n",
        "\n",
        "import time\n",
        "tic = time.perf_counter()\n",
        "\n"
      ],
      "metadata": {
        "id": "77IS8HxqFFCA"
      },
      "execution_count": 3,
      "outputs": []
    },
    {
      "cell_type": "code",
      "source": [
        ""
      ],
      "metadata": {
        "id": "gGYqBIk0FGm4"
      },
      "execution_count": 3,
      "outputs": []
    },
    {
      "cell_type": "markdown",
      "source": [
        "# Dataset"
      ],
      "metadata": {
        "id": "nyMzoZKKKiw6"
      }
    },
    {
      "cell_type": "code",
      "source": [
        "from google.colab import drive\n",
        "drive.mount('/content/drive')"
      ],
      "metadata": {
        "colab": {
          "base_uri": "https://localhost:8080/"
        },
        "id": "JFPDGXmwCBs_",
        "outputId": "0d6117ae-3b0a-4cb6-8898-e56a50f083d9"
      },
      "execution_count": 4,
      "outputs": [
        {
          "output_type": "stream",
          "name": "stdout",
          "text": [
            "Mounted at /content/drive\n"
          ]
        }
      ]
    },
    {
      "cell_type": "code",
      "source": [
        "#Crema = \"/content/drive/MyDrive/datasets/speech/CREMAD/sample/\"\n",
        "#Crema = \"/content/drive/MyDrive/datasets/speech/CREMAD/AudioWAV/\"\n",
        "Ravdess = \"/content/drive/MyDrive/datasets/speech/RAVDESS/data\"\n",
        "Ravdess_processed = \"/content/drive/MyDrive/datasets/speech/RAVDESS/processedData/\"\n",
        "Ravdess_speech_sample = \"/content/drive/MyDrive/datasets/speech/RAVDESS/data/Audio_Speech_Actors_01-24/\"\n",
        "df_path = \"/content/drive/MyDrive/datasets/speech/RAVDESS/ravdess_df.csv\"\n",
        "model_path = Ravdess + \"/model/\"\n",
        "\n",
        "checkpoint_path = model_path + \"best_weights-8.hdf5\"\n",
        "saved_model_path = model_path + 'model8723-6.json'\n",
        "\n",
        "saved_weights_path = model_path + 'model8723_weights-8.h5'\n",
        "saved_model_path_2 = model_path + 'Speech-Emotion-Recognition-Model-RNN-6.h5'"
      ],
      "metadata": {
        "execution": {
          "iopub.status.busy": "2021-06-21T09:35:38.093538Z",
          "iopub.execute_input": "2021-06-21T09:35:38.093869Z",
          "iopub.status.idle": "2021-06-21T09:35:38.097467Z",
          "shell.execute_reply.started": "2021-06-21T09:35:38.093838Z",
          "shell.execute_reply": "2021-06-21T09:35:38.096608Z"
        },
        "trusted": true,
        "id": "vR2GjHL4Kiw7"
      },
      "execution_count": 5,
      "outputs": []
    },
    {
      "cell_type": "code",
      "source": [
        ""
      ],
      "metadata": {
        "id": "J2T6JxzIF2Jq"
      },
      "execution_count": 5,
      "outputs": []
    },
    {
      "cell_type": "code",
      "source": [
        "##Hypter Parameters' Range\n",
        "params = {\n",
        "    \"batch_size\": 20,  # 20<16<10, 25 was a bust\n",
        "    \"epochs\": 300,\n",
        "    \"lr\": 0.00010000,\n",
        "    \"time_steps\": 60\n",
        "}\n",
        "#TIME_STEPS = params[\"time_steps\"]\n",
        "#BATCH_SIZE = params[\"batch_size\"]\n",
        "#iter_changes = \"dropout_layers_0.4_0.4\"\n"
      ],
      "metadata": {
        "id": "jnEd5_Vvy4ue"
      },
      "execution_count": 6,
      "outputs": []
    },
    {
      "cell_type": "code",
      "source": [
        ""
      ],
      "metadata": {
        "id": "dKXM0xT-N8uy"
      },
      "execution_count": 6,
      "outputs": []
    },
    {
      "cell_type": "markdown",
      "source": [
        "# Load Processed Files, Construct Train, Validation and Test Sets"
      ],
      "metadata": {
        "id": "fse_mTpaOGdQ"
      }
    },
    {
      "cell_type": "code",
      "source": [
        "\n",
        "processed_path = Ravdess_processed\n",
        "x_path = processed_path + \"X_features.json\" # FILE LOAD PATH\n",
        "y_path =  processed_path + \"Y_labels.json\" # FILE SAVE PATH\n",
        "#x_path = '/content/drive/MyDrive/datasets/speech/RAVDESS/processedData/X_features.json'\n",
        "\n",
        "# Load X,Y json files back into lists, convert to np.arrays\n",
        "\n",
        "X = load(x_path)\n",
        "X = np.asarray(X, dtype = 'float32')\n",
        "\n",
        "Y = load(y_path)\n",
        "Y = np.asarray(Y, dtype = 'int8')"
      ],
      "metadata": {
        "id": "101BpvWgN8xX"
      },
      "execution_count": 7,
      "outputs": []
    },
    {
      "cell_type": "code",
      "source": [
        "# Split to train, validation, and test sets.\n",
        "from sklearn.model_selection import train_test_split\n",
        "# 1st Split: X,Y => (x_train, x_tosplit) (y_train, y_tosplit)\n",
        "x_train, x_tosplit, y_train, y_tosplit = train_test_split(X, Y, test_size = 0.125, random_state = 1)\n",
        "# 2nd Split: x_tosplit,y_tosplit => (x_val, x_test) (y_val, y_test) \n",
        "x_val, x_test, y_val, y_test = train_test_split(x_tosplit, y_tosplit, test_size = 0.304, random_state = 1)\n",
        "#'One-hot' vectors for Y: emotion classification\n",
        "y_train_class = tf.keras.utils.to_categorical(y_train, 8, dtype = 'int8')\n",
        "y_val_class = tf.keras.utils.to_categorical(y_val, 8, dtype = 'int8')"
      ],
      "metadata": {
        "id": "CuF9M1mfOD7X"
      },
      "execution_count": 8,
      "outputs": []
    },
    {
      "cell_type": "code",
      "source": [
        "# x_train, x_val, and x_test shape check.\n",
        "print(np.shape(x_train))\n",
        "print(np.shape(x_val))\n",
        "print(np.shape(x_test))"
      ],
      "metadata": {
        "colab": {
          "base_uri": "https://localhost:8080/"
        },
        "id": "od-D1YgBOGXs",
        "outputId": "8907ed9b-5cd8-411d-a81a-87e5ff3b3f9c"
      },
      "execution_count": 9,
      "outputs": [
        {
          "output_type": "stream",
          "name": "stdout",
          "text": [
            "(2145, 523, 15)\n",
            "(213, 523, 15)\n",
            "(94, 523, 15)\n"
          ]
        }
      ]
    },
    {
      "cell_type": "code",
      "source": [
        "# Save x_test, y_test to JSON.\n",
        "\n",
        "x_test_path = processed_path + 'x_test_data.json'\n",
        "dump(obj = x_test, fp = x_test_path)\n",
        "\n",
        "y_test_path = processed_path + 'y_test_data.json'\n",
        "dump(obj = y_test, fp = y_test_path)"
      ],
      "metadata": {
        "colab": {
          "base_uri": "https://localhost:8080/",
          "height": 91
        },
        "id": "nTExHJVsOHQ5",
        "outputId": "08cebb45-2224-4c60-9178-e10e06fb93df"
      },
      "execution_count": 10,
      "outputs": [
        {
          "output_type": "execute_result",
          "data": {
            "text/plain": [
              "'{\"__ndarray__\": [[2], [2], [2], [0], [4], [6], [2], [0], [5], [0], [3], [5], [4], [1], [6], [4], [3], [5], [4], [5], [7], [1], [7], [1], [2], [5], [4], [5], [4], [1], [2], [1], [3], [3], [3], [3], [3], [3], [5], [1], [5], [2], [1], [6], [2], [1], [3], [6], [1], [5], [6], [7], [4], [2], [6], [4], [4], [5], [4], [4], [2], [3], [1], [7], [7], [1], [6], [4], [3], [7], [6], [2], [4], [6], [1], [0], [1], [2], [4], [5], [4], [3], [1], [4], [3], [6], [7], [7], [5], [7], [1], [2], [1], [4]], \"dtype\": \"int8\", \"shape\": [94, 1], \"Corder\": true}'"
            ],
            "application/vnd.google.colaboratory.intrinsic+json": {
              "type": "string"
            }
          },
          "metadata": {},
          "execution_count": 10
        }
      ]
    },
    {
      "cell_type": "code",
      "source": [
        "# Loading x_test, y_test json files, and converting to np.arrays\n",
        "\n",
        "x_test = load(processed_path + 'x_test_data.json')\n",
        "x_test = np.asarray(x_test).astype('float32')\n",
        "\n",
        "y_test = load(processed_path + 'y_test_data.json')\n",
        "y_test = np.asarray(y_test).astype('int8')\n",
        "\n",
        "y_test_class = tf.keras.utils.to_categorical(y_test, 8, dtype = 'int8')"
      ],
      "metadata": {
        "id": "kAFBRsmk5dzm"
      },
      "execution_count": 11,
      "outputs": []
    },
    {
      "cell_type": "code",
      "source": [
        "X.shape"
      ],
      "metadata": {
        "id": "15joCR4gu4r7",
        "colab": {
          "base_uri": "https://localhost:8080/"
        },
        "outputId": "61992f84-e54b-4158-a8f9-1cfb4e93ed0b"
      },
      "execution_count": 12,
      "outputs": [
        {
          "output_type": "execute_result",
          "data": {
            "text/plain": [
              "(2452, 523, 15)"
            ]
          },
          "metadata": {},
          "execution_count": 12
        }
      ]
    },
    {
      "cell_type": "code",
      "source": [
        "X.shape[1:3]"
      ],
      "metadata": {
        "colab": {
          "base_uri": "https://localhost:8080/"
        },
        "id": "8MQhoPKjEzi4",
        "outputId": "dbcbddf8-d0b3-4887-ba55-a61bdbfd8523"
      },
      "execution_count": 13,
      "outputs": [
        {
          "output_type": "execute_result",
          "data": {
            "text/plain": [
              "(523, 15)"
            ]
          },
          "metadata": {},
          "execution_count": 13
        }
      ]
    },
    {
      "cell_type": "markdown",
      "source": [
        "# RNN Model"
      ],
      "metadata": {
        "id": "gnWVMbR6KixC"
      }
    },
    {
      "cell_type": "code",
      "source": [
        "tic"
      ],
      "metadata": {
        "colab": {
          "base_uri": "https://localhost:8080/"
        },
        "id": "7CHZWdfcN8oo",
        "outputId": "7ec4c439-f1fb-45b7-ee06-834c8dc0ad9b"
      },
      "execution_count": 14,
      "outputs": [
        {
          "output_type": "execute_result",
          "data": {
            "text/plain": [
              "332.224509974"
            ]
          },
          "metadata": {},
          "execution_count": 14
        }
      ]
    },
    {
      "cell_type": "markdown",
      "source": [
        "## Define Model & Training"
      ],
      "metadata": {
        "id": "GJjJYnJQORJ8"
      }
    },
    {
      "cell_type": "code",
      "source": [
        "# Initializing the model\n",
        "\n",
        "model = Sequential()\n",
        "model.add(layers.LSTM(128, return_sequences = True, input_shape=(X.shape[1:3])))\n",
        "model.add(layers.LSTM(64))\n",
        "model.add(layers.Dense(8, activation = 'softmax'))\n",
        "print(model.summary())\n",
        "\n",
        "batch_size = 23\n",
        "\n",
        "# Callbacks functions\n",
        "\n",
        "#-> EearlyStopping\n",
        "es = EarlyStopping(monitor='val_loss', mode='min', verbose=1,\n",
        "                    patience=10, min_delta=0.0001)\n",
        "\n",
        "\n",
        "#-> Save the best weights\n",
        "mcp_save = callbacks.ModelCheckpoint(checkpoint_path, save_best_only=True,\n",
        "                           monitor='val_categorical_accuracy',\n",
        "                           mode='max')\n",
        "#-> Reduce learning rate after 100 epoches without improvement.\n",
        "rlrop = callbacks.ReduceLROnPlateau(monitor='val_categorical_accuracy', \n",
        "                                    factor=0.1, patience=40)\n",
        "                             \n",
        "# Compile & train   \n",
        "model.compile(loss='categorical_crossentropy', \n",
        "                optimizer='RMSProp', \n",
        "                metrics=['categorical_accuracy'])\n",
        "\n",
        "\n"
      ],
      "metadata": {
        "colab": {
          "base_uri": "https://localhost:8080/"
        },
        "id": "aD2adyVGOJs4",
        "outputId": "da46cf37-5fdb-48aa-8a34-77af4f1942ba"
      },
      "execution_count": 15,
      "outputs": [
        {
          "output_type": "stream",
          "name": "stdout",
          "text": [
            "Model: \"sequential\"\n",
            "_________________________________________________________________\n",
            " Layer (type)                Output Shape              Param #   \n",
            "=================================================================\n",
            " lstm (LSTM)                 (None, 523, 128)          73728     \n",
            "                                                                 \n",
            " lstm_1 (LSTM)               (None, 64)                49408     \n",
            "                                                                 \n",
            " dense (Dense)               (None, 8)                 520       \n",
            "                                                                 \n",
            "=================================================================\n",
            "Total params: 123,656\n",
            "Trainable params: 123,656\n",
            "Non-trainable params: 0\n",
            "_________________________________________________________________\n",
            "None\n"
          ]
        }
      ]
    },
    {
      "cell_type": "code",
      "source": [
        "history = model.fit(x_train, y_train_class, \n",
        "                      epochs=340, batch_size = batch_size, \n",
        "                      validation_data = (x_val, y_val_class), \n",
        "                      callbacks = [es, mcp_save, rlrop])\n",
        "toc = time.perf_counter()"
      ],
      "metadata": {
        "colab": {
          "base_uri": "https://localhost:8080/"
        },
        "id": "Da7Gc9x_izth",
        "outputId": "3ad46967-9bba-439a-e603-da0de0d339ce"
      },
      "execution_count": 16,
      "outputs": [
        {
          "output_type": "stream",
          "name": "stdout",
          "text": [
            "Epoch 1/340\n",
            "94/94 [==============================] - 94s 951ms/step - loss: 2.0299 - categorical_accuracy: 0.1986 - val_loss: 2.0231 - val_categorical_accuracy: 0.1643 - lr: 0.0010\n",
            "Epoch 2/340\n",
            "94/94 [==============================] - 88s 939ms/step - loss: 1.9666 - categorical_accuracy: 0.2336 - val_loss: 1.9996 - val_categorical_accuracy: 0.1596 - lr: 0.0010\n",
            "Epoch 3/340\n",
            "94/94 [==============================] - 88s 940ms/step - loss: 1.9212 - categorical_accuracy: 0.2615 - val_loss: 1.8745 - val_categorical_accuracy: 0.2864 - lr: 0.0010\n",
            "Epoch 4/340\n",
            "94/94 [==============================] - 87s 923ms/step - loss: 1.8839 - categorical_accuracy: 0.2797 - val_loss: 1.9006 - val_categorical_accuracy: 0.2676 - lr: 0.0010\n",
            "Epoch 5/340\n",
            "94/94 [==============================] - 87s 929ms/step - loss: 1.9035 - categorical_accuracy: 0.2653 - val_loss: 1.8400 - val_categorical_accuracy: 0.3005 - lr: 0.0010\n",
            "Epoch 6/340\n",
            "94/94 [==============================] - 87s 928ms/step - loss: 1.8860 - categorical_accuracy: 0.2690 - val_loss: 1.8305 - val_categorical_accuracy: 0.3099 - lr: 0.0010\n",
            "Epoch 7/340\n",
            "94/94 [==============================] - 89s 947ms/step - loss: 1.8701 - categorical_accuracy: 0.2830 - val_loss: 1.8373 - val_categorical_accuracy: 0.2911 - lr: 0.0010\n",
            "Epoch 8/340\n",
            "94/94 [==============================] - 87s 924ms/step - loss: 1.8534 - categorical_accuracy: 0.2918 - val_loss: 1.9780 - val_categorical_accuracy: 0.1925 - lr: 0.0010\n",
            "Epoch 9/340\n",
            "94/94 [==============================] - 87s 926ms/step - loss: 1.8303 - categorical_accuracy: 0.2914 - val_loss: 1.9595 - val_categorical_accuracy: 0.1690 - lr: 0.0010\n",
            "Epoch 10/340\n",
            "94/94 [==============================] - 87s 927ms/step - loss: 1.8038 - categorical_accuracy: 0.2900 - val_loss: 1.8776 - val_categorical_accuracy: 0.2347 - lr: 0.0010\n",
            "Epoch 11/340\n",
            "94/94 [==============================] - 86s 919ms/step - loss: 1.7852 - categorical_accuracy: 0.2918 - val_loss: 1.8300 - val_categorical_accuracy: 0.2723 - lr: 0.0010\n",
            "Epoch 12/340\n",
            "94/94 [==============================] - 87s 921ms/step - loss: 1.7581 - categorical_accuracy: 0.3072 - val_loss: 1.8331 - val_categorical_accuracy: 0.2676 - lr: 0.0010\n",
            "Epoch 13/340\n",
            "94/94 [==============================] - 86s 920ms/step - loss: 1.7459 - categorical_accuracy: 0.3100 - val_loss: 1.7723 - val_categorical_accuracy: 0.3474 - lr: 0.0010\n",
            "Epoch 14/340\n",
            "94/94 [==============================] - 87s 921ms/step - loss: 1.7196 - categorical_accuracy: 0.3193 - val_loss: 1.7461 - val_categorical_accuracy: 0.3286 - lr: 0.0010\n",
            "Epoch 15/340\n",
            "94/94 [==============================] - 87s 922ms/step - loss: 1.7088 - categorical_accuracy: 0.3245 - val_loss: 1.9136 - val_categorical_accuracy: 0.2629 - lr: 0.0010\n",
            "Epoch 16/340\n",
            "94/94 [==============================] - 87s 921ms/step - loss: 1.7019 - categorical_accuracy: 0.3371 - val_loss: 1.8233 - val_categorical_accuracy: 0.3192 - lr: 0.0010\n",
            "Epoch 17/340\n",
            "94/94 [==============================] - 86s 920ms/step - loss: 1.7030 - categorical_accuracy: 0.3301 - val_loss: 1.7239 - val_categorical_accuracy: 0.3192 - lr: 0.0010\n",
            "Epoch 18/340\n",
            "94/94 [==============================] - 86s 919ms/step - loss: 1.6720 - categorical_accuracy: 0.3450 - val_loss: 1.7649 - val_categorical_accuracy: 0.3192 - lr: 0.0010\n",
            "Epoch 19/340\n",
            "94/94 [==============================] - 86s 919ms/step - loss: 1.6492 - categorical_accuracy: 0.3538 - val_loss: 1.8232 - val_categorical_accuracy: 0.3099 - lr: 0.0010\n",
            "Epoch 20/340\n",
            "94/94 [==============================] - 87s 924ms/step - loss: 1.6341 - categorical_accuracy: 0.3580 - val_loss: 1.7973 - val_categorical_accuracy: 0.3239 - lr: 0.0010\n",
            "Epoch 21/340\n",
            "94/94 [==============================] - 86s 919ms/step - loss: 1.6434 - categorical_accuracy: 0.3520 - val_loss: 1.7221 - val_categorical_accuracy: 0.3286 - lr: 0.0010\n",
            "Epoch 22/340\n",
            "94/94 [==============================] - 87s 923ms/step - loss: 1.6172 - categorical_accuracy: 0.3725 - val_loss: 1.7837 - val_categorical_accuracy: 0.2817 - lr: 0.0010\n",
            "Epoch 23/340\n",
            "94/94 [==============================] - 87s 925ms/step - loss: 1.6113 - categorical_accuracy: 0.3702 - val_loss: 1.7331 - val_categorical_accuracy: 0.3568 - lr: 0.0010\n",
            "Epoch 24/340\n",
            "94/94 [==============================] - 87s 920ms/step - loss: 1.6009 - categorical_accuracy: 0.3730 - val_loss: 1.7651 - val_categorical_accuracy: 0.2911 - lr: 0.0010\n",
            "Epoch 25/340\n",
            "94/94 [==============================] - 87s 924ms/step - loss: 1.6073 - categorical_accuracy: 0.3711 - val_loss: 1.7240 - val_categorical_accuracy: 0.3099 - lr: 0.0010\n",
            "Epoch 26/340\n",
            "94/94 [==============================] - 87s 922ms/step - loss: 1.5936 - categorical_accuracy: 0.3674 - val_loss: 1.7450 - val_categorical_accuracy: 0.3286 - lr: 0.0010\n",
            "Epoch 27/340\n",
            "94/94 [==============================] - 87s 922ms/step - loss: 1.5748 - categorical_accuracy: 0.3832 - val_loss: 1.6433 - val_categorical_accuracy: 0.3521 - lr: 0.0010\n",
            "Epoch 28/340\n",
            "94/94 [==============================] - 87s 927ms/step - loss: 1.5734 - categorical_accuracy: 0.3865 - val_loss: 1.6313 - val_categorical_accuracy: 0.3803 - lr: 0.0010\n",
            "Epoch 29/340\n",
            "94/94 [==============================] - 87s 924ms/step - loss: 1.5632 - categorical_accuracy: 0.3734 - val_loss: 1.6478 - val_categorical_accuracy: 0.3756 - lr: 0.0010\n",
            "Epoch 30/340\n",
            "94/94 [==============================] - 86s 918ms/step - loss: 1.5487 - categorical_accuracy: 0.4014 - val_loss: 1.5821 - val_categorical_accuracy: 0.3944 - lr: 0.0010\n",
            "Epoch 31/340\n",
            "94/94 [==============================] - 87s 924ms/step - loss: 1.5316 - categorical_accuracy: 0.4023 - val_loss: 1.6898 - val_categorical_accuracy: 0.3568 - lr: 0.0010\n",
            "Epoch 32/340\n",
            "94/94 [==============================] - 87s 924ms/step - loss: 1.5101 - categorical_accuracy: 0.4242 - val_loss: 1.6338 - val_categorical_accuracy: 0.3756 - lr: 0.0010\n",
            "Epoch 33/340\n",
            "94/94 [==============================] - 87s 922ms/step - loss: 1.5025 - categorical_accuracy: 0.4065 - val_loss: 1.6121 - val_categorical_accuracy: 0.3850 - lr: 0.0010\n",
            "Epoch 34/340\n",
            "94/94 [==============================] - 87s 925ms/step - loss: 1.4911 - categorical_accuracy: 0.4214 - val_loss: 1.6217 - val_categorical_accuracy: 0.3850 - lr: 0.0010\n",
            "Epoch 35/340\n",
            "94/94 [==============================] - 88s 939ms/step - loss: 1.4922 - categorical_accuracy: 0.4261 - val_loss: 1.5979 - val_categorical_accuracy: 0.3709 - lr: 0.0010\n",
            "Epoch 36/340\n",
            "94/94 [==============================] - 87s 928ms/step - loss: 1.4921 - categorical_accuracy: 0.4214 - val_loss: 1.6914 - val_categorical_accuracy: 0.3709 - lr: 0.0010\n",
            "Epoch 37/340\n",
            "94/94 [==============================] - 87s 926ms/step - loss: 1.4925 - categorical_accuracy: 0.4392 - val_loss: 1.6064 - val_categorical_accuracy: 0.4366 - lr: 0.0010\n",
            "Epoch 38/340\n",
            "94/94 [==============================] - 87s 927ms/step - loss: 1.4873 - categorical_accuracy: 0.4298 - val_loss: 1.6077 - val_categorical_accuracy: 0.3944 - lr: 0.0010\n",
            "Epoch 39/340\n",
            "94/94 [==============================] - 87s 927ms/step - loss: 1.4812 - categorical_accuracy: 0.4228 - val_loss: 1.5753 - val_categorical_accuracy: 0.3897 - lr: 0.0010\n",
            "Epoch 40/340\n",
            "94/94 [==============================] - 86s 919ms/step - loss: 1.4743 - categorical_accuracy: 0.4322 - val_loss: 1.6329 - val_categorical_accuracy: 0.3850 - lr: 0.0010\n",
            "Epoch 41/340\n",
            "94/94 [==============================] - 87s 926ms/step - loss: 1.4671 - categorical_accuracy: 0.4392 - val_loss: 1.5729 - val_categorical_accuracy: 0.4319 - lr: 0.0010\n",
            "Epoch 42/340\n",
            "94/94 [==============================] - 87s 925ms/step - loss: 1.4744 - categorical_accuracy: 0.4256 - val_loss: 1.6370 - val_categorical_accuracy: 0.4038 - lr: 0.0010\n",
            "Epoch 43/340\n",
            "94/94 [==============================] - 87s 927ms/step - loss: 1.4375 - categorical_accuracy: 0.4364 - val_loss: 1.5823 - val_categorical_accuracy: 0.4225 - lr: 0.0010\n",
            "Epoch 44/340\n",
            "94/94 [==============================] - 87s 924ms/step - loss: 1.4252 - categorical_accuracy: 0.4368 - val_loss: 1.5919 - val_categorical_accuracy: 0.3991 - lr: 0.0010\n",
            "Epoch 45/340\n",
            "94/94 [==============================] - 87s 924ms/step - loss: 1.4482 - categorical_accuracy: 0.4345 - val_loss: 1.6578 - val_categorical_accuracy: 0.3709 - lr: 0.0010\n",
            "Epoch 46/340\n",
            "94/94 [==============================] - 87s 928ms/step - loss: 1.4521 - categorical_accuracy: 0.4434 - val_loss: 1.6187 - val_categorical_accuracy: 0.3474 - lr: 0.0010\n",
            "Epoch 47/340\n",
            "94/94 [==============================] - 88s 933ms/step - loss: 1.4470 - categorical_accuracy: 0.4424 - val_loss: 1.6493 - val_categorical_accuracy: 0.3427 - lr: 0.0010\n",
            "Epoch 48/340\n",
            "94/94 [==============================] - 87s 924ms/step - loss: 1.4328 - categorical_accuracy: 0.4364 - val_loss: 1.6742 - val_categorical_accuracy: 0.3850 - lr: 0.0010\n",
            "Epoch 49/340\n",
            "94/94 [==============================] - 87s 922ms/step - loss: 1.4245 - categorical_accuracy: 0.4382 - val_loss: 1.6471 - val_categorical_accuracy: 0.3850 - lr: 0.0010\n",
            "Epoch 50/340\n",
            "94/94 [==============================] - 87s 929ms/step - loss: 1.3977 - categorical_accuracy: 0.4611 - val_loss: 1.5467 - val_categorical_accuracy: 0.4085 - lr: 0.0010\n",
            "Epoch 51/340\n",
            "94/94 [==============================] - 87s 929ms/step - loss: 1.3980 - categorical_accuracy: 0.4583 - val_loss: 1.5036 - val_categorical_accuracy: 0.4366 - lr: 0.0010\n",
            "Epoch 52/340\n",
            "94/94 [==============================] - 87s 922ms/step - loss: 1.3700 - categorical_accuracy: 0.4755 - val_loss: 1.6614 - val_categorical_accuracy: 0.4038 - lr: 0.0010\n",
            "Epoch 53/340\n",
            "94/94 [==============================] - 87s 928ms/step - loss: 1.3928 - categorical_accuracy: 0.4643 - val_loss: 1.5247 - val_categorical_accuracy: 0.4131 - lr: 0.0010\n",
            "Epoch 54/340\n",
            "94/94 [==============================] - 88s 937ms/step - loss: 1.3915 - categorical_accuracy: 0.4653 - val_loss: 1.5795 - val_categorical_accuracy: 0.4507 - lr: 0.0010\n",
            "Epoch 55/340\n",
            "94/94 [==============================] - 87s 930ms/step - loss: 1.3899 - categorical_accuracy: 0.4690 - val_loss: 1.5629 - val_categorical_accuracy: 0.4038 - lr: 0.0010\n",
            "Epoch 56/340\n",
            "94/94 [==============================] - 87s 926ms/step - loss: 1.3576 - categorical_accuracy: 0.4811 - val_loss: 1.5121 - val_categorical_accuracy: 0.4272 - lr: 0.0010\n",
            "Epoch 57/340\n",
            "94/94 [==============================] - 87s 925ms/step - loss: 1.3442 - categorical_accuracy: 0.4737 - val_loss: 1.4531 - val_categorical_accuracy: 0.4930 - lr: 0.0010\n",
            "Epoch 58/340\n",
            "94/94 [==============================] - 87s 927ms/step - loss: 1.3395 - categorical_accuracy: 0.4970 - val_loss: 1.5590 - val_categorical_accuracy: 0.3709 - lr: 0.0010\n",
            "Epoch 59/340\n",
            "94/94 [==============================] - 87s 927ms/step - loss: 1.3376 - categorical_accuracy: 0.4923 - val_loss: 1.4875 - val_categorical_accuracy: 0.4507 - lr: 0.0010\n",
            "Epoch 60/340\n",
            "94/94 [==============================] - 87s 926ms/step - loss: 1.3149 - categorical_accuracy: 0.4993 - val_loss: 1.4978 - val_categorical_accuracy: 0.4648 - lr: 0.0010\n",
            "Epoch 61/340\n",
            "94/94 [==============================] - 87s 927ms/step - loss: 1.3022 - categorical_accuracy: 0.5002 - val_loss: 1.5271 - val_categorical_accuracy: 0.4413 - lr: 0.0010\n",
            "Epoch 62/340\n",
            "94/94 [==============================] - 87s 923ms/step - loss: 1.3051 - categorical_accuracy: 0.5077 - val_loss: 1.4814 - val_categorical_accuracy: 0.4460 - lr: 0.0010\n",
            "Epoch 63/340\n",
            "94/94 [==============================] - 87s 925ms/step - loss: 1.2787 - categorical_accuracy: 0.4937 - val_loss: 1.5414 - val_categorical_accuracy: 0.3991 - lr: 0.0010\n",
            "Epoch 64/340\n",
            "94/94 [==============================] - 96s 1s/step - loss: 1.3010 - categorical_accuracy: 0.5030 - val_loss: 1.4850 - val_categorical_accuracy: 0.4507 - lr: 0.0010\n",
            "Epoch 65/340\n",
            "94/94 [==============================] - 89s 952ms/step - loss: 1.2724 - categorical_accuracy: 0.5138 - val_loss: 1.5695 - val_categorical_accuracy: 0.4178 - lr: 0.0010\n",
            "Epoch 66/340\n",
            "94/94 [==============================] - 89s 949ms/step - loss: 1.2568 - categorical_accuracy: 0.5245 - val_loss: 1.4307 - val_categorical_accuracy: 0.4883 - lr: 0.0010\n",
            "Epoch 67/340\n",
            "94/94 [==============================] - 88s 932ms/step - loss: 1.2755 - categorical_accuracy: 0.5091 - val_loss: 1.5425 - val_categorical_accuracy: 0.4131 - lr: 0.0010\n",
            "Epoch 68/340\n",
            "94/94 [==============================] - 87s 928ms/step - loss: 1.2431 - categorical_accuracy: 0.5226 - val_loss: 1.6205 - val_categorical_accuracy: 0.4131 - lr: 0.0010\n",
            "Epoch 69/340\n",
            "94/94 [==============================] - 87s 925ms/step - loss: 1.2558 - categorical_accuracy: 0.5296 - val_loss: 1.4313 - val_categorical_accuracy: 0.4272 - lr: 0.0010\n",
            "Epoch 70/340\n",
            "94/94 [==============================] - 87s 923ms/step - loss: 1.2348 - categorical_accuracy: 0.5184 - val_loss: 1.4990 - val_categorical_accuracy: 0.4272 - lr: 0.0010\n",
            "Epoch 71/340\n",
            "94/94 [==============================] - 88s 932ms/step - loss: 1.2088 - categorical_accuracy: 0.5487 - val_loss: 1.5569 - val_categorical_accuracy: 0.4319 - lr: 0.0010\n",
            "Epoch 72/340\n",
            "94/94 [==============================] - 87s 922ms/step - loss: 1.2492 - categorical_accuracy: 0.5277 - val_loss: 1.4220 - val_categorical_accuracy: 0.4648 - lr: 0.0010\n",
            "Epoch 73/340\n",
            "94/94 [==============================] - 87s 928ms/step - loss: 1.2133 - categorical_accuracy: 0.5478 - val_loss: 1.4650 - val_categorical_accuracy: 0.4225 - lr: 0.0010\n",
            "Epoch 74/340\n",
            "94/94 [==============================] - 87s 923ms/step - loss: 1.2220 - categorical_accuracy: 0.5273 - val_loss: 1.5275 - val_categorical_accuracy: 0.4272 - lr: 0.0010\n",
            "Epoch 75/340\n",
            "94/94 [==============================] - 87s 930ms/step - loss: 1.2378 - categorical_accuracy: 0.5198 - val_loss: 1.6325 - val_categorical_accuracy: 0.3662 - lr: 0.0010\n",
            "Epoch 76/340\n",
            "94/94 [==============================] - 88s 932ms/step - loss: 1.2047 - categorical_accuracy: 0.5436 - val_loss: 1.4622 - val_categorical_accuracy: 0.4695 - lr: 0.0010\n",
            "Epoch 77/340\n",
            "94/94 [==============================] - 87s 925ms/step - loss: 1.2252 - categorical_accuracy: 0.5296 - val_loss: 1.3704 - val_categorical_accuracy: 0.4742 - lr: 0.0010\n",
            "Epoch 78/340\n",
            "94/94 [==============================] - 87s 929ms/step - loss: 1.1916 - categorical_accuracy: 0.5371 - val_loss: 1.4615 - val_categorical_accuracy: 0.4742 - lr: 0.0010\n",
            "Epoch 79/340\n",
            "94/94 [==============================] - 87s 924ms/step - loss: 1.2111 - categorical_accuracy: 0.5310 - val_loss: 1.5183 - val_categorical_accuracy: 0.4648 - lr: 0.0010\n",
            "Epoch 80/340\n",
            "94/94 [==============================] - 86s 919ms/step - loss: 1.1985 - categorical_accuracy: 0.5431 - val_loss: 1.4401 - val_categorical_accuracy: 0.4742 - lr: 0.0010\n",
            "Epoch 81/340\n",
            "94/94 [==============================] - 87s 926ms/step - loss: 1.1733 - categorical_accuracy: 0.5483 - val_loss: 1.4636 - val_categorical_accuracy: 0.4836 - lr: 0.0010\n",
            "Epoch 82/340\n",
            "94/94 [==============================] - 87s 928ms/step - loss: 1.1627 - categorical_accuracy: 0.5543 - val_loss: 1.4865 - val_categorical_accuracy: 0.4601 - lr: 0.0010\n",
            "Epoch 83/340\n",
            "94/94 [==============================] - 87s 928ms/step - loss: 1.1670 - categorical_accuracy: 0.5580 - val_loss: 1.4789 - val_categorical_accuracy: 0.4131 - lr: 0.0010\n",
            "Epoch 84/340\n",
            "94/94 [==============================] - 87s 921ms/step - loss: 1.1546 - categorical_accuracy: 0.5627 - val_loss: 1.4926 - val_categorical_accuracy: 0.4225 - lr: 0.0010\n",
            "Epoch 85/340\n",
            "94/94 [==============================] - 87s 926ms/step - loss: 1.1580 - categorical_accuracy: 0.5543 - val_loss: 1.5549 - val_categorical_accuracy: 0.3991 - lr: 0.0010\n",
            "Epoch 86/340\n",
            "94/94 [==============================] - 88s 932ms/step - loss: 1.1785 - categorical_accuracy: 0.5450 - val_loss: 1.4592 - val_categorical_accuracy: 0.4460 - lr: 0.0010\n",
            "Epoch 87/340\n",
            "94/94 [==============================] - 87s 930ms/step - loss: 1.1354 - categorical_accuracy: 0.5571 - val_loss: 1.3696 - val_categorical_accuracy: 0.5211 - lr: 0.0010\n",
            "Epoch 88/340\n",
            "94/94 [==============================] - 87s 924ms/step - loss: 1.1388 - categorical_accuracy: 0.5683 - val_loss: 1.4524 - val_categorical_accuracy: 0.4507 - lr: 0.0010\n",
            "Epoch 89/340\n",
            "94/94 [==============================] - 87s 927ms/step - loss: 1.0672 - categorical_accuracy: 0.5963 - val_loss: 1.5552 - val_categorical_accuracy: 0.4131 - lr: 0.0010\n",
            "Epoch 90/340\n",
            "94/94 [==============================] - 87s 926ms/step - loss: 1.1369 - categorical_accuracy: 0.5683 - val_loss: 1.5296 - val_categorical_accuracy: 0.3944 - lr: 0.0010\n",
            "Epoch 91/340\n",
            "94/94 [==============================] - 87s 925ms/step - loss: 1.1225 - categorical_accuracy: 0.5655 - val_loss: 1.4943 - val_categorical_accuracy: 0.4695 - lr: 0.0010\n",
            "Epoch 92/340\n",
            "94/94 [==============================] - 87s 926ms/step - loss: 1.0796 - categorical_accuracy: 0.5846 - val_loss: 1.4999 - val_categorical_accuracy: 0.4742 - lr: 0.0010\n",
            "Epoch 93/340\n",
            "94/94 [==============================] - 87s 925ms/step - loss: 1.0777 - categorical_accuracy: 0.5823 - val_loss: 1.3918 - val_categorical_accuracy: 0.4883 - lr: 0.0010\n",
            "Epoch 94/340\n",
            "94/94 [==============================] - 87s 929ms/step - loss: 1.0869 - categorical_accuracy: 0.5790 - val_loss: 1.5214 - val_categorical_accuracy: 0.4178 - lr: 0.0010\n",
            "Epoch 95/340\n",
            "94/94 [==============================] - 88s 933ms/step - loss: 1.0894 - categorical_accuracy: 0.5846 - val_loss: 1.3913 - val_categorical_accuracy: 0.4930 - lr: 0.0010\n",
            "Epoch 96/340\n",
            "94/94 [==============================] - 87s 925ms/step - loss: 1.0929 - categorical_accuracy: 0.5758 - val_loss: 1.6407 - val_categorical_accuracy: 0.4319 - lr: 0.0010\n",
            "Epoch 97/340\n",
            "94/94 [==============================] - 87s 928ms/step - loss: 1.0759 - categorical_accuracy: 0.5818 - val_loss: 1.6013 - val_categorical_accuracy: 0.4789 - lr: 0.0010\n",
            "Epoch 97: early stopping\n"
          ]
        }
      ]
    },
    {
      "cell_type": "code",
      "source": [
        ""
      ],
      "metadata": {
        "id": "3MekXCZHizyZ"
      },
      "execution_count": 16,
      "outputs": []
    },
    {
      "cell_type": "code",
      "source": [
        "print(f\"Running time: {(toc - tic)/60:0.4f} minutes\")"
      ],
      "metadata": {
        "id": "cHmSBRhVOELJ",
        "colab": {
          "base_uri": "https://localhost:8080/"
        },
        "outputId": "636387b6-1fcb-4906-d0e6-ab038b6d627d"
      },
      "execution_count": 17,
      "outputs": [
        {
          "output_type": "stream",
          "name": "stdout",
          "text": [
            "Running time: 142.3640 minutes\n"
          ]
        }
      ]
    },
    {
      "cell_type": "markdown",
      "source": [
        "## Loading Model"
      ],
      "metadata": {
        "id": "jCQelzMAKixD"
      }
    },
    {
      "cell_type": "code",
      "source": [
        "# Define the best weights to the model.\\\n",
        "#model.load_weights(checkpoint_path)"
      ],
      "metadata": {
        "id": "gruZAW2wI-tO"
      },
      "execution_count": 18,
      "outputs": []
    },
    {
      "cell_type": "markdown",
      "source": [
        "# Evaluation"
      ],
      "metadata": {
        "id": "kDxTjEK0KixD"
      }
    },
    {
      "cell_type": "markdown",
      "source": [
        "## Save & Load model, weights"
      ],
      "metadata": {
        "id": "1YfguG0tPatV"
      }
    },
    {
      "cell_type": "code",
      "source": [
        "# Saving model & weights\n",
        "model_path = Ravdess + \"/model/\"\n",
        "model_json = model.to_json()\n",
        "\n",
        "\n",
        "\n",
        "with open(saved_model_path, \"w\") as json_file:\n",
        "    json_file.write(model_json)\n",
        "    \n",
        "model.save_weights(saved_weights_path)\n",
        "print(\"Saved model to disk\")"
      ],
      "metadata": {
        "colab": {
          "base_uri": "https://localhost:8080/"
        },
        "id": "MsVoNhqmgGsK",
        "outputId": "4cdd22f9-e7e3-4886-e1ab-8edcebdab081"
      },
      "execution_count": 19,
      "outputs": [
        {
          "output_type": "stream",
          "name": "stdout",
          "text": [
            "Saved model to disk\n"
          ]
        }
      ]
    },
    {
      "cell_type": "code",
      "source": [
        "# Reading the model from JSON file\n",
        "#model_path = Ravdess + \"/model/\"\n",
        "#saved_model_path = model_path + 'model8723.json'\n",
        "#saved_weights_path = model_path + 'model8723_weights.h5'\n",
        "\n",
        "\n",
        "with open(saved_model_path , 'r') as json_file:\n",
        "    json_savedModel = json_file.read()\n",
        "    \n",
        "# Loading the model architecture, weights\n",
        "model = tf.keras.models.model_from_json(json_savedModel)\n",
        "model.load_weights(saved_weights_path)\n",
        "\n",
        "# Compiling the model with similar parameters as the original model.\n",
        "model.compile(loss='categorical_crossentropy', \n",
        "                optimizer='RMSProp', \n",
        "                metrics=['categorical_accuracy'])\n",
        "\n",
        "# Model's structure visualization\n",
        "tf.keras.utils.plot_model(model, to_file='model.png', show_shapes=True, show_layer_names=True)"
      ],
      "metadata": {
        "colab": {
          "base_uri": "https://localhost:8080/",
          "height": 0
        },
        "id": "y4OJGhLmgfX6",
        "outputId": "d0adbe80-6edd-42de-f465-169831634213"
      },
      "execution_count": 20,
      "outputs": [
        {
          "output_type": "execute_result",
          "data": {
            "text/plain": [
              "<IPython.core.display.Image object>"
            ],
            "image/png": "[encoded data removed]"
          },
          "metadata": {},
          "execution_count": 20
        }
      ]
    },
    {
      "cell_type": "code",
      "source": [
        ""
      ],
      "metadata": {
        "id": "B_SW6eUAgvEj"
      },
      "execution_count": 20,
      "outputs": []
    },
    {
      "cell_type": "code",
      "source": [
        ""
      ],
      "metadata": {
        "id": "cCfkUXTYgzSB"
      },
      "execution_count": 20,
      "outputs": []
    },
    {
      "cell_type": "code",
      "source": [
        "model.save(saved_model_path_2)"
      ],
      "metadata": {
        "trusted": true,
        "id": "Z5Uzb_bGKixE"
      },
      "execution_count": 21,
      "outputs": []
    },
    {
      "cell_type": "markdown",
      "source": [
        "## Train (fit) Visualization"
      ],
      "metadata": {
        "id": "ATvBW0SPO-eq"
      }
    },
    {
      "cell_type": "code",
      "source": [
        "# Loss, Accuracy presentation\n",
        "\n",
        "# Plot history: Loss\n",
        "plt.plot(history.history['loss'], label='Loss (training data)')\n",
        "plt.plot(history.history['val_loss'], label='Loss (validation data)')\n",
        "plt.title('Loss for train and validation')\n",
        "plt.ylabel('Loss value')\n",
        "plt.xlabel('No. epoch')\n",
        "plt.legend(loc=\"upper left\")\n",
        "plt.show()\n",
        "\n",
        "#Plot history: Accuracy\n",
        "plt.plot(history.history['categorical_accuracy'], label='Acc (training data)')\n",
        "plt.plot(history.history['val_categorical_accuracy'], label='Acc (validation data)')\n",
        "plt.title('Model accuracy')\n",
        "plt.ylabel('Acc %')\n",
        "plt.xlabel('No. epoch')\n",
        "plt.legend(loc=\"upper left\")\n",
        "plt.show()"
      ],
      "metadata": {
        "colab": {
          "base_uri": "https://localhost:8080/",
          "height": 573
        },
        "id": "UjhUHhU_f4EY",
        "outputId": "833630cb-d27d-40ff-902a-448b177e19d4"
      },
      "execution_count": 22,
      "outputs": [
        {
          "output_type": "display_data",
          "data": {
            "text/plain": [
              "<Figure size 432x288 with 1 Axes>"
            ],
            "image/png": "[encoded data removed]"
          },
          "metadata": {
            "needs_background": "light"
          }
        },
        {
          "output_type": "display_data",
          "data": {
            "text/plain": [
              "<Figure size 432x288 with 1 Axes>"
            ],
            "image/png": "[encoded data removed]"
          },
          "metadata": {
            "needs_background": "light"
          }
        }
      ]
    },
    {
      "cell_type": "markdown",
      "source": [
        "## Validation Set Evaluation"
      ],
      "metadata": {
        "id": "UZ3lFduxPQeB"
      }
    },
    {
      "cell_type": "markdown",
      "source": [
        "### Val Set Score"
      ],
      "metadata": {
        "id": "5YoYCa22PMGz"
      }
    },
    {
      "cell_type": "code",
      "source": [
        ""
      ],
      "metadata": {
        "id": "jQavrzbB_8fy"
      },
      "execution_count": 22,
      "outputs": []
    },
    {
      "cell_type": "code",
      "source": [
        "# Validation score\n",
        "loss,acc = model.evaluate(x_val, y_val_class, verbose=2)\n"
      ],
      "metadata": {
        "id": "X_KdTUyrf7-j",
        "colab": {
          "base_uri": "https://localhost:8080/"
        },
        "outputId": "e6ed8381-d2a2-48cb-a07b-11b0b2982064"
      },
      "execution_count": 23,
      "outputs": [
        {
          "output_type": "stream",
          "name": "stdout",
          "text": [
            "7/7 - 2s - loss: 1.6013 - categorical_accuracy: 0.4789 - 2s/epoch - 353ms/step\n"
          ]
        }
      ]
    },
    {
      "cell_type": "code",
      "source": [
        ""
      ],
      "metadata": {
        "id": "09k_I9DM_2Q0"
      },
      "execution_count": 23,
      "outputs": []
    },
    {
      "cell_type": "markdown",
      "source": [
        "### Construct Predicted Labels based on Probability of each class"
      ],
      "metadata": {
        "id": "hz7nc15A_3hb"
      }
    },
    {
      "cell_type": "code",
      "source": [
        "y_val_class"
      ],
      "metadata": {
        "colab": {
          "base_uri": "https://localhost:8080/"
        },
        "id": "CFM1P2SZ_85N",
        "outputId": "9395a564-679c-49bd-a55c-844da055c6ad"
      },
      "execution_count": 24,
      "outputs": [
        {
          "output_type": "execute_result",
          "data": {
            "text/plain": [
              "array([[0, 0, 0, ..., 1, 0, 0],\n",
              "       [0, 0, 0, ..., 1, 0, 0],\n",
              "       [0, 0, 1, ..., 0, 0, 0],\n",
              "       ...,\n",
              "       [1, 0, 0, ..., 0, 0, 0],\n",
              "       [0, 0, 1, ..., 0, 0, 0],\n",
              "       [0, 0, 0, ..., 0, 0, 0]], dtype=int8)"
            ]
          },
          "metadata": {},
          "execution_count": 24
        }
      ]
    },
    {
      "cell_type": "code",
      "source": [
        "np.argmax(y_val_class, axis=1)"
      ],
      "metadata": {
        "colab": {
          "base_uri": "https://localhost:8080/"
        },
        "id": "C9UHSeXbAASy",
        "outputId": "28a5c1ec-1f9f-492e-b6e2-46923e22c2bb"
      },
      "execution_count": 25,
      "outputs": [
        {
          "output_type": "execute_result",
          "data": {
            "text/plain": [
              "array([5, 5, 2, 4, 4, 5, 3, 5, 1, 7, 1, 6, 1, 0, 3, 5, 4, 5, 0, 4, 4, 7,\n",
              "       3, 5, 5, 3, 4, 7, 6, 3, 1, 4, 1, 4, 3, 4, 5, 0, 1, 3, 3, 6, 2, 3,\n",
              "       3, 4, 3, 4, 5, 1, 2, 2, 2, 3, 1, 3, 5, 3, 5, 6, 2, 1, 5, 0, 3, 2,\n",
              "       1, 7, 3, 2, 0, 5, 1, 5, 2, 1, 7, 7, 3, 4, 0, 5, 4, 3, 0, 6, 5, 2,\n",
              "       2, 7, 3, 1, 1, 2, 4, 4, 1, 5, 6, 3, 2, 2, 2, 4, 5, 7, 5, 6, 1, 4,\n",
              "       2, 2, 6, 1, 2, 3, 2, 3, 4, 4, 6, 4, 5, 4, 6, 0, 5, 7, 2, 7, 0, 2,\n",
              "       7, 1, 4, 4, 1, 1, 1, 2, 5, 3, 2, 2, 0, 6, 4, 6, 1, 4, 7, 2, 3, 2,\n",
              "       3, 2, 4, 2, 4, 6, 5, 2, 4, 4, 4, 7, 4, 2, 4, 3, 6, 3, 0, 5, 3, 0,\n",
              "       1, 1, 4, 4, 2, 5, 2, 7, 5, 4, 3, 4, 0, 5, 4, 2, 6, 2, 2, 3, 2, 3,\n",
              "       5, 6, 3, 2, 4, 6, 2, 5, 3, 0, 2, 4, 0, 2, 4])"
            ]
          },
          "metadata": {},
          "execution_count": 25
        }
      ]
    },
    {
      "cell_type": "code",
      "source": [
        "y_val_class = np.argmax(y_val_class, axis=1)\n",
        "predictions_val = model.predict(x_val)\n",
        "y_proba_val_class = predictions_val\n",
        "y_pred_val_class = np.argmax(predictions_val, axis=1)"
      ],
      "metadata": {
        "id": "urjydD-38JK7"
      },
      "execution_count": 26,
      "outputs": []
    },
    {
      "cell_type": "code",
      "source": [
        "predictions_val\n"
      ],
      "metadata": {
        "colab": {
          "base_uri": "https://localhost:8080/"
        },
        "id": "Zb7dGRs3AEJn",
        "outputId": "dc3d95a5-52a8-49b5-8ba7-a870ddc8a3d7"
      },
      "execution_count": 27,
      "outputs": [
        {
          "output_type": "execute_result",
          "data": {
            "text/plain": [
              "array([[1.7062994e-02, 8.8792411e-04, 9.0833557e-01, ..., 4.2164128e-02,\n",
              "        3.1489340e-05, 1.6805249e-04],\n",
              "       [4.4405262e-04, 1.9218359e-04, 3.4585229e-01, ..., 5.1322055e-01,\n",
              "        1.7399470e-04, 4.4117579e-03],\n",
              "       [1.2251211e-01, 1.2182607e-02, 8.1172627e-01, ..., 2.5395358e-02,\n",
              "        2.9603101e-04, 1.6687068e-04],\n",
              "       ...,\n",
              "       [6.5924335e-01, 5.6938283e-02, 6.6892423e-02, ..., 4.7268439e-02,\n",
              "        1.9820606e-02, 9.4476536e-02],\n",
              "       [1.3495578e-02, 1.1339186e-03, 5.9523231e-01, ..., 2.7534568e-01,\n",
              "        1.0163533e-04, 6.0125213e-04],\n",
              "       [1.6276471e-01, 2.6784146e-02, 7.6900434e-01, ..., 2.5090750e-02,\n",
              "        8.2743744e-04, 1.7687242e-04]], dtype=float32)"
            ]
          },
          "metadata": {},
          "execution_count": 27
        }
      ]
    },
    {
      "cell_type": "code",
      "source": [
        "y_pred_val_class "
      ],
      "metadata": {
        "colab": {
          "base_uri": "https://localhost:8080/"
        },
        "id": "KxHa1Ss1AJo4",
        "outputId": "d9586d7a-5f14-4391-f90a-d60df7f8c173"
      },
      "execution_count": 28,
      "outputs": [
        {
          "output_type": "execute_result",
          "data": {
            "text/plain": [
              "array([2, 5, 2, 2, 7, 2, 5, 3, 1, 7, 1, 6, 1, 1, 7, 6, 1, 5, 1, 2, 5, 7,\n",
              "       1, 5, 5, 4, 4, 7, 2, 5, 1, 5, 2, 4, 1, 2, 2, 1, 3, 2, 3, 6, 5, 1,\n",
              "       1, 4, 1, 2, 2, 1, 2, 2, 0, 3, 1, 2, 5, 1, 5, 6, 0, 4, 7, 1, 3, 2,\n",
              "       1, 7, 2, 5, 0, 5, 0, 4, 2, 1, 5, 7, 4, 4, 1, 4, 1, 1, 1, 1, 0, 3,\n",
              "       2, 2, 2, 1, 1, 2, 4, 2, 1, 5, 1, 1, 0, 2, 2, 7, 5, 2, 6, 0, 1, 4,\n",
              "       2, 2, 6, 1, 2, 3, 5, 1, 4, 4, 1, 4, 2, 7, 0, 0, 5, 7, 2, 7, 2, 5,\n",
              "       7, 1, 4, 2, 1, 1, 1, 2, 5, 1, 2, 5, 1, 6, 1, 4, 1, 2, 7, 1, 2, 7,\n",
              "       1, 7, 4, 2, 2, 6, 5, 2, 4, 2, 7, 2, 4, 7, 7, 0, 6, 3, 1, 0, 1, 0,\n",
              "       1, 1, 5, 4, 7, 7, 5, 0, 5, 2, 4, 4, 0, 3, 4, 2, 3, 7, 2, 1, 2, 3,\n",
              "       2, 6, 1, 5, 2, 2, 2, 6, 3, 0, 7, 4, 0, 2, 2])"
            ]
          },
          "metadata": {},
          "execution_count": 28
        }
      ]
    },
    {
      "cell_type": "markdown",
      "source": [
        "### Val Set Confusion Matrix and Heatmap"
      ],
      "metadata": {
        "id": "d2ullxf9PUMd"
      }
    },
    {
      "cell_type": "code",
      "source": [
        "# Validation Confusion matrix\n",
        "cm=confusion_matrix(y_val_class, y_pred_val_class)\n",
        "\n",
        "index = ['neutral', 'calm', 'happy', 'sad', 'angry', 'fearful', 'disgust', 'surprised']  \n",
        "columns = ['neutral', 'calm', 'happy', 'sad', 'angry', 'fearful', 'disgust', 'surprised']  \n",
        " \n",
        "cm_df = pd.DataFrame(cm,index,columns)                      \n",
        "plt.figure(figsize=(12,8))\n",
        "ax = plt.axes()\n",
        "\n",
        "sns.heatmap(cm_df, ax = ax, cmap = 'PuBu', fmt=\"d\", annot=True)\n",
        "ax.set_ylabel('True emotion')\n",
        "ax.set_xlabel('Predicted emotion')"
      ],
      "metadata": {
        "colab": {
          "base_uri": "https://localhost:8080/",
          "height": 0
        },
        "id": "doLcg3CTf9bx",
        "outputId": "2f6afe1f-d77e-4566-c6ad-5deab9dbeac7"
      },
      "execution_count": 29,
      "outputs": [
        {
          "output_type": "execute_result",
          "data": {
            "text/plain": [
              "Text(0.5, 51.0, 'Predicted emotion')"
            ]
          },
          "metadata": {},
          "execution_count": 29
        },
        {
          "output_type": "display_data",
          "data": {
            "text/plain": [
              "<Figure size 864x576 with 2 Axes>"
            ],
            "image/png": "[encoded data removed]"
          },
          "metadata": {
            "needs_background": "light"
          }
        }
      ]
    },
    {
      "cell_type": "code",
      "source": [
        "# Confusion Matrix\n",
        "cm"
      ],
      "metadata": {
        "colab": {
          "base_uri": "https://localhost:8080/"
        },
        "id": "hIEG9Pia8Nfp",
        "outputId": "530312c5-ad2c-411c-cb21-2c4eaa7338f1"
      },
      "execution_count": 30,
      "outputs": [
        {
          "output_type": "execute_result",
          "data": {
            "text/plain": [
              "array([[ 6,  8,  1,  0,  0,  0,  0,  0],\n",
              "       [ 1, 20,  1,  1,  1,  0,  0,  0],\n",
              "       [ 3,  1, 22,  1,  0,  7,  0,  6],\n",
              "       [ 1, 14,  5,  7,  3,  2,  0,  1],\n",
              "       [ 0,  3, 12,  0, 17,  3,  0,  5],\n",
              "       [ 2,  0,  6,  2,  2, 13,  3,  2],\n",
              "       [ 2,  3,  2,  1,  1,  0,  8,  0],\n",
              "       [ 1,  0,  3,  0,  0,  1,  0,  9]])"
            ]
          },
          "metadata": {},
          "execution_count": 30
        }
      ]
    },
    {
      "cell_type": "markdown",
      "source": [
        "### Validation Set Predicted emotions accuracy"
      ],
      "metadata": {
        "id": "kWjKgUdRPYH5"
      }
    },
    {
      "cell_type": "code",
      "source": [
        "# Validation set prediction accuracy rates\n",
        "\n",
        "values = cm.diagonal()\n",
        "row_sum = np.sum(cm,axis=1)\n",
        "acc = values / row_sum\n",
        "\n",
        "print('Validation set predicted emotions accuracy:')\n",
        "for e in range(0, len(values)):\n",
        "    print(index[e],':', f\"{(acc[e]):0.4f}\")"
      ],
      "metadata": {
        "colab": {
          "base_uri": "https://localhost:8080/"
        },
        "id": "MopdywY9f-mS",
        "outputId": "e8a716c5-f273-401d-b216-efc76b9cc2af"
      },
      "execution_count": 31,
      "outputs": [
        {
          "output_type": "stream",
          "name": "stdout",
          "text": [
            "Validation set predicted emotions accuracy:\n",
            "neutral : 0.4000\n",
            "calm : 0.8333\n",
            "happy : 0.5500\n",
            "sad : 0.2121\n",
            "angry : 0.4250\n",
            "fearful : 0.4333\n",
            "disgust : 0.4706\n",
            "surprised : 0.6429\n"
          ]
        }
      ]
    },
    {
      "cell_type": "markdown",
      "source": [
        "### Precision, Recal, Fscore"
      ],
      "metadata": {
        "id": "DGSTy2228XRH"
      }
    },
    {
      "cell_type": "code",
      "source": [
        "# Validation set precision, recall, fscore\n",
        "\n",
        "precision_recall_fscore_support(y_val_class, y_pred_val_class, average='macro')\n"
      ],
      "metadata": {
        "colab": {
          "base_uri": "https://localhost:8080/"
        },
        "id": "rOwUkCG0gGpm",
        "outputId": "dbcad419-5ec7-4347-91f5-ecae7bccd863"
      },
      "execution_count": 32,
      "outputs": [
        {
          "output_type": "execute_result",
          "data": {
            "text/plain": [
              "(0.5145604912685657, 0.49590415711739244, 0.4722330915687627, None)"
            ]
          },
          "metadata": {},
          "execution_count": 32
        }
      ]
    },
    {
      "cell_type": "code",
      "source": [
        "precision_recall_fscore_support(y_val_class, y_pred_val_class, average='weighted')"
      ],
      "metadata": {
        "colab": {
          "base_uri": "https://localhost:8080/"
        },
        "id": "OorFgXxDzy3o",
        "outputId": "5567e5a4-4997-466f-f6d9-42f8fc8653f6"
      },
      "execution_count": 33,
      "outputs": [
        {
          "output_type": "execute_result",
          "data": {
            "text/plain": [
              "(0.529432985243938, 0.4788732394366197, 0.46975542698287975, None)"
            ]
          },
          "metadata": {},
          "execution_count": 33
        }
      ]
    },
    {
      "cell_type": "markdown",
      "source": [
        "## Test Set Evaluation"
      ],
      "metadata": {
        "id": "FiCwOjmPPgCn"
      }
    },
    {
      "cell_type": "markdown",
      "source": [
        "### Test Set Score\n",
        "\n"
      ],
      "metadata": {
        "id": "CWB7U5xDUSmF"
      }
    },
    {
      "cell_type": "code",
      "source": [
        "loss, acc = model.evaluate(x_test, y_test_class, verbose=2)"
      ],
      "metadata": {
        "id": "Y7NEHPM-gzml",
        "colab": {
          "base_uri": "https://localhost:8080/"
        },
        "outputId": "abc553e0-cde2-4dc0-9ab1-8bdc04d5c7a5"
      },
      "execution_count": 34,
      "outputs": [
        {
          "output_type": "stream",
          "name": "stdout",
          "text": [
            "3/3 - 1s - loss: 1.7981 - categorical_accuracy: 0.4255 - 674ms/epoch - 225ms/step\n"
          ]
        }
      ]
    },
    {
      "cell_type": "markdown",
      "source": [
        "### Construct Predicted Labels based on Probability of each class"
      ],
      "metadata": {
        "id": "gPwcFV9oAhGh"
      }
    },
    {
      "cell_type": "code",
      "source": [
        "y_test_class"
      ],
      "metadata": {
        "colab": {
          "base_uri": "https://localhost:8080/"
        },
        "id": "tjN7Eit7AiML",
        "outputId": "b0c0a5e7-cd95-4f4d-d83c-96b4fca93d11"
      },
      "execution_count": 35,
      "outputs": [
        {
          "output_type": "execute_result",
          "data": {
            "text/plain": [
              "array([[0, 0, 1, 0, 0, 0, 0, 0],\n",
              "       [0, 0, 1, 0, 0, 0, 0, 0],\n",
              "       [0, 0, 1, 0, 0, 0, 0, 0],\n",
              "       [1, 0, 0, 0, 0, 0, 0, 0],\n",
              "       [0, 0, 0, 0, 1, 0, 0, 0],\n",
              "       [0, 0, 0, 0, 0, 0, 1, 0],\n",
              "       [0, 0, 1, 0, 0, 0, 0, 0],\n",
              "       [1, 0, 0, 0, 0, 0, 0, 0],\n",
              "       [0, 0, 0, 0, 0, 1, 0, 0],\n",
              "       [1, 0, 0, 0, 0, 0, 0, 0],\n",
              "       [0, 0, 0, 1, 0, 0, 0, 0],\n",
              "       [0, 0, 0, 0, 0, 1, 0, 0],\n",
              "       [0, 0, 0, 0, 1, 0, 0, 0],\n",
              "       [0, 1, 0, 0, 0, 0, 0, 0],\n",
              "       [0, 0, 0, 0, 0, 0, 1, 0],\n",
              "       [0, 0, 0, 0, 1, 0, 0, 0],\n",
              "       [0, 0, 0, 1, 0, 0, 0, 0],\n",
              "       [0, 0, 0, 0, 0, 1, 0, 0],\n",
              "       [0, 0, 0, 0, 1, 0, 0, 0],\n",
              "       [0, 0, 0, 0, 0, 1, 0, 0],\n",
              "       [0, 0, 0, 0, 0, 0, 0, 1],\n",
              "       [0, 1, 0, 0, 0, 0, 0, 0],\n",
              "       [0, 0, 0, 0, 0, 0, 0, 1],\n",
              "       [0, 1, 0, 0, 0, 0, 0, 0],\n",
              "       [0, 0, 1, 0, 0, 0, 0, 0],\n",
              "       [0, 0, 0, 0, 0, 1, 0, 0],\n",
              "       [0, 0, 0, 0, 1, 0, 0, 0],\n",
              "       [0, 0, 0, 0, 0, 1, 0, 0],\n",
              "       [0, 0, 0, 0, 1, 0, 0, 0],\n",
              "       [0, 1, 0, 0, 0, 0, 0, 0],\n",
              "       [0, 0, 1, 0, 0, 0, 0, 0],\n",
              "       [0, 1, 0, 0, 0, 0, 0, 0],\n",
              "       [0, 0, 0, 1, 0, 0, 0, 0],\n",
              "       [0, 0, 0, 1, 0, 0, 0, 0],\n",
              "       [0, 0, 0, 1, 0, 0, 0, 0],\n",
              "       [0, 0, 0, 1, 0, 0, 0, 0],\n",
              "       [0, 0, 0, 1, 0, 0, 0, 0],\n",
              "       [0, 0, 0, 1, 0, 0, 0, 0],\n",
              "       [0, 0, 0, 0, 0, 1, 0, 0],\n",
              "       [0, 1, 0, 0, 0, 0, 0, 0],\n",
              "       [0, 0, 0, 0, 0, 1, 0, 0],\n",
              "       [0, 0, 1, 0, 0, 0, 0, 0],\n",
              "       [0, 1, 0, 0, 0, 0, 0, 0],\n",
              "       [0, 0, 0, 0, 0, 0, 1, 0],\n",
              "       [0, 0, 1, 0, 0, 0, 0, 0],\n",
              "       [0, 1, 0, 0, 0, 0, 0, 0],\n",
              "       [0, 0, 0, 1, 0, 0, 0, 0],\n",
              "       [0, 0, 0, 0, 0, 0, 1, 0],\n",
              "       [0, 1, 0, 0, 0, 0, 0, 0],\n",
              "       [0, 0, 0, 0, 0, 1, 0, 0],\n",
              "       [0, 0, 0, 0, 0, 0, 1, 0],\n",
              "       [0, 0, 0, 0, 0, 0, 0, 1],\n",
              "       [0, 0, 0, 0, 1, 0, 0, 0],\n",
              "       [0, 0, 1, 0, 0, 0, 0, 0],\n",
              "       [0, 0, 0, 0, 0, 0, 1, 0],\n",
              "       [0, 0, 0, 0, 1, 0, 0, 0],\n",
              "       [0, 0, 0, 0, 1, 0, 0, 0],\n",
              "       [0, 0, 0, 0, 0, 1, 0, 0],\n",
              "       [0, 0, 0, 0, 1, 0, 0, 0],\n",
              "       [0, 0, 0, 0, 1, 0, 0, 0],\n",
              "       [0, 0, 1, 0, 0, 0, 0, 0],\n",
              "       [0, 0, 0, 1, 0, 0, 0, 0],\n",
              "       [0, 1, 0, 0, 0, 0, 0, 0],\n",
              "       [0, 0, 0, 0, 0, 0, 0, 1],\n",
              "       [0, 0, 0, 0, 0, 0, 0, 1],\n",
              "       [0, 1, 0, 0, 0, 0, 0, 0],\n",
              "       [0, 0, 0, 0, 0, 0, 1, 0],\n",
              "       [0, 0, 0, 0, 1, 0, 0, 0],\n",
              "       [0, 0, 0, 1, 0, 0, 0, 0],\n",
              "       [0, 0, 0, 0, 0, 0, 0, 1],\n",
              "       [0, 0, 0, 0, 0, 0, 1, 0],\n",
              "       [0, 0, 1, 0, 0, 0, 0, 0],\n",
              "       [0, 0, 0, 0, 1, 0, 0, 0],\n",
              "       [0, 0, 0, 0, 0, 0, 1, 0],\n",
              "       [0, 1, 0, 0, 0, 0, 0, 0],\n",
              "       [1, 0, 0, 0, 0, 0, 0, 0],\n",
              "       [0, 1, 0, 0, 0, 0, 0, 0],\n",
              "       [0, 0, 1, 0, 0, 0, 0, 0],\n",
              "       [0, 0, 0, 0, 1, 0, 0, 0],\n",
              "       [0, 0, 0, 0, 0, 1, 0, 0],\n",
              "       [0, 0, 0, 0, 1, 0, 0, 0],\n",
              "       [0, 0, 0, 1, 0, 0, 0, 0],\n",
              "       [0, 1, 0, 0, 0, 0, 0, 0],\n",
              "       [0, 0, 0, 0, 1, 0, 0, 0],\n",
              "       [0, 0, 0, 1, 0, 0, 0, 0],\n",
              "       [0, 0, 0, 0, 0, 0, 1, 0],\n",
              "       [0, 0, 0, 0, 0, 0, 0, 1],\n",
              "       [0, 0, 0, 0, 0, 0, 0, 1],\n",
              "       [0, 0, 0, 0, 0, 1, 0, 0],\n",
              "       [0, 0, 0, 0, 0, 0, 0, 1],\n",
              "       [0, 1, 0, 0, 0, 0, 0, 0],\n",
              "       [0, 0, 1, 0, 0, 0, 0, 0],\n",
              "       [0, 1, 0, 0, 0, 0, 0, 0],\n",
              "       [0, 0, 0, 0, 1, 0, 0, 0]], dtype=int8)"
            ]
          },
          "metadata": {},
          "execution_count": 35
        }
      ]
    },
    {
      "cell_type": "code",
      "source": [
        " np.argmax(y_test_class, axis=1)"
      ],
      "metadata": {
        "colab": {
          "base_uri": "https://localhost:8080/"
        },
        "id": "2fcK-_HzAmc5",
        "outputId": "4fc2ed57-5ae1-4160-fa16-1e0054450589"
      },
      "execution_count": 36,
      "outputs": [
        {
          "output_type": "execute_result",
          "data": {
            "text/plain": [
              "array([2, 2, 2, 0, 4, 6, 2, 0, 5, 0, 3, 5, 4, 1, 6, 4, 3, 5, 4, 5, 7, 1,\n",
              "       7, 1, 2, 5, 4, 5, 4, 1, 2, 1, 3, 3, 3, 3, 3, 3, 5, 1, 5, 2, 1, 6,\n",
              "       2, 1, 3, 6, 1, 5, 6, 7, 4, 2, 6, 4, 4, 5, 4, 4, 2, 3, 1, 7, 7, 1,\n",
              "       6, 4, 3, 7, 6, 2, 4, 6, 1, 0, 1, 2, 4, 5, 4, 3, 1, 4, 3, 6, 7, 7,\n",
              "       5, 7, 1, 2, 1, 4])"
            ]
          },
          "metadata": {},
          "execution_count": 36
        }
      ]
    },
    {
      "cell_type": "code",
      "source": [
        "y_test_class = np.argmax(y_test_class, axis=1)\n",
        "predictions_test = model.predict(x_test)\n",
        "y_pred_test_class = np.argmax(predictions_test, axis=1)\n",
        "y_proba_test_class = predictions_test\n",
        "\n"
      ],
      "metadata": {
        "id": "uyXvoU2rAckI"
      },
      "execution_count": 37,
      "outputs": []
    },
    {
      "cell_type": "code",
      "source": [
        "predictions_test"
      ],
      "metadata": {
        "colab": {
          "base_uri": "https://localhost:8080/"
        },
        "id": "3BAOUaPwAtuY",
        "outputId": "866ac1b2-e89c-4f75-b430-932bde03d711"
      },
      "execution_count": 38,
      "outputs": [
        {
          "output_type": "execute_result",
          "data": {
            "text/plain": [
              "array([[4.71627057e-01, 1.74424246e-01, 6.93862736e-02, 1.32314190e-01,\n",
              "        5.19242184e-03, 8.69329199e-02, 2.16773935e-02, 3.84454578e-02],\n",
              "       [3.53679538e-01, 4.32590753e-01, 3.79173011e-02, 1.29781291e-01,\n",
              "        1.03364306e-04, 4.46817502e-02, 6.43560779e-04, 6.02425251e-04],\n",
              "       [4.28964105e-03, 2.32641512e-04, 2.91456103e-01, 3.95087572e-03,\n",
              "        4.83175278e-01, 2.12927982e-01, 3.42915126e-04, 3.62457661e-03],\n",
              "       [1.94577366e-01, 5.92771471e-01, 1.65244713e-02, 1.77986130e-01,\n",
              "        1.19369593e-04, 1.46006271e-02, 2.66536348e-03, 7.55135785e-04],\n",
              "       [9.83641250e-04, 1.28609070e-04, 2.58134399e-02, 3.11555318e-03,\n",
              "        1.35737255e-01, 4.39891279e-01, 1.72988838e-03, 3.92600268e-01],\n",
              "       [4.94384221e-05, 1.96943365e-05, 2.56136083e-03, 1.50170643e-03,\n",
              "        9.73801672e-01, 1.28836362e-02, 3.96342622e-03, 5.21907210e-03],\n",
              "       [4.73414324e-02, 8.85421969e-03, 4.73808758e-02, 1.71049647e-02,\n",
              "        2.55931709e-02, 5.07499754e-01, 1.48967495e-02, 3.31328779e-01],\n",
              "       [6.50683582e-01, 2.02168256e-01, 2.20569540e-02, 8.02242160e-02,\n",
              "        2.97148043e-04, 4.07911874e-02, 2.31932919e-03, 1.45930552e-03],\n",
              "       [5.53201558e-03, 1.15578319e-03, 5.12806624e-02, 4.04130947e-03,\n",
              "        1.99110480e-03, 5.51662385e-01, 2.11385472e-04, 3.84125322e-01],\n",
              "       [5.57511859e-02, 4.05537784e-01, 1.29994452e-01, 3.91648114e-01,\n",
              "        5.64896502e-03, 8.24608002e-03, 1.55699241e-03, 1.61647797e-03],\n",
              "       [2.43880317e-01, 8.01894665e-02, 1.42903358e-01, 2.36925811e-01,\n",
              "        2.79505476e-02, 2.62761742e-01, 4.31712810e-03, 1.07165019e-03],\n",
              "       [2.30333745e-03, 1.02158904e-03, 7.90640116e-01, 1.87750149e-03,\n",
              "        2.88960971e-02, 1.70230016e-01, 6.24309541e-05, 4.96887369e-03],\n",
              "       [5.41594066e-02, 9.90882590e-02, 2.79706568e-02, 2.82294780e-01,\n",
              "        2.17399850e-01, 1.16091454e-02, 3.02670360e-01, 4.80756955e-03],\n",
              "       [4.95506562e-02, 7.96507299e-01, 7.40485778e-03, 1.03503704e-01,\n",
              "        4.63689154e-04, 1.50881317e-02, 2.54192147e-02, 2.06241640e-03],\n",
              "       [2.28567747e-03, 5.48885716e-03, 4.76895162e-04, 1.58926640e-02,\n",
              "        1.53838936e-02, 1.01574622e-02, 9.46762919e-01, 3.55165428e-03],\n",
              "       [4.00950084e-04, 3.99828044e-04, 8.46395269e-03, 6.44663274e-02,\n",
              "        8.72428238e-01, 8.05831794e-03, 4.41330820e-02, 1.64934585e-03],\n",
              "       [5.49858017e-03, 5.98712312e-03, 7.25027084e-01, 9.08282120e-03,\n",
              "        3.22884470e-02, 2.20950395e-01, 2.57877982e-04, 9.07701906e-04],\n",
              "       [8.18800032e-01, 6.08993731e-02, 2.63550915e-02, 5.71400188e-02,\n",
              "        4.09895554e-03, 3.05452421e-02, 2.09329696e-03, 6.79968725e-05],\n",
              "       [2.64500704e-04, 3.53727446e-05, 6.13207519e-01, 1.24899053e-03,\n",
              "        1.06677040e-01, 2.43406966e-01, 1.32311659e-04, 3.50273214e-02],\n",
              "       [3.27958539e-03, 3.50596267e-04, 1.80966392e-01, 1.91432121e-03,\n",
              "        1.94041419e-03, 8.78989026e-02, 5.05534335e-05, 7.23599195e-01],\n",
              "       [4.62145219e-03, 6.36478933e-03, 3.78447101e-02, 3.04909539e-03,\n",
              "        1.11356284e-03, 1.73764527e-01, 1.65036239e-03, 7.71591544e-01],\n",
              "       [3.77728068e-03, 9.35117781e-01, 1.36637921e-02, 4.05200087e-02,\n",
              "        5.25842461e-06, 6.64375443e-03, 1.84341960e-04, 8.77938292e-05],\n",
              "       [1.56319002e-03, 3.40287690e-04, 2.99631134e-02, 7.57890055e-03,\n",
              "        1.95662063e-02, 4.46817875e-01, 1.56572275e-03, 4.92604643e-01],\n",
              "       [5.51012039e-01, 5.28048128e-02, 2.08730772e-01, 1.02228247e-01,\n",
              "        3.95785412e-03, 8.00903291e-02, 7.10589753e-04, 4.65381745e-04],\n",
              "       [2.90522119e-03, 3.55051074e-04, 6.14192486e-01, 4.91895014e-03,\n",
              "        1.81996390e-01, 1.94131121e-01, 3.85837542e-04, 1.11492153e-03],\n",
              "       [7.92883784e-02, 1.79850534e-02, 1.03919148e-01, 9.22387317e-02,\n",
              "        5.53566702e-02, 3.60735089e-01, 6.70148581e-02, 2.23462090e-01],\n",
              "       [1.04716595e-03, 1.44099467e-04, 4.56527203e-01, 1.63112639e-03,\n",
              "        2.49232501e-01, 2.86314934e-01, 6.43831008e-05, 5.03856782e-03],\n",
              "       [3.58026624e-02, 2.19686888e-02, 1.82142332e-01, 1.03841722e-01,\n",
              "        5.79564393e-01, 6.50564581e-02, 1.11991940e-02, 4.24560742e-04],\n",
              "       [4.14260104e-02, 5.13552502e-03, 7.81084955e-01, 1.02663403e-02,\n",
              "        6.09611645e-02, 1.00703783e-01, 1.60324926e-04, 2.61879904e-04],\n",
              "       [1.19100651e-02, 6.63003087e-01, 2.26160251e-02, 2.95677900e-01,\n",
              "        9.08133574e-04, 3.07724904e-03, 2.66770506e-03, 1.39884694e-04],\n",
              "       [1.09869875e-02, 3.87629797e-03, 5.71511686e-01, 4.84304428e-02,\n",
              "        9.71238911e-02, 2.66833514e-01, 8.52912839e-04, 3.84258863e-04],\n",
              "       [2.25179493e-02, 5.02940655e-01, 2.64446437e-02, 4.31586623e-01,\n",
              "        3.39604751e-03, 7.70293921e-03, 4.93523898e-03, 4.75901994e-04],\n",
              "       [1.56646676e-03, 4.18872311e-04, 2.25360859e-02, 2.30154046e-03,\n",
              "        5.37483068e-03, 1.35230392e-01, 7.44558929e-04, 8.31827223e-01],\n",
              "       [5.78196626e-03, 5.06766319e-01, 4.02761670e-03, 4.47154135e-01,\n",
              "        5.92746190e-04, 1.58751775e-02, 1.97662544e-02, 3.57853205e-05],\n",
              "       [1.31713292e-02, 5.33679545e-01, 8.49352032e-03, 3.76233786e-01,\n",
              "        4.91686107e-04, 4.33580130e-02, 2.41637882e-02, 4.08384949e-04],\n",
              "       [5.20076156e-01, 1.83661953e-01, 1.09382428e-01, 1.12987898e-01,\n",
              "        4.00236342e-03, 6.85397089e-02, 1.13685837e-03, 2.12619168e-04],\n",
              "       [6.09853089e-01, 2.19544351e-01, 2.65322365e-02, 8.00459161e-02,\n",
              "        1.65131630e-03, 3.97747345e-02, 1.37245404e-02, 8.87381285e-03],\n",
              "       [1.76527604e-01, 3.45502049e-01, 7.06125200e-02, 2.67591059e-01,\n",
              "        3.37454537e-03, 1.33948341e-01, 2.04254850e-03, 4.01378027e-04],\n",
              "       [4.68077436e-02, 2.81356205e-03, 8.85582089e-01, 2.92410469e-03,\n",
              "        1.15837241e-02, 5.00029027e-02, 5.03965202e-05, 2.35525440e-04],\n",
              "       [1.88390955e-01, 8.03573877e-02, 1.96809188e-01, 1.49832100e-01,\n",
              "        1.48817062e-01, 5.97536080e-02, 1.38422683e-01, 3.76170501e-02],\n",
              "       [1.15153808e-02, 2.84140617e-01, 3.66914459e-02, 6.69269487e-02,\n",
              "        3.97616578e-03, 4.98348296e-01, 6.53947294e-02, 3.30064222e-02],\n",
              "       [2.38689734e-03, 4.59446775e-04, 6.25981450e-01, 2.02543032e-03,\n",
              "        4.27952642e-03, 1.22537702e-01, 6.97736905e-05, 2.42259741e-01],\n",
              "       [3.39997676e-03, 9.65628088e-01, 1.54520525e-03, 2.21066605e-02,\n",
              "        2.86634440e-05, 1.58859883e-03, 5.68405306e-03, 1.88981921e-05],\n",
              "       [4.40439731e-02, 3.91359299e-01, 1.06882192e-02, 3.31321180e-01,\n",
              "        3.12017044e-03, 1.35429218e-01, 7.60452077e-02, 7.99267832e-03],\n",
              "       [5.03913164e-01, 1.85106799e-01, 1.20507218e-01, 1.22841418e-01,\n",
              "        1.44237280e-03, 3.49176377e-02, 4.27610660e-03, 2.69952882e-02],\n",
              "       [5.98875247e-02, 2.69609809e-01, 2.46600062e-01, 3.97463292e-01,\n",
              "        1.04609476e-02, 1.19605428e-02, 1.26998010e-03, 2.74786213e-03],\n",
              "       [3.06695402e-01, 3.91288288e-02, 2.27355897e-01, 4.43527550e-02,\n",
              "        1.36618142e-03, 8.27167705e-02, 1.42199057e-03, 2.96962172e-01],\n",
              "       [1.23988639e-03, 1.00396480e-02, 1.04599423e-03, 9.07852501e-03,\n",
              "        1.31452056e-02, 1.19845150e-03, 9.62997675e-01, 1.25448930e-03],\n",
              "       [1.65736838e-03, 9.62846637e-01, 1.29486364e-03, 2.59397868e-02,\n",
              "        2.84955295e-05, 3.05683841e-03, 5.15877409e-03, 1.71471456e-05],\n",
              "       [1.96260829e-02, 4.35549170e-01, 1.58643499e-02, 4.47708905e-01,\n",
              "        3.22264154e-04, 6.19991384e-02, 1.80380065e-02, 8.92111042e-04],\n",
              "       [1.74350233e-03, 6.56975433e-04, 5.90331182e-02, 2.97996029e-03,\n",
              "        8.75309575e-03, 4.89590704e-01, 3.65780317e-04, 4.36876863e-01],\n",
              "       [3.44712334e-03, 3.49345588e-04, 1.97152689e-01, 1.54393842e-03,\n",
              "        7.93943834e-03, 4.78478223e-02, 4.62485448e-04, 7.41257250e-01],\n",
              "       [1.68767031e-02, 4.32071229e-03, 7.93065369e-01, 2.05690879e-02,\n",
              "        8.23034272e-02, 8.21189657e-02, 5.63621987e-04, 1.82014119e-04],\n",
              "       [2.44043302e-04, 1.48439249e-02, 7.94777125e-02, 6.64027268e-03,\n",
              "        1.63800200e-03, 8.45502734e-01, 1.35007070e-03, 5.03032729e-02],\n",
              "       [3.69183570e-02, 1.10827712e-02, 1.67016357e-01, 3.92566085e-01,\n",
              "        2.38120005e-01, 1.00612409e-01, 4.56044450e-02, 8.07962567e-03],\n",
              "       [7.22916448e-04, 1.25884282e-04, 7.25565031e-02, 2.07662180e-01,\n",
              "        4.83655065e-01, 1.85904413e-01, 1.68827455e-02, 3.24904099e-02],\n",
              "       [2.98729558e-02, 1.55028012e-02, 1.10097378e-01, 4.16761562e-02,\n",
              "        3.60854089e-01, 3.66703868e-01, 6.72341958e-02, 8.05852655e-03],\n",
              "       [4.35590953e-01, 3.43233347e-01, 2.39126384e-02, 1.73226520e-01,\n",
              "        5.04794356e-04, 2.26763375e-02, 7.35837559e-04, 1.19608681e-04],\n",
              "       [9.17758851e-04, 1.47582803e-04, 3.04840952e-01, 1.48377880e-01,\n",
              "        3.25833648e-01, 1.33456796e-01, 3.34796612e-03, 8.30773637e-02],\n",
              "       [1.24590399e-04, 9.56823533e-06, 7.43248081e-03, 1.89412071e-03,\n",
              "        9.00979817e-01, 6.74134344e-02, 5.50198543e-04, 2.15957742e-02],\n",
              "       [1.23838922e-02, 1.08248100e-03, 1.40349314e-01, 2.73242756e-03,\n",
              "        6.80103805e-03, 5.21195643e-02, 9.52786824e-04, 7.83578575e-01],\n",
              "       [1.71590671e-02, 1.62581149e-02, 1.25476003e-01, 2.90355802e-01,\n",
              "        2.86510140e-01, 2.28481695e-01, 3.08293682e-02, 4.92982659e-03],\n",
              "       [1.60060008e-03, 9.64436531e-01, 1.06872362e-03, 2.89662387e-02,\n",
              "        8.29415148e-06, 2.23851134e-03, 1.67506211e-03, 6.19778893e-06],\n",
              "       [7.84989097e-04, 5.10889862e-04, 3.33565325e-02, 1.45596720e-03,\n",
              "        3.45741846e-02, 3.16441208e-01, 1.44362729e-03, 6.11432672e-01],\n",
              "       [1.06245771e-01, 6.25199731e-03, 5.79552203e-02, 1.24030383e-02,\n",
              "        9.22324508e-03, 1.33381695e-01, 3.33145354e-03, 6.71207607e-01],\n",
              "       [2.56181182e-03, 9.17550504e-01, 1.31856054e-02, 6.44048527e-02,\n",
              "        1.40274729e-04, 9.86343017e-04, 1.02278672e-03, 1.47848128e-04],\n",
              "       [1.03601499e-03, 4.02535126e-03, 1.83657825e-03, 1.05974209e-02,\n",
              "        4.54598218e-02, 2.68373266e-03, 9.33709562e-01, 6.51532202e-04],\n",
              "       [1.31594259e-02, 6.98086202e-01, 8.69650207e-03, 1.78339794e-01,\n",
              "        2.29123724e-03, 1.99273936e-02, 7.92440102e-02, 2.55467428e-04],\n",
              "       [7.08880246e-01, 9.83660370e-02, 7.63677508e-02, 4.03803699e-02,\n",
              "        2.01187166e-03, 7.33060837e-02, 4.40807373e-04, 2.46833340e-04],\n",
              "       [1.62867014e-03, 9.25437271e-05, 5.65322712e-02, 9.55066120e-04,\n",
              "        4.54118662e-02, 8.39792788e-02, 6.31229137e-04, 8.10769022e-01],\n",
              "       [6.72989488e-02, 5.34498282e-02, 5.69427013e-02, 2.36724168e-01,\n",
              "        6.63886219e-02, 1.05446681e-01, 3.98759276e-01, 1.49897384e-02],\n",
              "       [4.97158559e-04, 8.95094854e-05, 1.96169868e-01, 3.24314856e-03,\n",
              "        6.30885363e-02, 6.28468812e-01, 3.89982742e-04, 1.08052932e-01],\n",
              "       [3.18536535e-02, 6.40659733e-03, 8.92142296e-01, 1.19793881e-02,\n",
              "        7.04786833e-03, 3.84368338e-02, 1.06057990e-03, 1.10728592e-02],\n",
              "       [1.82628020e-04, 3.51011840e-04, 1.16966001e-03, 7.06464052e-03,\n",
              "        6.80619061e-01, 9.41060483e-03, 2.97352135e-01, 3.85030825e-03],\n",
              "       [2.35510431e-02, 7.71450102e-01, 4.90013557e-03, 1.94037199e-01,\n",
              "        8.56685729e-05, 5.42905089e-03, 4.37085371e-04, 1.09705608e-04],\n",
              "       [1.04739659e-01, 1.47388019e-02, 6.01868927e-01, 2.52191983e-02,\n",
              "        3.33411410e-03, 5.60490265e-02, 2.29546195e-03, 1.91754863e-01],\n",
              "       [4.59125713e-02, 8.43891799e-02, 3.39675695e-01, 2.94453561e-01,\n",
              "        7.09907413e-02, 1.41489118e-01, 2.27820911e-02, 3.06988775e-04],\n",
              "       [3.11838508e-01, 3.75992626e-01, 9.66002196e-02, 1.32339895e-01,\n",
              "        7.73766683e-03, 1.36975031e-02, 4.98544984e-02, 1.19391419e-02],\n",
              "       [6.31204515e-04, 9.23039042e-04, 9.69282351e-03, 3.10944706e-01,\n",
              "        1.60443380e-01, 5.03927357e-02, 4.54289824e-01, 1.26822684e-02],\n",
              "       [8.57482012e-03, 8.70214105e-01, 3.80344968e-03, 1.11121930e-01,\n",
              "        2.10478556e-05, 4.12236759e-03, 2.11211690e-03, 3.02042827e-05],\n",
              "       [7.51943560e-04, 4.24419050e-05, 9.90635380e-02, 2.25850311e-03,\n",
              "        8.68317068e-01, 1.81053691e-02, 1.55079411e-04, 1.13061303e-02],\n",
              "       [7.28057802e-01, 4.43241708e-02, 8.32773894e-02, 8.61099362e-02,\n",
              "        4.39557014e-03, 5.30038401e-02, 6.80297206e-04, 1.51003173e-04],\n",
              "       [2.47885790e-02, 5.98223448e-01, 8.02122727e-02, 2.89603174e-01,\n",
              "        1.95005536e-03, 3.44320922e-03, 1.20272336e-03, 5.76504273e-04],\n",
              "       [7.16027664e-03, 6.58580509e-04, 1.12768106e-01, 1.33351749e-02,\n",
              "        7.48042703e-01, 1.11491501e-01, 5.50821191e-03, 1.03536411e-03],\n",
              "       [2.45338246e-01, 6.75027907e-01, 1.59457978e-02, 4.42601629e-02,\n",
              "        2.02876690e-04, 9.74644814e-03, 7.89177325e-03, 1.58684212e-03],\n",
              "       [7.69902440e-03, 1.03394017e-01, 4.34416346e-03, 2.88089290e-02,\n",
              "        7.22660683e-03, 2.71194577e-02, 8.18262815e-01, 3.14495433e-03],\n",
              "       [5.07854391e-03, 2.07385179e-02, 4.21555042e-01, 6.39472762e-03,\n",
              "        1.16927328e-03, 3.97915065e-01, 9.90972389e-04, 1.46157891e-01],\n",
              "       [1.10219209e-03, 1.32947534e-04, 3.65420105e-03, 9.93775390e-03,\n",
              "        6.61060587e-02, 7.43429065e-02, 1.57468710e-02, 8.28977048e-01],\n",
              "       [1.40922877e-03, 2.04760086e-04, 5.19283593e-01, 3.58084473e-03,\n",
              "        1.33441677e-02, 2.69722223e-01, 1.63152625e-04, 1.92292094e-01],\n",
              "       [4.44735168e-03, 8.04687501e-04, 2.84345359e-01, 9.87970969e-04,\n",
              "        7.16638286e-04, 2.45860685e-02, 6.22150328e-05, 6.84049666e-01],\n",
              "       [7.09963904e-04, 1.37335024e-04, 1.70201600e-01, 5.76756150e-03,\n",
              "        7.09374994e-02, 6.59976542e-01, 4.26004961e-04, 9.18435529e-02],\n",
              "       [7.09194748e-04, 1.10898269e-04, 4.41820920e-01, 3.28695290e-02,\n",
              "        5.10518476e-02, 3.01653057e-01, 5.75346872e-04, 1.71209157e-01],\n",
              "       [2.90593877e-03, 9.73831415e-01, 3.54361022e-03, 1.28895538e-02,\n",
              "        9.55900032e-06, 5.63865481e-03, 1.14208681e-03, 3.91858412e-05],\n",
              "       [6.29535760e-04, 6.77191128e-05, 1.40712395e-01, 5.19607076e-03,\n",
              "        5.50273776e-01, 2.91453630e-01, 6.74016628e-05, 1.15993982e-02]],\n",
              "      dtype=float32)"
            ]
          },
          "metadata": {},
          "execution_count": 38
        }
      ]
    },
    {
      "cell_type": "code",
      "source": [
        "y_pred_test_class "
      ],
      "metadata": {
        "colab": {
          "base_uri": "https://localhost:8080/"
        },
        "id": "ph-j4nBsAxjT",
        "outputId": "9cc89814-7003-4c9f-c681-5480db980e12"
      },
      "execution_count": 39,
      "outputs": [
        {
          "output_type": "execute_result",
          "data": {
            "text/plain": [
              "array([0, 1, 4, 1, 5, 4, 5, 0, 5, 1, 5, 2, 6, 1, 6, 4, 2, 0, 2, 7, 7, 1,\n",
              "       7, 0, 2, 5, 2, 4, 2, 1, 2, 1, 7, 1, 1, 0, 0, 1, 2, 2, 5, 2, 1, 1,\n",
              "       0, 3, 0, 6, 1, 3, 5, 7, 2, 5, 3, 4, 5, 0, 4, 4, 7, 3, 1, 7, 7, 1,\n",
              "       6, 1, 0, 7, 6, 5, 2, 4, 1, 2, 2, 1, 6, 1, 4, 0, 1, 4, 1, 6, 2, 7,\n",
              "       2, 7, 5, 2, 1, 4])"
            ]
          },
          "metadata": {},
          "execution_count": 39
        }
      ]
    },
    {
      "cell_type": "markdown",
      "source": [
        "### Test Set Confusion Matrix and Heatmap"
      ],
      "metadata": {
        "id": "Epp2QpxsUVXH"
      }
    },
    {
      "cell_type": "code",
      "source": [
        "# Test set Confusion matrix\n",
        "\n",
        "cm=confusion_matrix(y_test_class, y_pred_test_class)\n",
        "\n",
        "index = ['neutral', 'calm', 'happy', 'sad', 'angry', 'fearful', 'disgust', 'surprised']  \n",
        "columns = ['neutral', 'calm', 'happy', 'sad', 'angry', 'fearful', 'disgust', 'surprised']  \n",
        " \n",
        "cm_df = pd.DataFrame(cm,index,columns)                      \n",
        "plt.figure(figsize=(12,8))\n",
        "ax = plt.axes()\n",
        "\n",
        "sns.heatmap(cm_df, ax = ax, cmap = 'BuGn', fmt=\"d\", annot=True)\n",
        "ax.set_ylabel('True emotion')\n",
        "ax.set_xlabel('Predicted emotion')"
      ],
      "metadata": {
        "colab": {
          "base_uri": "https://localhost:8080/",
          "height": 0
        },
        "id": "ukGrk_cagzyb",
        "outputId": "581de097-3073-4872-8fff-0dc9a507bdcf"
      },
      "execution_count": 40,
      "outputs": [
        {
          "output_type": "execute_result",
          "data": {
            "text/plain": [
              "Text(0.5, 51.0, 'Predicted emotion')"
            ]
          },
          "metadata": {},
          "execution_count": 40
        },
        {
          "output_type": "display_data",
          "data": {
            "text/plain": [
              "<Figure size 864x576 with 2 Axes>"
            ],
            "image/png": "[encoded data removed]"
          },
          "metadata": {
            "needs_background": "light"
          }
        }
      ]
    },
    {
      "cell_type": "code",
      "source": [
        "# Confusion Matrix\n",
        "cm"
      ],
      "metadata": {
        "colab": {
          "base_uri": "https://localhost:8080/"
        },
        "id": "9f51xwUE8haF",
        "outputId": "c3523b5f-49d3-4961-f5b0-f6e6ca4b631a"
      },
      "execution_count": 41,
      "outputs": [
        {
          "output_type": "execute_result",
          "data": {
            "text/plain": [
              "array([[ 1,  2,  1,  0,  0,  0,  0,  0],\n",
              "       [ 1, 11,  2,  1,  0,  1,  0,  0],\n",
              "       [ 2,  2,  4,  0,  1,  3,  0,  1],\n",
              "       [ 5,  4,  1,  1,  0,  1,  0,  1],\n",
              "       [ 0,  1,  5,  0,  7,  2,  2,  0],\n",
              "       [ 2,  1,  3,  1,  1,  3,  0,  1],\n",
              "       [ 0,  1,  0,  1,  2,  1,  5,  0],\n",
              "       [ 0,  0,  1,  0,  0,  0,  0,  8]])"
            ]
          },
          "metadata": {},
          "execution_count": 41
        }
      ]
    },
    {
      "cell_type": "markdown",
      "source": [
        "### Test Set Predicted emotions accuracy"
      ],
      "metadata": {
        "id": "zil3CkweUX0q"
      }
    },
    {
      "cell_type": "code",
      "source": [
        "# Test set prediction accuracy rates\n",
        "\n",
        "values = cm.diagonal()\n",
        "row_sum = np.sum(cm,axis=1)\n",
        "acc = values / row_sum\n",
        "\n",
        "print('Test set predicted emotions accuracy:')\n",
        "for e in range(0, len(values)):\n",
        "    print(index[e],':', f\"{(acc[e]):0.4f}\")"
      ],
      "metadata": {
        "colab": {
          "base_uri": "https://localhost:8080/"
        },
        "id": "t_ORyGGig090",
        "outputId": "3e7705f0-9582-468d-dd8b-b0dc4a98980f"
      },
      "execution_count": 42,
      "outputs": [
        {
          "output_type": "stream",
          "name": "stdout",
          "text": [
            "Test set predicted emotions accuracy:\n",
            "neutral : 0.2500\n",
            "calm : 0.6875\n",
            "happy : 0.3077\n",
            "sad : 0.0769\n",
            "angry : 0.4118\n",
            "fearful : 0.2500\n",
            "disgust : 0.5000\n",
            "surprised : 0.8889\n"
          ]
        }
      ]
    },
    {
      "cell_type": "markdown",
      "source": [
        "### Precision, Recal, Fscore"
      ],
      "metadata": {
        "id": "8Hzthv1t8kwd"
      }
    },
    {
      "cell_type": "code",
      "source": [
        "# Validation set precision, recall, fscore\n",
        "\n",
        "precision_recall_fscore_support(y_test_class, y_pred_test_class, average='macro')\n"
      ],
      "metadata": {
        "colab": {
          "base_uri": "https://localhost:8080/"
        },
        "id": "QnwWoVFnh33F",
        "outputId": "784b674c-b2d7-4b14-d927-3361482b1912"
      },
      "execution_count": 43,
      "outputs": [
        {
          "output_type": "execute_result",
          "data": {
            "text/plain": [
              "(0.42835656990068754, 0.4215961224233283, 0.4057124108224525, None)"
            ]
          },
          "metadata": {},
          "execution_count": 43
        }
      ]
    },
    {
      "cell_type": "code",
      "source": [
        "precision_recall_fscore_support(y_test_class, y_pred_test_class, average='weighted')"
      ],
      "metadata": {
        "colab": {
          "base_uri": "https://localhost:8080/"
        },
        "id": "OlDhuPlqzwVB",
        "outputId": "aa6da962-964f-48bb-9311-70ab73a4db35"
      },
      "execution_count": 44,
      "outputs": [
        {
          "output_type": "execute_result",
          "data": {
            "text/plain": [
              "(0.4516136241730735, 0.425531914893617, 0.4202697593960414, None)"
            ]
          },
          "metadata": {},
          "execution_count": 44
        }
      ]
    },
    {
      "cell_type": "markdown",
      "source": [
        "### ROC AUC Score"
      ],
      "metadata": {
        "id": "sEuBd9IyLuiD"
      }
    },
    {
      "cell_type": "code",
      "source": [
        "ravdess_df = pd.read_csv (df_path)"
      ],
      "metadata": {
        "id": "8bb4OSmyTO6v"
      },
      "execution_count": 45,
      "outputs": []
    },
    {
      "cell_type": "code",
      "source": [
        "labels = [\"neutral\", \"calm\", \"happy\", \"sad\", \"angry\", \"fear\", \"disgust\", \"suprised\"]"
      ],
      "metadata": {
        "id": "1leZ4JGVTfTp"
      },
      "execution_count": 46,
      "outputs": []
    },
    {
      "cell_type": "code",
      "source": [
        "y_test_adj = y_test.reshape(-1,)"
      ],
      "metadata": {
        "id": "MRm1ZwnxFStc"
      },
      "execution_count": 47,
      "outputs": []
    },
    {
      "cell_type": "code",
      "source": [
        "y_proba_test_class.shape"
      ],
      "metadata": {
        "colab": {
          "base_uri": "https://localhost:8080/"
        },
        "id": "O-IcYOABFjxB",
        "outputId": "5c6df056-ccfa-40cc-b0c5-e8cd633b83a0"
      },
      "execution_count": 48,
      "outputs": [
        {
          "output_type": "execute_result",
          "data": {
            "text/plain": [
              "(94, 8)"
            ]
          },
          "metadata": {},
          "execution_count": 48
        }
      ]
    },
    {
      "cell_type": "code",
      "source": [
        "y_test.shape"
      ],
      "metadata": {
        "colab": {
          "base_uri": "https://localhost:8080/"
        },
        "id": "9AaqUY3PIlMQ",
        "outputId": "c05162e5-4024-4fbb-c5b7-41f5f029dfa1"
      },
      "execution_count": 49,
      "outputs": [
        {
          "output_type": "execute_result",
          "data": {
            "text/plain": [
              "(94, 1)"
            ]
          },
          "metadata": {},
          "execution_count": 49
        }
      ]
    },
    {
      "cell_type": "code",
      "source": [
        "y_test_adj"
      ],
      "metadata": {
        "colab": {
          "base_uri": "https://localhost:8080/"
        },
        "id": "7LgDudYTKInS",
        "outputId": "c71af60f-e282-4f82-8a5f-a2f5e1cedfff"
      },
      "execution_count": 50,
      "outputs": [
        {
          "output_type": "execute_result",
          "data": {
            "text/plain": [
              "array([2, 2, 2, 0, 4, 6, 2, 0, 5, 0, 3, 5, 4, 1, 6, 4, 3, 5, 4, 5, 7, 1,\n",
              "       7, 1, 2, 5, 4, 5, 4, 1, 2, 1, 3, 3, 3, 3, 3, 3, 5, 1, 5, 2, 1, 6,\n",
              "       2, 1, 3, 6, 1, 5, 6, 7, 4, 2, 6, 4, 4, 5, 4, 4, 2, 3, 1, 7, 7, 1,\n",
              "       6, 4, 3, 7, 6, 2, 4, 6, 1, 0, 1, 2, 4, 5, 4, 3, 1, 4, 3, 6, 7, 7,\n",
              "       5, 7, 1, 2, 1, 4], dtype=int8)"
            ]
          },
          "metadata": {},
          "execution_count": 50
        }
      ]
    },
    {
      "cell_type": "code",
      "source": [
        "\n",
        "\n",
        "macro_roc_auc_ovo = roc_auc_score(y_test_adj, y_proba_test_class, multi_class=\"ovo\", average=\"macro\")\n",
        "weighted_roc_auc_ovo = roc_auc_score(\n",
        "    y_test_adj, y_proba_test_class, multi_class=\"ovo\", average=\"weighted\"\n",
        ")\n",
        "macro_roc_auc_ovr = roc_auc_score(y_test_adj, y_proba_test_class, multi_class=\"ovr\", average=\"macro\")\n",
        "weighted_roc_auc_ovr = roc_auc_score(\n",
        "    y_test_adj, y_proba_test_class, multi_class=\"ovr\", average=\"weighted\"\n",
        ")\n"
      ],
      "metadata": {
        "id": "oMa4N8EhHlY9"
      },
      "execution_count": 51,
      "outputs": []
    },
    {
      "cell_type": "code",
      "source": [
        "print(\"One-vs-One ROC AUC scores:\\n{:.6f} (macro),\\n{:.6f} \" \"(weighted by prevalence)\\n\".format(macro_roc_auc_ovo, weighted_roc_auc_ovo))\n",
        "print(\"One-vs-Rest ROC AUC scores:\\n{:.6f} (macro),\\n{:.6f} \" \"(weighted by prevalence)\".format(macro_roc_auc_ovr, weighted_roc_auc_ovr))"
      ],
      "metadata": {
        "colab": {
          "base_uri": "https://localhost:8080/"
        },
        "id": "hhBLwtO_ICqL",
        "outputId": "f5db79d8-6a7c-4037-b0ee-db458ee3ddef"
      },
      "execution_count": 52,
      "outputs": [
        {
          "output_type": "stream",
          "name": "stdout",
          "text": [
            "One-vs-One ROC AUC scores:\n",
            "0.802788 (macro),\n",
            "0.799280 (weighted by prevalence)\n",
            "\n",
            "One-vs-Rest ROC AUC scores:\n",
            "0.801084 (macro),\n",
            "0.795280 (weighted by prevalence)\n"
          ]
        }
      ]
    }
  ]
}