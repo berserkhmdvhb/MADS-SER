{
  "metadata": {
    "kernelspec": {
      "language": "python",
      "display_name": "Python 3",
      "name": "python3"
    },
    "language_info": {
      "pygments_lexer": "ipython3",
      "nbconvert_exporter": "python",
      "version": "3.6.4",
      "file_extension": ".py",
      "codemirror_mode": {
        "name": "ipython",
        "version": 3
      },
      "name": "python",
      "mimetype": "text/x-python"
    },
    "colab": {
      "name": "SER-RAVDESS-RNN-model-128-patience-20.ipynb",
      "provenance": [],
      "collapsed_sections": [
        "anSyerIFN7qd",
        "nyMzoZKKKiw6",
        "fse_mTpaOGdQ",
        "1YfguG0tPatV",
        "5YoYCa22PMGz",
        "d2ullxf9PUMd",
        "kWjKgUdRPYH5",
        "DGSTy2228XRH",
        "gPwcFV9oAhGh",
        "Epp2QpxsUVXH",
        "zil3CkweUX0q",
        "8Hzthv1t8kwd"
      ]
    }
  },
  "nbformat_minor": 0,
  "nbformat": 4,
  "cells": [
    {
      "cell_type": "markdown",
      "source": [
        "# Imports"
      ],
      "metadata": {
        "id": "anSyerIFN7qd"
      }
    },
    {
      "cell_type": "code",
      "source": [
        "# Importing Libraries"
      ],
      "metadata": {
        "id": "IMFSwIuvKiw2"
      },
      "execution_count": 1,
      "outputs": []
    },
    {
      "cell_type": "code",
      "source": [
        "!pip install json-tricks"
      ],
      "metadata": {
        "colab": {
          "base_uri": "https://localhost:8080/"
        },
        "id": "bBR8aNsmM2tR",
        "outputId": "2d888302-f3db-40be-9389-e96c69d7f4c4"
      },
      "execution_count": 2,
      "outputs": [
        {
          "output_type": "stream",
          "name": "stdout",
          "text": [
            "Collecting json-tricks\n",
            "  Downloading json_tricks-3.15.5-py2.py3-none-any.whl (26 kB)\n",
            "Installing collected packages: json-tricks\n",
            "Successfully installed json-tricks-3.15.5\n"
          ]
        }
      ]
    },
    {
      "cell_type": "code",
      "source": [
        "import pandas as pd\n",
        "import numpy as np\n",
        "\n",
        "import os\n",
        "import sys\n",
        "\n",
        "import librosa\n",
        "import librosa.display\n",
        "#from pydub import AudioSegment, effects\n",
        "#import noisereduce as nr\n",
        "\n",
        "\n",
        "import seaborn as sns\n",
        "import matplotlib.pyplot as plt\n",
        "from IPython.display import Audio\n",
        "\n",
        "import tensorflow as tf\n",
        "import keras\n",
        "import sklearn\n",
        "\n",
        "\n",
        "from tensorflow.keras.models import Sequential, Model\n",
        "from tensorflow.keras.layers import Dense, LSTM, Flatten, Dropout, BatchNormalization\n",
        "from tensorflow.keras.callbacks import ModelCheckpoint, EarlyStopping, ReduceLROnPlateau\n",
        "from tensorflow.keras.optimizers import Adam, SGD\n",
        "from tensorflow.keras.utils import to_categorical, plot_model\n",
        "\n",
        "\n",
        "from keras.models import Sequential, model_from_json, load_model\n",
        "from keras import layers\n",
        "from keras import optimizers\n",
        "from keras import callbacks\n",
        "\n",
        "from sklearn.preprocessing import StandardScaler, OneHotEncoder, LabelEncoder\n",
        "from sklearn.metrics import confusion_matrix, classification_report, precision_recall_fscore_support, roc_auc_score\n",
        "from sklearn.model_selection import train_test_split, StratifiedShuffleSplit\n",
        "from sklearn.multiclass import OneVsRestClassifier\n",
        "\n",
        "\n",
        "from tqdm import tqdm\n",
        "\n",
        "\n",
        "from json_tricks import dump, load\n",
        "\n",
        "\n",
        "\n",
        "import warnings\n",
        "if not sys.warnoptions:\n",
        "    warnings.simplefilter(\"ignore\")\n",
        "warnings.filterwarnings(\"ignore\", category=DeprecationWarning) \n",
        "\n",
        "import time\n",
        "tic = time.perf_counter()\n",
        "\n"
      ],
      "metadata": {
        "id": "77IS8HxqFFCA"
      },
      "execution_count": 3,
      "outputs": []
    },
    {
      "cell_type": "code",
      "source": [
        ""
      ],
      "metadata": {
        "id": "gGYqBIk0FGm4"
      },
      "execution_count": 3,
      "outputs": []
    },
    {
      "cell_type": "markdown",
      "source": [
        "# Dataset"
      ],
      "metadata": {
        "id": "nyMzoZKKKiw6"
      }
    },
    {
      "cell_type": "code",
      "source": [
        "from google.colab import drive\n",
        "drive.mount('/content/drive')"
      ],
      "metadata": {
        "colab": {
          "base_uri": "https://localhost:8080/"
        },
        "id": "JFPDGXmwCBs_",
        "outputId": "c466c0fa-2283-41ff-fdec-48244b54b77e"
      },
      "execution_count": 4,
      "outputs": [
        {
          "output_type": "stream",
          "name": "stdout",
          "text": [
            "Mounted at /content/drive\n"
          ]
        }
      ]
    },
    {
      "cell_type": "code",
      "source": [
        "#Crema = \"/content/drive/MyDrive/datasets/speech/CREMAD/sample/\"\n",
        "#Crema = \"/content/drive/MyDrive/datasets/speech/CREMAD/AudioWAV/\"\n",
        "Ravdess = \"/content/drive/MyDrive/datasets/speech/RAVDESS/data\"\n",
        "Ravdess_processed = \"/content/drive/MyDrive/datasets/speech/RAVDESS/processedData/\"\n",
        "Ravdess_speech_sample = \"/content/drive/MyDrive/datasets/speech/RAVDESS/data/Audio_Speech_Actors_01-24/\"\n",
        "df_path = \"/content/drive/MyDrive/datasets/speech/RAVDESS/ravdess_df.csv\"\n",
        "model_path = Ravdess + \"/model/\"\n",
        "\n",
        "checkpoint_path = model_path + \"best_weights-8.hdf5\"\n",
        "saved_model_path = model_path + 'model8723-6.json'\n",
        "\n",
        "saved_weights_path = model_path + 'model8723_weights-8.h5'\n",
        "saved_model_path_2 = model_path + 'Speech-Emotion-Recognition-Model-RNN-6.h5'"
      ],
      "metadata": {
        "execution": {
          "iopub.status.busy": "2021-06-21T09:35:38.093538Z",
          "iopub.execute_input": "2021-06-21T09:35:38.093869Z",
          "iopub.status.idle": "2021-06-21T09:35:38.097467Z",
          "shell.execute_reply.started": "2021-06-21T09:35:38.093838Z",
          "shell.execute_reply": "2021-06-21T09:35:38.096608Z"
        },
        "trusted": true,
        "id": "vR2GjHL4Kiw7"
      },
      "execution_count": 5,
      "outputs": []
    },
    {
      "cell_type": "code",
      "source": [
        ""
      ],
      "metadata": {
        "id": "J2T6JxzIF2Jq"
      },
      "execution_count": 5,
      "outputs": []
    },
    {
      "cell_type": "code",
      "source": [
        "##Hypter Parameters' Range\n",
        "params = {\n",
        "    \"batch_size\": 20,  # 20<16<10, 25 was a bust\n",
        "    \"epochs\": 300,\n",
        "    \"lr\": 0.00010000,\n",
        "    \"time_steps\": 60\n",
        "}\n",
        "#TIME_STEPS = params[\"time_steps\"]\n",
        "#BATCH_SIZE = params[\"batch_size\"]\n",
        "#iter_changes = \"dropout_layers_0.4_0.4\"\n"
      ],
      "metadata": {
        "id": "jnEd5_Vvy4ue"
      },
      "execution_count": 6,
      "outputs": []
    },
    {
      "cell_type": "code",
      "source": [
        ""
      ],
      "metadata": {
        "id": "dKXM0xT-N8uy"
      },
      "execution_count": 6,
      "outputs": []
    },
    {
      "cell_type": "markdown",
      "source": [
        "# Load Processed Files, Construct Train, Validation and Test Sets"
      ],
      "metadata": {
        "id": "fse_mTpaOGdQ"
      }
    },
    {
      "cell_type": "code",
      "source": [
        "\n",
        "processed_path = Ravdess_processed\n",
        "x_path = processed_path + \"X_features.json\" # FILE LOAD PATH\n",
        "y_path =  processed_path + \"Y_labels.json\" # FILE SAVE PATH\n",
        "#x_path = '/content/drive/MyDrive/datasets/speech/RAVDESS/processedData/X_features.json'\n",
        "\n",
        "# Load X,Y json files back into lists, convert to np.arrays\n",
        "\n",
        "X = load(x_path)\n",
        "X = np.asarray(X, dtype = 'float32')\n",
        "\n",
        "Y = load(y_path)\n",
        "Y = np.asarray(Y, dtype = 'int8')"
      ],
      "metadata": {
        "id": "101BpvWgN8xX"
      },
      "execution_count": 7,
      "outputs": []
    },
    {
      "cell_type": "code",
      "source": [
        "# Split to train, validation, and test sets.\n",
        "from sklearn.model_selection import train_test_split\n",
        "# 1st Split: X,Y => (x_train, x_tosplit) (y_train, y_tosplit)\n",
        "x_train, x_tosplit, y_train, y_tosplit = train_test_split(X, Y, test_size = 0.125, random_state = 1)\n",
        "# 2nd Split: x_tosplit,y_tosplit => (x_val, x_test) (y_val, y_test) \n",
        "x_val, x_test, y_val, y_test = train_test_split(x_tosplit, y_tosplit, test_size = 0.304, random_state = 1)\n",
        "#'One-hot' vectors for Y: emotion classification\n",
        "y_train_class = tf.keras.utils.to_categorical(y_train, 8, dtype = 'int8')\n",
        "y_val_class = tf.keras.utils.to_categorical(y_val, 8, dtype = 'int8')"
      ],
      "metadata": {
        "id": "CuF9M1mfOD7X"
      },
      "execution_count": 8,
      "outputs": []
    },
    {
      "cell_type": "code",
      "source": [
        "# x_train, x_val, and x_test shape check.\n",
        "print(np.shape(x_train))\n",
        "print(np.shape(x_val))\n",
        "print(np.shape(x_test))"
      ],
      "metadata": {
        "colab": {
          "base_uri": "https://localhost:8080/"
        },
        "id": "od-D1YgBOGXs",
        "outputId": "54b95f5a-4fb2-407a-abb5-0d557df06d83"
      },
      "execution_count": 9,
      "outputs": [
        {
          "output_type": "stream",
          "name": "stdout",
          "text": [
            "(2145, 523, 15)\n",
            "(213, 523, 15)\n",
            "(94, 523, 15)\n"
          ]
        }
      ]
    },
    {
      "cell_type": "code",
      "source": [
        "# Save x_test, y_test to JSON.\n",
        "\n",
        "x_test_path = processed_path + 'x_test_data.json'\n",
        "dump(obj = x_test, fp = x_test_path)\n",
        "\n",
        "y_test_path = processed_path + 'y_test_data.json'\n",
        "dump(obj = y_test, fp = y_test_path)"
      ],
      "metadata": {
        "colab": {
          "base_uri": "https://localhost:8080/",
          "height": 0
        },
        "id": "nTExHJVsOHQ5",
        "outputId": "359e2e61-eb50-47f6-e9a0-e957b9972076"
      },
      "execution_count": 10,
      "outputs": [
        {
          "output_type": "execute_result",
          "data": {
            "text/plain": [
              "'{\"__ndarray__\": [[2], [2], [2], [0], [4], [6], [2], [0], [5], [0], [3], [5], [4], [1], [6], [4], [3], [5], [4], [5], [7], [1], [7], [1], [2], [5], [4], [5], [4], [1], [2], [1], [3], [3], [3], [3], [3], [3], [5], [1], [5], [2], [1], [6], [2], [1], [3], [6], [1], [5], [6], [7], [4], [2], [6], [4], [4], [5], [4], [4], [2], [3], [1], [7], [7], [1], [6], [4], [3], [7], [6], [2], [4], [6], [1], [0], [1], [2], [4], [5], [4], [3], [1], [4], [3], [6], [7], [7], [5], [7], [1], [2], [1], [4]], \"dtype\": \"int8\", \"shape\": [94, 1], \"Corder\": true}'"
            ],
            "application/vnd.google.colaboratory.intrinsic+json": {
              "type": "string"
            }
          },
          "metadata": {},
          "execution_count": 10
        }
      ]
    },
    {
      "cell_type": "code",
      "source": [
        "# Loading x_test, y_test json files, and converting to np.arrays\n",
        "\n",
        "x_test = load(processed_path + 'x_test_data.json')\n",
        "x_test = np.asarray(x_test).astype('float32')\n",
        "\n",
        "y_test = load(processed_path + 'y_test_data.json')\n",
        "y_test = np.asarray(y_test).astype('int8')\n",
        "\n",
        "y_test_class = tf.keras.utils.to_categorical(y_test, 8, dtype = 'int8')"
      ],
      "metadata": {
        "id": "kAFBRsmk5dzm"
      },
      "execution_count": 11,
      "outputs": []
    },
    {
      "cell_type": "code",
      "source": [
        "X.shape"
      ],
      "metadata": {
        "id": "15joCR4gu4r7",
        "colab": {
          "base_uri": "https://localhost:8080/"
        },
        "outputId": "5bc37225-c8c0-4806-9ed3-178872e797b6"
      },
      "execution_count": 12,
      "outputs": [
        {
          "output_type": "execute_result",
          "data": {
            "text/plain": [
              "(2452, 523, 15)"
            ]
          },
          "metadata": {},
          "execution_count": 12
        }
      ]
    },
    {
      "cell_type": "code",
      "source": [
        "X.shape[1:3]"
      ],
      "metadata": {
        "colab": {
          "base_uri": "https://localhost:8080/"
        },
        "id": "8MQhoPKjEzi4",
        "outputId": "86c689d0-8068-4c20-ae61-9318693f164f"
      },
      "execution_count": 13,
      "outputs": [
        {
          "output_type": "execute_result",
          "data": {
            "text/plain": [
              "(523, 15)"
            ]
          },
          "metadata": {},
          "execution_count": 13
        }
      ]
    },
    {
      "cell_type": "markdown",
      "source": [
        "# RNN Model"
      ],
      "metadata": {
        "id": "gnWVMbR6KixC"
      }
    },
    {
      "cell_type": "code",
      "source": [
        "tic"
      ],
      "metadata": {
        "colab": {
          "base_uri": "https://localhost:8080/"
        },
        "id": "7CHZWdfcN8oo",
        "outputId": "4741c2be-1a13-4f79-e2bd-be4128c3e0af"
      },
      "execution_count": 14,
      "outputs": [
        {
          "output_type": "execute_result",
          "data": {
            "text/plain": [
              "46.823143652"
            ]
          },
          "metadata": {},
          "execution_count": 14
        }
      ]
    },
    {
      "cell_type": "markdown",
      "source": [
        "## Define Model & Training"
      ],
      "metadata": {
        "id": "GJjJYnJQORJ8"
      }
    },
    {
      "cell_type": "code",
      "source": [
        "# Initializing the model\n",
        "\n",
        "model = Sequential()\n",
        "model.add(layers.LSTM(128, return_sequences = True, input_shape=(X.shape[1:3])))\n",
        "model.add(layers.LSTM(64))\n",
        "model.add(Dropout(0.2))\n",
        "model.add(layers.Dense(8, activation = 'softmax'))\n",
        "print(model.summary())\n",
        "\n",
        "batch_size = 23\n",
        "\n",
        "# Callbacks functions\n",
        "\n",
        "#-> EearlyStopping\n",
        "es = EarlyStopping(monitor='val_loss', mode='min', verbose=1,\n",
        "                    patience=10, min_delta=0.0001)\n",
        "\n",
        "\n",
        "#-> Save the best weights\n",
        "mcp_save = callbacks.ModelCheckpoint(checkpoint_path, save_best_only=True,\n",
        "                           monitor='val_categorical_accuracy',\n",
        "                           mode='max')\n",
        "#-> Reduce learning rate after 100 epoches without improvement.\n",
        "rlrop = callbacks.ReduceLROnPlateau(monitor='val_categorical_accuracy', \n",
        "                                    factor=0.1, patience=20)\n",
        "                             \n",
        "# Compile & train   \n",
        "model.compile(loss='categorical_crossentropy', \n",
        "                optimizer='RMSProp', \n",
        "                metrics=['categorical_accuracy'])\n",
        "\n",
        "\n"
      ],
      "metadata": {
        "colab": {
          "base_uri": "https://localhost:8080/"
        },
        "id": "aD2adyVGOJs4",
        "outputId": "64806373-c4d2-4943-f8c3-819742f53fea"
      },
      "execution_count": 15,
      "outputs": [
        {
          "output_type": "stream",
          "name": "stdout",
          "text": [
            "Model: \"sequential\"\n",
            "_________________________________________________________________\n",
            " Layer (type)                Output Shape              Param #   \n",
            "=================================================================\n",
            " lstm (LSTM)                 (None, 523, 128)          73728     \n",
            "                                                                 \n",
            " lstm_1 (LSTM)               (None, 64)                49408     \n",
            "                                                                 \n",
            " dropout (Dropout)           (None, 64)                0         \n",
            "                                                                 \n",
            " dense (Dense)               (None, 8)                 520       \n",
            "                                                                 \n",
            "=================================================================\n",
            "Total params: 123,656\n",
            "Trainable params: 123,656\n",
            "Non-trainable params: 0\n",
            "_________________________________________________________________\n",
            "None\n"
          ]
        }
      ]
    },
    {
      "cell_type": "code",
      "source": [
        "history = model.fit(x_train, y_train_class, \n",
        "                      epochs=340, batch_size = batch_size, \n",
        "                      validation_data = (x_val, y_val_class), \n",
        "                      callbacks = [es, mcp_save, rlrop])\n",
        "toc = time.perf_counter()"
      ],
      "metadata": {
        "colab": {
          "base_uri": "https://localhost:8080/"
        },
        "id": "Da7Gc9x_izth",
        "outputId": "54c352dd-cd7b-4cb8-8d07-b546166b401a"
      },
      "execution_count": 16,
      "outputs": [
        {
          "output_type": "stream",
          "name": "stdout",
          "text": [
            "Epoch 1/340\n",
            "94/94 [==============================] - 94s 944ms/step - loss: 2.0344 - categorical_accuracy: 0.1804 - val_loss: 2.0432 - val_categorical_accuracy: 0.1972 - lr: 0.0010\n",
            "Epoch 2/340\n",
            "94/94 [==============================] - 89s 945ms/step - loss: 1.9822 - categorical_accuracy: 0.2247 - val_loss: 1.9656 - val_categorical_accuracy: 0.2488 - lr: 0.0010\n",
            "Epoch 3/340\n",
            "94/94 [==============================] - 88s 938ms/step - loss: 1.9429 - categorical_accuracy: 0.2368 - val_loss: 1.9655 - val_categorical_accuracy: 0.2019 - lr: 0.0010\n",
            "Epoch 4/340\n",
            "94/94 [==============================] - 89s 945ms/step - loss: 1.9063 - categorical_accuracy: 0.2494 - val_loss: 1.9266 - val_categorical_accuracy: 0.2770 - lr: 0.0010\n",
            "Epoch 5/340\n",
            "94/94 [==============================] - 88s 939ms/step - loss: 1.8867 - categorical_accuracy: 0.2639 - val_loss: 1.8999 - val_categorical_accuracy: 0.3052 - lr: 0.0010\n",
            "Epoch 6/340\n",
            "94/94 [==============================] - 89s 943ms/step - loss: 1.8577 - categorical_accuracy: 0.2807 - val_loss: 1.9616 - val_categorical_accuracy: 0.2207 - lr: 0.0010\n",
            "Epoch 7/340\n",
            "94/94 [==============================] - 92s 975ms/step - loss: 1.8498 - categorical_accuracy: 0.2848 - val_loss: 1.9309 - val_categorical_accuracy: 0.2113 - lr: 0.0010\n",
            "Epoch 8/340\n",
            "94/94 [==============================] - 88s 939ms/step - loss: 1.8282 - categorical_accuracy: 0.2909 - val_loss: 1.9097 - val_categorical_accuracy: 0.2066 - lr: 0.0010\n",
            "Epoch 9/340\n",
            "94/94 [==============================] - 87s 928ms/step - loss: 1.7867 - categorical_accuracy: 0.2998 - val_loss: 1.8998 - val_categorical_accuracy: 0.2347 - lr: 0.0010\n",
            "Epoch 10/340\n",
            "94/94 [==============================] - 87s 929ms/step - loss: 1.7775 - categorical_accuracy: 0.3044 - val_loss: 1.8706 - val_categorical_accuracy: 0.2676 - lr: 0.0010\n",
            "Epoch 11/340\n",
            "94/94 [==============================] - 87s 930ms/step - loss: 1.7788 - categorical_accuracy: 0.3161 - val_loss: 1.8471 - val_categorical_accuracy: 0.2958 - lr: 0.0010\n",
            "Epoch 12/340\n",
            "94/94 [==============================] - 87s 925ms/step - loss: 1.7816 - categorical_accuracy: 0.3110 - val_loss: 1.8966 - val_categorical_accuracy: 0.2582 - lr: 0.0010\n",
            "Epoch 13/340\n",
            "94/94 [==============================] - 87s 929ms/step - loss: 1.7719 - categorical_accuracy: 0.3119 - val_loss: 1.8955 - val_categorical_accuracy: 0.2582 - lr: 0.0010\n",
            "Epoch 14/340\n",
            "94/94 [==============================] - 88s 937ms/step - loss: 1.7693 - categorical_accuracy: 0.3128 - val_loss: 1.8385 - val_categorical_accuracy: 0.3146 - lr: 0.0010\n",
            "Epoch 15/340\n",
            "94/94 [==============================] - 87s 925ms/step - loss: 1.7611 - categorical_accuracy: 0.3198 - val_loss: 1.8290 - val_categorical_accuracy: 0.2864 - lr: 0.0010\n",
            "Epoch 16/340\n",
            "94/94 [==============================] - 86s 917ms/step - loss: 1.7545 - categorical_accuracy: 0.3310 - val_loss: 1.8461 - val_categorical_accuracy: 0.2958 - lr: 0.0010\n",
            "Epoch 17/340\n",
            "94/94 [==============================] - 87s 930ms/step - loss: 1.7285 - categorical_accuracy: 0.3310 - val_loss: 1.7954 - val_categorical_accuracy: 0.3099 - lr: 0.0010\n",
            "Epoch 18/340\n",
            "94/94 [==============================] - 86s 918ms/step - loss: 1.6859 - categorical_accuracy: 0.3413 - val_loss: 1.8149 - val_categorical_accuracy: 0.3005 - lr: 0.0010\n",
            "Epoch 19/340\n",
            "94/94 [==============================] - 87s 923ms/step - loss: 1.7033 - categorical_accuracy: 0.3515 - val_loss: 1.9242 - val_categorical_accuracy: 0.2629 - lr: 0.0010\n",
            "Epoch 20/340\n",
            "94/94 [==============================] - 87s 922ms/step - loss: 1.6624 - categorical_accuracy: 0.3548 - val_loss: 1.8256 - val_categorical_accuracy: 0.3052 - lr: 0.0010\n",
            "Epoch 21/340\n",
            "94/94 [==============================] - 87s 925ms/step - loss: 1.6721 - categorical_accuracy: 0.3478 - val_loss: 1.8168 - val_categorical_accuracy: 0.2958 - lr: 0.0010\n",
            "Epoch 22/340\n",
            "94/94 [==============================] - 87s 926ms/step - loss: 1.6498 - categorical_accuracy: 0.3497 - val_loss: 1.7704 - val_categorical_accuracy: 0.3474 - lr: 0.0010\n",
            "Epoch 23/340\n",
            "94/94 [==============================] - 87s 921ms/step - loss: 1.6322 - categorical_accuracy: 0.3655 - val_loss: 1.7713 - val_categorical_accuracy: 0.3380 - lr: 0.0010\n",
            "Epoch 24/340\n",
            "94/94 [==============================] - 87s 924ms/step - loss: 1.6319 - categorical_accuracy: 0.3669 - val_loss: 1.7604 - val_categorical_accuracy: 0.3286 - lr: 0.0010\n",
            "Epoch 25/340\n",
            "94/94 [==============================] - 87s 922ms/step - loss: 1.6155 - categorical_accuracy: 0.3720 - val_loss: 1.7719 - val_categorical_accuracy: 0.3239 - lr: 0.0010\n",
            "Epoch 26/340\n",
            "94/94 [==============================] - 87s 923ms/step - loss: 1.6119 - categorical_accuracy: 0.3669 - val_loss: 1.7378 - val_categorical_accuracy: 0.3192 - lr: 0.0010\n",
            "Epoch 27/340\n",
            "94/94 [==============================] - 87s 921ms/step - loss: 1.6041 - categorical_accuracy: 0.3762 - val_loss: 1.8697 - val_categorical_accuracy: 0.2676 - lr: 0.0010\n",
            "Epoch 28/340\n",
            "94/94 [==============================] - 87s 922ms/step - loss: 1.6161 - categorical_accuracy: 0.3608 - val_loss: 1.7914 - val_categorical_accuracy: 0.3099 - lr: 0.0010\n",
            "Epoch 29/340\n",
            "94/94 [==============================] - 87s 931ms/step - loss: 1.5932 - categorical_accuracy: 0.3748 - val_loss: 1.7888 - val_categorical_accuracy: 0.3239 - lr: 0.0010\n",
            "Epoch 30/340\n",
            "94/94 [==============================] - 87s 921ms/step - loss: 1.5961 - categorical_accuracy: 0.3865 - val_loss: 1.7208 - val_categorical_accuracy: 0.3427 - lr: 0.0010\n",
            "Epoch 31/340\n",
            "94/94 [==============================] - 87s 923ms/step - loss: 1.5860 - categorical_accuracy: 0.3897 - val_loss: 1.8210 - val_categorical_accuracy: 0.2817 - lr: 0.0010\n",
            "Epoch 32/340\n",
            "94/94 [==============================] - 87s 931ms/step - loss: 1.5583 - categorical_accuracy: 0.3972 - val_loss: 1.6304 - val_categorical_accuracy: 0.3850 - lr: 0.0010\n",
            "Epoch 33/340\n",
            "94/94 [==============================] - 87s 926ms/step - loss: 1.5498 - categorical_accuracy: 0.4065 - val_loss: 1.7010 - val_categorical_accuracy: 0.3615 - lr: 0.0010\n",
            "Epoch 34/340\n",
            "94/94 [==============================] - 87s 925ms/step - loss: 1.5472 - categorical_accuracy: 0.3986 - val_loss: 1.6353 - val_categorical_accuracy: 0.3709 - lr: 0.0010\n",
            "Epoch 35/340\n",
            "94/94 [==============================] - 87s 928ms/step - loss: 1.5705 - categorical_accuracy: 0.3809 - val_loss: 1.6328 - val_categorical_accuracy: 0.3944 - lr: 0.0010\n",
            "Epoch 36/340\n",
            "94/94 [==============================] - 87s 926ms/step - loss: 1.5861 - categorical_accuracy: 0.3981 - val_loss: 1.7012 - val_categorical_accuracy: 0.3239 - lr: 0.0010\n",
            "Epoch 37/340\n",
            "94/94 [==============================] - 87s 926ms/step - loss: 1.5769 - categorical_accuracy: 0.3935 - val_loss: 1.6362 - val_categorical_accuracy: 0.3850 - lr: 0.0010\n",
            "Epoch 38/340\n",
            "94/94 [==============================] - 87s 927ms/step - loss: 1.5675 - categorical_accuracy: 0.3893 - val_loss: 1.6777 - val_categorical_accuracy: 0.3897 - lr: 0.0010\n",
            "Epoch 39/340\n",
            "94/94 [==============================] - 87s 922ms/step - loss: 1.5742 - categorical_accuracy: 0.3916 - val_loss: 1.6772 - val_categorical_accuracy: 0.3568 - lr: 0.0010\n",
            "Epoch 40/340\n",
            "94/94 [==============================] - 87s 926ms/step - loss: 1.5524 - categorical_accuracy: 0.3972 - val_loss: 1.5892 - val_categorical_accuracy: 0.3897 - lr: 0.0010\n",
            "Epoch 41/340\n",
            "94/94 [==============================] - 87s 927ms/step - loss: 1.5357 - categorical_accuracy: 0.3935 - val_loss: 1.8521 - val_categorical_accuracy: 0.3333 - lr: 0.0010\n",
            "Epoch 42/340\n",
            "94/94 [==============================] - 87s 925ms/step - loss: 1.5284 - categorical_accuracy: 0.4107 - val_loss: 1.7636 - val_categorical_accuracy: 0.3099 - lr: 0.0010\n",
            "Epoch 43/340\n",
            "94/94 [==============================] - 86s 920ms/step - loss: 1.5390 - categorical_accuracy: 0.4019 - val_loss: 1.6427 - val_categorical_accuracy: 0.3850 - lr: 0.0010\n",
            "Epoch 44/340\n",
            "94/94 [==============================] - 87s 921ms/step - loss: 1.5310 - categorical_accuracy: 0.3991 - val_loss: 1.6647 - val_categorical_accuracy: 0.3756 - lr: 0.0010\n",
            "Epoch 45/340\n",
            "94/94 [==============================] - 87s 929ms/step - loss: 1.4919 - categorical_accuracy: 0.4224 - val_loss: 1.6359 - val_categorical_accuracy: 0.3756 - lr: 0.0010\n",
            "Epoch 46/340\n",
            "94/94 [==============================] - 87s 921ms/step - loss: 1.5147 - categorical_accuracy: 0.4186 - val_loss: 1.7135 - val_categorical_accuracy: 0.3991 - lr: 0.0010\n",
            "Epoch 47/340\n",
            "94/94 [==============================] - 86s 920ms/step - loss: 1.5214 - categorical_accuracy: 0.4135 - val_loss: 1.6892 - val_categorical_accuracy: 0.4131 - lr: 0.0010\n",
            "Epoch 48/340\n",
            "94/94 [==============================] - 86s 920ms/step - loss: 1.4628 - categorical_accuracy: 0.4406 - val_loss: 1.8272 - val_categorical_accuracy: 0.3333 - lr: 0.0010\n",
            "Epoch 49/340\n",
            "94/94 [==============================] - 87s 921ms/step - loss: 1.4650 - categorical_accuracy: 0.4415 - val_loss: 1.7214 - val_categorical_accuracy: 0.3474 - lr: 0.0010\n",
            "Epoch 50/340\n",
            "94/94 [==============================] - 86s 918ms/step - loss: 1.4699 - categorical_accuracy: 0.4466 - val_loss: 1.9663 - val_categorical_accuracy: 0.3005 - lr: 0.0010\n",
            "Epoch 50: early stopping\n"
          ]
        }
      ]
    },
    {
      "cell_type": "code",
      "source": [
        ""
      ],
      "metadata": {
        "id": "3MekXCZHizyZ"
      },
      "execution_count": 16,
      "outputs": []
    },
    {
      "cell_type": "code",
      "source": [
        "print(f\"Running time: {(toc - tic)/60:0.4f} minutes\")"
      ],
      "metadata": {
        "id": "cHmSBRhVOELJ",
        "colab": {
          "base_uri": "https://localhost:8080/"
        },
        "outputId": "d67658ed-f611-4bce-9c40-ed109c864368"
      },
      "execution_count": 17,
      "outputs": [
        {
          "output_type": "stream",
          "name": "stdout",
          "text": [
            "Running time: 74.8084 minutes\n"
          ]
        }
      ]
    },
    {
      "cell_type": "markdown",
      "source": [
        "## Loading Model"
      ],
      "metadata": {
        "id": "jCQelzMAKixD"
      }
    },
    {
      "cell_type": "code",
      "source": [
        "# Define the best weights to the model.\\\n",
        "#model.load_weights(checkpoint_path)"
      ],
      "metadata": {
        "id": "gruZAW2wI-tO"
      },
      "execution_count": 18,
      "outputs": []
    },
    {
      "cell_type": "markdown",
      "source": [
        "# Evaluation"
      ],
      "metadata": {
        "id": "kDxTjEK0KixD"
      }
    },
    {
      "cell_type": "markdown",
      "source": [
        "## Save & Load model, weights"
      ],
      "metadata": {
        "id": "1YfguG0tPatV"
      }
    },
    {
      "cell_type": "code",
      "source": [
        "# Saving model & weights\n",
        "model_path = Ravdess + \"/model/\"\n",
        "model_json = model.to_json()\n",
        "\n",
        "\n",
        "\n",
        "with open(saved_model_path, \"w\") as json_file:\n",
        "    json_file.write(model_json)\n",
        "    \n",
        "model.save_weights(saved_weights_path)\n",
        "print(\"Saved model to disk\")"
      ],
      "metadata": {
        "colab": {
          "base_uri": "https://localhost:8080/"
        },
        "id": "MsVoNhqmgGsK",
        "outputId": "53bf37c3-8e55-4753-cb9f-6f2a41c2e58f"
      },
      "execution_count": 19,
      "outputs": [
        {
          "output_type": "stream",
          "name": "stdout",
          "text": [
            "Saved model to disk\n"
          ]
        }
      ]
    },
    {
      "cell_type": "code",
      "source": [
        "# Reading the model from JSON file\n",
        "#model_path = Ravdess + \"/model/\"\n",
        "#saved_model_path = model_path + 'model8723.json'\n",
        "#saved_weights_path = model_path + 'model8723_weights.h5'\n",
        "\n",
        "\n",
        "with open(saved_model_path , 'r') as json_file:\n",
        "    json_savedModel = json_file.read()\n",
        "    \n",
        "# Loading the model architecture, weights\n",
        "model = tf.keras.models.model_from_json(json_savedModel)\n",
        "model.load_weights(saved_weights_path)\n",
        "\n",
        "# Compiling the model with similar parameters as the original model.\n",
        "model.compile(loss='categorical_crossentropy', \n",
        "                optimizer='RMSProp', \n",
        "                metrics=['categorical_accuracy'])\n",
        "\n",
        "# Model's structure visualization\n",
        "tf.keras.utils.plot_model(model, to_file='model.png', show_shapes=True, show_layer_names=True)"
      ],
      "metadata": {
        "colab": {
          "base_uri": "https://localhost:8080/",
          "height": 0
        },
        "id": "y4OJGhLmgfX6",
        "outputId": "51fdf406-4164-45e7-dbed-1279ae4bf81f"
      },
      "execution_count": 20,
      "outputs": [
        {
          "output_type": "execute_result",
          "data": {
            "text/plain": [
              "<IPython.core.display.Image object>"
            ],
            "image/png": "[encoded data removed]"
          },
          "metadata": {},
          "execution_count": 20
        }
      ]
    },
    {
      "cell_type": "code",
      "source": [
        ""
      ],
      "metadata": {
        "id": "B_SW6eUAgvEj"
      },
      "execution_count": 20,
      "outputs": []
    },
    {
      "cell_type": "code",
      "source": [
        ""
      ],
      "metadata": {
        "id": "cCfkUXTYgzSB"
      },
      "execution_count": 20,
      "outputs": []
    },
    {
      "cell_type": "code",
      "source": [
        "model.save(saved_model_path_2)"
      ],
      "metadata": {
        "trusted": true,
        "id": "Z5Uzb_bGKixE"
      },
      "execution_count": 21,
      "outputs": []
    },
    {
      "cell_type": "markdown",
      "source": [
        "## Train (fit) Visualization"
      ],
      "metadata": {
        "id": "ATvBW0SPO-eq"
      }
    },
    {
      "cell_type": "code",
      "source": [
        "# Loss, Accuracy presentation\n",
        "\n",
        "# Plot history: Loss\n",
        "plt.plot(history.history['loss'], label='Loss (training data)')\n",
        "plt.plot(history.history['val_loss'], label='Loss (validation data)')\n",
        "plt.title('Loss for train and validation')\n",
        "plt.ylabel('Loss value')\n",
        "plt.xlabel('No. epoch')\n",
        "plt.legend(loc=\"upper left\")\n",
        "plt.show()\n",
        "\n",
        "#Plot history: Accuracy\n",
        "plt.plot(history.history['categorical_accuracy'], label='Acc (training data)')\n",
        "plt.plot(history.history['val_categorical_accuracy'], label='Acc (validation data)')\n",
        "plt.title('Model accuracy')\n",
        "plt.ylabel('Acc %')\n",
        "plt.xlabel('No. epoch')\n",
        "plt.legend(loc=\"upper left\")\n",
        "plt.show()"
      ],
      "metadata": {
        "colab": {
          "base_uri": "https://localhost:8080/",
          "height": 573
        },
        "id": "UjhUHhU_f4EY",
        "outputId": "cbe73200-42a3-4ebe-a968-c0a092b7cdd9"
      },
      "execution_count": 22,
      "outputs": [
        {
          "output_type": "display_data",
          "data": {
            "text/plain": [
              "<Figure size 432x288 with 1 Axes>"
            ],
            "image/png": "[encoded data removed]"
          },
          "metadata": {
            "needs_background": "light"
          }
        },
        {
          "output_type": "display_data",
          "data": {
            "text/plain": [
              "<Figure size 432x288 with 1 Axes>"
            ],
            "image/png": "[encoded data removed]"
          },
          "metadata": {
            "needs_background": "light"
          }
        }
      ]
    },
    {
      "cell_type": "markdown",
      "source": [
        "## Validation Set Evaluation"
      ],
      "metadata": {
        "id": "UZ3lFduxPQeB"
      }
    },
    {
      "cell_type": "markdown",
      "source": [
        "### Val Set Score"
      ],
      "metadata": {
        "id": "5YoYCa22PMGz"
      }
    },
    {
      "cell_type": "code",
      "source": [
        ""
      ],
      "metadata": {
        "id": "jQavrzbB_8fy"
      },
      "execution_count": 22,
      "outputs": []
    },
    {
      "cell_type": "code",
      "source": [
        "# Validation score\n",
        "loss,acc = model.evaluate(x_val, y_val_class, verbose=2)\n"
      ],
      "metadata": {
        "id": "X_KdTUyrf7-j",
        "colab": {
          "base_uri": "https://localhost:8080/"
        },
        "outputId": "4a4ce0bc-d8ee-47b8-cbaf-b20b0c473713"
      },
      "execution_count": 23,
      "outputs": [
        {
          "output_type": "stream",
          "name": "stdout",
          "text": [
            "7/7 - 2s - loss: 1.9663 - categorical_accuracy: 0.3005 - 2s/epoch - 352ms/step\n"
          ]
        }
      ]
    },
    {
      "cell_type": "code",
      "source": [
        ""
      ],
      "metadata": {
        "id": "09k_I9DM_2Q0"
      },
      "execution_count": 23,
      "outputs": []
    },
    {
      "cell_type": "markdown",
      "source": [
        "### Construct Predicted Labels based on Probability of each class"
      ],
      "metadata": {
        "id": "hz7nc15A_3hb"
      }
    },
    {
      "cell_type": "code",
      "source": [
        "y_val_class"
      ],
      "metadata": {
        "colab": {
          "base_uri": "https://localhost:8080/"
        },
        "id": "CFM1P2SZ_85N",
        "outputId": "d2964021-855c-43cd-f77c-a3018949bfcd"
      },
      "execution_count": 24,
      "outputs": [
        {
          "output_type": "execute_result",
          "data": {
            "text/plain": [
              "array([[0, 0, 0, ..., 1, 0, 0],\n",
              "       [0, 0, 0, ..., 1, 0, 0],\n",
              "       [0, 0, 1, ..., 0, 0, 0],\n",
              "       ...,\n",
              "       [1, 0, 0, ..., 0, 0, 0],\n",
              "       [0, 0, 1, ..., 0, 0, 0],\n",
              "       [0, 0, 0, ..., 0, 0, 0]], dtype=int8)"
            ]
          },
          "metadata": {},
          "execution_count": 24
        }
      ]
    },
    {
      "cell_type": "code",
      "source": [
        "np.argmax(y_val_class, axis=1)"
      ],
      "metadata": {
        "colab": {
          "base_uri": "https://localhost:8080/"
        },
        "id": "C9UHSeXbAASy",
        "outputId": "c6253904-b595-477d-95cc-01461edc3f26"
      },
      "execution_count": 25,
      "outputs": [
        {
          "output_type": "execute_result",
          "data": {
            "text/plain": [
              "array([5, 5, 2, 4, 4, 5, 3, 5, 1, 7, 1, 6, 1, 0, 3, 5, 4, 5, 0, 4, 4, 7,\n",
              "       3, 5, 5, 3, 4, 7, 6, 3, 1, 4, 1, 4, 3, 4, 5, 0, 1, 3, 3, 6, 2, 3,\n",
              "       3, 4, 3, 4, 5, 1, 2, 2, 2, 3, 1, 3, 5, 3, 5, 6, 2, 1, 5, 0, 3, 2,\n",
              "       1, 7, 3, 2, 0, 5, 1, 5, 2, 1, 7, 7, 3, 4, 0, 5, 4, 3, 0, 6, 5, 2,\n",
              "       2, 7, 3, 1, 1, 2, 4, 4, 1, 5, 6, 3, 2, 2, 2, 4, 5, 7, 5, 6, 1, 4,\n",
              "       2, 2, 6, 1, 2, 3, 2, 3, 4, 4, 6, 4, 5, 4, 6, 0, 5, 7, 2, 7, 0, 2,\n",
              "       7, 1, 4, 4, 1, 1, 1, 2, 5, 3, 2, 2, 0, 6, 4, 6, 1, 4, 7, 2, 3, 2,\n",
              "       3, 2, 4, 2, 4, 6, 5, 2, 4, 4, 4, 7, 4, 2, 4, 3, 6, 3, 0, 5, 3, 0,\n",
              "       1, 1, 4, 4, 2, 5, 2, 7, 5, 4, 3, 4, 0, 5, 4, 2, 6, 2, 2, 3, 2, 3,\n",
              "       5, 6, 3, 2, 4, 6, 2, 5, 3, 0, 2, 4, 0, 2, 4])"
            ]
          },
          "metadata": {},
          "execution_count": 25
        }
      ]
    },
    {
      "cell_type": "code",
      "source": [
        "y_val_class = np.argmax(y_val_class, axis=1)\n",
        "predictions_val = model.predict(x_val)\n",
        "y_proba_val_class = predictions_val\n",
        "y_pred_val_class = np.argmax(predictions_val, axis=1)"
      ],
      "metadata": {
        "id": "urjydD-38JK7"
      },
      "execution_count": 26,
      "outputs": []
    },
    {
      "cell_type": "code",
      "source": [
        "predictions_val\n"
      ],
      "metadata": {
        "colab": {
          "base_uri": "https://localhost:8080/"
        },
        "id": "Zb7dGRs3AEJn",
        "outputId": "ef32de14-c75a-4935-d911-2db65a7af761"
      },
      "execution_count": 27,
      "outputs": [
        {
          "output_type": "execute_result",
          "data": {
            "text/plain": [
              "array([[0.09196783, 0.2479785 , 0.14521953, ..., 0.09755106, 0.00631428,\n",
              "        0.00269747],\n",
              "       [0.3645008 , 0.22249733, 0.2907972 , ..., 0.03126413, 0.00053688,\n",
              "        0.00103235],\n",
              "       [0.350942  , 0.17856959, 0.36856425, ..., 0.02434277, 0.00055619,\n",
              "        0.00105893],\n",
              "       ...,\n",
              "       [0.0678314 , 0.02702392, 0.10188174, ..., 0.1928369 , 0.0962835 ,\n",
              "        0.08833005],\n",
              "       [0.371328  , 0.10860349, 0.4065272 , ..., 0.04171945, 0.00042533,\n",
              "        0.00162427],\n",
              "       [0.07640687, 0.25233588, 0.1719156 , ..., 0.06235084, 0.00918215,\n",
              "        0.00286018]], dtype=float32)"
            ]
          },
          "metadata": {},
          "execution_count": 27
        }
      ]
    },
    {
      "cell_type": "code",
      "source": [
        "y_pred_val_class "
      ],
      "metadata": {
        "colab": {
          "base_uri": "https://localhost:8080/"
        },
        "id": "KxHa1Ss1AJo4",
        "outputId": "e2c7ff00-71ca-4ea7-efdd-b2c232e1cad8"
      },
      "execution_count": 28,
      "outputs": [
        {
          "output_type": "execute_result",
          "data": {
            "text/plain": [
              "array([3, 0, 2, 3, 4, 0, 1, 1, 1, 1, 3, 3, 1, 0, 1, 1, 4, 1, 0, 3, 0, 7,\n",
              "       1, 2, 3, 4, 0, 5, 2, 7, 1, 3, 1, 4, 1, 2, 1, 0, 1, 1, 3, 6, 0, 0,\n",
              "       1, 4, 1, 2, 2, 0, 2, 1, 3, 3, 1, 2, 5, 1, 3, 1, 1, 1, 0, 1, 0, 2,\n",
              "       1, 2, 1, 1, 0, 3, 3, 0, 1, 1, 7, 2, 5, 3, 0, 4, 3, 0, 1, 1, 0, 1,\n",
              "       2, 2, 2, 0, 1, 1, 2, 5, 1, 1, 1, 1, 3, 0, 2, 3, 1, 2, 5, 0, 1, 3,\n",
              "       2, 2, 4, 0, 1, 3, 1, 1, 5, 2, 1, 4, 2, 3, 2, 7, 5, 2, 3, 0, 1, 3,\n",
              "       2, 1, 5, 2, 1, 3, 1, 2, 5, 1, 2, 2, 1, 4, 3, 1, 0, 3, 3, 0, 5, 0,\n",
              "       1, 2, 1, 2, 3, 1, 0, 2, 4, 0, 2, 2, 4, 2, 2, 2, 6, 1, 1, 1, 0, 2,\n",
              "       1, 1, 2, 4, 2, 0, 2, 1, 3, 2, 4, 2, 0, 1, 4, 0, 1, 3, 1, 1, 0, 1,\n",
              "       1, 1, 1, 5, 2, 1, 2, 5, 1, 1, 2, 4, 3, 2, 3])"
            ]
          },
          "metadata": {},
          "execution_count": 28
        }
      ]
    },
    {
      "cell_type": "markdown",
      "source": [
        "### Val Set Confusion Matrix and Heatmap"
      ],
      "metadata": {
        "id": "d2ullxf9PUMd"
      }
    },
    {
      "cell_type": "code",
      "source": [
        "# Validation Confusion matrix\n",
        "cm=confusion_matrix(y_val_class, y_pred_val_class)\n",
        "\n",
        "index = ['neutral', 'calm', 'happy', 'sad', 'angry', 'fearful', 'disgust', 'surprised']  \n",
        "columns = ['neutral', 'calm', 'happy', 'sad', 'angry', 'fearful', 'disgust', 'surprised']  \n",
        " \n",
        "cm_df = pd.DataFrame(cm,index,columns)                      \n",
        "plt.figure(figsize=(12,8))\n",
        "ax = plt.axes()\n",
        "\n",
        "sns.heatmap(cm_df, ax = ax, cmap = 'PuBu', fmt=\"d\", annot=True)\n",
        "ax.set_ylabel('True emotion')\n",
        "ax.set_xlabel('Predicted emotion')"
      ],
      "metadata": {
        "colab": {
          "base_uri": "https://localhost:8080/",
          "height": 0
        },
        "id": "doLcg3CTf9bx",
        "outputId": "a6604d72-4546-433a-c658-1b5fbdeeec1e"
      },
      "execution_count": 29,
      "outputs": [
        {
          "output_type": "execute_result",
          "data": {
            "text/plain": [
              "Text(0.5, 51.0, 'Predicted emotion')"
            ]
          },
          "metadata": {},
          "execution_count": 29
        },
        {
          "output_type": "display_data",
          "data": {
            "text/plain": [
              "<Figure size 864x576 with 2 Axes>"
            ],
            "image/png": "[encoded data removed]"
          },
          "metadata": {
            "needs_background": "light"
          }
        }
      ]
    },
    {
      "cell_type": "code",
      "source": [
        "# Confusion Matrix\n",
        "cm"
      ],
      "metadata": {
        "colab": {
          "base_uri": "https://localhost:8080/"
        },
        "id": "hIEG9Pia8Nfp",
        "outputId": "59d0180c-1bcd-4dc7-af53-f4577dd04567"
      },
      "execution_count": 30,
      "outputs": [
        {
          "output_type": "execute_result",
          "data": {
            "text/plain": [
              "array([[ 6,  6,  1,  1,  0,  0,  0,  1],\n",
              "       [ 4, 17,  0,  3,  0,  0,  0,  0],\n",
              "       [ 6,  9, 19,  5,  0,  1,  0,  0],\n",
              "       [ 4, 18,  3,  3,  2,  2,  0,  1],\n",
              "       [ 3,  1, 11, 12, 10,  3,  0,  0],\n",
              "       [ 7,  9,  3,  5,  1,  5,  0,  0],\n",
              "       [ 1,  9,  2,  1,  2,  0,  2,  0],\n",
              "       [ 1,  2,  7,  1,  0,  1,  0,  2]])"
            ]
          },
          "metadata": {},
          "execution_count": 30
        }
      ]
    },
    {
      "cell_type": "markdown",
      "source": [
        "### Validation Set Predicted emotions accuracy"
      ],
      "metadata": {
        "id": "kWjKgUdRPYH5"
      }
    },
    {
      "cell_type": "code",
      "source": [
        "# Validation set prediction accuracy rates\n",
        "\n",
        "values = cm.diagonal()\n",
        "row_sum = np.sum(cm,axis=1)\n",
        "acc = values / row_sum\n",
        "\n",
        "print('Validation set predicted emotions accuracy:')\n",
        "for e in range(0, len(values)):\n",
        "    print(index[e],':', f\"{(acc[e]):0.4f}\")"
      ],
      "metadata": {
        "colab": {
          "base_uri": "https://localhost:8080/"
        },
        "id": "MopdywY9f-mS",
        "outputId": "49b57acd-92fe-402c-a141-bc811e7ba3e1"
      },
      "execution_count": 31,
      "outputs": [
        {
          "output_type": "stream",
          "name": "stdout",
          "text": [
            "Validation set predicted emotions accuracy:\n",
            "neutral : 0.4000\n",
            "calm : 0.7083\n",
            "happy : 0.4750\n",
            "sad : 0.0909\n",
            "angry : 0.2500\n",
            "fearful : 0.1667\n",
            "disgust : 0.1176\n",
            "surprised : 0.1429\n"
          ]
        }
      ]
    },
    {
      "cell_type": "markdown",
      "source": [
        "### Precision, Recal, Fscore"
      ],
      "metadata": {
        "id": "DGSTy2228XRH"
      }
    },
    {
      "cell_type": "code",
      "source": [
        "# Validation set precision, recall, fscore\n",
        "\n",
        "precision_recall_fscore_support(y_val_class, y_pred_val_class, average='macro')\n"
      ],
      "metadata": {
        "colab": {
          "base_uri": "https://localhost:8080/"
        },
        "id": "rOwUkCG0gGpm",
        "outputId": "255105af-fbf2-45a3-aaf8-347cc8db233e"
      },
      "execution_count": 32,
      "outputs": [
        {
          "output_type": "execute_result",
          "data": {
            "text/plain": [
              "(0.44001095310761246, 0.2939266615737204, 0.27291306132973153, None)"
            ]
          },
          "metadata": {},
          "execution_count": 32
        }
      ]
    },
    {
      "cell_type": "code",
      "source": [
        "precision_recall_fscore_support(y_val_class, y_pred_val_class, average='weighted')"
      ],
      "metadata": {
        "colab": {
          "base_uri": "https://localhost:8080/"
        },
        "id": "OorFgXxDzy3o",
        "outputId": "ac74b62b-fc69-498d-a74f-77d5b6631f08"
      },
      "execution_count": 33,
      "outputs": [
        {
          "output_type": "execute_result",
          "data": {
            "text/plain": [
              "(0.42930015519923787, 0.3004694835680751, 0.28904131310210374, None)"
            ]
          },
          "metadata": {},
          "execution_count": 33
        }
      ]
    },
    {
      "cell_type": "markdown",
      "source": [
        "## Test Set Evaluation"
      ],
      "metadata": {
        "id": "FiCwOjmPPgCn"
      }
    },
    {
      "cell_type": "markdown",
      "source": [
        "### Test Set Score\n",
        "\n"
      ],
      "metadata": {
        "id": "CWB7U5xDUSmF"
      }
    },
    {
      "cell_type": "code",
      "source": [
        "loss, acc = model.evaluate(x_test, y_test_class, verbose=2)"
      ],
      "metadata": {
        "id": "Y7NEHPM-gzml",
        "colab": {
          "base_uri": "https://localhost:8080/"
        },
        "outputId": "60c1e52a-df9e-4d2f-dbbe-4c9c5b2bd1f2"
      },
      "execution_count": 34,
      "outputs": [
        {
          "output_type": "stream",
          "name": "stdout",
          "text": [
            "3/3 - 1s - loss: 1.9262 - categorical_accuracy: 0.3404 - 669ms/epoch - 223ms/step\n"
          ]
        }
      ]
    },
    {
      "cell_type": "markdown",
      "source": [
        "### Construct Predicted Labels based on Probability of each class"
      ],
      "metadata": {
        "id": "gPwcFV9oAhGh"
      }
    },
    {
      "cell_type": "code",
      "source": [
        "y_test_class"
      ],
      "metadata": {
        "colab": {
          "base_uri": "https://localhost:8080/"
        },
        "id": "tjN7Eit7AiML",
        "outputId": "a25f4956-5179-4631-dac3-91cfc861977e"
      },
      "execution_count": 35,
      "outputs": [
        {
          "output_type": "execute_result",
          "data": {
            "text/plain": [
              "array([[0, 0, 1, 0, 0, 0, 0, 0],\n",
              "       [0, 0, 1, 0, 0, 0, 0, 0],\n",
              "       [0, 0, 1, 0, 0, 0, 0, 0],\n",
              "       [1, 0, 0, 0, 0, 0, 0, 0],\n",
              "       [0, 0, 0, 0, 1, 0, 0, 0],\n",
              "       [0, 0, 0, 0, 0, 0, 1, 0],\n",
              "       [0, 0, 1, 0, 0, 0, 0, 0],\n",
              "       [1, 0, 0, 0, 0, 0, 0, 0],\n",
              "       [0, 0, 0, 0, 0, 1, 0, 0],\n",
              "       [1, 0, 0, 0, 0, 0, 0, 0],\n",
              "       [0, 0, 0, 1, 0, 0, 0, 0],\n",
              "       [0, 0, 0, 0, 0, 1, 0, 0],\n",
              "       [0, 0, 0, 0, 1, 0, 0, 0],\n",
              "       [0, 1, 0, 0, 0, 0, 0, 0],\n",
              "       [0, 0, 0, 0, 0, 0, 1, 0],\n",
              "       [0, 0, 0, 0, 1, 0, 0, 0],\n",
              "       [0, 0, 0, 1, 0, 0, 0, 0],\n",
              "       [0, 0, 0, 0, 0, 1, 0, 0],\n",
              "       [0, 0, 0, 0, 1, 0, 0, 0],\n",
              "       [0, 0, 0, 0, 0, 1, 0, 0],\n",
              "       [0, 0, 0, 0, 0, 0, 0, 1],\n",
              "       [0, 1, 0, 0, 0, 0, 0, 0],\n",
              "       [0, 0, 0, 0, 0, 0, 0, 1],\n",
              "       [0, 1, 0, 0, 0, 0, 0, 0],\n",
              "       [0, 0, 1, 0, 0, 0, 0, 0],\n",
              "       [0, 0, 0, 0, 0, 1, 0, 0],\n",
              "       [0, 0, 0, 0, 1, 0, 0, 0],\n",
              "       [0, 0, 0, 0, 0, 1, 0, 0],\n",
              "       [0, 0, 0, 0, 1, 0, 0, 0],\n",
              "       [0, 1, 0, 0, 0, 0, 0, 0],\n",
              "       [0, 0, 1, 0, 0, 0, 0, 0],\n",
              "       [0, 1, 0, 0, 0, 0, 0, 0],\n",
              "       [0, 0, 0, 1, 0, 0, 0, 0],\n",
              "       [0, 0, 0, 1, 0, 0, 0, 0],\n",
              "       [0, 0, 0, 1, 0, 0, 0, 0],\n",
              "       [0, 0, 0, 1, 0, 0, 0, 0],\n",
              "       [0, 0, 0, 1, 0, 0, 0, 0],\n",
              "       [0, 0, 0, 1, 0, 0, 0, 0],\n",
              "       [0, 0, 0, 0, 0, 1, 0, 0],\n",
              "       [0, 1, 0, 0, 0, 0, 0, 0],\n",
              "       [0, 0, 0, 0, 0, 1, 0, 0],\n",
              "       [0, 0, 1, 0, 0, 0, 0, 0],\n",
              "       [0, 1, 0, 0, 0, 0, 0, 0],\n",
              "       [0, 0, 0, 0, 0, 0, 1, 0],\n",
              "       [0, 0, 1, 0, 0, 0, 0, 0],\n",
              "       [0, 1, 0, 0, 0, 0, 0, 0],\n",
              "       [0, 0, 0, 1, 0, 0, 0, 0],\n",
              "       [0, 0, 0, 0, 0, 0, 1, 0],\n",
              "       [0, 1, 0, 0, 0, 0, 0, 0],\n",
              "       [0, 0, 0, 0, 0, 1, 0, 0],\n",
              "       [0, 0, 0, 0, 0, 0, 1, 0],\n",
              "       [0, 0, 0, 0, 0, 0, 0, 1],\n",
              "       [0, 0, 0, 0, 1, 0, 0, 0],\n",
              "       [0, 0, 1, 0, 0, 0, 0, 0],\n",
              "       [0, 0, 0, 0, 0, 0, 1, 0],\n",
              "       [0, 0, 0, 0, 1, 0, 0, 0],\n",
              "       [0, 0, 0, 0, 1, 0, 0, 0],\n",
              "       [0, 0, 0, 0, 0, 1, 0, 0],\n",
              "       [0, 0, 0, 0, 1, 0, 0, 0],\n",
              "       [0, 0, 0, 0, 1, 0, 0, 0],\n",
              "       [0, 0, 1, 0, 0, 0, 0, 0],\n",
              "       [0, 0, 0, 1, 0, 0, 0, 0],\n",
              "       [0, 1, 0, 0, 0, 0, 0, 0],\n",
              "       [0, 0, 0, 0, 0, 0, 0, 1],\n",
              "       [0, 0, 0, 0, 0, 0, 0, 1],\n",
              "       [0, 1, 0, 0, 0, 0, 0, 0],\n",
              "       [0, 0, 0, 0, 0, 0, 1, 0],\n",
              "       [0, 0, 0, 0, 1, 0, 0, 0],\n",
              "       [0, 0, 0, 1, 0, 0, 0, 0],\n",
              "       [0, 0, 0, 0, 0, 0, 0, 1],\n",
              "       [0, 0, 0, 0, 0, 0, 1, 0],\n",
              "       [0, 0, 1, 0, 0, 0, 0, 0],\n",
              "       [0, 0, 0, 0, 1, 0, 0, 0],\n",
              "       [0, 0, 0, 0, 0, 0, 1, 0],\n",
              "       [0, 1, 0, 0, 0, 0, 0, 0],\n",
              "       [1, 0, 0, 0, 0, 0, 0, 0],\n",
              "       [0, 1, 0, 0, 0, 0, 0, 0],\n",
              "       [0, 0, 1, 0, 0, 0, 0, 0],\n",
              "       [0, 0, 0, 0, 1, 0, 0, 0],\n",
              "       [0, 0, 0, 0, 0, 1, 0, 0],\n",
              "       [0, 0, 0, 0, 1, 0, 0, 0],\n",
              "       [0, 0, 0, 1, 0, 0, 0, 0],\n",
              "       [0, 1, 0, 0, 0, 0, 0, 0],\n",
              "       [0, 0, 0, 0, 1, 0, 0, 0],\n",
              "       [0, 0, 0, 1, 0, 0, 0, 0],\n",
              "       [0, 0, 0, 0, 0, 0, 1, 0],\n",
              "       [0, 0, 0, 0, 0, 0, 0, 1],\n",
              "       [0, 0, 0, 0, 0, 0, 0, 1],\n",
              "       [0, 0, 0, 0, 0, 1, 0, 0],\n",
              "       [0, 0, 0, 0, 0, 0, 0, 1],\n",
              "       [0, 1, 0, 0, 0, 0, 0, 0],\n",
              "       [0, 0, 1, 0, 0, 0, 0, 0],\n",
              "       [0, 1, 0, 0, 0, 0, 0, 0],\n",
              "       [0, 0, 0, 0, 1, 0, 0, 0]], dtype=int8)"
            ]
          },
          "metadata": {},
          "execution_count": 35
        }
      ]
    },
    {
      "cell_type": "code",
      "source": [
        " np.argmax(y_test_class, axis=1)"
      ],
      "metadata": {
        "colab": {
          "base_uri": "https://localhost:8080/"
        },
        "id": "2fcK-_HzAmc5",
        "outputId": "3b10529c-f70f-47c2-99a2-e2140fb3de0d"
      },
      "execution_count": 36,
      "outputs": [
        {
          "output_type": "execute_result",
          "data": {
            "text/plain": [
              "array([2, 2, 2, 0, 4, 6, 2, 0, 5, 0, 3, 5, 4, 1, 6, 4, 3, 5, 4, 5, 7, 1,\n",
              "       7, 1, 2, 5, 4, 5, 4, 1, 2, 1, 3, 3, 3, 3, 3, 3, 5, 1, 5, 2, 1, 6,\n",
              "       2, 1, 3, 6, 1, 5, 6, 7, 4, 2, 6, 4, 4, 5, 4, 4, 2, 3, 1, 7, 7, 1,\n",
              "       6, 4, 3, 7, 6, 2, 4, 6, 1, 0, 1, 2, 4, 5, 4, 3, 1, 4, 3, 6, 7, 7,\n",
              "       5, 7, 1, 2, 1, 4])"
            ]
          },
          "metadata": {},
          "execution_count": 36
        }
      ]
    },
    {
      "cell_type": "code",
      "source": [
        "y_test_class = np.argmax(y_test_class, axis=1)\n",
        "predictions_test = model.predict(x_test)\n",
        "y_pred_test_class = np.argmax(predictions_test, axis=1)\n",
        "y_proba_test_class = predictions_test\n",
        "\n"
      ],
      "metadata": {
        "id": "uyXvoU2rAckI"
      },
      "execution_count": 37,
      "outputs": []
    },
    {
      "cell_type": "code",
      "source": [
        "predictions_test"
      ],
      "metadata": {
        "colab": {
          "base_uri": "https://localhost:8080/"
        },
        "id": "3BAOUaPwAtuY",
        "outputId": "54c98b7d-f8ec-4939-8b77-5a8d72afaac3"
      },
      "execution_count": 38,
      "outputs": [
        {
          "output_type": "execute_result",
          "data": {
            "text/plain": [
              "array([[2.77330995e-01, 1.35983348e-01, 4.40256968e-02, 3.75077516e-01,\n",
              "        1.99017599e-02, 6.91936612e-02, 2.76954919e-02, 5.07915355e-02],\n",
              "       [4.35180962e-01, 1.58788145e-01, 2.87714839e-01, 7.31249601e-02,\n",
              "        3.88584682e-03, 3.96168195e-02, 3.17863509e-04, 1.37060077e-03],\n",
              "       [3.76218438e-01, 1.53891370e-01, 3.18614244e-01, 8.90676603e-02,\n",
              "        7.08083995e-03, 5.16784936e-02, 8.32438818e-04, 2.61649792e-03],\n",
              "       [4.66687441e-01, 2.51590490e-01, 8.71169195e-02, 1.18189543e-01,\n",
              "        1.99266989e-03, 3.25909592e-02, 4.57152678e-03, 3.72603871e-02],\n",
              "       [8.51456746e-02, 2.26550214e-02, 1.41060188e-01, 2.97434181e-01,\n",
              "        9.45130661e-02, 3.07753682e-01, 2.45548114e-02, 2.68833898e-02],\n",
              "       [4.27747006e-03, 9.41077620e-03, 6.08014911e-02, 3.62478122e-02,\n",
              "        6.27284884e-01, 5.39470017e-02, 1.96053013e-01, 1.19775059e-02],\n",
              "       [1.10561877e-01, 5.45020580e-01, 7.66165704e-02, 1.31347984e-01,\n",
              "        2.66940682e-03, 8.82994905e-02, 1.69462655e-02, 2.85378266e-02],\n",
              "       [4.55223382e-01, 1.62147805e-01, 2.64438123e-01, 7.23649487e-02,\n",
              "        4.35351348e-03, 3.97168957e-02, 3.32619209e-04, 1.42273447e-03],\n",
              "       [9.40316692e-02, 7.44984895e-02, 5.14270425e-01, 4.70459163e-02,\n",
              "        2.61273421e-03, 4.07343954e-02, 2.10883329e-03, 2.24697530e-01],\n",
              "       [3.34005151e-03, 6.42889977e-01, 2.20699143e-02, 2.90563911e-01,\n",
              "        2.70528309e-02, 6.69182604e-03, 6.90634828e-03, 4.85085126e-04],\n",
              "       [2.06001997e-01, 2.14138344e-01, 1.46900371e-01, 2.55391657e-01,\n",
              "        5.72165959e-02, 1.17714003e-01, 1.79544254e-03, 8.41590867e-04],\n",
              "       [2.71494817e-02, 3.95002291e-02, 7.66950965e-01, 9.32796150e-02,\n",
              "        1.80741679e-02, 4.35847901e-02, 6.99922256e-03, 4.46147658e-03],\n",
              "       [1.33809641e-01, 1.30350530e-01, 1.90534502e-01, 3.24774534e-01,\n",
              "        4.48886715e-02, 6.47288039e-02, 6.45393431e-02, 4.63739187e-02],\n",
              "       [2.23731361e-02, 7.51103938e-01, 1.91506371e-02, 1.07957736e-01,\n",
              "        4.65695467e-03, 3.97968777e-02, 4.78135385e-02, 7.14719715e-03],\n",
              "       [1.85178053e-02, 1.28071472e-01, 5.22448868e-02, 1.30603090e-01,\n",
              "        1.43437311e-01, 2.14397795e-02, 4.90542710e-01, 1.51429791e-02],\n",
              "       [8.36083852e-03, 2.85205804e-02, 1.06687725e-01, 1.31099805e-01,\n",
              "        3.24638546e-01, 3.23145166e-02, 3.39696556e-01, 2.86814328e-02],\n",
              "       [3.36450189e-01, 1.16887189e-01, 4.31239456e-01, 6.61807805e-02,\n",
              "        4.51609772e-03, 4.25632372e-02, 4.64993878e-04, 1.69805111e-03],\n",
              "       [1.60572454e-01, 2.60184765e-01, 1.28717065e-01, 2.89530307e-01,\n",
              "        5.39610647e-02, 1.03006437e-01, 2.15989980e-03, 1.86799187e-03],\n",
              "       [2.46624053e-02, 4.53256033e-02, 7.09756255e-01, 8.46835375e-02,\n",
              "        4.15455103e-02, 7.93531984e-02, 1.12393713e-02, 3.43410159e-03],\n",
              "       [1.91587761e-01, 1.21634051e-01, 4.46643919e-01, 1.32251471e-01,\n",
              "        5.57154138e-03, 3.73606943e-02, 4.55007935e-03, 6.04004376e-02],\n",
              "       [9.30080488e-02, 9.69118327e-02, 5.18616080e-01, 9.05611217e-02,\n",
              "        6.14301767e-03, 5.13791665e-02, 5.88160427e-03, 1.37499079e-01],\n",
              "       [2.41179671e-03, 7.65554309e-01, 2.02203989e-02, 2.01842517e-01,\n",
              "        3.99164855e-03, 4.66145016e-03, 1.15819904e-03, 1.59706367e-04],\n",
              "       [4.79773246e-02, 2.00780686e-02, 1.58614501e-01, 1.27839595e-01,\n",
              "        2.80603487e-02, 4.33725595e-01, 1.40956286e-02, 1.69608951e-01],\n",
              "       [2.32979223e-01, 2.77327478e-01, 1.59596875e-01, 2.23199204e-01,\n",
              "        3.17178741e-02, 7.17226714e-02, 1.47651543e-03, 1.98012521e-03],\n",
              "       [5.08798547e-02, 5.67334652e-01, 2.14091584e-01, 8.47559348e-02,\n",
              "        3.19087855e-03, 6.91341758e-02, 8.14895891e-03, 2.46396265e-03],\n",
              "       [1.75637584e-02, 1.20429238e-02, 3.05140689e-02, 5.50535433e-02,\n",
              "        2.04411224e-02, 6.08518004e-01, 2.36303601e-02, 2.32236236e-01],\n",
              "       [2.29426529e-02, 4.11414318e-02, 4.70939934e-01, 1.00296892e-01,\n",
              "        1.70788497e-01, 1.57387614e-01, 3.13471779e-02, 5.15588326e-03],\n",
              "       [1.97974175e-01, 1.39326856e-01, 5.54685354e-01, 7.09910691e-02,\n",
              "        6.85874140e-03, 2.82075927e-02, 8.14530184e-04, 1.14164082e-03],\n",
              "       [3.35531712e-01, 1.15422763e-01, 4.14674938e-01, 7.63702244e-02,\n",
              "        9.79970675e-03, 4.55788374e-02, 6.70994166e-04, 1.95073325e-03],\n",
              "       [2.64383852e-03, 6.26827240e-01, 8.35027453e-03, 3.36003989e-01,\n",
              "        1.90747455e-02, 2.91064219e-03, 3.88806686e-03, 3.01124062e-04],\n",
              "       [3.91745687e-01, 1.44458830e-01, 3.47285390e-01, 7.10604787e-02,\n",
              "        5.54230949e-03, 3.78906801e-02, 4.38073534e-04, 1.57854753e-03],\n",
              "       [6.17712084e-03, 5.31320691e-01, 1.62185822e-02, 4.12671775e-01,\n",
              "        2.40185801e-02, 6.74259802e-03, 2.43036612e-03, 4.20247496e-04],\n",
              "       [5.36365546e-02, 3.98897864e-02, 5.45752645e-02, 1.98880672e-01,\n",
              "        1.71537384e-01, 4.28967252e-02, 3.61239493e-01, 7.73441494e-02],\n",
              "       [4.10321355e-01, 1.95526183e-01, 7.58546591e-02, 2.38597274e-01,\n",
              "        7.00877700e-03, 3.93942483e-02, 9.68724396e-03, 2.36103926e-02],\n",
              "       [7.61238784e-02, 2.52357364e-01, 4.64513339e-02, 3.58291715e-01,\n",
              "        1.53329801e-02, 1.84369907e-01, 4.66419347e-02, 2.04309039e-02],\n",
              "       [1.66630432e-01, 2.65284091e-01, 1.30527079e-01, 2.83285648e-01,\n",
              "        5.03748357e-02, 9.99683589e-02, 2.05895375e-03, 1.87061261e-03],\n",
              "       [3.50898057e-01, 2.43355826e-01, 2.46768370e-01, 9.92763489e-02,\n",
              "        3.58623755e-03, 4.99860421e-02, 1.93916855e-03, 4.18992434e-03],\n",
              "       [1.78710252e-01, 3.19937915e-01, 1.33817881e-01, 2.66506851e-01,\n",
              "        3.01634092e-02, 6.76630661e-02, 1.63787720e-03, 1.56278699e-03],\n",
              "       [4.54409540e-01, 1.71247423e-01, 2.61549830e-01, 7.18430877e-02,\n",
              "        4.53017512e-03, 3.49151865e-02, 3.25353845e-04, 1.17949466e-03],\n",
              "       [1.96203113e-01, 2.25481585e-01, 1.41759291e-01, 2.60343462e-01,\n",
              "        5.07067405e-02, 1.22953631e-01, 1.74555276e-03, 8.06664873e-04],\n",
              "       [6.18418753e-02, 2.60901123e-01, 8.38929117e-02, 1.96128532e-01,\n",
              "        5.79452328e-03, 2.93179065e-01, 3.19943726e-02, 6.62676767e-02],\n",
              "       [3.03771775e-02, 1.46263778e-01, 4.65270936e-01, 1.98320851e-01,\n",
              "        3.23236883e-02, 6.21176399e-02, 5.01405336e-02, 1.51853403e-02],\n",
              "       [6.21266849e-03, 4.16269720e-01, 4.74969521e-02, 1.12590067e-01,\n",
              "        5.17530851e-02, 5.46892844e-02, 3.03367108e-01, 7.62114162e-03],\n",
              "       [6.72450289e-03, 5.91234803e-01, 2.05001868e-02, 1.04832783e-01,\n",
              "        2.56463587e-02, 2.93555651e-02, 2.15836123e-01, 5.86965587e-03],\n",
              "       [4.08280492e-01, 3.08899552e-01, 9.48234797e-02, 9.68054682e-02,\n",
              "        1.37232780e-03, 4.19003107e-02, 3.83821712e-03, 4.40801866e-02],\n",
              "       [6.23345608e-03, 5.28461039e-01, 1.69379804e-02, 4.13481832e-01,\n",
              "        2.50870101e-02, 6.87704049e-03, 2.49288534e-03, 4.28712170e-04],\n",
              "       [3.33082885e-01, 3.74977887e-01, 8.62798691e-02, 9.92931128e-02,\n",
              "        1.15004776e-03, 5.89038394e-02, 4.20920970e-03, 4.21031341e-02],\n",
              "       [1.72457402e-03, 2.62094615e-03, 3.15404795e-02, 4.37342264e-02,\n",
              "        5.86602092e-01, 2.03320198e-02, 2.84340233e-01, 2.91054361e-02],\n",
              "       [7.49150589e-02, 7.21869946e-01, 3.43559608e-02, 9.24701616e-02,\n",
              "        1.61927054e-03, 5.01591600e-02, 1.32754594e-02, 1.13349352e-02],\n",
              "       [4.73435909e-01, 2.31815144e-01, 9.87229422e-02, 1.19267233e-01,\n",
              "        2.28987867e-03, 3.12505327e-02, 4.49704006e-03, 3.87213416e-02],\n",
              "       [1.62151437e-02, 1.23759191e-02, 8.73128027e-02, 1.04640357e-01,\n",
              "        1.92873567e-01, 4.75803733e-01, 8.87501240e-02, 2.20283642e-02],\n",
              "       [1.67535141e-01, 1.30266264e-01, 5.03912866e-01, 1.37715295e-01,\n",
              "        5.13534434e-03, 3.13712284e-02, 3.95007385e-03, 2.01137699e-02],\n",
              "       [1.71292350e-01, 1.94182396e-01, 1.83207586e-01, 2.38437966e-01,\n",
              "        7.38062561e-02, 1.34627357e-01, 3.17224162e-03, 1.27391214e-03],\n",
              "       [7.56949335e-02, 5.37732899e-01, 1.04469076e-01, 1.37843773e-01,\n",
              "        3.32096778e-03, 1.03239343e-01, 1.84294228e-02, 1.92695651e-02],\n",
              "       [2.60982271e-02, 8.04720446e-02, 2.21097618e-01, 2.57567674e-01,\n",
              "        1.20075360e-01, 9.45053622e-02, 1.69846728e-01, 3.03370226e-02],\n",
              "       [1.92014370e-02, 1.51114780e-02, 1.11960649e-01, 1.49032563e-01,\n",
              "        3.72970998e-01, 7.36532956e-02, 1.84088841e-01, 7.39807263e-02],\n",
              "       [3.69252600e-02, 5.33930063e-01, 2.71239221e-01, 8.43274593e-02,\n",
              "        3.87546001e-03, 6.07450083e-02, 7.12609384e-03, 1.83143222e-03],\n",
              "       [1.95975348e-01, 5.66958189e-01, 1.00076310e-01, 1.00762516e-01,\n",
              "        1.14243920e-03, 2.96520609e-02, 2.13865470e-03, 3.29455943e-03],\n",
              "       [2.12776661e-02, 3.57617140e-02, 7.69458413e-01, 1.02223642e-01,\n",
              "        1.70148779e-02, 3.87626588e-02, 8.46680347e-03, 7.03421701e-03],\n",
              "       [1.18954852e-03, 1.39372575e-03, 2.74917819e-02, 3.18895206e-02,\n",
              "        6.55975461e-01, 2.20461786e-02, 2.26252511e-01, 3.37613039e-02],\n",
              "       [8.90810043e-02, 4.27091748e-01, 1.60117075e-01, 1.52006805e-01,\n",
              "        3.98664642e-03, 1.19408488e-01, 1.73474476e-02, 3.09607293e-02],\n",
              "       [7.94412941e-02, 2.20681533e-01, 8.38348344e-02, 3.43102217e-01,\n",
              "        1.63297150e-02, 1.93115085e-01, 3.74854840e-02, 2.60098130e-02],\n",
              "       [2.23411083e-01, 3.54768187e-01, 1.75394446e-01, 1.12700604e-01,\n",
              "        1.68674521e-03, 8.09077844e-02, 4.95125540e-03, 4.61799428e-02],\n",
              "       [4.67895269e-02, 5.58982454e-02, 6.61269650e-02, 2.55361199e-01,\n",
              "        2.49386877e-02, 4.43308771e-01, 3.91632654e-02, 6.84133396e-02],\n",
              "       [3.05519342e-01, 1.51227504e-01, 1.10972784e-01, 3.08400869e-01,\n",
              "        1.29981972e-02, 6.71900213e-02, 1.26518765e-02, 3.10394019e-02],\n",
              "       [1.56388141e-03, 7.93486118e-01, 9.88245662e-03, 1.79589584e-01,\n",
              "        7.22907390e-03, 4.09790874e-03, 3.90255894e-03, 2.48449767e-04],\n",
              "       [6.51941216e-03, 8.93199444e-02, 4.27847058e-02, 8.67536366e-02,\n",
              "        1.79974958e-01, 2.94458754e-02, 5.51909626e-01, 1.32918349e-02],\n",
              "       [5.65514015e-03, 8.30479622e-01, 1.08740702e-02, 6.57825470e-02,\n",
              "        5.48564456e-03, 2.15920340e-02, 5.75914457e-02, 2.53954600e-03],\n",
              "       [4.51343246e-02, 4.01806444e-01, 5.11236265e-02, 3.39204162e-01,\n",
              "        1.59795359e-02, 1.37319252e-01, 7.06907874e-03, 2.36354349e-03],\n",
              "       [1.84110124e-02, 7.07385456e-03, 1.72719896e-01, 5.59889339e-02,\n",
              "        3.51417884e-02, 3.91660362e-01, 1.60590392e-02, 3.02945137e-01],\n",
              "       [2.05871556e-02, 6.51858628e-01, 3.26006338e-02, 1.36474997e-01,\n",
              "        6.12700358e-03, 8.67883489e-02, 5.80953397e-02, 7.46796746e-03],\n",
              "       [1.42858988e-02, 4.50131809e-03, 8.05829912e-02, 1.11161023e-01,\n",
              "        2.16840148e-01, 4.06041741e-01, 7.51593262e-02, 9.14276168e-02],\n",
              "       [1.28304929e-01, 2.20632374e-01, 4.09785509e-01, 1.69742465e-01,\n",
              "        7.89217930e-03, 3.75014357e-02, 1.02847805e-02, 1.58562940e-02],\n",
              "       [3.69326063e-02, 4.52765375e-01, 3.14796939e-02, 2.30379805e-01,\n",
              "        3.41820866e-02, 6.58325851e-02, 1.32585630e-01, 1.58422291e-02],\n",
              "       [3.82251083e-03, 6.80939257e-01, 1.58574190e-02, 2.81704426e-01,\n",
              "        7.25251529e-03, 8.30948073e-03, 1.84629497e-03, 2.68133444e-04],\n",
              "       [2.83650726e-01, 1.70859545e-01, 3.41692090e-01, 1.05458841e-01,\n",
              "        2.99741933e-03, 3.49289551e-02, 3.02373269e-03, 5.73887452e-02],\n",
              "       [3.12360227e-01, 2.03059420e-01, 3.53228658e-01, 8.98133293e-02,\n",
              "        1.17493616e-02, 2.56597139e-02, 1.02428137e-03, 3.10498406e-03],\n",
              "       [1.39026463e-01, 3.85059208e-01, 2.20460713e-01, 1.61244050e-01,\n",
              "        4.86199744e-03, 5.92572503e-02, 1.22923572e-02, 1.77979451e-02],\n",
              "       [5.00501040e-03, 2.52122455e-03, 6.44138902e-02, 7.02347308e-02,\n",
              "        5.52435338e-01, 1.16136178e-01, 1.43217370e-01, 4.60362770e-02],\n",
              "       [2.79330820e-01, 3.11304927e-01, 5.13455011e-02, 2.69892901e-01,\n",
              "        7.06299488e-03, 4.29438390e-02, 1.86414272e-02, 1.94776524e-02],\n",
              "       [1.00645539e-03, 1.25138264e-03, 2.70860028e-02, 2.89066955e-02,\n",
              "        6.91838503e-01, 2.18634717e-02, 2.02015370e-01, 2.60321684e-02],\n",
              "       [1.04630925e-01, 1.80670112e-01, 2.05731601e-01, 2.69211501e-01,\n",
              "        1.12040006e-01, 1.17487326e-01, 6.91674696e-03, 3.31179379e-03],\n",
              "       [2.15768744e-03, 6.99514270e-01, 8.26059189e-03, 2.79729366e-01,\n",
              "        4.86580050e-03, 3.83624365e-03, 1.45048765e-03, 1.85545490e-04],\n",
              "       [1.36330232e-01, 1.56424239e-01, 5.49561501e-01, 9.45368186e-02,\n",
              "        8.78058095e-03, 5.11368550e-02, 1.54112373e-03, 1.68870029e-03],\n",
              "       [1.78637609e-01, 1.77372500e-01, 4.19836044e-01, 1.64636150e-01,\n",
              "        5.48179122e-03, 3.52248698e-02, 5.15716895e-03, 1.36538362e-02],\n",
              "       [6.65898109e-03, 4.28464264e-01, 2.78886408e-02, 1.38159692e-01,\n",
              "        3.28643322e-02, 7.98115805e-02, 2.78412372e-01, 7.74013810e-03],\n",
              "       [1.56409308e-01, 2.41180480e-01, 3.56845021e-01, 1.04347959e-01,\n",
              "        2.03272188e-03, 8.10043439e-02, 3.36672040e-03, 5.48134223e-02],\n",
              "       [2.12502666e-02, 6.97158044e-03, 6.39581755e-02, 1.22606039e-01,\n",
              "        2.51582503e-01, 2.65922487e-01, 1.16705775e-01, 1.51003122e-01],\n",
              "       [4.47117426e-02, 1.45013072e-02, 1.63272142e-01, 2.32666269e-01,\n",
              "        8.76303017e-02, 3.85530949e-01, 2.97782291e-02, 4.19090539e-02],\n",
              "       [1.75698131e-01, 1.22716330e-01, 5.06788194e-01, 8.78035128e-02,\n",
              "        3.05105699e-03, 3.50072570e-02, 2.35130615e-03, 6.65841773e-02],\n",
              "       [6.35514548e-03, 5.26085377e-01, 1.68193746e-02, 4.15815353e-01,\n",
              "        2.51547024e-02, 6.89728092e-03, 2.44247704e-03, 4.30274813e-04],\n",
              "       [1.51693940e-01, 1.49841219e-01, 4.97035295e-01, 1.48214772e-01,\n",
              "        5.24624763e-03, 3.08162570e-02, 4.31035180e-03, 1.28418095e-02],\n",
              "       [4.09161709e-02, 6.00812495e-01, 6.33205771e-02, 1.40417770e-01,\n",
              "        6.38920814e-03, 9.98247191e-02, 3.73075381e-02, 1.10115111e-02],\n",
              "       [7.66112059e-02, 1.20757982e-01, 2.69946456e-01, 2.34525323e-01,\n",
              "        7.98842087e-02, 1.38758421e-01, 5.94851263e-02, 2.00312845e-02]],\n",
              "      dtype=float32)"
            ]
          },
          "metadata": {},
          "execution_count": 38
        }
      ]
    },
    {
      "cell_type": "code",
      "source": [
        "y_pred_test_class "
      ],
      "metadata": {
        "colab": {
          "base_uri": "https://localhost:8080/"
        },
        "id": "ph-j4nBsAxjT",
        "outputId": "27749655-6959-4929-f9d5-dc9a24ee76f5"
      },
      "execution_count": 39,
      "outputs": [
        {
          "output_type": "execute_result",
          "data": {
            "text/plain": [
              "array([3, 0, 0, 0, 5, 4, 1, 0, 2, 1, 3, 2, 3, 1, 6, 6, 2, 3, 2, 2, 2, 1,\n",
              "       5, 1, 1, 5, 2, 2, 2, 1, 0, 1, 6, 0, 3, 3, 0, 1, 0, 3, 5, 2, 1, 1,\n",
              "       0, 1, 1, 4, 1, 0, 5, 2, 3, 1, 3, 4, 1, 1, 2, 4, 1, 3, 1, 5, 3, 1,\n",
              "       6, 1, 1, 5, 1, 5, 2, 1, 1, 2, 2, 1, 4, 1, 4, 3, 1, 2, 2, 1, 2, 5,\n",
              "       5, 2, 1, 2, 1, 2])"
            ]
          },
          "metadata": {},
          "execution_count": 39
        }
      ]
    },
    {
      "cell_type": "markdown",
      "source": [
        "### Test Set Confusion Matrix and Heatmap"
      ],
      "metadata": {
        "id": "Epp2QpxsUVXH"
      }
    },
    {
      "cell_type": "code",
      "source": [
        "# Test set Confusion matrix\n",
        "\n",
        "cm=confusion_matrix(y_test_class, y_pred_test_class)\n",
        "\n",
        "index = ['neutral', 'calm', 'happy', 'sad', 'angry', 'fearful', 'disgust', 'surprised']  \n",
        "columns = ['neutral', 'calm', 'happy', 'sad', 'angry', 'fearful', 'disgust', 'surprised']  \n",
        " \n",
        "cm_df = pd.DataFrame(cm,index,columns)                      \n",
        "plt.figure(figsize=(12,8))\n",
        "ax = plt.axes()\n",
        "\n",
        "sns.heatmap(cm_df, ax = ax, cmap = 'BuGn', fmt=\"d\", annot=True)\n",
        "ax.set_ylabel('True emotion')\n",
        "ax.set_xlabel('Predicted emotion')"
      ],
      "metadata": {
        "colab": {
          "base_uri": "https://localhost:8080/",
          "height": 0
        },
        "id": "ukGrk_cagzyb",
        "outputId": "af8d3864-2800-4d64-c00a-11c2378639fd"
      },
      "execution_count": 40,
      "outputs": [
        {
          "output_type": "execute_result",
          "data": {
            "text/plain": [
              "Text(0.5, 51.0, 'Predicted emotion')"
            ]
          },
          "metadata": {},
          "execution_count": 40
        },
        {
          "output_type": "display_data",
          "data": {
            "text/plain": [
              "<Figure size 864x576 with 2 Axes>"
            ],
            "image/png": "[encoded data removed]"
          },
          "metadata": {
            "needs_background": "light"
          }
        }
      ]
    },
    {
      "cell_type": "code",
      "source": [
        "# Confusion Matrix\n",
        "cm"
      ],
      "metadata": {
        "colab": {
          "base_uri": "https://localhost:8080/"
        },
        "id": "9f51xwUE8haF",
        "outputId": "aa7c77a8-e5de-4048-ae88-c030d273db77"
      },
      "execution_count": 41,
      "outputs": [
        {
          "output_type": "execute_result",
          "data": {
            "text/plain": [
              "array([[ 2,  1,  1,  0,  0,  0,  0,  0],\n",
              "       [ 0, 14,  1,  1,  0,  0,  0,  0],\n",
              "       [ 4,  5,  2,  1,  0,  1,  0,  0],\n",
              "       [ 2,  3,  2,  5,  0,  0,  1,  0],\n",
              "       [ 0,  2,  7,  2,  4,  1,  1,  0],\n",
              "       [ 2,  2,  4,  1,  0,  3,  0,  0],\n",
              "       [ 0,  4,  0,  1,  2,  1,  2,  0],\n",
              "       [ 0,  0,  4,  1,  0,  4,  0,  0]])"
            ]
          },
          "metadata": {},
          "execution_count": 41
        }
      ]
    },
    {
      "cell_type": "markdown",
      "source": [
        "### Test Set Predicted emotions accuracy"
      ],
      "metadata": {
        "id": "zil3CkweUX0q"
      }
    },
    {
      "cell_type": "code",
      "source": [
        "# Test set prediction accuracy rates\n",
        "\n",
        "values = cm.diagonal()\n",
        "row_sum = np.sum(cm,axis=1)\n",
        "acc = values / row_sum\n",
        "\n",
        "print('Test set predicted emotions accuracy:')\n",
        "for e in range(0, len(values)):\n",
        "    print(index[e],':', f\"{(acc[e]):0.4f}\")"
      ],
      "metadata": {
        "colab": {
          "base_uri": "https://localhost:8080/"
        },
        "id": "t_ORyGGig090",
        "outputId": "81aa8981-ec9a-44ec-a1d6-a721039dad57"
      },
      "execution_count": 42,
      "outputs": [
        {
          "output_type": "stream",
          "name": "stdout",
          "text": [
            "Test set predicted emotions accuracy:\n",
            "neutral : 0.5000\n",
            "calm : 0.8750\n",
            "happy : 0.1538\n",
            "sad : 0.3846\n",
            "angry : 0.2353\n",
            "fearful : 0.2500\n",
            "disgust : 0.2000\n",
            "surprised : 0.0000\n"
          ]
        }
      ]
    },
    {
      "cell_type": "markdown",
      "source": [
        "### Precision, Recal, Fscore"
      ],
      "metadata": {
        "id": "8Hzthv1t8kwd"
      }
    },
    {
      "cell_type": "code",
      "source": [
        "# Validation set precision, recall, fscore\n",
        "\n",
        "precision_recall_fscore_support(y_test_class, y_pred_test_class, average='macro')\n"
      ],
      "metadata": {
        "colab": {
          "base_uri": "https://localhost:8080/"
        },
        "id": "QnwWoVFnh33F",
        "outputId": "f06fad91-4741-40e4-86cc-6cf1ed43d113"
      },
      "execution_count": 43,
      "outputs": [
        {
          "output_type": "stream",
          "name": "stderr",
          "text": [
            "/usr/local/lib/python3.7/dist-packages/sklearn/metrics/_classification.py:1318: UndefinedMetricWarning: Precision and F-score are ill-defined and being set to 0.0 in labels with no predicted samples. Use `zero_division` parameter to control this behavior.\n",
            "  _warn_prf(average, modifier, msg_start, len(result))\n"
          ]
        },
        {
          "output_type": "execute_result",
          "data": {
            "text/plain": [
              "(0.32877304147465436, 0.3248444570135747, 0.28817170884836996, None)"
            ]
          },
          "metadata": {},
          "execution_count": 43
        }
      ]
    },
    {
      "cell_type": "code",
      "source": [
        "precision_recall_fscore_support(y_test_class, y_pred_test_class, average='weighted')"
      ],
      "metadata": {
        "colab": {
          "base_uri": "https://localhost:8080/"
        },
        "id": "OlDhuPlqzwVB",
        "outputId": "1e38a7f4-3920-4f1b-fae5-ea459700b1ac"
      },
      "execution_count": 44,
      "outputs": [
        {
          "output_type": "stream",
          "name": "stderr",
          "text": [
            "/usr/local/lib/python3.7/dist-packages/sklearn/metrics/_classification.py:1318: UndefinedMetricWarning: Precision and F-score are ill-defined and being set to 0.0 in labels with no predicted samples. Use `zero_division` parameter to control this behavior.\n",
            "  _warn_prf(average, modifier, msg_start, len(result))\n"
          ]
        },
        {
          "output_type": "execute_result",
          "data": {
            "text/plain": [
              "(0.3682329966990227, 0.3404255319148936, 0.31326699371607497, None)"
            ]
          },
          "metadata": {},
          "execution_count": 44
        }
      ]
    },
    {
      "cell_type": "markdown",
      "source": [
        "### ROC AUC Curve"
      ],
      "metadata": {
        "id": "sEuBd9IyLuiD"
      }
    },
    {
      "cell_type": "code",
      "source": [
        "ravdess_df = pd.read_csv (df_path)"
      ],
      "metadata": {
        "id": "8bb4OSmyTO6v"
      },
      "execution_count": 45,
      "outputs": []
    },
    {
      "cell_type": "code",
      "source": [
        "labels = [\"neutral\", \"calm\", \"happy\", \"sad\", \"angry\", \"fear\", \"disgust\", \"suprised\"]"
      ],
      "metadata": {
        "id": "1leZ4JGVTfTp"
      },
      "execution_count": 46,
      "outputs": []
    },
    {
      "cell_type": "code",
      "source": [
        "y_test_adj = y_test.reshape(-1,)"
      ],
      "metadata": {
        "id": "MRm1ZwnxFStc"
      },
      "execution_count": 47,
      "outputs": []
    },
    {
      "cell_type": "code",
      "source": [
        "y_proba_test_class.shape"
      ],
      "metadata": {
        "colab": {
          "base_uri": "https://localhost:8080/"
        },
        "id": "O-IcYOABFjxB",
        "outputId": "660387b2-8386-42fe-a302-f8d17b9fc2bd"
      },
      "execution_count": 48,
      "outputs": [
        {
          "output_type": "execute_result",
          "data": {
            "text/plain": [
              "(94, 8)"
            ]
          },
          "metadata": {},
          "execution_count": 48
        }
      ]
    },
    {
      "cell_type": "code",
      "source": [
        "y_test.shape"
      ],
      "metadata": {
        "colab": {
          "base_uri": "https://localhost:8080/"
        },
        "id": "9AaqUY3PIlMQ",
        "outputId": "461f4391-c37b-4a45-b097-428fde606ebf"
      },
      "execution_count": 49,
      "outputs": [
        {
          "output_type": "execute_result",
          "data": {
            "text/plain": [
              "(94, 1)"
            ]
          },
          "metadata": {},
          "execution_count": 49
        }
      ]
    },
    {
      "cell_type": "code",
      "source": [
        "\n",
        "\n",
        "macro_roc_auc_ovo = roc_auc_score(y_test_adj, y_proba_test_class, multi_class=\"ovo\", average=\"macro\")\n",
        "weighted_roc_auc_ovo = roc_auc_score(\n",
        "    y_test_adj, y_proba_test_class, multi_class=\"ovo\", average=\"weighted\"\n",
        ")\n",
        "macro_roc_auc_ovr = roc_auc_score(y_test_adj, y_proba_test_class, multi_class=\"ovr\", average=\"macro\")\n",
        "weighted_roc_auc_ovr = roc_auc_score(\n",
        "    y_test_adj, y_proba_test_class, multi_class=\"ovr\", average=\"weighted\"\n",
        ")\n"
      ],
      "metadata": {
        "id": "oMa4N8EhHlY9"
      },
      "execution_count": 50,
      "outputs": []
    },
    {
      "cell_type": "code",
      "source": [
        "print(\"One-vs-One ROC AUC scores:\\n{:.6f} (macro),\\n{:.6f} \" \"(weighted by prevalence)\\n\".format(macro_roc_auc_ovo, weighted_roc_auc_ovo))\n",
        "print(\"One-vs-Rest ROC AUC scores:\\n{:.6f} (macro),\\n{:.6f} \" \"(weighted by prevalence)\".format(macro_roc_auc_ovr, weighted_roc_auc_ovr))"
      ],
      "metadata": {
        "colab": {
          "base_uri": "https://localhost:8080/"
        },
        "id": "hhBLwtO_ICqL",
        "outputId": "1e327a0b-f931-4498-d8e2-e352c0e1e95e"
      },
      "execution_count": 51,
      "outputs": [
        {
          "output_type": "stream",
          "name": "stdout",
          "text": [
            "One-vs-One ROC AUC scores:\n",
            "0.757618 (macro),\n",
            "0.755529 (weighted by prevalence)\n",
            "\n",
            "One-vs-Rest ROC AUC scores:\n",
            "0.756011 (macro),\n",
            "0.752695 (weighted by prevalence)\n"
          ]
        }
      ]
    }
  ]
}