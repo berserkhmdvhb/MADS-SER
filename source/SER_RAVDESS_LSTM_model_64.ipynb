{
  "metadata": {
    "kernelspec": {
      "language": "python",
      "display_name": "Python 3",
      "name": "python3"
    },
    "language_info": {
      "pygments_lexer": "ipython3",
      "nbconvert_exporter": "python",
      "version": "3.6.4",
      "file_extension": ".py",
      "codemirror_mode": {
        "name": "ipython",
        "version": 3
      },
      "name": "python",
      "mimetype": "text/x-python"
    },
    "colab": {
      "name": "SER-RAVDESS-RNN-model-64.ipynb",
      "provenance": [],
      "collapsed_sections": [
        "anSyerIFN7qd",
        "nyMzoZKKKiw6",
        "1YfguG0tPatV",
        "ATvBW0SPO-eq",
        "5YoYCa22PMGz",
        "hz7nc15A_3hb",
        "d2ullxf9PUMd",
        "kWjKgUdRPYH5",
        "DGSTy2228XRH",
        "CWB7U5xDUSmF",
        "gPwcFV9oAhGh",
        "Epp2QpxsUVXH",
        "zil3CkweUX0q",
        "8Hzthv1t8kwd"
      ]
    }
  },
  "nbformat_minor": 0,
  "nbformat": 4,
  "cells": [
    {
      "cell_type": "markdown",
      "source": [
        "# Imports"
      ],
      "metadata": {
        "id": "anSyerIFN7qd"
      }
    },
    {
      "cell_type": "code",
      "source": [
        "# Importing Libraries"
      ],
      "metadata": {
        "id": "IMFSwIuvKiw2"
      },
      "execution_count": 1,
      "outputs": []
    },
    {
      "cell_type": "code",
      "source": [
        "!pip install json-tricks"
      ],
      "metadata": {
        "colab": {
          "base_uri": "https://localhost:8080/"
        },
        "id": "bBR8aNsmM2tR",
        "outputId": "cca7efd7-eab4-4bc8-a183-f20813bd8497"
      },
      "execution_count": 2,
      "outputs": [
        {
          "output_type": "stream",
          "name": "stdout",
          "text": [
            "Collecting json-tricks\n",
            "  Downloading json_tricks-3.15.5-py2.py3-none-any.whl (26 kB)\n",
            "Installing collected packages: json-tricks\n",
            "Successfully installed json-tricks-3.15.5\n"
          ]
        }
      ]
    },
    {
      "cell_type": "code",
      "source": [
        "import pandas as pd\n",
        "import numpy as np\n",
        "\n",
        "import os\n",
        "import sys\n",
        "\n",
        "import librosa\n",
        "import librosa.display\n",
        "#from pydub import AudioSegment, effects\n",
        "#import noisereduce as nr\n",
        "\n",
        "\n",
        "import seaborn as sns\n",
        "import matplotlib.pyplot as plt\n",
        "from IPython.display import Audio\n",
        "\n",
        "import tensorflow as tf\n",
        "import keras\n",
        "import sklearn\n",
        "\n",
        "\n",
        "from tensorflow.keras.models import Sequential, Model\n",
        "from tensorflow.keras.layers import Dense, LSTM, Flatten, Dropout, BatchNormalization\n",
        "from tensorflow.keras.callbacks import ModelCheckpoint, EarlyStopping, ReduceLROnPlateau\n",
        "from tensorflow.keras.optimizers import Adam, SGD\n",
        "from tensorflow.keras.utils import to_categorical, plot_model\n",
        "\n",
        "\n",
        "from keras.models import Sequential, model_from_json, load_model\n",
        "from keras import layers\n",
        "from keras import optimizers\n",
        "from keras import callbacks\n",
        "\n",
        "from sklearn.preprocessing import StandardScaler, OneHotEncoder, LabelEncoder\n",
        "from sklearn.metrics import confusion_matrix, classification_report, precision_recall_fscore_support, roc_auc_score\n",
        "from sklearn.model_selection import train_test_split, StratifiedShuffleSplit\n",
        "from sklearn.multiclass import OneVsRestClassifier\n",
        "\n",
        "\n",
        "from tqdm import tqdm\n",
        "\n",
        "\n",
        "from json_tricks import dump, load\n",
        "\n",
        "\n",
        "\n",
        "import warnings\n",
        "if not sys.warnoptions:\n",
        "    warnings.simplefilter(\"ignore\")\n",
        "warnings.filterwarnings(\"ignore\", category=DeprecationWarning) \n",
        "\n",
        "import time\n",
        "tic = time.perf_counter()\n",
        "\n"
      ],
      "metadata": {
        "id": "77IS8HxqFFCA"
      },
      "execution_count": 3,
      "outputs": []
    },
    {
      "cell_type": "code",
      "source": [
        ""
      ],
      "metadata": {
        "id": "gGYqBIk0FGm4"
      },
      "execution_count": 3,
      "outputs": []
    },
    {
      "cell_type": "markdown",
      "source": [
        "# Dataset"
      ],
      "metadata": {
        "id": "nyMzoZKKKiw6"
      }
    },
    {
      "cell_type": "code",
      "source": [
        "from google.colab import drive\n",
        "drive.mount('/content/drive')"
      ],
      "metadata": {
        "colab": {
          "base_uri": "https://localhost:8080/"
        },
        "id": "JFPDGXmwCBs_",
        "outputId": "98a01461-316f-4d89-cfe2-71a9f926512e"
      },
      "execution_count": 4,
      "outputs": [
        {
          "output_type": "stream",
          "name": "stdout",
          "text": [
            "Mounted at /content/drive\n"
          ]
        }
      ]
    },
    {
      "cell_type": "code",
      "source": [
        "#Crema = \"/content/drive/MyDrive/datasets/speech/CREMAD/sample/\"\n",
        "#Crema = \"/content/drive/MyDrive/datasets/speech/CREMAD/AudioWAV/\"\n",
        "Ravdess = \"/content/drive/MyDrive/datasets/speech/RAVDESS/data\"\n",
        "Ravdess_processed = \"/content/drive/MyDrive/datasets/speech/RAVDESS/processedData/\"\n",
        "Ravdess_speech_sample = \"/content/drive/MyDrive/datasets/speech/RAVDESS/data/Audio_Speech_Actors_01-24/\"\n",
        "df_path = \"/content/drive/MyDrive/datasets/speech/RAVDESS/ravdess_df.csv\"\n",
        "model_path = Ravdess + \"/model/\"\n",
        "\n",
        "checkpoint_path = model_path + \"best_weights-8.hdf5\"\n",
        "saved_model_path = model_path + 'model8723-6.json'\n",
        "\n",
        "saved_weights_path = model_path + 'model8723_weights-8.h5'\n",
        "saved_model_path_2 = model_path + 'Speech-Emotion-Recognition-Model-RNN-6.h5'"
      ],
      "metadata": {
        "execution": {
          "iopub.status.busy": "2021-06-21T09:35:38.093538Z",
          "iopub.execute_input": "2021-06-21T09:35:38.093869Z",
          "iopub.status.idle": "2021-06-21T09:35:38.097467Z",
          "shell.execute_reply.started": "2021-06-21T09:35:38.093838Z",
          "shell.execute_reply": "2021-06-21T09:35:38.096608Z"
        },
        "trusted": true,
        "id": "vR2GjHL4Kiw7"
      },
      "execution_count": 5,
      "outputs": []
    },
    {
      "cell_type": "code",
      "source": [
        ""
      ],
      "metadata": {
        "id": "J2T6JxzIF2Jq"
      },
      "execution_count": 5,
      "outputs": []
    },
    {
      "cell_type": "code",
      "source": [
        "##Hypter Parameters' Range\n",
        "params = {\n",
        "    \"batch_size\": 20,  # 20<16<10, 25 was a bust\n",
        "    \"epochs\": 300,\n",
        "    \"lr\": 0.00010000,\n",
        "    \"time_steps\": 60\n",
        "}\n",
        "#TIME_STEPS = params[\"time_steps\"]\n",
        "#BATCH_SIZE = params[\"batch_size\"]\n",
        "#iter_changes = \"dropout_layers_0.4_0.4\"\n"
      ],
      "metadata": {
        "id": "jnEd5_Vvy4ue"
      },
      "execution_count": 6,
      "outputs": []
    },
    {
      "cell_type": "code",
      "source": [
        ""
      ],
      "metadata": {
        "id": "dKXM0xT-N8uy"
      },
      "execution_count": 6,
      "outputs": []
    },
    {
      "cell_type": "markdown",
      "source": [
        "# Load Processed Files, Construct Train, Validation and Test Sets"
      ],
      "metadata": {
        "id": "fse_mTpaOGdQ"
      }
    },
    {
      "cell_type": "code",
      "source": [
        "\n",
        "processed_path = Ravdess_processed\n",
        "x_path = processed_path + \"X_features.json\" # FILE LOAD PATH\n",
        "y_path =  processed_path + \"Y_labels.json\" # FILE SAVE PATH\n",
        "#x_path = '/content/drive/MyDrive/datasets/speech/RAVDESS/processedData/X_features.json'\n",
        "\n",
        "# Load X,Y json files back into lists, convert to np.arrays\n",
        "\n",
        "X = load(x_path)\n",
        "X = np.asarray(X, dtype = 'float32')\n",
        "\n",
        "Y = load(y_path)\n",
        "Y = np.asarray(Y, dtype = 'int8')"
      ],
      "metadata": {
        "id": "101BpvWgN8xX"
      },
      "execution_count": 7,
      "outputs": []
    },
    {
      "cell_type": "code",
      "source": [
        "# Split to train, validation, and test sets.\n",
        "from sklearn.model_selection import train_test_split\n",
        "# 1st Split: X,Y => (x_train, x_tosplit) (y_train, y_tosplit)\n",
        "x_train, x_tosplit, y_train, y_tosplit = train_test_split(X, Y, test_size = 0.125, random_state = 1)\n",
        "# 2nd Split: x_tosplit,y_tosplit => (x_val, x_test) (y_val, y_test) \n",
        "x_val, x_test, y_val, y_test = train_test_split(x_tosplit, y_tosplit, test_size = 0.304, random_state = 1)\n",
        "#'One-hot' vectors for Y: emotion classification\n",
        "y_train_class = tf.keras.utils.to_categorical(y_train, 8, dtype = 'int8')\n",
        "y_val_class = tf.keras.utils.to_categorical(y_val, 8, dtype = 'int8')"
      ],
      "metadata": {
        "id": "CuF9M1mfOD7X"
      },
      "execution_count": 8,
      "outputs": []
    },
    {
      "cell_type": "code",
      "source": [
        "# x_train, x_val, and x_test shape check.\n",
        "print(np.shape(x_train))\n",
        "print(np.shape(x_val))\n",
        "print(np.shape(x_test))"
      ],
      "metadata": {
        "colab": {
          "base_uri": "https://localhost:8080/"
        },
        "id": "od-D1YgBOGXs",
        "outputId": "ad1a884d-099a-4d4d-b995-7bc7678aafa0"
      },
      "execution_count": 9,
      "outputs": [
        {
          "output_type": "stream",
          "name": "stdout",
          "text": [
            "(2145, 523, 15)\n",
            "(213, 523, 15)\n",
            "(94, 523, 15)\n"
          ]
        }
      ]
    },
    {
      "cell_type": "code",
      "source": [
        "# Save x_test, y_test to JSON.\n",
        "\n",
        "x_test_path = processed_path + 'x_test_data.json'\n",
        "dump(obj = x_test, fp = x_test_path)\n",
        "\n",
        "y_test_path = processed_path + 'y_test_data.json'\n",
        "dump(obj = y_test, fp = y_test_path)"
      ],
      "metadata": {
        "colab": {
          "base_uri": "https://localhost:8080/",
          "height": 91
        },
        "id": "nTExHJVsOHQ5",
        "outputId": "115f6a72-e1b0-4158-9597-388f24384ddf"
      },
      "execution_count": 10,
      "outputs": [
        {
          "output_type": "execute_result",
          "data": {
            "text/plain": [
              "'{\"__ndarray__\": [[2], [2], [2], [0], [4], [6], [2], [0], [5], [0], [3], [5], [4], [1], [6], [4], [3], [5], [4], [5], [7], [1], [7], [1], [2], [5], [4], [5], [4], [1], [2], [1], [3], [3], [3], [3], [3], [3], [5], [1], [5], [2], [1], [6], [2], [1], [3], [6], [1], [5], [6], [7], [4], [2], [6], [4], [4], [5], [4], [4], [2], [3], [1], [7], [7], [1], [6], [4], [3], [7], [6], [2], [4], [6], [1], [0], [1], [2], [4], [5], [4], [3], [1], [4], [3], [6], [7], [7], [5], [7], [1], [2], [1], [4]], \"dtype\": \"int8\", \"shape\": [94, 1], \"Corder\": true}'"
            ],
            "application/vnd.google.colaboratory.intrinsic+json": {
              "type": "string"
            }
          },
          "metadata": {},
          "execution_count": 10
        }
      ]
    },
    {
      "cell_type": "code",
      "source": [
        "# Loading x_test, y_test json files, and converting to np.arrays\n",
        "\n",
        "x_test = load(processed_path + 'x_test_data.json')\n",
        "x_test = np.asarray(x_test).astype('float32')\n",
        "\n",
        "y_test = load(processed_path + 'y_test_data.json')\n",
        "y_test = np.asarray(y_test).astype('int8')\n",
        "\n",
        "y_test_class = tf.keras.utils.to_categorical(y_test, 8, dtype = 'int8')"
      ],
      "metadata": {
        "id": "kAFBRsmk5dzm"
      },
      "execution_count": 11,
      "outputs": []
    },
    {
      "cell_type": "code",
      "source": [
        "X.shape"
      ],
      "metadata": {
        "id": "15joCR4gu4r7",
        "colab": {
          "base_uri": "https://localhost:8080/"
        },
        "outputId": "15f46315-a737-48b7-b530-eac4bb8364c6"
      },
      "execution_count": 12,
      "outputs": [
        {
          "output_type": "execute_result",
          "data": {
            "text/plain": [
              "(2452, 523, 15)"
            ]
          },
          "metadata": {},
          "execution_count": 12
        }
      ]
    },
    {
      "cell_type": "code",
      "source": [
        "X.shape[1:3]"
      ],
      "metadata": {
        "colab": {
          "base_uri": "https://localhost:8080/"
        },
        "id": "8MQhoPKjEzi4",
        "outputId": "d6c7ba95-6fd4-42f6-e0d1-71ac1c66f377"
      },
      "execution_count": 13,
      "outputs": [
        {
          "output_type": "execute_result",
          "data": {
            "text/plain": [
              "(523, 15)"
            ]
          },
          "metadata": {},
          "execution_count": 13
        }
      ]
    },
    {
      "cell_type": "markdown",
      "source": [
        "# RNN Model"
      ],
      "metadata": {
        "id": "gnWVMbR6KixC"
      }
    },
    {
      "cell_type": "code",
      "source": [
        "tic"
      ],
      "metadata": {
        "colab": {
          "base_uri": "https://localhost:8080/"
        },
        "id": "7CHZWdfcN8oo",
        "outputId": "3fa806ec-2954-4878-c973-48dd051e8d5f"
      },
      "execution_count": 14,
      "outputs": [
        {
          "output_type": "execute_result",
          "data": {
            "text/plain": [
              "72.587700299"
            ]
          },
          "metadata": {},
          "execution_count": 14
        }
      ]
    },
    {
      "cell_type": "markdown",
      "source": [
        "## Define Model & Training"
      ],
      "metadata": {
        "id": "GJjJYnJQORJ8"
      }
    },
    {
      "cell_type": "code",
      "source": [
        "# Initializing the model\n",
        "\n",
        "model = Sequential()\n",
        "model.add(layers.LSTM(64, return_sequences = True, input_shape=(X.shape[1:3])))\n",
        "model.add(layers.LSTM(64))\n",
        "model.add(Dropout(0.2))\n",
        "model.add(layers.Dense(8, activation = 'softmax'))\n",
        "print(model.summary())\n",
        "\n",
        "batch_size = 23\n",
        "\n",
        "# Callbacks functions\n",
        "\n",
        "#-> EearlyStopping\n",
        "es = EarlyStopping(monitor='val_loss', mode='min', verbose=1,\n",
        "                    patience=10, min_delta=0.0001)\n",
        "\n",
        "\n",
        "#-> Save the best weights\n",
        "mcp_save = callbacks.ModelCheckpoint(checkpoint_path, save_best_only=True,\n",
        "                           monitor='val_categorical_accuracy',\n",
        "                           mode='max')\n",
        "#-> Reduce learning rate after 100 epoches without improvement.\n",
        "rlrop = callbacks.ReduceLROnPlateau(monitor='val_categorical_accuracy', \n",
        "                                    factor=0.1, patience=40)\n",
        "                             \n",
        "# Compile & train   \n",
        "model.compile(loss='categorical_crossentropy', \n",
        "                optimizer='RMSProp', \n",
        "                metrics=['categorical_accuracy'])\n",
        "\n",
        "\n"
      ],
      "metadata": {
        "colab": {
          "base_uri": "https://localhost:8080/"
        },
        "id": "aD2adyVGOJs4",
        "outputId": "ad081c19-f130-4563-f4a8-952b0ee875d6"
      },
      "execution_count": 15,
      "outputs": [
        {
          "output_type": "stream",
          "name": "stdout",
          "text": [
            "Model: \"sequential\"\n",
            "_________________________________________________________________\n",
            " Layer (type)                Output Shape              Param #   \n",
            "=================================================================\n",
            " lstm (LSTM)                 (None, 523, 64)           20480     \n",
            "                                                                 \n",
            " lstm_1 (LSTM)               (None, 64)                33024     \n",
            "                                                                 \n",
            " dropout (Dropout)           (None, 64)                0         \n",
            "                                                                 \n",
            " dense (Dense)               (None, 8)                 520       \n",
            "                                                                 \n",
            "=================================================================\n",
            "Total params: 54,024\n",
            "Trainable params: 54,024\n",
            "Non-trainable params: 0\n",
            "_________________________________________________________________\n",
            "None\n"
          ]
        }
      ]
    },
    {
      "cell_type": "code",
      "source": [
        "history = model.fit(x_train, y_train_class, \n",
        "                      epochs=340, batch_size = batch_size, \n",
        "                      validation_data = (x_val, y_val_class), \n",
        "                      callbacks = [es, mcp_save, rlrop])\n",
        "toc = time.perf_counter()"
      ],
      "metadata": {
        "colab": {
          "base_uri": "https://localhost:8080/"
        },
        "id": "Da7Gc9x_izth",
        "outputId": "55402840-37a2-4b0a-dad9-1eb605e0252b"
      },
      "execution_count": 16,
      "outputs": [
        {
          "output_type": "stream",
          "name": "stdout",
          "text": [
            "Epoch 1/340\n",
            "94/94 [==============================] - 63s 621ms/step - loss: 2.0370 - categorical_accuracy: 0.1683 - val_loss: 2.0312 - val_categorical_accuracy: 0.1502 - lr: 0.0010\n",
            "Epoch 2/340\n",
            "94/94 [==============================] - 53s 564ms/step - loss: 1.9862 - categorical_accuracy: 0.2093 - val_loss: 2.2681 - val_categorical_accuracy: 0.1127 - lr: 0.0010\n",
            "Epoch 3/340\n",
            "94/94 [==============================] - 50s 534ms/step - loss: 1.9714 - categorical_accuracy: 0.2121 - val_loss: 1.9907 - val_categorical_accuracy: 0.1784 - lr: 0.0010\n",
            "Epoch 4/340\n",
            "94/94 [==============================] - 50s 531ms/step - loss: 1.9581 - categorical_accuracy: 0.2326 - val_loss: 1.9971 - val_categorical_accuracy: 0.1784 - lr: 0.0010\n",
            "Epoch 5/340\n",
            "94/94 [==============================] - 50s 527ms/step - loss: 1.9610 - categorical_accuracy: 0.2177 - val_loss: 2.0005 - val_categorical_accuracy: 0.1925 - lr: 0.0010\n",
            "Epoch 6/340\n",
            "94/94 [==============================] - 49s 524ms/step - loss: 1.9479 - categorical_accuracy: 0.2075 - val_loss: 1.9735 - val_categorical_accuracy: 0.1737 - lr: 0.0010\n",
            "Epoch 7/340\n",
            "94/94 [==============================] - 49s 524ms/step - loss: 1.9086 - categorical_accuracy: 0.2270 - val_loss: 1.9445 - val_categorical_accuracy: 0.2019 - lr: 0.0010\n",
            "Epoch 8/340\n",
            "94/94 [==============================] - 50s 530ms/step - loss: 1.8914 - categorical_accuracy: 0.2275 - val_loss: 2.0037 - val_categorical_accuracy: 0.1596 - lr: 0.0010\n",
            "Epoch 9/340\n",
            "94/94 [==============================] - 49s 524ms/step - loss: 1.8967 - categorical_accuracy: 0.2354 - val_loss: 1.9702 - val_categorical_accuracy: 0.2441 - lr: 0.0010\n",
            "Epoch 10/340\n",
            "94/94 [==============================] - 49s 525ms/step - loss: 1.8925 - categorical_accuracy: 0.2499 - val_loss: 1.9140 - val_categorical_accuracy: 0.2723 - lr: 0.0010\n",
            "Epoch 11/340\n",
            "94/94 [==============================] - 50s 528ms/step - loss: 1.8842 - categorical_accuracy: 0.2476 - val_loss: 1.9330 - val_categorical_accuracy: 0.2629 - lr: 0.0010\n",
            "Epoch 12/340\n",
            "94/94 [==============================] - 51s 540ms/step - loss: 1.8717 - categorical_accuracy: 0.2527 - val_loss: 1.9374 - val_categorical_accuracy: 0.1878 - lr: 0.0010\n",
            "Epoch 13/340\n",
            "94/94 [==============================] - 50s 536ms/step - loss: 1.8748 - categorical_accuracy: 0.2545 - val_loss: 1.9319 - val_categorical_accuracy: 0.2160 - lr: 0.0010\n",
            "Epoch 14/340\n",
            "94/94 [==============================] - 51s 543ms/step - loss: 1.8508 - categorical_accuracy: 0.2531 - val_loss: 1.9892 - val_categorical_accuracy: 0.2347 - lr: 0.0010\n",
            "Epoch 15/340\n",
            "94/94 [==============================] - 53s 560ms/step - loss: 1.8526 - categorical_accuracy: 0.2517 - val_loss: 1.9274 - val_categorical_accuracy: 0.2066 - lr: 0.0010\n",
            "Epoch 16/340\n",
            "94/94 [==============================] - 51s 543ms/step - loss: 1.8413 - categorical_accuracy: 0.2695 - val_loss: 1.9332 - val_categorical_accuracy: 0.2066 - lr: 0.0010\n",
            "Epoch 17/340\n",
            "94/94 [==============================] - 51s 545ms/step - loss: 1.8280 - categorical_accuracy: 0.2699 - val_loss: 1.8963 - val_categorical_accuracy: 0.2723 - lr: 0.0010\n",
            "Epoch 18/340\n",
            "94/94 [==============================] - 50s 527ms/step - loss: 1.8075 - categorical_accuracy: 0.2867 - val_loss: 1.9161 - val_categorical_accuracy: 0.2207 - lr: 0.0010\n",
            "Epoch 19/340\n",
            "94/94 [==============================] - 49s 518ms/step - loss: 1.8122 - categorical_accuracy: 0.2830 - val_loss: 1.8846 - val_categorical_accuracy: 0.2488 - lr: 0.0010\n",
            "Epoch 20/340\n",
            "94/94 [==============================] - 50s 532ms/step - loss: 1.7968 - categorical_accuracy: 0.2848 - val_loss: 1.8909 - val_categorical_accuracy: 0.2254 - lr: 0.0010\n",
            "Epoch 21/340\n",
            "94/94 [==============================] - 51s 538ms/step - loss: 1.7953 - categorical_accuracy: 0.2928 - val_loss: 1.9240 - val_categorical_accuracy: 0.2347 - lr: 0.0010\n",
            "Epoch 22/340\n",
            "94/94 [==============================] - 50s 534ms/step - loss: 1.7907 - categorical_accuracy: 0.2881 - val_loss: 1.8395 - val_categorical_accuracy: 0.2676 - lr: 0.0010\n",
            "Epoch 23/340\n",
            "94/94 [==============================] - 51s 543ms/step - loss: 1.7871 - categorical_accuracy: 0.2830 - val_loss: 1.8565 - val_categorical_accuracy: 0.2535 - lr: 0.0010\n",
            "Epoch 24/340\n",
            "94/94 [==============================] - 50s 528ms/step - loss: 1.7807 - categorical_accuracy: 0.2923 - val_loss: 1.8878 - val_categorical_accuracy: 0.2441 - lr: 0.0010\n",
            "Epoch 25/340\n",
            "94/94 [==============================] - 50s 534ms/step - loss: 1.7871 - categorical_accuracy: 0.2807 - val_loss: 1.8368 - val_categorical_accuracy: 0.2629 - lr: 0.0010\n",
            "Epoch 26/340\n",
            "94/94 [==============================] - 52s 557ms/step - loss: 1.7815 - categorical_accuracy: 0.2946 - val_loss: 1.8052 - val_categorical_accuracy: 0.2864 - lr: 0.0010\n",
            "Epoch 27/340\n",
            "94/94 [==============================] - 51s 542ms/step - loss: 1.7629 - categorical_accuracy: 0.2988 - val_loss: 1.8345 - val_categorical_accuracy: 0.2488 - lr: 0.0010\n",
            "Epoch 28/340\n",
            "94/94 [==============================] - 52s 551ms/step - loss: 1.7615 - categorical_accuracy: 0.3040 - val_loss: 1.8567 - val_categorical_accuracy: 0.2676 - lr: 0.0010\n",
            "Epoch 29/340\n",
            "94/94 [==============================] - 50s 531ms/step - loss: 1.7602 - categorical_accuracy: 0.2900 - val_loss: 1.7936 - val_categorical_accuracy: 0.3052 - lr: 0.0010\n",
            "Epoch 30/340\n",
            "94/94 [==============================] - 50s 527ms/step - loss: 1.7416 - categorical_accuracy: 0.3082 - val_loss: 1.8007 - val_categorical_accuracy: 0.2770 - lr: 0.0010\n",
            "Epoch 31/340\n",
            "94/94 [==============================] - 49s 523ms/step - loss: 1.7424 - categorical_accuracy: 0.3166 - val_loss: 1.7822 - val_categorical_accuracy: 0.2864 - lr: 0.0010\n",
            "Epoch 32/340\n",
            "94/94 [==============================] - 50s 534ms/step - loss: 1.7501 - categorical_accuracy: 0.2988 - val_loss: 1.8463 - val_categorical_accuracy: 0.2582 - lr: 0.0010\n",
            "Epoch 33/340\n",
            "94/94 [==============================] - 51s 545ms/step - loss: 1.7433 - categorical_accuracy: 0.3147 - val_loss: 1.7920 - val_categorical_accuracy: 0.2723 - lr: 0.0010\n",
            "Epoch 34/340\n",
            "94/94 [==============================] - 51s 538ms/step - loss: 1.7381 - categorical_accuracy: 0.3030 - val_loss: 1.8194 - val_categorical_accuracy: 0.2911 - lr: 0.0010\n",
            "Epoch 35/340\n",
            "94/94 [==============================] - 50s 531ms/step - loss: 1.7536 - categorical_accuracy: 0.3035 - val_loss: 1.7709 - val_categorical_accuracy: 0.2864 - lr: 0.0010\n",
            "Epoch 36/340\n",
            "94/94 [==============================] - 50s 530ms/step - loss: 1.7395 - categorical_accuracy: 0.3091 - val_loss: 1.8005 - val_categorical_accuracy: 0.2911 - lr: 0.0010\n",
            "Epoch 37/340\n",
            "94/94 [==============================] - 51s 540ms/step - loss: 1.7302 - categorical_accuracy: 0.3119 - val_loss: 1.8290 - val_categorical_accuracy: 0.2911 - lr: 0.0010\n",
            "Epoch 38/340\n",
            "94/94 [==============================] - 51s 538ms/step - loss: 1.7360 - categorical_accuracy: 0.3086 - val_loss: 1.8312 - val_categorical_accuracy: 0.2723 - lr: 0.0010\n",
            "Epoch 39/340\n",
            "94/94 [==============================] - 51s 543ms/step - loss: 1.7592 - categorical_accuracy: 0.2974 - val_loss: 1.8553 - val_categorical_accuracy: 0.2441 - lr: 0.0010\n",
            "Epoch 40/340\n",
            "94/94 [==============================] - 51s 538ms/step - loss: 1.7537 - categorical_accuracy: 0.2984 - val_loss: 1.8104 - val_categorical_accuracy: 0.3239 - lr: 0.0010\n",
            "Epoch 41/340\n",
            "94/94 [==============================] - 50s 533ms/step - loss: 1.7457 - categorical_accuracy: 0.3091 - val_loss: 1.8225 - val_categorical_accuracy: 0.3146 - lr: 0.0010\n",
            "Epoch 42/340\n",
            "94/94 [==============================] - 50s 527ms/step - loss: 1.7357 - categorical_accuracy: 0.3105 - val_loss: 1.8188 - val_categorical_accuracy: 0.2723 - lr: 0.0010\n",
            "Epoch 43/340\n",
            "94/94 [==============================] - 49s 523ms/step - loss: 1.7257 - categorical_accuracy: 0.2979 - val_loss: 1.8112 - val_categorical_accuracy: 0.2911 - lr: 0.0010\n",
            "Epoch 44/340\n",
            "94/94 [==============================] - 49s 526ms/step - loss: 1.7446 - categorical_accuracy: 0.3026 - val_loss: 1.8091 - val_categorical_accuracy: 0.3099 - lr: 0.0010\n",
            "Epoch 45/340\n",
            "94/94 [==============================] - 49s 523ms/step - loss: 1.7322 - categorical_accuracy: 0.3226 - val_loss: 1.7936 - val_categorical_accuracy: 0.2723 - lr: 0.0010\n",
            "Epoch 45: early stopping\n"
          ]
        }
      ]
    },
    {
      "cell_type": "code",
      "source": [
        ""
      ],
      "metadata": {
        "id": "3MekXCZHizyZ"
      },
      "execution_count": 16,
      "outputs": []
    },
    {
      "cell_type": "code",
      "source": [
        "print(f\"Running time: {(toc - tic)/60:0.4f} minutes\")"
      ],
      "metadata": {
        "id": "cHmSBRhVOELJ",
        "colab": {
          "base_uri": "https://localhost:8080/"
        },
        "outputId": "ba9c33e9-6244-42ea-ff0b-459a8b3ce3ce"
      },
      "execution_count": 17,
      "outputs": [
        {
          "output_type": "stream",
          "name": "stdout",
          "text": [
            "Running time: 56.8883 minutes\n"
          ]
        }
      ]
    },
    {
      "cell_type": "markdown",
      "source": [
        "## Loading Model"
      ],
      "metadata": {
        "id": "jCQelzMAKixD"
      }
    },
    {
      "cell_type": "code",
      "source": [
        "# Define the best weights to the model.\\\n",
        "#model.load_weights(checkpoint_path)"
      ],
      "metadata": {
        "id": "gruZAW2wI-tO"
      },
      "execution_count": 18,
      "outputs": []
    },
    {
      "cell_type": "markdown",
      "source": [
        "# Evaluation"
      ],
      "metadata": {
        "id": "kDxTjEK0KixD"
      }
    },
    {
      "cell_type": "markdown",
      "source": [
        "## Save & Load model, weights"
      ],
      "metadata": {
        "id": "1YfguG0tPatV"
      }
    },
    {
      "cell_type": "code",
      "source": [
        "# Saving model & weights\n",
        "model_path = Ravdess + \"/model/\"\n",
        "model_json = model.to_json()\n",
        "\n",
        "\n",
        "\n",
        "with open(saved_model_path, \"w\") as json_file:\n",
        "    json_file.write(model_json)\n",
        "    \n",
        "model.save_weights(saved_weights_path)\n",
        "print(\"Saved model to disk\")"
      ],
      "metadata": {
        "colab": {
          "base_uri": "https://localhost:8080/"
        },
        "id": "MsVoNhqmgGsK",
        "outputId": "c84a1566-28b7-43ff-a4e6-2d003496e021"
      },
      "execution_count": 19,
      "outputs": [
        {
          "output_type": "stream",
          "name": "stdout",
          "text": [
            "Saved model to disk\n"
          ]
        }
      ]
    },
    {
      "cell_type": "code",
      "source": [
        "# Reading the model from JSON file\n",
        "#model_path = Ravdess + \"/model/\"\n",
        "#saved_model_path = model_path + 'model8723.json'\n",
        "#saved_weights_path = model_path + 'model8723_weights.h5'\n",
        "\n",
        "\n",
        "with open(saved_model_path , 'r') as json_file:\n",
        "    json_savedModel = json_file.read()\n",
        "    \n",
        "# Loading the model architecture, weights\n",
        "model = tf.keras.models.model_from_json(json_savedModel)\n",
        "model.load_weights(saved_weights_path)\n",
        "\n",
        "# Compiling the model with similar parameters as the original model.\n",
        "model.compile(loss='categorical_crossentropy', \n",
        "                optimizer='RMSProp', \n",
        "                metrics=['categorical_accuracy'])\n",
        "\n",
        "# Model's structure visualization\n",
        "tf.keras.utils.plot_model(model, to_file='model.png', show_shapes=True, show_layer_names=True)"
      ],
      "metadata": {
        "colab": {
          "base_uri": "https://localhost:8080/",
          "height": 0
        },
        "id": "y4OJGhLmgfX6",
        "outputId": "28a02196-eb25-4344-de19-214021c9879b"
      },
      "execution_count": 20,
      "outputs": [
        {
          "output_type": "execute_result",
          "data": {
            "text/plain": [
              "<IPython.core.display.Image object>"
            ],
            "image/png": "[encoded data removed]"
          },
          "metadata": {},
          "execution_count": 20
        }
      ]
    },
    {
      "cell_type": "code",
      "source": [
        ""
      ],
      "metadata": {
        "id": "B_SW6eUAgvEj"
      },
      "execution_count": 20,
      "outputs": []
    },
    {
      "cell_type": "code",
      "source": [
        ""
      ],
      "metadata": {
        "id": "cCfkUXTYgzSB"
      },
      "execution_count": 20,
      "outputs": []
    },
    {
      "cell_type": "code",
      "source": [
        "model.save(saved_model_path_2)"
      ],
      "metadata": {
        "trusted": true,
        "id": "Z5Uzb_bGKixE"
      },
      "execution_count": 21,
      "outputs": []
    },
    {
      "cell_type": "markdown",
      "source": [
        "## Train (fit) Visualization"
      ],
      "metadata": {
        "id": "ATvBW0SPO-eq"
      }
    },
    {
      "cell_type": "code",
      "source": [
        "# Loss, Accuracy presentation\n",
        "\n",
        "# Plot history: Loss\n",
        "plt.plot(history.history['loss'], label='Loss (training data)')\n",
        "plt.plot(history.history['val_loss'], label='Loss (validation data)')\n",
        "plt.title('Loss for train and validation')\n",
        "plt.ylabel('Loss value')\n",
        "plt.xlabel('No. epoch')\n",
        "plt.legend(loc=\"upper left\")\n",
        "plt.show()\n",
        "\n",
        "#Plot history: Accuracy\n",
        "plt.plot(history.history['categorical_accuracy'], label='Acc (training data)')\n",
        "plt.plot(history.history['val_categorical_accuracy'], label='Acc (validation data)')\n",
        "plt.title('Model accuracy')\n",
        "plt.ylabel('Acc %')\n",
        "plt.xlabel('No. epoch')\n",
        "plt.legend(loc=\"upper left\")\n",
        "plt.show()"
      ],
      "metadata": {
        "colab": {
          "base_uri": "https://localhost:8080/",
          "height": 0
        },
        "id": "UjhUHhU_f4EY",
        "outputId": "95c9b68b-c523-49ec-f6d9-d35ac2cb38bf"
      },
      "execution_count": 22,
      "outputs": [
        {
          "output_type": "display_data",
          "data": {
            "text/plain": [
              "<Figure size 432x288 with 1 Axes>"
            ],
            "image/png": "[encoded data removed]"
          },
          "metadata": {
            "needs_background": "light"
          }
        },
        {
          "output_type": "display_data",
          "data": {
            "text/plain": [
              "<Figure size 432x288 with 1 Axes>"
            ],
            "image/png": "[encoded data removed]"
          },
          "metadata": {
            "needs_background": "light"
          }
        }
      ]
    },
    {
      "cell_type": "markdown",
      "source": [
        "## Validation Set Evaluation"
      ],
      "metadata": {
        "id": "UZ3lFduxPQeB"
      }
    },
    {
      "cell_type": "markdown",
      "source": [
        "### Val Set Score"
      ],
      "metadata": {
        "id": "5YoYCa22PMGz"
      }
    },
    {
      "cell_type": "code",
      "source": [
        ""
      ],
      "metadata": {
        "id": "jQavrzbB_8fy"
      },
      "execution_count": 22,
      "outputs": []
    },
    {
      "cell_type": "code",
      "source": [
        "# Validation score\n",
        "loss,acc = model.evaluate(x_val, y_val_class, verbose=2)\n"
      ],
      "metadata": {
        "id": "X_KdTUyrf7-j",
        "colab": {
          "base_uri": "https://localhost:8080/"
        },
        "outputId": "6f7a9d36-6ff9-4580-8183-ebd265b1c612"
      },
      "execution_count": 23,
      "outputs": [
        {
          "output_type": "stream",
          "name": "stdout",
          "text": [
            "7/7 - 2s - loss: 1.7936 - categorical_accuracy: 0.2723 - 2s/epoch - 269ms/step\n"
          ]
        }
      ]
    },
    {
      "cell_type": "code",
      "source": [
        ""
      ],
      "metadata": {
        "id": "09k_I9DM_2Q0"
      },
      "execution_count": 23,
      "outputs": []
    },
    {
      "cell_type": "markdown",
      "source": [
        "### Construct Predicted Labels based on Probability of each class"
      ],
      "metadata": {
        "id": "hz7nc15A_3hb"
      }
    },
    {
      "cell_type": "code",
      "source": [
        "y_val_class"
      ],
      "metadata": {
        "colab": {
          "base_uri": "https://localhost:8080/"
        },
        "id": "CFM1P2SZ_85N",
        "outputId": "06680d3d-576d-4bba-bc71-b19dc177508c"
      },
      "execution_count": 24,
      "outputs": [
        {
          "output_type": "execute_result",
          "data": {
            "text/plain": [
              "array([[0, 0, 0, ..., 1, 0, 0],\n",
              "       [0, 0, 0, ..., 1, 0, 0],\n",
              "       [0, 0, 1, ..., 0, 0, 0],\n",
              "       ...,\n",
              "       [1, 0, 0, ..., 0, 0, 0],\n",
              "       [0, 0, 1, ..., 0, 0, 0],\n",
              "       [0, 0, 0, ..., 0, 0, 0]], dtype=int8)"
            ]
          },
          "metadata": {},
          "execution_count": 24
        }
      ]
    },
    {
      "cell_type": "code",
      "source": [
        "np.argmax(y_val_class, axis=1)"
      ],
      "metadata": {
        "colab": {
          "base_uri": "https://localhost:8080/"
        },
        "id": "C9UHSeXbAASy",
        "outputId": "49cece21-6319-4d46-d3f8-e28aa91db7bf"
      },
      "execution_count": 25,
      "outputs": [
        {
          "output_type": "execute_result",
          "data": {
            "text/plain": [
              "array([5, 5, 2, 4, 4, 5, 3, 5, 1, 7, 1, 6, 1, 0, 3, 5, 4, 5, 0, 4, 4, 7,\n",
              "       3, 5, 5, 3, 4, 7, 6, 3, 1, 4, 1, 4, 3, 4, 5, 0, 1, 3, 3, 6, 2, 3,\n",
              "       3, 4, 3, 4, 5, 1, 2, 2, 2, 3, 1, 3, 5, 3, 5, 6, 2, 1, 5, 0, 3, 2,\n",
              "       1, 7, 3, 2, 0, 5, 1, 5, 2, 1, 7, 7, 3, 4, 0, 5, 4, 3, 0, 6, 5, 2,\n",
              "       2, 7, 3, 1, 1, 2, 4, 4, 1, 5, 6, 3, 2, 2, 2, 4, 5, 7, 5, 6, 1, 4,\n",
              "       2, 2, 6, 1, 2, 3, 2, 3, 4, 4, 6, 4, 5, 4, 6, 0, 5, 7, 2, 7, 0, 2,\n",
              "       7, 1, 4, 4, 1, 1, 1, 2, 5, 3, 2, 2, 0, 6, 4, 6, 1, 4, 7, 2, 3, 2,\n",
              "       3, 2, 4, 2, 4, 6, 5, 2, 4, 4, 4, 7, 4, 2, 4, 3, 6, 3, 0, 5, 3, 0,\n",
              "       1, 1, 4, 4, 2, 5, 2, 7, 5, 4, 3, 4, 0, 5, 4, 2, 6, 2, 2, 3, 2, 3,\n",
              "       5, 6, 3, 2, 4, 6, 2, 5, 3, 0, 2, 4, 0, 2, 4])"
            ]
          },
          "metadata": {},
          "execution_count": 25
        }
      ]
    },
    {
      "cell_type": "code",
      "source": [
        "y_val_class = np.argmax(y_val_class, axis=1)\n",
        "predictions_val = model.predict(x_val)\n",
        "y_proba_val_class = predictions_val\n",
        "y_pred_val_class = np.argmax(predictions_val, axis=1)"
      ],
      "metadata": {
        "id": "urjydD-38JK7"
      },
      "execution_count": 26,
      "outputs": []
    },
    {
      "cell_type": "code",
      "source": [
        "predictions_val\n"
      ],
      "metadata": {
        "colab": {
          "base_uri": "https://localhost:8080/"
        },
        "id": "Zb7dGRs3AEJn",
        "outputId": "882e3ff3-fb04-4374-8261-2d2d58bece99"
      },
      "execution_count": 27,
      "outputs": [
        {
          "output_type": "execute_result",
          "data": {
            "text/plain": [
              "array([[0.11222315, 0.087746  , 0.23116902, ..., 0.15382683, 0.02294599,\n",
              "        0.00389832],\n",
              "       [0.12670085, 0.10009256, 0.2188849 , ..., 0.21578418, 0.01250308,\n",
              "        0.00389865],\n",
              "       [0.13606657, 0.23048161, 0.19274072, ..., 0.10575382, 0.00955694,\n",
              "        0.00331069],\n",
              "       ...,\n",
              "       [0.14614452, 0.06332298, 0.16480264, ..., 0.14420438, 0.07897166,\n",
              "        0.22196017],\n",
              "       [0.10442906, 0.08103616, 0.25391257, ..., 0.26160905, 0.02224679,\n",
              "        0.00530072],\n",
              "       [0.11420469, 0.2566667 , 0.21140121, ..., 0.06846973, 0.01940217,\n",
              "        0.00477879]], dtype=float32)"
            ]
          },
          "metadata": {},
          "execution_count": 27
        }
      ]
    },
    {
      "cell_type": "code",
      "source": [
        "y_pred_val_class "
      ],
      "metadata": {
        "colab": {
          "base_uri": "https://localhost:8080/"
        },
        "id": "KxHa1Ss1AJo4",
        "outputId": "2ede421b-bf94-4b3d-b43d-a2eb24d84ad2"
      },
      "execution_count": 28,
      "outputs": [
        {
          "output_type": "execute_result",
          "data": {
            "text/plain": [
              "array([4, 2, 1, 1, 4, 5, 5, 5, 1, 2, 7, 4, 1, 1, 7, 4, 4, 1, 7, 2, 5, 4,\n",
              "       2, 1, 2, 4, 2, 7, 4, 4, 1, 2, 1, 4, 4, 4, 2, 7, 3, 1, 5, 4, 5, 1,\n",
              "       0, 4, 5, 2, 2, 3, 2, 2, 4, 4, 1, 5, 4, 1, 5, 4, 1, 1, 5, 1, 5, 5,\n",
              "       1, 7, 2, 1, 4, 7, 1, 5, 2, 4, 5, 2, 3, 3, 1, 4, 2, 2, 4, 1, 5, 2,\n",
              "       1, 5, 5, 2, 2, 1, 4, 4, 4, 1, 4, 1, 7, 1, 7, 5, 5, 7, 0, 3, 2, 1,\n",
              "       5, 3, 4, 5, 2, 2, 5, 3, 2, 4, 1, 4, 4, 2, 5, 7, 5, 7, 2, 7, 1, 5,\n",
              "       1, 5, 3, 5, 1, 1, 1, 1, 5, 1, 1, 1, 5, 4, 3, 4, 1, 1, 5, 7, 4, 7,\n",
              "       1, 7, 4, 1, 4, 4, 5, 5, 4, 4, 4, 7, 4, 5, 5, 7, 4, 1, 1, 3, 3, 7,\n",
              "       1, 1, 5, 5, 1, 7, 5, 0, 4, 2, 5, 5, 3, 1, 4, 2, 1, 2, 3, 1, 7, 7,\n",
              "       2, 4, 1, 4, 3, 2, 5, 1, 1, 4, 7, 4, 7, 5, 1])"
            ]
          },
          "metadata": {},
          "execution_count": 28
        }
      ]
    },
    {
      "cell_type": "markdown",
      "source": [
        "### Val Set Confusion Matrix and Heatmap"
      ],
      "metadata": {
        "id": "d2ullxf9PUMd"
      }
    },
    {
      "cell_type": "code",
      "source": [
        "# Validation Confusion matrix\n",
        "cm=confusion_matrix(y_val_class, y_pred_val_class)\n",
        "\n",
        "index = ['neutral', 'calm', 'happy', 'sad', 'angry', 'fearful', 'disgust', 'surprised']  \n",
        "columns = ['neutral', 'calm', 'happy', 'sad', 'angry', 'fearful', 'disgust', 'surprised']  \n",
        " \n",
        "cm_df = pd.DataFrame(cm,index,columns)                      \n",
        "plt.figure(figsize=(12,8))\n",
        "ax = plt.axes()\n",
        "\n",
        "sns.heatmap(cm_df, ax = ax, cmap = 'PuBu', fmt=\"d\", annot=True)\n",
        "ax.set_ylabel('True emotion')\n",
        "ax.set_xlabel('Predicted emotion')"
      ],
      "metadata": {
        "colab": {
          "base_uri": "https://localhost:8080/",
          "height": 0
        },
        "id": "doLcg3CTf9bx",
        "outputId": "8c99eee5-c064-4750-8306-0a3d1a604294"
      },
      "execution_count": 29,
      "outputs": [
        {
          "output_type": "execute_result",
          "data": {
            "text/plain": [
              "Text(0.5, 51.0, 'Predicted emotion')"
            ]
          },
          "metadata": {},
          "execution_count": 29
        },
        {
          "output_type": "display_data",
          "data": {
            "text/plain": [
              "<Figure size 864x576 with 2 Axes>"
            ],
            "image/png": "[encoded data removed]"
          },
          "metadata": {
            "needs_background": "light"
          }
        }
      ]
    },
    {
      "cell_type": "code",
      "source": [
        "# Confusion Matrix\n",
        "cm"
      ],
      "metadata": {
        "colab": {
          "base_uri": "https://localhost:8080/"
        },
        "id": "hIEG9Pia8Nfp",
        "outputId": "2109289f-265f-470f-897f-9c2d596930c5"
      },
      "execution_count": 30,
      "outputs": [
        {
          "output_type": "execute_result",
          "data": {
            "text/plain": [
              "array([[ 0,  5,  0,  1,  3,  1,  0,  5],\n",
              "       [ 0, 14,  3,  2,  2,  2,  0,  1],\n",
              "       [ 0, 11,  8,  2,  2, 10,  0,  7],\n",
              "       [ 1, 10,  4,  3,  5,  7,  0,  3],\n",
              "       [ 0,  4,  8,  4, 17,  7,  0,  0],\n",
              "       [ 1,  5,  5,  1,  6, 10,  0,  2],\n",
              "       [ 0,  3,  1,  1, 11,  1,  0,  0],\n",
              "       [ 1,  1,  2,  0,  1,  3,  0,  6]])"
            ]
          },
          "metadata": {},
          "execution_count": 30
        }
      ]
    },
    {
      "cell_type": "markdown",
      "source": [
        "### Validation Set Predicted emotions accuracy"
      ],
      "metadata": {
        "id": "kWjKgUdRPYH5"
      }
    },
    {
      "cell_type": "code",
      "source": [
        "# Validation set prediction accuracy rates\n",
        "\n",
        "values = cm.diagonal()\n",
        "row_sum = np.sum(cm,axis=1)\n",
        "acc = values / row_sum\n",
        "\n",
        "print('Validation set predicted emotions accuracy:')\n",
        "for e in range(0, len(values)):\n",
        "    print(index[e],':', f\"{(acc[e]):0.4f}\")"
      ],
      "metadata": {
        "colab": {
          "base_uri": "https://localhost:8080/"
        },
        "id": "MopdywY9f-mS",
        "outputId": "a9a78b09-c258-4ad4-977c-d629e2dc7a55"
      },
      "execution_count": 31,
      "outputs": [
        {
          "output_type": "stream",
          "name": "stdout",
          "text": [
            "Validation set predicted emotions accuracy:\n",
            "neutral : 0.0000\n",
            "calm : 0.5833\n",
            "happy : 0.2000\n",
            "sad : 0.0909\n",
            "angry : 0.4250\n",
            "fearful : 0.3333\n",
            "disgust : 0.0000\n",
            "surprised : 0.4286\n"
          ]
        }
      ]
    },
    {
      "cell_type": "markdown",
      "source": [
        "### Precision, Recal, Fscore"
      ],
      "metadata": {
        "id": "DGSTy2228XRH"
      }
    },
    {
      "cell_type": "code",
      "source": [
        "# Validation set precision, recall, fscore\n",
        "\n",
        "precision_recall_fscore_support(y_val_class, y_pred_val_class, average='macro')\n"
      ],
      "metadata": {
        "colab": {
          "base_uri": "https://localhost:8080/"
        },
        "id": "rOwUkCG0gGpm",
        "outputId": "644639a5-eedc-4b5f-ac1a-65a444974a07"
      },
      "execution_count": 32,
      "outputs": [
        {
          "output_type": "stream",
          "name": "stderr",
          "text": [
            "/usr/local/lib/python3.7/dist-packages/sklearn/metrics/_classification.py:1318: UndefinedMetricWarning: Precision and F-score are ill-defined and being set to 0.0 in labels with no predicted samples. Use `zero_division` parameter to control this behavior.\n",
            "  _warn_prf(average, modifier, msg_start, len(result))\n"
          ]
        },
        {
          "output_type": "execute_result",
          "data": {
            "text/plain": [
              "(0.1990132175618672, 0.25764339826839827, 0.21311653287636695, None)"
            ]
          },
          "metadata": {},
          "execution_count": 32
        }
      ]
    },
    {
      "cell_type": "code",
      "source": [
        "precision_recall_fscore_support(y_val_class, y_pred_val_class, average='weighted')"
      ],
      "metadata": {
        "colab": {
          "base_uri": "https://localhost:8080/"
        },
        "id": "OorFgXxDzy3o",
        "outputId": "65976b00-ad68-4fa3-cd3a-56d411902af2"
      },
      "execution_count": 33,
      "outputs": [
        {
          "output_type": "stream",
          "name": "stderr",
          "text": [
            "/usr/local/lib/python3.7/dist-packages/sklearn/metrics/_classification.py:1318: UndefinedMetricWarning: Precision and F-score are ill-defined and being set to 0.0 in labels with no predicted samples. Use `zero_division` parameter to control this behavior.\n",
            "  _warn_prf(average, modifier, msg_start, len(result))\n"
          ]
        },
        {
          "output_type": "execute_result",
          "data": {
            "text/plain": [
              "(0.23013516495405623, 0.27230046948356806, 0.2368923190457222, None)"
            ]
          },
          "metadata": {},
          "execution_count": 33
        }
      ]
    },
    {
      "cell_type": "markdown",
      "source": [
        "## Test Set Evaluation"
      ],
      "metadata": {
        "id": "FiCwOjmPPgCn"
      }
    },
    {
      "cell_type": "markdown",
      "source": [
        "### Test Set Score\n",
        "\n"
      ],
      "metadata": {
        "id": "CWB7U5xDUSmF"
      }
    },
    {
      "cell_type": "code",
      "source": [
        "loss, acc = model.evaluate(x_test, y_test_class, verbose=2)"
      ],
      "metadata": {
        "id": "Y7NEHPM-gzml",
        "colab": {
          "base_uri": "https://localhost:8080/"
        },
        "outputId": "4cc104cf-4681-49f6-ef34-2678d226c7d4"
      },
      "execution_count": 34,
      "outputs": [
        {
          "output_type": "stream",
          "name": "stdout",
          "text": [
            "3/3 - 0s - loss: 1.7429 - categorical_accuracy: 0.3404 - 387ms/epoch - 129ms/step\n"
          ]
        }
      ]
    },
    {
      "cell_type": "markdown",
      "source": [
        "### Construct Predicted Labels based on Probability of each class"
      ],
      "metadata": {
        "id": "gPwcFV9oAhGh"
      }
    },
    {
      "cell_type": "code",
      "source": [
        "y_test_class"
      ],
      "metadata": {
        "colab": {
          "base_uri": "https://localhost:8080/"
        },
        "id": "tjN7Eit7AiML",
        "outputId": "254b00c8-8dde-4bc0-99ba-e38680165850"
      },
      "execution_count": 35,
      "outputs": [
        {
          "output_type": "execute_result",
          "data": {
            "text/plain": [
              "array([[0, 0, 1, 0, 0, 0, 0, 0],\n",
              "       [0, 0, 1, 0, 0, 0, 0, 0],\n",
              "       [0, 0, 1, 0, 0, 0, 0, 0],\n",
              "       [1, 0, 0, 0, 0, 0, 0, 0],\n",
              "       [0, 0, 0, 0, 1, 0, 0, 0],\n",
              "       [0, 0, 0, 0, 0, 0, 1, 0],\n",
              "       [0, 0, 1, 0, 0, 0, 0, 0],\n",
              "       [1, 0, 0, 0, 0, 0, 0, 0],\n",
              "       [0, 0, 0, 0, 0, 1, 0, 0],\n",
              "       [1, 0, 0, 0, 0, 0, 0, 0],\n",
              "       [0, 0, 0, 1, 0, 0, 0, 0],\n",
              "       [0, 0, 0, 0, 0, 1, 0, 0],\n",
              "       [0, 0, 0, 0, 1, 0, 0, 0],\n",
              "       [0, 1, 0, 0, 0, 0, 0, 0],\n",
              "       [0, 0, 0, 0, 0, 0, 1, 0],\n",
              "       [0, 0, 0, 0, 1, 0, 0, 0],\n",
              "       [0, 0, 0, 1, 0, 0, 0, 0],\n",
              "       [0, 0, 0, 0, 0, 1, 0, 0],\n",
              "       [0, 0, 0, 0, 1, 0, 0, 0],\n",
              "       [0, 0, 0, 0, 0, 1, 0, 0],\n",
              "       [0, 0, 0, 0, 0, 0, 0, 1],\n",
              "       [0, 1, 0, 0, 0, 0, 0, 0],\n",
              "       [0, 0, 0, 0, 0, 0, 0, 1],\n",
              "       [0, 1, 0, 0, 0, 0, 0, 0],\n",
              "       [0, 0, 1, 0, 0, 0, 0, 0],\n",
              "       [0, 0, 0, 0, 0, 1, 0, 0],\n",
              "       [0, 0, 0, 0, 1, 0, 0, 0],\n",
              "       [0, 0, 0, 0, 0, 1, 0, 0],\n",
              "       [0, 0, 0, 0, 1, 0, 0, 0],\n",
              "       [0, 1, 0, 0, 0, 0, 0, 0],\n",
              "       [0, 0, 1, 0, 0, 0, 0, 0],\n",
              "       [0, 1, 0, 0, 0, 0, 0, 0],\n",
              "       [0, 0, 0, 1, 0, 0, 0, 0],\n",
              "       [0, 0, 0, 1, 0, 0, 0, 0],\n",
              "       [0, 0, 0, 1, 0, 0, 0, 0],\n",
              "       [0, 0, 0, 1, 0, 0, 0, 0],\n",
              "       [0, 0, 0, 1, 0, 0, 0, 0],\n",
              "       [0, 0, 0, 1, 0, 0, 0, 0],\n",
              "       [0, 0, 0, 0, 0, 1, 0, 0],\n",
              "       [0, 1, 0, 0, 0, 0, 0, 0],\n",
              "       [0, 0, 0, 0, 0, 1, 0, 0],\n",
              "       [0, 0, 1, 0, 0, 0, 0, 0],\n",
              "       [0, 1, 0, 0, 0, 0, 0, 0],\n",
              "       [0, 0, 0, 0, 0, 0, 1, 0],\n",
              "       [0, 0, 1, 0, 0, 0, 0, 0],\n",
              "       [0, 1, 0, 0, 0, 0, 0, 0],\n",
              "       [0, 0, 0, 1, 0, 0, 0, 0],\n",
              "       [0, 0, 0, 0, 0, 0, 1, 0],\n",
              "       [0, 1, 0, 0, 0, 0, 0, 0],\n",
              "       [0, 0, 0, 0, 0, 1, 0, 0],\n",
              "       [0, 0, 0, 0, 0, 0, 1, 0],\n",
              "       [0, 0, 0, 0, 0, 0, 0, 1],\n",
              "       [0, 0, 0, 0, 1, 0, 0, 0],\n",
              "       [0, 0, 1, 0, 0, 0, 0, 0],\n",
              "       [0, 0, 0, 0, 0, 0, 1, 0],\n",
              "       [0, 0, 0, 0, 1, 0, 0, 0],\n",
              "       [0, 0, 0, 0, 1, 0, 0, 0],\n",
              "       [0, 0, 0, 0, 0, 1, 0, 0],\n",
              "       [0, 0, 0, 0, 1, 0, 0, 0],\n",
              "       [0, 0, 0, 0, 1, 0, 0, 0],\n",
              "       [0, 0, 1, 0, 0, 0, 0, 0],\n",
              "       [0, 0, 0, 1, 0, 0, 0, 0],\n",
              "       [0, 1, 0, 0, 0, 0, 0, 0],\n",
              "       [0, 0, 0, 0, 0, 0, 0, 1],\n",
              "       [0, 0, 0, 0, 0, 0, 0, 1],\n",
              "       [0, 1, 0, 0, 0, 0, 0, 0],\n",
              "       [0, 0, 0, 0, 0, 0, 1, 0],\n",
              "       [0, 0, 0, 0, 1, 0, 0, 0],\n",
              "       [0, 0, 0, 1, 0, 0, 0, 0],\n",
              "       [0, 0, 0, 0, 0, 0, 0, 1],\n",
              "       [0, 0, 0, 0, 0, 0, 1, 0],\n",
              "       [0, 0, 1, 0, 0, 0, 0, 0],\n",
              "       [0, 0, 0, 0, 1, 0, 0, 0],\n",
              "       [0, 0, 0, 0, 0, 0, 1, 0],\n",
              "       [0, 1, 0, 0, 0, 0, 0, 0],\n",
              "       [1, 0, 0, 0, 0, 0, 0, 0],\n",
              "       [0, 1, 0, 0, 0, 0, 0, 0],\n",
              "       [0, 0, 1, 0, 0, 0, 0, 0],\n",
              "       [0, 0, 0, 0, 1, 0, 0, 0],\n",
              "       [0, 0, 0, 0, 0, 1, 0, 0],\n",
              "       [0, 0, 0, 0, 1, 0, 0, 0],\n",
              "       [0, 0, 0, 1, 0, 0, 0, 0],\n",
              "       [0, 1, 0, 0, 0, 0, 0, 0],\n",
              "       [0, 0, 0, 0, 1, 0, 0, 0],\n",
              "       [0, 0, 0, 1, 0, 0, 0, 0],\n",
              "       [0, 0, 0, 0, 0, 0, 1, 0],\n",
              "       [0, 0, 0, 0, 0, 0, 0, 1],\n",
              "       [0, 0, 0, 0, 0, 0, 0, 1],\n",
              "       [0, 0, 0, 0, 0, 1, 0, 0],\n",
              "       [0, 0, 0, 0, 0, 0, 0, 1],\n",
              "       [0, 1, 0, 0, 0, 0, 0, 0],\n",
              "       [0, 0, 1, 0, 0, 0, 0, 0],\n",
              "       [0, 1, 0, 0, 0, 0, 0, 0],\n",
              "       [0, 0, 0, 0, 1, 0, 0, 0]], dtype=int8)"
            ]
          },
          "metadata": {},
          "execution_count": 35
        }
      ]
    },
    {
      "cell_type": "code",
      "source": [
        " np.argmax(y_test_class, axis=1)"
      ],
      "metadata": {
        "colab": {
          "base_uri": "https://localhost:8080/"
        },
        "id": "2fcK-_HzAmc5",
        "outputId": "828c1c0e-0594-4c96-bec8-bbc6d402ab00"
      },
      "execution_count": 36,
      "outputs": [
        {
          "output_type": "execute_result",
          "data": {
            "text/plain": [
              "array([2, 2, 2, 0, 4, 6, 2, 0, 5, 0, 3, 5, 4, 1, 6, 4, 3, 5, 4, 5, 7, 1,\n",
              "       7, 1, 2, 5, 4, 5, 4, 1, 2, 1, 3, 3, 3, 3, 3, 3, 5, 1, 5, 2, 1, 6,\n",
              "       2, 1, 3, 6, 1, 5, 6, 7, 4, 2, 6, 4, 4, 5, 4, 4, 2, 3, 1, 7, 7, 1,\n",
              "       6, 4, 3, 7, 6, 2, 4, 6, 1, 0, 1, 2, 4, 5, 4, 3, 1, 4, 3, 6, 7, 7,\n",
              "       5, 7, 1, 2, 1, 4])"
            ]
          },
          "metadata": {},
          "execution_count": 36
        }
      ]
    },
    {
      "cell_type": "code",
      "source": [
        "y_test_class = np.argmax(y_test_class, axis=1)\n",
        "predictions_test = model.predict(x_test)\n",
        "y_pred_test_class = np.argmax(predictions_test, axis=1)\n",
        "y_proba_test_class = predictions_test\n",
        "\n"
      ],
      "metadata": {
        "id": "uyXvoU2rAckI"
      },
      "execution_count": 37,
      "outputs": []
    },
    {
      "cell_type": "code",
      "source": [
        "predictions_test"
      ],
      "metadata": {
        "colab": {
          "base_uri": "https://localhost:8080/"
        },
        "id": "3BAOUaPwAtuY",
        "outputId": "74760615-1fec-4279-83d6-2e937d487a83"
      },
      "execution_count": 38,
      "outputs": [
        {
          "output_type": "execute_result",
          "data": {
            "text/plain": [
              "array([[0.12106673, 0.08093377, 0.23108003, 0.10630839, 0.05328348,\n",
              "        0.19211671, 0.04529188, 0.16991907],\n",
              "       [0.12802939, 0.10203057, 0.21628813, 0.16996811, 0.15569465,\n",
              "        0.21189258, 0.01222101, 0.00387553],\n",
              "       [0.13529626, 0.08970794, 0.19927958, 0.14528865, 0.21079455,\n",
              "        0.19836171, 0.01529792, 0.00597335],\n",
              "       [0.07461967, 0.03675085, 0.11574995, 0.10504348, 0.02572766,\n",
              "        0.21919672, 0.019249  , 0.40366268],\n",
              "       [0.01926333, 0.02495698, 0.04024243, 0.11751717, 0.31227964,\n",
              "        0.08548234, 0.20377916, 0.19647895],\n",
              "       [0.02350391, 0.01873832, 0.07427452, 0.06937636, 0.57287735,\n",
              "        0.09946115, 0.12428503, 0.01748336],\n",
              "       [0.06878511, 0.04993616, 0.12818338, 0.09493542, 0.24234878,\n",
              "        0.11528256, 0.1716425 , 0.12888613],\n",
              "       [0.13263212, 0.11243658, 0.19468111, 0.16473065, 0.19419621,\n",
              "        0.18506992, 0.01192919, 0.0043242 ],\n",
              "       [0.04559007, 0.02753312, 0.09590552, 0.14211746, 0.02932313,\n",
              "        0.26351002, 0.01779596, 0.37822473],\n",
              "       [0.00547973, 0.5945313 , 0.0681851 , 0.30362517, 0.02072836,\n",
              "        0.00271113, 0.00308177, 0.00165753],\n",
              "       [0.12355689, 0.13271989, 0.21160026, 0.19303997, 0.13674738,\n",
              "        0.18926445, 0.00993691, 0.00313421],\n",
              "       [0.03462022, 0.04506182, 0.17006311, 0.20052917, 0.15697475,\n",
              "        0.2140471 , 0.08575183, 0.09295198],\n",
              "       [0.02993925, 0.04754233, 0.15232027, 0.23238738, 0.09553408,\n",
              "        0.2438279 , 0.06443173, 0.134017  ],\n",
              "       [0.14604494, 0.21633942, 0.14820229, 0.16671865, 0.01906734,\n",
              "        0.15466101, 0.03464696, 0.11431941],\n",
              "       [0.00986389, 0.02521512, 0.03035721, 0.10621905, 0.44359103,\n",
              "        0.05426272, 0.25914508, 0.0713459 ],\n",
              "       [0.01421708, 0.02716712, 0.03413563, 0.1123974 , 0.3611899 ,\n",
              "        0.06972925, 0.24048851, 0.14067519],\n",
              "       [0.12247854, 0.12197902, 0.21504097, 0.18743488, 0.1414934 ,\n",
              "        0.19784175, 0.01048865, 0.00324281],\n",
              "       [0.127341  , 0.16469136, 0.20131196, 0.2068864 , 0.12266754,\n",
              "        0.16530178, 0.00883654, 0.00296346],\n",
              "       [0.01835165, 0.02478433, 0.06691156, 0.1124323 , 0.45364994,\n",
              "        0.09303883, 0.18335351, 0.04747797],\n",
              "       [0.04768129, 0.0258502 , 0.09188793, 0.13120683, 0.02702185,\n",
              "        0.256466  , 0.01639133, 0.4034946 ],\n",
              "       [0.02158739, 0.01930447, 0.03505689, 0.0984265 , 0.3195165 ,\n",
              "        0.08194285, 0.20119964, 0.22296572],\n",
              "       [0.01709114, 0.63627046, 0.14807183, 0.17426771, 0.00695633,\n",
              "        0.00860223, 0.00681101, 0.00192934],\n",
              "       [0.0320586 , 0.03419446, 0.09287014, 0.18496881, 0.13658787,\n",
              "        0.1871984 , 0.08907548, 0.24304622],\n",
              "       [0.12837796, 0.17309682, 0.19860005, 0.20883155, 0.12078262,\n",
              "        0.1586343 , 0.00868156, 0.00299508],\n",
              "       [0.07699266, 0.21818742, 0.28978917, 0.08332577, 0.03391958,\n",
              "        0.23468976, 0.05696599, 0.00612965],\n",
              "       [0.11335623, 0.16483074, 0.1607474 , 0.19486868, 0.0148676 ,\n",
              "        0.19751924, 0.01921913, 0.13459098],\n",
              "       [0.07659931, 0.04701718, 0.21743406, 0.14258933, 0.2164748 ,\n",
              "        0.2511271 , 0.03251699, 0.01624127],\n",
              "       [0.13813612, 0.21520026, 0.19366084, 0.21266186, 0.10885426,\n",
              "        0.11961091, 0.00869821, 0.00317756],\n",
              "       [0.12654659, 0.10525953, 0.21860608, 0.17120984, 0.15937683,\n",
              "        0.2031293 , 0.01239335, 0.00347852],\n",
              "       [0.01109476, 0.42998353, 0.06901442, 0.41686085, 0.06339668,\n",
              "        0.00605433, 0.00235377, 0.0012416 ],\n",
              "       [0.08430614, 0.17801939, 0.30846313, 0.09463748, 0.04400033,\n",
              "        0.24169862, 0.04374288, 0.00513196],\n",
              "       [0.08664487, 0.32439566, 0.18797897, 0.2666504 , 0.06239631,\n",
              "        0.05842277, 0.0104402 , 0.00307088],\n",
              "       [0.02157921, 0.01981481, 0.0358502 , 0.10012812, 0.31825554,\n",
              "        0.08227704, 0.20080853, 0.22128645],\n",
              "       [0.03730133, 0.04295395, 0.1499704 , 0.19487053, 0.1265866 ,\n",
              "        0.22881016, 0.07100425, 0.14850275],\n",
              "       [0.03694796, 0.04707482, 0.10066226, 0.19919269, 0.10912517,\n",
              "        0.19435254, 0.08534788, 0.22729664],\n",
              "       [0.13055605, 0.18013237, 0.19714503, 0.20887248, 0.11921733,\n",
              "        0.15245773, 0.00858321, 0.00303578],\n",
              "       [0.06203578, 0.04071137, 0.18768875, 0.1414391 , 0.25379252,\n",
              "        0.2133606 , 0.05700288, 0.04396909],\n",
              "       [0.139708  , 0.2065726 , 0.19517145, 0.20862235, 0.1120986 ,\n",
              "        0.12615278, 0.00857932, 0.0030949 ],\n",
              "       [0.12893163, 0.09317449, 0.21249212, 0.16035342, 0.17132336,\n",
              "        0.21603632, 0.01336609, 0.0043226 ],\n",
              "       [0.08742086, 0.04874999, 0.18157771, 0.09504402, 0.366828  ,\n",
              "        0.18318729, 0.03204109, 0.005151  ],\n",
              "       [0.08021685, 0.39459398, 0.17330055, 0.14662354, 0.00853496,\n",
              "        0.12131114, 0.0293114 , 0.04610759],\n",
              "       [0.04843173, 0.03188173, 0.11330631, 0.14657013, 0.04140428,\n",
              "        0.2611673 , 0.02541402, 0.33182454],\n",
              "       [0.00998894, 0.02516222, 0.02934388, 0.10427482, 0.4378043 ,\n",
              "        0.05458262, 0.2625544 , 0.07628885],\n",
              "       [0.02203639, 0.01901881, 0.03540276, 0.09761871, 0.3193757 ,\n",
              "        0.08204196, 0.19926807, 0.22523765],\n",
              "       [0.12094329, 0.07457571, 0.19988409, 0.09931601, 0.03858208,\n",
              "        0.19057256, 0.03641525, 0.23971097],\n",
              "       [0.02086271, 0.5187848 , 0.14558265, 0.2626943 , 0.0298761 ,\n",
              "        0.01033055, 0.00901897, 0.00285   ],\n",
              "       [0.06871025, 0.03373476, 0.10995701, 0.10793905, 0.0259269 ,\n",
              "        0.22568835, 0.01857703, 0.4094666 ],\n",
              "       [0.00968604, 0.02475441, 0.02956755, 0.10433259, 0.4478231 ,\n",
              "        0.05348533, 0.26082435, 0.06952661],\n",
              "       [0.07353853, 0.4249301 , 0.16959856, 0.13649775, 0.0080646 ,\n",
              "        0.11540162, 0.031447  , 0.04052189],\n",
              "       [0.1102357 , 0.06115167, 0.15533824, 0.09274683, 0.02712522,\n",
              "        0.18729162, 0.02618301, 0.33992764],\n",
              "       [0.03569585, 0.5570356 , 0.10362642, 0.09384376, 0.0084398 ,\n",
              "        0.09327633, 0.08298647, 0.02509579],\n",
              "       [0.03689307, 0.03793702, 0.12109756, 0.19501533, 0.04988139,\n",
              "        0.27178606, 0.03166737, 0.2557223 ],\n",
              "       [0.141276  , 0.2573679 , 0.29861185, 0.14102548, 0.02908937,\n",
              "        0.10955828, 0.01821143, 0.00485966],\n",
              "       [0.08031811, 0.38494837, 0.1734017 , 0.15059608, 0.00921767,\n",
              "        0.12400622, 0.02979116, 0.04772067],\n",
              "       [0.03155891, 0.04624302, 0.16001387, 0.21432924, 0.13677377,\n",
              "        0.21847992, 0.08424053, 0.1083608 ],\n",
              "       [0.01078296, 0.02700825, 0.03384596, 0.11410756, 0.4218846 ,\n",
              "        0.0596639 , 0.25337255, 0.07933425],\n",
              "       [0.07687785, 0.20257655, 0.28639904, 0.0863771 , 0.03873773,\n",
              "        0.23949343, 0.06237836, 0.00716001],\n",
              "       [0.12746416, 0.17775303, 0.1929943 , 0.20990214, 0.12701347,\n",
              "        0.15332142, 0.00850702, 0.00304451],\n",
              "       [0.03344388, 0.04602745, 0.1663379 , 0.20717572, 0.14566295,\n",
              "        0.21654941, 0.08368289, 0.10111976],\n",
              "       [0.01191017, 0.02592231, 0.02975389, 0.10358089, 0.40021446,\n",
              "        0.05959718, 0.2576977 , 0.11132339],\n",
              "       [0.08660839, 0.42491263, 0.12597665, 0.13135551, 0.01550235,\n",
              "        0.09986951, 0.06170972, 0.05406532],\n",
              "       [0.02948773, 0.04779186, 0.15105644, 0.23146692, 0.10483199,\n",
              "        0.23428881, 0.07048399, 0.13059218],\n",
              "       [0.09217116, 0.33741692, 0.17705226, 0.1641357 , 0.00941931,\n",
              "        0.13528433, 0.02581105, 0.05870928],\n",
              "       [0.02020193, 0.02873025, 0.04944446, 0.13844725, 0.27819043,\n",
              "        0.10163578, 0.1858947 , 0.19745523],\n",
              "       [0.12196917, 0.07824209, 0.21713741, 0.10295255, 0.04566566,\n",
              "        0.19205193, 0.0410285 , 0.20095274],\n",
              "       [0.00535121, 0.7254435 , 0.07346478, 0.1829185 , 0.00547228,\n",
              "        0.00230725, 0.0034961 , 0.00154637],\n",
              "       [0.01648067, 0.02284611, 0.03146098, 0.10140139, 0.3452185 ,\n",
              "        0.07129855, 0.23024735, 0.1810465 ],\n",
              "       [0.1752542 , 0.16309677, 0.1243465 , 0.14895178, 0.03081891,\n",
              "        0.1626971 , 0.04702518, 0.14780962],\n",
              "       [0.12562184, 0.23889454, 0.20915256, 0.20033158, 0.12362607,\n",
              "        0.08209379, 0.01602177, 0.00425782],\n",
              "       [0.03937345, 0.03863762, 0.1391905 , 0.18965171, 0.0780636 ,\n",
              "        0.2662874 , 0.04479265, 0.20400307],\n",
              "       [0.05198235, 0.04393078, 0.15111601, 0.16550155, 0.07550216,\n",
              "        0.2506512 , 0.04568268, 0.21563333],\n",
              "       [0.03764849, 0.03716893, 0.11846597, 0.19145432, 0.04580546,\n",
              "        0.27384344, 0.02925507, 0.26635826],\n",
              "       [0.10777743, 0.26290667, 0.17487659, 0.18264267, 0.01112954,\n",
              "        0.15645613, 0.02257341, 0.08163754],\n",
              "       [0.01997306, 0.02034639, 0.03393643, 0.09919859, 0.32771218,\n",
              "        0.07800321, 0.21032485, 0.21050529],\n",
              "       [0.11477397, 0.27241537, 0.18348649, 0.2505899 , 0.08498204,\n",
              "        0.08131089, 0.00924354, 0.00319784],\n",
              "       [0.11867397, 0.07962222, 0.22930592, 0.10801383, 0.05425898,\n",
              "        0.19448435, 0.04541558, 0.17022513],\n",
              "       [0.13859999, 0.20136951, 0.19564323, 0.20759864, 0.11435474,\n",
              "        0.13079086, 0.0085579 , 0.00308515],\n",
              "       [0.06681451, 0.04769977, 0.16246165, 0.1438656 , 0.06126631,\n",
              "        0.24792568, 0.04041654, 0.22955   ],\n",
              "       [0.03549565, 0.03856175, 0.16380246, 0.17233449, 0.22933367,\n",
              "        0.19035578, 0.10293015, 0.06718605],\n",
              "       [0.03043328, 0.04751645, 0.15065558, 0.23200287, 0.08534829,\n",
              "        0.25401652, 0.05750137, 0.14252569],\n",
              "       [0.01185746, 0.0276913 , 0.03953741, 0.12110162, 0.4147237 ,\n",
              "        0.06647805, 0.24085562, 0.07775476],\n",
              "       [0.1264738 , 0.15611862, 0.20428896, 0.20383073, 0.12568833,\n",
              "        0.17157966, 0.0090691 , 0.00295085],\n",
              "       [0.00549154, 0.59514123, 0.06829222, 0.30302072, 0.02059814,\n",
              "        0.00271204, 0.00308728, 0.00165684],\n",
              "       [0.08506753, 0.15304391, 0.29872674, 0.09678762, 0.06146986,\n",
              "        0.24788797, 0.05103285, 0.00598357],\n",
              "       [0.11973937, 0.0806151 , 0.23143524, 0.10724065, 0.05463471,\n",
              "        0.19299561, 0.04598473, 0.1673546 ],\n",
              "       [0.0103492 , 0.02354321, 0.03146942, 0.10077593, 0.4648818 ,\n",
              "        0.05317532, 0.24901268, 0.06679247],\n",
              "       [0.11009923, 0.23446532, 0.17452085, 0.18873464, 0.0112631 ,\n",
              "        0.16805634, 0.02048352, 0.09237695],\n",
              "       [0.03825456, 0.02241796, 0.07559363, 0.14358166, 0.1103432 ,\n",
              "        0.18827657, 0.06341656, 0.35811594],\n",
              "       [0.04147743, 0.0324428 , 0.10684868, 0.16766167, 0.03633047,\n",
              "        0.27172655, 0.02238893, 0.32112357],\n",
              "       [0.06830798, 0.03520427, 0.11565707, 0.11244103, 0.02858798,\n",
              "        0.23068915, 0.02039861, 0.38871387],\n",
              "       [0.01035831, 0.4509701 , 0.06909949, 0.40638813, 0.05396775,\n",
              "        0.00557877, 0.00237167, 0.00126576],\n",
              "       [0.0311014 , 0.0466    , 0.14775741, 0.22848167, 0.0812911 ,\n",
              "        0.25739855, 0.0544978 , 0.15287215],\n",
              "       [0.01486702, 0.50667024, 0.03809386, 0.06004602, 0.0219867 ,\n",
              "        0.05572371, 0.28461376, 0.01799866],\n",
              "       [0.03577351, 0.04306532, 0.16902955, 0.19258101, 0.17119162,\n",
              "        0.21108986, 0.08797713, 0.08929202]], dtype=float32)"
            ]
          },
          "metadata": {},
          "execution_count": 38
        }
      ]
    },
    {
      "cell_type": "code",
      "source": [
        "y_pred_test_class "
      ],
      "metadata": {
        "colab": {
          "base_uri": "https://localhost:8080/"
        },
        "id": "ph-j4nBsAxjT",
        "outputId": "6b5ed98a-dbf5-44f7-c732-69db7702cbdf"
      },
      "execution_count": 39,
      "outputs": [
        {
          "output_type": "execute_result",
          "data": {
            "text/plain": [
              "array([2, 2, 4, 7, 4, 4, 4, 2, 7, 1, 2, 5, 5, 1, 4, 4, 2, 3, 4, 7, 4, 1,\n",
              "       7, 3, 2, 5, 5, 1, 2, 1, 2, 1, 4, 5, 7, 3, 4, 3, 5, 4, 1, 7, 4, 4,\n",
              "       7, 1, 7, 4, 1, 7, 1, 5, 2, 1, 5, 4, 2, 3, 5, 4, 1, 5, 1, 4, 2, 1,\n",
              "       4, 0, 1, 5, 5, 5, 1, 4, 1, 2, 3, 5, 4, 5, 4, 2, 1, 2, 2, 4, 1, 7,\n",
              "       7, 7, 1, 5, 1, 5])"
            ]
          },
          "metadata": {},
          "execution_count": 39
        }
      ]
    },
    {
      "cell_type": "markdown",
      "source": [
        "### Test Set Confusion Matrix and Heatmap"
      ],
      "metadata": {
        "id": "Epp2QpxsUVXH"
      }
    },
    {
      "cell_type": "code",
      "source": [
        "# Test set Confusion matrix\n",
        "\n",
        "cm=confusion_matrix(y_test_class, y_pred_test_class)\n",
        "\n",
        "index = ['neutral', 'calm', 'happy', 'sad', 'angry', 'fearful', 'disgust', 'surprised']  \n",
        "columns = ['neutral', 'calm', 'happy', 'sad', 'angry', 'fearful', 'disgust', 'surprised']  \n",
        " \n",
        "cm_df = pd.DataFrame(cm,index,columns)                      \n",
        "plt.figure(figsize=(12,8))\n",
        "ax = plt.axes()\n",
        "\n",
        "sns.heatmap(cm_df, ax = ax, cmap = 'BuGn', fmt=\"d\", annot=True)\n",
        "ax.set_ylabel('True emotion')\n",
        "ax.set_xlabel('Predicted emotion')"
      ],
      "metadata": {
        "colab": {
          "base_uri": "https://localhost:8080/",
          "height": 0
        },
        "id": "ukGrk_cagzyb",
        "outputId": "f0cb4444-0340-498f-89b5-efc7fb0d5161"
      },
      "execution_count": 40,
      "outputs": [
        {
          "output_type": "execute_result",
          "data": {
            "text/plain": [
              "Text(0.5, 51.0, 'Predicted emotion')"
            ]
          },
          "metadata": {},
          "execution_count": 40
        },
        {
          "output_type": "display_data",
          "data": {
            "text/plain": [
              "<Figure size 864x576 with 2 Axes>"
            ],
            "image/png": "[encoded data removed]"
          },
          "metadata": {
            "needs_background": "light"
          }
        }
      ]
    },
    {
      "cell_type": "code",
      "source": [
        "# Confusion Matrix\n",
        "cm"
      ],
      "metadata": {
        "colab": {
          "base_uri": "https://localhost:8080/"
        },
        "id": "9f51xwUE8haF",
        "outputId": "c1647179-3bd1-4b85-abb0-ef03f59a993b"
      },
      "execution_count": 41,
      "outputs": [
        {
          "output_type": "execute_result",
          "data": {
            "text/plain": [
              "array([[ 0,  1,  2,  0,  0,  0,  0,  1],\n",
              "       [ 0, 12,  0,  2,  2,  0,  0,  0],\n",
              "       [ 0,  2,  4,  0,  2,  3,  0,  2],\n",
              "       [ 0,  1,  4,  2,  2,  2,  0,  2],\n",
              "       [ 1,  1,  4,  0,  7,  4,  0,  0],\n",
              "       [ 0,  2,  0,  2,  0,  4,  0,  4],\n",
              "       [ 0,  1,  0,  0,  7,  2,  0,  0],\n",
              "       [ 0,  1,  1,  0,  2,  2,  0,  3]])"
            ]
          },
          "metadata": {},
          "execution_count": 41
        }
      ]
    },
    {
      "cell_type": "markdown",
      "source": [
        "### Test Set Predicted emotions accuracy"
      ],
      "metadata": {
        "id": "zil3CkweUX0q"
      }
    },
    {
      "cell_type": "code",
      "source": [
        "# Test set prediction accuracy rates\n",
        "\n",
        "values = cm.diagonal()\n",
        "row_sum = np.sum(cm,axis=1)\n",
        "acc = values / row_sum\n",
        "\n",
        "print('Test set predicted emotions accuracy:')\n",
        "for e in range(0, len(values)):\n",
        "    print(index[e],':', f\"{(acc[e]):0.4f}\")"
      ],
      "metadata": {
        "colab": {
          "base_uri": "https://localhost:8080/"
        },
        "id": "t_ORyGGig090",
        "outputId": "04341bbc-2f70-4845-efac-c5552a2ec929"
      },
      "execution_count": 42,
      "outputs": [
        {
          "output_type": "stream",
          "name": "stdout",
          "text": [
            "Test set predicted emotions accuracy:\n",
            "neutral : 0.0000\n",
            "calm : 0.7500\n",
            "happy : 0.3077\n",
            "sad : 0.1538\n",
            "angry : 0.4118\n",
            "fearful : 0.3333\n",
            "disgust : 0.0000\n",
            "surprised : 0.3333\n"
          ]
        }
      ]
    },
    {
      "cell_type": "markdown",
      "source": [
        "### Precision, Recal, Fscore"
      ],
      "metadata": {
        "id": "8Hzthv1t8kwd"
      }
    },
    {
      "cell_type": "code",
      "source": [
        "# Validation set precision, recall, fscore\n",
        "\n",
        "precision_recall_fscore_support(y_test_class, y_pred_test_class, average='macro')\n"
      ],
      "metadata": {
        "colab": {
          "base_uri": "https://localhost:8080/"
        },
        "id": "QnwWoVFnh33F",
        "outputId": "221521cb-97f5-4a47-fc90-a1af7cdf4e71"
      },
      "execution_count": 43,
      "outputs": [
        {
          "output_type": "stream",
          "name": "stderr",
          "text": [
            "/usr/local/lib/python3.7/dist-packages/sklearn/metrics/_classification.py:1318: UndefinedMetricWarning: Precision and F-score are ill-defined and being set to 0.0 in labels with no predicted samples. Use `zero_division` parameter to control this behavior.\n",
            "  _warn_prf(average, modifier, msg_start, len(result))\n"
          ]
        },
        {
          "output_type": "execute_result",
          "data": {
            "text/plain": [
              "(0.24686306340718103, 0.2862462292609351, 0.25817999547582127, None)"
            ]
          },
          "metadata": {},
          "execution_count": 43
        }
      ]
    },
    {
      "cell_type": "code",
      "source": [
        "precision_recall_fscore_support(y_test_class, y_pred_test_class, average='weighted')"
      ],
      "metadata": {
        "colab": {
          "base_uri": "https://localhost:8080/"
        },
        "id": "OlDhuPlqzwVB",
        "outputId": "95a6540e-fd4b-4ffe-e4c5-a41c9f7f6d9e"
      },
      "execution_count": 44,
      "outputs": [
        {
          "output_type": "stream",
          "name": "stderr",
          "text": [
            "/usr/local/lib/python3.7/dist-packages/sklearn/metrics/_classification.py:1318: UndefinedMetricWarning: Precision and F-score are ill-defined and being set to 0.0 in labels with no predicted samples. Use `zero_division` parameter to control this behavior.\n",
            "  _warn_prf(average, modifier, msg_start, len(result))\n"
          ]
        },
        {
          "output_type": "execute_result",
          "data": {
            "text/plain": [
              "(0.29176039855013575, 0.3404255319148936, 0.30653025212240564, None)"
            ]
          },
          "metadata": {},
          "execution_count": 44
        }
      ]
    },
    {
      "cell_type": "markdown",
      "source": [
        "### ROC AUC Score"
      ],
      "metadata": {
        "id": "sEuBd9IyLuiD"
      }
    },
    {
      "cell_type": "code",
      "source": [
        "ravdess_df = pd.read_csv (df_path)"
      ],
      "metadata": {
        "id": "8bb4OSmyTO6v"
      },
      "execution_count": 45,
      "outputs": []
    },
    {
      "cell_type": "code",
      "source": [
        "labels = [\"neutral\", \"calm\", \"happy\", \"sad\", \"angry\", \"fear\", \"disgust\", \"suprised\"]"
      ],
      "metadata": {
        "id": "1leZ4JGVTfTp"
      },
      "execution_count": 46,
      "outputs": []
    },
    {
      "cell_type": "code",
      "source": [
        "y_test_adj = y_test.reshape(-1,)"
      ],
      "metadata": {
        "id": "MRm1ZwnxFStc"
      },
      "execution_count": 47,
      "outputs": []
    },
    {
      "cell_type": "code",
      "source": [
        "y_proba_test_class.shape"
      ],
      "metadata": {
        "colab": {
          "base_uri": "https://localhost:8080/"
        },
        "id": "O-IcYOABFjxB",
        "outputId": "ecddbc59-c774-4008-efc3-6c9746722a6d"
      },
      "execution_count": 48,
      "outputs": [
        {
          "output_type": "execute_result",
          "data": {
            "text/plain": [
              "(94, 8)"
            ]
          },
          "metadata": {},
          "execution_count": 48
        }
      ]
    },
    {
      "cell_type": "code",
      "source": [
        "y_test.shape"
      ],
      "metadata": {
        "colab": {
          "base_uri": "https://localhost:8080/"
        },
        "id": "9AaqUY3PIlMQ",
        "outputId": "c76bfccc-1fed-4053-e8a2-ebbd281b640f"
      },
      "execution_count": 49,
      "outputs": [
        {
          "output_type": "execute_result",
          "data": {
            "text/plain": [
              "(94, 1)"
            ]
          },
          "metadata": {},
          "execution_count": 49
        }
      ]
    },
    {
      "cell_type": "code",
      "source": [
        "y_test_adj"
      ],
      "metadata": {
        "colab": {
          "base_uri": "https://localhost:8080/"
        },
        "id": "7LgDudYTKInS",
        "outputId": "a246b6a1-549b-43d1-fc0a-9fa1dc669951"
      },
      "execution_count": 50,
      "outputs": [
        {
          "output_type": "execute_result",
          "data": {
            "text/plain": [
              "array([2, 2, 2, 0, 4, 6, 2, 0, 5, 0, 3, 5, 4, 1, 6, 4, 3, 5, 4, 5, 7, 1,\n",
              "       7, 1, 2, 5, 4, 5, 4, 1, 2, 1, 3, 3, 3, 3, 3, 3, 5, 1, 5, 2, 1, 6,\n",
              "       2, 1, 3, 6, 1, 5, 6, 7, 4, 2, 6, 4, 4, 5, 4, 4, 2, 3, 1, 7, 7, 1,\n",
              "       6, 4, 3, 7, 6, 2, 4, 6, 1, 0, 1, 2, 4, 5, 4, 3, 1, 4, 3, 6, 7, 7,\n",
              "       5, 7, 1, 2, 1, 4], dtype=int8)"
            ]
          },
          "metadata": {},
          "execution_count": 50
        }
      ]
    },
    {
      "cell_type": "code",
      "source": [
        "\n",
        "\n",
        "macro_roc_auc_ovo = roc_auc_score(y_test_adj, y_proba_test_class, multi_class=\"ovo\", average=\"macro\")\n",
        "weighted_roc_auc_ovo = roc_auc_score(\n",
        "    y_test_adj, y_proba_test_class, multi_class=\"ovo\", average=\"weighted\"\n",
        ")\n",
        "macro_roc_auc_ovr = roc_auc_score(y_test_adj, y_proba_test_class, multi_class=\"ovr\", average=\"macro\")\n",
        "weighted_roc_auc_ovr = roc_auc_score(\n",
        "    y_test_adj, y_proba_test_class, multi_class=\"ovr\", average=\"weighted\"\n",
        ")\n"
      ],
      "metadata": {
        "id": "oMa4N8EhHlY9"
      },
      "execution_count": 51,
      "outputs": []
    },
    {
      "cell_type": "code",
      "source": [
        "print(\"One-vs-One ROC AUC scores:\\n{:.6f} (macro),\\n{:.6f} \" \"(weighted by prevalence)\\n\".format(macro_roc_auc_ovo, weighted_roc_auc_ovo))\n",
        "print(\"One-vs-Rest ROC AUC scores:\\n{:.6f} (macro),\\n{:.6f} \" \"(weighted by prevalence)\".format(macro_roc_auc_ovr, weighted_roc_auc_ovr))"
      ],
      "metadata": {
        "colab": {
          "base_uri": "https://localhost:8080/"
        },
        "id": "hhBLwtO_ICqL",
        "outputId": "46ee0738-455a-4c60-9cca-f25bd0e24c98"
      },
      "execution_count": 52,
      "outputs": [
        {
          "output_type": "stream",
          "name": "stdout",
          "text": [
            "One-vs-One ROC AUC scores:\n",
            "0.730070 (macro),\n",
            "0.733262 (weighted by prevalence)\n",
            "\n",
            "One-vs-Rest ROC AUC scores:\n",
            "0.730292 (macro),\n",
            "0.738462 (weighted by prevalence)\n"
          ]
        }
      ]
    }
  ]
}
