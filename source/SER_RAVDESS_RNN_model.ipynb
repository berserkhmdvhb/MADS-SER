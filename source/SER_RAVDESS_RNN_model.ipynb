{
  "metadata": {
    "kernelspec": {
      "language": "python",
      "display_name": "Python 3",
      "name": "python3"
    },
    "language_info": {
      "pygments_lexer": "ipython3",
      "nbconvert_exporter": "python",
      "version": "3.6.4",
      "file_extension": ".py",
      "codemirror_mode": {
        "name": "ipython",
        "version": 3
      },
      "name": "python",
      "mimetype": "text/x-python"
    },
    "colab": {
      "name": "SER-RAVDESS-RNN-model-2.ipynb",
      "provenance": [],
      "collapsed_sections": []
    }
  },
  "nbformat_minor": 0,
  "nbformat": 4,
  "cells": [
    {
      "cell_type": "markdown",
      "source": [
        "# Imports"
      ],
      "metadata": {
        "id": "anSyerIFN7qd"
      }
    },
    {
      "cell_type": "code",
      "source": [
        "# Importing Libraries"
      ],
      "metadata": {
        "id": "IMFSwIuvKiw2"
      },
      "execution_count": 1,
      "outputs": []
    },
    {
      "cell_type": "code",
      "source": [
        "!pip install json-tricks"
      ],
      "metadata": {
        "colab": {
          "base_uri": "https://localhost:8080/"
        },
        "id": "bBR8aNsmM2tR",
        "outputId": "e1ff9324-bbbf-4557-fe9a-4da884b5af66"
      },
      "execution_count": 2,
      "outputs": [
        {
          "output_type": "stream",
          "name": "stdout",
          "text": [
            "Collecting json-tricks\n",
            "  Downloading json_tricks-3.15.5-py2.py3-none-any.whl (26 kB)\n",
            "Installing collected packages: json-tricks\n",
            "Successfully installed json-tricks-3.15.5\n"
          ]
        }
      ]
    },
    {
      "cell_type": "code",
      "source": [
        "import pandas as pd\n",
        "import numpy as np\n",
        "\n",
        "import os\n",
        "import sys\n",
        "\n",
        "import librosa\n",
        "import librosa.display\n",
        "import seaborn as sns\n",
        "import matplotlib.pyplot as plt\n",
        "\n",
        "from sklearn.preprocessing import StandardScaler, OneHotEncoder\n",
        "from sklearn.metrics import confusion_matrix, classification_report\n",
        "from sklearn.model_selection import train_test_split\n",
        "\n",
        "from IPython.display import Audio\n",
        "\n",
        "import tensorflow as tf\n",
        "from sklearn.metrics import precision_recall_fscore_support\n",
        "from tensorflow.keras.callbacks import ReduceLROnPlateau\n",
        "from tensorflow.keras.models import Sequential, Model\n",
        "from tensorflow.keras.layers import Dense, LSTM, Flatten, Dropout, BatchNormalization\n",
        "from tensorflow.keras.layers import Conv2D, MaxPooling2D, AveragePooling2D\n",
        "from tensorflow.keras.callbacks import ModelCheckpoint, EarlyStopping\n",
        "from tensorflow.keras.optimizers import Adam, SGD\n",
        "from tensorflow.keras.utils import to_categorical, plot_model\n",
        "from sklearn.preprocessing import LabelEncoder\n",
        "from sklearn.metrics import classification_report, confusion_matrix\n",
        "from sklearn.model_selection import train_test_split\n",
        "from tqdm import tqdm\n",
        "from sklearn.model_selection import StratifiedShuffleSplit\n",
        "\n",
        "\n",
        "import numpy as np\n",
        "import os\n",
        "from json_tricks import dump, load\n",
        "\n",
        "#from pydub import AudioSegment, effects\n",
        "import librosa\n",
        "#import noisereduce as nr\n",
        "\n",
        "import tensorflow as tf\n",
        "import keras\n",
        "import sklearn\n",
        "\n",
        "import warnings\n",
        "if not sys.warnoptions:\n",
        "    warnings.simplefilter(\"ignore\")\n",
        "warnings.filterwarnings(\"ignore\", category=DeprecationWarning) \n",
        "\n",
        "import time\n",
        "tic = time.perf_counter()\n",
        "\n",
        "from keras.models import Sequential\n",
        "from keras import layers\n",
        "from keras import optimizers\n",
        "from keras import callbacks\n",
        "\n",
        "\n",
        "# ensemble\n"
      ],
      "metadata": {
        "id": "77IS8HxqFFCA"
      },
      "execution_count": 3,
      "outputs": []
    },
    {
      "cell_type": "code",
      "source": [
        ""
      ],
      "metadata": {
        "id": "gGYqBIk0FGm4"
      },
      "execution_count": 3,
      "outputs": []
    },
    {
      "cell_type": "markdown",
      "source": [
        "# Dataset"
      ],
      "metadata": {
        "id": "nyMzoZKKKiw6"
      }
    },
    {
      "cell_type": "code",
      "source": [
        "from google.colab import drive\n",
        "drive.mount('/content/drive')"
      ],
      "metadata": {
        "colab": {
          "base_uri": "https://localhost:8080/"
        },
        "id": "JFPDGXmwCBs_",
        "outputId": "4cc1f5e7-a16a-446b-be30-0b3c775df187"
      },
      "execution_count": 4,
      "outputs": [
        {
          "output_type": "stream",
          "name": "stdout",
          "text": [
            "Mounted at /content/drive\n"
          ]
        }
      ]
    },
    {
      "cell_type": "code",
      "source": [
        "#Crema = \"/content/drive/MyDrive/datasets/speech/CREMAD/sample/\"\n",
        "#Crema = \"/content/drive/MyDrive/datasets/speech/CREMAD/AudioWAV/\"\n",
        "Ravdess = \"/content/drive/MyDrive/datasets/speech/RAVDESS/data\"\n",
        "Ravdess_processed = \"/content/drive/MyDrive/datasets/speech/RAVDESS/processedData/\"\n",
        "Ravdess_speech_sample = \"/content/drive/MyDrive/datasets/speech/RAVDESS/data/Audio_Speech_Actors_01-24/\""
      ],
      "metadata": {
        "execution": {
          "iopub.status.busy": "2021-06-21T09:35:38.093538Z",
          "iopub.execute_input": "2021-06-21T09:35:38.093869Z",
          "iopub.status.idle": "2021-06-21T09:35:38.097467Z",
          "shell.execute_reply.started": "2021-06-21T09:35:38.093838Z",
          "shell.execute_reply": "2021-06-21T09:35:38.096608Z"
        },
        "trusted": true,
        "id": "vR2GjHL4Kiw7"
      },
      "execution_count": 5,
      "outputs": []
    },
    {
      "cell_type": "code",
      "source": [
        ""
      ],
      "metadata": {
        "id": "J2T6JxzIF2Jq"
      },
      "execution_count": 5,
      "outputs": []
    },
    {
      "cell_type": "code",
      "source": [
        "##Hypter Parameters' Range\n",
        "params = {\n",
        "    \"batch_size\": 20,  # 20<16<10, 25 was a bust\n",
        "    \"epochs\": 300,\n",
        "    \"lr\": 0.00010000,\n",
        "    \"time_steps\": 60\n",
        "}\n",
        "#TIME_STEPS = params[\"time_steps\"]\n",
        "#BATCH_SIZE = params[\"batch_size\"]\n",
        "#iter_changes = \"dropout_layers_0.4_0.4\"\n"
      ],
      "metadata": {
        "id": "jnEd5_Vvy4ue"
      },
      "execution_count": 6,
      "outputs": []
    },
    {
      "cell_type": "code",
      "source": [
        ""
      ],
      "metadata": {
        "id": "dKXM0xT-N8uy"
      },
      "execution_count": 7,
      "outputs": []
    },
    {
      "cell_type": "markdown",
      "source": [
        "# Load Processed Files, Construct Train, Validation and Test Sets"
      ],
      "metadata": {
        "id": "fse_mTpaOGdQ"
      }
    },
    {
      "cell_type": "code",
      "source": [
        "\n",
        "processed_path = Ravdess_processed\n",
        "x_path = processed_path + \"X_datanew.json\" # FILE LOAD PATH\n",
        "y_path =  processed_path + \"Y_datanew.json\" # FILE SAVE PATH\n",
        "#x_path = '/content/drive/MyDrive/datasets/speech/RAVDESS/processedData/X_datanew.json'\n",
        "\n",
        "# Load X,Y json files back into lists, convert to np.arrays\n",
        "\n",
        "X = load(x_path)\n",
        "X = np.asarray(X, dtype = 'float32')\n",
        "\n",
        "Y = load(y_path)\n",
        "Y = np.asarray(Y, dtype = 'int8')"
      ],
      "metadata": {
        "id": "101BpvWgN8xX"
      },
      "execution_count": 8,
      "outputs": []
    },
    {
      "cell_type": "code",
      "source": [
        "# Split to train, validation, and test sets.\n",
        "from sklearn.model_selection import train_test_split\n",
        "x_train, x_tosplit, y_train, y_tosplit = train_test_split(X, Y, test_size = 0.125, random_state = 1)\n",
        "x_val, x_test, y_val, y_test = train_test_split(x_tosplit, y_tosplit, test_size = 0.304, random_state = 1)\n",
        "\n",
        "#'One-hot' vectors for Y: emotion classification\n",
        "y_train_class = tf.keras.utils.to_categorical(y_train, 8, dtype = 'int8')\n",
        "y_val_class = tf.keras.utils.to_categorical(y_val, 8, dtype = 'int8')"
      ],
      "metadata": {
        "id": "CuF9M1mfOD7X"
      },
      "execution_count": 9,
      "outputs": []
    },
    {
      "cell_type": "code",
      "source": [
        "# x_train, x_val, and x_test shape check.\n",
        "print(np.shape(x_train))\n",
        "print(np.shape(x_val))\n",
        "print(np.shape(x_test))"
      ],
      "metadata": {
        "colab": {
          "base_uri": "https://localhost:8080/"
        },
        "id": "od-D1YgBOGXs",
        "outputId": "6fb151bc-8bb6-4301-ebf7-225bf3c8be9e"
      },
      "execution_count": 10,
      "outputs": [
        {
          "output_type": "stream",
          "name": "stdout",
          "text": [
            "(2145, 523, 15)\n",
            "(213, 523, 15)\n",
            "(94, 523, 15)\n"
          ]
        }
      ]
    },
    {
      "cell_type": "code",
      "source": [
        "# Save x_test, y_test to JSON.\n",
        "\n",
        "x_test_path = processed_path + 'x_test_data.json'\n",
        "dump(obj = x_test, fp = x_test_path)\n",
        "\n",
        "y_test_path = processed_path + 'y_test_data.json'\n",
        "dump(obj = y_test, fp = y_test_path)"
      ],
      "metadata": {
        "colab": {
          "base_uri": "https://localhost:8080/",
          "height": 91
        },
        "id": "nTExHJVsOHQ5",
        "outputId": "233baf0e-ab1c-45ba-d1f2-4b27f89c63e9"
      },
      "execution_count": 11,
      "outputs": [
        {
          "output_type": "execute_result",
          "data": {
            "text/plain": [
              "'{\"__ndarray__\": [[4], [3], [3], [3], [2], [4], [4], [1], [3], [0], [3], [5], [2], [6], [0], [3], [2], [5], [5], [3], [7], [1], [5], [0], [2], [7], [0], [4], [3], [3], [2], [4], [2], [5], [6], [5], [5], [4], [5], [3], [7], [4], [3], [2], [4], [0], [1], [2], [6], [1], [3], [4], [5], [6], [7], [6], [3], [4], [5], [7], [4], [4], [7], [3], [1], [0], [4], [1], [3], [4], [1], [0], [4], [4], [1], [2], [2], [6], [3], [5], [3], [3], [3], [5], [5], [5], [6], [4], [2], [6], [2], [4], [3], [1]], \"dtype\": \"int8\", \"shape\": [94, 1], \"Corder\": true}'"
            ],
            "application/vnd.google.colaboratory.intrinsic+json": {
              "type": "string"
            }
          },
          "metadata": {},
          "execution_count": 11
        }
      ]
    },
    {
      "cell_type": "code",
      "source": [
        ""
      ],
      "metadata": {
        "id": "15joCR4gu4r7"
      },
      "execution_count": 11,
      "outputs": []
    },
    {
      "cell_type": "markdown",
      "source": [
        "# Model"
      ],
      "metadata": {
        "id": "gnWVMbR6KixC"
      }
    },
    {
      "cell_type": "code",
      "source": [
        ""
      ],
      "metadata": {
        "id": "iD4zuGqsP9B2"
      },
      "execution_count": 11,
      "outputs": []
    },
    {
      "cell_type": "markdown",
      "source": [
        "RNN Model"
      ],
      "metadata": {
        "id": "_1AcuwxiCrRK"
      }
    },
    {
      "cell_type": "markdown",
      "source": [
        "## Define Model & Training"
      ],
      "metadata": {
        "id": "GJjJYnJQORJ8"
      }
    },
    {
      "cell_type": "code",
      "source": [
        "# Initializing the model\n",
        "\n",
        "model = Sequential()\n",
        "model.add(layers.LSTM(64, return_sequences = True, input_shape=(X.shape[1:3])))\n",
        "model.add(layers.LSTM(64))\n",
        "model.add(layers.Dense(8, activation = 'softmax'))\n",
        "print(model.summary())\n",
        "\n",
        "batch_size = 23\n",
        "\n",
        "# Callbacks functions\n",
        "checkpoint_path = Ravdess + \"/model/best_weights-2.hdf5\"\n",
        "\n",
        "#-> Save the best weights\n",
        "mcp_save = callbacks.ModelCheckpoint(checkpoint_path, save_best_only=True,\n",
        "                           monitor='val_categorical_accuracy',\n",
        "                           mode='max')\n",
        "#-> Reduce learning rate after 100 epoches without improvement.\n",
        "rlrop = callbacks.ReduceLROnPlateau(monitor='val_categorical_accuracy', \n",
        "                                    factor=0.1, patience=100)\n",
        "                             \n",
        "# Compile & train   \n",
        "model.compile(loss='categorical_crossentropy', \n",
        "                optimizer='RMSProp', \n",
        "                metrics=['categorical_accuracy'])\n",
        "\n",
        "history = model.fit(x_train, y_train_class, \n",
        "                      epochs=340, batch_size = batch_size, \n",
        "                      validation_data = (x_val, y_val_class), \n",
        "                      callbacks = [mcp_save, rlrop])\n",
        "# Define the best weights to the model.\n",
        "model.load_weights(checkpoint_path)"
      ],
      "metadata": {
        "colab": {
          "base_uri": "https://localhost:8080/"
        },
        "id": "aD2adyVGOJs4",
        "outputId": "e59d22ad-a76c-4d4a-d5ac-29f9beb16926"
      },
      "execution_count": 12,
      "outputs": [
        {
          "output_type": "stream",
          "name": "stdout",
          "text": [
            "Model: \"sequential\"\n",
            "_________________________________________________________________\n",
            " Layer (type)                Output Shape              Param #   \n",
            "=================================================================\n",
            " lstm (LSTM)                 (None, 523, 64)           20480     \n",
            "                                                                 \n",
            " lstm_1 (LSTM)               (None, 64)                33024     \n",
            "                                                                 \n",
            " dense (Dense)               (None, 8)                 520       \n",
            "                                                                 \n",
            "=================================================================\n",
            "Total params: 54,024\n",
            "Trainable params: 54,024\n",
            "Non-trainable params: 0\n",
            "_________________________________________________________________\n",
            "None\n",
            "Epoch 1/340\n",
            "94/94 [==============================] - 53s 519ms/step - loss: 2.0371 - categorical_accuracy: 0.1851 - val_loss: 2.0013 - val_categorical_accuracy: 0.1549 - lr: 0.0010\n",
            "Epoch 2/340\n",
            "94/94 [==============================] - 48s 510ms/step - loss: 2.0161 - categorical_accuracy: 0.1977 - val_loss: 2.0263 - val_categorical_accuracy: 0.1737 - lr: 0.0010\n",
            "Epoch 3/340\n",
            "94/94 [==============================] - 48s 507ms/step - loss: 2.0229 - categorical_accuracy: 0.1907 - val_loss: 1.9774 - val_categorical_accuracy: 0.2347 - lr: 0.0010\n",
            "Epoch 4/340\n",
            "94/94 [==============================] - 47s 504ms/step - loss: 2.0058 - categorical_accuracy: 0.1995 - val_loss: 2.0261 - val_categorical_accuracy: 0.1596 - lr: 0.0010\n",
            "Epoch 5/340\n",
            "94/94 [==============================] - 47s 499ms/step - loss: 2.0026 - categorical_accuracy: 0.2042 - val_loss: 1.9649 - val_categorical_accuracy: 0.2441 - lr: 0.0010\n",
            "Epoch 6/340\n",
            "94/94 [==============================] - 46s 493ms/step - loss: 1.9614 - categorical_accuracy: 0.2294 - val_loss: 1.9561 - val_categorical_accuracy: 0.2394 - lr: 0.0010\n",
            "Epoch 7/340\n",
            "94/94 [==============================] - 46s 493ms/step - loss: 1.9403 - categorical_accuracy: 0.2317 - val_loss: 1.9496 - val_categorical_accuracy: 0.1878 - lr: 0.0010\n",
            "Epoch 8/340\n",
            "94/94 [==============================] - 47s 496ms/step - loss: 1.9763 - categorical_accuracy: 0.2228 - val_loss: 1.9247 - val_categorical_accuracy: 0.2441 - lr: 0.0010\n",
            "Epoch 9/340\n",
            "94/94 [==============================] - 47s 495ms/step - loss: 1.9557 - categorical_accuracy: 0.2280 - val_loss: 1.9491 - val_categorical_accuracy: 0.2582 - lr: 0.0010\n",
            "Epoch 10/340\n",
            "94/94 [==============================] - 47s 495ms/step - loss: 1.9522 - categorical_accuracy: 0.2401 - val_loss: 1.9739 - val_categorical_accuracy: 0.2113 - lr: 0.0010\n",
            "Epoch 11/340\n",
            "94/94 [==============================] - 46s 490ms/step - loss: 1.9522 - categorical_accuracy: 0.2410 - val_loss: 1.9499 - val_categorical_accuracy: 0.2207 - lr: 0.0010\n",
            "Epoch 12/340\n",
            "94/94 [==============================] - 46s 495ms/step - loss: 1.9614 - categorical_accuracy: 0.2331 - val_loss: 1.9349 - val_categorical_accuracy: 0.3005 - lr: 0.0010\n",
            "Epoch 13/340\n",
            "94/94 [==============================] - 48s 512ms/step - loss: 1.9386 - categorical_accuracy: 0.2494 - val_loss: 1.8950 - val_categorical_accuracy: 0.2958 - lr: 0.0010\n",
            "Epoch 14/340\n",
            "94/94 [==============================] - 47s 496ms/step - loss: 1.9041 - categorical_accuracy: 0.2517 - val_loss: 1.8619 - val_categorical_accuracy: 0.3005 - lr: 0.0010\n",
            "Epoch 15/340\n",
            "94/94 [==============================] - 46s 494ms/step - loss: 1.9119 - categorical_accuracy: 0.2606 - val_loss: 1.9428 - val_categorical_accuracy: 0.2723 - lr: 0.0010\n",
            "Epoch 16/340\n",
            "94/94 [==============================] - 46s 493ms/step - loss: 1.9023 - categorical_accuracy: 0.2709 - val_loss: 1.8696 - val_categorical_accuracy: 0.2723 - lr: 0.0010\n",
            "Epoch 17/340\n",
            "94/94 [==============================] - 47s 495ms/step - loss: 1.8906 - categorical_accuracy: 0.2802 - val_loss: 1.8432 - val_categorical_accuracy: 0.2817 - lr: 0.0010\n",
            "Epoch 18/340\n",
            "94/94 [==============================] - 46s 492ms/step - loss: 1.8749 - categorical_accuracy: 0.2853 - val_loss: 1.8777 - val_categorical_accuracy: 0.2958 - lr: 0.0010\n",
            "Epoch 19/340\n",
            "94/94 [==============================] - 46s 493ms/step - loss: 1.8740 - categorical_accuracy: 0.2793 - val_loss: 1.8553 - val_categorical_accuracy: 0.2958 - lr: 0.0010\n",
            "Epoch 20/340\n",
            "94/94 [==============================] - 47s 497ms/step - loss: 1.8721 - categorical_accuracy: 0.2886 - val_loss: 1.8304 - val_categorical_accuracy: 0.2864 - lr: 0.0010\n",
            "Epoch 21/340\n",
            "94/94 [==============================] - 46s 494ms/step - loss: 1.8623 - categorical_accuracy: 0.2895 - val_loss: 1.8217 - val_categorical_accuracy: 0.2723 - lr: 0.0010\n",
            "Epoch 22/340\n",
            "94/94 [==============================] - 47s 496ms/step - loss: 1.8791 - categorical_accuracy: 0.2821 - val_loss: 1.9067 - val_categorical_accuracy: 0.3052 - lr: 0.0010\n",
            "Epoch 23/340\n",
            "94/94 [==============================] - 47s 496ms/step - loss: 1.8937 - categorical_accuracy: 0.2713 - val_loss: 1.8883 - val_categorical_accuracy: 0.3192 - lr: 0.0010\n",
            "Epoch 24/340\n",
            "94/94 [==============================] - 46s 492ms/step - loss: 1.8435 - categorical_accuracy: 0.2974 - val_loss: 1.7774 - val_categorical_accuracy: 0.3052 - lr: 0.0010\n",
            "Epoch 25/340\n",
            "94/94 [==============================] - 46s 493ms/step - loss: 1.8773 - categorical_accuracy: 0.2807 - val_loss: 1.8930 - val_categorical_accuracy: 0.2629 - lr: 0.0010\n",
            "Epoch 26/340\n",
            "94/94 [==============================] - 46s 492ms/step - loss: 1.8573 - categorical_accuracy: 0.2937 - val_loss: 1.8705 - val_categorical_accuracy: 0.2488 - lr: 0.0010\n",
            "Epoch 27/340\n",
            "94/94 [==============================] - 46s 494ms/step - loss: 1.8584 - categorical_accuracy: 0.3110 - val_loss: 1.8008 - val_categorical_accuracy: 0.3052 - lr: 0.0010\n",
            "Epoch 28/340\n",
            "94/94 [==============================] - 46s 494ms/step - loss: 1.8367 - categorical_accuracy: 0.2974 - val_loss: 1.8434 - val_categorical_accuracy: 0.2817 - lr: 0.0010\n",
            "Epoch 29/340\n",
            "94/94 [==============================] - 46s 493ms/step - loss: 1.8390 - categorical_accuracy: 0.3193 - val_loss: 1.7915 - val_categorical_accuracy: 0.2958 - lr: 0.0010\n",
            "Epoch 30/340\n",
            "94/94 [==============================] - 47s 496ms/step - loss: 1.8282 - categorical_accuracy: 0.3175 - val_loss: 1.8232 - val_categorical_accuracy: 0.3192 - lr: 0.0010\n",
            "Epoch 31/340\n",
            "94/94 [==============================] - 46s 492ms/step - loss: 1.8234 - categorical_accuracy: 0.3207 - val_loss: 1.8811 - val_categorical_accuracy: 0.2770 - lr: 0.0010\n",
            "Epoch 32/340\n",
            "94/94 [==============================] - 46s 492ms/step - loss: 1.8277 - categorical_accuracy: 0.3217 - val_loss: 1.8568 - val_categorical_accuracy: 0.2817 - lr: 0.0010\n",
            "Epoch 33/340\n",
            "94/94 [==============================] - 47s 495ms/step - loss: 1.8467 - categorical_accuracy: 0.3100 - val_loss: 1.8890 - val_categorical_accuracy: 0.2911 - lr: 0.0010\n",
            "Epoch 34/340\n",
            "94/94 [==============================] - 46s 493ms/step - loss: 1.8135 - categorical_accuracy: 0.3277 - val_loss: 1.8247 - val_categorical_accuracy: 0.2911 - lr: 0.0010\n",
            "Epoch 35/340\n",
            "94/94 [==============================] - 46s 494ms/step - loss: 1.8289 - categorical_accuracy: 0.3156 - val_loss: 1.7926 - val_categorical_accuracy: 0.3333 - lr: 0.0010\n",
            "Epoch 36/340\n",
            "94/94 [==============================] - 47s 497ms/step - loss: 1.8181 - categorical_accuracy: 0.3259 - val_loss: 1.7863 - val_categorical_accuracy: 0.3052 - lr: 0.0010\n",
            "Epoch 37/340\n",
            "94/94 [==============================] - 47s 499ms/step - loss: 1.7967 - categorical_accuracy: 0.3291 - val_loss: 1.8087 - val_categorical_accuracy: 0.2958 - lr: 0.0010\n",
            "Epoch 38/340\n",
            "94/94 [==============================] - 46s 494ms/step - loss: 1.8246 - categorical_accuracy: 0.2993 - val_loss: 1.8350 - val_categorical_accuracy: 0.3192 - lr: 0.0010\n",
            "Epoch 39/340\n",
            "94/94 [==============================] - 46s 493ms/step - loss: 1.8192 - categorical_accuracy: 0.3133 - val_loss: 1.8848 - val_categorical_accuracy: 0.2817 - lr: 0.0010\n",
            "Epoch 40/340\n",
            "94/94 [==============================] - 47s 496ms/step - loss: 1.8503 - categorical_accuracy: 0.2960 - val_loss: 1.8374 - val_categorical_accuracy: 0.3052 - lr: 0.0010\n",
            "Epoch 41/340\n",
            "94/94 [==============================] - 46s 494ms/step - loss: 1.8050 - categorical_accuracy: 0.3193 - val_loss: 1.7847 - val_categorical_accuracy: 0.3099 - lr: 0.0010\n",
            "Epoch 42/340\n",
            "94/94 [==============================] - 46s 493ms/step - loss: 1.8048 - categorical_accuracy: 0.3161 - val_loss: 1.7447 - val_categorical_accuracy: 0.3380 - lr: 0.0010\n",
            "Epoch 43/340\n",
            "94/94 [==============================] - 46s 492ms/step - loss: 1.7845 - categorical_accuracy: 0.3203 - val_loss: 1.8665 - val_categorical_accuracy: 0.2911 - lr: 0.0010\n",
            "Epoch 44/340\n",
            "94/94 [==============================] - 46s 494ms/step - loss: 1.8077 - categorical_accuracy: 0.3198 - val_loss: 1.8188 - val_categorical_accuracy: 0.2911 - lr: 0.0010\n",
            "Epoch 45/340\n",
            "94/94 [==============================] - 46s 491ms/step - loss: 1.7735 - categorical_accuracy: 0.3347 - val_loss: 1.7776 - val_categorical_accuracy: 0.3052 - lr: 0.0010\n",
            "Epoch 46/340\n",
            "94/94 [==============================] - 46s 494ms/step - loss: 1.7826 - categorical_accuracy: 0.3287 - val_loss: 1.8290 - val_categorical_accuracy: 0.2864 - lr: 0.0010\n",
            "Epoch 47/340\n",
            "94/94 [==============================] - 46s 492ms/step - loss: 1.7661 - categorical_accuracy: 0.3371 - val_loss: 1.8293 - val_categorical_accuracy: 0.3286 - lr: 0.0010\n",
            "Epoch 48/340\n",
            "94/94 [==============================] - 46s 492ms/step - loss: 1.7731 - categorical_accuracy: 0.3329 - val_loss: 1.7877 - val_categorical_accuracy: 0.3239 - lr: 0.0010\n",
            "Epoch 49/340\n",
            "94/94 [==============================] - 46s 493ms/step - loss: 1.7626 - categorical_accuracy: 0.3319 - val_loss: 1.7707 - val_categorical_accuracy: 0.2911 - lr: 0.0010\n",
            "Epoch 50/340\n",
            "94/94 [==============================] - 46s 491ms/step - loss: 1.7676 - categorical_accuracy: 0.3352 - val_loss: 1.7612 - val_categorical_accuracy: 0.3333 - lr: 0.0010\n",
            "Epoch 51/340\n",
            "94/94 [==============================] - 46s 492ms/step - loss: 1.7551 - categorical_accuracy: 0.3389 - val_loss: 1.7784 - val_categorical_accuracy: 0.3286 - lr: 0.0010\n",
            "Epoch 52/340\n",
            "94/94 [==============================] - 47s 495ms/step - loss: 1.7713 - categorical_accuracy: 0.3249 - val_loss: 1.7398 - val_categorical_accuracy: 0.3192 - lr: 0.0010\n",
            "Epoch 53/340\n",
            "94/94 [==============================] - 47s 504ms/step - loss: 1.7763 - categorical_accuracy: 0.3119 - val_loss: 1.9335 - val_categorical_accuracy: 0.2160 - lr: 0.0010\n",
            "Epoch 54/340\n",
            "94/94 [==============================] - 47s 497ms/step - loss: 1.8007 - categorical_accuracy: 0.3124 - val_loss: 1.8348 - val_categorical_accuracy: 0.2535 - lr: 0.0010\n",
            "Epoch 55/340\n",
            "94/94 [==============================] - 46s 493ms/step - loss: 1.7703 - categorical_accuracy: 0.3310 - val_loss: 1.8331 - val_categorical_accuracy: 0.3239 - lr: 0.0010\n",
            "Epoch 56/340\n",
            "94/94 [==============================] - 46s 488ms/step - loss: 1.7583 - categorical_accuracy: 0.3361 - val_loss: 1.8365 - val_categorical_accuracy: 0.2911 - lr: 0.0010\n",
            "Epoch 57/340\n",
            "94/94 [==============================] - 46s 487ms/step - loss: 1.7739 - categorical_accuracy: 0.3259 - val_loss: 1.7932 - val_categorical_accuracy: 0.3099 - lr: 0.0010\n",
            "Epoch 58/340\n",
            "94/94 [==============================] - 45s 483ms/step - loss: 1.7885 - categorical_accuracy: 0.3072 - val_loss: 1.7885 - val_categorical_accuracy: 0.3286 - lr: 0.0010\n",
            "Epoch 59/340\n",
            "94/94 [==============================] - 46s 486ms/step - loss: 1.7747 - categorical_accuracy: 0.3291 - val_loss: 1.8411 - val_categorical_accuracy: 0.2817 - lr: 0.0010\n",
            "Epoch 60/340\n",
            "94/94 [==============================] - 45s 483ms/step - loss: 1.7866 - categorical_accuracy: 0.3231 - val_loss: 1.7850 - val_categorical_accuracy: 0.2864 - lr: 0.0010\n",
            "Epoch 61/340\n",
            "94/94 [==============================] - 46s 485ms/step - loss: 1.7606 - categorical_accuracy: 0.3296 - val_loss: 1.9183 - val_categorical_accuracy: 0.2864 - lr: 0.0010\n",
            "Epoch 62/340\n",
            "94/94 [==============================] - 45s 483ms/step - loss: 1.7814 - categorical_accuracy: 0.3175 - val_loss: 1.8132 - val_categorical_accuracy: 0.3333 - lr: 0.0010\n",
            "Epoch 63/340\n",
            "94/94 [==============================] - 46s 485ms/step - loss: 1.7614 - categorical_accuracy: 0.3245 - val_loss: 1.8063 - val_categorical_accuracy: 0.3146 - lr: 0.0010\n",
            "Epoch 64/340\n",
            "94/94 [==============================] - 46s 490ms/step - loss: 1.7623 - categorical_accuracy: 0.3366 - val_loss: 1.8031 - val_categorical_accuracy: 0.2958 - lr: 0.0010\n",
            "Epoch 65/340\n",
            "94/94 [==============================] - 46s 485ms/step - loss: 1.7663 - categorical_accuracy: 0.3343 - val_loss: 1.8273 - val_categorical_accuracy: 0.3380 - lr: 0.0010\n",
            "Epoch 66/340\n",
            "94/94 [==============================] - 46s 488ms/step - loss: 1.7633 - categorical_accuracy: 0.3212 - val_loss: 1.8949 - val_categorical_accuracy: 0.2629 - lr: 0.0010\n",
            "Epoch 67/340\n",
            "94/94 [==============================] - 46s 488ms/step - loss: 1.7629 - categorical_accuracy: 0.3296 - val_loss: 1.8049 - val_categorical_accuracy: 0.3380 - lr: 0.0010\n",
            "Epoch 68/340\n",
            "94/94 [==============================] - 46s 487ms/step - loss: 1.7654 - categorical_accuracy: 0.3273 - val_loss: 1.8353 - val_categorical_accuracy: 0.3239 - lr: 0.0010\n",
            "Epoch 69/340\n",
            "94/94 [==============================] - 46s 491ms/step - loss: 1.7655 - categorical_accuracy: 0.3506 - val_loss: 1.7361 - val_categorical_accuracy: 0.3615 - lr: 0.0010\n",
            "Epoch 70/340\n",
            "94/94 [==============================] - 46s 493ms/step - loss: 1.7492 - categorical_accuracy: 0.3408 - val_loss: 1.8157 - val_categorical_accuracy: 0.2864 - lr: 0.0010\n",
            "Epoch 71/340\n",
            "94/94 [==============================] - 47s 496ms/step - loss: 1.7373 - categorical_accuracy: 0.3277 - val_loss: 1.7775 - val_categorical_accuracy: 0.3286 - lr: 0.0010\n",
            "Epoch 72/340\n",
            "94/94 [==============================] - 47s 495ms/step - loss: 1.7320 - categorical_accuracy: 0.3459 - val_loss: 1.8222 - val_categorical_accuracy: 0.2817 - lr: 0.0010\n",
            "Epoch 73/340\n",
            "94/94 [==============================] - 46s 488ms/step - loss: 1.7266 - categorical_accuracy: 0.3487 - val_loss: 1.7249 - val_categorical_accuracy: 0.3380 - lr: 0.0010\n",
            "Epoch 74/340\n",
            "94/94 [==============================] - 46s 485ms/step - loss: 1.7400 - categorical_accuracy: 0.3324 - val_loss: 1.7482 - val_categorical_accuracy: 0.3568 - lr: 0.0010\n",
            "Epoch 75/340\n",
            "94/94 [==============================] - 46s 486ms/step - loss: 1.7273 - categorical_accuracy: 0.3459 - val_loss: 1.7329 - val_categorical_accuracy: 0.3474 - lr: 0.0010\n",
            "Epoch 76/340\n",
            "94/94 [==============================] - 45s 484ms/step - loss: 1.7469 - categorical_accuracy: 0.3473 - val_loss: 1.8450 - val_categorical_accuracy: 0.3380 - lr: 0.0010\n",
            "Epoch 77/340\n",
            "94/94 [==============================] - 46s 485ms/step - loss: 1.7453 - categorical_accuracy: 0.3608 - val_loss: 1.8670 - val_categorical_accuracy: 0.3099 - lr: 0.0010\n",
            "Epoch 78/340\n",
            "94/94 [==============================] - 46s 488ms/step - loss: 1.7536 - categorical_accuracy: 0.3455 - val_loss: 1.7392 - val_categorical_accuracy: 0.3662 - lr: 0.0010\n",
            "Epoch 79/340\n",
            "94/94 [==============================] - 46s 486ms/step - loss: 1.7365 - categorical_accuracy: 0.3399 - val_loss: 1.7675 - val_categorical_accuracy: 0.3474 - lr: 0.0010\n",
            "Epoch 80/340\n",
            "94/94 [==============================] - 46s 484ms/step - loss: 1.7406 - categorical_accuracy: 0.3431 - val_loss: 1.8106 - val_categorical_accuracy: 0.3380 - lr: 0.0010\n",
            "Epoch 81/340\n",
            "94/94 [==============================] - 45s 484ms/step - loss: 1.7475 - categorical_accuracy: 0.3431 - val_loss: 1.8034 - val_categorical_accuracy: 0.3005 - lr: 0.0010\n",
            "Epoch 82/340\n",
            "94/94 [==============================] - 46s 486ms/step - loss: 1.7454 - categorical_accuracy: 0.3273 - val_loss: 1.7993 - val_categorical_accuracy: 0.3286 - lr: 0.0010\n",
            "Epoch 83/340\n",
            "94/94 [==============================] - 45s 484ms/step - loss: 1.7225 - categorical_accuracy: 0.3459 - val_loss: 1.8340 - val_categorical_accuracy: 0.2817 - lr: 0.0010\n",
            "Epoch 84/340\n",
            "94/94 [==============================] - 45s 483ms/step - loss: 1.7279 - categorical_accuracy: 0.3538 - val_loss: 1.9056 - val_categorical_accuracy: 0.3333 - lr: 0.0010\n",
            "Epoch 85/340\n",
            "94/94 [==============================] - 46s 487ms/step - loss: 1.7306 - categorical_accuracy: 0.3501 - val_loss: 1.7919 - val_categorical_accuracy: 0.3192 - lr: 0.0010\n",
            "Epoch 86/340\n",
            "94/94 [==============================] - 46s 488ms/step - loss: 1.7431 - categorical_accuracy: 0.3497 - val_loss: 1.7559 - val_categorical_accuracy: 0.3756 - lr: 0.0010\n",
            "Epoch 87/340\n",
            "94/94 [==============================] - 46s 489ms/step - loss: 1.7104 - categorical_accuracy: 0.3520 - val_loss: 1.8300 - val_categorical_accuracy: 0.3568 - lr: 0.0010\n",
            "Epoch 88/340\n",
            "94/94 [==============================] - 46s 488ms/step - loss: 1.7424 - categorical_accuracy: 0.3483 - val_loss: 1.8477 - val_categorical_accuracy: 0.3333 - lr: 0.0010\n",
            "Epoch 89/340\n",
            "94/94 [==============================] - 46s 485ms/step - loss: 1.7063 - categorical_accuracy: 0.3562 - val_loss: 1.7933 - val_categorical_accuracy: 0.3662 - lr: 0.0010\n",
            "Epoch 90/340\n",
            "94/94 [==============================] - 46s 485ms/step - loss: 1.6998 - categorical_accuracy: 0.3580 - val_loss: 1.7507 - val_categorical_accuracy: 0.3850 - lr: 0.0010\n",
            "Epoch 91/340\n",
            "94/94 [==============================] - 46s 485ms/step - loss: 1.7070 - categorical_accuracy: 0.3538 - val_loss: 1.7610 - val_categorical_accuracy: 0.3568 - lr: 0.0010\n",
            "Epoch 92/340\n",
            "94/94 [==============================] - 46s 487ms/step - loss: 1.6986 - categorical_accuracy: 0.3646 - val_loss: 1.7381 - val_categorical_accuracy: 0.3427 - lr: 0.0010\n",
            "Epoch 93/340\n",
            "94/94 [==============================] - 46s 485ms/step - loss: 1.7163 - categorical_accuracy: 0.3627 - val_loss: 1.7990 - val_categorical_accuracy: 0.3333 - lr: 0.0010\n",
            "Epoch 94/340\n",
            "94/94 [==============================] - 46s 485ms/step - loss: 1.6884 - categorical_accuracy: 0.3524 - val_loss: 1.7552 - val_categorical_accuracy: 0.3052 - lr: 0.0010\n",
            "Epoch 95/340\n",
            "94/94 [==============================] - 46s 492ms/step - loss: 1.6886 - categorical_accuracy: 0.3562 - val_loss: 1.6693 - val_categorical_accuracy: 0.4131 - lr: 0.0010\n",
            "Epoch 96/340\n",
            "94/94 [==============================] - 46s 488ms/step - loss: 1.6599 - categorical_accuracy: 0.3716 - val_loss: 1.6687 - val_categorical_accuracy: 0.3897 - lr: 0.0010\n",
            "Epoch 97/340\n",
            "94/94 [==============================] - 46s 486ms/step - loss: 1.6666 - categorical_accuracy: 0.3725 - val_loss: 1.6717 - val_categorical_accuracy: 0.3944 - lr: 0.0010\n",
            "Epoch 98/340\n",
            "94/94 [==============================] - 46s 486ms/step - loss: 1.6639 - categorical_accuracy: 0.3622 - val_loss: 1.8478 - val_categorical_accuracy: 0.3333 - lr: 0.0010\n",
            "Epoch 99/340\n",
            "94/94 [==============================] - 46s 486ms/step - loss: 1.6968 - categorical_accuracy: 0.3534 - val_loss: 1.8374 - val_categorical_accuracy: 0.3239 - lr: 0.0010\n",
            "Epoch 100/340\n",
            "94/94 [==============================] - 45s 483ms/step - loss: 1.6960 - categorical_accuracy: 0.3492 - val_loss: 1.8653 - val_categorical_accuracy: 0.3286 - lr: 0.0010\n",
            "Epoch 101/340\n",
            "94/94 [==============================] - 46s 487ms/step - loss: 1.6740 - categorical_accuracy: 0.3753 - val_loss: 1.7668 - val_categorical_accuracy: 0.3474 - lr: 0.0010\n",
            "Epoch 102/340\n",
            "94/94 [==============================] - 45s 484ms/step - loss: 1.6646 - categorical_accuracy: 0.3669 - val_loss: 1.8192 - val_categorical_accuracy: 0.3239 - lr: 0.0010\n",
            "Epoch 103/340\n",
            "94/94 [==============================] - 45s 484ms/step - loss: 1.6366 - categorical_accuracy: 0.3818 - val_loss: 1.7117 - val_categorical_accuracy: 0.3521 - lr: 0.0010\n",
            "Epoch 104/340\n",
            "94/94 [==============================] - 45s 483ms/step - loss: 1.6432 - categorical_accuracy: 0.3790 - val_loss: 1.7558 - val_categorical_accuracy: 0.3568 - lr: 0.0010\n",
            "Epoch 105/340\n",
            "94/94 [==============================] - 46s 485ms/step - loss: 1.6653 - categorical_accuracy: 0.3622 - val_loss: 1.7856 - val_categorical_accuracy: 0.2770 - lr: 0.0010\n",
            "Epoch 106/340\n",
            "94/94 [==============================] - 46s 484ms/step - loss: 1.6299 - categorical_accuracy: 0.3702 - val_loss: 1.7365 - val_categorical_accuracy: 0.3192 - lr: 0.0010\n",
            "Epoch 107/340\n",
            "94/94 [==============================] - 45s 483ms/step - loss: 1.6276 - categorical_accuracy: 0.3748 - val_loss: 1.7594 - val_categorical_accuracy: 0.3380 - lr: 0.0010\n",
            "Epoch 108/340\n",
            "94/94 [==============================] - 45s 484ms/step - loss: 1.6315 - categorical_accuracy: 0.3897 - val_loss: 1.7169 - val_categorical_accuracy: 0.3474 - lr: 0.0010\n",
            "Epoch 109/340\n",
            "94/94 [==============================] - 46s 485ms/step - loss: 1.6478 - categorical_accuracy: 0.3762 - val_loss: 1.7515 - val_categorical_accuracy: 0.3897 - lr: 0.0010\n",
            "Epoch 110/340\n",
            "94/94 [==============================] - 46s 485ms/step - loss: 1.6476 - categorical_accuracy: 0.3865 - val_loss: 1.7793 - val_categorical_accuracy: 0.3380 - lr: 0.0010\n",
            "Epoch 111/340\n",
            "94/94 [==============================] - 46s 484ms/step - loss: 1.6238 - categorical_accuracy: 0.3846 - val_loss: 1.8062 - val_categorical_accuracy: 0.3286 - lr: 0.0010\n",
            "Epoch 112/340\n",
            "94/94 [==============================] - 46s 486ms/step - loss: 1.6254 - categorical_accuracy: 0.3902 - val_loss: 1.8100 - val_categorical_accuracy: 0.2911 - lr: 0.0010\n",
            "Epoch 113/340\n",
            "94/94 [==============================] - 45s 483ms/step - loss: 1.6879 - categorical_accuracy: 0.3627 - val_loss: 1.7898 - val_categorical_accuracy: 0.3427 - lr: 0.0010\n",
            "Epoch 114/340\n",
            "94/94 [==============================] - 46s 485ms/step - loss: 1.6283 - categorical_accuracy: 0.3879 - val_loss: 1.7177 - val_categorical_accuracy: 0.3521 - lr: 0.0010\n",
            "Epoch 115/340\n",
            "94/94 [==============================] - 45s 483ms/step - loss: 1.6033 - categorical_accuracy: 0.4019 - val_loss: 1.7255 - val_categorical_accuracy: 0.3521 - lr: 0.0010\n",
            "Epoch 116/340\n",
            "94/94 [==============================] - 45s 484ms/step - loss: 1.6127 - categorical_accuracy: 0.3902 - val_loss: 1.7310 - val_categorical_accuracy: 0.3521 - lr: 0.0010\n",
            "Epoch 117/340\n",
            "94/94 [==============================] - 46s 485ms/step - loss: 1.6405 - categorical_accuracy: 0.3646 - val_loss: 1.7784 - val_categorical_accuracy: 0.3333 - lr: 0.0010\n",
            "Epoch 118/340\n",
            "94/94 [==============================] - 46s 488ms/step - loss: 1.6295 - categorical_accuracy: 0.3758 - val_loss: 1.7770 - val_categorical_accuracy: 0.3146 - lr: 0.0010\n",
            "Epoch 119/340\n",
            "94/94 [==============================] - 46s 494ms/step - loss: 1.6122 - categorical_accuracy: 0.3809 - val_loss: 1.7490 - val_categorical_accuracy: 0.3756 - lr: 0.0010\n",
            "Epoch 120/340\n",
            "94/94 [==============================] - 47s 499ms/step - loss: 1.6176 - categorical_accuracy: 0.3851 - val_loss: 1.7854 - val_categorical_accuracy: 0.3192 - lr: 0.0010\n",
            "Epoch 121/340\n",
            "94/94 [==============================] - 47s 498ms/step - loss: 1.6432 - categorical_accuracy: 0.3772 - val_loss: 1.7254 - val_categorical_accuracy: 0.3333 - lr: 0.0010\n",
            "Epoch 122/340\n",
            "94/94 [==============================] - 47s 497ms/step - loss: 1.6339 - categorical_accuracy: 0.3841 - val_loss: 1.8097 - val_categorical_accuracy: 0.3286 - lr: 0.0010\n",
            "Epoch 123/340\n",
            "94/94 [==============================] - 47s 496ms/step - loss: 1.6548 - categorical_accuracy: 0.3744 - val_loss: 1.7655 - val_categorical_accuracy: 0.2958 - lr: 0.0010\n",
            "Epoch 124/340\n",
            "94/94 [==============================] - 47s 500ms/step - loss: 1.6227 - categorical_accuracy: 0.3855 - val_loss: 1.7162 - val_categorical_accuracy: 0.3427 - lr: 0.0010\n",
            "Epoch 125/340\n",
            "94/94 [==============================] - 47s 500ms/step - loss: 1.6495 - categorical_accuracy: 0.3650 - val_loss: 1.7272 - val_categorical_accuracy: 0.3052 - lr: 0.0010\n",
            "Epoch 126/340\n",
            "94/94 [==============================] - 47s 504ms/step - loss: 1.6121 - categorical_accuracy: 0.3865 - val_loss: 1.7298 - val_categorical_accuracy: 0.3615 - lr: 0.0010\n",
            "Epoch 127/340\n",
            "94/94 [==============================] - 47s 503ms/step - loss: 1.6135 - categorical_accuracy: 0.3795 - val_loss: 1.7164 - val_categorical_accuracy: 0.3850 - lr: 0.0010\n",
            "Epoch 128/340\n",
            "94/94 [==============================] - 47s 497ms/step - loss: 1.5896 - categorical_accuracy: 0.3977 - val_loss: 1.7307 - val_categorical_accuracy: 0.3521 - lr: 0.0010\n",
            "Epoch 129/340\n",
            "94/94 [==============================] - 47s 499ms/step - loss: 1.6793 - categorical_accuracy: 0.3795 - val_loss: 1.8314 - val_categorical_accuracy: 0.3615 - lr: 0.0010\n",
            "Epoch 130/340\n",
            "94/94 [==============================] - 47s 500ms/step - loss: 1.6478 - categorical_accuracy: 0.3800 - val_loss: 1.7905 - val_categorical_accuracy: 0.3474 - lr: 0.0010\n",
            "Epoch 131/340\n",
            "94/94 [==============================] - 47s 504ms/step - loss: 1.6511 - categorical_accuracy: 0.3855 - val_loss: 1.6959 - val_categorical_accuracy: 0.3615 - lr: 0.0010\n",
            "Epoch 132/340\n",
            "94/94 [==============================] - 47s 501ms/step - loss: 1.6267 - categorical_accuracy: 0.3888 - val_loss: 1.8034 - val_categorical_accuracy: 0.3192 - lr: 0.0010\n",
            "Epoch 133/340\n",
            "94/94 [==============================] - 47s 497ms/step - loss: 1.6163 - categorical_accuracy: 0.3963 - val_loss: 1.7936 - val_categorical_accuracy: 0.3474 - lr: 0.0010\n",
            "Epoch 134/340\n",
            "94/94 [==============================] - 47s 502ms/step - loss: 1.6196 - categorical_accuracy: 0.3869 - val_loss: 2.0283 - val_categorical_accuracy: 0.3146 - lr: 0.0010\n",
            "Epoch 135/340\n",
            "94/94 [==============================] - 47s 504ms/step - loss: 1.6010 - categorical_accuracy: 0.3841 - val_loss: 1.7371 - val_categorical_accuracy: 0.3286 - lr: 0.0010\n",
            "Epoch 136/340\n",
            "94/94 [==============================] - 47s 503ms/step - loss: 1.5972 - categorical_accuracy: 0.3916 - val_loss: 1.7407 - val_categorical_accuracy: 0.3286 - lr: 0.0010\n",
            "Epoch 137/340\n",
            "94/94 [==============================] - 48s 505ms/step - loss: 1.6011 - categorical_accuracy: 0.3832 - val_loss: 1.8429 - val_categorical_accuracy: 0.2958 - lr: 0.0010\n",
            "Epoch 138/340\n",
            "94/94 [==============================] - 47s 502ms/step - loss: 1.6272 - categorical_accuracy: 0.3706 - val_loss: 1.7762 - val_categorical_accuracy: 0.3286 - lr: 0.0010\n",
            "Epoch 139/340\n",
            "94/94 [==============================] - 47s 501ms/step - loss: 1.5937 - categorical_accuracy: 0.3846 - val_loss: 1.7893 - val_categorical_accuracy: 0.3427 - lr: 0.0010\n",
            "Epoch 140/340\n",
            "94/94 [==============================] - 47s 502ms/step - loss: 1.5805 - categorical_accuracy: 0.3958 - val_loss: 1.7969 - val_categorical_accuracy: 0.3756 - lr: 0.0010\n",
            "Epoch 141/340\n",
            "94/94 [==============================] - 47s 501ms/step - loss: 1.6343 - categorical_accuracy: 0.3706 - val_loss: 1.7891 - val_categorical_accuracy: 0.3192 - lr: 0.0010\n",
            "Epoch 142/340\n",
            "94/94 [==============================] - 47s 501ms/step - loss: 1.6101 - categorical_accuracy: 0.4051 - val_loss: 1.7760 - val_categorical_accuracy: 0.3286 - lr: 0.0010\n",
            "Epoch 143/340\n",
            "94/94 [==============================] - 47s 499ms/step - loss: 1.6034 - categorical_accuracy: 0.3883 - val_loss: 1.7475 - val_categorical_accuracy: 0.3662 - lr: 0.0010\n",
            "Epoch 144/340\n",
            "94/94 [==============================] - 47s 501ms/step - loss: 1.6423 - categorical_accuracy: 0.3897 - val_loss: 1.7425 - val_categorical_accuracy: 0.3568 - lr: 0.0010\n",
            "Epoch 145/340\n",
            "94/94 [==============================] - 47s 498ms/step - loss: 1.6420 - categorical_accuracy: 0.3846 - val_loss: 1.7287 - val_categorical_accuracy: 0.3521 - lr: 0.0010\n",
            "Epoch 146/340\n",
            "94/94 [==============================] - 47s 498ms/step - loss: 1.6670 - categorical_accuracy: 0.3725 - val_loss: 1.7592 - val_categorical_accuracy: 0.3192 - lr: 0.0010\n",
            "Epoch 147/340\n",
            "94/94 [==============================] - 47s 499ms/step - loss: 1.6494 - categorical_accuracy: 0.3599 - val_loss: 1.6889 - val_categorical_accuracy: 0.3474 - lr: 0.0010\n",
            "Epoch 148/340\n",
            "94/94 [==============================] - 47s 496ms/step - loss: 1.5967 - categorical_accuracy: 0.4033 - val_loss: 1.7657 - val_categorical_accuracy: 0.3474 - lr: 0.0010\n",
            "Epoch 149/340\n",
            "94/94 [==============================] - 47s 497ms/step - loss: 1.5794 - categorical_accuracy: 0.4009 - val_loss: 1.7039 - val_categorical_accuracy: 0.3615 - lr: 0.0010\n",
            "Epoch 150/340\n",
            "94/94 [==============================] - 47s 500ms/step - loss: 1.6025 - categorical_accuracy: 0.4005 - val_loss: 1.6985 - val_categorical_accuracy: 0.3756 - lr: 0.0010\n",
            "Epoch 151/340\n",
            "94/94 [==============================] - 47s 497ms/step - loss: 1.5880 - categorical_accuracy: 0.3967 - val_loss: 1.6951 - val_categorical_accuracy: 0.3615 - lr: 0.0010\n",
            "Epoch 152/340\n",
            "94/94 [==============================] - 47s 498ms/step - loss: 1.6386 - categorical_accuracy: 0.3832 - val_loss: 1.7201 - val_categorical_accuracy: 0.3615 - lr: 0.0010\n",
            "Epoch 153/340\n",
            "94/94 [==============================] - 47s 501ms/step - loss: 1.6071 - categorical_accuracy: 0.3804 - val_loss: 1.6950 - val_categorical_accuracy: 0.3662 - lr: 0.0010\n",
            "Epoch 154/340\n",
            "94/94 [==============================] - 47s 498ms/step - loss: 1.5956 - categorical_accuracy: 0.3841 - val_loss: 1.7130 - val_categorical_accuracy: 0.3521 - lr: 0.0010\n",
            "Epoch 155/340\n",
            "94/94 [==============================] - 47s 499ms/step - loss: 1.5899 - categorical_accuracy: 0.3855 - val_loss: 1.7063 - val_categorical_accuracy: 0.3850 - lr: 0.0010\n",
            "Epoch 156/340\n",
            "94/94 [==============================] - 47s 499ms/step - loss: 1.6046 - categorical_accuracy: 0.3963 - val_loss: 1.7443 - val_categorical_accuracy: 0.2770 - lr: 0.0010\n",
            "Epoch 157/340\n",
            "94/94 [==============================] - 47s 500ms/step - loss: 1.5870 - categorical_accuracy: 0.3814 - val_loss: 1.6958 - val_categorical_accuracy: 0.3239 - lr: 0.0010\n",
            "Epoch 158/340\n",
            "94/94 [==============================] - 47s 498ms/step - loss: 1.5618 - categorical_accuracy: 0.3972 - val_loss: 1.7321 - val_categorical_accuracy: 0.3662 - lr: 0.0010\n",
            "Epoch 159/340\n",
            "94/94 [==============================] - 47s 498ms/step - loss: 1.5662 - categorical_accuracy: 0.3967 - val_loss: 1.6903 - val_categorical_accuracy: 0.3709 - lr: 0.0010\n",
            "Epoch 160/340\n",
            "94/94 [==============================] - 47s 499ms/step - loss: 1.5601 - categorical_accuracy: 0.4051 - val_loss: 1.6972 - val_categorical_accuracy: 0.3380 - lr: 0.0010\n",
            "Epoch 161/340\n",
            "94/94 [==============================] - 47s 497ms/step - loss: 1.6031 - categorical_accuracy: 0.3921 - val_loss: 1.8069 - val_categorical_accuracy: 0.3052 - lr: 0.0010\n",
            "Epoch 162/340\n",
            "94/94 [==============================] - 47s 498ms/step - loss: 1.5855 - categorical_accuracy: 0.3893 - val_loss: 1.7443 - val_categorical_accuracy: 0.3239 - lr: 0.0010\n",
            "Epoch 163/340\n",
            "94/94 [==============================] - 47s 500ms/step - loss: 1.6115 - categorical_accuracy: 0.3991 - val_loss: 1.7220 - val_categorical_accuracy: 0.3474 - lr: 0.0010\n",
            "Epoch 164/340\n",
            "94/94 [==============================] - 47s 497ms/step - loss: 1.5923 - categorical_accuracy: 0.4019 - val_loss: 1.7881 - val_categorical_accuracy: 0.3239 - lr: 0.0010\n",
            "Epoch 165/340\n",
            "94/94 [==============================] - 47s 498ms/step - loss: 1.5872 - categorical_accuracy: 0.3925 - val_loss: 1.7571 - val_categorical_accuracy: 0.2911 - lr: 0.0010\n",
            "Epoch 166/340\n",
            "94/94 [==============================] - 47s 499ms/step - loss: 1.5618 - categorical_accuracy: 0.4089 - val_loss: 1.7272 - val_categorical_accuracy: 0.3662 - lr: 0.0010\n",
            "Epoch 167/340\n",
            "94/94 [==============================] - 47s 502ms/step - loss: 1.6010 - categorical_accuracy: 0.3874 - val_loss: 1.6754 - val_categorical_accuracy: 0.3709 - lr: 0.0010\n",
            "Epoch 168/340\n",
            "94/94 [==============================] - 47s 503ms/step - loss: 1.5875 - categorical_accuracy: 0.4014 - val_loss: 1.7703 - val_categorical_accuracy: 0.3709 - lr: 0.0010\n",
            "Epoch 169/340\n",
            "94/94 [==============================] - 47s 504ms/step - loss: 1.5894 - categorical_accuracy: 0.4033 - val_loss: 1.6913 - val_categorical_accuracy: 0.3803 - lr: 0.0010\n",
            "Epoch 170/340\n",
            "94/94 [==============================] - 47s 505ms/step - loss: 1.5339 - categorical_accuracy: 0.4177 - val_loss: 1.6696 - val_categorical_accuracy: 0.4038 - lr: 0.0010\n",
            "Epoch 171/340\n",
            "94/94 [==============================] - 47s 502ms/step - loss: 1.5530 - categorical_accuracy: 0.4140 - val_loss: 1.7315 - val_categorical_accuracy: 0.3099 - lr: 0.0010\n",
            "Epoch 172/340\n",
            "94/94 [==============================] - 47s 501ms/step - loss: 1.5457 - categorical_accuracy: 0.4149 - val_loss: 1.6746 - val_categorical_accuracy: 0.3192 - lr: 0.0010\n",
            "Epoch 173/340\n",
            "94/94 [==============================] - 47s 505ms/step - loss: 1.5472 - categorical_accuracy: 0.4182 - val_loss: 1.8720 - val_categorical_accuracy: 0.3052 - lr: 0.0010\n",
            "Epoch 174/340\n",
            "94/94 [==============================] - 47s 505ms/step - loss: 1.5612 - categorical_accuracy: 0.4224 - val_loss: 1.7759 - val_categorical_accuracy: 0.3474 - lr: 0.0010\n",
            "Epoch 175/340\n",
            "94/94 [==============================] - 48s 506ms/step - loss: 1.5156 - categorical_accuracy: 0.4126 - val_loss: 1.7153 - val_categorical_accuracy: 0.3286 - lr: 0.0010\n",
            "Epoch 176/340\n",
            "94/94 [==============================] - 48s 507ms/step - loss: 1.5177 - categorical_accuracy: 0.4247 - val_loss: 1.7637 - val_categorical_accuracy: 0.3662 - lr: 0.0010\n",
            "Epoch 177/340\n",
            "94/94 [==============================] - 47s 503ms/step - loss: 1.5353 - categorical_accuracy: 0.4261 - val_loss: 1.6720 - val_categorical_accuracy: 0.3474 - lr: 0.0010\n",
            "Epoch 178/340\n",
            "94/94 [==============================] - 47s 502ms/step - loss: 1.5458 - categorical_accuracy: 0.4079 - val_loss: 1.7545 - val_categorical_accuracy: 0.3662 - lr: 0.0010\n",
            "Epoch 179/340\n",
            "94/94 [==============================] - 47s 501ms/step - loss: 1.5968 - categorical_accuracy: 0.4061 - val_loss: 1.6843 - val_categorical_accuracy: 0.3474 - lr: 0.0010\n",
            "Epoch 180/340\n",
            "94/94 [==============================] - 47s 504ms/step - loss: 1.5818 - categorical_accuracy: 0.4219 - val_loss: 1.6167 - val_categorical_accuracy: 0.3897 - lr: 0.0010\n",
            "Epoch 181/340\n",
            "94/94 [==============================] - 47s 501ms/step - loss: 1.5757 - categorical_accuracy: 0.4033 - val_loss: 1.6925 - val_categorical_accuracy: 0.3991 - lr: 0.0010\n",
            "Epoch 182/340\n",
            "94/94 [==============================] - 47s 504ms/step - loss: 1.5688 - categorical_accuracy: 0.4186 - val_loss: 1.7650 - val_categorical_accuracy: 0.3192 - lr: 0.0010\n",
            "Epoch 183/340\n",
            "94/94 [==============================] - 47s 502ms/step - loss: 1.5470 - categorical_accuracy: 0.4131 - val_loss: 1.7222 - val_categorical_accuracy: 0.3756 - lr: 0.0010\n",
            "Epoch 184/340\n",
            "94/94 [==============================] - 47s 499ms/step - loss: 1.5344 - categorical_accuracy: 0.4219 - val_loss: 1.7376 - val_categorical_accuracy: 0.3521 - lr: 0.0010\n",
            "Epoch 185/340\n",
            "94/94 [==============================] - 47s 502ms/step - loss: 1.5378 - categorical_accuracy: 0.4210 - val_loss: 1.7526 - val_categorical_accuracy: 0.3568 - lr: 0.0010\n",
            "Epoch 186/340\n",
            "94/94 [==============================] - 47s 501ms/step - loss: 1.5169 - categorical_accuracy: 0.4294 - val_loss: 1.6704 - val_categorical_accuracy: 0.4085 - lr: 0.0010\n",
            "Epoch 187/340\n",
            "94/94 [==============================] - 47s 500ms/step - loss: 1.5290 - categorical_accuracy: 0.4177 - val_loss: 1.7264 - val_categorical_accuracy: 0.3380 - lr: 0.0010\n",
            "Epoch 188/340\n",
            "94/94 [==============================] - 47s 499ms/step - loss: 1.5566 - categorical_accuracy: 0.4014 - val_loss: 1.7209 - val_categorical_accuracy: 0.3803 - lr: 0.0010\n",
            "Epoch 189/340\n",
            "94/94 [==============================] - 47s 499ms/step - loss: 1.5132 - categorical_accuracy: 0.4140 - val_loss: 1.7046 - val_categorical_accuracy: 0.3756 - lr: 0.0010\n",
            "Epoch 190/340\n",
            "94/94 [==============================] - 47s 498ms/step - loss: 1.5205 - categorical_accuracy: 0.4103 - val_loss: 1.7699 - val_categorical_accuracy: 0.3099 - lr: 0.0010\n",
            "Epoch 191/340\n",
            "94/94 [==============================] - 47s 499ms/step - loss: 1.5659 - categorical_accuracy: 0.3967 - val_loss: 1.8683 - val_categorical_accuracy: 0.3239 - lr: 0.0010\n",
            "Epoch 192/340\n",
            "94/94 [==============================] - 47s 498ms/step - loss: 1.5608 - categorical_accuracy: 0.4172 - val_loss: 1.7289 - val_categorical_accuracy: 0.3474 - lr: 0.0010\n",
            "Epoch 193/340\n",
            "94/94 [==============================] - 48s 512ms/step - loss: 1.5127 - categorical_accuracy: 0.4154 - val_loss: 1.7086 - val_categorical_accuracy: 0.3521 - lr: 0.0010\n",
            "Epoch 194/340\n",
            "94/94 [==============================] - 47s 499ms/step - loss: 1.4934 - categorical_accuracy: 0.4378 - val_loss: 1.6022 - val_categorical_accuracy: 0.3944 - lr: 0.0010\n",
            "Epoch 195/340\n",
            "94/94 [==============================] - 47s 501ms/step - loss: 1.5101 - categorical_accuracy: 0.4368 - val_loss: 1.6824 - val_categorical_accuracy: 0.3850 - lr: 0.0010\n",
            "Epoch 196/340\n",
            "94/94 [==============================] - 47s 497ms/step - loss: 1.4549 - categorical_accuracy: 0.4448 - val_loss: 1.6678 - val_categorical_accuracy: 0.3474 - lr: 1.0000e-04\n",
            "Epoch 197/340\n",
            "94/94 [==============================] - 47s 498ms/step - loss: 1.4053 - categorical_accuracy: 0.4699 - val_loss: 1.6606 - val_categorical_accuracy: 0.3615 - lr: 1.0000e-04\n",
            "Epoch 198/340\n",
            "94/94 [==============================] - 46s 494ms/step - loss: 1.3857 - categorical_accuracy: 0.4769 - val_loss: 1.6787 - val_categorical_accuracy: 0.3615 - lr: 1.0000e-04\n",
            "Epoch 199/340\n",
            "94/94 [==============================] - 46s 492ms/step - loss: 1.3754 - categorical_accuracy: 0.4848 - val_loss: 1.6897 - val_categorical_accuracy: 0.3662 - lr: 1.0000e-04\n",
            "Epoch 200/340\n",
            "94/94 [==============================] - 46s 491ms/step - loss: 1.3721 - categorical_accuracy: 0.4834 - val_loss: 1.6862 - val_categorical_accuracy: 0.3756 - lr: 1.0000e-04\n",
            "Epoch 201/340\n",
            "94/94 [==============================] - 47s 495ms/step - loss: 1.3602 - categorical_accuracy: 0.4825 - val_loss: 1.6745 - val_categorical_accuracy: 0.3756 - lr: 1.0000e-04\n",
            "Epoch 202/340\n",
            "94/94 [==============================] - 46s 491ms/step - loss: 1.3546 - categorical_accuracy: 0.4839 - val_loss: 1.6740 - val_categorical_accuracy: 0.3756 - lr: 1.0000e-04\n",
            "Epoch 203/340\n",
            "94/94 [==============================] - 46s 491ms/step - loss: 1.3490 - categorical_accuracy: 0.4807 - val_loss: 1.6619 - val_categorical_accuracy: 0.3944 - lr: 1.0000e-04\n",
            "Epoch 204/340\n",
            "94/94 [==============================] - 46s 491ms/step - loss: 1.3387 - categorical_accuracy: 0.4900 - val_loss: 1.6944 - val_categorical_accuracy: 0.3803 - lr: 1.0000e-04\n",
            "Epoch 205/340\n",
            "94/94 [==============================] - 46s 491ms/step - loss: 1.3317 - categorical_accuracy: 0.4909 - val_loss: 1.6913 - val_categorical_accuracy: 0.3991 - lr: 1.0000e-04\n",
            "Epoch 206/340\n",
            "94/94 [==============================] - 47s 496ms/step - loss: 1.3270 - categorical_accuracy: 0.5002 - val_loss: 1.6889 - val_categorical_accuracy: 0.3756 - lr: 1.0000e-04\n",
            "Epoch 207/340\n",
            "94/94 [==============================] - 47s 502ms/step - loss: 1.3176 - categorical_accuracy: 0.4993 - val_loss: 1.6838 - val_categorical_accuracy: 0.3991 - lr: 1.0000e-04\n",
            "Epoch 208/340\n",
            "94/94 [==============================] - 47s 503ms/step - loss: 1.3108 - categorical_accuracy: 0.5049 - val_loss: 1.7065 - val_categorical_accuracy: 0.3756 - lr: 1.0000e-04\n",
            "Epoch 209/340\n",
            "94/94 [==============================] - 47s 503ms/step - loss: 1.3100 - categorical_accuracy: 0.5049 - val_loss: 1.6999 - val_categorical_accuracy: 0.3709 - lr: 1.0000e-04\n",
            "Epoch 210/340\n",
            "94/94 [==============================] - 47s 502ms/step - loss: 1.3039 - categorical_accuracy: 0.5105 - val_loss: 1.7009 - val_categorical_accuracy: 0.3803 - lr: 1.0000e-04\n",
            "Epoch 211/340\n",
            "94/94 [==============================] - 47s 503ms/step - loss: 1.2938 - categorical_accuracy: 0.5128 - val_loss: 1.7009 - val_categorical_accuracy: 0.3944 - lr: 1.0000e-04\n",
            "Epoch 212/340\n",
            "94/94 [==============================] - 47s 504ms/step - loss: 1.2928 - categorical_accuracy: 0.5138 - val_loss: 1.6922 - val_categorical_accuracy: 0.3944 - lr: 1.0000e-04\n",
            "Epoch 213/340\n",
            "94/94 [==============================] - 47s 503ms/step - loss: 1.2859 - categorical_accuracy: 0.5166 - val_loss: 1.7007 - val_categorical_accuracy: 0.3944 - lr: 1.0000e-04\n",
            "Epoch 214/340\n",
            "94/94 [==============================] - 48s 505ms/step - loss: 1.2854 - categorical_accuracy: 0.5179 - val_loss: 1.7055 - val_categorical_accuracy: 0.3803 - lr: 1.0000e-04\n",
            "Epoch 215/340\n",
            "94/94 [==============================] - 47s 502ms/step - loss: 1.2726 - categorical_accuracy: 0.5147 - val_loss: 1.7038 - val_categorical_accuracy: 0.3897 - lr: 1.0000e-04\n",
            "Epoch 216/340\n",
            "94/94 [==============================] - 47s 503ms/step - loss: 1.2730 - categorical_accuracy: 0.5263 - val_loss: 1.7070 - val_categorical_accuracy: 0.3991 - lr: 1.0000e-04\n",
            "Epoch 217/340\n",
            "94/94 [==============================] - 47s 502ms/step - loss: 1.2725 - categorical_accuracy: 0.5203 - val_loss: 1.7016 - val_categorical_accuracy: 0.3991 - lr: 1.0000e-04\n",
            "Epoch 218/340\n",
            "94/94 [==============================] - 47s 502ms/step - loss: 1.2679 - categorical_accuracy: 0.5193 - val_loss: 1.7002 - val_categorical_accuracy: 0.3991 - lr: 1.0000e-04\n",
            "Epoch 219/340\n",
            "94/94 [==============================] - 47s 502ms/step - loss: 1.2774 - categorical_accuracy: 0.5221 - val_loss: 1.7078 - val_categorical_accuracy: 0.4038 - lr: 1.0000e-04\n",
            "Epoch 220/340\n",
            "94/94 [==============================] - 48s 505ms/step - loss: 1.2578 - categorical_accuracy: 0.5259 - val_loss: 1.7275 - val_categorical_accuracy: 0.3850 - lr: 1.0000e-04\n",
            "Epoch 221/340\n",
            "94/94 [==============================] - 47s 503ms/step - loss: 1.2545 - categorical_accuracy: 0.5291 - val_loss: 1.7188 - val_categorical_accuracy: 0.3991 - lr: 1.0000e-04\n",
            "Epoch 222/340\n",
            "94/94 [==============================] - 47s 502ms/step - loss: 1.2515 - categorical_accuracy: 0.5301 - val_loss: 1.7164 - val_categorical_accuracy: 0.4038 - lr: 1.0000e-04\n",
            "Epoch 223/340\n",
            "94/94 [==============================] - 47s 502ms/step - loss: 1.2455 - categorical_accuracy: 0.5315 - val_loss: 1.7252 - val_categorical_accuracy: 0.4085 - lr: 1.0000e-04\n",
            "Epoch 224/340\n",
            "94/94 [==============================] - 47s 504ms/step - loss: 1.2581 - categorical_accuracy: 0.5329 - val_loss: 1.7138 - val_categorical_accuracy: 0.4085 - lr: 1.0000e-04\n",
            "Epoch 225/340\n",
            "94/94 [==============================] - 47s 502ms/step - loss: 1.2597 - categorical_accuracy: 0.5203 - val_loss: 1.7156 - val_categorical_accuracy: 0.4131 - lr: 1.0000e-04\n",
            "Epoch 226/340\n",
            "94/94 [==============================] - 47s 503ms/step - loss: 1.2457 - categorical_accuracy: 0.5333 - val_loss: 1.7358 - val_categorical_accuracy: 0.3897 - lr: 1.0000e-04\n",
            "Epoch 227/340\n",
            "94/94 [==============================] - 48s 510ms/step - loss: 1.2369 - categorical_accuracy: 0.5375 - val_loss: 1.7241 - val_categorical_accuracy: 0.3991 - lr: 1.0000e-04\n",
            "Epoch 228/340\n",
            "94/94 [==============================] - 47s 505ms/step - loss: 1.2322 - categorical_accuracy: 0.5394 - val_loss: 1.7276 - val_categorical_accuracy: 0.4085 - lr: 1.0000e-04\n",
            "Epoch 229/340\n",
            "94/94 [==============================] - 47s 504ms/step - loss: 1.2292 - categorical_accuracy: 0.5347 - val_loss: 1.7287 - val_categorical_accuracy: 0.4131 - lr: 1.0000e-04\n",
            "Epoch 230/340\n",
            "94/94 [==============================] - 47s 502ms/step - loss: 1.2251 - categorical_accuracy: 0.5361 - val_loss: 1.7350 - val_categorical_accuracy: 0.4085 - lr: 1.0000e-04\n",
            "Epoch 231/340\n",
            "94/94 [==============================] - 48s 506ms/step - loss: 1.2289 - categorical_accuracy: 0.5441 - val_loss: 1.7375 - val_categorical_accuracy: 0.4085 - lr: 1.0000e-04\n",
            "Epoch 232/340\n",
            "94/94 [==============================] - 47s 502ms/step - loss: 1.2142 - categorical_accuracy: 0.5422 - val_loss: 1.7399 - val_categorical_accuracy: 0.4038 - lr: 1.0000e-04\n",
            "Epoch 233/340\n",
            "94/94 [==============================] - 47s 503ms/step - loss: 1.2209 - categorical_accuracy: 0.5333 - val_loss: 1.7459 - val_categorical_accuracy: 0.3897 - lr: 1.0000e-04\n",
            "Epoch 234/340\n",
            "94/94 [==============================] - 47s 504ms/step - loss: 1.2189 - categorical_accuracy: 0.5343 - val_loss: 1.7498 - val_categorical_accuracy: 0.3897 - lr: 1.0000e-04\n",
            "Epoch 235/340\n",
            "94/94 [==============================] - 47s 502ms/step - loss: 1.2104 - categorical_accuracy: 0.5431 - val_loss: 1.7359 - val_categorical_accuracy: 0.3803 - lr: 1.0000e-04\n",
            "Epoch 236/340\n",
            "94/94 [==============================] - 47s 502ms/step - loss: 1.2106 - categorical_accuracy: 0.5464 - val_loss: 1.7571 - val_categorical_accuracy: 0.3897 - lr: 1.0000e-04\n",
            "Epoch 237/340\n",
            "94/94 [==============================] - 47s 503ms/step - loss: 1.2128 - categorical_accuracy: 0.5464 - val_loss: 1.7747 - val_categorical_accuracy: 0.3709 - lr: 1.0000e-04\n",
            "Epoch 238/340\n",
            "94/94 [==============================] - 47s 504ms/step - loss: 1.1939 - categorical_accuracy: 0.5548 - val_loss: 1.7516 - val_categorical_accuracy: 0.3991 - lr: 1.0000e-04\n",
            "Epoch 239/340\n",
            "94/94 [==============================] - 47s 504ms/step - loss: 1.1935 - categorical_accuracy: 0.5520 - val_loss: 1.8047 - val_categorical_accuracy: 0.3756 - lr: 1.0000e-04\n",
            "Epoch 240/340\n",
            "94/94 [==============================] - 47s 503ms/step - loss: 1.1917 - categorical_accuracy: 0.5506 - val_loss: 1.7879 - val_categorical_accuracy: 0.3897 - lr: 1.0000e-04\n",
            "Epoch 241/340\n",
            "94/94 [==============================] - 47s 503ms/step - loss: 1.1914 - categorical_accuracy: 0.5469 - val_loss: 1.7683 - val_categorical_accuracy: 0.3850 - lr: 1.0000e-04\n",
            "Epoch 242/340\n",
            "94/94 [==============================] - 47s 504ms/step - loss: 1.1904 - categorical_accuracy: 0.5580 - val_loss: 1.8021 - val_categorical_accuracy: 0.3897 - lr: 1.0000e-04\n",
            "Epoch 243/340\n",
            "94/94 [==============================] - 47s 502ms/step - loss: 1.1995 - categorical_accuracy: 0.5501 - val_loss: 1.7777 - val_categorical_accuracy: 0.3850 - lr: 1.0000e-04\n",
            "Epoch 244/340\n",
            "94/94 [==============================] - 47s 503ms/step - loss: 1.1887 - categorical_accuracy: 0.5566 - val_loss: 1.7949 - val_categorical_accuracy: 0.3897 - lr: 1.0000e-04\n",
            "Epoch 245/340\n",
            "94/94 [==============================] - 47s 502ms/step - loss: 1.1916 - categorical_accuracy: 0.5515 - val_loss: 1.7874 - val_categorical_accuracy: 0.3897 - lr: 1.0000e-04\n",
            "Epoch 246/340\n",
            "94/94 [==============================] - 47s 504ms/step - loss: 1.1952 - categorical_accuracy: 0.5483 - val_loss: 1.7896 - val_categorical_accuracy: 0.3991 - lr: 1.0000e-04\n",
            "Epoch 247/340\n",
            "94/94 [==============================] - 48s 505ms/step - loss: 1.1811 - categorical_accuracy: 0.5562 - val_loss: 1.7656 - val_categorical_accuracy: 0.4178 - lr: 1.0000e-04\n",
            "Epoch 248/340\n",
            "94/94 [==============================] - 47s 502ms/step - loss: 1.1727 - categorical_accuracy: 0.5566 - val_loss: 1.7882 - val_categorical_accuracy: 0.3850 - lr: 1.0000e-04\n",
            "Epoch 249/340\n",
            "94/94 [==============================] - 47s 503ms/step - loss: 1.1817 - categorical_accuracy: 0.5552 - val_loss: 1.7796 - val_categorical_accuracy: 0.3803 - lr: 1.0000e-04\n",
            "Epoch 250/340\n",
            "94/94 [==============================] - 47s 501ms/step - loss: 1.1739 - categorical_accuracy: 0.5636 - val_loss: 1.8047 - val_categorical_accuracy: 0.3568 - lr: 1.0000e-04\n",
            "Epoch 251/340\n",
            "94/94 [==============================] - 47s 503ms/step - loss: 1.1667 - categorical_accuracy: 0.5636 - val_loss: 1.7787 - val_categorical_accuracy: 0.3709 - lr: 1.0000e-04\n",
            "Epoch 252/340\n",
            "94/94 [==============================] - 47s 505ms/step - loss: 1.1696 - categorical_accuracy: 0.5590 - val_loss: 1.7996 - val_categorical_accuracy: 0.3944 - lr: 1.0000e-04\n",
            "Epoch 253/340\n",
            "94/94 [==============================] - 47s 502ms/step - loss: 1.1648 - categorical_accuracy: 0.5678 - val_loss: 1.7996 - val_categorical_accuracy: 0.3944 - lr: 1.0000e-04\n",
            "Epoch 254/340\n",
            "94/94 [==============================] - 47s 505ms/step - loss: 1.1630 - categorical_accuracy: 0.5618 - val_loss: 1.8007 - val_categorical_accuracy: 0.3662 - lr: 1.0000e-04\n",
            "Epoch 255/340\n",
            "94/94 [==============================] - 47s 503ms/step - loss: 1.1564 - categorical_accuracy: 0.5664 - val_loss: 1.7987 - val_categorical_accuracy: 0.3850 - lr: 1.0000e-04\n",
            "Epoch 256/340\n",
            "94/94 [==============================] - 47s 505ms/step - loss: 1.1740 - categorical_accuracy: 0.5576 - val_loss: 1.7989 - val_categorical_accuracy: 0.3756 - lr: 1.0000e-04\n",
            "Epoch 257/340\n",
            "94/94 [==============================] - 47s 504ms/step - loss: 1.1557 - categorical_accuracy: 0.5636 - val_loss: 1.8146 - val_categorical_accuracy: 0.3803 - lr: 1.0000e-04\n",
            "Epoch 258/340\n",
            "94/94 [==============================] - 47s 505ms/step - loss: 1.1650 - categorical_accuracy: 0.5664 - val_loss: 1.7996 - val_categorical_accuracy: 0.3803 - lr: 1.0000e-04\n",
            "Epoch 259/340\n",
            "94/94 [==============================] - 47s 504ms/step - loss: 1.1535 - categorical_accuracy: 0.5688 - val_loss: 1.8017 - val_categorical_accuracy: 0.3709 - lr: 1.0000e-04\n",
            "Epoch 260/340\n",
            "94/94 [==============================] - 47s 505ms/step - loss: 1.1538 - categorical_accuracy: 0.5688 - val_loss: 1.8039 - val_categorical_accuracy: 0.3991 - lr: 1.0000e-04\n",
            "Epoch 261/340\n",
            "94/94 [==============================] - 48s 505ms/step - loss: 1.1561 - categorical_accuracy: 0.5632 - val_loss: 1.8011 - val_categorical_accuracy: 0.3709 - lr: 1.0000e-04\n",
            "Epoch 262/340\n",
            "94/94 [==============================] - 48s 506ms/step - loss: 1.1536 - categorical_accuracy: 0.5566 - val_loss: 1.8442 - val_categorical_accuracy: 0.3756 - lr: 1.0000e-04\n",
            "Epoch 263/340\n",
            "94/94 [==============================] - 47s 503ms/step - loss: 1.1507 - categorical_accuracy: 0.5632 - val_loss: 1.7665 - val_categorical_accuracy: 0.3756 - lr: 1.0000e-04\n",
            "Epoch 264/340\n",
            "94/94 [==============================] - 47s 504ms/step - loss: 1.1436 - categorical_accuracy: 0.5692 - val_loss: 1.8373 - val_categorical_accuracy: 0.3756 - lr: 1.0000e-04\n",
            "Epoch 265/340\n",
            "94/94 [==============================] - 47s 504ms/step - loss: 1.1401 - categorical_accuracy: 0.5678 - val_loss: 1.8073 - val_categorical_accuracy: 0.4131 - lr: 1.0000e-04\n",
            "Epoch 266/340\n",
            "94/94 [==============================] - 47s 502ms/step - loss: 1.1404 - categorical_accuracy: 0.5692 - val_loss: 1.8251 - val_categorical_accuracy: 0.3803 - lr: 1.0000e-04\n",
            "Epoch 267/340\n",
            "94/94 [==============================] - 47s 504ms/step - loss: 1.1386 - categorical_accuracy: 0.5697 - val_loss: 1.8292 - val_categorical_accuracy: 0.3709 - lr: 1.0000e-04\n",
            "Epoch 268/340\n",
            "94/94 [==============================] - 47s 504ms/step - loss: 1.1345 - categorical_accuracy: 0.5744 - val_loss: 1.8213 - val_categorical_accuracy: 0.3991 - lr: 1.0000e-04\n",
            "Epoch 269/340\n",
            "94/94 [==============================] - 47s 503ms/step - loss: 1.1332 - categorical_accuracy: 0.5692 - val_loss: 1.8270 - val_categorical_accuracy: 0.3756 - lr: 1.0000e-04\n",
            "Epoch 270/340\n",
            "94/94 [==============================] - 47s 505ms/step - loss: 1.1343 - categorical_accuracy: 0.5706 - val_loss: 1.8326 - val_categorical_accuracy: 0.3709 - lr: 1.0000e-04\n",
            "Epoch 271/340\n",
            "94/94 [==============================] - 48s 506ms/step - loss: 1.1434 - categorical_accuracy: 0.5697 - val_loss: 1.8348 - val_categorical_accuracy: 0.3944 - lr: 1.0000e-04\n",
            "Epoch 272/340\n",
            "94/94 [==============================] - 47s 504ms/step - loss: 1.1412 - categorical_accuracy: 0.5683 - val_loss: 1.8146 - val_categorical_accuracy: 0.3944 - lr: 1.0000e-04\n",
            "Epoch 273/340\n",
            "94/94 [==============================] - 47s 505ms/step - loss: 1.1240 - categorical_accuracy: 0.5711 - val_loss: 1.8392 - val_categorical_accuracy: 0.3803 - lr: 1.0000e-04\n",
            "Epoch 274/340\n",
            "94/94 [==============================] - 47s 505ms/step - loss: 1.1245 - categorical_accuracy: 0.5781 - val_loss: 1.8106 - val_categorical_accuracy: 0.3944 - lr: 1.0000e-04\n",
            "Epoch 275/340\n",
            "94/94 [==============================] - 47s 505ms/step - loss: 1.1211 - categorical_accuracy: 0.5865 - val_loss: 1.8169 - val_categorical_accuracy: 0.3897 - lr: 1.0000e-04\n",
            "Epoch 276/340\n",
            "94/94 [==============================] - 47s 504ms/step - loss: 1.1201 - categorical_accuracy: 0.5744 - val_loss: 1.8285 - val_categorical_accuracy: 0.3615 - lr: 1.0000e-04\n",
            "Epoch 277/340\n",
            "94/94 [==============================] - 48s 506ms/step - loss: 1.1200 - categorical_accuracy: 0.5744 - val_loss: 1.8363 - val_categorical_accuracy: 0.3756 - lr: 1.0000e-04\n",
            "Epoch 278/340\n",
            "94/94 [==============================] - 47s 504ms/step - loss: 1.1160 - categorical_accuracy: 0.5753 - val_loss: 1.8353 - val_categorical_accuracy: 0.3709 - lr: 1.0000e-04\n",
            "Epoch 279/340\n",
            "94/94 [==============================] - 47s 505ms/step - loss: 1.1095 - categorical_accuracy: 0.5762 - val_loss: 1.8063 - val_categorical_accuracy: 0.3991 - lr: 1.0000e-04\n",
            "Epoch 280/340\n",
            "94/94 [==============================] - 48s 506ms/step - loss: 1.1069 - categorical_accuracy: 0.5786 - val_loss: 1.8314 - val_categorical_accuracy: 0.3991 - lr: 1.0000e-04\n",
            "Epoch 281/340\n",
            "94/94 [==============================] - 47s 504ms/step - loss: 1.1184 - categorical_accuracy: 0.5790 - val_loss: 1.8250 - val_categorical_accuracy: 0.3756 - lr: 1.0000e-04\n",
            "Epoch 282/340\n",
            "94/94 [==============================] - 47s 503ms/step - loss: 1.1199 - categorical_accuracy: 0.5744 - val_loss: 1.8507 - val_categorical_accuracy: 0.3850 - lr: 1.0000e-04\n",
            "Epoch 283/340\n",
            "94/94 [==============================] - 48s 506ms/step - loss: 1.1254 - categorical_accuracy: 0.5800 - val_loss: 1.8590 - val_categorical_accuracy: 0.3662 - lr: 1.0000e-04\n",
            "Epoch 284/340\n",
            "94/94 [==============================] - 47s 505ms/step - loss: 1.1158 - categorical_accuracy: 0.5818 - val_loss: 1.8429 - val_categorical_accuracy: 0.3803 - lr: 1.0000e-04\n",
            "Epoch 285/340\n",
            "94/94 [==============================] - 48s 507ms/step - loss: 1.0995 - categorical_accuracy: 0.5818 - val_loss: 1.8611 - val_categorical_accuracy: 0.3756 - lr: 1.0000e-04\n",
            "Epoch 286/340\n",
            "94/94 [==============================] - 47s 505ms/step - loss: 1.1078 - categorical_accuracy: 0.5846 - val_loss: 1.8452 - val_categorical_accuracy: 0.3568 - lr: 1.0000e-04\n",
            "Epoch 287/340\n",
            "94/94 [==============================] - 48s 507ms/step - loss: 1.0973 - categorical_accuracy: 0.5851 - val_loss: 1.8441 - val_categorical_accuracy: 0.3897 - lr: 1.0000e-04\n",
            "Epoch 288/340\n",
            "94/94 [==============================] - 47s 504ms/step - loss: 1.0949 - categorical_accuracy: 0.5846 - val_loss: 1.8680 - val_categorical_accuracy: 0.3756 - lr: 1.0000e-04\n",
            "Epoch 289/340\n",
            "94/94 [==============================] - 47s 505ms/step - loss: 1.0918 - categorical_accuracy: 0.5879 - val_loss: 1.9040 - val_categorical_accuracy: 0.3521 - lr: 1.0000e-04\n",
            "Epoch 290/340\n",
            "94/94 [==============================] - 48s 508ms/step - loss: 1.1081 - categorical_accuracy: 0.5897 - val_loss: 1.8449 - val_categorical_accuracy: 0.3803 - lr: 1.0000e-04\n",
            "Epoch 291/340\n",
            "94/94 [==============================] - 47s 505ms/step - loss: 1.0889 - categorical_accuracy: 0.5883 - val_loss: 1.8710 - val_categorical_accuracy: 0.3709 - lr: 1.0000e-04\n",
            "Epoch 292/340\n",
            "94/94 [==============================] - 48s 507ms/step - loss: 1.1031 - categorical_accuracy: 0.5823 - val_loss: 1.8664 - val_categorical_accuracy: 0.3709 - lr: 1.0000e-04\n",
            "Epoch 293/340\n",
            "94/94 [==============================] - 48s 511ms/step - loss: 1.0927 - categorical_accuracy: 0.5818 - val_loss: 1.8831 - val_categorical_accuracy: 0.3944 - lr: 1.0000e-04\n",
            "Epoch 294/340\n",
            "94/94 [==============================] - 48s 507ms/step - loss: 1.0952 - categorical_accuracy: 0.5874 - val_loss: 1.8614 - val_categorical_accuracy: 0.3850 - lr: 1.0000e-04\n",
            "Epoch 295/340\n",
            "94/94 [==============================] - 47s 505ms/step - loss: 1.0998 - categorical_accuracy: 0.5846 - val_loss: 1.8588 - val_categorical_accuracy: 0.3756 - lr: 1.0000e-04\n",
            "Epoch 296/340\n",
            "94/94 [==============================] - 48s 508ms/step - loss: 1.0806 - categorical_accuracy: 0.5935 - val_loss: 1.8762 - val_categorical_accuracy: 0.3709 - lr: 1.0000e-04\n",
            "Epoch 297/340\n",
            "94/94 [==============================] - 48s 507ms/step - loss: 1.0956 - categorical_accuracy: 0.5804 - val_loss: 1.9053 - val_categorical_accuracy: 0.3709 - lr: 1.0000e-04\n",
            "Epoch 298/340\n",
            "94/94 [==============================] - 48s 508ms/step - loss: 1.0963 - categorical_accuracy: 0.5855 - val_loss: 1.8920 - val_categorical_accuracy: 0.3709 - lr: 1.0000e-04\n",
            "Epoch 299/340\n",
            "94/94 [==============================] - 48s 507ms/step - loss: 1.0997 - categorical_accuracy: 0.5855 - val_loss: 1.8579 - val_categorical_accuracy: 0.3662 - lr: 1.0000e-04\n",
            "Epoch 300/340\n",
            "94/94 [==============================] - 48s 509ms/step - loss: 1.0914 - categorical_accuracy: 0.5860 - val_loss: 1.8703 - val_categorical_accuracy: 0.3615 - lr: 1.0000e-04\n",
            "Epoch 301/340\n",
            "94/94 [==============================] - 48s 506ms/step - loss: 1.0718 - categorical_accuracy: 0.5953 - val_loss: 1.9054 - val_categorical_accuracy: 0.3521 - lr: 1.0000e-04\n",
            "Epoch 302/340\n",
            "94/94 [==============================] - 48s 508ms/step - loss: 1.0887 - categorical_accuracy: 0.5869 - val_loss: 1.8490 - val_categorical_accuracy: 0.3662 - lr: 1.0000e-04\n",
            "Epoch 303/340\n",
            "94/94 [==============================] - 48s 508ms/step - loss: 1.0772 - categorical_accuracy: 0.5967 - val_loss: 1.8902 - val_categorical_accuracy: 0.3615 - lr: 1.0000e-04\n",
            "Epoch 304/340\n",
            "94/94 [==============================] - 48s 506ms/step - loss: 1.0746 - categorical_accuracy: 0.5902 - val_loss: 1.9059 - val_categorical_accuracy: 0.3662 - lr: 1.0000e-04\n",
            "Epoch 305/340\n",
            "94/94 [==============================] - 48s 507ms/step - loss: 1.0767 - categorical_accuracy: 0.5967 - val_loss: 1.9247 - val_categorical_accuracy: 0.3474 - lr: 1.0000e-04\n",
            "Epoch 306/340\n",
            "94/94 [==============================] - 47s 505ms/step - loss: 1.0760 - categorical_accuracy: 0.5958 - val_loss: 1.8797 - val_categorical_accuracy: 0.3991 - lr: 1.0000e-04\n",
            "Epoch 307/340\n",
            "94/94 [==============================] - 48s 506ms/step - loss: 1.0726 - categorical_accuracy: 0.5958 - val_loss: 1.8720 - val_categorical_accuracy: 0.3568 - lr: 1.0000e-04\n",
            "Epoch 308/340\n",
            "94/94 [==============================] - 48s 507ms/step - loss: 1.0805 - categorical_accuracy: 0.5925 - val_loss: 1.9230 - val_categorical_accuracy: 0.3568 - lr: 1.0000e-04\n",
            "Epoch 309/340\n",
            "94/94 [==============================] - 48s 507ms/step - loss: 1.0853 - categorical_accuracy: 0.5930 - val_loss: 1.8997 - val_categorical_accuracy: 0.3709 - lr: 1.0000e-04\n",
            "Epoch 310/340\n",
            "94/94 [==============================] - 47s 505ms/step - loss: 1.0744 - categorical_accuracy: 0.6000 - val_loss: 1.8987 - val_categorical_accuracy: 0.3709 - lr: 1.0000e-04\n",
            "Epoch 311/340\n",
            "94/94 [==============================] - 48s 505ms/step - loss: 1.0619 - categorical_accuracy: 0.5986 - val_loss: 1.8637 - val_categorical_accuracy: 0.3756 - lr: 1.0000e-04\n",
            "Epoch 312/340\n",
            "94/94 [==============================] - 48s 507ms/step - loss: 1.0740 - categorical_accuracy: 0.5953 - val_loss: 1.8884 - val_categorical_accuracy: 0.3803 - lr: 1.0000e-04\n",
            "Epoch 313/340\n",
            "94/94 [==============================] - 48s 506ms/step - loss: 1.0712 - categorical_accuracy: 0.5869 - val_loss: 1.8707 - val_categorical_accuracy: 0.3897 - lr: 1.0000e-04\n",
            "Epoch 314/340\n",
            "94/94 [==============================] - 48s 510ms/step - loss: 1.0603 - categorical_accuracy: 0.6042 - val_loss: 1.8429 - val_categorical_accuracy: 0.3803 - lr: 1.0000e-04\n",
            "Epoch 315/340\n",
            "94/94 [==============================] - 48s 510ms/step - loss: 1.0737 - categorical_accuracy: 0.5902 - val_loss: 1.8377 - val_categorical_accuracy: 0.3991 - lr: 1.0000e-04\n",
            "Epoch 316/340\n",
            "94/94 [==============================] - 48s 507ms/step - loss: 1.0625 - categorical_accuracy: 0.5939 - val_loss: 1.8471 - val_categorical_accuracy: 0.3803 - lr: 1.0000e-04\n",
            "Epoch 317/340\n",
            "94/94 [==============================] - 48s 508ms/step - loss: 1.0613 - categorical_accuracy: 0.5953 - val_loss: 1.8726 - val_categorical_accuracy: 0.3897 - lr: 1.0000e-04\n",
            "Epoch 318/340\n",
            "94/94 [==============================] - 48s 507ms/step - loss: 1.0662 - categorical_accuracy: 0.5972 - val_loss: 1.8880 - val_categorical_accuracy: 0.3756 - lr: 1.0000e-04\n",
            "Epoch 319/340\n",
            "94/94 [==============================] - 48s 506ms/step - loss: 1.0766 - categorical_accuracy: 0.5972 - val_loss: 1.9553 - val_categorical_accuracy: 0.3427 - lr: 1.0000e-04\n",
            "Epoch 320/340\n",
            "94/94 [==============================] - 48s 507ms/step - loss: 1.0773 - categorical_accuracy: 0.5953 - val_loss: 1.9184 - val_categorical_accuracy: 0.3803 - lr: 1.0000e-04\n",
            "Epoch 321/340\n",
            "94/94 [==============================] - 48s 508ms/step - loss: 1.0754 - categorical_accuracy: 0.5944 - val_loss: 1.9250 - val_categorical_accuracy: 0.3662 - lr: 1.0000e-04\n",
            "Epoch 322/340\n",
            "94/94 [==============================] - 48s 507ms/step - loss: 1.0940 - categorical_accuracy: 0.5921 - val_loss: 1.9019 - val_categorical_accuracy: 0.3568 - lr: 1.0000e-04\n",
            "Epoch 323/340\n",
            "94/94 [==============================] - 48s 509ms/step - loss: 1.0585 - categorical_accuracy: 0.6028 - val_loss: 1.9494 - val_categorical_accuracy: 0.3521 - lr: 1.0000e-04\n",
            "Epoch 324/340\n",
            "94/94 [==============================] - 48s 509ms/step - loss: 1.0482 - categorical_accuracy: 0.6056 - val_loss: 1.9115 - val_categorical_accuracy: 0.3662 - lr: 1.0000e-04\n",
            "Epoch 325/340\n",
            "94/94 [==============================] - 48s 509ms/step - loss: 1.0597 - categorical_accuracy: 0.6033 - val_loss: 1.8851 - val_categorical_accuracy: 0.3615 - lr: 1.0000e-04\n",
            "Epoch 326/340\n",
            "94/94 [==============================] - 48s 515ms/step - loss: 1.0588 - categorical_accuracy: 0.5939 - val_loss: 1.9601 - val_categorical_accuracy: 0.3427 - lr: 1.0000e-04\n",
            "Epoch 327/340\n",
            "94/94 [==============================] - 48s 511ms/step - loss: 1.0490 - categorical_accuracy: 0.6056 - val_loss: 1.9192 - val_categorical_accuracy: 0.3709 - lr: 1.0000e-04\n",
            "Epoch 328/340\n",
            "94/94 [==============================] - 49s 516ms/step - loss: 1.0647 - categorical_accuracy: 0.5944 - val_loss: 1.8943 - val_categorical_accuracy: 0.3756 - lr: 1.0000e-04\n",
            "Epoch 329/340\n",
            "94/94 [==============================] - 48s 512ms/step - loss: 1.0499 - categorical_accuracy: 0.6051 - val_loss: 1.9226 - val_categorical_accuracy: 0.3709 - lr: 1.0000e-04\n",
            "Epoch 330/340\n",
            "94/94 [==============================] - 48s 509ms/step - loss: 1.0479 - categorical_accuracy: 0.6061 - val_loss: 1.9170 - val_categorical_accuracy: 0.3615 - lr: 1.0000e-04\n",
            "Epoch 331/340\n",
            "94/94 [==============================] - 48s 511ms/step - loss: 1.0714 - categorical_accuracy: 0.5981 - val_loss: 1.9044 - val_categorical_accuracy: 0.3662 - lr: 1.0000e-04\n",
            "Epoch 332/340\n",
            "94/94 [==============================] - 48s 511ms/step - loss: 1.0549 - categorical_accuracy: 0.6061 - val_loss: 1.8964 - val_categorical_accuracy: 0.3803 - lr: 1.0000e-04\n",
            "Epoch 333/340\n",
            "94/94 [==============================] - 48s 512ms/step - loss: 1.0660 - categorical_accuracy: 0.5930 - val_loss: 1.8998 - val_categorical_accuracy: 0.3850 - lr: 1.0000e-04\n",
            "Epoch 334/340\n",
            "94/94 [==============================] - 48s 512ms/step - loss: 1.0886 - categorical_accuracy: 0.5897 - val_loss: 1.9307 - val_categorical_accuracy: 0.3615 - lr: 1.0000e-04\n",
            "Epoch 335/340\n",
            "94/94 [==============================] - 48s 510ms/step - loss: 1.0773 - categorical_accuracy: 0.5911 - val_loss: 1.9075 - val_categorical_accuracy: 0.3662 - lr: 1.0000e-04\n",
            "Epoch 336/340\n",
            "94/94 [==============================] - 48s 508ms/step - loss: 1.0425 - categorical_accuracy: 0.6023 - val_loss: 1.9088 - val_categorical_accuracy: 0.3521 - lr: 1.0000e-04\n",
            "Epoch 337/340\n",
            "94/94 [==============================] - 48s 513ms/step - loss: 1.0559 - categorical_accuracy: 0.6023 - val_loss: 1.9171 - val_categorical_accuracy: 0.3521 - lr: 1.0000e-04\n",
            "Epoch 338/340\n",
            "94/94 [==============================] - 48s 511ms/step - loss: 1.0477 - categorical_accuracy: 0.6075 - val_loss: 1.8773 - val_categorical_accuracy: 0.3662 - lr: 1.0000e-04\n",
            "Epoch 339/340\n",
            "94/94 [==============================] - 48s 508ms/step - loss: 1.0535 - categorical_accuracy: 0.6121 - val_loss: 1.9024 - val_categorical_accuracy: 0.3568 - lr: 1.0000e-04\n",
            "Epoch 340/340\n",
            "94/94 [==============================] - 48s 515ms/step - loss: 1.1115 - categorical_accuracy: 0.5902 - val_loss: 1.9444 - val_categorical_accuracy: 0.3662 - lr: 1.0000e-04\n"
          ]
        }
      ]
    },
    {
      "cell_type": "markdown",
      "source": [
        "## Loading Model"
      ],
      "metadata": {
        "id": "jCQelzMAKixD"
      }
    },
    {
      "cell_type": "code",
      "source": [
        "  \n",
        "#history = model.fit(x_t, y_t, epochs = 30, verbose=2, batch_size=BATCH_SIZE,\n",
        "#                    shuffle=False, validation_data=(trim_dataset(x_val, BATCH_SIZE),\n",
        "#                    trim_dataset(y_val, BATCH_SIZE)), callbacks=[es])\n"
      ],
      "metadata": {
        "id": "erIsXerMVIW_"
      },
      "execution_count": 13,
      "outputs": []
    },
    {
      "cell_type": "code",
      "source": [
        "model.load_weights(checkpoint_path)"
      ],
      "metadata": {
        "id": "gruZAW2wI-tO"
      },
      "execution_count": 14,
      "outputs": []
    },
    {
      "cell_type": "markdown",
      "source": [
        "# Evaluation"
      ],
      "metadata": {
        "id": "kDxTjEK0KixD"
      }
    },
    {
      "cell_type": "code",
      "source": [
        "#test_loss, test_acc = model.evaluate(x_test, y_test, verbose=0)\n",
        "#print(\"Test Accuracy: \",test_acc)"
      ],
      "metadata": {
        "execution": {
          "iopub.status.busy": "2021-06-21T09:33:27.621504Z",
          "iopub.execute_input": "2021-06-21T09:33:27.621863Z",
          "iopub.status.idle": "2021-06-21T09:33:27.859011Z",
          "shell.execute_reply.started": "2021-06-21T09:33:27.621832Z",
          "shell.execute_reply": "2021-06-21T09:33:27.858061Z"
        },
        "trusted": true,
        "id": "Et8vhdw_KixE"
      },
      "execution_count": 15,
      "outputs": []
    },
    {
      "cell_type": "code",
      "source": [
        "model.save('Speech-Emotion-Recognition-Model-RNN-1.h5')"
      ],
      "metadata": {
        "trusted": true,
        "id": "Z5Uzb_bGKixE"
      },
      "execution_count": 16,
      "outputs": []
    },
    {
      "cell_type": "code",
      "source": [
        "from sklearn.metrics import confusion_matrix\n",
        "import seaborn as sns\n",
        "import matplotlib.pyplot as plt "
      ],
      "metadata": {
        "id": "iUFGK0YJfz6K"
      },
      "execution_count": 17,
      "outputs": []
    },
    {
      "cell_type": "markdown",
      "source": [
        "## Train (fit) Visualization"
      ],
      "metadata": {
        "id": "ATvBW0SPO-eq"
      }
    },
    {
      "cell_type": "code",
      "source": [
        "# Loss, Accuracy presentation\n",
        "\n",
        "# Plot history: Loss\n",
        "plt.plot(history.history['loss'], label='Loss (training data)')\n",
        "plt.plot(history.history['val_loss'], label='Loss (validation data)')\n",
        "plt.title('Loss for train and validation')\n",
        "plt.ylabel('Loss value')\n",
        "plt.xlabel('No. epoch')\n",
        "plt.legend(loc=\"upper left\")\n",
        "plt.show()\n",
        "\n",
        "#Plot history: Accuracy\n",
        "plt.plot(history.history['categorical_accuracy'], label='Acc (training data)')\n",
        "plt.plot(history.history['val_categorical_accuracy'], label='Acc (validation data)')\n",
        "plt.title('Model accuracy')\n",
        "plt.ylabel('Acc %')\n",
        "plt.xlabel('No. epoch')\n",
        "plt.legend(loc=\"upper left\")\n",
        "plt.show()"
      ],
      "metadata": {
        "colab": {
          "base_uri": "https://localhost:8080/",
          "height": 573
        },
        "id": "UjhUHhU_f4EY",
        "outputId": "f3aabb63-4f53-40fa-d1cc-9753ff351c20"
      },
      "execution_count": 18,
      "outputs": [
        {
          "output_type": "display_data",
          "data": {
            "text/plain": [
              "<Figure size 432x288 with 1 Axes>"
            ],
            "image/png": "[encoded data removed]"
          },
          "metadata": {
            "needs_background": "light"
          }
        },
        {
          "output_type": "display_data",
          "data": {
            "text/plain": [
              "<Figure size 432x288 with 1 Axes>"
            ],
            "image/png": "[encoded data removed]"
          },
          "metadata": {
            "needs_background": "light"
          }
        }
      ]
    },
    {
      "cell_type": "markdown",
      "source": [
        "## Validation Set Evaluation"
      ],
      "metadata": {
        "id": "UZ3lFduxPQeB"
      }
    },
    {
      "cell_type": "markdown",
      "source": [
        "### Val Set Score"
      ],
      "metadata": {
        "id": "5YoYCa22PMGz"
      }
    },
    {
      "cell_type": "code",
      "source": [
        "# Validation score\n",
        "#loss,acc = model.evaluate(x_val, y_val_class, verbose=2)\n"
      ],
      "metadata": {
        "id": "X_KdTUyrf7-j"
      },
      "execution_count": 35,
      "outputs": []
    },
    {
      "cell_type": "markdown",
      "source": [
        "### Val Set Confussion Matrix"
      ],
      "metadata": {
        "id": "d2ullxf9PUMd"
      }
    },
    {
      "cell_type": "code",
      "source": [
        "# Validation Confusion matrix\n",
        "\n",
        "y_val_class = np.argmax(y_val_class, axis=1)\n",
        "predictions = model.predict(x_val)\n",
        "y_pred_class = np.argmax(predictions, axis=1)\n",
        "\n",
        "cm=confusion_matrix(y_val_class, y_pred_class)\n",
        "\n",
        "index = ['neutral', 'calm', 'happy', 'sad', 'angry', 'fearful', 'disgust', 'surprised']  \n",
        "columns = ['neutral', 'calm', 'happy', 'sad', 'angry', 'fearful', 'disgust', 'surprised']  \n",
        " \n",
        "cm_df = pd.DataFrame(cm,index,columns)                      \n",
        "plt.figure(figsize=(12,8))\n",
        "ax = plt.axes()\n",
        "\n",
        "sns.heatmap(cm_df, ax = ax, cmap = 'PuBu', fmt=\"d\", annot=True)\n",
        "ax.set_ylabel('True emotion')\n",
        "ax.set_xlabel('Predicted emotion')"
      ],
      "metadata": {
        "colab": {
          "base_uri": "https://localhost:8080/",
          "height": 515
        },
        "id": "doLcg3CTf9bx",
        "outputId": "b1938bfc-8eb4-43d3-9a88-ee572993db60"
      },
      "execution_count": 20,
      "outputs": [
        {
          "output_type": "execute_result",
          "data": {
            "text/plain": [
              "Text(0.5, 51.0, 'Predicted emotion')"
            ]
          },
          "metadata": {},
          "execution_count": 20
        },
        {
          "output_type": "display_data",
          "data": {
            "text/plain": [
              "<Figure size 864x576 with 2 Axes>"
            ],
            "image/png": "[encoded data removed]"
          },
          "metadata": {
            "needs_background": "light"
          }
        }
      ]
    },
    {
      "cell_type": "markdown",
      "source": [
        "### Validation Set Predicted emotions accuracy"
      ],
      "metadata": {
        "id": "kWjKgUdRPYH5"
      }
    },
    {
      "cell_type": "code",
      "source": [
        "# Validation set prediction accuracy rates\n",
        "\n",
        "values = cm.diagonal()\n",
        "row_sum = np.sum(cm,axis=1)\n",
        "acc = values / row_sum\n",
        "\n",
        "print('Validation set predicted emotions accuracy:')\n",
        "for e in range(0, len(values)):\n",
        "    print(index[e],':', f\"{(acc[e]):0.4f}\")"
      ],
      "metadata": {
        "colab": {
          "base_uri": "https://localhost:8080/"
        },
        "id": "MopdywY9f-mS",
        "outputId": "805eead7-52c5-4287-9b5c-24f8ca193d98"
      },
      "execution_count": 21,
      "outputs": [
        {
          "output_type": "stream",
          "name": "stdout",
          "text": [
            "Validation set predicted emotions accuracy:\n",
            "neutral : 0.3571\n",
            "calm : 0.6842\n",
            "happy : 0.4722\n",
            "sad : 0.3438\n",
            "angry : 0.5294\n",
            "fearful : 0.1724\n",
            "disgust : 0.1875\n",
            "surprised : 0.2857\n"
          ]
        }
      ]
    },
    {
      "cell_type": "code",
      "source": [
        "# Validation set precision, recall, fscore\n",
        "\n",
        "precision_recall_fscore_support(y_val_class, y_pred_class, average='macro')\n",
        "precision_recall_fscore_support(y_val_class, y_pred_class, average='weighted')"
      ],
      "metadata": {
        "colab": {
          "base_uri": "https://localhost:8080/"
        },
        "id": "rOwUkCG0gGpm",
        "outputId": "5250d9ce-648b-486f-ace6-7e0846abc6d8"
      },
      "execution_count": 23,
      "outputs": [
        {
          "output_type": "execute_result",
          "data": {
            "text/plain": [
              "(0.4088698859825621, 0.41784037558685444, 0.4113738579495101, None)"
            ]
          },
          "metadata": {},
          "execution_count": 23
        }
      ]
    },
    {
      "cell_type": "markdown",
      "source": [
        "## Save & Load model, weights"
      ],
      "metadata": {
        "id": "1YfguG0tPatV"
      }
    },
    {
      "cell_type": "code",
      "source": [
        "# Saving model & weights\n",
        "\n",
        "from keras.models import model_from_json\n",
        "from keras.models import load_model\n",
        "model_path = Ravdess + \"/model/\"\n",
        "model_json = model.to_json()\n",
        "saved_model_path = model_path + 'model8723-2.json'\n",
        "saved_weights_path = model_path + 'model8723_weights-2.h5'\n",
        "\n",
        "\n",
        "with open(saved_model_path, \"w\") as json_file:\n",
        "    json_file.write(model_json)\n",
        "    \n",
        "model.save_weights(saved_weights_path)\n",
        "print(\"Saved model to disk\")"
      ],
      "metadata": {
        "colab": {
          "base_uri": "https://localhost:8080/"
        },
        "id": "MsVoNhqmgGsK",
        "outputId": "3e1f4688-ac31-48d9-e1f5-b1c531d96956"
      },
      "execution_count": 24,
      "outputs": [
        {
          "output_type": "stream",
          "name": "stdout",
          "text": [
            "Saved model to disk\n"
          ]
        }
      ]
    },
    {
      "cell_type": "code",
      "source": [
        "# Reading the model from JSON file\n",
        "#model_path = Ravdess + \"/model/\"\n",
        "#saved_model_path = model_path + 'model8723.json'\n",
        "#saved_weights_path = model_path + 'model8723_weights.h5'\n",
        "\n",
        "\n",
        "with open(saved_model_path , 'r') as json_file:\n",
        "    json_savedModel = json_file.read()\n",
        "    \n",
        "# Loading the model architecture, weights\n",
        "model = tf.keras.models.model_from_json(json_savedModel)\n",
        "model.load_weights(saved_weights_path)\n",
        "\n",
        "# Compiling the model with similar parameters as the original model.\n",
        "model.compile(loss='categorical_crossentropy', \n",
        "                optimizer='RMSProp', \n",
        "                metrics=['categorical_accuracy'])\n",
        "\n",
        "# Model's structure visualization\n",
        "tf.keras.utils.plot_model(model, to_file='model.png', show_shapes=True, show_layer_names=True)"
      ],
      "metadata": {
        "colab": {
          "base_uri": "https://localhost:8080/",
          "height": 422
        },
        "id": "y4OJGhLmgfX6",
        "outputId": "c79ea5f1-9a29-4b14-aae9-9b21d5fb1302"
      },
      "execution_count": 25,
      "outputs": [
        {
          "output_type": "execute_result",
          "data": {
            "text/plain": [
              "<IPython.core.display.Image object>"
            ],
            "image/png": "[encoded data removed]"
          },
          "metadata": {},
          "execution_count": 25
        }
      ]
    },
    {
      "cell_type": "code",
      "source": [
        "# Loading x_test, y_test json files, and converting to np.arrays\n",
        "\n",
        "x_test = load(processed_path + 'x_test_data.json')\n",
        "x_test = np.asarray(x_test).astype('float32')\n",
        "\n",
        "y_test = load( processed_path + 'y_test_data.json')\n",
        "y_test = np.asarray(y_test).astype('int8')\n",
        "\n",
        "y_test_class = tf.keras.utils.to_categorical(y_test, 8, dtype = 'int8')"
      ],
      "metadata": {
        "id": "B_SW6eUAgvEj"
      },
      "execution_count": 26,
      "outputs": []
    },
    {
      "cell_type": "code",
      "source": [
        ""
      ],
      "metadata": {
        "id": "cCfkUXTYgzSB"
      },
      "execution_count": 26,
      "outputs": []
    },
    {
      "cell_type": "markdown",
      "source": [
        "## Test Set Evaluation"
      ],
      "metadata": {
        "id": "FiCwOjmPPgCn"
      }
    },
    {
      "cell_type": "markdown",
      "source": [
        "### Test Set Score\n",
        "\n"
      ],
      "metadata": {
        "id": "CWB7U5xDUSmF"
      }
    },
    {
      "cell_type": "code",
      "source": [
        "#loss, acc = model.evaluate(x_test, y_test_class, verbose=2)"
      ],
      "metadata": {
        "id": "Y7NEHPM-gzml"
      },
      "execution_count": 27,
      "outputs": []
    },
    {
      "cell_type": "markdown",
      "source": [
        "### Test Set Confussion Matrix"
      ],
      "metadata": {
        "id": "Epp2QpxsUVXH"
      }
    },
    {
      "cell_type": "code",
      "source": [
        "# Test set Confusion matrix\n",
        "\n",
        "y_test_class = np.argmax(y_test_class, axis=1)\n",
        "predictions = model.predict(x_test)\n",
        "y_pred_class = np.argmax(predictions, axis=1)\n",
        "\n",
        "cm=confusion_matrix(y_test_class, y_pred_class)\n",
        "\n",
        "index = ['neutral', 'calm', 'happy', 'sad', 'angry', 'fearful', 'disgust', 'surprised']  \n",
        "columns = ['neutral', 'calm', 'happy', 'sad', 'angry', 'fearful', 'disgust', 'surprised']  \n",
        " \n",
        "cm_df = pd.DataFrame(cm,index,columns)                      \n",
        "plt.figure(figsize=(12,8))\n",
        "ax = plt.axes()\n",
        "\n",
        "sns.heatmap(cm_df, ax = ax, cmap = 'BuGn', fmt=\"d\", annot=True)\n",
        "ax.set_ylabel('True emotion')\n",
        "ax.set_xlabel('Predicted emotion')"
      ],
      "metadata": {
        "colab": {
          "base_uri": "https://localhost:8080/",
          "height": 515
        },
        "id": "ukGrk_cagzyb",
        "outputId": "a4bf9b06-453f-418b-f97b-aad316fc24ed"
      },
      "execution_count": 28,
      "outputs": [
        {
          "output_type": "execute_result",
          "data": {
            "text/plain": [
              "Text(0.5, 51.0, 'Predicted emotion')"
            ]
          },
          "metadata": {},
          "execution_count": 28
        },
        {
          "output_type": "display_data",
          "data": {
            "text/plain": [
              "<Figure size 864x576 with 2 Axes>"
            ],
            "image/png": "[encoded data removed]"
          },
          "metadata": {
            "needs_background": "light"
          }
        }
      ]
    },
    {
      "cell_type": "markdown",
      "source": [
        "### Test Set Predicted emotions accuracy"
      ],
      "metadata": {
        "id": "zil3CkweUX0q"
      }
    },
    {
      "cell_type": "code",
      "source": [
        "# Test set prediction accuracy rates\n",
        "\n",
        "values = cm.diagonal()\n",
        "row_sum = np.sum(cm,axis=1)\n",
        "acc = values / row_sum\n",
        "\n",
        "print('Test set predicted emotions accuracy:')\n",
        "for e in range(0, len(values)):\n",
        "    print(index[e],':', f\"{(acc[e]):0.4f}\")"
      ],
      "metadata": {
        "colab": {
          "base_uri": "https://localhost:8080/"
        },
        "id": "t_ORyGGig090",
        "outputId": "bab7b32b-9fb4-45a7-b4ec-6a689d3430a8"
      },
      "execution_count": 29,
      "outputs": [
        {
          "output_type": "stream",
          "name": "stdout",
          "text": [
            "Test set predicted emotions accuracy:\n",
            "neutral : 0.0000\n",
            "calm : 0.7778\n",
            "happy : 0.4167\n",
            "sad : 0.4500\n",
            "angry : 0.6111\n",
            "fearful : 0.2143\n",
            "disgust : 0.5000\n",
            "surprised : 0.3333\n"
          ]
        }
      ]
    },
    {
      "cell_type": "code",
      "source": [
        "# Validation set precision, recall, fscore\n",
        "\n",
        "precision_recall_fscore_support(y_test_class, y_pred_class, average='macro')\n",
        "precision_recall_fscore_support(y_test_class, y_pred_class, average='weighted')"
      ],
      "metadata": {
        "colab": {
          "base_uri": "https://localhost:8080/"
        },
        "id": "QnwWoVFnh33F",
        "outputId": "232771a0-a69d-4d06-baf0-e5f3794813e7"
      },
      "execution_count": 31,
      "outputs": [
        {
          "output_type": "execute_result",
          "data": {
            "text/plain": [
              "(0.456117537031179, 0.43617021276595747, 0.42655010529298465, None)"
            ]
          },
          "metadata": {},
          "execution_count": 31
        }
      ]
    },
    {
      "cell_type": "code",
      "source": [
        "y_test_class"
      ],
      "metadata": {
        "id": "8b1um0-Mg2Qg",
        "colab": {
          "base_uri": "https://localhost:8080/"
        },
        "outputId": "5cdf796f-c00c-435c-f624-4b8a1d1d34fc"
      },
      "execution_count": 33,
      "outputs": [
        {
          "output_type": "execute_result",
          "data": {
            "text/plain": [
              "array([4, 3, 3, 3, 2, 4, 4, 1, 3, 0, 3, 5, 2, 6, 0, 3, 2, 5, 5, 3, 7, 1,\n",
              "       5, 0, 2, 7, 0, 4, 3, 3, 2, 4, 2, 5, 6, 5, 5, 4, 5, 3, 7, 4, 3, 2,\n",
              "       4, 0, 1, 2, 6, 1, 3, 4, 5, 6, 7, 6, 3, 4, 5, 7, 4, 4, 7, 3, 1, 0,\n",
              "       4, 1, 3, 4, 1, 0, 4, 4, 1, 2, 2, 6, 3, 5, 3, 3, 3, 5, 5, 5, 6, 4,\n",
              "       2, 6, 2, 4, 3, 1])"
            ]
          },
          "metadata": {},
          "execution_count": 33
        }
      ]
    },
    {
      "cell_type": "code",
      "source": [
        "y_pred_class"
      ],
      "metadata": {
        "colab": {
          "base_uri": "https://localhost:8080/"
        },
        "id": "9xTuX6KhhFP4",
        "outputId": "c79bf474-b98a-4486-c7d4-e02825bef94c"
      },
      "execution_count": 32,
      "outputs": [
        {
          "output_type": "execute_result",
          "data": {
            "text/plain": [
              "array([4, 0, 4, 3, 4, 5, 4, 1, 0, 1, 3, 3, 2, 6, 1, 3, 3, 3, 1, 0, 7, 3,\n",
              "       7, 1, 4, 2, 4, 4, 3, 1, 2, 3, 7, 5, 4, 4, 0, 4, 4, 2, 7, 4, 3, 6,\n",
              "       4, 2, 1, 2, 4, 1, 0, 7, 3, 7, 2, 6, 1, 4, 5, 5, 4, 2, 0, 2, 1, 3,\n",
              "       4, 1, 2, 4, 1, 3, 4, 6, 1, 2, 4, 7, 1, 7, 3, 3, 3, 7, 5, 4, 6, 6,\n",
              "       4, 6, 2, 7, 3, 2])"
            ]
          },
          "metadata": {},
          "execution_count": 32
        }
      ]
    }
  ]
}