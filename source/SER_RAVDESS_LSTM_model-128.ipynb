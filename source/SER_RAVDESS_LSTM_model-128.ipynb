{
  "metadata": {
    "kernelspec": {
      "language": "python",
      "display_name": "Python 3",
      "name": "python3"
    },
    "language_info": {
      "pygments_lexer": "ipython3",
      "nbconvert_exporter": "python",
      "version": "3.6.4",
      "file_extension": ".py",
      "codemirror_mode": {
        "name": "ipython",
        "version": 3
      },
      "name": "python",
      "mimetype": "text/x-python"
    },
    "colab": {
      "name": "Copy of SER-RAVDESS-RNN-model-9.ipynb",
      "provenance": [],
      "collapsed_sections": [
        "anSyerIFN7qd",
        "nyMzoZKKKiw6",
        "fse_mTpaOGdQ",
        "gnWVMbR6KixC",
        "1YfguG0tPatV",
        "ATvBW0SPO-eq",
        "5YoYCa22PMGz",
        "hz7nc15A_3hb",
        "d2ullxf9PUMd",
        "kWjKgUdRPYH5",
        "DGSTy2228XRH",
        "CWB7U5xDUSmF",
        "gPwcFV9oAhGh",
        "Epp2QpxsUVXH",
        "zil3CkweUX0q",
        "8Hzthv1t8kwd"
      ]
    }
  },
  "nbformat_minor": 0,
  "nbformat": 4,
  "cells": [
    {
      "cell_type": "markdown",
      "source": [
        "# Imports"
      ],
      "metadata": {
        "id": "anSyerIFN7qd"
      }
    },
    {
      "cell_type": "code",
      "source": [
        "# Importing Libraries"
      ],
      "metadata": {
        "id": "IMFSwIuvKiw2"
      },
      "execution_count": null,
      "outputs": []
    },
    {
      "cell_type": "code",
      "source": [
        "!pip install json-tricks"
      ],
      "metadata": {
        "colab": {
          "base_uri": "https://localhost:8080/"
        },
        "id": "bBR8aNsmM2tR",
        "outputId": "507497c1-3593-45e3-dfa2-9242e2cabf97"
      },
      "execution_count": null,
      "outputs": [
        {
          "output_type": "stream",
          "name": "stdout",
          "text": [
            "Requirement already satisfied: json-tricks in /usr/local/lib/python3.7/dist-packages (3.15.5)\n"
          ]
        }
      ]
    },
    {
      "cell_type": "code",
      "source": [
        "import pandas as pd\n",
        "import numpy as np\n",
        "\n",
        "import os\n",
        "import sys\n",
        "\n",
        "import librosa\n",
        "import librosa.display\n",
        "#from pydub import AudioSegment, effects\n",
        "#import noisereduce as nr\n",
        "\n",
        "\n",
        "import seaborn as sns\n",
        "import matplotlib.pyplot as plt\n",
        "from IPython.display import Audio\n",
        "\n",
        "import tensorflow as tf\n",
        "import keras\n",
        "import sklearn\n",
        "\n",
        "\n",
        "from tensorflow.keras.models import Sequential, Model\n",
        "from tensorflow.keras.layers import Dense, LSTM, Flatten, Dropout, BatchNormalization\n",
        "from tensorflow.keras.callbacks import ModelCheckpoint, EarlyStopping, ReduceLROnPlateau\n",
        "from tensorflow.keras.optimizers import Adam, SGD\n",
        "from tensorflow.keras.utils import to_categorical, plot_model\n",
        "\n",
        "\n",
        "from keras.models import Sequential, model_from_json, load_model\n",
        "from keras import layers\n",
        "from keras import optimizers\n",
        "from keras import callbacks\n",
        "\n",
        "from sklearn.preprocessing import StandardScaler, OneHotEncoder, LabelEncoder\n",
        "from sklearn.metrics import confusion_matrix, classification_report, precision_recall_fscore_support, roc_auc_score\n",
        "from sklearn.model_selection import train_test_split, StratifiedShuffleSplit\n",
        "from sklearn.multiclass import OneVsRestClassifier\n",
        "\n",
        "\n",
        "from tqdm import tqdm\n",
        "\n",
        "\n",
        "from json_tricks import dump, load\n",
        "\n",
        "\n",
        "\n",
        "import warnings\n",
        "if not sys.warnoptions:\n",
        "    warnings.simplefilter(\"ignore\")\n",
        "warnings.filterwarnings(\"ignore\", category=DeprecationWarning) \n",
        "\n",
        "import time\n",
        "tic = time.perf_counter()\n",
        "\n"
      ],
      "metadata": {
        "id": "77IS8HxqFFCA"
      },
      "execution_count": null,
      "outputs": []
    },
    {
      "cell_type": "code",
      "source": [
        ""
      ],
      "metadata": {
        "id": "gGYqBIk0FGm4"
      },
      "execution_count": null,
      "outputs": []
    },
    {
      "cell_type": "markdown",
      "source": [
        "# Dataset"
      ],
      "metadata": {
        "id": "nyMzoZKKKiw6"
      }
    },
    {
      "cell_type": "code",
      "source": [
        "from google.colab import drive\n",
        "drive.mount('/content/drive')"
      ],
      "metadata": {
        "colab": {
          "base_uri": "https://localhost:8080/"
        },
        "id": "JFPDGXmwCBs_",
        "outputId": "2932f484-91a7-4efc-c5a3-44533e225854"
      },
      "execution_count": null,
      "outputs": [
        {
          "output_type": "stream",
          "name": "stdout",
          "text": [
            "Drive already mounted at /content/drive; to attempt to forcibly remount, call drive.mount(\"/content/drive\", force_remount=True).\n"
          ]
        }
      ]
    },
    {
      "cell_type": "code",
      "source": [
        "#Crema = \"/content/drive/MyDrive/datasets/speech/CREMAD/sample/\"\n",
        "#Crema = \"/content/drive/MyDrive/datasets/speech/CREMAD/AudioWAV/\"\n",
        "Ravdess = \"/content/drive/MyDrive/datasets/speech/RAVDESS/data\"\n",
        "Ravdess_processed = \"/content/drive/MyDrive/datasets/speech/RAVDESS/processedData/\"\n",
        "Ravdess_speech_sample = \"/content/drive/MyDrive/datasets/speech/RAVDESS/data/Audio_Speech_Actors_01-24/\"\n",
        "df_path = \"/content/drive/MyDrive/datasets/speech/RAVDESS/ravdess_df.csv\"\n",
        "model_path = Ravdess + \"/model/\"\n",
        "\n",
        "checkpoint_path = model_path + \"best_weights-8.hdf5\"\n",
        "saved_model_path = model_path + 'model8723-6.json'\n",
        "\n",
        "saved_weights_path = model_path + 'model8723_weights-8.h5'\n",
        "saved_model_path_2 = model_path + 'Speech-Emotion-Recognition-Model-RNN-6.h5'"
      ],
      "metadata": {
        "execution": {
          "iopub.status.busy": "2021-06-21T09:35:38.093538Z",
          "iopub.execute_input": "2021-06-21T09:35:38.093869Z",
          "iopub.status.idle": "2021-06-21T09:35:38.097467Z",
          "shell.execute_reply.started": "2021-06-21T09:35:38.093838Z",
          "shell.execute_reply": "2021-06-21T09:35:38.096608Z"
        },
        "trusted": true,
        "id": "vR2GjHL4Kiw7"
      },
      "execution_count": null,
      "outputs": []
    },
    {
      "cell_type": "code",
      "source": [
        ""
      ],
      "metadata": {
        "id": "J2T6JxzIF2Jq"
      },
      "execution_count": null,
      "outputs": []
    },
    {
      "cell_type": "code",
      "source": [
        "##Hypter Parameters' Range\n",
        "params = {\n",
        "    \"batch_size\": 20,  # 20<16<10, 25 was a bust\n",
        "    \"epochs\": 300,\n",
        "    \"lr\": 0.00010000,\n",
        "    \"time_steps\": 60\n",
        "}\n",
        "#TIME_STEPS = params[\"time_steps\"]\n",
        "#BATCH_SIZE = params[\"batch_size\"]\n",
        "#iter_changes = \"dropout_layers_0.4_0.4\"\n"
      ],
      "metadata": {
        "id": "jnEd5_Vvy4ue"
      },
      "execution_count": null,
      "outputs": []
    },
    {
      "cell_type": "code",
      "source": [
        ""
      ],
      "metadata": {
        "id": "dKXM0xT-N8uy"
      },
      "execution_count": null,
      "outputs": []
    },
    {
      "cell_type": "markdown",
      "source": [
        "# Load Processed Files, Construct Train, Validation and Test Sets"
      ],
      "metadata": {
        "id": "fse_mTpaOGdQ"
      }
    },
    {
      "cell_type": "code",
      "source": [
        "\n",
        "processed_path = Ravdess_processed\n",
        "x_path = processed_path + \"X_features.json\" # FILE LOAD PATH\n",
        "y_path =  processed_path + \"Y_labels.json\" # FILE SAVE PATH\n",
        "#x_path = '/content/drive/MyDrive/datasets/speech/RAVDESS/processedData/X_features.json'\n",
        "\n",
        "# Load X,Y json files back into lists, convert to np.arrays\n",
        "\n",
        "X = load(x_path)\n",
        "X = np.asarray(X, dtype = 'float32')\n",
        "\n",
        "Y = load(y_path)\n",
        "Y = np.asarray(Y, dtype = 'int8')"
      ],
      "metadata": {
        "id": "101BpvWgN8xX"
      },
      "execution_count": null,
      "outputs": []
    },
    {
      "cell_type": "code",
      "source": [
        "# Split to train, validation, and test sets.\n",
        "from sklearn.model_selection import train_test_split\n",
        "# 1st Split: X,Y => (x_train, x_tosplit) (y_train, y_tosplit)\n",
        "x_train, x_tosplit, y_train, y_tosplit = train_test_split(X, Y, test_size = 0.125, random_state = 1)\n",
        "# 2nd Split: x_tosplit,y_tosplit => (x_val, x_test) (y_val, y_test) \n",
        "x_val, x_test, y_val, y_test = train_test_split(x_tosplit, y_tosplit, test_size = 0.304, random_state = 1)\n",
        "#'One-hot' vectors for Y: emotion classification\n",
        "y_train_class = tf.keras.utils.to_categorical(y_train, 8, dtype = 'int8')\n",
        "y_val_class = tf.keras.utils.to_categorical(y_val, 8, dtype = 'int8')"
      ],
      "metadata": {
        "id": "CuF9M1mfOD7X"
      },
      "execution_count": null,
      "outputs": []
    },
    {
      "cell_type": "code",
      "source": [
        "# x_train, x_val, and x_test shape check.\n",
        "print(np.shape(x_train))\n",
        "print(np.shape(x_val))\n",
        "print(np.shape(x_test))"
      ],
      "metadata": {
        "colab": {
          "base_uri": "https://localhost:8080/"
        },
        "id": "od-D1YgBOGXs",
        "outputId": "58fc3692-953b-4458-bd9c-ca7cd0833057"
      },
      "execution_count": null,
      "outputs": [
        {
          "output_type": "stream",
          "name": "stdout",
          "text": [
            "(2145, 523, 15)\n",
            "(213, 523, 15)\n",
            "(94, 523, 15)\n"
          ]
        }
      ]
    },
    {
      "cell_type": "code",
      "source": [
        "# Save x_test, y_test to JSON.\n",
        "\n",
        "x_test_path = processed_path + 'x_test_data.json'\n",
        "dump(obj = x_test, fp = x_test_path)\n",
        "\n",
        "y_test_path = processed_path + 'y_test_data.json'\n",
        "dump(obj = y_test, fp = y_test_path)"
      ],
      "metadata": {
        "colab": {
          "base_uri": "https://localhost:8080/"
        },
        "id": "nTExHJVsOHQ5",
        "outputId": "7bdef921-487b-45b5-fbfb-3f500974eddb"
      },
      "execution_count": null,
      "outputs": [
        {
          "output_type": "execute_result",
          "data": {
            "text/plain": [
              "'{\"__ndarray__\": [[2], [2], [2], [0], [4], [6], [2], [0], [5], [0], [3], [5], [4], [1], [6], [4], [3], [5], [4], [5], [7], [1], [7], [1], [2], [5], [4], [5], [4], [1], [2], [1], [3], [3], [3], [3], [3], [3], [5], [1], [5], [2], [1], [6], [2], [1], [3], [6], [1], [5], [6], [7], [4], [2], [6], [4], [4], [5], [4], [4], [2], [3], [1], [7], [7], [1], [6], [4], [3], [7], [6], [2], [4], [6], [1], [0], [1], [2], [4], [5], [4], [3], [1], [4], [3], [6], [7], [7], [5], [7], [1], [2], [1], [4]], \"dtype\": \"int8\", \"shape\": [94, 1], \"Corder\": true}'"
            ],
            "application/vnd.google.colaboratory.intrinsic+json": {
              "type": "string"
            }
          },
          "metadata": {},
          "execution_count": 109
        }
      ]
    },
    {
      "cell_type": "code",
      "source": [
        "# Loading x_test, y_test json files, and converting to np.arrays\n",
        "\n",
        "x_test = load(processed_path + 'x_test_data.json')\n",
        "x_test = np.asarray(x_test).astype('float32')\n",
        "\n",
        "y_test = load(processed_path + 'y_test_data.json')\n",
        "y_test = np.asarray(y_test).astype('int8')\n",
        "\n",
        "y_test_class = tf.keras.utils.to_categorical(y_test, 8, dtype = 'int8')"
      ],
      "metadata": {
        "id": "kAFBRsmk5dzm"
      },
      "execution_count": null,
      "outputs": []
    },
    {
      "cell_type": "code",
      "source": [
        "X.shape"
      ],
      "metadata": {
        "id": "15joCR4gu4r7",
        "colab": {
          "base_uri": "https://localhost:8080/"
        },
        "outputId": "7bd17ded-c06a-4d95-f87c-cee8f92f429b"
      },
      "execution_count": null,
      "outputs": [
        {
          "output_type": "execute_result",
          "data": {
            "text/plain": [
              "(2452, 523, 15)"
            ]
          },
          "metadata": {},
          "execution_count": 99
        }
      ]
    },
    {
      "cell_type": "code",
      "source": [
        "X.shape[1:3]"
      ],
      "metadata": {
        "colab": {
          "base_uri": "https://localhost:8080/"
        },
        "id": "8MQhoPKjEzi4",
        "outputId": "03e838e4-966b-4989-e415-3d88c96b0af7"
      },
      "execution_count": null,
      "outputs": [
        {
          "output_type": "execute_result",
          "data": {
            "text/plain": [
              "(523, 15)"
            ]
          },
          "metadata": {},
          "execution_count": 100
        }
      ]
    },
    {
      "cell_type": "markdown",
      "source": [
        "# RNN Model"
      ],
      "metadata": {
        "id": "gnWVMbR6KixC"
      }
    },
    {
      "cell_type": "code",
      "source": [
        "tic"
      ],
      "metadata": {
        "colab": {
          "base_uri": "https://localhost:8080/"
        },
        "id": "7CHZWdfcN8oo",
        "outputId": "637c386f-3104-461b-e51f-71472da46fac"
      },
      "execution_count": null,
      "outputs": [
        {
          "output_type": "execute_result",
          "data": {
            "text/plain": [
              "1185.493949161"
            ]
          },
          "metadata": {},
          "execution_count": 36
        }
      ]
    },
    {
      "cell_type": "markdown",
      "source": [
        "## Define Model & Training"
      ],
      "metadata": {
        "id": "GJjJYnJQORJ8"
      }
    },
    {
      "cell_type": "code",
      "source": [
        "# Initializing the model\n",
        "\n",
        "model = Sequential()\n",
        "model.add(layers.LSTM(128, return_sequences = True, input_shape=(X.shape[1:3])))\n",
        "model.add(layers.LSTM(64))\n",
        "model.add(Dropout(0.2))\n",
        "model.add(layers.Dense(8, activation = 'softmax'))\n",
        "print(model.summary())\n",
        "\n",
        "batch_size = 23\n",
        "\n",
        "# Callbacks functions\n",
        "\n",
        "#-> EearlyStopping\n",
        "es = EarlyStopping(monitor='val_loss', mode='min', verbose=1,\n",
        "                    patience=10, min_delta=0.0001)\n",
        "\n",
        "\n",
        "#-> Save the best weights\n",
        "mcp_save = callbacks.ModelCheckpoint(checkpoint_path, save_best_only=True,\n",
        "                           monitor='val_categorical_accuracy',\n",
        "                           mode='max')\n",
        "#-> Reduce learning rate after 100 epoches without improvement.\n",
        "rlrop = callbacks.ReduceLROnPlateau(monitor='val_categorical_accuracy', \n",
        "                                    factor=0.1, patience=40)\n",
        "                             \n",
        "# Compile & train   \n",
        "model.compile(loss='categorical_crossentropy', \n",
        "                optimizer='RMSProp', \n",
        "                metrics=['categorical_accuracy'])\n",
        "\n",
        "\n"
      ],
      "metadata": {
        "colab": {
          "base_uri": "https://localhost:8080/"
        },
        "id": "aD2adyVGOJs4",
        "outputId": "524ceba9-1529-4040-ef72-279f739e8d87"
      },
      "execution_count": null,
      "outputs": [
        {
          "output_type": "stream",
          "name": "stdout",
          "text": [
            "Model: \"sequential_1\"\n",
            "_________________________________________________________________\n",
            " Layer (type)                Output Shape              Param #   \n",
            "=================================================================\n",
            " lstm_2 (LSTM)               (None, 523, 128)          73728     \n",
            "                                                                 \n",
            " lstm_3 (LSTM)               (None, 64)                49408     \n",
            "                                                                 \n",
            " dropout_1 (Dropout)         (None, 64)                0         \n",
            "                                                                 \n",
            " dense_1 (Dense)             (None, 8)                 520       \n",
            "                                                                 \n",
            "=================================================================\n",
            "Total params: 123,656\n",
            "Trainable params: 123,656\n",
            "Non-trainable params: 0\n",
            "_________________________________________________________________\n",
            "None\n"
          ]
        }
      ]
    },
    {
      "cell_type": "code",
      "source": [
        "history = model.fit(x_train, y_train_class, \n",
        "                      epochs=340, batch_size = batch_size, \n",
        "                      validation_data = (x_val, y_val_class), \n",
        "                      callbacks = [es, mcp_save, rlrop])\n",
        "toc = time.perf_counter()"
      ],
      "metadata": {
        "colab": {
          "base_uri": "https://localhost:8080/"
        },
        "id": "Da7Gc9x_izth",
        "outputId": "e85b763d-1ba5-4b48-c83d-77e92f3a15a7"
      },
      "execution_count": null,
      "outputs": [
        {
          "output_type": "stream",
          "name": "stdout",
          "text": [
            "Epoch 1/340\n",
            "94/94 [==============================] - 93s 950ms/step - loss: 2.0534 - categorical_accuracy: 0.1744 - val_loss: 2.0141 - val_categorical_accuracy: 0.1878 - lr: 0.0010\n",
            "Epoch 2/340\n",
            "94/94 [==============================] - 87s 922ms/step - loss: 1.9643 - categorical_accuracy: 0.2364 - val_loss: 1.8600 - val_categorical_accuracy: 0.2770 - lr: 0.0010\n",
            "Epoch 3/340\n",
            "94/94 [==============================] - 86s 917ms/step - loss: 1.8976 - categorical_accuracy: 0.2709 - val_loss: 1.8870 - val_categorical_accuracy: 0.2723 - lr: 0.0010\n",
            "Epoch 4/340\n",
            "94/94 [==============================] - 86s 910ms/step - loss: 1.8364 - categorical_accuracy: 0.2998 - val_loss: 1.8584 - val_categorical_accuracy: 0.2629 - lr: 0.0010\n",
            "Epoch 5/340\n",
            "94/94 [==============================] - 86s 912ms/step - loss: 1.8068 - categorical_accuracy: 0.3100 - val_loss: 1.8929 - val_categorical_accuracy: 0.2535 - lr: 0.0010\n",
            "Epoch 6/340\n",
            "94/94 [==============================] - 87s 923ms/step - loss: 1.7887 - categorical_accuracy: 0.3235 - val_loss: 1.8119 - val_categorical_accuracy: 0.2864 - lr: 0.0010\n",
            "Epoch 7/340\n",
            "94/94 [==============================] - 86s 915ms/step - loss: 1.7490 - categorical_accuracy: 0.3263 - val_loss: 1.9285 - val_categorical_accuracy: 0.2723 - lr: 0.0010\n",
            "Epoch 8/340\n",
            "94/94 [==============================] - 87s 923ms/step - loss: 1.7393 - categorical_accuracy: 0.3483 - val_loss: 1.8343 - val_categorical_accuracy: 0.3192 - lr: 0.0010\n",
            "Epoch 9/340\n",
            "94/94 [==============================] - 86s 911ms/step - loss: 1.7223 - categorical_accuracy: 0.3524 - val_loss: 1.8574 - val_categorical_accuracy: 0.2629 - lr: 0.0010\n",
            "Epoch 10/340\n",
            "94/94 [==============================] - 86s 918ms/step - loss: 1.7105 - categorical_accuracy: 0.3529 - val_loss: 1.8984 - val_categorical_accuracy: 0.2488 - lr: 0.0010\n",
            "Epoch 11/340\n",
            "94/94 [==============================] - 86s 920ms/step - loss: 1.7248 - categorical_accuracy: 0.3431 - val_loss: 1.7556 - val_categorical_accuracy: 0.3427 - lr: 0.0010\n",
            "Epoch 12/340\n",
            "94/94 [==============================] - 86s 920ms/step - loss: 1.6954 - categorical_accuracy: 0.3730 - val_loss: 1.7032 - val_categorical_accuracy: 0.3662 - lr: 0.0010\n",
            "Epoch 13/340\n",
            "94/94 [==============================] - 87s 922ms/step - loss: 1.6616 - categorical_accuracy: 0.3678 - val_loss: 1.6682 - val_categorical_accuracy: 0.3803 - lr: 0.0010\n",
            "Epoch 14/340\n",
            "94/94 [==============================] - 86s 910ms/step - loss: 1.6149 - categorical_accuracy: 0.3977 - val_loss: 1.8612 - val_categorical_accuracy: 0.3427 - lr: 0.0010\n",
            "Epoch 15/340\n",
            "94/94 [==============================] - 85s 910ms/step - loss: 1.6234 - categorical_accuracy: 0.3869 - val_loss: 1.6838 - val_categorical_accuracy: 0.3709 - lr: 0.0010\n",
            "Epoch 16/340\n",
            "94/94 [==============================] - 86s 916ms/step - loss: 1.6065 - categorical_accuracy: 0.3986 - val_loss: 1.7112 - val_categorical_accuracy: 0.3474 - lr: 0.0010\n",
            "Epoch 17/340\n",
            "94/94 [==============================] - 86s 913ms/step - loss: 1.5840 - categorical_accuracy: 0.4070 - val_loss: 1.7147 - val_categorical_accuracy: 0.3521 - lr: 0.0010\n",
            "Epoch 18/340\n",
            "94/94 [==============================] - 86s 912ms/step - loss: 1.5719 - categorical_accuracy: 0.4093 - val_loss: 1.6573 - val_categorical_accuracy: 0.3662 - lr: 0.0010\n",
            "Epoch 19/340\n",
            "94/94 [==============================] - 85s 909ms/step - loss: 1.5574 - categorical_accuracy: 0.4117 - val_loss: 1.7680 - val_categorical_accuracy: 0.3333 - lr: 0.0010\n",
            "Epoch 20/340\n",
            "94/94 [==============================] - 86s 916ms/step - loss: 1.5530 - categorical_accuracy: 0.4107 - val_loss: 1.7045 - val_categorical_accuracy: 0.3897 - lr: 0.0010\n",
            "Epoch 21/340\n",
            "94/94 [==============================] - 85s 907ms/step - loss: 1.5238 - categorical_accuracy: 0.4177 - val_loss: 1.7115 - val_categorical_accuracy: 0.3521 - lr: 0.0010\n",
            "Epoch 22/340\n",
            "94/94 [==============================] - 86s 914ms/step - loss: 1.5522 - categorical_accuracy: 0.4019 - val_loss: 1.6721 - val_categorical_accuracy: 0.3897 - lr: 0.0010\n",
            "Epoch 23/340\n",
            "94/94 [==============================] - 86s 911ms/step - loss: 1.5191 - categorical_accuracy: 0.4261 - val_loss: 1.7659 - val_categorical_accuracy: 0.3286 - lr: 0.0010\n",
            "Epoch 24/340\n",
            "94/94 [==============================] - 86s 915ms/step - loss: 1.5482 - categorical_accuracy: 0.4126 - val_loss: 1.7650 - val_categorical_accuracy: 0.3239 - lr: 0.0010\n",
            "Epoch 25/340\n",
            "94/94 [==============================] - 87s 921ms/step - loss: 1.5420 - categorical_accuracy: 0.4107 - val_loss: 1.6840 - val_categorical_accuracy: 0.3709 - lr: 0.0010\n",
            "Epoch 26/340\n",
            "94/94 [==============================] - 87s 926ms/step - loss: 1.5077 - categorical_accuracy: 0.4345 - val_loss: 1.6610 - val_categorical_accuracy: 0.4131 - lr: 0.0010\n",
            "Epoch 27/340\n",
            "94/94 [==============================] - 87s 927ms/step - loss: 1.5009 - categorical_accuracy: 0.4340 - val_loss: 1.5880 - val_categorical_accuracy: 0.4178 - lr: 0.0010\n",
            "Epoch 28/340\n",
            "94/94 [==============================] - 86s 916ms/step - loss: 1.5053 - categorical_accuracy: 0.4354 - val_loss: 1.6673 - val_categorical_accuracy: 0.3709 - lr: 0.0010\n",
            "Epoch 29/340\n",
            "94/94 [==============================] - 86s 915ms/step - loss: 1.5067 - categorical_accuracy: 0.4317 - val_loss: 1.5925 - val_categorical_accuracy: 0.4178 - lr: 0.0010\n",
            "Epoch 30/340\n",
            "94/94 [==============================] - 85s 908ms/step - loss: 1.5044 - categorical_accuracy: 0.4326 - val_loss: 1.6639 - val_categorical_accuracy: 0.3756 - lr: 0.0010\n",
            "Epoch 31/340\n",
            "94/94 [==============================] - 86s 914ms/step - loss: 1.5133 - categorical_accuracy: 0.4331 - val_loss: 1.5901 - val_categorical_accuracy: 0.4085 - lr: 0.0010\n",
            "Epoch 32/340\n",
            "94/94 [==============================] - 86s 911ms/step - loss: 1.4626 - categorical_accuracy: 0.4503 - val_loss: 1.7438 - val_categorical_accuracy: 0.3521 - lr: 0.0010\n",
            "Epoch 33/340\n",
            "94/94 [==============================] - 86s 913ms/step - loss: 1.4576 - categorical_accuracy: 0.4480 - val_loss: 1.6662 - val_categorical_accuracy: 0.4131 - lr: 0.0010\n",
            "Epoch 34/340\n",
            "94/94 [==============================] - 86s 918ms/step - loss: 1.4408 - categorical_accuracy: 0.4681 - val_loss: 1.5404 - val_categorical_accuracy: 0.4225 - lr: 0.0010\n",
            "Epoch 35/340\n",
            "94/94 [==============================] - 87s 920ms/step - loss: 1.4424 - categorical_accuracy: 0.4713 - val_loss: 1.6586 - val_categorical_accuracy: 0.3803 - lr: 0.0010\n",
            "Epoch 36/340\n",
            "94/94 [==============================] - 86s 918ms/step - loss: 1.4245 - categorical_accuracy: 0.4541 - val_loss: 1.5427 - val_categorical_accuracy: 0.4554 - lr: 0.0010\n",
            "Epoch 37/340\n",
            "94/94 [==============================] - 86s 910ms/step - loss: 1.4332 - categorical_accuracy: 0.4592 - val_loss: 1.6206 - val_categorical_accuracy: 0.3991 - lr: 0.0010\n",
            "Epoch 38/340\n",
            "94/94 [==============================] - 86s 914ms/step - loss: 1.4299 - categorical_accuracy: 0.4592 - val_loss: 1.6327 - val_categorical_accuracy: 0.3756 - lr: 0.0010\n",
            "Epoch 39/340\n",
            "94/94 [==============================] - 86s 915ms/step - loss: 1.4472 - categorical_accuracy: 0.4541 - val_loss: 1.6167 - val_categorical_accuracy: 0.4225 - lr: 0.0010\n",
            "Epoch 40/340\n",
            "94/94 [==============================] - 85s 908ms/step - loss: 1.4159 - categorical_accuracy: 0.4769 - val_loss: 1.5551 - val_categorical_accuracy: 0.4131 - lr: 0.0010\n",
            "Epoch 41/340\n",
            "94/94 [==============================] - 85s 907ms/step - loss: 1.4163 - categorical_accuracy: 0.4723 - val_loss: 1.6028 - val_categorical_accuracy: 0.3662 - lr: 0.0010\n",
            "Epoch 42/340\n",
            "94/94 [==============================] - 85s 910ms/step - loss: 1.3955 - categorical_accuracy: 0.4844 - val_loss: 1.6022 - val_categorical_accuracy: 0.4319 - lr: 0.0010\n",
            "Epoch 43/340\n",
            "94/94 [==============================] - 86s 915ms/step - loss: 1.3909 - categorical_accuracy: 0.4783 - val_loss: 1.5933 - val_categorical_accuracy: 0.4319 - lr: 0.0010\n",
            "Epoch 44/340\n",
            "94/94 [==============================] - 86s 915ms/step - loss: 1.3811 - categorical_accuracy: 0.4802 - val_loss: 1.5443 - val_categorical_accuracy: 0.4085 - lr: 0.0010\n",
            "Epoch 44: early stopping\n"
          ]
        }
      ]
    },
    {
      "cell_type": "code",
      "source": [
        ""
      ],
      "metadata": {
        "id": "3MekXCZHizyZ"
      },
      "execution_count": null,
      "outputs": []
    },
    {
      "cell_type": "code",
      "source": [
        "print(f\"Running time: {(toc - tic)/60:0.4f} minutes\")"
      ],
      "metadata": {
        "id": "cHmSBRhVOELJ",
        "colab": {
          "base_uri": "https://localhost:8080/"
        },
        "outputId": "2bd5e083-3910-45a3-a839-2112a755c6a9"
      },
      "execution_count": null,
      "outputs": [
        {
          "output_type": "stream",
          "name": "stdout",
          "text": [
            "Running time: 64.2542 minutes\n"
          ]
        }
      ]
    },
    {
      "cell_type": "markdown",
      "source": [
        "## Loading Model"
      ],
      "metadata": {
        "id": "jCQelzMAKixD"
      }
    },
    {
      "cell_type": "code",
      "source": [
        "# Define the best weights to the model.\\\n",
        "#model.load_weights(checkpoint_path)"
      ],
      "metadata": {
        "id": "gruZAW2wI-tO"
      },
      "execution_count": null,
      "outputs": []
    },
    {
      "cell_type": "markdown",
      "source": [
        "# Evaluation"
      ],
      "metadata": {
        "id": "kDxTjEK0KixD"
      }
    },
    {
      "cell_type": "markdown",
      "source": [
        "## Save & Load model, weights"
      ],
      "metadata": {
        "id": "1YfguG0tPatV"
      }
    },
    {
      "cell_type": "code",
      "source": [
        "# Saving model & weights\n",
        "model_path = Ravdess + \"/model/\"\n",
        "model_json = model.to_json()\n",
        "\n",
        "\n",
        "\n",
        "with open(saved_model_path, \"w\") as json_file:\n",
        "    json_file.write(model_json)\n",
        "    \n",
        "model.save_weights(saved_weights_path)\n",
        "print(\"Saved model to disk\")"
      ],
      "metadata": {
        "colab": {
          "base_uri": "https://localhost:8080/"
        },
        "id": "MsVoNhqmgGsK",
        "outputId": "23b07ba0-174b-41fc-bed9-9bbe2861cd2e"
      },
      "execution_count": null,
      "outputs": [
        {
          "output_type": "stream",
          "name": "stdout",
          "text": [
            "Saved model to disk\n"
          ]
        }
      ]
    },
    {
      "cell_type": "code",
      "source": [
        "# Reading the model from JSON file\n",
        "#model_path = Ravdess + \"/model/\"\n",
        "#saved_model_path = model_path + 'model8723.json'\n",
        "#saved_weights_path = model_path + 'model8723_weights.h5'\n",
        "\n",
        "\n",
        "with open(saved_model_path , 'r') as json_file:\n",
        "    json_savedModel = json_file.read()\n",
        "    \n",
        "# Loading the model architecture, weights\n",
        "model = tf.keras.models.model_from_json(json_savedModel)\n",
        "model.load_weights(saved_weights_path)\n",
        "\n",
        "# Compiling the model with similar parameters as the original model.\n",
        "model.compile(loss='categorical_crossentropy', \n",
        "                optimizer='RMSProp', \n",
        "                metrics=['categorical_accuracy'])\n",
        "\n",
        "# Model's structure visualization\n",
        "tf.keras.utils.plot_model(model, to_file='model.png', show_shapes=True, show_layer_names=True)"
      ],
      "metadata": {
        "colab": {
          "base_uri": "https://localhost:8080/",
          "height": 533
        },
        "id": "y4OJGhLmgfX6",
        "outputId": "d082eaa7-c5e9-44e3-a5ef-7edf82bee5a2"
      },
      "execution_count": null,
      "outputs": [
        {
          "output_type": "execute_result",
          "data": {
            "text/plain": [
              "<IPython.core.display.Image object>"
            ],
            "image/png": "[encoded data removed]"
          },
          "metadata": {},
          "execution_count": 61
        }
      ]
    },
    {
      "cell_type": "code",
      "source": [
        ""
      ],
      "metadata": {
        "id": "B_SW6eUAgvEj"
      },
      "execution_count": null,
      "outputs": []
    },
    {
      "cell_type": "code",
      "source": [
        ""
      ],
      "metadata": {
        "id": "cCfkUXTYgzSB"
      },
      "execution_count": null,
      "outputs": []
    },
    {
      "cell_type": "code",
      "source": [
        "model.save(saved_model_path_2)"
      ],
      "metadata": {
        "trusted": true,
        "id": "Z5Uzb_bGKixE"
      },
      "execution_count": null,
      "outputs": []
    },
    {
      "cell_type": "markdown",
      "source": [
        "## Train (fit) Visualization"
      ],
      "metadata": {
        "id": "ATvBW0SPO-eq"
      }
    },
    {
      "cell_type": "code",
      "source": [
        "# Loss, Accuracy presentation\n",
        "\n",
        "# Plot history: Loss\n",
        "plt.plot(history.history['loss'], label='Loss (training data)')\n",
        "plt.plot(history.history['val_loss'], label='Loss (validation data)')\n",
        "plt.title('Loss for train and validation')\n",
        "plt.ylabel('Loss value')\n",
        "plt.xlabel('No. epoch')\n",
        "plt.legend(loc=\"upper left\")\n",
        "plt.show()\n",
        "\n",
        "#Plot history: Accuracy\n",
        "plt.plot(history.history['categorical_accuracy'], label='Acc (training data)')\n",
        "plt.plot(history.history['val_categorical_accuracy'], label='Acc (validation data)')\n",
        "plt.title('Model accuracy')\n",
        "plt.ylabel('Acc %')\n",
        "plt.xlabel('No. epoch')\n",
        "plt.legend(loc=\"upper left\")\n",
        "plt.show()"
      ],
      "metadata": {
        "colab": {
          "base_uri": "https://localhost:8080/",
          "height": 573
        },
        "id": "UjhUHhU_f4EY",
        "outputId": "31f10e04-f6ac-420f-cd08-78de04d1f84a"
      },
      "execution_count": null,
      "outputs": [
        {
          "output_type": "display_data",
          "data": {
            "text/plain": [
              "<Figure size 432x288 with 1 Axes>"
            ],
            "image/png": "[encoded data removed]"
          },
          "metadata": {
            "needs_background": "light"
          }
        },
        {
          "output_type": "display_data",
          "data": {
            "text/plain": [
              "<Figure size 432x288 with 1 Axes>"
            ],
            "image/png": "[encoded data removed]"
          },
          "metadata": {
            "needs_background": "light"
          }
        }
      ]
    },
    {
      "cell_type": "markdown",
      "source": [
        "## Validation Set Evaluation"
      ],
      "metadata": {
        "id": "UZ3lFduxPQeB"
      }
    },
    {
      "cell_type": "markdown",
      "source": [
        "### Val Set Score"
      ],
      "metadata": {
        "id": "5YoYCa22PMGz"
      }
    },
    {
      "cell_type": "code",
      "source": [
        ""
      ],
      "metadata": {
        "id": "jQavrzbB_8fy"
      },
      "execution_count": null,
      "outputs": []
    },
    {
      "cell_type": "code",
      "source": [
        "# Validation score\n",
        "loss,acc = model.evaluate(x_val, y_val_class, verbose=2)\n"
      ],
      "metadata": {
        "id": "X_KdTUyrf7-j",
        "colab": {
          "base_uri": "https://localhost:8080/"
        },
        "outputId": "eaa768ae-2df6-4aca-cddb-f36360baf091"
      },
      "execution_count": null,
      "outputs": [
        {
          "output_type": "stream",
          "name": "stdout",
          "text": [
            "7/7 - 1s - loss: 1.5443 - categorical_accuracy: 0.4085 - 1s/epoch - 207ms/step\n"
          ]
        }
      ]
    },
    {
      "cell_type": "code",
      "source": [
        ""
      ],
      "metadata": {
        "id": "09k_I9DM_2Q0"
      },
      "execution_count": null,
      "outputs": []
    },
    {
      "cell_type": "markdown",
      "source": [
        "### Construct Predicted Labels based on Probability of each class"
      ],
      "metadata": {
        "id": "hz7nc15A_3hb"
      }
    },
    {
      "cell_type": "code",
      "source": [
        "y_val_class"
      ],
      "metadata": {
        "colab": {
          "base_uri": "https://localhost:8080/"
        },
        "id": "CFM1P2SZ_85N",
        "outputId": "257b912c-9b1e-48a1-c9e1-61853022c350"
      },
      "execution_count": null,
      "outputs": [
        {
          "output_type": "execute_result",
          "data": {
            "text/plain": [
              "array([[0, 0, 0, ..., 1, 0, 0],\n",
              "       [0, 0, 0, ..., 1, 0, 0],\n",
              "       [0, 0, 1, ..., 0, 0, 0],\n",
              "       ...,\n",
              "       [1, 0, 0, ..., 0, 0, 0],\n",
              "       [0, 0, 1, ..., 0, 0, 0],\n",
              "       [0, 0, 0, ..., 0, 0, 0]], dtype=int8)"
            ]
          },
          "metadata": {},
          "execution_count": 111
        }
      ]
    },
    {
      "cell_type": "code",
      "source": [
        "np.argmax(y_val_class, axis=1)"
      ],
      "metadata": {
        "colab": {
          "base_uri": "https://localhost:8080/"
        },
        "id": "C9UHSeXbAASy",
        "outputId": "9e2cdd72-b4e2-4d54-d630-2202782224ad"
      },
      "execution_count": null,
      "outputs": [
        {
          "output_type": "execute_result",
          "data": {
            "text/plain": [
              "array([5, 5, 2, 4, 4, 5, 3, 5, 1, 7, 1, 6, 1, 0, 3, 5, 4, 5, 0, 4, 4, 7,\n",
              "       3, 5, 5, 3, 4, 7, 6, 3, 1, 4, 1, 4, 3, 4, 5, 0, 1, 3, 3, 6, 2, 3,\n",
              "       3, 4, 3, 4, 5, 1, 2, 2, 2, 3, 1, 3, 5, 3, 5, 6, 2, 1, 5, 0, 3, 2,\n",
              "       1, 7, 3, 2, 0, 5, 1, 5, 2, 1, 7, 7, 3, 4, 0, 5, 4, 3, 0, 6, 5, 2,\n",
              "       2, 7, 3, 1, 1, 2, 4, 4, 1, 5, 6, 3, 2, 2, 2, 4, 5, 7, 5, 6, 1, 4,\n",
              "       2, 2, 6, 1, 2, 3, 2, 3, 4, 4, 6, 4, 5, 4, 6, 0, 5, 7, 2, 7, 0, 2,\n",
              "       7, 1, 4, 4, 1, 1, 1, 2, 5, 3, 2, 2, 0, 6, 4, 6, 1, 4, 7, 2, 3, 2,\n",
              "       3, 2, 4, 2, 4, 6, 5, 2, 4, 4, 4, 7, 4, 2, 4, 3, 6, 3, 0, 5, 3, 0,\n",
              "       1, 1, 4, 4, 2, 5, 2, 7, 5, 4, 3, 4, 0, 5, 4, 2, 6, 2, 2, 3, 2, 3,\n",
              "       5, 6, 3, 2, 4, 6, 2, 5, 3, 0, 2, 4, 0, 2, 4])"
            ]
          },
          "metadata": {},
          "execution_count": 112
        }
      ]
    },
    {
      "cell_type": "code",
      "source": [
        "y_val_class = np.argmax(y_val_class, axis=1)\n",
        "predictions_val = model.predict(x_val)\n",
        "y_proba_val_class = predictions_val\n",
        "y_pred_val_class = np.argmax(predictions_val, axis=1)"
      ],
      "metadata": {
        "id": "urjydD-38JK7"
      },
      "execution_count": null,
      "outputs": []
    },
    {
      "cell_type": "code",
      "source": [
        "predictions_val\n"
      ],
      "metadata": {
        "colab": {
          "base_uri": "https://localhost:8080/"
        },
        "id": "Zb7dGRs3AEJn",
        "outputId": "ce389458-3207-4243-8947-3f2928397e8b"
      },
      "execution_count": null,
      "outputs": [
        {
          "output_type": "execute_result",
          "data": {
            "text/plain": [
              "array([[0.01178825, 0.02277976, 0.26366282, ..., 0.02930381, 0.0579199 ,\n",
              "        0.00549107],\n",
              "       [0.01809284, 0.00969034, 0.11061178, ..., 0.59116584, 0.00973712,\n",
              "        0.00544205],\n",
              "       [0.1478989 , 0.04897392, 0.54364854, ..., 0.1419312 , 0.00325728,\n",
              "        0.00246005],\n",
              "       ...,\n",
              "       [0.02502627, 0.0184333 , 0.02560171, ..., 0.02842778, 0.5591045 ,\n",
              "        0.02909651],\n",
              "       [0.01057685, 0.0060248 , 0.25812903, ..., 0.08979192, 0.01438059,\n",
              "        0.00572853],\n",
              "       [0.20010674, 0.32823938, 0.1996939 , ..., 0.07455263, 0.00863516,\n",
              "        0.00332116]], dtype=float32)"
            ]
          },
          "metadata": {},
          "execution_count": 114
        }
      ]
    },
    {
      "cell_type": "code",
      "source": [
        "y_pred_val_class "
      ],
      "metadata": {
        "colab": {
          "base_uri": "https://localhost:8080/"
        },
        "id": "KxHa1Ss1AJo4",
        "outputId": "fcc33837-3923-4e1f-831a-abc70f47f632"
      },
      "execution_count": null,
      "outputs": [
        {
          "output_type": "execute_result",
          "data": {
            "text/plain": [
              "array([4, 5, 2, 1, 4, 5, 5, 1, 1, 3, 3, 6, 1, 3, 3, 3, 1, 5, 0, 4, 5, 4,\n",
              "       0, 1, 5, 4, 4, 4, 5, 7, 6, 7, 4, 4, 1, 4, 5, 5, 3, 1, 3, 6, 5, 3,\n",
              "       6, 4, 5, 2, 4, 2, 4, 2, 1, 4, 1, 6, 4, 3, 5, 6, 5, 1, 7, 3, 5, 4,\n",
              "       1, 7, 5, 5, 4, 5, 0, 5, 5, 1, 5, 7, 4, 0, 1, 4, 5, 0, 0, 1, 1, 5,\n",
              "       2, 5, 5, 3, 1, 2, 4, 4, 1, 1, 1, 6, 1, 2, 5, 4, 2, 3, 5, 5, 3, 2,\n",
              "       5, 0, 4, 0, 4, 3, 1, 1, 4, 4, 6, 4, 4, 4, 3, 7, 4, 7, 3, 3, 4, 5,\n",
              "       6, 3, 4, 4, 1, 1, 1, 2, 4, 3, 4, 5, 1, 6, 4, 6, 1, 2, 7, 5, 6, 7,\n",
              "       4, 7, 4, 3, 4, 6, 1, 2, 4, 4, 4, 7, 4, 2, 4, 0, 6, 4, 1, 3, 3, 2,\n",
              "       1, 1, 6, 6, 5, 7, 4, 2, 0, 4, 5, 4, 5, 5, 4, 2, 6, 5, 4, 3, 0, 7,\n",
              "       4, 6, 1, 4, 4, 2, 6, 1, 3, 6, 7, 4, 6, 4, 1])"
            ]
          },
          "metadata": {},
          "execution_count": 115
        }
      ]
    },
    {
      "cell_type": "markdown",
      "source": [
        "### Val Set Confusion Matrix and Heatmap"
      ],
      "metadata": {
        "id": "d2ullxf9PUMd"
      }
    },
    {
      "cell_type": "code",
      "source": [
        "# Validation Confusion matrix\n",
        "cm=confusion_matrix(y_val_class, y_pred_val_class)\n",
        "\n",
        "index = ['neutral', 'calm', 'happy', 'sad', 'angry', 'fearful', 'disgust', 'surprised']  \n",
        "columns = ['neutral', 'calm', 'happy', 'sad', 'angry', 'fearful', 'disgust', 'surprised']  \n",
        " \n",
        "cm_df = pd.DataFrame(cm,index,columns)                      \n",
        "plt.figure(figsize=(12,8))\n",
        "ax = plt.axes()\n",
        "\n",
        "sns.heatmap(cm_df, ax = ax, cmap = 'PuBu', fmt=\"d\", annot=True)\n",
        "ax.set_ylabel('True emotion')\n",
        "ax.set_xlabel('Predicted emotion')"
      ],
      "metadata": {
        "colab": {
          "base_uri": "https://localhost:8080/",
          "height": 515
        },
        "id": "doLcg3CTf9bx",
        "outputId": "f842ddd9-2b34-4394-9021-2d0084689804"
      },
      "execution_count": null,
      "outputs": [
        {
          "output_type": "execute_result",
          "data": {
            "text/plain": [
              "Text(0.5, 51.0, 'Predicted emotion')"
            ]
          },
          "metadata": {},
          "execution_count": 116
        },
        {
          "output_type": "display_data",
          "data": {
            "text/plain": [
              "<Figure size 864x576 with 2 Axes>"
            ],
            "image/png": "[encoded data removed]"
          },
          "metadata": {
            "needs_background": "light"
          }
        }
      ]
    },
    {
      "cell_type": "code",
      "source": [
        "# Confusion Matrix\n",
        "cm"
      ],
      "metadata": {
        "colab": {
          "base_uri": "https://localhost:8080/"
        },
        "id": "hIEG9Pia8Nfp",
        "outputId": "e21797d3-0346-4cd9-cfcc-87ac16db5012"
      },
      "execution_count": null,
      "outputs": [
        {
          "output_type": "execute_result",
          "data": {
            "text/plain": [
              "array([[ 2,  3,  1,  2,  2,  2,  2,  1],\n",
              "       [ 2, 14,  1,  5,  1,  0,  1,  0],\n",
              "       [ 2,  3,  9,  2,  8, 12,  1,  3],\n",
              "       [ 3,  4,  0,  9,  5,  6,  4,  2],\n",
              "       [ 1,  3,  3,  0, 28,  2,  2,  1],\n",
              "       [ 1,  6,  1,  2,  8, 10,  0,  2],\n",
              "       [ 0,  2,  1,  1,  1,  2, 10,  0],\n",
              "       [ 0,  0,  1,  3,  2,  2,  1,  5]])"
            ]
          },
          "metadata": {},
          "execution_count": 117
        }
      ]
    },
    {
      "cell_type": "markdown",
      "source": [
        "### Validation Set Predicted emotions accuracy"
      ],
      "metadata": {
        "id": "kWjKgUdRPYH5"
      }
    },
    {
      "cell_type": "code",
      "source": [
        "# Validation set prediction accuracy rates\n",
        "\n",
        "values = cm.diagonal()\n",
        "row_sum = np.sum(cm,axis=1)\n",
        "acc = values / row_sum\n",
        "\n",
        "print('Validation set predicted emotions accuracy:')\n",
        "for e in range(0, len(values)):\n",
        "    print(index[e],':', f\"{(acc[e]):0.4f}\")"
      ],
      "metadata": {
        "colab": {
          "base_uri": "https://localhost:8080/"
        },
        "id": "MopdywY9f-mS",
        "outputId": "f82c5135-ff49-4b6e-fd39-937b43c29e37"
      },
      "execution_count": null,
      "outputs": [
        {
          "output_type": "stream",
          "name": "stdout",
          "text": [
            "Validation set predicted emotions accuracy:\n",
            "neutral : 0.1333\n",
            "calm : 0.5833\n",
            "happy : 0.2250\n",
            "sad : 0.2727\n",
            "angry : 0.7000\n",
            "fearful : 0.3333\n",
            "disgust : 0.5882\n",
            "surprised : 0.3571\n"
          ]
        }
      ]
    },
    {
      "cell_type": "markdown",
      "source": [
        "### Precision, Recal, Fscore"
      ],
      "metadata": {
        "id": "DGSTy2228XRH"
      }
    },
    {
      "cell_type": "code",
      "source": [
        "# Validation set precision, recall, fscore\n",
        "\n",
        "precision_recall_fscore_support(y_val_class, y_pred_val_class, average='macro')\n"
      ],
      "metadata": {
        "colab": {
          "base_uri": "https://localhost:8080/"
        },
        "id": "rOwUkCG0gGpm",
        "outputId": "19acdaa4-ce91-4bf6-f877-6ac7e3b6e4d2"
      },
      "execution_count": null,
      "outputs": [
        {
          "output_type": "execute_result",
          "data": {
            "text/plain": [
              "(0.38830399584076053, 0.39913817799847207, 0.3794955007822982, None)"
            ]
          },
          "metadata": {},
          "execution_count": 119
        }
      ]
    },
    {
      "cell_type": "code",
      "source": [
        "precision_recall_fscore_support(y_val_class, y_pred_val_class, average='weighted')"
      ],
      "metadata": {
        "colab": {
          "base_uri": "https://localhost:8080/"
        },
        "id": "OorFgXxDzy3o",
        "outputId": "cf799dff-a367-4d3f-eb81-67e344c7d399"
      },
      "execution_count": null,
      "outputs": [
        {
          "output_type": "execute_result",
          "data": {
            "text/plain": [
              "(0.4116007094258958, 0.4084507042253521, 0.3913961468333194, None)"
            ]
          },
          "metadata": {},
          "execution_count": 120
        }
      ]
    },
    {
      "cell_type": "markdown",
      "source": [
        "## Test Set Evaluation"
      ],
      "metadata": {
        "id": "FiCwOjmPPgCn"
      }
    },
    {
      "cell_type": "markdown",
      "source": [
        "### Test Set Score\n",
        "\n"
      ],
      "metadata": {
        "id": "CWB7U5xDUSmF"
      }
    },
    {
      "cell_type": "code",
      "source": [
        "loss, acc = model.evaluate(x_test, y_test_class, verbose=2)"
      ],
      "metadata": {
        "id": "Y7NEHPM-gzml",
        "colab": {
          "base_uri": "https://localhost:8080/"
        },
        "outputId": "37a3fb0a-a357-437e-838a-f1e560d1240e"
      },
      "execution_count": null,
      "outputs": [
        {
          "output_type": "stream",
          "name": "stdout",
          "text": [
            "3/3 - 1s - loss: 1.5881 - categorical_accuracy: 0.4149 - 612ms/epoch - 204ms/step\n"
          ]
        }
      ]
    },
    {
      "cell_type": "markdown",
      "source": [
        "### Construct Predicted Labels based on Probability of each class"
      ],
      "metadata": {
        "id": "gPwcFV9oAhGh"
      }
    },
    {
      "cell_type": "code",
      "source": [
        "y_test_class"
      ],
      "metadata": {
        "colab": {
          "base_uri": "https://localhost:8080/"
        },
        "id": "tjN7Eit7AiML",
        "outputId": "da4581cf-add1-4e5a-e2ca-57edc23e7418"
      },
      "execution_count": null,
      "outputs": [
        {
          "output_type": "execute_result",
          "data": {
            "text/plain": [
              "array([[0, 0, 1, 0, 0, 0, 0, 0],\n",
              "       [0, 0, 1, 0, 0, 0, 0, 0],\n",
              "       [0, 0, 1, 0, 0, 0, 0, 0],\n",
              "       [1, 0, 0, 0, 0, 0, 0, 0],\n",
              "       [0, 0, 0, 0, 1, 0, 0, 0],\n",
              "       [0, 0, 0, 0, 0, 0, 1, 0],\n",
              "       [0, 0, 1, 0, 0, 0, 0, 0],\n",
              "       [1, 0, 0, 0, 0, 0, 0, 0],\n",
              "       [0, 0, 0, 0, 0, 1, 0, 0],\n",
              "       [1, 0, 0, 0, 0, 0, 0, 0],\n",
              "       [0, 0, 0, 1, 0, 0, 0, 0],\n",
              "       [0, 0, 0, 0, 0, 1, 0, 0],\n",
              "       [0, 0, 0, 0, 1, 0, 0, 0],\n",
              "       [0, 1, 0, 0, 0, 0, 0, 0],\n",
              "       [0, 0, 0, 0, 0, 0, 1, 0],\n",
              "       [0, 0, 0, 0, 1, 0, 0, 0],\n",
              "       [0, 0, 0, 1, 0, 0, 0, 0],\n",
              "       [0, 0, 0, 0, 0, 1, 0, 0],\n",
              "       [0, 0, 0, 0, 1, 0, 0, 0],\n",
              "       [0, 0, 0, 0, 0, 1, 0, 0],\n",
              "       [0, 0, 0, 0, 0, 0, 0, 1],\n",
              "       [0, 1, 0, 0, 0, 0, 0, 0],\n",
              "       [0, 0, 0, 0, 0, 0, 0, 1],\n",
              "       [0, 1, 0, 0, 0, 0, 0, 0],\n",
              "       [0, 0, 1, 0, 0, 0, 0, 0],\n",
              "       [0, 0, 0, 0, 0, 1, 0, 0],\n",
              "       [0, 0, 0, 0, 1, 0, 0, 0],\n",
              "       [0, 0, 0, 0, 0, 1, 0, 0],\n",
              "       [0, 0, 0, 0, 1, 0, 0, 0],\n",
              "       [0, 1, 0, 0, 0, 0, 0, 0],\n",
              "       [0, 0, 1, 0, 0, 0, 0, 0],\n",
              "       [0, 1, 0, 0, 0, 0, 0, 0],\n",
              "       [0, 0, 0, 1, 0, 0, 0, 0],\n",
              "       [0, 0, 0, 1, 0, 0, 0, 0],\n",
              "       [0, 0, 0, 1, 0, 0, 0, 0],\n",
              "       [0, 0, 0, 1, 0, 0, 0, 0],\n",
              "       [0, 0, 0, 1, 0, 0, 0, 0],\n",
              "       [0, 0, 0, 1, 0, 0, 0, 0],\n",
              "       [0, 0, 0, 0, 0, 1, 0, 0],\n",
              "       [0, 1, 0, 0, 0, 0, 0, 0],\n",
              "       [0, 0, 0, 0, 0, 1, 0, 0],\n",
              "       [0, 0, 1, 0, 0, 0, 0, 0],\n",
              "       [0, 1, 0, 0, 0, 0, 0, 0],\n",
              "       [0, 0, 0, 0, 0, 0, 1, 0],\n",
              "       [0, 0, 1, 0, 0, 0, 0, 0],\n",
              "       [0, 1, 0, 0, 0, 0, 0, 0],\n",
              "       [0, 0, 0, 1, 0, 0, 0, 0],\n",
              "       [0, 0, 0, 0, 0, 0, 1, 0],\n",
              "       [0, 1, 0, 0, 0, 0, 0, 0],\n",
              "       [0, 0, 0, 0, 0, 1, 0, 0],\n",
              "       [0, 0, 0, 0, 0, 0, 1, 0],\n",
              "       [0, 0, 0, 0, 0, 0, 0, 1],\n",
              "       [0, 0, 0, 0, 1, 0, 0, 0],\n",
              "       [0, 0, 1, 0, 0, 0, 0, 0],\n",
              "       [0, 0, 0, 0, 0, 0, 1, 0],\n",
              "       [0, 0, 0, 0, 1, 0, 0, 0],\n",
              "       [0, 0, 0, 0, 1, 0, 0, 0],\n",
              "       [0, 0, 0, 0, 0, 1, 0, 0],\n",
              "       [0, 0, 0, 0, 1, 0, 0, 0],\n",
              "       [0, 0, 0, 0, 1, 0, 0, 0],\n",
              "       [0, 0, 1, 0, 0, 0, 0, 0],\n",
              "       [0, 0, 0, 1, 0, 0, 0, 0],\n",
              "       [0, 1, 0, 0, 0, 0, 0, 0],\n",
              "       [0, 0, 0, 0, 0, 0, 0, 1],\n",
              "       [0, 0, 0, 0, 0, 0, 0, 1],\n",
              "       [0, 1, 0, 0, 0, 0, 0, 0],\n",
              "       [0, 0, 0, 0, 0, 0, 1, 0],\n",
              "       [0, 0, 0, 0, 1, 0, 0, 0],\n",
              "       [0, 0, 0, 1, 0, 0, 0, 0],\n",
              "       [0, 0, 0, 0, 0, 0, 0, 1],\n",
              "       [0, 0, 0, 0, 0, 0, 1, 0],\n",
              "       [0, 0, 1, 0, 0, 0, 0, 0],\n",
              "       [0, 0, 0, 0, 1, 0, 0, 0],\n",
              "       [0, 0, 0, 0, 0, 0, 1, 0],\n",
              "       [0, 1, 0, 0, 0, 0, 0, 0],\n",
              "       [1, 0, 0, 0, 0, 0, 0, 0],\n",
              "       [0, 1, 0, 0, 0, 0, 0, 0],\n",
              "       [0, 0, 1, 0, 0, 0, 0, 0],\n",
              "       [0, 0, 0, 0, 1, 0, 0, 0],\n",
              "       [0, 0, 0, 0, 0, 1, 0, 0],\n",
              "       [0, 0, 0, 0, 1, 0, 0, 0],\n",
              "       [0, 0, 0, 1, 0, 0, 0, 0],\n",
              "       [0, 1, 0, 0, 0, 0, 0, 0],\n",
              "       [0, 0, 0, 0, 1, 0, 0, 0],\n",
              "       [0, 0, 0, 1, 0, 0, 0, 0],\n",
              "       [0, 0, 0, 0, 0, 0, 1, 0],\n",
              "       [0, 0, 0, 0, 0, 0, 0, 1],\n",
              "       [0, 0, 0, 0, 0, 0, 0, 1],\n",
              "       [0, 0, 0, 0, 0, 1, 0, 0],\n",
              "       [0, 0, 0, 0, 0, 0, 0, 1],\n",
              "       [0, 1, 0, 0, 0, 0, 0, 0],\n",
              "       [0, 0, 1, 0, 0, 0, 0, 0],\n",
              "       [0, 1, 0, 0, 0, 0, 0, 0],\n",
              "       [0, 0, 0, 0, 1, 0, 0, 0]], dtype=int8)"
            ]
          },
          "metadata": {},
          "execution_count": 121
        }
      ]
    },
    {
      "cell_type": "code",
      "source": [
        " np.argmax(y_test_class, axis=1)"
      ],
      "metadata": {
        "colab": {
          "base_uri": "https://localhost:8080/"
        },
        "id": "2fcK-_HzAmc5",
        "outputId": "126e83d8-b807-486e-b9d2-7d50339ce54e"
      },
      "execution_count": null,
      "outputs": [
        {
          "output_type": "execute_result",
          "data": {
            "text/plain": [
              "array([2, 2, 2, 0, 4, 6, 2, 0, 5, 0, 3, 5, 4, 1, 6, 4, 3, 5, 4, 5, 7, 1,\n",
              "       7, 1, 2, 5, 4, 5, 4, 1, 2, 1, 3, 3, 3, 3, 3, 3, 5, 1, 5, 2, 1, 6,\n",
              "       2, 1, 3, 6, 1, 5, 6, 7, 4, 2, 6, 4, 4, 5, 4, 4, 2, 3, 1, 7, 7, 1,\n",
              "       6, 4, 3, 7, 6, 2, 4, 6, 1, 0, 1, 2, 4, 5, 4, 3, 1, 4, 3, 6, 7, 7,\n",
              "       5, 7, 1, 2, 1, 4])"
            ]
          },
          "metadata": {},
          "execution_count": 122
        }
      ]
    },
    {
      "cell_type": "code",
      "source": [
        "y_test_class = np.argmax(y_test_class, axis=1)\n",
        "predictions_test = model.predict(x_test)\n",
        "y_pred_test_class = np.argmax(predictions_test, axis=1)\n",
        "y_proba_test_class = predictions_test\n",
        "\n"
      ],
      "metadata": {
        "id": "uyXvoU2rAckI"
      },
      "execution_count": null,
      "outputs": []
    },
    {
      "cell_type": "code",
      "source": [
        "predictions_test"
      ],
      "metadata": {
        "colab": {
          "base_uri": "https://localhost:8080/"
        },
        "id": "3BAOUaPwAtuY",
        "outputId": "61a69ff8-e348-485e-a1aa-aa82e110bb53"
      },
      "execution_count": null,
      "outputs": [
        {
          "output_type": "execute_result",
          "data": {
            "text/plain": [
              "array([[1.10713683e-01, 1.84694320e-01, 4.90669049e-02, 2.47192144e-01,\n",
              "        3.74535508e-02, 1.10898457e-01, 1.35018900e-01, 1.24961928e-01],\n",
              "       [3.45232427e-01, 8.81225020e-02, 1.73116848e-01, 1.87001795e-01,\n",
              "        2.07976755e-02, 1.77269623e-01, 3.06289224e-03, 5.39624318e-03],\n",
              "       [4.82713990e-03, 1.94440177e-03, 9.94464755e-02, 4.42307293e-02,\n",
              "        7.40613401e-01, 8.28183368e-02, 2.17796993e-02, 4.33975318e-03],\n",
              "       [8.65174364e-03, 1.83560923e-02, 3.58933434e-02, 3.75777334e-01,\n",
              "        2.05318689e-01, 4.35889810e-02, 2.97175288e-01, 1.52385803e-02],\n",
              "       [2.04156782e-03, 6.93676353e-04, 4.00611497e-02, 1.91964339e-02,\n",
              "        8.26554298e-01, 4.94410321e-02, 2.40310580e-02, 3.79807241e-02],\n",
              "       [3.18983058e-03, 9.13808346e-02, 4.66967411e-02, 9.90866497e-02,\n",
              "        1.65298373e-01, 8.43770150e-03, 5.78123689e-01, 7.78619153e-03],\n",
              "       [5.38717508e-02, 5.34668900e-02, 5.38985208e-02, 2.95244277e-01,\n",
              "        1.54284537e-01, 4.81280722e-02, 3.19697052e-01, 2.14089267e-02],\n",
              "       [8.53859633e-02, 6.07595742e-02, 6.43970892e-02, 3.35566729e-01,\n",
              "        6.33967370e-02, 2.81473815e-01, 7.50756413e-02, 3.39444727e-02],\n",
              "       [2.16772743e-02, 4.50747367e-03, 1.62886605e-01, 5.95036894e-02,\n",
              "        1.19211078e-02, 4.24766839e-01, 6.52856613e-03, 3.08208525e-01],\n",
              "       [5.25630917e-03, 7.85184562e-01, 1.49529176e-02, 1.85538247e-01,\n",
              "        1.45610329e-03, 5.67656988e-03, 1.18989870e-03, 7.45446305e-04],\n",
              "       [3.81312877e-01, 6.17852546e-02, 2.80192822e-01, 1.18630573e-01,\n",
              "        2.81640179e-02, 1.22917637e-01, 3.05532105e-03, 3.94147448e-03],\n",
              "       [9.67950746e-03, 9.20991879e-03, 4.88097250e-01, 1.05759807e-01,\n",
              "        2.03891546e-01, 1.48060992e-01, 2.40215566e-02, 1.12793893e-02],\n",
              "       [6.69305585e-03, 6.33699726e-03, 6.42283261e-02, 6.83970600e-02,\n",
              "        6.75457597e-01, 4.51881066e-02, 1.11264206e-01, 2.24345755e-02],\n",
              "       [4.53489274e-02, 6.06184721e-01, 4.09353226e-02, 1.81761682e-01,\n",
              "        5.78282587e-03, 7.03315511e-02, 3.75484377e-02, 1.21065825e-02],\n",
              "       [5.45759266e-03, 7.67377764e-03, 2.01820247e-02, 1.87280014e-01,\n",
              "        1.99618995e-01, 6.18407801e-02, 4.89162743e-01, 2.87840497e-02],\n",
              "       [4.66356607e-04, 6.45889842e-04, 1.86129734e-02, 2.61644647e-02,\n",
              "        7.87852824e-01, 1.61912944e-02, 1.44921064e-01, 5.14517538e-03],\n",
              "       [2.97016427e-02, 1.65372677e-02, 5.18694222e-01, 8.21133927e-02,\n",
              "        1.73482373e-01, 1.62781149e-01, 1.18356925e-02, 4.85434895e-03],\n",
              "       [2.16123894e-01, 8.60072300e-02, 1.38418376e-01, 2.93124139e-01,\n",
              "        1.71689391e-02, 2.42333367e-01, 2.33155768e-03, 4.49247193e-03],\n",
              "       [9.51083470e-03, 3.19930054e-02, 1.39707342e-01, 1.12454742e-01,\n",
              "        4.46242630e-01, 3.58041488e-02, 1.97244912e-01, 2.70423107e-02],\n",
              "       [5.58641320e-03, 1.06596202e-03, 1.81185171e-01, 3.11259776e-02,\n",
              "        2.04352271e-02, 6.11447036e-01, 5.83525840e-03, 1.43319026e-01],\n",
              "       [5.01334574e-03, 1.44754816e-03, 1.49304653e-02, 3.54031622e-02,\n",
              "        2.79393882e-01, 7.04808682e-02, 1.50907084e-01, 4.42423701e-01],\n",
              "       [8.68213922e-03, 4.38518345e-01, 2.70856172e-02, 4.94591504e-01,\n",
              "        4.04618448e-03, 2.42608842e-02, 1.55155745e-03, 1.26385281e-03],\n",
              "       [1.69498567e-02, 4.10063146e-03, 2.83041876e-02, 8.59035179e-02,\n",
              "        3.83691229e-02, 1.83329999e-01, 3.08669470e-02, 6.12175763e-01],\n",
              "       [1.06977172e-01, 3.52049358e-02, 3.10729146e-01, 1.68398708e-01,\n",
              "        1.29708990e-01, 2.40734398e-01, 4.06564027e-03, 4.18101810e-03],\n",
              "       [6.43150974e-03, 5.27419941e-03, 5.81719242e-02, 7.65632540e-02,\n",
              "        4.48388845e-01, 3.24675620e-01, 6.92760646e-02, 1.12186400e-02],\n",
              "       [4.86442493e-03, 1.42326783e-02, 4.34758253e-02, 1.21889703e-01,\n",
              "        1.32180611e-02, 4.76392359e-01, 2.18580231e-01, 1.07346639e-01],\n",
              "       [1.29502602e-02, 9.52936430e-03, 4.67720270e-01, 8.60339999e-02,\n",
              "        3.34571153e-01, 5.51921614e-02, 2.58015431e-02, 8.20126571e-03],\n",
              "       [1.10097565e-02, 9.12114326e-03, 6.65393621e-02, 1.08401306e-01,\n",
              "        6.58945680e-01, 9.33502764e-02, 4.51839902e-02, 7.44850794e-03],\n",
              "       [4.75297272e-02, 3.64832506e-02, 4.69341636e-01, 7.84287155e-02,\n",
              "        2.47294590e-01, 1.00878172e-01, 1.24246022e-02, 7.61927059e-03],\n",
              "       [1.17928395e-02, 4.25757736e-01, 3.68748717e-02, 5.02459526e-01,\n",
              "        8.97680689e-03, 1.03908535e-02, 2.45312322e-03, 1.29420264e-03],\n",
              "       [2.16374025e-01, 7.28970468e-02, 1.76256850e-01, 2.64397353e-01,\n",
              "        2.43944917e-02, 2.39372149e-01, 2.28990358e-03, 4.01821826e-03],\n",
              "       [2.58383006e-02, 6.34424686e-01, 9.40227658e-02, 2.09276959e-01,\n",
              "        1.65219642e-02, 5.55618806e-03, 1.13391746e-02, 3.01999878e-03],\n",
              "       [7.56503083e-03, 8.02025292e-03, 2.59203520e-02, 3.50929350e-01,\n",
              "        1.60932988e-01, 9.66070741e-02, 3.13026220e-01, 3.69986892e-02],\n",
              "       [1.02646193e-02, 1.20945852e-02, 1.24183066e-01, 2.63513207e-01,\n",
              "        1.39383361e-01, 3.53596002e-01, 6.82894066e-02, 2.86758486e-02],\n",
              "       [1.64036378e-02, 4.37418409e-02, 5.53415082e-02, 3.31790715e-01,\n",
              "        1.60761941e-02, 4.09569353e-01, 8.48231092e-02, 4.22536209e-02],\n",
              "       [1.91772774e-01, 1.60646230e-01, 2.24134937e-01, 1.78104818e-01,\n",
              "        6.47595152e-02, 1.72843903e-01, 4.38251672e-03, 3.35523509e-03],\n",
              "       [3.70547287e-02, 4.26246114e-02, 7.46312514e-02, 4.38747585e-01,\n",
              "        9.20369998e-02, 1.23958692e-01, 1.34601757e-01, 5.63443340e-02],\n",
              "       [1.94232717e-01, 1.13447554e-01, 1.46293521e-01, 2.79886484e-01,\n",
              "        1.10064531e-02, 2.49808997e-01, 1.76519912e-03, 3.55908182e-03],\n",
              "       [2.68751103e-03, 1.71145110e-03, 3.74321602e-02, 3.33943330e-02,\n",
              "        8.36259961e-01, 3.45349759e-02, 4.74743657e-02, 6.50526304e-03],\n",
              "       [2.37968221e-01, 1.10102564e-01, 2.00578228e-01, 1.38290390e-01,\n",
              "        8.82569775e-02, 2.11728469e-01, 7.06881750e-03, 6.00639917e-03],\n",
              "       [1.02768606e-02, 1.71580594e-02, 1.20812252e-01, 9.28342193e-02,\n",
              "        1.10675963e-02, 5.19421816e-01, 5.50932884e-02, 1.73335850e-01],\n",
              "       [1.15206568e-02, 7.17774266e-03, 1.68423072e-01, 7.24433884e-02,\n",
              "        1.61141828e-02, 5.70098937e-01, 1.32486438e-02, 1.40973359e-01],\n",
              "       [7.68883061e-03, 1.47782594e-01, 2.59296447e-02, 9.90628675e-02,\n",
              "        5.77590689e-02, 4.45878971e-03, 6.50694489e-01, 6.62374403e-03],\n",
              "       [2.58455519e-02, 9.61739663e-03, 4.65456061e-02, 1.00070722e-01,\n",
              "        3.85966063e-01, 2.95107085e-02, 2.91726232e-01, 1.10717677e-01],\n",
              "       [7.46356323e-02, 2.94753071e-02, 3.85013670e-01, 9.24497172e-02,\n",
              "        6.40867501e-02, 3.04308683e-02, 3.65659967e-02, 2.87342042e-01],\n",
              "       [2.03919858e-02, 6.34022832e-01, 7.45130330e-02, 2.17864156e-01,\n",
              "        2.08127201e-02, 9.32505261e-03, 1.99743249e-02, 3.09578795e-03],\n",
              "       [1.38550907e-01, 2.28638891e-02, 1.30685538e-01, 7.71097466e-02,\n",
              "        1.26328589e-02, 9.32319611e-02, 1.11505063e-02, 5.13774633e-01],\n",
              "       [1.01261428e-02, 1.75956246e-02, 2.02104598e-02, 8.45465362e-02,\n",
              "        1.54417664e-01, 9.65436362e-03, 6.91901565e-01, 1.15476446e-02],\n",
              "       [1.25405028e-01, 4.36718702e-01, 7.78662637e-02, 2.27225795e-01,\n",
              "        2.75254878e-03, 1.07770331e-01, 8.43365397e-03, 1.38277123e-02],\n",
              "       [1.01122752e-01, 4.19133566e-02, 1.08296506e-01, 3.41531873e-01,\n",
              "        3.70653495e-02, 2.62526780e-01, 4.04019207e-02, 6.71415031e-02],\n",
              "       [1.04115136e-01, 1.83078006e-01, 1.21619597e-01, 3.00162017e-01,\n",
              "        7.37724500e-03, 2.63695091e-01, 8.74513946e-03, 1.12078255e-02],\n",
              "       [2.70220581e-02, 2.25111581e-02, 1.68791696e-01, 2.96519130e-01,\n",
              "        2.66447738e-02, 7.63132647e-02, 2.52287477e-01, 1.29910424e-01],\n",
              "       [3.65531147e-02, 1.03289997e-02, 2.65284389e-01, 7.03049749e-02,\n",
              "        4.08257693e-01, 1.99287906e-01, 7.30068423e-03, 2.68221740e-03],\n",
              "       [1.23060460e-03, 9.84401442e-04, 4.99554649e-02, 2.20096670e-02,\n",
              "        1.00410571e-02, 8.77587497e-01, 1.23884249e-02, 2.58028340e-02],\n",
              "       [1.32086221e-03, 2.57734652e-03, 2.44011525e-02, 9.73166302e-02,\n",
              "        3.25850129e-01, 2.58169379e-02, 5.05126953e-01, 1.75899509e-02],\n",
              "       [1.04516814e-03, 5.37471380e-04, 2.52793282e-02, 1.78926792e-02,\n",
              "        8.42567563e-01, 2.71300748e-02, 5.40929250e-02, 3.14546935e-02],\n",
              "       [2.41873488e-02, 3.40278521e-02, 4.24133018e-02, 3.41352195e-01,\n",
              "        3.59852239e-02, 4.42412734e-01, 5.84966689e-02, 2.11246442e-02],\n",
              "       [7.03247637e-02, 2.24019229e-01, 6.27277792e-02, 4.63685095e-01,\n",
              "        2.81257071e-02, 1.26485199e-01, 1.47013962e-02, 9.93082672e-03],\n",
              "       [1.01497713e-02, 6.45982614e-03, 3.79488766e-01, 1.17830358e-01,\n",
              "        2.89791018e-01, 1.63840786e-01, 2.17848979e-02, 1.06546227e-02],\n",
              "       [3.34245618e-04, 1.54045265e-04, 1.01034082e-02, 8.03653616e-03,\n",
              "        9.17689204e-01, 1.80326663e-02, 3.41199525e-02, 1.15300007e-02],\n",
              "       [2.17973292e-02, 2.42713615e-02, 4.54983562e-02, 1.24717221e-01,\n",
              "        2.35050768e-02, 1.45523399e-01, 1.72048718e-01, 4.42638457e-01],\n",
              "       [1.54372444e-03, 1.27892138e-03, 3.37280929e-02, 3.42139229e-02,\n",
              "        8.26660752e-01, 3.13240327e-02, 6.42880797e-02, 6.96250191e-03],\n",
              "       [1.30723983e-01, 4.40370739e-01, 7.38325194e-02, 2.27144361e-01,\n",
              "        2.71390704e-03, 1.03064865e-01, 8.02580267e-03, 1.41238971e-02],\n",
              "       [1.15055609e-02, 1.50200561e-01, 3.13949659e-02, 2.13162065e-01,\n",
              "        2.78710481e-02, 1.11578092e-01, 4.07170087e-01, 4.71175723e-02],\n",
              "       [6.03709370e-02, 1.40497778e-02, 6.32515922e-02, 1.17440343e-01,\n",
              "        1.73750985e-02, 1.62876323e-01, 1.50858341e-02, 5.49550116e-01],\n",
              "       [1.03403460e-02, 7.56904125e-01, 3.01113911e-02, 1.80416912e-01,\n",
              "        7.62850745e-03, 7.16435816e-03, 5.20507107e-03, 2.22929777e-03],\n",
              "       [5.69675001e-04, 1.41400355e-03, 1.40965153e-02, 1.85239855e-02,\n",
              "        6.53006375e-01, 4.10160469e-03, 3.03795576e-01, 4.49226238e-03],\n",
              "       [1.27405738e-02, 5.45606852e-01, 4.80796583e-02, 1.62954971e-01,\n",
              "        7.20199989e-03, 4.52599898e-02, 1.50575995e-01, 2.75799762e-02],\n",
              "       [1.83386162e-01, 2.13737816e-01, 1.47298619e-01, 2.18853652e-01,\n",
              "        1.45332357e-02, 2.16582522e-01, 2.62662326e-03, 2.98133399e-03],\n",
              "       [3.34087340e-03, 2.14964733e-03, 4.80111949e-02, 1.03858136e-01,\n",
              "        2.91831464e-01, 1.06813096e-01, 3.23901683e-01, 1.20093830e-01],\n",
              "       [2.88566505e-03, 3.70621448e-03, 2.05295030e-02, 1.56209677e-01,\n",
              "        1.23525925e-01, 7.77984113e-02, 5.66682935e-01, 4.86616902e-02],\n",
              "       [2.22115051e-02, 1.49041796e-02, 2.30104759e-01, 8.38171393e-02,\n",
              "        9.40942857e-03, 5.52205682e-01, 1.11022936e-02, 7.62450546e-02],\n",
              "       [2.71637905e-02, 5.24547771e-02, 2.55746543e-01, 2.64807284e-01,\n",
              "        1.07773893e-01, 2.37853304e-02, 2.22258434e-01, 4.60099913e-02],\n",
              "       [7.24172732e-03, 1.79840755e-02, 2.21206024e-02, 1.50773823e-01,\n",
              "        2.20929772e-01, 1.40307723e-02, 5.53980529e-01, 1.29386727e-02],\n",
              "       [2.12881900e-02, 3.21619213e-01, 6.56522885e-02, 5.68453014e-01,\n",
              "        5.00731217e-03, 1.56442020e-02, 1.16189837e-03, 1.17389043e-03],\n",
              "       [3.60419266e-02, 1.77057609e-02, 8.25570047e-01, 5.99517934e-02,\n",
              "        1.45645346e-02, 6.35063741e-03, 1.58625301e-02, 2.39527524e-02],\n",
              "       [3.05595517e-01, 7.26208985e-02, 1.87558666e-01, 1.18597865e-01,\n",
              "        7.81519860e-02, 2.26237774e-01, 6.73158932e-03, 4.50566411e-03],\n",
              "       [8.96136314e-02, 1.29266247e-01, 2.45826870e-01, 2.79726177e-01,\n",
              "        4.02140021e-02, 2.72640549e-02, 1.38792723e-01, 4.92963493e-02],\n",
              "       [1.93513557e-03, 1.08876720e-03, 9.78527367e-02, 4.82883044e-02,\n",
              "        7.16800690e-01, 7.12985843e-02, 5.41618057e-02, 8.57397076e-03],\n",
              "       [7.31457844e-02, 5.66465020e-01, 5.72328493e-02, 1.91876709e-01,\n",
              "        3.12093995e-03, 7.64748901e-02, 1.78354941e-02, 1.38483820e-02],\n",
              "       [4.66841098e-04, 5.90848620e-04, 1.61381066e-02, 1.92491040e-02,\n",
              "        8.50320339e-01, 1.26555758e-02, 9.53159928e-02, 5.26320143e-03],\n",
              "       [6.03724383e-02, 2.86552254e-02, 6.60041347e-02, 2.70376563e-01,\n",
              "        3.37948710e-01, 1.64415717e-01, 6.37490302e-02, 8.47815350e-03],\n",
              "       [1.59434080e-02, 7.43429959e-01, 5.96422032e-02, 1.49215147e-01,\n",
              "        1.18853934e-02, 2.89683696e-03, 1.52417617e-02, 1.74525869e-03],\n",
              "       [2.69253831e-03, 1.50977727e-03, 3.96411456e-02, 3.90192755e-02,\n",
              "        7.94437528e-01, 4.55646180e-02, 7.03823268e-02, 6.75281184e-03],\n",
              "       [3.57513666e-01, 3.03572357e-01, 8.96459445e-02, 1.45163402e-01,\n",
              "        4.46537416e-03, 3.90782952e-02, 1.72958095e-02, 4.32651266e-02],\n",
              "       [3.87695385e-03, 6.39773067e-03, 1.05908783e-02, 6.49948269e-02,\n",
              "        1.24286965e-01, 2.98853330e-02, 7.19321728e-01, 4.06455323e-02],\n",
              "       [6.49325699e-02, 5.44582419e-02, 3.84309590e-01, 1.15098633e-01,\n",
              "        9.41931736e-03, 3.35187703e-01, 9.72724706e-03, 2.68667843e-02],\n",
              "       [4.65167686e-03, 1.50588970e-03, 3.57925259e-02, 1.11851320e-01,\n",
              "        1.50990799e-01, 2.04920843e-01, 2.07901627e-01, 2.82385319e-01],\n",
              "       [9.58368089e-03, 3.30456626e-03, 2.98071265e-01, 1.12390094e-01,\n",
              "        1.51537657e-01, 3.08699489e-01, 5.88968769e-02, 5.75164035e-02],\n",
              "       [1.68177467e-02, 8.14399496e-03, 2.01122895e-01, 7.60493875e-02,\n",
              "        2.05628388e-02, 4.65832591e-01, 1.27662532e-02, 1.98704362e-01],\n",
              "       [8.33503436e-03, 1.91511914e-01, 2.83227544e-02, 6.80037260e-01,\n",
              "        2.63832752e-02, 5.69833741e-02, 6.71101920e-03, 1.71535625e-03],\n",
              "       [1.16441995e-02, 2.27643223e-03, 2.47578874e-01, 6.40692040e-02,\n",
              "        4.04327959e-02, 3.62218499e-01, 2.91685518e-02, 2.42611393e-01],\n",
              "       [4.30448242e-02, 2.47792721e-01, 8.14448297e-02, 3.55121940e-01,\n",
              "        1.16199218e-02, 2.10145339e-01, 3.55072655e-02, 1.53232310e-02],\n",
              "       [3.33903730e-03, 3.20161553e-03, 6.60481229e-02, 6.88913092e-02,\n",
              "        7.07520664e-01, 4.25490811e-02, 9.64470655e-02, 1.20030297e-02]],\n",
              "      dtype=float32)"
            ]
          },
          "metadata": {},
          "execution_count": 125
        }
      ]
    },
    {
      "cell_type": "code",
      "source": [
        "y_pred_test_class "
      ],
      "metadata": {
        "colab": {
          "base_uri": "https://localhost:8080/"
        },
        "id": "ph-j4nBsAxjT",
        "outputId": "86c1c969-2ffe-4806-caa9-c029a0217c63"
      },
      "execution_count": null,
      "outputs": [
        {
          "output_type": "execute_result",
          "data": {
            "text/plain": [
              "array([3, 0, 4, 3, 4, 6, 6, 3, 5, 1, 0, 2, 4, 1, 6, 4, 2, 3, 4, 5, 7, 3,\n",
              "       7, 2, 4, 5, 2, 4, 2, 3, 3, 1, 3, 5, 5, 2, 3, 3, 4, 0, 5, 5, 6, 4,\n",
              "       2, 1, 7, 6, 1, 3, 3, 3, 4, 5, 6, 4, 5, 3, 2, 4, 7, 4, 1, 6, 7, 1,\n",
              "       4, 1, 3, 6, 6, 5, 3, 6, 3, 2, 0, 3, 4, 1, 4, 4, 1, 4, 0, 6, 2, 7,\n",
              "       5, 5, 3, 5, 3, 4])"
            ]
          },
          "metadata": {},
          "execution_count": 126
        }
      ]
    },
    {
      "cell_type": "markdown",
      "source": [
        "### Test Set Confusion Matrix and Heatmap"
      ],
      "metadata": {
        "id": "Epp2QpxsUVXH"
      }
    },
    {
      "cell_type": "code",
      "source": [
        "# Test set Confusion matrix\n",
        "\n",
        "cm=confusion_matrix(y_test_class, y_pred_test_class)\n",
        "\n",
        "index = ['neutral', 'calm', 'happy', 'sad', 'angry', 'fearful', 'disgust', 'surprised']  \n",
        "columns = ['neutral', 'calm', 'happy', 'sad', 'angry', 'fearful', 'disgust', 'surprised']  \n",
        " \n",
        "cm_df = pd.DataFrame(cm,index,columns)                      \n",
        "plt.figure(figsize=(12,8))\n",
        "ax = plt.axes()\n",
        "\n",
        "sns.heatmap(cm_df, ax = ax, cmap = 'BuGn', fmt=\"d\", annot=True)\n",
        "ax.set_ylabel('True emotion')\n",
        "ax.set_xlabel('Predicted emotion')"
      ],
      "metadata": {
        "colab": {
          "base_uri": "https://localhost:8080/",
          "height": 515
        },
        "id": "ukGrk_cagzyb",
        "outputId": "79f76d60-f377-4230-bda9-0bc2c26c5611"
      },
      "execution_count": null,
      "outputs": [
        {
          "output_type": "execute_result",
          "data": {
            "text/plain": [
              "Text(0.5, 51.0, 'Predicted emotion')"
            ]
          },
          "metadata": {},
          "execution_count": 127
        },
        {
          "output_type": "display_data",
          "data": {
            "text/plain": [
              "<Figure size 864x576 with 2 Axes>"
            ],
            "image/png": "[encoded data removed]"
          },
          "metadata": {
            "needs_background": "light"
          }
        }
      ]
    },
    {
      "cell_type": "code",
      "source": [
        "# Confusion Matrix\n",
        "cm"
      ],
      "metadata": {
        "colab": {
          "base_uri": "https://localhost:8080/"
        },
        "id": "9f51xwUE8haF",
        "outputId": "962573b4-718e-4e26-b705-7c0b6f51af1c"
      },
      "execution_count": null,
      "outputs": [
        {
          "output_type": "execute_result",
          "data": {
            "text/plain": [
              "array([[ 0,  1,  1,  2,  0,  0,  0,  0],\n",
              "       [ 2,  7,  1,  5,  0,  0,  1,  0],\n",
              "       [ 1,  0,  1,  3,  2,  4,  1,  1],\n",
              "       [ 2,  0,  2,  4,  2,  2,  0,  1],\n",
              "       [ 0,  1,  3,  1, 11,  1,  0,  0],\n",
              "       [ 0,  1,  1,  3,  2,  5,  0,  0],\n",
              "       [ 0,  0,  0,  1,  2,  0,  7,  0],\n",
              "       [ 0,  0,  1,  1,  0,  1,  2,  4]])"
            ]
          },
          "metadata": {},
          "execution_count": 128
        }
      ]
    },
    {
      "cell_type": "markdown",
      "source": [
        "### Test Set Predicted emotions accuracy"
      ],
      "metadata": {
        "id": "zil3CkweUX0q"
      }
    },
    {
      "cell_type": "code",
      "source": [
        "# Test set prediction accuracy rates\n",
        "\n",
        "values = cm.diagonal()\n",
        "row_sum = np.sum(cm,axis=1)\n",
        "acc = values / row_sum\n",
        "\n",
        "print('Test set predicted emotions accuracy:')\n",
        "for e in range(0, len(values)):\n",
        "    print(index[e],':', f\"{(acc[e]):0.4f}\")"
      ],
      "metadata": {
        "colab": {
          "base_uri": "https://localhost:8080/"
        },
        "id": "t_ORyGGig090",
        "outputId": "79c52b13-b04a-4c6c-d372-bdbb0741a129"
      },
      "execution_count": null,
      "outputs": [
        {
          "output_type": "stream",
          "name": "stdout",
          "text": [
            "Test set predicted emotions accuracy:\n",
            "neutral : 0.0000\n",
            "calm : 0.4375\n",
            "happy : 0.0769\n",
            "sad : 0.3077\n",
            "angry : 0.6471\n",
            "fearful : 0.4167\n",
            "disgust : 0.7000\n",
            "surprised : 0.4444\n"
          ]
        }
      ]
    },
    {
      "cell_type": "markdown",
      "source": [
        "### Precision, Recal, Fscore"
      ],
      "metadata": {
        "id": "8Hzthv1t8kwd"
      }
    },
    {
      "cell_type": "code",
      "source": [
        "# Validation set precision, recall, fscore\n",
        "\n",
        "precision_recall_fscore_support(y_test_class, y_pred_test_class, average='macro')\n"
      ],
      "metadata": {
        "colab": {
          "base_uri": "https://localhost:8080/"
        },
        "id": "QnwWoVFnh33F",
        "outputId": "8e202246-c14a-41e0-cc6f-821badb0f88b"
      },
      "execution_count": null,
      "outputs": [
        {
          "output_type": "execute_result",
          "data": {
            "text/plain": [
              "(0.4083241320083425, 0.37878566490698845, 0.3848691767170028, None)"
            ]
          },
          "metadata": {},
          "execution_count": 130
        }
      ]
    },
    {
      "cell_type": "code",
      "source": [
        "precision_recall_fscore_support(y_test_class, y_pred_test_class, average='weighted')"
      ],
      "metadata": {
        "colab": {
          "base_uri": "https://localhost:8080/"
        },
        "id": "OlDhuPlqzwVB",
        "outputId": "78453cc9-b57e-4ef8-d113-224e559ede54"
      },
      "execution_count": null,
      "outputs": [
        {
          "output_type": "execute_result",
          "data": {
            "text/plain": [
              "(0.4459694281082859, 0.4148936170212766, 0.42077542664961726, None)"
            ]
          },
          "metadata": {},
          "execution_count": 131
        }
      ]
    },
    {
      "cell_type": "markdown",
      "source": [
        "### ROC AUC Curve"
      ],
      "metadata": {
        "id": "sEuBd9IyLuiD"
      }
    },
    {
      "cell_type": "code",
      "source": [
        "ravdess_df = pd.read_csv (df_path)"
      ],
      "metadata": {
        "id": "8bb4OSmyTO6v"
      },
      "execution_count": null,
      "outputs": []
    },
    {
      "cell_type": "code",
      "source": [
        "labels = [\"neutral\", \"calm\", \"happy\", \"sad\", \"angry\", \"fear\", \"disgust\", \"suprised\"]"
      ],
      "metadata": {
        "id": "1leZ4JGVTfTp"
      },
      "execution_count": null,
      "outputs": []
    },
    {
      "cell_type": "code",
      "source": [
        "y_test_adj = y_test.reshape(-1,)"
      ],
      "metadata": {
        "id": "MRm1ZwnxFStc"
      },
      "execution_count": null,
      "outputs": []
    },
    {
      "cell_type": "code",
      "source": [
        "y_proba_test_class.shape"
      ],
      "metadata": {
        "colab": {
          "base_uri": "https://localhost:8080/"
        },
        "id": "O-IcYOABFjxB",
        "outputId": "f0da10cf-b67a-46fa-82f2-258ca6bbc378"
      },
      "execution_count": null,
      "outputs": [
        {
          "output_type": "execute_result",
          "data": {
            "text/plain": [
              "(94, 8)"
            ]
          },
          "metadata": {},
          "execution_count": 183
        }
      ]
    },
    {
      "cell_type": "code",
      "source": [
        "y_test.shape"
      ],
      "metadata": {
        "colab": {
          "base_uri": "https://localhost:8080/"
        },
        "id": "9AaqUY3PIlMQ",
        "outputId": "26184349-ecbe-4315-ed90-d9ba8e388d76"
      },
      "execution_count": null,
      "outputs": [
        {
          "output_type": "execute_result",
          "data": {
            "text/plain": [
              "(94, 1)"
            ]
          },
          "metadata": {},
          "execution_count": 202
        }
      ]
    },
    {
      "cell_type": "code",
      "source": [
        "\n",
        "\n",
        "macro_roc_auc_ovo = roc_auc_score(y_test_adj, y_proba_test_class, multi_class=\"ovo\", average=\"macro\")\n",
        "weighted_roc_auc_ovo = roc_auc_score(\n",
        "    y_test_adj, y_proba_test_class, multi_class=\"ovo\", average=\"weighted\"\n",
        ")\n",
        "macro_roc_auc_ovr = roc_auc_score(y_test_adj, y_proba_test_class, multi_class=\"ovr\", average=\"macro\")\n",
        "weighted_roc_auc_ovr = roc_auc_score(\n",
        "    y_test_adj, y_proba_test_class, multi_class=\"ovr\", average=\"weighted\"\n",
        ")\n"
      ],
      "metadata": {
        "id": "oMa4N8EhHlY9"
      },
      "execution_count": null,
      "outputs": []
    },
    {
      "cell_type": "code",
      "source": [
        "print(\"One-vs-One ROC AUC scores:\\n{:.6f} (macro),\\n{:.6f} \" \"(weighted by prevalence)\\n\".format(macro_roc_auc_ovo, weighted_roc_auc_ovo))\n",
        "print(\"One-vs-Rest ROC AUC scores:\\n{:.6f} (macro),\\n{:.6f} \" \"(weighted by prevalence)\".format(macro_roc_auc_ovr, weighted_roc_auc_ovr))"
      ],
      "metadata": {
        "colab": {
          "base_uri": "https://localhost:8080/"
        },
        "id": "hhBLwtO_ICqL",
        "outputId": "2fb7cc66-4458-4b2c-9181-93dd8b0312f2"
      },
      "execution_count": null,
      "outputs": [
        {
          "output_type": "stream",
          "name": "stdout",
          "text": [
            "One-vs-One ROC AUC scores:\n",
            "0.767309 (macro),\n",
            "0.777940 (weighted by prevalence)\n",
            "\n",
            "One-vs-Rest ROC AUC scores:\n",
            "0.769483 (macro),\n",
            "0.793490 (weighted by prevalence)\n"
          ]
        }
      ]
    }
  ]
}
