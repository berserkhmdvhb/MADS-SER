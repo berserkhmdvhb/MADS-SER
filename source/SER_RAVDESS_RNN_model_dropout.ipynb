{
  "metadata": {
    "kernelspec": {
      "language": "python",
      "display_name": "Python 3",
      "name": "python3"
    },
    "language_info": {
      "pygments_lexer": "ipython3",
      "nbconvert_exporter": "python",
      "version": "3.6.4",
      "file_extension": ".py",
      "codemirror_mode": {
        "name": "ipython",
        "version": 3
      },
      "name": "python",
      "mimetype": "text/x-python"
    },
    "colab": {
      "name": "SER-RAVDESS-RNN-model-6-dropout.ipynb",
      "provenance": [],
      "collapsed_sections": []
    }
  },
  "nbformat_minor": 0,
  "nbformat": 4,
  "cells": [
    {
      "cell_type": "markdown",
      "source": [
        "# Imports"
      ],
      "metadata": {
        "id": "anSyerIFN7qd"
      }
    },
    {
      "cell_type": "code",
      "source": [
        "# Importing Libraries"
      ],
      "metadata": {
        "id": "IMFSwIuvKiw2"
      },
      "execution_count": null,
      "outputs": []
    },
    {
      "cell_type": "code",
      "source": [
        "!pip install json-tricks"
      ],
      "metadata": {
        "colab": {
          "base_uri": "https://localhost:8080/"
        },
        "id": "bBR8aNsmM2tR",
        "outputId": "5bf18a6f-1934-42e6-993a-ebfd9e7ee753"
      },
      "execution_count": null,
      "outputs": [
        {
          "output_type": "stream",
          "name": "stdout",
          "text": [
            "Requirement already satisfied: json-tricks in /usr/local/lib/python3.7/dist-packages (3.15.5)\n"
          ]
        }
      ]
    },
    {
      "cell_type": "code",
      "source": [
        "import pandas as pd\n",
        "import numpy as np\n",
        "\n",
        "import os\n",
        "import sys\n",
        "\n",
        "import librosa\n",
        "import librosa.display\n",
        "#from pydub import AudioSegment, effects\n",
        "#import noisereduce as nr\n",
        "\n",
        "\n",
        "import seaborn as sns\n",
        "import matplotlib.pyplot as plt\n",
        "from IPython.display import Audio\n",
        "\n",
        "import tensorflow as tf\n",
        "import keras\n",
        "import sklearn\n",
        "\n",
        "\n",
        "from tensorflow.keras.models import Sequential, Model\n",
        "from tensorflow.keras.layers import Dense, LSTM, Flatten, Dropout, BatchNormalization\n",
        "from tensorflow.keras.callbacks import ModelCheckpoint, EarlyStopping, ReduceLROnPlateau\n",
        "from tensorflow.keras.optimizers import Adam, SGD\n",
        "from tensorflow.keras.utils import to_categorical, plot_model\n",
        "\n",
        "\n",
        "from keras.models import Sequential\n",
        "from keras import layers\n",
        "from keras import optimizers\n",
        "from keras import callbacks\n",
        "\n",
        "from sklearn.preprocessing import StandardScaler, OneHotEncoder, LabelEncoder\n",
        "from sklearn.metrics import confusion_matrix, classification_report, precision_recall_fscore_support\n",
        "from sklearn.model_selection import train_test_split, StratifiedShuffleSplit\n",
        "\n",
        "from tqdm import tqdm\n",
        "\n",
        "\n",
        "from json_tricks import dump, load\n",
        "\n",
        "\n",
        "\n",
        "import warnings\n",
        "if not sys.warnoptions:\n",
        "    warnings.simplefilter(\"ignore\")\n",
        "warnings.filterwarnings(\"ignore\", category=DeprecationWarning) \n",
        "\n",
        "import time\n",
        "tic = time.perf_counter()\n",
        "\n"
      ],
      "metadata": {
        "id": "77IS8HxqFFCA"
      },
      "execution_count": null,
      "outputs": []
    },
    {
      "cell_type": "code",
      "source": [
        ""
      ],
      "metadata": {
        "id": "gGYqBIk0FGm4"
      },
      "execution_count": null,
      "outputs": []
    },
    {
      "cell_type": "markdown",
      "source": [
        "# Dataset"
      ],
      "metadata": {
        "id": "nyMzoZKKKiw6"
      }
    },
    {
      "cell_type": "code",
      "source": [
        "from google.colab import drive\n",
        "drive.mount('/content/drive')"
      ],
      "metadata": {
        "colab": {
          "base_uri": "https://localhost:8080/"
        },
        "id": "JFPDGXmwCBs_",
        "outputId": "b6a7b2ab-8669-4b37-cab4-9ae834a62606"
      },
      "execution_count": null,
      "outputs": [
        {
          "output_type": "stream",
          "name": "stdout",
          "text": [
            "Drive already mounted at /content/drive; to attempt to forcibly remount, call drive.mount(\"/content/drive\", force_remount=True).\n"
          ]
        }
      ]
    },
    {
      "cell_type": "code",
      "source": [
        "#Crema = \"/content/drive/MyDrive/datasets/speech/CREMAD/sample/\"\n",
        "#Crema = \"/content/drive/MyDrive/datasets/speech/CREMAD/AudioWAV/\"\n",
        "Ravdess = \"/content/drive/MyDrive/datasets/speech/RAVDESS/data\"\n",
        "Ravdess_processed = \"/content/drive/MyDrive/datasets/speech/RAVDESS/processedData/\"\n",
        "Ravdess_speech_sample = \"/content/drive/MyDrive/datasets/speech/RAVDESS/data/Audio_Speech_Actors_01-24/\"\n",
        "model_path = Ravdess + \"/model/\"\n",
        "# Callbacks functions\n",
        "checkpoint_path = Ravdess + \"/model/best_weights-6.hdf5\"\n",
        "saved_model_path = model_path + 'model8723-6.json'\n",
        "\n",
        "saved_weights_path = model_path + 'model8723_weights-6.h5'\n",
        "saved_model_path_2 = model_path + 'Speech-Emotion-Recognition-Model-RNN-6.h5'"
      ],
      "metadata": {
        "execution": {
          "iopub.status.busy": "2021-06-21T09:35:38.093538Z",
          "iopub.execute_input": "2021-06-21T09:35:38.093869Z",
          "iopub.status.idle": "2021-06-21T09:35:38.097467Z",
          "shell.execute_reply.started": "2021-06-21T09:35:38.093838Z",
          "shell.execute_reply": "2021-06-21T09:35:38.096608Z"
        },
        "trusted": true,
        "id": "vR2GjHL4Kiw7"
      },
      "execution_count": null,
      "outputs": []
    },
    {
      "cell_type": "code",
      "source": [
        ""
      ],
      "metadata": {
        "id": "J2T6JxzIF2Jq"
      },
      "execution_count": null,
      "outputs": []
    },
    {
      "cell_type": "code",
      "source": [
        "##Hypter Parameters' Range\n",
        "params = {\n",
        "    \"batch_size\": 20,  # 20<16<10, 25 was a bust\n",
        "    \"epochs\": 300,\n",
        "    \"lr\": 0.00010000,\n",
        "    \"time_steps\": 60\n",
        "}\n",
        "#TIME_STEPS = params[\"time_steps\"]\n",
        "#BATCH_SIZE = params[\"batch_size\"]\n",
        "#iter_changes = \"dropout_layers_0.4_0.4\"\n"
      ],
      "metadata": {
        "id": "jnEd5_Vvy4ue"
      },
      "execution_count": null,
      "outputs": []
    },
    {
      "cell_type": "code",
      "source": [
        ""
      ],
      "metadata": {
        "id": "dKXM0xT-N8uy"
      },
      "execution_count": null,
      "outputs": []
    },
    {
      "cell_type": "markdown",
      "source": [
        "# Load Processed Files, Construct Train, Validation and Test Sets"
      ],
      "metadata": {
        "id": "fse_mTpaOGdQ"
      }
    },
    {
      "cell_type": "code",
      "source": [
        "\n",
        "processed_path = Ravdess_processed\n",
        "x_path = processed_path + \"X_datanew.json\" # FILE LOAD PATH\n",
        "y_path =  processed_path + \"Y_datanew.json\" # FILE SAVE PATH\n",
        "#x_path = '/content/drive/MyDrive/datasets/speech/RAVDESS/processedData/X_datanew.json'\n",
        "\n",
        "# Load X,Y json files back into lists, convert to np.arrays\n",
        "\n",
        "X = load(x_path)\n",
        "X = np.asarray(X, dtype = 'float32')\n",
        "\n",
        "Y = load(y_path)\n",
        "Y = np.asarray(Y, dtype = 'int8')"
      ],
      "metadata": {
        "id": "101BpvWgN8xX"
      },
      "execution_count": null,
      "outputs": []
    },
    {
      "cell_type": "code",
      "source": [
        "# Split to train, validation, and test sets.\n",
        "from sklearn.model_selection import train_test_split\n",
        "x_train, x_tosplit, y_train, y_tosplit = train_test_split(X, Y, test_size = 0.125, random_state = 1)\n",
        "x_val, x_test, y_val, y_test = train_test_split(x_tosplit, y_tosplit, test_size = 0.304, random_state = 1)\n",
        "\n",
        "#'One-hot' vectors for Y: emotion classification\n",
        "y_train_class = tf.keras.utils.to_categorical(y_train, 8, dtype = 'int8')\n",
        "y_val_class = tf.keras.utils.to_categorical(y_val, 8, dtype = 'int8')"
      ],
      "metadata": {
        "id": "CuF9M1mfOD7X"
      },
      "execution_count": null,
      "outputs": []
    },
    {
      "cell_type": "code",
      "source": [
        "# x_train, x_val, and x_test shape check.\n",
        "print(np.shape(x_train))\n",
        "print(np.shape(x_val))\n",
        "print(np.shape(x_test))"
      ],
      "metadata": {
        "colab": {
          "base_uri": "https://localhost:8080/"
        },
        "id": "od-D1YgBOGXs",
        "outputId": "26ffa619-8932-46c1-91eb-f24ca5c11a6a"
      },
      "execution_count": null,
      "outputs": [
        {
          "output_type": "stream",
          "name": "stdout",
          "text": [
            "(2145, 523, 15)\n",
            "(213, 523, 15)\n",
            "(94, 523, 15)\n"
          ]
        }
      ]
    },
    {
      "cell_type": "code",
      "source": [
        "# Save x_test, y_test to JSON.\n",
        "\n",
        "x_test_path = processed_path + 'x_test_data.json'\n",
        "dump(obj = x_test, fp = x_test_path)\n",
        "\n",
        "y_test_path = processed_path + 'y_test_data.json'\n",
        "dump(obj = y_test, fp = y_test_path)"
      ],
      "metadata": {
        "colab": {
          "base_uri": "https://localhost:8080/",
          "height": 91
        },
        "id": "nTExHJVsOHQ5",
        "outputId": "3122b85c-829e-4797-b713-9c811bb03453"
      },
      "execution_count": null,
      "outputs": [
        {
          "output_type": "execute_result",
          "data": {
            "text/plain": [
              "'{\"__ndarray__\": [[4], [3], [3], [3], [2], [4], [4], [1], [3], [0], [3], [5], [2], [6], [0], [3], [2], [5], [5], [3], [7], [1], [5], [0], [2], [7], [0], [4], [3], [3], [2], [4], [2], [5], [6], [5], [5], [4], [5], [3], [7], [4], [3], [2], [4], [0], [1], [2], [6], [1], [3], [4], [5], [6], [7], [6], [3], [4], [5], [7], [4], [4], [7], [3], [1], [0], [4], [1], [3], [4], [1], [0], [4], [4], [1], [2], [2], [6], [3], [5], [3], [3], [3], [5], [5], [5], [6], [4], [2], [6], [2], [4], [3], [1]], \"dtype\": \"int8\", \"shape\": [94, 1], \"Corder\": true}'"
            ],
            "application/vnd.google.colaboratory.intrinsic+json": {
              "type": "string"
            }
          },
          "metadata": {},
          "execution_count": 10
        }
      ]
    },
    {
      "cell_type": "code",
      "source": [
        ""
      ],
      "metadata": {
        "id": "15joCR4gu4r7"
      },
      "execution_count": null,
      "outputs": []
    },
    {
      "cell_type": "markdown",
      "source": [
        "# Model"
      ],
      "metadata": {
        "id": "gnWVMbR6KixC"
      }
    },
    {
      "cell_type": "code",
      "source": [
        ""
      ],
      "metadata": {
        "id": "iD4zuGqsP9B2"
      },
      "execution_count": null,
      "outputs": []
    },
    {
      "cell_type": "markdown",
      "source": [
        "RNN Model"
      ],
      "metadata": {
        "id": "_1AcuwxiCrRK"
      }
    },
    {
      "cell_type": "markdown",
      "source": [
        "## Define Model & Training"
      ],
      "metadata": {
        "id": "GJjJYnJQORJ8"
      }
    },
    {
      "cell_type": "code",
      "source": [
        "# Initializing the model\n",
        "\n",
        "model = Sequential()\n",
        "model.add(layers.LSTM(64, return_sequences = True, input_shape=(X.shape[1:3])))\n",
        "model.add(layers.LSTM(64))\n",
        "model.add(Dropout(0.3))\n",
        "model.add(layers.Dense(8, activation = 'softmax'))\n",
        "print(model.summary())\n",
        "\n",
        "batch_size = 23\n",
        "\n",
        "# Callbacks functions\n",
        "\n",
        "#-> EearlyStopping\n",
        "es = EarlyStopping(monitor='val_loss', mode='min', verbose=1,\n",
        "                    patience=40, min_delta=0.0001)\n",
        "\n",
        "\n",
        "#-> Save the best weights\n",
        "mcp_save = callbacks.ModelCheckpoint(checkpoint_path, save_best_only=True,\n",
        "                           monitor='val_categorical_accuracy',\n",
        "                           mode='max')\n",
        "#-> Reduce learning rate after 100 epoches without improvement.\n",
        "rlrop = callbacks.ReduceLROnPlateau(monitor='val_categorical_accuracy', \n",
        "                                    factor=0.1, patience=100)\n",
        "                             \n",
        "# Compile & train   \n",
        "model.compile(loss='categorical_crossentropy', \n",
        "                optimizer='RMSProp', \n",
        "                metrics=['categorical_accuracy'])\n",
        "\n",
        "history = model.fit(x_train, y_train_class, \n",
        "                      epochs=340, batch_size = batch_size, \n",
        "                      validation_data = (x_val, y_val_class), \n",
        "                      callbacks = [es, mcp_save, rlrop])\n",
        "# Define the best weights to the model.\n",
        "model.load_weights(checkpoint_path)"
      ],
      "metadata": {
        "colab": {
          "base_uri": "https://localhost:8080/"
        },
        "id": "aD2adyVGOJs4",
        "outputId": "8145d228-6e2d-4056-e91c-5ad3357ff42c"
      },
      "execution_count": null,
      "outputs": [
        {
          "output_type": "stream",
          "name": "stdout",
          "text": [
            "Model: \"sequential\"\n",
            "_________________________________________________________________\n",
            " Layer (type)                Output Shape              Param #   \n",
            "=================================================================\n",
            " lstm (LSTM)                 (None, 523, 64)           20480     \n",
            "                                                                 \n",
            " lstm_1 (LSTM)               (None, 64)                33024     \n",
            "                                                                 \n",
            " dropout (Dropout)           (None, 64)                0         \n",
            "                                                                 \n",
            " dense (Dense)               (None, 8)                 520       \n",
            "                                                                 \n",
            "=================================================================\n",
            "Total params: 54,024\n",
            "Trainable params: 54,024\n",
            "Non-trainable params: 0\n",
            "_________________________________________________________________\n",
            "None\n",
            "Epoch 1/340\n",
            "94/94 [==============================] - 50s 485ms/step - loss: 2.0593 - categorical_accuracy: 0.1333 - val_loss: 2.0353 - val_categorical_accuracy: 0.1596 - lr: 0.0010\n",
            "Epoch 2/340\n",
            "94/94 [==============================] - 45s 480ms/step - loss: 2.0543 - categorical_accuracy: 0.1478 - val_loss: 2.0155 - val_categorical_accuracy: 0.1268 - lr: 0.0010\n",
            "Epoch 3/340\n",
            "94/94 [==============================] - 44s 472ms/step - loss: 2.0279 - categorical_accuracy: 0.1786 - val_loss: 2.0070 - val_categorical_accuracy: 0.1972 - lr: 0.0010\n",
            "Epoch 4/340\n",
            "94/94 [==============================] - 45s 479ms/step - loss: 2.0040 - categorical_accuracy: 0.1991 - val_loss: 1.9714 - val_categorical_accuracy: 0.2160 - lr: 0.0010\n",
            "Epoch 5/340\n",
            "94/94 [==============================] - 44s 469ms/step - loss: 1.9507 - categorical_accuracy: 0.2275 - val_loss: 2.1093 - val_categorical_accuracy: 0.1925 - lr: 0.0010\n",
            "Epoch 6/340\n",
            "94/94 [==============================] - 44s 466ms/step - loss: 1.9348 - categorical_accuracy: 0.2378 - val_loss: 1.9234 - val_categorical_accuracy: 0.2300 - lr: 0.0010\n",
            "Epoch 7/340\n",
            "94/94 [==============================] - 45s 477ms/step - loss: 1.9162 - categorical_accuracy: 0.2457 - val_loss: 1.9328 - val_categorical_accuracy: 0.2300 - lr: 0.0010\n",
            "Epoch 8/340\n",
            "94/94 [==============================] - 43s 462ms/step - loss: 1.9135 - categorical_accuracy: 0.2424 - val_loss: 1.9355 - val_categorical_accuracy: 0.2441 - lr: 0.0010\n",
            "Epoch 9/340\n",
            "94/94 [==============================] - 44s 468ms/step - loss: 1.9274 - categorical_accuracy: 0.2531 - val_loss: 1.9830 - val_categorical_accuracy: 0.2019 - lr: 0.0010\n",
            "Epoch 10/340\n",
            "94/94 [==============================] - 44s 469ms/step - loss: 1.9721 - categorical_accuracy: 0.2107 - val_loss: 1.9648 - val_categorical_accuracy: 0.2019 - lr: 0.0010\n",
            "Epoch 11/340\n",
            "94/94 [==============================] - 43s 462ms/step - loss: 1.9536 - categorical_accuracy: 0.2219 - val_loss: 1.9588 - val_categorical_accuracy: 0.1831 - lr: 0.0010\n",
            "Epoch 12/340\n",
            "94/94 [==============================] - 43s 460ms/step - loss: 1.9172 - categorical_accuracy: 0.2424 - val_loss: 1.9316 - val_categorical_accuracy: 0.2300 - lr: 0.0010\n",
            "Epoch 13/340\n",
            "94/94 [==============================] - 43s 459ms/step - loss: 1.8835 - categorical_accuracy: 0.2443 - val_loss: 1.9191 - val_categorical_accuracy: 0.2300 - lr: 0.0010\n",
            "Epoch 14/340\n",
            "94/94 [==============================] - 45s 484ms/step - loss: 1.8622 - categorical_accuracy: 0.2788 - val_loss: 1.8965 - val_categorical_accuracy: 0.2535 - lr: 0.0010\n",
            "Epoch 15/340\n",
            "94/94 [==============================] - 44s 465ms/step - loss: 1.8567 - categorical_accuracy: 0.2704 - val_loss: 1.8555 - val_categorical_accuracy: 0.2723 - lr: 0.0010\n",
            "Epoch 16/340\n",
            "94/94 [==============================] - 44s 465ms/step - loss: 1.8366 - categorical_accuracy: 0.2853 - val_loss: 1.8729 - val_categorical_accuracy: 0.2629 - lr: 0.0010\n",
            "Epoch 17/340\n",
            "94/94 [==============================] - 44s 467ms/step - loss: 1.8078 - categorical_accuracy: 0.3002 - val_loss: 1.9831 - val_categorical_accuracy: 0.2817 - lr: 0.0010\n",
            "Epoch 18/340\n",
            "94/94 [==============================] - 44s 463ms/step - loss: 1.8167 - categorical_accuracy: 0.3035 - val_loss: 1.8431 - val_categorical_accuracy: 0.2911 - lr: 0.0010\n",
            "Epoch 19/340\n",
            "94/94 [==============================] - 44s 469ms/step - loss: 1.8002 - categorical_accuracy: 0.3007 - val_loss: 1.8568 - val_categorical_accuracy: 0.2817 - lr: 0.0010\n",
            "Epoch 20/340\n",
            "94/94 [==============================] - 44s 467ms/step - loss: 1.7924 - categorical_accuracy: 0.3096 - val_loss: 1.9197 - val_categorical_accuracy: 0.2911 - lr: 0.0010\n",
            "Epoch 21/340\n",
            "94/94 [==============================] - 44s 467ms/step - loss: 1.7539 - categorical_accuracy: 0.3277 - val_loss: 1.8409 - val_categorical_accuracy: 0.2723 - lr: 0.0010\n",
            "Epoch 22/340\n",
            "94/94 [==============================] - 44s 471ms/step - loss: 1.7426 - categorical_accuracy: 0.3324 - val_loss: 1.7732 - val_categorical_accuracy: 0.3192 - lr: 0.0010\n",
            "Epoch 23/340\n",
            "94/94 [==============================] - 43s 460ms/step - loss: 1.7303 - categorical_accuracy: 0.3329 - val_loss: 1.8162 - val_categorical_accuracy: 0.3005 - lr: 0.0010\n",
            "Epoch 24/340\n",
            "94/94 [==============================] - 44s 466ms/step - loss: 1.7452 - categorical_accuracy: 0.3231 - val_loss: 1.7822 - val_categorical_accuracy: 0.3052 - lr: 0.0010\n",
            "Epoch 25/340\n",
            "94/94 [==============================] - 44s 471ms/step - loss: 1.7260 - categorical_accuracy: 0.3338 - val_loss: 1.7542 - val_categorical_accuracy: 0.3005 - lr: 0.0010\n",
            "Epoch 26/340\n",
            "94/94 [==============================] - 44s 467ms/step - loss: 1.6973 - categorical_accuracy: 0.3548 - val_loss: 1.7681 - val_categorical_accuracy: 0.3333 - lr: 0.0010\n",
            "Epoch 27/340\n",
            "94/94 [==============================] - 44s 466ms/step - loss: 1.6981 - categorical_accuracy: 0.3594 - val_loss: 1.7440 - val_categorical_accuracy: 0.3286 - lr: 0.0010\n",
            "Epoch 28/340\n",
            "94/94 [==============================] - 44s 465ms/step - loss: 1.6958 - categorical_accuracy: 0.3552 - val_loss: 1.7707 - val_categorical_accuracy: 0.3146 - lr: 0.0010\n",
            "Epoch 29/340\n",
            "94/94 [==============================] - 44s 465ms/step - loss: 1.6703 - categorical_accuracy: 0.3762 - val_loss: 1.7295 - val_categorical_accuracy: 0.3803 - lr: 0.0010\n",
            "Epoch 30/340\n",
            "94/94 [==============================] - 44s 465ms/step - loss: 1.6635 - categorical_accuracy: 0.3622 - val_loss: 1.7320 - val_categorical_accuracy: 0.3239 - lr: 0.0010\n",
            "Epoch 31/340\n",
            "94/94 [==============================] - 44s 463ms/step - loss: 1.6688 - categorical_accuracy: 0.3664 - val_loss: 1.7286 - val_categorical_accuracy: 0.3568 - lr: 0.0010\n",
            "Epoch 32/340\n",
            "94/94 [==============================] - 44s 464ms/step - loss: 1.6654 - categorical_accuracy: 0.3594 - val_loss: 1.7410 - val_categorical_accuracy: 0.3380 - lr: 0.0010\n",
            "Epoch 33/340\n",
            "94/94 [==============================] - 44s 469ms/step - loss: 1.6439 - categorical_accuracy: 0.3879 - val_loss: 1.7466 - val_categorical_accuracy: 0.3099 - lr: 0.0010\n",
            "Epoch 34/340\n",
            "94/94 [==============================] - 44s 466ms/step - loss: 1.6360 - categorical_accuracy: 0.3837 - val_loss: 1.6492 - val_categorical_accuracy: 0.3850 - lr: 0.0010\n",
            "Epoch 35/340\n",
            "94/94 [==============================] - 44s 463ms/step - loss: 1.6342 - categorical_accuracy: 0.3650 - val_loss: 1.7665 - val_categorical_accuracy: 0.3192 - lr: 0.0010\n",
            "Epoch 36/340\n",
            "94/94 [==============================] - 44s 467ms/step - loss: 1.6196 - categorical_accuracy: 0.3921 - val_loss: 1.7241 - val_categorical_accuracy: 0.3709 - lr: 0.0010\n",
            "Epoch 37/340\n",
            "94/94 [==============================] - 44s 464ms/step - loss: 1.6192 - categorical_accuracy: 0.3800 - val_loss: 1.6615 - val_categorical_accuracy: 0.3192 - lr: 0.0010\n",
            "Epoch 38/340\n",
            "94/94 [==============================] - 44s 467ms/step - loss: 1.6203 - categorical_accuracy: 0.3762 - val_loss: 1.7085 - val_categorical_accuracy: 0.3380 - lr: 0.0010\n",
            "Epoch 39/340\n",
            "94/94 [==============================] - 44s 466ms/step - loss: 1.5992 - categorical_accuracy: 0.3855 - val_loss: 1.7487 - val_categorical_accuracy: 0.3333 - lr: 0.0010\n",
            "Epoch 40/340\n",
            "94/94 [==============================] - 44s 466ms/step - loss: 1.5924 - categorical_accuracy: 0.3893 - val_loss: 1.6593 - val_categorical_accuracy: 0.3709 - lr: 0.0010\n",
            "Epoch 41/340\n",
            "94/94 [==============================] - 44s 468ms/step - loss: 1.5849 - categorical_accuracy: 0.3818 - val_loss: 1.6288 - val_categorical_accuracy: 0.3521 - lr: 0.0010\n",
            "Epoch 42/340\n",
            "94/94 [==============================] - 45s 474ms/step - loss: 1.5769 - categorical_accuracy: 0.3972 - val_loss: 1.6599 - val_categorical_accuracy: 0.3803 - lr: 0.0010\n",
            "Epoch 43/340\n",
            "94/94 [==============================] - 44s 472ms/step - loss: 1.5469 - categorical_accuracy: 0.4098 - val_loss: 1.6822 - val_categorical_accuracy: 0.3568 - lr: 0.0010\n",
            "Epoch 44/340\n",
            "94/94 [==============================] - 45s 476ms/step - loss: 1.5775 - categorical_accuracy: 0.3977 - val_loss: 1.6918 - val_categorical_accuracy: 0.3568 - lr: 0.0010\n",
            "Epoch 45/340\n",
            "94/94 [==============================] - 44s 470ms/step - loss: 1.5741 - categorical_accuracy: 0.4061 - val_loss: 1.7942 - val_categorical_accuracy: 0.3427 - lr: 0.0010\n",
            "Epoch 46/340\n",
            "94/94 [==============================] - 44s 471ms/step - loss: 1.5733 - categorical_accuracy: 0.3986 - val_loss: 1.6451 - val_categorical_accuracy: 0.3662 - lr: 0.0010\n",
            "Epoch 47/340\n",
            "94/94 [==============================] - 44s 471ms/step - loss: 1.5465 - categorical_accuracy: 0.4065 - val_loss: 1.6358 - val_categorical_accuracy: 0.3568 - lr: 0.0010\n",
            "Epoch 48/340\n",
            "94/94 [==============================] - 44s 470ms/step - loss: 1.5512 - categorical_accuracy: 0.4131 - val_loss: 1.6903 - val_categorical_accuracy: 0.3850 - lr: 0.0010\n",
            "Epoch 49/340\n",
            "94/94 [==============================] - 44s 468ms/step - loss: 1.5345 - categorical_accuracy: 0.4047 - val_loss: 1.7084 - val_categorical_accuracy: 0.3521 - lr: 0.0010\n",
            "Epoch 50/340\n",
            "94/94 [==============================] - 44s 467ms/step - loss: 1.5622 - categorical_accuracy: 0.3977 - val_loss: 1.6833 - val_categorical_accuracy: 0.3333 - lr: 0.0010\n",
            "Epoch 51/340\n",
            "94/94 [==============================] - 44s 468ms/step - loss: 1.5176 - categorical_accuracy: 0.4345 - val_loss: 1.6921 - val_categorical_accuracy: 0.3286 - lr: 0.0010\n",
            "Epoch 52/340\n",
            "94/94 [==============================] - 44s 471ms/step - loss: 1.5171 - categorical_accuracy: 0.4154 - val_loss: 1.7028 - val_categorical_accuracy: 0.3333 - lr: 0.0010\n",
            "Epoch 53/340\n",
            "94/94 [==============================] - 44s 474ms/step - loss: 1.5201 - categorical_accuracy: 0.4149 - val_loss: 1.7000 - val_categorical_accuracy: 0.3427 - lr: 0.0010\n",
            "Epoch 54/340\n",
            "94/94 [==============================] - 44s 470ms/step - loss: 1.5142 - categorical_accuracy: 0.4172 - val_loss: 1.7031 - val_categorical_accuracy: 0.3474 - lr: 0.0010\n",
            "Epoch 55/340\n",
            "94/94 [==============================] - 45s 474ms/step - loss: 1.5093 - categorical_accuracy: 0.4261 - val_loss: 1.6122 - val_categorical_accuracy: 0.3380 - lr: 0.0010\n",
            "Epoch 56/340\n",
            "94/94 [==============================] - 44s 472ms/step - loss: 1.4874 - categorical_accuracy: 0.4364 - val_loss: 1.5991 - val_categorical_accuracy: 0.3897 - lr: 0.0010\n",
            "Epoch 57/340\n",
            "94/94 [==============================] - 44s 470ms/step - loss: 1.4770 - categorical_accuracy: 0.4392 - val_loss: 1.7153 - val_categorical_accuracy: 0.3568 - lr: 0.0010\n",
            "Epoch 58/340\n",
            "94/94 [==============================] - 45s 475ms/step - loss: 1.4866 - categorical_accuracy: 0.4303 - val_loss: 1.7264 - val_categorical_accuracy: 0.3286 - lr: 0.0010\n",
            "Epoch 59/340\n",
            "94/94 [==============================] - 44s 472ms/step - loss: 1.4719 - categorical_accuracy: 0.4387 - val_loss: 1.6751 - val_categorical_accuracy: 0.3944 - lr: 0.0010\n",
            "Epoch 60/340\n",
            "94/94 [==============================] - 44s 473ms/step - loss: 1.4818 - categorical_accuracy: 0.4340 - val_loss: 1.6487 - val_categorical_accuracy: 0.3568 - lr: 0.0010\n",
            "Epoch 61/340\n",
            "94/94 [==============================] - 45s 475ms/step - loss: 1.4813 - categorical_accuracy: 0.4331 - val_loss: 1.6801 - val_categorical_accuracy: 0.3709 - lr: 0.0010\n",
            "Epoch 62/340\n",
            "94/94 [==============================] - 44s 471ms/step - loss: 1.4587 - categorical_accuracy: 0.4410 - val_loss: 1.6901 - val_categorical_accuracy: 0.3427 - lr: 0.0010\n",
            "Epoch 63/340\n",
            "94/94 [==============================] - 44s 473ms/step - loss: 1.4959 - categorical_accuracy: 0.4242 - val_loss: 1.6603 - val_categorical_accuracy: 0.3850 - lr: 0.0010\n",
            "Epoch 64/340\n",
            "94/94 [==============================] - 44s 468ms/step - loss: 1.4923 - categorical_accuracy: 0.4312 - val_loss: 1.6549 - val_categorical_accuracy: 0.3709 - lr: 0.0010\n",
            "Epoch 65/340\n",
            "94/94 [==============================] - 44s 469ms/step - loss: 1.4845 - categorical_accuracy: 0.4210 - val_loss: 1.6571 - val_categorical_accuracy: 0.3709 - lr: 0.0010\n",
            "Epoch 66/340\n",
            "94/94 [==============================] - 44s 468ms/step - loss: 1.4558 - categorical_accuracy: 0.4517 - val_loss: 1.6743 - val_categorical_accuracy: 0.3850 - lr: 0.0010\n",
            "Epoch 67/340\n",
            "94/94 [==============================] - 44s 471ms/step - loss: 1.4688 - categorical_accuracy: 0.4331 - val_loss: 1.6241 - val_categorical_accuracy: 0.3803 - lr: 0.0010\n",
            "Epoch 68/340\n",
            "94/94 [==============================] - 44s 471ms/step - loss: 1.4530 - categorical_accuracy: 0.4462 - val_loss: 1.7481 - val_categorical_accuracy: 0.3380 - lr: 0.0010\n",
            "Epoch 69/340\n",
            "94/94 [==============================] - 44s 470ms/step - loss: 1.4303 - categorical_accuracy: 0.4522 - val_loss: 1.7014 - val_categorical_accuracy: 0.3756 - lr: 0.0010\n",
            "Epoch 70/340\n",
            "94/94 [==============================] - 44s 470ms/step - loss: 1.4277 - categorical_accuracy: 0.4559 - val_loss: 1.6388 - val_categorical_accuracy: 0.3709 - lr: 0.0010\n",
            "Epoch 71/340\n",
            "94/94 [==============================] - 44s 471ms/step - loss: 1.4664 - categorical_accuracy: 0.4406 - val_loss: 1.6556 - val_categorical_accuracy: 0.4131 - lr: 0.0010\n",
            "Epoch 72/340\n",
            "94/94 [==============================] - 44s 470ms/step - loss: 1.4479 - categorical_accuracy: 0.4587 - val_loss: 1.6750 - val_categorical_accuracy: 0.3709 - lr: 0.0010\n",
            "Epoch 73/340\n",
            "94/94 [==============================] - 44s 472ms/step - loss: 1.4676 - categorical_accuracy: 0.4354 - val_loss: 1.6979 - val_categorical_accuracy: 0.3662 - lr: 0.0010\n",
            "Epoch 74/340\n",
            "94/94 [==============================] - 44s 470ms/step - loss: 1.4241 - categorical_accuracy: 0.4527 - val_loss: 1.7141 - val_categorical_accuracy: 0.3427 - lr: 0.0010\n",
            "Epoch 75/340\n",
            "94/94 [==============================] - 44s 468ms/step - loss: 1.4317 - categorical_accuracy: 0.4550 - val_loss: 1.6598 - val_categorical_accuracy: 0.3991 - lr: 0.0010\n",
            "Epoch 76/340\n",
            "94/94 [==============================] - 44s 466ms/step - loss: 1.4336 - categorical_accuracy: 0.4541 - val_loss: 1.6433 - val_categorical_accuracy: 0.3568 - lr: 0.0010\n",
            "Epoch 77/340\n",
            "94/94 [==============================] - 44s 463ms/step - loss: 1.4369 - categorical_accuracy: 0.4578 - val_loss: 1.7279 - val_categorical_accuracy: 0.3709 - lr: 0.0010\n",
            "Epoch 78/340\n",
            "94/94 [==============================] - 44s 463ms/step - loss: 1.4315 - categorical_accuracy: 0.4466 - val_loss: 1.6668 - val_categorical_accuracy: 0.3427 - lr: 0.0010\n",
            "Epoch 79/340\n",
            "94/94 [==============================] - 44s 464ms/step - loss: 1.4314 - categorical_accuracy: 0.4583 - val_loss: 1.5933 - val_categorical_accuracy: 0.3756 - lr: 0.0010\n",
            "Epoch 80/340\n",
            "94/94 [==============================] - 44s 464ms/step - loss: 1.4228 - categorical_accuracy: 0.4522 - val_loss: 1.6497 - val_categorical_accuracy: 0.4085 - lr: 0.0010\n",
            "Epoch 81/340\n",
            "94/94 [==============================] - 43s 460ms/step - loss: 1.4192 - categorical_accuracy: 0.4625 - val_loss: 1.5956 - val_categorical_accuracy: 0.3897 - lr: 0.0010\n",
            "Epoch 82/340\n",
            "94/94 [==============================] - 43s 462ms/step - loss: 1.4120 - categorical_accuracy: 0.4620 - val_loss: 1.7101 - val_categorical_accuracy: 0.3615 - lr: 0.0010\n",
            "Epoch 83/340\n",
            "94/94 [==============================] - 43s 460ms/step - loss: 1.4147 - categorical_accuracy: 0.4643 - val_loss: 1.6159 - val_categorical_accuracy: 0.3521 - lr: 0.0010\n",
            "Epoch 84/340\n",
            "94/94 [==============================] - 43s 461ms/step - loss: 1.4046 - categorical_accuracy: 0.4606 - val_loss: 1.7332 - val_categorical_accuracy: 0.3709 - lr: 0.0010\n",
            "Epoch 85/340\n",
            "94/94 [==============================] - 44s 468ms/step - loss: 1.4054 - categorical_accuracy: 0.4625 - val_loss: 1.7030 - val_categorical_accuracy: 0.3944 - lr: 0.0010\n",
            "Epoch 86/340\n",
            "94/94 [==============================] - 44s 473ms/step - loss: 1.3701 - categorical_accuracy: 0.4802 - val_loss: 1.6624 - val_categorical_accuracy: 0.3944 - lr: 0.0010\n",
            "Epoch 87/340\n",
            "94/94 [==============================] - 45s 477ms/step - loss: 1.3707 - categorical_accuracy: 0.4788 - val_loss: 1.6094 - val_categorical_accuracy: 0.3803 - lr: 0.0010\n",
            "Epoch 88/340\n",
            "94/94 [==============================] - 44s 472ms/step - loss: 1.3762 - categorical_accuracy: 0.4732 - val_loss: 1.6505 - val_categorical_accuracy: 0.3944 - lr: 0.0010\n",
            "Epoch 89/340\n",
            "94/94 [==============================] - 44s 470ms/step - loss: 1.3576 - categorical_accuracy: 0.4802 - val_loss: 1.6471 - val_categorical_accuracy: 0.3991 - lr: 0.0010\n",
            "Epoch 90/340\n",
            "94/94 [==============================] - 45s 477ms/step - loss: 1.3707 - categorical_accuracy: 0.4853 - val_loss: 1.6776 - val_categorical_accuracy: 0.3521 - lr: 0.0010\n",
            "Epoch 91/340\n",
            "94/94 [==============================] - 44s 473ms/step - loss: 1.3754 - categorical_accuracy: 0.4760 - val_loss: 1.6489 - val_categorical_accuracy: 0.3568 - lr: 0.0010\n",
            "Epoch 92/340\n",
            "94/94 [==============================] - 44s 469ms/step - loss: 1.3620 - categorical_accuracy: 0.4783 - val_loss: 1.6917 - val_categorical_accuracy: 0.3568 - lr: 0.0010\n",
            "Epoch 93/340\n",
            "94/94 [==============================] - 44s 470ms/step - loss: 1.3555 - categorical_accuracy: 0.4914 - val_loss: 1.6906 - val_categorical_accuracy: 0.3756 - lr: 0.0010\n",
            "Epoch 94/340\n",
            "94/94 [==============================] - 44s 471ms/step - loss: 1.3697 - categorical_accuracy: 0.4848 - val_loss: 1.7336 - val_categorical_accuracy: 0.3803 - lr: 0.0010\n",
            "Epoch 95/340\n",
            "94/94 [==============================] - 44s 472ms/step - loss: 1.3857 - categorical_accuracy: 0.4681 - val_loss: 1.6424 - val_categorical_accuracy: 0.3521 - lr: 0.0010\n",
            "Epoch 96/340\n",
            "94/94 [==============================] - 44s 472ms/step - loss: 1.3387 - categorical_accuracy: 0.4965 - val_loss: 1.6914 - val_categorical_accuracy: 0.3474 - lr: 0.0010\n",
            "Epoch 97/340\n",
            "94/94 [==============================] - 44s 471ms/step - loss: 1.3690 - categorical_accuracy: 0.4723 - val_loss: 1.7129 - val_categorical_accuracy: 0.3662 - lr: 0.0010\n",
            "Epoch 98/340\n",
            "94/94 [==============================] - 44s 470ms/step - loss: 1.3688 - categorical_accuracy: 0.4732 - val_loss: 1.7226 - val_categorical_accuracy: 0.3474 - lr: 0.0010\n",
            "Epoch 99/340\n",
            "94/94 [==============================] - 44s 467ms/step - loss: 1.3614 - categorical_accuracy: 0.4932 - val_loss: 1.7578 - val_categorical_accuracy: 0.3521 - lr: 0.0010\n",
            "Epoch 100/340\n",
            "94/94 [==============================] - 44s 468ms/step - loss: 1.3749 - categorical_accuracy: 0.4769 - val_loss: 1.6014 - val_categorical_accuracy: 0.4038 - lr: 0.0010\n",
            "Epoch 101/340\n",
            "94/94 [==============================] - 44s 470ms/step - loss: 1.3665 - categorical_accuracy: 0.4834 - val_loss: 1.6288 - val_categorical_accuracy: 0.3521 - lr: 0.0010\n",
            "Epoch 102/340\n",
            "94/94 [==============================] - 44s 468ms/step - loss: 1.3689 - categorical_accuracy: 0.4741 - val_loss: 1.6755 - val_categorical_accuracy: 0.3568 - lr: 0.0010\n",
            "Epoch 103/340\n",
            "94/94 [==============================] - 44s 473ms/step - loss: 1.3680 - categorical_accuracy: 0.4718 - val_loss: 1.7092 - val_categorical_accuracy: 0.3568 - lr: 0.0010\n",
            "Epoch 104/340\n",
            "94/94 [==============================] - 44s 470ms/step - loss: 1.3517 - categorical_accuracy: 0.4704 - val_loss: 1.6219 - val_categorical_accuracy: 0.3662 - lr: 0.0010\n",
            "Epoch 105/340\n",
            "94/94 [==============================] - 44s 472ms/step - loss: 1.3429 - categorical_accuracy: 0.4802 - val_loss: 1.7154 - val_categorical_accuracy: 0.3944 - lr: 0.0010\n",
            "Epoch 106/340\n",
            "94/94 [==============================] - 44s 470ms/step - loss: 1.3203 - categorical_accuracy: 0.5058 - val_loss: 1.6425 - val_categorical_accuracy: 0.3568 - lr: 0.0010\n",
            "Epoch 107/340\n",
            "94/94 [==============================] - 44s 473ms/step - loss: 1.3395 - categorical_accuracy: 0.5049 - val_loss: 1.6782 - val_categorical_accuracy: 0.3756 - lr: 0.0010\n",
            "Epoch 108/340\n",
            "94/94 [==============================] - 44s 465ms/step - loss: 1.3246 - categorical_accuracy: 0.4881 - val_loss: 1.5919 - val_categorical_accuracy: 0.4178 - lr: 0.0010\n",
            "Epoch 109/340\n",
            "94/94 [==============================] - 44s 465ms/step - loss: 1.3404 - categorical_accuracy: 0.4904 - val_loss: 1.6266 - val_categorical_accuracy: 0.3897 - lr: 0.0010\n",
            "Epoch 110/340\n",
            "94/94 [==============================] - 44s 463ms/step - loss: 1.3585 - categorical_accuracy: 0.4872 - val_loss: 1.6902 - val_categorical_accuracy: 0.3897 - lr: 0.0010\n",
            "Epoch 111/340\n",
            "94/94 [==============================] - 43s 463ms/step - loss: 1.3348 - categorical_accuracy: 0.4900 - val_loss: 1.7420 - val_categorical_accuracy: 0.3991 - lr: 0.0010\n",
            "Epoch 112/340\n",
            "94/94 [==============================] - 44s 465ms/step - loss: 1.3102 - categorical_accuracy: 0.5077 - val_loss: 1.6449 - val_categorical_accuracy: 0.4272 - lr: 0.0010\n",
            "Epoch 113/340\n",
            "94/94 [==============================] - 44s 468ms/step - loss: 1.3238 - categorical_accuracy: 0.5044 - val_loss: 1.6916 - val_categorical_accuracy: 0.3944 - lr: 0.0010\n",
            "Epoch 114/340\n",
            "94/94 [==============================] - 44s 472ms/step - loss: 1.3210 - categorical_accuracy: 0.4984 - val_loss: 1.6234 - val_categorical_accuracy: 0.3850 - lr: 0.0010\n",
            "Epoch 115/340\n",
            "94/94 [==============================] - 44s 467ms/step - loss: 1.3142 - categorical_accuracy: 0.4998 - val_loss: 1.6541 - val_categorical_accuracy: 0.3991 - lr: 0.0010\n",
            "Epoch 116/340\n",
            "94/94 [==============================] - 43s 463ms/step - loss: 1.3057 - categorical_accuracy: 0.5035 - val_loss: 1.6380 - val_categorical_accuracy: 0.3944 - lr: 0.0010\n",
            "Epoch 117/340\n",
            "94/94 [==============================] - 44s 464ms/step - loss: 1.3143 - categorical_accuracy: 0.5096 - val_loss: 1.6219 - val_categorical_accuracy: 0.3991 - lr: 0.0010\n",
            "Epoch 118/340\n",
            "94/94 [==============================] - 44s 467ms/step - loss: 1.2955 - categorical_accuracy: 0.5193 - val_loss: 1.6725 - val_categorical_accuracy: 0.3991 - lr: 0.0010\n",
            "Epoch 119/340\n",
            "94/94 [==============================] - 44s 464ms/step - loss: 1.2906 - categorical_accuracy: 0.5207 - val_loss: 1.6621 - val_categorical_accuracy: 0.3944 - lr: 0.0010\n",
            "Epoch 120/340\n",
            "94/94 [==============================] - 44s 467ms/step - loss: 1.2844 - categorical_accuracy: 0.5170 - val_loss: 1.6398 - val_categorical_accuracy: 0.3709 - lr: 0.0010\n",
            "Epoch 121/340\n",
            "94/94 [==============================] - 44s 467ms/step - loss: 1.3176 - categorical_accuracy: 0.5049 - val_loss: 1.7077 - val_categorical_accuracy: 0.3474 - lr: 0.0010\n",
            "Epoch 122/340\n",
            "94/94 [==============================] - 44s 473ms/step - loss: 1.2954 - categorical_accuracy: 0.5086 - val_loss: 1.6529 - val_categorical_accuracy: 0.3803 - lr: 0.0010\n",
            "Epoch 123/340\n",
            "94/94 [==============================] - 44s 468ms/step - loss: 1.2786 - categorical_accuracy: 0.5166 - val_loss: 1.6603 - val_categorical_accuracy: 0.3427 - lr: 0.0010\n",
            "Epoch 124/340\n",
            "94/94 [==============================] - 44s 471ms/step - loss: 1.2747 - categorical_accuracy: 0.5273 - val_loss: 1.7176 - val_categorical_accuracy: 0.3380 - lr: 0.0010\n",
            "Epoch 125/340\n",
            "94/94 [==============================] - 44s 468ms/step - loss: 1.2822 - categorical_accuracy: 0.5114 - val_loss: 1.6057 - val_categorical_accuracy: 0.4178 - lr: 0.0010\n",
            "Epoch 126/340\n",
            "94/94 [==============================] - 44s 468ms/step - loss: 1.2709 - categorical_accuracy: 0.5189 - val_loss: 1.6599 - val_categorical_accuracy: 0.3897 - lr: 0.0010\n",
            "Epoch 127/340\n",
            "94/94 [==============================] - 44s 471ms/step - loss: 1.2570 - categorical_accuracy: 0.5263 - val_loss: 1.7192 - val_categorical_accuracy: 0.3662 - lr: 0.0010\n",
            "Epoch 128/340\n",
            "94/94 [==============================] - 44s 470ms/step - loss: 1.2776 - categorical_accuracy: 0.5128 - val_loss: 1.6203 - val_categorical_accuracy: 0.4178 - lr: 0.0010\n",
            "Epoch 129/340\n",
            "94/94 [==============================] - 44s 469ms/step - loss: 1.3380 - categorical_accuracy: 0.4876 - val_loss: 1.6227 - val_categorical_accuracy: 0.4272 - lr: 0.0010\n",
            "Epoch 130/340\n",
            "94/94 [==============================] - 48s 508ms/step - loss: 1.2858 - categorical_accuracy: 0.5100 - val_loss: 1.6384 - val_categorical_accuracy: 0.4319 - lr: 0.0010\n",
            "Epoch 131/340\n",
            "94/94 [==============================] - 46s 492ms/step - loss: 1.3033 - categorical_accuracy: 0.5184 - val_loss: 1.6608 - val_categorical_accuracy: 0.4178 - lr: 0.0010\n",
            "Epoch 132/340\n",
            "94/94 [==============================] - 44s 472ms/step - loss: 1.2827 - categorical_accuracy: 0.5156 - val_loss: 1.6270 - val_categorical_accuracy: 0.4131 - lr: 0.0010\n",
            "Epoch 133/340\n",
            "94/94 [==============================] - 45s 482ms/step - loss: 1.2652 - categorical_accuracy: 0.5193 - val_loss: 1.5626 - val_categorical_accuracy: 0.3944 - lr: 0.0010\n",
            "Epoch 134/340\n",
            "94/94 [==============================] - 45s 477ms/step - loss: 1.2557 - categorical_accuracy: 0.5338 - val_loss: 1.7174 - val_categorical_accuracy: 0.3474 - lr: 0.0010\n",
            "Epoch 135/340\n",
            "94/94 [==============================] - 45s 479ms/step - loss: 1.2604 - categorical_accuracy: 0.5361 - val_loss: 1.6439 - val_categorical_accuracy: 0.3756 - lr: 0.0010\n",
            "Epoch 136/340\n",
            "94/94 [==============================] - 45s 476ms/step - loss: 1.2678 - categorical_accuracy: 0.5207 - val_loss: 1.6824 - val_categorical_accuracy: 0.3662 - lr: 0.0010\n",
            "Epoch 137/340\n",
            "94/94 [==============================] - 48s 507ms/step - loss: 1.2389 - categorical_accuracy: 0.5371 - val_loss: 1.6993 - val_categorical_accuracy: 0.3850 - lr: 0.0010\n",
            "Epoch 138/340\n",
            "94/94 [==============================] - 48s 509ms/step - loss: 1.2344 - categorical_accuracy: 0.5333 - val_loss: 1.5991 - val_categorical_accuracy: 0.3944 - lr: 0.0010\n",
            "Epoch 139/340\n",
            "94/94 [==============================] - 47s 502ms/step - loss: 1.2425 - categorical_accuracy: 0.5385 - val_loss: 1.6799 - val_categorical_accuracy: 0.3756 - lr: 0.0010\n",
            "Epoch 140/340\n",
            "94/94 [==============================] - 46s 485ms/step - loss: 1.2533 - categorical_accuracy: 0.5291 - val_loss: 1.6437 - val_categorical_accuracy: 0.4131 - lr: 0.0010\n",
            "Epoch 141/340\n",
            "94/94 [==============================] - 47s 506ms/step - loss: 1.2231 - categorical_accuracy: 0.5436 - val_loss: 1.6153 - val_categorical_accuracy: 0.3991 - lr: 0.0010\n",
            "Epoch 142/340\n",
            "94/94 [==============================] - 48s 505ms/step - loss: 1.2458 - categorical_accuracy: 0.5371 - val_loss: 1.6689 - val_categorical_accuracy: 0.3897 - lr: 0.0010\n",
            "Epoch 143/340\n",
            "94/94 [==============================] - 47s 499ms/step - loss: 1.2359 - categorical_accuracy: 0.5375 - val_loss: 1.6352 - val_categorical_accuracy: 0.4085 - lr: 0.0010\n",
            "Epoch 144/340\n",
            "94/94 [==============================] - 46s 492ms/step - loss: 1.2211 - categorical_accuracy: 0.5329 - val_loss: 1.6841 - val_categorical_accuracy: 0.3756 - lr: 0.0010\n",
            "Epoch 145/340\n",
            "94/94 [==============================] - 44s 467ms/step - loss: 1.2413 - categorical_accuracy: 0.5357 - val_loss: 1.6874 - val_categorical_accuracy: 0.3850 - lr: 0.0010\n",
            "Epoch 146/340\n",
            "94/94 [==============================] - 44s 473ms/step - loss: 1.2264 - categorical_accuracy: 0.5510 - val_loss: 1.7561 - val_categorical_accuracy: 0.3991 - lr: 0.0010\n",
            "Epoch 147/340\n",
            "94/94 [==============================] - 44s 468ms/step - loss: 1.2042 - categorical_accuracy: 0.5529 - val_loss: 1.6073 - val_categorical_accuracy: 0.3521 - lr: 0.0010\n",
            "Epoch 148/340\n",
            "94/94 [==============================] - 44s 470ms/step - loss: 1.2142 - categorical_accuracy: 0.5450 - val_loss: 1.6433 - val_categorical_accuracy: 0.4178 - lr: 0.0010\n",
            "Epoch 149/340\n",
            "94/94 [==============================] - 45s 474ms/step - loss: 1.2181 - categorical_accuracy: 0.5385 - val_loss: 1.7257 - val_categorical_accuracy: 0.3709 - lr: 0.0010\n",
            "Epoch 150/340\n",
            "94/94 [==============================] - 44s 472ms/step - loss: 1.2255 - categorical_accuracy: 0.5357 - val_loss: 1.6455 - val_categorical_accuracy: 0.3991 - lr: 0.0010\n",
            "Epoch 151/340\n",
            "94/94 [==============================] - 44s 469ms/step - loss: 1.2024 - categorical_accuracy: 0.5441 - val_loss: 1.6520 - val_categorical_accuracy: 0.3897 - lr: 0.0010\n",
            "Epoch 152/340\n",
            "94/94 [==============================] - 45s 474ms/step - loss: 1.2048 - categorical_accuracy: 0.5483 - val_loss: 1.6242 - val_categorical_accuracy: 0.3897 - lr: 0.0010\n",
            "Epoch 153/340\n",
            "94/94 [==============================] - 45s 474ms/step - loss: 1.2060 - categorical_accuracy: 0.5501 - val_loss: 1.7037 - val_categorical_accuracy: 0.4178 - lr: 0.0010\n",
            "Epoch 154/340\n",
            "94/94 [==============================] - 45s 475ms/step - loss: 1.1920 - categorical_accuracy: 0.5669 - val_loss: 1.7757 - val_categorical_accuracy: 0.3662 - lr: 0.0010\n",
            "Epoch 155/340\n",
            "94/94 [==============================] - 44s 472ms/step - loss: 1.2046 - categorical_accuracy: 0.5534 - val_loss: 1.6702 - val_categorical_accuracy: 0.4085 - lr: 0.0010\n",
            "Epoch 156/340\n",
            "94/94 [==============================] - 44s 469ms/step - loss: 1.2073 - categorical_accuracy: 0.5571 - val_loss: 1.6140 - val_categorical_accuracy: 0.3991 - lr: 0.0010\n",
            "Epoch 157/340\n",
            "94/94 [==============================] - 45s 474ms/step - loss: 1.1980 - categorical_accuracy: 0.5478 - val_loss: 1.6982 - val_categorical_accuracy: 0.4131 - lr: 0.0010\n",
            "Epoch 158/340\n",
            "94/94 [==============================] - 44s 473ms/step - loss: 1.1755 - categorical_accuracy: 0.5613 - val_loss: 1.7485 - val_categorical_accuracy: 0.3756 - lr: 0.0010\n",
            "Epoch 159/340\n",
            "94/94 [==============================] - 45s 475ms/step - loss: 1.1835 - categorical_accuracy: 0.5548 - val_loss: 1.6674 - val_categorical_accuracy: 0.3991 - lr: 0.0010\n",
            "Epoch 160/340\n",
            "94/94 [==============================] - 45s 476ms/step - loss: 1.1649 - categorical_accuracy: 0.5580 - val_loss: 1.6444 - val_categorical_accuracy: 0.3662 - lr: 0.0010\n",
            "Epoch 161/340\n",
            "94/94 [==============================] - 44s 469ms/step - loss: 1.1660 - categorical_accuracy: 0.5585 - val_loss: 1.6111 - val_categorical_accuracy: 0.3991 - lr: 0.0010\n",
            "Epoch 162/340\n",
            "94/94 [==============================] - 44s 473ms/step - loss: 1.1776 - categorical_accuracy: 0.5660 - val_loss: 1.6905 - val_categorical_accuracy: 0.4225 - lr: 0.0010\n",
            "Epoch 163/340\n",
            "94/94 [==============================] - 45s 476ms/step - loss: 1.1619 - categorical_accuracy: 0.5604 - val_loss: 1.7671 - val_categorical_accuracy: 0.3756 - lr: 0.0010\n",
            "Epoch 164/340\n",
            "94/94 [==============================] - 44s 473ms/step - loss: 1.1803 - categorical_accuracy: 0.5445 - val_loss: 1.7720 - val_categorical_accuracy: 0.3521 - lr: 0.0010\n",
            "Epoch 165/340\n",
            "94/94 [==============================] - 45s 474ms/step - loss: 1.1589 - categorical_accuracy: 0.5781 - val_loss: 1.7434 - val_categorical_accuracy: 0.3662 - lr: 0.0010\n",
            "Epoch 166/340\n",
            "94/94 [==============================] - 44s 471ms/step - loss: 1.1722 - categorical_accuracy: 0.5641 - val_loss: 1.7750 - val_categorical_accuracy: 0.3850 - lr: 0.0010\n",
            "Epoch 167/340\n",
            "94/94 [==============================] - 44s 469ms/step - loss: 1.1556 - categorical_accuracy: 0.5580 - val_loss: 1.7297 - val_categorical_accuracy: 0.3897 - lr: 0.0010\n",
            "Epoch 168/340\n",
            "94/94 [==============================] - 44s 472ms/step - loss: 1.1307 - categorical_accuracy: 0.5739 - val_loss: 1.7616 - val_categorical_accuracy: 0.3991 - lr: 0.0010\n",
            "Epoch 169/340\n",
            "94/94 [==============================] - 44s 470ms/step - loss: 1.1615 - categorical_accuracy: 0.5594 - val_loss: 1.7758 - val_categorical_accuracy: 0.3803 - lr: 0.0010\n",
            "Epoch 170/340\n",
            "94/94 [==============================] - 45s 474ms/step - loss: 1.1534 - categorical_accuracy: 0.5758 - val_loss: 1.7611 - val_categorical_accuracy: 0.4319 - lr: 0.0010\n",
            "Epoch 171/340\n",
            "94/94 [==============================] - 44s 465ms/step - loss: 1.1906 - categorical_accuracy: 0.5571 - val_loss: 1.7106 - val_categorical_accuracy: 0.3850 - lr: 0.0010\n",
            "Epoch 172/340\n",
            "94/94 [==============================] - 44s 467ms/step - loss: 1.1129 - categorical_accuracy: 0.5883 - val_loss: 1.6920 - val_categorical_accuracy: 0.4178 - lr: 0.0010\n",
            "Epoch 173/340\n",
            "94/94 [==============================] - 44s 472ms/step - loss: 1.1115 - categorical_accuracy: 0.5860 - val_loss: 1.7528 - val_categorical_accuracy: 0.3991 - lr: 0.0010\n",
            "Epoch 173: early stopping\n"
          ]
        }
      ]
    },
    {
      "cell_type": "markdown",
      "source": [
        "## Loading Model"
      ],
      "metadata": {
        "id": "jCQelzMAKixD"
      }
    },
    {
      "cell_type": "code",
      "source": [
        "  \n",
        "#history = model.fit(x_t, y_t, epochs = 30, verbose=2, batch_size=BATCH_SIZE,\n",
        "#                    shuffle=False, validation_data=(trim_dataset(x_val, BATCH_SIZE),\n",
        "#                    trim_dataset(y_val, BATCH_SIZE)), callbacks=[es])\n"
      ],
      "metadata": {
        "id": "erIsXerMVIW_"
      },
      "execution_count": null,
      "outputs": []
    },
    {
      "cell_type": "code",
      "source": [
        "model.load_weights(checkpoint_path)"
      ],
      "metadata": {
        "id": "gruZAW2wI-tO"
      },
      "execution_count": null,
      "outputs": []
    },
    {
      "cell_type": "markdown",
      "source": [
        "# Evaluation"
      ],
      "metadata": {
        "id": "kDxTjEK0KixD"
      }
    },
    {
      "cell_type": "code",
      "source": [
        "model.save(saved_model_path_2)"
      ],
      "metadata": {
        "trusted": true,
        "id": "Z5Uzb_bGKixE"
      },
      "execution_count": null,
      "outputs": []
    },
    {
      "cell_type": "markdown",
      "source": [
        "## Train (fit) Visualization"
      ],
      "metadata": {
        "id": "ATvBW0SPO-eq"
      }
    },
    {
      "cell_type": "code",
      "source": [
        "# Loss, Accuracy presentation\n",
        "\n",
        "# Plot history: Loss\n",
        "plt.plot(history.history['loss'], label='Loss (training data)')\n",
        "plt.plot(history.history['val_loss'], label='Loss (validation data)')\n",
        "plt.title('Loss for train and validation')\n",
        "plt.ylabel('Loss value')\n",
        "plt.xlabel('No. epoch')\n",
        "plt.legend(loc=\"upper left\")\n",
        "plt.show()\n",
        "\n",
        "#Plot history: Accuracy\n",
        "plt.plot(history.history['categorical_accuracy'], label='Acc (training data)')\n",
        "plt.plot(history.history['val_categorical_accuracy'], label='Acc (validation data)')\n",
        "plt.title('Model accuracy')\n",
        "plt.ylabel('Acc %')\n",
        "plt.xlabel('No. epoch')\n",
        "plt.legend(loc=\"upper left\")\n",
        "plt.show()"
      ],
      "metadata": {
        "colab": {
          "base_uri": "https://localhost:8080/",
          "height": 573
        },
        "id": "UjhUHhU_f4EY",
        "outputId": "5383f9a4-8fbd-439d-bd1f-b00290ad60d4"
      },
      "execution_count": null,
      "outputs": [
        {
          "output_type": "display_data",
          "data": {
            "text/plain": [
              "<Figure size 432x288 with 1 Axes>"
            ],
            "image/png": "[encoded data removed]"
          },
          "metadata": {
            "needs_background": "light"
          }
        },
        {
          "output_type": "display_data",
          "data": {
            "text/plain": [
              "<Figure size 432x288 with 1 Axes>"
            ],
            "image/png": "[encoded data removed]"
          },
          "metadata": {
            "needs_background": "light"
          }
        }
      ]
    },
    {
      "cell_type": "markdown",
      "source": [
        "## Validation Set Evaluation"
      ],
      "metadata": {
        "id": "UZ3lFduxPQeB"
      }
    },
    {
      "cell_type": "markdown",
      "source": [
        "### Val Set Score"
      ],
      "metadata": {
        "id": "5YoYCa22PMGz"
      }
    },
    {
      "cell_type": "code",
      "source": [
        "# Validation score\n",
        "loss,acc = model.evaluate(x_val, y_val_class, verbose=2)\n"
      ],
      "metadata": {
        "id": "X_KdTUyrf7-j",
        "colab": {
          "base_uri": "https://localhost:8080/"
        },
        "outputId": "96ade2cb-6e1b-4030-fc84-db887646b353"
      },
      "execution_count": null,
      "outputs": [
        {
          "output_type": "stream",
          "name": "stdout",
          "text": [
            "7/7 - 1s - loss: 1.6384 - categorical_accuracy: 0.4319 - 825ms/epoch - 118ms/step\n"
          ]
        }
      ]
    },
    {
      "cell_type": "markdown",
      "source": [
        "### Val Set Confussion Matrix"
      ],
      "metadata": {
        "id": "d2ullxf9PUMd"
      }
    },
    {
      "cell_type": "code",
      "source": [
        "# Validation Confusion matrix\n",
        "\n",
        "y_val_class = np.argmax(y_val_class, axis=1)\n",
        "predictions = model.predict(x_val)\n",
        "y_pred_class = np.argmax(predictions, axis=1)\n",
        "\n",
        "cm=confusion_matrix(y_val_class, y_pred_class)\n",
        "\n",
        "index = ['neutral', 'calm', 'happy', 'sad', 'angry', 'fearful', 'disgust', 'surprised']  \n",
        "columns = ['neutral', 'calm', 'happy', 'sad', 'angry', 'fearful', 'disgust', 'surprised']  \n",
        " \n",
        "cm_df = pd.DataFrame(cm,index,columns)                      \n",
        "plt.figure(figsize=(12,8))\n",
        "ax = plt.axes()\n",
        "\n",
        "sns.heatmap(cm_df, ax = ax, cmap = 'PuBu', fmt=\"d\", annot=True)\n",
        "ax.set_ylabel('True emotion')\n",
        "ax.set_xlabel('Predicted emotion')"
      ],
      "metadata": {
        "colab": {
          "base_uri": "https://localhost:8080/",
          "height": 519
        },
        "id": "doLcg3CTf9bx",
        "outputId": "680d1cc4-9cb3-405b-a3c7-496b38fd6fa9"
      },
      "execution_count": null,
      "outputs": [
        {
          "output_type": "execute_result",
          "data": {
            "text/plain": [
              "Text(0.5, 51.0, 'Predicted emotion')"
            ]
          },
          "metadata": {},
          "execution_count": 17
        },
        {
          "output_type": "display_data",
          "data": {
            "text/plain": [
              "<Figure size 864x576 with 2 Axes>"
            ],
            "image/png": "[encoded data removed]"
          },
          "metadata": {
            "needs_background": "light"
          }
        }
      ]
    },
    {
      "cell_type": "markdown",
      "source": [
        "### Validation Set Predicted emotions accuracy"
      ],
      "metadata": {
        "id": "kWjKgUdRPYH5"
      }
    },
    {
      "cell_type": "code",
      "source": [
        "# Validation set prediction accuracy rates\n",
        "\n",
        "values = cm.diagonal()\n",
        "row_sum = np.sum(cm,axis=1)\n",
        "acc = values / row_sum\n",
        "\n",
        "print('Validation set predicted emotions accuracy:')\n",
        "for e in range(0, len(values)):\n",
        "    print(index[e],':', f\"{(acc[e]):0.4f}\")"
      ],
      "metadata": {
        "colab": {
          "base_uri": "https://localhost:8080/"
        },
        "id": "MopdywY9f-mS",
        "outputId": "6409d3e1-936a-465a-972a-0c6903ffa123"
      },
      "execution_count": null,
      "outputs": [
        {
          "output_type": "stream",
          "name": "stdout",
          "text": [
            "Validation set predicted emotions accuracy:\n",
            "neutral : 0.1429\n",
            "calm : 0.7895\n",
            "happy : 0.3333\n",
            "sad : 0.1562\n",
            "angry : 0.5000\n",
            "fearful : 0.4483\n",
            "disgust : 0.3750\n",
            "surprised : 0.5000\n"
          ]
        }
      ]
    },
    {
      "cell_type": "code",
      "source": [
        "# Validation set precision, recall, fscore\n",
        "\n",
        "precision_recall_fscore_support(y_val_class, y_pred_class, average='macro')\n",
        "precision_recall_fscore_support(y_val_class, y_pred_class, average='weighted')"
      ],
      "metadata": {
        "colab": {
          "base_uri": "https://localhost:8080/"
        },
        "id": "rOwUkCG0gGpm",
        "outputId": "011492ee-3708-402e-fd97-230699831561"
      },
      "execution_count": null,
      "outputs": [
        {
          "output_type": "execute_result",
          "data": {
            "text/plain": [
              "(0.4137921922652042, 0.431924882629108, 0.4185669063165624, None)"
            ]
          },
          "metadata": {},
          "execution_count": 19
        }
      ]
    },
    {
      "cell_type": "markdown",
      "source": [
        "## Save & Load model, weights"
      ],
      "metadata": {
        "id": "1YfguG0tPatV"
      }
    },
    {
      "cell_type": "code",
      "source": [
        "# Saving model & weights\n",
        "\n",
        "from keras.models import model_from_json\n",
        "from keras.models import load_model\n",
        "model_path = Ravdess + \"/model/\"\n",
        "model_json = model.to_json()\n",
        "\n",
        "\n",
        "\n",
        "with open(saved_model_path, \"w\") as json_file:\n",
        "    json_file.write(model_json)\n",
        "    \n",
        "model.save_weights(saved_weights_path)\n",
        "print(\"Saved model to disk\")"
      ],
      "metadata": {
        "colab": {
          "base_uri": "https://localhost:8080/"
        },
        "id": "MsVoNhqmgGsK",
        "outputId": "25828261-5f81-4c29-ae07-f3f89acc5e95"
      },
      "execution_count": null,
      "outputs": [
        {
          "output_type": "stream",
          "name": "stdout",
          "text": [
            "Saved model to disk\n"
          ]
        }
      ]
    },
    {
      "cell_type": "code",
      "source": [
        "# Reading the model from JSON file\n",
        "#model_path = Ravdess + \"/model/\"\n",
        "#saved_model_path = model_path + 'model8723.json'\n",
        "#saved_weights_path = model_path + 'model8723_weights.h5'\n",
        "\n",
        "\n",
        "with open(saved_model_path , 'r') as json_file:\n",
        "    json_savedModel = json_file.read()\n",
        "    \n",
        "# Loading the model architecture, weights\n",
        "model = tf.keras.models.model_from_json(json_savedModel)\n",
        "model.load_weights(saved_weights_path)\n",
        "\n",
        "# Compiling the model with similar parameters as the original model.\n",
        "model.compile(loss='categorical_crossentropy', \n",
        "                optimizer='RMSProp', \n",
        "                metrics=['categorical_accuracy'])\n",
        "\n",
        "# Model's structure visualization\n",
        "tf.keras.utils.plot_model(model, to_file='model.png', show_shapes=True, show_layer_names=True)"
      ],
      "metadata": {
        "colab": {
          "base_uri": "https://localhost:8080/",
          "height": 533
        },
        "id": "y4OJGhLmgfX6",
        "outputId": "dc36ce9f-ee5a-4aea-913f-36e3516f46fc"
      },
      "execution_count": null,
      "outputs": [
        {
          "output_type": "execute_result",
          "data": {
            "text/plain": [
              "<IPython.core.display.Image object>"
            ],
            "image/png": "[encoded data removed]"
          },
          "metadata": {},
          "execution_count": 21
        }
      ]
    },
    {
      "cell_type": "code",
      "source": [
        "# Loading x_test, y_test json files, and converting to np.arrays\n",
        "\n",
        "x_test = load(processed_path + 'x_test_data.json')\n",
        "x_test = np.asarray(x_test).astype('float32')\n",
        "\n",
        "y_test = load( processed_path + 'y_test_data.json')\n",
        "y_test = np.asarray(y_test).astype('int8')\n",
        "\n",
        "y_test_class = tf.keras.utils.to_categorical(y_test, 8, dtype = 'int8')"
      ],
      "metadata": {
        "id": "B_SW6eUAgvEj"
      },
      "execution_count": null,
      "outputs": []
    },
    {
      "cell_type": "code",
      "source": [
        ""
      ],
      "metadata": {
        "id": "cCfkUXTYgzSB"
      },
      "execution_count": null,
      "outputs": []
    },
    {
      "cell_type": "markdown",
      "source": [
        "## Test Set Evaluation"
      ],
      "metadata": {
        "id": "FiCwOjmPPgCn"
      }
    },
    {
      "cell_type": "markdown",
      "source": [
        "### Test Set Score\n",
        "\n"
      ],
      "metadata": {
        "id": "CWB7U5xDUSmF"
      }
    },
    {
      "cell_type": "code",
      "source": [
        "loss, acc = model.evaluate(x_test, y_test_class, verbose=2)"
      ],
      "metadata": {
        "id": "Y7NEHPM-gzml",
        "colab": {
          "base_uri": "https://localhost:8080/"
        },
        "outputId": "7f48f1f7-58c8-4051-858e-63ff1f1f520e"
      },
      "execution_count": null,
      "outputs": [
        {
          "output_type": "stream",
          "name": "stdout",
          "text": [
            "3/3 - 2s - loss: 1.4516 - categorical_accuracy: 0.4043 - 2s/epoch - 661ms/step\n"
          ]
        }
      ]
    },
    {
      "cell_type": "markdown",
      "source": [
        "### Test Set Confussion Matrix"
      ],
      "metadata": {
        "id": "Epp2QpxsUVXH"
      }
    },
    {
      "cell_type": "code",
      "source": [
        "# Test set Confusion matrix\n",
        "\n",
        "y_test_class = np.argmax(y_test_class, axis=1)\n",
        "predictions = model.predict(x_test)\n",
        "y_pred_class = np.argmax(predictions, axis=1)\n",
        "\n",
        "cm=confusion_matrix(y_test_class, y_pred_class)\n",
        "\n",
        "index = ['neutral', 'calm', 'happy', 'sad', 'angry', 'fearful', 'disgust', 'surprised']  \n",
        "columns = ['neutral', 'calm', 'happy', 'sad', 'angry', 'fearful', 'disgust', 'surprised']  \n",
        " \n",
        "cm_df = pd.DataFrame(cm,index,columns)                      \n",
        "plt.figure(figsize=(12,8))\n",
        "ax = plt.axes()\n",
        "\n",
        "sns.heatmap(cm_df, ax = ax, cmap = 'BuGn', fmt=\"d\", annot=True)\n",
        "ax.set_ylabel('True emotion')\n",
        "ax.set_xlabel('Predicted emotion')"
      ],
      "metadata": {
        "colab": {
          "base_uri": "https://localhost:8080/",
          "height": 519
        },
        "id": "ukGrk_cagzyb",
        "outputId": "c6cb0e1c-2ac7-46e0-d6b5-0909f162ef7c"
      },
      "execution_count": null,
      "outputs": [
        {
          "output_type": "execute_result",
          "data": {
            "text/plain": [
              "Text(0.5, 51.0, 'Predicted emotion')"
            ]
          },
          "metadata": {},
          "execution_count": 24
        },
        {
          "output_type": "display_data",
          "data": {
            "text/plain": [
              "<Figure size 864x576 with 2 Axes>"
            ],
            "image/png": "[encoded data removed]"
          },
          "metadata": {
            "needs_background": "light"
          }
        }
      ]
    },
    {
      "cell_type": "markdown",
      "source": [
        "### Test Set Predicted emotions accuracy"
      ],
      "metadata": {
        "id": "zil3CkweUX0q"
      }
    },
    {
      "cell_type": "code",
      "source": [
        "# Test set prediction accuracy rates\n",
        "\n",
        "values = cm.diagonal()\n",
        "row_sum = np.sum(cm,axis=1)\n",
        "acc = values / row_sum\n",
        "\n",
        "print('Test set predicted emotions accuracy:')\n",
        "for e in range(0, len(values)):\n",
        "    print(index[e],':', f\"{(acc[e]):0.4f}\")"
      ],
      "metadata": {
        "colab": {
          "base_uri": "https://localhost:8080/"
        },
        "id": "t_ORyGGig090",
        "outputId": "4199d29f-13a5-4038-e831-591d6a3082dc"
      },
      "execution_count": null,
      "outputs": [
        {
          "output_type": "stream",
          "name": "stdout",
          "text": [
            "Test set predicted emotions accuracy:\n",
            "neutral : 0.1429\n",
            "calm : 0.6667\n",
            "happy : 0.6667\n",
            "sad : 0.2000\n",
            "angry : 0.5000\n",
            "fearful : 0.1429\n",
            "disgust : 0.6250\n",
            "surprised : 0.5000\n"
          ]
        }
      ]
    },
    {
      "cell_type": "code",
      "source": [
        "# Validation set precision, recall, fscore\n",
        "\n",
        "precision_recall_fscore_support(y_test_class, y_pred_class, average='macro')\n",
        "precision_recall_fscore_support(y_test_class, y_pred_class, average='weighted')"
      ],
      "metadata": {
        "colab": {
          "base_uri": "https://localhost:8080/"
        },
        "id": "QnwWoVFnh33F",
        "outputId": "9651cef5-9c12-4313-8dcd-c4e375608487"
      },
      "execution_count": null,
      "outputs": [
        {
          "output_type": "execute_result",
          "data": {
            "text/plain": [
              "(0.3908028975613456, 0.40425531914893614, 0.3813004542929045, None)"
            ]
          },
          "metadata": {},
          "execution_count": 26
        }
      ]
    },
    {
      "cell_type": "code",
      "source": [
        "y_test_class"
      ],
      "metadata": {
        "id": "8b1um0-Mg2Qg",
        "colab": {
          "base_uri": "https://localhost:8080/"
        },
        "outputId": "59c8c5d2-5b47-4556-da7b-2d4586b4f96f"
      },
      "execution_count": null,
      "outputs": [
        {
          "output_type": "execute_result",
          "data": {
            "text/plain": [
              "array([4, 3, 3, 3, 2, 4, 4, 1, 3, 0, 3, 5, 2, 6, 0, 3, 2, 5, 5, 3, 7, 1,\n",
              "       5, 0, 2, 7, 0, 4, 3, 3, 2, 4, 2, 5, 6, 5, 5, 4, 5, 3, 7, 4, 3, 2,\n",
              "       4, 0, 1, 2, 6, 1, 3, 4, 5, 6, 7, 6, 3, 4, 5, 7, 4, 4, 7, 3, 1, 0,\n",
              "       4, 1, 3, 4, 1, 0, 4, 4, 1, 2, 2, 6, 3, 5, 3, 3, 3, 5, 5, 5, 6, 4,\n",
              "       2, 6, 2, 4, 3, 1])"
            ]
          },
          "metadata": {},
          "execution_count": 27
        }
      ]
    },
    {
      "cell_type": "code",
      "source": [
        "y_pred_class"
      ],
      "metadata": {
        "colab": {
          "base_uri": "https://localhost:8080/"
        },
        "id": "9xTuX6KhhFP4",
        "outputId": "63a88540-8dde-4ce4-acc9-a4008c836ba2"
      },
      "execution_count": null,
      "outputs": [
        {
          "output_type": "execute_result",
          "data": {
            "text/plain": [
              "array([4, 1, 3, 6, 2, 6, 6, 4, 1, 2, 1, 0, 2, 6, 1, 1, 3, 4, 0, 5, 7, 1,\n",
              "       7, 1, 5, 2, 4, 4, 5, 6, 2, 2, 7, 4, 3, 4, 5, 4, 0, 5, 7, 4, 6, 3,\n",
              "       7, 0, 1, 2, 6, 1, 1, 6, 0, 6, 2, 6, 4, 3, 4, 5, 4, 4, 7, 2, 3, 1,\n",
              "       2, 1, 2, 4, 1, 3, 4, 7, 3, 2, 2, 0, 3, 7, 1, 3, 3, 4, 2, 5, 7, 4,\n",
              "       2, 6, 2, 6, 0, 1])"
            ]
          },
          "metadata": {},
          "execution_count": 28
        }
      ]
    }
  ]
}